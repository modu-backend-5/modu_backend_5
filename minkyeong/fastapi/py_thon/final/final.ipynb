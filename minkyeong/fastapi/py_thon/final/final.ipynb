{
 "cells": [
  {
   "cell_type": "markdown",
   "id": "9ed510cd",
   "metadata": {},
   "source": [
    "문제1. 1부터 100까지 더하는 코드를 작성하세요. for를 사용해서 풀어주세요."
   ]
  },
  {
   "cell_type": "code",
   "execution_count": 1,
   "id": "6e04f182",
   "metadata": {},
   "outputs": [
    {
     "name": "stdout",
     "output_type": "stream",
     "text": [
      "5050\n"
     ]
    }
   ],
   "source": [
    "'''Gemini의 코딩 파트너의 도움을 받있지만, 어떤 함수를 어떻게 어디서 사용하면 좋을지..\n",
    "등에 대한 생각들을 충분히 하고 코드도 입력해보면서 활용했습니다.'''\n",
    "result = 0 # 숫자를 더한 결과값을 유지하면서 100까지 더해야 함, result로 더한 값 저장\n",
    "for i in range(1, 101):\n",
    "    result += i # 할당연산자 중 덧셈연산자를 적용하면 코드가 간결해진다. result = result + i >> result += I\n",
    "print(result)\n",
    "# 함수의 들여쓰기 위치 주의! for문 밖에 사용해야 한 번 출력된다. 이걸 생각하지 않아 출력창이 길어졌었음\n",
    "# 문자열(str)자료형의 f-string을 사용할 수도 있다. 별 차이는 없다.. >> print(f\"결과: {result}\")"
   ]
  },
  {
   "cell_type": "markdown",
   "id": "79364f52",
   "metadata": {},
   "source": [
    "문제2. 아래 코드에서 나이의 평균을 구하는 코드를 작성하세요.\n",
    "\n"
   ]
  },
  {
   "cell_type": "code",
   "execution_count": null,
   "id": "56be6c13",
   "metadata": {},
   "outputs": [
    {
     "name": "stdout",
     "output_type": "stream",
     "text": [
      "[26, 27, 27, 40, 32, 34, 20]\n",
      "나이 총합계: 206\n",
      "사람 수: 7\n",
      "평균 나이: 29.428571428571427세\n",
      "(약 29세)\n"
     ]
    }
   ],
   "source": [
    "data = [\n",
    "  {\n",
    "    \"_id\": \"6019fd4354979ca26b8f91dc\",\n",
    "    \"age\": 26,\n",
    "    \"eyeColor\": \"green\",\n",
    "    \"name\": \"Bender Allen\",\n",
    "    \"gender\": \"male\"\n",
    "  },\n",
    "  {\n",
    "    \"_id\": \"6019fd43db2951868889a0b4\",\n",
    "    \"age\": 27,\n",
    "    \"eyeColor\": \"blue\",\n",
    "    \"name\": \"Jacobs Golden\",\n",
    "    \"gender\": \"male\"\n",
    "  },\n",
    "  {\n",
    "    \"_id\": \"6019fd438c0bf8e775c28536\",\n",
    "    \"age\": 27,\n",
    "    \"eyeColor\": \"brown\",\n",
    "    \"name\": \"Grimes Oneal\",\n",
    "    \"gender\": \"male\"\n",
    "  },\n",
    "  {\n",
    "    \"_id\": \"6019fd43b68a7fd8b081ab26\",\n",
    "    \"age\": 40,\n",
    "    \"eyeColor\": \"blue\",\n",
    "    \"name\": \"Melissa Joyce\",\n",
    "    \"gender\": \"female\"\n",
    "  },\n",
    "  {\n",
    "    \"_id\": \"6019fd436c1edc4757aabb9d\",\n",
    "    \"age\": 32,\n",
    "    \"eyeColor\": \"blue\",\n",
    "    \"name\": \"Malone Bush\",\n",
    "    \"gender\": \"male\"\n",
    "  },\n",
    "  {\n",
    "    \"_id\": \"6019fd438eaf753918f55226\",\n",
    "    \"age\": 34,\n",
    "    \"eyeColor\": \"green\",\n",
    "    \"name\": \"Davenport Hyde\",\n",
    "    \"gender\": \"male\"\n",
    "  },\n",
    "  {\n",
    "    \"_id\": \"6019fd43c35929ff95004109\",\n",
    "    \"age\": 20,\n",
    "    \"eyeColor\": \"blue\",\n",
    "    \"name\": \"Shauna Blevins\",\n",
    "    \"gender\": \"female\"\n",
    "  }\n",
    "]\n",
    "#자료형 중 딕셔너리(dict), 딕셔너리 자료에 접근해서 각 값 내의 나이에 접근한 후, 추출. 나이를 더해 평균을 구해야한다\n",
    "#average, 평균을 구해야하나, average는 파이썬에 없다..\n",
    "#for 반복문 사용\n",
    "ages = [] #dict 값에 접근하므로 [] 안에 키를 넣어 사용\n",
    "for info in data: #data라는 list에 있는 info. 즉, 나이(age)를 가져온다? >> list 순회, 나이 추출\n",
    "  ages.append(info[\"age\"])\n",
    "print(ages) #추출한 나이들을 출력\n",
    "total_age = sum(ages) #리스트에 있는 사람들 나이의 평균을 구해야 하므로 나이 총합계/사람 수 로 나눠야 함\n",
    "count = len(ages)\n",
    "print(f\"나이 총합계: {total_age}\")\n",
    "print(f\"사람 수: {count}\")\n",
    "print(f\"평균 나이: {total_age / count}세\")\n",
    "print(f\"(약 {int(total_age / count)}세)\")"
   ]
  },
  {
   "cell_type": "markdown",
   "id": "4569738f",
   "metadata": {},
   "source": [
    "문제3. 위 데이터를 관리할 User 클래스를 만들어주세요. 인스턴스들은 리스트로 관리됩니다."
   ]
  },
  {
   "cell_type": "code",
   "execution_count": 3,
   "id": "7da342a3",
   "metadata": {},
   "outputs": [
    {
     "name": "stdout",
     "output_type": "stream",
     "text": [
      "User 인스턴스들의 나이 평균은29.43입니다\n",
      "User: _id=6019fd4354979ca26b8f91dc, age=26, eyeColor=green, name=Bender Allen\n",
      "User: _id=6019fd43db2951868889a0b4, age=27, eyeColor=blue, name=Jacobs Golden\n",
      "User: _id=6019fd438c0bf8e775c28536, age=27, eyeColor=brown, name=Grimes Oneal\n",
      "User: _id=6019fd43b68a7fd8b081ab26, age=40, eyeColor=blue, name=Melissa Joyce\n",
      "User: _id=6019fd436c1edc4757aabb9d, age=32, eyeColor=blue, name=Malone Bush\n",
      "User: _id=6019fd438eaf753918f55226, age=34, eyeColor=green, name=Davenport Hyde\n",
      "User: _id=6019fd43c35929ff95004109, age=20, eyeColor=blue, name=Shauna Blevins\n"
     ]
    }
   ],
   "source": [
    "data = [\n",
    "  {\n",
    "    \"_id\": \"6019fd4354979ca26b8f91dc\",\n",
    "    \"age\": 26,\n",
    "    \"eyeColor\": \"green\",\n",
    "    \"name\": \"Bender Allen\",\n",
    "    \"gender\": \"male\"\n",
    "  },\n",
    "  {\n",
    "    \"_id\": \"6019fd43db2951868889a0b4\",\n",
    "    \"age\": 27,\n",
    "    \"eyeColor\": \"blue\",\n",
    "    \"name\": \"Jacobs Golden\",\n",
    "    \"gender\": \"male\"\n",
    "  },\n",
    "  {\n",
    "    \"_id\": \"6019fd438c0bf8e775c28536\",\n",
    "    \"age\": 27,\n",
    "    \"eyeColor\": \"brown\",\n",
    "    \"name\": \"Grimes Oneal\",\n",
    "    \"gender\": \"male\"\n",
    "  },\n",
    "  {\n",
    "    \"_id\": \"6019fd43b68a7fd8b081ab26\",\n",
    "    \"age\": 40,\n",
    "    \"eyeColor\": \"blue\",\n",
    "    \"name\": \"Melissa Joyce\",\n",
    "    \"gender\": \"female\"\n",
    "  },\n",
    "  {\n",
    "    \"_id\": \"6019fd436c1edc4757aabb9d\",\n",
    "    \"age\": 32,\n",
    "    \"eyeColor\": \"blue\",\n",
    "    \"name\": \"Malone Bush\",\n",
    "    \"gender\": \"male\"\n",
    "  },\n",
    "  {\n",
    "    \"_id\": \"6019fd438eaf753918f55226\",\n",
    "    \"age\": 34,\n",
    "    \"eyeColor\": \"green\",\n",
    "    \"name\": \"Davenport Hyde\",\n",
    "    \"gender\": \"male\"\n",
    "  },\n",
    "  {\n",
    "    \"_id\": \"6019fd43c35929ff95004109\",\n",
    "    \"age\": 20,\n",
    "    \"eyeColor\": \"blue\",\n",
    "    \"name\": \"Shauna Blevins\",\n",
    "    \"gender\": \"female\"\n",
    "  }\n",
    "]\n",
    "\n",
    "\n",
    "class User: #클래스 지정\n",
    "    def __init__(self, _id, age, eyeColor, name, gender): #인스턴스(클래스의 구성 요소?), 인스턴스 호출 함수\n",
    "        self._id = _id #속성 지정하기\n",
    "        self.age = age\n",
    "        self.eyeColor = eyeColor\n",
    "        self.name = name\n",
    "        self.gender = gender\n",
    "\n",
    "    def __str__(self):\n",
    "        return f\"User: _id={self._id}, age={self.age}, eyeColor={self.eyeColor}, name={self.name}\"\n",
    "\n",
    "users = [] #data 리스트를 User 인스턴스 리스트로 변환한다!\n",
    "for user_data in data:\n",
    "    user_instance = User(\n",
    "      _id=user_data[\"_id\"],\n",
    "      age=user_data[\"age\"],\n",
    "      eyeColor=user_data[\"eyeColor\"],\n",
    "      name=user_data[\"name\"],\n",
    "      gender=user_data[\"gender\"])\n",
    "    users.append(user_instance)\n",
    "#인스턴스 리스트에서 나이 평균 구하기\n",
    "ages = []\n",
    "for user in users:\n",
    "    ages.append(user.age)\n",
    "total_age = sum(ages)\n",
    "count = len(ages)\n",
    "average_age = total_age / count\n",
    "print(f\"User 인스턴스들의 나이 평균은{average_age:.2f}입니다\")\n",
    "#여긴 더 많은 공부가 필요할 듯 하다..\n",
    "\n",
    "for user in users:\n",
    "    print(user)  # 각 User 인스턴스의 정보를 출력한다"
   ]
  },
  {
   "cell_type": "code",
   "execution_count": null,
   "id": "52eb9da2",
   "metadata": {},
   "outputs": [],
   "source": []
  }
 ],
 "metadata": {
  "kernelspec": {
   "display_name": "Python 3",
   "language": "python",
   "name": "python3"
  },
  "language_info": {
   "codemirror_mode": {
    "name": "ipython",
    "version": 3
   },
   "file_extension": ".py",
   "mimetype": "text/x-python",
   "name": "python",
   "nbconvert_exporter": "python",
   "pygments_lexer": "ipython3",
   "version": "3.13.0"
  }
 },
 "nbformat": 4,
 "nbformat_minor": 5
}
