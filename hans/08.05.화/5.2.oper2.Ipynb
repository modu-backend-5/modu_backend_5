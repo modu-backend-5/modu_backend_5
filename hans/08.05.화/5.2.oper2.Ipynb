{
 "cells": [
  {
   "cell_type": "markdown",
   "id": "6ae3a744",
   "metadata": {},
   "source": [
    "### == (같음)"
   ]
  },
  {
   "cell_type": "code",
   "execution_count": 1,
   "id": "724605b2",
   "metadata": {},
   "outputs": [
    {
     "name": "stdout",
     "output_type": "stream",
     "text": [
      "True\n"
     ]
    }
   ],
   "source": [
    "print(5 == 5) # 결과: True\n",
    "# print(5 = 5) # 잘못된 예시"
   ]
  },
  {
   "cell_type": "code",
   "execution_count": 5,
   "id": "1af92a45",
   "metadata": {},
   "outputs": [
    {
     "name": "stdout",
     "output_type": "stream",
     "text": [
      "False\n",
      "True\n",
      "True\n"
     ]
    }
   ],
   "source": [
    "print(14 == 10)\n",
    "\n",
    "print(10 == 10)\n",
    "\n",
    "print(0.5 == 0.5) "
   ]
  },
  {
   "cell_type": "markdown",
   "id": "8e0afd83",
   "metadata": {},
   "source": [
    "### != (같지않음)"
   ]
  },
  {
   "cell_type": "code",
   "execution_count": 8,
   "id": "0ecacaf3",
   "metadata": {},
   "outputs": [
    {
     "name": "stdout",
     "output_type": "stream",
     "text": [
      "False\n",
      "True\n"
     ]
    }
   ],
   "source": [
    "print(5 != 5) \n",
    "\n",
    "print(5 != 10) \n"
   ]
  },
  {
   "cell_type": "code",
   "execution_count": 10,
   "id": "9fc04cc3",
   "metadata": {},
   "outputs": [
    {
     "name": "stdout",
     "output_type": "stream",
     "text": [
      "True\n"
     ]
    }
   ],
   "source": [
    "print(3 < 5)"
   ]
  },
  {
   "cell_type": "code",
   "execution_count": 12,
   "id": "2ec6b578",
   "metadata": {},
   "outputs": [
    {
     "name": "stdout",
     "output_type": "stream",
     "text": [
      "True\n"
     ]
    }
   ],
   "source": [
    "print(5 <= 5)"
   ]
  },
  {
   "cell_type": "code",
   "execution_count": 13,
   "id": "b6404142",
   "metadata": {},
   "outputs": [
    {
     "name": "stdout",
     "output_type": "stream",
     "text": [
      "True\n"
     ]
    }
   ],
   "source": [
    "print(6 > 5)"
   ]
  },
  {
   "cell_type": "code",
   "execution_count": 17,
   "id": "8659c719",
   "metadata": {},
   "outputs": [
    {
     "name": "stdout",
     "output_type": "stream",
     "text": [
      "True\n"
     ]
    }
   ],
   "source": [
    "print(5 >= 5)"
   ]
  },
  {
   "cell_type": "code",
   "execution_count": null,
   "id": "fcf4c797",
   "metadata": {},
   "outputs": [
    {
     "name": "stdout",
     "output_type": "stream",
     "text": [
      "True\n"
     ]
    }
   ],
   "source": [
    "print('apple' < 'banana') # 문자열도 비교 할 수 있으나 유니코드표라는 사전 순으로 비교 하여 답을 낸다 "
   ]
  },
  {
   "cell_type": "code",
   "execution_count": null,
   "id": "ee499b1b",
   "metadata": {},
   "outputs": [
    {
     "name": "stdout",
     "output_type": "stream",
     "text": [
      "False\n"
     ]
    }
   ],
   "source": [
    "print('banana' > 'pineapple') "
   ]
  },
  {
   "cell_type": "code",
   "execution_count": 23,
   "id": "5ba04b4b",
   "metadata": {},
   "outputs": [
    {
     "name": "stdout",
     "output_type": "stream",
     "text": [
      "False\n"
     ]
    }
   ],
   "source": [
    "print('하하' > '후후') # 한글도 유니코드표에 따라 비교하지만 영문보다 복잡하다"
   ]
  },
  {
   "cell_type": "code",
   "execution_count": 28,
   "id": "1de55b62",
   "metadata": {},
   "outputs": [
    {
     "name": "stdout",
     "output_type": "stream",
     "text": [
      "True\n"
     ]
    }
   ],
   "source": [
    "print('낄낄' > 'haha')"
   ]
  },
  {
   "cell_type": "code",
   "execution_count": null,
   "id": "d6792b70",
   "metadata": {},
   "outputs": [
    {
     "name": "stdout",
     "output_type": "stream",
     "text": [
      "True\n"
     ]
    }
   ],
   "source": [
    "# 연속 비교도 가능하다 \n",
    "x = 10\n",
    "print(5 < x < 15) # 5보다 크고 15보다 작다 라는 의미로 True\n",
    "\n",
    "print(5 < x < 10) # 5보다 크고 10보다 작다 라는 의미로 False\n",
    "\n",
    "print(5 < x <= 10) # 5보다 크고 10보다 작거나 같다 라는 의미로 False\n",
    "\n",
    "print(5 < x <= 15) # 5보다 크고 15보다 작거나 같다 라는 의미로 True\n"
   ]
  }
 ],
 "metadata": {
  "kernelspec": {
   "display_name": "Python 3",
   "language": "python",
   "name": "python3"
  },
  "language_info": {
   "codemirror_mode": {
    "name": "ipython",
    "version": 3
   },
   "file_extension": ".py",
   "mimetype": "text/x-python",
   "name": "python",
   "nbconvert_exporter": "python",
   "pygments_lexer": "ipython3",
   "version": "3.13.5"
  }
 },
 "nbformat": 4,
 "nbformat_minor": 5
}
