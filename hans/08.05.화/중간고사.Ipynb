{
 "cells": [
  {
   "cell_type": "code",
   "execution_count": null,
   "id": "2a7c9554",
   "metadata": {},
   "outputs": [
    {
     "ename": "AttributeError",
     "evalue": "'builtin_function_or_method' object has no attribute 'student_score'",
     "output_type": "error",
     "traceback": [
      "\u001b[31m---------------------------------------------------------------------------\u001b[39m",
      "\u001b[31mAttributeError\u001b[39m                            Traceback (most recent call last)",
      "\u001b[36mCell\u001b[39m\u001b[36m \u001b[39m\u001b[32mIn[20]\u001b[39m\u001b[32m, line 5\u001b[39m\n\u001b[32m      1\u001b[39m \u001b[38;5;66;03m# 1. 다음 학생 점수의 평균을 구하세요.\u001b[39;00m\n\u001b[32m      3\u001b[39m student_score = {\u001b[33m'\u001b[39m\u001b[33m홍의\u001b[39m\u001b[33m'\u001b[39m: \u001b[32m97\u001b[39m,\u001b[33m'\u001b[39m\u001b[33m원희\u001b[39m\u001b[33m'\u001b[39m: \u001b[32m60\u001b[39m,\u001b[33m'\u001b[39m\u001b[33m동해\u001b[39m\u001b[33m'\u001b[39m: \u001b[32m77\u001b[39m,\u001b[33m'\u001b[39m\u001b[33m변수\u001b[39m\u001b[33m'\u001b[39m: \u001b[32m79\u001b[39m,\u001b[33m'\u001b[39m\u001b[33m창현\u001b[39m\u001b[33m'\u001b[39m: \u001b[32m89\u001b[39m,}\n\u001b[32m----> \u001b[39m\u001b[32m5\u001b[39m \u001b[38;5;28;43msum\u001b[39;49m\u001b[43m.\u001b[49m\u001b[43mstudent_score\u001b[49m\n",
      "\u001b[31mAttributeError\u001b[39m: 'builtin_function_or_method' object has no attribute 'student_score'"
     ]
    }
   ],
   "source": [
    "# 1. 다음 학생 점수의 평균을 구하세요.\n",
    "\n",
    "student_score = {'홍의': 97,'원희': 60,'동해': 77,'변수': 79,'창현': 89,}\n",
    "\n",
    "student_score['동해'] + student_score['변수'] + "
   ]
  },
  {
   "cell_type": "code",
   "execution_count": null,
   "id": "f0f6a5ee",
   "metadata": {},
   "outputs": [],
   "source": []
  },
  {
   "cell_type": "code",
   "execution_count": null,
   "id": "e96e0ccd",
   "metadata": {},
   "outputs": [
    {
     "ename": "SyntaxError",
     "evalue": "invalid syntax (2921654373.py, line 1)",
     "output_type": "error",
     "traceback": [
      "  \u001b[36mCell\u001b[39m\u001b[36m \u001b[39m\u001b[32mIn[26]\u001b[39m\u001b[32m, line 1\u001b[39m\n\u001b[31m    \u001b[39m\u001b[31m2. 다음 점수는 학생들의 국, 영, 수 점수입니다. 모든 학생의 평균을 구하세요.\u001b[39m\n       ^\n\u001b[31mSyntaxError\u001b[39m\u001b[31m:\u001b[39m invalid syntax\n"
     ]
    }
   ],
   "source": [
    "2. 다음 점수는 학생들의 국, 영, 수 점수입니다. 모든 학생의 평균을 구하세요.\n",
    "\n",
    "student_score = [\n",
    "    [10, 20, 30], \n",
    "    [40, 50, 60], \n",
    "    [70, 80, 90]\n",
    "]\n",
    "\n"
   ]
  },
  {
   "cell_type": "code",
   "execution_count": 5,
   "id": "0f23c45f",
   "metadata": {},
   "outputs": [
    {
     "ename": "SyntaxError",
     "evalue": "invalid syntax (2078922354.py, line 1)",
     "output_type": "error",
     "traceback": [
      "  \u001b[36mCell\u001b[39m\u001b[36m \u001b[39m\u001b[32mIn[5]\u001b[39m\u001b[32m, line 1\u001b[39m\n\u001b[31m    \u001b[39m\u001b[31m3. 다음 점수는 학생들의 국, 영, 수 점수입니다. 평균이 50점 이상인 학생이 몇 명 있는지 구하세요.\u001b[39m\n       ^\n\u001b[31mSyntaxError\u001b[39m\u001b[31m:\u001b[39m invalid syntax\n"
     ]
    }
   ],
   "source": [
    "3. 다음 점수는 학생들의 국, 영, 수 점수입니다. 평균이 50점 이상인 학생이 몇 명 있는지 구하세요.\n",
    "student_score = [\n",
    "    [10, 20, 30], \n",
    "    [40, 50, 60], \n",
    "    [70, 80, 90]\n",
    "]"
   ]
  }
 ],
 "metadata": {
  "kernelspec": {
   "display_name": "Python 3",
   "language": "python",
   "name": "python3"
  },
  "language_info": {
   "codemirror_mode": {
    "name": "ipython",
    "version": 3
   },
   "file_extension": ".py",
   "mimetype": "text/x-python",
   "name": "python",
   "nbconvert_exporter": "python",
   "pygments_lexer": "ipython3",
   "version": "3.13.5"
  }
 },
 "nbformat": 4,
 "nbformat_minor": 5
}
