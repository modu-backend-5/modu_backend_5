{
 "cells": [
  {
   "cell_type": "code",
   "execution_count": 3,
   "id": "a6bebd2a",
   "metadata": {},
   "outputs": [
    {
     "name": "stdout",
     "output_type": "stream",
     "text": [
      "8\n",
      "5.5\n"
     ]
    }
   ],
   "source": [
    "result = 5 + 3\n",
    "print(result)\n",
    "\n",
    "result = 3 + 2.5\n",
    "print(result)\n"
   ]
  },
  {
   "cell_type": "code",
   "execution_count": 5,
   "id": "a6c2b9c5",
   "metadata": {},
   "outputs": [
    {
     "name": "stdout",
     "output_type": "stream",
     "text": [
      "19\n",
      "7.14\n"
     ]
    }
   ],
   "source": [
    "result = 15 + 4\n",
    "print(result)\n",
    "\n",
    "result = 4.6 + 2.54\n",
    "print(result)"
   ]
  },
  {
   "cell_type": "code",
   "execution_count": 9,
   "id": "b197f18c",
   "metadata": {},
   "outputs": [
    {
     "name": "stdout",
     "output_type": "stream",
     "text": [
      "Hello World\n"
     ]
    }
   ],
   "source": [
    "s1 = \"Hello\"\n",
    "s2 = \"World\"\n",
    "result = s1 + \" \" + s2\n",
    "print(result)"
   ]
  },
  {
   "cell_type": "code",
   "execution_count": 10,
   "id": "265b538b",
   "metadata": {},
   "outputs": [
    {
     "name": "stdout",
     "output_type": "stream",
     "text": [
      "Hello hans\n"
     ]
    }
   ],
   "source": [
    "s1 = 'Hello'\n",
    "s2 = 'hans'\n",
    "result = s1 + ' ' + s2\n",
    "print(result)"
   ]
  },
  {
   "cell_type": "code",
   "execution_count": 13,
   "id": "6a496d17",
   "metadata": {},
   "outputs": [
    {
     "name": "stdout",
     "output_type": "stream",
     "text": [
      "5\n",
      "6.5\n",
      "8\n"
     ]
    }
   ],
   "source": [
    "result = 7 - 2\n",
    "print(result)\n",
    "\n",
    "result = 10 - 3.5\n",
    "print(result)\n",
    "\n",
    "result = 5 - (-3)\n",
    "print(result)"
   ]
  },
  {
   "cell_type": "code",
   "execution_count": 14,
   "id": "ab504cf9",
   "metadata": {},
   "outputs": [
    {
     "name": "stdout",
     "output_type": "stream",
     "text": [
      "12\n",
      "12.5\n"
     ]
    }
   ],
   "source": [
    "result = 3 * 4\n",
    "print(result)\n",
    "\n",
    "result = 5* 2.5\n",
    "print(result)   "
   ]
  },
  {
   "cell_type": "code",
   "execution_count": 16,
   "id": "655270c4",
   "metadata": {},
   "outputs": [
    {
     "name": "stdout",
     "output_type": "stream",
     "text": [
      "1305\n",
      "505.75\n"
     ]
    }
   ],
   "source": [
    "result = 15 * 87\n",
    "print(result)   \n",
    "\n",
    "result = 42.5 * 11.9\n",
    "print(result)\n"
   ]
  },
  {
   "cell_type": "code",
   "execution_count": 18,
   "id": "f5f8a210",
   "metadata": {},
   "outputs": [
    {
     "name": "stdout",
     "output_type": "stream",
     "text": [
      "HaHaHa\n"
     ]
    }
   ],
   "source": [
    "result = \"Ha\" * 3\n",
    "print(result)   "
   ]
  },
  {
   "cell_type": "code",
   "execution_count": 20,
   "id": "3f59f221",
   "metadata": {},
   "outputs": [
    {
     "name": "stdout",
     "output_type": "stream",
     "text": [
      "shitshitshitshitshit\n"
     ]
    }
   ],
   "source": [
    "result = 'shit' * 5\n",
    "print(result)"
   ]
  },
  {
   "cell_type": "code",
   "execution_count": null,
   "id": "cc2322cb",
   "metadata": {},
   "outputs": [
    {
     "name": "stdout",
     "output_type": "stream",
     "text": [
      "5.0\n",
      "5\n"
     ]
    }
   ],
   "source": [
    "a = 10\n",
    "b = 2\n",
    "print(a / b) # / 는 실수(.0)로 출력 \n",
    "print(a //b) # // 는 정수로 출력"
   ]
  },
  {
   "cell_type": "code",
   "execution_count": 23,
   "id": "9d606504",
   "metadata": {},
   "outputs": [
    {
     "name": "stdout",
     "output_type": "stream",
     "text": [
      "84.95652173913044\n",
      "84\n"
     ]
    }
   ],
   "source": [
    "a = 1954\n",
    "b = 23\n",
    "print(a / b)\n",
    "print(a // b)"
   ]
  },
  {
   "cell_type": "code",
   "execution_count": null,
   "id": "485647e2",
   "metadata": {},
   "outputs": [
    {
     "name": "stdout",
     "output_type": "stream",
     "text": [
      "-2.5\n",
      "-3\n"
     ]
    }
   ],
   "source": [
    "a = -5\n",
    "b = 2\n",
    "print(a / b)  \n",
    "print(a // b) # //연산은 내림으로 적용 실수(.0~)로 끝날땐 아래 정수로 출력"
   ]
  },
  {
   "cell_type": "code",
   "execution_count": 25,
   "id": "ec33ccbd",
   "metadata": {},
   "outputs": [
    {
     "name": "stdout",
     "output_type": "stream",
     "text": [
      "-4.333333333333333\n",
      "-5\n"
     ]
    }
   ],
   "source": [
    "a = -13\n",
    "b = 3\n",
    "print(a / b)\n",
    "print(a // b)"
   ]
  },
  {
   "cell_type": "code",
   "execution_count": null,
   "id": "aa3a7922",
   "metadata": {},
   "outputs": [
    {
     "data": {
      "text/plain": [
       "1"
      ]
     },
     "execution_count": 1,
     "metadata": {},
     "output_type": "execute_result"
    }
   ],
   "source": [
    "10 % 3 # % 는 나누고 난 나머지 값을 출력"
   ]
  },
  {
   "cell_type": "code",
   "execution_count": null,
   "id": "dd915d53",
   "metadata": {},
   "outputs": [
    {
     "data": {
      "text/plain": [
       "1"
      ]
     },
     "execution_count": 36,
     "metadata": {},
     "output_type": "execute_result"
    }
   ],
   "source": [
    "33 % 2 # 33을 2로 나누면 몫이 16 나머지가 1이니까 1이 출력"
   ]
  },
  {
   "cell_type": "code",
   "execution_count": null,
   "id": "e078bac4",
   "metadata": {},
   "outputs": [
    {
     "data": {
      "text/plain": [
       "True"
      ]
     },
     "execution_count": 38,
     "metadata": {},
     "output_type": "execute_result"
    }
   ],
   "source": [
    "# '=='는 같다 라는 뜻\n",
    "10 % 2 == 0 # 10 나누기 2 는 5 이지만 나머지가 0 이니까 0과 같다. 해서 True\n"
   ]
  },
  {
   "cell_type": "code",
   "execution_count": null,
   "id": "b48ee740",
   "metadata": {},
   "outputs": [
    {
     "data": {
      "text/plain": [
       "False"
      ]
     },
     "execution_count": 3,
     "metadata": {},
     "output_type": "execute_result"
    }
   ],
   "source": [
    "10 % 3 == 0 # 10 나누기 3 는 몫이 3이고 나머지가 1 이니까 0과 같지 않아 False\n"
   ]
  },
  {
   "cell_type": "code",
   "execution_count": 43,
   "id": "2e9c426f",
   "metadata": {},
   "outputs": [
    {
     "data": {
      "text/plain": [
       "False"
      ]
     },
     "execution_count": 43,
     "metadata": {},
     "output_type": "execute_result"
    }
   ],
   "source": [
    "365 % 10 == 0"
   ]
  },
  {
   "cell_type": "code",
   "execution_count": 49,
   "id": "8b89ddcb",
   "metadata": {},
   "outputs": [
    {
     "data": {
      "text/plain": [
       "False"
      ]
     },
     "execution_count": 49,
     "metadata": {},
     "output_type": "execute_result"
    }
   ],
   "source": [
    "365 % 15 == 0"
   ]
  },
  {
   "cell_type": "code",
   "execution_count": 53,
   "id": "35646f37",
   "metadata": {},
   "outputs": [
    {
     "data": {
      "text/plain": [
       "False"
      ]
     },
     "execution_count": 53,
     "metadata": {},
     "output_type": "execute_result"
    }
   ],
   "source": [
    "365 % 11== 0\n"
   ]
  },
  {
   "cell_type": "code",
   "execution_count": 54,
   "id": "4db9e4f2",
   "metadata": {},
   "outputs": [
    {
     "data": {
      "text/plain": [
       "1000"
      ]
     },
     "execution_count": 54,
     "metadata": {},
     "output_type": "execute_result"
    }
   ],
   "source": [
    "10 ** 3"
   ]
  },
  {
   "cell_type": "code",
   "execution_count": 55,
   "id": "e200071c",
   "metadata": {},
   "outputs": [
    {
     "data": {
      "text/plain": [
       "442050625"
      ]
     },
     "execution_count": 55,
     "metadata": {},
     "output_type": "execute_result"
    }
   ],
   "source": [
    "145 ** 4"
   ]
  },
  {
   "cell_type": "code",
   "execution_count": 56,
   "id": "c3b490c1",
   "metadata": {},
   "outputs": [
    {
     "data": {
      "text/plain": [
       "2.0"
      ]
     },
     "execution_count": 56,
     "metadata": {},
     "output_type": "execute_result"
    }
   ],
   "source": [
    "4 ** 0.5"
   ]
  },
  {
   "cell_type": "code",
   "execution_count": 61,
   "id": "fdba464f",
   "metadata": {},
   "outputs": [
    {
     "data": {
      "text/plain": [
       "7.0710678118654755"
      ]
     },
     "execution_count": 61,
     "metadata": {},
     "output_type": "execute_result"
    }
   ],
   "source": [
    "50 ** 0.5"
   ]
  }
 ],
 "metadata": {
  "kernelspec": {
   "display_name": "Python 3",
   "language": "python",
   "name": "python3"
  },
  "language_info": {
   "codemirror_mode": {
    "name": "ipython",
    "version": 3
   },
   "file_extension": ".py",
   "mimetype": "text/x-python",
   "name": "python",
   "nbconvert_exporter": "python",
   "pygments_lexer": "ipython3",
   "version": "3.13.5"
  }
 },
 "nbformat": 4,
 "nbformat_minor": 5
}
