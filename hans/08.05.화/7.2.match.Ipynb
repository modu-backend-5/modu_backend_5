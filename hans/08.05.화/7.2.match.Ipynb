{
 "cells": [
  {
   "cell_type": "markdown",
   "id": "82a208b5",
   "metadata": {},
   "source": [
    "## match 구문 \n",
    "### 값을 여러 패턴과 비교하여 일치하는 경우에 따라 다른코드를 실행할 수 있게 해줌"
   ]
  },
  {
   "cell_type": "code",
   "execution_count": null,
   "id": "1c06fe38",
   "metadata": {},
   "outputs": [
    {
     "name": "stdout",
     "output_type": "stream",
     "text": [
      "평일\n"
     ]
    }
   ],
   "source": [
    "# 기본 match 구문\n",
    "# input으로 요일은 입력 받고\n",
    "# 입력받은 값은 match 하는데,\n",
    "# 지정한 case와 match 해서 \n",
    "# 맞는 print()를 출력\n",
    "\n",
    "day = input(\"요일을 입력하세요: \")\n",
    "match day:\n",
    "    case \"월\" | \"화\" | \"수\" | \"목\" | \"금\":\n",
    "        print(\"평일\")\n",
    "    case \"토\" | \"일\":\n",
    "        print(\"주말\")\n",
    "    case _:\n",
    "        print(\"올바른 요일을 입력하세요\")"
   ]
  },
  {
   "cell_type": "code",
   "execution_count": 3,
   "id": "1215582b",
   "metadata": {},
   "outputs": [
    {
     "name": "stdout",
     "output_type": "stream",
     "text": [
      "홀수\n"
     ]
    }
   ],
   "source": [
    "number = input(\"숫자를 입력하세요: \")\n",
    "match number:\n",
    "    case \"2\" | \"4\" | \"6\" | \"8\" | \"10\":\n",
    "        print('짝수')\n",
    "    case \"1\" | \"3\" | \"5\" | \"7\" | \"9\":\n",
    "        print(\"홀수\")\n",
    "    case _:\n",
    "        print('다시 입력하세요.')\n",
    "        "
   ]
  },
  {
   "cell_type": "code",
   "execution_count": 4,
   "id": "ef6878d6",
   "metadata": {},
   "outputs": [
    {
     "name": "stdout",
     "output_type": "stream",
     "text": [
      "양의 정수\n"
     ]
    }
   ],
   "source": [
    "# case문에 조건을 추가 할수있다.\n",
    "\n",
    "value = 5\n",
    "\n",
    "match value:\n",
    "    case int(n) if n > 0:\n",
    "        print(\"양의 정수\")\n",
    "    case int(n) if n < 0:\n",
    "        print(\"음의 정수\")\n",
    "    case int(n) if n == 0:\n",
    "        print(\"0\")\n",
    "    case float():\n",
    "        print(\"실수\")\n",
    "    case str():\n",
    "        print(\"문자열\")\n",
    "    case _:\n",
    "        print(\"기타 타입\")"
   ]
  },
  {
   "cell_type": "code",
   "execution_count": 16,
   "id": "7847f4a3",
   "metadata": {},
   "outputs": [
    {
     "name": "stdout",
     "output_type": "stream",
     "text": [
      "양의정수\n"
     ]
    }
   ],
   "source": [
    "value = 8\n",
    "\n",
    "match value:\n",
    "    case int(n) if n > 0:\n",
    "        print('양의정수')\n",
    "    case int(n) if n < 0:\n",
    "        print('음의 정수')\n",
    "    case int(n) if n == 0:\n",
    "        print ('0')\n",
    "    case float(n):\n",
    "        print('실수')\n",
    "    case str(n):\n",
    "        print('문자열')\n",
    "    case _:\n",
    "        print('규격 외 타입')\n"
   ]
  }
 ],
 "metadata": {
  "kernelspec": {
   "display_name": "Python 3",
   "language": "python",
   "name": "python3"
  },
  "language_info": {
   "codemirror_mode": {
    "name": "ipython",
    "version": 3
   },
   "file_extension": ".py",
   "mimetype": "text/x-python",
   "name": "python",
   "nbconvert_exporter": "python",
   "pygments_lexer": "ipython3",
   "version": "3.13.5"
  }
 },
 "nbformat": 4,
 "nbformat_minor": 5
}
