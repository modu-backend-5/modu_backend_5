{
 "cells": [
  {
   "cell_type": "markdown",
   "id": "98de7699",
   "metadata": {},
   "source": [
    "### 셋(set) | 중복을 허용하지 않는 순서 없이 나열되는 자료형 (중복된 값은 하나만 출력)"
   ]
  },
  {
   "cell_type": "code",
   "execution_count": 1,
   "id": "39016dfa",
   "metadata": {},
   "outputs": [
    {
     "name": "stdout",
     "output_type": "stream",
     "text": [
      "{1, 2, 3, 4, 5}\n"
     ]
    }
   ],
   "source": [
    "my_set = {1, 2, 3, 3, 4, 4, 5}\n",
    "\n",
    "print(my_set)"
   ]
  },
  {
   "cell_type": "code",
   "execution_count": 11,
   "id": "e2ab269c",
   "metadata": {},
   "outputs": [
    {
     "name": "stdout",
     "output_type": "stream",
     "text": [
      "{1, 2, 3, 4, 5}\n"
     ]
    }
   ],
   "source": [
    "set = {1, 2, 3, 3, 2, 4, 5, 5, 4}\n",
    "\n",
    "print(set)"
   ]
  },
  {
   "cell_type": "code",
   "execution_count": 49,
   "id": "4b97844d",
   "metadata": {},
   "outputs": [
    {
     "ename": "TypeError",
     "evalue": "'list' object is not callable",
     "output_type": "error",
     "traceback": [
      "\u001b[31m---------------------------------------------------------------------------\u001b[39m",
      "\u001b[31mTypeError\u001b[39m                                 Traceback (most recent call last)",
      "\u001b[36mCell\u001b[39m\u001b[36m \u001b[39m\u001b[32mIn[49]\u001b[39m\u001b[32m, line 5\u001b[39m\n\u001b[32m      1\u001b[39m \u001b[38;5;66;03m# 셋 생성 | {} 중괄호 안에 쉼표로 구분해서 생성\u001b[39;00m\n\u001b[32m      2\u001b[39m             \u001b[38;5;66;03m# 또한, set()로도 생성 가능\u001b[39;00m\n\u001b[32m      4\u001b[39m fruits = {\u001b[33m'\u001b[39m\u001b[33mapple\u001b[39m\u001b[33m'\u001b[39m, \u001b[33m'\u001b[39m\u001b[33mbanana\u001b[39m\u001b[33m'\u001b[39m, \u001b[33m'\u001b[39m\u001b[33mcherry\u001b[39m\u001b[33m'\u001b[39m}\n\u001b[32m----> \u001b[39m\u001b[32m5\u001b[39m numbers = \u001b[38;5;28;43mset\u001b[39;49m\u001b[43m(\u001b[49m\u001b[43m[\u001b[49m\u001b[32;43m1\u001b[39;49m\u001b[43m,\u001b[49m\u001b[43m \u001b[49m\u001b[32;43m2\u001b[39;49m\u001b[43m,\u001b[49m\u001b[43m \u001b[49m\u001b[32;43m2\u001b[39;49m\u001b[43m,\u001b[49m\u001b[43m \u001b[49m\u001b[32;43m3\u001b[39;49m\u001b[43m,\u001b[49m\u001b[43m \u001b[49m\u001b[32;43m4\u001b[39;49m\u001b[43m,\u001b[49m\u001b[43m \u001b[49m\u001b[32;43m4\u001b[39;49m\u001b[43m,\u001b[49m\u001b[43m \u001b[49m\u001b[32;43m5\u001b[39;49m\u001b[43m]\u001b[49m\u001b[43m)\u001b[49m\n\u001b[32m      7\u001b[39m \u001b[38;5;28mprint\u001b[39m(\u001b[33m'\u001b[39m\u001b[33m과일 셋:\u001b[39m\u001b[33m'\u001b[39m, fruits)\n\u001b[32m      8\u001b[39m \u001b[38;5;28mprint\u001b[39m(\u001b[33m'\u001b[39m\u001b[33m숫자 셋:\u001b[39m\u001b[33m'\u001b[39m, numbers)\n",
      "\u001b[31mTypeError\u001b[39m: 'list' object is not callable"
     ]
    }
   ],
   "source": [
    "# 셋 생성 | {} 중괄호 안에 쉼표로 구분해서 생성\n",
    "            # 또한, set()로도 생성 가능\n",
    "\n",
    "fruits = {'apple', 'banana', 'cherry'}\n",
    "numbers = set([1, 2, 2, 3, 4, 4, 5])\n",
    "\n",
    "print('과일 셋:', fruits)\n",
    "print('숫자 셋:', numbers)"
   ]
  },
  {
   "cell_type": "code",
   "execution_count": 44,
   "id": "ce894698",
   "metadata": {},
   "outputs": [
    {
     "ename": "TypeError",
     "evalue": "'list' object is not callable",
     "output_type": "error",
     "traceback": [
      "\u001b[31m---------------------------------------------------------------------------\u001b[39m",
      "\u001b[31mTypeError\u001b[39m                                 Traceback (most recent call last)",
      "\u001b[36mCell\u001b[39m\u001b[36m \u001b[39m\u001b[32mIn[44]\u001b[39m\u001b[32m, line 2\u001b[39m\n\u001b[32m      1\u001b[39m person = {\u001b[33m'\u001b[39m\u001b[33mbob\u001b[39m\u001b[33m'\u001b[39m, \u001b[33m'\u001b[39m\u001b[33mmin\u001b[39m\u001b[33m'\u001b[39m, \u001b[33m'\u001b[39m\u001b[33mhans\u001b[39m\u001b[33m'\u001b[39m, \u001b[33m'\u001b[39m\u001b[33mhee\u001b[39m\u001b[33m'\u001b[39m}\n\u001b[32m----> \u001b[39m\u001b[32m2\u001b[39m numbers = \u001b[38;5;28;43mset\u001b[39;49m\u001b[43m(\u001b[49m\u001b[43m[\u001b[49m\u001b[32;43m1\u001b[39;49m\u001b[43m,\u001b[49m\u001b[43m \u001b[49m\u001b[32;43m2\u001b[39;49m\u001b[43m,\u001b[49m\u001b[43m \u001b[49m\u001b[32;43m2\u001b[39;49m\u001b[43m,\u001b[49m\u001b[43m \u001b[49m\u001b[32;43m3\u001b[39;49m\u001b[43m,\u001b[49m\u001b[43m \u001b[49m\u001b[32;43m4\u001b[39;49m\u001b[43m,\u001b[49m\u001b[43m \u001b[49m\u001b[32;43m5\u001b[39;49m\u001b[43m,\u001b[49m\u001b[43m \u001b[49m\u001b[32;43m5\u001b[39;49m\u001b[43m]\u001b[49m\u001b[43m)\u001b[49m\n\u001b[32m      4\u001b[39m \u001b[38;5;28mprint\u001b[39m(\u001b[33m'\u001b[39m\u001b[33m사람 셋:\u001b[39m\u001b[33m'\u001b[39m, person)\n\u001b[32m      5\u001b[39m \u001b[38;5;28mprint\u001b[39m(\u001b[33m'\u001b[39m\u001b[33m숫자 셋:\u001b[39m\u001b[33m'\u001b[39m, numbers)\n",
      "\u001b[31mTypeError\u001b[39m: 'list' object is not callable"
     ]
    }
   ],
   "source": [
    "person = {'bob', 'min', 'hans', 'hee'}\n",
    "numbers = set([1, 2, 2, 3, 4, 5, 5])\n",
    "\n",
    "print('사람 셋:', person)\n",
    "print('숫자 셋:', numbers)"
   ]
  },
  {
   "cell_type": "code",
   "execution_count": 56,
   "id": "ccfbc043",
   "metadata": {},
   "outputs": [
    {
     "name": "stdout",
     "output_type": "stream",
     "text": [
      "{1, 2, 3, 4, 5}\n"
     ]
    },
    {
     "ename": "TypeError",
     "evalue": "'set' object is not subscriptable",
     "output_type": "error",
     "traceback": [
      "\u001b[31m---------------------------------------------------------------------------\u001b[39m",
      "\u001b[31mTypeError\u001b[39m                                 Traceback (most recent call last)",
      "\u001b[36mCell\u001b[39m\u001b[36m \u001b[39m\u001b[32mIn[56]\u001b[39m\u001b[32m, line 8\u001b[39m\n\u001b[32m      4\u001b[39m numbers = {\u001b[32m1\u001b[39m, \u001b[32m2\u001b[39m, \u001b[32m3\u001b[39m, \u001b[32m4\u001b[39m, \u001b[32m5\u001b[39m, \u001b[32m5\u001b[39m, \u001b[32m4\u001b[39m, \u001b[32m3\u001b[39m, \u001b[32m2\u001b[39m, \u001b[32m1\u001b[39m}\n\u001b[32m      6\u001b[39m \u001b[38;5;28mprint\u001b[39m(numbers)\n\u001b[32m----> \u001b[39m\u001b[32m8\u001b[39m \u001b[38;5;28mprint\u001b[39m(\u001b[43mnumbers\u001b[49m\u001b[43m[\u001b[49m\u001b[32;43m0\u001b[39;49m\u001b[43m]\u001b[49m)\n",
      "\u001b[31mTypeError\u001b[39m: 'set' object is not subscriptable"
     ]
    }
   ],
   "source": [
    "# 셋의 특징 | 셋은 중복을 허용하지 않고, 순서가 없어 \n",
    "# 인덱싱을 사용 할 수 없음\n",
    "\n",
    "numbers = {1, 2, 3, 4, 5, 5, 4, 3, 2, 1}\n",
    "\n",
    "print(numbers)\n",
    "\n",
    "print(numbers[0])\n",
    "\n"
   ]
  },
  {
   "cell_type": "code",
   "execution_count": 59,
   "id": "608d7004",
   "metadata": {},
   "outputs": [
    {
     "name": "stdout",
     "output_type": "stream",
     "text": [
      "합집합: {1, 2, 3, 4, 5, 6, 7, 8}\n",
      "교집합: {4, 5}\n",
      "차집합: {1, 2, 3}\n"
     ]
    }
   ],
   "source": [
    "# 셋 연산 | 셋은 수학의 집합 연산을 지원한다.\n",
    "# - | : 합집합 (각 셋의 합)\n",
    "# - & : 교집합 (각 셋의 겹치는 값)\n",
    "# - - : 차집합 (각 셋의 겹치는 값을 뺀 나머지 값)\n",
    "\n",
    "set1 = {1, 2, 3, 4, 5}\n",
    "set2 = {4, 5, 6, 7, 8}\n",
    "\n",
    "print('합집합:', set1 | set2)\n",
    "print('교집합:', set1 & set2)\n",
    "print('차집합:', set1 - set2)\n"
   ]
  },
  {
   "cell_type": "code",
   "execution_count": 65,
   "id": "eae87eff",
   "metadata": {},
   "outputs": [
    {
     "name": "stdout",
     "output_type": "stream",
     "text": [
      "{'apple', 'banana', 'cherry', 'mango', 'pineapple', 'tomato'}\n",
      "{'mango', 'cherry'}\n",
      "{'apple', 'banana'}\n",
      "{'tomato', 'pineapple'}\n"
     ]
    }
   ],
   "source": [
    "fruits1 = {'mango', 'apple', 'banana', 'cherry'}\n",
    "fruits2 = {'pineapple', 'tomato', 'mango', 'cherry'}\n",
    "\n",
    "print(fruits1 | fruits2)\n",
    "print(fruits1 & fruits2)  \n",
    "print(fruits1 - fruits2)\n",
    "print(fruits2 - fruits1) "
   ]
  },
  {
   "cell_type": "code",
   "execution_count": null,
   "id": "6ff99d21",
   "metadata": {},
   "outputs": [
    {
     "name": "stdout",
     "output_type": "stream",
     "text": [
      "오렌지 추가 후: {'apple', 'orange', 'banana', 'cherry'}\n",
      "바나나 제거 후 {'apple', 'orange', 'cherry'}\n"
     ]
    }
   ],
   "source": [
    "# 셋 수정 | 셋에 요소를 추가 하거나 제거할 수 있다.\n",
    "# .add : 추가 \n",
    "# .remove : 제거 \n",
    "\n",
    "fruits = {'apple', 'banana', 'cherry'}\n",
    "\n",
    "fruits.add('orange')\n",
    "print('오렌지 추가 후:', fruits)\n",
    "\n",
    "fruits.remove('banana')\n",
    "print('바나나 제거 후:', fruits)\n"
   ]
  },
  {
   "cell_type": "code",
   "execution_count": 73,
   "id": "5ccf4aa2",
   "metadata": {},
   "outputs": [
    {
     "name": "stdout",
     "output_type": "stream",
     "text": [
      "shon 추가 후: {'choe', 'bob', 'shon', 'hans'}\n",
      "bob 제거 후: {'choe', 'shon', 'hans'}\n"
     ]
    }
   ],
   "source": [
    "person = {'hans', 'choe', 'bob'}\n",
    "\n",
    "person.add('shon')\n",
    "print('shon 추가 후:', person)\n",
    "\n",
    "person.remove('bob')\n",
    "print('bob 제거 후:', person)\n"
   ]
  },
  {
   "cell_type": "code",
   "execution_count": 80,
   "id": "3c5677c6",
   "metadata": {},
   "outputs": [
    {
     "name": "stdout",
     "output_type": "stream",
     "text": [
      "대칭 차집합: {1, 2, 3, 6, 7, 8}\n",
      "set1이 set2의 부분집합인가?: False\n",
      "두 집합에 겹치는 요소가 없는가?: False\n"
     ]
    }
   ],
   "source": [
    "# 셋 메서드 | 셋에서 자주 사용하느 메서드들\n",
    "# .symmentric_difference() : 대칭 차집합\n",
    "    # 각 셋의 중복된 값은 뺀 나머지 값\n",
    "# .issubset() : 부분집합 \n",
    "    # .이전의 셋의 값들이 ()의 셋 값에 포함되어 있는가?\n",
    "        # (True/false)\n",
    "# .isdisjoint() : 두 집합에 겹치는 요소가 있는가?\n",
    "        # (True/false)\n",
    "\n",
    "set1 = {1, 2, 3, 4, 5}\n",
    "set2 = {4, 5, 6, 7, 8}\n",
    "\n",
    "print('대칭 차집합:', set1.symmetric_difference(set2))\n",
    "print('set1이 set2의 부분집합인가?:', set1.issubset(set2))\n",
    "print('두 집합에 겹치는 요소가 없는가?:', set1.isdisjoint(set2))\n"
   ]
  },
  {
   "cell_type": "code",
   "execution_count": 84,
   "id": "9e7ae702",
   "metadata": {},
   "outputs": [
    {
     "name": "stdout",
     "output_type": "stream",
     "text": [
      "{6, 7, 8, 9, 10}\n",
      "True\n",
      "False\n",
      "True\n"
     ]
    }
   ],
   "source": [
    "set1 = {1, 2, 3, 4, 5}\n",
    "set2 = {1, 2, 3, 4, 5, 6, 7, 8, 9, 10}\n",
    "set3 = {6, 7, 8, 9, 10}\n",
    "\n",
    "print(set1.symmetric_difference(set2))\n",
    "print(set1.issubset(set2))\n",
    "print(set1.isdisjoint(set2))\n",
    "print(set1.isdisjoint(set3))"
   ]
  }
 ],
 "metadata": {
  "kernelspec": {
   "display_name": "Python 3",
   "language": "python",
   "name": "python3"
  },
  "language_info": {
   "codemirror_mode": {
    "name": "ipython",
    "version": 3
   },
   "file_extension": ".py",
   "mimetype": "text/x-python",
   "name": "python",
   "nbconvert_exporter": "python",
   "pygments_lexer": "ipython3",
   "version": "3.13.5"
  }
 },
 "nbformat": 4,
 "nbformat_minor": 5
}
