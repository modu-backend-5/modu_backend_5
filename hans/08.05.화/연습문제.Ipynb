{
 "cells": [
  {
   "cell_type": "code",
   "execution_count": 8,
   "id": "d3660ebd",
   "metadata": {},
   "outputs": [
    {
     "name": "stdout",
     "output_type": "stream",
     "text": [
      "abcabc\n"
     ]
    }
   ],
   "source": [
    "a = str(input())\n",
    "print(a*2)"
   ]
  },
  {
   "cell_type": "code",
   "execution_count": 9,
   "id": "0a9c2bf3",
   "metadata": {},
   "outputs": [
    {
     "name": "stdout",
     "output_type": "stream",
     "text": [
      "246\n"
     ]
    }
   ],
   "source": [
    "a = int(input())\n",
    "print(a*2)"
   ]
  },
  {
   "cell_type": "code",
   "execution_count": 10,
   "id": "8cf85121",
   "metadata": {},
   "outputs": [
    {
     "name": "stdout",
     "output_type": "stream",
     "text": [
      "abcabc\n"
     ]
    }
   ],
   "source": [
    "a = input()\n",
    "print(a+a)\n"
   ]
  },
  {
   "cell_type": "code",
   "execution_count": 11,
   "id": "e0fba8eb",
   "metadata": {},
   "outputs": [
    {
     "name": "stdout",
     "output_type": "stream",
     "text": [
      "11\n"
     ]
    }
   ],
   "source": [
    "a = input()\n",
    "print(a+a)"
   ]
  },
  {
   "cell_type": "code",
   "execution_count": 1,
   "id": "f09456df",
   "metadata": {},
   "outputs": [
    {
     "name": "stdout",
     "output_type": "stream",
     "text": [
      "246\n"
     ]
    }
   ],
   "source": [
    "a = int(input())\n",
    "print(a+a)"
   ]
  },
  {
   "cell_type": "code",
   "execution_count": null,
   "id": "6ee13493",
   "metadata": {},
   "outputs": [],
   "source": []
  }
 ],
 "metadata": {
  "kernelspec": {
   "display_name": "Python 3",
   "language": "python",
   "name": "python3"
  },
  "language_info": {
   "codemirror_mode": {
    "name": "ipython",
    "version": 3
   },
   "file_extension": ".py",
   "mimetype": "text/x-python",
   "name": "python",
   "nbconvert_exporter": "python",
   "pygments_lexer": "ipython3",
   "version": "3.13.5"
  }
 },
 "nbformat": 4,
 "nbformat_minor": 5
}
