{
 "cells": [
  {
   "cell_type": "markdown",
   "id": "a8eab38f",
   "metadata": {},
   "source": [
    "### 멤버연산 ( 어떤 값이 목록 안에 있는지 확인해주는 기능 )"
   ]
  },
  {
   "cell_type": "code",
   "execution_count": 4,
   "id": "647ca8ef",
   "metadata": {},
   "outputs": [
    {
     "name": "stdout",
     "output_type": "stream",
     "text": [
      "True\n",
      "True\n",
      "False\n",
      "False\n"
     ]
    }
   ],
   "source": [
    "# in - 값이 목록 안에 있으면 True, 아니면 False\n",
    "# not in - 값이 목록 안에 없으면 True, 아니면 False\n",
    "\n",
    "fruits = '사과 귤 수박 배 딸기'\n",
    "\n",
    "print(\"사과\" in fruits)  # True, 사과가 목록에 있기 때문\n",
    "print(\"오렌지\" not in fruits)  # True, 오렌지는 목록에 없기 때문\n",
    "\n",
    "print('망고' in fruits)  # False, 망고는 목록에 없기 때문\n",
    "print('귤' not in fruits)  # False, 귤은 목록에 있기 때문"
   ]
  },
  {
   "cell_type": "code",
   "execution_count": 6,
   "id": "52fc59d7",
   "metadata": {},
   "outputs": [
    {
     "name": "stdout",
     "output_type": "stream",
     "text": [
      "False\n",
      "True\n"
     ]
    }
   ],
   "source": [
    "numbers = [1, 2, 3, 4, 5, 8, 11, 15]\n",
    "\n",
    "print(22 in numbers)\n",
    "print(22 not in numbers)"
   ]
  }
 ],
 "metadata": {
  "kernelspec": {
   "display_name": "Python 3",
   "language": "python",
   "name": "python3"
  },
  "language_info": {
   "codemirror_mode": {
    "name": "ipython",
    "version": 3
   },
   "file_extension": ".py",
   "mimetype": "text/x-python",
   "name": "python",
   "nbconvert_exporter": "python",
   "pygments_lexer": "ipython3",
   "version": "3.13.5"
  }
 },
 "nbformat": 4,
 "nbformat_minor": 5
}
