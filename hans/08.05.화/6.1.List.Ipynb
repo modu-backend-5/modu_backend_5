{
 "cells": [
  {
   "cell_type": "markdown",
   "id": "19a6e9bb",
   "metadata": {},
   "source": [
    "### 리스트 ( 여러 개의 데이터를 하나로 묶어서 관리 / int, str, True, false등 전부 가능) | [ ] 대괄호 사용"
   ]
  },
  {
   "cell_type": "code",
   "execution_count": null,
   "id": "f2805d4a",
   "metadata": {},
   "outputs": [
    {
     "name": "stdout",
     "output_type": "stream",
     "text": [
      "['apple', 'danana', 'orange', 'kiwi', 'pear']\n"
     ]
    }
   ],
   "source": [
    "fruits = ['apple', 'danana', 'orange', 'kiwi', 'pear']\n",
    "print(fruits)"
   ]
  },
  {
   "cell_type": "code",
   "execution_count": null,
   "id": "380d304f",
   "metadata": {},
   "outputs": [
    {
     "name": "stdout",
     "output_type": "stream",
     "text": [
      "[1, 2, 3]\n",
      "['apple', 'banana', 'cherry']\n",
      "[1, 'hello', True]\n"
     ]
    }
   ],
   "source": [
    "# 리스트 생성을 위해서는 대괄호 [] 안에 쉼표 (,)로 구분해서 데이터를 넣으면 된다.\n",
    "\n",
    "x = [1, 2, 3,] # 숫자열도 리스트로 만들 수 있다.\n",
    "y = ['apple', 'banana', 'cherry'] # 문자열도 리스트로 만들 수 있다.\n",
    "z = [1, 'hello', True] # 숫자, 문자열, 불리언 등 다양한 자료형을 리스트로 만들 수 있다.\n",
    "print(x)\n",
    "print(y)\n",
    "print(z)"
   ]
  },
  {
   "cell_type": "code",
   "execution_count": 9,
   "id": "affed41b",
   "metadata": {},
   "outputs": [
    {
     "name": "stdout",
     "output_type": "stream",
     "text": [
      "apple\n",
      "banana\n",
      "cherry\n"
     ]
    }
   ],
   "source": [
    "# 리스트의 각 항목에 접근하려면 인덱스를 사용한다. 인덱스는 0부터 시작한다.\n",
    "fruits = ['apple', 'banana', 'cherry']\n",
    "print(fruits[0]) # 첫 번짹 항목의 인덱스는 0\n",
    "print(fruits[1]) # 두 번째 항목의 인덱스는 1\n",
    "print(fruits[2]) # 세 번째 항목의 인덱스는 2\n",
    "   "
   ]
  },
  {
   "cell_type": "code",
   "execution_count": 16,
   "id": "f3267911",
   "metadata": {},
   "outputs": [
    {
     "name": "stdout",
     "output_type": "stream",
     "text": [
      "5\n",
      "3\n",
      "1\n"
     ]
    },
    {
     "data": {
      "text/plain": [
       "6"
      ]
     },
     "execution_count": 16,
     "metadata": {},
     "output_type": "execute_result"
    }
   ],
   "source": [
    "numbers = [1, 2, 3, 4, 5, 6, 7, 8, 9, 10]\n",
    "\n",
    "print(numbers[4])  # 5번째 항목의 인덱스는 4\n",
    "print(numbers[2]) # 3번째 항목의 인덱스는 2   \n",
    "print(numbers[0]) # 첫 번째 항목의 인덱스는 0\n",
    "numbers[5]"
   ]
  },
  {
   "cell_type": "code",
   "execution_count": 26,
   "id": "00140d3e",
   "metadata": {},
   "outputs": [
    {
     "name": "stdout",
     "output_type": "stream",
     "text": [
      "['apple', 'banana']\n",
      "['banana', 'cherry']\n"
     ]
    }
   ],
   "source": [
    "# 리스트에서는 슬라이싱도 가능하다. 슬라이싱은 리스트의 일부를 선택하는 방법이다.\n",
    "\n",
    "fruits = ['apple', 'banana', 'cherry']\n",
    "print(fruits[0:2])  # 0부터 2까지의 항목을 선택 (0, 1)\n",
    "print(fruits[1:3])  # 1부터 3까지의 항목을 선택 (1, 2) 여기서 리스트의 갯수가 0~2까지이지만 2이상의 숫자를 입력하게되면 가장 마지막 항목까지 선택된다.\n"
   ]
  },
  {
   "cell_type": "code",
   "execution_count": null,
   "id": "5ad643f2",
   "metadata": {},
   "outputs": [
    {
     "name": "stdout",
     "output_type": "stream",
     "text": [
      "[1, 2, 3, 4, 5, 6, 7, 8, 9, 10, 11, 12, 13, 14, 15]\n",
      "[6, 7, 8, 9, 10, 11, 12, 13, 14, 15]\n",
      "[4, 5, 6, 7, 8]\n",
      "[1, 3, 5, 7, 9, 11, 13, 15]\n",
      "[1, 4, 7, 10, 13]\n",
      "[2, 4, 6, 8, 10, 12, 14]\n"
     ]
    }
   ],
   "source": [
    "numbers = [1, 2, 3, 4, 5, 6, 7, 8, 9, 10, 11, 12, 13, 14, 15]\n",
    "print(numbers[:17]) # 0부터 17까지의 항목을 선택 (0, 1, ..., 15)\n",
    "\n",
    "print(numbers[5:]) # 5부터 끝까지의 항목을 선택 (5, 6, ..., 15)\n",
    "\n",
    "print(numbers[3:8]) # 3부터 8까지의 항목을 선택 (3, 4, 5, 6, 7)\n",
    "\n",
    "print(numbers[0:17:2]) # 0부터 6까지의 항목을 2칸씩 건너뛰어 선택 (0, 2, 4)\n",
    "\n",
    "print(numbers[0:16:3]) # 0부터 6까지의 항목을 3칸씩 건너뛰어 선택 \n",
    "\n",
    "print(numbers[1::2]) # 1부터 끝까지의 항목을 2칸씩 건너뛰어 선택 "
   ]
  },
  {
   "cell_type": "code",
   "execution_count": null,
   "id": "7ff5ccaf",
   "metadata": {},
   "outputs": [
    {
     "name": "stdout",
     "output_type": "stream",
     "text": [
      "['apple', 'kiwi', 'cherry']\n"
     ]
    }
   ],
   "source": [
    "# 항목변경 | 리스트는 리스트 내의 값도 변경할 수 있다.\n",
    "fruits = ['apple', 'banana', 'cherry']\n",
    "fruits[1] = 'kiwi'\n",
    "print(fruits)"
   ]
  },
  {
   "cell_type": "code",
   "execution_count": 40,
   "id": "61a636b4",
   "metadata": {},
   "outputs": [
    {
     "name": "stdout",
     "output_type": "stream",
     "text": [
      "['apple', 'banana', 'orange']\n"
     ]
    }
   ],
   "source": [
    "fruits = ['apple', 'banana', 'cherry']\n",
    "fruits[2] = 'orange'\n",
    "print(fruits)\n"
   ]
  },
  {
   "cell_type": "code",
   "execution_count": 52,
   "id": "117d0688",
   "metadata": {},
   "outputs": [
    {
     "name": "stdout",
     "output_type": "stream",
     "text": [
      "['apple', 'banana', 'cherry', 'orange']\n"
     ]
    }
   ],
   "source": [
    "# 항목추가 | 리스트에 항목을 추가하려면 append() 메서드를 사용한다.\n",
    "\n",
    "fruits = ['apple', 'banana', 'cherry']  \n",
    "fruits.append('orange')  # 'orange' 항목을 추가\n",
    "print(fruits)  # ['apple', 'banana', 'cherry', 'orange']\n"
   ]
  },
  {
   "cell_type": "code",
   "execution_count": null,
   "id": "426c965a",
   "metadata": {},
   "outputs": [
    {
     "ename": "TypeError",
     "evalue": "list.append() takes exactly one argument (2 given)",
     "output_type": "error",
     "traceback": [
      "\u001b[31m---------------------------------------------------------------------------\u001b[39m",
      "\u001b[31mTypeError\u001b[39m                                 Traceback (most recent call last)",
      "\u001b[36mCell\u001b[39m\u001b[36m \u001b[39m\u001b[32mIn[61]\u001b[39m\u001b[32m, line 3\u001b[39m\n\u001b[32m      1\u001b[39m fruits = [\u001b[33m'\u001b[39m\u001b[33mapple\u001b[39m\u001b[33m'\u001b[39m, \u001b[33m'\u001b[39m\u001b[33mbanana\u001b[39m\u001b[33m'\u001b[39m, \u001b[33m'\u001b[39m\u001b[33mcherry\u001b[39m\u001b[33m'\u001b[39m]\n\u001b[32m----> \u001b[39m\u001b[32m3\u001b[39m \u001b[43mfruits\u001b[49m\u001b[43m.\u001b[49m\u001b[43mappend\u001b[49m\u001b[43m(\u001b[49m\u001b[33;43m'\u001b[39;49m\u001b[33;43mmango\u001b[39;49m\u001b[33;43m'\u001b[39;49m\u001b[43m,\u001b[49m\u001b[43m \u001b[49m\u001b[33;43m'\u001b[39;49m\u001b[33;43mkiwi\u001b[39;49m\u001b[33;43m'\u001b[39;49m\u001b[43m)\u001b[49m\n\u001b[32m      4\u001b[39m \u001b[38;5;28mprint\u001b[39m(fruits)\n\u001b[32m      7\u001b[39m fruits.append(\u001b[33m'\u001b[39m\u001b[33mmango\u001b[39m\u001b[33m'\u001b[39m)\n",
      "\u001b[31mTypeError\u001b[39m: list.append() takes exactly one argument (2 given)"
     ]
    }
   ],
   "source": [
    "fruits = ['apple', 'banana', 'cherry']\n",
    "\n",
    "fruits.append('mango', 'kiwi')\n",
    "print(fruits)\n",
    "\n",
    "# .append는 한번에 하나의 항목만 추가가 가능하다"
   ]
  },
  {
   "cell_type": "code",
   "execution_count": null,
   "id": "bb3d497e",
   "metadata": {},
   "outputs": [
    {
     "name": "stdout",
     "output_type": "stream",
     "text": [
      "['apple', 'banana', 'cherry', 'mango']\n",
      "['apple', 'banana', 'cherry', 'mango', 'kiwi']\n"
     ]
    }
   ],
   "source": [
    "fruits = ['apple', 'banana', 'cherry']\n",
    "\n",
    "fruits.append('mango')\n",
    "print(fruits)\n",
    "\n",
    "fruits.append('kiwi')\n",
    "print(fruits)"
   ]
  },
  {
   "cell_type": "code",
   "execution_count": null,
   "id": "1430c761",
   "metadata": {},
   "outputs": [
    {
     "name": "stdout",
     "output_type": "stream",
     "text": [
      "['apple', 'cherry', 'orange']\n"
     ]
    }
   ],
   "source": [
    "# 항목제거 | 리스트에서 항목을 제거하려면 remove() 메서드를 사용한다.\n",
    "\n",
    "fruits = ['apple', 'banana', 'cherry', 'orange']\n",
    "\n",
    "fruits.remove('banana')  # 'banana' 항목을 제거\n",
    "print(fruits) "
   ]
  },
  {
   "cell_type": "code",
   "execution_count": 65,
   "id": "8e5c03a1",
   "metadata": {},
   "outputs": [
    {
     "name": "stdout",
     "output_type": "stream",
     "text": [
      "['apple', 'banana', 'mango', 'kiwi']\n"
     ]
    }
   ],
   "source": [
    "fruits = ['apple', 'banana', 'cherry', 'mango', 'kiwi']\n",
    "\n",
    "fruits.remove('cherry') # 'cherry' 항목을 제거\n",
    "print(fruits)\n"
   ]
  },
  {
   "cell_type": "code",
   "execution_count": null,
   "id": "6a84b6c3",
   "metadata": {},
   "outputs": [
    {
     "name": "stdout",
     "output_type": "stream",
     "text": [
      "3\n"
     ]
    },
    {
     "data": {
      "text/plain": [
       "3"
      ]
     },
     "execution_count": 48,
     "metadata": {},
     "output_type": "execute_result"
    }
   ],
   "source": [
    "# 리스트 길이 알아내기 | len() 함수를 사용하여 리스트의 길이를 알아낼 수 있다.\n",
    "\n",
    "fruits = ['apple', 'banana', 'cherry']\n",
    "print(len(fruits))  # 리스트의 길이 출력 (3)\n",
    "len(fruits)  # 리스트의 길이 출력 (3)"
   ]
  },
  {
   "cell_type": "code",
   "execution_count": 67,
   "id": "d6cbbb8e",
   "metadata": {},
   "outputs": [
    {
     "name": "stdout",
     "output_type": "stream",
     "text": [
      "15\n"
     ]
    },
    {
     "data": {
      "text/plain": [
       "15"
      ]
     },
     "execution_count": 67,
     "metadata": {},
     "output_type": "execute_result"
    }
   ],
   "source": [
    "numbers = [1, 2, 3, 4, 5, 6, 7, 8, 9, 10, 11, 12, 13, 14, 15]\n",
    "print(len(numbers))\n",
    "\n",
    "len(numbers)"
   ]
  },
  {
   "cell_type": "code",
   "execution_count": null,
   "id": "c2c0ce61",
   "metadata": {},
   "outputs": [
    {
     "name": "stdout",
     "output_type": "stream",
     "text": [
      "['apple', 'banana', 'cherry']\n"
     ]
    }
   ],
   "source": [
    "# 리스트 정렬하기 | sort() 메서드를 사용하여 리스트를 정렬할 수 있다. 이때, 정렬은 오름차순으로 이루어진다.\n",
    "\n",
    "fruits = ['banana', 'apple', 'cherry']\n",
    "\n",
    "fruits.sort()  # 리스트를 오름차순으로 정렬\n",
    "print(fruits) \n"
   ]
  },
  {
   "cell_type": "code",
   "execution_count": 71,
   "id": "328a838c",
   "metadata": {},
   "outputs": [
    {
     "name": "stdout",
     "output_type": "stream",
     "text": [
      "[1, 2, 8, 11, 26, 45, 111, 746, 812, 167431]\n"
     ]
    }
   ],
   "source": [
    "numbers = [1, 2, 11, 26, 746, 45, 111, 167431, 812, 8]\n",
    "\n",
    "numbers.sort()\n",
    "print(numbers)"
   ]
  }
 ],
 "metadata": {
  "kernelspec": {
   "display_name": "Python 3",
   "language": "python",
   "name": "python3"
  },
  "language_info": {
   "codemirror_mode": {
    "name": "ipython",
    "version": 3
   },
   "file_extension": ".py",
   "mimetype": "text/x-python",
   "name": "python",
   "nbconvert_exporter": "python",
   "pygments_lexer": "ipython3",
   "version": "3.13.5"
  }
 },
 "nbformat": 4,
 "nbformat_minor": 5
}
