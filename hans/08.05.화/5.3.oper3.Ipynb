{
 "cells": [
  {
   "cell_type": "markdown",
   "id": "8886b26d",
   "metadata": {},
   "source": [
    "### 논리곱연산 ( and = 곱하기 )"
   ]
  },
  {
   "cell_type": "code",
   "execution_count": 2,
   "id": "935962c3",
   "metadata": {},
   "outputs": [
    {
     "name": "stdout",
     "output_type": "stream",
     "text": [
      "True\n",
      "False\n",
      "False\n",
      "False\n",
      "False\n"
     ]
    }
   ],
   "source": [
    "print(True and True)   # 결과: True ex) True  = 1, False = 0 이니까 1 and 1 = 1 x 1 = 1 \n",
    "print(True and False)  # 결과: False ex)1 and 0 = 1 x 0 = 0 이니까 False\n",
    "print(False and True)  # 결과: False ex) 0 and 1 =  0 x 1 = 0 이니까 False\n",
    "print(False and False) # 결과: False ex) 0 and 0 = o x o = 0 이니까 False\n",
    "\n",
    "\n",
    "print(5 > 3 and 4 < 3) # 결과: False 5는 3보다 크지만 4는 3보다 작지 않으니까 False\n",
    "print(5 > 3 and 4 > 3) # 결과: True 5는 3보다 크고 4도 3보다 크니까 True    "
   ]
  },
  {
   "cell_type": "code",
   "execution_count": 7,
   "id": "134b4a4a",
   "metadata": {},
   "outputs": [
    {
     "name": "stdout",
     "output_type": "stream",
     "text": [
      "True\n",
      "False\n",
      "False\n",
      "False\n"
     ]
    }
   ],
   "source": [
    "print(12 < 13 and 8 > 3) \n",
    "print(12>13 and 8 > 3)\n",
    "print(12 < 13 and 8 < 3)\n",
    "print(12 > 13 and 8 < 3)"
   ]
  },
  {
   "cell_type": "markdown",
   "id": "4d27c4ef",
   "metadata": {},
   "source": [
    "### 논리 합 연산자 ( or = 더하기 )"
   ]
  },
  {
   "cell_type": "code",
   "execution_count": 9,
   "id": "9eee5caa",
   "metadata": {},
   "outputs": [
    {
     "name": "stdout",
     "output_type": "stream",
     "text": [
      "True\n",
      "True\n",
      "True\n",
      "False\n",
      "True\n",
      "True\n",
      "False\n"
     ]
    }
   ],
   "source": [
    "print(True or True)   # 결과: True ex) True  = 1, False = 0 이니까 1 or 1 = 1 + 1 = 1 이니까 True\n",
    "print(True or False)  # 결과: True (and와 차이점) ex) 1 or 0 = 1 + 0 = 1 이니까 True\n",
    "print(False or True)  # 결과: True (and와 차이점) ex) 0 or 1 = 0 + 1 = 1 이니까 True\n",
    "print(False or False) # 결과: False ex) 0 or 0 = 0 + 0 = 0 이니까 False\n",
    "\n",
    "\n",
    "print(5 > 3 or 4 < 3) # 결과: True ex)5는 3보다 크고 4는 3보다 작지 않으니까 1 + 0 = 1 이니까 True  \n",
    "print(5 > 3 or 4 > 3) # 결과: True ex)5는 3보다 크고 4도 3보다 크니까 1 + 1 = 2 이니까 True\n",
    "print(5 < 3 or 4 < 3) # 결과: False ex)5는 3보다 작지 않고 4도 3보다 작지 않으니까 0 + 0 = 0 이니까 False"
   ]
  },
  {
   "cell_type": "code",
   "execution_count": 13,
   "id": "4e69d00f",
   "metadata": {},
   "outputs": [
    {
     "name": "stdout",
     "output_type": "stream",
     "text": [
      "True\n",
      "False\n",
      "True\n",
      "True\n"
     ]
    }
   ],
   "source": [
    "print(10 < 5 or 11 > 3) #ex) 10은 5보다 작지 않고 11은 3보다 크니까 0 + 1 = 1 이니까 True\n",
    "print(10 < 5 or 11 < 3) # ex) 10은 5보다 작지 않고 11도 3보다 작지 않으니까 0 + 0 = 0 이니까 False\n",
    "print(10 > 5 or 11 < 3) # ex) 10은 5보다 크고 11은 3보다 작지 않으니까 1 + 0 = 1 이니까 True\n",
    "print(10 > 5 or 11 > 3) # ex) 10은 5보다 크고 11도 3보다 크니까 1 + 1 = 2 이니까 True\n"
   ]
  },
  {
   "cell_type": "markdown",
   "id": "737d1e12",
   "metadata": {},
   "source": [
    "### not 연산자 ( 조건의 반대 값으로 변환 ) "
   ]
  },
  {
   "cell_type": "code",
   "execution_count": 15,
   "id": "ad9bc389",
   "metadata": {},
   "outputs": [
    {
     "name": "stdout",
     "output_type": "stream",
     "text": [
      "False\n",
      "True\n"
     ]
    }
   ],
   "source": [
    "print(not True)  # 결과: False\n",
    "print(not False) # 결과: True"
   ]
  },
  {
   "cell_type": "code",
   "execution_count": 29,
   "id": "397deab6",
   "metadata": {},
   "outputs": [
    {
     "name": "stdout",
     "output_type": "stream",
     "text": [
      "False\n",
      "False\n",
      "True\n",
      "True\n",
      "False\n"
     ]
    }
   ],
   "source": [
    "a = 10 < 5 or 11 > 3\n",
    "print(not a)\n",
    "\n",
    "print(not (10 < 5 or 11 > 3)) # 결과: False\n",
    "print(not (10 < 5 or 11 < 3)) # 결과: True\n",
    "\n",
    "print(not(not(a) and (a)))\n",
    "\n",
    "print(not((a) and(a)))\n",
    "          "
   ]
  }
 ],
 "metadata": {
  "kernelspec": {
   "display_name": "Python 3",
   "language": "python",
   "name": "python3"
  },
  "language_info": {
   "codemirror_mode": {
    "name": "ipython",
    "version": 3
   },
   "file_extension": ".py",
   "mimetype": "text/x-python",
   "name": "python",
   "nbconvert_exporter": "python",
   "pygments_lexer": "ipython3",
   "version": "3.13.5"
  }
 },
 "nbformat": 4,
 "nbformat_minor": 5
}
