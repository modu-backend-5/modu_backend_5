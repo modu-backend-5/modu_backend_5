{
 "cells": [
  {
   "cell_type": "markdown",
   "id": "0b82c89f",
   "metadata": {},
   "source": [
    "### 다차원 리스트와 Built-in functions, range, list comprehension"
   ]
  },
  {
   "cell_type": "code",
   "execution_count": null,
   "id": "cca14f1d",
   "metadata": {},
   "outputs": [
    {
     "name": "stdout",
     "output_type": "stream",
     "text": [
      "<class 'list'>\n",
      "<class 'list'>\n",
      "<class 'list'>\n",
      "['l', 'e', 'e', 'h', 'o', 'j', 'u', 'n']\n",
      "l\n"
     ]
    }
   ],
   "source": [
    "#1차원 리스트\n",
    "\n",
    "a = [100000, 2, 1, 3]\n",
    "print(type(a))\n",
    "\n",
    "a = list()\n",
    "print(type(a))\n",
    "\n",
    "a = list('leehojun') #형변환\n",
    "print(type(a))\n",
    "print(a)\n",
    "print(a[0])\n"
   ]
  },
  {
   "cell_type": "code",
   "execution_count": 6,
   "id": "981161ec",
   "metadata": {},
   "outputs": [
    {
     "name": "stdout",
     "output_type": "stream",
     "text": [
      "[1, 2, 3]\n",
      "3\n",
      "[11, 22, 33]\n",
      "22\n"
     ]
    }
   ],
   "source": [
    "#2차원 리스트\n",
    "a = [[1, 2, 3],\n",
    "     [11, 22, 33],\n",
    "     [10, 20, 30]]\n",
    "\n",
    "print(a[0])\n",
    "print(a[0][2])\n",
    "print(a[1])\n",
    "print(a[1][1])"
   ]
  },
  {
   "cell_type": "code",
   "execution_count": 7,
   "id": "785a6528",
   "metadata": {},
   "outputs": [
    {
     "data": {
      "text/plain": [
       "'leehojun'"
      ]
     },
     "execution_count": 7,
     "metadata": {},
     "output_type": "execute_result"
    }
   ],
   "source": [
    "#3차원 리스트\n",
    "a = [[[1, 2], [1, 2], [1, 2]],\n",
    "    [['leehojun', 2], [1, 2], [1, 2]]]\n",
    "\n",
    "a[1][0][0]"
   ]
  },
  {
   "cell_type": "code",
   "execution_count": 9,
   "id": "a2be1fe7",
   "metadata": {},
   "outputs": [
    {
     "name": "stdout",
     "output_type": "stream",
     "text": [
      "8\n",
      "1\n",
      "36\n"
     ]
    }
   ],
   "source": [
    "# 리스트 관련 내장함수\n",
    "a = [1, 2, 3, 4, 5, 6, 7, 8]\n",
    "print(max(a))\n",
    "print(min(a))\n",
    "print(sum(a))"
   ]
  },
  {
   "cell_type": "code",
   "execution_count": 10,
   "id": "12fe0630",
   "metadata": {},
   "outputs": [
    {
     "data": {
      "text/plain": [
       "[1, 2, 3, 11, 22, 33, 10, 2000, 30]"
      ]
     },
     "execution_count": 10,
     "metadata": {},
     "output_type": "execute_result"
    }
   ],
   "source": [
    "#2차원\n",
    "a = [[1, 2, 3],\n",
    "     [11, 22, 33],\n",
    "     [10, 2000, 30]]\n",
    "# max(a)\n",
    "# min(a)\n",
    "# sum(a)\n",
    "# max(a, key=lambda x:x[1])\n",
    "# min(a, key=lambda x:x[1])\n",
    "sum(a, [])"
   ]
  },
  {
   "cell_type": "code",
   "execution_count": 19,
   "id": "dd2b22da",
   "metadata": {},
   "outputs": [
    {
     "name": "stdout",
     "output_type": "stream",
     "text": [
      "[0, 1, 2, 3, 4, 5, 6, 7, 8, 9, 10, 11, 12, 13, 14, 15, 16, 17, 18, 19, 20, 21, 22, 23, 24, 25, 26, 27, 28, 29, 30, 31, 32, 33, 34, 35, 36, 37, 38, 39, 40, 41, 42, 43, 44, 45, 46, 47, 48, 49, 50, 51, 52, 53, 54, 55, 56, 57, 58, 59, 60, 61, 62, 63, 64, 65, 66, 67, 68, 69, 70, 71, 72, 73, 74, 75, 76, 77, 78, 79, 80, 81, 82, 83, 84, 85, 86, 87, 88, 89, 90, 91, 92, 93, 94, 95, 96, 97, 98, 99]\n",
      "[5, 6, 7, 8, 9]\n",
      "[0, 2, 4, 6, 8, 10, 12, 14, 16, 18, 20, 22, 24, 26, 28, 30, 32, 34, 36, 38, 40, 42, 44, 46, 48, 50, 52, 54, 56, 58, 60, 62, 64, 66, 68, 70, 72, 74, 76, 78, 80, 82, 84, 86, 88, 90, 92, 94, 96, 98, 100]\n",
      "[1, 3, 5, 7, 9, 11, 13, 15, 17, 19, 21, 23, 25, 27, 29, 31, 33, 35, 37, 39, 41, 43, 45, 47, 49, 51, 53, 55, 57, 59, 61, 63, 65, 67, 69, 71, 73, 75, 77, 79, 81, 83, 85, 87, 89, 91, 93, 95, 97, 99]\n",
      "[100, 98, 96, 94, 92, 90, 88, 86, 84, 82, 80, 78, 76, 74, 72, 70, 68, 66, 64, 62, 60, 58, 56, 54, 52, 50, 48, 46, 44, 42, 40, 38, 36, 34, 32, 30, 28, 26, 24, 22, 20, 18, 16, 14, 12, 10, 8, 6, 4, 2]\n"
     ]
    }
   ],
   "source": [
    "# range( )\n",
    "# range는 범위 표현 용도\n",
    "# range(start, stop, step)은 start에서 stop-1까지 step의 간격으로 값을 출력하겠다는 의미입니다. 여기서 주의하셔야 할 점은 stop-1 값 까지만 출력한다는 점입니다.\n",
    "\n",
    "print(list(range(100)))\n",
    "print(list(range(5, 10)))\n",
    "\n",
    "#print(list(range(start, stop, step)))\n",
    "print(list(range(0, 101, 2))) #짝수\n",
    "print(list(range(1, 101, 2))) #홀수\n",
    "\n",
    "print(list(range(100, 1, -2)))\n",
    "\n"
   ]
  }
 ],
 "metadata": {
  "kernelspec": {
   "display_name": "Python 3",
   "language": "python",
   "name": "python3"
  },
  "language_info": {
   "codemirror_mode": {
    "name": "ipython",
    "version": 3
   },
   "file_extension": ".py",
   "mimetype": "text/x-python",
   "name": "python",
   "nbconvert_exporter": "python",
   "pygments_lexer": "ipython3",
   "version": "3.13.5"
  }
 },
 "nbformat": 4,
 "nbformat_minor": 5
}
