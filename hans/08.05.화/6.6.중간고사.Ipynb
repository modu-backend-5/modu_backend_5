{
 "cells": [
  {
   "cell_type": "markdown",
   "id": "d593d666",
   "metadata": {},
   "source": [
    "# 중간고사"
   ]
  },
  {
   "cell_type": "markdown",
   "id": "b30ff69e",
   "metadata": {},
   "source": [
    "## 문제 1 \n",
    "### 다음 학생 점수의 평균을 구하세요."
   ]
  },
  {
   "cell_type": "code",
   "execution_count": 69,
   "id": "07ceb451",
   "metadata": {},
   "outputs": [
    {
     "name": "stdout",
     "output_type": "stream",
     "text": [
      "전체 학생 평균점수: 80.4\n"
     ]
    }
   ],
   "source": [
    "student_score = {\n",
    "    '홍의': 97,\n",
    "    '원희': 60,\n",
    "    '동해': 77,\n",
    "    '변수': 79,\n",
    "    '창현': 89,\n",
    "}\n",
    "\n",
    "student_avg = student_score['홍의'] + student_score['원희'] + student_score['동해'] + student_score['변수'] + student_score['창현']\n",
    "\n",
    "print('전체 학생 평균점수:',student_avg / len(student_score))\n"
   ]
  },
  {
   "cell_type": "code",
   "execution_count": null,
   "id": "a0330a2c",
   "metadata": {},
   "outputs": [
    {
     "data": {
      "text/plain": [
       "80.4"
      ]
     },
     "execution_count": 109,
     "metadata": {},
     "output_type": "execute_result"
    }
   ],
   "source": [
    "# 추가 풀이 08.06\n",
    "student_score = {\n",
    "    '홍의': 97,\n",
    "    '원희': 60,\n",
    "    '동해': 77,\n",
    "    '변수': 79,\n",
    "    '창현': 89,\n",
    "}\n",
    "\n",
    "sum(list(student_score.values())) / len(student_score)\n"
   ]
  },
  {
   "cell_type": "markdown",
   "id": "33fd7552",
   "metadata": {},
   "source": [
    "## 문제 2\n",
    "### 다음 점수는 학생들의 국,영,수 점수입니다. 모든 학생의 평균을 구하세요."
   ]
  },
  {
   "cell_type": "code",
   "execution_count": 72,
   "id": "bfbdf044",
   "metadata": {},
   "outputs": [
    {
     "name": "stdout",
     "output_type": "stream",
     "text": [
      "0번 학생 평균점수: 20.0\n",
      "1번 학생 평균점수: 50.0\n",
      "2번 학생 평균점수: 80.0\n"
     ]
    }
   ],
   "source": [
    "student_score = [\n",
    "    [10, 20, 30], \n",
    "    [40, 50, 60], \n",
    "    [70, 80, 90]\n",
    "]\n",
    "\n",
    "x = student_score[0]\n",
    "y = student_score[1]\n",
    "z = student_score[2]\n",
    "\n",
    "x1 = x[0] + x[1] + x[2] \n",
    "y1 = y[0] + y[1] + y[2]\n",
    "z1 = z[0] + z[1] + z[2]\n",
    "\n",
    "print('0번 학생 평균점수:', x1 / len(x))\n",
    "print('1번 학생 평균점수:', y1 / len(y))\n",
    "print('2번 학생 평균점수:', z1 / len(z))"
   ]
  },
  {
   "cell_type": "code",
   "execution_count": 100,
   "id": "f73c864f",
   "metadata": {},
   "outputs": [
    {
     "name": "stdout",
     "output_type": "stream",
     "text": [
      "0번 학생 평균점수: 20.0\n",
      "1번 학생 평균점수: 50.0\n",
      "2번 학생 평균점수: 80.0\n"
     ]
    }
   ],
   "source": [
    "# 추가 풀이 08.06\n",
    "\n",
    "student_score = [\n",
    "    [10, 20, 30], \n",
    "    [40, 50, 60], \n",
    "    [70, 80, 90]\n",
    "]\n",
    "\n",
    "print('0번 학생 평균점수:', sum(student_score[0]) / len(student_score[0]))\n",
    "print('1번 학생 평균점수:', sum(student_score[1]) / len(student_score[1]))\n",
    "print('2번 학생 평균점수:', sum(student_score[2]) / len(student_score[2]))"
   ]
  },
  {
   "cell_type": "markdown",
   "id": "de38511c",
   "metadata": {},
   "source": [
    "## 문제 3\n",
    "### 다음 점수는 학생들의 국, 영, 수 점수입니다. 평균이 50점 이상인 학생이 몇 명 있는지 구하세요."
   ]
  },
  {
   "cell_type": "code",
   "execution_count": 113,
   "id": "61b4b475",
   "metadata": {},
   "outputs": [
    {
     "name": "stdout",
     "output_type": "stream",
     "text": [
      "평균 50점이상 학생수: 2\n"
     ]
    }
   ],
   "source": [
    "student_score = [\n",
    "    [10, 20, 30], \n",
    "    [40, 50, 60], \n",
    "    [70, 80, 90]\n",
    "]\n",
    "\n",
    "x = student_score[0]\n",
    "y = student_score[1]\n",
    "z = student_score[2]\n",
    "\n",
    "x1 = x[0] + x[1] + x[2] \n",
    "y1 = y[0] + y[1] + y[2]\n",
    "z1 = z[0] + z[1] + z[2]\n",
    "\n",
    "student0 = x1 / len(x)\n",
    "student1 = y1 / len(y)\n",
    "student2 = z1 / len(z)\n",
    "\n",
    "print('평균 50점이상 학생수:', int(student0>=50) + int(student1>=50) + int(student2>=50))\n"
   ]
  },
  {
   "cell_type": "code",
   "execution_count": 112,
   "id": "57d99b40",
   "metadata": {},
   "outputs": [
    {
     "name": "stdout",
     "output_type": "stream",
     "text": [
      "평균 50점이상 학생수: 2\n"
     ]
    }
   ],
   "source": [
    "# 추가 풀이 08.06\n",
    "\n",
    "student_score = [\n",
    "    [10, 20, 30], \n",
    "    [40, 50, 60], \n",
    "    [70, 80, 90]\n",
    "]\n",
    "\n",
    "x = sum(student_score[0]) / len(student_score[0])\n",
    "y = sum(student_score[1]) / len(student_score[1])\n",
    "z = sum(student_score[2]) / len(student_score[2])\n",
    "\n",
    "print('평균 50점이상 학생수:',int(x >= 50) + int(y >= 50) + int(z >= 50))"
   ]
  }
 ],
 "metadata": {
  "kernelspec": {
   "display_name": "Python 3",
   "language": "python",
   "name": "python3"
  },
  "language_info": {
   "codemirror_mode": {
    "name": "ipython",
    "version": 3
   },
   "file_extension": ".py",
   "mimetype": "text/x-python",
   "name": "python",
   "nbconvert_exporter": "python",
   "pygments_lexer": "ipython3",
   "version": "3.13.5"
  }
 },
 "nbformat": 4,
 "nbformat_minor": 5
}
