{
 "cells": [
  {
   "cell_type": "code",
   "execution_count": 1,
   "id": "502f6b1b",
   "metadata": {},
   "outputs": [
    {
     "name": "stdout",
     "output_type": "stream",
     "text": [
      "11 False 8\n"
     ]
    }
   ],
   "source": [
    "x = 10\n",
    "x = x + 1\n",
    "y = True and False\n",
    "z = 5 + 3\n",
    "\n",
    "\n",
    "print(x, y, z)"
   ]
  },
  {
   "cell_type": "markdown",
   "id": "ed9fdbf6",
   "metadata": {},
   "source": [
    "### 대입값 ( 대입 값은 = 앞의 연산자를 = 뒤에 적용한 후 대립 시킨다)\n"
   ]
  },
  {
   "cell_type": "code",
   "execution_count": 7,
   "id": "7bdeb8f9",
   "metadata": {},
   "outputs": [
    {
     "name": "stdout",
     "output_type": "stream",
     "text": [
      "5\n"
     ]
    }
   ],
   "source": [
    "# 몫 대입\n",
    "# //= | 몫 대입 | a //= b | a = a // b \n",
    "x = 10\n",
    "y = 2\n",
    "\n",
    "x //= y # x = 10 // 2 = 5\n",
    "print(x)\n"
   ]
  },
  {
   "cell_type": "code",
   "execution_count": 9,
   "id": "426b1a33",
   "metadata": {},
   "outputs": [
    {
     "name": "stdout",
     "output_type": "stream",
     "text": [
      "8\n"
     ]
    }
   ],
   "source": [
    "# 뺼셈 대입\n",
    "# -= | 뺄셈 대입 | a -= b | a = a - b \n",
    "x = 10\n",
    "y = 2\n",
    "\n",
    "x -= y # x = 10 - 2 = 8\n",
    "print(x)\n"
   ]
  },
  {
   "cell_type": "code",
   "execution_count": 11,
   "id": "faf3bc9c",
   "metadata": {},
   "outputs": [
    {
     "name": "stdout",
     "output_type": "stream",
     "text": [
      "100\n"
     ]
    }
   ],
   "source": [
    "#  제곱 대입\n",
    "# **= | 제곱 대입 | a **= b | a = a ** b\n",
    "x = 10  \n",
    "y = 2\n",
    "\n",
    "x **= y # x = 10 ** 2 = 100\n",
    "print(x)\n"
   ]
  },
  {
   "cell_type": "code",
   "execution_count": 13,
   "id": "24dc3f84",
   "metadata": {},
   "outputs": [
    {
     "name": "stdout",
     "output_type": "stream",
     "text": [
      "42\n"
     ]
    }
   ],
   "source": [
    "# 곱셈 대입\n",
    "# *= | 곱셈 대입 | a *= b | a = a * b\n",
    "x  = 14\n",
    "y  = 3\n",
    "\n",
    "x *= y # x = 14 * 3 = 42\n",
    "print(x)"
   ]
  },
  {
   "cell_type": "code",
   "execution_count": 15,
   "id": "7af58f32",
   "metadata": {},
   "outputs": [
    {
     "name": "stdout",
     "output_type": "stream",
     "text": [
      "18\n"
     ]
    }
   ],
   "source": [
    "# 덧셈 대입\n",
    "# += | 덧셈 대입 | a += b | a = a + b\n",
    "x = 13\n",
    "y = 5\n",
    "\n",
    "x += y # x = 13 + 5 = 18\n",
    "print(x)    "
   ]
  },
  {
   "cell_type": "code",
   "execution_count": 17,
   "id": "fd6ecbc4",
   "metadata": {},
   "outputs": [
    {
     "name": "stdout",
     "output_type": "stream",
     "text": [
      "3\n"
     ]
    }
   ],
   "source": [
    "# 나머지 대입\n",
    "# %= | 나머지 대입 | a %= b | a = a % b\n",
    "x = 11\n",
    "y = 8\n",
    "x %= y # x = 11 % 8 = 3\n",
    "print(x)\n"
   ]
  },
  {
   "cell_type": "code",
   "execution_count": 19,
   "id": "9104f7a8",
   "metadata": {},
   "outputs": [
    {
     "name": "stdout",
     "output_type": "stream",
     "text": [
      "6.0\n"
     ]
    }
   ],
   "source": [
    "# 나눗셈 대입\n",
    "# /= | 나눗셈 대입 | a /= b | a = a / b\n",
    "x = 12\n",
    "y = 2\n",
    "x /= y # x = 12 / 2 = 6.0\n",
    "print(x)\n"
   ]
  },
  {
   "cell_type": "code",
   "execution_count": 21,
   "id": "4183164c",
   "metadata": {},
   "outputs": [
    {
     "name": "stdout",
     "output_type": "stream",
     "text": [
      "20\n"
     ]
    }
   ],
   "source": [
    "# 대입\n",
    "# = | 대입 | a = b | a는 b의 값을 갖는다\n",
    "x = 10\n",
    "y = 20\n",
    "x = y # x는 y의 값을 갖는다\n",
    "print(x) "
   ]
  },
  {
   "cell_type": "code",
   "execution_count": 23,
   "id": "c9b74a33",
   "metadata": {},
   "outputs": [
    {
     "name": "stdout",
     "output_type": "stream",
     "text": [
      "25\n"
     ]
    }
   ],
   "source": [
    "x = 5\n",
    "y = 2\n",
    "z = 10\n",
    "\n",
    "\n",
    "x += y * z # x = 5 + 2 * 10 = 25\n",
    "print(x) \n"
   ]
  },
  {
   "cell_type": "code",
   "execution_count": 28,
   "id": "008d94df",
   "metadata": {},
   "outputs": [
    {
     "name": "stdout",
     "output_type": "stream",
     "text": [
      "1.0\n"
     ]
    }
   ],
   "source": [
    "x = 5\n",
    "y = 2\n",
    "z = 10\n",
    "\n",
    "\n",
    "x *= y / z \n",
    "print(x) "
   ]
  },
  {
   "cell_type": "code",
   "execution_count": 29,
   "id": "36eb093e",
   "metadata": {},
   "outputs": [
    {
     "name": "stdout",
     "output_type": "stream",
     "text": [
      "0\n"
     ]
    }
   ],
   "source": [
    "x = 5\n",
    "y = 2\n",
    "z = 10\n",
    "\n",
    "\n",
    "x *= y // z # 나머지가 없기 때문에 0 으로 출력됩니다.\n",
    "print(x) "
   ]
  }
 ],
 "metadata": {
  "kernelspec": {
   "display_name": "Python 3",
   "language": "python",
   "name": "python3"
  },
  "language_info": {
   "codemirror_mode": {
    "name": "ipython",
    "version": 3
   },
   "file_extension": ".py",
   "mimetype": "text/x-python",
   "name": "python",
   "nbconvert_exporter": "python",
   "pygments_lexer": "ipython3",
   "version": "3.13.5"
  }
 },
 "nbformat": 4,
 "nbformat_minor": 5
}
