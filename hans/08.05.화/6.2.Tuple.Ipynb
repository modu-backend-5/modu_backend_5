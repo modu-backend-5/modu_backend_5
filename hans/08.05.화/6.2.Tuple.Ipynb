{
 "cells": [
  {
   "cell_type": "markdown",
   "id": "560e9c0e",
   "metadata": {},
   "source": [
    "### 튜플 (리스트와 비슷하지만 한 번 생성하면 내용 변경이 불가) | ( ) 소괄호 사용"
   ]
  },
  {
   "cell_type": "code",
   "execution_count": 2,
   "id": "98f9b918",
   "metadata": {},
   "outputs": [
    {
     "name": "stdout",
     "output_type": "stream",
     "text": [
      "(1, 'hello', 3.14)\n"
     ]
    }
   ],
   "source": [
    "my_tuple = (1, 'hello', 3.14) # 리스트와 같이 모든 열을 섞어서 사용가능\n",
    "print(my_tuple)"
   ]
  },
  {
   "cell_type": "code",
   "execution_count": 6,
   "id": "01ceb5db",
   "metadata": {},
   "outputs": [
    {
     "name": "stdout",
     "output_type": "stream",
     "text": [
      "(1, 2, 3) ('apple', 'banana', 'cherry')\n",
      "(1, 2, 3, 'apple', 'banana', 'cherry')\n"
     ]
    }
   ],
   "source": [
    "x = (1, 2, 3)\n",
    "y = ('apple', 'banana', 'cherry')\n",
    "print(x,y)\n",
    "\n",
    "print(x + y)"
   ]
  },
  {
   "cell_type": "code",
   "execution_count": null,
   "id": "d10ef8e8",
   "metadata": {},
   "outputs": [
    {
     "name": "stdout",
     "output_type": "stream",
     "text": [
      "첫 번째 과일: apple\n",
      "두 번째 과일: banana\n",
      "마지막 과일: cherry\n"
     ]
    }
   ],
   "source": [
    "# 튜플 인덱싱 | 리스트와 마찬가지로 인덱스를 사용하여 각 항목에 접근 할 수 있다\n",
    "\n",
    "fruits = ('apple', 'banana', 'cherry')\n",
    "\n",
    "print(\"첫 번째 과일:\", fruits[0])\n",
    "print(\"두 번째 과일:\", fruits[1])\n",
    "print(\"마지막 과일:\", fruits[2])"
   ]
  },
  {
   "cell_type": "code",
   "execution_count": 13,
   "id": "4c21b4f1",
   "metadata": {},
   "outputs": [
    {
     "name": "stdout",
     "output_type": "stream",
     "text": [
      "세 번째 숫자: 3\n",
      "여섯 번째 숫자: 6\n"
     ]
    }
   ],
   "source": [
    "x = (1, 2, 3, 4, 5, 6, 7)\n",
    "\n",
    "print(\"세 번째 숫자:\", x[2])\n",
    "print(\"여섯 번째 숫자:\", x[5])\n"
   ]
  },
  {
   "cell_type": "code",
   "execution_count": 23,
   "id": "8ebdaacd",
   "metadata": {},
   "outputs": [
    {
     "name": "stdout",
     "output_type": "stream",
     "text": [
      "9\n",
      "9\n",
      "9\n",
      "9\n"
     ]
    }
   ],
   "source": [
    "x = (1, 3, 5, 7)\n",
    "y = (2, 4, 6, 8)\n",
    "\n",
    "# x 와 y의 튜플 데이터를 하나씩 더 해서 합이 9가 나오게 만들어보자\n",
    "\n",
    "print(x[0] + y[3])\n",
    "\n",
    "print(x[1] + y[2])\n",
    "\n",
    "print(x[2] + y[1])\n",
    "\n",
    "print(x[3] + y[0])"
   ]
  },
  {
   "cell_type": "code",
   "execution_count": 29,
   "id": "354223d1",
   "metadata": {},
   "outputs": [
    {
     "name": "stdout",
     "output_type": "stream",
     "text": [
      "처음부터 3번째까지: (0, 1, 2)\n",
      "4번째부터 7번째까지: (3, 4, 5, 6)\n",
      "짝수 번째 항목들: (0, 2, 4, 6, 8)\n"
     ]
    }
   ],
   "source": [
    "# 튜플 슬라이싱 | 튜플에서도 슬라이싱을 사용할 수 있다.\n",
    "\n",
    "numbers = (0, 1, 2, 3, 4, 5, 6, 7, 8, 9)\n",
    "print(\"처음부터 3번째까지:\", numbers[0:3])\n",
    "print(\"4번째부터 7번째까지:\", numbers[3:7])\n",
    "print(\"짝수 번째 항목들:\", numbers[::2])\n"
   ]
  },
  {
   "cell_type": "code",
   "execution_count": null,
   "id": "e66b9a6d",
   "metadata": {},
   "outputs": [
    {
     "name": "stdout",
     "output_type": "stream",
     "text": [
      "두번째부터 6번째까지: (1, 2, 3, 4, 5)\n",
      "두번재부터 7번째까지 짝수 번째 항목들: (1, 3, 5, 7)\n"
     ]
    }
   ],
   "source": [
    "numbers = (0, 1, 2, 3, 4, 5, 6, 7, 8, 9)\n",
    "\n",
    "print(\"두번째부터 6번째까지:\", numbers[1:6])\n",
    "print(\"두번재부터 7번째까지 짝수 번째 항목들:\", numbers[1:8:2])"
   ]
  },
  {
   "cell_type": "code",
   "execution_count": 37,
   "id": "9235ace5",
   "metadata": {},
   "outputs": [
    {
     "ename": "TypeError",
     "evalue": "'tuple' object does not support item assignment",
     "output_type": "error",
     "traceback": [
      "\u001b[31m---------------------------------------------------------------------------\u001b[39m",
      "\u001b[31mTypeError\u001b[39m                                 Traceback (most recent call last)",
      "\u001b[36mCell\u001b[39m\u001b[36m \u001b[39m\u001b[32mIn[37]\u001b[39m\u001b[32m, line 4\u001b[39m\n\u001b[32m      1\u001b[39m \u001b[38;5;66;03m# 튜블 불변성 | 튜플은 한번 생성되면 변경할 수 가 없다.\u001b[39;00m\n\u001b[32m      3\u001b[39m fruits = (\u001b[33m'\u001b[39m\u001b[33mapple\u001b[39m\u001b[33m'\u001b[39m, \u001b[33m'\u001b[39m\u001b[33mbanana\u001b[39m\u001b[33m'\u001b[39m, \u001b[33m'\u001b[39m\u001b[33mcherry\u001b[39m\u001b[33m'\u001b[39m)\n\u001b[32m----> \u001b[39m\u001b[32m4\u001b[39m \u001b[43mfruits\u001b[49m\u001b[43m[\u001b[49m\u001b[32;43m2\u001b[39;49m\u001b[43m]\u001b[49m = \u001b[33m'\u001b[39m\u001b[33mkiwi\u001b[39m\u001b[33m'\u001b[39m\n",
      "\u001b[31mTypeError\u001b[39m: 'tuple' object does not support item assignment"
     ]
    }
   ],
   "source": [
    "# 튜블 불변성 | 튜플은 한번 생성되면 변경할 수 가 없다.\n",
    "\n",
    "fruits = ('apple', 'banana', 'cherry')\n",
    "fruits[2] = 'kiwi'"
   ]
  },
  {
   "cell_type": "code",
   "execution_count": 50,
   "id": "6a34b642",
   "metadata": {},
   "outputs": [
    {
     "name": "stdout",
     "output_type": "stream",
     "text": [
      "숫자 1의 개수: 2\n",
      "숫자 5의 첫 번째 위치: 4\n",
      "숫자 5의 두 번째 위치: 8\n",
      "1단계 - 첫 번째 5의 위치: 4\n",
      "2단계 - 첫 번째 위치 + 1: 5\n",
      "3단계 - 두 번째 5의 위치: 8\n"
     ]
    }
   ],
   "source": [
    "# 튜플 메서드 | 튜플의 유용한 메서드 / .count(), .index()\n",
    "    # .count() : 특정 학목의 갯수 세기\n",
    "    # .index() : 특정 항목의 인덱스 찾기\n",
    "\n",
    "numbers = (3, 1, 4, 1, 5, 9, 2, 6, 5, 3)\n",
    "\n",
    "print(\"숫자 1의 개수:\", numbers.count(1))\n",
    "print(\"숫자 5의 첫 번째 위치:\", numbers.index(5))\n",
    "\n",
    "# 두번째 5의 위치 찾기\n",
    "\n",
    "print(\"숫자 5의 두 번째 위치:\", numbers.index(5,numbers.index(5)+1))\n",
    "\n",
    "# 튜플 메서드를 이용한 두 번째 위치 찾기 - 단계별 설명\n",
    "\n",
    "# === 코드 실행 순서 ===\n",
    "\n",
    "# 1단계: 가장 안쪽부터 실행\n",
    "# numbers.index(5)  # 첫 번째 5를 찾음\n",
    "# - 튜플에서 5가 처음 나오는 위치는 인덱스 4\n",
    "# - 결과: 4\n",
    "\n",
    "# 2단계: 그 결과에 +1\n",
    "# numbers.index(5) + 1  # 4 + 1 = 5\n",
    "# - 결과: 5\n",
    "\n",
    "# 3단계: 바깥쪽 index() 실행\n",
    "# numbers.index(5, 5)  # 인덱스 5부터 시작해서 5를 찾아라\n",
    "# - 인덱스 5부터 검색 시작\n",
    "# - 튜플: (3, 1, 4, 1, 5, 9, 2, 6, 5, 3)\n",
    "# - 인덱스: 0  1  2  3  4  5  6  7  8  9\n",
    "# - 검색 범위: 인덱스 5부터 → 9, 2, 6, 5, 3\n",
    "# - 인덱스 8에서 5를 발견!\n",
    "# - 결과: 8\n",
    "\n",
    "# === 시각적으로 보면: ===\n",
    "# 튜플:  (3, 1, 4, 1, 5, 9, 2, 6, 5, 3)\n",
    "# 인덱스: 0  1  2  3  4  5  6  7  8  9\n",
    "#                     ↑        ↑\n",
    "#               첫번째 5    두번째 5\n",
    "#               (인덱스4)   (인덱스8)\n",
    "\n",
    "# === 실행 과정 ===\n",
    "# 1. numbers.index(5) → 4를 반환\n",
    "# 2. 4 + 1 → 5\n",
    "# 3. numbers.index(5, 5) → 인덱스 5부터 검색해서 8을 반환\n",
    "\n",
    "# 핵심: 안쪽 괄호부터 먼저 계산되고, 그 결과를 바깥쪽에서 사용한다!\n",
    "\n",
    "# === 단계별 확인해보기 ===\n",
    "print(\"1단계 - 첫 번째 5의 위치:\", numbers.index(5))\n",
    "print(\"2단계 - 첫 번째 위치 + 1:\", numbers.index(5) + 1)\n",
    "print(\"3단계 - 두 번째 5의 위치:\", numbers.index(5, numbers.index(5) + 1))\n",
    "\n"
   ]
  },
  {
   "cell_type": "code",
   "execution_count": null,
   "id": "75b20326",
   "metadata": {},
   "outputs": [],
   "source": []
  }
 ],
 "metadata": {
  "kernelspec": {
   "display_name": "Python 3",
   "language": "python",
   "name": "python3"
  },
  "language_info": {
   "codemirror_mode": {
    "name": "ipython",
    "version": 3
   },
   "file_extension": ".py",
   "mimetype": "text/x-python",
   "name": "python",
   "nbconvert_exporter": "python",
   "pygments_lexer": "ipython3",
   "version": "3.13.5"
  }
 },
 "nbformat": 4,
 "nbformat_minor": 5
}
