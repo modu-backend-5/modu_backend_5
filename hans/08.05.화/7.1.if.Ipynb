{
 "cells": [
  {
   "cell_type": "code",
   "execution_count": 2,
   "id": "fb17ca51",
   "metadata": {},
   "outputs": [
    {
     "name": "stdout",
     "output_type": "stream",
     "text": [
      "성인입니다.\n",
      "프로그램이 종료되었습니다.\n"
     ]
    }
   ],
   "source": [
    "age = 30\n",
    "\n",
    "\n",
    "if age >= 18:\n",
    "    print(\"성인입니다.\")\n",
    "\n",
    "\n",
    "print(\"프로그램이 종료되었습니다.\")"
   ]
  },
  {
   "cell_type": "code",
   "execution_count": 5,
   "id": "af07c35d",
   "metadata": {},
   "outputs": [
    {
     "name": "stdout",
     "output_type": "stream",
     "text": [
      "프로그램이 종료되었습니다.\n"
     ]
    }
   ],
   "source": [
    "age = 380\n",
    "\n",
    "\n",
    "if age >= 18 and age < 65:\n",
    "    print(\"성인입니다.\")\n",
    "\n",
    "\n",
    "print(\"프로그램이 종료되었습니다.\")"
   ]
  },
  {
   "cell_type": "code",
   "execution_count": 9,
   "id": "fac97416",
   "metadata": {},
   "outputs": [
    {
     "name": "stdout",
     "output_type": "stream",
     "text": [
      "성인입니다.\n",
      "프로그램이 종료되었습니다.\n"
     ]
    }
   ],
   "source": [
    "age = 65\n",
    "\n",
    "\n",
    "if age >= 18 or age < 65:\n",
    "    print(\"성인입니다.\")\n",
    "\n",
    "\n",
    "print(\"프로그램이 종료되었습니다.\")"
   ]
  },
  {
   "cell_type": "code",
   "execution_count": 11,
   "id": "825f3b71",
   "metadata": {},
   "outputs": [
    {
     "name": "stdout",
     "output_type": "stream",
     "text": [
      "미성년자입니다.\n"
     ]
    }
   ],
   "source": [
    "age = 15\n",
    "\n",
    "\n",
    "if age >= 18:\n",
    "    print(\"성인입니다.\")\n",
    "else:\n",
    "    print(\"미성년자입니다.\") # if 문을 제외한 나머지 부분은 else에서 처리"
   ]
  },
  {
   "cell_type": "code",
   "execution_count": null,
   "id": "d509b445",
   "metadata": {},
   "outputs": [
    {
     "name": "stdout",
     "output_type": "stream",
     "text": [
      "B 등급\n"
     ]
    }
   ],
   "source": [
    "score = 85\n",
    "\n",
    "# if를 \n",
    "\n",
    "\n",
    "if score >= 90:\n",
    "    print(\"A 등급\")\n",
    "elif score >= 80:\n",
    "    print(\"B 등급\")\n",
    "elif score >= 70:\n",
    "    print(\"C 등급\")\n",
    "elif score >= 60:\n",
    "    print(\"D 등급\")\n",
    "else:\n",
    "    print(\"F 등급\")    "
   ]
  },
  {
   "cell_type": "code",
   "execution_count": null,
   "id": "c620c475",
   "metadata": {},
   "outputs": [],
   "source": []
  }
 ],
 "metadata": {
  "kernelspec": {
   "display_name": "Python 3",
   "language": "python",
   "name": "python3"
  },
  "language_info": {
   "codemirror_mode": {
    "name": "ipython",
    "version": 3
   },
   "file_extension": ".py",
   "mimetype": "text/x-python",
   "name": "python",
   "nbconvert_exporter": "python",
   "pygments_lexer": "ipython3",
   "version": "3.13.5"
  }
 },
 "nbformat": 4,
 "nbformat_minor": 5
}
