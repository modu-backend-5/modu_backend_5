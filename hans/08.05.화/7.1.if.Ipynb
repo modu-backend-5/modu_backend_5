{
 "cells": [
  {
   "cell_type": "markdown",
   "id": "2f843ec4",
   "metadata": {},
   "source": [
    "## if 조건문\n",
    "### 특정 조건에 따라 다른 코드를 실행할 수 있게 해주는 프로그래밍 도구 / ( if, elif, else)"
   ]
  },
  {
   "cell_type": "code",
   "execution_count": 1,
   "id": "3be9db9b",
   "metadata": {},
   "outputs": [
    {
     "name": "stdout",
     "output_type": "stream",
     "text": [
      "성인입니다.\n",
      "프로그램이 종료되었습니다.\n"
     ]
    }
   ],
   "source": [
    "# 기본 if 문\n",
    "\n",
    "age = 20\n",
    "\n",
    "if age >= 18:\n",
    "    print(\"성인입니다.\")\n",
    "\n",
    "\n",
    "print(\"프로그램이 종료되었습니다.\")"
   ]
  },
  {
   "cell_type": "code",
   "execution_count": null,
   "id": "b7abe81d",
   "metadata": {},
   "outputs": [
    {
     "name": "stdout",
     "output_type": "stream",
     "text": [
      "성인입니다.\n",
      "입장하세요.\n"
     ]
    }
   ],
   "source": [
    "age = 34\n",
    "\n",
    "if age >= 20:\n",
    "    print('성인입니다.')\n",
    "\n",
    "print('입장하세요.')"
   ]
  },
  {
   "cell_type": "code",
   "execution_count": 10,
   "id": "8a9d5e68",
   "metadata": {},
   "outputs": [
    {
     "name": "stdout",
     "output_type": "stream",
     "text": [
      "성인입니다.\n",
      "입장하세요.\n"
     ]
    }
   ],
   "source": [
    "age = 34\n",
    "\n",
    "if age >= 20 or age < 40:\n",
    "    print('성인입니다.')\n",
    "\n",
    "print('입장하세요.')"
   ]
  },
  {
   "cell_type": "code",
   "execution_count": 14,
   "id": "084757ea",
   "metadata": {},
   "outputs": [
    {
     "name": "stdout",
     "output_type": "stream",
     "text": [
      "성인입니다.\n",
      "입장하세요.\n"
     ]
    }
   ],
   "source": [
    "age = 34\n",
    "\n",
    "if age >= 20 and age < 40:\n",
    "    print('성인입니다.')\n",
    "\n",
    "print('입장하세요.')"
   ]
  },
  {
   "cell_type": "code",
   "execution_count": 16,
   "id": "1a7a2a4a",
   "metadata": {},
   "outputs": [
    {
     "name": "stdout",
     "output_type": "stream",
     "text": [
      "미성년자입니다\n"
     ]
    }
   ],
   "source": [
    "# if - else 문 \n",
    "# 조건이 거짓일 때 실행할 코드를 지정 하려면 else 사용\n",
    "\n",
    "age = 15\n",
    "\n",
    "if age >= 18:\n",
    "    print('성인입니다.')\n",
    "else:\n",
    "    print('미성년자입니다')"
   ]
  },
  {
   "cell_type": "code",
   "execution_count": null,
   "id": "bebd4fbf",
   "metadata": {},
   "outputs": [
    {
     "name": "stdout",
     "output_type": "stream",
     "text": [
      "노인입니다.\n"
     ]
    }
   ],
   "source": [
    "age = 75\n",
    "\n",
    "if age <= 70:\n",
    "    print('성인입니다.')\n",
    "else:\n",
    "    print('노인입니다.')\n"
   ]
  },
  {
   "cell_type": "code",
   "execution_count": 24,
   "id": "d55b8f95",
   "metadata": {},
   "outputs": [
    {
     "name": "stdout",
     "output_type": "stream",
     "text": [
      "입장하세요.\n"
     ]
    }
   ],
   "source": [
    "age = 34\n",
    "\n",
    "if age >= 20 or age < 30:\n",
    "    print('입장하세요.')\n",
    "else:\n",
    "    print('입장 불가합니다')"
   ]
  },
  {
   "cell_type": "code",
   "execution_count": 29,
   "id": "8487c68e",
   "metadata": {},
   "outputs": [
    {
     "name": "stdout",
     "output_type": "stream",
     "text": [
      "입장이 불가합니다\n"
     ]
    }
   ],
   "source": [
    "age = 34\n",
    "\n",
    "if age >= 20 and age < 30:\n",
    "    print('입장하세요.')\n",
    "else:\n",
    "    print('입장이 불가합니다')"
   ]
  },
  {
   "cell_type": "code",
   "execution_count": null,
   "id": "87bbc402",
   "metadata": {},
   "outputs": [
    {
     "name": "stdout",
     "output_type": "stream",
     "text": [
      "B 등급\n"
     ]
    }
   ],
   "source": [
    "# if - elif - else 문\n",
    "# 여러 조건을 걸고 싶으면 elif를 사용\n",
    "# 가장 마지막은 else로 끝낸다\n",
    "\n",
    "score = 85\n",
    "\n",
    "if score >= 90:\n",
    "    print(\"A 등급\")\n",
    "elif score >= 80:\n",
    "    print(\"B 등급\")\n",
    "elif score >= 70:\n",
    "    print(\"C 등급\")\n",
    "else:\n",
    "    print(\"D 등급\")"
   ]
  },
  {
   "cell_type": "code",
   "execution_count": 33,
   "id": "183cabac",
   "metadata": {},
   "outputs": [
    {
     "name": "stdout",
     "output_type": "stream",
     "text": [
      "C\n"
     ]
    }
   ],
   "source": [
    "score = 76\n",
    "\n",
    "if score >= 90:\n",
    "    print('A')\n",
    "elif score >= 80:\n",
    "    print('B')\n",
    "elif score >= 70:\n",
    "    print('C')\n",
    "else:\n",
    "    print('D')\n",
    "    "
   ]
  },
  {
   "cell_type": "code",
   "execution_count": 34,
   "id": "4a860d18",
   "metadata": {},
   "outputs": [
    {
     "name": "stdout",
     "output_type": "stream",
     "text": [
      "성인입니다. 신분증을 확인했습니다.\n"
     ]
    }
   ],
   "source": [
    "# 중첩 if 문 \n",
    "# if 문을 중첩해서 사용하면 여러가지 조건에 맞춰 \n",
    "# 다른 출력을 낼 수 있다\n",
    "age = 20\n",
    "# 신분증 소지 여부\n",
    "has_id = True\n",
    "if age >= 18:\n",
    "    if has_id:\n",
    "        print(\"성인입니다. 신분증을 확인했습니다.\")\n",
    "    else:\n",
    "        print(\"성인입니다. 신분증이 필요합니다.\")\n",
    "else:\n",
    "    print(\"미성년자입니다. 신분증이 필요합니다.\")"
   ]
  },
  {
   "cell_type": "code",
   "execution_count": null,
   "id": "fb6c7489",
   "metadata": {},
   "outputs": [
    {
     "name": "stdout",
     "output_type": "stream",
     "text": [
      "놀이기구 탑승 가능\n",
      "입장 불가\n"
     ]
    }
   ],
   "source": [
    "# and, or 연산자 \n",
    "# 여러 조건을 동시에 검사하려면 and, or 연산자도 사용가능하다 \n",
    "\n",
    "age = 22\n",
    "height = 175\n",
    "\n",
    "\n",
    "if age >= 18 and height >= 170:\n",
    "    print(\"놀이기구 탑승 가능\")\n",
    "else:\n",
    "    print(\"놀이기구 탑승 불가\")\n",
    "\n",
    "\n",
    "has_ticket = False\n",
    "is_vip = True\n",
    "\n",
    "\n",
    "if has_ticket or is_vip:\n",
    "    print(\"입장 가능\")\n",
    "else:\n",
    "    print(\"입장 불가\")"
   ]
  }
 ],
 "metadata": {
  "kernelspec": {
   "display_name": "Python 3",
   "language": "python",
   "name": "python3"
  },
  "language_info": {
   "codemirror_mode": {
    "name": "ipython",
    "version": 3
   },
   "file_extension": ".py",
   "mimetype": "text/x-python",
   "name": "python",
   "nbconvert_exporter": "python",
   "pygments_lexer": "ipython3",
   "version": "3.13.5"
  }
 },
 "nbformat": 4,
 "nbformat_minor": 5
}
