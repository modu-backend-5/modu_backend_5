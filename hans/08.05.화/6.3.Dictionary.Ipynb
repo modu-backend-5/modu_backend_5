{
 "cells": [
  {
   "cell_type": "code",
   "execution_count": null,
   "id": "b74ac984",
   "metadata": {},
   "outputs": [],
   "source": [
    "my_dict = {'name': 'licat', 'age': 30, 'city': 'New York'}\n",
    "print(my_dict)"
   ]
  }
 ],
 "metadata": {
  "language_info": {
   "name": "python"
  }
 },
 "nbformat": 4,
 "nbformat_minor": 5
}
