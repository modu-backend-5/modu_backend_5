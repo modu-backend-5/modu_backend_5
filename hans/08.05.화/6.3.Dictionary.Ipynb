{
 "cells": [
  {
   "cell_type": "markdown",
   "id": "94e8c05f",
   "metadata": {},
   "source": [
    "### 딕셔너리 | Key와 value의 쌍으로 이루어진 구조 (실 생활에서 사전과 같은 구조의 형태)\n",
    "        "
   ]
  },
  {
   "cell_type": "code",
   "execution_count": 2,
   "id": "9c9b5ad5",
   "metadata": {},
   "outputs": [
    {
     "name": "stdout",
     "output_type": "stream",
     "text": [
      "{'name': 'licat', 'age': 30, 'city': 'New york'}\n"
     ]
    }
   ],
   "source": [
    "my_dict = {'name': 'licat', 'age': 30, 'city': 'New york'}\n",
    "print(my_dict)"
   ]
  },
  {
   "cell_type": "code",
   "execution_count": 15,
   "id": "5e23a8c5",
   "metadata": {},
   "outputs": [
    {
     "name": "stdout",
     "output_type": "stream",
     "text": [
      "{'name': 'hans', 'age': '34', 'city': 'soul'}\n",
      "{'name': 'hans', 'age': '34', 'height': '176'}\n"
     ]
    }
   ],
   "source": [
    "\n",
    "#딕셔너리 생성방법\n",
    "#중괄호 {} 를 사용해서 생성, 키와 값의 쌍으로 구성\n",
    "#키와 값 사이에는 : 를 사용해 구분\n",
    "#각 키-값 쌍은 쉼표로 구분\n",
    "\n",
    "person_1 = {'name':'hans', 'age':'34', 'city':'soul'}\n",
    "person_2 = {'name':'hans', 'age':'34', 'height':'176'}\n",
    "\n",
    "print(person_1)\n",
    "print(person_2)\n",
    "\n",
    "\n"
   ]
  },
  {
   "cell_type": "code",
   "execution_count": null,
   "id": "1aac2f6a",
   "metadata": {},
   "outputs": [
    {
     "name": "stdout",
     "output_type": "stream",
     "text": [
      "34\n",
      "hans\n",
      "이름: hans\n",
      "나이: 34\n"
     ]
    }
   ],
   "source": [
    "# 딕셔너리 접근법\n",
    "# 딕셔너리의 값에 접근할 때는 대괄호[]안에 키를 넣음\n",
    "\n",
    "person = {'name':'hans', 'age':'34', 'height':'176'}\n",
    "\n",
    "print(person['age']) # 딕셔너리에서 'age'에 대한  값 불러오기\n",
    "print(person['name']) # 딕셔너리에서 'name'에 대한 값 불러오기\n",
    "\n",
    "print('이름:', person['name'])\n",
    "print('나이:', person['age'])\n",
    "\n"
   ]
  },
  {
   "cell_type": "code",
   "execution_count": 49,
   "id": "524396bb",
   "metadata": {},
   "outputs": [
    {
     "name": "stdout",
     "output_type": "stream",
     "text": [
      "이름: hans\n",
      "나이: 34\n",
      "키: 165\n",
      "사는곳: seoul\n"
     ]
    }
   ],
   "source": [
    "\n",
    "person_1 = {'name':'hans', 'age':'34', 'city':'seoul'}\n",
    "person_2 = {'name':'hee', 'age':'31', 'height':'165'}\n",
    "\n",
    "print('이름:', person_1['name'])\n",
    "print('나이:', person_1['age'])\n",
    "print('키:',person_2['height'])\n",
    "print('사는곳:',person_1['city'])"
   ]
  },
  {
   "cell_type": "code",
   "execution_count": 44,
   "id": "d2d2d0e9",
   "metadata": {},
   "outputs": [
    {
     "name": "stdout",
     "output_type": "stream",
     "text": [
      "{'name': 'hans', 'age': 35, 'height': '176', 'city': 'seoul'}\n"
     ]
    }
   ],
   "source": [
    "# 딕셔너리 수정\n",
    "# 딕셔너리의 값을 수정 할 수 있고,\n",
    "# 키-값을 추가 할 수도 있다.\n",
    "\n",
    "person = {'name':'hans', 'age':'34', 'height':'176'}\n",
    "\n",
    "person['age'] = 35 # 딕셔너리내에 'age'의 값은 34인데 = 35 를 사용하여 35라고 다시 정의\n",
    "person['city'] = 'seoul' # 딕셔너리내에 'city'는 없지만 person['city'] = 'seoul'를 사용하여 'city':'seoul' 를 추가 \n",
    "\n",
    "print(person)\n",
    "\n"
   ]
  },
  {
   "cell_type": "code",
   "execution_count": 55,
   "id": "66f1620b",
   "metadata": {},
   "outputs": [
    {
     "name": "stdout",
     "output_type": "stream",
     "text": [
      "{'name': 'hans', 'age': '34', 'city': 'seoul', 'height': '176'}\n",
      "{'name': 'chehee', 'age': '31', 'height': '165', 'city': 'jeju'}\n"
     ]
    }
   ],
   "source": [
    "person_1 = {'name':'hans', 'age':'35', 'city':'seoul'}\n",
    "person_2 = {'name':'hee', 'age':'31', 'height':'165'}\n",
    "\n",
    "person_1['height'] = '176'\n",
    "person_2[\"name\"] = 'chehee'\n",
    "person_2['city'] = 'jeju'\n",
    "person_1['age'] = \"34\"\n",
    "\n",
    "print(person_1)\n",
    "print(person_2)\n",
    "\n",
    "\n"
   ]
  },
  {
   "cell_type": "code",
   "execution_count": 56,
   "id": "f7029408",
   "metadata": {},
   "outputs": [
    {
     "name": "stdout",
     "output_type": "stream",
     "text": [
      "{'name': 'hans', 'age': '35', 'height': '176'}\n"
     ]
    }
   ],
   "source": [
    "# 딕셔너리 삭제\n",
    "# 딕셔너리 앞에 del을 사용하고 삭제할 키를 []로 입력하면 삭제\n",
    "\n",
    "person = {'name': 'hans', 'age': '35', 'height': '176', 'city': 'seoul'}\n",
    "\n",
    "del person['city'] # person에 ['city']키를 호출해서 del 하겠다는 의미\n",
    "\n",
    "print(person)\n"
   ]
  },
  {
   "cell_type": "code",
   "execution_count": 60,
   "id": "a07deea1",
   "metadata": {},
   "outputs": [
    {
     "name": "stdout",
     "output_type": "stream",
     "text": [
      "{'name': 'hans', 'age': '34', 'city': 'seoul'}\n",
      "{'name': 'chehee', 'height': '165', 'city': 'jeju'}\n"
     ]
    }
   ],
   "source": [
    "\n",
    "person_1 = {'name': 'hans', 'age': '34', 'city': 'seoul', 'height': '176'}\n",
    "person_2 = {'name': 'chehee', 'age': '31', 'height': '165', 'city': 'jeju'}\n",
    "\n",
    "del person_1['height']\n",
    "del person_2['age']\n",
    "\n",
    "print(person_1)\n",
    "print(person_2)"
   ]
  },
  {
   "cell_type": "code",
   "execution_count": 67,
   "id": "f0209420",
   "metadata": {},
   "outputs": [
    {
     "name": "stdout",
     "output_type": "stream",
     "text": [
      "키 목록: dict_keys(['name', 'age', 'height'])\n",
      "값 목록: dict_values(['hans', '35', '176'])\n",
      "키-값 목록: dict_items([('name', 'hans'), ('age', '35'), ('height', '176')])\n",
      "직업: 정보없음\n"
     ]
    }
   ],
   "source": [
    "# 딕셔너리 메서드\n",
    "# .keys() | 딕셔너리 내에 모든 키 들만 출력\n",
    "# .values() | 딕셔너리 내에 모든 값 들만 출력\n",
    "# .items() | 딕셔너리 내에 모든 키-값 들 모두 출력\n",
    "# .get() | 안전하게 값 가져오기\n",
    "\n",
    "person = {'name': 'hans', 'age': '35', 'height': '176'}\n",
    "\n",
    "print('키 목록:', person.keys())\n",
    "print('값 목록:', person.values())\n",
    "print('키-값 목록:', person.items())\n",
    "print('직업:', person.get('job', '정보없음'))"
   ]
  },
  {
   "cell_type": "code",
   "execution_count": 78,
   "id": "0c4e2e89",
   "metadata": {},
   "outputs": [
    {
     "name": "stdout",
     "output_type": "stream",
     "text": [
      "hans 키: dict_keys(['name', 'age', 'city'])\n",
      "chehee 키: dict_keys(['name', 'height', 'city'])\n",
      "hans 값: dict_values(['hans', '34', 'seoul'])\n",
      "chehee 값: dict_values(['chehee', '165', 'jeju'])\n",
      "hans 키-값: dict_items([('name', 'hans'), ('age', '34'), ('city', 'seoul')])\n",
      "chehee 키-값: dict_items([('name', 'chehee'), ('height', '165'), ('city', 'jeju')])\n",
      "hans 나이: 34\n",
      "hans 키: None\n",
      "chehee 키: 165\n",
      "chehee 나이: None\n"
     ]
    }
   ],
   "source": [
    "\n",
    "person_1 = {'name': 'hans', 'age': '34', 'city': 'seoul'}\n",
    "person_2 = {'name': 'chehee', 'height': '165', 'city': 'jeju'}\n",
    "\n",
    "print('hans 키:', person_1.keys())\n",
    "print('chehee 키:', person_2.keys())\n",
    "\n",
    "print('hans 값:', person_1.values())\n",
    "print('chehee 값:', person_2.values())\n",
    "\n",
    "print('hans 키-값:', person_1.items())\n",
    "print('chehee 키-값:', person_2.items())\n",
    "\n",
    "print('hans 나이:', person_1.get('age', '정보없음'))\n",
    "print('hans 키:', person_1.get('height', 'None'))\n",
    "\n",
    "print('chehee 키:', person_2.get('height', 'None'))\n",
    "print('chehee 나이:', person_2.get('age', 'None'))\n",
    "\n",
    "\n"
   ]
  }
 ],
 "metadata": {
  "kernelspec": {
   "display_name": "Python 3",
   "language": "python",
   "name": "python3"
  },
  "language_info": {
   "codemirror_mode": {
    "name": "ipython",
    "version": 3
   },
   "file_extension": ".py",
   "mimetype": "text/x-python",
   "name": "python",
   "nbconvert_exporter": "python",
   "pygments_lexer": "ipython3",
   "version": "3.13.5"
  }
 },
 "nbformat": 4,
 "nbformat_minor": 5
}
