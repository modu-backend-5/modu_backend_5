{
 "cells": [
  {
   "cell_type": "code",
   "execution_count": null,
   "id": "a422a16f",
   "metadata": {},
   "outputs": [],
   "source": [
    "class Car(object):\n",
    "    maxSpeed = 300\n",
    "    maxPeople = 5\n",
    "\n",
    "\n",
    "    def move(self):\n",
    "        print('출발하였습니다.')\n",
    "\n",
    "\n",
    "    def stop(self):\n",
    "        print('멈췄습니다.')\n",
    "\n",
    "\n",
    "class HybridCar(Car):\n",
    "    battery = 1000\n",
    "    batteryKM = 300\n",
    "\n",
    "\n",
    "class ElectricCar(HybridCar):\n",
    "    battery = 2000\n",
    "    batteryKM = 600\n",
    "\n",
    "\n",
    "modelx = HybridCar()\n",
    "electricCarModely = ElectricCar()\n",
    "print(modelx.maxSpeed)\n",
    "print(electricCarModely.maxSpeed)\n",
    "print(electricCarModely.battery)\n",
    "electricCarModely.move()"
   ]
  },
  {
   "cell_type": "code",
   "execution_count": 4,
   "id": "4f4690d1",
   "metadata": {},
   "outputs": [],
   "source": [
    "class Character:\n",
    "    최대속력 = 100\n",
    "    최대레밸 = 50\n",
    "    def __init__(self, 이름, 체력, 공격력, 레밸):\n",
    "        self.이름 = 이름\n",
    "        self.체력 = 체력\n",
    "        self.공격력 = 공격력\n",
    "        self.레밸 = 레밸\n",
    "        self.속력 = 1\n",
    "\n",
    "    def 이동(self):\n",
    "        print(f'{self.dlfma}이(가) {self.속력}의 이동속도로 움직였습니다.')\n",
    "\n",
    "    def 공격(self):\n",
    "        print(f'{self.dlfma}이(가) {self.공격력}의 데미지로 공격했습니다.')\n",
    "        \n"
   ]
  },
  {
   "cell_type": "code",
   "execution_count": null,
   "id": "22f2d6be",
   "metadata": {},
   "outputs": [
    {
     "data": {
      "text/plain": [
       "<__main__.Character at 0x25719cfa450>"
      ]
     },
     "execution_count": 13,
     "metadata": {},
     "output_type": "execute_result"
    }
   ],
   "source": [
    "캐릭터 = Character('초보자', 100, 100, 1)\n"
   ]
  },
  {
   "cell_type": "code",
   "execution_count": null,
   "id": "1130a3e1",
   "metadata": {},
   "outputs": [],
   "source": []
  }
 ],
 "metadata": {
  "kernelspec": {
   "display_name": "Python 3",
   "language": "python",
   "name": "python3"
  },
  "language_info": {
   "codemirror_mode": {
    "name": "ipython",
    "version": 3
   },
   "file_extension": ".py",
   "mimetype": "text/x-python",
   "name": "python",
   "nbconvert_exporter": "python",
   "pygments_lexer": "ipython3",
   "version": "3.13.5"
  }
 },
 "nbformat": 4,
 "nbformat_minor": 5
}
