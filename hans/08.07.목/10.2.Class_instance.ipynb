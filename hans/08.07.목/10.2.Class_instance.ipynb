{
 "cells": [
  {
   "cell_type": "code",
   "execution_count": 2,
   "id": "17309cf9",
   "metadata": {},
   "outputs": [
    {
     "name": "stdout",
     "output_type": "stream",
     "text": [
      "Weniv Model X\n",
      "Weniv Model X차가 100의 속력으로 움직이고 있습니다.\n"
     ]
    }
   ],
   "source": [
    "class Car:\n",
    "    max_speed = 300\n",
    "\n",
    "\n",
    "    def __init__(self, name): # self는 인스턴스 고유의 영역\n",
    "        self.name = name\n",
    "\n",
    "\n",
    "    def start(self, speed): # self는 인스턴스 고유의 영역\n",
    "        self.speed = speed\n",
    "        return f'{self.name}차가 {self.speed}의 속력으로 움직이고 있습니다.'\n",
    "\n",
    "\n",
    "modelx = Car('Weniv Model X')\n",
    "print(modelx.name)\n",
    "print(modelx.start(100))"
   ]
  },
  {
   "cell_type": "code",
   "execution_count": 3,
   "id": "0b4d0abf",
   "metadata": {},
   "outputs": [
    {
     "name": "stdout",
     "output_type": "stream",
     "text": [
      "ModelY hello world\n"
     ]
    }
   ],
   "source": [
    "class Car:\n",
    "    max_speed = 300\n",
    "\n",
    "\n",
    "    def __init__(self, name): # self는 자신만의 영역\n",
    "        self.name = name\n",
    "\n",
    "\n",
    "    def start(self, speed): # self는 자신만의 영역\n",
    "        self.speed = speed\n",
    "        return f'{self.name}차가 {self.speed}의 속력으로 움직이고 있습니다.'\n",
    "\n",
    "\n",
    "modelx = Car('Weniv Model X')\n",
    "modelx.name = 'ModelY'\n",
    "modelx.welcome = 'hello world'\n",
    "print(modelx.name, modelx.welcome) # 출력: ModelY hello world"
   ]
  },
  {
   "cell_type": "code",
   "execution_count": 4,
   "id": "a0974d2a",
   "metadata": {},
   "outputs": [
    {
     "name": "stdout",
     "output_type": "stream",
     "text": [
      "<class 'function'>\n"
     ]
    }
   ],
   "source": [
    "def hello():\n",
    "    print('hello world')\n",
    "\n",
    "\n",
    "print(type(hello)) # 출력: <class 'function'>"
   ]
  }
 ],
 "metadata": {
  "kernelspec": {
   "display_name": "Python 3",
   "language": "python",
   "name": "python3"
  },
  "language_info": {
   "codemirror_mode": {
    "name": "ipython",
    "version": 3
   },
   "file_extension": ".py",
   "mimetype": "text/x-python",
   "name": "python",
   "nbconvert_exporter": "python",
   "pygments_lexer": "ipython3",
   "version": "3.13.5"
  }
 },
 "nbformat": 4,
 "nbformat_minor": 5
}
