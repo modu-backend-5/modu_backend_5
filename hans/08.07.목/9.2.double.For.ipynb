{
 "cells": [
  {
   "cell_type": "code",
   "execution_count": null,
   "id": "72cd6703",
   "metadata": {},
   "outputs": [],
   "source": [
    "for i in range(10):\n",
    "    for j in range(10):\n",
    "        print(f'i:{i}, j:{j}')\n"
   ]
  },
  {
   "cell_type": "code",
   "execution_count": null,
   "id": "bd58102b",
   "metadata": {},
   "outputs": [],
   "source": [
    "for i in range(10):\n",
    "    for j in range(10):\n",
    "        if j == 5:\n",
    "            break\n",
    "        print(f'i:{i}, j:{j}')\n"
   ]
  },
  {
   "cell_type": "code",
   "execution_count": null,
   "id": "54dbceb4",
   "metadata": {},
   "outputs": [],
   "source": [
    "for i in range(10):\n",
    "    for j in range(5):\n",
    "        print(f'i:{i}, j:{j}')\n"
   ]
  },
  {
   "cell_type": "code",
   "execution_count": null,
   "id": "33f7fae5",
   "metadata": {},
   "outputs": [],
   "source": [
    "for i in range(10):\n",
    "    for j in range(5):\n",
    "        \n",
    "        print(f'i:{i}, j:{j}')"
   ]
  }
 ],
 "metadata": {
  "kernelspec": {
   "display_name": "Python 3",
   "language": "python",
   "name": "python3"
  },
  "language_info": {
   "codemirror_mode": {
    "name": "ipython",
    "version": 3
   },
   "file_extension": ".py",
   "mimetype": "text/x-python",
   "name": "python",
   "nbconvert_exporter": "python",
   "pygments_lexer": "ipython3",
   "version": "3.13.5"
  }
 },
 "nbformat": 4,
 "nbformat_minor": 5
}
