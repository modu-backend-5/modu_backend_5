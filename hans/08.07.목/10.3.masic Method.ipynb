{
 "cells": [
  {
   "cell_type": "code",
   "execution_count": null,
   "id": "fbb1bdf5",
   "metadata": {},
   "outputs": [
    {
     "name": "stdout",
     "output_type": "stream",
     "text": [
      "10 20\n",
      "20 30\n",
      "30 50\n",
      "36.05551275463989\n",
      "<__main__.Point object at 0x000002F14978F9D0>\n"
     ]
    }
   ],
   "source": [
    "#매직메서드는 호출하지 않고 자동으로 동작한다\n",
    "#일반 메서드는 .distance 처럼 .을 붙여서 동작한다.\n",
    "\n",
    "class Point:\n",
    "\n",
    "\n",
    "    def __init__(self, x, y):\n",
    "        self.x = x\n",
    "        self.y = y\n",
    "\n",
    "\n",
    "    def __add__(self, other):\n",
    "        if isinstance(other, Point):\n",
    "            return Point((self.x + other.x), (self.y + other.y)) # point 면 각 x,y랑 더 한다.\n",
    "        elif isinstance(other, int) or isinstance(other, float):\n",
    "            return Point((self.x + other), (self.y + other)) # 정수,실수면 지정된 것에 각각 더한다.\n",
    "\n",
    "\n",
    "    def distance(self, other):\n",
    "        dx = self.x - other.x\n",
    "        dy = self.y - other.y\n",
    "        return (dx**2 + dy**2)**0.5\n",
    "\n",
    "\n",
    "dot1 = Point(10, 20)\n",
    "dot2 = Point(20, 30)\n",
    "\n",
    "\n",
    "dot3 = dot1 + 10 # + = add 실행어\n",
    "print(dot1.x, dot1.y) # 출력: 10 20\n",
    "print(dot3.x, dot3.y) # 출력: 20 30\n",
    "\n",
    "\n",
    "dot4 = dot1 + dot2\n",
    "print(dot4.x, dot4.y) # 출력: 30 50\n",
    "print(dot4.distance(dot1)) # 출력: 36.05551275463989\n",
    "\n",
    "\n"
   ]
  },
  {
   "cell_type": "code",
   "execution_count": 4,
   "id": "66ba0bea",
   "metadata": {},
   "outputs": [
    {
     "data": {
      "text/plain": [
       "'hello'"
      ]
     },
     "execution_count": 4,
     "metadata": {},
     "output_type": "execute_result"
    }
   ],
   "source": [
    "class Point:\n",
    "\n",
    "\n",
    "    def __init__(self, x, y):\n",
    "        self.x = x\n",
    "        self.y = y\n",
    "\n",
    "\n",
    "    def __mul__(self, other):\n",
    "        return 'hello'\n",
    "    # def Point((self.x + other.x), (self.y + other.y))\n",
    "\n",
    "dot1 = Point(10, 20)\n",
    "dot2 = Point(20, 30)\n",
    "\n",
    "\n",
    "dot1 * dot2 "
   ]
  },
  {
   "cell_type": "code",
   "execution_count": null,
   "id": "8ce9d80c",
   "metadata": {},
   "outputs": [],
   "source": [
    "# 주요한 매직 메서드\n",
    "\n",
    "\n",
    "__init__(self, ...): 객체가 생성될 때 호출되는 생성자 메서드\n",
    "__str__(self): str() 함수 출력 결과와 같습니다. 이는 print로 출력되는 결과와도 동일합니다. 이 출력은 \"공식적이지 않은\" 또는 \"좋게 보이는\" 문자열 표현을 반환합니다. 객체의 공식적인 표현은 repr입니다.\n",
    "__add__(self, other): 덧셈 연산\n",
    "__sub__(self, other): 뺄셈 연산\n",
    "__mul__(self, other): 곱셈 연산\n",
    "__truediv__(self, other): 나눗셈 연산(/)\n",
    "__eq__(self, other): 동등 연산 (==)\n",
    "__ne__(self, other): 부등 연산 (!=)\n",
    "__lt__(self, other): \"작다\" 연산 (<)\n",
    "__le__(self, other): \"작거나 같다\" 연산 (<=)\n",
    "__gt__(self, other): \"크다\" 연산 (>)\n",
    "__ge__(self, other): \"크거나 같다\" 연산 (>=)"
   ]
  }
 ],
 "metadata": {
  "kernelspec": {
   "display_name": "Python 3",
   "language": "python",
   "name": "python3"
  },
  "language_info": {
   "codemirror_mode": {
    "name": "ipython",
    "version": 3
   },
   "file_extension": ".py",
   "mimetype": "text/x-python",
   "name": "python",
   "nbconvert_exporter": "python",
   "pygments_lexer": "ipython3",
   "version": "3.13.5"
  }
 },
 "nbformat": 4,
 "nbformat_minor": 5
}
