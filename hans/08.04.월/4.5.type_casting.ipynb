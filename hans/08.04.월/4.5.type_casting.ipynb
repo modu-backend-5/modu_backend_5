{
 "cells": [
  {
   "cell_type": "code",
   "execution_count": 4,
   "id": "c14fa461",
   "metadata": {},
   "outputs": [
    {
     "name": "stdout",
     "output_type": "stream",
     "text": [
      "200200200200200200200200200200200200\n"
     ]
    }
   ],
   "source": [
    "월급 = input(\"월급을 입력하세요:200\")\n",
    "연봉 = 월급 * 12\n",
    "print(연봉)"
   ]
  },
  {
   "cell_type": "code",
   "execution_count": 8,
   "id": "e6ff732f",
   "metadata": {},
   "outputs": [
    {
     "name": "stdout",
     "output_type": "stream",
     "text": [
      "2400\n"
     ]
    }
   ],
   "source": [
    "월급 = input(\"월급을 입력하세요:\")\n",
    "연봉 = int(월급) * 12\n",
    "print(연봉)"
   ]
  },
  {
   "cell_type": "code",
   "execution_count": 9,
   "id": "5c948d0c",
   "metadata": {},
   "outputs": [
    {
     "name": "stdout",
     "output_type": "stream",
     "text": [
      "200200200200200200200200200200200200\n"
     ]
    }
   ],
   "source": [
    "월급 = input(\"월급을 입력하세요:\")\n",
    "연봉 = str(월급) * 12\n",
    "print(연봉)"
   ]
  },
  {
   "cell_type": "code",
   "execution_count": 10,
   "id": "f14233bb",
   "metadata": {},
   "outputs": [
    {
     "name": "stdout",
     "output_type": "stream",
     "text": [
      "2400.0\n"
     ]
    }
   ],
   "source": [
    "월급 = input(\"월급을 입력하세요:\")\n",
    "연봉 = float(월급) * 12\n",
    "print(연봉)"
   ]
  },
  {
   "cell_type": "code",
   "execution_count": 11,
   "id": "045e5388",
   "metadata": {},
   "outputs": [
    {
     "name": "stdout",
     "output_type": "stream",
     "text": [
      "['2', '0', '0', '2', '0', '0', '2', '0', '0', '2', '0', '0', '2', '0', '0', '2', '0', '0', '2', '0', '0', '2', '0', '0', '2', '0', '0', '2', '0', '0', '2', '0', '0', '2', '0', '0']\n"
     ]
    }
   ],
   "source": [
    "월급 = input(\"월급을 입력하세요:\")\n",
    "연봉 = list(월급) * 12\n",
    "print(연봉)"
   ]
  }
 ],
 "metadata": {
  "kernelspec": {
   "display_name": "Python 3",
   "language": "python",
   "name": "python3"
  },
  "language_info": {
   "codemirror_mode": {
    "name": "ipython",
    "version": 3
   },
   "file_extension": ".py",
   "mimetype": "text/x-python",
   "name": "python",
   "nbconvert_exporter": "python",
   "pygments_lexer": "ipython3",
   "version": "3.13.5"
  }
 },
 "nbformat": 4,
 "nbformat_minor": 5
}
