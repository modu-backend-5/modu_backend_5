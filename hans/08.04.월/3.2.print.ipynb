{
 "cells": [
  {
   "cell_type": "code",
   "execution_count": 2,
   "id": "a2a4f140",
   "metadata": {},
   "outputs": [
    {
     "name": "stdout",
     "output_type": "stream",
     "text": [
      "출력합니다.\n"
     ]
    }
   ],
   "source": [
    "print('출력합니다.')"
   ]
  },
  {
   "cell_type": "code",
   "execution_count": 3,
   "id": "4f032ace",
   "metadata": {},
   "outputs": [
    {
     "name": "stdout",
     "output_type": "stream",
     "text": [
      "출력합니다. 출력합니다.\n"
     ]
    }
   ],
   "source": [
    "print('출력합니다.','출력합니다.')"
   ]
  },
  {
   "cell_type": "code",
   "execution_count": 5,
   "id": "15fc6d52",
   "metadata": {},
   "outputs": [
    {
     "name": "stdout",
     "output_type": "stream",
     "text": [
      "출력합니다.\n",
      "출력합니다.\n"
     ]
    }
   ],
   "source": [
    "print('출력합니다.')\n",
    "print('출력합니다.')"
   ]
  },
  {
   "cell_type": "code",
   "execution_count": 6,
   "id": "a3d7b9e7",
   "metadata": {},
   "outputs": [
    {
     "data": {
      "text/plain": [
       "'출력합니다'"
      ]
     },
     "execution_count": 6,
     "metadata": {},
     "output_type": "execute_result"
    }
   ],
   "source": [
    "'출력합니다'"
   ]
  },
  {
   "cell_type": "code",
   "execution_count": 7,
   "id": "fe1ebd43",
   "metadata": {},
   "outputs": [
    {
     "data": {
      "text/plain": [
       "'출력합니다.'"
      ]
     },
     "execution_count": 7,
     "metadata": {},
     "output_type": "execute_result"
    }
   ],
   "source": [
    "'출력합니다.'\n",
    "'출력합니다.'"
   ]
  }
 ],
 "metadata": {
  "kernelspec": {
   "display_name": "Python 3",
   "language": "python",
   "name": "python3"
  },
  "language_info": {
   "codemirror_mode": {
    "name": "ipython",
    "version": 3
   },
   "file_extension": ".py",
   "mimetype": "text/x-python",
   "name": "python",
   "nbconvert_exporter": "python",
   "pygments_lexer": "ipython3",
   "version": "3.13.5"
  }
 },
 "nbformat": 4,
 "nbformat_minor": 5
}
