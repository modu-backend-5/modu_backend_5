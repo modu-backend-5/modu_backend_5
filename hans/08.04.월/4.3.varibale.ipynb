{
 "cells": [
  {
   "cell_type": "code",
   "execution_count": 1,
   "id": "eb3e4c95",
   "metadata": {},
   "outputs": [
    {
     "name": "stdout",
     "output_type": "stream",
     "text": [
      "<class 'str'> <class 'str'>\n"
     ]
    }
   ],
   "source": [
    "x = 'hello'\n",
    "y = \"python\"\n",
    "print(type(x), type(y))"
   ]
  },
  {
   "cell_type": "code",
   "execution_count": 3,
   "id": "3e0b4aff",
   "metadata": {},
   "outputs": [
    {
     "name": "stdout",
     "output_type": "stream",
     "text": [
      "안녕하세요. \n",
      "저는 김현수 입니다. \n",
      "파이썬을 열심히 배우고 싶습니다. \n",
      "\n",
      "안녕하세요. \n",
      "저는 김현수 입니다. \n",
      "파이썬을 열심히 배우고 싶습니다. \n",
      "\n"
     ]
    }
   ],
   "source": [
    "i = '''안녕하세요. \n",
    "저는 김현수 입니다. \n",
    "파이썬을 열심히 배우고 싶습니다. \n",
    "'''\n",
    "j = \"\"\"안녕하세요. \n",
    "저는 김현수 입니다. \n",
    "파이썬을 열심히 배우고 싶습니다. \n",
    "\"\"\"\n",
    "print(i)\n",
    "print(j)"
   ]
  },
  {
   "cell_type": "code",
   "execution_count": 5,
   "id": "ac44ed7e",
   "metadata": {},
   "outputs": [
    {
     "name": "stdout",
     "output_type": "stream",
     "text": [
      "helloworld\n"
     ]
    }
   ],
   "source": [
    "x = 'hello'\n",
    "y = 'world'\n",
    "print(x + y)"
   ]
  },
  {
   "cell_type": "code",
   "execution_count": 7,
   "id": "db132f00",
   "metadata": {},
   "outputs": [
    {
     "name": "stdout",
     "output_type": "stream",
     "text": [
      "hellohellohello\n"
     ]
    }
   ],
   "source": [
    "x = 'hello'\n",
    "print(x*3)"
   ]
  },
  {
   "cell_type": "code",
   "execution_count": 12,
   "id": "501452c9",
   "metadata": {},
   "outputs": [
    {
     "name": "stdout",
     "output_type": "stream",
     "text": [
      "제 이름은 김현수이고, 나이는 34살 입니다.\n"
     ]
    }
   ],
   "source": [
    "name = '김현수'\n",
    "age = 34\n",
    "print(f'제 이름은 {name}이고, 나이는 {age}살 입니다.')"
   ]
  },
  {
   "cell_type": "code",
   "execution_count": 13,
   "id": "691414fb",
   "metadata": {},
   "outputs": [
    {
     "name": "stdout",
     "output_type": "stream",
     "text": [
      "제 이름은 {name}이고, 나이는 {age}살 입니다.\n"
     ]
    }
   ],
   "source": [
    "name = '김현수'\n",
    "age = 34\n",
    "print('제 이름은 {name}이고, 나이는 {age}살 입니다.')"
   ]
  },
  {
   "cell_type": "code",
   "execution_count": 14,
   "id": "09b56b60",
   "metadata": {},
   "outputs": [
    {
     "name": "stdout",
     "output_type": "stream",
     "text": [
      "위\n"
     ]
    }
   ],
   "source": [
    "s = '위니브 월드!'\n",
    "print(s[0])"
   ]
  },
  {
   "cell_type": "code",
   "execution_count": 15,
   "id": "661c7fb4",
   "metadata": {},
   "outputs": [
    {
     "name": "stdout",
     "output_type": "stream",
     "text": [
      "!\n"
     ]
    }
   ],
   "source": [
    "s = '위니브 월드!'\n",
    "print(s[-1])"
   ]
  },
  {
   "cell_type": "code",
   "execution_count": 16,
   "id": "34e72e06",
   "metadata": {},
   "outputs": [
    {
     "ename": "IndexError",
     "evalue": "string index out of range",
     "output_type": "error",
     "traceback": [
      "\u001b[31m---------------------------------------------------------------------------\u001b[39m",
      "\u001b[31mIndexError\u001b[39m                                Traceback (most recent call last)",
      "\u001b[36mCell\u001b[39m\u001b[36m \u001b[39m\u001b[32mIn[16]\u001b[39m\u001b[32m, line 2\u001b[39m\n\u001b[32m      1\u001b[39m s = \u001b[33m'\u001b[39m\u001b[33m위니브 월드!\u001b[39m\u001b[33m'\u001b[39m\n\u001b[32m----> \u001b[39m\u001b[32m2\u001b[39m \u001b[38;5;28mprint\u001b[39m(\u001b[43ms\u001b[49m\u001b[43m[\u001b[49m\u001b[32;43m100\u001b[39;49m\u001b[43m]\u001b[49m)\n",
      "\u001b[31mIndexError\u001b[39m: string index out of range"
     ]
    }
   ],
   "source": [
    "s = '위니브 월드!'\n",
    "print(s[100])"
   ]
  },
  {
   "cell_type": "code",
   "execution_count": 26,
   "id": "1073f010",
   "metadata": {},
   "outputs": [
    {
     "name": "stdout",
     "output_type": "stream",
     "text": [
      "1 weniv\n",
      "2 CEO Licat\n",
      "3 weniv CEO Licat\n",
      "4 taciL OEC vinew\n",
      "5 wnvCOLct\n"
     ]
    }
   ],
   "source": [
    "s = 'weniv CEO Licat'\n",
    "print(1, s[0:5])\n",
    "print(2, s[6:])\n",
    "print(3, s[:])\n",
    "print(4, s[::-1])\n",
    "print(5, s[::2])"
   ]
  },
  {
   "cell_type": "code",
   "execution_count": 27,
   "id": "91bb44c3",
   "metadata": {},
   "outputs": [
    {
     "name": "stdout",
     "output_type": "stream",
     "text": [
      "weniv ceo licat\n"
     ]
    }
   ],
   "source": [
    "s = 'weniv CEO Licat'\n",
    "print(s.lower())"
   ]
  },
  {
   "cell_type": "code",
   "execution_count": 28,
   "id": "503b2733",
   "metadata": {},
   "outputs": [
    {
     "name": "stdout",
     "output_type": "stream",
     "text": [
      "WENIV CEO LICAT\n"
     ]
    }
   ],
   "source": [
    "s = 'weniv CEO Licat'\n",
    "print(s.upper())"
   ]
  },
  {
   "cell_type": "code",
   "execution_count": 33,
   "id": "94229bb5",
   "metadata": {},
   "outputs": [
    {
     "name": "stdout",
     "output_type": "stream",
     "text": [
      "6\n"
     ]
    }
   ],
   "source": [
    "s = 'weniv CEO Licat'\n",
    "print(s.find('CEO'))"
   ]
  },
  {
   "cell_type": "code",
   "execution_count": 34,
   "id": "45fefee8",
   "metadata": {},
   "outputs": [
    {
     "name": "stdout",
     "output_type": "stream",
     "text": [
      "-1\n"
     ]
    }
   ],
   "source": [
    "s = 'weniv CEO Licat'\n",
    "print(s.find('CTO'))"
   ]
  },
  {
   "cell_type": "code",
   "execution_count": null,
   "id": "e76f3b1a",
   "metadata": {},
   "outputs": [
    {
     "name": "stdout",
     "output_type": "stream",
     "text": [
      "6\n"
     ]
    }
   ],
   "source": [
    "s = 'weniv CEO Licat'\n",
    "print(s.index('CEO'))"
   ]
  },
  {
   "cell_type": "code",
   "execution_count": 36,
   "id": "348ff686",
   "metadata": {},
   "outputs": [
    {
     "ename": "ValueError",
     "evalue": "substring not found",
     "output_type": "error",
     "traceback": [
      "\u001b[31m---------------------------------------------------------------------------\u001b[39m",
      "\u001b[31mValueError\u001b[39m                                Traceback (most recent call last)",
      "\u001b[36mCell\u001b[39m\u001b[36m \u001b[39m\u001b[32mIn[36]\u001b[39m\u001b[32m, line 2\u001b[39m\n\u001b[32m      1\u001b[39m s = \u001b[33m'\u001b[39m\u001b[33mweniv CEO Licat\u001b[39m\u001b[33m'\u001b[39m\n\u001b[32m----> \u001b[39m\u001b[32m2\u001b[39m \u001b[38;5;28mprint\u001b[39m(\u001b[43ms\u001b[49m\u001b[43m.\u001b[49m\u001b[43mindex\u001b[49m\u001b[43m(\u001b[49m\u001b[33;43m'\u001b[39;49m\u001b[33;43mCTO\u001b[39;49m\u001b[33;43m'\u001b[39;49m\u001b[43m)\u001b[49m)\n",
      "\u001b[31mValueError\u001b[39m: substring not found"
     ]
    }
   ],
   "source": [
    "s = 'weniv CEO Licat'\n",
    "print(s.index('CTO'))"
   ]
  },
  {
   "cell_type": "code",
   "execution_count": null,
   "id": "17df7060",
   "metadata": {},
   "outputs": [
    {
     "data": {
      "text/plain": [
       "2"
      ]
     },
     "execution_count": 37,
     "metadata": {},
     "output_type": "execute_result"
    }
   ],
   "source": [
    "s = 'weniv CEO Licat'\n",
    "s.count('i')"
   ]
  },
  {
   "cell_type": "code",
   "execution_count": 39,
   "id": "751c55ce",
   "metadata": {},
   "outputs": [
    {
     "data": {
      "text/plain": [
       "0"
      ]
     },
     "execution_count": 39,
     "metadata": {},
     "output_type": "execute_result"
    }
   ],
   "source": [
    "s = 'weniv CEO Licat'\n",
    "s.count('r')"
   ]
  },
  {
   "cell_type": "code",
   "execution_count": 41,
   "id": "af841ffa",
   "metadata": {},
   "outputs": [
    {
     "data": {
      "text/plain": [
       "'weniv CTO Licat'"
      ]
     },
     "execution_count": 41,
     "metadata": {},
     "output_type": "execute_result"
    }
   ],
   "source": [
    "s = 'weniv CEO Licat'\n",
    "s.replace('CEO', 'CTO')"
   ]
  },
  {
   "cell_type": "code",
   "execution_count": 42,
   "id": "00dcf724",
   "metadata": {},
   "outputs": [
    {
     "data": {
      "text/plain": [
       "['weniv', 'CEO', 'Licat']"
      ]
     },
     "execution_count": 42,
     "metadata": {},
     "output_type": "execute_result"
    }
   ],
   "source": [
    "s = 'weniv CEO Licat'\n",
    "s.split()"
   ]
  },
  {
   "cell_type": "code",
   "execution_count": 48,
   "id": "55c16a9a",
   "metadata": {},
   "outputs": [
    {
     "data": {
      "text/plain": [
       "['weniv', 'CEO', 'Licat weniv', 'COO', 'mura']"
      ]
     },
     "execution_count": 48,
     "metadata": {},
     "output_type": "execute_result"
    }
   ],
   "source": [
    "s = 'weniv-CEO-Licat weniv-COO-mura'\n",
    "s.split('-')"
   ]
  },
  {
   "cell_type": "code",
   "execution_count": 49,
   "id": "9171697d",
   "metadata": {},
   "outputs": [
    {
     "data": {
      "text/plain": [
       "'weniv-CEO-Licat'"
      ]
     },
     "execution_count": 49,
     "metadata": {},
     "output_type": "execute_result"
    }
   ],
   "source": [
    "s = ['weniv', 'CEO', 'Licat']\n",
    "'-'.join(s)"
   ]
  },
  {
   "cell_type": "code",
   "execution_count": 50,
   "id": "f325fab0",
   "metadata": {},
   "outputs": [
    {
     "data": {
      "text/plain": [
       "'weniv CEO Licat'"
      ]
     },
     "execution_count": 50,
     "metadata": {},
     "output_type": "execute_result"
    }
   ],
   "source": [
    "s = ['weniv', 'CEO', 'Licat']\n",
    "' '.join(s)"
   ]
  },
  {
   "cell_type": "code",
   "execution_count": 52,
   "id": "34fd2864",
   "metadata": {},
   "outputs": [
    {
     "data": {
      "text/plain": [
       "'weniv_CEO_Licat'"
      ]
     },
     "execution_count": 52,
     "metadata": {},
     "output_type": "execute_result"
    }
   ],
   "source": [
    "s = ['weniv', 'CEO', 'Licat']\n",
    "'_'.join(s)"
   ]
  },
  {
   "cell_type": "code",
   "execution_count": null,
   "id": "364a5357",
   "metadata": {},
   "outputs": [
    {
     "name": "stdout",
     "output_type": "stream",
     "text": [
      "제 이름은 hans이고, 제 나이는 34살 입니다.\n",
      "제 이름은 hans이고, 제 나이는 34살 입니다.\n"
     ]
    }
   ],
   "source": [
    "name = 'hans'\n",
    "age = 34\n",
    "\n",
    "print('제 이름은 {}이고, 제 나이는 {}살 입니다.'.format(name, age)) \n",
    "\n",
    "# print( f'제 이름은 {name}이고, 제 나이는 {age}살 입니다.') 이게 더 효율적"
   ]
  },
  {
   "cell_type": "code",
   "execution_count": 78,
   "id": "d33f8cfc",
   "metadata": {},
   "outputs": [
    {
     "name": "stdout",
     "output_type": "stream",
     "text": [
      "Hello\n",
      "world!\n",
      "Hello\tWorld!\n",
      "hans said, 'Hello World!'\n",
      "hans said, \"Hello World!\"\n",
      "\\Hello World\\\n"
     ]
    }
   ],
   "source": [
    "print('Hello\\nworld!')\n",
    "print('Hello\\tWorld!')\n",
    "print('hans said, \\'Hello World!\\'')\n",
    "print('hans said, \\\"Hello World!\\\"')\n",
    "print('\\\\Hello World\\\\')"
   ]
  },
  {
   "cell_type": "code",
   "execution_count": null,
   "id": "4cf6fafe",
   "metadata": {},
   "outputs": [],
   "source": []
  }
 ],
 "metadata": {
  "kernelspec": {
   "display_name": "Python 3",
   "language": "python",
   "name": "python3"
  },
  "language_info": {
   "codemirror_mode": {
    "name": "ipython",
    "version": 3
   },
   "file_extension": ".py",
   "mimetype": "text/x-python",
   "name": "python",
   "nbconvert_exporter": "python",
   "pygments_lexer": "ipython3",
   "version": "3.13.5"
  }
 },
 "nbformat": 4,
 "nbformat_minor": 5
}
