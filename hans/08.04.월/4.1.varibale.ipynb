{
 "cells": [
  {
   "cell_type": "code",
   "execution_count": 3,
   "id": "efb5a6f8",
   "metadata": {},
   "outputs": [
    {
     "name": "stdout",
     "output_type": "stream",
     "text": [
      "hans 34\n"
     ]
    }
   ],
   "source": [
    "name = 'hans'\n",
    "age = 34\n",
    "print(name, age)"
   ]
  },
  {
   "cell_type": "code",
   "execution_count": 4,
   "id": "f63c53e7",
   "metadata": {},
   "outputs": [
    {
     "name": "stdout",
     "output_type": "stream",
     "text": [
      "34 hans\n"
     ]
    }
   ],
   "source": [
    "age = 34\n",
    "name = 'hans'\n",
    "print(age, name)"
   ]
  },
  {
   "cell_type": "code",
   "execution_count": 5,
   "id": "833c0ba0",
   "metadata": {},
   "outputs": [
    {
     "name": "stdout",
     "output_type": "stream",
     "text": [
      "hans kimhans 34\n"
     ]
    }
   ],
   "source": [
    "name = 'hans'\n",
    "Name = 'kimhans'\n",
    "age = 34\n",
    "print(name, Name, age)"
   ]
  },
  {
   "cell_type": "code",
   "execution_count": 13,
   "id": "e779cda3",
   "metadata": {},
   "outputs": [
    {
     "data": {
      "text/plain": [
       "int"
      ]
     },
     "execution_count": 13,
     "metadata": {},
     "output_type": "execute_result"
    }
   ],
   "source": [
    "age = 10\n",
    "type(age)"
   ]
  },
  {
   "cell_type": "code",
   "execution_count": 14,
   "id": "a6c5f0e2",
   "metadata": {},
   "outputs": [
    {
     "data": {
      "text/plain": [
       "str"
      ]
     },
     "execution_count": 14,
     "metadata": {},
     "output_type": "execute_result"
    }
   ],
   "source": [
    "name = 'hans'\n",
    "type(name)"
   ]
  },
  {
   "cell_type": "code",
   "execution_count": 16,
   "id": "ab4bfd46",
   "metadata": {},
   "outputs": [
    {
     "name": "stdout",
     "output_type": "stream",
     "text": [
      "20\n"
     ]
    }
   ],
   "source": [
    "x  = 10\n",
    "print(x+x)"
   ]
  },
  {
   "cell_type": "code",
   "execution_count": 18,
   "id": "ff7d817e",
   "metadata": {},
   "outputs": [
    {
     "name": "stdout",
     "output_type": "stream",
     "text": [
      "hanshans\n"
     ]
    }
   ],
   "source": [
    "y = 'hans'\n",
    "print(y+y)"
   ]
  }
 ],
 "metadata": {
  "kernelspec": {
   "display_name": "Python 3",
   "language": "python",
   "name": "python3"
  },
  "language_info": {
   "codemirror_mode": {
    "name": "ipython",
    "version": 3
   },
   "file_extension": ".py",
   "mimetype": "text/x-python",
   "name": "python",
   "nbconvert_exporter": "python",
   "pygments_lexer": "ipython3",
   "version": "3.13.5"
  }
 },
 "nbformat": 4,
 "nbformat_minor": 5
}
