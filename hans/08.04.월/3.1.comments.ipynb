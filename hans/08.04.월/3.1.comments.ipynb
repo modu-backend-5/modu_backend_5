{
 "cells": [
  {
   "cell_type": "code",
   "execution_count": 1,
   "id": "9b468b3e",
   "metadata": {},
   "outputs": [
    {
     "name": "stdout",
     "output_type": "stream",
     "text": [
      "Hello, World\n"
     ]
    }
   ],
   "source": [
    "# 이것은 주석입니다.\n",
    "print('Hello, World') # 이것도 주석입니다."
   ]
  },
  {
   "cell_type": "code",
   "execution_count": 2,
   "id": "61670968",
   "metadata": {},
   "outputs": [
    {
     "name": "stdout",
     "output_type": "stream",
     "text": [
      "Hello, World 1\n"
     ]
    }
   ],
   "source": [
    "print('Hello, World 1') # 이것도 주석입니다.\n",
    "# print('Hello, World 2') # 이것도 주석입니다."
   ]
  },
  {
   "cell_type": "code",
   "execution_count": 3,
   "id": "e410829c",
   "metadata": {},
   "outputs": [
    {
     "name": "stdout",
     "output_type": "stream",
     "text": [
      "Hello, world!\n"
     ]
    }
   ],
   "source": [
    "'''\n",
    "이건은 주석입니다.\n",
    "이렇게 여러줄 주석을 넣을 수 있습니다.\n",
    "'''\n",
    "print(\"Hello, world!\")"
   ]
  }
 ],
 "metadata": {
  "kernelspec": {
   "display_name": "Python 3",
   "language": "python",
   "name": "python3"
  },
  "language_info": {
   "codemirror_mode": {
    "name": "ipython",
    "version": 3
   },
   "file_extension": ".py",
   "mimetype": "text/x-python",
   "name": "python",
   "nbconvert_exporter": "python",
   "pygments_lexer": "ipython3",
   "version": "3.13.5"
  }
 },
 "nbformat": 4,
 "nbformat_minor": 5
}
