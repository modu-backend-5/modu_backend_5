{
 "cells": [
  {
   "cell_type": "markdown",
   "id": "791a15d8",
   "metadata": {},
   "source": [
    "## for문 과 while문 \n",
    "### 반복문이란 특정 코드를 여러 번 실행하고 싶을 때 사용하는 프로그래밍 도구이다. "
   ]
  },
  {
   "cell_type": "code",
   "execution_count": null,
   "id": "88ceb290",
   "metadata": {},
   "outputs": [
    {
     "name": "stdout",
     "output_type": "stream",
     "text": [
      "h\n",
      "e\n",
      "l\n",
      "l\n",
      "o\n"
     ]
    }
   ],
   "source": [
    "# for 문\n",
    "'''\n",
    "for문은 for 뒤에 오는 변수에 in 뒤에 오는 변수나 리스트, 문자열 같은\n",
    "순환이 가능한 객체를 순회할 때 사용함.\n",
    "'''\n",
    "\n",
    "s = 'hello'\n",
    "for i in s:\n",
    "    print(i)\n",
    "\n",
    "\n",
    "# 위 for문의 작동방식은 아래 예시과 같다.\n",
    "\n",
    "# S = 'hello'\n",
    "#     ________________\n",
    "#     |      | | | | | \n",
    "# for i in ' h e l l o '\n",
    "#     |_______\n",
    "#            |   \n",
    "#     print( i )       \n",
    "\n",
    "# - hello 라는 문자열을 각각 스펠링 하나씩 i에 넣어 순차적으로 출력한다.\n",
    "# 문자열 뿐만 아니라 리스트, 튜플, 딕셔너리를 순회 할때도 사용할수있다.    "
   ]
  },
  {
   "cell_type": "code",
   "execution_count": 35,
   "id": "09f1714e",
   "metadata": {},
   "outputs": [
    {
     "name": "stdout",
     "output_type": "stream",
     "text": [
      "사과\n",
      "바나나\n",
      "딸기\n"
     ]
    }
   ],
   "source": [
    "# 리스트, 튜플, 딕셔너리도 순회가 가능하다.\n",
    "fruits = ['사과', '바나나','딸기']\n",
    "for fruit in fruits:\n",
    "    print(fruit)"
   ]
  },
  {
   "cell_type": "code",
   "execution_count": null,
   "id": "7ce69eb6",
   "metadata": {},
   "outputs": [
    {
     "name": "stdout",
     "output_type": "stream",
     "text": [
      "1\n",
      "2\n",
      "3\n",
      "4\n",
      "하나\n",
      "둘\n",
      "셋\n",
      "넷\n"
     ]
    }
   ],
   "source": [
    "num = (1, 2, 3, 4,)\n",
    "for number in num:\n",
    "    print(number)\n",
    "\n",
    "num = {'하나': 1, '둘': 2, '셋': 3, '넷': 4}\n",
    "for number in num:\n",
    "    print(number)\n"
   ]
  },
  {
   "cell_type": "code",
   "execution_count": 47,
   "id": "da72cc69",
   "metadata": {},
   "outputs": [
    {
     "name": "stdout",
     "output_type": "stream",
     "text": [
      "0\n",
      "1\n",
      "2\n",
      "3\n",
      "4\n"
     ]
    }
   ],
   "source": [
    "# range() 함수를 활용하면 숫자 범위는 쉽게 순회 할수있다.\n",
    "\n",
    "for i in range(5):\n",
    "    print(i)"
   ]
  },
  {
   "cell_type": "code",
   "execution_count": null,
   "id": "4168601d",
   "metadata": {},
   "outputs": [
    {
     "name": "stdout",
     "output_type": "stream",
     "text": [
      "1\n",
      "2\n",
      "3\n",
      "4\n",
      "5\n",
      "\n",
      "1\n",
      "3\n",
      "5\n",
      "7\n",
      "9\n"
     ]
    }
   ],
   "source": [
    "for i in range(1, 6):\n",
    "    print(i)\n",
    "print()\n",
    "    \n",
    "for i in range(1, 10, 2):\n",
    "    print(i)\n"
   ]
  },
  {
   "cell_type": "code",
   "execution_count": 8,
   "id": "7fb13cc8",
   "metadata": {},
   "outputs": [
    {
     "name": "stdout",
     "output_type": "stream",
     "text": [
      "0번째 과일: 사과\n",
      "1번째 과일: 바나나\n",
      "2번째 과일: 오렌지\n"
     ]
    }
   ],
   "source": [
    "fruits = ['사과', '바나나', '오렌지']\n",
    "for index, fruit in enumerate(fruits):\n",
    "    print(f\"{index}번째 과일: {fruit}\")"
   ]
  },
  {
   "cell_type": "code",
   "execution_count": 15,
   "id": "903972c0",
   "metadata": {},
   "outputs": [
    {
     "name": "stdout",
     "output_type": "stream",
     "text": [
      "1번째 방문 도시: 서울\n",
      "2번째 방문 도시: 대전\n",
      "3번째 방문 도시: 대구\n",
      "4번째 방문 도시: 부산\n"
     ]
    }
   ],
   "source": [
    "city = ['서울', '대전', '대구', '부산']\n",
    "for i, 지역 in enumerate(city):\n",
    "    print(f'{i +1}번째 방문 도시: {지역}')"
   ]
  },
  {
   "cell_type": "code",
   "execution_count": 16,
   "id": "299c246b",
   "metadata": {},
   "outputs": [
    {
     "name": "stdout",
     "output_type": "stream",
     "text": [
      "0\n",
      "1\n",
      "2\n",
      "3\n",
      "4\n"
     ]
    }
   ],
   "source": [
    "# while 문\n",
    "# 특정 조건이 참인 동안 계속해서 코드를 실행한다.\n",
    "\n",
    "count = 0\n",
    "while count < 5:\n",
    "    print(count)\n",
    "    count += 1"
   ]
  },
  {
   "cell_type": "code",
   "execution_count": 20,
   "id": "65f186d5",
   "metadata": {},
   "outputs": [
    {
     "name": "stdout",
     "output_type": "stream",
     "text": [
      "0\n",
      "2\n",
      "4\n",
      "6\n",
      "8\n",
      "10\n"
     ]
    }
   ],
   "source": [
    "count = 0\n",
    "while count < 11:\n",
    "    print(count)\n",
    "    count += 2"
   ]
  },
  {
   "cell_type": "code",
   "execution_count": null,
   "id": "7b7542be",
   "metadata": {},
   "outputs": [
    {
     "name": "stdout",
     "output_type": "stream",
     "text": [
      "프로그램을 종료합니다.\n"
     ]
    }
   ],
   "source": [
    "# 무한루프 와 break\n",
    "# while True를 사용하여 무한 루프롤 만들고, \n",
    "# break를 사용하여 루프를 종료 할수있다\n",
    "\n",
    "while True: # 조건이 제시되지 않아 계속하여 실행\n",
    "    answer = input(\"계속하시겠습니까? (y/n): \") # 실행되는 동안에 input을 출력한다\n",
    "    if answer.lower() == 'n': # input으로 지정무자가 들어오면 break를 거는 코드\n",
    "        break\n",
    "print(\"프로그램을 종료합니다.\")"
   ]
  },
  {
   "cell_type": "code",
   "execution_count": 29,
   "id": "fed41288",
   "metadata": {},
   "outputs": [],
   "source": [
    "while True:\n",
    "    answer = input(\"스톱을 해주세요.\")\n",
    "    if answer == '스톱':\n",
    "        break \n"
   ]
  },
  {
   "cell_type": "code",
   "execution_count": null,
   "id": "62fb5a7c",
   "metadata": {},
   "outputs": [
    {
     "name": "stdout",
     "output_type": "stream",
     "text": [
      "0\n",
      "1\n",
      "3\n",
      "4\n"
     ]
    }
   ],
   "source": [
    "# 반복문 제어하기 \n",
    "# continue를 사용하면 현재 반복을 전너뛰고 다음 반복으로 넘어간다.\n",
    "\n",
    "for i in range(5): # 0~4 까지 출력\n",
    "    if i == 2: # 만약 i 가 2와 같으면 \n",
    "        continue # 건너뛴다.\n",
    "    print(i) "
   ]
  },
  {
   "cell_type": "code",
   "execution_count": 42,
   "id": "777a3126",
   "metadata": {},
   "outputs": [
    {
     "name": "stdout",
     "output_type": "stream",
     "text": [
      "0\n",
      "1\n",
      "2\n",
      "4\n",
      "5\n"
     ]
    }
   ],
   "source": [
    "for i in range(6):\n",
    "    if i == 3:\n",
    "        continue\n",
    "    print(i)\n"
   ]
  },
  {
   "cell_type": "code",
   "execution_count": 43,
   "id": "4e3315d1",
   "metadata": {},
   "outputs": [
    {
     "name": "stdout",
     "output_type": "stream",
     "text": [
      "0\n",
      "1\n",
      "2\n",
      "3\n",
      "4\n",
      "반복문이 정상적으로 종료되었습니다.\n"
     ]
    }
   ],
   "source": [
    "# else와 함께 사용도 가능하다\n",
    "# else를 사용하면 반복문이 정상적으로 모두 실행 되었을때, else블록이 실행된다.\n",
    "\n",
    "for i in range(5):\n",
    "    print(i)\n",
    "else:\n",
    "    print(\"반복문이 정상적으로 종료되었습니다.\")"
   ]
  }
 ],
 "metadata": {
  "kernelspec": {
   "display_name": "Python 3",
   "language": "python",
   "name": "python3"
  },
  "language_info": {
   "codemirror_mode": {
    "name": "ipython",
    "version": 3
   },
   "file_extension": ".py",
   "mimetype": "text/x-python",
   "name": "python",
   "nbconvert_exporter": "python",
   "pygments_lexer": "ipython3",
   "version": "3.13.5"
  }
 },
 "nbformat": 4,
 "nbformat_minor": 5
}
