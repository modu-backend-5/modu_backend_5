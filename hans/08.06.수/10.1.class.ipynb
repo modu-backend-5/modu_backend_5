{
 "cells": [
  {
   "cell_type": "code",
   "execution_count": null,
   "id": "9f9dfe4e",
   "metadata": {},
   "outputs": [],
   "source": [
    "class Character: # 클래스\n",
    "    def __init__(hp, mp, power, drop_rate...(생략)):\n",
    "        self.hp = hp # 데이터\n",
    "        self.mp = mp # 데이터\n",
    "        ...(생략)\n",
    " \n",
    "    def move(self): # 기능\n",
    "        ...(생략)\n",
    " \n",
    "    def attack(self): # 기능\n",
    "        ...(생략)\n",
    " \n",
    "hero = Character(100, 100, 100, 0, ...(생략)) # 인스턴스\n",
    "mob1 = Character(30, 30, 30, 0.8, ...(생략)) # 인스턴스\n",
    "mob2 = Character(50, 50, 50, 0.5, ...(생략)) # 인스턴스\n",
    "mob3 = Character(70, 70, 70, 0.3, ...(생략)) # 인스턴스\n",
    "villain = Character(100, 100, 90, 0.1, ...(생략)) # 인스턴스"
   ]
  },
  {
   "cell_type": "code",
   "execution_count": null,
   "id": "bc99a4b7",
   "metadata": {},
   "outputs": [],
   "source": [
    "# 클래스 만들기 | 클래스명은 대문자로 시작\n",
    "class Car:\n",
    "    max_speed = 300\n",
    "    max_people = 5\n",
    "\n",
    "    def staer(self):\n",
    "        print('자동차 출발')\n",
    "\n",
    "    def stop(self):\n",
    "        print('자동차 정지')\n",
    "\n",
    "model_x = Car()\n",
    "model_y = Car()\n",
    "\n"
   ]
  },
  {
   "cell_type": "code",
   "execution_count": null,
   "id": "7b625bc5",
   "metadata": {},
   "outputs": [],
   "source": [
    "hero = {\n",
    "    'name': 'Jun',\n",
    "    'hp': 100,\n",
    "    'mp': 100,\n",
    "    'power': 30,\n",
    "    'drop_rate': 0,\n",
    "    'attack': lambda: f'{hero[\"power\"]}에 파워로 공격하였습니다.',\n",
    "}\n",
    "\n",
    "\n",
    "print(hero['hp'])\n",
    "print(hero['attack']())"
   ]
  }
 ],
 "metadata": {
  "language_info": {
   "name": "python"
  }
 },
 "nbformat": 4,
 "nbformat_minor": 5
}
