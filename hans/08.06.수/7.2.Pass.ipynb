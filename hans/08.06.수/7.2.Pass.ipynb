{
 "cells": [
  {
   "cell_type": "markdown",
   "id": "c7ee6e08",
   "metadata": {},
   "source": [
    "## 함수에서 pass사용하기\n",
    "### pass 문은 하무것도 하지 않을때나, 나중에 코드 작성 및 작업을 하기 위해 표시하는데 사용한다."
   ]
  },
  {
   "cell_type": "code",
   "execution_count": 2,
   "id": "ac2da739",
   "metadata": {},
   "outputs": [],
   "source": [
    "def fusture_function():\n",
    "    pass\n",
    "\n",
    "fusture_function() # 아무일도 일어나지 않음\n"
   ]
  },
  {
   "cell_type": "code",
   "execution_count": null,
   "id": "3cdf17ad",
   "metadata": {},
   "outputs": [
    {
     "name": "stdout",
     "output_type": "stream",
     "text": [
      "pass 문 예제 완료\n"
     ]
    }
   ],
   "source": [
    "# pass는 함수뿐만 아니라 조건문이나 반복문에서도 사용이 가능하다.\n",
    "\n",
    "if True:\n",
    "    pass\n",
    "\n",
    "for i in range(5):\n",
    "    pass\n",
    "\n",
    "print('pass 문 예제 완료')\n",
    "         "
   ]
  }
 ],
 "metadata": {
  "kernelspec": {
   "display_name": "Python 3",
   "language": "python",
   "name": "python3"
  },
  "language_info": {
   "codemirror_mode": {
    "name": "ipython",
    "version": 3
   },
   "file_extension": ".py",
   "mimetype": "text/x-python",
   "name": "python",
   "nbconvert_exporter": "python",
   "pygments_lexer": "ipython3",
   "version": "3.13.5"
  }
 },
 "nbformat": 4,
 "nbformat_minor": 5
}
