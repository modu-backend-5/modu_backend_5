{
 "cells": [
  {
   "cell_type": "code",
   "execution_count": 38,
   "id": "f520f1d2",
   "metadata": {},
   "outputs": [
    {
     "name": "stdout",
     "output_type": "stream",
     "text": [
      "score: 40\n",
      "new_score: 50.0\n",
      "score: 80\n",
      "new_score: 100.0\n",
      "score: 60\n",
      "new_score: 75.0\n",
      "[50.0, 100.0, 75.0]\n",
      "새로운 평균값: 75.0\n"
     ]
    }
   ],
   "source": [
    "# 풀이\n",
    "\n",
    "# 입력부\n",
    "N = int(input())\n",
    "scores = list(map(int, input().split()))\n",
    "\n",
    "#최대값\n",
    "M = max(scores)\n",
    "\n",
    "#새로운 점수 계산하기\n",
    "\n",
    "new_scores = list()\n",
    "for score in scores:\n",
    "    print('score:',score)\n",
    "    \n",
    "    new_score = score / M*100\n",
    "    print('new_score:',new_score)\n",
    "\n",
    "    new_scores.append(new_score)\n",
    "\n",
    "print(new_scores)\n",
    "\n",
    "# 새로운 평균 구하기\n",
    "\n",
    "new_avg = sum(new_scores)/len(new_scores)\n",
    "print('새로운 평균값:', new_avg)"
   ]
  },
  {
   "cell_type": "code",
   "execution_count": 36,
   "id": "3c8aad55",
   "metadata": {},
   "outputs": [
    {
     "name": "stdout",
     "output_type": "stream",
     "text": [
      "75.0\n"
     ]
    }
   ],
   "source": [
    "# 입력부\n",
    "N = int(input())\n",
    "scores = list(map(int, input().split()))\n",
    "\n",
    "#최대값\n",
    "M = max(scores) \n",
    "\n",
    "#새로운 점수 계산하기\n",
    "\n",
    "new_scores = list()\n",
    "for score in scores:\n",
    "    new_score = score / M*100\n",
    "    new_scores.append(new_score)\n",
    "    \n",
    "# 새로운 평균 구하기\n",
    "\n",
    "new_avg = sum(new_scores)/len(new_scores)\n",
    "print(new_avg)\n",
    "\n"
   ]
  },
  {
   "cell_type": "markdown",
   "id": "f0c771cf",
   "metadata": {},
   "source": [
    "새로운 점수 계산하는 차례에서\n",
    "\n",
    "for score in scores 에서\n",
    " scores = [40, 80, 60] 이고,\n",
    "score로 출력 ( print(score) ) 하면 \n",
    "40\n",
    "80\n",
    "60 \n",
    "인데 \n",
    "출력하지 않고 바로 적용해야 하니까,\n",
    " new score 정의 시에 바로 적용하게되면 \n",
    "    new_score = score / M * 100 이 코드가 나오는거고,\n",
    "위 코드를 풀면\n",
    "new scores =  40 / M 100\n",
    "                         80 / M100\n",
    "                         60 / M *100 \n",
    "가 되서 pirnt(new score) 를 하게 되면\n",
    "100\n",
    "60\n",
    "75\n",
    "가 출력이 되고,\n",
    "new_scores.append(new_score) 하게 되면 \n",
    "\n",
    "기존에 new_scores = list() /리스트 라고 정의 해놨으니까\n",
    "append를 하게 되면 "
   ]
  },
  {
   "cell_type": "code",
   "execution_count": null,
   "id": "43516a65",
   "metadata": {},
   "outputs": [
    {
     "data": {
      "text/plain": [
       "60"
      ]
     },
     "execution_count": 37,
     "metadata": {},
     "output_type": "execute_result"
    }
   ],
   "source": []
  }
 ],
 "metadata": {
  "kernelspec": {
   "display_name": "Python 3",
   "language": "python",
   "name": "python3"
  },
  "language_info": {
   "codemirror_mode": {
    "name": "ipython",
    "version": 3
   },
   "file_extension": ".py",
   "mimetype": "text/x-python",
   "name": "python",
   "nbconvert_exporter": "python",
   "pygments_lexer": "ipython3",
   "version": "3.13.5"
  }
 },
 "nbformat": 4,
 "nbformat_minor": 5
}
