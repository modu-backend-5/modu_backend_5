{
 "cells": [
  {
   "cell_type": "markdown",
   "id": "69052af7",
   "metadata": {},
   "source": [
    "## 파이썬 내장함수 란?\n",
    "### 파이썬에 미리 만들어진 함수를 '내장함수'라고 한다.\n",
    "### 이 함수들은 별도의 def 나 설치 없이 사용이 가능하다."
   ]
  },
  {
   "cell_type": "code",
   "execution_count": null,
   "id": "b74b3748",
   "metadata": {},
   "outputs": [
    {
     "name": "stdout",
     "output_type": "stream",
     "text": [
      "출력하기\n"
     ]
    }
   ],
   "source": [
    "# print()는 화면에 텍스트를 출력하는 함수\n",
    "\n",
    "print('출력하기')\n"
   ]
  },
  {
   "cell_type": "code",
   "execution_count": null,
   "id": "34baaebe",
   "metadata": {},
   "outputs": [
    {
     "name": "stdout",
     "output_type": "stream",
     "text": [
      "3\n",
      "3\n"
     ]
    }
   ],
   "source": [
    "# len()은 리스트,문자열 등의 길이를 알려주는 함수\n",
    "\n",
    "fruits = ['사과', '바나나', '오렌지']\n",
    "name = '파이썬'\n",
    "len(fruits)\n",
    "len(name)\n"
   ]
  },
  {
   "cell_type": "code",
   "execution_count": 22,
   "id": "22ec4a8a",
   "metadata": {},
   "outputs": [
    {
     "name": "stdout",
     "output_type": "stream",
     "text": [
      "15\n",
      "6.28\n",
      "제 나이는 25살 입니다.\n"
     ]
    }
   ],
   "source": [
    "# 형변환 함수 \n",
    "# int() : 문자열을 정수로 바꿔주는 함수\n",
    "number = int('10')\n",
    "print(number + 5)\n",
    "\n",
    "# float() : 문자열을 실수로 바꿔주는 함수\n",
    "price = float(\"3.14\")\n",
    "print(price * 2)\n",
    "\n",
    "# str() : 정수,실수열을 문자열로 바꿔주는 함수\n",
    "age = 25\n",
    "message = '제 나이는 ' + str(age) + '살 입니다.'\n",
    "print(message)\n",
    "\n"
   ]
  },
  {
   "cell_type": "code",
   "execution_count": 27,
   "id": "d1e57dcc",
   "metadata": {},
   "outputs": [
    {
     "name": "stdout",
     "output_type": "stream",
     "text": [
      "187\n",
      "427.20000000000005\n",
      "총 계산하실 금액은 134500원 입니다.\n"
     ]
    }
   ],
   "source": [
    "number = int('184')\n",
    "print(number + 3)\n",
    "\n",
    "price = float('142.4')\n",
    "print(price * 3)\n",
    "\n",
    "total_price = 134500\n",
    "message = '총 계산하실 금액은 ' + str(total_price) + '원 입니다.'\n",
    "print(message)"
   ]
  },
  {
   "cell_type": "code",
   "execution_count": 33,
   "id": "d48c57b8",
   "metadata": {},
   "outputs": [
    {
     "name": "stdout",
     "output_type": "stream",
     "text": [
      "안녕하세요, 김현수 입니다.\n"
     ]
    }
   ],
   "source": [
    "# input() : 사용자로 부터 입력을 받는 함수 \n",
    "\n",
    "name = input('이름을 입력하세요:')\n",
    "print('안녕하세요, ' + name + ' 입니다.')\n",
    "\n"
   ]
  },
  {
   "cell_type": "code",
   "execution_count": 35,
   "id": "c28c42ae",
   "metadata": {},
   "outputs": [
    {
     "name": "stdout",
     "output_type": "stream",
     "text": [
      "반갑습니다. 님 어서오세요.\n"
     ]
    }
   ],
   "source": [
    "name = input('당신의 이름은 무엇인가요?')\n",
    "print('반갑습니다. ' + name + '님 어서오세요.')"
   ]
  },
  {
   "cell_type": "code",
   "execution_count": null,
   "id": "5b472138",
   "metadata": {},
   "outputs": [
    {
     "data": {
      "text/plain": [
       "[1, 3, 5, 7, 9]"
      ]
     },
     "execution_count": 52,
     "metadata": {},
     "output_type": "execute_result"
    }
   ],
   "source": [
    "# range() : 연속된 숫자를 생성 하는 함수 \n",
    "# 주로 for 반복문과 함께 사용\n",
    "# for문에서 사용하지 않을경우 리스트로 만들지 않으면 문자 그대로 출력하니, \n",
    "# 일반 사용시 list(range())로 사용 권장\n",
    "\n",
    "# range에 첫번째 값은 어디서 부터 시작할지 이고,\n",
    "#  두번째 값은 어디까지 생성 할 것인지 이고,\n",
    "#  세번째 값은 몇개씩 건너 뛸 것 인가를 나타내며, 미 입력시 0 으로 인지한다.\n",
    "\n",
    "range(10) # range(0, 10) 출력\n",
    "list(range(1, 11)) # [1, 2, 3, 4, 5, 6, 7, 8, 9, 10] 출력 범위는 -1을 해야한다\n",
    "list(range(1, 11, 2)) # 하나를 더 쓰게 되면 쓴 숫자 만큼 증가된 값을 출력\n"
   ]
  },
  {
   "cell_type": "code",
   "execution_count": 73,
   "id": "08fad461",
   "metadata": {},
   "outputs": [
    {
     "name": "stdout",
     "output_type": "stream",
     "text": [
      "range(0, 5)\n",
      "[0, 1, 2, 3, 4]\n",
      "[0, 1, 2, 3, 4]\n",
      "[1, 2, 3, 4, 5]\n"
     ]
    }
   ],
   "source": [
    "range(5)\n",
    "print(range(5))\n",
    "\n",
    "list(range(5))\n",
    "print(list(range(5)))\n",
    "\n",
    "list(range(0,5))\n",
    "print(list(range(0,5)))\n",
    "\n",
    "list(range(1,6))\n",
    "print(list(range(1,6)))\n"
   ]
  },
  {
   "cell_type": "code",
   "execution_count": 88,
   "id": "118a33a3",
   "metadata": {},
   "outputs": [
    {
     "name": "stdout",
     "output_type": "stream",
     "text": [
      "15\n"
     ]
    },
    {
     "data": {
      "text/plain": [
       "1"
      ]
     },
     "execution_count": 88,
     "metadata": {},
     "output_type": "execute_result"
    }
   ],
   "source": [
    "# sum() : 리스트의 합계를 구하는 함수\n",
    "number = [1, 2, 3, 4, 5]\n",
    "print(sum(number))\n",
    "\n",
    "# max() : 리스트의 최댓값을 구하는 함수\n",
    "max(number)\n",
    "\n",
    "# min() : 리스트의 최소값을 구하는 함수\n",
    "min(number)\n"
   ]
  },
  {
   "cell_type": "code",
   "execution_count": 96,
   "id": "38f79ebb",
   "metadata": {},
   "outputs": [
    {
     "name": "stdout",
     "output_type": "stream",
     "text": [
      "36\n",
      "11\n",
      "1\n"
     ]
    }
   ],
   "source": [
    "number = [5, 3, 1, 11, 9, 7]\n",
    "print(sum(number))\n",
    "\n",
    "print(max(number))\n",
    "\n",
    "print(min(number))\n"
   ]
  }
 ],
 "metadata": {
  "kernelspec": {
   "display_name": "Python 3",
   "language": "python",
   "name": "python3"
  },
  "language_info": {
   "codemirror_mode": {
    "name": "ipython",
    "version": 3
   },
   "file_extension": ".py",
   "mimetype": "text/x-python",
   "name": "python",
   "nbconvert_exporter": "python",
   "pygments_lexer": "ipython3",
   "version": "3.13.5"
  }
 },
 "nbformat": 4,
 "nbformat_minor": 5
}
