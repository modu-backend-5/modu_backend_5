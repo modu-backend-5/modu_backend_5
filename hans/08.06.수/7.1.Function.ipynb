{
 "cells": [
  {
   "cell_type": "markdown",
   "id": "fc558b44",
   "metadata": {},
   "source": [
    "## 함수\n",
    "### 특정 작업을 수행하는 코드의 묶음이다. 코드의 재사용성이 좋아진다."
   ]
  },
  {
   "cell_type": "code",
   "execution_count": 2,
   "id": "a6b9c52c",
   "metadata": {},
   "outputs": [
    {
     "name": "stdout",
     "output_type": "stream",
     "text": [
      "안녕하세요!\n"
     ]
    }
   ],
   "source": [
    "def greet(): # 함수 정의\n",
    "    print(\"안녕하세요!\")\n",
    "\n",
    "\n",
    "greet()  # 함수 호출"
   ]
  },
  {
   "cell_type": "code",
   "execution_count": 5,
   "id": "7acd6321",
   "metadata": {},
   "outputs": [
    {
     "name": "stdout",
     "output_type": "stream",
     "text": [
      "반갑습니다 저는 김현수입니다.\n"
     ]
    }
   ],
   "source": [
    "def geet():\n",
    "    print('반갑습니다 저는 김현수입니다.')\n",
    "\n",
    "geet()"
   ]
  },
  {
   "cell_type": "code",
   "execution_count": 8,
   "id": "b8b7cc6d",
   "metadata": {},
   "outputs": [
    {
     "name": "stdout",
     "output_type": "stream",
     "text": [
      "Hello, World\n"
     ]
    }
   ],
   "source": [
    "# 함수 정의\n",
    "# 함수는 def를 사용하여 정의 하고, 함수 이름 뒤에 괄호를 붙이고, 콜론 : 으로 끝낸다\n",
    "\n",
    "def say_Hello():\n",
    "    print('Hello, World')\n",
    "\n",
    "say_Hello()\n"
   ]
  },
  {
   "cell_type": "code",
   "execution_count": 10,
   "id": "bb017bbe",
   "metadata": {},
   "outputs": [
    {
     "name": "stdout",
     "output_type": "stream",
     "text": [
      "Oh shit is monday\n"
     ]
    }
   ],
   "source": [
    "def osim():\n",
    "    print('Oh shit is monday')\n",
    "\n",
    "osim()\n"
   ]
  },
  {
   "cell_type": "code",
   "execution_count": null,
   "id": "159af3ed",
   "metadata": {},
   "outputs": [
    {
     "name": "stdout",
     "output_type": "stream",
     "text": [
      "안녕하세요, 영희님!\n",
      "안녕하세요, 철수님!\n"
     ]
    }
   ],
   "source": [
    "# 매개변수 (Parameter)\n",
    "# 함수에 정보를 전달하기 위해 사용하는 것이 매개변수이다.\n",
    "# 함수의 ()안에 들어가 있는 내용은 인자(argument)라고 한다.\n",
    "\n",
    "def geet(name): # name 매개변수(파라미터)\n",
    "    print(f'안녕하세요, {name}님!')\n",
    "\n",
    "geet('영희') # '영희' 인자(아규먼트)\n",
    "geet('철수') # '철수' 인자(아규먼트)\n",
    "\n"
   ]
  },
  {
   "cell_type": "code",
   "execution_count": 19,
   "id": "63d70651",
   "metadata": {},
   "outputs": [
    {
     "name": "stdout",
     "output_type": "stream",
     "text": [
      "반갑습니다. 어서오세요, BOB님!\n",
      "반갑습니다. 어서오세요, hans님!\n",
      "반갑습니다. 어서오세요, 민서님!\n",
      "반갑습니다. 어서오세요, 사용자님!\n"
     ]
    }
   ],
   "source": [
    "def hi(name):\n",
    "    print(f'반갑습니다. 어서오세요, {name}님!')\n",
    "\n",
    "hi('BOB')\n",
    "hi('hans')\n",
    "hi('민서')\n",
    "hi('사용자')\n"
   ]
  },
  {
   "cell_type": "code",
   "execution_count": null,
   "id": "4375c7f3",
   "metadata": {},
   "outputs": [
    {
     "name": "stdout",
     "output_type": "stream",
     "text": [
      "6\n",
      "3 + 5 = 8\n"
     ]
    }
   ],
   "source": [
    "# 반환값 (Return Value)\n",
    "# 함수는 return 문을 사용하여 결과를 반환할 수 있다.\n",
    "\n",
    "def add(a,b):      \n",
    "    return a + b  # 리턴문은 함수의 파타미터 및 아규먼트를 가져와 사용한다.\n",
    "\n",
    "print(add(1,5)) # 함수에 리턴문을 사용하면 입력 받은 아규먼트를 리턴문의 내용으로 작업을 거친 후 출력해준다.\n",
    "\n",
    "result = add(3, 5)\n",
    "print('3 + 5 =', result)\n"
   ]
  },
  {
   "cell_type": "code",
   "execution_count": null,
   "id": "39714025",
   "metadata": {},
   "outputs": [
    {
     "name": "stdout",
     "output_type": "stream",
     "text": [
      "72.25\n"
     ]
    }
   ],
   "source": [
    "def plus(a,b,c):\n",
    "    return a * b + c / a\n",
    "\n",
    "print(plus(12, 6, 3))\n",
    "#동작 return 12 * 6 + 3 / 12"
   ]
  },
  {
   "cell_type": "code",
   "execution_count": null,
   "id": "d581b3f2",
   "metadata": {},
   "outputs": [
    {
     "name": "stdout",
     "output_type": "stream",
     "text": [
      "안녕하세요, 손님님!\n",
      "안녕하세요, 영희님!\n"
     ]
    }
   ],
   "source": [
    "# 기본 매개변수 (Default Parameter)\n",
    "# 함수의 매개변수에 기본값을 지정할 수 있다.\n",
    "\n",
    "def greet(name='손님'): # ()안에 ='손님'과 같이 매개변수 후 = ' '로 정의 하면 기본 매개변수로 지정된다.\n",
    "    print(f'안녕하세요, {name}님!')\n",
    "\n",
    "greet() # 이때, 함수에서는 정의 하여 입력 하였지만 사용 시 아무것도 입력하지 않으면 기본 매개변수가 출력된다.\n",
    "greet('영희') # 이렇게 인자값을 넣으면 인자 값을 대입해 출력한다."
   ]
  },
  {
   "cell_type": "code",
   "execution_count": null,
   "id": "b07270db",
   "metadata": {},
   "outputs": [
    {
     "name": "stdout",
     "output_type": "stream",
     "text": [
      "반갑습니다, 사용자님!, 오늘도 즐거운 하루 보내세요!\n",
      "반갑습니다, hans님!, 오늘도 즐거운 하루 보내세요!\n",
      "반갑습니다, 민선님!, 오늘도 즐거운 하루 보내세요!\n"
     ]
    }
   ],
   "source": [
    "def hi(name='사용자'):\n",
    "    print(f'반갑습니다, {name}님!, 오늘도 즐거운 하루 보내세요!')\n",
    "\n",
    "hi()\n",
    "hi('hans')\n",
    "hi('민선')\n"
   ]
  },
  {
   "cell_type": "code",
   "execution_count": null,
   "id": "d9d69ff8",
   "metadata": {},
   "outputs": [
    {
     "name": "stdout",
     "output_type": "stream",
     "text": [
      "제 이름은 철수이고, 20살입니다.\n",
      "제 이름은 영희이고, 25살입니다.\n"
     ]
    }
   ],
   "source": [
    "# 키워트 인자 (Keyword Arguments)\n",
    "# 함수를 호출할 때 매개변수의 이름을 저장하여 전달할 수 있다.\n",
    "\n",
    "def introduce(name, age):\n",
    "    print(f'제 이름은 {name}이고, {age}살입니다.')\n",
    "\n",
    "introduce(name='철수', age='20') # 함수에서 지정된 매개변수를 입력 후 ='인자값'을 입력하게 되면, \n",
    "introduce(age='25', name='영희') # 작성 순서에 상관없이 함수에서 지정한 매개변수 위치로 들어가 출력 "
   ]
  },
  {
   "cell_type": "code",
   "execution_count": 38,
   "id": "724dac43",
   "metadata": {},
   "outputs": [
    {
     "name": "stdout",
     "output_type": "stream",
     "text": [
      "제 이름은 BOB이고, 나이는 28이며, 사는곳은 seoul입니다.\n",
      "제 이름은 chee이고, 나이는 31이며, 사는곳은 jeju입니다.\n",
      "제 이름은 hans이고, 나이는 34이며, 사는곳은 yongin입니다.\n"
     ]
    }
   ],
   "source": [
    "def introduce(name, age, city):\n",
    "    print(f'제 이름은 {name}이고, 나이는 {age}이며, 사는곳은 {city}입니다.')\n",
    "\n",
    "    \n",
    "introduce(city='seoul', name='BOB', age='28')\n",
    "introduce(age='31', name='chee', city='jeju')\n",
    "introduce('hans', '34', 'yongin')"
   ]
  },
  {
   "cell_type": "code",
   "execution_count": 55,
   "id": "8260c1b2",
   "metadata": {},
   "outputs": [
    {
     "name": "stdout",
     "output_type": "stream",
     "text": [
      "함수내부: 10\n",
      "함수내부 + 함수외부: 18\n"
     ]
    }
   ],
   "source": [
    "# 지역 변수와 전역 변수\n",
    "# 지역 변수는 함수 내부에 선언된 변수이다\n",
    "# 전역 변수는 함수 외부에 선언된 변수이다\n",
    "\n",
    "def local_var_example():\n",
    "    x = 10 # 이게 지역변수\n",
    "    print('함수내부:', x)\n",
    "\n",
    "y = 8 # 이게 전역변수 \n",
    "\n",
    "local_var_example()\n",
    "\n",
    "# 또한, 지역 변수는 외부로 불러오는게 불가능하다.\n",
    "\n",
    "# print(x)\n",
    "\n",
    "# 하지만, 전역변수는 함수 내부로 불러와 사용이 가능하다.\n",
    "\n",
    "def local():\n",
    "    x = 10 # 이게 지역변수\n",
    "    print('함수내부 + 함수외부:', x+y)\n",
    "\n",
    "local()\n",
    "\n"
   ]
  },
  {
   "cell_type": "code",
   "execution_count": null,
   "id": "f9314a58",
   "metadata": {},
   "outputs": [],
   "source": []
  }
 ],
 "metadata": {
  "kernelspec": {
   "display_name": "Python 3",
   "language": "python",
   "name": "python3"
  },
  "language_info": {
   "codemirror_mode": {
    "name": "ipython",
    "version": 3
   },
   "file_extension": ".py",
   "mimetype": "text/x-python",
   "name": "python",
   "nbconvert_exporter": "python",
   "pygments_lexer": "ipython3",
   "version": "3.13.5"
  }
 },
 "nbformat": 4,
 "nbformat_minor": 5
}
