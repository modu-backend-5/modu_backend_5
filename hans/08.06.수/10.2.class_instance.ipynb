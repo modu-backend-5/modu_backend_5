{
 "cells": [
  {
   "cell_type": "code",
   "execution_count": null,
   "id": "79cdd094",
   "metadata": {},
   "outputs": [
    {
     "name": "stdout",
     "output_type": "stream",
     "text": [
      "300\n",
      "5\n"
     ]
    }
   ],
   "source": [
    "# 클래스 변수 | 공통적으로 사용되는 변수 모든 인스턴스객체가 공유하는 변수\n",
    "\n",
    "class Car:\n",
    "    max_speed = 300\n",
    "    max_people = 5\n",
    "\n",
    "modelx = Car()\n",
    "\n",
    "print(modelx.max_speed)\n",
    "print(modelx.max_people)\n",
    "\n"
   ]
  },
  {
   "cell_type": "code",
   "execution_count": 4,
   "id": "21b82ac0",
   "metadata": {},
   "outputs": [
    {
     "name": "stdout",
     "output_type": "stream",
     "text": [
      "300\n",
      "300\n",
      "500\n"
     ]
    }
   ],
   "source": [
    "class Car:\n",
    "    # 클래스 변수의 위치\n",
    "    max_speed = 300\n",
    "    max_people = 5\n",
    "\n",
    "\n",
    "modelx = Car()\n",
    "modely = Car()\n",
    "\n",
    "\n",
    "modely.max_speed = 500 #인스턴스 변수 / 각 객체의 변수\n",
    "\n",
    "\n",
    "print(Car.max_speed)\n",
    "print(modelx.max_speed)\n",
    "print(modely.max_speed)"
   ]
  },
  {
   "cell_type": "code",
   "execution_count": null,
   "id": "9ac5dda4",
   "metadata": {},
   "outputs": [],
   "source": []
  },
  {
   "cell_type": "code",
   "execution_count": 5,
   "id": "b5453d14",
   "metadata": {},
   "outputs": [
    {
     "name": "stdout",
     "output_type": "stream",
     "text": [
      "500\n",
      "500\n",
      "500\n"
     ]
    }
   ],
   "source": [
    "class Car:\n",
    "    # 클래스 변수의 위치\n",
    "    max_speed = 300\n",
    "    max_people = 5\n",
    "\n",
    "\n",
    "modelx = Car()\n",
    "modely = Car()\n",
    "\n",
    "\n",
    "Car.max_speed = 500 # 클래스 변수를 변경\n",
    "\n",
    "\n",
    "print(Car.max_speed)\n",
    "print(modelx.max_speed)\n",
    "print(modely.max_speed)"
   ]
  },
  {
   "cell_type": "code",
   "execution_count": 6,
   "id": "7ea0acae",
   "metadata": {},
   "outputs": [
    {
     "name": "stdout",
     "output_type": "stream",
     "text": [
      "modelx.speed: 500\n",
      "modely.speed: 250\n"
     ]
    }
   ],
   "source": [
    "class Car:\n",
    "    speed = 300\n",
    "\n",
    "    def change_speed(self,speed) :\n",
    "        self.speed = speed\n",
    "\n",
    "modelx = Car()\n",
    "modely = Car()\n",
    "\n",
    "modelx.change_speed(500)\n",
    "modely.change_speed(250)\n",
    "\n",
    "print(f'modelx.speed: {modelx.speed}')\n",
    "print(f'modely.speed: {modely.speed}')\n",
    "\n"
   ]
  },
  {
   "cell_type": "code",
   "execution_count": 14,
   "id": "456a1a0a",
   "metadata": {},
   "outputs": [
    {
     "name": "stdout",
     "output_type": "stream",
     "text": [
      "['modelx', 'modely']\n",
      "['modelx', 'modely']\n"
     ]
    }
   ],
   "source": [
    "class Car:\n",
    "    kinds = []\n",
    "    \n",
    "    def add_kinds(self, name):\n",
    "        self.kinds.append(name)\n",
    "\n",
    "modelx = Car()\n",
    "modely = Car()\n",
    "\n",
    "modelx.add_kinds('modelx')\n",
    "modely.add_kinds('modely')\n",
    "\n",
    "print(modelx.kinds)\n",
    "print(modely.kinds)\n"
   ]
  }
 ],
 "metadata": {
  "kernelspec": {
   "display_name": "Python 3",
   "language": "python",
   "name": "python3"
  },
  "language_info": {
   "codemirror_mode": {
    "name": "ipython",
    "version": 3
   },
   "file_extension": ".py",
   "mimetype": "text/x-python",
   "name": "python",
   "nbconvert_exporter": "python",
   "pygments_lexer": "ipython3",
   "version": "3.13.5"
  }
 },
 "nbformat": 4,
 "nbformat_minor": 5
}
