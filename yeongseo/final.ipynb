{
 "cells": [
  {
   "cell_type": "markdown",
   "id": "af1c6d26",
   "metadata": {},
   "source": [
    "# 기말 고사\n",
    "## 문제 1"
   ]
  },
  {
   "cell_type": "code",
   "execution_count": 1,
   "id": "fbb3e42f",
   "metadata": {},
   "outputs": [
    {
     "name": "stdout",
     "output_type": "stream",
     "text": [
      "5050\n"
     ]
    }
   ],
   "source": [
    "a=0\n",
    "for i in range(1,101):\n",
    "    a+=i\n",
    "print(a)"
   ]
  },
  {
   "cell_type": "markdown",
   "id": "a8ceb2fd",
   "metadata": {},
   "source": [
    "## 문제 2"
   ]
  },
  {
   "cell_type": "code",
   "execution_count": 2,
   "id": "0e7a0d41",
   "metadata": {},
   "outputs": [
    {
     "name": "stdout",
     "output_type": "stream",
     "text": [
      "29.428571428571427\n"
     ]
    }
   ],
   "source": [
    "data = [\n",
    "  {\n",
    "    \"_id\": \"6019fd4354979ca26b8f91dc\",\n",
    "    \"age\": 26,\n",
    "    \"eyeColor\": \"green\",\n",
    "    \"name\": \"Bender Allen\",\n",
    "    \"gender\": \"male\"\n",
    "  },\n",
    "  {\n",
    "    \"_id\": \"6019fd43db2951868889a0b4\",\n",
    "    \"age\": 27,\n",
    "    \"eyeColor\": \"blue\",\n",
    "    \"name\": \"Jacobs Golden\",\n",
    "    \"gender\": \"male\"\n",
    "  },\n",
    "  {\n",
    "    \"_id\": \"6019fd438c0bf8e775c28536\",\n",
    "    \"age\": 27,\n",
    "    \"eyeColor\": \"brown\",\n",
    "    \"name\": \"Grimes Oneal\",\n",
    "    \"gender\": \"male\"\n",
    "  },\n",
    "  {\n",
    "    \"_id\": \"6019fd43b68a7fd8b081ab26\",\n",
    "    \"age\": 40,\n",
    "    \"eyeColor\": \"blue\",\n",
    "    \"name\": \"Melissa Joyce\",\n",
    "    \"gender\": \"female\"\n",
    "  },\n",
    "  {\n",
    "    \"_id\": \"6019fd436c1edc4757aabb9d\",\n",
    "    \"age\": 32,\n",
    "    \"eyeColor\": \"blue\",\n",
    "    \"name\": \"Malone Bush\",\n",
    "    \"gender\": \"male\"\n",
    "  },\n",
    "  {\n",
    "    \"_id\": \"6019fd438eaf753918f55226\",\n",
    "    \"age\": 34,\n",
    "    \"eyeColor\": \"green\",\n",
    "    \"name\": \"Davenport Hyde\",\n",
    "    \"gender\": \"male\"\n",
    "  },\n",
    "  {\n",
    "    \"_id\": \"6019fd43c35929ff95004109\",\n",
    "    \"age\": 20,\n",
    "    \"eyeColor\": \"blue\",\n",
    "    \"name\": \"Shauna Blevins\",\n",
    "    \"gender\": \"female\"\n",
    "  }\n",
    "]\n",
    "sum_age=0\n",
    "for i in data:\n",
    "    x=i. get('age')\n",
    "    sum_age+=x\n",
    "print(sum_age/len(data))"
   ]
  },
  {
   "cell_type": "markdown",
   "id": "c5b854d5",
   "metadata": {},
   "source": [
    "## 문제 3"
   ]
  },
  {
   "cell_type": "code",
   "execution_count": null,
   "id": "34ee5bcc",
   "metadata": {},
   "outputs": [],
   "source": [
    "\n",
    "data = [\n",
    "  {\n",
    "    \"_id\": \"6019fd4354979ca26b8f91dc\",\n",
    "    \"age\": 26,\n",
    "    \"eyeColor\": \"green\",\n",
    "    \"name\": \"Bender Allen\",\n",
    "    \"gender\": \"male\"\n",
    "  },\n",
    "  {\n",
    "    \"_id\": \"6019fd43db2951868889a0b4\",\n",
    "    \"age\": 27,\n",
    "    \"eyeColor\": \"blue\",\n",
    "    \"name\": \"Jacobs Golden\",\n",
    "    \"gender\": \"male\"\n",
    "  },\n",
    "  {\n",
    "    \"_id\": \"6019fd438c0bf8e775c28536\",\n",
    "    \"age\": 27,\n",
    "    \"eyeColor\": \"brown\",\n",
    "    \"name\": \"Grimes Oneal\",\n",
    "    \"gender\": \"male\"\n",
    "  },\n",
    "  {\n",
    "    \"_id\": \"6019fd43b68a7fd8b081ab26\",\n",
    "    \"age\": 40,\n",
    "    \"eyeColor\": \"blue\",\n",
    "    \"name\": \"Melissa Joyce\",\n",
    "    \"gender\": \"female\"\n",
    "  },\n",
    "  {\n",
    "    \"_id\": \"6019fd436c1edc4757aabb9d\",\n",
    "    \"age\": 32,\n",
    "    \"eyeColor\": \"blue\",\n",
    "    \"name\": \"Malone Bush\",\n",
    "    \"gender\": \"male\"\n",
    "  },\n",
    "  {\n",
    "    \"_id\": \"6019fd438eaf753918f55226\",\n",
    "    \"age\": 34,\n",
    "    \"eyeColor\": \"green\",\n",
    "    \"name\": \"Davenport Hyde\",\n",
    "    \"gender\": \"male\"\n",
    "  },\n",
    "  {\n",
    "    \"_id\": \"6019fd43c35929ff95004109\",\n",
    "    \"age\": 20,\n",
    "    \"eyeColor\": \"blue\",\n",
    "    \"name\": \"Shauna Blevins\",\n",
    "    \"gender\": \"female\"\n",
    "  }\n",
    "]\n",
    "\n",
    "\n",
    "\n",
    "\n",
    "\n",
    "class User:\n",
    "    def __init__(self,_id, age, eyeColor, name, gender):\n",
    "        self._id= _id\n",
    "        self.age= age\n",
    "        self.eyeColor= eyeColor\n",
    "        self.name=name\n",
    "        self.gender=gender\n",
    "\n",
    "user_list=[]\n",
    "\n",
    "\n",
    "# for t,k in enumerate(data):\n",
    "#     user= User(k.get('id'),k.get('age'),k.get('eyecolor'),k.get('name'),k.get('gender'))\n",
    "#     user_list. append(user)\n",
    "\n",
    "# user_list[0].age\n",
    "\n",
    "user1=User(data[0].get('_id'),data[0].get('age'),data[0].get('eyeColor'),data[0].get('name'),data[0].get('gende'))\n",
    "user2=User(data[1].get('_id'),data[1].get('age'),data[1].get('eyeColor'),data[1].get('name'),data[1].get('gende'))\n",
    "user3=User(data[2].get('_id'),data[2].get('age'),data[2].get('eyeColor'),data[2].get('name'),data[2].get('gende'))\n",
    "user4=User(data[3].get('_id'),data[3].get('age'),data[3].get('eyeColor'),data[3].get('name'),data[3].get('gende'))\n",
    "user5=User(data[4].get('_id'),data[4].get('age'),data[4].get('eyeColor'),data[4].get('name'),data[4].get('gende'))\n",
    "user6=User(data[5].get('_id'),data[5].get('age'),data[5].get('eyeColor'),data[5].get('name'),data[5].get('gende'))\n",
    "user7=User(data[6].get('_id'),data[6].get('age'),data[6].get('eyeColor'),data[6].get('name'),data[6].get('gende'))\n",
    "user_list.append(user1)\n",
    "user_list.append(user2)\n",
    "user_list.append(user3)\n",
    "user_list.append(user4)\n",
    "user_list.append(user5)\n",
    "user_list.append(user6)\n",
    "user_list.append(user7)\n",
    "\n",
    "\n",
    "\n"
   ]
  }
 ],
 "metadata": {
  "kernelspec": {
   "display_name": "Python 3",
   "language": "python",
   "name": "python3"
  },
  "language_info": {
   "codemirror_mode": {
    "name": "ipython",
    "version": 3
   },
   "file_extension": ".py",
   "mimetype": "text/x-python",
   "name": "python",
   "nbconvert_exporter": "python",
   "pygments_lexer": "ipython3",
   "version": "3.13.5"
  }
 },
 "nbformat": 4,
 "nbformat_minor": 5
}
