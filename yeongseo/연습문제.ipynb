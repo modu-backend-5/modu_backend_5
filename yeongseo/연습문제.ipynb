{
 "cells": [
  {
   "cell_type": "markdown",
   "id": "8754ab7f",
   "metadata": {},
   "source": [
    "## 2번 문제"
   ]
  },
  {
   "cell_type": "code",
   "execution_count": 2,
   "id": "fa6f0571",
   "metadata": {},
   "outputs": [
    {
     "name": "stdout",
     "output_type": "stream",
     "text": [
      "plus : 15\n",
      "minus : 5\n",
      "multiply : 50\n",
      "divide : 2.0\n"
     ]
    }
   ],
   "source": [
    "def plus(num1, num2):\n",
    "    return num1+num2\n",
    " \n",
    "def minus(num1, num2):\n",
    "    return num1-num2\n",
    " \n",
    "def multiply(num1, num2):\n",
    "    return num1*num2\n",
    " \n",
    "def divide(num1, num2):\n",
    "    return num1/num2\n",
    " \n",
    "print(f'plus : {plus(10, 5)}')\n",
    "print(f'minus : {minus(10, 5)}')\n",
    "print(f'multiply : {multiply(10, 5)}')\n",
    "print(f'divide : {divide(10, 5)}')"
   ]
  },
  {
   "cell_type": "markdown",
   "id": "20a7fdf6",
   "metadata": {},
   "source": [
    "## 3번 문제"
   ]
  },
  {
   "cell_type": "code",
   "execution_count": 5,
   "id": "b6344fe5",
   "metadata": {},
   "outputs": [
    {
     "data": {
      "text/plain": [
       "-5"
      ]
     },
     "execution_count": 5,
     "metadata": {},
     "output_type": "execute_result"
    }
   ],
   "source": [
    "def cal(a,b):\n",
    "    return (a+b)*(a-b)\n",
    "\n",
    "cal(2,3)"
   ]
  },
  {
   "cell_type": "markdown",
   "id": "712e282b",
   "metadata": {},
   "source": [
    "## 4번 문제"
   ]
  },
  {
   "cell_type": "code",
   "execution_count": 1,
   "id": "df43ca48",
   "metadata": {},
   "outputs": [
    {
     "data": {
      "text/plain": [
       "9"
      ]
     },
     "execution_count": 1,
     "metadata": {},
     "output_type": "execute_result"
    }
   ],
   "source": [
    "def sqr(x,n):\n",
    "    if x==0 or n<=1:\n",
    "        return '조건에 부합하지 않습니다.'\n",
    "    else:\n",
    "        return x**n\n",
    "\n",
    "sqr(3,2)\n",
    "    "
   ]
  },
  {
   "cell_type": "markdown",
   "id": "880f9526",
   "metadata": {},
   "source": [
    "## 6번 문제"
   ]
  },
  {
   "cell_type": "code",
   "execution_count": 2,
   "id": "f76902bd",
   "metadata": {},
   "outputs": [
    {
     "name": "stdout",
     "output_type": "stream",
     "text": [
      "True\n"
     ]
    }
   ],
   "source": [
    "def is_palindrome(s:str):\n",
    "    if s==s[::-1]:\n",
    "        print(True)\n",
    "    else :\n",
    "        print(False)\n",
    "    \n",
    "is_palindrome('1234321')\n"
   ]
  },
  {
   "cell_type": "markdown",
   "id": "7b5a0672",
   "metadata": {},
   "source": [
    "## 7번 문제"
   ]
  },
  {
   "cell_type": "code",
   "execution_count": 7,
   "id": "86a70d47",
   "metadata": {},
   "outputs": [
    {
     "name": "stdout",
     "output_type": "stream",
     "text": [
      "[3, 5, 7, 9]\n"
     ]
    }
   ],
   "source": [
    "numbers = [2, 2, 3, 4, 5, 6, 7, 8, 9, 10]\n",
    "# for 문 사용\n",
    "# def rem_even(num_list:list):\n",
    "#     for i in num_list:\n",
    "#         if i%2==0:\n",
    "#             numbers.remove(i)\n",
    "#         else :\n",
    "#             pass\n",
    "#     print(numbers)\n",
    "\n",
    "# rem_even(numbers)\n",
    "\n",
    "# # filter 사용\n",
    "number=list(filter(lambda a: a%2==1, numbers))\n",
    "print(number)"
   ]
  },
  {
   "cell_type": "markdown",
   "id": "7c7c0c74",
   "metadata": {},
   "source": [
    "## 8번 문제 **"
   ]
  },
  {
   "cell_type": "code",
   "execution_count": 8,
   "id": "ff3bb87f",
   "metadata": {},
   "outputs": [
    {
     "name": "stdout",
     "output_type": "stream",
     "text": [
      "[[3, 'hworl', 33], [4, 'hello w', 31], [6, 'hello w', 39], [5, 'hello wo', 35], [2, 'hello world', 30]]\n"
     ]
    }
   ],
   "source": [
    "data = [\n",
    "  [2, 'hello world', 30],\n",
    "  [3, 'hworl', 33],\n",
    "  [5, 'hello wo', 35],\n",
    "  [4, 'hello w', 31],\n",
    "  [6, 'hello w', 39],\n",
    "]\n",
    "new_data=sorted(data, key=lambda x : len(x[1]))\n",
    "print(new_data)"
   ]
  },
  {
   "cell_type": "markdown",
   "id": "a5e0f2b4",
   "metadata": {},
   "source": [
    "## 9번 문제"
   ]
  },
  {
   "cell_type": "code",
   "execution_count": 9,
   "id": "60e01c3d",
   "metadata": {},
   "outputs": [
    {
     "name": "stdout",
     "output_type": "stream",
     "text": [
      "[[6, 'hello w', 39], [3, 'hworl', 33], [5, 'hello wo', 35], [2, 'hello world', 30], [4, 'hello w', 31]]\n"
     ]
    }
   ],
   "source": [
    "data = [\n",
    "  [2, 'hello world', 30],\n",
    "  [3, 'hworl', 33],\n",
    "  [5, 'hello wo', 35],\n",
    "  [4, 'hello w', 31],\n",
    "  [6, 'hello w', 39],\n",
    "]\n",
    "\n",
    "new_data1=sorted(data,key=lambda x: x[2]-x[0], reverse=True)\n",
    "print(new_data1)"
   ]
  }
 ],
 "metadata": {
  "kernelspec": {
   "display_name": "Python 3",
   "language": "python",
   "name": "python3"
  },
  "language_info": {
   "codemirror_mode": {
    "name": "ipython",
    "version": 3
   },
   "file_extension": ".py",
   "mimetype": "text/x-python",
   "name": "python",
   "nbconvert_exporter": "python",
   "pygments_lexer": "ipython3",
   "version": "3.13.0"
  }
 },
 "nbformat": 4,
 "nbformat_minor": 5
}
