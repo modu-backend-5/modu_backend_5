{
 "cells": [
  {
   "cell_type": "markdown",
   "id": "e986ebaf",
   "metadata": {},
   "source": [
    "## 1. 셋(set)이란?"
   ]
  },
  {
   "cell_type": "code",
   "execution_count": 1,
   "id": "665d7bd6",
   "metadata": {},
   "outputs": [
    {
     "name": "stdout",
     "output_type": "stream",
     "text": [
      "{1, 2, 3, 4, 5}\n"
     ]
    }
   ],
   "source": [
    "my_set = {1, 2, 3, 3, 4, 4, 5}\n",
    "print(my_set)  # 중복된 값은 하나만 표시됩니다"
   ]
  },
  {
   "cell_type": "code",
   "execution_count": 4,
   "id": "b1ab16ec",
   "metadata": {},
   "outputs": [
    {
     "name": "stdout",
     "output_type": "stream",
     "text": [
      "{1, 2, 3, 4, 5}\n"
     ]
    }
   ],
   "source": [
    "fruits = {'apple', 'banana', 'cherry'}\n",
    "numbers = set([1, 2, 2, 3, 4, 4, 5])\n",
    "print(numbers)\n"
   ]
  },
  {
   "cell_type": "code",
   "execution_count": 5,
   "id": "1afbc399",
   "metadata": {},
   "outputs": [
    {
     "ename": "SyntaxError",
     "evalue": "invalid syntax. Perhaps you forgot a comma? (2871865980.py, line 4)",
     "output_type": "error",
     "traceback": [
      "  \u001b[36mCell\u001b[39m\u001b[36m \u001b[39m\u001b[32mIn[5]\u001b[39m\u001b[32m, line 4\u001b[39m\n\u001b[31m    \u001b[39m\u001b[31mprint(numbers[])\u001b[39m\n          ^\n\u001b[31mSyntaxError\u001b[39m\u001b[31m:\u001b[39m invalid syntax. Perhaps you forgot a comma?\n"
     ]
    }
   ],
   "source": [
    "numbers = {1, 2, 3, 4, 5, 5, 4, 3, 2, 1}\n",
    "print(numbers)  # 중복이 제거되고 순서가 무작위로 출력됩니다\n",
    "\n",
    "print(numbers[])"
   ]
  },
  {
   "cell_type": "code",
   "execution_count": 8,
   "id": "705861b8",
   "metadata": {},
   "outputs": [
    {
     "ename": "TypeError",
     "evalue": "unsupported operand type(s) for /: 'set' and 'set'",
     "output_type": "error",
     "traceback": [
      "\u001b[31m---------------------------------------------------------------------------\u001b[39m",
      "\u001b[31mTypeError\u001b[39m                                 Traceback (most recent call last)",
      "\u001b[36mCell\u001b[39m\u001b[36m \u001b[39m\u001b[32mIn[8]\u001b[39m\u001b[32m, line 4\u001b[39m\n\u001b[32m      1\u001b[39m set1 = {\u001b[32m1\u001b[39m, \u001b[32m2\u001b[39m, \u001b[32m3\u001b[39m, \u001b[32m4\u001b[39m, \u001b[32m5\u001b[39m}\n\u001b[32m      2\u001b[39m set2 = {\u001b[32m4\u001b[39m, \u001b[32m5\u001b[39m, \u001b[32m6\u001b[39m, \u001b[32m7\u001b[39m, \u001b[32m8\u001b[39m}\n\u001b[32m----> \u001b[39m\u001b[32m4\u001b[39m \u001b[38;5;28mprint\u001b[39m(\u001b[33m\"\u001b[39m\u001b[33m합집합:\u001b[39m\u001b[33m\"\u001b[39m, \u001b[43mset1\u001b[49m\u001b[43m \u001b[49m\u001b[43m/\u001b[49m\u001b[43m \u001b[49m\u001b[43mset2\u001b[49m)\n\u001b[32m      5\u001b[39m \u001b[38;5;28mprint\u001b[39m(\u001b[33m\"\u001b[39m\u001b[33m교집합:\u001b[39m\u001b[33m\"\u001b[39m, set1 & set2)\n\u001b[32m      6\u001b[39m \u001b[38;5;28mprint\u001b[39m(\u001b[33m\"\u001b[39m\u001b[33m차집합:\u001b[39m\u001b[33m\"\u001b[39m, set1 - set2)\n",
      "\u001b[31mTypeError\u001b[39m: unsupported operand type(s) for /: 'set' and 'set'"
     ]
    }
   ],
   "source": [
    "set1 = {1, 2, 3, 4, 5}\n",
    "set2 = {4, 5, 6, 7, 8}\n",
    "\n",
    "print(\"합집합:\", set1 / set2)\n",
    "print(\"교집합:\", set1 & set2)\n",
    "print(\"차집합:\", set1 - set2)"
   ]
  },
  {
   "cell_type": "code",
   "execution_count": null,
   "id": "bd78accc",
   "metadata": {},
   "outputs": [],
   "source": [
    "# 1.4 셋 수정\n",
    "fruits = {'apple', 'banana', 'cherry'}\n",
    "\n"
   ]
  },
  {
   "cell_type": "code",
   "execution_count": 11,
   "id": "2f50506a",
   "metadata": {},
   "outputs": [
    {
     "name": "stdout",
     "output_type": "stream",
     "text": [
      "대칭 차집합: {1, 2, 3, 6, 7, 8}\n",
      "set1이 set2의 부분집합인가?: False\n",
      "두 집합에 겹치는 요소가 없는가?: False\n"
     ]
    }
   ],
   "source": [
    "#1.5 셋 메서드\n",
    "set1 = {1, 2, 3, 4, 5}\n",
    "set2 = {4, 5, 6, 7, 8}\n",
    "\n",
    "print(\"대칭 차집합:\", set1.symmetric_difference(set2))\n",
    "print(\"set1이 set2의 부분집합인가?:\", set1.issubset(set2))\n",
    "print(\"두 집합에 겹치는 요소가 없는가?:\", set1.isdisjoint(set2))"
   ]
  }
 ],
 "metadata": {
  "kernelspec": {
   "display_name": "Python 3",
   "language": "python",
   "name": "python3"
  },
  "language_info": {
   "codemirror_mode": {
    "name": "ipython",
    "version": 3
   },
   "file_extension": ".py",
   "mimetype": "text/x-python",
   "name": "python",
   "nbconvert_exporter": "python",
   "pygments_lexer": "ipython3",
   "version": "3.13.5"
  }
 },
 "nbformat": 4,
 "nbformat_minor": 5
}
