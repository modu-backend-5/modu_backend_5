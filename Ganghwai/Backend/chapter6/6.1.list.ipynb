{
 "cells": [
  {
   "cell_type": "markdown",
   "id": "74dce1a8",
   "metadata": {},
   "source": [
    "# 리스트(list)\n",
    "## 1. 리스트(List)란?"
   ]
  },
  {
   "cell_type": "code",
   "execution_count": 1,
   "id": "e54e72ec",
   "metadata": {},
   "outputs": [
    {
     "name": "stdout",
     "output_type": "stream",
     "text": [
      "['apple', 'banana', 'cherry']\n"
     ]
    }
   ],
   "source": [
    "fruits = ['apple', 'banana', 'cherry']\n",
    "print(fruits)"
   ]
  },
  {
   "cell_type": "code",
   "execution_count": 2,
   "id": "dfeea491",
   "metadata": {},
   "outputs": [
    {
     "data": {
      "text/plain": [
       "[1, 'hello', True]"
      ]
     },
     "execution_count": 2,
     "metadata": {},
     "output_type": "execute_result"
    }
   ],
   "source": [
    "x = [1, 2, 3]\n",
    "y = ['apple', 'banana', 'cherry']\n",
    "z = [1, 'hello', True]\n",
    "x\n",
    "y\n",
    "z"
   ]
  },
  {
   "cell_type": "code",
   "execution_count": 12,
   "id": "d66393a7",
   "metadata": {},
   "outputs": [
    {
     "ename": "SyntaxError",
     "evalue": "invalid syntax. Perhaps you forgot a comma? (3952520890.py, line 34)",
     "output_type": "error",
     "traceback": [
      "  \u001b[36mCell\u001b[39m\u001b[36m \u001b[39m\u001b[32mIn[12]\u001b[39m\u001b[32m, line 34\u001b[39m\n\u001b[31m    \u001b[39m\u001b[31mnew_fruits = sorted(fruitsm reverse=1)\u001b[39m\n                        ^\n\u001b[31mSyntaxError\u001b[39m\u001b[31m:\u001b[39m invalid syntax. Perhaps you forgot a comma?\n"
     ]
    }
   ],
   "source": [
    "# 1.2 리스트의 항목에 접근하기\n",
    "# 인덱싱\n",
    "fruits = ['apple', 'banana','cherry']\n",
    "fruits[2]\n",
    "fruits[1] # 리스트 내의 값이다 즉 여기선 문자열이다.\n",
    "\n",
    "# 슬라이싱\n",
    "print(fruits[0:3])\n",
    "print(fruits[2:])\n",
    "print(fruits[:2])\n",
    "print(fruits[::-1])\n",
    "print(fruits[::2]) # 홀수 인덱스의 항목만 출력\n",
    "print(fruits[:]) # 짝수 인덱스의 항목만 출력\n",
    "\n",
    "# fruts[2]= \"orange\"\n",
    "# fruts\n",
    "\n",
    "#fruits[2]= \"orange\"\n",
    "fruits.append(\"orange\")\n",
    "fruits\n",
    "\n",
    "fruits.remove(\"apple\")\n",
    "fruits\n",
    "fruits.pop(1)\n",
    "\n",
    "#[\"banana\", \"orange\"]\n",
    "len(fruits)\n",
    "\n",
    "fruits = [\"cherry\", \"banana\", \"apple\", \"durian\"]\n",
    "fruits.sort(reverse=1)\n",
    "fruits\n",
    "sorted(fruits)\n",
    "fruits\n",
    "new_fruits = sorted(fruitsm reverse=1)"
   ]
  }
 ],
 "metadata": {
  "kernelspec": {
   "display_name": "Python 3",
   "language": "python",
   "name": "python3"
  },
  "language_info": {
   "codemirror_mode": {
    "name": "ipython",
    "version": 3
   },
   "file_extension": ".py",
   "mimetype": "text/x-python",
   "name": "python",
   "nbconvert_exporter": "python",
   "pygments_lexer": "ipython3",
   "version": "3.13.5"
  }
 },
 "nbformat": 4,
 "nbformat_minor": 5
}
