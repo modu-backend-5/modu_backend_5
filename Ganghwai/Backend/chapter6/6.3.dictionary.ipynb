{
 "cells": [
  {
   "cell_type": "markdown",
   "id": "af8302f1",
   "metadata": {},
   "source": [
    "# 딕셔너리(dict)\n",
    "## 1. 딕셔너리(Dictionary)란?"
   ]
  },
  {
   "cell_type": "code",
   "execution_count": null,
   "id": "72b5638a",
   "metadata": {},
   "outputs": [
    {
     "ename": "IndentationError",
     "evalue": "unexpected indent (1663353374.py, line 1)",
     "output_type": "error",
     "traceback": [
      "  \u001b[36mCell\u001b[39m\u001b[36m \u001b[39m\u001b[32mIn[7]\u001b[39m\u001b[32m, line 1\u001b[39m\n\u001b[31m    \u001b[39m\u001b[31mmy_dict1 = {\"name\": \"Licat\" , \"age\" : 30, \"city\": \"New York\"}\u001b[39m\n    ^\n\u001b[31mIndentationError\u001b[39m\u001b[31m:\u001b[39m unexpected indent\n"
     ]
    }
   ],
   "source": [
    "    my_dict1 = {\"name\": \"Licat\" , \"age\": 30, \"city\": \"New York\"}\n",
    "my_dict = {\"name\": \"Licat\". \"age\":30, \"city\": \"New York City\"}\n",
    "my_dict1 = [\"name\"]\n",
    "my_dict2 = [\"name\"]\n"
   ]
  },
  {
   "cell_type": "code",
   "execution_count": 10,
   "id": "566e22c3",
   "metadata": {},
   "outputs": [
    {
     "ename": "NameError",
     "evalue": "name 'person' is not defined",
     "output_type": "error",
     "traceback": [
      "\u001b[31m---------------------------------------------------------------------------\u001b[39m",
      "\u001b[31mNameError\u001b[39m                                 Traceback (most recent call last)",
      "\u001b[36mCell\u001b[39m\u001b[36m \u001b[39m\u001b[32mIn[10]\u001b[39m\u001b[32m, line 2\u001b[39m\n\u001b[32m      1\u001b[39m \u001b[38;5;66;03m# 1.3 딕셔너리 수정\u001b[39;00m\n\u001b[32m----> \u001b[39m\u001b[32m2\u001b[39m \u001b[43mperson\u001b[49m[\u001b[33m\"\u001b[39m\u001b[33mname\u001b[39m\u001b[33m\"\u001b[39m] = \u001b[33m\"\u001b[39m\u001b[33mbenny\u001b[39m\u001b[33m\"\u001b[39m\n\u001b[32m      3\u001b[39m person[\u001b[33m'\u001b[39m\u001b[33mweight\u001b[39m\u001b[33m'\u001b[39m] = \u001b[32m70.5\u001b[39m\n\u001b[32m      4\u001b[39m \u001b[38;5;28mprint\u001b[39m(person)\n",
      "\u001b[31mNameError\u001b[39m: name 'person' is not defined"
     ]
    }
   ],
   "source": [
    "# 1.3 딕셔너리 수정\n",
    "person[\"name\"] = \"benny\"\n",
    "person['weight'] = 70.5\n",
    "print(person)"
   ]
  },
  {
   "cell_type": "code",
   "execution_count": 11,
   "id": "3a1e9633",
   "metadata": {},
   "outputs": [
    {
     "name": "stdout",
     "output_type": "stream",
     "text": [
      "키 목록: dict_keys(['name', 'age', 'city'])\n",
      "값 목록: dict_values(['Alice', 25, 'Seoul'])\n",
      "키-값 쌍 목록: dict_items([('name', 'Alice'), ('age', 25), ('city', 'Seoul')])\n",
      "직업: 정보 없음\n"
     ]
    }
   ],
   "source": [
    "#1.4 딕셔너리 메서드\n",
    "person = {'name': 'Alice', 'age': 25, 'city': 'Seoul'}\n",
    "\n",
    "\n",
    "print(\"키 목록:\", person.keys())\n",
    "print(\"값 목록:\", person.values())\n",
    "print(\"키-값 쌍 목록:\", person.items())\n",
    "\n",
    "\n",
    "# get() 메서드로 안전하게 값 가져오기\n",
    "print(\"직업:\", person.get('job', '정보 없음'))"
   ]
  }
 ],
 "metadata": {
  "kernelspec": {
   "display_name": "Python 3",
   "language": "python",
   "name": "python3"
  },
  "language_info": {
   "codemirror_mode": {
    "name": "ipython",
    "version": 3
   },
   "file_extension": ".py",
   "mimetype": "text/x-python",
   "name": "python",
   "nbconvert_exporter": "python",
   "pygments_lexer": "ipython3",
   "version": "3.13.5"
  }
 },
 "nbformat": 4,
 "nbformat_minor": 5
}
