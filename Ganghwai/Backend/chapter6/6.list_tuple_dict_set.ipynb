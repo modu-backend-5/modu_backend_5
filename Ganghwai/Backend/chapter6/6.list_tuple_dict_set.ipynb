{
 "cells": [
  {
   "cell_type": "markdown",
   "id": "feed87cc",
   "metadata": {},
   "source": [
    "# 시퀀스 자료형"
   ]
  },
  {
   "cell_type": "code",
   "execution_count": 1,
   "id": "e30370ed",
   "metadata": {},
   "outputs": [
    {
     "name": "stdout",
     "output_type": "stream",
     "text": [
      "a\n",
      "c\n"
     ]
    }
   ],
   "source": [
    "example = 'abcde'\n",
    "print(example[0]) # 출력: a\n",
    "print(example[2]) # 출력: c"
   ]
  },
  {
   "cell_type": "code",
   "execution_count": 2,
   "id": "bb25e1cd",
   "metadata": {},
   "outputs": [
    {
     "name": "stdout",
     "output_type": "stream",
     "text": [
      "bc\n",
      "3\n",
      "range(0, 100, 5)\n"
     ]
    }
   ],
   "source": [
    "example = 'abcde'\n",
    "print(example[1:3]) # 출력: bc\n",
    "print(range(10)[3]) # 출력: 3\n",
    "print(range(100)[::5]) # 출력: range(0, 100, 5)"
   ]
  },
  {
   "cell_type": "code",
   "execution_count": 3,
   "id": "cb15cb82",
   "metadata": {},
   "outputs": [
    {
     "name": "stdout",
     "output_type": "stream",
     "text": [
      "5\n",
      "a\n",
      "e\n"
     ]
    }
   ],
   "source": [
    "example = 'abcde'\n",
    "print(len(example))  # 출력: 5\n",
    "print(min(example))  # 출력: a\n",
    "print(max(example))  # 출력: e"
   ]
  },
  {
   "cell_type": "code",
   "execution_count": 4,
   "id": "a8d42983",
   "metadata": {},
   "outputs": [
    {
     "name": "stdout",
     "output_type": "stream",
     "text": [
      "(1, 2, 3, 4)\n"
     ]
    }
   ],
   "source": [
    "# 튜플 패킹\n",
    "packed_tuple = 1, 2, 3, 4\n",
    "print(packed_tuple)  # 출력: (1, 2, 3, 4)"
   ]
  },
  {
   "cell_type": "code",
   "execution_count": 5,
   "id": "50f1f055",
   "metadata": {},
   "outputs": [
    {
     "name": "stdout",
     "output_type": "stream",
     "text": [
      "1\n",
      "2\n"
     ]
    }
   ],
   "source": [
    "# 튜플 패킹\n",
    "packed_tuple = 1, 2, 3, 4\n",
    "\n",
    "\n",
    "# 튜플 언패킹\n",
    "a, b, c, d = packed_tuple\n",
    "print(a)  # 출력: 1\n",
    "print(b)  # 출력: 2"
   ]
  },
  {
   "cell_type": "code",
   "execution_count": 6,
   "id": "3e3b0d04",
   "metadata": {},
   "outputs": [
    {
     "name": "stdout",
     "output_type": "stream",
     "text": [
      "10 20\n",
      "100 200\n"
     ]
    }
   ],
   "source": [
    "for i, j in [[10, 20], [100, 200]]:\n",
    "    print(i, j)"
   ]
  },
  {
   "cell_type": "code",
   "execution_count": 7,
   "id": "46d0287a",
   "metadata": {},
   "outputs": [
    {
     "name": "stdout",
     "output_type": "stream",
     "text": [
      "1\n",
      "[2, 3, 4]\n",
      "5\n"
     ]
    }
   ],
   "source": [
    "first, *middle, last = [1, 2, 3, 4, 5]\n",
    "print(first)    # 출력: 1\n",
    "print(middle)   # 출력: [2, 3, 4]\n",
    "print(last)     # 출력: 5"
   ]
  },
  {
   "cell_type": "markdown",
   "id": "31e4f913",
   "metadata": {},
   "source": [
    "# 리스트"
   ]
  },
  {
   "cell_type": "code",
   "execution_count": 9,
   "id": "928a54f6",
   "metadata": {},
   "outputs": [
    {
     "name": "stdout",
     "output_type": "stream",
     "text": [
      "3\n",
      "3\n"
     ]
    }
   ],
   "source": [
    "x = [1, 2, 3] #CSV 파일과 비슷 ,\n",
    "y = ['apple', 'banana', 'cherry']\n",
    "z = [1, [2], 3] in [2]\n",
    "\n",
    "\n",
    "print(len(x))\n",
    "print(len(y))"
   ]
  },
  {
   "cell_type": "code",
   "execution_count": 11,
   "id": "f75cee86",
   "metadata": {},
   "outputs": [
    {
     "name": "stdout",
     "output_type": "stream",
     "text": [
      "1\n",
      "apple\n",
      "2.5\n",
      "['a', 'b']\n",
      "(1, 2)\n"
     ]
    }
   ],
   "source": [
    "z = [1, 'apple', 2.5, ['a', 'b'], (1, 2)]\n",
    "print(z[0])\n",
    "print(z[1])\n",
    "print(z[2])\n",
    "print(z[3])\n",
    "print(z[4])"
   ]
  },
  {
   "cell_type": "code",
   "execution_count": 12,
   "id": "da1db319",
   "metadata": {},
   "outputs": [
    {
     "name": "stdout",
     "output_type": "stream",
     "text": [
      "[10000, 2, 3, 4, 5]\n"
     ]
    }
   ],
   "source": [
    "a = [1, 2, 3, 4, 5]\n",
    "a[0] = 10000\n",
    "print(a)"
   ]
  },
  {
   "cell_type": "code",
   "execution_count": null,
   "id": "c140f5ff",
   "metadata": {},
   "outputs": [
    {
     "name": "stdout",
     "output_type": "stream",
     "text": [
      "l\n"
     ]
    },
    {
     "ename": "TypeError",
     "evalue": "'str' object does not support item assignment",
     "output_type": "error",
     "traceback": [
      "\u001b[31m---------------------------------------------------------------------------\u001b[39m",
      "\u001b[31mTypeError\u001b[39m                                 Traceback (most recent call last)",
      "\u001b[36mCell\u001b[39m\u001b[36m \u001b[39m\u001b[32mIn[13]\u001b[39m\u001b[32m, line 3\u001b[39m\n\u001b[32m      1\u001b[39m s = \u001b[33m'\u001b[39m\u001b[33mlicat\u001b[39m\u001b[33m'\u001b[39m\n\u001b[32m      2\u001b[39m \u001b[38;5;28mprint\u001b[39m(s[\u001b[32m0\u001b[39m])\n\u001b[32m----> \u001b[39m\u001b[32m3\u001b[39m \u001b[43ms\u001b[49m\u001b[43m[\u001b[49m\u001b[32;43m0\u001b[39;49m\u001b[43m]\u001b[49m = \u001b[33m'\u001b[39m\u001b[33mk\u001b[39m\u001b[33m'\u001b[39m\n",
      "\u001b[31mTypeError\u001b[39m: 'str' object does not support item assignment"
     ]
    }
   ],
   "source": [
    "s = 'licat'\n",
    "print(s[0])\n",
    "s[0] = 'k'"
   ]
  },
  {
   "cell_type": "code",
   "execution_count": 14,
   "id": "8c040976",
   "metadata": {},
   "outputs": [
    {
     "name": "stdout",
     "output_type": "stream",
     "text": [
      "3\n"
     ]
    }
   ],
   "source": [
    "b = [[10, 20, 30], [1, 2, 3]]\n",
    "print(b[1][2]) # 출력: 3"
   ]
  },
  {
   "cell_type": "code",
   "execution_count": 15,
   "id": "cb95ef78",
   "metadata": {},
   "outputs": [
    {
     "data": {
      "text/plain": [
       "array([2, 4, 6])"
      ]
     },
     "execution_count": 15,
     "metadata": {},
     "output_type": "execute_result"
    }
   ],
   "source": [
    "import numpy as np\n",
    "\n",
    "\n",
    "l = [1, 2, 3]\n",
    "l = np.array(l)\n",
    "l * 3\n",
    "l + l\n",
    "# 너무 당연하게 요소를 붙이는 것이다라고 생각하지 않으셨으면 좋겠습니다."
   ]
  },
  {
   "cell_type": "code",
   "execution_count": 16,
   "id": "454c01f9",
   "metadata": {},
   "outputs": [
    {
     "name": "stdout",
     "output_type": "stream",
     "text": [
      "[1, 1, 1]\n"
     ]
    }
   ],
   "source": [
    "x = [1]\n",
    "print(x * 3) # 출력: [1, 1, 1]"
   ]
  },
  {
   "cell_type": "code",
   "execution_count": 17,
   "id": "0f6005c0",
   "metadata": {},
   "outputs": [
    {
     "name": "stdout",
     "output_type": "stream",
     "text": [
      "[1000, 2, 3, 1, 2, 3, 1, 2, 3]\n"
     ]
    }
   ],
   "source": [
    "a = [1, 2, 3]\n",
    "a = a * 3\n",
    "\n",
    "\n",
    "a[0] = 1000\n",
    "print(a)"
   ]
  },
  {
   "cell_type": "code",
   "execution_count": 18,
   "id": "d4862ee9",
   "metadata": {},
   "outputs": [
    {
     "name": "stdout",
     "output_type": "stream",
     "text": [
      "[[1, 2, 3, 1, 2, 3], [1, 2, 3, 1, 2, 3]]\n",
      "1996426323136 1996426323136\n",
      "[[10000, 2, 3, 1, 2, 3], [10000, 2, 3, 1, 2, 3]]\n"
     ]
    }
   ],
   "source": [
    "a = [1, 2, 3]\n",
    "a = [a * 2] * 2 # 리스트 컴프리헨션 사용하셔서 만드시는 것을 권합니다.\n",
    "\n",
    "\n",
    "print(a)\n",
    "print(id(a[0]), id(a[1]))\n",
    "a[0][0] = 10000\n",
    "print(a)"
   ]
  },
  {
   "cell_type": "code",
   "execution_count": 19,
   "id": "dea2c464",
   "metadata": {},
   "outputs": [
    {
     "name": "stdout",
     "output_type": "stream",
     "text": [
      "1\n",
      "4\n",
      "5\n",
      "3\n"
     ]
    }
   ],
   "source": [
    "l = [1, 2, 3, 4, 5]\n",
    "print(l[0]) # 출력: 1\n",
    "print(l[3]) # 출력: 4\n",
    "print(l[-1]) # 출력: 5\n",
    "print(l[-3]) # 출력: 3"
   ]
  },
  {
   "cell_type": "code",
   "execution_count": 20,
   "id": "5a67b18f",
   "metadata": {},
   "outputs": [
    {
     "ename": "IndexError",
     "evalue": "list index out of range",
     "output_type": "error",
     "traceback": [
      "\u001b[31m---------------------------------------------------------------------------\u001b[39m",
      "\u001b[31mIndexError\u001b[39m                                Traceback (most recent call last)",
      "\u001b[36mCell\u001b[39m\u001b[36m \u001b[39m\u001b[32mIn[20]\u001b[39m\u001b[32m, line 2\u001b[39m\n\u001b[32m      1\u001b[39m lst = [\u001b[32m1\u001b[39m, \u001b[32m2\u001b[39m, \u001b[32m3\u001b[39m, \u001b[32m4\u001b[39m, \u001b[32m5\u001b[39m]\n\u001b[32m----> \u001b[39m\u001b[32m2\u001b[39m \u001b[38;5;28mprint\u001b[39m(\u001b[43mlst\u001b[49m\u001b[43m[\u001b[49m\u001b[32;43m10\u001b[39;49m\u001b[43m]\u001b[49m)\n",
      "\u001b[31mIndexError\u001b[39m: list index out of range"
     ]
    }
   ],
   "source": [
    "lst = [1, 2, 3, 4, 5]\n",
    "print(lst[10])"
   ]
  },
  {
   "cell_type": "code",
   "execution_count": 21,
   "id": "a086b761",
   "metadata": {},
   "outputs": [
    {
     "name": "stdout",
     "output_type": "stream",
     "text": [
      "[2, 3, 4]\n"
     ]
    }
   ],
   "source": [
    "l = [1, 2, 3, 4, 5]\n",
    "print(l[1:4]) # 출력: [2, 3, 4]"
   ]
  },
  {
   "cell_type": "code",
   "execution_count": 22,
   "id": "b3ba5437",
   "metadata": {},
   "outputs": [
    {
     "name": "stdout",
     "output_type": "stream",
     "text": [
      "[1, 2, 3, 4, 5]\n",
      "[5, 4, 3, 2, 1]\n",
      "[1, 3, 5]\n",
      "[4, 3, 2, 1]\n"
     ]
    }
   ],
   "source": [
    "l = [1, 2, 3, 4, 5]\n",
    "print(l[:])     # 출력: [1, 2, 3, 4, 5]\n",
    "print(l[::-1])  # 출력: [5, 4, 3, 2, 1]\n",
    "print(l[::2])   # 출력: [1, 3, 5]\n",
    "print(l[0:4][::-1]) # 출력: [3, 2, 1]"
   ]
  },
  {
   "cell_type": "code",
   "execution_count": 23,
   "id": "3cc1ddc3",
   "metadata": {},
   "outputs": [
    {
     "name": "stdout",
     "output_type": "stream",
     "text": [
      "['__add__', '__class__', '__class_getitem__', '__contains__', '__delattr__', '__delitem__', '__dir__', '__doc__', '__eq__', '__format__', '__ge__', '__getattribute__', '__getitem__', '__getstate__', '__gt__', '__hash__', '__iadd__', '__imul__', '__init__', '__init_subclass__', '__iter__', '__le__', '__len__', '__lt__', '__mul__', '__ne__', '__new__', '__reduce__', '__reduce_ex__', '__repr__', '__reversed__', '__rmul__', '__setattr__', '__setitem__', '__sizeof__', '__str__', '__subclasshook__', 'append', 'clear', 'copy', 'count', 'extend', 'index', 'insert', 'pop', 'remove', 'reverse', 'sort']\n",
      "['__add__', '__class__', '__class_getitem__', '__contains__', '__delattr__', '__delitem__', '__dir__', '__doc__', '__eq__', '__format__', '__ge__', '__getattribute__', '__getitem__', '__getstate__', '__gt__', '__hash__', '__iadd__', '__imul__', '__init__', '__init_subclass__', '__iter__', '__le__', '__len__', '__lt__', '__mul__', '__ne__', '__new__', '__reduce__', '__reduce_ex__', '__repr__', '__reversed__', '__rmul__', '__setattr__', '__setitem__', '__sizeof__', '__str__', '__subclasshook__', 'append', 'clear', 'copy', 'count', 'extend', 'index', 'insert', 'pop', 'remove', 'reverse', 'sort']\n"
     ]
    }
   ],
   "source": [
    "print(dir(list))\n",
    "x = []\n",
    "print(dir(x))"
   ]
  },
  {
   "cell_type": "code",
   "execution_count": 27,
   "id": "f97bf990",
   "metadata": {},
   "outputs": [
    {
     "name": "stdout",
     "output_type": "stream",
     "text": [
      "[1, 2, 3, 10]\n",
      "[]\n"
     ]
    }
   ],
   "source": [
    "a = [1, 2, 3]\n",
    "a.append(10)\n",
    "print(a)\n",
    "a.clear()\n",
    "print(a)"
   ]
  },
  {
   "cell_type": "code",
   "execution_count": 25,
   "id": "04c060f8",
   "metadata": {},
   "outputs": [
    {
     "name": "stdout",
     "output_type": "stream",
     "text": [
      "[]\n"
     ]
    }
   ],
   "source": [
    "a.clear()\n",
    "print(a)  # 출력: []"
   ]
  },
  {
   "cell_type": "code",
   "execution_count": 26,
   "id": "056b3838",
   "metadata": {},
   "outputs": [
    {
     "name": "stdout",
     "output_type": "stream",
     "text": [
      "[1, 2, 3]\n",
      "[10000, 2, 3]\n"
     ]
    }
   ],
   "source": [
    "a = [1, 2, 3]\n",
    "b = a.copy()\n",
    "b[0] = 10000\n",
    "print(a)  # 출력: [1, 2, 3]\n",
    "print(b)  # 출력: [10000, 2, 3]"
   ]
  },
  {
   "cell_type": "code",
   "execution_count": 28,
   "id": "d6a3337b",
   "metadata": {},
   "outputs": [
    {
     "name": "stdout",
     "output_type": "stream",
     "text": [
      "1996054847296 1996427130176\n",
      "[1000, 20, 30] [10, 20, 30]\n"
     ]
    }
   ],
   "source": [
    "l = [10, 20, 30]\n",
    "ll = l[:]\n",
    "print(id(ll), id(l))\n",
    "l[0] = 1000\n",
    "print(l, ll) # 출력: [1000, 20, 30] [10, 20, 30]"
   ]
  },
  {
   "cell_type": "code",
   "execution_count": 29,
   "id": "de3106c6",
   "metadata": {},
   "outputs": [
    {
     "name": "stdout",
     "output_type": "stream",
     "text": [
      "3\n"
     ]
    }
   ],
   "source": [
    "a = [1, 1, 2, 3, 1]\n",
    "print(a.count(1))"
   ]
  },
  {
   "cell_type": "code",
   "execution_count": 30,
   "id": "5648c730",
   "metadata": {},
   "outputs": [
    {
     "name": "stdout",
     "output_type": "stream",
     "text": [
      "[1, 2, 3, 4, 5, 6]\n"
     ]
    }
   ],
   "source": [
    "a = [1, 2, 3]\n",
    "a.extend([4, 5, 6])\n",
    "print(a)  # 출력: [1, 2, 3, 4, 5, 6]"
   ]
  },
  {
   "cell_type": "code",
   "execution_count": 31,
   "id": "23a323d2",
   "metadata": {},
   "outputs": [
    {
     "data": {
      "text/plain": [
       "[10, 20, 30, 'h', 'e', 'l', 'l', 'o']"
      ]
     },
     "execution_count": 31,
     "metadata": {},
     "output_type": "execute_result"
    }
   ],
   "source": [
    "l = [10, 20, 30]\n",
    "l.extend('hello')\n",
    "l # 출력: [10, 20, 30, 'h', 'e', 'l', 'l', 'o']"
   ]
  },
  {
   "cell_type": "code",
   "execution_count": 32,
   "id": "fc8534cf",
   "metadata": {},
   "outputs": [
    {
     "data": {
      "text/plain": [
       "[10, 20, 30, 40, 50, 60]"
      ]
     },
     "execution_count": 32,
     "metadata": {},
     "output_type": "execute_result"
    }
   ],
   "source": [
    "l = [10, 20, 30]\n",
    "ll = ['40', '50', '60']\n",
    "l.extend(map(int, ll))\n",
    "l # 출력: [10, 20, 30, 40, 50, 60]"
   ]
  },
  {
   "cell_type": "code",
   "execution_count": 33,
   "id": "5e961351",
   "metadata": {},
   "outputs": [
    {
     "name": "stdout",
     "output_type": "stream",
     "text": [
      "2\n"
     ]
    }
   ],
   "source": [
    "a = [10, 20, 30, 40]\n",
    "print(a.index(30))  # 출력: 2"
   ]
  },
  {
   "cell_type": "code",
   "execution_count": 34,
   "id": "73b6d45b",
   "metadata": {},
   "outputs": [
    {
     "name": "stdout",
     "output_type": "stream",
     "text": [
      "[10, 20, 25, 30, 40]\n"
     ]
    }
   ],
   "source": [
    "a = [10, 20, 30, 40]\n",
    "a.insert(2, 25)\n",
    "print(a)  # 출력: [10, 20, 25, 30, 40]"
   ]
  },
  {
   "cell_type": "code",
   "execution_count": 37,
   "id": "5868f42d",
   "metadata": {},
   "outputs": [
    {
     "ename": "SyntaxError",
     "evalue": "'(' was never closed (3700819088.py, line 4)",
     "output_type": "error",
     "traceback": [
      "  \u001b[36mCell\u001b[39m\u001b[36m \u001b[39m\u001b[32mIn[37]\u001b[39m\u001b[32m, line 4\u001b[39m\n\u001b[31m    \u001b[39m\u001b[31mprint(a.pop()\u001b[39m\n         ^\n\u001b[31mSyntaxError\u001b[39m\u001b[31m:\u001b[39m '(' was never closed\n"
     ]
    }
   ],
   "source": [
    "a = [10, 20, 30, 40]\n",
    "print(a.pop(2))  # 출력: 25\n",
    "print(a)  # 출력: [10, 20, 30, 40]\n",
    "print(a.pop()\n",
    "print(a)"
   ]
  },
  {
   "cell_type": "code",
   "execution_count": 38,
   "id": "5021c5d0",
   "metadata": {},
   "outputs": [
    {
     "name": "stdout",
     "output_type": "stream",
     "text": [
      "30\n",
      "[10, 20]\n"
     ]
    }
   ],
   "source": [
    "l = [10, 20, 30]\n",
    "print(l.pop())\n",
    "print(l)"
   ]
  },
  {
   "cell_type": "code",
   "execution_count": null,
   "id": "5a29f5bf",
   "metadata": {},
   "outputs": [
    {
     "name": "stdout",
     "output_type": "stream",
     "text": [
      "5\n",
      "4\n",
      "3\n",
      "2\n",
      "1\n"
     ]
    }
   ],
   "source": [
    "l = [1, 2, 3, 4, 5]\n",
    "\n",
    "\n",
    "while l:\n",
    "    print(l.pop()) # 5, 4, 3, 2, 1"
   ]
  },
  {
   "cell_type": "code",
   "execution_count": 40,
   "id": "002ba6e8",
   "metadata": {},
   "outputs": [
    {
     "name": "stdout",
     "output_type": "stream",
     "text": [
      "1\n",
      "2\n",
      "3\n",
      "4\n",
      "5\n"
     ]
    }
   ],
   "source": [
    "l = [1, 2, 3, 4, 5]\n",
    " \n",
    "while l:\n",
    "    print(l.pop(0)) # 1, 2, 3, 4, 5"
   ]
  },
  {
   "cell_type": "code",
   "execution_count": 41,
   "id": "9e5a6b43",
   "metadata": {},
   "outputs": [
    {
     "name": "stdout",
     "output_type": "stream",
     "text": [
      "[3, 2, 5, 1, 4]\n",
      "[4, 1, 5, 2, 3]\n"
     ]
    }
   ],
   "source": [
    "a = [3, 2, 5, 1, 4]\n",
    "b = reversed(a)\n",
    "print(a)        # 출력: [3, 2, 5, 1, 4]\n",
    "print(list(b))  # 출력: [4, 1, 5, 2, 3]"
   ]
  },
  {
   "cell_type": "code",
   "execution_count": 42,
   "id": "c41b85bf",
   "metadata": {},
   "outputs": [
    {
     "name": "stdout",
     "output_type": "stream",
     "text": [
      "[1, 2, 3, 4, 5]\n"
     ]
    }
   ],
   "source": [
    "a = [3, 2, 5, 1, 4]\n",
    "a.sort()\n",
    "print(a)  # 출력: [1, 2, 3, 4, 5]"
   ]
  },
  {
   "cell_type": "code",
   "execution_count": 43,
   "id": "bcd702ba",
   "metadata": {},
   "outputs": [
    {
     "name": "stdout",
     "output_type": "stream",
     "text": [
      "[3, 2, 5, 1, 4]\n",
      "[1, 2, 3, 4, 5]\n"
     ]
    }
   ],
   "source": [
    "a = [3, 2, 5, 1, 4]\n",
    "b = sorted(a)\n",
    "print(a)  # 출력: [3, 2, 5, 1, 4]\n",
    "print(b)  # 출력: [1, 2, 3, 4, 5]"
   ]
  },
  {
   "cell_type": "markdown",
   "id": "91ec124f",
   "metadata": {},
   "source": [
    "# 튜플"
   ]
  },
  {
   "cell_type": "code",
   "execution_count": 44,
   "id": "75f0cf15",
   "metadata": {},
   "outputs": [],
   "source": [
    "x = (1, 2, 3)\n",
    "y = ('apple', 'banana', 'cherry')"
   ]
  },
  {
   "cell_type": "code",
   "execution_count": 45,
   "id": "78788804",
   "metadata": {},
   "outputs": [],
   "source": [
    "z = (1, 'apple', 2.5, ['a', 'b'], (1, 2))"
   ]
  },
  {
   "cell_type": "code",
   "execution_count": 46,
   "id": "8632e9d1",
   "metadata": {},
   "outputs": [
    {
     "data": {
      "text/plain": [
       "(1, 2, [1000, 20, 30])"
      ]
     },
     "execution_count": 46,
     "metadata": {},
     "output_type": "execute_result"
    }
   ],
   "source": [
    "x = [10, 20, 30]\n",
    "y = (1, 2, x)\n",
    "x[0] = 1000\n",
    "y # 출력: (1, 2, [1000, 20, 30])"
   ]
  },
  {
   "cell_type": "code",
   "execution_count": 47,
   "id": "7bb31578",
   "metadata": {},
   "outputs": [
    {
     "name": "stdout",
     "output_type": "stream",
     "text": [
      "<class 'tuple'>\n",
      "<class 'tuple'>\n",
      "<class 'int'>\n",
      "<class 'float'>\n"
     ]
    }
   ],
   "source": [
    "t1 = () # tuple\n",
    "t2 = (0,) # tuple 단일 값의 튜플을 사용할때 꼭 콤마를 넣어주세요!\n",
    "t3 = (0) # int\n",
    "t4 = (0.1) # float\n",
    "print(type(t1))\n",
    "print(type(t2))\n",
    "print(type(t3))\n",
    "print(type(t4))"
   ]
  },
  {
   "cell_type": "code",
   "execution_count": 48,
   "id": "761a2208",
   "metadata": {},
   "outputs": [
    {
     "name": "stdout",
     "output_type": "stream",
     "text": [
      "(1, 2, 3, 4, 5, 6)\n"
     ]
    }
   ],
   "source": [
    "tuple1 = (1, 2, 3)\n",
    "tuple2 = (4, 5, 6)\n",
    "tuple3 = tuple1 + tuple2\n",
    "print(tuple3)  # 출력: (1, 2, 3, 4, 5, 6)"
   ]
  },
  {
   "cell_type": "code",
   "execution_count": 49,
   "id": "fa070335",
   "metadata": {},
   "outputs": [
    {
     "name": "stdout",
     "output_type": "stream",
     "text": [
      "1\n"
     ]
    }
   ],
   "source": [
    "t = (1, 2, 3, 4, 5)\n",
    "print(t[0])  # 출력: 1"
   ]
  },
  {
   "cell_type": "code",
   "execution_count": 50,
   "id": "c2811f2b",
   "metadata": {},
   "outputs": [
    {
     "name": "stdout",
     "output_type": "stream",
     "text": [
      "(2, 3, 4)\n"
     ]
    }
   ],
   "source": [
    "t = (1, 2, 3, 4, 5)\n",
    "print(t[1:4])  # 출력: (2, 3, 4)"
   ]
  },
  {
   "cell_type": "code",
   "execution_count": 51,
   "id": "9dced0a5",
   "metadata": {},
   "outputs": [
    {
     "name": "stdout",
     "output_type": "stream",
     "text": [
      "['__add__', '__class__', '__class_getitem__', '__contains__', '__delattr__', '__dir__', '__doc__', '__eq__', '__format__', '__ge__', '__getattribute__', '__getitem__', '__getnewargs__', '__getstate__', '__gt__', '__hash__', '__init__', '__init_subclass__', '__iter__', '__le__', '__len__', '__lt__', '__mul__', '__ne__', '__new__', '__reduce__', '__reduce_ex__', '__repr__', '__rmul__', '__setattr__', '__sizeof__', '__str__', '__subclasshook__', 'count', 'index']\n"
     ]
    }
   ],
   "source": [
    "print(dir(tuple))"
   ]
  },
  {
   "cell_type": "markdown",
   "id": "7004c8bd",
   "metadata": {},
   "source": [
    "# 딕셔너리"
   ]
  },
  {
   "cell_type": "code",
   "execution_count": 53,
   "id": "743e581a",
   "metadata": {},
   "outputs": [
    {
     "data": {
      "text/plain": [
       "'licat'"
      ]
     },
     "execution_count": 53,
     "metadata": {},
     "output_type": "execute_result"
    }
   ],
   "source": [
    "person = {'name': 'licat', 'city': 'Jeju', 'job': 'Developer'}\n",
    "person['name']"
   ]
  },
  {
   "cell_type": "code",
   "execution_count": 54,
   "id": "dc2dd0b2",
   "metadata": {},
   "outputs": [
    {
     "name": "stdout",
     "output_type": "stream",
     "text": [
      "<class 'dict'>\n",
      "<class 'dict'>\n"
     ]
    }
   ],
   "source": [
    "d1 = {}\n",
    "d2 = dict()\n",
    "\n",
    "\n",
    "print(type(d1))  # 출력: <class 'dict'>\n",
    "print(type(d2))  # 출력: <class 'dict'>"
   ]
  },
  {
   "cell_type": "code",
   "execution_count": 55,
   "id": "5d2b228f",
   "metadata": {},
   "outputs": [
    {
     "name": "stdout",
     "output_type": "stream",
     "text": [
      "{'one': '하나3'}\n"
     ]
    }
   ],
   "source": [
    "d = {'one' : '하나', 'one' : '하나2', 'one' : '하나3'}\n",
    "print(d)  # 출력: {'one' : '하나3'}"
   ]
  },
  {
   "cell_type": "code",
   "execution_count": 56,
   "id": "d89f745f",
   "metadata": {},
   "outputs": [
    {
     "name": "stdout",
     "output_type": "stream",
     "text": [
      "{}\n"
     ]
    }
   ],
   "source": [
    "d = dict([('one' , '하나'), ('two', '둘')])\n",
    "d = dict(l)\n",
    "print(d)  # 출력: {'one' : '하나', 'two' : '둘'}"
   ]
  },
  {
   "cell_type": "code",
   "execution_count": 57,
   "id": "a35c3668",
   "metadata": {},
   "outputs": [
    {
     "name": "stdout",
     "output_type": "stream",
     "text": [
      "{'name': 'licat', 'age': 10}\n"
     ]
    }
   ],
   "source": [
    "d = dict(name='licat', age=10)\n",
    "print(d)  # 출력: {'name': 'licat', 'age': 10}"
   ]
  },
  {
   "cell_type": "code",
   "execution_count": 58,
   "id": "9a29d6d5",
   "metadata": {},
   "outputs": [
    {
     "name": "stdout",
     "output_type": "stream",
     "text": [
      "[1, 2, 3]\n",
      "answer\n",
      "[10, 20]\n",
      "[100, 200]\n"
     ]
    }
   ],
   "source": [
    "complex_dict = {\n",
    "    \"numbers\": [1, 2, 3],\n",
    "    42: \"answer\",\n",
    "    (\"x\", \"y\"): [10, 20],\n",
    "    True: [100, 200]\n",
    "}\n",
    "print(complex_dict[\"numbers\"])  # 출력: [1, 2, 3]\n",
    "print(complex_dict[42])         # 출력: answer\n",
    "print(complex_dict[(\"x\", \"y\")]) # 출력: [10, 20]\n",
    "print(complex_dict[True])       # 출력: [10, 20]"
   ]
  },
  {
   "cell_type": "code",
   "execution_count": 59,
   "id": "879d4794",
   "metadata": {},
   "outputs": [
    {
     "name": "stdout",
     "output_type": "stream",
     "text": [
      "{'name': 'mura', 'city': 'Seoul'}\n"
     ]
    }
   ],
   "source": [
    "person = {'name': 'licat', 'city': 'Jeju'}\n",
    "person['name'] = 'mura'\n",
    "person['city'] = 'Seoul'\n",
    "\n",
    "\n",
    "print(person) # 출력: {'name': 'mura', 'city': 'Seoul'}"
   ]
  },
  {
   "cell_type": "code",
   "execution_count": 60,
   "id": "b182bb33",
   "metadata": {},
   "outputs": [
    {
     "name": "stdout",
     "output_type": "stream",
     "text": [
      "{'name': 'mura', 'city': 'Seoul', 'age': 10}\n"
     ]
    }
   ],
   "source": [
    "person['age'] = 10\n",
    "print(person) # 출력: {'name': 'licat', 'city': 'Jeju', 'job': 'Developer'}"
   ]
  },
  {
   "cell_type": "code",
   "execution_count": 61,
   "id": "66093c2b",
   "metadata": {},
   "outputs": [
    {
     "name": "stdout",
     "output_type": "stream",
     "text": [
      "Developer\n"
     ]
    }
   ],
   "source": [
    "users = {\n",
    "    \"leehojun\": {\"city\": \"Jeju\", \"job\": \"Developer\"},\n",
    "    \"licat\": {\"city\": \"Seoul\", \"job\": \"Designer\"}\n",
    "}\n",
    "print(users[\"leehojun\"][\"job\"]) # 출력: Developer"
   ]
  },
  {
   "cell_type": "code",
   "execution_count": 62,
   "id": "a2272dd6",
   "metadata": {},
   "outputs": [
    {
     "name": "stdout",
     "output_type": "stream",
     "text": [
      "{'name': 'licat', 'city': 'Jeju', 'job': 'Developer'}\n"
     ]
    }
   ],
   "source": [
    "keys = [\"name\", \"city\", \"job\"]\n",
    "values = [\"licat\", \"Jeju\", \"Developer\"]\n",
    "\n",
    "\n",
    "new_dict = dict(zip(keys, values))\n",
    "print(new_dict)"
   ]
  },
  {
   "cell_type": "code",
   "execution_count": 63,
   "id": "8a43caf7",
   "metadata": {},
   "outputs": [
    {
     "name": "stdout",
     "output_type": "stream",
     "text": [
      "{'name': 'licat', 'city': 'Jeju', 'job': 'Developer'}\n"
     ]
    }
   ],
   "source": [
    "person = {'name': 'licat', 'city': 'Jeju', 'job': 'Developer'}\n",
    "copied_person = person.copy()\n",
    "print(copied_person)"
   ]
  },
  {
   "cell_type": "code",
   "execution_count": 64,
   "id": "1bb8759a",
   "metadata": {},
   "outputs": [
    {
     "name": "stdout",
     "output_type": "stream",
     "text": [
      "{'name': None, 'city': None, 'job': None}\n"
     ]
    }
   ],
   "source": [
    "keys = ['name', 'city', 'job']\n",
    "# keys = 'hello' # 이렇게 이터러블한 객체는 모두 가능합니다.\n",
    "value = None\n",
    "print(dict.fromkeys(keys, value))"
   ]
  },
  {
   "cell_type": "code",
   "execution_count": 65,
   "id": "be883f6f",
   "metadata": {},
   "outputs": [
    {
     "name": "stdout",
     "output_type": "stream",
     "text": [
      "{'name': ['licat', 'Jeju', 'Developer'], 'city': ['licat', 'Jeju', 'Developer'], 'job': ['licat', 'Jeju', 'Developer']}\n"
     ]
    }
   ],
   "source": [
    "keys = ['name', 'city', 'job']\n",
    "value = ['licat', 'Jeju', 'Developer']\n",
    "print(dict.fromkeys(keys, value))"
   ]
  },
  {
   "cell_type": "code",
   "execution_count": 66,
   "id": "1cf6faca",
   "metadata": {},
   "outputs": [
    {
     "name": "stdout",
     "output_type": "stream",
     "text": [
      "None\n",
      "셋\n",
      "없음\n"
     ]
    },
    {
     "ename": "KeyError",
     "evalue": "'four'",
     "output_type": "error",
     "traceback": [
      "\u001b[31m---------------------------------------------------------------------------\u001b[39m",
      "\u001b[31mKeyError\u001b[39m                                  Traceback (most recent call last)",
      "\u001b[36mCell\u001b[39m\u001b[36m \u001b[39m\u001b[32mIn[66]\u001b[39m\u001b[32m, line 5\u001b[39m\n\u001b[32m      3\u001b[39m \u001b[38;5;28mprint\u001b[39m(numbers.get(\u001b[33m'\u001b[39m\u001b[33mthree\u001b[39m\u001b[33m'\u001b[39m, \u001b[33m'\u001b[39m\u001b[33m없음\u001b[39m\u001b[33m'\u001b[39m))\n\u001b[32m      4\u001b[39m \u001b[38;5;28mprint\u001b[39m(numbers.get(\u001b[33m'\u001b[39m\u001b[33mfour\u001b[39m\u001b[33m'\u001b[39m, \u001b[33m'\u001b[39m\u001b[33m없음\u001b[39m\u001b[33m'\u001b[39m))\n\u001b[32m----> \u001b[39m\u001b[32m5\u001b[39m \u001b[38;5;28mprint\u001b[39m(\u001b[43mnumbers\u001b[49m\u001b[43m[\u001b[49m\u001b[33;43m'\u001b[39;49m\u001b[33;43mfour\u001b[39;49m\u001b[33;43m'\u001b[39;49m\u001b[43m]\u001b[49m)\n",
      "\u001b[31mKeyError\u001b[39m: 'four'"
     ]
    }
   ],
   "source": [
    "numbers = {'one': '하나', 'two': '둘', 'three': '셋'}\n",
    "print(numbers.get('four'))\n",
    "print(numbers.get('three', '없음'))\n",
    "print(numbers.get('four', '없음'))\n",
    "print(numbers['four'])"
   ]
  },
  {
   "cell_type": "code",
   "execution_count": 67,
   "id": "846d8413",
   "metadata": {},
   "outputs": [
    {
     "name": "stdout",
     "output_type": "stream",
     "text": [
      "dict_items([('name', 'licat'), ('city', 'Jeju'), ('job', 'Developer')])\n"
     ]
    }
   ],
   "source": [
    "person = {'name': 'licat', 'city': 'Jeju', 'job': 'Developer'}\n",
    "print(person.items())"
   ]
  },
  {
   "cell_type": "code",
   "execution_count": 68,
   "id": "33a5913a",
   "metadata": {},
   "outputs": [
    {
     "name": "stdout",
     "output_type": "stream",
     "text": [
      "dict_keys(['name', 'city', 'job'])\n"
     ]
    }
   ],
   "source": [
    "person = {'name': 'licat', 'city': 'Jeju', 'job': 'Developer'}\n",
    "print(person.keys())"
   ]
  },
  {
   "cell_type": "code",
   "execution_count": 69,
   "id": "aad9f8bf",
   "metadata": {},
   "outputs": [
    {
     "name": "stdout",
     "output_type": "stream",
     "text": [
      "dict_values(['licat', 'Jeju', 'Developer'])\n"
     ]
    }
   ],
   "source": [
    "person = {'name': 'licat', 'city': 'Jeju', 'job': 'Developer'}\n",
    "print(person.values())"
   ]
  },
  {
   "cell_type": "code",
   "execution_count": 70,
   "id": "9df4972c",
   "metadata": {},
   "outputs": [
    {
     "name": "stdout",
     "output_type": "stream",
     "text": [
      "하나\n",
      "{'two': '둘', 'three': '셋'}\n"
     ]
    }
   ],
   "source": [
    "numbers = {'one': '하나', 'two': '둘', 'three': '셋'}\n",
    "one_value = numbers.pop('one')\n",
    "print(one_value)\n",
    "print(numbers)"
   ]
  },
  {
   "cell_type": "code",
   "execution_count": 71,
   "id": "87670b06",
   "metadata": {},
   "outputs": [
    {
     "ename": "TypeError",
     "evalue": "pop expected at least 1 argument, got 0",
     "output_type": "error",
     "traceback": [
      "\u001b[31m---------------------------------------------------------------------------\u001b[39m",
      "\u001b[31mTypeError\u001b[39m                                 Traceback (most recent call last)",
      "\u001b[36mCell\u001b[39m\u001b[36m \u001b[39m\u001b[32mIn[71]\u001b[39m\u001b[32m, line 2\u001b[39m\n\u001b[32m      1\u001b[39m numbers = {\u001b[33m'\u001b[39m\u001b[33mone\u001b[39m\u001b[33m'\u001b[39m: \u001b[33m'\u001b[39m\u001b[33m하나\u001b[39m\u001b[33m'\u001b[39m, \u001b[33m'\u001b[39m\u001b[33mtwo\u001b[39m\u001b[33m'\u001b[39m: \u001b[33m'\u001b[39m\u001b[33m둘\u001b[39m\u001b[33m'\u001b[39m, \u001b[33m'\u001b[39m\u001b[33mthree\u001b[39m\u001b[33m'\u001b[39m: \u001b[33m'\u001b[39m\u001b[33m셋\u001b[39m\u001b[33m'\u001b[39m}\n\u001b[32m----> \u001b[39m\u001b[32m2\u001b[39m \u001b[43mnumbers\u001b[49m\u001b[43m.\u001b[49m\u001b[43mpop\u001b[49m\u001b[43m(\u001b[49m\u001b[43m)\u001b[49m \u001b[38;5;66;03m# error\u001b[39;00m\n\u001b[32m      3\u001b[39m numbers\n",
      "\u001b[31mTypeError\u001b[39m: pop expected at least 1 argument, got 0"
     ]
    }
   ],
   "source": [
    "numbers = {'one': '하나', 'two': '둘', 'three': '셋'}\n",
    "numbers.pop() # error\n",
    "numbers"
   ]
  },
  {
   "cell_type": "code",
   "execution_count": 72,
   "id": "24537cb4",
   "metadata": {},
   "outputs": [
    {
     "name": "stdout",
     "output_type": "stream",
     "text": [
      "('three', '셋')\n",
      "{'one': '하나', 'two': '둘'}\n"
     ]
    }
   ],
   "source": [
    "numbers = {'one': '하나', 'two': '둘', 'three': '셋'}\n",
    "item = numbers.popitem()\n",
    "print(item)\n",
    "print(numbers)"
   ]
  },
  {
   "cell_type": "code",
   "execution_count": 73,
   "id": "e0fd0d81",
   "metadata": {},
   "outputs": [
    {
     "name": "stdout",
     "output_type": "stream",
     "text": [
      "넷\n",
      "{'one': '하나', 'two': '둘', 'three': '셋', 'four': '넷'}\n"
     ]
    }
   ],
   "source": [
    "numbers = {'one': '하나', 'two': '둘', 'three': '셋'}\n",
    "four_value = numbers.setdefault(\"four\", \"넷\")\n",
    "print(four_value)\n",
    "print(numbers)"
   ]
  },
  {
   "cell_type": "code",
   "execution_count": 74,
   "id": "e573533a",
   "metadata": {},
   "outputs": [
    {
     "name": "stdout",
     "output_type": "stream",
     "text": [
      "셋\n",
      "{'one': '하나', 'two': '둘', 'three': '셋'}\n"
     ]
    }
   ],
   "source": [
    "numbers = {'one': '하나', 'two': '둘', 'three': '셋'}\n",
    "four_value = numbers.setdefault(\"three\", 3) # 3이 반영되지 않습니다.\n",
    "print(four_value)\n",
    "print(numbers)"
   ]
  },
  {
   "cell_type": "code",
   "execution_count": 75,
   "id": "29f404e5",
   "metadata": {},
   "outputs": [
    {
     "name": "stdout",
     "output_type": "stream",
     "text": [
      "{'one': '하나', 'two': '둘', 'three': '셋', 'four': '넷', 'five': '다섯'}\n"
     ]
    }
   ],
   "source": [
    "numbers = {'one': '하나', 'two': '둘', 'three': '셋'}\n",
    "numbers.update({'four': '넷', 'five': '다섯'})\n",
    "print(numbers)"
   ]
  },
  {
   "cell_type": "markdown",
   "id": "48f7a0fe",
   "metadata": {},
   "source": [
    "# 셋"
   ]
  },
  {
   "cell_type": "code",
   "execution_count": 76,
   "id": "994f7910",
   "metadata": {},
   "outputs": [],
   "source": [
    "x = {1, 2, 3}\n",
    "y = {'apple', 'banana', 'cherry'}"
   ]
  },
  {
   "cell_type": "code",
   "execution_count": 77,
   "id": "87aa7fb4",
   "metadata": {},
   "outputs": [
    {
     "name": "stdout",
     "output_type": "stream",
     "text": [
      "{1, 2, 3}\n"
     ]
    }
   ],
   "source": [
    "z = set([1, 2, 3, 3, 3])\n",
    "print(z)  # 출력: {1, 2, 3}"
   ]
  },
  {
   "cell_type": "code",
   "execution_count": 78,
   "id": "8d822237",
   "metadata": {},
   "outputs": [
    {
     "name": "stdout",
     "output_type": "stream",
     "text": [
      "{'l', ' ', 'o', 'e', 'f', 'c', 'p', 'a'}\n"
     ]
    }
   ],
   "source": [
    "string_set = set('apple coffee')\n",
    "print(string_set)"
   ]
  },
  {
   "cell_type": "code",
   "execution_count": 79,
   "id": "211110a0",
   "metadata": {},
   "outputs": [
    {
     "name": "stdout",
     "output_type": "stream",
     "text": [
      "{1, 2, 3, 4, 5}\n"
     ]
    }
   ],
   "source": [
    "a = {1, 2, 3, 4, 5, 2, 3}\n",
    "print(a)  # 출력: {1, 2, 3, 4, 5}"
   ]
  },
  {
   "cell_type": "code",
   "execution_count": 82,
   "id": "96b9b039",
   "metadata": {},
   "outputs": [
    {
     "ename": "TypeError",
     "evalue": "'set' object is not subscriptable",
     "output_type": "error",
     "traceback": [
      "\u001b[31m---------------------------------------------------------------------------\u001b[39m",
      "\u001b[31mTypeError\u001b[39m                                 Traceback (most recent call last)",
      "\u001b[36mCell\u001b[39m\u001b[36m \u001b[39m\u001b[32mIn[82]\u001b[39m\u001b[32m, line 2\u001b[39m\n\u001b[32m      1\u001b[39m a = {\u001b[32m1\u001b[39m, \u001b[32m2\u001b[39m, \u001b[32m3\u001b[39m, \u001b[32m4\u001b[39m, \u001b[32m5\u001b[39m}\n\u001b[32m----> \u001b[39m\u001b[32m2\u001b[39m \u001b[38;5;28mprint\u001b[39m(\u001b[43ma\u001b[49m\u001b[43m[\u001b[49m\u001b[32;43m0\u001b[39;49m\u001b[43m]\u001b[49m)  \u001b[38;5;66;03m# 이렇게 하면 에러가 발생합니다!\u001b[39;00m\n\u001b[32m      3\u001b[39m \u001b[38;5;28mprint\u001b[39m(\u001b[32m3\u001b[39m \u001b[38;5;129;01min\u001b[39;00m a) \n",
      "\u001b[31mTypeError\u001b[39m: 'set' object is not subscriptable"
     ]
    }
   ],
   "source": [
    "a = {1, 2, 3, 4, 5}\n",
    "print(a[0])  # 이렇게 하면 에러가 발생합니다!\n",
    "print(3 in a) "
   ]
  },
  {
   "cell_type": "code",
   "execution_count": 84,
   "id": "a8249993",
   "metadata": {},
   "outputs": [
    {
     "name": "stdout",
     "output_type": "stream",
     "text": [
      "{1, 2, 3, 4, 5}\n"
     ]
    }
   ],
   "source": [
    "set1 = {1, 2, 3}\n",
    "set2 = {3, 4, 5}\n",
    "# shift + \\\n",
    "union_set = set1 | set2\n",
    "print(union_set)  # 출력: {1, 2, 3, 4, 5}"
   ]
  },
  {
   "cell_type": "code",
   "execution_count": 85,
   "id": "09678aa2",
   "metadata": {},
   "outputs": [
    {
     "name": "stdout",
     "output_type": "stream",
     "text": [
      "{3}\n"
     ]
    }
   ],
   "source": [
    "set1 = {1, 2, 3}\n",
    "set2 = {3, 4, 5}\n",
    "intersection_set = set1 & set2\n",
    "print(intersection_set)  # 출력: {3}"
   ]
  },
  {
   "cell_type": "code",
   "execution_count": 86,
   "id": "d7b6ea68",
   "metadata": {},
   "outputs": [
    {
     "name": "stdout",
     "output_type": "stream",
     "text": [
      "{1, 2}\n"
     ]
    }
   ],
   "source": [
    "set1 = {1, 2, 3}\n",
    "set2 = {3, 4, 5}\n",
    "difference_set = set1 - set2\n",
    "print(difference_set)  # 출력: {1, 2}"
   ]
  },
  {
   "cell_type": "code",
   "execution_count": 87,
   "id": "75c0c732",
   "metadata": {},
   "outputs": [
    {
     "name": "stdout",
     "output_type": "stream",
     "text": [
      "True\n",
      "False\n"
     ]
    }
   ],
   "source": [
    "set1 = {1, 2, 3, 4, 5}\n",
    "print(3 in set1)  # 출력: True\n",
    "print(6 in set1)  # 출력: False"
   ]
  },
  {
   "cell_type": "code",
   "execution_count": 88,
   "id": "72ad91dd",
   "metadata": {},
   "outputs": [],
   "source": [
    "set1 = {1, 2, 3, 4, 5}"
   ]
  },
  {
   "cell_type": "code",
   "execution_count": 89,
   "id": "41c751a4",
   "metadata": {},
   "outputs": [
    {
     "name": "stdout",
     "output_type": "stream",
     "text": [
      "{1, 2, 3, 4}\n"
     ]
    }
   ],
   "source": [
    "set1 = {1, 2, 3}\n",
    "set1.add(4)\n",
    "print(set1)  # 출력: {1, 2, 3, 4}"
   ]
  },
  {
   "cell_type": "code",
   "execution_count": 90,
   "id": "dcc9a0f6",
   "metadata": {},
   "outputs": [
    {
     "name": "stdout",
     "output_type": "stream",
     "text": [
      "set()\n"
     ]
    }
   ],
   "source": [
    "set1 = {1, 2, 3, 4}\n",
    "set1.clear()\n",
    "print(set1)  # 출력: set()"
   ]
  },
  {
   "cell_type": "code",
   "execution_count": 91,
   "id": "928129da",
   "metadata": {},
   "outputs": [
    {
     "name": "stdout",
     "output_type": "stream",
     "text": [
      "{1, 2, 3}\n"
     ]
    }
   ],
   "source": [
    "set1 = {1, 2, 3}\n",
    "set2 = set1.copy()\n",
    "print(set2)  # 출력: {1, 2, 3}"
   ]
  },
  {
   "cell_type": "code",
   "execution_count": 92,
   "id": "706b80c7",
   "metadata": {},
   "outputs": [
    {
     "name": "stdout",
     "output_type": "stream",
     "text": [
      "{1, 2, 4}\n"
     ]
    }
   ],
   "source": [
    "set1 = {1, 2, 3, 4}\n",
    "set1.remove(3)\n",
    "print(set1)    # 출력: {1, 2, 4}\n",
    "# set1.remove(5) # KeyError"
   ]
  },
  {
   "cell_type": "code",
   "execution_count": 93,
   "id": "3ae0de7e",
   "metadata": {},
   "outputs": [
    {
     "name": "stdout",
     "output_type": "stream",
     "text": [
      "{1, 2, 3, 4}\n"
     ]
    }
   ],
   "source": [
    "set1 = {1, 2, 3, 4}\n",
    "set1.discard(5)\n",
    "print(set1)  # 출력: {1, 2, 3, 4}"
   ]
  },
  {
   "cell_type": "code",
   "execution_count": 94,
   "id": "70d2afce",
   "metadata": {},
   "outputs": [
    {
     "name": "stdout",
     "output_type": "stream",
     "text": [
      "{4, 5, 6, 7, 8}\n",
      "{5, 6, 7, 8}\n",
      "{6, 7, 8}\n"
     ]
    }
   ],
   "source": [
    "s = {3, 4, 5, 6, 7, 8}\n",
    "s.pop()\n",
    "print(s)  # 가장 확률적으로 출력: {4, 5, 6, 7, 8}\n",
    "s.pop()\n",
    "print(s)  # 가장 확률적으로 출력: {5, 6, 7, 8}\n",
    "s.pop()\n",
    "print(s)  # 가장 확률적으로 출력: {6, 7, 8}"
   ]
  },
  {
   "cell_type": "code",
   "execution_count": 95,
   "id": "e4a99fe1",
   "metadata": {},
   "outputs": [
    {
     "data": {
      "text/plain": [
       "1"
      ]
     },
     "execution_count": 95,
     "metadata": {},
     "output_type": "execute_result"
    }
   ],
   "source": [
    "set1 = {1, 2, 3, 4}\n",
    "set1.pop()"
   ]
  },
  {
   "cell_type": "code",
   "execution_count": 96,
   "id": "43348fff",
   "metadata": {},
   "outputs": [
    {
     "name": "stdout",
     "output_type": "stream",
     "text": [
      "{1, 2}\n"
     ]
    }
   ],
   "source": [
    "set1 = {1, 2, 3, 4}\n",
    "set2 = {3, 4, 5, 6}\n",
    "print(set1.difference(set2))  # 출력: {1, 2}"
   ]
  },
  {
   "cell_type": "code",
   "execution_count": 97,
   "id": "e491c772",
   "metadata": {},
   "outputs": [
    {
     "name": "stdout",
     "output_type": "stream",
     "text": [
      "{1, 2}\n"
     ]
    }
   ],
   "source": [
    "set1 = {1, 2, 3, 4}\n",
    "set2 = {3, 4, 5, 6}\n",
    "set1.difference_update(set2)\n",
    "print(set1)  # 출력: {1, 2}"
   ]
  },
  {
   "cell_type": "code",
   "execution_count": 98,
   "id": "e40d1eb3",
   "metadata": {},
   "outputs": [
    {
     "name": "stdout",
     "output_type": "stream",
     "text": [
      "{3, 4}\n"
     ]
    }
   ],
   "source": [
    "set1 = {1, 2, 3, 4}\n",
    "set2 = {3, 4, 5, 6}\n",
    "print(set1.intersection(set2))  # 출력: {3, 4}"
   ]
  },
  {
   "cell_type": "code",
   "execution_count": 99,
   "id": "ecb419e1",
   "metadata": {},
   "outputs": [
    {
     "name": "stdout",
     "output_type": "stream",
     "text": [
      "{3, 4}\n"
     ]
    }
   ],
   "source": [
    "set1 = {1, 2, 3, 4}\n",
    "set2 = {3, 4, 5, 6}\n",
    "set1.intersection_update(set2)\n",
    "print(set1)  # 출력: {3, 4}"
   ]
  },
  {
   "cell_type": "code",
   "execution_count": 100,
   "id": "f92b18f3",
   "metadata": {},
   "outputs": [
    {
     "name": "stdout",
     "output_type": "stream",
     "text": [
      "True\n"
     ]
    }
   ],
   "source": [
    "set1 = {1, 2, 3}\n",
    "set2 = {4, 5, 6}\n",
    "print(set1.isdisjoint(set2))  # 출력: True"
   ]
  },
  {
   "cell_type": "code",
   "execution_count": 101,
   "id": "e802c149",
   "metadata": {},
   "outputs": [
    {
     "name": "stdout",
     "output_type": "stream",
     "text": [
      "True\n"
     ]
    }
   ],
   "source": [
    "set1 = {1, 2, 3}\n",
    "set2 = {1, 2, 3, 4, 5}\n",
    "print(set1.issubset(set2))  # 출력: True"
   ]
  },
  {
   "cell_type": "code",
   "execution_count": 102,
   "id": "cffcae95",
   "metadata": {},
   "outputs": [
    {
     "name": "stdout",
     "output_type": "stream",
     "text": [
      "True\n"
     ]
    }
   ],
   "source": [
    "set1 = {1, 2, 3, 4, 5}\n",
    "set2 = {1, 2, 3}\n",
    "print(set1.issuperset(set2))  # 출력: True"
   ]
  },
  {
   "cell_type": "code",
   "execution_count": null,
   "id": "6dfb927b",
   "metadata": {},
   "outputs": [
    {
     "name": "stdout",
     "output_type": "stream",
     "text": [
      "{1, 2, 5, 6}\n",
      "{1, 2, 5, 6}\n"
     ]
    }
   ],
   "source": [
    "set1 = {1, 2, 3, 4}\n",
    "set2 = {3, 4, 5, 6}\n",
    "# shift + 6\n",
    "print(set1^set2)                        # 출력: {1, 2, 5, 6}\n",
    "print(set1.symmetric_difference(set2))  # 출력: {1, 2, 5, 6}"
   ]
  },
  {
   "cell_type": "code",
   "execution_count": 104,
   "id": "5d754d58",
   "metadata": {},
   "outputs": [
    {
     "name": "stdout",
     "output_type": "stream",
     "text": [
      "{1, 2, 5, 6}\n"
     ]
    }
   ],
   "source": [
    "set1 = {1, 2, 3, 4}\n",
    "set2 = {3, 4, 5, 6}\n",
    "set1.symmetric_difference_update(set2)\n",
    "print(set1)  # 출력: {1, 2, 5, 6}"
   ]
  },
  {
   "cell_type": "code",
   "execution_count": 105,
   "id": "9f827a7b",
   "metadata": {},
   "outputs": [
    {
     "name": "stdout",
     "output_type": "stream",
     "text": [
      "{1, 2, 3, 4, 5, 6}\n"
     ]
    }
   ],
   "source": [
    "set1 = {1, 2, 3, 4}\n",
    "set2 = {3, 4, 5, 6}\n",
    "print(set1.union(set2))  # 출력: {1, 2, 3, 4, 5, 6}"
   ]
  },
  {
   "cell_type": "code",
   "execution_count": null,
   "id": "674cf24b",
   "metadata": {},
   "outputs": [],
   "source": []
  }
 ],
 "metadata": {
  "kernelspec": {
   "display_name": "Python 3",
   "language": "python",
   "name": "python3"
  },
  "language_info": {
   "codemirror_mode": {
    "name": "ipython",
    "version": 3
   },
   "file_extension": ".py",
   "mimetype": "text/x-python",
   "name": "python",
   "nbconvert_exporter": "python",
   "pygments_lexer": "ipython3",
   "version": "3.13.5"
  }
 },
 "nbformat": 4,
 "nbformat_minor": 5
}
