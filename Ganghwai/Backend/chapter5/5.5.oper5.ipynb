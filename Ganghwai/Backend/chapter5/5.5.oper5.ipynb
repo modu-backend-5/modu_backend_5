{
 "cells": [
  {
   "cell_type": "markdown",
   "id": "cedf24a8",
   "metadata": {},
   "source": [
    "# 멤버연산"
   ]
  },
  {
   "cell_type": "code",
   "execution_count": 1,
   "id": "06c61dfc",
   "metadata": {},
   "outputs": [
    {
     "data": {
      "text/plain": [
       "False"
      ]
     },
     "execution_count": 1,
     "metadata": {},
     "output_type": "execute_result"
    }
   ],
   "source": [
    "# in - 값이 내가 찾으려는 대상 안에 있으면 True, 아니면 False\n",
    "find_str = \"my name is benny\"\n",
    "\"benny\" in find_str\n",
    "\"gyeong\" in find_str"
   ]
  },
  {
   "cell_type": "code",
   "execution_count": null,
   "id": "7894e577",
   "metadata": {},
   "outputs": [],
   "source": [
    "# not in - 값이 내가 찾으려는 대상 안에 없냐 True, 있으면 False\n",
    "find_str "
   ]
  }
 ],
 "metadata": {
  "kernelspec": {
   "display_name": "Python 3",
   "language": "python",
   "name": "python3"
  },
  "language_info": {
   "codemirror_mode": {
    "name": "ipython",
    "version": 3
   },
   "file_extension": ".py",
   "mimetype": "text/x-python",
   "name": "python",
   "nbconvert_exporter": "python",
   "pygments_lexer": "ipython3",
   "version": "3.13.5"
  }
 },
 "nbformat": 4,
 "nbformat_minor": 5
}
