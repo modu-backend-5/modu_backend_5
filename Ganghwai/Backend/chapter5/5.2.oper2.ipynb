{
 "cells": [
  {
   "cell_type": "markdown",
   "id": "d515e9fe",
   "metadata": {},
   "source": [
    "비교연산\n",
    "1. 비교연산자"
   ]
  },
  {
   "cell_type": "code",
   "execution_count": 1,
   "id": "9acf495d",
   "metadata": {},
   "outputs": [
    {
     "name": "stdout",
     "output_type": "stream",
     "text": [
      "True\n"
     ]
    }
   ],
   "source": [
    "#1.1 == (같음)\n",
    "5 == 5\n",
    "5 -- 5.0\n",
    "\n",
    "\n",
    "\n",
    "\n",
    "print(5 == 5) # 결과: True\n",
    "# print(5 = 5) # 잘못된 예시"
   ]
  },
  {
   "cell_type": "code",
   "execution_count": 2,
   "id": "a3653b0c",
   "metadata": {},
   "outputs": [
    {
     "name": "stdout",
     "output_type": "stream",
     "text": [
      "False\n"
     ]
    }
   ],
   "source": [
    "print('하하' > '후후') # 결과: False"
   ]
  },
  {
   "cell_type": "code",
   "execution_count": 4,
   "id": "078b9ead",
   "metadata": {},
   "outputs": [
    {
     "name": "stdout",
     "output_type": "stream",
     "text": [
      "True\n"
     ]
    },
    {
     "data": {
      "text/plain": [
       "True"
      ]
     },
     "execution_count": 4,
     "metadata": {},
     "output_type": "execute_result"
    }
   ],
   "source": [
    "x = 10\n",
    "print(5 < x < 15) # 결과: True\n",
    "5 < x < 15"
   ]
  }
 ],
 "metadata": {
  "kernelspec": {
   "display_name": "Python 3",
   "language": "python",
   "name": "python3"
  },
  "language_info": {
   "codemirror_mode": {
    "name": "ipython",
    "version": 3
   },
   "file_extension": ".py",
   "mimetype": "text/x-python",
   "name": "python",
   "nbconvert_exporter": "python",
   "pygments_lexer": "ipython3",
   "version": "3.13.5"
  }
 },
 "nbformat": 4,
 "nbformat_minor": 5
}
