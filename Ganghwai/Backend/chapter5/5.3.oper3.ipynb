{
 "cells": [
  {
   "cell_type": "markdown",
   "id": "a026de3e",
   "metadata": {},
   "source": [
    "# 논리연산"
   ]
  },
  {
   "cell_type": "markdown",
   "id": "aae65ca1",
   "metadata": {},
   "source": [
    "## 1. 논리연산자 (Logical Operators)"
   ]
  },
  {
   "cell_type": "code",
   "execution_count": 4,
   "id": "51343d4e",
   "metadata": {},
   "outputs": [
    {
     "name": "stdout",
     "output_type": "stream",
     "text": [
      "True\n",
      "False\n",
      "False\n",
      "False\n",
      "False\n"
     ]
    }
   ],
   "source": [
    "# 1.1 논리 곱 연산자\n",
    "print(True and True)   # 결과: True\n",
    "print(True and False)  # 결과: False\n",
    "print(False and True)  # 결과: False\n",
    "print(False and False) # 결과: False\n",
    "\n",
    "\n",
    "print(5 > 3 and 4 < 3) # 결과: False"
   ]
  },
  {
   "cell_type": "code",
   "execution_count": 5,
   "id": "4573fa33",
   "metadata": {},
   "outputs": [
    {
     "name": "stdout",
     "output_type": "stream",
     "text": [
      "True\n",
      "True\n",
      "True\n",
      "False\n",
      "True\n"
     ]
    }
   ],
   "source": [
    "# 1.2 논리 합 연산자\n",
    "print(True or True)   # 결과: True\n",
    "print(True or False)  # 결과: True (and와 차이점)\n",
    "print(False or True)  # 결과: True (and와 차이점)\n",
    "print(False or False) # 결과: False\n",
    "\n",
    "\n",
    "print(5 > 3 or 4 < 3) # 결과: True"
   ]
  },
  {
   "cell_type": "code",
   "execution_count": null,
   "id": "b7af15d2",
   "metadata": {},
   "outputs": [
    {
     "name": "stdout",
     "output_type": "stream",
     "text": [
      "False\n",
      "True\n"
     ]
    }
   ],
   "source": [
    "#1.3 not 연산자\n",
    "print(not True)  # 결과: False\n",
    "print(not False) # 결과: True\n",
    "if not (\"False가 될 조건\")\n"
   ]
  }
 ],
 "metadata": {
  "kernelspec": {
   "display_name": "Python 3",
   "language": "python",
   "name": "python3"
  },
  "language_info": {
   "codemirror_mode": {
    "name": "ipython",
    "version": 3
   },
   "file_extension": ".py",
   "mimetype": "text/x-python",
   "name": "python",
   "nbconvert_exporter": "python",
   "pygments_lexer": "ipython3",
   "version": "3.13.5"
  }
 },
 "nbformat": 4,
 "nbformat_minor": 5
}
