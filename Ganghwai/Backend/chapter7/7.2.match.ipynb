{
 "cells": [
  {
   "cell_type": "markdown",
   "id": "79117174",
   "metadata": {},
   "source": [
    "# match 구문 사용하기\n",
    "## 1. match 구문이란?\n",
    "## 2. match 구문 사용하기"
   ]
  },
  {
   "cell_type": "code",
   "execution_count": 1,
   "id": "509e675d",
   "metadata": {},
   "outputs": [
    {
     "name": "stdout",
     "output_type": "stream",
     "text": [
      "올바른 요일을 입력하세요\n"
     ]
    }
   ],
   "source": [
    "day = input(\"요일을 입력하세요: \")\n",
    "match day:\n",
    "    case \"월\" | \"화\" | \"수\" | \"목\" | \"금\":\n",
    "        print(\"평일\")\n",
    "    case \"토\" | \"일\":\n",
    "        print(\"주말\")\n",
    "    case _:\n",
    "        print(\"올바른 요일을 입력하세요\")"
   ]
  },
  {
   "cell_type": "code",
   "execution_count": 3,
   "id": "95e89acb",
   "metadata": {},
   "outputs": [
    {
     "name": "stdout",
     "output_type": "stream",
     "text": [
      "양의 정수\n"
     ]
    }
   ],
   "source": [
    "#2.2 조건 추가하기\n",
    "\n",
    "value = 5\n",
    "\n",
    "match value:\n",
    "    case int(n) if n > 0:\n",
    "        print(\"양의 정수\")\n",
    "    case int(n) if n < 0:\n",
    "        print(\"음의 정수\")\n",
    "    case int(n) if n == 0:\n",
    "        print(\"0\")\n",
    "    case float():\n",
    "        print(\"실수\")\n",
    "    case str():\n",
    "        print(\"문자열\")\n",
    "    case _:\n",
    "        print(\"기타 타입\")"
   ]
  }
 ],
 "metadata": {
  "kernelspec": {
   "display_name": "Python 3",
   "language": "python",
   "name": "python3"
  },
  "language_info": {
   "codemirror_mode": {
    "name": "ipython",
    "version": 3
   },
   "file_extension": ".py",
   "mimetype": "text/x-python",
   "name": "python",
   "nbconvert_exporter": "python",
   "pygments_lexer": "ipython3",
   "version": "3.13.5"
  }
 },
 "nbformat": 4,
 "nbformat_minor": 5
}
