{
 "cells": [
  {
   "cell_type": "markdown",
   "id": "094132cf",
   "metadata": {},
   "source": [
    "1.조건문이란?"
   ]
  },
  {
   "cell_type": "code",
   "execution_count": 1,
   "id": "6351610b",
   "metadata": {},
   "outputs": [
    {
     "name": "stdout",
     "output_type": "stream",
     "text": [
      "성인입니다.\n",
      "프로그램이 종료되었습니다.\n"
     ]
    }
   ],
   "source": [
    "age = 20\n",
    "\n",
    "\n",
    "if age >= 18:\n",
    "    print(\"성인입니다.\")\n",
    "\n",
    "\n",
    "print(\"프로그램이 종료되었습니다.\")"
   ]
  },
  {
   "cell_type": "code",
   "execution_count": 4,
   "id": "be3d624b",
   "metadata": {},
   "outputs": [
    {
     "name": "stdout",
     "output_type": "stream",
     "text": [
      "미성년자입니다.\n"
     ]
    }
   ],
   "source": [
    "#2.2 if-else 문\n",
    "age = 15\n",
    "if age >= 18:\n",
    "    print(\"성인입니다.\")\n",
    "else:\n",
    "    print(\"미성년자입니다.\")"
   ]
  },
  {
   "cell_type": "code",
   "execution_count": null,
   "id": "0c57e49f",
   "metadata": {},
   "outputs": [],
   "source": [
    "#2.3 if-elif-else 문\n",
    "\n",
    "score = 85\n",
    "\n",
    "\n",
    "if score >= 90:\n",
    "    print(\"A 등급\")\n",
    "elif score >= 80:\n",
    "    print(\"B 등급\")\n",
    "elif score >= 70:\n",
    "    print(\"C 등급\")\n",
    "else:\n",
    "    print(\"D 등급\")"
   ]
  },
  {
   "cell_type": "code",
   "execution_count": 5,
   "id": "f30c9228",
   "metadata": {},
   "outputs": [
    {
     "name": "stdout",
     "output_type": "stream",
     "text": [
      "입장 가능합니다.\n"
     ]
    }
   ],
   "source": [
    "#2.4 중첩된 if 문\n",
    "\n",
    "age = 20\n",
    "has_id = True\n",
    "\n",
    "\n",
    "if age >= 18:\n",
    "    if has_id:\n",
    "        print(\"입장 가능합니다.\")\n",
    "    else:\n",
    "        print(\"신분증을 가져오세요.\")\n",
    "else:\n",
    "    print(\"미성년자는 입장할 수 없습니다.\")"
   ]
  },
  {
   "cell_type": "code",
   "execution_count": 6,
   "id": "3678bdc7",
   "metadata": {},
   "outputs": [
    {
     "name": "stdout",
     "output_type": "stream",
     "text": [
      "놀이기구 탑승 가능\n",
      "입장 가능\n"
     ]
    }
   ],
   "source": [
    "#2.5 and, or 연산자\n",
    "\n",
    "age = 22\n",
    "height = 175\n",
    "\n",
    "if age >= 18 and height >= 170:\n",
    "    print(\"놀이기구 탑승 가능\")\n",
    "else:\n",
    "    print(\"놀이기구 탑승 불가\")\n",
    "\n",
    "has_ticket = False\n",
    "is_vip = True\n",
    "\n",
    "if has_ticket or is_vip:\n",
    "    print(\"입장 가능\")\n",
    "else:\n",
    "    print(\"입장 불가\")"
   ]
  },
  {
   "cell_type": "code",
   "execution_count": null,
   "id": "077d4756",
   "metadata": {},
   "outputs": [],
   "source": []
  }
 ],
 "metadata": {
  "kernelspec": {
   "display_name": "Python 3",
   "language": "python",
   "name": "python3"
  },
  "language_info": {
   "codemirror_mode": {
    "name": "ipython",
    "version": 3
   },
   "file_extension": ".py",
   "mimetype": "text/x-python",
   "name": "python",
   "nbconvert_exporter": "python",
   "pygments_lexer": "ipython3",
   "version": "3.13.5"
  }
 },
 "nbformat": 4,
 "nbformat_minor": 5
}
