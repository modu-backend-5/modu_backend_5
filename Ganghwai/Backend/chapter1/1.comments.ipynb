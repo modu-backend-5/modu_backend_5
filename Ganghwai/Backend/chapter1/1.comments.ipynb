{
 "cells": [
  {
   "cell_type": "code",
   "execution_count": null,
   "id": "6f53e531",
   "metadata": {},
   "outputs": [
    {
     "name": "stdout",
     "output_type": "stream",
     "text": [
      "Hello, World\n"
     ]
    }
   ],
   "source": [
    "# 아래 코드는 Hello World를 출력하는 간단한 파이썬 스크립트입니다.\n",
    "print('Hello, World') # 이것도 주석입니다."
   ]
  },
  {
   "cell_type": "code",
   "execution_count": 2,
   "id": "e5ace2d9",
   "metadata": {},
   "outputs": [
    {
     "name": "stdout",
     "output_type": "stream",
     "text": [
      "Hello, World 1\n"
     ]
    }
   ],
   "source": [
    "print('Hello, World 1') # 이것도 주석입니다.\n",
    "#print('Hello, World 2') # 이것도 주석입니다."
   ]
  },
  {
   "cell_type": "code",
   "execution_count": 3,
   "id": "ca6435b7",
   "metadata": {},
   "outputs": [
    {
     "data": {
      "text/plain": [
       "'\\n이것도 주석이고,\\n여러줄 주석입니다.\\n여러러러러러 줄~\\n'"
      ]
     },
     "execution_count": 3,
     "metadata": {},
     "output_type": "execute_result"
    }
   ],
   "source": [
    "\"\"\"\n",
    "이것도 주석이고,\n",
    "여러줄 주석입니다.\n",
    "여러러러러러 줄~\n",
    "\"\"\""
   ]
  },
  {
   "cell_type": "code",
   "execution_count": null,
   "id": "48faac90",
   "metadata": {},
   "outputs": [],
   "source": [
    "\n",
    "\n"
   ]
  },
  {
   "cell_type": "code",
   "execution_count": null,
   "id": "695c4d8a",
   "metadata": {},
   "outputs": [],
   "source": []
  }
 ],
 "metadata": {
  "kernelspec": {
   "display_name": "Python 3",
   "language": "python",
   "name": "python3"
  },
  "language_info": {
   "codemirror_mode": {
    "name": "ipython",
    "version": 3
   },
   "file_extension": ".py",
   "mimetype": "text/x-python",
   "name": "python",
   "nbconvert_exporter": "python",
   "pygments_lexer": "ipython3",
   "version": "3.13.5"
  }
 },
 "nbformat": 4,
 "nbformat_minor": 5
}
