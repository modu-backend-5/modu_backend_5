{
 "cells": [
  {
   "cell_type": "code",
   "execution_count": 4,
   "id": "0954ee28",
   "metadata": {},
   "outputs": [
    {
     "ename": "NameError",
     "evalue": "name 'arr' is not defined",
     "output_type": "error",
     "traceback": [
      "\u001b[31m---------------------------------------------------------------------------\u001b[39m",
      "\u001b[31mNameError\u001b[39m                                 Traceback (most recent call last)",
      "\u001b[36mCell\u001b[39m\u001b[36m \u001b[39m\u001b[32mIn[4]\u001b[39m\u001b[32m, line 7\u001b[39m\n\u001b[32m      5\u001b[39m \u001b[38;5;28;01mfor\u001b[39;00m i \u001b[38;5;129;01min\u001b[39;00m x:\n\u001b[32m      6\u001b[39m     \u001b[38;5;28;01mif\u001b[39;00m i % \u001b[32m2\u001b[39m == \u001b[32m0\u001b[39m:\n\u001b[32m----> \u001b[39m\u001b[32m7\u001b[39m         \u001b[43marr\u001b[49m.append(i)\n\u001b[32m      8\u001b[39m \u001b[38;5;28mprint\u001b[39m(arr)\n\u001b[32m      9\u001b[39m filtered = \u001b[38;5;28mfilter\u001b[39m(\u001b[38;5;28;01mlambda\u001b[39;00m i: i % \u001b[32m2\u001b[39m == \u001b[32m0\u001b[39m, x) \n",
      "\u001b[31mNameError\u001b[39m: name 'arr' is not defined"
     ]
    }
   ],
   "source": [
    "# 2.4 filter\n",
    "# filter(조건 함수, 리스트 또는 튜플)\n",
    "x = range(1, 101)\n",
    "\n",
    "for i in x:\n",
    "    if i % 2 == 0:\n",
    "        arr.append(i)\n",
    "print(arr)\n",
    "filtered = filter(lambda i: i % 2 == 0, x) \n",
    "filtered_list = list(filter(lambda i: i % 2 == 0, x))\n",
    "print(filtered_list)       "
   ]
  },
  {
   "cell_type": "code",
   "execution_count": null,
   "id": "13135122",
   "metadata": {},
   "outputs": [
    {
     "ename": "NameError",
     "evalue": "name 'x_list' is not defined",
     "output_type": "error",
     "traceback": [
      "\u001b[31m---------------------------------------------------------------------------\u001b[39m",
      "\u001b[31mNameError\u001b[39m                                 Traceback (most recent call last)",
      "\u001b[36mCell\u001b[39m\u001b[36m \u001b[39m\u001b[32mIn[13]\u001b[39m\u001b[32m, line 13\u001b[39m\n\u001b[32m     11\u001b[39m x = [\u001b[32m2\u001b[39m, \u001b[32m4\u001b[39m, \u001b[32m8\u001b[39m, \u001b[32m16\u001b[39m, \u001b[32m32\u001b[39m, \u001b[32m64\u001b[39m, \u001b[32m128\u001b[39m]\n\u001b[32m     12\u001b[39m \u001b[38;5;28mlist\u001b[39m(\u001b[38;5;28mzip\u001b[39m(x, x[\u001b[32m1\u001b[39m:], x[\u001b[32m2\u001b[39m:]))\n\u001b[32m---> \u001b[39m\u001b[32m13\u001b[39m \u001b[38;5;28;01mfor\u001b[39;00m i, j, k \u001b[38;5;129;01min\u001b[39;00m \u001b[43mx_list\u001b[49m:\n\u001b[32m     14\u001b[39m     \u001b[38;5;28mprint\u001b[39m(i, j, k)\n\u001b[32m     16\u001b[39m \u001b[38;5;66;03m# 리스트 길이가 같은 경우\u001b[39;00m\n\u001b[32m     17\u001b[39m \u001b[38;5;66;03m# print(list(zip([1, 2, 3], ['a', 'b', 'c'], strict=True)))\u001b[39;00m\n\u001b[32m     18\u001b[39m \n\u001b[32m     19\u001b[39m \n\u001b[32m     20\u001b[39m \u001b[38;5;66;03m# 리스트 길이가 다른 경우\u001b[39;00m\n",
      "\u001b[31mNameError\u001b[39m: name 'x_list' is not defined"
     ]
    }
   ],
   "source": [
    "# 2.5 zip\n",
    "# zip(순회할 수 있는 객체1, 순회할 수 있는 객체2...)\n",
    "x = \"benny\"\n",
    "y = \"gyeong\"\n",
    "idx = [0, 1, 2, 3, 4]\n",
    "zipped = zip(x, y, idx)\n",
    "list(zipped)\n",
    "\n",
    "\n",
    "\n",
    "x = [2, 4, 8, 16, 32, 64, 128]\n",
    "list(zip(x, x[1:], x[2:])\n",
    "        print(i, j, k)\n",
    "\n",
    "# 리스트 길이가 같은 경우\n",
    "# print(list(zip([1, 2, 3], ['a', 'b', 'c'], strict=True)))\n",
    "\n",
    "\n",
    "# 리스트 길이가 다른 경우\n",
    "try:\n",
    "    print(list(zip([1, 2, 3], ['a', 'b'], strict=True)))\n",
    "except ValueError as e:\n",
    "    print(f\"오류: {e}\")    "
   ]
  },
  {
   "cell_type": "code",
   "execution_count": 16,
   "id": "ddba5ab9",
   "metadata": {},
   "outputs": [
    {
     "name": "stdout",
     "output_type": "stream",
     "text": [
      "123.46\n",
      "  Hello  \n"
     ]
    }
   ],
   "source": [
    "# 2.6 format\n",
    "# format(값, '서식 지정자(format_spec)')\n",
    "format(10000, ',')\n",
    "print(format(123.4567, '.2f')) # 출력: 123.46\n",
    "print(format('Hello', '^9')) # 출력: '  Hello  '"
   ]
  },
  {
   "cell_type": "code",
   "execution_count": 17,
   "id": "f5e55d3f",
   "metadata": {},
   "outputs": [
    {
     "data": {
      "text/plain": [
       "{'이름': '가', '국어': 90, '영어': 72, '수학': 95}"
      ]
     },
     "execution_count": 17,
     "metadata": {},
     "output_type": "execute_result"
    }
   ],
   "source": [
    "# 2.8.1 max, min\n",
    "\n",
    "students = [\n",
    "    {'이름': '가', '국어': 90, '영어': 72, '수학': 95},\n",
    "    {'이름': '나', \"국어\": 80, '영어': 90, '수학': 91},\n",
    "    {'이름': '다', \"국어\": 95, '영어': 73, '수학': 92}\n",
    "]\n",
    "\n",
    "\n",
    "max(students, key=lambda student: student['수학']) # 출력: {'이름': '가', '국어': 90, '영어': 72, '수학': 95}"
   ]
  },
  {
   "cell_type": "code",
   "execution_count": 18,
   "id": "04262399",
   "metadata": {},
   "outputs": [
    {
     "data": {
      "text/plain": [
       "0"
      ]
     },
     "execution_count": 18,
     "metadata": {},
     "output_type": "execute_result"
    }
   ],
   "source": [
    "# min(순회할 수 있는 객체, 함수(key), 초깃값(default))\n",
    "min([1, 2, 3, 4, 5]) # 출력 : 1\n",
    "min([], default=0) # 출력: 0"
   ]
  },
  {
   "cell_type": "code",
   "execution_count": 19,
   "id": "6c0a544a",
   "metadata": {},
   "outputs": [
    {
     "data": {
      "text/plain": [
       "{'이름': '나', '국어': 80, '영어': 90, '수학': 91}"
      ]
     },
     "execution_count": 19,
     "metadata": {},
     "output_type": "execute_result"
    }
   ],
   "source": [
    "students = [\n",
    "    {'이름': '가', '국어': 90, '영어': 72, '수학': 95},\n",
    "    {'이름': '나', \"국어\": 80, '영어': 90, '수학': 91},\n",
    "    {'이름': '다', \"국어\": 95, '영어': 73, '수학': 92}\n",
    "]\n",
    "\n",
    "\n",
    "min(students, key=lambda student: student['수학']) # 출력: {'이름': '나', '국어': 80, '영어': 90, '수학': 91}"
   ]
  },
  {
   "cell_type": "code",
   "execution_count": 23,
   "id": "74499f79",
   "metadata": {},
   "outputs": [
    {
     "data": {
      "text/plain": [
       "333"
      ]
     },
     "execution_count": 23,
     "metadata": {},
     "output_type": "execute_result"
    }
   ],
   "source": [
    "# 2.8.2 sum\n",
    "# sum(iterable, start=0)\n",
    "sum([1, 2, 3, 4, 5])\n",
    "sum([1, 2, 3], 10)\n",
    "multi_arr = [[1, 2], [3, 4], [5, 6]]\n",
    "\n",
    "\n",
    "sum([[1, 2], [10, 20], [100, 200]], [])\n",
    "sum(sum([[1, 2], [10, 20], [100, 200]], []))"
   ]
  },
  {
   "cell_type": "code",
   "execution_count": 25,
   "id": "86383475",
   "metadata": {},
   "outputs": [
    {
     "name": "stdout",
     "output_type": "stream",
     "text": [
      "<class 'str'>\n"
     ]
    }
   ],
   "source": [
    "# 2.9 print, repr\n",
    "\n",
    "\"hello\"\n",
    "print(type(\"hello\")) # <class 'str'>"
   ]
  },
  {
   "cell_type": "code",
   "execution_count": 26,
   "id": "7d66f0bf",
   "metadata": {},
   "outputs": [
    {
     "name": "stdout",
     "output_type": "stream",
     "text": [
      "1 a\n",
      "2 b\n",
      "3 c\n",
      "[(0, 'A'), (1, 'B'), (2, 'C'), (3, 'D')]\n",
      "[(1, 'A'), (2, 'B'), (3, 'C'), (4, 'D')]\n",
      "[(100, 'A'), (101, 'B'), (102, 'C'), (103, 'D')]\n"
     ]
    }
   ],
   "source": [
    "# 2.10.3 enumerate\n",
    "for i, v in enumerate(['a', 'b', 'c'], 1):\n",
    "    print(i, v)\n",
    "\n",
    "\n",
    "\n",
    "values = ['A', 'B', 'C', 'D']\n",
    "print(list(enumerate(values)))\n",
    "print(list(enumerate(values, 1)))\n",
    "print(list(enumerate(values, 100)))"
   ]
  },
  {
   "cell_type": "code",
   "execution_count": 29,
   "id": "8404852f",
   "metadata": {},
   "outputs": [
    {
     "name": "stdout",
     "output_type": "stream",
     "text": [
      "<class 'type'>\n"
     ]
    }
   ],
   "source": [
    "# 2.11 sorted, reversed\n",
    "sorted([1, 2, 100, 200, 3, 4, 10, 20])\n",
    "\n",
    "list(reversed('hello world'))\n",
    "ran = range(1, 101)\n",
    "print(type(range))"
   ]
  }
 ],
 "metadata": {
  "kernelspec": {
   "display_name": "Python 3",
   "language": "python",
   "name": "python3"
  },
  "language_info": {
   "codemirror_mode": {
    "name": "ipython",
    "version": 3
   },
   "file_extension": ".py",
   "mimetype": "text/x-python",
   "name": "python",
   "nbconvert_exporter": "python",
   "pygments_lexer": "ipython3",
   "version": "3.13.5"
  }
 },
 "nbformat": 4,
 "nbformat_minor": 5
}
