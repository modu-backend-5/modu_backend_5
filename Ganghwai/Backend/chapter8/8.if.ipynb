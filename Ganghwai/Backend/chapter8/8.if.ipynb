{
 "cells": [
  {
   "cell_type": "markdown",
   "id": "87b34d2b",
   "metadata": {},
   "source": [
    "# if문"
   ]
  },
  {
   "cell_type": "code",
   "execution_count": 1,
   "id": "5685abd3",
   "metadata": {},
   "outputs": [
    {
     "name": "stdout",
     "output_type": "stream",
     "text": [
      "True\n"
     ]
    }
   ],
   "source": [
    "x = 2\n",
    "if x > 1:\n",
    "    print('True') # 출력: True"
   ]
  },
  {
   "cell_type": "code",
   "execution_count": 2,
   "id": "fc9188dd",
   "metadata": {},
   "outputs": [
    {
     "name": "stdout",
     "output_type": "stream",
     "text": [
      "True\n",
      "True\n"
     ]
    }
   ],
   "source": [
    "if True:\n",
    "    print('True') # 출력: True\n",
    "print('True')"
   ]
  },
  {
   "cell_type": "code",
   "execution_count": 3,
   "id": "7df0b807",
   "metadata": {},
   "outputs": [
    {
     "name": "stdout",
     "output_type": "stream",
     "text": [
      "hello\n"
     ]
    }
   ],
   "source": [
    "if 1:\n",
    "    print('hello')"
   ]
  },
  {
   "cell_type": "code",
   "execution_count": 4,
   "id": "fa022c47",
   "metadata": {},
   "outputs": [
    {
     "name": "stdout",
     "output_type": "stream",
     "text": [
      "hello\n"
     ]
    }
   ],
   "source": [
    "if 10 and [1, 2, 3]: # True나 False가 아니라 단락평가에 의해 [1, 2, 3]\n",
    "    print('hello')"
   ]
  },
  {
   "cell_type": "code",
   "execution_count": 5,
   "id": "ed2def38",
   "metadata": {},
   "outputs": [
    {
     "name": "stdout",
     "output_type": "stream",
     "text": [
      "hello\n",
      "end\n"
     ]
    }
   ],
   "source": [
    "if -1: # 정수를 바꿔서도 실습해보세요\n",
    "    print('hello')\n",
    "print('end')"
   ]
  },
  {
   "cell_type": "code",
   "execution_count": 6,
   "id": "b5042fc8",
   "metadata": {},
   "outputs": [
    {
     "name": "stdout",
     "output_type": "stream",
     "text": [
      "hello\n",
      "end\n",
      "end\n"
     ]
    }
   ],
   "source": [
    "# 공백이 있는 문자열\n",
    "if ' ':\n",
    "    print('hello')\n",
    "print('end')\n",
    "\n",
    "\n",
    "# 공백이 없는 문자열\n",
    "if '':\n",
    "    print('hello')\n",
    "print('end')"
   ]
  },
  {
   "cell_type": "code",
   "execution_count": 8,
   "id": "3d65ced1",
   "metadata": {},
   "outputs": [
    {
     "name": "stdout",
     "output_type": "stream",
     "text": [
      "hello\n",
      "end\n",
      "end\n",
      "hello\n",
      "end\n"
     ]
    }
   ],
   "source": [
    "if not '':\n",
    "    print('hello')\n",
    "print('end')\n",
    "\n",
    "\n",
    "if None: # None은 False로 처리됩니다.\n",
    "    print('hello')\n",
    "print('end')\n",
    "\n",
    "\n",
    "if not None:\n",
    "    print('hello')\n",
    "print('end')"
   ]
  },
  {
   "cell_type": "code",
   "execution_count": 9,
   "id": "5ca07d3b",
   "metadata": {},
   "outputs": [
    {
     "name": "stdout",
     "output_type": "stream",
     "text": [
      "Odd\n",
      "Even\n"
     ]
    }
   ],
   "source": [
    "my_function = lambda x: 'Even' if x % 2 == 0 else 'Odd'\n",
    "print(my_function(1)) # Odd\n",
    "print(my_function(2)) # Even"
   ]
  },
  {
   "cell_type": "code",
   "execution_count": null,
   "id": "55b4ec99",
   "metadata": {},
   "outputs": [],
   "source": [
    "my_dict = {x: 'Even' if x % 2 == 0 else 'Odd' for x in range(10)}\n",
    "print(my_dict)"
   ]
  },
  {
   "cell_type": "markdown",
   "id": "8bc2f263",
   "metadata": {},
   "source": [
    "# if, elif, else문과 중첩 조건문"
   ]
  },
  {
   "cell_type": "code",
   "execution_count": null,
   "id": "cbaebab1",
   "metadata": {},
   "outputs": [],
   "source": [
    "# if, else문의 기본구조\n",
    "if 조건문: # 조건문을 확인해서 만약 '참'이면 if 문 다음에 문장들은 수행합니다.\n",
    "    pass\n",
    "\t  # 수행할 문장 1\n",
    "else: # if문의 조건이 거짓이면 else 문이 실행됩니다.\n",
    "    pass\n",
    "\t  # 수행할 문장 2"
   ]
  },
  {
   "cell_type": "code",
   "execution_count": 11,
   "id": "fb20f801",
   "metadata": {},
   "outputs": [
    {
     "name": "stdout",
     "output_type": "stream",
     "text": [
      "첫 번째 값이 더 큽니다.\n"
     ]
    }
   ],
   "source": [
    "x = 3\n",
    "y = 1\n",
    "\n",
    "\n",
    "if x > y:\n",
    "    print('첫 번째 값이 더 큽니다.')\n",
    "else:\n",
    "    print('두 번째 값이 더 크거나 같습니다.')"
   ]
  },
  {
   "cell_type": "code",
   "execution_count": null,
   "id": "994d41d6",
   "metadata": {},
   "outputs": [],
   "source": [
    "# if, elif, else문의 기본구조\n",
    " \n",
    "if 조건문: # 조건문을 확인해서 만약 '참'이면 if 문 다음에 문장들은 수행합니다.\n",
    "\t  # 수행할 문장 1\n",
    "    pass\n",
    "elif 조건문: # if문의 조건이 '참'이 아니라면 elif 문의 조건문이 참이라면 수행한다.\n",
    "\t  # 수행할 문장 2\n",
    "    pass\n",
    "else 조건문: # 위 모든 if문, elif문의 조건이 '참'이 아니라면 수행합니다.\n",
    "\t  # 수행할 문장 3\n",
    "    pass"
   ]
  },
  {
   "cell_type": "code",
   "execution_count": 13,
   "id": "b760352b",
   "metadata": {},
   "outputs": [
    {
     "ename": "ValueError",
     "evalue": "invalid literal for int() with base 10: ''",
     "output_type": "error",
     "traceback": [
      "\u001b[31m---------------------------------------------------------------------------\u001b[39m",
      "\u001b[31mValueError\u001b[39m                                Traceback (most recent call last)",
      "\u001b[36mCell\u001b[39m\u001b[36m \u001b[39m\u001b[32mIn[13]\u001b[39m\u001b[32m, line 1\u001b[39m\n\u001b[32m----> \u001b[39m\u001b[32m1\u001b[39m score = \u001b[38;5;28;43mint\u001b[39;49m\u001b[43m(\u001b[49m\u001b[38;5;28;43minput\u001b[39;49m\u001b[43m(\u001b[49m\u001b[33;43m\"\u001b[39;49m\u001b[33;43m성적을 입력하세요 (0-100): \u001b[39;49m\u001b[33;43m\"\u001b[39;49m\u001b[43m)\u001b[49m\u001b[43m)\u001b[49m\n\u001b[32m      4\u001b[39m \u001b[38;5;28;01mif\u001b[39;00m score >= \u001b[32m90\u001b[39m:\n\u001b[32m      5\u001b[39m     \u001b[38;5;28mprint\u001b[39m(\u001b[33m\"\u001b[39m\u001b[33mA\u001b[39m\u001b[33m\"\u001b[39m)\n",
      "\u001b[31mValueError\u001b[39m: invalid literal for int() with base 10: ''"
     ]
    }
   ],
   "source": [
    "score = int(input(\"성적을 입력하세요 (0-100): \"))\n",
    "\n",
    "\n",
    "if score >= 90:\n",
    "    print(\"A\")\n",
    "elif 90 > score >= 80:\n",
    "    print(\"B\")\n",
    "elif 80 > score >= 70:\n",
    "    print(\"C\")\n",
    "elif 70 > score >= 60:\n",
    "    print(\"D\")\n",
    "else:\n",
    "    print(\"F\")"
   ]
  },
  {
   "cell_type": "code",
   "execution_count": 14,
   "id": "7506b6b9",
   "metadata": {},
   "outputs": [
    {
     "ename": "ValueError",
     "evalue": "invalid literal for int() with base 10: ''",
     "output_type": "error",
     "traceback": [
      "\u001b[31m---------------------------------------------------------------------------\u001b[39m",
      "\u001b[31mValueError\u001b[39m                                Traceback (most recent call last)",
      "\u001b[36mCell\u001b[39m\u001b[36m \u001b[39m\u001b[32mIn[14]\u001b[39m\u001b[32m, line 1\u001b[39m\n\u001b[32m----> \u001b[39m\u001b[32m1\u001b[39m score = \u001b[38;5;28;43mint\u001b[39;49m\u001b[43m(\u001b[49m\u001b[38;5;28;43minput\u001b[39;49m\u001b[43m(\u001b[49m\u001b[33;43m\"\u001b[39;49m\u001b[33;43m성적을 입력하세요 (0-100): \u001b[39;49m\u001b[33;43m\"\u001b[39;49m\u001b[43m)\u001b[49m\u001b[43m)\u001b[49m\n\u001b[32m      4\u001b[39m \u001b[38;5;28;01mif\u001b[39;00m score >= \u001b[32m90\u001b[39m:\n\u001b[32m      5\u001b[39m     \u001b[38;5;28mprint\u001b[39m(\u001b[33m\"\u001b[39m\u001b[33mA\u001b[39m\u001b[33m\"\u001b[39m)\n",
      "\u001b[31mValueError\u001b[39m: invalid literal for int() with base 10: ''"
     ]
    }
   ],
   "source": [
    "score = int(input(\"성적을 입력하세요 (0-100): \"))\n",
    "\n",
    "\n",
    "if score >= 90:\n",
    "    print(\"A\")\n",
    "elif score >= 80:\n",
    "    print(\"B\")\n",
    "elif score >= 70:\n",
    "    print(\"C\")\n",
    "elif score >= 60:\n",
    "    print(\"D\")\n",
    "else:\n",
    "    print(\"F\")"
   ]
  },
  {
   "cell_type": "code",
   "execution_count": 15,
   "id": "34a66d08",
   "metadata": {},
   "outputs": [
    {
     "name": "stdout",
     "output_type": "stream",
     "text": [
      "100000\n"
     ]
    }
   ],
   "source": [
    "score = 81\n",
    "money = 0\n",
    "\n",
    "\n",
    "if score >= 90:\n",
    "    money += 1000000\n",
    "elif score >= 80:\n",
    "    money += 100000\n",
    "elif score >= 70:\n",
    "    money += 10000\n",
    "elif score >= 60:\n",
    "    money += 1000\n",
    "else:\n",
    "    money = 0\n",
    "print(money) # 출력: 100000"
   ]
  },
  {
   "cell_type": "code",
   "execution_count": 16,
   "id": "86de85b1",
   "metadata": {},
   "outputs": [
    {
     "ename": "SyntaxError",
     "evalue": "invalid syntax (3101707717.py, line 2)",
     "output_type": "error",
     "traceback": [
      "  \u001b[36mCell\u001b[39m\u001b[36m \u001b[39m\u001b[32mIn[16]\u001b[39m\u001b[32m, line 2\u001b[39m\n\u001b[31m    \u001b[39m\u001b[31melse:\u001b[39m\n    ^\n\u001b[31mSyntaxError\u001b[39m\u001b[31m:\u001b[39m invalid syntax\n"
     ]
    }
   ],
   "source": [
    "score = 100\n",
    "else:\n",
    "    print('hello') # error"
   ]
  },
  {
   "cell_type": "code",
   "execution_count": 17,
   "id": "2c6aa819",
   "metadata": {},
   "outputs": [
    {
     "name": "stdout",
     "output_type": "stream",
     "text": [
      "영화시청\n"
     ]
    }
   ],
   "source": [
    "# if를 중첩해서 사용하기\n",
    "movie = {\n",
    "    '영화': '레미제라블',\n",
    "    '장르': '드라마',\n",
    "    '서비스': '디즈니',\n",
    "    '비용': 15000,\n",
    "    '평점': 4.9\n",
    "}\n",
    "\n",
    "\n",
    "if movie['장르'] == '드라마':\n",
    "    if movie['서비스'] == '디즈니' or movie['서비스'] == '넷플릭스':\n",
    "        if movie['평점'] >= 4.5:\n",
    "            if movie['비용'] <= 20000:\n",
    "                print('영화시청') # 출력: 영화시청\n",
    "            else:\n",
    "                pass\n",
    "        else:\n",
    "            pass\n",
    "    else:\n",
    "        pass\n",
    "else:\n",
    "    pass        "
   ]
  },
  {
   "cell_type": "code",
   "execution_count": null,
   "id": "38f0ff7f",
   "metadata": {},
   "outputs": [],
   "source": [
    "movie = {\n",
    "    '영화': '레미제라블',\n",
    "    '장르': '드라마',\n",
    "    '서비스': '왓챠',\n",
    "    '비용': 15000,\n",
    "    '평점': 4.9\n",
    "}\n",
    "\n",
    "\n",
    "if movie['장르'] == 'SF':\n",
    "    if movie['서비스'] == '디즈니' or movie['서비스'] == '넷플릭스':\n",
    "        if movie['평점'] >= 4.5 and movie['비용'] <= 20000:\n",
    "            print('영화시청')\n",
    "    else:\n",
    "        print(movie['서비스'] + ' 구독하기!') # 출력: 왓챠 구독하기!"
   ]
  },
  {
   "cell_type": "markdown",
   "id": "4d859b83",
   "metadata": {},
   "source": [
    "# match문"
   ]
  },
  {
   "cell_type": "code",
   "execution_count": 1,
   "id": "5fe345ab",
   "metadata": {},
   "outputs": [
    {
     "name": "stdout",
     "output_type": "stream",
     "text": [
      "No Match\n"
     ]
    }
   ],
   "source": [
    "text = 'Hello World'\n",
    "match text:\n",
    "    case 'Hello':\n",
    "        print('Hello')\n",
    "    case 'World':\n",
    "        print('World')\n",
    "    case _:\n",
    "        print('No Match') # 결과 'No Match'"
   ]
  },
  {
   "cell_type": "code",
   "execution_count": 3,
   "id": "f199ef40",
   "metadata": {},
   "outputs": [
    {
     "ename": "IndentationError",
     "evalue": "expected an indented block after 'case' statement on line 3 (554747096.py, line 4)",
     "output_type": "error",
     "traceback": [
      "  \u001b[36mCell\u001b[39m\u001b[36m \u001b[39m\u001b[32mIn[3]\u001b[39m\u001b[32m, line 4\u001b[39m\n\u001b[31m    \u001b[39m\u001b[31mcase '2':\u001b[39m\n    ^\n\u001b[31mIndentationError\u001b[39m\u001b[31m:\u001b[39m expected an indented block after 'case' statement on line 3\n"
     ]
    }
   ],
   "source": [
    "text = '1'\n",
    "match text:\n",
    "    case '1':\n",
    "    case '2':\n",
    "        print('1, 2')\n",
    "    case _:\n",
    "        print('No Match')"
   ]
  },
  {
   "cell_type": "code",
   "execution_count": 4,
   "id": "07830169",
   "metadata": {},
   "outputs": [
    {
     "name": "stdout",
     "output_type": "stream",
     "text": [
      "1, 2\n"
     ]
    }
   ],
   "source": [
    "text = '1'\n",
    "match text:\n",
    "    case '1' | '2':\n",
    "        print('1, 2')\n",
    "    case _:\n",
    "        print('No Match')"
   ]
  },
  {
   "cell_type": "code",
   "execution_count": 5,
   "id": "9c6535b0",
   "metadata": {},
   "outputs": [
    {
     "name": "stdout",
     "output_type": "stream",
     "text": [
      "One\n",
      "Two\n",
      "Three or Four\n",
      "Three or Four\n",
      "Other\n",
      "Greater than ten\n"
     ]
    }
   ],
   "source": [
    "def test(i):\n",
    "    match i:\n",
    "        case 1:\n",
    "            print('One')\n",
    "        case 2:\n",
    "            print('Two')\n",
    "        case 3 | 4:\n",
    "            print('Three or Four')\n",
    "        case _ if i > 10:\n",
    "            print('Greater than ten')\n",
    "        case _:\n",
    "            print('Other')\n",
    "\n",
    "\n",
    "test(1) # 출력: One\n",
    "test(2) # 출력: Two\n",
    "test(3) # 출력: Three or Four\n",
    "test(4) # 출력: Three or Four\n",
    "test(5) # 출력: Other\n",
    "test(15) # 출력: Greater than ten"
   ]
  },
  {
   "cell_type": "code",
   "execution_count": 6,
   "id": "e6b2d1fc",
   "metadata": {},
   "outputs": [
    {
     "name": "stdout",
     "output_type": "stream",
     "text": [
      "Integer\n",
      "String\n",
      "Float\n",
      "Integer\n",
      "String\n",
      "Float\n"
     ]
    }
   ],
   "source": [
    "def test(i):\n",
    "    match i:\n",
    "        case i if type(i) == int:\n",
    "            print('Integer')\n",
    "        case i if type(i) == str:\n",
    "            print('String')\n",
    "        case i if type(i) == float:\n",
    "            print('Float')\n",
    "test(1) # 출력: Integer\n",
    "test('hello') # 출력: String\n",
    "test(3.14) # 출력: Float\n",
    "\n",
    "\n",
    "#############################\n",
    "\n",
    "\n",
    "def test(i):\n",
    "    match i:\n",
    "        case _ if type(i) == int:\n",
    "            print('Integer')\n",
    "        case _ if type(i) == str:\n",
    "            print('String')\n",
    "        case _ if type(i) == float:\n",
    "            print('Float')\n",
    "test(1) # 출력: Integer\n",
    "test('hello') # 출력: String\n",
    "test(3.14) # 출력: Float"
   ]
  },
  {
   "cell_type": "code",
   "execution_count": 7,
   "id": "7fe1151f",
   "metadata": {},
   "outputs": [
    {
     "name": "stdout",
     "output_type": "stream",
     "text": [
      "One\n",
      "Two\n",
      "Greater than two\n",
      "Greater than two\n"
     ]
    }
   ],
   "source": [
    "def test(i):\n",
    "    match i:\n",
    "        case 1:\n",
    "            print('One')\n",
    "        case 2:\n",
    "            print('Two')\n",
    "        case _:\n",
    "            if i > 2:\n",
    "                print('Greater than two')\n",
    "            else:\n",
    "                print('Less than or equal to two')\n",
    "test(1) # 출력: One\n",
    "test(2) # 출력: Two\n",
    "test(3) # 출력: Greater than two\n",
    "test(4) # 출력: Greater than two"
   ]
  },
  {
   "cell_type": "code",
   "execution_count": 8,
   "id": "3b9450de",
   "metadata": {},
   "outputs": [
    {
     "name": "stdout",
     "output_type": "stream",
     "text": [
      "value : 2\n"
     ]
    }
   ],
   "source": [
    "def test(status):\n",
    "    match status:\n",
    "        case (1 | 2 | 3) as code:\n",
    "            return f'value : {code}'\n",
    "        case _:\n",
    "            return 'hello'\n",
    "print(test(2))"
   ]
  },
  {
   "cell_type": "code",
   "execution_count": 9,
   "id": "dd2874a5",
   "metadata": {},
   "outputs": [
    {
     "name": "stdout",
     "output_type": "stream",
     "text": [
      "world\n"
     ]
    }
   ],
   "source": [
    "def test(status):\n",
    "    match status:\n",
    "        case (1 | 2 | 3) if status % 2 == 0:\n",
    "            return 'hello'\n",
    "        case _:\n",
    "            return 'world'\n",
    "print(test(3)) # 출력: world"
   ]
  },
  {
   "cell_type": "code",
   "execution_count": null,
   "id": "1b0fa94d",
   "metadata": {},
   "outputs": [],
   "source": []
  }
 ],
 "metadata": {
  "kernelspec": {
   "display_name": "Python 3",
   "language": "python",
   "name": "python3"
  },
  "language_info": {
   "codemirror_mode": {
    "name": "ipython",
    "version": 3
   },
   "file_extension": ".py",
   "mimetype": "text/x-python",
   "name": "python",
   "nbconvert_exporter": "python",
   "pygments_lexer": "ipython3",
   "version": "3.13.5"
  }
 },
 "nbformat": 4,
 "nbformat_minor": 5
}
