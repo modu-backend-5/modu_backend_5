{
 "cells": [
  {
   "cell_type": "markdown",
   "id": "bb54e6ab",
   "metadata": {},
   "source": [
    "# 자주 사용하는 내장 함수\n",
    "## 1. 파이썬 내장 함수란?"
   ]
  },
  {
   "cell_type": "code",
   "execution_count": 1,
   "id": "6d6b6cc7",
   "metadata": {},
   "outputs": [
    {
     "data": {
      "text/plain": [
       "True"
      ]
     },
     "execution_count": 1,
     "metadata": {},
     "output_type": "execute_result"
    }
   ],
   "source": [
    "#2.1 all, any\n",
    "# 모두 다 True여야 True 반환\n",
    "all([True, True, True]) # 출력: True\n",
    "all([True, True, False]) # 출력: False\n",
    "all([1, 1, 1, 0]) # 출력: False\n",
    "all([1, 0, 1, 1]) # 출력: False\n",
    "all([1, 100, 10, -1]) # 출력: True"
   ]
  },
  {
   "cell_type": "code",
   "execution_count": 2,
   "id": "5b135389",
   "metadata": {},
   "outputs": [
    {
     "data": {
      "text/plain": [
       "'하'"
      ]
     },
     "execution_count": 2,
     "metadata": {},
     "output_type": "execute_result"
    }
   ],
   "source": [
    "#2.2 chr, ord\n",
    "# 10진수로 유니코드표에서 찾아 대응되는 값을 줍니다.\n",
    "chr(65) # 출력: 'A'\n",
    "chr(97) # 출력: 'a'\n",
    "chr(54616) # 출력: '하'"
   ]
  },
  {
   "cell_type": "code",
   "execution_count": 7,
   "id": "b713b1ec",
   "metadata": {},
   "outputs": [
    {
     "data": {
      "text/plain": [
       "[1, 4, 9, 16]"
      ]
     },
     "execution_count": 7,
     "metadata": {},
     "output_type": "execute_result"
    }
   ],
   "source": [
    "arr = [1, 2, 3, 4]\n",
    "list(map(lambda x : x ** 2, arr))"
   ]
  },
  {
   "cell_type": "code",
   "execution_count": null,
   "id": "71efa581",
   "metadata": {},
   "outputs": [],
   "source": []
  }
 ],
 "metadata": {
  "kernelspec": {
   "display_name": "Python 3",
   "language": "python",
   "name": "python3"
  },
  "language_info": {
   "codemirror_mode": {
    "name": "ipython",
    "version": 3
   },
   "file_extension": ".py",
   "mimetype": "text/x-python",
   "name": "python",
   "nbconvert_exporter": "python",
   "pygments_lexer": "ipython3",
   "version": "3.13.5"
  }
 },
 "nbformat": 4,
 "nbformat_minor": 5
}
