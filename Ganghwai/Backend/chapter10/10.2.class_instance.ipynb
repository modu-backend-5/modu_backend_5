{
 "cells": [
  {
   "cell_type": "markdown",
   "id": "c09ee8bc",
   "metadata": {},
   "source": [
    "# 클래스 변수와 인스턴스 변수\n",
    "##클래스 변수와 인스턴스 변수\n",
    "## 클래스 변수\n"
   ]
  },
  {
   "cell_type": "code",
   "execution_count": 3,
   "id": "5799338d",
   "metadata": {},
   "outputs": [
    {
     "ename": "IndentationError",
     "evalue": "expected an indented block after class definition on line 1 (3354148519.py, line 3)",
     "output_type": "error",
     "traceback": [
      "  \u001b[36mCell\u001b[39m\u001b[36m \u001b[39m\u001b[32mIn[3]\u001b[39m\u001b[32m, line 3\u001b[39m\n\u001b[31m    \u001b[39m\u001b[31mmax_speed = 300 # 최대 속도는 법으로 정해져서 모든 자동차들이 이속도를 내지 못하도록 규정함\u001b[39m\n    ^\n\u001b[31mIndentationError\u001b[39m\u001b[31m:\u001b[39m expected an indented block after class definition on line 1\n"
     ]
    }
   ],
   "source": [
    "class Car:\n",
    "    #클래스 변수\n",
    "max_speed = 300 # 최대 속도는 법으로 정해져서 모든 자동차들이 이속도를 내지 못하도록 규정함\n",
    "\n",
    "max_people = 5 # 최대 탑승 인원은 법으로 정해져서 모든 자동차들이 이 인원 이상을 태울 수 없음.\n",
    "\n",
    "modelx = Car()\n",
    "print(modelx.max_speed)\n",
    "print(modelx.max_people)\n",
    "print(Car.max_speed)\n",
    "print(Car.max_people)"
   ]
  },
  {
   "cell_type": "code",
   "execution_count": 5,
   "id": "371e74c4",
   "metadata": {},
   "outputs": [
    {
     "name": "stdout",
     "output_type": "stream",
     "text": [
      "300\n",
      "300\n",
      "500\n"
     ]
    }
   ],
   "source": [
    "class Car:\n",
    "    # 클래스 변수의 위치\n",
    "    max_speed = 300\n",
    "    max_people = 5\n",
    "\n",
    "modelx = Car()\n",
    "modely = Car()\n",
    "\n",
    "modely.max_speed = 500\n",
    "\n",
    "print(Car.max_speed)\n",
    "print(modelx.max_speed)\n",
    "print(modely.max_speed)"
   ]
  },
  {
   "cell_type": "code",
   "execution_count": 6,
   "id": "19500cb4",
   "metadata": {},
   "outputs": [
    {
     "name": "stdout",
     "output_type": "stream",
     "text": [
      "modelx.speed: 500\n",
      "modely.speed: 250\n"
     ]
    }
   ],
   "source": [
    "class Car:\n",
    "    speed = 300\n",
    "\n",
    "    def change_speed(self, speed):\n",
    "        self.speed = speed\n",
    "\n",
    "modelx = Car()\n",
    "modely = Car()\n",
    "\n",
    "modelx.change_speed(500)\n",
    "modely.change_speed(250)\n",
    "\n",
    "print(f'modelx.speed: {modelx.speed}')\n",
    "print(f'modely.speed: {modely.speed}')"
   ]
  },
  {
   "cell_type": "code",
   "execution_count": 8,
   "id": "df4196a7",
   "metadata": {},
   "outputs": [
    {
     "name": "stdout",
     "output_type": "stream",
     "text": [
      "['modelx', 'modely']\n",
      "['modelx', 'modely']\n"
     ]
    }
   ],
   "source": [
    "class Car:\n",
    "    kinds = []\n",
    "    speed = 300\n",
    "\n",
    "    def add_kinds(self, name):\n",
    "        self.kinds.append(name)\n",
    "\n",
    "    def change_speed(self, speed):\n",
    "        self.speed = speed\n",
    "\n",
    "modelx = Car()\n",
    "modely = Car()\n",
    "\n",
    "modelx.add_kinds('modelx')\n",
    "modely.add_kinds('modely')\n",
    "\n",
    "print(modelx.kinds)\n",
    "print(modely.kinds)"
   ]
  },
  {
   "cell_type": "code",
   "execution_count": null,
   "id": "2924333d",
   "metadata": {},
   "outputs": [],
   "source": []
  }
 ],
 "metadata": {
  "kernelspec": {
   "display_name": "Python 3",
   "language": "python",
   "name": "python3"
  },
  "language_info": {
   "codemirror_mode": {
    "name": "ipython",
    "version": 3
   },
   "file_extension": ".py",
   "mimetype": "text/x-python",
   "name": "python",
   "nbconvert_exporter": "python",
   "pygments_lexer": "ipython3",
   "version": "3.13.5"
  }
 },
 "nbformat": 4,
 "nbformat_minor": 5
}
