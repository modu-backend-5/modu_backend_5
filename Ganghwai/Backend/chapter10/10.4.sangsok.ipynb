{
 "cells": [
  {
   "cell_type": "markdown",
   "id": "51a80528",
   "metadata": {},
   "source": [
    "# 상속\n",
    "## 클래스의 상속"
   ]
  },
  {
   "cell_type": "code",
   "execution_count": null,
   "id": "194bdea6",
   "metadata": {},
   "outputs": [],
   "source": [
    "class Car(object):\n",
    "    maxSpeed = 300\n",
    "    maxPeople = 5\n",
    "\n",
    "\n",
    "    def move(self):\n",
    "        print('출발하였습니다.')\n",
    "\n",
    "\n",
    "    def stop(self):\n",
    "        print('멈췄습니다.')\n",
    "\n",
    "\n",
    "class HybridCar(Car):\n",
    "    battery = 1000\n",
    "    batteryKM = 300\n",
    "\n",
    "\n",
    "class ElectricCar(HybridCar):\n",
    "    battery = 2000\n",
    "    batteryKM = 600\n",
    "\n",
    "\n",
    "modelx = HybridCar()\n",
    "electricCarModely = ElectricCar()\n",
    "print(modelx.maxSpeed)\n",
    "print(electricCarModely.maxSpeed)\n",
    "print(electricCarModely.battery)\n",
    "electricCarModely.move()"
   ]
  },
  {
   "cell_type": "code",
   "execution_count": 2,
   "id": "0854152f",
   "metadata": {},
   "outputs": [
    {
     "ename": "SyntaxError",
     "evalue": "unterminated f-string literal (detected at line 16) (2261380353.py, line 16)",
     "output_type": "error",
     "traceback": [
      "  \u001b[36mCell\u001b[39m\u001b[36m \u001b[39m\u001b[32mIn[2]\u001b[39m\u001b[32m, line 16\u001b[39m\n\u001b[31m    \u001b[39m\u001b[31mprint(f'{self.이름}이(가) {self.공격력}의 데미지로 공격했습니다.\")\u001b[39m\n          ^\n\u001b[31mSyntaxError\u001b[39m\u001b[31m:\u001b[39m unterminated f-string literal (detected at line 16)\n"
     ]
    }
   ],
   "source": [
    "class Charaater:\n",
    "    최대속력 = 500\n",
    "    최대레벨 = 50\n",
    "\n",
    "    def __init__(self, 이름, 체력, 공격력, 레벨):\n",
    "        self.이름 = 이름\n",
    "        self.체력 = 체력\n",
    "        self.공격력 = 공격력\n",
    "        self.레벨 = 레벨\n",
    "        self.속력 = 1\n",
    "\n",
    "    def 이동(self):\n",
    "        print(f\"{self.이름}이(가) {self.속력}의 이동속도로 움직였습니다.\")\n",
    "\n",
    "    def 공격(self): \n",
    "        print(f'{self.이름}이(가) {self.공격력}의 데미지로 공격했습니다.\")    "
   ]
  },
  {
   "cell_type": "code",
   "execution_count": 4,
   "id": "a6a5840c",
   "metadata": {},
   "outputs": [
    {
     "ename": "NameError",
     "evalue": "name 'character' is not defined",
     "output_type": "error",
     "traceback": [
      "\u001b[31m---------------------------------------------------------------------------\u001b[39m",
      "\u001b[31mNameError\u001b[39m                                 Traceback (most recent call last)",
      "\u001b[36mCell\u001b[39m\u001b[36m \u001b[39m\u001b[32mIn[4]\u001b[39m\u001b[32m, line 1\u001b[39m\n\u001b[32m----> \u001b[39m\u001b[32m1\u001b[39m \u001b[38;5;28;01mclass\u001b[39;00m\u001b[38;5;250m \u001b[39m\u001b[34;01mMob\u001b[39;00m(\u001b[43mcharacter\u001b[49m):\n\u001b[32m      2\u001b[39m     \u001b[38;5;28;01mdef\u001b[39;00m\u001b[38;5;250m \u001b[39m\u001b[34m__init__\u001b[39m(\u001b[38;5;28mself\u001b[39m, 이름, 체력, 공격력, 레벨, 드랍률, 드랍아이템):\n\u001b[32m      3\u001b[39m         \u001b[38;5;28msuper\u001b[39m().\u001b[34m__init__\u001b[39m(이름, 체력, 공격력, 레벨)\n",
      "\u001b[31mNameError\u001b[39m: name 'character' is not defined"
     ]
    }
   ],
   "source": [
    "class Mob(character):\n",
    "    def __init__(self, 이름, 체력, 공격력, 레벨, 드랍률, 드랍아이템):\n",
    "        super().__init__(이름, 체력, 공격력, 레벨)\n",
    "        self.드랍률 = 드랍률\n",
    "        self.드랍아이템 = 드랍아이템"
   ]
  }
 ],
 "metadata": {
  "kernelspec": {
   "display_name": "Python 3",
   "language": "python",
   "name": "python3"
  },
  "language_info": {
   "codemirror_mode": {
    "name": "ipython",
    "version": 3
   },
   "file_extension": ".py",
   "mimetype": "text/x-python",
   "name": "python",
   "nbconvert_exporter": "python",
   "pygments_lexer": "ipython3",
   "version": "3.13.5"
  }
 },
 "nbformat": 4,
 "nbformat_minor": 5
}
