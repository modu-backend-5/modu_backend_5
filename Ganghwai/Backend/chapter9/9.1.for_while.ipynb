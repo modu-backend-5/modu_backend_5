{
 "cells": [
  {
   "cell_type": "markdown",
   "id": "7798eb53",
   "metadata": {},
   "source": [
    "# for문과 while문 사용하기\n",
    "## 1. 반복문이란?"
   ]
  },
  {
   "cell_type": "code",
   "execution_count": null,
   "id": "75bac76f",
   "metadata": {},
   "outputs": [
    {
     "name": "stdout",
     "output_type": "stream",
     "text": [
      "h\n",
      "e\n",
      "l\n",
      "l\n",
      "o\n"
     ]
    }
   ],
   "source": [
    "s = 'hello'\n",
    "for i in s: \n",
    "    print(i)"
   ]
  },
  {
   "cell_type": "code",
   "execution_count": 13,
   "id": "33f2cfe9",
   "metadata": {},
   "outputs": [
    {
     "name": "stdout",
     "output_type": "stream",
     "text": [
      "사과\n",
      "바나나\n",
      "오렌지\n",
      "사과\n",
      "바나나\n",
      "오렌지\n",
      "사과\n",
      "1\n",
      "1\n",
      "바나나\n",
      "2\n",
      "2\n",
      "오렌지\n",
      "3\n",
      "3\n"
     ]
    },
    {
     "data": {
      "text/plain": [
       "'오렌지'"
      ]
     },
     "execution_count": 13,
     "metadata": {},
     "output_type": "execute_result"
    }
   ],
   "source": [
    "# 리스트 , 튜플, 딕셔너리\n",
    "fruits = ['사과', '바나나', '오렌지']\n",
    "for fruit in fruits:\n",
    "    print(fruit)\n",
    "    \n",
    "    fruits = ['사과', '바나나', '오렌지']\n",
    "for fruit in fruits:\n",
    "    print(fruit)\n",
    "\n",
    "\n",
    "fruits = {'사과': 1, '바나나': 2, '오렌지': 3}\n",
    "for fruit, count in fruits.items():\n",
    "    print(fruit)\n",
    "    print(fruits[fruit])\n",
    "    print(fruits.get(fruit))\n",
    "\n",
    "fruits = ['사과', '바나나', '오렌지']\n",
    "i = iter(fruits)\n",
    "next(i)\n",
    "next(i)\n",
    "next(i)"
   ]
  },
  {
   "cell_type": "code",
   "execution_count": 17,
   "id": "e01e94c4",
   "metadata": {},
   "outputs": [
    {
     "name": "stdout",
     "output_type": "stream",
     "text": [
      "0\n",
      "1\n",
      "2\n",
      "3\n",
      "4\n",
      "['사과', '바나나', '오렌지']\n",
      "['사과', '바나나', '오렌지']\n",
      "['사과', '바나나', '오렌지']\n",
      "사과\n",
      "사과 짝수 인덱스\n",
      "바나나\n",
      "오렌지\n",
      "오렌지 짝수 인덱스\n"
     ]
    }
   ],
   "source": [
    "#2.2 range() 함수와 함께 사용하기\n",
    "for i in range(5):\n",
    "    print(i)\n",
    "\n",
    "fruits = ['사과', '바나나', '오렌지']\n",
    "for i in range(len(fruits)):\n",
    "    print(fruits)\n",
    "\n",
    "for i in range(len(fruits)):\n",
    "    print(fruits[i])\n",
    "    if i % 2 == 0:\n",
    "        print(fruits[i], '짝수 인덱스')"
   ]
  },
  {
   "cell_type": "code",
   "execution_count": 18,
   "id": "38abef85",
   "metadata": {},
   "outputs": [
    {
     "name": "stdout",
     "output_type": "stream",
     "text": [
      "2 사과\n",
      "2 바나나\n",
      "2 오렌지\n",
      "2 포도\n",
      "2 키위\n"
     ]
    }
   ],
   "source": [
    "#2.3 enumerate() 함수 사용하기\n",
    "fruits = ['사과', '바나나', '오렌지', '포도', '키위']\n",
    "for index, fruit in enumerate(fruits):\n",
    "    print(i, fruit)"
   ]
  },
  {
   "cell_type": "markdown",
   "id": "db765ac5",
   "metadata": {},
   "source": [
    "# 3. while 문 사용하기"
   ]
  },
  {
   "cell_type": "code",
   "execution_count": 19,
   "id": "d83ecf9d",
   "metadata": {},
   "outputs": [
    {
     "name": "stdout",
     "output_type": "stream",
     "text": [
      "0\n",
      "1\n",
      "2\n",
      "3\n",
      "4\n"
     ]
    }
   ],
   "source": [
    "count = 0\n",
    "while count < 5:\n",
    "    print(count)\n",
    "    count += 1"
   ]
  },
  {
   "cell_type": "code",
   "execution_count": null,
   "id": "2328b1b9",
   "metadata": {},
   "outputs": [],
   "source": [
    "#3.2 무한 루프와 break\n",
    "while True:\n",
    "    answer = input(\"계속하시겠습니까? (y/n): \")\n",
    "    if answer.lower() == 'n':\n",
    "        break\n",
    "print(\"프로그램을 종료합니다.\")\n",
    "\n",
    "for i in range(100):\n",
    "    print(i)\n",
    "    if i == 50:\n",
    "        print(\"50에 도달했습니다. 반복을 중단합니다.\")\n",
    "        break"
   ]
  },
  {
   "cell_type": "code",
   "execution_count": null,
   "id": "36460f47",
   "metadata": {},
   "outputs": [
    {
     "name": "stdout",
     "output_type": "stream",
     "text": [
      "0\n",
      "1\n",
      "3\n",
      "4\n",
      "1\n",
      "3\n",
      "5\n",
      "7\n",
      "9\n",
      "11\n"
     ]
    }
   ],
   "source": [
    "#4. 반복문 제어하기\n",
    "for i in range(5):\n",
    "    if i == 2:\n",
    "        continue\n",
    "    print(i)\n",
    "    cnt = 0\n",
    "while cnt < 11:\n",
    "    cnt += 1\n",
    "    if cnt % 2 == 0:\n",
    "        continue\n",
    "    print(cnt)"
   ]
  },
  {
   "cell_type": "code",
   "execution_count": 3,
   "id": "9a9f76a1",
   "metadata": {},
   "outputs": [
    {
     "name": "stdout",
     "output_type": "stream",
     "text": [
      "0\n",
      "1\n",
      "2\n",
      "3\n",
      "4\n",
      "반복문이 정상적으로 종료되었습니다.\n"
     ]
    }
   ],
   "source": [
    "#4.2 else와 함께 사용하기\n",
    "for i in range(5):\n",
    "    print(i)\n",
    "else:\n",
    "    print(\"반복문이 정상적으로 종료되었습니다.\")"
   ]
  }
 ],
 "metadata": {
  "kernelspec": {
   "display_name": "Python 3",
   "language": "python",
   "name": "python3"
  },
  "language_info": {
   "codemirror_mode": {
    "name": "ipython",
    "version": 3
   },
   "file_extension": ".py",
   "mimetype": "text/x-python",
   "name": "python",
   "nbconvert_exporter": "python",
   "pygments_lexer": "ipython3",
   "version": "3.13.5"
  }
 },
 "nbformat": 4,
 "nbformat_minor": 5
}
