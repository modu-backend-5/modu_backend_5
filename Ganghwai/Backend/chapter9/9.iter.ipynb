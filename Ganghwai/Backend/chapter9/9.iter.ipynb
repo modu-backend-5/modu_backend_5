{
 "cells": [
  {
   "cell_type": "markdown",
   "id": "97af8568",
   "metadata": {},
   "source": [
    "# for문"
   ]
  },
  {
   "cell_type": "code",
   "execution_count": 1,
   "id": "1ed3ba7e",
   "metadata": {},
   "outputs": [
    {
     "name": "stdout",
     "output_type": "stream",
     "text": [
      "1-1\n",
      "2-1\n",
      "3-1\n"
     ]
    }
   ],
   "source": [
    "print('1-1')\n",
    "print('2-1')\n",
    "print('3-1')"
   ]
  },
  {
   "cell_type": "code",
   "execution_count": null,
   "id": "b4c2fd74",
   "metadata": {},
   "outputs": [],
   "source": [
    "for i in range(1, 11) :\n",
    "    print(f'{i}-1')"
   ]
  },
  {
   "cell_type": "code",
   "execution_count": null,
   "id": "b6c0f203",
   "metadata": {},
   "outputs": [],
   "source": [
    "# for 변수명 in 순회_가능한_객체 :\n",
    "#    pass # 수행할_문장"
   ]
  },
  {
   "cell_type": "code",
   "execution_count": 2,
   "id": "b7891523",
   "metadata": {},
   "outputs": [
    {
     "name": "stdout",
     "output_type": "stream",
     "text": [
      "현재 값은 h 입니다.\n",
      "현재 값은 e 입니다.\n",
      "현재 값은 l 입니다.\n",
      "현재 값은 l 입니다.\n",
      "현재 값은 o 입니다.\n"
     ]
    }
   ],
   "source": [
    "for s in 'hello': # 순회 가능한 객체가 들어갑니다.\n",
    "    print(f'현재 값은 {s} 입니다.')"
   ]
  },
  {
   "cell_type": "code",
   "execution_count": 3,
   "id": "027c3ff4",
   "metadata": {},
   "outputs": [
    {
     "name": "stdout",
     "output_type": "stream",
     "text": [
      "현재 값은 1 입니다.\n",
      "현재 값은 2 입니다.\n",
      "현재 값은 3 입니다.\n",
      "현재 값은 4 입니다.\n",
      "현재 값은 5 입니다.\n"
     ]
    }
   ],
   "source": [
    "for x in (1, 2, 3, 4, 5):\n",
    "    print(f'현재 값은 {x} 입니다.')\n",
    "    # print('반복이 진행 중입니다.') # 주석을 풀어보세요.\n",
    "# print('반복을 종료합니다.') # 주석을 풀어보세요."
   ]
  },
  {
   "cell_type": "code",
   "execution_count": 4,
   "id": "9c7cd1a9",
   "metadata": {},
   "outputs": [
    {
     "name": "stdout",
     "output_type": "stream",
     "text": [
      "0\n",
      "1\n",
      "2\n",
      "10\n",
      "20\n",
      "30\n"
     ]
    }
   ],
   "source": [
    "# 순회가능한 객체 1\n",
    "i = iter(range(3))\n",
    "print(next(i))\n",
    "print(next(i))\n",
    "print(next(i))\n",
    "# print(next(i)) # StopIteration Error가 납니다.\n",
    "\n",
    "\n",
    "# 이 애러는 지금 위니북스 환경에서는 개발자도구를 통해서만 확인할 수 있습니다.\n",
    "# colab이나 python에서는 실행하는 즉시 확인을 할 수 있습니다.\n",
    "\n",
    "\n",
    "# 순회가능한 객체 2\n",
    "i = iter([10, 20, 30])\n",
    "print(next(i))\n",
    "print(next(i))\n",
    "print(next(i))"
   ]
  },
  {
   "cell_type": "code",
   "execution_count": 5,
   "id": "da8df3d4",
   "metadata": {},
   "outputs": [
    {
     "name": "stdout",
     "output_type": "stream",
     "text": [
      "1\n",
      "2\n",
      "3\n",
      "3\n"
     ]
    }
   ],
   "source": [
    "k = 100\n",
    "for k in (1, 2, 3):\n",
    "    print(k)\n",
    "print(k)"
   ]
  },
  {
   "cell_type": "code",
   "execution_count": 7,
   "id": "8ed98b58",
   "metadata": {},
   "outputs": [
    {
     "name": "stdout",
     "output_type": "stream",
     "text": [
      "현재 책은 python 입니다.\n",
      "현재 책은 Java 입니다.\n",
      "현재 책은 C++ 입니다.\n"
     ]
    }
   ],
   "source": [
    "books = ['python', 'Java', 'C++']\n",
    "for book in books:\n",
    "    print(f'현재 책은 {book} 입니다.')"
   ]
  },
  {
   "cell_type": "code",
   "execution_count": 8,
   "id": "91beff70",
   "metadata": {},
   "outputs": [
    {
     "name": "stdout",
     "output_type": "stream",
     "text": [
      "01010002000\n"
     ]
    }
   ],
   "source": [
    "s = '010-1000?2000'\n",
    "result = ''\n",
    "for i in s:\n",
    "    if i.isdigit():\n",
    "        result += i\n",
    "print(result)"
   ]
  },
  {
   "cell_type": "code",
   "execution_count": 9,
   "id": "97de560d",
   "metadata": {},
   "outputs": [
    {
     "name": "stdout",
     "output_type": "stream",
     "text": [
      "one\n",
      "two\n",
      "three\n"
     ]
    }
   ],
   "source": [
    "l = ['one', 'two', 'three']\n",
    "for i in l:\n",
    "    print(i)"
   ]
  },
  {
   "cell_type": "code",
   "execution_count": 11,
   "id": "4b1afff2",
   "metadata": {},
   "outputs": [
    {
     "ename": "SyntaxError",
     "evalue": "invalid syntax (2886441113.py, line 10)",
     "output_type": "error",
     "traceback": [
      "  \u001b[36mCell\u001b[39m\u001b[36m \u001b[39m\u001b[32mIn[11]\u001b[39m\u001b[32m, line 10\u001b[39m\n\u001b[31m    \u001b[39m\u001b[31mvalue 연산하는 코드\u001b[39m\n          ^\n\u001b[31mSyntaxError\u001b[39m\u001b[31m:\u001b[39m invalid syntax\n"
     ]
    }
   ],
   "source": [
    "단어_사전 = {\n",
    "    '하나' : 'one',\n",
    "    '둘' : 'two',\n",
    "    '셋' : 'three',\n",
    "}\n",
    "\n",
    "\n",
    "for key, value in 단어_사전:\n",
    "    print(f\"{i}: {단어_사전[i]}\")\n",
    "    value 연산하는 코드"
   ]
  },
  {
   "cell_type": "code",
   "execution_count": 12,
   "id": "f2544f5e",
   "metadata": {},
   "outputs": [
    {
     "name": "stdout",
     "output_type": "stream",
     "text": [
      "0\n",
      "1\n",
      "2\n",
      "3\n",
      "4\n"
     ]
    }
   ],
   "source": [
    "for i in range(5):\n",
    "    print(i)"
   ]
  },
  {
   "cell_type": "code",
   "execution_count": 13,
   "id": "e342f634",
   "metadata": {},
   "outputs": [
    {
     "data": {
      "text/plain": [
       "30"
      ]
     },
     "execution_count": 13,
     "metadata": {},
     "output_type": "execute_result"
    }
   ],
   "source": [
    "result = 0\n",
    "for i in range(0, 11, 2):\n",
    "    result += i\n",
    "result # 결과: 30"
   ]
  },
  {
   "cell_type": "code",
   "execution_count": 14,
   "id": "dfe84c3d",
   "metadata": {},
   "outputs": [
    {
     "data": {
      "text/plain": [
       "5050.0"
      ]
     },
     "execution_count": 14,
     "metadata": {},
     "output_type": "execute_result"
    }
   ],
   "source": [
    "n = 100\n",
    "result = (n + 1) * n / 2\n",
    "result"
   ]
  },
  {
   "cell_type": "code",
   "execution_count": 15,
   "id": "2c8adcf8",
   "metadata": {},
   "outputs": [
    {
     "name": "stdout",
     "output_type": "stream",
     "text": [
      "1층 1번째 책\n",
      "1층 2번째 책\n",
      "1층 3번째 책\n",
      "1층 4번째 책\n",
      "1층 5번째 책\n",
      "1층 6번째 책\n",
      "1층 7번째 책\n",
      "1층 8번째 책\n",
      "1층 9번째 책\n",
      "1층 10번째 책\n",
      "2층 1번째 책\n",
      "2층 2번째 책\n",
      "2층 3번째 책\n",
      "2층 4번째 책\n",
      "2층 5번째 책\n",
      "2층 6번째 책\n",
      "2층 7번째 책\n",
      "2층 8번째 책\n",
      "2층 9번째 책\n",
      "2층 10번째 책\n",
      "3층 1번째 책\n",
      "3층 2번째 책\n",
      "3층 3번째 책\n",
      "3층 4번째 책\n",
      "3층 5번째 책\n",
      "3층 6번째 책\n",
      "3층 7번째 책\n",
      "3층 8번째 책\n",
      "3층 9번째 책\n",
      "3층 10번째 책\n"
     ]
    }
   ],
   "source": [
    "for i in range(1, 4):\n",
    "    for j in range(1, 11):\n",
    "        print(f'{i}층 {j}번째 책')"
   ]
  },
  {
   "cell_type": "code",
   "execution_count": 16,
   "id": "08ecf936",
   "metadata": {},
   "outputs": [
    {
     "name": "stdout",
     "output_type": "stream",
     "text": [
      "0\n",
      "0\n",
      "0\n",
      "0\n",
      "0\n",
      "0\n",
      "0\n",
      "0\n",
      "0\n",
      "0\n",
      "\n",
      "0\n",
      "0\n",
      "0\n",
      "0\n",
      "0\n",
      "0\n",
      "0\n",
      "0\n",
      "0\n",
      "0\n",
      "\n",
      "0\n",
      "0\n",
      "0\n",
      "0\n",
      "0\n",
      "0\n",
      "0\n",
      "0\n",
      "0\n",
      "0\n",
      "\n"
     ]
    }
   ],
   "source": [
    "list_2 = [[0 for j in range(10)] for i in range (3)]\n",
    "for i in list_2:\n",
    "    for j in i:\n",
    "        print(j)\n",
    "    print()"
   ]
  },
  {
   "cell_type": "code",
   "execution_count": 18,
   "id": "ec5bc503",
   "metadata": {},
   "outputs": [
    {
     "name": "stdout",
     "output_type": "stream",
     "text": [
      "---2단---\n",
      "2 X 1 = 2\n",
      "2 X 2 = 4\n",
      "2 X 3 = 6\n",
      "2 X 4 = 8\n",
      "2 X 5 = 10\n",
      "2 X 6 = 12\n",
      "2 X 7 = 14\n",
      "2 X 8 = 16\n",
      "2 X 9 = 18\n",
      "---3단---\n",
      "3 X 1 = 3\n",
      "3 X 2 = 6\n",
      "3 X 3 = 9\n",
      "3 X 4 = 12\n",
      "3 X 5 = 15\n",
      "3 X 6 = 18\n",
      "3 X 7 = 21\n",
      "3 X 8 = 24\n",
      "3 X 9 = 27\n",
      "---4단---\n",
      "4 X 1 = 4\n",
      "4 X 2 = 8\n",
      "4 X 3 = 12\n",
      "4 X 4 = 16\n",
      "4 X 5 = 20\n",
      "4 X 6 = 24\n",
      "4 X 7 = 28\n",
      "4 X 8 = 32\n",
      "4 X 9 = 36\n",
      "---5단---\n",
      "5 X 1 = 5\n",
      "5 X 2 = 10\n",
      "5 X 3 = 15\n",
      "5 X 4 = 20\n",
      "5 X 5 = 25\n",
      "5 X 6 = 30\n",
      "5 X 7 = 35\n",
      "5 X 8 = 40\n",
      "5 X 9 = 45\n",
      "---6단---\n",
      "6 X 1 = 6\n",
      "6 X 2 = 12\n",
      "6 X 3 = 18\n",
      "6 X 4 = 24\n",
      "6 X 5 = 30\n",
      "6 X 6 = 36\n",
      "6 X 7 = 42\n",
      "6 X 8 = 48\n",
      "6 X 9 = 54\n",
      "---7단---\n",
      "7 X 1 = 7\n",
      "7 X 2 = 14\n",
      "7 X 3 = 21\n",
      "7 X 4 = 28\n",
      "7 X 5 = 35\n",
      "7 X 6 = 42\n",
      "7 X 7 = 49\n",
      "7 X 8 = 56\n",
      "7 X 9 = 63\n",
      "---8단---\n",
      "8 X 1 = 8\n",
      "8 X 2 = 16\n",
      "8 X 3 = 24\n",
      "8 X 4 = 32\n",
      "8 X 5 = 40\n",
      "8 X 6 = 48\n",
      "8 X 7 = 56\n",
      "8 X 8 = 64\n",
      "8 X 9 = 72\n",
      "---9단---\n",
      "9 X 1 = 9\n",
      "9 X 2 = 18\n",
      "9 X 3 = 27\n",
      "9 X 4 = 36\n",
      "9 X 5 = 45\n",
      "9 X 6 = 54\n",
      "9 X 7 = 63\n",
      "9 X 8 = 72\n",
      "9 X 9 = 81\n"
     ]
    }
   ],
   "source": [
    "for i in range(2, 10): # 1 -> 2 ~ 9단까지의 반복\n",
    "    print(f'---{i}단---')\n",
    "    for j in range(1, 10): # 2 -> 각 단 수에서 1부터 9까지 곱을 반복\n",
    "        print(f'{i} X {j} = {i * j}')"
   ]
  },
  {
   "cell_type": "code",
   "execution_count": 19,
   "id": "e9433d2d",
   "metadata": {},
   "outputs": [
    {
     "name": "stdout",
     "output_type": "stream",
     "text": [
      "[1, 2, 3, 4, 5, 6, 7, 8, 9]\n"
     ]
    }
   ],
   "source": [
    "x = []\n",
    "\n",
    "\n",
    "for i in range(1, 10):\n",
    "  x.append(i)\n",
    "\n",
    "\n",
    "print(x)"
   ]
  },
  {
   "cell_type": "code",
   "execution_count": null,
   "id": "4751530e",
   "metadata": {},
   "outputs": [],
   "source": [
    "# step1 list안에 for문을 가져옵니다.\n",
    "[for i in range(1, 10)]\n",
    " \n",
    "# step2 append 항목을 맨 앞으로 가져옵니다.\n",
    "a = [i for i in range(1, 10)] # 출력: [1, 2, 3, 4, 5, 6, 7, 8, 9]\n",
    "b = [i*2 for i in range(1, 10)] # 출력: [1, 2, 3, 4, 5, 6, 7, 8, 9]"
   ]
  },
  {
   "cell_type": "code",
   "execution_count": 20,
   "id": "a1be0409",
   "metadata": {},
   "outputs": [
    {
     "name": "stdout",
     "output_type": "stream",
     "text": [
      "[2, 4, 6, 8, 10, 12, 14, 16, 18]\n"
     ]
    }
   ],
   "source": [
    "l = [i*2 for i in range(1, 10)]\n",
    "print(l)"
   ]
  },
  {
   "cell_type": "code",
   "execution_count": 21,
   "id": "fa830beb",
   "metadata": {},
   "outputs": [
    {
     "name": "stdout",
     "output_type": "stream",
     "text": [
      "[3, 5, 6, 9, 10, 12, 15, 18, 20, 21, 24, 25, 27, 30, 33, 35, 36, 39, 40, 42, 45, 48, 50, 51, 54, 55, 57, 60, 63, 65, 66, 69, 70, 72, 75, 78, 80, 81, 84, 85, 87, 90, 93, 95, 96, 99]\n"
     ]
    }
   ],
   "source": [
    "l = []\n",
    "for i in range(1, 100):\n",
    "    if i % 3 == 0 or i % 5 == 0:\n",
    "        l.append(i)\n",
    "print(l)"
   ]
  },
  {
   "cell_type": "code",
   "execution_count": 22,
   "id": "474f6a5b",
   "metadata": {},
   "outputs": [
    {
     "name": "stdout",
     "output_type": "stream",
     "text": [
      "[3, 5, 6, 9, 10, 12, 15, 18, 20, 21, 24, 25, 27, 30, 33, 35, 36, 39, 40, 42, 45, 48, 50, 51, 54, 55, 57, 60, 63, 65, 66, 69, 70, 72, 75, 78, 80, 81, 84, 85, 87, 90, 93, 95, 96, 99]\n"
     ]
    }
   ],
   "source": [
    "l = [i for i in range(1, 100) if i % 3 == 0 or i % 5 == 0]\n",
    "print(l)"
   ]
  },
  {
   "cell_type": "code",
   "execution_count": 23,
   "id": "5456d8db",
   "metadata": {},
   "outputs": [
    {
     "name": "stdout",
     "output_type": "stream",
     "text": [
      "[2, 4, 6, 8, 10, 12, 14, 16, 18, 20, 22, 24, 26, 28, 30, 32, 34, 36, 38, 40, 42, 44, 46, 48, 50, 52, 54, 56, 58, 60, 62, 64, 66, 68, 70, 72, 74, 76, 78, 80, 82, 84, 86, 88, 90, 92, 94, 96, 98, 100]\n"
     ]
    }
   ],
   "source": [
    "l = [i for i in range(1, 101) if i % 2 == 0]\n",
    "print(l)"
   ]
  },
  {
   "cell_type": "code",
   "execution_count": 24,
   "id": "bc9716f0",
   "metadata": {},
   "outputs": [
    {
     "name": "stdout",
     "output_type": "stream",
     "text": [
      "['4는 3보다 큰 짝수', '5는 3보다 큰 홀수']\n"
     ]
    }
   ],
   "source": [
    "nums = [1, 2, 3, 4, 5]\n",
    "result = [f'{x}는 3보다 큰 짝수' if x % 2 == 0 else f'{x}는 3보다 큰 홀수' for x in nums if x > 3]\n",
    "print(result) # 출력: ['4는 3보다 큰 짝수', '5는 3보다 큰 홀수']"
   ]
  },
  {
   "cell_type": "code",
   "execution_count": 25,
   "id": "0a6e869a",
   "metadata": {},
   "outputs": [
    {
     "name": "stdout",
     "output_type": "stream",
     "text": [
      "['4는 3보다 큰 짝수', '5는 3보다 큰 홀수']\n"
     ]
    }
   ],
   "source": [
    "result = []\n",
    "nums = [1, 2, 3, 4, 5]\n",
    "for x in nums:\n",
    "    if x > 3:\n",
    "        if x % 2 == 0:\n",
    "            result.append(f'{x}는 3보다 큰 짝수')\n",
    "        else:\n",
    "            result.append(f'{x}는 3보다 큰 홀수')\n",
    "print(result)"
   ]
  },
  {
   "cell_type": "code",
   "execution_count": 27,
   "id": "e7afb9a2",
   "metadata": {},
   "outputs": [
    {
     "data": {
      "text/plain": [
       "[100, 200, 300, 0, 0, 0]"
      ]
     },
     "execution_count": 27,
     "metadata": {},
     "output_type": "execute_result"
    }
   ],
   "source": [
    "def sumthingFunction(i): # 1\n",
    "    if i % 100 == 0:\n",
    "        return i\n",
    "    else:\n",
    "        return 0\n",
    "\n",
    "\n",
    "l = [100, 200, 300, 101, 202, 303] # 2\n",
    "#      요소 할당 부분            반복부분\n",
    "l = [sumthingFunction(i) for i in l] # 3\n",
    "l # 출력: [100, 200, 300, 0, 0, 0]"
   ]
  },
  {
   "cell_type": "code",
   "execution_count": 28,
   "id": "b486a669",
   "metadata": {},
   "outputs": [
    {
     "data": {
      "text/plain": [
       "{0: 0, 1: 1, 2: 4, 3: 9, 4: 16}"
      ]
     },
     "execution_count": 28,
     "metadata": {},
     "output_type": "execute_result"
    }
   ],
   "source": [
    "{i: i**2 for i in range(5)}"
   ]
  },
  {
   "cell_type": "code",
   "execution_count": 29,
   "id": "a14cc4cc",
   "metadata": {},
   "outputs": [
    {
     "name": "stdout",
     "output_type": "stream",
     "text": [
      "a 100\n",
      "b 200\n",
      "c 300\n",
      "d 400\n",
      "e 500\n"
     ]
    }
   ],
   "source": [
    "skills = [\n",
    "    ('a', 100),\n",
    "    ('b', 200),\n",
    "    ('c', 300),\n",
    "    ('d', 400),\n",
    "    ('e', 500)\n",
    "]\n",
    "\n",
    "\n",
    "for skill_name, skill_mana in skills:\n",
    "    print(skill_name, skill_mana)"
   ]
  },
  {
   "cell_type": "code",
   "execution_count": 30,
   "id": "acfbafc3",
   "metadata": {},
   "outputs": [
    {
     "name": "stdout",
     "output_type": "stream",
     "text": [
      "(0, '레미제라블')\n",
      "(1, '뷰티인사이트')\n",
      "(2, '매트릭스')\n",
      "(3, '인셉션')\n",
      "(4, '어거스트 러쉬')\n",
      "누적관객수 1위! 레미제라블!\n",
      "누적관객수 2위! 뷰티인사이트!\n",
      "누적관객수 3위! 매트릭스!\n",
      "누적관객수 4위! 인셉션!\n",
      "누적관객수 5위! 어거스트 러쉬!\n"
     ]
    }
   ],
   "source": [
    "영화누적관객수 = ['레미제라블', '뷰티인사이트', '매트릭스', '인셉션', '어거스트 러쉬']\n",
    "for i in enumerate(영화누적관객수):\n",
    "    print(i)\n",
    "\n",
    "\n",
    "for i, j in enumerate(영화누적관객수, 1):\n",
    "    print(f'누적관객수 {i}위! {j}!')"
   ]
  },
  {
   "cell_type": "code",
   "execution_count": 31,
   "id": "e09166f7",
   "metadata": {},
   "outputs": [
    {
     "name": "stdout",
     "output_type": "stream",
     "text": [
      "누적관객수 100위! 레미제라블!\n",
      "누적관객수 101위! 뷰티인사이트!\n",
      "누적관객수 102위! 매트릭스!\n",
      "누적관객수 103위! 인셉션!\n",
      "누적관객수 104위! 어거스트 러쉬!\n"
     ]
    }
   ],
   "source": [
    "영화누적관객수 = ['레미제라블', '뷰티인사이트', '매트릭스', '인셉션', '어거스트 러쉬']\n",
    "for i, j in enumerate(영화누적관객수, 100):\n",
    "    print(f'누적관객수 {i}위! {j}!')"
   ]
  },
  {
   "cell_type": "markdown",
   "id": "3a976bef",
   "metadata": {},
   "source": [
    "# while문"
   ]
  },
  {
   "cell_type": "code",
   "execution_count": null,
   "id": "ca8c8a7e",
   "metadata": {},
   "outputs": [
    {
     "name": "stdout",
     "output_type": "stream",
     "text": [
      "1\n",
      "2\n",
      "3\n",
      "4\n",
      "5\n",
      "6\n",
      "7\n",
      "8\n",
      "9\n"
     ]
    }
   ],
   "source": [
    "a = 1 \n",
    "\n",
    "\n",
    "while a < 10: # 2 < 10 -> True\n",
    "\tprint(a) # 1, 2, 3, 4, 5, 6, 7, 8\n",
    "    a += 1 # a = 8\n"
   ]
  },
  {
   "cell_type": "code",
   "execution_count": null,
   "id": "11185dc8",
   "metadata": {},
   "outputs": [],
   "source": [
    "while True :\n",
    "    print('무한 반복 중...')"
   ]
  },
  {
   "cell_type": "code",
   "execution_count": null,
   "id": "80dd5004",
   "metadata": {},
   "outputs": [],
   "source": [
    "while True:\n",
    "    x = input()\n",
    "    if x == 'exit':\n",
    "        break\n",
    "    print(x)"
   ]
  },
  {
   "cell_type": "code",
   "execution_count": 1,
   "id": "3d9b9a06",
   "metadata": {},
   "outputs": [
    {
     "name": "stdout",
     "output_type": "stream",
     "text": [
      "2 X 1 = 2\n",
      "2 X 2 = 4\n",
      "2 X 3 = 6\n",
      "2 X 4 = 8\n",
      "2 X 5 = 10\n",
      "2 X 6 = 12\n",
      "2 X 7 = 14\n",
      "2 X 8 = 16\n",
      "2 X 9 = 18\n",
      "3 X 1 = 3\n",
      "3 X 2 = 6\n",
      "3 X 3 = 9\n",
      "3 X 4 = 12\n",
      "3 X 5 = 15\n",
      "3 X 6 = 18\n",
      "3 X 7 = 21\n",
      "3 X 8 = 24\n",
      "3 X 9 = 27\n",
      "4 X 1 = 4\n",
      "4 X 2 = 8\n",
      "4 X 3 = 12\n",
      "4 X 4 = 16\n",
      "4 X 5 = 20\n",
      "4 X 6 = 24\n",
      "4 X 7 = 28\n",
      "4 X 8 = 32\n",
      "4 X 9 = 36\n",
      "5 X 1 = 5\n",
      "5 X 2 = 10\n",
      "5 X 3 = 15\n",
      "5 X 4 = 20\n",
      "5 X 5 = 25\n",
      "5 X 6 = 30\n",
      "5 X 7 = 35\n",
      "5 X 8 = 40\n",
      "5 X 9 = 45\n",
      "6 X 1 = 6\n",
      "6 X 2 = 12\n",
      "6 X 3 = 18\n",
      "6 X 4 = 24\n",
      "6 X 5 = 30\n",
      "6 X 6 = 36\n",
      "6 X 7 = 42\n",
      "6 X 8 = 48\n",
      "6 X 9 = 54\n",
      "7 X 1 = 7\n",
      "7 X 2 = 14\n",
      "7 X 3 = 21\n",
      "7 X 4 = 28\n",
      "7 X 5 = 35\n",
      "7 X 6 = 42\n",
      "7 X 7 = 49\n",
      "7 X 8 = 56\n",
      "7 X 9 = 63\n",
      "8 X 1 = 8\n",
      "8 X 2 = 16\n",
      "8 X 3 = 24\n",
      "8 X 4 = 32\n",
      "8 X 5 = 40\n",
      "8 X 6 = 48\n",
      "8 X 7 = 56\n",
      "8 X 8 = 64\n",
      "8 X 9 = 72\n",
      "9 X 1 = 9\n",
      "9 X 2 = 18\n",
      "9 X 3 = 27\n",
      "9 X 4 = 36\n",
      "9 X 5 = 45\n",
      "9 X 6 = 54\n",
      "9 X 7 = 63\n",
      "9 X 8 = 72\n",
      "9 X 9 = 81\n"
     ]
    }
   ],
   "source": [
    "i = 2\n",
    "while i < 10 :\n",
    "    j = 1\n",
    "    while j < 10:\n",
    "        print(f'{i} X {j} = {i * j}')\n",
    "        j += 1\n",
    "    i += 1"
   ]
  },
  {
   "cell_type": "markdown",
   "id": "9d9a1b9e",
   "metadata": {},
   "source": [
    "# break, continue, pass 비교"
   ]
  },
  {
   "cell_type": "code",
   "execution_count": 2,
   "id": "7493cedd",
   "metadata": {},
   "outputs": [
    {
     "name": "stdout",
     "output_type": "stream",
     "text": [
      "0\n",
      "1\n",
      "2\n",
      "3\n",
      "4\n",
      "5\n"
     ]
    }
   ],
   "source": [
    "x = 0\n",
    "while x < 10:\n",
    "    print(x)\n",
    "    if x == 5:\n",
    "        break\n",
    "    x += 1"
   ]
  },
  {
   "cell_type": "code",
   "execution_count": 4,
   "id": "20cb5212",
   "metadata": {},
   "outputs": [
    {
     "name": "stdout",
     "output_type": "stream",
     "text": [
      "2 X 1 = 2\n",
      "2 X 2 = 4\n",
      "2 X 3 = 6\n",
      "2 X 4 = 8\n",
      "2 X 5 = 10\n",
      "3 X 1 = 3\n",
      "3 X 2 = 6\n",
      "3 X 3 = 9\n",
      "3 X 4 = 12\n",
      "3 X 5 = 15\n",
      "4 X 1 = 4\n",
      "4 X 2 = 8\n",
      "4 X 3 = 12\n",
      "4 X 4 = 16\n",
      "4 X 5 = 20\n",
      "5 X 1 = 5\n",
      "5 X 2 = 10\n",
      "5 X 3 = 15\n",
      "5 X 4 = 20\n",
      "5 X 5 = 25\n",
      "6 X 1 = 6\n",
      "6 X 2 = 12\n",
      "6 X 3 = 18\n",
      "6 X 4 = 24\n",
      "6 X 5 = 30\n",
      "7 X 1 = 7\n",
      "7 X 2 = 14\n",
      "7 X 3 = 21\n",
      "7 X 4 = 28\n",
      "7 X 5 = 35\n",
      "8 X 1 = 8\n",
      "8 X 2 = 16\n",
      "8 X 3 = 24\n",
      "8 X 4 = 32\n",
      "8 X 5 = 40\n",
      "9 X 1 = 9\n",
      "9 X 2 = 18\n",
      "9 X 3 = 27\n",
      "9 X 4 = 36\n",
      "9 X 5 = 45\n"
     ]
    }
   ],
   "source": [
    "for i in range(2, 10):\n",
    "    is_flag = False\n",
    "    for j in range(1, 10):\n",
    "        if j > 5:\n",
    "            break\n",
    "        print(f'{i} X {j} = {i*j}')"
   ]
  },
  {
   "cell_type": "code",
   "execution_count": 5,
   "id": "b522d4ce",
   "metadata": {},
   "outputs": [
    {
     "name": "stdout",
     "output_type": "stream",
     "text": [
      "1\n",
      "2\n",
      "4\n",
      "5\n"
     ]
    }
   ],
   "source": [
    "x = 0\n",
    "while x < 5:\n",
    "    x += 1\n",
    "    if x == 3:\n",
    "        continue\n",
    "    print(x)"
   ]
  },
  {
   "cell_type": "code",
   "execution_count": 6,
   "id": "5b4531c9",
   "metadata": {},
   "outputs": [
    {
     "name": "stdout",
     "output_type": "stream",
     "text": [
      "1\n",
      "2\n",
      "3\n",
      "4\n",
      "5\n"
     ]
    }
   ],
   "source": [
    "x = 0\n",
    "while x < 5:\n",
    "    x += 1\n",
    "    if x == 3:\n",
    "        pass\n",
    "    print(x)"
   ]
  },
  {
   "cell_type": "markdown",
   "id": "036e86d0",
   "metadata": {},
   "source": [
    "# 반복문 else"
   ]
  },
  {
   "cell_type": "code",
   "execution_count": null,
   "id": "19e9f5ff",
   "metadata": {},
   "outputs": [],
   "source": [
    "for 변수 in 범위:\n",
    "    pass # 반복 실행할 코드\n",
    "else:\n",
    "    pass # 반복문이 모두 실행되어 종료되고 실행할 코드"
   ]
  },
  {
   "cell_type": "code",
   "execution_count": 7,
   "id": "a0ba608d",
   "metadata": {},
   "outputs": [
    {
     "name": "stdout",
     "output_type": "stream",
     "text": [
      "0 물고기를 잡았습니다.\n",
      "1 물고기를 잡았습니다.\n",
      "2 물고기를 잡았습니다.\n",
      "3 물고기를 잡았습니다.\n",
      "4 물고기를 잡았습니다.\n",
      "5 물고기를 잡았습니다.\n",
      "만선입니다. 물고기를 다 잡았습니다.\n",
      "수고하셨습니다.\n"
     ]
    }
   ],
   "source": [
    "for i in range(100):\n",
    "    print(f'{i} 물고기를 잡았습니다.')\n",
    "    if i == 5:\n",
    "        print('만선입니다. 물고기를 다 잡았습니다.')\n",
    "        break\n",
    "else:\n",
    "    print('아직 여유가 좀 있지만, 물고기가 더 없는 것 같으니 이정도로 만족하고 돌아갑시다.')\n",
    "\n",
    "\n",
    "print('수고하셨습니다.')"
   ]
  },
  {
   "cell_type": "code",
   "execution_count": 8,
   "id": "7a360403",
   "metadata": {},
   "outputs": [
    {
     "name": "stderr",
     "output_type": "stream",
     "text": [
      "<>:14: SyntaxWarning: 'ellipsis' object is not callable; perhaps you missed a comma?\n",
      "<>:17: SyntaxWarning: 'ellipsis' object is not callable; perhaps you missed a comma?\n",
      "C:\\Users\\kt438\\AppData\\Local\\Temp\\ipykernel_8860\\1391998309.py:14: SyntaxWarning: 'ellipsis' object is not callable; perhaps you missed a comma?\n",
      "  ...(생략)\n",
      "C:\\Users\\kt438\\AppData\\Local\\Temp\\ipykernel_8860\\1391998309.py:17: SyntaxWarning: 'ellipsis' object is not callable; perhaps you missed a comma?\n",
      "  ...(생략)\n"
     ]
    }
   ],
   "source": [
    "# 단순화 시키긴 했으나 실제 아래와 같이 만듭니다.\n",
    "class 게시물설계도: # 클래스\n",
    "    _id = int()\n",
    "    title = str()\n",
    "    contents = str()\n",
    "    author = str()\n",
    "    create_time = str()\n",
    "    update_time = str()\n",
    "    view_count = int()\n",
    "    last_connect_location = str()\n",
    "    last_connect_time = str()\n",
    " \n",
    "    def __str__(self): # 매직메서드\n",
    "        ...(생략)\n",
    " \n",
    "    def change_update_time(): # 메서드\n",
    "        ...(생략)\n",
    " \n",
    "게시물1 = 게시물설계도() # 인스턴스\n",
    "게시물2 = 게시물설계도() # 인스턴스"
   ]
  },
  {
   "cell_type": "code",
   "execution_count": 9,
   "id": "aeded8ae",
   "metadata": {},
   "outputs": [
    {
     "name": "stdout",
     "output_type": "stream",
     "text": [
      "차가 출발합니다!\n",
      "차가 멈췄습니다!\n"
     ]
    }
   ],
   "source": [
    "class Car: # 차에 설계 도면 또는 차 공장, 클래스\n",
    "    count = 0         # 멤버 또는 애트리뷰트\n",
    "    max_speed = 300   # 멤버 또는 애트리뷰트\n",
    "    max_people = 5    # 멤버 또는 애트리뷰트\n",
    "\n",
    "\n",
    "    def start(self): # 메서드\n",
    "        print('차가 출발합니다!')\n",
    "\n",
    "\n",
    "    def stop(self): # 메서드\n",
    "        print('차가 멈췄습니다!')\n",
    "\n",
    "\n",
    "# 공장에서 생산된 자동차 modelx, modely 인스턴스\n",
    "modelx = Car() # 인스턴스 = 클래스()\n",
    "modely = Car()\n",
    "\n",
    "\n",
    "modelx.start()\n",
    "modelx.stop()"
   ]
  },
  {
   "cell_type": "code",
   "execution_count": 10,
   "id": "7efdd7dc",
   "metadata": {},
   "outputs": [
    {
     "name": "stdout",
     "output_type": "stream",
     "text": [
      "<class 'type'>\n",
      "<class 'type'>\n",
      "<class 'type'>\n",
      "<class 'type'>\n",
      "<class 'type'>\n",
      "<class 'type'>\n"
     ]
    }
   ],
   "source": [
    "print(type(int))\n",
    "print(type(float))\n",
    "print(type(bool))\n",
    "print(type(list))\n",
    "print(type(dict))\n",
    "print(type(tuple))"
   ]
  },
  {
   "cell_type": "code",
   "execution_count": 11,
   "id": "6bd750d4",
   "metadata": {},
   "outputs": [
    {
     "data": {
      "text/plain": [
       "True"
      ]
     },
     "execution_count": 11,
     "metadata": {},
     "output_type": "execute_result"
    }
   ],
   "source": [
    "isinstance(modelx, Car)"
   ]
  },
  {
   "cell_type": "code",
   "execution_count": 12,
   "id": "1739de2f",
   "metadata": {},
   "outputs": [
    {
     "data": {
      "text/plain": [
       "True"
      ]
     },
     "execution_count": 12,
     "metadata": {},
     "output_type": "execute_result"
    }
   ],
   "source": [
    "x = 3\n",
    "isinstance(x, int) # True"
   ]
  },
  {
   "cell_type": "code",
   "execution_count": 13,
   "id": "50aa247e",
   "metadata": {},
   "outputs": [
    {
     "name": "stdout",
     "output_type": "stream",
     "text": [
      "100\n",
      "30에 파워로 공격하였습니다.\n"
     ]
    }
   ],
   "source": [
    "hero = {\n",
    "    'name': 'Jun',\n",
    "    'hp': 100,\n",
    "    'mp': 100,\n",
    "    'power': 30,\n",
    "    'drop_rate': 0,\n",
    "    'attack': lambda: f'{hero[\"power\"]}에 파워로 공격하였습니다.',\n",
    "}\n",
    "\n",
    "\n",
    "print(hero['hp'])\n",
    "print(hero['attack']())"
   ]
  },
  {
   "cell_type": "code",
   "execution_count": null,
   "id": "a1fb9d06",
   "metadata": {},
   "outputs": [],
   "source": [
    "- class Character => Licat(주인공), Lion(빌런), Mob1(몬스터), Mob2(몬스터)\n",
    "- class Post => 게시물1, 게시물2, 게시물3...\n",
    "- class Dot => 점1, 점2, 점3...\n",
    "- class User => 유저1, 유저2, 유저3...\n",
    "- class Comment => 댓글1, 댓글2, 댓글3...\n",
    "- class Product => 상품1, 상품2, 상품3...\n",
    "- class Restaurant => 음식점1, 음식점2, 음식점3...\n",
    "- class Class => 강의1, 강의2, 강의3...\n",
    "- class Teacher => 강사1, 강사2, 강사3..."
   ]
  },
  {
   "cell_type": "markdown",
   "id": "565d2a61",
   "metadata": {},
   "source": [
    "# 클래스 변수와 인스턴스 변수"
   ]
  },
  {
   "cell_type": "code",
   "execution_count": 16,
   "id": "8e651241",
   "metadata": {},
   "outputs": [
    {
     "name": "stdout",
     "output_type": "stream",
     "text": [
      "300\n",
      "300\n"
     ]
    }
   ],
   "source": [
    "class Car:\n",
    "    # 클래스 변수의 위치\n",
    "    max_speed = 300\n",
    "    max_people = 5\n",
    "\n",
    "\n",
    "modelx = Car()\n",
    "print(Car.max_speed)\n",
    "print(modelx.max_speed)"
   ]
  },
  {
   "cell_type": "code",
   "execution_count": 17,
   "id": "80fa8a19",
   "metadata": {},
   "outputs": [
    {
     "name": "stdout",
     "output_type": "stream",
     "text": [
      "300\n",
      "300\n",
      "500\n"
     ]
    }
   ],
   "source": [
    "class Car:\n",
    "    # 클래스 변수의 위치\n",
    "    max_speed = 300\n",
    "    max_people = 5\n",
    "\n",
    "\n",
    "modelx = Car()\n",
    "modely = Car()\n",
    "\n",
    "\n",
    "modely.max_speed = 500\n",
    "\n",
    "\n",
    "print(Car.max_speed)\n",
    "print(modelx.max_speed)\n",
    "print(modely.max_speed)"
   ]
  },
  {
   "cell_type": "code",
   "execution_count": 18,
   "id": "257f53cb",
   "metadata": {},
   "outputs": [
    {
     "name": "stdout",
     "output_type": "stream",
     "text": [
      "500\n",
      "500\n",
      "500\n"
     ]
    }
   ],
   "source": [
    "class Car:\n",
    "    # 클래스 변수의 위치\n",
    "    max_speed = 300\n",
    "    max_people = 5\n",
    "\n",
    "\n",
    "modelx = Car()\n",
    "modely = Car()\n",
    "\n",
    "\n",
    "Car.max_speed = 500\n",
    "\n",
    "\n",
    "print(Car.max_speed)\n",
    "print(modelx.max_speed)\n",
    "print(modely.max_speed)"
   ]
  },
  {
   "cell_type": "markdown",
   "id": "955e4c91",
   "metadata": {},
   "source": [
    "# 매직 메서드"
   ]
  },
  {
   "cell_type": "code",
   "execution_count": 19,
   "id": "ec958c14",
   "metadata": {},
   "outputs": [
    {
     "name": "stdout",
     "output_type": "stream",
     "text": [
      "10 20\n",
      "30 50\n"
     ]
    }
   ],
   "source": [
    "class Point:\n",
    "\n",
    "\n",
    "    def __init__(self, x, y):\n",
    "        self.x = x\n",
    "        self.y = y\n",
    "\n",
    "\n",
    "    def __add__(self, other):\n",
    "        print(self.x, self.y)\n",
    "        return Point((self.x + other.x), (self.y + other.y))\n",
    "\n",
    "\n",
    "\n",
    "\n",
    "dot1 = Point(10, 20)\n",
    "dot2 = Point(20, 30)\n",
    "\n",
    "\n",
    "dot3 = dot1 + dot2\n",
    "print(dot3.x, dot3.y) # 출력: 30 50"
   ]
  },
  {
   "cell_type": "code",
   "execution_count": 20,
   "id": "db53da11",
   "metadata": {},
   "outputs": [
    {
     "name": "stdout",
     "output_type": "stream",
     "text": [
      "[30, 50, 70]\n",
      "[30, 60, 90]\n"
     ]
    }
   ],
   "source": [
    "class Matrix:\n",
    "\n",
    "\n",
    "    def __init__(self, value):\n",
    "        self.value = value\n",
    "\n",
    "\n",
    "    def __add__(self, other):\n",
    "        result = []\n",
    "        for i in range(len(self.value)):\n",
    "            result.append(self.value[i] + other.value[i])\n",
    "        return result\n",
    "\n",
    "\n",
    "    def __mul__(self, other):\n",
    "        if isinstance(other, int):\n",
    "            return [i*other for i in self.value]\n",
    "        raise TypeError('int형 외에 곱을 허락하지 않습니다!')\n",
    "\n",
    "\n",
    "m1 = Matrix([10, 20, 30])\n",
    "m2 = Matrix([20, 30, 40])\n",
    "\n",
    "\n",
    "print(m1 + m2) # 출력: [30, 50, 70]\n",
    "print(m1 * 3) # 출력: [30, 60, 90]\n",
    "# print(m1 * [1, 2, 3]) # error"
   ]
  },
  {
   "cell_type": "code",
   "execution_count": null,
   "id": "54b16afb",
   "metadata": {},
   "outputs": [],
   "source": [
    "class Counter:\n",
    "    def __init__(self):\n",
    "        self.count = 0\n",
    "\n",
    "\n",
    "    def __call__(self):\n",
    "        self.count += 10\n",
    "        print(f'현재 count 값: {self.count}')\n",
    "\n",
    "\n",
    "    def __getitem__(self, key):\n",
    "        return key*10\n",
    "\n",
    "\n",
    "# 객체 생성\n",
    "counter = Counter()\n",
    "\n",
    "\n",
    "# 객체를 직접 호출합니다. 이때 __call__ 메서드가 실행됩니다.\n",
    "counter()  # 출력: 현재 count 값: 10\n",
    "counter()  # 출력: 현재 count 값: 20\n",
    "counter()  # 출력: 현재 count 값: 30\n",
    "\n",
    "\n",
    "counter[5] # 출력: 50"
   ]
  },
  {
   "cell_type": "markdown",
   "id": "a72ee625",
   "metadata": {},
   "source": [
    "# 상속"
   ]
  },
  {
   "cell_type": "code",
   "execution_count": 21,
   "id": "6f641fab",
   "metadata": {},
   "outputs": [
    {
     "name": "stdout",
     "output_type": "stream",
     "text": [
      "300\n",
      "300\n",
      "2000\n",
      "출발하였습니다.\n"
     ]
    }
   ],
   "source": [
    "class Car(object):\n",
    "    maxSpeed = 300\n",
    "    maxPeople = 5\n",
    "\n",
    "\n",
    "    def move(self):\n",
    "        print('출발하였습니다.')\n",
    "\n",
    "\n",
    "    def stop(self):\n",
    "        print('멈췄습니다.')\n",
    "\n",
    "\n",
    "class HybridCar(Car):\n",
    "    battery = 1000\n",
    "    batteryKM = 300\n",
    "\n",
    "\n",
    "class ElectricCar(HybridCar):\n",
    "    battery = 2000\n",
    "    batteryKM = 600\n",
    "\n",
    "\n",
    "modelx = HybridCar()\n",
    "electricCarModely = ElectricCar()\n",
    "print(modelx.maxSpeed)\n",
    "print(electricCarModely.maxSpeed)\n",
    "print(electricCarModely.battery)\n",
    "electricCarModely.move()"
   ]
  },
  {
   "cell_type": "code",
   "execution_count": 22,
   "id": "649771f8",
   "metadata": {},
   "outputs": [],
   "source": [
    "class Character:\n",
    "    최대속력 = 100\n",
    "    최대레벨 = 50\n",
    " \n",
    "    def __init__(self, name, hp, attack, lv):\n",
    "        self.이름 = name\n",
    "        self.체력 = hp\n",
    "        self.공격력 = attack\n",
    "        self.레벨 = lv\n",
    "        self.속력 = 1\n",
    " \n",
    "    def move(self):\n",
    "        print(f'{self.이름}이(가) {self.속력}의 이동속도로 움직였습니다.')\n",
    " \n",
    "    def attack(self):\n",
    "        print(f'{self.이름}이(가) {self.공격력}의 데미지로 공격했습니다.')\n",
    " \n",
    "class Mob(Character):\n",
    "    def __init__(self, name, hp, attack, lv, droprate, dropitem):\n",
    "        super().__init__(name, hp, attack, lv)\n",
    "        self.드랍률 = droprate\n",
    "        self.드랍아이템 = dropitem\n",
    " \n",
    "# 위 코드는 아래와 같은 기능입니다.\n",
    "# class Mob(Character):\n",
    "#     def __init__(self, name, hp, attack, lv, droprate, dropitem):\n",
    "#         self.이름 = name\n",
    "#         self.체력 = hp\n",
    "#         self.공격력 = attack\n",
    "#         self.레벨 = lv\n",
    "#         self.드랍률 = droprate\n",
    "#         self.드랍아이템 = dropitem\n",
    "#         self.속력 = 1\n",
    " \n",
    "class Hero(Character):\n",
    "    def __init__(self, name, hp, attack, lv, skills, items, missions):\n",
    "        super().__init__(name, hp, attack, lv)\n",
    "        self.스킬 = skills\n",
    "        self.아이템 = items\n",
    "        self.미션 = missions\n",
    " \n",
    "    def use_skill(self, skill):\n",
    "        if skill in self.스킬:\n",
    "            print(f'{self.이름}이(가) {skill} 스킬을 사용했습니다.')\n",
    "        else:\n",
    "            print(f'{skill} 스킬을 가지고 있지 않습니다.')"
   ]
  },
  {
   "cell_type": "markdown",
   "id": "d522d2f7",
   "metadata": {},
   "source": [
    "# 다중 상속"
   ]
  },
  {
   "cell_type": "code",
   "execution_count": null,
   "id": "f8e3c007",
   "metadata": {},
   "outputs": [],
   "source": [
    "class Parent1:\n",
    "    pass\n",
    " \n",
    "class Parent2:\n",
    "    pass\n",
    " \n",
    "class GrandChild(Child):\n",
    "    pass"
   ]
  },
  {
   "cell_type": "code",
   "execution_count": null,
   "id": "8f9e040a",
   "metadata": {},
   "outputs": [],
   "source": [
    "class Parent1:\n",
    "    pass\n",
    " \n",
    "class Parent2:\n",
    "    pass\n",
    " \n",
    "class Child(Parent1, Parent2):\n",
    "    pass"
   ]
  },
  {
   "cell_type": "code",
   "execution_count": 23,
   "id": "7c46565d",
   "metadata": {},
   "outputs": [
    {
     "name": "stdout",
     "output_type": "stream",
     "text": [
      "[<class '__main__.D'>, <class '__main__.B'>, <class '__main__.C'>, <class '__main__.A'>, <class 'object'>]\n",
      "B method\n"
     ]
    }
   ],
   "source": [
    "class A:\n",
    "    def method(self):\n",
    "        print(\"A method\")\n",
    "\n",
    "\n",
    "class B(A):\n",
    "    def method(self):\n",
    "        print(\"B method\")\n",
    "\n",
    "\n",
    "class C(A):\n",
    "    def method(self):\n",
    "        print(\"C method\")\n",
    "\n",
    "\n",
    "class D(B, C):\n",
    "    pass\n",
    "\n",
    "\n",
    "obj = D()\n",
    "print(D.mro()) # 출력: [<class '__main__.D'>, <class '__main__.B'>, <class '__main__.C'>, <class '__main__.A'>, <class 'object'>]\n",
    "obj.method()  # 출력: B method"
   ]
  },
  {
   "cell_type": "code",
   "execution_count": 24,
   "id": "5b4712ca",
   "metadata": {},
   "outputs": [
    {
     "ename": "TypeError",
     "evalue": "Cannot create a consistent method resolution order (MRO) for bases HybridCar, ElectricCar",
     "output_type": "error",
     "traceback": [
      "\u001b[31m---------------------------------------------------------------------------\u001b[39m",
      "\u001b[31mTypeError\u001b[39m                                 Traceback (most recent call last)",
      "\u001b[36mCell\u001b[39m\u001b[36m \u001b[39m\u001b[32mIn[24]\u001b[39m\u001b[32m, line 13\u001b[39m\n\u001b[32m      9\u001b[39m \u001b[38;5;28;01mclass\u001b[39;00m\u001b[38;5;250m \u001b[39m\u001b[34;01mElectricCar\u001b[39;00m(HybridCar):\n\u001b[32m     10\u001b[39m     \u001b[38;5;28;01mpass\u001b[39;00m\n\u001b[32m---> \u001b[39m\u001b[32m13\u001b[39m \u001b[38;5;28;43;01mclass\u001b[39;49;00m\u001b[38;5;250;43m \u001b[39;49m\u001b[34;43;01mHybridElectricCar\u001b[39;49;00m\u001b[43m(\u001b[49m\u001b[43mHybridCar\u001b[49m\u001b[43m,\u001b[49m\u001b[43m \u001b[49m\u001b[43mElectricCar\u001b[49m\u001b[43m)\u001b[49m\u001b[43m:\u001b[49m\n\u001b[32m     14\u001b[39m \u001b[43m    \u001b[49m\u001b[38;5;28;43;01mpass\u001b[39;49;00m\n\u001b[32m     17\u001b[39m modelz = HybridElectricCar()\n",
      "\u001b[31mTypeError\u001b[39m: Cannot create a consistent method resolution order (MRO) for bases HybridCar, ElectricCar"
     ]
    }
   ],
   "source": [
    "class Car(object):\n",
    "    pass\n",
    "\n",
    "\n",
    "class HybridCar(Car):\n",
    "    pass\n",
    "\n",
    "\n",
    "class ElectricCar(HybridCar):\n",
    "    pass\n",
    "\n",
    "\n",
    "class HybridElectricCar(HybridCar, ElectricCar):\n",
    "    pass\n",
    "\n",
    "\n",
    "modelz = HybridElectricCar()"
   ]
  },
  {
   "cell_type": "markdown",
   "id": "0d4500ec",
   "metadata": {},
   "source": [
    "# 클래스 심화"
   ]
  },
  {
   "cell_type": "code",
   "execution_count": 25,
   "id": "f3b83c4a",
   "metadata": {},
   "outputs": [
    {
     "name": "stdout",
     "output_type": "stream",
     "text": [
      "1\n"
     ]
    }
   ],
   "source": [
    "class MyClass:\n",
    "    count = 0\n",
    "\n",
    "\n",
    "    @classmethod\n",
    "    def increment(cls):\n",
    "        cls.count += 1\n",
    "\n",
    "\n",
    "MyClass.increment()\n",
    "print(MyClass.count)  # 출력: 1"
   ]
  },
  {
   "cell_type": "code",
   "execution_count": 26,
   "id": "71504b48",
   "metadata": {},
   "outputs": [
    {
     "name": "stdout",
     "output_type": "stream",
     "text": [
      "li\n",
      "cat\n",
      "licat\n"
     ]
    }
   ],
   "source": [
    "class Person:\n",
    "    def __init__(self, first_name, last_name):\n",
    "        self._first_name = first_name\n",
    "        self._last_name = last_name\n",
    "\n",
    "\n",
    "    @property\n",
    "    def full_name(self):\n",
    "        return f'{self._first_name}{self._last_name}'\n",
    "\n",
    "\n",
    "licat = Person('li', 'cat')\n",
    "print(licat._first_name)\n",
    "print(licat._last_name)\n",
    "print(licat.full_name)"
   ]
  },
  {
   "cell_type": "code",
   "execution_count": 27,
   "id": "40b31d8f",
   "metadata": {},
   "outputs": [
    {
     "name": "stdout",
     "output_type": "stream",
     "text": [
      "홍길동의 나이는 25세입니다.\n"
     ]
    }
   ],
   "source": [
    "class Person:\n",
    "    def __init__(self, name):\n",
    "        self.name = name\n",
    "        self._age = 0\n",
    "\n",
    "\n",
    "    @property\n",
    "    def age(self):\n",
    "        return self._age\n",
    "\n",
    "\n",
    "    @age.setter\n",
    "    def age(self, value):\n",
    "        if value < 0:\n",
    "            raise ValueError(\"나이는 음수일 수 없습니다.\")\n",
    "        self._age = value\n",
    "\n",
    "\n",
    "# 사용 예제\n",
    "person = Person(\"홍길동\")\n",
    "\n",
    "\n",
    "# age 속성 설정\n",
    "person.age = 25\n",
    "print(f\"{person.name}의 나이는 {person.age}세입니다.\")"
   ]
  },
  {
   "cell_type": "markdown",
   "id": "ba774103",
   "metadata": {},
   "source": [
    "# 메서드 오버라이딩"
   ]
  },
  {
   "cell_type": "code",
   "execution_count": 30,
   "id": "87e4f612",
   "metadata": {},
   "outputs": [
    {
     "name": "stdout",
     "output_type": "stream",
     "text": [
      "왈왈!\n",
      "냐옹!\n",
      "기본 동물 울음 소리, 악!\n"
     ]
    }
   ],
   "source": [
    "class Animal:\n",
    "    def sound(self):\n",
    "        print(\"기본 동물 울음 소리, 악!\")\n",
    "\n",
    "class Dog(Animal):\n",
    "    def sound(self):\n",
    "        print(\"왈왈!\")\n",
    " \n",
    "class Cat(Animal):\n",
    "    def sound(self):\n",
    "        print(\"냐옹!\")\n",
    "\n",
    "\n",
    "dog = Dog()\n",
    "cat = Cat()\n",
    "\n",
    "dog.sound()\n",
    "cat.sound()\n",
    "Animal().sound() # 기본 동물 울음 소리, 악!\n",
    "\n",
    "class Bird(Animal):\n",
    "    def sound(self):\n",
    "        super().sound()\n",
    "        print(\"짹짹!\")"
   ]
  },
  {
   "cell_type": "code",
   "execution_count": 31,
   "id": "a2d6814a",
   "metadata": {},
   "outputs": [
    {
     "name": "stdout",
     "output_type": "stream",
     "text": [
      "Alice\n",
      "S12345\n"
     ]
    }
   ],
   "source": [
    "class Person:\n",
    "    def __init__(self, name):\n",
    "        self.name = name\n",
    "\n",
    "\n",
    "class Student(Person):\n",
    "    def __init__(self, name, student_id):\n",
    "        super().__init__(name)  # 부모 클래스의 __init__ 메서드 호출\n",
    "        self.student_id = student_id\n",
    "\n",
    "\n",
    "s = Student(\"Alice\", \"S12345\")\n",
    "print(s.name)        # 출력: Alice\n",
    "print(s.student_id)  # 출력: S12345"
   ]
  },
  {
   "cell_type": "markdown",
   "id": "fb2111f2",
   "metadata": {},
   "source": [
    "# 추상 클래스와 인터페이스"
   ]
  },
  {
   "cell_type": "code",
   "execution_count": 32,
   "id": "96fe81a3",
   "metadata": {},
   "outputs": [
    {
     "ename": "TypeError",
     "evalue": "Can't instantiate abstract class Person without an implementation for abstract method 'do_something'",
     "output_type": "error",
     "traceback": [
      "\u001b[31m---------------------------------------------------------------------------\u001b[39m",
      "\u001b[31mTypeError\u001b[39m                                 Traceback (most recent call last)",
      "\u001b[36mCell\u001b[39m\u001b[36m \u001b[39m\u001b[32mIn[32]\u001b[39m\u001b[32m, line 23\u001b[39m\n\u001b[32m     19\u001b[39m     \u001b[38;5;28;01mdef\u001b[39;00m\u001b[38;5;250m \u001b[39m\u001b[34mprint_name\u001b[39m(\u001b[38;5;28mself\u001b[39m):\n\u001b[32m     20\u001b[39m         \u001b[38;5;28mprint\u001b[39m(\u001b[33mf\u001b[39m\u001b[33m'\u001b[39m\u001b[33m제 이름은 \u001b[39m\u001b[38;5;132;01m{\u001b[39;00m\u001b[38;5;28mself\u001b[39m.name\u001b[38;5;132;01m}\u001b[39;00m\u001b[33m입니다.\u001b[39m\u001b[33m'\u001b[39m)\n\u001b[32m---> \u001b[39m\u001b[32m23\u001b[39m hojun = \u001b[43mPerson\u001b[49m\u001b[43m(\u001b[49m\u001b[33;43m'\u001b[39;49m\u001b[33;43mhojun\u001b[39;49m\u001b[33;43m'\u001b[39;49m\u001b[43m)\u001b[49m\n\u001b[32m     24\u001b[39m hojun.print_name()\n",
      "\u001b[31mTypeError\u001b[39m: Can't instantiate abstract class Person without an implementation for abstract method 'do_something'"
     ]
    }
   ],
   "source": [
    "from abc import ABC, abstractmethod\n",
    "\n",
    "\n",
    "class AbstractClassExample(ABC):\n",
    "\n",
    "\n",
    "    @abstractmethod\n",
    "    def do_something(self):\n",
    "        pass\n",
    "\n",
    "\n",
    "class Person(AbstractClassExample):\n",
    "\n",
    "\n",
    "    def __init__(self, name):\n",
    "        self.name = name\n",
    "\n",
    "\n",
    "    def print_name(self):\n",
    "        print(f'제 이름은 {self.name}입니다.')\n",
    "\n",
    "\n",
    "hojun = Person('hojun')\n",
    "hojun.print_name()"
   ]
  },
  {
   "cell_type": "markdown",
   "id": "7c1edc61",
   "metadata": {},
   "source": [
    "# 비공개 속성"
   ]
  },
  {
   "cell_type": "code",
   "execution_count": 33,
   "id": "2332d834",
   "metadata": {},
   "outputs": [
    {
     "data": {
      "text/plain": [
       "40"
      ]
     },
     "execution_count": 33,
     "metadata": {},
     "output_type": "execute_result"
    }
   ],
   "source": [
    "class MyClass:\n",
    "    __a = 10\n",
    "    _a = 100\n",
    "    b = 20\n",
    "\n",
    "\n",
    "    def __init__(self, c, d):\n",
    "        self.__c = c\n",
    "        self.d = d\n",
    "\n",
    "\n",
    "c = MyClass(30, 40)\n",
    "# c.__a #error\n",
    "# c._a # 출력: 100\n",
    "# c.b # 출력: 20\n",
    "# c.__c # error\n",
    "c.d # 출력: 40"
   ]
  },
  {
   "cell_type": "code",
   "execution_count": 34,
   "id": "994509f6",
   "metadata": {},
   "outputs": [
    {
     "name": "stdout",
     "output_type": "stream",
     "text": [
      "30\n"
     ]
    }
   ],
   "source": [
    "print(c._MyClass__c)  # 출력: 30"
   ]
  },
  {
   "cell_type": "markdown",
   "id": "de440d94",
   "metadata": {},
   "source": [
    "# 상수 선언"
   ]
  },
  {
   "cell_type": "code",
   "execution_count": null,
   "id": "8bcca919",
   "metadata": {},
   "outputs": [
    {
     "name": "stdout",
     "output_type": "stream",
     "text": [
      "Color.RED\n",
      "Color.GREEN\n",
      "Color.BLUE\n"
     ]
    }
   ],
   "source": [
    "from enum import Enum\n",
    "\n",
    "\n",
    "class Color(Enum):\n",
    "    RED = 1\n",
    "    GREEN = 2\n",
    "    BLUE = 3\n",
    "\n",
    "\n",
    "\n",
    "for color in Color:\n",
    "    print(color)"
   ]
  },
  {
   "cell_type": "code",
   "execution_count": null,
   "id": "ca02296d",
   "metadata": {},
   "outputs": [],
   "source": []
  }
 ],
 "metadata": {
  "kernelspec": {
   "display_name": "Python 3",
   "language": "python",
   "name": "python3"
  },
  "language_info": {
   "codemirror_mode": {
    "name": "ipython",
    "version": 3
   },
   "file_extension": ".py",
   "mimetype": "text/x-python",
   "name": "python",
   "nbconvert_exporter": "python",
   "pygments_lexer": "ipython3",
   "version": "3.13.5"
  }
 },
 "nbformat": 4,
 "nbformat_minor": 5
}
