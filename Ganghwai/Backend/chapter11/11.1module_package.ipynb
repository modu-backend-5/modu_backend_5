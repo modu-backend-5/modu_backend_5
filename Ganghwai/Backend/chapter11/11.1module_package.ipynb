{
 "cells": [
  {
   "cell_type": "markdown",
   "id": "02f3292f",
   "metadata": {},
   "source": [
    "# 모듈과 패키지\n",
    "## 1. 모듈(Module)"
   ]
  },
  {
   "cell_type": "code",
   "execution_count": 4,
   "id": "25873e81",
   "metadata": {},
   "outputs": [
    {
     "name": "stdout",
     "output_type": "stream",
     "text": [
      "Collecting numpy\n",
      "  Downloading numpy-2.3.2-cp313-cp313-win_amd64.whl.metadata (60 kB)\n",
      "Downloading numpy-2.3.2-cp313-cp313-win_amd64.whl (12.8 MB)\n",
      "   ---------------------------------------- 0.0/12.8 MB ? eta -:--:--\n",
      "   ------ --------------------------------- 2.1/12.8 MB 11.3 MB/s eta 0:00:01\n",
      "   ------------ --------------------------- 3.9/12.8 MB 9.6 MB/s eta 0:00:01\n",
      "   ---------------- ----------------------- 5.2/12.8 MB 10.0 MB/s eta 0:00:01\n",
      "   ----------------------- ---------------- 7.6/12.8 MB 9.4 MB/s eta 0:00:01\n",
      "   ----------------------------- ---------- 9.4/12.8 MB 9.8 MB/s eta 0:00:01\n",
      "   ----------------------------------- ---- 11.3/12.8 MB 9.2 MB/s eta 0:00:01\n",
      "   ---------------------------------------  12.6/12.8 MB 9.4 MB/s eta 0:00:01\n",
      "   ---------------------------------------- 12.8/12.8 MB 8.7 MB/s eta 0:00:00\n",
      "Installing collected packages: numpy\n",
      "Successfully installed numpy-2.3.2\n"
     ]
    },
    {
     "name": "stderr",
     "output_type": "stream",
     "text": [
      "\n",
      "[notice] A new release of pip is available: 25.1.1 -> 25.2\n",
      "[notice] To update, run: python.exe -m pip install --upgrade pip\n"
     ]
    }
   ],
   "source": [
    "!pip install numpy"
   ]
  },
  {
   "cell_type": "code",
   "execution_count": 5,
   "id": "2cb48ac1",
   "metadata": {},
   "outputs": [
    {
     "data": {
      "text/plain": [
       "array([[ 2,  4,  6],\n",
       "       [ 8, 10, 12],\n",
       "       [14, 16, 18]])"
      ]
     },
     "execution_count": 5,
     "metadata": {},
     "output_type": "execute_result"
    }
   ],
   "source": [
    "import numpy\n",
    "l = numpy.array([[1, 2, 3], [4, 5, 6], [7, 8, 9]])\n",
    "l * 2"
   ]
  },
  {
   "cell_type": "code",
   "execution_count": null,
   "id": "5e7c8121",
   "metadata": {},
   "outputs": [],
   "source": [
    "l = [[1, 2, 3], [4, 5, 6], [7, 8, 9]]\n",
    "for i in range(3):\n",
    "    for j in range(3):\n",
    "        l[i][j] *= 2\n",
    "l # 출력: [[2, 4, 6], [8, 10, 12], [14, 16, 18]]"
   ]
  },
  {
   "cell_type": "code",
   "execution_count": 1,
   "id": "0c572210",
   "metadata": {},
   "outputs": [
    {
     "name": "stdout",
     "output_type": "stream",
     "text": [
      "Package                 Version\n",
      "----------------------- -----------\n",
      "asttokens               3.0.0\n",
      "colorama                0.4.6\n",
      "comm                    0.2.3\n",
      "debugpy                 1.8.15\n",
      "decorator               5.2.1\n",
      "executing               2.2.0\n",
      "ipykernel               6.30.0\n",
      "ipython                 9.4.0\n",
      "ipython_pygments_lexers 1.1.1\n",
      "jedi                    0.19.2\n",
      "jupyter_client          8.6.3\n",
      "jupyter_core            5.8.1\n",
      "matplotlib-inline       0.1.7\n",
      "nest-asyncio            1.6.0\n",
      "numpy                   2.3.2\n",
      "packaging               25.0\n",
      "parso                   0.8.4\n",
      "pip                     25.1.1\n",
      "platformdirs            4.3.8\n",
      "prompt_toolkit          3.0.51\n",
      "psutil                  7.0.0\n",
      "pure_eval               0.2.3\n",
      "Pygments                2.19.2\n",
      "python-dateutil         2.9.0.post0\n",
      "pywin32                 311\n",
      "pyzmq                   27.0.1\n",
      "six                     1.17.0\n",
      "stack-data              0.6.3\n",
      "tornado                 6.5.1\n",
      "traitlets               5.14.3\n",
      "wcwidth                 0.2.13\n"
     ]
    }
   ],
   "source": [
    "!pip list"
   ]
  },
  {
   "cell_type": "code",
   "execution_count": 2,
   "id": "79c15ced",
   "metadata": {},
   "outputs": [
    {
     "data": {
      "text/plain": [
       "['c:\\\\Users\\\\kt438\\\\AppData\\\\Local\\\\Programs\\\\Python\\\\Python313\\\\python313.zip',\n",
       " 'c:\\\\Users\\\\kt438\\\\AppData\\\\Local\\\\Programs\\\\Python\\\\Python313\\\\DLLs',\n",
       " 'c:\\\\Users\\\\kt438\\\\AppData\\\\Local\\\\Programs\\\\Python\\\\Python313\\\\Lib',\n",
       " 'c:\\\\Users\\\\kt438\\\\AppData\\\\Local\\\\Programs\\\\Python\\\\Python313',\n",
       " '',\n",
       " 'C:\\\\Users\\\\kt438\\\\AppData\\\\Roaming\\\\Python\\\\Python313\\\\site-packages',\n",
       " 'C:\\\\Users\\\\kt438\\\\AppData\\\\Roaming\\\\Python\\\\Python313\\\\site-packages\\\\win32',\n",
       " 'C:\\\\Users\\\\kt438\\\\AppData\\\\Roaming\\\\Python\\\\Python313\\\\site-packages\\\\win32\\\\lib',\n",
       " 'C:\\\\Users\\\\kt438\\\\AppData\\\\Roaming\\\\Python\\\\Python313\\\\site-packages\\\\Pythonwin',\n",
       " 'c:\\\\Users\\\\kt438\\\\AppData\\\\Local\\\\Programs\\\\Python\\\\Python313\\\\Lib\\\\site-packages']"
      ]
     },
     "execution_count": 2,
     "metadata": {},
     "output_type": "execute_result"
    }
   ],
   "source": [
    "import sys\n",
    "sys.path"
   ]
  },
  {
   "cell_type": "code",
   "execution_count": 8,
   "id": "93e859b6",
   "metadata": {},
   "outputs": [
    {
     "ename": "SyntaxError",
     "evalue": "invalid syntax (1803311471.py, line 4)",
     "output_type": "error",
     "traceback": [
      "  \u001b[36mCell\u001b[39m\u001b[36m \u001b[39m\u001b[32mIn[8]\u001b[39m\u001b[32m, line 4\u001b[39m\n\u001b[31m    \u001b[39m\u001b[31mfrom arithmetic_operation.py, logical_operation.py import\u001b[39m\n                                ^\n\u001b[31mSyntaxError\u001b[39m\u001b[31m:\u001b[39m invalid syntax\n"
     ]
    }
   ],
   "source": [
    "import numpy\n",
    "import numpy, beautifulsoup4\n",
    "import numpy as np\n",
    "from arithmetic_operation.py, logical_operation.py import\n",
    "from sample_package import name as it\n",
    " \n",
    "###모듈1.클래스()\n",
    "별칭.변수\n",
    "별칭.함수()"
   ]
  },
  {
   "cell_type": "code",
   "execution_count": 5,
   "id": "60b35fc6",
   "metadata": {},
   "outputs": [
    {
     "name": "stdout",
     "output_type": "stream",
     "text": [
      "6\n",
      "5\n"
     ]
    }
   ],
   "source": [
    "import random\n",
    "\n",
    "print(random.randint(1, 10))\n",
    "print(random.choice([1, 2, 3, 4, 5]))"
   ]
  },
  {
   "cell_type": "code",
   "execution_count": 1,
   "id": "d19c65b6",
   "metadata": {},
   "outputs": [
    {
     "ename": "ImportError",
     "evalue": "cannot import name 'age' from 'sample_package.ROKA' (c:\\git-test\\Backend 과정\\chapter11\\sample_package\\ROKA.py)",
     "output_type": "error",
     "traceback": [
      "\u001b[31m---------------------------------------------------------------------------\u001b[39m",
      "\u001b[31mImportError\u001b[39m                               Traceback (most recent call last)",
      "\u001b[36mCell\u001b[39m\u001b[36m \u001b[39m\u001b[32mIn[1]\u001b[39m\u001b[32m, line 3\u001b[39m\n\u001b[32m      1\u001b[39m \u001b[38;5;28;01mimport\u001b[39;00m\u001b[38;5;250m \u001b[39m\u001b[34;01mnumpy\u001b[39;00m\u001b[38;5;250m \u001b[39m\u001b[38;5;28;01mas\u001b[39;00m\u001b[38;5;250m \u001b[39m\u001b[34;01mnumpy\u001b[39;00m\n\u001b[32m      2\u001b[39m \u001b[38;5;28;01mfrom\u001b[39;00m\u001b[38;5;250m \u001b[39m\u001b[34;01msample_package\u001b[39;00m\u001b[38;5;250m \u001b[39m\u001b[38;5;28;01mimport\u001b[39;00m ROKA\n\u001b[32m----> \u001b[39m\u001b[32m3\u001b[39m \u001b[38;5;28;01mfrom\u001b[39;00m\u001b[38;5;250m \u001b[39m\u001b[34;01msample_package\u001b[39;00m\u001b[34;01m.\u001b[39;00m\u001b[34;01mROKA\u001b[39;00m\u001b[38;5;250m \u001b[39m\u001b[38;5;28;01mimport\u001b[39;00m age, name\n\u001b[32m      4\u001b[39m \u001b[38;5;28;01mfrom\u001b[39;00m\u001b[38;5;250m \u001b[39m\u001b[34;01msample_package\u001b[39;00m\u001b[34;01m.\u001b[39;00m\u001b[34;01mROKA\u001b[39;00m\u001b[38;5;250m \u001b[39m\u001b[38;5;28;01mimport\u001b[39;00m introduce \u001b[38;5;28;01mas\u001b[39;00m it\n",
      "\u001b[31mImportError\u001b[39m: cannot import name 'age' from 'sample_package.ROKA' (c:\\git-test\\Backend 과정\\chapter11\\sample_package\\ROKA.py)"
     ]
    }
   ],
   "source": [
    "import numpy as numpy\n",
    "from sample_package import ROKA\n",
    "from sample_package.ROKA import age, name\n",
    "from sample_package.ROKA import introduce as it\n",
    "\n",
    "\n"
   ]
  },
  {
   "cell_type": "code",
   "execution_count": 13,
   "id": "b4564ffd",
   "metadata": {},
   "outputs": [
    {
     "name": "stdout",
     "output_type": "stream",
     "text": [
      "i: 1, j: 0\n",
      "i: 1, j: 1\n",
      "i: 1, j: 2\n",
      "i: 1, j: 3\n",
      "i: 1, j: 4\n",
      "\n",
      "i: 3, j: 0\n",
      "i: 3, j: 1\n",
      "i: 3, j: 2\n",
      "i: 3, j: 3\n",
      "i: 3, j: 4\n",
      "\n",
      "i: 5, j: 0\n",
      "i: 5, j: 1\n",
      "i: 5, j: 2\n",
      "i: 5, j: 3\n",
      "i: 5, j: 4\n",
      "\n",
      "i: 7, j: 0\n",
      "i: 7, j: 1\n",
      "i: 7, j: 2\n",
      "i: 7, j: 3\n",
      "i: 7, j: 4\n",
      "\n",
      "i: 9, j: 0\n",
      "i: 9, j: 1\n",
      "i: 9, j: 2\n",
      "i: 9, j: 3\n",
      "i: 9, j: 4\n",
      "\n"
     ]
    }
   ],
   "source": [
    "for i in range(10):\n",
    "    # i = 0\n",
    "    if i % 2 == 0:\n",
    "        continue\n",
    "    for j in range(5):\n",
    "           print(f\"i: {i}, j: {j}\")\n",
    "    print()"
   ]
  },
  {
   "cell_type": "code",
   "execution_count": 20,
   "id": "f9230656",
   "metadata": {},
   "outputs": [
    {
     "ename": "ValueError",
     "evalue": "invalid literal for int() with base 10: ''",
     "output_type": "error",
     "traceback": [
      "\u001b[31m---------------------------------------------------------------------------\u001b[39m",
      "\u001b[31mValueError\u001b[39m                                Traceback (most recent call last)",
      "\u001b[36mCell\u001b[39m\u001b[36m \u001b[39m\u001b[32mIn[20]\u001b[39m\u001b[32m, line 1\u001b[39m\n\u001b[32m----> \u001b[39m\u001b[32m1\u001b[39m n = \u001b[38;5;28;43mint\u001b[39;49m\u001b[43m(\u001b[49m\u001b[38;5;28;43minput\u001b[39;49m\u001b[43m(\u001b[49m\u001b[43m)\u001b[49m\u001b[43m)\u001b[49m\n\u001b[32m      3\u001b[39m \u001b[38;5;28;01mfor\u001b[39;00m i \u001b[38;5;129;01min\u001b[39;00m \u001b[38;5;28mrange\u001b[39m(N):\n\u001b[32m      4\u001b[39m    \u001b[38;5;28;01mfor\u001b[39;00m k \u001b[38;5;129;01min\u001b[39;00m \u001b[38;5;28mrange\u001b[39m(\u001b[32m9\u001b[39m):\n\u001b[32m      5\u001b[39m       \u001b[38;5;66;03m#print(f\"{i} * {k} = \",{i}*{k})\u001b[39;00m\n",
      "\u001b[31mValueError\u001b[39m: invalid literal for int() with base 10: ''"
     ]
    }
   ],
   "source": [
    "n = int(input())\n",
    "\n",
    "for i in range(N):\n",
    "   for k in range(9):\n",
    "      #print(f\"{i} * {k} = \",{i}*{k})\n",
    "      print (f\"{i} * {k}\")\n",
    "      if k >9 :\n",
    "       break"
   ]
  }
 ],
 "metadata": {
  "kernelspec": {
   "display_name": "Python 3",
   "language": "python",
   "name": "python3"
  },
  "language_info": {
   "codemirror_mode": {
    "name": "ipython",
    "version": 3
   },
   "file_extension": ".py",
   "mimetype": "text/x-python",
   "name": "python",
   "nbconvert_exporter": "python",
   "pygments_lexer": "ipython3",
   "version": "3.13.5"
  }
 },
 "nbformat": 4,
 "nbformat_minor": 5
}
