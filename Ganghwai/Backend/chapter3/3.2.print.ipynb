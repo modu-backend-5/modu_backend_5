{
 "cells": [
  {
   "cell_type": "code",
   "execution_count": 5,
   "id": "8f0b2784",
   "metadata": {},
   "outputs": [
    {
     "name": "stdout",
     "output_type": "stream",
     "text": [
      "출력합니다.\n",
      "출력합니다.\n"
     ]
    }
   ],
   "source": [
    "print('출력합니다.')\n",
    "print('출력합니다.')"
   ]
  },
  {
   "cell_type": "code",
   "execution_count": 4,
   "id": "6a26a71c",
   "metadata": {},
   "outputs": [
    {
     "name": "stdout",
     "output_type": "stream",
     "text": [
      "출력합니다. 출력합니다.\n"
     ]
    }
   ],
   "source": [
    "print('출력합니다.', '출력합니다.')"
   ]
  },
  {
   "cell_type": "code",
   "execution_count": 3,
   "id": "4bd20173",
   "metadata": {},
   "outputs": [
    {
     "name": "stdout",
     "output_type": "stream",
     "text": [
      "출력합니다.\n"
     ]
    }
   ],
   "source": [
    "print('출력합니다.')"
   ]
  },
  {
   "cell_type": "code",
   "execution_count": 2,
   "id": "873736eb",
   "metadata": {},
   "outputs": [
    {
     "data": {
      "text/plain": [
       "'마지막 라인에 있는 변수, 친구들은 jupyter 노트북에 자동으로 출력해줍니다'"
      ]
     },
     "execution_count": 2,
     "metadata": {},
     "output_type": "execute_result"
    }
   ],
   "source": [
    "'마지막 라인에 있는 변수, 친구들은 jupyter 노트북에 자동으로 출력해줍니다'"
   ]
  }
 ],
 "metadata": {
  "kernelspec": {
   "display_name": "Python 3",
   "language": "python",
   "name": "python3"
  },
  "language_info": {
   "codemirror_mode": {
    "name": "ipython",
    "version": 3
   },
   "file_extension": ".py",
   "mimetype": "text/x-python",
   "name": "python",
   "nbconvert_exporter": "python",
   "pygments_lexer": "ipython3",
   "version": "3.13.5"
  }
 },
 "nbformat": 4,
 "nbformat_minor": 5
}
