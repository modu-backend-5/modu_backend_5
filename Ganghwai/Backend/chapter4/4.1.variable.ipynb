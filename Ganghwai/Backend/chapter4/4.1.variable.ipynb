{
 "cells": [
  {
   "cell_type": "code",
   "execution_count": 13,
   "id": "fc8247f3",
   "metadata": {},
   "outputs": [
    {
     "data": {
      "text/plain": [
       "'gyeonghwangyeonghwan'"
      ]
     },
     "execution_count": 13,
     "metadata": {},
     "output_type": "execute_result"
    }
   ],
   "source": [
    "name + name"
   ]
  },
  {
   "cell_type": "code",
   "execution_count": 11,
   "id": "be98452f",
   "metadata": {},
   "outputs": [
    {
     "data": {
      "text/plain": [
       "int"
      ]
     },
     "execution_count": 11,
     "metadata": {},
     "output_type": "execute_result"
    }
   ],
   "source": [
    "type(name)\n",
    "type(age)"
   ]
  },
  {
   "cell_type": "code",
   "execution_count": 10,
   "id": "82c3131f",
   "metadata": {},
   "outputs": [
    {
     "name": "stdout",
     "output_type": "stream",
     "text": [
      "gyeonghwan 24 male\n"
     ]
    }
   ],
   "source": [
    "name = 'gyeonghwan'\n",
    "age = 24\n",
    "gender = \"male\"\n",
    "print(name , age , gender)"
   ]
  },
  {
   "cell_type": "code",
   "execution_count": 6,
   "id": "82ca210e",
   "metadata": {},
   "outputs": [],
   "source": [
    "age_Benny_2 = 33"
   ]
  },
  {
   "cell_type": "code",
   "execution_count": 4,
   "id": "68f456b1",
   "metadata": {},
   "outputs": [],
   "source": [
    "age = 33\n",
    "name = \"Benny\""
   ]
  },
  {
   "cell_type": "code",
   "execution_count": 5,
   "id": "f65aa166",
   "metadata": {},
   "outputs": [
    {
     "name": "stdout",
     "output_type": "stream",
     "text": [
      "33 Benny\n"
     ]
    }
   ],
   "source": [
    "print(age, name)"
   ]
  }
 ],
 "metadata": {
  "kernelspec": {
   "display_name": "Python 3",
   "language": "python",
   "name": "python3"
  },
  "language_info": {
   "codemirror_mode": {
    "name": "ipython",
    "version": 3
   },
   "file_extension": ".py",
   "mimetype": "text/x-python",
   "name": "python",
   "nbconvert_exporter": "python",
   "pygments_lexer": "ipython3",
   "version": "3.13.5"
  }
 },
 "nbformat": 4,
 "nbformat_minor": 5
}
