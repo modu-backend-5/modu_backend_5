{
 "cells": [
  {
   "cell_type": "markdown",
   "id": "78a73e69",
   "metadata": {},
   "source": [
    "# 1. 변수란?\n",
    "## 1.1 변수는 가리키는 것"
   ]
  },
  {
   "cell_type": "code",
   "execution_count": 1,
   "id": "75bf3313",
   "metadata": {},
   "outputs": [
    {
     "name": "stdout",
     "output_type": "stream",
     "text": [
      "Licat 30\n"
     ]
    }
   ],
   "source": [
    "name = 'Licat'\n",
    "age = 30\n",
    "print(name, age)"
   ]
  },
  {
   "cell_type": "code",
   "execution_count": 3,
   "id": "929b30ed",
   "metadata": {},
   "outputs": [
    {
     "name": "stdout",
     "output_type": "stream",
     "text": [
      "10 10 10\n"
     ]
    },
    {
     "data": {
      "text/plain": [
       "(140725616264392, 140725616264392, 140725616264392)"
      ]
     },
     "execution_count": 3,
     "metadata": {},
     "output_type": "execute_result"
    }
   ],
   "source": [
    "x = 10\n",
    "y = x\n",
    "z = y\n",
    "print(x, y, z)\n",
    "id(x), id(y), id(z)"
   ]
  },
  {
   "cell_type": "code",
   "execution_count": 4,
   "id": "bd84b3d9",
   "metadata": {},
   "outputs": [
    {
     "data": {
      "text/plain": [
       "(140725616264392, 140725616264392, 140725616264392)"
      ]
     },
     "execution_count": 4,
     "metadata": {},
     "output_type": "execute_result"
    }
   ],
   "source": [
    "x = 10\n",
    "y = 10\n",
    "z = 10\n",
    "id(x), id(y), id(z)"
   ]
  },
  {
   "cell_type": "code",
   "execution_count": 5,
   "id": "30cf1d3f",
   "metadata": {},
   "outputs": [
    {
     "data": {
      "text/plain": [
       "(140725616264712, 140725616264392, 140725616264392)"
      ]
     },
     "execution_count": 5,
     "metadata": {},
     "output_type": "execute_result"
    }
   ],
   "source": [
    "x = 10\n",
    "y = x\n",
    "z = y\n",
    "x = 20\n",
    "id(x), id(y), id(z)"
   ]
  },
  {
   "cell_type": "code",
   "execution_count": 6,
   "id": "0f783bf7",
   "metadata": {},
   "outputs": [],
   "source": [
    "asb = 10\n",
    "ASB = 20\n",
    "ASB1 = 30\n",
    "asb_ASB = 40\n",
    "_asb = 50"
   ]
  },
  {
   "cell_type": "code",
   "execution_count": 7,
   "id": "966f6b3b",
   "metadata": {},
   "outputs": [
    {
     "name": "stdout",
     "output_type": "stream",
     "text": [
      "['False', 'None', 'True', 'and', 'as', 'assert', 'async', 'await', 'break', 'class', 'continue', 'def', 'del', 'elif', 'else', 'except', 'finally', 'for', 'from', 'global', 'if', 'import', 'in', 'is', 'lambda', 'nonlocal', 'not', 'or', 'pass', 'raise', 'return', 'try', 'while', 'with', 'yield']\n"
     ]
    }
   ],
   "source": [
    "import keyword\n",
    "\n",
    "print(keyword.kwlist)"
   ]
  },
  {
   "cell_type": "code",
   "execution_count": null,
   "id": "f4aa8e31",
   "metadata": {},
   "outputs": [
    {
     "name": "stdout",
     "output_type": "stream",
     "text": [
      "jun1 Jun2 JUN3\n"
     ]
    }
   ],
   "source": [
    "name = 'jun1' # 관습 0\n",
    "Name = 'Jun2' # 관습 X\n",
    "NAME = 'JUN3' # 관습 X\n",
    "print(name, Name, NAME)"
   ]
  },
  {
   "cell_type": "code",
   "execution_count": 12,
   "id": "80f4270a",
   "metadata": {},
   "outputs": [
    {
     "name": "stdout",
     "output_type": "stream",
     "text": [
      "안녕하세요\n",
      "안녕하세요\n",
      "안녕하세요\n",
      "안녕하세요\n",
      "안녕하세요\n",
      "안녕하세요\n",
      "안녕하세요\n",
      "안녕하세요\n",
      "안녕하세요\n",
      "안녕하세요\n"
     ]
    }
   ],
   "source": [
    "for i in range(10):\n",
    "    print(\"안녕하세요\")"
   ]
  },
  {
   "cell_type": "code",
   "execution_count": 14,
   "id": "38fd0da5",
   "metadata": {},
   "outputs": [],
   "source": [
    "class BlogPost:\n",
    "    pass\n",
    "my_name = \"내 이름\""
   ]
  },
  {
   "cell_type": "code",
   "execution_count": 15,
   "id": "6eb85cdf",
   "metadata": {},
   "outputs": [
    {
     "name": "stdout",
     "output_type": "stream",
     "text": [
      "<class 'int'>\n",
      "20\n",
      "<class 'str'>\n",
      "licatlicat\n"
     ]
    }
   ],
   "source": [
    "age = 10\n",
    "print(type(age)) # 출력: <class 'int'>\n",
    "print(age + age)\n",
    "\n",
    "\n",
    "name = \"licat\"\n",
    "print(type(name)) # 출력: <class 'str'>\n",
    "print(name + name)"
   ]
  },
  {
   "cell_type": "code",
   "execution_count": 16,
   "id": "83c8b1bc",
   "metadata": {},
   "outputs": [
    {
     "name": "stdout",
     "output_type": "stream",
     "text": [
      "10 licat\n"
     ]
    }
   ],
   "source": [
    "x: int = 10\n",
    "y: str = 'licat'\n",
    "print(x, y)"
   ]
  },
  {
   "cell_type": "code",
   "execution_count": 18,
   "id": "bd2a8847",
   "metadata": {},
   "outputs": [
    {
     "name": "stdout",
     "output_type": "stream",
     "text": [
      "<class 'int'>\n",
      "['__abs__', '__add__', '__and__', '__bool__', '__ceil__', '__class__', '__delattr__', '__dir__', '__divmod__', '__doc__', '__eq__', '__float__', '__floor__', '__floordiv__', '__format__', '__ge__', '__getattribute__', '__getnewargs__', '__getstate__', '__gt__', '__hash__', '__index__', '__init__', '__init_subclass__', '__int__', '__invert__', '__le__', '__lshift__', '__lt__', '__mod__', '__mul__', '__ne__', '__neg__', '__new__', '__or__', '__pos__', '__pow__', '__radd__', '__rand__', '__rdivmod__', '__reduce__', '__reduce_ex__', '__repr__', '__rfloordiv__', '__rlshift__', '__rmod__', '__rmul__', '__ror__', '__round__', '__rpow__', '__rrshift__', '__rshift__', '__rsub__', '__rtruediv__', '__rxor__', '__setattr__', '__sizeof__', '__str__', '__sub__', '__subclasshook__', '__truediv__', '__trunc__', '__xor__', 'as_integer_ratio', 'bit_count', 'bit_length', 'conjugate', 'denominator', 'from_bytes', 'imag', 'is_integer', 'numerator', 'real', 'to_bytes']\n"
     ]
    },
    {
     "data": {
      "text/plain": [
       "(10, 1)"
      ]
     },
     "execution_count": 18,
     "metadata": {},
     "output_type": "execute_result"
    }
   ],
   "source": [
    "x = 10\n",
    "print(type(x))\n",
    "print(dir(x))\n",
    "x.as_integer_ratio()"
   ]
  },
  {
   "cell_type": "code",
   "execution_count": 19,
   "id": "aaf3818a",
   "metadata": {},
   "outputs": [
    {
     "name": "stdout",
     "output_type": "stream",
     "text": [
      "10\n",
      "20\n",
      "Hello\n"
     ]
    }
   ],
   "source": [
    "x = 10\n",
    "print(x)  # 출력: 10\n",
    " \n",
    "x = 20\n",
    "print(x)  # 출력: 20\n",
    " \n",
    "x = \"Hello\"\n",
    "print(x)  # 출력: Hello"
   ]
  },
  {
   "cell_type": "markdown",
   "id": "36339c2e",
   "metadata": {},
   "source": [
    "# 1. 정수란?\n",
    "## 1.1 정수 타입의 변수 생성"
   ]
  },
  {
   "cell_type": "code",
   "execution_count": 1,
   "id": "1ec399f3",
   "metadata": {},
   "outputs": [
    {
     "name": "stdout",
     "output_type": "stream",
     "text": [
      "<class 'int'> <class 'int'> <class 'int'>\n"
     ]
    }
   ],
   "source": [
    "x = 10\n",
    "y = -5\n",
    "z = 0\n",
    "print(type(x), type(y), type(z))"
   ]
  },
  {
   "cell_type": "code",
   "execution_count": 2,
   "id": "3a7167c0",
   "metadata": {},
   "outputs": [
    {
     "name": "stdout",
     "output_type": "stream",
     "text": [
      "30\n"
     ]
    }
   ],
   "source": [
    "x = 10\n",
    "y = 20 # 음수도 넣어보세요.\n",
    "result = x + y\n",
    "print(result) # 출력 : 30"
   ]
  },
  {
   "cell_type": "code",
   "execution_count": 3,
   "id": "59609836",
   "metadata": {},
   "outputs": [
    {
     "name": "stdout",
     "output_type": "stream",
     "text": [
      "-10\n"
     ]
    }
   ],
   "source": [
    "x = 10\n",
    "y = 20 # 음수도 넣어보세요.\n",
    "result = x - y\n",
    "print(result) # 출력 : -10"
   ]
  },
  {
   "cell_type": "code",
   "execution_count": 4,
   "id": "f8b380fe",
   "metadata": {},
   "outputs": [
    {
     "name": "stdout",
     "output_type": "stream",
     "text": [
      "200\n"
     ]
    }
   ],
   "source": [
    "x = 10 # 음수도 넣어보세요.\n",
    "y = 20 # 음수도 넣어보세요.\n",
    "result = x * y\n",
    "print(result) # 출력 : 200"
   ]
  },
  {
   "cell_type": "code",
   "execution_count": 6,
   "id": "89e497a7",
   "metadata": {},
   "outputs": [
    {
     "name": "stdout",
     "output_type": "stream",
     "text": [
      "0.5 0\n"
     ]
    }
   ],
   "source": [
    "x = 10\n",
    "y = 20\n",
    "result1 = x / y\n",
    "result2 = x // y\n",
    "print(result1, result2) # 출력"
   ]
  },
  {
   "cell_type": "markdown",
   "id": "a84cece4",
   "metadata": {},
   "source": [
    "# 2. 진수"
   ]
  },
  {
   "cell_type": "code",
   "execution_count": 7,
   "id": "568203e5",
   "metadata": {},
   "outputs": [
    {
     "name": "stdout",
     "output_type": "stream",
     "text": [
      "731 6\n"
     ]
    }
   ],
   "source": [
    "# 10진수 731 이라는 숫자는\n",
    "# (7 * 10^2) + (3 * 10^1) + (1 * 10^0)이며\n",
    "# 이는 10진수로 731입니다.\n",
    "\n",
    "\n",
    "# 2진수  110 이라는 숫자는\n",
    "# (1 * 2^2) + (1 * 2^1) + (0 * 2^0)이며\n",
    "# 이는 10진수로 6입니다.\n",
    "\n",
    "\n",
    "x = 731\n",
    "y = 0b110\n",
    "print(x, y)"
   ]
  },
  {
   "cell_type": "code",
   "execution_count": 9,
   "id": "df391464",
   "metadata": {},
   "outputs": [
    {
     "name": "stdout",
     "output_type": "stream",
     "text": [
      "13\n",
      "<class 'int'>\n"
     ]
    }
   ],
   "source": [
    "x = 0o15\n",
    "print(x)\n",
    "print(type(x))"
   ]
  },
  {
   "cell_type": "code",
   "execution_count": null,
   "id": "358242f5",
   "metadata": {},
   "outputs": [
    {
     "name": "stdout",
     "output_type": "stream",
     "text": [
      "140725616272264 140725616272264\n"
     ]
    }
   ],
   "source": [
    "x = 256\n",
    "y = 256\n",
    " \n",
    "print(id(x), id(y)) # 출력 : 138041748299984 138041748299984"
   ]
  },
  {
   "cell_type": "code",
   "execution_count": 12,
   "id": "f275724e",
   "metadata": {},
   "outputs": [
    {
     "name": "stdout",
     "output_type": "stream",
     "text": [
      "2788088021552 2788088022192\n"
     ]
    }
   ],
   "source": [
    "x = 257\n",
    "y = 257\n",
    " \n",
    "print(id(x), id(y))"
   ]
  },
  {
   "cell_type": "markdown",
   "id": "63d52315",
   "metadata": {},
   "source": [
    "\n",
    "# 실수 자료형"
   ]
  },
  {
   "cell_type": "code",
   "execution_count": 14,
   "id": "096a2684",
   "metadata": {},
   "outputs": [
    {
     "name": "stdout",
     "output_type": "stream",
     "text": [
      "<class 'float'> <class 'float'> <class 'float'>\n"
     ]
    }
   ],
   "source": [
    "x = 10.0\n",
    "y = -5.0\n",
    "z = 0.0\n",
    "print(type(x), type(y), type(z))"
   ]
  },
  {
   "cell_type": "code",
   "execution_count": null,
   "id": "9340bca3",
   "metadata": {},
   "outputs": [],
   "source": [
    "x = 10.0\n",
    "y = 2\n",
    "result = x * y\n",
    "print()"
   ]
  },
  {
   "cell_type": "code",
   "execution_count": 17,
   "id": "3048f3ac",
   "metadata": {},
   "outputs": [
    {
     "name": "stdout",
     "output_type": "stream",
     "text": [
      "0.3\n"
     ]
    }
   ],
   "source": [
    "x = 0.1\n",
    "y = 0.2\n",
    "x *= 10\n",
    "y *= 10\n",
    "result = x + y\n",
    "result /= 10\n",
    "print(result)"
   ]
  },
  {
   "cell_type": "markdown",
   "id": "0b77c043",
   "metadata": {},
   "source": [
    "# 문자열 자료형"
   ]
  },
  {
   "cell_type": "markdown",
   "id": "d3beb4fd",
   "metadata": {},
   "source": [
    "## 1. 문자열 자료형이란?"
   ]
  },
  {
   "cell_type": "code",
   "execution_count": 18,
   "id": "59a121e7",
   "metadata": {},
   "outputs": [
    {
     "name": "stdout",
     "output_type": "stream",
     "text": [
      "<class 'str'> <class 'str'>\n"
     ]
    }
   ],
   "source": [
    "x = 'hello'\n",
    "y = \"python\"\n",
    "print(type(x), type(y))"
   ]
  },
  {
   "cell_type": "code",
   "execution_count": 19,
   "id": "b841b6dc",
   "metadata": {},
   "outputs": [
    {
     "name": "stdout",
     "output_type": "stream",
     "text": [
      "안녕하세요.\n",
      "저는 위니브의 대표 이호준입니다.\n",
      "파이썬 참 좋아요.\n",
      "여러분 정말 잘 선택하셨어요.\n",
      "\n",
      "안녕하세요.\n",
      "저는 위니브의 대표 이호준입니다.\n",
      "파이썬 참 좋아요.\n",
      "여러분 정말 잘 선택하셨어요.\n",
      "\n"
     ]
    }
   ],
   "source": [
    "i = '''안녕하세요.\n",
    "저는 위니브의 대표 이호준입니다.\n",
    "파이썬 참 좋아요.\n",
    "여러분 정말 잘 선택하셨어요.\n",
    "'''\n",
    "\n",
    "\n",
    "j = \"\"\"안녕하세요.\n",
    "저는 위니브의 대표 이호준입니다.\n",
    "파이썬 참 좋아요.\n",
    "여러분 정말 잘 선택하셨어요.\n",
    "\"\"\"\n",
    "\n",
    "\n",
    "print(i)\n",
    "print(j)"
   ]
  },
  {
   "cell_type": "code",
   "execution_count": 21,
   "id": "6409a594",
   "metadata": {},
   "outputs": [
    {
     "name": "stdout",
     "output_type": "stream",
     "text": [
      "안녕하세요\n",
      "저는 위니브의 대표 이호준입니다.\n",
      "파이썬 참 좋아요.\n",
      "여러분 정말 잘 선택하셨어요.\n",
      "안녕하세요\n",
      "저는 위니브의 직원 황병헌입니다.\n"
     ]
    }
   ],
   "source": [
    "imsi_str = '안녕하세요\\n저는 위니브의 대표 이호준입니다.\\n파이썬 참 좋아요.\\n여러분 정말 잘 선택하셨어요.'\n",
    "print(imsi_str)\n",
    "print(\"안녕하세요\")\n",
    "print(\"저는 위니브의 직원 황병헌입니다.\")"
   ]
  },
  {
   "cell_type": "code",
   "execution_count": 22,
   "id": "d66dc3ab",
   "metadata": {},
   "outputs": [
    {
     "name": "stdout",
     "output_type": "stream",
     "text": [
      "helloworld\n"
     ]
    }
   ],
   "source": [
    "x = 'hello'\n",
    "y = 'world'\n",
    "print(x + y)"
   ]
  },
  {
   "cell_type": "code",
   "execution_count": 23,
   "id": "bdd675be",
   "metadata": {},
   "outputs": [
    {
     "name": "stdout",
     "output_type": "stream",
     "text": [
      "hellohellohello\n"
     ]
    }
   ],
   "source": [
    "x = 'hello'\n",
    "print(x * 3)"
   ]
  },
  {
   "cell_type": "code",
   "execution_count": 24,
   "id": "414e89df",
   "metadata": {},
   "outputs": [
    {
     "name": "stdout",
     "output_type": "stream",
     "text": [
      "위\n",
      "!\n"
     ]
    }
   ],
   "source": [
    "s = '위니브 월드!'\n",
    "print(s[0]) # 출력 : '위'\n",
    "print(s[-1]) # 출력 : '!'"
   ]
  },
  {
   "cell_type": "code",
   "execution_count": 26,
   "id": "cc937fc1",
   "metadata": {},
   "outputs": [
    {
     "ename": "IndexError",
     "evalue": "string index out of range",
     "output_type": "error",
     "traceback": [
      "\u001b[31m---------------------------------------------------------------------------\u001b[39m",
      "\u001b[31mIndexError\u001b[39m                                Traceback (most recent call last)",
      "\u001b[36mCell\u001b[39m\u001b[36m \u001b[39m\u001b[32mIn[26]\u001b[39m\u001b[32m, line 2\u001b[39m\n\u001b[32m      1\u001b[39m s = \u001b[33m'\u001b[39m\u001b[33m위니브 월드!\u001b[39m\u001b[33m'\u001b[39m\n\u001b[32m----> \u001b[39m\u001b[32m2\u001b[39m \u001b[38;5;28mprint\u001b[39m(\u001b[43ms\u001b[49m\u001b[43m[\u001b[49m\u001b[32;43m100\u001b[39;49m\u001b[43m]\u001b[49m)\n",
      "\u001b[31mIndexError\u001b[39m: string index out of range"
     ]
    }
   ],
   "source": [
    "s = '위니브 월드!'\n",
    "print(s[100])"
   ]
  },
  {
   "cell_type": "code",
   "execution_count": 27,
   "id": "54759a49",
   "metadata": {},
   "outputs": [
    {
     "name": "stdout",
     "output_type": "stream",
     "text": [
      "위니브\n"
     ]
    }
   ],
   "source": [
    "s = '위니브 월드!'\n",
    "print(s[0:3])"
   ]
  },
  {
   "cell_type": "code",
   "execution_count": 28,
   "id": "2a779fbc",
   "metadata": {},
   "outputs": [
    {
     "name": "stdout",
     "output_type": "stream",
     "text": [
      "weniv\n",
      "CEO licat\n",
      "weniv CEO licat\n",
      "tacil OEC vinew\n",
      "wnvCOlct\n"
     ]
    }
   ],
   "source": [
    "s = 'weniv CEO licat'\n",
    "print(s[0:5]) # 출력 : weniv # 첫번째 예제\n",
    "print(s[6:]) # 출력 : CEO licat # 두번째 예제\n",
    "print(s[:]) # 출력 : weniv CEO licat # 세번째 예제\n",
    "print(s[::-1]) # 출력 : tacil OEC vinew # 네번째 예제\n",
    "print(s[::2]) # 출력 : wnvCOlct # 다섯번째 예제"
   ]
  },
  {
   "cell_type": "code",
   "execution_count": 30,
   "id": "382d5d1e",
   "metadata": {},
   "outputs": [
    {
     "data": {
      "text/plain": [
       "''"
      ]
     },
     "execution_count": 30,
     "metadata": {},
     "output_type": "execute_result"
    }
   ],
   "source": [
    "s = 'weniv CEO licat'\n",
    "s[19:20] # 출력 : licat"
   ]
  },
  {
   "cell_type": "code",
   "execution_count": 34,
   "id": "e3a688ba",
   "metadata": {},
   "outputs": [
    {
     "name": "stdout",
     "output_type": "stream",
     "text": [
      "6\n",
      "6\n"
     ]
    },
    {
     "data": {
      "text/plain": [
       "'hello world'"
      ]
     },
     "execution_count": 34,
     "metadata": {},
     "output_type": "execute_result"
    }
   ],
   "source": [
    "s = 'weniv CEO licat'\n",
    "s.lower()\n",
    "s.upper()\n",
    "print(s.find(\"CEO\"))\n",
    "print(s.index(\"CEO\"))\n",
    "s.count('i')\n",
    "\n",
    "\n",
    "'    ,!!  hello world   '.strip(' ,!')\n",
    "\n"
   ]
  },
  {
   "cell_type": "code",
   "execution_count": 35,
   "id": "59f4e7aa",
   "metadata": {},
   "outputs": [
    {
     "data": {
      "text/plain": [
       "'weniv CTO licat'"
      ]
     },
     "execution_count": 35,
     "metadata": {},
     "output_type": "execute_result"
    }
   ],
   "source": [
    "s = 'weniv CEO licat'\n",
    "s.replace('CEO', 'CTO')\n"
   ]
  },
  {
   "cell_type": "code",
   "execution_count": 36,
   "id": "8a7ec799",
   "metadata": {},
   "outputs": [
    {
     "data": {
      "text/plain": [
       "'wenIv CEO lIcat'"
      ]
     },
     "execution_count": 36,
     "metadata": {},
     "output_type": "execute_result"
    }
   ],
   "source": [
    "s = 'weniv CEO licat'\n",
    "s.replace('i', 'I') #문자열 내에서 모든 i를 I로 대체할 때 사용하는 메서드"
   ]
  },
  {
   "cell_type": "code",
   "execution_count": 37,
   "id": "0a56d346",
   "metadata": {},
   "outputs": [
    {
     "data": {
      "text/plain": [
       "('wenIv CEO lIcat', 'weniv CEO licat')"
      ]
     },
     "execution_count": 37,
     "metadata": {},
     "output_type": "execute_result"
    }
   ],
   "source": [
    "s = 'weniv CEO licat'\n",
    "ss = s.replace('i', 'I')\n",
    "ss, s # 출력: ('weniv CEO licat', 'wenIv CEO lIcat')"
   ]
  },
  {
   "cell_type": "code",
   "execution_count": 38,
   "id": "2ed25f05",
   "metadata": {},
   "outputs": [
    {
     "data": {
      "text/plain": [
       "['weniv', 'CEO', 'licat']"
      ]
     },
     "execution_count": 38,
     "metadata": {},
     "output_type": "execute_result"
    }
   ],
   "source": [
    "s = 'weniv-CEO-licat'\n",
    "s.split('-') #-을 기준으로 문자열 나누기"
   ]
  },
  {
   "cell_type": "code",
   "execution_count": 39,
   "id": "0221b731",
   "metadata": {},
   "outputs": [
    {
     "data": {
      "text/plain": [
       "'weniv-CEO-licat'"
      ]
     },
     "execution_count": 39,
     "metadata": {},
     "output_type": "execute_result"
    }
   ],
   "source": [
    "s = ['weniv', 'CEO', 'licat']\n",
    "'-'.join(s) #리스트를 하나의 문자열로 합치기"
   ]
  },
  {
   "cell_type": "markdown",
   "id": "e28e11ee",
   "metadata": {},
   "source": [
    "# 3.8 문자열 검사 메서드"
   ]
  },
  {
   "cell_type": "code",
   "execution_count": 40,
   "id": "17224ef7",
   "metadata": {},
   "outputs": [
    {
     "data": {
      "text/plain": [
       "True"
      ]
     },
     "execution_count": 40,
     "metadata": {},
     "output_type": "execute_result"
    }
   ],
   "source": [
    "'abcd1234'.isalnum() # 출력: True\n",
    "'abcd1234!'.isalnum() # 출력: False\n",
    "'안녕하세요'.isalnum() # 출력: True\n",
    "'こんにちは'.isalnum() # 출력: True\n",
    "'你好'.isalnum() # 출력: True"
   ]
  },
  {
   "cell_type": "code",
   "execution_count": 42,
   "id": "fedac1a2",
   "metadata": {},
   "outputs": [
    {
     "data": {
      "text/plain": [
       "True"
      ]
     },
     "execution_count": 42,
     "metadata": {},
     "output_type": "execute_result"
    }
   ],
   "source": [
    "s = '1231'\n",
    "s.isdigit()"
   ]
  },
  {
   "cell_type": "code",
   "execution_count": 44,
   "id": "e39a5140",
   "metadata": {},
   "outputs": [
    {
     "name": "stdout",
     "output_type": "stream",
     "text": [
      "False\n",
      "True\n",
      "True\n",
      "True\n",
      "False\n",
      "True\n"
     ]
    }
   ],
   "source": [
    "print('abcd1234'.isalpha()) # 출력: False\n",
    "print('안녕하세요'.isalpha()) # 출력: True\n",
    "print('こんにちは'.isalpha()) # 출력: True\n",
    "print('你好'.isalpha()) # 출력: True\n",
    "print('hello world'.isalpha()) # 출력: False\n",
    "print('helloworld'.isalpha()) # 출력: True"
   ]
  },
  {
   "cell_type": "code",
   "execution_count": 45,
   "id": "abdedc0f",
   "metadata": {},
   "outputs": [
    {
     "name": "stdout",
     "output_type": "stream",
     "text": [
      "False\n",
      "True\n",
      "True\n",
      "True\n"
     ]
    }
   ],
   "source": [
    "print('안녕'.isascii()) # 출력: False\n",
    "print('!@ ()+'.isascii()) # 출력: True\n",
    "print('hello'.isascii()) # 출력: True\n",
    "print('hello world'.isascii()) # 출력: True"
   ]
  },
  {
   "cell_type": "code",
   "execution_count": 47,
   "id": "b6a3780d",
   "metadata": {},
   "outputs": [
    {
     "name": "stdout",
     "output_type": "stream",
     "text": [
      "     licat\n",
      "-----licat\n"
     ]
    }
   ],
   "source": [
    "s = 'licat'\n",
    "print(s.rjust(10))\n",
    "print(s.rjust(10, '-')) #문자열을 지정한 길이로 맞추고, 오른쪽을 '-'로 채우는 메서드"
   ]
  },
  {
   "cell_type": "code",
   "execution_count": 48,
   "id": "1d97d023",
   "metadata": {},
   "outputs": [
    {
     "data": {
      "text/plain": [
       "'---licat---'"
      ]
     },
     "execution_count": 48,
     "metadata": {},
     "output_type": "execute_result"
    }
   ],
   "source": [
    "s = 'licat'\n",
    "s.center(11, '-') #문자열을 지정한 길이로 맞추고, 양쪽을 '-'로 채우는 메서드"
   ]
  },
  {
   "cell_type": "code",
   "execution_count": 49,
   "id": "2f4a8f86",
   "metadata": {},
   "outputs": [
    {
     "data": {
      "text/plain": [
       "'licat'"
      ]
     },
     "execution_count": 49,
     "metadata": {},
     "output_type": "execute_result"
    }
   ],
   "source": [
    "s = 'licat'\n",
    "s.center(3, '-')"
   ]
  },
  {
   "cell_type": "code",
   "execution_count": 50,
   "id": "c6ae83a6",
   "metadata": {},
   "outputs": [
    {
     "name": "stdout",
     "output_type": "stream",
     "text": [
      "00042\n"
     ]
    }
   ],
   "source": [
    "x = \"42\"\n",
    "result = x.zfill(5)\n",
    "print(result)  # 00042"
   ]
  },
  {
   "cell_type": "code",
   "execution_count": 51,
   "id": "290b29b6",
   "metadata": {},
   "outputs": [
    {
     "name": "stdout",
     "output_type": "stream",
     "text": [
      "-0042\n"
     ]
    }
   ],
   "source": [
    "y = \"-42\"\n",
    "result = y.zfill(5)\n",
    "print(result)  # -0042"
   ]
  },
  {
   "cell_type": "code",
   "execution_count": 53,
   "id": "12f35ccc",
   "metadata": {},
   "outputs": [
    {
     "name": "stdout",
     "output_type": "stream",
     "text": [
      "001.jpg\n",
      "002.jpg\n",
      "003.jpg\n",
      "004.jpg\n",
      "005.jpg\n",
      "006.jpg\n",
      "007.jpg\n",
      "008.jpg\n",
      "009.jpg\n",
      "010.jpg\n",
      "011.jpg\n",
      "012.jpg\n",
      "013.jpg\n",
      "014.jpg\n",
      "015.jpg\n",
      "016.jpg\n",
      "017.jpg\n",
      "018.jpg\n",
      "019.jpg\n",
      "020.jpg\n",
      "021.jpg\n",
      "022.jpg\n",
      "023.jpg\n",
      "024.jpg\n",
      "025.jpg\n",
      "026.jpg\n",
      "027.jpg\n",
      "028.jpg\n",
      "029.jpg\n",
      "030.jpg\n",
      "031.jpg\n",
      "032.jpg\n",
      "033.jpg\n",
      "034.jpg\n",
      "035.jpg\n",
      "036.jpg\n",
      "037.jpg\n",
      "038.jpg\n",
      "039.jpg\n",
      "040.jpg\n",
      "041.jpg\n",
      "042.jpg\n",
      "043.jpg\n",
      "044.jpg\n",
      "045.jpg\n",
      "046.jpg\n",
      "047.jpg\n",
      "048.jpg\n",
      "049.jpg\n",
      "050.jpg\n",
      "051.jpg\n",
      "052.jpg\n",
      "053.jpg\n",
      "054.jpg\n",
      "055.jpg\n",
      "056.jpg\n",
      "057.jpg\n",
      "058.jpg\n",
      "059.jpg\n",
      "060.jpg\n",
      "061.jpg\n",
      "062.jpg\n",
      "063.jpg\n",
      "064.jpg\n",
      "065.jpg\n",
      "066.jpg\n",
      "067.jpg\n",
      "068.jpg\n",
      "069.jpg\n",
      "070.jpg\n",
      "071.jpg\n",
      "072.jpg\n",
      "073.jpg\n",
      "074.jpg\n",
      "075.jpg\n",
      "076.jpg\n",
      "077.jpg\n",
      "078.jpg\n",
      "079.jpg\n",
      "080.jpg\n",
      "081.jpg\n",
      "082.jpg\n",
      "083.jpg\n",
      "084.jpg\n",
      "085.jpg\n",
      "086.jpg\n",
      "087.jpg\n",
      "088.jpg\n",
      "089.jpg\n",
      "090.jpg\n",
      "091.jpg\n",
      "092.jpg\n",
      "093.jpg\n",
      "094.jpg\n",
      "095.jpg\n",
      "096.jpg\n",
      "097.jpg\n",
      "098.jpg\n",
      "099.jpg\n",
      "100.jpg\n"
     ]
    }
   ],
   "source": [
    "for i in range(1, 101):\n",
    "    filename = str(i).zfill(3) + \".jpg\"\n",
    "    print(filename)"
   ]
  },
  {
   "cell_type": "code",
   "execution_count": 52,
   "id": "872923a8",
   "metadata": {},
   "outputs": [
    {
     "name": "stdout",
     "output_type": "stream",
     "text": [
      "2398\n",
      "230908\n"
     ]
    }
   ],
   "source": [
    "년 = '23'\n",
    "월 = '9'\n",
    "일 = '8'\n",
    "오늘날짜 = 년 + 월 + 일\n",
    "print(오늘날짜)\n",
    "오늘날짜 = 년 + 월.zfill(2) + 일.zfill(2)\n",
    "print(오늘날짜)"
   ]
  },
  {
   "cell_type": "code",
   "execution_count": 54,
   "id": "2f8308ed",
   "metadata": {},
   "outputs": [
    {
     "name": "stdout",
     "output_type": "stream",
     "text": [
      "Hello\n",
      "World!\n",
      "Hello\tWorld!\n",
      "She said, \"Hello World!\"\n",
      "She said, 'Hello World!'\n",
      "Backslash: \\\n"
     ]
    }
   ],
   "source": [
    "print(\"Hello\\nWorld!\") # Hello와 World! 사이에 줄바꿈이 일어납니다.\n",
    "print(\"Hello\\tWorld!\") # Hello와 World! 사이에 탭 간격이 생깁니다.\n",
    "print(\"She said, \\\"Hello World!\\\"\") # 큰따옴표 내부에 문자열을 출력합니다.\n",
    "print('She said, \\'Hello World!\\'') # 작은따옴표 내부에 문자열을 출력합니다.\n",
    "print(\"Backslash: \\\\\") # 백슬래시를 출력합니다."
   ]
  },
  {
   "cell_type": "markdown",
   "id": "1a400f10",
   "metadata": {},
   "source": [
    "# 논리 자료형"
   ]
  },
  {
   "cell_type": "code",
   "execution_count": 55,
   "id": "6a33f50d",
   "metadata": {},
   "outputs": [
    {
     "name": "stdout",
     "output_type": "stream",
     "text": [
      "True False True\n"
     ]
    }
   ],
   "source": [
    "x = True\n",
    "y = False\n",
    "z = 10 > 3\n",
    "print(x, y, z)"
   ]
  },
  {
   "cell_type": "code",
   "execution_count": 56,
   "id": "d0b6e891",
   "metadata": {},
   "outputs": [
    {
     "name": "stdout",
     "output_type": "stream",
     "text": [
      "True\n",
      "True\n"
     ]
    }
   ],
   "source": [
    "print(True == 1) # 출력: True\n",
    "print(False == 0) # 출력: True"
   ]
  },
  {
   "cell_type": "code",
   "execution_count": 57,
   "id": "2b31cd77",
   "metadata": {},
   "outputs": [
    {
     "name": "stdout",
     "output_type": "stream",
     "text": [
      "2\n",
      "-1\n",
      "1.0\n",
      "0\n"
     ]
    }
   ],
   "source": [
    "print(True + True) # 출력: 2\n",
    "print(False - True) # 출력: -1\n",
    "print(True / True) # 출력: 1.0\n",
    "print(True * False) # 출력: 0\n",
    "# print(True / False) # error"
   ]
  },
  {
   "cell_type": "code",
   "execution_count": 58,
   "id": "99feecea",
   "metadata": {},
   "outputs": [
    {
     "name": "stdout",
     "output_type": "stream",
     "text": [
      "True False\n",
      "True False\n",
      "e\n",
      "v\n",
      "w\n",
      "True\n"
     ]
    },
    {
     "name": "stderr",
     "output_type": "stream",
     "text": [
      "<>:1: SyntaxWarning: \"is\" with 'int' literal. Did you mean \"==\"?\n",
      "<>:2: SyntaxWarning: \"is\" with 'int' literal. Did you mean \"==\"?\n",
      "C:\\Users\\kt438\\AppData\\Local\\Temp\\ipykernel_26188\\1320127627.py:1: SyntaxWarning: \"is\" with 'int' literal. Did you mean \"==\"?\n",
      "  print(1 == True, 1 is True) # 출력: True, False\n",
      "C:\\Users\\kt438\\AppData\\Local\\Temp\\ipykernel_26188\\1320127627.py:2: SyntaxWarning: \"is\" with 'int' literal. Did you mean \"==\"?\n",
      "  print(0 == False, 0 is False) # 출력: True, False\n"
     ]
    }
   ],
   "source": [
    "print(1 == True, 1 is True) # 출력: True, False\n",
    "print(0 == False, 0 is False) # 출력: True, False\n",
    "print('weniv'[True]) # 출력: e\n",
    "print('weniv'[-True]) # 출력: v\n",
    "print('weniv'[False]) # 출력: w\n",
    "print(issubclass(bool, int)) # 부모, 자식 관계 출력: True"
   ]
  },
  {
   "cell_type": "markdown",
   "id": "130cc4b5",
   "metadata": {},
   "source": [
    "# None 자료형"
   ]
  },
  {
   "cell_type": "code",
   "execution_count": 59,
   "id": "b4067475",
   "metadata": {},
   "outputs": [
    {
     "name": "stdout",
     "output_type": "stream",
     "text": [
      "None\n"
     ]
    }
   ],
   "source": [
    "x = None\n",
    "print(x)"
   ]
  },
  {
   "cell_type": "code",
   "execution_count": 60,
   "id": "96cfd06e",
   "metadata": {},
   "outputs": [
    {
     "ename": "SyntaxError",
     "evalue": "cannot assign to None (304936782.py, line 3)",
     "output_type": "error",
     "traceback": [
      "  \u001b[36mCell\u001b[39m\u001b[36m \u001b[39m\u001b[32mIn[60]\u001b[39m\u001b[32m, line 3\u001b[39m\n\u001b[31m    \u001b[39m\u001b[31mNone = 10\u001b[39m\n    ^\n\u001b[31mSyntaxError\u001b[39m\u001b[31m:\u001b[39m cannot assign to None\n"
     ]
    }
   ],
   "source": [
    "None + 5\n",
    "None + None\n",
    "None = 10"
   ]
  },
  {
   "cell_type": "code",
   "execution_count": 61,
   "id": "ab363eb9",
   "metadata": {},
   "outputs": [
    {
     "name": "stdout",
     "output_type": "stream",
     "text": [
      "140725615378928 140725615378928\n"
     ]
    }
   ],
   "source": [
    "x = None\n",
    "y = None\n",
    "print(id(x), id(y))"
   ]
  },
  {
   "cell_type": "code",
   "execution_count": 62,
   "id": "4b26d9bd",
   "metadata": {},
   "outputs": [
    {
     "name": "stdout",
     "output_type": "stream",
     "text": [
      "True\n",
      "True\n"
     ]
    }
   ],
   "source": [
    "x = None\n",
    "\n",
    "\n",
    "print(x == None)    # True, 하지만 이 방식은 권장되지 않습니다.\n",
    "print(x is None)    # True, 이 방식을 사용하여 None을 확인하는 것이 좋습니다."
   ]
  },
  {
   "cell_type": "code",
   "execution_count": null,
   "id": "978e0a07",
   "metadata": {},
   "outputs": [
    {
     "name": "stdout",
     "output_type": "stream",
     "text": [
      "True\n",
      "True\n",
      "True\n",
      "False\n"
     ]
    }
   ],
   "source": [
    "class 캐릭터:\n",
    "    # ... 체력, 마력, 공경력, 방어력을 정의하는 수많은 코드 ...\n",
    "    def __eq__(self, other):\n",
    "        return True\n",
    "\n",
    "# 캐릭터 클래스의 인스턴스\n",
    "주인공 = 캐릭터()\n",
    "보스 = 캐릭터()\n",
    "\n",
    "\n",
    "print(주인공 == None)\n",
    "print(주인공 == 100)\n",
    "print(주인공 == 보스)\n",
    "print(주인공 is None)"
   ]
  },
  {
   "cell_type": "code",
   "execution_count": null,
   "id": "4678fc50",
   "metadata": {},
   "outputs": [],
   "source": []
  }
 ],
 "metadata": {
  "kernelspec": {
   "display_name": "Python 3",
   "language": "python",
   "name": "python3"
  },
  "language_info": {
   "codemirror_mode": {
    "name": "ipython",
    "version": 3
   },
   "file_extension": ".py",
   "mimetype": "text/x-python",
   "name": "python",
   "nbconvert_exporter": "python",
   "pygments_lexer": "ipython3",
   "version": "3.13.5"
  }
 },
 "nbformat": 4,
 "nbformat_minor": 5
}
