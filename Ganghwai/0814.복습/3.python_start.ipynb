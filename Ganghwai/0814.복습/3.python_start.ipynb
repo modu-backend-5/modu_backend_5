{
 "cells": [
  {
   "cell_type": "markdown",
   "id": "8bba65bb",
   "metadata": {},
   "source": [
    "# 구글 코랩과 위니북스 사용법"
   ]
  },
  {
   "cell_type": "markdown",
   "id": "3e583e65",
   "metadata": {},
   "source": [
    "# 주석"
   ]
  },
  {
   "cell_type": "code",
   "execution_count": 1,
   "id": "3e3675ff",
   "metadata": {},
   "outputs": [
    {
     "name": "stdout",
     "output_type": "stream",
     "text": [
      "Hello, World 1!\n"
     ]
    }
   ],
   "source": [
    "# 이것은 주석입니다.\n",
    "print('Hello, World 1!') # 이것도 주석입니다.\n",
    "# print('Hello, World 2!')"
   ]
  },
  {
   "cell_type": "code",
   "execution_count": null,
   "id": "45100f3f",
   "metadata": {},
   "outputs": [
    {
     "data": {
      "text/plain": [
       "'\\n여러 줄\\n주석을\\n작성할 수\\n있었습니다.\\n'"
      ]
     },
     "execution_count": 2,
     "metadata": {},
     "output_type": "execute_result"
    }
   ],
   "source": [
    "'''\n",
    "여러 줄\n",
    "주석을\n",
    "작성할 수\n",
    "있었습니다.\n",
    "'''"
   ]
  },
  {
   "cell_type": "code",
   "execution_count": null,
   "id": "b3162fdc",
   "metadata": {},
   "outputs": [
    {
     "data": {
      "text/plain": [
       "\"\\n이것도\\n여러 줄\\n주석이\\n'사용\\n가능했습니다.\\n\""
      ]
     },
     "execution_count": 3,
     "metadata": {},
     "output_type": "execute_result"
    }
   ],
   "source": [
    "\"\"\"\n",
    "이것도\n",
    "여러 줄\n",
    "주석이\n",
    "사용\n",
    "가능했습니다.\n",
    "\"\"\""
   ]
  },
  {
   "cell_type": "code",
   "execution_count": 4,
   "id": "2afb838d",
   "metadata": {},
   "outputs": [
    {
     "name": "stdout",
     "output_type": "stream",
     "text": [
      "benny\n",
      "gyeong\n"
     ]
    }
   ],
   "source": [
    "# 이것은 benny라고 출력하는 코드입니다.\n",
    "print(\"benny\")\n",
    "# 이것은  gyeong 라고 출력하는 코드입니다.\n",
    "print(\"gyeong\")"
   ]
  },
  {
   "cell_type": "code",
   "execution_count": null,
   "id": "d1ab6a99",
   "metadata": {},
   "outputs": [],
   "source": [
    "def add(a, b):\n",
    "    '''\n",
    "    이 함수는 논리 연산을 기반으로 수행됩니다.\n",
    "    '''\n",
    "    return a and b"
   ]
  },
  {
   "cell_type": "markdown",
   "id": "4828379e",
   "metadata": {},
   "source": [
    "# 입력과 출력"
   ]
  },
  {
   "cell_type": "code",
   "execution_count": 7,
   "id": "29d9c854",
   "metadata": {},
   "outputs": [
    {
     "name": "stdout",
     "output_type": "stream",
     "text": [
      "\n",
      "\n"
     ]
    }
   ],
   "source": [
    "age = input('나이를 입력해주세요.')\n",
    "print(age + age)\n",
    "print(age * 2)"
   ]
  },
  {
   "cell_type": "code",
   "execution_count": 9,
   "id": "547afcaa",
   "metadata": {},
   "outputs": [
    {
     "data": {
      "text/plain": [
       "'출력'"
      ]
     },
     "execution_count": 9,
     "metadata": {},
     "output_type": "execute_result"
    }
   ],
   "source": [
    "'출력'\n",
    "'출력'"
   ]
  },
  {
   "cell_type": "code",
   "execution_count": 15,
   "id": "77296a8a",
   "metadata": {},
   "outputs": [
    {
     "name": "stdout",
     "output_type": "stream",
     "text": [
      "hello world !!\n",
      "helloworld!!\n",
      "hello-world-!!\n",
      "hello world !!\n",
      "010-8132-0216???"
     ]
    }
   ],
   "source": [
    "print(\"hello\", \"world\", \"!!\")\n",
    "print(\"hello\", \"world\", \"!!\", sep=\"\")\n",
    "print(\"hello\", \"world\", \"!!\", sep=\"-\")\n",
    "print(\"hello\", \"world\", \"!!\", sep=\" \")\n",
    "print(\"010\", \"8132\", \"0216\", sep=\"-\", end='???')"
   ]
  },
  {
   "cell_type": "code",
   "execution_count": 16,
   "id": "941e3030",
   "metadata": {},
   "outputs": [
    {
     "name": "stdout",
     "output_type": "stream",
     "text": [
      "이름: Licat, 나이: 10\n"
     ]
    }
   ],
   "source": [
    "name = \"Licat\"\n",
    "age = 10\n",
    "print(\"이름: %s, 나이: %d\" % (name, age))"
   ]
  },
  {
   "cell_type": "code",
   "execution_count": null,
   "id": "d01006ad",
   "metadata": {},
   "outputs": [],
   "source": [
    "name = \"Licat\"\n",
    "age = 10\n",
    "print(\"이름: {}, 나이: {}\".format(name, age))"
   ]
  },
  {
   "cell_type": "code",
   "execution_count": 17,
   "id": "dcdc4ff9",
   "metadata": {},
   "outputs": [
    {
     "name": "stdout",
     "output_type": "stream",
     "text": [
      "이름: LicatLicat, 나이: 10\n"
     ]
    }
   ],
   "source": [
    "name = \"Licat\"\n",
    "age = 10\n",
    "print(f\"이름: {name * 2}, 나이: {age}\")"
   ]
  },
  {
   "cell_type": "code",
   "execution_count": 18,
   "id": "74e13047",
   "metadata": {},
   "outputs": [
    {
     "name": "stdout",
     "output_type": "stream",
     "text": [
      "a\n"
     ]
    },
    {
     "data": {
      "text/plain": [
       "b"
      ]
     },
     "execution_count": 18,
     "metadata": {},
     "output_type": "execute_result"
    }
   ],
   "source": [
    "class Character:\n",
    "    def __str__(self):\n",
    "        return 'a'\n",
    "\n",
    "\n",
    "    def __repr__(self):\n",
    "        return 'b'\n",
    "\n",
    "\n",
    "hero = Character()\n",
    "print(hero)\n",
    "hero"
   ]
  },
  {
   "cell_type": "code",
   "execution_count": 19,
   "id": "70442356",
   "metadata": {},
   "outputs": [
    {
     "name": "stdout",
     "output_type": "stream",
     "text": [
      "None\n"
     ]
    }
   ],
   "source": [
    "a = None\n",
    "a\n",
    "print(a)"
   ]
  }
 ],
 "metadata": {
  "kernelspec": {
   "display_name": "Python 3",
   "language": "python",
   "name": "python3"
  },
  "language_info": {
   "codemirror_mode": {
    "name": "ipython",
    "version": 3
   },
   "file_extension": ".py",
   "mimetype": "text/x-python",
   "name": "python",
   "nbconvert_exporter": "python",
   "pygments_lexer": "ipython3",
   "version": "3.13.5"
  }
 },
 "nbformat": 4,
 "nbformat_minor": 5
}
