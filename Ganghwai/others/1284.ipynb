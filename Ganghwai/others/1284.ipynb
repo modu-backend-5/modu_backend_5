{
 "cells": [
  {
   "cell_type": "markdown",
   "id": "212fcbf4",
   "metadata": {},
   "source": [
    "문제\n",
    "재석이는 대문에 붙이는 (주소를 나타내는) 호수판 제작업체의 직원이다. 고객에게 전달할 호수판은 숫자와 숫자 사이 그리고 왼쪽 오른쪽으로 적당히 여백이 들어가 줘야하고 숫자마다 차지하는 간격이 조금씩 상이하다. 다행이도 규칙은 매우 간단하다. \n",
    "\n",
    "각 숫자 사이에는 1cm의 여백이 들어가야한다.\n",
    "1은 2cm의 너비를 차지해야한다. 0은 4cm의 너비를 차지해야한다. 나머지 숫자는 모두 3cm의 너비를 차지한다.\n",
    "호수판의 경계와 숫자 사이에는 1cm의 여백이 들어가야한다.\n",
    "120.png\n",
    "\n",
    "예를 들어 위의 120 같은 경우,  각 숫자 사이에 여백이 1cm 씩 2개 들어간다. 1은 2cm, 2는 3cm, 0은 4cm를 차지한다. 오른쪽, 왼쪽 경계에서 각각 여백이 1cm씩 차지한다. 따라서 총 2 + 2 + 3 + 4 + 1 + 1 = 13(cm) 가 된다.\n",
    "\n",
    "재석이는 고객에게 전달해야할 호수판의 너비가 얼마나 되는지 궁금해졌다. 재석이를 도와주자!"
   ]
  },
  {
   "cell_type": "code",
   "execution_count": 2,
   "id": "dea7fc32",
   "metadata": {},
   "outputs": [
    {
     "ename": "SyntaxError",
     "evalue": "invalid syntax (2766032425.py, line 12)",
     "output_type": "error",
     "traceback": [
      "  \u001b[36mCell\u001b[39m\u001b[36m \u001b[39m\u001b[32mIn[2]\u001b[39m\u001b[32m, line 12\u001b[39m\n\u001b[31m    \u001b[39m\u001b[31mcnt +=\u001b[39m\n          ^\n\u001b[31mSyntaxError\u001b[39m\u001b[31m:\u001b[39m invalid syntax\n"
     ]
    }
   ],
   "source": [
    "while True:\n",
    "   N = input()\n",
    "   if N == \"0\":\n",
    "       break\n",
    "   result = 0\n",
    "   # 사이 공간\n",
    "   result = len(N) + 1\n",
    "\n",
    "for i in N :\n",
    "    match i :\n",
    "        case i :\n",
    "            cnt +=\n",
    "        case o : \n",
    "            cnt +=\n",
    "        case _ :\n",
    "            cnt +=\n",
    "        print(cnt)\n",
    "\n",
    "\n",
    "    "
   ]
  },
  {
   "cell_type": "code",
   "execution_count": null,
   "id": "cdcc33cc",
   "metadata": {},
   "outputs": [],
   "source": [
    "\n",
    "while True:\n",
    "    n = int(input())\n",
    "    \n",
    "    \n",
    "    if n == 0:\n",
    "        break\n",
    "    result = len(N) + 1\n",
    "    num_dict = {\n",
    "        \"1\": 2,\n",
    "        \"0\": 4,\n",
    "        \"2\": 3,\n",
    "        \"3\": 3,\n",
    "        \"4\": 3,\n",
    "        \"5\": 3,\n",
    "        \"6\": 3,\n",
    "        \n",
    "    }"
   ]
  },
  {
   "cell_type": "code",
   "execution_count": null,
   "id": "2d05c6ef",
   "metadata": {},
   "outputs": [],
   "source": [
    "while True:\n",
    "    n = int(input())\n",
    "    \n",
    "    if n == 0:\n",
    "        break\n",
    "    digits = str(n)\n",
    "    total_width = 0\n",
    "    for digit in digits:\n",
    "        if digit == '1':\n",
    "            total_width += 2  \n",
    "        elif digit == '0':\n",
    "            total_width += 4  \n",
    "        else:\n",
    "            total_width += 3  \n",
    "    total_width += (len(digits) - 1) * 1\n",
    "    total_width += 2\n",
    "    \n",
    "    print(total_width)"
   ]
  }
 ],
 "metadata": {
  "kernelspec": {
   "display_name": "Python 3",
   "language": "python",
   "name": "python3"
  },
  "language_info": {
   "codemirror_mode": {
    "name": "ipython",
    "version": 3
   },
   "file_extension": ".py",
   "mimetype": "text/x-python",
   "name": "python",
   "nbconvert_exporter": "python",
   "pygments_lexer": "ipython3",
   "version": "3.13.5"
  }
 },
 "nbformat": 4,
 "nbformat_minor": 5
}
