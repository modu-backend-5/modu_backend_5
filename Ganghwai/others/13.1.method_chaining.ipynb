{
 "cells": [
  {
   "cell_type": "markdown",
   "id": "1f0439c2",
   "metadata": {},
   "source": [
    "# 메서드 체이닝\n",
    "## 1.메서드 체이닝"
   ]
  },
  {
   "cell_type": "code",
   "execution_count": 1,
   "id": "e6b8f8fc",
   "metadata": {},
   "outputs": [
    {
     "data": {
      "text/plain": [
       "['BELLO', 'WORLD']"
      ]
     },
     "execution_count": 1,
     "metadata": {},
     "output_type": "execute_result"
    }
   ],
   "source": [
    "\"Hello world\".replace(\"Hello\", \"Bello\").lower().upper().split()"
   ]
  }
 ],
 "metadata": {
  "kernelspec": {
   "display_name": "Python 3",
   "language": "python",
   "name": "python3"
  },
  "language_info": {
   "codemirror_mode": {
    "name": "ipython",
    "version": 3
   },
   "file_extension": ".py",
   "mimetype": "text/x-python",
   "name": "python",
   "nbconvert_exporter": "python",
   "pygments_lexer": "ipython3",
   "version": "3.13.5"
  }
 },
 "nbformat": 4,
 "nbformat_minor": 5
}
