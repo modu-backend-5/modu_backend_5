{
 "cells": [
  {
   "cell_type": "markdown",
   "id": "70e6ca65",
   "metadata": {},
   "source": [
    "# 비공개 속성\n",
    "## 1. 비공개 속성(Private Attributes)"
   ]
  },
  {
   "cell_type": "code",
   "execution_count": 8,
   "id": "429f00a4",
   "metadata": {},
   "outputs": [
    {
     "data": {
      "text/plain": [
       "40"
      ]
     },
     "execution_count": 8,
     "metadata": {},
     "output_type": "execute_result"
    }
   ],
   "source": [
    "class MyClass:\n",
    "    __a = 10\n",
    "    _a = 100\n",
    "    b = 20\n",
    "\n",
    "\n",
    "    def __init__(self, c, d):\n",
    "        self.__c = c\n",
    "        self.d = d\n",
    "\n",
    "\n",
    "c = MyClass(30, 40)\n",
    "# c.__a\n",
    "MyClass._MyClass__a #error\n",
    "c._a # 출력: 100\n",
    "c.b # 출력: 20\n",
    "# c.__c # error\n",
    "c._MyClass__c #출력: 30\n",
    "c.d # 출력: 40"
   ]
  }
 ],
 "metadata": {
  "kernelspec": {
   "display_name": "Python 3",
   "language": "python",
   "name": "python3"
  },
  "language_info": {
   "codemirror_mode": {
    "name": "ipython",
    "version": 3
   },
   "file_extension": ".py",
   "mimetype": "text/x-python",
   "name": "python",
   "nbconvert_exporter": "python",
   "pygments_lexer": "ipython3",
   "version": "3.13.5"
  }
 },
 "nbformat": 4,
 "nbformat_minor": 5
}
