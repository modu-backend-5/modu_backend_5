{
 "cells": [
  {
   "cell_type": "markdown",
   "id": "42a17ba7",
   "metadata": {},
   "source": [
    "# 메서드 오버라이딩"
   ]
  },
  {
   "cell_type": "code",
   "execution_count": 1,
   "id": "4f2206f0",
   "metadata": {},
   "outputs": [],
   "source": [
    "class Animal:\n",
    "    def sound(self):\n",
    "        print(\"와우\")"
   ]
  },
  {
   "cell_type": "code",
   "execution_count": 4,
   "id": "1688c1bb",
   "metadata": {},
   "outputs": [
    {
     "name": "stdout",
     "output_type": "stream",
     "text": [
      "멍멍\n",
      "와우\n",
      "냐옹!\n",
      "와우\n",
      "짹짹\n"
     ]
    }
   ],
   "source": [
    "class Dog(Animal):\n",
    "    pass\n",
    "#Dog.sound()\n",
    "dog = Dog()\n",
    "print(\"멍멍\")\n",
    "\n",
    "\n",
    "class Cat(Animal):\n",
    "    def sound(self):\n",
    "        print(\"냐옹!\")\n",
    "\n",
    "# Dog.sound()\n",
    "dog = Dog()\n",
    "dog.sound()\n",
    "cat = Cat() \n",
    "cat.sound()\n",
    "\n",
    "class Bird(Animal):\n",
    "    def sound(self):\n",
    "        super().sound()\n",
    "        print(\"짹짹\")\n",
    "\n",
    "bird = Bird()\n",
    "bird.sound()"
   ]
  },
  {
   "cell_type": "code",
   "execution_count": 5,
   "id": "9fd17b7e",
   "metadata": {},
   "outputs": [
    {
     "ename": "AttributeError",
     "evalue": "'int' object attribute '__add__' is read-only",
     "output_type": "error",
     "traceback": [
      "\u001b[31m---------------------------------------------------------------------------\u001b[39m",
      "\u001b[31mAttributeError\u001b[39m                            Traceback (most recent call last)",
      "\u001b[36mCell\u001b[39m\u001b[36m \u001b[39m\u001b[32mIn[5]\u001b[39m\u001b[32m, line 2\u001b[39m\n\u001b[32m      1\u001b[39m x = \u001b[32m10\u001b[39m\n\u001b[32m----> \u001b[39m\u001b[32m2\u001b[39m \u001b[43mx\u001b[49m\u001b[43m.\u001b[49m\u001b[34;43m__add__\u001b[39;49m = \u001b[38;5;28;01mlambda\u001b[39;00m \u001b[38;5;28mself\u001b[39m, other: \u001b[33m'\u001b[39m\u001b[33mhello world\u001b[39m\u001b[33m'\u001b[39m\n\u001b[32m      3\u001b[39m x + x \u001b[38;5;66;03m# error, 기본타입은 read only 입니다.\u001b[39;00m\n",
      "\u001b[31mAttributeError\u001b[39m: 'int' object attribute '__add__' is read-only"
     ]
    }
   ],
   "source": [
    "x = 10\n",
    "x.__add__ = lambda self, other: 'hello world'\n",
    "x + x # error, 기본타입은 read only 입니다."
   ]
  },
  {
   "cell_type": "code",
   "execution_count": 7,
   "id": "887ecab6",
   "metadata": {},
   "outputs": [
    {
     "data": {
      "text/plain": [
       "'hello world'"
      ]
     },
     "execution_count": 7,
     "metadata": {},
     "output_type": "execute_result"
    }
   ],
   "source": [
    "def f():\n",
    "    pass\n",
    " \n",
    "f.__add__ = lambda self, other: 'hello world'\n",
    "# f1 = f()\n",
    "# f2 = f()\n",
    "#f1 + f2 error, 함수는 더하기를 허락하지 않습니다.\n",
    "f.__add__(10, 20)"
   ]
  },
  {
   "cell_type": "code",
   "execution_count": 9,
   "id": "a3d98295",
   "metadata": {},
   "outputs": [],
   "source": [
    "# 주의! python에서는 오버로딩을 허용하지 않습니다. 비슷하게 구현하자면 아래와 같습니다. 각각 다른 함수가 호출되게 하는 기법입니다.\n",
    " \n",
    "class Cal:\n",
    "    def add(a):\n",
    "        pass\n",
    " \n",
    "    def add(a, b):\n",
    "        pass\n",
    " \n",
    "    def add(a, b, c):\n",
    "        pass\n",
    " \n",
    "c = Cal()\n",
    "# c.add(10) # add(a)\n",
    "c.add(10, 20) # add(a, b)\n",
    "# c.add(10, 20, 30) # add(a, b, c)"
   ]
  }
 ],
 "metadata": {
  "kernelspec": {
   "display_name": "Python 3",
   "language": "python",
   "name": "python3"
  },
  "language_info": {
   "codemirror_mode": {
    "name": "ipython",
    "version": 3
   },
   "file_extension": ".py",
   "mimetype": "text/x-python",
   "name": "python",
   "nbconvert_exporter": "python",
   "pygments_lexer": "ipython3",
   "version": "3.13.5"
  }
 },
 "nbformat": 4,
 "nbformat_minor": 5
}
