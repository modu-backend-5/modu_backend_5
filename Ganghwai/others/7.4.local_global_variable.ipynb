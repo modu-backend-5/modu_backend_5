{
 "cells": [
  {
   "cell_type": "code",
   "execution_count": 1,
   "id": "5dd265ba",
   "metadata": {},
   "outputs": [
    {
     "name": "stdout",
     "output_type": "stream",
     "text": [
      "1\n"
     ]
    }
   ],
   "source": [
    "# 지역 변수 사용 예시\n",
    "def f():\n",
    "    a = 1\n",
    "    print(a)  # 출력: 1\n",
    "\n",
    "\n",
    "f()\n",
    "# print(a)  # error: a는 f 함수 내부에서만 정의되었습니다."
   ]
  },
  {
   "cell_type": "code",
   "execution_count": 2,
   "id": "a041bc1d",
   "metadata": {},
   "outputs": [],
   "source": [
    "def f():\n",
    "    a = 1\n",
    "    b = \"local_val\"\n",
    "    print(locals()) # 출력: {'a':1}\n",
    "    f()"
   ]
  },
  {
   "cell_type": "code",
   "execution_count": 4,
   "id": "50d7de45",
   "metadata": {},
   "outputs": [
    {
     "name": "stdout",
     "output_type": "stream",
     "text": [
      "101\n"
     ]
    }
   ],
   "source": [
    "a = 100\n",
    "\n",
    "\n",
    "def f():\n",
    "    global a\n",
    "    a = a + 1\n",
    "\n",
    "\n",
    "f()\n",
    "print(a)"
   ]
  },
  {
   "cell_type": "code",
   "execution_count": null,
   "id": "f272fe86",
   "metadata": {},
   "outputs": [],
   "source": [
    "a = 100\n",
    "\n",
    "def f():\n",
    "    print(a) # 출력: 100\n",
    "\n",
    "f()\n",
    "\n",
    "def ff():\n",
    "    b = a + 1\n",
    "    print(b) # 출력: 101\n",
    "\n",
    "ff()"
   ]
  },
  {
   "cell_type": "code",
   "execution_count": 5,
   "id": "a5942b79",
   "metadata": {},
   "outputs": [
    {
     "name": "stdout",
     "output_type": "stream",
     "text": [
      "{'__name__': '__main__', '__doc__': 'Automatically created module for IPython interactive environment', '__package__': None, '__loader__': None, '__spec__': None, '__builtin__': <module 'builtins' (built-in)>, '__builtins__': <module 'builtins' (built-in)>, '_ih': ['', '# 지역 변수 사용 예시\\ndef f():\\n    a = 1\\n    print(a)  # 출력: 1\\n\\n\\nf()\\n# print(a)  # error: a는 f 함수 내부에서만 정의되었습니다.', 'def f():\\n    a = 1\\n    b = \"local_val\"\\n    print(locals()) # 출력: {\\'a\\':1}\\n    f()', 'a = 100\\n\\n\\ndef f():\\n    global a\\n    a = a + 1\\n\\n\\nf()\\nprint(a)', 'a = 100\\n\\n\\ndef f():\\n    global a\\n    a = a + 1\\n\\n\\nf()\\nprint(a)', \"a = 1\\nb = 'hello'\\ndef f():\\n    pass\\nprint(globals())\"], '_oh': {}, '_dh': [WindowsPath('c:/Users/kt438/OneDrive/바탕 화면/git-test/modu_backend_5/Ganghwai/others')], 'In': ['', '# 지역 변수 사용 예시\\ndef f():\\n    a = 1\\n    print(a)  # 출력: 1\\n\\n\\nf()\\n# print(a)  # error: a는 f 함수 내부에서만 정의되었습니다.', 'def f():\\n    a = 1\\n    b = \"local_val\"\\n    print(locals()) # 출력: {\\'a\\':1}\\n    f()', 'a = 100\\n\\n\\ndef f():\\n    global a\\n    a = a + 1\\n\\n\\nf()\\nprint(a)', 'a = 100\\n\\n\\ndef f():\\n    global a\\n    a = a + 1\\n\\n\\nf()\\nprint(a)', \"a = 1\\nb = 'hello'\\ndef f():\\n    pass\\nprint(globals())\"], 'Out': {}, 'get_ipython': <bound method InteractiveShell.get_ipython of <ipykernel.zmqshell.ZMQInteractiveShell object at 0x000001C6BF267230>>, 'exit': <IPython.core.autocall.ZMQExitAutocall object at 0x000001C6BF308AD0>, 'quit': <IPython.core.autocall.ZMQExitAutocall object at 0x000001C6BF308AD0>, 'open': <function open at 0x000001C6BCFE34C0>, '_': '', '__': '', '___': '', '__vsc_ipynb_file__': 'c:\\\\Users\\\\kt438\\\\OneDrive\\\\바탕 화면\\\\git-test\\\\modu_backend_5\\\\Ganghwai\\\\others\\\\7.4.local_global_variable.ipynb', '_i': 'a = 100\\n\\n\\ndef f():\\n    global a\\n    a = a + 1\\n\\n\\nf()\\nprint(a)', '_ii': 'a = 100\\n\\n\\ndef f():\\n    global a\\n    a = a + 1\\n\\n\\nf()\\nprint(a)', '_iii': 'def f():\\n    a = 1\\n    b = \"local_val\"\\n    print(locals()) # 출력: {\\'a\\':1}\\n    f()', '_i1': '# 지역 변수 사용 예시\\ndef f():\\n    a = 1\\n    print(a)  # 출력: 1\\n\\n\\nf()\\n# print(a)  # error: a는 f 함수 내부에서만 정의되었습니다.', 'f': <function f at 0x000001C6BF509B20>, '_i2': 'def f():\\n    a = 1\\n    b = \"local_val\"\\n    print(locals()) # 출력: {\\'a\\':1}\\n    f()', '_i3': 'a = 100\\n\\n\\ndef f():\\n    global a\\n    a = a + 1\\n\\n\\nf()\\nprint(a)', 'a': 1, '_i4': 'a = 100\\n\\n\\ndef f():\\n    global a\\n    a = a + 1\\n\\n\\nf()\\nprint(a)', '_i5': \"a = 1\\nb = 'hello'\\ndef f():\\n    pass\\nprint(globals())\", 'b': 'hello'}\n"
     ]
    }
   ],
   "source": [
    "a = 1\n",
    "b = 'hello'\n",
    "def f():\n",
    "    pass\n",
    "print(globals())"
   ]
  },
  {
   "cell_type": "code",
   "execution_count": 6,
   "id": "49915107",
   "metadata": {},
   "outputs": [
    {
     "name": "stdout",
     "output_type": "stream",
     "text": [
      "100\n",
      "1000\n",
      "10000\n",
      "10\n"
     ]
    }
   ],
   "source": [
    "a = 10\n",
    "def f():\n",
    "    a = 100\n",
    "    print(a) # 출력: 100\n",
    "    def ff():\n",
    "        a = 1000\n",
    "        print(a) # 출력: 1000\n",
    "        def fff():\n",
    "            a = 10000 # 출력: 10000\n",
    "            print(a)\n",
    "        fff()\n",
    "    ff()\n",
    "f()\n",
    "print(a) # 출력: 10"
   ]
  },
  {
   "cell_type": "code",
   "execution_count": 8,
   "id": "1827ed60",
   "metadata": {},
   "outputs": [
    {
     "name": "stdout",
     "output_type": "stream",
     "text": [
      "100\n",
      "1000\n",
      "10\n",
      "10\n"
     ]
    }
   ],
   "source": [
    "# global을 하면 함수가 얼만큼 중첩되어 있건 최상단에 있는 a를 바라봅니다.\n",
    "a = 10\n",
    "def f():\n",
    "    a = 100\n",
    "    print(a)\n",
    "    def ff():\n",
    "        a = 1000\n",
    "        print(a)\n",
    "        def fff():\n",
    "            global a\n",
    "            print(a)\n",
    "        fff()\n",
    "    ff()\n",
    "f()\n",
    "print(a)"
   ]
  }
 ],
 "metadata": {
  "kernelspec": {
   "display_name": "Python 3",
   "language": "python",
   "name": "python3"
  },
  "language_info": {
   "codemirror_mode": {
    "name": "ipython",
    "version": 3
   },
   "file_extension": ".py",
   "mimetype": "text/x-python",
   "name": "python",
   "nbconvert_exporter": "python",
   "pygments_lexer": "ipython3",
   "version": "3.13.5"
  }
 },
 "nbformat": 4,
 "nbformat_minor": 5
}
