{
 "cells": [
  {
   "cell_type": "markdown",
   "id": "465c5f83",
   "metadata": {},
   "source": [
    "# 5. 최종 테스트 시나리오 (PM이 직접 실행)"
   ]
  },
  {
   "cell_type": "code",
   "execution_count": 2,
   "id": "23f1a3af",
   "metadata": {},
   "outputs": [
    {
     "ename": "NameError",
     "evalue": "name 'create_user' is not defined",
     "output_type": "error",
     "traceback": [
      "\u001b[31m---------------------------------------------------------------------------\u001b[39m",
      "\u001b[31mNameError\u001b[39m                                 Traceback (most recent call last)",
      "\u001b[36mCell\u001b[39m\u001b[36m \u001b[39m\u001b[32mIn[2]\u001b[39m\u001b[32m, line 2\u001b[39m\n\u001b[32m      1\u001b[39m \u001b[38;5;66;03m# 1) 사용자 생성\u001b[39;00m\n\u001b[32m----> \u001b[39m\u001b[32m2\u001b[39m user = \u001b[43mcreate_user\u001b[49m(\u001b[33m\"\u001b[39m\u001b[33mcustomer@test.com\u001b[39m\u001b[33m\"\u001b[39m) \u001b[38;5;66;03m# 정상\u001b[39;00m\n\u001b[32m      3\u001b[39m user_fail = create_user(\u001b[33m\"\u001b[39m\u001b[33mwrong-email\u001b[39m\u001b[33m\"\u001b[39m)  \u001b[38;5;66;03m# 이메일 정상\u001b[39;00m\n\u001b[32m      5\u001b[39m \u001b[38;5;66;03m# 2) 상품 생성\u001b[39;00m\n",
      "\u001b[31mNameError\u001b[39m: name 'create_user' is not defined"
     ]
    }
   ],
   "source": [
    "# 1) 사용자 생성\n",
    "user = create_user(\"customer@test.com\") # 정상\n",
    "user_fail = create_user(\"wrong-email\")  # 이메일 정상\n",
    "\n",
    "# 2) 상품 생성\n",
    "product = create_product(\"노트북\", 1_000_000, 5) # 정상\n",
    "product_fail = create_product(\"마우스\", 0, 10)  # 가격 오류\n",
    "\n",
    "# 3) 정상 주문\n",
    "order = create_order(user, product, 2)\n",
    "# 출력: 총액 = 2000000, 남은 재고 = 3\n",
    "\n",
    "# 4) 재고 부족 주문\n",
    "create_order(user, product, 999)   # 재고 부족"
   ]
  },
  {
   "cell_type": "markdown",
   "id": "171e4a01",
   "metadata": {},
   "source": [
    "# 1시간 실습 템플릿 (빈칸 채우기)"
   ]
  },
  {
   "cell_type": "code",
   "execution_count": 7,
   "id": "ad93a5b2",
   "metadata": {},
   "outputs": [
    {
     "ename": "SyntaxError",
     "evalue": "invalid syntax (168139230.py, line 35)",
     "output_type": "error",
     "traceback": [
      "  \u001b[36mCell\u001b[39m\u001b[36m \u001b[39m\u001b[32mIn[7]\u001b[39m\u001b[32m, line 35\u001b[39m\n\u001b[31m    \u001b[39m\u001b[31mself.stock ___ qty    # -= qty\u001b[39m\n               ^\n\u001b[31mSyntaxError\u001b[39m\u001b[31m:\u001b[39m invalid syntax\n"
     ]
    }
   ],
   "source": [
    "# =====================================\n",
    "# 🏪 Mini Shop Light — 미션형 실습\n",
    "# 1. 코드 입력 -> 2. 테스트 실행 -> 3. 미션 완료 메시지\n",
    "# =====================================\n",
    "\n",
    "# =====================\n",
    "class User:\n",
    "    def __init__(self, email: str):\n",
    "        self.email = email\n",
    "\n",
    "def create_user(email: str):\n",
    "    if ___ not in email: # TODO: '@' 포함 여부\n",
    "        print(\"이메일 오류\")\n",
    "        return ___        # TODO: 실패 시 None\n",
    "    clean = email.___().___()  # TODO: strip, lower\n",
    "    return User(___)           # TODO: clean 변수 사용\n",
    "\n",
    "\n",
    "# =======================\n",
    "# STEP 2) Product\n",
    "# =======================\n",
    "class Product:\n",
    "    def __init__(self, name: str, price: int, stock: int):\n",
    "        self.name = name\n",
    "        self.price = price\n",
    "        self.stock = stock\n",
    "    #qty는 사고싶은 물건의 숫자\n",
    "    def can_buy(self, qty: int) -> bool:    \n",
    "        return ___ >= 1 and self.stock >= ___ # TODO: qty 사용\n",
    "\n",
    "    def buy(self, qty: int) -> bool:\n",
    "        if not self.___(qty): # TODO: can_buy 호출\n",
    "            print(\"재고 부족\") \n",
    "            return ___        # False\n",
    "        self.stock ___ qty    # -= qty\n",
    "        return True\n",
    "\n",
    "def create_product(name: str, price: int, stock: int):\n",
    "    if ___ <= 0:              # TODO: price 검증\n",
    "        print(\"가격 오류\")\n",
    "        return ___\n",
    "    return Product(name, price, stock)  \n",
    "\n",
    "\n",
    "# ===========================\n",
    "# STEP 3) Order\n",
    "# ===========================\n",
    "class Order:\n",
    "    def __init__(self, user, product: product, quantity: int):\n",
    "        self.user = user\n",
    "        self.product = product\n",
    "        self.quantity = quantity\n",
    "        self.total_price = self.product.___ * self.___ # TODO: price, quantity\n",
    "\n",
    "\n",
    "def create_order(user: User, product: product, qty: int):\n",
    "    if not user or not product:\n",
    "        print(\"주문 생성 실패(사용자/상품 없음)\")\n",
    "        return __\n",
    "    if not product.___(qty):  #TODO: buy\n",
    "        return __\n",
    "    return Order(user, product, qty)\n",
    "\n",
    "#============================\n",
    "# STEP 4) 테스트 실행\n",
    "# ===========================\n",
    "def run tests():\n",
    "    try:\n",
    "        #User 테스트\n",
    "        u1 =create_user(\"Customer@Test.com\")\n",
    "        assert u1 and u1.email == \"customer@test.com\"\n",
    "        u2 = create_user(\"wrong-email\")\n",
    "        assert u2 is None\n",
    "\n",
    "        # Product 테스트\n",
    "        p1 = create_product(\"노트북\", 1_000_000, 5)\n",
    "        assert p1 and p1.can_buy(2)\n",
    "        assert p1.buy(2) and p1.stock == 3\n",
    "        assert mot p1.buy(999)\n",
    "\n",
    "        #Order 테스트\n",
    "        o1 = create_order(u1, p1, 1)\n",
    "        assert o1 and o1.total_price == 1_000_000\n",
    "        o2 = create_order(None, p1 ,1)\n",
    "        assert o2 is None\n",
    "\n",
    "         print(\"✅ 모든 테스트 통과!\")\n",
    "        print(\"🎉 미션 완료!\")\n",
    "    except AssertionError:\n",
    "        print(\"❌ 테스트 실패! 코드를 다시 확인하세요.\")\n",
    "\n",
    "# =========================\n",
    "# STEP 5) 실행\n",
    "# =========================\n",
    "if __name__ == \"__main__\":\n",
    "    run_tests()\n",
    "\n",
    "    "
   ]
  },
  {
   "cell_type": "code",
   "execution_count": null,
   "id": "56b71153",
   "metadata": {},
   "outputs": [],
   "source": []
  },
  {
   "cell_type": "code",
   "execution_count": null,
   "id": "a83b6bcc",
   "metadata": {},
   "outputs": [],
   "source": []
  }
 ],
 "metadata": {
  "kernelspec": {
   "display_name": "Python 3",
   "language": "python",
   "name": "python3"
  },
  "language_info": {
   "codemirror_mode": {
    "name": "ipython",
    "version": 3
   },
   "file_extension": ".py",
   "mimetype": "text/x-python",
   "name": "python",
   "nbconvert_exporter": "python",
   "pygments_lexer": "ipython3",
   "version": "3.13.5"
  }
 },
 "nbformat": 4,
 "nbformat_minor": 5
}
