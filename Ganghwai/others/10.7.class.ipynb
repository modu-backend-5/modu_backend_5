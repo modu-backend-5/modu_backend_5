{
 "cells": [
  {
   "cell_type": "markdown",
   "id": "3c049729",
   "metadata": {},
   "source": [
    "# 클래스 심화\n",
    "## 1. 클래스 메서드와 정적(static) 메서드"
   ]
  },
  {
   "cell_type": "code",
   "execution_count": 1,
   "id": "0fb62783",
   "metadata": {},
   "outputs": [
    {
     "name": "stdout",
     "output_type": "stream",
     "text": [
      "1\n"
     ]
    }
   ],
   "source": [
    "# 1.1 클래스 메서드 (@classmethod)\n",
    "class MyClass:\n",
    "    count = 0\n",
    "\n",
    "\n",
    "    @classmethod\n",
    "    def increment(cls):\n",
    "        cls.count += 1\n",
    "\n",
    "\n",
    "MyClass.increment()\n",
    "print(MyClass.count)  # 출력: 1"
   ]
  },
  {
   "cell_type": "code",
   "execution_count": 3,
   "id": "14ecb968",
   "metadata": {},
   "outputs": [
    {
     "name": "stdout",
     "output_type": "stream",
     "text": [
      "8\n"
     ]
    }
   ],
   "source": [
    "# 1.2 정적(static) 메서드 (@staticmethod)\n",
    "class MyClass:\n",
    "    @staticmethod\n",
    "    def my_method(x, y):\n",
    "        return x + y\n",
    "\n",
    "print(MyClass.my_method(5, 3))  # 출력: 8"
   ]
  },
  {
   "cell_type": "code",
   "execution_count": 4,
   "id": "593aa823",
   "metadata": {},
   "outputs": [
    {
     "name": "stdout",
     "output_type": "stream",
     "text": [
      "[{'name': 'Python', 'grades': 2.5}, {'name': 'HTML/CSS', 'grades': 3.5}]\n",
      "True\n"
     ]
    }
   ],
   "source": [
    "class CompletionList:\n",
    "    def __init__(self):\n",
    "        self.subject_list = []\n",
    "\n",
    "\n",
    "    def show(self):\n",
    "        print(self.subject_list)\n",
    "\n",
    "\n",
    "    def append(self, subject):\n",
    "        self.subject_list.append(subject)\n",
    "\n",
    "\n",
    "    @staticmethod\n",
    "    def academic_warning(subject):\n",
    "        '''\n",
    "        내부에서 클래스 변수, 인스턴스 변수 수정하는 것이 가능하지 않습니다.\n",
    "        '''\n",
    "        if abs(1.5 - subject['grades']) >= 0:\n",
    "            return True\n",
    "        return False\n",
    "\n",
    "\n",
    "c = CompletionList()\n",
    "\n",
    "\n",
    "subject1 = {'name': 'Python', 'grades': 2.5}\n",
    "subject2 = {'name': 'HTML/CSS', 'grades': 3.5}\n",
    "\n",
    "\n",
    "c.append(subject1)\n",
    "c.append(subject2)\n",
    "c.show()\n",
    "\n",
    "\n",
    "print(c.academic_warning(subject1))"
   ]
  },
  {
   "cell_type": "markdown",
   "id": "aa9b5cf9",
   "metadata": {},
   "source": [
    " # 2. 속성 접근자와 덕 타이핑\n",
    "## 2.1 속성 접근자 (Property)"
   ]
  },
  {
   "cell_type": "code",
   "execution_count": 9,
   "id": "78cb6141",
   "metadata": {},
   "outputs": [
    {
     "data": {
      "text/plain": [
       "'gyeong'"
      ]
     },
     "execution_count": 9,
     "metadata": {},
     "output_type": "execute_result"
    }
   ],
   "source": [
    "class Person:\n",
    "    def __init__(self, first_name, last_name):\n",
    "        self._first_name = first_name\n",
    "        self._last_name = last_name\n",
    "\n",
    "    @property\n",
    "    def full_name(self):\n",
    "        return f'{self._first_name}{self._last_name}'\n",
    "    \n",
    "benny = Person(\"Benny\", \"gyeong\")\n",
    "benny.full_name\n",
    "benny._first_name\n",
    "benny._last_name"
   ]
  },
  {
   "cell_type": "code",
   "execution_count": 10,
   "id": "fc306737",
   "metadata": {},
   "outputs": [
    {
     "name": "stdout",
     "output_type": "stream",
     "text": [
      "홍길동의 나이는 25세입니다.\n"
     ]
    }
   ],
   "source": [
    "class Person:\n",
    "    def __init__(self, name):\n",
    "        self.name = name\n",
    "        self._age = 0\n",
    "\n",
    "\n",
    "    @property\n",
    "    def age(self):\n",
    "        return self._age\n",
    "\n",
    "\n",
    "    @age.setter\n",
    "    def age(self, value):\n",
    "        if value < 0:\n",
    "            raise ValueError(\"나이는 음수일 수 없습니다.\")\n",
    "        self._age = value\n",
    "\n",
    "\n",
    "# 사용 예제\n",
    "person = Person(\"홍길동\")\n",
    "\n",
    "\n",
    "# age 속성 설정\n",
    "person.age = 25\n",
    "print(f\"{person.name}의 나이는 {person.age}세입니다.\")"
   ]
  },
  {
   "cell_type": "code",
   "execution_count": 13,
   "id": "3529e46a",
   "metadata": {},
   "outputs": [
    {
     "name": "stdout",
     "output_type": "stream",
     "text": [
      "꽥꽥!\n",
      "안녕하세요!\n"
     ]
    }
   ],
   "source": [
    "class Duck:\n",
    "    def speak(self):\n",
    "        print('꽥꽥!')\n",
    "\n",
    "\n",
    "class Person:\n",
    "    def speak(self):\n",
    "        print(\"안녕하세요!\")\n",
    "\n",
    "\n",
    "def speak(obj):\n",
    "    obj.speak()\n",
    "\n",
    "\n",
    "duck = Duck()\n",
    "person = Person()\n",
    "\n",
    "\n",
    "speak(duck)  # 출력: 꽥꽥!\n",
    "speak(person)  # 출력: 안녕하세요!"
   ]
  }
 ],
 "metadata": {
  "kernelspec": {
   "display_name": "Python 3",
   "language": "python",
   "name": "python3"
  },
  "language_info": {
   "codemirror_mode": {
    "name": "ipython",
    "version": 3
   },
   "file_extension": ".py",
   "mimetype": "text/x-python",
   "name": "python",
   "nbconvert_exporter": "python",
   "pygments_lexer": "ipython3",
   "version": "3.13.5"
  }
 },
 "nbformat": 4,
 "nbformat_minor": 5
}
