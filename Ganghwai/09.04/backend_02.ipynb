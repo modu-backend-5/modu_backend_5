{
 "cells": [
  {
   "cell_type": "markdown",
   "id": "5594ab70",
   "metadata": {},
   "source": [
    "#  Day 1 — Session 1- 백엔드 개요와 클래스 필요성"
   ]
  },
  {
   "cell_type": "code",
   "execution_count": 1,
   "id": "dfaf77a6",
   "metadata": {},
   "outputs": [
    {
     "name": "stdout",
     "output_type": "stream",
     "text": [
      "{'name': 'Kim', 'email': 'kim@test.com'}\n"
     ]
    }
   ],
   "source": [
    "# 2) 최소 문법 패턴\n",
    "\n",
    "class User:\n",
    "    def __init__(self, name, email):\n",
    "        self.name = name            #인스턴스 속성\n",
    "        self.email = email.lower()  #일관성 유지\n",
    "\n",
    "    def to_dict(self):              #인스턴스 메서드\n",
    "        return {'name': self.name, 'email': self.email}\n",
    "    \n",
    "u = User('Kim', 'KIM@TEST.COM')\n",
    "print(u.to_dict())  # {'name': 'kim', 'email,: ,kim@test.com'}"
   ]
  },
  {
   "cell_type": "code",
   "execution_count": 2,
   "id": "4ab1359a",
   "metadata": {},
   "outputs": [],
   "source": [
    "class Product:\n",
    "    def __init__(self, name, price, stock):\n",
    "        self.name, self.price, self.stock = name, price, stock\n",
    "    \n",
    "    def can_buy(self, qty):\n",
    "        return qty > 0 and self.stock >= qty\n",
    "    \n",
    "    def buy(self, qty):\n",
    "        if self.can_buy(qty):\n",
    "            self.stock -= qty\n",
    "            return True\n",
    "        return False"
   ]
  },
  {
   "cell_type": "markdown",
   "id": "91702867",
   "metadata": {},
   "source": [
    "# 4. 실습 전 미니 데모\n",
    "## 딕셔너리 버전 (문제 발생 가능성)"
   ]
  },
  {
   "cell_type": "code",
   "execution_count": 3,
   "id": "45a3dbba",
   "metadata": {},
   "outputs": [
    {
     "name": "stdout",
     "output_type": "stream",
     "text": [
      "kim@test.com\n"
     ]
    }
   ],
   "source": [
    "u1 = {'name': 'kim', 'email': 'kim@test.com'}\n",
    "i2 = {'name': 'lee', 'eamil': 'lee@test.com'}  # 오탈자\n",
    "\n",
    "def get_email(user):\n",
    "    return user['email']\n",
    "\n",
    "print(get_email(u1))\n",
    "# print(get_email(u2)) # 실행 시 KeyError 발생"
   ]
  },
  {
   "cell_type": "markdown",
   "id": "66ad6c99",
   "metadata": {},
   "source": [
    "# 클래스 버전 (구조 안정성)"
   ]
  },
  {
   "cell_type": "code",
   "execution_count": 4,
   "id": "95f081bd",
   "metadata": {},
   "outputs": [
    {
     "ename": "NameError",
     "evalue": "name 'usunstance' is not defined",
     "output_type": "error",
     "traceback": [
      "\u001b[31m---------------------------------------------------------------------------\u001b[39m",
      "\u001b[31mNameError\u001b[39m                                 Traceback (most recent call last)",
      "\u001b[36mCell\u001b[39m\u001b[36m \u001b[39m\u001b[32mIn[4]\u001b[39m\u001b[32m, line 14\u001b[39m\n\u001b[32m     11\u001b[39m         \u001b[38;5;28;01mreturn\u001b[39;00m \u001b[38;5;28mself\u001b[39m.email\n\u001b[32m     13\u001b[39m \u001b[38;5;66;03m# 정상 생성\u001b[39;00m\n\u001b[32m---> \u001b[39m\u001b[32m14\u001b[39m u1 = \u001b[43mUser\u001b[49m\u001b[43m(\u001b[49m\u001b[33;43m'\u001b[39;49m\u001b[33;43mkim\u001b[39;49m\u001b[33;43m'\u001b[39;49m\u001b[43m,\u001b[49m\u001b[43m \u001b[49m\u001b[33;43m'\u001b[39;49m\u001b[33;43mkim@test.com\u001b[39;49m\u001b[33;43m'\u001b[39;49m\u001b[43m)\u001b[49m\n\u001b[32m     15\u001b[39m \u001b[38;5;28mprint\u001b[39m(u1.get_email())\n\u001b[32m     17\u001b[39m \u001b[38;5;66;03m# 오류 발생 (email 오탈자 또는 잘못된 값)\u001b[39;00m\n\u001b[32m     18\u001b[39m \u001b[38;5;66;03m# u2 = User('lee', 'lee_test.com')\u001b[39;00m\n\u001b[32m     19\u001b[39m \u001b[38;5;66;03m# -> ValueError: 올바른 email 형식이 아닙니다.\u001b[39;00m\n",
      "\u001b[36mCell\u001b[39m\u001b[36m \u001b[39m\u001b[32mIn[4]\u001b[39m\u001b[32m, line 4\u001b[39m, in \u001b[36mUser.__init__\u001b[39m\u001b[34m(self, name, email)\u001b[39m\n\u001b[32m      2\u001b[39m \u001b[38;5;28;01mdef\u001b[39;00m\u001b[38;5;250m \u001b[39m\u001b[34m__init__\u001b[39m(\u001b[38;5;28mself\u001b[39m, name, email):\n\u001b[32m      3\u001b[39m     \u001b[38;5;66;03m# 1) 타입/값 검증\u001b[39;00m\n\u001b[32m----> \u001b[39m\u001b[32m4\u001b[39m     \u001b[38;5;28;01mif\u001b[39;00m \u001b[38;5;129;01mnot\u001b[39;00m \u001b[43musunstance\u001b[49m(name, \u001b[38;5;28mstr\u001b[39m) \u001b[38;5;129;01mor\u001b[39;00m \u001b[38;5;129;01mnot\u001b[39;00m name.strip():\n\u001b[32m      5\u001b[39m         \u001b[38;5;28;01mraise\u001b[39;00m \u001b[38;5;167;01mValueError\u001b[39;00m(\u001b[33m\"\u001b[39m\u001b[33mname은 비어있을 수 없습니다.\u001b[39m\u001b[33m\"\u001b[39m)\n\u001b[32m      6\u001b[39m     \u001b[38;5;28;01mif\u001b[39;00m \u001b[38;5;129;01mnot\u001b[39;00m \u001b[38;5;28misinstance\u001b[39m(email, \u001b[38;5;28mstr\u001b[39m) \u001b[38;5;129;01mor\u001b[39;00m \u001b[33m'\u001b[39m\u001b[33m@\u001b[39m\u001b[33m'\u001b[39m \u001b[38;5;129;01mnot\u001b[39;00m \u001b[38;5;129;01min\u001b[39;00m email:\n",
      "\u001b[31mNameError\u001b[39m: name 'usunstance' is not defined"
     ]
    }
   ],
   "source": [
    "class User:\n",
    "    def __init__(self, name, email):\n",
    "        # 1) 타입/값 검증\n",
    "        if not usunstance(name, str) or not name.strip():\n",
    "            raise ValueError(\"name은 비어있을 수 없습니다.\")\n",
    "        if not isinstance(email, str) or '@' not in email:\n",
    "            raise ValueError(\"올바른 email 형식이 아닙니다.\")\n",
    "        self.name = name\n",
    "        self.email = email\n",
    "    def get_email(self):\n",
    "        return self.email\n",
    "    \n",
    "# 정상 생성\n",
    "u1 = User('kim', 'kim@test.com')\n",
    "print(u1.get_email())\n",
    "\n",
    "# 오류 발생 (email 오탈자 또는 잘못된 값)\n",
    "# u2 = User('lee', 'lee_test.com')\n",
    "# -> ValueError: 올바른 email 형식이 아닙니다."
   ]
  },
  {
   "cell_type": "markdown",
   "id": "92706093",
   "metadata": {},
   "source": [
    "# 6. 실습 진행 단계\n",
    "## 단계 1. 딕셔너리의 한계 체험 (오탈자 → 런타임 오류)"
   ]
  },
  {
   "cell_type": "code",
   "execution_count": 5,
   "id": "0c96276e",
   "metadata": {},
   "outputs": [
    {
     "name": "stdout",
     "output_type": "stream",
     "text": [
      "[DICT] u1 이메일: kim@test.com\n"
     ]
    }
   ],
   "source": [
    "# [STEP 1] 딕셔너리로 사용자 데이터를 표현했을 때의 문제\n",
    "\n",
    "# 정상 데이터\n",
    "u1 = {'name': 'kim', 'email': 'kim@test.com'}\n",
    "\n",
    "# 오타가 있는 데이터 (email → eamil)\n",
    "u2 = {'name': 'lee', 'eamil': 'lee@test.com'}  # <-- 오탈자\n",
    "\n",
    "def get_email_from_dict(user_dict):\n",
    "    \"\"\"딕셔너리에서 이메일을 꺼내는 함수 (오탈자에 취약)\"\"\"\n",
    "    return user_dict['email']  # 키가 정확히 'email'이어야만 함\n",
    "\n",
    "print('[DICT] u1 이메일:', get_email_from_dict(u1))  # 정상\n",
    "\n",
    "# 아래 라인을 주석 해제하면 KeyError 발생 (오탈자 때문)\n",
    "# print('[DICT] u2 이메일:', get_email_from_dict(u2))"
   ]
  },
  {
   "cell_type": "markdown",
   "id": "1781a64e",
   "metadata": {},
   "source": [
    "# 단계 2. 클래스 뼈대 만들기 (구조 고정 + 자동완성)"
   ]
  },
  {
   "cell_type": "code",
   "execution_count": 6,
   "id": "a7d16f3b",
   "metadata": {},
   "outputs": [
    {
     "name": "stdout",
     "output_type": "stream",
     "text": [
      "[CLASS] user1 name: Kim\n",
      "[CLASS] user1 email(raw): KIM@TEST.COM\n"
     ]
    }
   ],
   "source": [
    "# [STEP 2] User 클래스로 전환 (구조 고정 & 자동완성)\n",
    "\n",
    "class User:\n",
    "    def __init__(self, name, email):\n",
    "        # 인스턴스 속성(필드) 정의: IDE가 'self.' 입력 시 name, email 자동완성 지원\n",
    "        self.name = name\n",
    "        self.email = email  # 다음 단계에서 소문자 변환 적용 예정\n",
    "\n",
    "# 사용해보기\n",
    "user1 = User('Kim', 'KIM@TEST.COM')\n",
    "\n",
    "# 자동완성 체험: 에디터에서 user1. 까지만 입력해보세요 → name, email 제안!\n",
    "print('[CLASS] user1 name:', user1.name)\n",
    "print('[CLASS] user1 email(raw):', user1.email)"
   ]
  },
  {
   "cell_type": "markdown",
   "id": "de0b4f00",
   "metadata": {},
   "source": [
    "# 단계 3. 일관성 규칙 추가 (email 소문자 변환)"
   ]
  },
  {
   "cell_type": "code",
   "execution_count": 7,
   "id": "81df16f3",
   "metadata": {},
   "outputs": [
    {
     "name": "stdout",
     "output_type": "stream",
     "text": [
      "[CLASS] user2 email(lower): lee@test.com\n"
     ]
    }
   ],
   "source": [
    "# [STEP 3] 이메일은 항상 소문자로 저장 (일관성 규칙)\n",
    "\n",
    "class User:\n",
    "    def __init__(self, name, email):\n",
    "        self.name = name\n",
    "        self.email = email.lower()  # <- 생성 시점에 소문자 통일\n",
    "\n",
    "# 확인\n",
    "user2 = User('Lee', 'Lee@Test.Com')\n",
    "print('[CLASS] user2 email(lower):', user2.email)  # lee@test.com"
   ]
  },
  {
   "cell_type": "markdown",
   "id": "aa10ad71",
   "metadata": {},
   "source": [
    "# 단계 4. 직렬화 메서드 추가 (API 응답 흉내: dict/JSON)"
   ]
  },
  {
   "cell_type": "code",
   "execution_count": 8,
   "id": "0dc37d8a",
   "metadata": {},
   "outputs": [
    {
     "name": "stdout",
     "output_type": "stream",
     "text": [
      "[CLASS] user3 dict: {'name': 'Park', 'email': 'park@example.com'}\n",
      "[CLASS] user3 json: {\"name\": \"Park\", \"email\": \"park@example.com\"}\n"
     ]
    }
   ],
   "source": [
    "# [STEP 4] API 응답처럼 to_dict() 제공 (→ JSON 만들 때 사용)\n",
    "\n",
    "import json  # 실제 API 서버 대신 콘솔에서 형태만 확인\n",
    "\n",
    "class User:\n",
    "    def __init__(self, name, email):\n",
    "        self.name = name\n",
    "        self.email = email.lower()\n",
    "\n",
    "    def to_dict(self): # self = Class User\n",
    "        \"\"\"API 응답용 형태로 변환\"\"\"\n",
    "        return {\n",
    "            'name': self.name,\n",
    "            'email': self.email\n",
    "        }\n",
    "\n",
    "# 사용\n",
    "user3 = User('Park', 'PARK@EXAMPLE.COM')\n",
    "print('[CLASS] user3 dict:', user3.to_dict())\n",
    "print('[CLASS] user3 json:', json.dumps(user3.to_dict(), ensure_ascii=False))"
   ]
  },
  {
   "cell_type": "markdown",
   "id": "33c0a71b",
   "metadata": {},
   "source": [
    "# 단계 5. 비교 실험: 딕셔너리 vs 클래스"
   ]
  },
  {
   "cell_type": "code",
   "execution_count": 9,
   "id": "292c0d51",
   "metadata": {},
   "outputs": [
    {
     "name": "stdout",
     "output_type": "stream",
     "text": [
      "[COMPARE] 클래스에서 이메일: choi@test.com\n"
     ]
    }
   ],
   "source": [
    "# [STEP 5] 딕셔너리 접근 vs 클래스 접근 비교\n",
    "\n",
    "# 딕셔너리 접근 (오탈자 위험)\n",
    "ud = {'name': 'choi', 'eamil': 'choi@test.com'}  # 오탈자\n",
    "def get_email_from_dict(user_dict):\n",
    "    # 키가 정확하지 않으면 런타임 오류(KeyError)\n",
    "    return user_dict['email']\n",
    "\n",
    "# print(get_email_from_dict(ud))  # 주석 해제 시 KeyError\n",
    "\n",
    "# 클래스 접근 (자동완성 + 구조 고정)\n",
    "uc = User('Choi', 'Choi@Test.Com')\n",
    "def get_email_from_user(user_obj):\n",
    "    # IDE가 user_obj.email 자동완성을 제공 → 오탈자 예방\n",
    "    return user_obj.email\n",
    "\n",
    "print('[COMPARE] 클래스에서 이메일:', get_email_from_user(uc))\n"
   ]
  },
  {
   "cell_type": "markdown",
   "id": "8d3f3fbf",
   "metadata": {},
   "source": [
    "# 단계 6. 미니 실습(업무 지시서 스타일)"
   ]
  },
  {
   "cell_type": "code",
   "execution_count": 10,
   "id": "d612368f",
   "metadata": {},
   "outputs": [
    {
     "name": "stdout",
     "output_type": "stream",
     "text": [
      "{\"name\": \"Kim\", \"email\": \"kim@test.com\"}\n",
      "{\"name\": \"Lee\", \"email\": \"lee@test.com\"}\n"
     ]
    }
   ],
   "source": [
    "import json\n",
    "\n",
    "class User:\n",
    "    def __init__(self, name, email):\n",
    "        # TODO: name, email(lower) 저장\n",
    "        self.name = name\n",
    "        self.email = email.lower()\n",
    "\n",
    "    def to_dict(self):\n",
    "        # TODO: 딕셔너리 형태로 반환\n",
    "        return {'name': self.name, 'email': self.email}\n",
    "\n",
    "# TODO: 사용자 2명 생성 (대문자 이메일로 테스트)\n",
    "u1 = User('Kim', 'KIM@TEST.COM')\n",
    "u2 = User('Lee', 'LEE@TEST.COM')\n",
    "\n",
    "# TODO: JSON으로 출력 하는 것을 추가하고 싶다면\n",
    "print(json.dumps(u1.to_dict(), ensure_ascii=False))\n",
    "print(json.dumps(u2.to_dict(), ensure_ascii=False))\n"
   ]
  },
  {
   "cell_type": "markdown",
   "id": "0292bca1",
   "metadata": {},
   "source": [
    "# 단계 7. 체크리스트 (자체 점검)"
   ]
  },
  {
   "cell_type": "code",
   "execution_count": 11,
   "id": "dc742eb1",
   "metadata": {},
   "outputs": [
    {
     "ename": "SyntaxError",
     "evalue": "invalid syntax (29655579.py, line 1)",
     "output_type": "error",
     "traceback": [
      "  \u001b[36mCell\u001b[39m\u001b[36m \u001b[39m\u001b[32mIn[11]\u001b[39m\u001b[32m, line 1\u001b[39m\n\u001b[31m    \u001b[39m\u001b[31m- [ ]  `User.__init__`에서 `email.lower()`로 **일관성** 유지\u001b[39m\n           ^\n\u001b[31mSyntaxError\u001b[39m\u001b[31m:\u001b[39m invalid syntax\n"
     ]
    }
   ],
   "source": [
    "- [ ]  `User.__init__`에서 `email.lower()`로 **일관성** 유지\n",
    "- [ ]  `to_dict()` 키 철자 **정확** (`name`, `email`)\n",
    "- [ ]  IDE에서 `user.` 입력 시 **자동완성** 확인\n",
    "- [ ]  딕셔너리 키 오탈자 시 **KeyError**가 난다는 것을 체험했는가?"
   ]
  }
 ],
 "metadata": {
  "kernelspec": {
   "display_name": "Python 3",
   "language": "python",
   "name": "python3"
  },
  "language_info": {
   "codemirror_mode": {
    "name": "ipython",
    "version": 3
   },
   "file_extension": ".py",
   "mimetype": "text/x-python",
   "name": "python",
   "nbconvert_exporter": "python",
   "pygments_lexer": "ipython3",
   "version": "3.13.5"
  }
 },
 "nbformat": 4,
 "nbformat_minor": 5
}
