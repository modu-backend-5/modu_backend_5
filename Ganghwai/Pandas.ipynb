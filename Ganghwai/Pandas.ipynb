{
 "cells": [
  {
   "cell_type": "markdown",
   "id": "a9dbc4cc",
   "metadata": {},
   "source": [
    "# 1교시: Pandas 개요 & DataFrame 만들기"
   ]
  },
  {
   "cell_type": "code",
   "execution_count": 15,
   "id": "f83fb777",
   "metadata": {},
   "outputs": [
    {
     "name": "stdout",
     "output_type": "stream",
     "text": [
      "Collecting pandas\n",
      "  Downloading pandas-2.3.1-cp313-cp313-win_amd64.whl.metadata (19 kB)\n",
      "Requirement already satisfied: numpy>=1.26.0 in c:\\users\\kt438\\appdata\\local\\programs\\python\\python313\\lib\\site-packages (from pandas) (2.3.2)\n",
      "Requirement already satisfied: python-dateutil>=2.8.2 in c:\\users\\kt438\\appdata\\roaming\\python\\python313\\site-packages (from pandas) (2.9.0.post0)\n",
      "Collecting pytz>=2020.1 (from pandas)\n",
      "  Downloading pytz-2025.2-py2.py3-none-any.whl.metadata (22 kB)\n",
      "Collecting tzdata>=2022.7 (from pandas)\n",
      "  Downloading tzdata-2025.2-py2.py3-none-any.whl.metadata (1.4 kB)\n",
      "Requirement already satisfied: six>=1.5 in c:\\users\\kt438\\appdata\\roaming\\python\\python313\\site-packages (from python-dateutil>=2.8.2->pandas) (1.17.0)\n",
      "Downloading pandas-2.3.1-cp313-cp313-win_amd64.whl (11.0 MB)\n",
      "   ---------------------------------------- 0.0/11.0 MB ? eta -:--:--\n",
      "   -------- ------------------------------- 2.4/11.0 MB 11.7 MB/s eta 0:00:01\n",
      "   --------------- ------------------------ 4.2/11.0 MB 11.7 MB/s eta 0:00:01\n",
      "   ------------------- -------------------- 5.2/11.0 MB 9.7 MB/s eta 0:00:01\n",
      "   ------------------- -------------------- 5.2/11.0 MB 9.7 MB/s eta 0:00:01\n",
      "   -------------------------- ------------- 7.3/11.0 MB 7.0 MB/s eta 0:00:01\n",
      "   ---------------------------------- ----- 9.4/11.0 MB 7.5 MB/s eta 0:00:01\n",
      "   ---------------------------------------- 11.0/11.0 MB 7.4 MB/s eta 0:00:00\n",
      "Downloading pytz-2025.2-py2.py3-none-any.whl (509 kB)\n",
      "Downloading tzdata-2025.2-py2.py3-none-any.whl (347 kB)\n",
      "Installing collected packages: pytz, tzdata, pandas\n",
      "\n",
      "   ---------------------------------------- 0/3 [pytz]\n",
      "   ---------------------------------------- 0/3 [pytz]\n",
      "   ---------------------------------------- 0/3 [pytz]\n",
      "   ------------- -------------------------- 1/3 [tzdata]\n",
      "   ------------- -------------------------- 1/3 [tzdata]\n",
      "   ------------- -------------------------- 1/3 [tzdata]\n",
      "   ------------- -------------------------- 1/3 [tzdata]\n",
      "   ------------- -------------------------- 1/3 [tzdata]\n",
      "   -------------------------- ------------- 2/3 [pandas]\n",
      "   -------------------------- ------------- 2/3 [pandas]\n",
      "   -------------------------- ------------- 2/3 [pandas]\n",
      "   -------------------------- ------------- 2/3 [pandas]\n",
      "   -------------------------- ------------- 2/3 [pandas]\n",
      "   -------------------------- ------------- 2/3 [pandas]\n",
      "   -------------------------- ------------- 2/3 [pandas]\n",
      "   -------------------------- ------------- 2/3 [pandas]\n",
      "   -------------------------- ------------- 2/3 [pandas]\n",
      "   -------------------------- ------------- 2/3 [pandas]\n",
      "   -------------------------- ------------- 2/3 [pandas]\n",
      "   -------------------------- ------------- 2/3 [pandas]\n",
      "   -------------------------- ------------- 2/3 [pandas]\n",
      "   -------------------------- ------------- 2/3 [pandas]\n",
      "   -------------------------- ------------- 2/3 [pandas]\n",
      "   -------------------------- ------------- 2/3 [pandas]\n",
      "   -------------------------- ------------- 2/3 [pandas]\n",
      "   -------------------------- ------------- 2/3 [pandas]\n",
      "   -------------------------- ------------- 2/3 [pandas]\n",
      "   -------------------------- ------------- 2/3 [pandas]\n",
      "   -------------------------- ------------- 2/3 [pandas]\n",
      "   -------------------------- ------------- 2/3 [pandas]\n",
      "   -------------------------- ------------- 2/3 [pandas]\n",
      "   -------------------------- ------------- 2/3 [pandas]\n",
      "   -------------------------- ------------- 2/3 [pandas]\n",
      "   -------------------------- ------------- 2/3 [pandas]\n",
      "   -------------------------- ------------- 2/3 [pandas]\n",
      "   -------------------------- ------------- 2/3 [pandas]\n",
      "   -------------------------- ------------- 2/3 [pandas]\n",
      "   -------------------------- ------------- 2/3 [pandas]\n",
      "   -------------------------- ------------- 2/3 [pandas]\n",
      "   -------------------------- ------------- 2/3 [pandas]\n",
      "   -------------------------- ------------- 2/3 [pandas]\n",
      "   -------------------------- ------------- 2/3 [pandas]\n",
      "   -------------------------- ------------- 2/3 [pandas]\n",
      "   -------------------------- ------------- 2/3 [pandas]\n",
      "   -------------------------- ------------- 2/3 [pandas]\n",
      "   -------------------------- ------------- 2/3 [pandas]\n",
      "   -------------------------- ------------- 2/3 [pandas]\n",
      "   -------------------------- ------------- 2/3 [pandas]\n",
      "   -------------------------- ------------- 2/3 [pandas]\n",
      "   -------------------------- ------------- 2/3 [pandas]\n",
      "   -------------------------- ------------- 2/3 [pandas]\n",
      "   -------------------------- ------------- 2/3 [pandas]\n",
      "   -------------------------- ------------- 2/3 [pandas]\n",
      "   -------------------------- ------------- 2/3 [pandas]\n",
      "   -------------------------- ------------- 2/3 [pandas]\n",
      "   -------------------------- ------------- 2/3 [pandas]\n",
      "   -------------------------- ------------- 2/3 [pandas]\n",
      "   -------------------------- ------------- 2/3 [pandas]\n",
      "   -------------------------- ------------- 2/3 [pandas]\n",
      "   -------------------------- ------------- 2/3 [pandas]\n",
      "   -------------------------- ------------- 2/3 [pandas]\n",
      "   -------------------------- ------------- 2/3 [pandas]\n",
      "   -------------------------- ------------- 2/3 [pandas]\n",
      "   -------------------------- ------------- 2/3 [pandas]\n",
      "   -------------------------- ------------- 2/3 [pandas]\n",
      "   -------------------------- ------------- 2/3 [pandas]\n",
      "   -------------------------- ------------- 2/3 [pandas]\n",
      "   -------------------------- ------------- 2/3 [pandas]\n",
      "   -------------------------- ------------- 2/3 [pandas]\n",
      "   -------------------------- ------------- 2/3 [pandas]\n",
      "   -------------------------- ------------- 2/3 [pandas]\n",
      "   -------------------------- ------------- 2/3 [pandas]\n",
      "   -------------------------- ------------- 2/3 [pandas]\n",
      "   -------------------------- ------------- 2/3 [pandas]\n",
      "   -------------------------- ------------- 2/3 [pandas]\n",
      "   -------------------------- ------------- 2/3 [pandas]\n",
      "   -------------------------- ------------- 2/3 [pandas]\n",
      "   -------------------------- ------------- 2/3 [pandas]\n",
      "   -------------------------- ------------- 2/3 [pandas]\n",
      "   -------------------------- ------------- 2/3 [pandas]\n",
      "   -------------------------- ------------- 2/3 [pandas]\n",
      "   -------------------------- ------------- 2/3 [pandas]\n",
      "   -------------------------- ------------- 2/3 [pandas]\n",
      "   -------------------------- ------------- 2/3 [pandas]\n",
      "   -------------------------- ------------- 2/3 [pandas]\n",
      "   -------------------------- ------------- 2/3 [pandas]\n",
      "   -------------------------- ------------- 2/3 [pandas]\n",
      "   -------------------------- ------------- 2/3 [pandas]\n",
      "   -------------------------- ------------- 2/3 [pandas]\n",
      "   -------------------------- ------------- 2/3 [pandas]\n",
      "   -------------------------- ------------- 2/3 [pandas]\n",
      "   -------------------------- ------------- 2/3 [pandas]\n",
      "   -------------------------- ------------- 2/3 [pandas]\n",
      "   -------------------------- ------------- 2/3 [pandas]\n",
      "   -------------------------- ------------- 2/3 [pandas]\n",
      "   -------------------------- ------------- 2/3 [pandas]\n",
      "   -------------------------- ------------- 2/3 [pandas]\n",
      "   -------------------------- ------------- 2/3 [pandas]\n",
      "   -------------------------- ------------- 2/3 [pandas]\n",
      "   -------------------------- ------------- 2/3 [pandas]\n",
      "   -------------------------- ------------- 2/3 [pandas]\n",
      "   -------------------------- ------------- 2/3 [pandas]\n",
      "   -------------------------- ------------- 2/3 [pandas]\n",
      "   -------------------------- ------------- 2/3 [pandas]\n",
      "   -------------------------- ------------- 2/3 [pandas]\n",
      "   -------------------------- ------------- 2/3 [pandas]\n",
      "   -------------------------- ------------- 2/3 [pandas]\n",
      "   -------------------------- ------------- 2/3 [pandas]\n",
      "   -------------------------- ------------- 2/3 [pandas]\n",
      "   -------------------------- ------------- 2/3 [pandas]\n",
      "   -------------------------- ------------- 2/3 [pandas]\n",
      "   -------------------------- ------------- 2/3 [pandas]\n",
      "   -------------------------- ------------- 2/3 [pandas]\n",
      "   -------------------------- ------------- 2/3 [pandas]\n",
      "   -------------------------- ------------- 2/3 [pandas]\n",
      "   -------------------------- ------------- 2/3 [pandas]\n",
      "   -------------------------- ------------- 2/3 [pandas]\n",
      "   -------------------------- ------------- 2/3 [pandas]\n",
      "   -------------------------- ------------- 2/3 [pandas]\n",
      "   -------------------------- ------------- 2/3 [pandas]\n",
      "   -------------------------- ------------- 2/3 [pandas]\n",
      "   -------------------------- ------------- 2/3 [pandas]\n",
      "   -------------------------- ------------- 2/3 [pandas]\n",
      "   -------------------------- ------------- 2/3 [pandas]\n",
      "   -------------------------- ------------- 2/3 [pandas]\n",
      "   -------------------------- ------------- 2/3 [pandas]\n",
      "   -------------------------- ------------- 2/3 [pandas]\n",
      "   -------------------------- ------------- 2/3 [pandas]\n",
      "   -------------------------- ------------- 2/3 [pandas]\n",
      "   -------------------------- ------------- 2/3 [pandas]\n",
      "   -------------------------- ------------- 2/3 [pandas]\n",
      "   -------------------------- ------------- 2/3 [pandas]\n",
      "   -------------------------- ------------- 2/3 [pandas]\n",
      "   -------------------------- ------------- 2/3 [pandas]\n",
      "   -------------------------- ------------- 2/3 [pandas]\n",
      "   -------------------------- ------------- 2/3 [pandas]\n",
      "   -------------------------- ------------- 2/3 [pandas]\n",
      "   -------------------------- ------------- 2/3 [pandas]\n",
      "   -------------------------- ------------- 2/3 [pandas]\n",
      "   -------------------------- ------------- 2/3 [pandas]\n",
      "   -------------------------- ------------- 2/3 [pandas]\n",
      "   -------------------------- ------------- 2/3 [pandas]\n",
      "   -------------------------- ------------- 2/3 [pandas]\n",
      "   -------------------------- ------------- 2/3 [pandas]\n",
      "   -------------------------- ------------- 2/3 [pandas]\n",
      "   -------------------------- ------------- 2/3 [pandas]\n",
      "   -------------------------- ------------- 2/3 [pandas]\n",
      "   -------------------------- ------------- 2/3 [pandas]\n",
      "   -------------------------- ------------- 2/3 [pandas]\n",
      "   -------------------------- ------------- 2/3 [pandas]\n",
      "   -------------------------- ------------- 2/3 [pandas]\n",
      "   -------------------------- ------------- 2/3 [pandas]\n",
      "   -------------------------- ------------- 2/3 [pandas]\n",
      "   -------------------------- ------------- 2/3 [pandas]\n",
      "   -------------------------- ------------- 2/3 [pandas]\n",
      "   -------------------------- ------------- 2/3 [pandas]\n",
      "   -------------------------- ------------- 2/3 [pandas]\n",
      "   -------------------------- ------------- 2/3 [pandas]\n",
      "   -------------------------- ------------- 2/3 [pandas]\n",
      "   -------------------------- ------------- 2/3 [pandas]\n",
      "   -------------------------- ------------- 2/3 [pandas]\n",
      "   -------------------------- ------------- 2/3 [pandas]\n",
      "   -------------------------- ------------- 2/3 [pandas]\n",
      "   -------------------------- ------------- 2/3 [pandas]\n",
      "   -------------------------- ------------- 2/3 [pandas]\n",
      "   -------------------------- ------------- 2/3 [pandas]\n",
      "   -------------------------- ------------- 2/3 [pandas]\n",
      "   -------------------------- ------------- 2/3 [pandas]\n",
      "   -------------------------- ------------- 2/3 [pandas]\n",
      "   -------------------------- ------------- 2/3 [pandas]\n",
      "   -------------------------- ------------- 2/3 [pandas]\n",
      "   -------------------------- ------------- 2/3 [pandas]\n",
      "   -------------------------- ------------- 2/3 [pandas]\n",
      "   -------------------------- ------------- 2/3 [pandas]\n",
      "   -------------------------- ------------- 2/3 [pandas]\n",
      "   -------------------------- ------------- 2/3 [pandas]\n",
      "   -------------------------- ------------- 2/3 [pandas]\n",
      "   -------------------------- ------------- 2/3 [pandas]\n",
      "   -------------------------- ------------- 2/3 [pandas]\n",
      "   -------------------------- ------------- 2/3 [pandas]\n",
      "   -------------------------- ------------- 2/3 [pandas]\n",
      "   -------------------------- ------------- 2/3 [pandas]\n",
      "   -------------------------- ------------- 2/3 [pandas]\n",
      "   -------------------------- ------------- 2/3 [pandas]\n",
      "   -------------------------- ------------- 2/3 [pandas]\n",
      "   ---------------------------------------- 3/3 [pandas]\n",
      "\n",
      "Successfully installed pandas-2.3.1 pytz-2025.2 tzdata-2025.2\n"
     ]
    },
    {
     "name": "stderr",
     "output_type": "stream",
     "text": [
      "\n",
      "[notice] A new release of pip is available: 25.1.1 -> 25.2\n",
      "[notice] To update, run: python.exe -m pip install --upgrade pip\n"
     ]
    }
   ],
   "source": [
    "!pip install pandas"
   ]
  },
  {
   "cell_type": "code",
   "execution_count": 16,
   "id": "35f5d3e7",
   "metadata": {},
   "outputs": [
    {
     "name": "stdout",
     "output_type": "stream",
     "text": [
      "a    10\n",
      "b    20\n",
      "c    30\n",
      "dtype: int64\n"
     ]
    }
   ],
   "source": [
    "import pandas as pd\n",
    "s = pd.Series([10, 20, 30], index=[\"a\",\"b\",\"c\"])\n",
    "print(s)"
   ]
  },
  {
   "cell_type": "code",
   "execution_count": 17,
   "id": "a3735f1d",
   "metadata": {},
   "outputs": [
    {
     "name": "stdout",
     "output_type": "stream",
     "text": [
      "   user_id  status\n",
      "0      101     200\n",
      "1      102     404\n",
      "2      103     500\n"
     ]
    }
   ],
   "source": [
    "data = {\"user_id\":[101,102,103], \"status\":[200,404,500]}\n",
    "df = pd.DataFrame(data)\n",
    "print(df)"
   ]
  },
  {
   "cell_type": "markdown",
   "id": "4a21eaee",
   "metadata": {},
   "source": [
    "# 실습 1: Series와 DataFrame 만들기"
   ]
  },
  {
   "cell_type": "code",
   "execution_count": 19,
   "id": "cafc7f6b",
   "metadata": {},
   "outputs": [
    {
     "name": "stdout",
     "output_type": "stream",
     "text": [
      "req1    120\n",
      "req2    350\n",
      "req3     95\n",
      "dtype: int64\n"
     ]
    }
   ],
   "source": [
    "# Series\n",
    "s = pd.Series([120, 350, 95], index=[\"req1\",\"req2\",\"req3\"])\n",
    "print(s)"
   ]
  },
  {
   "cell_type": "code",
   "execution_count": 20,
   "id": "fa68f311",
   "metadata": {},
   "outputs": [
    {
     "name": "stdout",
     "output_type": "stream",
     "text": [
      "   user_id  status  response_time\n",
      "0      101     200            120\n",
      "1      102     404            350\n",
      "2      103     500             95\n"
     ]
    }
   ],
   "source": [
    "# DataFrame\n",
    "data = {\"user_id\":[101,102,103],\n",
    "        \"status\":[200,404,500],\n",
    "        \"response_time\":[120, 350, 95]}\n",
    "df_sample = pd.DataFrame(data)\n",
    "print(df_sample)"
   ]
  },
  {
   "cell_type": "markdown",
   "id": "6d7d00fb",
   "metadata": {},
   "source": [
    "#  실습 2: CSV 파일 불러오기"
   ]
  },
  {
   "cell_type": "code",
   "execution_count": null,
   "id": "c7832206",
   "metadata": {},
   "outputs": [],
   "source": [
    "# logs.csv 읽기\n",
    "df = pd.read_csv(\"logs.csv\")\n",
    "\n",
    "print(\"===상위 5행 ===\")\n",
    "print(df.head())\n",
    "\n",
    "print(\"\\n=== 데이터 구조 ===\")\n",
    "print(df.info())\n",
    "\n",
    "print(\"\\n=== 요약 통계 ===\")\n",
    "print(df.describe())"
   ]
  },
  {
   "cell_type": "markdown",
   "id": "0225abd7",
   "metadata": {},
   "source": [
    "# 1. JSON 다루기"
   ]
  },
  {
   "cell_type": "code",
   "execution_count": null,
   "id": "e20b1172",
   "metadata": {},
   "outputs": [],
   "source": [
    "# JSON 파일 불러오기\n",
    "df_json = pd.read_json(\"data.json\")\n",
    "print(\"=== JSON 불러오기 ===\")\n",
    "print(df_json.head())\n",
    "\n",
    "# JSON 파일 저장하기\n",
    "df_json.to_json(\"export.json\", orient=\"records\", force_ascii=False)\n",
    "print(\"JSON 파일 저장 완료\")"
   ]
  },
  {
   "cell_type": "markdown",
   "id": "778ddb7a",
   "metadata": {},
   "source": [
    "# 2교시 : 데이터 선택 & 필터링"
   ]
  },
  {
   "cell_type": "code",
   "execution_count": 24,
   "id": "ffcb0907",
   "metadata": {},
   "outputs": [
    {
     "data": {
      "text/html": [
       "<div>\n",
       "<style scoped>\n",
       "    .dataframe tbody tr th:only-of-type {\n",
       "        vertical-align: middle;\n",
       "    }\n",
       "\n",
       "    .dataframe tbody tr th {\n",
       "        vertical-align: top;\n",
       "    }\n",
       "\n",
       "    .dataframe thead th {\n",
       "        text-align: right;\n",
       "    }\n",
       "</style>\n",
       "<table border=\"1\" class=\"dataframe\">\n",
       "  <thead>\n",
       "    <tr style=\"text-align: right;\">\n",
       "      <th></th>\n",
       "      <th>user_id</th>\n",
       "      <th>status</th>\n",
       "    </tr>\n",
       "  </thead>\n",
       "  <tbody>\n",
       "    <tr>\n",
       "      <th>0</th>\n",
       "      <td>101</td>\n",
       "      <td>200</td>\n",
       "    </tr>\n",
       "    <tr>\n",
       "      <th>1</th>\n",
       "      <td>102</td>\n",
       "      <td>404</td>\n",
       "    </tr>\n",
       "    <tr>\n",
       "      <th>2</th>\n",
       "      <td>103</td>\n",
       "      <td>500</td>\n",
       "    </tr>\n",
       "  </tbody>\n",
       "</table>\n",
       "</div>"
      ],
      "text/plain": [
       "   user_id  status\n",
       "0      101     200\n",
       "1      102     404\n",
       "2      103     500"
      ]
     },
     "execution_count": 24,
     "metadata": {},
     "output_type": "execute_result"
    }
   ],
   "source": [
    "# 1. 열 선택\n",
    "df[\"status\"].head()\n",
    "df[[\"user_id\",\"status\"]].head()"
   ]
  },
  {
   "cell_type": "code",
   "execution_count": 25,
   "id": "93b7632a",
   "metadata": {},
   "outputs": [
    {
     "data": {
      "text/html": [
       "<div>\n",
       "<style scoped>\n",
       "    .dataframe tbody tr th:only-of-type {\n",
       "        vertical-align: middle;\n",
       "    }\n",
       "\n",
       "    .dataframe tbody tr th {\n",
       "        vertical-align: top;\n",
       "    }\n",
       "\n",
       "    .dataframe thead th {\n",
       "        text-align: right;\n",
       "    }\n",
       "</style>\n",
       "<table border=\"1\" class=\"dataframe\">\n",
       "  <thead>\n",
       "    <tr style=\"text-align: right;\">\n",
       "      <th></th>\n",
       "      <th>user_id</th>\n",
       "      <th>status</th>\n",
       "    </tr>\n",
       "  </thead>\n",
       "  <tbody>\n",
       "    <tr>\n",
       "      <th>0</th>\n",
       "      <td>101</td>\n",
       "      <td>200</td>\n",
       "    </tr>\n",
       "    <tr>\n",
       "      <th>1</th>\n",
       "      <td>102</td>\n",
       "      <td>404</td>\n",
       "    </tr>\n",
       "    <tr>\n",
       "      <th>2</th>\n",
       "      <td>103</td>\n",
       "      <td>500</td>\n",
       "    </tr>\n",
       "  </tbody>\n",
       "</table>\n",
       "</div>"
      ],
      "text/plain": [
       "   user_id  status\n",
       "0      101     200\n",
       "1      102     404\n",
       "2      103     500"
      ]
     },
     "execution_count": 25,
     "metadata": {},
     "output_type": "execute_result"
    }
   ],
   "source": [
    "# 정수 위치 기반 선택: iloc\n",
    "df.iloc[0]         # 첫 번째 행\n",
    "df.iloc[0:5]       # 0~4행"
   ]
  },
  {
   "cell_type": "code",
   "execution_count": 26,
   "id": "3f9f3f96",
   "metadata": {},
   "outputs": [
    {
     "data": {
      "text/html": [
       "<div>\n",
       "<style scoped>\n",
       "    .dataframe tbody tr th:only-of-type {\n",
       "        vertical-align: middle;\n",
       "    }\n",
       "\n",
       "    .dataframe tbody tr th {\n",
       "        vertical-align: top;\n",
       "    }\n",
       "\n",
       "    .dataframe thead th {\n",
       "        text-align: right;\n",
       "    }\n",
       "</style>\n",
       "<table border=\"1\" class=\"dataframe\">\n",
       "  <thead>\n",
       "    <tr style=\"text-align: right;\">\n",
       "      <th></th>\n",
       "      <th>user_id</th>\n",
       "      <th>status</th>\n",
       "    </tr>\n",
       "  </thead>\n",
       "  <tbody>\n",
       "    <tr>\n",
       "      <th>0</th>\n",
       "      <td>101</td>\n",
       "      <td>200</td>\n",
       "    </tr>\n",
       "    <tr>\n",
       "      <th>1</th>\n",
       "      <td>102</td>\n",
       "      <td>404</td>\n",
       "    </tr>\n",
       "    <tr>\n",
       "      <th>2</th>\n",
       "      <td>103</td>\n",
       "      <td>500</td>\n",
       "    </tr>\n",
       "  </tbody>\n",
       "</table>\n",
       "</div>"
      ],
      "text/plain": [
       "   user_id  status\n",
       "0      101     200\n",
       "1      102     404\n",
       "2      103     500"
      ]
     },
     "execution_count": 26,
     "metadata": {},
     "output_type": "execute_result"
    }
   ],
   "source": [
    "# 라벨 기반 선택: loc\n",
    "df.loc[0,\"status\"]    # 0번 행의 status 값\n",
    "df.loc[0:3, [\"user_id\",\"status\"]]"
   ]
  },
  {
   "cell_type": "code",
   "execution_count": null,
   "id": "7f47da0f",
   "metadata": {},
   "outputs": [],
   "source": [
    "# 3. 조건 필터링(Boolean Indexing)\n",
    "df[df[\"status\"] == 200]    # status가 200인 행\n",
    "df[df[\"response_time_ms\"] > 300]   # 응답시간 > 300"
   ]
  },
  {
   "cell_type": "code",
   "execution_count": null,
   "id": "8376cde2",
   "metadata": {},
   "outputs": [],
   "source": [
    "df[(df[\"status\"] == 200) & (df[\"response_time_ms\"] < 200)]"
   ]
  },
  {
   "cell_type": "code",
   "execution_count": null,
   "id": "7f4b1aa4",
   "metadata": {},
   "outputs": [],
   "source": [
    "# 실습 1: 열 선택\n",
    "\n",
    "df = pd.read_csv(\"logs.csv\")\n",
    "\n",
    "print(\"=== status 열 ===\")\n",
    "print(df[\"status\"].head())\n",
    "\n",
    "print(\"\\n=== user_id, status 열 ===\")\n",
    "print(df[[\"user_id\",\"status\"]].head())"
   ]
  },
  {
   "cell_type": "code",
   "execution_count": null,
   "id": "6d58999d",
   "metadata": {},
   "outputs": [],
   "source": [
    "# 실습 2: 행 선택\n",
    "# 정수 위치 기반\n",
    "print(\"첫 번째 행:\\n\", df.iloc[0])\n",
    "print(\"앞 3행:\\n\", df.iloc[:3])\n",
    "\n",
    "# 라벨 기반\n",
    "print(\"0번 행, status 값:\", df.loc[0,\"status\"])\n",
    "print(\"0~2행, user_id & endpoint:\\n\", df.loc[0:2, [\"user_id\",\"endpoint\"]])"
   ]
  },
  {
   "cell_type": "code",
   "execution_count": null,
   "id": "507b1f19",
   "metadata": {},
   "outputs": [],
   "source": [
    "# 실습 3: 조건 필터링\n",
    "# status가 500인 에러 로그\n",
    "error_500 = df[df[\"status\"] == 500]\n",
    "print(\"500에러 개수:\", len(error_500))\n",
    "\n",
    "# 응답시간이 400ms 이상인 로그\n",
    "slow = df[df[\"response_time_ms\"] >= 400]\n",
    "print(\"느린 요청 개수:\", len(slow))\n",
    "\n",
    "# 복합 조건 (200 성공 & 응답시간 < 150)\n",
    "fast_success = df[(df[\"status\"] == 200) & (df[\"response_time_ms\"] < 150)]\n",
    "print(\"빠른 성공 요청 개수:\", len(fast_success))"
   ]
  },
  {
   "cell_type": "code",
   "execution_count": null,
   "id": "732b6b44",
   "metadata": {},
   "outputs": [],
   "source": [
    "# status가 200 또는 404인 로그만 선택\n",
    "df[df[\"status\"].isin([200, 404])]\n",
    "\n",
    "# 응답 시간이 100ms 이상 300ms 이하인 로그 선택\n",
    "df[df[\"response_time_ms\"].between(100, 300)]"
   ]
  },
  {
   "cell_type": "code",
   "execution_count": 35,
   "id": "e9754eda",
   "metadata": {},
   "outputs": [],
   "source": [
    "# 샘플 데이터 생성\n",
    "data = {\n",
    "    \"user_id\": [101,102,103,104,105],\n",
    "    \"status\": [200,404,500,200,404],\n",
    "    \"response_time_ms\": [120, 350, 95, 280, 150]\n",
    "}\n",
    "df = pd.DataFrame(data)"
   ]
  },
  {
   "cell_type": "code",
   "execution_count": 36,
   "id": "84f77bd6",
   "metadata": {},
   "outputs": [
    {
     "name": "stdout",
     "output_type": "stream",
     "text": [
      "   user_id  status  response_time_ms\n",
      "0      101     200               120\n",
      "1      102     404               350\n",
      "2      103     500                95\n",
      "3      104     200               280\n",
      "4      105     404               150\n"
     ]
    }
   ],
   "source": [
    "print(df)"
   ]
  },
  {
   "cell_type": "code",
   "execution_count": 37,
   "id": "9b2506ee",
   "metadata": {},
   "outputs": [
    {
     "name": "stdout",
     "output_type": "stream",
     "text": [
      "\n",
      "=== status가 200 또는 404인 로그 ===\n",
      "   user_id  status  response_time_ms\n",
      "0      101     200               120\n",
      "1      102     404               350\n",
      "3      104     200               280\n",
      "4      105     404               150\n",
      "\n",
      "=== 응답시간 100~300ms 사이 로그 ===\n",
      "   user_id  status  response_time_ms\n",
      "0      101     200               120\n",
      "3      104     200               280\n",
      "4      105     404               150\n"
     ]
    }
   ],
   "source": [
    "# 1) isin 활용\n",
    "print(\"\\n=== status가 200 또는 404인 로그 ===\")\n",
    "print(df[df[\"status\"].isin([200, 404])])\n",
    "\n",
    "# 2) between 활용\n",
    "print(\"\\n=== 응답시간 100~300ms 사이 로그 ===\")\n",
    "print(df[df[\"response_time_ms\"].between(100, 300)])"
   ]
  },
  {
   "cell_type": "code",
   "execution_count": null,
   "id": "cde0481e",
   "metadata": {},
   "outputs": [],
   "source": [
    "# status, endpoint 별 요청 개수 집계\n",
    "df_grouped = df.groupby([\"status\",\"endpoint\"]).size()\n",
    "\n",
    "# status가 200인 경우만 출력\n",
    "print(df_grouped.loc[200])"
   ]
  },
  {
   "cell_type": "code",
   "execution_count": 40,
   "id": "ed681c08",
   "metadata": {},
   "outputs": [
    {
     "name": "stdout",
     "output_type": "stream",
     "text": [
      "   user_id  status endpoint\n",
      "0      101     200  /api/v1\n",
      "1      102     200    /home\n",
      "2      103     404  /api/v1\n",
      "3      104     500    /home\n",
      "4      105     200    login\n",
      "5      106     404  /api/v1\n"
     ]
    }
   ],
   "source": [
    "# 실습\n",
    "\n",
    "# 샘플 로그 데이터\n",
    "data = {\n",
    "    \"user_id\":[101,102,103,104,105,106],\n",
    "    \"status\":[200,200,404,500,200,404],\n",
    "    \"endpoint\":[\"/api/v1\",\"/home\",\"/api/v1\",\"/home\",\"login\",\"/api/v1\"]\n",
    "}\n",
    "df = pd.DataFrame(data)\n",
    "\n",
    "print(df)"
   ]
  },
  {
   "cell_type": "code",
   "execution_count": null,
   "id": "1d7d45a4",
   "metadata": {},
   "outputs": [],
   "source": [
    "# status, endpoint 조합별 요청 개수\n",
    "df_grouped = df_groupby([\"status\",\"endpoint\"]).size()\n",
    "print(df_grouped)\n",
    "print(\"\\n=== 그룹화 결과 (MultiIndex) ===\")"
   ]
  },
  {
   "cell_type": "code",
   "execution_count": null,
   "id": "c6ec7177",
   "metadata": {},
   "outputs": [],
   "source": [
    "# status가 200인 경우만 선택\n",
    "print(\"\\n=== status=200인 endpoint별 요청 개수 ===\")\n",
    "print(df_grouped.loc[200])"
   ]
  },
  {
   "cell_type": "markdown",
   "id": "5fa4f413",
   "metadata": {},
   "source": [
    "# 3교시 : 정렬 & 컬럼 조작"
   ]
  },
  {
   "cell_type": "code",
   "execution_count": null,
   "id": "ed8ce721",
   "metadata": {},
   "outputs": [],
   "source": [
    "# 1.정렬\n",
    "\n",
    "df.sort_values(\"response_time_ms\")                  # 오름차순 ascending\n",
    "df.sort_values(\"response_time_ms\", ascending=False) # 내림차순 descending"
   ]
  },
  {
   "cell_type": "code",
   "execution_count": null,
   "id": "8819cf73",
   "metadata": {},
   "outputs": [],
   "source": [
    "# 여러 열 기준 정렬\n",
    "df.sort_values([\"status\",\"response_time_ms\"], ascending=[True, False])"
   ]
  },
  {
   "cell_type": "code",
   "execution_count": null,
   "id": "53b10afd",
   "metadata": {},
   "outputs": [],
   "source": [
    "# 2. 컬럼 추가\n",
    "df[\"is_error\"] = df[\"status\"] >= 400\n",
    "df[\"sec\"] = df[\"response_time_ms\"] / 1000"
   ]
  },
  {
   "cell_type": "code",
   "execution_count": null,
   "id": "81d68cca",
   "metadata": {},
   "outputs": [],
   "source": [
    "# 3. 컬럼 삭제\n",
    "df = df.drop(\"sec\", axis=1)"
   ]
  },
  {
   "cell_type": "markdown",
   "id": "9d0c6bdd",
   "metadata": {},
   "source": [
    "# 실습 1: 정렬"
   ]
  },
  {
   "cell_type": "code",
   "execution_count": null,
   "id": "3316a01d",
   "metadata": {},
   "outputs": [],
   "source": [
    "df = pd.read_csv(\"logs.csv\")\n",
    "\n",
    "# 응답시간 오름차순 정렬\n",
    "print(df.sort_values(\"response_time_ms\").head())\n",
    "\n",
    "# 응답시간 내림차순 (가장 느린 요청 Top 5)\n",
    "print(df.sort_values(\"response_time_ms\", ascending=False).head())"
   ]
  },
  {
   "cell_type": "markdown",
   "id": "97ffba48",
   "metadata": {},
   "source": [
    "# 실습 2: 다중 열 정렬"
   ]
  },
  {
   "cell_type": "code",
   "execution_count": null,
   "id": "644c4804",
   "metadata": {},
   "outputs": [],
   "source": [
    "# status 오름차순, 같은 status 내에서 응답시간 내림차순\n",
    "df_sorted = df.sort_values([\"status\",\"response_time_ms\"],\n",
    "                           ascending=[True, False])\n",
    "print(df_sorted.head(10))\n"
   ]
  }
 ],
 "metadata": {
  "kernelspec": {
   "display_name": "Python 3",
   "language": "python",
   "name": "python3"
  },
  "language_info": {
   "codemirror_mode": {
    "name": "ipython",
    "version": 3
   },
   "file_extension": ".py",
   "mimetype": "text/x-python",
   "name": "python",
   "nbconvert_exporter": "python",
   "pygments_lexer": "ipython3",
   "version": "3.13.5"
  }
 },
 "nbformat": 4,
 "nbformat_minor": 5
}
