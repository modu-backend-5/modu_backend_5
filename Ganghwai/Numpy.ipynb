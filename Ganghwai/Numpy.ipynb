{
 "cells": [
  {
   "cell_type": "markdown",
   "id": "13b5027f",
   "metadata": {},
   "source": [
    "# 3. 배열 생성 방법"
   ]
  },
  {
   "cell_type": "code",
   "execution_count": 9,
   "id": "5cc7e609",
   "metadata": {},
   "outputs": [],
   "source": [
    "import numpy as np"
   ]
  },
  {
   "cell_type": "code",
   "execution_count": null,
   "id": "1106db65",
   "metadata": {},
   "outputs": [
    {
     "data": {
      "text/plain": [
       "array([1, 2, 3])"
      ]
     },
     "execution_count": 10,
     "metadata": {},
     "output_type": "execute_result"
    }
   ],
   "source": [
    "# 리스트 → 배열\n",
    "np.array([1, 2, 3])"
   ]
  },
  {
   "cell_type": "code",
   "execution_count": null,
   "id": "718fca0b",
   "metadata": {},
   "outputs": [
    {
     "data": {
      "text/plain": [
       "array([1, 3, 5, 7, 9])"
      ]
     },
     "execution_count": 11,
     "metadata": {},
     "output_type": "execute_result"
    }
   ],
   "source": [
    "# 특수 배열\n",
    "np.zeros(5)\n",
    "np.ones(5)\n",
    "np.arange(1, 10, 2)"
   ]
  },
  {
   "cell_type": "markdown",
   "id": "cf156d03",
   "metadata": {},
   "source": [
    "# 실습 1: 배열 생성"
   ]
  },
  {
   "cell_type": "code",
   "execution_count": 12,
   "id": "db28135d",
   "metadata": {},
   "outputs": [
    {
     "name": "stdout",
     "output_type": "stream",
     "text": [
      "[120, 350, 95, 220, 180]\n",
      "[120 350  95 220 180]\n",
      "<class 'numpy.ndarray'>\n"
     ]
    }
   ],
   "source": [
    "response_list = [120, 350, 95, 220, 180]\n",
    "response_array = np.array(response_list)\n",
    "\n",
    "print(response_list)\n",
    "print(response_array)\n",
    "print(type(response_array))"
   ]
  },
  {
   "cell_type": "markdown",
   "id": "cd645327",
   "metadata": {},
   "source": [
    "# 실습 2: 특수 배열"
   ]
  },
  {
   "cell_type": "code",
   "execution_count": 13,
   "id": "a84990ac",
   "metadata": {},
   "outputs": [
    {
     "name": "stdout",
     "output_type": "stream",
     "text": [
      "[0. 0. 0. 0. 0.]\n",
      "[1. 1. 1. 1. 1.]\n",
      "[[0. 0. 0. 0. 0.]\n",
      " [0. 0. 0. 0. 0.]\n",
      " [0. 0. 0. 0. 0.]\n",
      " [0. 0. 0. 0. 0.]\n",
      " [0. 0. 0. 0. 0.]]\n",
      "[[1. 1. 1. 1. 1.]\n",
      " [1. 1. 1. 1. 1.]\n",
      " [1. 1. 1. 1. 1.]\n",
      " [1. 1. 1. 1. 1.]\n",
      " [1. 1. 1. 1. 1.]]\n",
      "[1 3 5 7 9]\n"
     ]
    }
   ],
   "source": [
    "# 0과 1로 채운 배열\n",
    "print(np.zeros(5))\n",
    "print(np.ones(5))\n",
    "# 0과 1을 2차원으로 채우려면?\n",
    "print(np.zeros([5,5]))\n",
    "print(np.ones([5,5]))\n",
    "\n",
    "# 연속된 수\n",
    "print(np.arange(1, 10, 2))"
   ]
  },
  {
   "cell_type": "markdown",
   "id": "5bd24623",
   "metadata": {},
   "source": [
    "# 실습 3: 성능 비교"
   ]
  },
  {
   "cell_type": "code",
   "execution_count": 14,
   "id": "c5a1c0c4",
   "metadata": {},
   "outputs": [
    {
     "name": "stdout",
     "output_type": "stream",
     "text": [
      "0.08065176010131836\n",
      "0.0070497989654541016\n"
     ]
    }
   ],
   "source": [
    "import time\n",
    "\n",
    "lst = list(range(1000000))\n",
    "arr = np.array(lst)\n",
    "\n",
    "# 리스트 합\n",
    "start = time.time()\n",
    "sum([x*2 for x in lst])\n",
    "print(time.time() - start)\n",
    "\n",
    "# 배열 합\n",
    "start = time.time()\n",
    "(arr*2).sum()\n",
    "print(time.time() - start)"
   ]
  },
  {
   "cell_type": "markdown",
   "id": "f3a551f4",
   "metadata": {},
   "source": [
    "# 🔹 예시: 파이썬 vs NumPy 이미지 처리 속도"
   ]
  },
  {
   "cell_type": "code",
   "execution_count": 15,
   "id": "ffc30028",
   "metadata": {},
   "outputs": [
    {
     "name": "stdout",
     "output_type": "stream",
     "text": [
      "7.097699165344238\n",
      "0.023438215255737305\n"
     ]
    }
   ],
   "source": [
    "# 가짜 이미지\n",
    "img = (np.random.rand(768, 1024, 3) * 255).astype(np.uint8)\n",
    "\n",
    "# --- 파이썬 방식 (루프) ---\n",
    "start = time.time()\n",
    "\n",
    "gray_py = [[int(0.299*r + 0.587*g + 0.114*b) for r,g,b in row]for row in img]\n",
    "print(time.time() - start)\n",
    "\n",
    "# --- numpy 방식 (벡터 연산) ---\n",
    "start = time.time()\n",
    "gray_np = np.dot(img[...,:3], [0.299, 0.587, 0.114])\n",
    "print(time.time() - start)"
   ]
  },
  {
   "cell_type": "markdown",
   "id": "9f45ce81",
   "metadata": {},
   "source": [
    "# 2교시: 배열 속성과 탐색"
   ]
  },
  {
   "cell_type": "code",
   "execution_count": 16,
   "id": "fb2807fc",
   "metadata": {},
   "outputs": [
    {
     "name": "stdout",
     "output_type": "stream",
     "text": [
      "2\n",
      "(2, 3)\n",
      "6\n",
      "int64\n"
     ]
    }
   ],
   "source": [
    "# 1. 배열의 속성\n",
    "\n",
    "arr = np.array([[1,2,3],[4,5,6]])\n",
    "print(arr.ndim)\n",
    "print(arr. shape)\n",
    "print(arr.size)\n",
    "print(arr.dtype)"
   ]
  },
  {
   "cell_type": "code",
   "execution_count": 19,
   "id": "96e289b4",
   "metadata": {},
   "outputs": [
    {
     "name": "stdout",
     "output_type": "stream",
     "text": [
      "10\n",
      "60\n"
     ]
    }
   ],
   "source": [
    "# 2. 인덱싱(Indexing)\n",
    "# 1차원 배열\n",
    "arr = np.array([10,20,30])\n",
    "print(arr[0])\n",
    "\n",
    "# 2차원 배열\n",
    "arr = np.array([[10,20,30],[40,50,60]])\n",
    "print(arr[1,2])"
   ]
  },
  {
   "cell_type": "code",
   "execution_count": 21,
   "id": "e303a730",
   "metadata": {},
   "outputs": [
    {
     "name": "stdout",
     "output_type": "stream",
     "text": [
      "[20 30 40]\n",
      "[10 20 30]\n",
      "[50 60 70]\n",
      "[10 30 50 70]\n",
      "[20 40 60]\n",
      "[70 60 50 40 30 20 10]\n",
      "[60 50 40]\n"
     ]
    }
   ],
   "source": [
    "# 3. 슬라이싱(Slicing)\n",
    "# 1차원 배열 예제\n",
    "\n",
    "arr = np.array([10, 20, 30, 40, 50, 60, 70])\n",
    "\n",
    "# 기본 슬라이싱\n",
    "print(arr[1:4])\n",
    "print(arr[:3])\n",
    "print(arr[4:])\n",
    "\n",
    "# 간격(step) 사용\n",
    "print(arr[::2])\n",
    "print(arr[1::2])\n",
    "print(arr[::-1])\n",
    "\n",
    "# 특정 구간 역순\n",
    "print(arr[5:2:-1])"
   ]
  },
  {
   "cell_type": "code",
   "execution_count": 24,
   "id": "6bea0158",
   "metadata": {},
   "outputs": [
    {
     "name": "stdout",
     "output_type": "stream",
     "text": [
      "[[1 2 3]\n",
      " [4 5 6]]\n",
      "[[1 2 3]\n",
      " [7 8 9]]\n",
      "[[ 2  3]\n",
      " [ 5  6]\n",
      " [ 8  9]\n",
      " [11 12]]\n",
      "[[4 5]\n",
      " [7 8]]\n",
      "[[1 3]\n",
      " [7 9]]\n",
      "[[10 11 12]\n",
      " [ 7  8  9]\n",
      " [ 4  5  6]\n",
      " [ 1  2  3]]\n",
      "[[ 3  2  1]\n",
      " [ 6  5  4]\n",
      " [ 9  8  7]\n",
      " [12 11 10]]\n"
     ]
    }
   ],
   "source": [
    "# 2차원 배열 예제\n",
    "mat = np.array([[1,2,3],\n",
    "               [4,5,6],\n",
    "               [7,8,9],\n",
    "               [10,11,12]])\n",
    "\n",
    "# 행 선택\n",
    "print(mat[0:2])\n",
    "print(mat[::2])\n",
    "\n",
    "# 열 선택\n",
    "print(mat[:, 1:3])\n",
    "\n",
    "# 행, 열 동시에\n",
    "print(mat[1:3, 0:2])\n",
    "\n",
    "# 부분 선택 + 간격\n",
    "print(mat[::2, ::2])\n",
    "\n",
    "# 역순\n",
    "print(mat[::-1])\n",
    "print(mat[:, ::-1])"
   ]
  },
  {
   "cell_type": "code",
   "execution_count": 29,
   "id": "9778d405",
   "metadata": {},
   "outputs": [
    {
     "name": "stdout",
     "output_type": "stream",
     "text": [
      "[40 50 60 70]\n",
      "[10 20 30 40]\n",
      "[20 40 60]\n"
     ]
    }
   ],
   "source": [
    "# 4. 조건 인덱싱(Boolean Indexing)\n",
    "\n",
    "#  1개의 조건\n",
    "arr = np.array([10, 20, 30, 40, 50, 60, 70])\n",
    "\n",
    "print(arr[arr > 30])\n",
    "print(arr[arr <= 40])\n",
    "print(arr[arr % 20 == 0])"
   ]
  },
  {
   "cell_type": "code",
   "execution_count": 33,
   "id": "06285d2e",
   "metadata": {},
   "outputs": [
    {
     "name": "stdout",
     "output_type": "stream",
     "text": [
      "[30 40 50]\n",
      "[10 20 60 70]\n",
      "[10 20 40 50 70]\n"
     ]
    }
   ],
   "source": [
    " # 2개의 조건 (AND: &, OR: |)\n",
    "\n",
    "# AND 조건 \n",
    "print(arr[(arr > 20) & (arr < 60)])\n",
    "\n",
    "# OR 조건\n",
    "print(arr[(arr < 25) | (arr > 55)])\n",
    "\n",
    "# NOT 조건\n",
    "print(arr[~(arr % 30 == 0)])"
   ]
  },
  {
   "cell_type": "code",
   "execution_count": 34,
   "id": "19ddb16a",
   "metadata": {},
   "outputs": [
    {
     "name": "stdout",
     "output_type": "stream",
     "text": [
      "[ 6  7  8  9 10 11 12]\n",
      "[ 2  4  6  8 10 12]\n",
      "[ 5  6  7  8  9 10]\n"
     ]
    }
   ],
   "source": [
    "# 2차원 배열 조건 인덱싱\n",
    "mat = np.array([[1,2,3],\n",
    "                [4,5,6],\n",
    "                [7,8,9],\n",
    "                [10,11,12]])\n",
    "\n",
    "print(mat[mat > 5])\n",
    "print(mat[(mat % 2 == 0)])\n",
    "\n",
    "# 2개 조건 (예: 5 이상 AND 10 이하)\n",
    "print(mat[(mat >= 5) & (mat <= 10)])"
   ]
  },
  {
   "cell_type": "code",
   "execution_count": 35,
   "id": "35675f99",
   "metadata": {},
   "outputs": [
    {
     "name": "stdout",
     "output_type": "stream",
     "text": [
      "2\n",
      "(2, 3)\n",
      "6\n",
      "int64\n"
     ]
    }
   ],
   "source": [
    "# 실습 1: 배열 속성 확인\n",
    "\n",
    "response_array = np.array([[120, 350, 95],\n",
    "                           [220, 180, 140]])\n",
    "\n",
    "print(response_array.ndim)\n",
    "print(response_array.shape)\n",
    "print(response_array.size)\n",
    "print(response_array.dtype)"
   ]
  },
  {
   "cell_type": "code",
   "execution_count": 36,
   "id": "cea078af",
   "metadata": {},
   "outputs": [
    {
     "name": "stdout",
     "output_type": "stream",
     "text": [
      "350\n",
      "[220 180 140]\n"
     ]
    }
   ],
   "source": [
    "# 실습 2: 인덱싱\n",
    "# 2차원 배열에서 특정 값 추출\n",
    "print(response_array[0,1])\n",
    "print(response_array[1])"
   ]
  },
  {
   "cell_type": "code",
   "execution_count": 37,
   "id": "9e3f098d",
   "metadata": {},
   "outputs": [
    {
     "name": "stdout",
     "output_type": "stream",
     "text": [
      "[10 20 30 40 50]\n",
      "[20 30 40]\n",
      "[[350  95]\n",
      " [180 140]]\n"
     ]
    }
   ],
   "source": [
    "# 실습 3: 슬라이싱\n",
    "\n",
    "# 1차원 슬라이싱\n",
    "arr = np.arange(10, 60, 10)\n",
    "print(arr)\n",
    "print(arr[1:4])\n",
    "\n",
    "# 2차원 슬라이싱\n",
    "print(response_array[0:2, 1:3])"
   ]
  },
  {
   "cell_type": "code",
   "execution_count": 39,
   "id": "b004d3ae",
   "metadata": {},
   "outputs": [
    {
     "name": "stdout",
     "output_type": "stream",
     "text": [
      "[350 220]\n",
      "[120 350 220 180 140]\n"
     ]
    }
   ],
   "source": [
    "# 실습 4: 조건 인덱싱\n",
    "# 200ms 이상 응답만 추출\n",
    "print(response_array[response_array >= 200])\n",
    "# 짝수 응답시간만 추출\n",
    "print(response_array[response_array % 2 == 0])"
   ]
  },
  {
   "cell_type": "markdown",
   "id": "488ef688",
   "metadata": {},
   "source": [
    "# 3교시: 조건 필터링 & 브로드캐스팅"
   ]
  },
  {
   "cell_type": "code",
   "execution_count": 40,
   "id": "57051b63",
   "metadata": {},
   "outputs": [
    {
     "name": "stdout",
     "output_type": "stream",
     "text": [
      "[False  True False  True False]\n",
      "[350 220]\n",
      "[120  95 180]\n"
     ]
    }
   ],
   "source": [
    "# 1. 조건 필터링(Boolean Indexing)\n",
    "arr = np.array([120, 350, 95, 220, 180])\n",
    "print(arr > 200)\n",
    "print(arr[arr > 200])\n",
    "\n",
    "print(arr[arr <= 180])"
   ]
  },
  {
   "cell_type": "code",
   "execution_count": 41,
   "id": "201d561e",
   "metadata": {},
   "outputs": [
    {
     "name": "stdout",
     "output_type": "stream",
     "text": [
      "[220 180]\n",
      "[350  95]\n",
      "[120  95 180]\n"
     ]
    }
   ],
   "source": [
    "# 2. 복합 조건\n",
    "# 150 이상 AND 300 이하\n",
    "print(arr[(arr >= 150) & (arr <= 300)])\n",
    "\n",
    "# 100 미만 OR 300 초과\n",
    "print(arr[(arr < 100) | (arr > 300)])\n",
    "\n",
    "# NOT(200 이하 값만)\n",
    "print(arr[~(arr > 200)])\n"
   ]
  },
  {
   "cell_type": "code",
   "execution_count": 42,
   "id": "1e1fb049",
   "metadata": {},
   "outputs": [
    {
     "name": "stdout",
     "output_type": "stream",
     "text": [
      "[11 12 13 14 15]\n"
     ]
    }
   ],
   "source": [
    "# 3. 브로드캐스팅(Broadcasting)\n",
    "arr = np.array([1,2,3,4,5])\n",
    "print(arr + 10)"
   ]
  },
  {
   "cell_type": "code",
   "execution_count": 43,
   "id": "27989afd",
   "metadata": {},
   "outputs": [
    {
     "name": "stdout",
     "output_type": "stream",
     "text": [
      "[[11 22 33]\n",
      " [14 25 36]]\n"
     ]
    }
   ],
   "source": [
    "# 2차원 배열도 마찬가지\n",
    "\n",
    "mat = np.array([[1,2,3],\n",
    "                [4,5,6]])\n",
    "print(mat + np.array([10,20,30]))"
   ]
  },
  {
   "cell_type": "code",
   "execution_count": 44,
   "id": "03467cdb",
   "metadata": {},
   "outputs": [
    {
     "name": "stdout",
     "output_type": "stream",
     "text": [
      "[]\n"
     ]
    }
   ],
   "source": [
    "# 실습 1: 조건 필터링\n",
    "response_array = np.array([120, 350, 95, 220, 180, 510])\n",
    "\n",
    "# 200ms 이상 요청만 추출\n",
    "response_array = np.array([response_array  >= 200])\n",
    "\n",
    "# 100~300ms 사이만 추출\n",
    "print(response_array[(response_array >= 100) & (response_array <= 300)])"
   ]
  },
  {
   "cell_type": "code",
   "execution_count": 45,
   "id": "a4154ecc",
   "metadata": {},
   "outputs": [
    {
     "name": "stdout",
     "output_type": "stream",
     "text": [
      "0.0\n"
     ]
    }
   ],
   "source": [
    "# 실습 2: 조건 + 통계\n",
    "\n",
    "# 느린 요청 비율 계산\n",
    "slow_rate = (response_array > 400).mean()\n",
    "print(slow_rate)"
   ]
  },
  {
   "cell_type": "code",
   "execution_count": 47,
   "id": "4b8634b6",
   "metadata": {},
   "outputs": [
    {
     "name": "stdout",
     "output_type": "stream",
     "text": [
      "[[50 51 50 51 50 51]]\n",
      "[[110 220 330]\n",
      " [410 520 630]]\n"
     ]
    }
   ],
   "source": [
    "# 실습 3: 브로드캐스팅\n",
    "\n",
    "# 응답시간 배열에 50ms 네트워크 지연 추가 \n",
    "adjusted = response_array + 50\n",
    "print(adjusted)\n",
    "\n",
    "# 2차원 배열 브로드캐스팅\n",
    "mat = np.array([[100,200,300],\n",
    "                [400,500,600]])\n",
    "penalty = np.array([10,20,30])\n",
    "print(mat + penalty)"
   ]
  },
  {
   "cell_type": "markdown",
   "id": "a7d5eafd",
   "metadata": {},
   "source": [
    "# 4교시: 수학 연산과 통계"
   ]
  },
  {
   "cell_type": "code",
   "execution_count": 48,
   "id": "d7c11127",
   "metadata": {},
   "outputs": [
    {
     "name": "stdout",
     "output_type": "stream",
     "text": [
      "[15 25 35]\n",
      "[ 5 15 25]\n",
      "[20 40 60]\n",
      "[ 5. 10. 15.]\n",
      "[100 400 900]\n",
      "[11 22 33]\n",
      "[10 40 90]\n"
     ]
    }
   ],
   "source": [
    "# 1. 기본 산술 연산\n",
    "\n",
    "arr = np.array([10, 20, 30])\n",
    "\n",
    "# 덧셈\n",
    "print(arr + 5)\n",
    "# 뺄셈\n",
    "print(arr - 5)\n",
    "# 곱셈\n",
    "print(arr * 2)\n",
    "# 나눗셈\n",
    "print(arr / 2)\n",
    "# 제곱\n",
    "print(arr ** 2)\n",
    "\n",
    "# 원소간의 계산\n",
    "arr1 = np.array([1,2,3])\n",
    "arr2 = np.array([10, 20, 30])\n",
    "\n",
    "# 원소별 덧셈/곱셈\n",
    "print(arr1 + arr2)\n",
    "print(arr1 * arr2)"
   ]
  },
  {
   "cell_type": "code",
   "execution_count": 49,
   "id": "cfd826b8",
   "metadata": {},
   "outputs": [
    {
     "name": "stdout",
     "output_type": "stream",
     "text": [
      "965\n",
      "<built-in method prod of numpy.ndarray object at 0x000001ADF9236130>\n",
      "193.0\n",
      "89.97777503361594\n",
      "8096.0\n",
      "95\n",
      "350\n",
      "180.0\n"
     ]
    }
   ],
   "source": [
    "# 2. 통계 함수\n",
    "\n",
    "arr = np.array([120, 350, 95, 220, 180])\n",
    "\n",
    "print(arr.sum())\n",
    "print(arr.prod)\n",
    "print(arr.mean())\n",
    "print(arr.std())\n",
    "print(arr.var())\n",
    "print(arr.min())\n",
    "print(arr.max())\n",
    "print(np.median(arr))"
   ]
  },
  {
   "cell_type": "code",
   "execution_count": 51,
   "id": "eeb6cc64",
   "metadata": {},
   "outputs": [
    {
     "name": "stdout",
     "output_type": "stream",
     "text": [
      "45\n",
      "[ 6 15 24]\n",
      "[12 15 18]\n",
      "[2. 5. 8.]\n",
      "[7 8 9]\n"
     ]
    }
   ],
   "source": [
    "# [2차원 계산]\n",
    "\n",
    "mat = np.array([[1, 2, 3],\n",
    "                [4, 5, 6],\n",
    "                [7, 8, 9]])\n",
    "\n",
    "print(mat.sum())\n",
    "print(mat.sum(axis=1))\n",
    "print(mat.sum(axis=0))\n",
    "\n",
    "print(mat.mean(axis=1))\n",
    "print(mat.max(axis=0))"
   ]
  },
  {
   "cell_type": "code",
   "execution_count": 52,
   "id": "450378ec",
   "metadata": {},
   "outputs": [
    {
     "name": "stdout",
     "output_type": "stream",
     "text": [
      "[[1 3]\n",
      " [2 4]]\n",
      "[ 50 110]\n"
     ]
    }
   ],
   "source": [
    "# 3. 행렬 연산\n",
    "\n",
    "mat = np.array([[1,2],[3,4]])\n",
    "vec = np.array([10,20])\n",
    "print(mat.T)\n",
    "print(np.dot(mat, vec))"
   ]
  },
  {
   "cell_type": "code",
   "execution_count": 53,
   "id": "de63ba20",
   "metadata": {},
   "outputs": [
    {
     "name": "stdout",
     "output_type": "stream",
     "text": [
      "(2, 3)\n",
      "(3, 2)\n"
     ]
    }
   ],
   "source": [
    "mat = np.array([[1, 2, 3],\n",
    "                [4, 5, 6]])\n",
    "print(mat.shape)\n",
    "print(mat.T.shape)"
   ]
  },
  {
   "cell_type": "code",
   "execution_count": 54,
   "id": "eba75253",
   "metadata": {},
   "outputs": [
    {
     "name": "stdout",
     "output_type": "stream",
     "text": [
      "[130 360 105 230 190]\n",
      "[240 700 190 440 360]\n"
     ]
    }
   ],
   "source": [
    "# 실습 1: 기본 연산\n",
    "\n",
    "response_array = np.array([120, 350, 95, 220, 180])\n",
    "\n",
    "print(response_array + 10)\n",
    "print(response_array * 2)"
   ]
  },
  {
   "cell_type": "code",
   "execution_count": 55,
   "id": "526cddff",
   "metadata": {},
   "outputs": [
    {
     "name": "stdout",
     "output_type": "stream",
     "text": [
      "285.0\n",
      "324.0\n"
     ]
    }
   ],
   "source": [
    "# 실습 3: 느린 요청 분석\n",
    "\n",
    "# 200ms 이상 응답의 평균\n",
    "slow_requests = response_array[response_array >= 200]\n",
    "print(slow_requests.mean())\n",
    "\n",
    "# 95% 분위수 (성능 SLA 기준으로 활용)\n",
    "p95 = np.percentile(response_array, 95)\n",
    "print(p95)"
   ]
  },
  {
   "cell_type": "code",
   "execution_count": null,
   "id": "e853cca6",
   "metadata": {},
   "outputs": [],
   "source": [
    "# 실습 4: 행렬 연산\n",
    "\n",
    "# 사용자 x 엔드포인트 응답시간 매트릭스\n",
    "mat = np.array([[120, 350, 95],\n",
    "                [200, 180, 140],\n",
    "                [410, 290, 330]])\n",
    "\n",
    "print(mat.T)\n"
   ]
  }
 ],
 "metadata": {
  "kernelspec": {
   "display_name": "Python 3",
   "language": "python",
   "name": "python3"
  },
  "language_info": {
   "codemirror_mode": {
    "name": "ipython",
    "version": 3
   },
   "file_extension": ".py",
   "mimetype": "text/x-python",
   "name": "python",
   "nbconvert_exporter": "python",
   "pygments_lexer": "ipython3",
   "version": "3.13.5"
  }
 },
 "nbformat": 4,
 "nbformat_minor": 5
}
