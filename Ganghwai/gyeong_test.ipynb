{
 "cells": [
  {
   "cell_type": "markdown",
   "id": "14d9024f",
   "metadata": {},
   "source": [
    "# 안녕하세요 커밋 테스트중입니다."
   ]
  }
 ],
 "metadata": {
  "language_info": {
   "name": "python"
  }
 },
 "nbformat": 4,
 "nbformat_minor": 5
}
