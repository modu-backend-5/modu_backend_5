{
 "cells": [
  {
   "cell_type": "markdown",
   "id": "9095501b",
   "metadata": {},
   "source": [
    "# 함수와 인사하기"
   ]
  },
  {
   "cell_type": "code",
   "execution_count": null,
   "id": "9e2c8363",
   "metadata": {},
   "outputs": [],
   "source": [
    "def test(x, y): # 함수의 정의\n",
    "    print(x + y)\n",
    "    print(x - y)\n",
    "    print(x / y)\n",
    "    print(x * y)\n",
    "\n",
    "\n",
    "test(10, 20) # 함수의 호출(함수를 사용)\n",
    "test(3, 10) # 함수의 호출(함수를 사용)"
   ]
  },
  {
   "cell_type": "code",
   "execution_count": 2,
   "id": "b618a95b",
   "metadata": {},
   "outputs": [
    {
     "name": "stdout",
     "output_type": "stream",
     "text": [
      "Hello, World!\n",
      "안녕하세요, 세상!\n"
     ]
    }
   ],
   "source": [
    "def my_function():\n",
    "    print(\"Hello, World!\")\n",
    "    print(\"안녕하세요, 세상!\")\n",
    "\n",
    "my_function()"
   ]
  },
  {
   "cell_type": "markdown",
   "id": "4f4380da",
   "metadata": {},
   "source": [
    "# 간단한 함수 만들어보기"
   ]
  },
  {
   "cell_type": "code",
   "execution_count": 3,
   "id": "39fac66d",
   "metadata": {},
   "outputs": [
    {
     "name": "stdout",
     "output_type": "stream",
     "text": [
      "Hello, World!\n",
      "None\n"
     ]
    }
   ],
   "source": [
    "def simple_function():\n",
    "    print('Hello, World!') # 출력: 'Hello, World!'\n",
    "\n",
    "\n",
    "# 함수 호출\n",
    "print(simple_function())"
   ]
  },
  {
   "cell_type": "code",
   "execution_count": 4,
   "id": "31e58813",
   "metadata": {},
   "outputs": [
    {
     "name": "stdout",
     "output_type": "stream",
     "text": [
      "5\n"
     ]
    }
   ],
   "source": [
    "def give_me_five():\n",
    "    return 5\n",
    "\n",
    "\n",
    "result = give_me_five()\n",
    "# result = 5\n",
    "print(result) # 출력: 5"
   ]
  },
  {
   "cell_type": "code",
   "execution_count": 5,
   "id": "2a0983e3",
   "metadata": {},
   "outputs": [
    {
     "name": "stdout",
     "output_type": "stream",
     "text": [
      "Hello, Licat!\n",
      "None\n"
     ]
    }
   ],
   "source": [
    "def greeting(name):\n",
    "    print(f'Hello, {name}!')\n",
    "\n",
    "\n",
    "# 함수 호출\n",
    "print(greeting('Licat'))"
   ]
  },
  {
   "cell_type": "code",
   "execution_count": 6,
   "id": "6c9810dc",
   "metadata": {},
   "outputs": [
    {
     "name": "stdout",
     "output_type": "stream",
     "text": [
      "8\n"
     ]
    }
   ],
   "source": [
    "def add_numbers(x, y):\n",
    "    sum = x + y\n",
    "    return sum\n",
    "\n",
    "\n",
    "# 함수 호출\n",
    "result = add_numbers(5, 3)\n",
    "print(result)  # 출력: 8"
   ]
  },
  {
   "cell_type": "code",
   "execution_count": null,
   "id": "687f5b07",
   "metadata": {},
   "outputs": [],
   "source": [
    "def function(x, y):\n",
    "    z = x + y\n",
    "    print(z)\n",
    "\n",
    "\n",
    "print(f'function(5, 7) = {function(5, 7)}')"
   ]
  },
  {
   "cell_type": "code",
   "execution_count": 8,
   "id": "3f2286dc",
   "metadata": {},
   "outputs": [
    {
     "name": "stdout",
     "output_type": "stream",
     "text": [
      "100 200 300\n",
      "100 200 300\n",
      "100 200 300\n"
     ]
    }
   ],
   "source": [
    "def f(a, b, c):\n",
    "    print(a, b, c)\n",
    "\n",
    "# a, b, c에 순서대로\n",
    "f(100,200,300)\n",
    "f(a=100, b=200, c=300) # 출력: 100 200 300\n",
    "f(c=300, a=100, b=200) # 출력: 100 200 300"
   ]
  },
  {
   "cell_type": "code",
   "execution_count": 9,
   "id": "d938ff34",
   "metadata": {},
   "outputs": [
    {
     "name": "stdout",
     "output_type": "stream",
     "text": [
      "10 20 30\n",
      "100 10 30\n",
      "100 200 300\n",
      "100 200 300\n"
     ]
    }
   ],
   "source": [
    "def f(a=10, b=20, c=30):\n",
    "    print(a, b, c)\n",
    "\n",
    "# a, b, c 모두 기본 값 사용\n",
    "f() # 출력: 10 20 30\n",
    "# a = 100, b = 10, c -> 기본 값\n",
    "f(100, 10) # 출력: 100 10 30\n",
    "f(a=100, b=200, c=300) # 출력: 100 200 300\n",
    "f(c=300, a=100, b=200) # 출력: 100 200 300"
   ]
  },
  {
   "cell_type": "code",
   "execution_count": 11,
   "id": "7952f858",
   "metadata": {},
   "outputs": [
    {
     "ename": "SyntaxError",
     "evalue": "parameter without a default follows parameter with a default (3729318703.py, line 1)",
     "output_type": "error",
     "traceback": [
      "  \u001b[36mCell\u001b[39m\u001b[36m \u001b[39m\u001b[32mIn[11]\u001b[39m\u001b[32m, line 1\u001b[39m\n\u001b[31m    \u001b[39m\u001b[31mdef f(a=10, b=20, c):\u001b[39m\n                      ^\n\u001b[31mSyntaxError\u001b[39m\u001b[31m:\u001b[39m parameter without a default follows parameter with a default\n"
     ]
    }
   ],
   "source": [
    "def f(a=10, b=20, c):\n",
    "    print(a, b, c) # error"
   ]
  },
  {
   "cell_type": "code",
   "execution_count": null,
   "id": "727cf03a",
   "metadata": {},
   "outputs": [
    {
     "name": "stdout",
     "output_type": "stream",
     "text": [
      "100 10 10\n",
      "100 200 300\n",
      "100 200 300\n"
     ]
    }
   ],
   "source": [
    "def f(a, b=20, c=10):\n",
    "    print(a, b, c)\n",
    "\n",
    "\n",
    "f(100, 10) # 출력: 100 10 10\n",
    "f(a=100, b=200, c=300) # 출력: 100 200 300\n",
    "f(c=300, a=100, b=200) # 출력: 100 200 300"
   ]
  },
  {
   "cell_type": "code",
   "execution_count": 13,
   "id": "934a914a",
   "metadata": {},
   "outputs": [
    {
     "name": "stdout",
     "output_type": "stream",
     "text": [
      "[2, 3, 4]\n"
     ]
    }
   ],
   "source": [
    "def add_element(my_list):\n",
    "    my_list.append(1)\n",
    "\n",
    "\n",
    "a = [2, 3, 4]\n",
    "add_element(a.copy())\n",
    "print(a)  # 출력: [2, 3, 4, 1]"
   ]
  },
  {
   "cell_type": "code",
   "execution_count": 14,
   "id": "93afc155",
   "metadata": {},
   "outputs": [
    {
     "data": {
      "text/plain": [
       "[1, 2]"
      ]
     },
     "execution_count": 14,
     "metadata": {},
     "output_type": "execute_result"
    }
   ],
   "source": [
    "# 권장하지 않는 방법\n",
    "def append_to_list(value, lst=[]):\n",
    "    lst.append(value)\n",
    "    return lst # 예상치 못한 결과가 발생할 수 있습니다.\n",
    "\n",
    "append_to_list(1)\n",
    "append_to_list(2)"
   ]
  },
  {
   "cell_type": "code",
   "execution_count": null,
   "id": "d084fceb",
   "metadata": {},
   "outputs": [],
   "source": [
    "def append_to_list(value, lst=None):\n",
    "    if lst is None:\n",
    "        lst = []\n",
    "    lst.append(value)\n",
    "    return lst"
   ]
  },
  {
   "cell_type": "markdown",
   "id": "33ad400f",
   "metadata": {},
   "source": [
    "# 지역 변수와 전역 변수"
   ]
  },
  {
   "cell_type": "code",
   "execution_count": null,
   "id": "e4093155",
   "metadata": {},
   "outputs": [],
   "source": [
    "# 지역 변수 사용 예시\n",
    "def f():\n",
    "    a = 1\n",
    "    print(a)  # 출력: 1\n",
    "    print(locals())\n",
    "\n",
    "f()"
   ]
  },
  {
   "cell_type": "code",
   "execution_count": 15,
   "id": "411ac1ec",
   "metadata": {},
   "outputs": [
    {
     "name": "stdout",
     "output_type": "stream",
     "text": [
      "101\n"
     ]
    }
   ],
   "source": [
    "a = 100\n",
    "\n",
    "\n",
    "def f():\n",
    "    global a\n",
    "    a = a + 1\n",
    "\n",
    "\n",
    "f()\n",
    "print(a)"
   ]
  },
  {
   "cell_type": "code",
   "execution_count": 16,
   "id": "971ef877",
   "metadata": {},
   "outputs": [
    {
     "ename": "UnboundLocalError",
     "evalue": "cannot access local variable 'a' where it is not associated with a value",
     "output_type": "error",
     "traceback": [
      "\u001b[31m---------------------------------------------------------------------------\u001b[39m",
      "\u001b[31mUnboundLocalError\u001b[39m                         Traceback (most recent call last)",
      "\u001b[36mCell\u001b[39m\u001b[36m \u001b[39m\u001b[32mIn[16]\u001b[39m\u001b[32m, line 6\u001b[39m\n\u001b[32m      2\u001b[39m \u001b[38;5;28;01mdef\u001b[39;00m\u001b[38;5;250m \u001b[39m\u001b[34mf\u001b[39m():\n\u001b[32m      3\u001b[39m     a = a + \u001b[32m1\u001b[39m \u001b[38;5;66;03m# error\u001b[39;00m\n\u001b[32m----> \u001b[39m\u001b[32m6\u001b[39m \u001b[43mf\u001b[49m\u001b[43m(\u001b[49m\u001b[43m)\u001b[49m\n\u001b[32m      7\u001b[39m \u001b[38;5;28mprint\u001b[39m(a)\n",
      "\u001b[36mCell\u001b[39m\u001b[36m \u001b[39m\u001b[32mIn[16]\u001b[39m\u001b[32m, line 3\u001b[39m, in \u001b[36mf\u001b[39m\u001b[34m()\u001b[39m\n\u001b[32m      2\u001b[39m \u001b[38;5;28;01mdef\u001b[39;00m\u001b[38;5;250m \u001b[39m\u001b[34mf\u001b[39m():\n\u001b[32m----> \u001b[39m\u001b[32m3\u001b[39m     a = \u001b[43ma\u001b[49m + \u001b[32m1\u001b[39m\n",
      "\u001b[31mUnboundLocalError\u001b[39m: cannot access local variable 'a' where it is not associated with a value"
     ]
    }
   ],
   "source": [
    "a = 100\n",
    "def f():\n",
    "    a = a + 1 # error\n",
    "\n",
    "\n",
    "f()\n",
    "print(a)"
   ]
  },
  {
   "cell_type": "code",
   "execution_count": 17,
   "id": "1b5cc967",
   "metadata": {},
   "outputs": [
    {
     "name": "stdout",
     "output_type": "stream",
     "text": [
      "100\n",
      "101\n"
     ]
    }
   ],
   "source": [
    "a = 100\n",
    "\n",
    "\n",
    "def f():\n",
    "    print(a) # 출력: 100\n",
    "\n",
    "\n",
    "f()\n",
    "\n",
    "\n",
    "def ff():\n",
    "    b = a + 1\n",
    "    print(b) # 출력: 101\n",
    "\n",
    "\n",
    "ff()"
   ]
  },
  {
   "cell_type": "code",
   "execution_count": 18,
   "id": "e0d92d5f",
   "metadata": {},
   "outputs": [
    {
     "name": "stdout",
     "output_type": "stream",
     "text": [
      "1000\n"
     ]
    }
   ],
   "source": [
    "a = 100\n",
    "\n",
    "\n",
    "def f():\n",
    "    a = 1000\n",
    "    print(a) # 출력: 1000\n",
    "\n",
    "\n",
    "f()"
   ]
  },
  {
   "cell_type": "markdown",
   "id": "4e19b335",
   "metadata": {},
   "source": [
    "# 함수에서 pass 사용하기"
   ]
  },
  {
   "cell_type": "code",
   "execution_count": 19,
   "id": "308e99c5",
   "metadata": {},
   "outputs": [],
   "source": [
    "# TODO 나중에 구현\n",
    "def my_function():\n",
    "    pass"
   ]
  },
  {
   "cell_type": "markdown",
   "id": "3c86a809",
   "metadata": {},
   "source": [
    "# built-in function"
   ]
  },
  {
   "cell_type": "code",
   "execution_count": null,
   "id": "38f930a4",
   "metadata": {},
   "outputs": [],
   "source": [
    "# 모두 다 True여야 True 반환\n",
    "print(all([True, True, True])) # 출력: True\n",
    "print(all([True, True, True])) # 출력: True\n",
    "print(all([1, 1, 1, 0])) \n",
    "print(all([True, True, True])) # 출력: True\n",
    "print(all([True, True, True])) # 출력: True\n",
    "\n"
   ]
  },
  {
   "cell_type": "code",
   "execution_count": 20,
   "id": "a938ca10",
   "metadata": {},
   "outputs": [
    {
     "data": {
      "text/plain": [
       "True"
      ]
     },
     "execution_count": 20,
     "metadata": {},
     "output_type": "execute_result"
    }
   ],
   "source": [
    "# 모두 다 True여야 True 반환\n",
    "all([True, True, True]) # 출력: True\n",
    "all([True, True, False]) # 출력: False\n",
    "all([1, 1, 1, 0]) # 출력: False\n",
    "all([1, 0, 1, 1]) # 출력: False\n",
    "all([1, 100, 10, -1]) # 출력: True"
   ]
  },
  {
   "cell_type": "code",
   "execution_count": 21,
   "id": "9968f6e9",
   "metadata": {},
   "outputs": [
    {
     "data": {
      "text/plain": [
       "False"
      ]
     },
     "execution_count": 21,
     "metadata": {},
     "output_type": "execute_result"
    }
   ],
   "source": [
    "# 하나라도 True이면 True이다.\n",
    "any([True, False, False]) # 출력: True\n",
    "any([False, False, False]) # 출력: False"
   ]
  },
  {
   "cell_type": "code",
   "execution_count": 22,
   "id": "1f1b0af1",
   "metadata": {},
   "outputs": [
    {
     "data": {
      "text/plain": [
       "'하'"
      ]
     },
     "execution_count": 22,
     "metadata": {},
     "output_type": "execute_result"
    }
   ],
   "source": [
    "# 10진수로 유니코드표에서 찾아 대응되는 값을 줍니다.\n",
    "chr(65) # 출력: 'A'\n",
    "chr(97) # 출력: 'a'\n",
    "chr(54616) # 출력: '하'"
   ]
  },
  {
   "cell_type": "code",
   "execution_count": null,
   "id": "508f2fd0",
   "metadata": {},
   "outputs": [],
   "source": [
    "x = [2, 4, 8, 16, 32, 64, 128]\n",
    "list(zip(x, x[1:], x[2:]))"
   ]
  },
  {
   "cell_type": "code",
   "execution_count": 23,
   "id": "081fa508",
   "metadata": {},
   "outputs": [
    {
     "data": {
      "text/plain": [
       "'world1'"
      ]
     },
     "execution_count": 23,
     "metadata": {},
     "output_type": "execute_result"
    }
   ],
   "source": [
    "max([1, 2, 3, 4, 5]) # 출력 : 5\n",
    "max([(1, 2), (3, 101), (1, 20), (3, 100)]) # 출력 : (3,101)\n",
    "max(['hello', 'world', 'world1']) # 출력 : world1"
   ]
  },
  {
   "cell_type": "code",
   "execution_count": 24,
   "id": "9e0a877c",
   "metadata": {},
   "outputs": [
    {
     "data": {
      "text/plain": [
       "{'이름': '가', '국어': 90, '영어': 72, '수학': 95}"
      ]
     },
     "execution_count": 24,
     "metadata": {},
     "output_type": "execute_result"
    }
   ],
   "source": [
    "students = [\n",
    "    {'이름': '가', '국어': 90, '영어': 72, '수학': 95},\n",
    "    {'이름': '나', \"국어\": 80, '영어': 90, '수학': 91},\n",
    "    {'이름': '다', \"국어\": 95, '영어': 73, '수학': 92}\n",
    "]\n",
    "\n",
    "max(students, key=lambda student: student['수학']) # 출력: {'이름': '가', '국어': 90, '영어': 72, '수학': 95}"
   ]
  },
  {
   "cell_type": "code",
   "execution_count": null,
   "id": "dacd9855",
   "metadata": {},
   "outputs": [],
   "source": [
    "sum(iterable, start=0)"
   ]
  },
  {
   "cell_type": "code",
   "execution_count": 26,
   "id": "5092d08b",
   "metadata": {},
   "outputs": [
    {
     "data": {
      "text/plain": [
       "16"
      ]
     },
     "execution_count": 26,
     "metadata": {},
     "output_type": "execute_result"
    }
   ],
   "source": [
    "sum([1, 2, 3, 4, 5]) # 출력: 15\n",
    "sum([1, 2, 3], 10) # 출력: 16"
   ]
  },
  {
   "cell_type": "code",
   "execution_count": 27,
   "id": "76c32931",
   "metadata": {},
   "outputs": [
    {
     "data": {
      "text/plain": [
       "[1, 2, 10, 20, 100, 200]"
      ]
     },
     "execution_count": 27,
     "metadata": {},
     "output_type": "execute_result"
    }
   ],
   "source": [
    "sum([[1, 2], [10, 20], [100, 200]], [])\n"
   ]
  },
  {
   "cell_type": "code",
   "execution_count": 28,
   "id": "00866bde",
   "metadata": {},
   "outputs": [
    {
     "data": {
      "text/plain": [
       "np.int64(231)"
      ]
     },
     "execution_count": 28,
     "metadata": {},
     "output_type": "execute_result"
    }
   ],
   "source": [
    "import numpy as np\n",
    "\n",
    "\n",
    "np.sum([[1, 2], [3, 101], [1, 20], [3, 100]]) # 출력 : 328"
   ]
  },
  {
   "cell_type": "code",
   "execution_count": null,
   "id": "14d6b9da",
   "metadata": {},
   "outputs": [
    {
     "name": "stdout",
     "output_type": "stream",
     "text": [
      "world\n"
     ]
    }
   ],
   "source": [
    "class Charactor:\n",
    "    def __repr__(self):\n",
    "        return 'hello'\n",
    "    def __str__(self):\n",
    "        return 'world'\n",
    "\n",
    "\n",
    "hero = Charactor()\n",
    "print(hero)"
   ]
  },
  {
   "cell_type": "code",
   "execution_count": 30,
   "id": "76d4b019",
   "metadata": {},
   "outputs": [
    {
     "name": "stdout",
     "output_type": "stream",
     "text": [
      "[0, 2, 4, 6, 8, 10, 12, 14, 16, 18, 20, 22, 24, 26, 28, 30, 32, 34, 36, 38, 40, 42, 44, 46, 48, 50, 52, 54, 56, 58, 60, 62, 64, 66, 68, 70, 72, 74, 76, 78, 80, 82, 84, 86, 88, 90, 92, 94, 96, 98, 100]\n",
      "[1, 3, 5, 7, 9, 11, 13, 15, 17, 19, 21, 23, 25, 27, 29, 31, 33, 35, 37, 39, 41, 43, 45, 47, 49, 51, 53, 55, 57, 59, 61, 63, 65, 67, 69, 71, 73, 75, 77, 79, 81, 83, 85, 87, 89, 91, 93, 95, 97, 99]\n"
     ]
    }
   ],
   "source": [
    "print(list(range(0, 101, 2))) #짝수\n",
    "print(list(range(1, 101, 2))) #홀수"
   ]
  },
  {
   "cell_type": "code",
   "execution_count": 31,
   "id": "cb738a1c",
   "metadata": {},
   "outputs": [
    {
     "name": "stdout",
     "output_type": "stream",
     "text": [
      "[100, 98, 96, 94, 92, 90, 88, 86, 84, 82, 80, 78, 76, 74, 72, 70, 68, 66, 64, 62, 60, 58, 56, 54, 52, 50, 48, 46, 44, 42, 40, 38, 36, 34, 32, 30, 28, 26, 24, 22, 20, 18, 16, 14, 12, 10, 8, 6, 4, 2]\n"
     ]
    }
   ],
   "source": [
    "print(list(range(100, 1, -2)))"
   ]
  },
  {
   "cell_type": "code",
   "execution_count": 32,
   "id": "3e67392a",
   "metadata": {},
   "outputs": [
    {
     "name": "stdout",
     "output_type": "stream",
     "text": [
      "[(0, 'A'), (1, 'B'), (2, 'C'), (3, 'D')]\n",
      "[(1, 'A'), (2, 'B'), (3, 'C'), (4, 'D')]\n",
      "[(100, 'A'), (101, 'B'), (102, 'C'), (103, 'D')]\n"
     ]
    }
   ],
   "source": [
    "values = ['A', 'B', 'C', 'D']\n",
    "print(list(enumerate(values)))\n",
    "print(list(enumerate(values, 1)))\n",
    "print(list(enumerate(values, 100)))"
   ]
  },
  {
   "cell_type": "code",
   "execution_count": 33,
   "id": "7d2bf058",
   "metadata": {},
   "outputs": [
    {
     "name": "stdout",
     "output_type": "stream",
     "text": [
      "None\n",
      "[1, 2, 3, 4, 5]\n"
     ]
    }
   ],
   "source": [
    "l = [3, 2, 1, 5, 4]\n",
    "print(l.sort())\n",
    "print(l)"
   ]
  },
  {
   "cell_type": "code",
   "execution_count": null,
   "id": "e482ab65",
   "metadata": {},
   "outputs": [],
   "source": []
  }
 ],
 "metadata": {
  "kernelspec": {
   "display_name": "Python 3",
   "language": "python",
   "name": "python3"
  },
  "language_info": {
   "codemirror_mode": {
    "name": "ipython",
    "version": 3
   },
   "file_extension": ".py",
   "mimetype": "text/x-python",
   "name": "python",
   "nbconvert_exporter": "python",
   "pygments_lexer": "ipython3",
   "version": "3.13.5"
  }
 },
 "nbformat": 4,
 "nbformat_minor": 5
}
