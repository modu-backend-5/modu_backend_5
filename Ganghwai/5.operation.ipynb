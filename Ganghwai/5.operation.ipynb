{
 "cells": [
  {
   "cell_type": "markdown",
   "id": "fd840690",
   "metadata": {},
   "source": [
    "# 산술연산"
   ]
  },
  {
   "cell_type": "code",
   "execution_count": 1,
   "id": "b84a3c7b",
   "metadata": {},
   "outputs": [
    {
     "name": "stdout",
     "output_type": "stream",
     "text": [
      "8\n",
      "5.5\n"
     ]
    }
   ],
   "source": [
    "print(5 + 3) # 결과: 8\n",
    "print(3 + 2.5) # 결과: 5.5"
   ]
  },
  {
   "cell_type": "code",
   "execution_count": 2,
   "id": "cb9f0c12",
   "metadata": {},
   "outputs": [
    {
     "name": "stdout",
     "output_type": "stream",
     "text": [
      "Hello World\n"
     ]
    }
   ],
   "source": [
    "s1 = \"Hello\"\n",
    "s2 = \"World\"\n",
    "result = s1 + \" \" + s2\n",
    "print(result)  # Hello World"
   ]
  },
  {
   "cell_type": "code",
   "execution_count": 3,
   "id": "ab80bf26",
   "metadata": {},
   "outputs": [
    {
     "name": "stdout",
     "output_type": "stream",
     "text": [
      "[1, 2, 3, 4, 5, 6]\n"
     ]
    }
   ],
   "source": [
    "list1 = [1, 2, 3]\n",
    "list2 = [4, 5, 6]\n",
    "combined_list = list1 + list2\n",
    "print(combined_list)  # [1, 2, 3, 4, 5, 6]"
   ]
  },
  {
   "cell_type": "code",
   "execution_count": 4,
   "id": "3922a301",
   "metadata": {},
   "outputs": [
    {
     "name": "stdout",
     "output_type": "stream",
     "text": [
      "(1, 2, 3, 4, 5, 6)\n"
     ]
    }
   ],
   "source": [
    "tuple1 = (1, 2, 3)\n",
    "tuple2 = (4, 5, 6)\n",
    "combined_tuple = tuple1 + tuple2\n",
    "print(combined_tuple)  # (1, 2, 3, 4, 5, 6)"
   ]
  },
  {
   "cell_type": "code",
   "execution_count": 5,
   "id": "a1580156",
   "metadata": {},
   "outputs": [
    {
     "ename": "TypeError",
     "evalue": "can only concatenate str (not \"int\") to str",
     "output_type": "error",
     "traceback": [
      "\u001b[31m---------------------------------------------------------------------------\u001b[39m",
      "\u001b[31mTypeError\u001b[39m                                 Traceback (most recent call last)",
      "\u001b[36mCell\u001b[39m\u001b[36m \u001b[39m\u001b[32mIn[5]\u001b[39m\u001b[32m, line 1\u001b[39m\n\u001b[32m----> \u001b[39m\u001b[32m1\u001b[39m result = \u001b[33;43m\"\u001b[39;49m\u001b[33;43mHello\u001b[39;49m\u001b[33;43m\"\u001b[39;49m\u001b[43m \u001b[49m\u001b[43m+\u001b[49m\u001b[43m \u001b[49m\u001b[32;43m5\u001b[39;49m\n",
      "\u001b[31mTypeError\u001b[39m: can only concatenate str (not \"int\") to str"
     ]
    }
   ],
   "source": [
    "result = \"Hello\" + 5"
   ]
  },
  {
   "cell_type": "code",
   "execution_count": 6,
   "id": "ac8eb1c0",
   "metadata": {},
   "outputs": [
    {
     "ename": "TypeError",
     "evalue": "unsupported operand type(s) for +: 'dict' and 'dict'",
     "output_type": "error",
     "traceback": [
      "\u001b[31m---------------------------------------------------------------------------\u001b[39m",
      "\u001b[31mTypeError\u001b[39m                                 Traceback (most recent call last)",
      "\u001b[36mCell\u001b[39m\u001b[36m \u001b[39m\u001b[32mIn[6]\u001b[39m\u001b[32m, line 1\u001b[39m\n\u001b[32m----> \u001b[39m\u001b[32m1\u001b[39m \u001b[43m{\u001b[49m\u001b[33;43m'\u001b[39;49m\u001b[33;43mone\u001b[39;49m\u001b[33;43m'\u001b[39;49m\u001b[43m:\u001b[49m\u001b[32;43m1\u001b[39;49m\u001b[43m}\u001b[49m\u001b[43m \u001b[49m\u001b[43m+\u001b[49m\u001b[43m \u001b[49m\u001b[43m{\u001b[49m\u001b[33;43m'\u001b[39;49m\u001b[33;43mtwo\u001b[39;49m\u001b[33;43m'\u001b[39;49m\u001b[43m:\u001b[49m\u001b[32;43m2\u001b[39;49m\u001b[43m}\u001b[49m \u001b[38;5;66;03m# error\u001b[39;00m\n\u001b[32m      2\u001b[39m {\u001b[32m5\u001b[39m} + {\u001b[32m6\u001b[39m} \u001b[38;5;66;03m# error\u001b[39;00m\n",
      "\u001b[31mTypeError\u001b[39m: unsupported operand type(s) for +: 'dict' and 'dict'"
     ]
    }
   ],
   "source": [
    "{'one':1} + {'two':2} # error\n",
    "{5} + {6} # error"
   ]
  },
  {
   "cell_type": "code",
   "execution_count": 7,
   "id": "a9417991",
   "metadata": {},
   "outputs": [
    {
     "name": "stdout",
     "output_type": "stream",
     "text": [
      "{'one': 1, 'two': 2}\n",
      "{5, 6}\n"
     ]
    }
   ],
   "source": [
    "print({'one':1} | {'two':2}) # 결과: {'one': 1, 'two': 2}\n",
    "print({5} | {6}) # 결과: {5, 6}"
   ]
  },
  {
   "cell_type": "code",
   "execution_count": 8,
   "id": "e407c173",
   "metadata": {},
   "outputs": [
    {
     "name": "stdout",
     "output_type": "stream",
     "text": [
      "3\n",
      "6.5\n",
      "8\n"
     ]
    }
   ],
   "source": [
    "print(7 - 4) # 결과: 3\n",
    "print(10 - 3.5) # 결과: 6.5\n",
    "print(5 - (-3)) # 결과: 8"
   ]
  },
  {
   "cell_type": "code",
   "execution_count": 9,
   "id": "7231ca23",
   "metadata": {},
   "outputs": [
    {
     "name": "stdout",
     "output_type": "stream",
     "text": [
      "5.0\n",
      "5\n"
     ]
    }
   ],
   "source": [
    "a = 10\n",
    "b = 2\n",
    "print(a / b) # 결과 5.0\n",
    "print(a // b) # 결과 5"
   ]
  },
  {
   "cell_type": "code",
   "execution_count": 10,
   "id": "c89f2ede",
   "metadata": {},
   "outputs": [
    {
     "name": "stdout",
     "output_type": "stream",
     "text": [
      "10 ÷ 3 = 3.33\n"
     ]
    }
   ],
   "source": [
    "a = 10\n",
    "b = 3\n",
    "divide = a / b\n",
    "print(f'{a} ÷ {b} = {divide:.2f}')  # 결과: 10 ÷ 3 = 3.33"
   ]
  },
  {
   "cell_type": "code",
   "execution_count": 11,
   "id": "1fb050c6",
   "metadata": {},
   "outputs": [
    {
     "data": {
      "text/plain": [
       "1"
      ]
     },
     "execution_count": 11,
     "metadata": {},
     "output_type": "execute_result"
    }
   ],
   "source": [
    "10 % 3 # 결과: 1"
   ]
  },
  {
   "cell_type": "code",
   "execution_count": 12,
   "id": "45b19d65",
   "metadata": {},
   "outputs": [
    {
     "data": {
      "text/plain": [
       "-4"
      ]
     },
     "execution_count": 12,
     "metadata": {},
     "output_type": "execute_result"
    }
   ],
   "source": [
    "-2 ** 2"
   ]
  },
  {
   "cell_type": "code",
   "execution_count": 13,
   "id": "d59137e3",
   "metadata": {},
   "outputs": [
    {
     "data": {
      "text/plain": [
       "4"
      ]
     },
     "execution_count": 13,
     "metadata": {},
     "output_type": "execute_result"
    }
   ],
   "source": [
    "(-2) ** 2"
   ]
  },
  {
   "cell_type": "markdown",
   "id": "96cb39f2",
   "metadata": {},
   "source": [
    "# 비교연산"
   ]
  },
  {
   "cell_type": "code",
   "execution_count": 14,
   "id": "723f7c1e",
   "metadata": {},
   "outputs": [
    {
     "name": "stdout",
     "output_type": "stream",
     "text": [
      "True\n"
     ]
    }
   ],
   "source": [
    "print('apple' < 'banana') # 결과: True"
   ]
  },
  {
   "cell_type": "code",
   "execution_count": 15,
   "id": "4b8e3179",
   "metadata": {},
   "outputs": [
    {
     "name": "stdout",
     "output_type": "stream",
     "text": [
      "False\n"
     ]
    }
   ],
   "source": [
    "print('하하' > '후후') # 결과: False"
   ]
  },
  {
   "cell_type": "code",
   "execution_count": 16,
   "id": "4b1bd344",
   "metadata": {},
   "outputs": [
    {
     "name": "stdout",
     "output_type": "stream",
     "text": [
      "True\n"
     ]
    }
   ],
   "source": [
    "x = 10\n",
    "print(5 < x < 15) # 결과: True"
   ]
  },
  {
   "cell_type": "code",
   "execution_count": 17,
   "id": "1f87496d",
   "metadata": {},
   "outputs": [
    {
     "data": {
      "text/plain": [
       "False"
      ]
     },
     "execution_count": 17,
     "metadata": {},
     "output_type": "execute_result"
    }
   ],
   "source": [
    "[10, 20, 30] > [20, 30, 40] # False"
   ]
  },
  {
   "cell_type": "code",
   "execution_count": 18,
   "id": "117023fa",
   "metadata": {},
   "outputs": [
    {
     "data": {
      "text/plain": [
       "True"
      ]
     },
     "execution_count": 18,
     "metadata": {},
     "output_type": "execute_result"
    }
   ],
   "source": [
    "'abcde' > 'abcda' # True"
   ]
  },
  {
   "cell_type": "code",
   "execution_count": 19,
   "id": "1921a181",
   "metadata": {},
   "outputs": [
    {
     "data": {
      "text/plain": [
       "False"
      ]
     },
     "execution_count": 19,
     "metadata": {},
     "output_type": "execute_result"
    }
   ],
   "source": [
    "'abcd' > 'abcda'"
   ]
  },
  {
   "cell_type": "code",
   "execution_count": 20,
   "id": "a125acbc",
   "metadata": {},
   "outputs": [
    {
     "name": "stdout",
     "output_type": "stream",
     "text": [
      "False\n",
      "True\n",
      "False\n",
      "False\n",
      "False\n"
     ]
    }
   ],
   "source": [
    "import math\n",
    "\n",
    "\n",
    "result = 0.1 + 0.2\n",
    "print(result == 0.3)              # False\n",
    "print(math.isclose(result, 0.3))  # True\n",
    "print(math.isclose(result, 0.29)) # False\n",
    "print(math.isclose(result, 0.31)) # False\n",
    "print(math.isclose(result, 0.30000001)) # False"
   ]
  },
  {
   "cell_type": "markdown",
   "id": "007d8e72",
   "metadata": {},
   "source": [
    "# 논리연산"
   ]
  },
  {
   "cell_type": "code",
   "execution_count": 21,
   "id": "bd08fcad",
   "metadata": {},
   "outputs": [
    {
     "name": "stdout",
     "output_type": "stream",
     "text": [
      "True\n",
      "False\n",
      "False\n",
      "False\n"
     ]
    }
   ],
   "source": [
    "# and 두가지 조건이 모두 참일때만 True\n",
    "# 예 5 > 3 and 4 > 3 -> True\n",
    "# 하나라도 조건이 틀리면 False\n",
    "# 값이 같더라도 ID가 달라서 False 여러가지 상황이 있다.\n",
    "\n",
    "\n",
    "print(True and True)   # 결과: True\n",
    "print(True and False)  # 결과: False\n",
    "print(False and True)  # 결과: False\n",
    "print(False and False) # 결과: False"
   ]
  },
  {
   "cell_type": "code",
   "execution_count": null,
   "id": "367dc53a",
   "metadata": {},
   "outputs": [],
   "source": [
    "# and 두가지 조건이 모두 참일때만 True\n",
    "# 예 5 > 3 and 4 < 3 -> True\n",
    "# 하나라도 조건이 맞으면 True\n",
    "\n",
    "\n",
    "print(True or True)   # 결과: True\n",
    "print(True or False)  # 결과: True (and와 차이점)\n",
    "print(False or True)  # 결과: True (and와 차이점)\n",
    "print(False or False) # 결과: False"
   ]
  },
  {
   "cell_type": "code",
   "execution_count": 22,
   "id": "fe2d7c6a",
   "metadata": {},
   "outputs": [
    {
     "name": "stdout",
     "output_type": "stream",
     "text": [
      "True\n"
     ]
    }
   ],
   "source": [
    "num = 15\n",
    "result = num > 10 and num < 20 # 기억해주세요\n",
    "print(result) # 결과: True"
   ]
  },
  {
   "cell_type": "code",
   "execution_count": 23,
   "id": "fcf7329e",
   "metadata": {},
   "outputs": [
    {
     "name": "stdout",
     "output_type": "stream",
     "text": [
      "0\n",
      "15\n",
      "30\n",
      "45\n",
      "60\n",
      "75\n",
      "90\n"
     ]
    }
   ],
   "source": [
    "for i in range(101): # 0부터 100까지를 반복합니다.\n",
    "    if i % 3 == 0 and i % 5 == 0:\n",
    "        print(i)"
   ]
  },
  {
   "cell_type": "code",
   "execution_count": 24,
   "id": "810d507d",
   "metadata": {},
   "outputs": [
    {
     "name": "stdout",
     "output_type": "stream",
     "text": [
      "test1 함수 호출!\n",
      "False\n"
     ]
    }
   ],
   "source": [
    "def test1():\n",
    "    print(\"test1 함수 호출!\")\n",
    "    return False\n",
    "\n",
    "\n",
    "def test2():\n",
    "    print(\"test2 함수 호출!\")\n",
    "    return True\n",
    "\n",
    "\n",
    "result = test1() and test2()\n",
    "print(result) # 결과: False"
   ]
  },
  {
   "cell_type": "code",
   "execution_count": 25,
   "id": "8b18cf0f",
   "metadata": {},
   "outputs": [],
   "source": [
    "lst = []\n",
    "if lst and lst[0] > 3:\n",
    "    print(\"리스트의 첫 번째 원소는 3보다 큽니다.\")"
   ]
  },
  {
   "cell_type": "code",
   "execution_count": 26,
   "id": "9323e000",
   "metadata": {},
   "outputs": [
    {
     "data": {
      "text/plain": [
       "'hello'"
      ]
     },
     "execution_count": 26,
     "metadata": {},
     "output_type": "execute_result"
    }
   ],
   "source": [
    "a = 'hello'\n",
    "b = ''\n",
    "\n",
    "\n",
    "a or b # 출력: 'hello'"
   ]
  },
  {
   "cell_type": "code",
   "execution_count": 27,
   "id": "6196be9c",
   "metadata": {},
   "outputs": [],
   "source": [
    "x = True and False"
   ]
  },
  {
   "cell_type": "code",
   "execution_count": 28,
   "id": "29eca80c",
   "metadata": {},
   "outputs": [
    {
     "name": "stdout",
     "output_type": "stream",
     "text": [
      "25\n"
     ]
    }
   ],
   "source": [
    "x = 5\n",
    "y = 2\n",
    "z = 10\n",
    "\n",
    "\n",
    "x += y * z  # y * z 연산 후 x에 값을 할당합니다.\n",
    "print(x)  # 결과: 25"
   ]
  },
  {
   "cell_type": "code",
   "execution_count": 30,
   "id": "24bc29cf",
   "metadata": {},
   "outputs": [
    {
     "name": "stdout",
     "output_type": "stream",
     "text": [
      "True\n",
      "True\n"
     ]
    },
    {
     "data": {
      "text/plain": [
       "1763840414016"
      ]
     },
     "execution_count": 30,
     "metadata": {},
     "output_type": "execute_result"
    }
   ],
   "source": [
    "coffee_employee = \"Brand\"\n",
    "orange_employee = \"Brand\"\n",
    "\n",
    "\n",
    "print(coffee_employee is orange_employee)\n",
    "print(coffee_employee == orange_employee)\n",
    "id(coffee_employee)"
   ]
  },
  {
   "cell_type": "code",
   "execution_count": 31,
   "id": "4595aab5",
   "metadata": {},
   "outputs": [
    {
     "name": "stdout",
     "output_type": "stream",
     "text": [
      "a == b True\n",
      "a == c True\n",
      "a is b False\n",
      "a is c True\n"
     ]
    }
   ],
   "source": [
    "a = [1, 2, 3]\n",
    "b = [1, 2, 3]\n",
    "c = a\n",
    "\n",
    "\n",
    "print('a == b', a == b)\n",
    "print('a == c', a == c)\n",
    "print('a is b', a is b)\n",
    "print('a is c', a is c)"
   ]
  },
  {
   "cell_type": "markdown",
   "id": "027c4910",
   "metadata": {},
   "source": [
    "# 멤버연산"
   ]
  },
  {
   "cell_type": "code",
   "execution_count": null,
   "id": "9a6b0dc7",
   "metadata": {},
   "outputs": [
    {
     "name": "stdout",
     "output_type": "stream",
     "text": [
      "True\n",
      "True\n"
     ]
    }
   ],
   "source": [
    "fruits = [\"사과\", \"바나나\", \"포도\"]\n",
    "\n",
    "\n",
    "print(\"사과\" in fruits)  # True, 사과가 목록에 있기 때문이에요.\n",
    "print(\"오렌지\" not in fruits)  # True, 오렌지는 목록에 없기 때문이에요."
   ]
  },
  {
   "cell_type": "code",
   "execution_count": 33,
   "id": "552c035d",
   "metadata": {},
   "outputs": [
    {
     "name": "stdout",
     "output_type": "stream",
     "text": [
      "True\n",
      "True\n",
      "False\n",
      "False\n",
      "True\n",
      "True\n"
     ]
    }
   ],
   "source": [
    "a = [1, 2, 3, 4]\n",
    "b = [1, 2, 3, 4]\n",
    "c = 'hello world'\n",
    "\n",
    "\n",
    "print(1 in a) # 출력: True\n",
    "print(0 not in a) # 출력: True\n",
    "print([2] in b) # 출력: False\n",
    "print([1, 2] in b) # 출력: False\n",
    "print('h' in c) # 출력: True\n",
    "print('hello ' in c) # 출력: True"
   ]
  }
 ],
 "metadata": {
  "kernelspec": {
   "display_name": "Python 3",
   "language": "python",
   "name": "python3"
  },
  "language_info": {
   "codemirror_mode": {
    "name": "ipython",
    "version": 3
   },
   "file_extension": ".py",
   "mimetype": "text/x-python",
   "name": "python",
   "nbconvert_exporter": "python",
   "pygments_lexer": "ipython3",
   "version": "3.13.5"
  }
 },
 "nbformat": 4,
 "nbformat_minor": 5
}
