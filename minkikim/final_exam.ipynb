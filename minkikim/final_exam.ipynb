{
 "cells": [
  {
   "cell_type": "markdown",
   "id": "ef6986dd",
   "metadata": {},
   "source": [
    "### 문제1\n",
    "- 1부터 100까지 더하는 코드를 작성하세요. for를 사용해서 풀어주세요."
   ]
  },
  {
   "cell_type": "code",
   "execution_count": 1,
   "id": "da6acc83",
   "metadata": {},
   "outputs": [
    {
     "name": "stdout",
     "output_type": "stream",
     "text": [
      "5050\n"
     ]
    }
   ],
   "source": [
    "result = 0\n",
    "for i in range(1, 101):\n",
    "    result += i\n",
    "print(result)"
   ]
  },
  {
   "cell_type": "markdown",
   "id": "aa4d8053",
   "metadata": {},
   "source": [
    "### 문제2\n",
    "- 아래 코드에서 나이의 평균을 구하는 코드를 작성하세요.\n",
    "```python\n",
    "data = [\n",
    "  {\n",
    "    \"_id\": \"6019fd4354979ca26b8f91dc\",\n",
    "    \"age\": 26,\n",
    "    \"eyeColor\": \"green\",\n",
    "    \"name\": \"Bender Allen\",\n",
    "    \"gender\": \"male\"\n",
    "  },\n",
    "  {\n",
    "    \"_id\": \"6019fd43db2951868889a0b4\",\n",
    "    \"age\": 27,\n",
    "    \"eyeColor\": \"blue\",\n",
    "    \"name\": \"Jacobs Golden\",\n",
    "    \"gender\": \"male\"\n",
    "  },\n",
    "  {\n",
    "    \"_id\": \"6019fd438c0bf8e775c28536\",\n",
    "    \"age\": 27,\n",
    "    \"eyeColor\": \"brown\",\n",
    "    \"name\": \"Grimes Oneal\",\n",
    "    \"gender\": \"male\"\n",
    "  },\n",
    "  {\n",
    "    \"_id\": \"6019fd43b68a7fd8b081ab26\",\n",
    "    \"age\": 40,\n",
    "    \"eyeColor\": \"blue\",\n",
    "    \"name\": \"Melissa Joyce\",\n",
    "    \"gender\": \"female\"\n",
    "  },\n",
    "  {\n",
    "    \"_id\": \"6019fd436c1edc4757aabb9d\",\n",
    "    \"age\": 32,\n",
    "    \"eyeColor\": \"blue\",\n",
    "    \"name\": \"Malone Bush\",\n",
    "    \"gender\": \"male\"\n",
    "  },\n",
    "  {\n",
    "    \"_id\": \"6019fd438eaf753918f55226\",\n",
    "    \"age\": 34,\n",
    "    \"eyeColor\": \"green\",\n",
    "    \"name\": \"Davenport Hyde\",\n",
    "    \"gender\": \"male\"\n",
    "  },\n",
    "  {\n",
    "    \"_id\": \"6019fd43c35929ff95004109\",\n",
    "    \"age\": 20,\n",
    "    \"eyeColor\": \"blue\",\n",
    "    \"name\": \"Shauna Blevins\",\n",
    "    \"gender\": \"female\"\n",
    "  }\n",
    "]\n",
    "```"
   ]
  },
  {
   "cell_type": "code",
   "execution_count": 2,
   "id": "f7d6eb5e",
   "metadata": {},
   "outputs": [
    {
     "name": "stdout",
     "output_type": "stream",
     "text": [
      "29.428571428571427\n"
     ]
    }
   ],
   "source": [
    "data = [\n",
    "  {\n",
    "    \"_id\": \"6019fd4354979ca26b8f91dc\",\n",
    "    \"age\": 26,\n",
    "    \"eyeColor\": \"green\",\n",
    "    \"name\": \"Bender Allen\",\n",
    "    \"gender\": \"male\"\n",
    "  },\n",
    "  {\n",
    "    \"_id\": \"6019fd43db2951868889a0b4\",\n",
    "    \"age\": 27,\n",
    "    \"eyeColor\": \"blue\",\n",
    "    \"name\": \"Jacobs Golden\",\n",
    "    \"gender\": \"male\"\n",
    "  },\n",
    "  {\n",
    "    \"_id\": \"6019fd438c0bf8e775c28536\",\n",
    "    \"age\": 27,\n",
    "    \"eyeColor\": \"brown\",\n",
    "    \"name\": \"Grimes Oneal\",\n",
    "    \"gender\": \"male\"\n",
    "  },\n",
    "  {\n",
    "    \"_id\": \"6019fd43b68a7fd8b081ab26\",\n",
    "    \"age\": 40,\n",
    "    \"eyeColor\": \"blue\",\n",
    "    \"name\": \"Melissa Joyce\",\n",
    "    \"gender\": \"female\"\n",
    "  },\n",
    "  {\n",
    "    \"_id\": \"6019fd436c1edc4757aabb9d\",\n",
    "    \"age\": 32,\n",
    "    \"eyeColor\": \"blue\",\n",
    "    \"name\": \"Malone Bush\",\n",
    "    \"gender\": \"male\"\n",
    "  },\n",
    "  {\n",
    "    \"_id\": \"6019fd438eaf753918f55226\",\n",
    "    \"age\": 34,\n",
    "    \"eyeColor\": \"green\",\n",
    "    \"name\": \"Davenport Hyde\",\n",
    "    \"gender\": \"male\"\n",
    "  },\n",
    "  {\n",
    "    \"_id\": \"6019fd43c35929ff95004109\",\n",
    "    \"age\": 20,\n",
    "    \"eyeColor\": \"blue\",\n",
    "    \"name\": \"Shauna Blevins\",\n",
    "    \"gender\": \"female\"\n",
    "  }\n",
    "]\n",
    "result = sum([sample['age'] for sample in data]) / len(data)\n",
    "print(result)"
   ]
  },
  {
   "cell_type": "markdown",
   "id": "c3ca4e6e",
   "metadata": {},
   "source": [
    "### 문제3\n",
    "- 위 데이터를 관리할 User 클래스를 만들어주세요. 인스턴스들은 리스트로 관리됩니다."
   ]
  },
  {
   "cell_type": "code",
   "execution_count": 10,
   "id": "5e570293",
   "metadata": {},
   "outputs": [
    {
     "name": "stdout",
     "output_type": "stream",
     "text": [
      "USER(6019fd4354979ca26b8f91dc, Bender Allen, 26, green)\n",
      "USER(6019fd43db2951868889a0b4, Jacobs Golden, 27, blue)\n",
      "USER(6019fd438c0bf8e775c28536, Grimes Oneal, 27, brown)\n",
      "USER(6019fd43b68a7fd8b081ab26, Melissa Joyce, 40, blue)\n",
      "USER(6019fd436c1edc4757aabb9d, Malone Bush, 32, blue)\n",
      "USER(6019fd438eaf753918f55226, Davenport Hyde, 34, green)\n",
      "USER(6019fd43c35929ff95004109, Shauna Blevins, 20, blue)\n"
     ]
    }
   ],
   "source": [
    "class USER:  \n",
    "  def __init__(self, data: dict):\n",
    "    self._id = data.get(\"_id\")\n",
    "    self.age = data.get(\"age\")\n",
    "    self.eyecolor = data.get(\"eyeColor\")\n",
    "    self.name = data.get('name')\n",
    "    self.gender = data.get('gender')\n",
    "\n",
    "  def __str__(self):\n",
    "    return f\"USER({self._id}, {self.name}, {self.age}, {self.eyecolor})\"\n",
    "    \n",
    "\n",
    "#인스턴스 생성 -> 인스턴스들은 리스트로 관리\n",
    "total_user = [USER(sample) for sample in data]\n",
    "for user in total_user:\n",
    "  print(user)"
   ]
  }
 ],
 "metadata": {
  "kernelspec": {
   "display_name": "Python 3",
   "language": "python",
   "name": "python3"
  },
  "language_info": {
   "codemirror_mode": {
    "name": "ipython",
    "version": 3
   },
   "file_extension": ".py",
   "mimetype": "text/x-python",
   "name": "python",
   "nbconvert_exporter": "python",
   "pygments_lexer": "ipython3",
   "version": "3.13.0"
  }
 },
 "nbformat": 4,
 "nbformat_minor": 5
}
