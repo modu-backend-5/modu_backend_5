{
 "cells": [
  {
   "cell_type": "markdown",
   "id": "f71bdd4c",
   "metadata": {},
   "source": [
    "### 1번.\n",
    "- 다음 코드를 실행하면 출력되는 값을 순서대로 작성해보세요\n",
    "```python\n",
    "a = 'pithon'\n",
    " \n",
    "def 함수1():\n",
    "    def 함수2():\n",
    "        print('love')\n",
    " \n",
    "    print('I') # 1번\n",
    "    함수2() #2번\n",
    "    return \"python\" #3번\n",
    " \n",
    " \n",
    "a = 함수1()\n",
    "print(a)\n",
    "```\n",
    "\n",
    "- 출력:\n",
    "    ```\n",
    "    I\n",
    "    love\n",
    "    python\n",
    "    ```"
   ]
  },
  {
   "cell_type": "markdown",
   "id": "42ded3b8",
   "metadata": {},
   "source": [
    "### 2번\n",
    "- 함수를 이용하여 계산기 프로그램을 만들어주세요"
   ]
  },
  {
   "cell_type": "code",
   "execution_count": null,
   "id": "60909dbc",
   "metadata": {},
   "outputs": [
    {
     "name": "stdout",
     "output_type": "stream",
     "text": [
      "plus : 15\n",
      "minus : 5\n",
      "multiply : 50\n",
      "divide : 2.0\n"
     ]
    }
   ],
   "source": [
    "def plus(num1, num2):\n",
    "    return num1 + num2\n",
    "\n",
    "def minus(num1, num2):\n",
    "    return num1 - num2 \n",
    "\n",
    "def multiply(num1, num2):\n",
    "    return num1 * num2\n",
    "\n",
    "def divide(num1, num2):\n",
    "    return num1 / num2\n",
    "\n",
    "print(f'plus : {plus(10, 5)}')\n",
    "print(f'minus : {minus(10, 5)}')\n",
    "print(f'multiply : {multiply(10, 5)}')\n",
    "print(f'divide : {divide(10, 5)}')"
   ]
  },
  {
   "cell_type": "markdown",
   "id": "001b0a57",
   "metadata": {},
   "source": [
    "### 3번\n",
    "- 2번의 해답을 이용하여 a와 b를 더한 값과 a와 b를 뺀 값을 곱하는 함수를 만들어주세요. 아래와 같은 값이 있다면 (2 + 3) * (2 - 3) = -5가 출력이 되어야 합니다."
   ]
  },
  {
   "cell_type": "code",
   "execution_count": 4,
   "id": "2dc8272b",
   "metadata": {},
   "outputs": [
    {
     "name": "stdout",
     "output_type": "stream",
     "text": [
      "-5\n"
     ]
    }
   ],
   "source": [
    "a = 2\n",
    "b = 3\n",
    "# 이 부분에 코드를 작성해주세요.\n",
    "def plus_N_minus(num1, num2):\n",
    "    return plus(num1, num2) * minus(num1, num2)\n",
    "print(plus_N_minus(a,b))"
   ]
  },
  {
   "cell_type": "markdown",
   "id": "52a736c2",
   "metadata": {},
   "source": [
    "### 4번\n",
    "- x의 n제곱을 구하는 함수를 만들어주세요. 재귀함수를 이용하여 만들어야 하며, x는 0이 아닙니다. (x, n > 1)"
   ]
  },
  {
   "cell_type": "code",
   "execution_count": 10,
   "id": "868a2211",
   "metadata": {},
   "outputs": [
    {
     "name": "stdout",
     "output_type": "stream",
     "text": [
      "125\n"
     ]
    }
   ],
   "source": [
    "def recursive(x, n):\n",
    "    if n == 0:\n",
    "        return 1\n",
    "    return x * recursive(x, n-1)\n",
    "\n",
    "print(recursive(5, 3))"
   ]
  },
  {
   "cell_type": "markdown",
   "id": "6c821c40",
   "metadata": {},
   "source": [
    "### 5번\n",
    "- 이 데이터에서 licat을 출력해주세요. 단, 직접 접근은 안됩니다. data[1]로 접근하는 것은 안됩니다"
   ]
  },
  {
   "cell_type": "code",
   "execution_count": null,
   "id": "bd1fb849",
   "metadata": {},
   "outputs": [
    {
     "name": "stdout",
     "output_type": "stream",
     "text": [
      "licat\n"
     ]
    }
   ],
   "source": [
    "data = [['weniv CTO binky', 2], ['weniv CEO licat', 1], ['weniv COO mura', 2]]\n",
    "for sample in data:\n",
    "    if \"licat\" in sample[0]:\n",
    "        print(\"licat\")"
   ]
  },
  {
   "cell_type": "markdown",
   "id": "e5267f55",
   "metadata": {},
   "source": [
    "### 6번\n",
    "- 다음 함수 is_palindrome를 완성하시오. 이 함수는 하나의 문자열을 인자로 받아, 해당 문자열이 앞으로 읽으나 뒤로 읽으나 같은 단어이면 True를, 아니면 False를 반환해야 합니다."
   ]
  },
  {
   "cell_type": "code",
   "execution_count": 1,
   "id": "095d99e2",
   "metadata": {},
   "outputs": [
    {
     "name": "stdout",
     "output_type": "stream",
     "text": [
      "True\n",
      "True\n",
      "False\n"
     ]
    }
   ],
   "source": [
    "def is_palindrome(s):\n",
    "    if s[::-1] == s:\n",
    "        return True\n",
    "    else:\n",
    "        return False\n",
    "\n",
    "print(is_palindrome(\"자꾸만꿈만꾸자\"))\n",
    "print(is_palindrome(\"1kmmk1\"))\n",
    "print(is_palindrome(\"Hello\"))"
   ]
  },
  {
   "cell_type": "markdown",
   "id": "17a7999f",
   "metadata": {},
   "source": [
    "### 7번\n",
    "- 리스트 numbers가 주어졌을 때, 이 리스트 내의 모든 짝수를 제거하는 코드를 작성하시오."
   ]
  },
  {
   "cell_type": "code",
   "execution_count": 2,
   "id": "809ee1bf",
   "metadata": {},
   "outputs": [
    {
     "name": "stdout",
     "output_type": "stream",
     "text": [
      "[3, 5, 7, 9]\n"
     ]
    }
   ],
   "source": [
    "numbers = [2, 3, 4, 5, 6, 7, 8, 9, 10]\n",
    "# code\n",
    "print(numbers[1::2])  # 결과: [3, 5, 7, 9]"
   ]
  },
  {
   "cell_type": "markdown",
   "id": "50cda565",
   "metadata": {},
   "source": [
    "### 8번\n",
    "- 아래 데이터를 두 번째 요소의 문자열 길이를 기준으로 정렬하세요."
   ]
  },
  {
   "cell_type": "code",
   "execution_count": 3,
   "id": "9641bd3f",
   "metadata": {},
   "outputs": [
    {
     "name": "stdout",
     "output_type": "stream",
     "text": [
      "[[3, 'hworl', 33], [4, 'hello w', 31], [6, 'hello w', 39], [5, 'hello wo', 35], [2, 'hello world', 30]]\n",
      "[[2, 'hello world', 30], [5, 'hello wo', 35], [4, 'hello w', 31], [6, 'hello w', 39], [3, 'hworl', 33]]\n"
     ]
    }
   ],
   "source": [
    "data = [\n",
    "  [2, 'hello world', 30],\n",
    "  [3, 'hworl', 33],\n",
    "  [5, 'hello wo', 35],\n",
    "  [4, 'hello w', 31],\n",
    "  [6, 'hello w', 39],\n",
    "]\n",
    "sorted_data = sorted(data, key = lambda x: len(x[1]), reverse=False) #* 길이 기준 오름차순\n",
    "print(sorted_data)\n",
    "\n",
    "reverse_sorted_data = sorted(data, key = lambda x: len(x[1]), reverse=True)  #* 길이 기준 내림차순\n",
    "print(reverse_sorted_data)"
   ]
  },
  {
   "cell_type": "markdown",
   "id": "547b72de",
   "metadata": {},
   "source": [
    "### 9번\n",
    "- 8번 문제에서 첫 번째 요소와 세 번째 요소의 차가 큰 순으로 출력해주세요"
   ]
  },
  {
   "cell_type": "code",
   "execution_count": 4,
   "id": "2e4f0bdc",
   "metadata": {},
   "outputs": [
    {
     "name": "stdout",
     "output_type": "stream",
     "text": [
      "[[6, 'hello w', 39], [3, 'hworl', 33], [5, 'hello wo', 35], [2, 'hello world', 30], [4, 'hello w', 31]]\n"
     ]
    },
    {
     "data": {
      "text/plain": [
       "True"
      ]
     },
     "execution_count": 4,
     "metadata": {},
     "output_type": "execute_result"
    }
   ],
   "source": [
    "sorted_data = sorted(data, key = lambda x: abs(x[0] - x[2]), reverse=True)\n",
    "print(sorted_data)\n",
    "abs(-2) == abs(2)"
   ]
  }
 ],
 "metadata": {
  "kernelspec": {
   "display_name": "Python 3",
   "language": "python",
   "name": "python3"
  },
  "language_info": {
   "codemirror_mode": {
    "name": "ipython",
    "version": 3
   },
   "file_extension": ".py",
   "mimetype": "text/x-python",
   "name": "python",
   "nbconvert_exporter": "python",
   "pygments_lexer": "ipython3",
   "version": "3.13.0"
  }
 },
 "nbformat": 4,
 "nbformat_minor": 5
}
