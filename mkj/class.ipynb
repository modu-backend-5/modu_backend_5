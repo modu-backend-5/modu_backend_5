{
 "cells": [
  {
   "cell_type": "markdown",
   "id": "31462697",
   "metadata": {},
   "source": [
    "1. 클래스 변수"
   ]
  },
  {
   "cell_type": "code",
   "execution_count": 8,
   "id": "9d7d9135",
   "metadata": {},
   "outputs": [
    {
     "name": "stdout",
     "output_type": "stream",
     "text": [
      "modelx.speed: 500\n",
      "modely.speed: 250\n"
     ]
    }
   ],
   "source": [
    "class Car:\n",
    "    speed = 300\n",
    "    \n",
    "    def change_speed(self, speed):\n",
    "        self.speed = speed\n",
    "        \n",
    "        \n",
    "modelx = Car()\n",
    "modely = Car()          \n",
    "    \n",
    "modelx.change_speed(500)\n",
    "modely.change_speed(250)\n",
    "    \n",
    "print(f'modelx.speed: {modelx.speed}')\n",
    "print(f'modely.speed: {modely.speed}')"
   ]
  },
  {
   "cell_type": "code",
   "execution_count": null,
   "id": "a91c8699",
   "metadata": {},
   "outputs": [],
   "source": []
  },
  {
   "cell_type": "code",
   "execution_count": null,
   "id": "d6751829",
   "metadata": {},
   "outputs": [],
   "source": []
  }
 ],
 "metadata": {
  "kernelspec": {
   "display_name": "Python 3",
   "language": "python",
   "name": "python3"
  },
  "language_info": {
   "codemirror_mode": {
    "name": "ipython",
    "version": 3
   },
   "file_extension": ".py",
   "mimetype": "text/x-python",
   "name": "python",
   "nbconvert_exporter": "python",
   "pygments_lexer": "ipython3",
   "version": "3.13.5"
  }
 },
 "nbformat": 4,
 "nbformat_minor": 5
}
