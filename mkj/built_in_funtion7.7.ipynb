{
 "cells": [
  {
   "cell_type": "markdown",
   "id": "af16c5c8",
   "metadata": {},
   "source": [
    "1번 문제. 다음 코드를 실행하면 출력되는 값을 순서대로 작성해보세요"
   ]
  },
  {
   "cell_type": "code",
   "execution_count": 5,
   "id": "49590e1d",
   "metadata": {},
   "outputs": [
    {
     "name": "stdout",
     "output_type": "stream",
     "text": [
      "I\n",
      "love\n",
      "python\n"
     ]
    },
    {
     "data": {
      "text/plain": [
       "'출력값은 차례대로\\nI\\nlove\\npython'"
      ]
     },
     "execution_count": 5,
     "metadata": {},
     "output_type": "execute_result"
    }
   ],
   "source": [
    "a = 'pithon' #a에 변수값 pithon 할당\n",
    "\n",
    "def 함수1(): #함수 정의 후, 정의된 함수에()를 붙여 호출해야 한다. 먼저, 함수1 정의\n",
    "    def 함수2(): #함수2 정의. 함수1이 실행되어야 함수2가 실행될 수 있다. 실행된 함수가 아직 없다!\n",
    "        print('love') \n",
    " \n",
    "    print('I') #1번 | I출력\n",
    "    함수2() #2번 함수2 호출, 출력이 아니다!\n",
    "    return \"python\" #3번 #return>>값을 반환한다. python 출력\n",
    " \n",
    " \n",
    "a = 함수1() #함수1 실행, I>>love>>값 반환으로 a = pithon 이 python으로 덮어쓰기됨\n",
    "print(a)\n",
    "'''출력값은 차례대로\n",
    "I\n",
    "love\n",
    "python'''"
   ]
  },
  {
   "cell_type": "markdown",
   "id": "70ae4b4c",
   "metadata": {},
   "source": [
    "2번 문제. 함수를 이용하여 계산기 프로그램을 만들어주세요."
   ]
  },
  {
   "cell_type": "code",
   "execution_count": 6,
   "id": "078d5ae9",
   "metadata": {},
   "outputs": [
    {
     "name": "stdout",
     "output_type": "stream",
     "text": [
      "plus : 15\n",
      "minus : 5\n",
      "multiply : 50\n",
      "divide : 2.0\n"
     ]
    }
   ],
   "source": [
    "def plus(num1, num2): #함수는 코드 재사용 가능. 함수는 def로 정의 후, 괄호()를 붙이고 콜론: 으로 끝냄\n",
    "    return num1 + num2 #return으로 결과 반환\n",
    " \n",
    "def minus(num1, num2):\n",
    "    return num1 - num2\n",
    "     \n",
    "def multiply(num1, num2):\n",
    "    return num1 * num2\n",
    " \n",
    "def divide(num1, num2):\n",
    "    return num1 / num2    \n",
    " \n",
    "print(f'plus : {plus(10, 5)}')\n",
    "print(f'minus : {minus(10, 5)}')\n",
    "print(f'multiply : {multiply(10, 5)}')\n",
    "print(f'divide : {divide(10, 5)}')"
   ]
  },
  {
   "cell_type": "markdown",
   "id": "2c3483e1",
   "metadata": {},
   "source": [
    "3번 문제. 2번의 해답을 이용하여 a와 b를 더한 값과 a와 b를 뺀 값을 곱하는 함수를 만들어주세요. 아래와 같은 값이 있다면 (2 + 3) * (2 - 3) = -5가 출력이 되어야 합니다."
   ]
  },
  {
   "cell_type": "code",
   "execution_count": 15,
   "id": "2b5f1f92",
   "metadata": {},
   "outputs": [
    {
     "name": "stdout",
     "output_type": "stream",
     "text": [
      "-5\n"
     ]
    }
   ],
   "source": [
    "a = 2\n",
    "b = 3\n",
    "def plus(a , b):\n",
    "    return a + b\n",
    "\n",
    "def minus(a, b):\n",
    "    return a - b\n",
    "\n",
    "print(plus(a , b) * minus(a, b))"
   ]
  },
  {
   "cell_type": "markdown",
   "id": "abd16bfd",
   "metadata": {},
   "source": [
    "4번 문제. x의 n제곱을 구하는 함수를 만들어주세요. 재귀함수를 이용하여 만들어야 하며, x는 0이 아닙니다. (x, n > 1)"
   ]
  },
  {
   "cell_type": "code",
   "execution_count": 3,
   "id": "d3dd9cfd",
   "metadata": {},
   "outputs": [
    {
     "ename": "RecursionError",
     "evalue": "maximum recursion depth exceeded",
     "output_type": "error",
     "traceback": [
      "\u001b[31m---------------------------------------------------------------------------\u001b[39m",
      "\u001b[31mRecursionError\u001b[39m                            Traceback (most recent call last)",
      "\u001b[36mCell\u001b[39m\u001b[36m \u001b[39m\u001b[32mIn[3]\u001b[39m\u001b[32m, line 12\u001b[39m\n\u001b[32m     10\u001b[39m power(\u001b[32m2\u001b[39m, \u001b[32m3\u001b[39m)\n\u001b[32m     11\u001b[39m power(\u001b[32m3\u001b[39m, \u001b[32m3\u001b[39m)\n\u001b[32m---> \u001b[39m\u001b[32m12\u001b[39m \u001b[43mpower\u001b[49m\u001b[43m(\u001b[49m\u001b[32;43m4\u001b[39;49m\u001b[43m,\u001b[49m\u001b[43m \u001b[49m\u001b[32;43m0\u001b[39;49m\u001b[43m)\u001b[49m\n",
      "\u001b[36mCell\u001b[39m\u001b[36m \u001b[39m\u001b[32mIn[3]\u001b[39m\u001b[32m, line 7\u001b[39m, in \u001b[36mpower\u001b[39m\u001b[34m(x, n)\u001b[39m\n\u001b[32m      5\u001b[39m \u001b[38;5;28;01mif\u001b[39;00m n == \u001b[32m1\u001b[39m: \u001b[38;5;66;03m#재귀 함수에서 if문은 필수, 탈출구를 만들어줘야 한다\u001b[39;00m\n\u001b[32m      6\u001b[39m     \u001b[38;5;28;01mreturn\u001b[39;00m x\n\u001b[32m----> \u001b[39m\u001b[32m7\u001b[39m \u001b[38;5;28;01mreturn\u001b[39;00m x * \u001b[43mpower\u001b[49m\u001b[43m(\u001b[49m\u001b[43mx\u001b[49m\u001b[43m,\u001b[49m\u001b[43m \u001b[49m\u001b[43mn\u001b[49m\u001b[43m \u001b[49m\u001b[43m-\u001b[49m\u001b[43m \u001b[49m\u001b[32;43m1\u001b[39;49m\u001b[43m)\u001b[49m\n",
      "\u001b[36mCell\u001b[39m\u001b[36m \u001b[39m\u001b[32mIn[3]\u001b[39m\u001b[32m, line 7\u001b[39m, in \u001b[36mpower\u001b[39m\u001b[34m(x, n)\u001b[39m\n\u001b[32m      5\u001b[39m \u001b[38;5;28;01mif\u001b[39;00m n == \u001b[32m1\u001b[39m: \u001b[38;5;66;03m#재귀 함수에서 if문은 필수, 탈출구를 만들어줘야 한다\u001b[39;00m\n\u001b[32m      6\u001b[39m     \u001b[38;5;28;01mreturn\u001b[39;00m x\n\u001b[32m----> \u001b[39m\u001b[32m7\u001b[39m \u001b[38;5;28;01mreturn\u001b[39;00m x * \u001b[43mpower\u001b[49m\u001b[43m(\u001b[49m\u001b[43mx\u001b[49m\u001b[43m,\u001b[49m\u001b[43m \u001b[49m\u001b[43mn\u001b[49m\u001b[43m \u001b[49m\u001b[43m-\u001b[49m\u001b[43m \u001b[49m\u001b[32;43m1\u001b[39;49m\u001b[43m)\u001b[49m\n",
      "    \u001b[31m[... skipping similar frames: power at line 7 (2974 times)]\u001b[39m\n",
      "\u001b[36mCell\u001b[39m\u001b[36m \u001b[39m\u001b[32mIn[3]\u001b[39m\u001b[32m, line 7\u001b[39m, in \u001b[36mpower\u001b[39m\u001b[34m(x, n)\u001b[39m\n\u001b[32m      5\u001b[39m \u001b[38;5;28;01mif\u001b[39;00m n == \u001b[32m1\u001b[39m: \u001b[38;5;66;03m#재귀 함수에서 if문은 필수, 탈출구를 만들어줘야 한다\u001b[39;00m\n\u001b[32m      6\u001b[39m     \u001b[38;5;28;01mreturn\u001b[39;00m x\n\u001b[32m----> \u001b[39m\u001b[32m7\u001b[39m \u001b[38;5;28;01mreturn\u001b[39;00m x * \u001b[43mpower\u001b[49m\u001b[43m(\u001b[49m\u001b[43mx\u001b[49m\u001b[43m,\u001b[49m\u001b[43m \u001b[49m\u001b[43mn\u001b[49m\u001b[43m \u001b[49m\u001b[43m-\u001b[49m\u001b[43m \u001b[49m\u001b[32;43m1\u001b[39;49m\u001b[43m)\u001b[49m\n",
      "\u001b[31mRecursionError\u001b[39m: maximum recursion depth exceeded"
     ]
    }
   ],
   "source": [
    "#재귀함수란.. 자기 자신을 호출하는 함수\n",
    "#일반 함수, 반복문 사용.재귀함수는 스스로를 다시 호츨, 무한 반복을 막기 위한 종료 조건 부여\n",
    "#곱셈 연산을 사용해야 한다\n",
    "def power(x, n): #함수 정의\n",
    "    if n == 1: #재귀 함수에서 if문은 필수, 탈출구를 만들어줘야 한다\n",
    "        return x\n",
    "    return x * power(x, n - 1)#재귀조건 설정, x가 1이 아닌 경우 실행\n",
    "#n이 1이 될 때까지 함수 호출(x를 게속 곱해라)\n",
    "#n이 1이 되고 x가 2 반환, 재귀 호출 멈춤. 모든 곱셈 연산 역순으로 실행됨\n",
    "power(2, 3)\n",
    "power(3, 3)\n",
    "power(4, 0)"
   ]
  },
  {
   "cell_type": "markdown",
   "id": "bd92b0c9",
   "metadata": {},
   "source": [
    "5번 문제. 이 데이터에서 licat을 출력해주세요. 단, 직접 접근은 안됩니다. data[1]로 접근하는 것은 안됩니다."
   ]
  },
  {
   "cell_type": "code",
   "execution_count": null,
   "id": "4751d29c",
   "metadata": {},
   "outputs": [],
   "source": [
    "data = [['weniv CTO binky', 2], ['weniv CEO licat', 1], ['weniv COO mura', 2]]"
   ]
  },
  {
   "cell_type": "markdown",
   "id": "75ff377d",
   "metadata": {},
   "source": [
    "6번 문제. 다음 함수 is_palindrome를 완성하시오. 이 함수는 하나의 문자열을 인자로 받아, 해당 문자열이 앞으로 읽으나 뒤로 읽으나 같은 단어이면 True를, 아니면 False를 반환해야 합니다."
   ]
  },
  {
   "cell_type": "code",
   "execution_count": null,
   "id": "3652ed97",
   "metadata": {},
   "outputs": [],
   "source": [
    "def is_palindrome(s):\n",
    "    pass"
   ]
  },
  {
   "cell_type": "markdown",
   "id": "4c320181",
   "metadata": {},
   "source": [
    "7번 문제. 리스트 numbers가 주어졌을 때, 이 리스트 내의 모든 짝수를 제거하는 코드를 작성하시오."
   ]
  },
  {
   "cell_type": "code",
   "execution_count": 4,
   "id": "7d96f362",
   "metadata": {},
   "outputs": [
    {
     "name": "stdout",
     "output_type": "stream",
     "text": [
      "[3, 5, 7, 9]\n"
     ]
    }
   ],
   "source": [
    "numbers = [2, 3, 4, 5, 6, 7, 8, 9, 10] #for문, if문 사용\n",
    "#리스트를 수정하거나, 새로운 리스트를 만들어 사용하는 방법은 쓸 수 없다.\n",
    "#리스트에서 짝수를 제거해야함\n",
    "# 리스트를 뒤에서부터 순회. 인덱스 변화로 인한 오류 방지\n",
    "for i in range(len(numbers) - 1, -1, -1): #len은 리스트의 길이를 반환.리스트 안의 항목 세어줌\n",
    "    # 현재 인덱스의 항목이 짝수인지 확인함. range(시작_값, 종료_값, 연속하는_두_수의_차)\n",
    "    if numbers[i] % 2 == 0:\n",
    "        # 짝수이면 해당 인덱스의 항목을 삭제합니다. if 문 같은 조건문에서는 0이 False를 의미,짝수임\n",
    "        del numbers[i]\n",
    "print(numbers)  # 결과: [3, 5, 7, 9] # 짝수를 제거하는 코드를 작성... 짝수를 제가하는 명령어.."
   ]
  },
  {
   "cell_type": "markdown",
   "id": "4d72fe53",
   "metadata": {},
   "source": [
    "8번 문제. 아래 데이터를 두 번째 요소의 문자열 길이를 기준으로 정렬하세요."
   ]
  },
  {
   "cell_type": "code",
   "execution_count": null,
   "id": "ab55800b",
   "metadata": {},
   "outputs": [],
   "source": [
    "data = [\n",
    "  [2, 'hello world', 30],\n",
    "  [3, 'hworl', 33],\n",
    "  [5, 'hello wo', 35],\n",
    "  [4, 'hello w', 31],\n",
    "  [6, 'hello w', 39],\n",
    "];\n",
    "#빌트인 함수 중 min 내장함수 사용\n",
    "#min(순회할 수 있는 객체, 함수(key), 초깃값(default))\n",
    "min(data, ) pass"
   ]
  },
  {
   "cell_type": "markdown",
   "id": "6834ea33",
   "metadata": {},
   "source": [
    "9번 문제. 8번 문제에서 첫 번째 요소와 세 번째 요소의 차가 큰 순으로 출력해주세요."
   ]
  },
  {
   "cell_type": "code",
   "execution_count": null,
   "id": "24752ac2",
   "metadata": {},
   "outputs": [],
   "source": []
  }
 ],
 "metadata": {
  "kernelspec": {
   "display_name": "Python 3",
   "language": "python",
   "name": "python3"
  },
  "language_info": {
   "codemirror_mode": {
    "name": "ipython",
    "version": 3
   },
   "file_extension": ".py",
   "mimetype": "text/x-python",
   "name": "python",
   "nbconvert_exporter": "python",
   "pygments_lexer": "ipython3",
   "version": "3.13.0"
  }
 },
 "nbformat": 4,
 "nbformat_minor": 5
}
