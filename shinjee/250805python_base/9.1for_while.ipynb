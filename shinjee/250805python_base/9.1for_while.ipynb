{
 "cells": [
  {
   "cell_type": "code",
   "execution_count": null,
   "id": "acb8872c",
   "metadata": {},
   "outputs": [
    {
     "name": "stdout",
     "output_type": "stream",
     "text": [
      "사과\n",
      "바나나\n",
      "오렌지\n"
     ]
    }
   ],
   "source": [
    "fruits = {'사과':1, '바나나':2, '오렌지':3} #키와 value값\n",
    "for fruit in fruits:\n",
    "    print(fruit)\n"
   ]
  },
  {
   "cell_type": "code",
   "execution_count": null,
   "id": "4cc56991",
   "metadata": {},
   "outputs": [
    {
     "name": "stdout",
     "output_type": "stream",
     "text": [
      "사과\n",
      "바나나\n",
      "오렌지\n"
     ]
    }
   ],
   "source": [
    "fruits = ('사과', '바나나', '오렌지') #튜플\n",
    "for fruit in fruits:\n",
    "    print(fruit)\n"
   ]
  },
  {
   "cell_type": "code",
   "execution_count": 1,
   "id": "e07e0e4c",
   "metadata": {},
   "outputs": [
    {
     "name": "stdout",
     "output_type": "stream",
     "text": [
      "h\n",
      "e\n",
      "l\n",
      "l\n",
      "o\n"
     ]
    }
   ],
   "source": [
    "s = 'hello'\n",
    "for i in s:\n",
    "    print(i)"
   ]
  },
  {
   "cell_type": "code",
   "execution_count": null,
   "id": "9132cfe4",
   "metadata": {},
   "outputs": [
    {
     "name": "stdout",
     "output_type": "stream",
     "text": [
      "사과\n",
      "바나나\n",
      "오렌지\n"
     ]
    }
   ],
   "source": [
    "fruits = ['사과', '바나나', '오렌지'] #리스트\n",
    "for fruit in fruits:\n",
    "    print(fruit)\n"
   ]
  },
  {
   "cell_type": "code",
   "execution_count": null,
   "id": "3851e325",
   "metadata": {},
   "outputs": [],
   "source": [
    "fruits = ['사과', '바나나', '오렌지'] #리스트\n",
    "for fruit in fruits:\n",
    "    print(fruit)"
   ]
  },
  {
   "cell_type": "code",
   "execution_count": 6,
   "id": "3a738591",
   "metadata": {},
   "outputs": [
    {
     "name": "stdout",
     "output_type": "stream",
     "text": [
      "사과\n",
      "바나나\n",
      "오렌지\n",
      "사과\n",
      "바나나\n",
      "오렌지\n"
     ]
    }
   ],
   "source": [
    "fruits = ['사과', '바나나', '오렌지'] #리스트\n",
    "for fruit in fruits:\n",
    "    print(fruit)\n",
    "\n",
    "for i in range(len(fruits)):\n",
    "    print(fruits[i])\n"
   ]
  },
  {
   "cell_type": "code",
   "execution_count": 7,
   "id": "a17d3f99",
   "metadata": {},
   "outputs": [
    {
     "name": "stdout",
     "output_type": "stream",
     "text": [
      "0 사과\n",
      "1 바나나\n",
      "2 오렌지\n",
      "3 두리안\n",
      "4 수박\n",
      "5 포도\n"
     ]
    }
   ],
   "source": [
    "fruits = ['사과', '바나나', '오렌지', '두리안', '수박', '포도'] #리스트\n",
    "for i, fruit in enumerate(fruits) :\n",
    "    print(i, fruit)"
   ]
  },
  {
   "cell_type": "code",
   "execution_count": null,
   "id": "adbb140f",
   "metadata": {},
   "outputs": [],
   "source": []
  },
  {
   "cell_type": "markdown",
   "id": "5094c073",
   "metadata": {},
   "source": [
    "#WHILE 문\n"
   ]
  },
  {
   "cell_type": "code",
   "execution_count": null,
   "id": "12db3440",
   "metadata": {},
   "outputs": [],
   "source": []
  },
  {
   "cell_type": "code",
   "execution_count": 9,
   "id": "53149cd2",
   "metadata": {},
   "outputs": [
    {
     "name": "stdout",
     "output_type": "stream",
     "text": [
      "0\n",
      "1\n",
      "3\n",
      "4\n"
     ]
    }
   ],
   "source": [
    "for i in range(5):\n",
    "    if i == 2:\n",
    "        continue\n",
    "    print(i)\n"
   ]
  }
 ],
 "metadata": {
  "kernelspec": {
   "display_name": "Python 3",
   "language": "python",
   "name": "python3"
  },
  "language_info": {
   "codemirror_mode": {
    "name": "ipython",
    "version": 3
   },
   "file_extension": ".py",
   "mimetype": "text/x-python",
   "name": "python",
   "nbconvert_exporter": "python",
   "pygments_lexer": "ipython3",
   "version": "3.13.5"
  }
 },
 "nbformat": 4,
 "nbformat_minor": 5
}
