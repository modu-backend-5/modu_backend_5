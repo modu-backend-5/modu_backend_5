{
 "cells": [
  {
   "cell_type": "code",
   "execution_count": 1,
   "id": "2f205f7d",
   "metadata": {},
   "outputs": [
    {
     "name": "stdout",
     "output_type": "stream",
     "text": [
      "[1, 2, 3]\n",
      "['apple', 'banana', 'cherry']\n",
      "[1, 'hello', True]\n"
     ]
    }
   ],
   "source": [
    "x = [1, 2, 3]\n",
    "y = ['apple', 'banana', 'cherry']\n",
    "z = [1, 'hello', True]\n",
    "print(x)\n",
    "print(y)\n",
    "print(z)"
   ]
  },
  {
   "cell_type": "code",
   "execution_count": 2,
   "id": "647cca08",
   "metadata": {},
   "outputs": [
    {
     "name": "stdout",
     "output_type": "stream",
     "text": [
      "[1, 2, 3] ['apple', 'banana', 'cherry'] [1, 'hello', True]\n"
     ]
    }
   ],
   "source": [
    "x = [1, 2, 3]\n",
    "y = ['apple', 'banana', 'cherry']\n",
    "z = [1, 'hello', True]\n",
    "print(x, y, z )"
   ]
  },
  {
   "cell_type": "code",
   "execution_count": null,
   "id": "dff7760b",
   "metadata": {},
   "outputs": [
    {
     "name": "stdout",
     "output_type": "stream",
     "text": [
      "apple\n",
      "banana\n",
      "cherry\n"
     ]
    }
   ],
   "source": [
    "fruits = ['apple', 'banana', 'cherry']\n",
    "print(fruits[0])\n",
    "print(fruits[1])\n",
    "print(fruits[2]) #결과값을 보면 리스트안에 있는 것과 달리 ''없이 출력된다"
   ]
  },
  {
   "cell_type": "code",
   "execution_count": 5,
   "id": "33399bdf",
   "metadata": {},
   "outputs": [
    {
     "name": "stdout",
     "output_type": "stream",
     "text": [
      "['banana', 'cherry']\n"
     ]
    }
   ],
   "source": [
    "fruits = ['apple', 'banana', 'cherry', 'orange']\n",
    "print(fruits[1:3])"
   ]
  },
  {
   "cell_type": "code",
   "execution_count": 6,
   "id": "3377315d",
   "metadata": {},
   "outputs": [
    {
     "name": "stdout",
     "output_type": "stream",
     "text": [
      "['apple', 'kiwi', 'cherry']\n"
     ]
    }
   ],
   "source": [
    "fruits = ['apple', 'banana', 'cherry']\n",
    "fruits[1] = 'kiwi'\n",
    "print(fruits)\n"
   ]
  },
  {
   "cell_type": "code",
   "execution_count": 7,
   "id": "076d3ace",
   "metadata": {},
   "outputs": [
    {
     "name": "stdout",
     "output_type": "stream",
     "text": [
      "['apple', 'banana', 'cherry', 'orange']\n"
     ]
    }
   ],
   "source": [
    "fruits = ['apple', 'banana', 'cherry']\n",
    "fruits.append('orange')\n",
    "print(fruits)"
   ]
  },
  {
   "cell_type": "code",
   "execution_count": 9,
   "id": "3620c3e2",
   "metadata": {},
   "outputs": [
    {
     "name": "stdout",
     "output_type": "stream",
     "text": [
      "['apple', 'cherry']\n"
     ]
    }
   ],
   "source": [
    "fruits = ['apple', 'banana', 'cherry']\n",
    "fruits.remove('banana')\n",
    "print(fruits)"
   ]
  },
  {
   "cell_type": "code",
   "execution_count": 10,
   "id": "61ceedc3",
   "metadata": {},
   "outputs": [
    {
     "name": "stdout",
     "output_type": "stream",
     "text": [
      "3\n"
     ]
    }
   ],
   "source": [
    "fruits = ['apple', 'banana', 'cherry']\n",
    "print(len(fruits))  # 리스트의 길이 출력\n",
    "\n"
   ]
  },
  {
   "cell_type": "code",
   "execution_count": 12,
   "id": "09916089",
   "metadata": {},
   "outputs": [
    {
     "name": "stdout",
     "output_type": "stream",
     "text": [
      "['apple', 'banana', 'cherry']\n"
     ]
    }
   ],
   "source": [
    "fruits = ['apple', 'banana', 'cherry']\n",
    "fruits.sort()\n",
    "print(fruits)  # 정렬된 리스트 출력"
   ]
  },
  {
   "cell_type": "markdown",
   "id": "612b76d7",
   "metadata": {},
   "source": [
    "# 튜플"
   ]
  },
  {
   "cell_type": "code",
   "execution_count": 1,
   "id": "a92467bf",
   "metadata": {},
   "outputs": [
    {
     "name": "stdout",
     "output_type": "stream",
     "text": [
      "(1, 'hello', 3.14)\n"
     ]
    }
   ],
   "source": [
    "my_tuple = (1, 'hello', 3.14)\n",
    "print(my_tuple)\n"
   ]
  },
  {
   "cell_type": "code",
   "execution_count": 1,
   "id": "b53057b1",
   "metadata": {},
   "outputs": [
    {
     "name": "stdout",
     "output_type": "stream",
     "text": [
      "(1, 2, 3) ('apple', 'banana', 'cherry')\n"
     ]
    }
   ],
   "source": [
    "x = (1, 2, 3)\n",
    "y = ('apple', 'banana', 'cherry')\n",
    "print(x, y)"
   ]
  },
  {
   "cell_type": "code",
   "execution_count": 2,
   "id": "f495bf6f",
   "metadata": {},
   "outputs": [
    {
     "name": "stdout",
     "output_type": "stream",
     "text": [
      "첫 번째 과일: apple\n",
      "두 번째 과일: banana\n",
      "마지막 과일: cherry\n"
     ]
    }
   ],
   "source": [
    "fruits = ('apple', 'banana', 'cherry')\n",
    "print(\"첫 번째 과일:\", fruits[0])\n",
    "print(\"두 번째 과일:\", fruits[1])\n",
    "print(\"마지막 과일:\", fruits[-1])\n"
   ]
  },
  {
   "cell_type": "code",
   "execution_count": 3,
   "id": "4e76e549",
   "metadata": {},
   "outputs": [
    {
     "name": "stdout",
     "output_type": "stream",
     "text": [
      "첫 번째 과일 : apple\n",
      "두 번째 과일 : banana\n",
      "마지막 과일 : cherry\n"
     ]
    }
   ],
   "source": [
    "fruits = ('apple', 'banana', 'cherry')\n",
    "print(\"첫 번째 과일 :\", fruits[0])\n",
    "print(\"두 번째 과일 :\", fruits[1])\n",
    "print(\"마지막 과일 :\", fruits[-1])\n"
   ]
  },
  {
   "cell_type": "code",
   "execution_count": 5,
   "id": "e60f5f01",
   "metadata": {},
   "outputs": [
    {
     "name": "stdout",
     "output_type": "stream",
     "text": [
      "처음부터 세번째까지 : (0, 1, 2)\n",
      "4번째부터 7번째까지 : (3, 4, 5, 6)\n",
      "짝수번째 항목들 : (0, 2, 4, 6, 8)\n"
     ]
    }
   ],
   "source": [
    "numbers = (0,1,2,3,4,5,6,7,8,9)\n",
    "print(\"처음부터 세번째까지 :\", numbers[:3])\n",
    "print(\"4번째부터 7번째까지 :\", numbers[3:7])\n",
    "print(\"짝수번째 항목들 :\", numbers[::2])"
   ]
  },
  {
   "cell_type": "code",
   "execution_count": 6,
   "id": "b6015bd9",
   "metadata": {},
   "outputs": [
    {
     "name": "stdout",
     "output_type": "stream",
     "text": [
      "숫자 1의 개수: 2\n",
      "숫자 5의 첫 번째 위치: 4\n"
     ]
    }
   ],
   "source": [
    "numbers = (3, 1, 4, 1, 5, 9, 2, 6, 5, 3)\n",
    "\n",
    "print(\"숫자 1의 개수:\", numbers.count(1))  # 특정 항목의 개수 세기\n",
    "print(\"숫자 5의 첫 번째 위치:\", numbers.index(5))  # 특정 항목의 인덱스 찾기\n"
   ]
  },
  {
   "cell_type": "markdown",
   "id": "e863e9a4",
   "metadata": {},
   "source": [
    "# 딕셔너리"
   ]
  },
  {
   "cell_type": "code",
   "execution_count": 9,
   "id": "894069bc",
   "metadata": {},
   "outputs": [
    {
     "name": "stdout",
     "output_type": "stream",
     "text": [
      "{'name': 'licat', 'age': 30, 'city': 'New York'}\n"
     ]
    }
   ],
   "source": [
    "my_dict = {'name': 'licat', 'age': 30, 'city': 'New York'}\n",
    "print(my_dict)\n"
   ]
  },
  {
   "cell_type": "code",
   "execution_count": 10,
   "id": "889c8e82",
   "metadata": {},
   "outputs": [
    {
     "name": "stdout",
     "output_type": "stream",
     "text": [
      "{'name': 'licat', 'age': 25, 'height': 165.5}\n"
     ]
    }
   ],
   "source": [
    "person = {'name': 'licat', 'age': 25, 'height': 165.5}\n",
    "print(person)\n"
   ]
  },
  {
   "cell_type": "code",
   "execution_count": 13,
   "id": "6ec971dc",
   "metadata": {},
   "outputs": [
    {
     "name": "stdout",
     "output_type": "stream",
     "text": [
      "이름: {'name': 'licat', 'age': 25, 'height': 165.5}\n",
      "나이: 25\n"
     ]
    }
   ],
   "source": [
    "person = {'name': 'licat', 'age': 25, 'height': 165.5}\n",
    "print(\"이름:\", person)\n",
    "print(\"나이:\", person['age'])\n"
   ]
  },
  {
   "cell_type": "code",
   "execution_count": 12,
   "id": "8d903096",
   "metadata": {},
   "outputs": [
    {
     "name": "stdout",
     "output_type": "stream",
     "text": [
      "{'name': 'Alice', 'age': 26, 'city': 'Seoul'}\n"
     ]
    }
   ],
   "source": [
    "person = {'name': 'Alice', 'age': 25}\n",
    "person['age'] = 26  # 값 수정\n",
    "person['city'] = 'Seoul'  # 새로운 키-값 쌍 추가\n",
    "print(person)\n"
   ]
  },
  {
   "cell_type": "code",
   "execution_count": 14,
   "id": "1e456caa",
   "metadata": {},
   "outputs": [
    {
     "name": "stdout",
     "output_type": "stream",
     "text": [
      "키 목록: dict_keys(['name', 'age', 'city'])\n",
      "값 목록: dict_values(['Alice', 25, 'Seoul'])\n",
      "키-값 쌍 목록: dict_items([('name', 'Alice'), ('age', 25), ('city', 'Seoul')])\n",
      "직업: 정보 없음\n"
     ]
    }
   ],
   "source": [
    "person = {'name': 'Alice', 'age': 25, 'city': 'Seoul'}\n",
    "\n",
    "print(\"키 목록:\", person.keys())\n",
    "print(\"값 목록:\", person.values())\n",
    "print(\"키-값 쌍 목록:\", person.items())\n",
    "\n",
    "# get() 메서드로 안전하게 값 가져오기\n",
    "print(\"직업:\", person.get('job', '정보 없음'))\n"
   ]
  }
 ],
 "metadata": {
  "kernelspec": {
   "display_name": "Python 3",
   "language": "python",
   "name": "python3"
  },
  "language_info": {
   "codemirror_mode": {
    "name": "ipython",
    "version": 3
   },
   "file_extension": ".py",
   "mimetype": "text/x-python",
   "name": "python",
   "nbconvert_exporter": "python",
   "pygments_lexer": "ipython3",
   "version": "3.13.5"
  }
 },
 "nbformat": 4,
 "nbformat_minor": 5
}
