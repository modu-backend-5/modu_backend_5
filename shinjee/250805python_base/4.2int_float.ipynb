{
 "cells": [
  {
   "cell_type": "code",
   "execution_count": 1,
   "id": "103b7dc0",
   "metadata": {},
   "outputs": [
    {
     "name": "stdout",
     "output_type": "stream",
     "text": [
      "<class 'int'> <class 'int'> <class 'int'>\n"
     ]
    }
   ],
   "source": [
    "x = 5\n",
    "y = 0\n",
    "z = -5\n",
    "print(type(x), type(y), type(z))\n"
   ]
  },
  {
   "cell_type": "code",
   "execution_count": 2,
   "id": "bd592e16",
   "metadata": {},
   "outputs": [
    {
     "name": "stdout",
     "output_type": "stream",
     "text": [
      "<class 'float'> <class 'float'> <class 'float'>\n"
     ]
    }
   ],
   "source": [
    "x = 10.0\n",
    "y = -5.0\n",
    "z = 0.0\n",
    "print(type(x), type(y), type(z))\n",
    "\n"
   ]
  },
  {
   "cell_type": "code",
   "execution_count": null,
   "id": "093db484",
   "metadata": {},
   "outputs": [],
   "source": [
    "x = float(\"inf\") #변수에 직접 실수값을 넣어주는것이 아니라 float함수를 이용해서 무한대수를 설정해주는거다\n"
   ]
  },
  {
   "cell_type": "code",
   "execution_count": 7,
   "id": "aae28e08",
   "metadata": {},
   "outputs": [
    {
     "data": {
      "text/plain": [
       "True"
      ]
     },
     "execution_count": 7,
     "metadata": {},
     "output_type": "execute_result"
    }
   ],
   "source": [
    "x > 10"
   ]
  },
  {
   "cell_type": "code",
   "execution_count": null,
   "id": "269046f9",
   "metadata": {},
   "outputs": [],
   "source": [
    "x = float(\"-inf\") \n"
   ]
  },
  {
   "cell_type": "code",
   "execution_count": 3,
   "id": "d53d0b3a",
   "metadata": {},
   "outputs": [
    {
     "data": {
      "text/plain": [
       "True"
      ]
     },
     "execution_count": 3,
     "metadata": {},
     "output_type": "execute_result"
    }
   ],
   "source": [
    "float(\"inf\") > 10\n"
   ]
  },
  {
   "cell_type": "code",
   "execution_count": 4,
   "id": "cf38bb78",
   "metadata": {},
   "outputs": [
    {
     "data": {
      "text/plain": [
       "False"
      ]
     },
     "execution_count": 4,
     "metadata": {},
     "output_type": "execute_result"
    }
   ],
   "source": [
    "x > 10"
   ]
  }
 ],
 "metadata": {
  "kernelspec": {
   "display_name": "Python 3",
   "language": "python",
   "name": "python3"
  },
  "language_info": {
   "codemirror_mode": {
    "name": "ipython",
    "version": 3
   },
   "file_extension": ".py",
   "mimetype": "text/x-python",
   "name": "python",
   "nbconvert_exporter": "python",
   "pygments_lexer": "ipython3",
   "version": "3.13.5"
  }
 },
 "nbformat": 4,
 "nbformat_minor": 5
}
