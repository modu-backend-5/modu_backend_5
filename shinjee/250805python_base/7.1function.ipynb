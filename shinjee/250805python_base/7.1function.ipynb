{
 "cells": [
  {
   "cell_type": "code",
   "execution_count": 4,
   "id": "c2aef68a",
   "metadata": {},
   "outputs": [
    {
     "name": "stdout",
     "output_type": "stream",
     "text": [
      "3 + 5 = 8\n"
     ]
    }
   ],
   "source": [
    "def add(a, b):\n",
    "    return a + b\n",
    "\n",
    "result = add(3, 5)\n",
    "print(\"3 + 5 =\", result)\n"
   ]
  },
  {
   "cell_type": "code",
   "execution_count": null,
   "id": "c5ca81b9",
   "metadata": {},
   "outputs": [
    {
     "name": "stdout",
     "output_type": "stream",
     "text": [
      "제 이름은 철수이고, 20살입니다.\n",
      "제 이름은 영희이고, 25살입니다.\n"
     ]
    }
   ],
   "source": [
    "#1.5키워드인자\n",
    "def introduce(name, age):\n",
    "    print(f\"제 이름은 {name}이고, {age}살입니다.\")\n",
    "\n",
    "introduce(name=\"철수\", age=20)\n",
    "introduce(age=25, name=\"영희\")  # 순서를 바꿔도 됩니다\n"
   ]
  },
  {
   "cell_type": "code",
   "execution_count": 6,
   "id": "c36878e0",
   "metadata": {},
   "outputs": [
    {
     "name": "stdout",
     "output_type": "stream",
     "text": [
      "함수 내부: 10\n",
      "에러: name 'x' is not defined\n"
     ]
    }
   ],
   "source": [
    "def local_var_example():\n",
    "    x = 10  # 지역 변수\n",
    "    print(\"함수 내부:\", x)\n",
    "\n",
    "local_var_example()\n",
    "try:\n",
    "    print(\"함수 외부:\", x)  # 에러 발생\n",
    "except NameError as e:\n",
    "    print(\"에러:\", e)\n",
    "\n"
   ]
  }
 ],
 "metadata": {
  "kernelspec": {
   "display_name": "Python 3",
   "language": "python",
   "name": "python3"
  },
  "language_info": {
   "codemirror_mode": {
    "name": "ipython",
    "version": 3
   },
   "file_extension": ".py",
   "mimetype": "text/x-python",
   "name": "python",
   "nbconvert_exporter": "python",
   "pygments_lexer": "ipython3",
   "version": "3.13.5"
  }
 },
 "nbformat": 4,
 "nbformat_minor": 5
}
