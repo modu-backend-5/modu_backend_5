{
 "cells": [
  {
   "cell_type": "code",
   "execution_count": 18,
   "id": "77dbd2e4",
   "metadata": {},
   "outputs": [
    {
     "name": "stdout",
     "output_type": "stream",
     "text": [
      "hello Python\n",
      "<class 'str'> <class 'str'>\n"
     ]
    }
   ],
   "source": [
    "x = 'hello'\n",
    "y = \"Python\"\n",
    "print(x,y) #결과는 두 변수사이는 저절로 띄어져서 출력된다\n",
    "print(type(x), type(y))"
   ]
  },
  {
   "cell_type": "code",
   "execution_count": 19,
   "id": "b063bfe1",
   "metadata": {},
   "outputs": [
    {
     "name": "stdout",
     "output_type": "stream",
     "text": [
      "\n",
      "안녕하세요.\n",
      "저는 위니브의 대표 이호준입니다.\n",
      "파이썬 참 좋아요.\n",
      "여러분 정말 잘 선택하셨어요.\n",
      "\n",
      "\n",
      "안녕하세요.\n",
      "저는 위니브의 대표 이호준입니다.\n",
      "파이썬 참 좋아요.\n",
      "여러분 정말 잘 선택하셨어요.\n",
      "\n"
     ]
    }
   ],
   "source": [
    "a = '''\n",
    "안녕하세요.\n",
    "저는 위니브의 대표 이호준입니다.\n",
    "파이썬 참 좋아요.\n",
    "여러분 정말 잘 선택하셨어요.\n",
    "'''\n",
    "\n",
    "b = \"\"\"\n",
    "안녕하세요.\n",
    "저는 위니브의 대표 이호준입니다.\n",
    "파이썬 참 좋아요.\n",
    "여러분 정말 잘 선택하셨어요.\n",
    "\"\"\"\n",
    "\n",
    "print(a)\n",
    "print(b)"
   ]
  },
  {
   "cell_type": "code",
   "execution_count": 20,
   "id": "6a808a74",
   "metadata": {},
   "outputs": [
    {
     "name": "stdout",
     "output_type": "stream",
     "text": [
      "helloworld\n"
     ]
    }
   ],
   "source": [
    "x = 'hello'\n",
    "y = 'world'\n",
    "print(x + y) #print(x,y)와의 차이는 x와 y사이에 띄어쓰기가 없어진다는것\n"
   ]
  },
  {
   "cell_type": "code",
   "execution_count": 21,
   "id": "26a294b2",
   "metadata": {},
   "outputs": [
    {
     "name": "stdout",
     "output_type": "stream",
     "text": [
      "제 이름은 이호준이고, 나이는 30세입니다\n"
     ]
    }
   ],
   "source": [
    "name = '이호준'\n",
    "age = 30\n",
    "print(f'제 이름은 {name}이고, 나이는 {age}세입니다')"
   ]
  },
  {
   "cell_type": "code",
   "execution_count": 22,
   "id": "39c6cc88",
   "metadata": {},
   "outputs": [
    {
     "name": "stdout",
     "output_type": "stream",
     "text": [
      "위\n",
      ".\n"
     ]
    }
   ],
   "source": [
    "s = \"위니브 월드.\" #인덱싱을 하더라도 ''와 \"\"구분하지 않느다\n",
    "print(s[0])\n",
    "print(s[-1])\n"
   ]
  },
  {
   "cell_type": "code",
   "execution_count": 23,
   "id": "d40e5ae5",
   "metadata": {},
   "outputs": [
    {
     "name": "stdout",
     "output_type": "stream",
     "text": [
      "1 weniv\n",
      "2 CEO licat\n",
      "3 weniv CEO licat\n",
      "4 tacil OEC vinew\n",
      "5 wnvCOlct\n"
     ]
    }
   ],
   "source": [
    "s = 'weniv CEO licat' \n",
    "print(1, s[0:5]) # 출력 : weniv\n",
    "print(2, s[6:]) # 출력 : CEO licat\n",
    "print(3, s[:]) # 출력 : weniv CEO licat\n",
    "print(4, s[::-1]) # 출력 : tacil OEC vinew\n",
    "print(5, s[::2]) # 출력 : wnvCOlct #step은 기본적으로 1이며 바로 앞 :과 함께 삭제 가능하다\n"
   ]
  },
  {
   "cell_type": "code",
   "execution_count": 24,
   "id": "1ae71d02",
   "metadata": {},
   "outputs": [
    {
     "name": "stdout",
     "output_type": "stream",
     "text": [
      "1 weniv\n",
      "2 CEO licat\n",
      "3 weniv CEO licat\n",
      "4 tacil OEC vinew\n",
      "5 wnvCOlct\n"
     ]
    }
   ],
   "source": [
    "s = 'weniv CEO licat'\n",
    "print(1, s[:5]) #s[0:5]로 입력해도 결과값은 같다\n",
    "print(2, s[6:])\n",
    "print(3, s[:])\n",
    "print(4, s[::-1])\n",
    "print(5, s[0::2]) #s[::2]로 입력해도 결과값은 같다"
   ]
  },
  {
   "cell_type": "code",
   "execution_count": 25,
   "id": "76c2c8d1",
   "metadata": {},
   "outputs": [
    {
     "name": "stdout",
     "output_type": "stream",
     "text": [
      "weniv ceo licat\n"
     ]
    }
   ],
   "source": [
    "\n",
    "s = 'weniv CEO licat'\n",
    "print (s.lower()) #print()괄호사이에 변수명은 ''없이 써주는 것은 같으나 그 변수명의 내용을 소문자로 바꿔주므로 s뒤에 .을 붙이고 lower()함수를 써준다"
   ]
  },
  {
   "cell_type": "code",
   "execution_count": 26,
   "id": "74b1ab3b",
   "metadata": {},
   "outputs": [
    {
     "name": "stdout",
     "output_type": "stream",
     "text": [
      "WENIV CEO LICAT\n"
     ]
    }
   ],
   "source": [
    "s = 'weniv CEO licat'\n",
    "print(s.upper())"
   ]
  },
  {
   "cell_type": "code",
   "execution_count": 27,
   "id": "716cad6e",
   "metadata": {},
   "outputs": [
    {
     "name": "stdout",
     "output_type": "stream",
     "text": [
      "6\n",
      "6\n"
     ]
    }
   ],
   "source": [
    "s = 'weniv CEO licat'\n",
    "print(s.find('CEO')) #문자열을 찾아주는 method\n",
    "print(s.index('CEO'))\n"
   ]
  },
  {
   "cell_type": "code",
   "execution_count": 28,
   "id": "393d8c41",
   "metadata": {},
   "outputs": [
    {
     "name": "stdout",
     "output_type": "stream",
     "text": [
      "-1\n"
     ]
    }
   ],
   "source": [
    "s = 'weniv CEO licat'\n",
    "print(s.find('CTO'))\n"
   ]
  },
  {
   "cell_type": "code",
   "execution_count": 30,
   "id": "ad7c25cc",
   "metadata": {},
   "outputs": [
    {
     "ename": "ValueError",
     "evalue": "substring not found",
     "output_type": "error",
     "traceback": [
      "\u001b[31m---------------------------------------------------------------------------\u001b[39m",
      "\u001b[31mValueError\u001b[39m                                Traceback (most recent call last)",
      "\u001b[36mCell\u001b[39m\u001b[36m \u001b[39m\u001b[32mIn[30]\u001b[39m\u001b[32m, line 2\u001b[39m\n\u001b[32m      1\u001b[39m s = \u001b[33m'\u001b[39m\u001b[33mweniv CEO licat\u001b[39m\u001b[33m'\u001b[39m\n\u001b[32m----> \u001b[39m\u001b[32m2\u001b[39m \u001b[38;5;28mprint\u001b[39m(\u001b[43ms\u001b[49m\u001b[43m.\u001b[49m\u001b[43mindex\u001b[49m\u001b[43m(\u001b[49m\u001b[33;43m'\u001b[39;49m\u001b[33;43mCTO\u001b[39;49m\u001b[33;43m'\u001b[39;49m\u001b[43m)\u001b[49m)\n",
      "\u001b[31mValueError\u001b[39m: substring not found"
     ]
    }
   ],
   "source": [
    "s = 'weniv CEO licat'\n",
    "print(s.index('CTO'))"
   ]
  },
  {
   "cell_type": "code",
   "execution_count": 32,
   "id": "150d4306",
   "metadata": {},
   "outputs": [
    {
     "data": {
      "text/plain": [
       "1"
      ]
     },
     "execution_count": 32,
     "metadata": {},
     "output_type": "execute_result"
    }
   ],
   "source": [
    "s = 'weniv CEO licat'\n",
    "s.count('i') #문자열이나 숫자를 셀 때 사용\n",
    "s.count('w')\n"
   ]
  },
  {
   "cell_type": "code",
   "execution_count": null,
   "id": "706334fb",
   "metadata": {},
   "outputs": [
    {
     "data": {
      "text/plain": [
       "['weniv', 'CEO', 'licat']"
      ]
     },
     "execution_count": 33,
     "metadata": {},
     "output_type": "execute_result"
    }
   ],
   "source": [
    "s = 'weniv CEO licat'   \n",
    "s.split() #공백을 기준으로 문자열 나누기  #결과값은 저절로 ''붙여서나옴\n"
   ]
  },
  {
   "cell_type": "code",
   "execution_count": 34,
   "id": "21bedbba",
   "metadata": {},
   "outputs": [
    {
     "data": {
      "text/plain": [
       "['weniv', 'CEO', 'licat weniv', 'COO', 'mura']"
      ]
     },
     "execution_count": 34,
     "metadata": {},
     "output_type": "execute_result"
    }
   ],
   "source": [
    "s = 'weniv-CEO-licat weniv-COO-mura'\n",
    "s.split('-') #-을 기준으로 문자열 나누기\n"
   ]
  },
  {
   "cell_type": "code",
   "execution_count": 35,
   "id": "13c597d6",
   "metadata": {},
   "outputs": [
    {
     "data": {
      "text/plain": [
       "['weniv', 'CEO', 'licat']"
      ]
     },
     "execution_count": 35,
     "metadata": {},
     "output_type": "execute_result"
    }
   ],
   "source": [
    "s = 'weniv-CEO-licat'\n",
    "s.split('-')"
   ]
  },
  {
   "cell_type": "code",
   "execution_count": 38,
   "id": "392cc515",
   "metadata": {},
   "outputs": [
    {
     "data": {
      "text/plain": [
       "'weniv-CEO-licat'"
      ]
     },
     "execution_count": 38,
     "metadata": {},
     "output_type": "execute_result"
    }
   ],
   "source": [
    "s = ['weniv' ,'CEO' , 'licat']\n",
    "'-'.join(s)"
   ]
  },
  {
   "cell_type": "code",
   "execution_count": 49,
   "id": "abfe1de1",
   "metadata": {},
   "outputs": [
    {
     "name": "stdout",
     "output_type": "stream",
     "text": [
      "제 이름은 licat이고, 나이는 30세입니다.\n"
     ]
    }
   ],
   "source": [
    "name = 'licat'\n",
    "age = 30\n",
    "print('제 이름은 {}이고, 나이는 {}세입니다.'. format(name, age))"
   ]
  },
  {
   "cell_type": "code",
   "execution_count": 51,
   "id": "0bbbb9eb",
   "metadata": {},
   "outputs": [
    {
     "name": "stdout",
     "output_type": "stream",
     "text": [
      "제 이름은 licat이고, 나이는 29살입니다.\n"
     ]
    }
   ],
   "source": [
    "name = 'licat'\n",
    "age = 29\n",
    "\n",
    "print('제 이름은 {}이고, 나이는 {}살입니다.' .format(name, age))\n"
   ]
  },
  {
   "cell_type": "code",
   "execution_count": null,
   "id": "b4f6d591",
   "metadata": {},
   "outputs": [
    {
     "name": "stdout",
     "output_type": "stream",
     "text": [
      "Hello\n",
      "World!\n",
      "Hello\tWorld!\n",
      "World!\n",
      "She said, \"Hello World!\"\n",
      "She said, 'Hello World!'\n",
      "Backslash: \\\n"
     ]
    }
   ],
   "source": [
    "print(\"Hello\\nWorld!\") # Hello와 World! 사이에 줄바꿈이 일어납니다.\n",
    "print(\"Hello\\tWorld!\") # Hello와 World! 사이에 탭 간격이 생깁니다.\n",
    "print(\"Hello\\rWorld!\") # 커서를 현재 줄의 처음으로 이동합니다\n",
    "print(\"She said, \\\"Hello World!\\\"\") # 큰따옴표 내부에 문자열을 출력합니다.\n",
    "print('She said, \\'Hello World!\\'') # 작은따옴표 내부에 문자열을 출력합니다.\n",
    "print(\"Backslash: \\\\\") # 백슬래시를 출력합니다.\n"
   ]
  }
 ],
 "metadata": {
  "kernelspec": {
   "display_name": "Python 3",
   "language": "python",
   "name": "python3"
  },
  "language_info": {
   "codemirror_mode": {
    "name": "ipython",
    "version": 3
   },
   "file_extension": ".py",
   "mimetype": "text/x-python",
   "name": "python",
   "nbconvert_exporter": "python",
   "pygments_lexer": "ipython3",
   "version": "3.13.5"
  }
 },
 "nbformat": 4,
 "nbformat_minor": 5
}
