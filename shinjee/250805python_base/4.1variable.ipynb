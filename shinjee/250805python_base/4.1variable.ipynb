{
 "cells": [
  {
   "cell_type": "code",
   "execution_count": 6,
   "id": "00c78d76",
   "metadata": {},
   "outputs": [
    {
     "name": "stdout",
     "output_type": "stream",
     "text": [
      "30 Shinjee\n"
     ]
    }
   ],
   "source": [
    "age = '30'\n",
    "name = \"Shinjee\"\n",
    "print(age, name)"
   ]
  },
  {
   "cell_type": "code",
   "execution_count": 4,
   "id": "e3763019",
   "metadata": {},
   "outputs": [
    {
     "name": "stdout",
     "output_type": "stream",
     "text": [
      "30 Shinjee\n"
     ]
    }
   ],
   "source": [
    "age = '30'\n",
    "name = 'Shinjee'\n",
    "print(age, name)"
   ]
  },
  {
   "cell_type": "code",
   "execution_count": null,
   "id": "21b7444a",
   "metadata": {},
   "outputs": [
    {
     "name": "stdout",
     "output_type": "stream",
     "text": [
      "10 Shinjee\n",
      "<class 'int'> <class 'str'>\n"
     ]
    }
   ],
   "source": [
    "age = 10\n",
    "name = \"Shinjee\" #''와 \"\"는 같다\n",
    "print(age, name)\n",
    "print(type(age), type(name))"
   ]
  },
  {
   "cell_type": "code",
   "execution_count": 10,
   "id": "2588ccea",
   "metadata": {},
   "outputs": [
    {
     "name": "stdout",
     "output_type": "stream",
     "text": [
      "20\n",
      "ShinjeeShinjee\n",
      "<class 'str'>\n"
     ]
    }
   ],
   "source": [
    "x = 10 # 변수에 값지정할때 = 과 띄어쓰기 사용하지 않아도 된다\n",
    "print (x +x)\n",
    "\n",
    "y=name\n",
    "print(y+y)\n",
    "\n",
    "print(type(y))"
   ]
  },
  {
   "cell_type": "code",
   "execution_count": 1,
   "id": "c9b21390",
   "metadata": {},
   "outputs": [
    {
     "name": "stdout",
     "output_type": "stream",
     "text": [
      "30 shinjee\n"
     ]
    }
   ],
   "source": [
    "age = 30\n",
    "name = 'shinjee'\n",
    "print(age, name)"
   ]
  }
 ],
 "metadata": {
  "kernelspec": {
   "display_name": "Python 3",
   "language": "python",
   "name": "python3"
  },
  "language_info": {
   "codemirror_mode": {
    "name": "ipython",
    "version": 3
   },
   "file_extension": ".py",
   "mimetype": "text/x-python",
   "name": "python",
   "nbconvert_exporter": "python",
   "pygments_lexer": "ipython3",
   "version": "3.13.5"
  }
 },
 "nbformat": 4,
 "nbformat_minor": 5
}
