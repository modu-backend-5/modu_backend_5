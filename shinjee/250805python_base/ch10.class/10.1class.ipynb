{
 "cells": [
  {
   "cell_type": "code",
   "execution_count": null,
   "id": "b6134597",
   "metadata": {},
   "outputs": [
    {
     "name": "stdout",
     "output_type": "stream",
     "text": [
      "차가 출발합니다!\n",
      "차가 멈췄습니다!\n"
     ]
    }
   ],
   "source": [
    "class Car: # 차에 설계 도면 또는 차 공장, 클래스. # 클래스 변수 명은 대문자로 시작\n",
    "    max_speed = 300 # 멤버 또는 애트리뷰트\n",
    "    max_people = 5 # 멤버 또는 애트리뷰트\n",
    "\n",
    "    def start(self): # 메서드\n",
    "        print('차가 출발합니다!')\n",
    "\n",
    "    def stop(self): # 메서드\n",
    "        print('차가 멈췄습니다!')\n",
    "\n",
    "# 공장에서 생산된 자동차 modelx, modely 인스턴스\n",
    "modelx = Car() # 인스턴스 = 클래스()\n",
    "modely = Car()\n",
    "\n",
    "modelx.start()\n",
    "modelx.stop()\n"
   ]
  },
  {
   "cell_type": "code",
   "execution_count": 2,
   "id": "07dc4b45",
   "metadata": {},
   "outputs": [
    {
     "name": "stdout",
     "output_type": "stream",
     "text": [
      "<class '__main__.Car'>\n"
     ]
    }
   ],
   "source": [
    "print(type(modelx)) # <class '__main__.Car'>"
   ]
  }
 ],
 "metadata": {
  "kernelspec": {
   "display_name": "Python 3",
   "language": "python",
   "name": "python3"
  },
  "language_info": {
   "codemirror_mode": {
    "name": "ipython",
    "version": 3
   },
   "file_extension": ".py",
   "mimetype": "text/x-python",
   "name": "python",
   "nbconvert_exporter": "python",
   "pygments_lexer": "ipython3",
   "version": "3.13.5"
  }
 },
 "nbformat": 4,
 "nbformat_minor": 5
}
