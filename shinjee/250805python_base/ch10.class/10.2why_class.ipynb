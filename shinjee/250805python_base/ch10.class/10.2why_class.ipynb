{
 "cells": [
  {
   "cell_type": "code",
   "execution_count": 2,
   "id": "30c6f441",
   "metadata": {},
   "outputs": [
    {
     "name": "stdout",
     "output_type": "stream",
     "text": [
      "100\n",
      "30에 파워로 공격하였습니다.\n"
     ]
    }
   ],
   "source": [
    "hero = {\n",
    "    'name': 'Jun',\n",
    "    'hp': 100,\n",
    "    'mp': 100,\n",
    "    'power': 30,\n",
    "    'drop_rate': 0,\n",
    "    'attack': lambda: f'{hero[\"power\"]}에 파워로 공격하였습니다.',\n",
    "}\n",
    "\n",
    "print(hero['hp'])\n",
    "print(hero['attack']())\n"
   ]
  },
  {
   "cell_type": "code",
   "execution_count": 3,
   "id": "a63effc2",
   "metadata": {},
   "outputs": [
    {
     "name": "stdout",
     "output_type": "stream",
     "text": [
      "300\n",
      "300\n"
     ]
    }
   ],
   "source": [
    "class Car:\n",
    "    max_speed = 300\n",
    "    max_people = 5\n",
    "\n",
    "\n",
    "modelx = Car()\n",
    "print(Car.max_speed)\n",
    "print(modelx.max_speed)\n"
   ]
  },
  {
   "cell_type": "code",
   "execution_count": 4,
   "id": "c7c81a2a",
   "metadata": {},
   "outputs": [
    {
     "name": "stdout",
     "output_type": "stream",
     "text": [
      "300\n",
      "300\n",
      "500\n"
     ]
    }
   ],
   "source": [
    "class Car:\n",
    "    # 클래스 변수의 위치\n",
    "    max_speed = 300\n",
    "    max_people = 5\n",
    "\n",
    "modelx = Car()\n",
    "modely = Car()\n",
    "\n",
    "modely.max_speed = 500\n",
    "\n",
    "print(Car.max_speed)\n",
    "print(modelx.max_speed)\n",
    "print(modely.max_speed)\n"
   ]
  }
 ],
 "metadata": {
  "kernelspec": {
   "display_name": "Python 3",
   "language": "python",
   "name": "python3"
  },
  "language_info": {
   "codemirror_mode": {
    "name": "ipython",
    "version": 3
   },
   "file_extension": ".py",
   "mimetype": "text/x-python",
   "name": "python",
   "nbconvert_exporter": "python",
   "pygments_lexer": "ipython3",
   "version": "3.13.5"
  }
 },
 "nbformat": 4,
 "nbformat_minor": 5
}
