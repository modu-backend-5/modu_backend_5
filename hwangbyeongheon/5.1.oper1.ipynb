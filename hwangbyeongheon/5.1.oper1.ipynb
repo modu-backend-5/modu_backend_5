{
 "cells": [
  {
   "cell_type": "markdown",
   "id": "f2cf3d68",
   "metadata": {},
   "source": [
    "# 산술연산\n",
    "## 1. 산술연산자"
   ]
  },
  {
   "cell_type": "code",
   "execution_count": null,
   "id": "b683ad8a",
   "metadata": {},
   "outputs": [
    {
     "name": "stdout",
     "output_type": "stream",
     "text": [
      "8\n",
      "5.5\n"
     ]
    }
   ],
   "source": [
    "# 1.1 덧셈\n",
    "result = 5 + 3\n",
    "print(result) # 결과: 8\n",
    "\n",
    "\n",
    "result = 3 + 2.5\n",
    "print(result) # 결과: 5.5"
   ]
  },
  {
   "cell_type": "code",
   "execution_count": 5,
   "id": "6c2d4c32",
   "metadata": {},
   "outputs": [
    {
     "name": "stdout",
     "output_type": "stream",
     "text": [
      "Hello World\n"
     ]
    },
    {
     "ename": "TypeError",
     "evalue": "unsupported operand type(s) for +: 'int' and 'str'",
     "output_type": "error",
     "traceback": [
      "\u001b[31m---------------------------------------------------------------------------\u001b[39m",
      "\u001b[31mTypeError\u001b[39m                                 Traceback (most recent call last)",
      "\u001b[36mCell\u001b[39m\u001b[36m \u001b[39m\u001b[32mIn[5]\u001b[39m\u001b[32m, line 7\u001b[39m\n\u001b[32m      4\u001b[39m \u001b[38;5;28mprint\u001b[39m(result)  \u001b[38;5;66;03m# Hello World\u001b[39;00m\n\u001b[32m      5\u001b[39m \u001b[38;5;28mtype\u001b[39m(result)  \u001b[38;5;66;03m# <class 'str'>\u001b[39;00m\n\u001b[32m----> \u001b[39m\u001b[32m7\u001b[39m \u001b[32;43m2\u001b[39;49m\u001b[43m \u001b[49m\u001b[43m+\u001b[49m\u001b[43m \u001b[49m\u001b[33;43m\"\u001b[39;49m\u001b[33;43mHello\u001b[39;49m\u001b[33;43m\"\u001b[39;49m\n",
      "\u001b[31mTypeError\u001b[39m: unsupported operand type(s) for +: 'int' and 'str'"
     ]
    }
   ],
   "source": [
    "s1 = \"Hello\"\n",
    "s2 = \"World\"\n",
    "result = s1 + \" \" + s2\n",
    "print(result)  # Hello World\n",
    "type(result)  # <class 'str'>\n",
    "\n",
    "2 + \"Hello\""
   ]
  },
  {
   "cell_type": "code",
   "execution_count": 6,
   "id": "aa7f033a",
   "metadata": {},
   "outputs": [
    {
     "name": "stdout",
     "output_type": "stream",
     "text": [
      "3\n",
      "6.5\n",
      "8\n"
     ]
    }
   ],
   "source": [
    "# 1.2 뺄셈\n",
    "result = 7 - 4\n",
    "print(result) # 결과: 3\n",
    "\n",
    "\n",
    "result = 10 - 3.5\n",
    "print(result) # 결과: 6.5\n",
    "\n",
    "\n",
    "result = 5 - (-3)\n",
    "print(result) # 결과: 8"
   ]
  },
  {
   "cell_type": "code",
   "execution_count": 7,
   "id": "86d7e3cb",
   "metadata": {},
   "outputs": [
    {
     "name": "stdout",
     "output_type": "stream",
     "text": [
      "12\n",
      "12.5\n"
     ]
    }
   ],
   "source": [
    "# 1.3 곱셈\n",
    "result = 3 * 4\n",
    "print(result) # 결과: 12\n",
    "\n",
    "\n",
    "result = 5 * 2.5\n",
    "print(result) # 결과: 12.5"
   ]
  },
  {
   "cell_type": "code",
   "execution_count": 8,
   "id": "f293b8e4",
   "metadata": {},
   "outputs": [
    {
     "name": "stdout",
     "output_type": "stream",
     "text": [
      "HaHaHa\n"
     ]
    }
   ],
   "source": [
    "result = \"Ha\" * 3\n",
    "print(result) # 출력: \"HaHaHa\""
   ]
  },
  {
   "cell_type": "code",
   "execution_count": 10,
   "id": "fd0b33b9",
   "metadata": {},
   "outputs": [
    {
     "name": "stdout",
     "output_type": "stream",
     "text": [
      "5.0\n",
      "3\n"
     ]
    }
   ],
   "source": [
    "# 1.4 나눗셈\n",
    "a = 10\n",
    "b = 2\n",
    "print(a / b) # 결과 5.0\n",
    "c = 3\n",
    "print(a // c) # 결과 3"
   ]
  },
  {
   "cell_type": "code",
   "execution_count": 11,
   "id": "4f0902d3",
   "metadata": {},
   "outputs": [
    {
     "name": "stdout",
     "output_type": "stream",
     "text": [
      "-2.5\n",
      "-3\n"
     ]
    }
   ],
   "source": [
    "a = -5\n",
    "b = 2\n",
    "print(a / b) # 결과: -2.5\n",
    "print(a // b) # 결과: -3"
   ]
  },
  {
   "cell_type": "code",
   "execution_count": null,
   "id": "4e601911",
   "metadata": {},
   "outputs": [
    {
     "name": "stdout",
     "output_type": "stream",
     "text": [
      "1\n"
     ]
    }
   ],
   "source": [
    "a = 10\n",
    "c = 3\n",
    "print(a % c)\n",
    "f = 2\n",
    "a % f == 0"
   ]
  },
  {
   "cell_type": "code",
   "execution_count": 15,
   "id": "fe91ef4d",
   "metadata": {},
   "outputs": [
    {
     "data": {
      "text/plain": [
       "3.1622776601683795"
      ]
     },
     "execution_count": 15,
     "metadata": {},
     "output_type": "execute_result"
    }
   ],
   "source": [
    "# 1.6 제곱 연산자\n",
    "10 ** 3\n",
    "10 ** 0.5"
   ]
  },
  {
   "cell_type": "code",
   "execution_count": null,
   "id": "dc1aa620",
   "metadata": {},
   "outputs": [],
   "source": []
  }
 ],
 "metadata": {
  "kernelspec": {
   "display_name": "Python 3",
   "language": "python",
   "name": "python3"
  },
  "language_info": {
   "codemirror_mode": {
    "name": "ipython",
    "version": 3
   },
   "file_extension": ".py",
   "mimetype": "text/x-python",
   "name": "python",
   "nbconvert_exporter": "python",
   "pygments_lexer": "ipython3",
   "version": "3.13.0"
  }
 },
 "nbformat": 4,
 "nbformat_minor": 5
}
