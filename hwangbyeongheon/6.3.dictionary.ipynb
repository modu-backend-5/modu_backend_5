{
 "cells": [
  {
   "cell_type": "markdown",
   "id": "dab7d26e",
   "metadata": {},
   "source": [
    "# 딕셔너리(dict)\n",
    "## 1. 딕셔너리(Dictionary)란?"
   ]
  },
  {
   "cell_type": "code",
   "execution_count": 2,
   "id": "93c91ed6",
   "metadata": {},
   "outputs": [
    {
     "data": {
      "text/plain": [
       "'benny'"
      ]
     },
     "execution_count": 2,
     "metadata": {},
     "output_type": "execute_result"
    }
   ],
   "source": [
    "my_dict1 = {'name': 'licat', 'age': 30, 'city': 'New York'}\n",
    "my_dict2 = {'name': 'benny', 'age': 40, 'city': 'New York city'}\n",
    "my_dict1[\"name\"]\n",
    "my_dict2[\"name\"]"
   ]
  },
  {
   "cell_type": "code",
   "execution_count": 4,
   "id": "16dc6381",
   "metadata": {},
   "outputs": [
    {
     "name": "stdout",
     "output_type": "stream",
     "text": [
      "이름: licat\n",
      "나이: 25\n"
     ]
    }
   ],
   "source": [
    "person = {'name': 'licat', 'age': 25, 'height': 165.5}\n",
    "print(\"이름:\", person['name'])\n",
    "print(\"나이:\", person[\"age\"])"
   ]
  },
  {
   "cell_type": "code",
   "execution_count": 6,
   "id": "64540ad3",
   "metadata": {},
   "outputs": [
    {
     "name": "stdout",
     "output_type": "stream",
     "text": [
      "{'name': 'benny', 'age': 25, 'height': 165.5, 'weight': 70.5}\n"
     ]
    }
   ],
   "source": [
    "# 1.3 딕셔너리 수정\n",
    "person['name'] = \"benny\"\n",
    "person['weight'] = 70.5\n",
    "print(person)"
   ]
  },
  {
   "cell_type": "code",
   "execution_count": 7,
   "id": "02693afa",
   "metadata": {},
   "outputs": [
    {
     "name": "stdout",
     "output_type": "stream",
     "text": [
      "{'name': 'benny', 'age': 25, 'height': 165.5}\n"
     ]
    }
   ],
   "source": [
    "# 1.4 딕셔너리 삭제\n",
    "# {'name': 'benny', 'age': 25, 'height': 165.5, 'weight': 70.5}\n",
    "del person['weight']\n",
    "print(person)"
   ]
  },
  {
   "cell_type": "code",
   "execution_count": 18,
   "id": "bda2e0de",
   "metadata": {},
   "outputs": [
    {
     "name": "stdout",
     "output_type": "stream",
     "text": [
      "None\n"
     ]
    },
    {
     "data": {
      "text/plain": [
       "'Alice'"
      ]
     },
     "execution_count": 18,
     "metadata": {},
     "output_type": "execute_result"
    }
   ],
   "source": [
    "# 1.5 딕셔너리 메서드\n",
    "person = {'name': 'Alice', 'age': 25, 'city': 'Seoul'}\n",
    "\n",
    "person.keys()\n",
    "person.values()\n",
    "person.items()\n",
    "# person['title']\n",
    "person.get('title', '제목 없음')\n",
    "print(person.get('title'))\n",
    "person.get('name', '이름 없음')"
   ]
  }
 ],
 "metadata": {
  "kernelspec": {
   "display_name": "Python 3",
   "language": "python",
   "name": "python3"
  },
  "language_info": {
   "codemirror_mode": {
    "name": "ipython",
    "version": 3
   },
   "file_extension": ".py",
   "mimetype": "text/x-python",
   "name": "python",
   "nbconvert_exporter": "python",
   "pygments_lexer": "ipython3",
   "version": "3.13.0"
  }
 },
 "nbformat": 4,
 "nbformat_minor": 5
}
