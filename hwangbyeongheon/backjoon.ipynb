{
 "cells": [
  {
   "cell_type": "code",
   "execution_count": null,
   "id": "28034842",
   "metadata": {},
   "outputs": [
    {
     "name": "stdout",
     "output_type": "stream",
     "text": [
      "1 2\n"
     ]
    }
   ],
   "source": [
    "inp_data = input()\n",
    "# 1 2\n",
    "a, b = inp_data.split()\n",
    "a = int(a)\n",
    "b = int(b)\n",
    "print(a + b)"
   ]
  },
  {
   "cell_type": "code",
   "execution_count": null,
   "id": "f35fc108",
   "metadata": {},
   "outputs": [],
   "source": [
    "#1번 -> X\n",
    "print = 100\n",
    "\n",
    "#2번 -> 숫자로 시작해서 X\n",
    "10 = a\n",
    "\n",
    "#3번 -> O\n",
    "k = 100\n",
    "\n",
    "#4번 -> X\n",
    "100k = 10000\n",
    "\n",
    "#5번 -> O\n",
    "a123 = 'abc'\n",
    "\n",
    "#6번 -> O\n",
    "_cola_ = 'drink'"
   ]
  },
  {
   "cell_type": "code",
   "execution_count": 1,
   "id": "e0ca8cbe",
   "metadata": {},
   "outputs": [
    {
     "name": "stdout",
     "output_type": "stream",
     "text": [
      "abcabc\n",
      "abcabc\n"
     ]
    }
   ],
   "source": [
    "inp_str = input()\n",
    "print(f\"{inp_str}{inp_str}\")\n",
    "print(inp_str * 2)"
   ]
  },
  {
   "cell_type": "code",
   "execution_count": 3,
   "id": "46222ed1",
   "metadata": {},
   "outputs": [
    {
     "name": "stdout",
     "output_type": "stream",
     "text": [
      "abcabc\n"
     ]
    }
   ],
   "source": [
    "# a = 100\n",
    "# b = 300\n",
    "a = input()\n",
    "print (a+a)"
   ]
  },
  {
   "cell_type": "code",
   "execution_count": null,
   "id": "d0ad023e",
   "metadata": {},
   "outputs": [],
   "source": [
    "print = 10\n",
    "a123 = 'abc'"
   ]
  },
  {
   "cell_type": "code",
   "execution_count": 4,
   "id": "6732c878",
   "metadata": {},
   "outputs": [
    {
     "name": "stdout",
     "output_type": "stream",
     "text": [
      "abcabc\n"
     ]
    }
   ],
   "source": [
    "x=input()\n",
    "# input=str\n",
    "print(x*2)"
   ]
  }
 ],
 "metadata": {
  "kernelspec": {
   "display_name": "Python 3",
   "language": "python",
   "name": "python3"
  },
  "language_info": {
   "codemirror_mode": {
    "name": "ipython",
    "version": 3
   },
   "file_extension": ".py",
   "mimetype": "text/x-python",
   "name": "python",
   "nbconvert_exporter": "python",
   "pygments_lexer": "ipython3",
   "version": "3.13.0"
  }
 },
 "nbformat": 4,
 "nbformat_minor": 5
}
