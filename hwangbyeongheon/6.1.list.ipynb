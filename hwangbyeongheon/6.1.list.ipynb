{
 "cells": [
  {
   "cell_type": "markdown",
   "id": "9e443c18",
   "metadata": {},
   "source": [
    "# 리스트(list)\n",
    "## 1. 리스트(List)란?"
   ]
  },
  {
   "cell_type": "code",
   "execution_count": 1,
   "id": "1a885444",
   "metadata": {},
   "outputs": [
    {
     "name": "stdout",
     "output_type": "stream",
     "text": [
      "['apple', 'banana', 'cherry']\n"
     ]
    }
   ],
   "source": [
    "fruits = ['apple', 'banana', 'cherry']\n",
    "print(fruits)"
   ]
  },
  {
   "cell_type": "code",
   "execution_count": 4,
   "id": "7ed20b4c",
   "metadata": {},
   "outputs": [
    {
     "data": {
      "text/plain": [
       "[1, 'hello', True]"
      ]
     },
     "execution_count": 4,
     "metadata": {},
     "output_type": "execute_result"
    }
   ],
   "source": [
    "x = [1, 2, 3]\n",
    "y = ['apple', 'banana', 'cherry']\n",
    "z = [1, 'hello', True]\n",
    "x\n",
    "y\n",
    "z"
   ]
  },
  {
   "cell_type": "code",
   "execution_count": 29,
   "id": "ede11527",
   "metadata": {},
   "outputs": [
    {
     "data": {
      "text/plain": [
       "['orange', 'durian', 'cherry', 'banana', 'apple']"
      ]
     },
     "execution_count": 29,
     "metadata": {},
     "output_type": "execute_result"
    }
   ],
   "source": [
    "# 1.2 리스트의 항목에 접근하기\n",
    "# 인덱싱\n",
    "fruits = ['apple', 'banana', 'cherry']\n",
    "fruits[2]\n",
    "fruits[1] # 리스트 내의 값이다 즉 여기선 문자열이다.\n",
    "# print(fruits[-1])\n",
    "\n",
    "# # 슬라이싱\n",
    "# print(fruits[0:3])\n",
    "# print(fruits[2:])\n",
    "# print(fruits[:2])\n",
    "# print(fruits[::-1])\n",
    "# print(fruits[:])  # 짝수 인덱스의 항목만 출력\n",
    "# print(fruits[::2])  # 홀수 인덱스의 항목만 출력\n",
    "\n",
    "# fruits[2] = \"orange\"\n",
    "# fruits\n",
    "\n",
    "# fruits = ['apple', 'banana', 'cherry']\n",
    "fruits.append('orange')\n",
    "fruits\n",
    "\n",
    "fruits.remove('apple')\n",
    "fruits\n",
    "# ['banana', 'cherry', 'orange']\n",
    "fruits.pop(1)\n",
    "fruits\n",
    "# ['banana', 'orange']\n",
    "len(fruits)\n",
    "\n",
    "fruits = ['cherry', 'banana', \"orange\", 'apple', \"durian\"]\n",
    "# fruits.sort(reverse=1)\n",
    "# fruits\n",
    "new_fruits = sorted(fruits, reverse=1)\n",
    "new_fruits"
   ]
  }
 ],
 "metadata": {
  "kernelspec": {
   "display_name": "Python 3",
   "language": "python",
   "name": "python3"
  },
  "language_info": {
   "codemirror_mode": {
    "name": "ipython",
    "version": 3
   },
   "file_extension": ".py",
   "mimetype": "text/x-python",
   "name": "python",
   "nbconvert_exporter": "python",
   "pygments_lexer": "ipython3",
   "version": "3.13.0"
  }
 },
 "nbformat": 4,
 "nbformat_minor": 5
}
