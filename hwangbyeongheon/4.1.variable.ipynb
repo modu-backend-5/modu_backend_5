{
 "cells": [
  {
   "cell_type": "code",
   "execution_count": null,
   "id": "9ece3e3e",
   "metadata": {},
   "outputs": [],
   "source": [
    "age = 33\n",
    "name = \"Benny\""
   ]
  },
  {
   "cell_type": "code",
   "execution_count": null,
   "id": "ba0aaccf",
   "metadata": {},
   "outputs": [],
   "source": [
    "print(age, name)"
   ]
  },
  {
   "cell_type": "code",
   "execution_count": null,
   "id": "3f029951",
   "metadata": {},
   "outputs": [],
   "source": [
    "age_benny_2 = 33"
   ]
  },
  {
   "cell_type": "code",
   "execution_count": null,
   "id": "08c4b39f",
   "metadata": {},
   "outputs": [],
   "source": [
    "# 변수 이름은 숫자로 시작할 수 없습니다. 예를 들어 1ten / 100_test / 0은 변수 이름으로 사용할 수 없습니다.\n",
    "1ten"
   ]
  },
  {
   "cell_type": "code",
   "execution_count": null,
   "id": "d815ed65",
   "metadata": {},
   "outputs": [],
   "source": [
    "# 파이썬의 키워드(예: if, else, while 등)는 변수 이름으로 사용할 수 없습니다.\n",
    "if = 10\n",
    "else = 20\n",
    "while = 30"
   ]
  },
  {
   "cell_type": "code",
   "execution_count": null,
   "id": "c5981ec0",
   "metadata": {},
   "outputs": [],
   "source": [
    "name = \"benny\"\n",
    "Name = \"Benny\"\n",
    "NAME = \"BENNY\"\n",
    "print(name, Name, NAME)"
   ]
  },
  {
   "cell_type": "code",
   "execution_count": null,
   "id": "b0eaa28c",
   "metadata": {},
   "outputs": [],
   "source": [
    "be nny = \"my name\""
   ]
  },
  {
   "cell_type": "code",
   "execution_count": null,
   "id": "5c953281",
   "metadata": {},
   "outputs": [],
   "source": [
    "name = \"Benny\"\n",
    "age = 33\n",
    "gender = \"male\"\n",
    "\n",
    "print(name, age, gender)"
   ]
  },
  {
   "cell_type": "code",
   "execution_count": 3,
   "id": "934703a7",
   "metadata": {},
   "outputs": [
    {
     "name": "stdout",
     "output_type": "stream",
     "text": [
      "Benny 33 male\n"
     ]
    }
   ],
   "source": [
    "print(name, age, gender)"
   ]
  },
  {
   "cell_type": "code",
   "execution_count": 2,
   "id": "ea6565f1",
   "metadata": {},
   "outputs": [],
   "source": [
    "name = \"Benny\"\n",
    "age = 33\n",
    "gender = \"male\""
   ]
  },
  {
   "cell_type": "code",
   "execution_count": 5,
   "id": "80a48750",
   "metadata": {},
   "outputs": [
    {
     "data": {
      "text/plain": [
       "int"
      ]
     },
     "execution_count": 5,
     "metadata": {},
     "output_type": "execute_result"
    }
   ],
   "source": [
    "type(name)\n",
    "type(age)"
   ]
  },
  {
   "cell_type": "code",
   "execution_count": 6,
   "id": "e5e714d6",
   "metadata": {},
   "outputs": [
    {
     "data": {
      "text/plain": [
       "66"
      ]
     },
     "execution_count": 6,
     "metadata": {},
     "output_type": "execute_result"
    }
   ],
   "source": [
    "age + age"
   ]
  },
  {
   "cell_type": "code",
   "execution_count": 7,
   "id": "1364243b",
   "metadata": {},
   "outputs": [
    {
     "data": {
      "text/plain": [
       "'BennyBenny'"
      ]
     },
     "execution_count": 7,
     "metadata": {},
     "output_type": "execute_result"
    }
   ],
   "source": [
    "name + name"
   ]
  }
 ],
 "metadata": {
  "kernelspec": {
   "display_name": "Python 3",
   "language": "python",
   "name": "python3"
  },
  "language_info": {
   "codemirror_mode": {
    "name": "ipython",
    "version": 3
   },
   "file_extension": ".py",
   "mimetype": "text/x-python",
   "name": "python",
   "nbconvert_exporter": "python",
   "pygments_lexer": "ipython3",
   "version": "3.13.0"
  }
 },
 "nbformat": 4,
 "nbformat_minor": 5
}
