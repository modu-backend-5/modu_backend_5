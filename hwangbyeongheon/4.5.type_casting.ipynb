{
 "cells": [
  {
   "cell_type": "markdown",
   "id": "c715f8da",
   "metadata": {},
   "source": [
    "# 형변환\n",
    "## Python에서의 형변환\n"
   ]
  },
  {
   "cell_type": "code",
   "execution_count": null,
   "id": "a77aa104",
   "metadata": {},
   "outputs": [
    {
     "name": "stdout",
     "output_type": "stream",
     "text": [
      "200200200200200200200200200200200200\n"
     ]
    }
   ],
   "source": [
    "월급 = input(\"월급을 입력하세요:\") # 월급 200\n",
    "연봉 = 월급 * 12\n",
    "print(연봉) # 연봉? "
   ]
  },
  {
   "cell_type": "code",
   "execution_count": 3,
   "id": "c308dd7c",
   "metadata": {},
   "outputs": [
    {
     "name": "stdout",
     "output_type": "stream",
     "text": [
      "2400\n"
     ]
    }
   ],
   "source": [
    "월급 = input(\"월급을 입력하세요:\") # 월급 200\n",
    "type(월급)\n",
    "월급 = int(월급)\n",
    "연봉 = 월급 * 12\n",
    "print(연봉) # 연봉? 2400"
   ]
  },
  {
   "cell_type": "code",
   "execution_count": null,
   "id": "1396948e",
   "metadata": {},
   "outputs": [
    {
     "data": {
      "text/plain": [
       "float"
      ]
     },
     "execution_count": 7,
     "metadata": {},
     "output_type": "execute_result"
    }
   ],
   "source": [
    "월급 = \"이백\"\n",
    "type(월급)\n",
    "월급 = int(월급)\n",
    "type(월급)\n",
    "월급 = float(월급)\n",
    "type(월급)"
   ]
  }
 ],
 "metadata": {
  "kernelspec": {
   "display_name": "Python 3",
   "language": "python",
   "name": "python3"
  },
  "language_info": {
   "codemirror_mode": {
    "name": "ipython",
    "version": 3
   },
   "file_extension": ".py",
   "mimetype": "text/x-python",
   "name": "python",
   "nbconvert_exporter": "python",
   "pygments_lexer": "ipython3",
   "version": "3.13.0"
  }
 },
 "nbformat": 4,
 "nbformat_minor": 5
}
