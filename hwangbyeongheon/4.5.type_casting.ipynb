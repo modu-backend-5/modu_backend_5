{
 "cells": [
  {
   "cell_type": "markdown",
   "id": "c715f8da",
   "metadata": {},
   "source": [
    "# 형변환\n",
    "## Python에서의 형변환\n"
   ]
  },
  {
   "cell_type": "code",
   "execution_count": null,
   "id": "a77aa104",
   "metadata": {},
   "outputs": [
    {
     "name": "stdout",
     "output_type": "stream",
     "text": [
      "200200200200200200200200200200200200\n"
     ]
    }
   ],
   "source": [
    "월급 = input(\"월급을 입력하세요:\") # 월급 200\n",
    "연봉 = 월급 * 12\n",
    "print(연봉) # 연봉? "
   ]
  },
  {
   "cell_type": "code",
   "execution_count": 3,
   "id": "c308dd7c",
   "metadata": {},
   "outputs": [
    {
     "name": "stdout",
     "output_type": "stream",
     "text": [
      "2400\n"
     ]
    }
   ],
   "source": [
    "월급 = input(\"월급을 입력하세요:\") # 월급 200\n",
    "type(월급)\n",
    "월급 = int(월급)\n",
    "연봉 = 월급 * 12\n",
    "print(연봉) # 연봉? 2400"
   ]
  },
  {
   "cell_type": "code",
   "execution_count": 8,
   "id": "1396948e",
   "metadata": {},
   "outputs": [
    {
     "ename": "ValueError",
     "evalue": "invalid literal for int() with base 10: '이백'",
     "output_type": "error",
     "traceback": [
      "\u001b[31m---------------------------------------------------------------------------\u001b[39m",
      "\u001b[31mValueError\u001b[39m                                Traceback (most recent call last)",
      "\u001b[36mCell\u001b[39m\u001b[36m \u001b[39m\u001b[32mIn[8]\u001b[39m\u001b[32m, line 3\u001b[39m\n\u001b[32m      1\u001b[39m 월급 = \u001b[33m\"\u001b[39m\u001b[33m이백\u001b[39m\u001b[33m\"\u001b[39m\n\u001b[32m      2\u001b[39m \u001b[38;5;28mtype\u001b[39m(월급)\n\u001b[32m----> \u001b[39m\u001b[32m3\u001b[39m 월급 = \u001b[38;5;28;43mint\u001b[39;49m\u001b[43m(\u001b[49m\u001b[43m월급\u001b[49m\u001b[43m)\u001b[49m\n\u001b[32m      4\u001b[39m \u001b[38;5;28mtype\u001b[39m(월급)\n\u001b[32m      5\u001b[39m 월급 = \u001b[38;5;28mfloat\u001b[39m(월급)\n",
      "\u001b[31mValueError\u001b[39m: invalid literal for int() with base 10: '이백'"
     ]
    }
   ],
   "source": [
    "월급 = \"이백\"\n",
    "type(월급)\n",
    "월급 = int(월급)\n",
    "type(월급)\n",
    "월급 = float(월급)\n",
    "type(월급)"
   ]
  }
 ],
 "metadata": {
  "kernelspec": {
   "display_name": "Python 3",
   "language": "python",
   "name": "python3"
  },
  "language_info": {
   "codemirror_mode": {
    "name": "ipython",
    "version": 3
   },
   "file_extension": ".py",
   "mimetype": "text/x-python",
   "name": "python",
   "nbconvert_exporter": "python",
   "pygments_lexer": "ipython3",
   "version": "3.13.0"
  }
 },
 "nbformat": 4,
 "nbformat_minor": 5
}
