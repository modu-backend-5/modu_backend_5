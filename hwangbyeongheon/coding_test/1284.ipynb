{
 "cells": [
  {
   "cell_type": "markdown",
   "id": "832c1464",
   "metadata": {},
   "source": [
    "문제\n",
    "재석이는 대문에 붙이는 (주소를 나타내는) 호수판 제작업체의 직원이다. 고객에게 전달할 호수판은 숫자와 숫자 사이 그리고 왼쪽 오른쪽으로 적당히 여백이 들어가 줘야하고 숫자마다 차지하는 간격이 조금씩 상이하다. 다행이도 규칙은 매우 간단하다. \n",
    "\n",
    "각 숫자 사이에는 1cm의 여백이 들어가야한다.\n",
    "1은 2cm의 너비를 차지해야한다. 0은 4cm의 너비를 차지해야한다. 나머지 숫자는 모두 3cm의 너비를 차지한다.\n",
    "호수판의 경계와 숫자 사이에는 1cm의 여백이 들어가야한다.\n",
    "120.png\n",
    "\n",
    "예를 들어 위의 120 같은 경우,  각 숫자 사이에 여백이 1cm 씩 2개 들어간다. 1은 2cm, 2는 3cm, 0은 4cm를 차지한다. 오른쪽, 왼쪽 경계에서 각각 여백이 1cm씩 차지한다. 따라서 총 2 + 2 + 3 + 4 + 1 + 1 = 13(cm) 가 된다.\n",
    "\n",
    "재석이는 고객에게 전달해야할 호수판의 너비가 얼마나 되는지 궁금해졌다. 재석이를 도와주자!\n",
    "\n",
    "입력\n",
    "호수판에 들어갈 숫자 N의 범위는 1 ≤ N ≤ 9999 이다.\n",
    "\n",
    "입력은 마지막에 0이 들어오기 전까지 계속해서 줄 단위로 주어진다.\n",
    "\n",
    "또한, 마지막의 0은 처리하지 않는다.\n",
    "\n",
    "출력\n",
    "각 입력마다 얼마만큼 너비를 차지하는지 정수로 출력하면 된다.\n",
    "\n",
    "각 출력은 줄바꿈으로 구분되어야한다."
   ]
  },
  {
   "cell_type": "code",
   "execution_count": 1,
   "id": "45c99b8e",
   "metadata": {},
   "outputs": [
    {
     "name": "stdout",
     "output_type": "stream",
     "text": [
      "13\n",
      "15\n",
      "14\n"
     ]
    }
   ],
   "source": [
    "while True:\n",
    "    N = input()\n",
    "    if N == \"0\":\n",
    "        break\n",
    "    result = len(N) + 1\n",
    "    num_dict = {\n",
    "        \"1\": 2,\n",
    "        \"0\": 4,\n",
    "        \"2\": 3,\n",
    "        \"3\": 3,\n",
    "        \"4\": 3,\n",
    "        \"5\": 3,\n",
    "        \"6\": 3,\n",
    "        \"7\": 3,\n",
    "        \"8\": 3,\n",
    "        \"9\": 3\n",
    "    }\n",
    "    for i in N:\n",
    "        result += num_dict[i]\n",
    "    print(result)"
   ]
  },
  {
   "cell_type": "code",
   "execution_count": null,
   "id": "85edd35c",
   "metadata": {},
   "outputs": [],
   "source": [
    "while True:\n",
    "    N = input()\n",
    "    if N == \"0\":\n",
    "        break\n",
    "    result = len(N) + 1\n",
    "    for i in N:\n",
    "        match i:\n",
    "            case \"1\":\n",
    "                result += 2\n",
    "            case \"0\":\n",
    "                result += 4\n",
    "            case _:\n",
    "                result += 3\n",
    "    print(result)"
   ]
  },
  {
   "cell_type": "code",
   "execution_count": null,
   "id": "a947e9ae",
   "metadata": {},
   "outputs": [],
   "source": [
    "while True:\n",
    "    N = input()\n",
    "    if N == \"0\":\n",
    "        break\n",
    "    result = len(N) + 1\n",
    "    for i in N:\n",
    "        match i:\n",
    "            case \"1\":\n",
    "                result += 2\n",
    "            case \"0\":\n",
    "                result += 4\n",
    "            case _:\n",
    "                result += 3\n",
    "    print(result)"
   ]
  },
  {
   "cell_type": "code",
   "execution_count": null,
   "id": "34f8b0c7",
   "metadata": {},
   "outputs": [],
   "source": [
    "while True:\n",
    "    n = input()\n",
    "    if n == '0':\n",
    "        break\n",
    "    width = 0\n",
    "    for i in n:\n",
    "        if i == '1':\n",
    "            width += 2\n",
    "        elif i == '0':\n",
    "            width += 4\n",
    "        else:\n",
    "            width += 3\n",
    "    \n",
    "    width += (len(n) + 1)\n",
    "    print(width)"
   ]
  },
  {
   "cell_type": "code",
   "execution_count": null,
   "id": "1cde3568",
   "metadata": {},
   "outputs": [],
   "source": [
    "while True:\n",
    "    sentence=input()\n",
    "    if sentence=='0':\n",
    "        break\n",
    "    wid=len(sentence)*4+1\n",
    "    if '1' in sentence:\n",
    "        wid-=sentence.count('1')\n",
    "    if '0' in sentence:\n",
    "        wid+=sentence.count('0')\n",
    "    print(wid)"
   ]
  },
  {
   "cell_type": "code",
   "execution_count": 2,
   "id": "9967929b",
   "metadata": {},
   "outputs": [
    {
     "name": "stdout",
     "output_type": "stream",
     "text": [
      "['1', '2', '0']\n",
      "1\n",
      "1\n",
      "2\n",
      "else\n",
      "0\n",
      "0\n",
      "13\n",
      "[]\n",
      "1\n"
     ]
    }
   ],
   "source": [
    "while True:\n",
    "    N = input()\n",
    "    if N == \"0\":\n",
    "        break\n",
    "    result = 0\n",
    "\n",
    "    print(list(N))\n",
    "    for c in list(N):\n",
    "        print (c)\n",
    "        #print(type(c))\n",
    "        result += 1\n",
    "        if c == '0': \n",
    "            print('0')\n",
    "            result += 4\n",
    "        elif c =='1':\n",
    "            print('1')\n",
    "            result += 2\n",
    "        else:\n",
    "            print('else')\n",
    "            result += 3\n",
    "\n",
    "    result += 1\n",
    "    print(result)"
   ]
  }
 ],
 "metadata": {
  "kernelspec": {
   "display_name": "Python 3",
   "language": "python",
   "name": "python3"
  },
  "language_info": {
   "codemirror_mode": {
    "name": "ipython",
    "version": 3
   },
   "file_extension": ".py",
   "mimetype": "text/x-python",
   "name": "python",
   "nbconvert_exporter": "python",
   "pygments_lexer": "ipython3",
   "version": "3.13.0"
  }
 },
 "nbformat": 4,
 "nbformat_minor": 5
}
