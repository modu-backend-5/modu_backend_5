{
 "cells": [
  {
   "cell_type": "markdown",
   "id": "0b09bed2",
   "metadata": {},
   "source": [
    "문제\n",
    "세준이는 피시방에서 아르바이트를 한다. 세준이의 피시방에는 1번부터 100번까지 컴퓨터가 있다.\n",
    "\n",
    "들어오는 손님은 모두 자기가 앉고 싶은 자리에만 앉고싶어한다. 따라서 들어오면서 번호를 말한다. 만약에 그 자리에 사람이 없으면 그 손님은 그 자리에 앉아서 컴퓨터를 할 수 있고, 사람이 있다면 거절당한다.\n",
    "\n",
    "거절당하는 사람의 수를 출력하는 프로그램을 작성하시오. 자리는 맨 처음에 모두 비어있고, 어떤 사람이 자리에 앉으면 자리를 비우는 일은 없다.\n",
    "\n",
    "입력\n",
    "첫째 줄에 손님의 수 N이 주어진다. N은 100보다 작거나 같다. 둘째 줄에 손님이 들어오는 순서대로 각 손님이 앉고 싶어하는 자리가 입력으로 주어진다.\n",
    "\n",
    "출력\n",
    "첫째 줄에 거절당하는 사람의 수를 출력한다."
   ]
  },
  {
   "cell_type": "code",
   "execution_count": 3,
   "id": "bcea5603",
   "metadata": {},
   "outputs": [
    {
     "name": "stdout",
     "output_type": "stream",
     "text": [
      "2\n"
     ]
    }
   ],
   "source": [
    "N = int(input())\n",
    "arr = list(map(int, input().split()))\n",
    "check_list = [0] * 101\n",
    "cnt = 0\n",
    "for i in arr:\n",
    "    if check_list[i] == 0:\n",
    "        check_list[i] = 1\n",
    "    else:\n",
    "        cnt += 1\n",
    "print(cnt)"
   ]
  },
  {
   "cell_type": "code",
   "execution_count": null,
   "id": "4a11681f",
   "metadata": {},
   "outputs": [
    {
     "data": {
      "text/plain": [
       "2"
      ]
     },
     "execution_count": 5,
     "metadata": {},
     "output_type": "execute_result"
    }
   ],
   "source": [
    "N = int(input())\n",
    "arr = list(map(int, input().split()))\n",
    "set_list = set(arr)\n",
    "print(len(arr) - len(set_list))"
   ]
  },
  {
   "cell_type": "code",
   "execution_count": null,
   "id": "79236047",
   "metadata": {},
   "outputs": [],
   "source": [
    "n=int(input())\n",
    "con_list=set(map(int,input().split()))\n",
    "print(n-len(con_list))"
   ]
  },
  {
   "cell_type": "code",
   "execution_count": null,
   "id": "c5620d6b",
   "metadata": {},
   "outputs": [],
   "source": [
    "N = int(input())\n",
    "Customer = list(map(int, input().split()))\n",
    "\n",
    "answer = len(Customer) - len(set(Customer))\n",
    "\n",
    "print(answer)"
   ]
  },
  {
   "cell_type": "code",
   "execution_count": null,
   "id": "f3c54374",
   "metadata": {},
   "outputs": [],
   "source": [
    "N = int(input())\n",
    "Customer = list(map(int, input().split()))\n",
    "\n",
    "answer = len(Customer) - len(set(Customer))\n",
    "\n",
    "print(answer)"
   ]
  }
 ],
 "metadata": {
  "kernelspec": {
   "display_name": "Python 3",
   "language": "python",
   "name": "python3"
  },
  "language_info": {
   "codemirror_mode": {
    "name": "ipython",
    "version": 3
   },
   "file_extension": ".py",
   "mimetype": "text/x-python",
   "name": "python",
   "nbconvert_exporter": "python",
   "pygments_lexer": "ipython3",
   "version": "3.13.0"
  }
 },
 "nbformat": 4,
 "nbformat_minor": 5
}
