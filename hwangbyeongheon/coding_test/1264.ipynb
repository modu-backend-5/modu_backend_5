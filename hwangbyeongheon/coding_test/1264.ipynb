{
 "cells": [
  {
   "cell_type": "markdown",
   "id": "53e5ad1e",
   "metadata": {},
   "source": [
    "문제\n",
    "영문 문장을 입력받아 모음의 개수를 세는 프로그램을 작성하시오. 모음은 'a', 'e', 'i', 'o', 'u'이며 대문자 또는 소문자이다.\n",
    "\n",
    "입력\n",
    "입력은 여러 개의 테스트 케이스로 이루어져 있으며, 각 줄마다 영어 대소문자, ',', '.', '!', '?', 공백으로 이루어진 문장이 주어진다. 각 줄은 최대 255글자로 이루어져 있다.\n",
    "\n",
    "입력의 끝에는 한 줄에 '#' 한 글자만이 주어진다.\n",
    "\n",
    "출력\n",
    "각 줄마다 모음의 개수를 세서 출력한다."
   ]
  },
  {
   "cell_type": "code",
   "execution_count": null,
   "id": "17c35db4",
   "metadata": {},
   "outputs": [
    {
     "name": "stdout",
     "output_type": "stream",
     "text": [
      "7\n",
      "14\n",
      "9\n"
     ]
    }
   ],
   "source": [
    "while True:\n",
    "    sentence = input().lower()\n",
    "    if sentence == \"#\":\n",
    "        break\n",
    "    cnt = 0\n",
    "    for i in [\"a\", \"e\", \"i\", \"o\", \"u\"]:\n",
    "        cnt += sentence.count(i)\n",
    "    print(cnt)"
   ]
  },
  {
   "cell_type": "code",
   "execution_count": 2,
   "id": "ab0c581d",
   "metadata": {},
   "outputs": [
    {
     "name": "stdout",
     "output_type": "stream",
     "text": [
      "7\n",
      "14\n",
      "9\n"
     ]
    }
   ],
   "source": [
    "while True:\n",
    "    sentence = input().lower()\n",
    "    if sentence == \"#\":\n",
    "        break\n",
    "    cnt = 0\n",
    "    for i in sentence:\n",
    "        if i in \"aeiou\":\n",
    "            cnt += 1\n",
    "    print(cnt)"
   ]
  },
  {
   "cell_type": "code",
   "execution_count": null,
   "id": "899b6ebf",
   "metadata": {},
   "outputs": [],
   "source": [
    "while True:\n",
    "    str_data = input().lower()\n",
    "    if str_data == \"#\":\n",
    "        break\n",
    "    cnt = 0\n",
    "    cnt += str_data.count('a')\n",
    "    cnt += str_data.count('e')\n",
    "    cnt += str_data.count('i')\n",
    "    cnt += str_data.count('o')\n",
    "    cnt += str_data.count('u')\n",
    "\n",
    "    print(cnt)"
   ]
  },
  {
   "cell_type": "code",
   "execution_count": 3,
   "id": "7a55adef",
   "metadata": {},
   "outputs": [
    {
     "name": "stdout",
     "output_type": "stream",
     "text": [
      "0\n",
      "0\n",
      "0\n",
      "0\n"
     ]
    }
   ],
   "source": [
    "vowel = \"aeiou\"\n",
    "while True:\n",
    "    sentence = input()\n",
    "    if sentence == \"#\":\n",
    "        break\n",
    "    count = 0\n",
    "    new_sentence = sentence.lower().strip()\n",
    "    for letter in vowel:\n",
    "        count += new_sentence.count(letter)\n",
    "    print(count)"
   ]
  },
  {
   "cell_type": "code",
   "execution_count": null,
   "id": "ff22d03c",
   "metadata": {},
   "outputs": [
    {
     "ename": "TypeError",
     "evalue": "object of type 'filter' has no len()",
     "output_type": "error",
     "traceback": [
      "\u001b[31m---------------------------------------------------------------------------\u001b[39m",
      "\u001b[31mTypeError\u001b[39m                                 Traceback (most recent call last)",
      "\u001b[36mCell\u001b[39m\u001b[36m \u001b[39m\u001b[32mIn[6]\u001b[39m\u001b[32m, line 7\u001b[39m\n\u001b[32m      5\u001b[39m     \u001b[38;5;28;01mbreak\u001b[39;00m\n\u001b[32m      6\u001b[39m \u001b[38;5;28;01melse\u001b[39;00m:\n\u001b[32m----> \u001b[39m\u001b[32m7\u001b[39m     vo=\u001b[38;5;28;43mlen\u001b[39;49m\u001b[43m(\u001b[49m\u001b[38;5;28;43mfilter\u001b[39;49m\u001b[43m(\u001b[49m\u001b[38;5;28;43;01mlambda\u001b[39;49;00m\u001b[43m \u001b[49m\u001b[43mx\u001b[49m\u001b[43m:\u001b[49m\u001b[43m \u001b[49m\u001b[43mx\u001b[49m\u001b[43m \u001b[49m\u001b[38;5;129;43;01min\u001b[39;49;00m\u001b[43m \u001b[49m\u001b[43mv\u001b[49m\u001b[43m,\u001b[49m\u001b[43ma\u001b[49m\u001b[43m)\u001b[49m\u001b[43m)\u001b[49m\n\u001b[32m      8\u001b[39m     \u001b[38;5;28mprint\u001b[39m(vo)\n",
      "\u001b[31mTypeError\u001b[39m: object of type 'filter' has no len()"
     ]
    }
   ],
   "source": [
    "v=('a', 'e', 'i', 'o', 'u')\n",
    "while True:\n",
    "    a=input().lower()\n",
    "    if a=='#':\n",
    "        break\n",
    "    else:\n",
    "        vo=list(filter(lambda x: x in v,a))\n",
    "        print(len(vo))"
   ]
  },
  {
   "cell_type": "code",
   "execution_count": 5,
   "id": "40de1db1",
   "metadata": {},
   "outputs": [
    {
     "name": "stdout",
     "output_type": "stream",
     "text": [
      "0\n",
      "0\n"
     ]
    }
   ],
   "source": [
    "v=('a', 'e', 'i', 'o', 'u')\n",
    "while True:\n",
    "    a=input().lower()\n",
    "    if a=='#':\n",
    "        break\n",
    "    print(sum(a.count(x) for x in v))"
   ]
  },
  {
   "cell_type": "code",
   "execution_count": null,
   "id": "29cfabef",
   "metadata": {},
   "outputs": [],
   "source": [
    "aeiou = [\"a\", \"e\", \"i\", \"o\", \"u\"]\n",
    "\n",
    "while True:\n",
    "    cnt = 0\n",
    "    sentence = input()\n",
    "    \n",
    "    if sentence == \"#\":\n",
    "        break\n",
    "    \n",
    "    sentence = sentence.lower()\n",
    "    \n",
    "    for i in range(len(sentence)):\n",
    "        if sentence[i] in aeiou:\n",
    "            cnt += 1\n",
    "    \n",
    "    print(cnt)"
   ]
  }
 ],
 "metadata": {
  "kernelspec": {
   "display_name": "Python 3",
   "language": "python",
   "name": "python3"
  },
  "language_info": {
   "codemirror_mode": {
    "name": "ipython",
    "version": 3
   },
   "file_extension": ".py",
   "mimetype": "text/x-python",
   "name": "python",
   "nbconvert_exporter": "python",
   "pygments_lexer": "ipython3",
   "version": "3.13.0"
  }
 },
 "nbformat": 4,
 "nbformat_minor": 5
}
