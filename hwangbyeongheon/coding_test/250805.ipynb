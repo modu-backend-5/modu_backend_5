{
 "cells": [
  {
   "cell_type": "code",
   "execution_count": null,
   "id": "2c653ebb",
   "metadata": {},
   "outputs": [],
   "source": [
    "# 1\n",
    "A = int(input())\n",
    "# 2\n",
    "B = int(input())\n",
    "print(A + B)"
   ]
  },
  {
   "cell_type": "code",
   "execution_count": 4,
   "id": "51d95284",
   "metadata": {},
   "outputs": [
    {
     "name": "stdout",
     "output_type": "stream",
     "text": [
      "6\n"
     ]
    }
   ],
   "source": [
    "# n -> 3\n",
    "# 1, 2, 3\n",
    "# 1 + 2 + 3 = 6\n",
    "n = int(input())\n",
    "# n -> 3\n",
    "range_list = list(range(1, n + 1))\n",
    "total_sum = sum(range_list)\n",
    "print(total_sum)"
   ]
  }
 ],
 "metadata": {
  "kernelspec": {
   "display_name": "Python 3",
   "language": "python",
   "name": "python3"
  },
  "language_info": {
   "codemirror_mode": {
    "name": "ipython",
    "version": 3
   },
   "file_extension": ".py",
   "mimetype": "text/x-python",
   "name": "python",
   "nbconvert_exporter": "python",
   "pygments_lexer": "ipython3",
   "version": "3.13.0"
  }
 },
 "nbformat": 4,
 "nbformat_minor": 5
}
