{
 "cells": [
  {
   "cell_type": "code",
   "execution_count": null,
   "id": "2c653ebb",
   "metadata": {},
   "outputs": [],
   "source": [
    "# 1\n",
    "A = int(input())\n",
    "# 2\n",
    "B = int(input())\n",
    "print(A + B)"
   ]
  }
 ],
 "metadata": {
  "language_info": {
   "name": "python"
  }
 },
 "nbformat": 4,
 "nbformat_minor": 5
}
