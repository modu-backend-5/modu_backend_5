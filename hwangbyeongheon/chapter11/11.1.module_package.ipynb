{
 "cells": [
  {
   "cell_type": "markdown",
   "id": "427ee06f",
   "metadata": {},
   "source": [
    "# 모듈과 패키지\n",
    "## 1. 모듈(Module)"
   ]
  },
  {
   "cell_type": "code",
   "execution_count": null,
   "id": "429c6df5",
   "metadata": {},
   "outputs": [],
   "source": [
    "!pip3 install numpy"
   ]
  },
  {
   "cell_type": "code",
   "execution_count": null,
   "id": "95b5bc32",
   "metadata": {},
   "outputs": [],
   "source": [
    "import numpy\n",
    "\n",
    "l = numpy.array([[1, 2, 3], [4, 5, 6], [7, 8, 9]])\n",
    "l * 2"
   ]
  },
  {
   "cell_type": "code",
   "execution_count": null,
   "id": "16365083",
   "metadata": {},
   "outputs": [],
   "source": [
    "l = [[1, 2, 3], [4, 5, 6], [7, 8, 9]]\n",
    "for i in range(3):\n",
    "    for j in range(3):\n",
    "        l[i][j] *= 2\n",
    "l"
   ]
  },
  {
   "cell_type": "code",
   "execution_count": null,
   "id": "d470bbd4",
   "metadata": {},
   "outputs": [],
   "source": [
    "!pip list"
   ]
  },
  {
   "cell_type": "code",
   "execution_count": 8,
   "id": "5bad11b9",
   "metadata": {},
   "outputs": [
    {
     "data": {
      "text/plain": [
       "['c:\\\\Users\\\\elwl5\\\\AppData\\\\Local\\\\Programs\\\\Python\\\\Python313\\\\python313.zip',\n",
       " 'c:\\\\Users\\\\elwl5\\\\AppData\\\\Local\\\\Programs\\\\Python\\\\Python313\\\\DLLs',\n",
       " 'c:\\\\Users\\\\elwl5\\\\AppData\\\\Local\\\\Programs\\\\Python\\\\Python313\\\\Lib',\n",
       " 'c:\\\\Users\\\\elwl5\\\\AppData\\\\Local\\\\Programs\\\\Python\\\\Python313',\n",
       " '',\n",
       " 'C:\\\\Users\\\\elwl5\\\\AppData\\\\Roaming\\\\Python\\\\Python313\\\\site-packages',\n",
       " 'C:\\\\Users\\\\elwl5\\\\AppData\\\\Roaming\\\\Python\\\\Python313\\\\site-packages\\\\win32',\n",
       " 'C:\\\\Users\\\\elwl5\\\\AppData\\\\Roaming\\\\Python\\\\Python313\\\\site-packages\\\\win32\\\\lib',\n",
       " 'C:\\\\Users\\\\elwl5\\\\AppData\\\\Roaming\\\\Python\\\\Python313\\\\site-packages\\\\Pythonwin',\n",
       " 'c:\\\\Users\\\\elwl5\\\\AppData\\\\Local\\\\Programs\\\\Python\\\\Python313\\\\Lib\\\\site-packages']"
      ]
     },
     "execution_count": 8,
     "metadata": {},
     "output_type": "execute_result"
    }
   ],
   "source": [
    "import sys\n",
    "sys.path"
   ]
  },
  {
   "cell_type": "code",
   "execution_count": 45,
   "id": "5e5aafe9",
   "metadata": {},
   "outputs": [
    {
     "name": "stdout",
     "output_type": "stream",
     "text": [
      "안녕하세요, 제 이름은 benny이고, 나이는 20세입니다.\n",
      "안녕하세요, 제 이름은 benny이고, 나이는 20세입니다.\n"
     ]
    }
   ],
   "source": [
    "import numpy\n",
    "# import numpy, beautifulsoup4\n",
    "import numpy as np\n",
    "from sample_package import benny\n",
    "from sample_package.benny import age, name\n",
    "from sample_package.benny import introduce as it\n",
    "\n",
    "# 모듈1.변수\n",
    "# 모듈1.함수()\n",
    "# 모듈1.클래스()\n",
    "# 별칭.변수\n",
    "# 별칭.함수()\n",
    "\n",
    "benny.name\n",
    "benny.age\n",
    "benny.introduce()\n",
    "age\n",
    "name\n",
    "it()"
   ]
  },
  {
   "cell_type": "code",
   "execution_count": 44,
   "id": "4f0ac91b",
   "metadata": {},
   "outputs": [
    {
     "name": "stdout",
     "output_type": "stream",
     "text": [
      "3\n",
      "2\n"
     ]
    }
   ],
   "source": [
    "import random\n",
    "\n",
    "print(random.randint(1, 10))\n",
    "print(random.choice([1, 2, 3, 4, 5]))"
   ]
  }
 ],
 "metadata": {
  "kernelspec": {
   "display_name": "Python 3",
   "language": "python",
   "name": "python3"
  },
  "language_info": {
   "codemirror_mode": {
    "name": "ipython",
    "version": 3
   },
   "file_extension": ".py",
   "mimetype": "text/x-python",
   "name": "python",
   "nbconvert_exporter": "python",
   "pygments_lexer": "ipython3",
   "version": "3.13.0"
  }
 },
 "nbformat": 4,
 "nbformat_minor": 5
}
