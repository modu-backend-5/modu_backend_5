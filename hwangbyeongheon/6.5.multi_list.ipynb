{
 "cells": [
  {
   "cell_type": "markdown",
   "id": "d413a4d3",
   "metadata": {},
   "source": [
    "4.2. 다차원 리스트와 Built-in functions, range, list comprehension"
   ]
  },
  {
   "cell_type": "code",
   "execution_count": 3,
   "id": "83d92ed6",
   "metadata": {},
   "outputs": [
    {
     "name": "stdout",
     "output_type": "stream",
     "text": [
      "<class 'list'>\n",
      "<class 'list'>\n",
      "<class 'list'>\n",
      "['l', 'e', 'e', 'h', 'o', 'j', 'u', 'n']\n",
      "l\n"
     ]
    }
   ],
   "source": [
    "#1차원 리스트\n",
    "a = [100000, 2, 1, 3]\n",
    "print(type(a))\n",
    "\n",
    "a = list()\n",
    "print(type(a))\n",
    "\n",
    "a = list('leehojun') #형변환\n",
    "print(type(a))\n",
    "print(a)\n",
    "print(a[0])"
   ]
  },
  {
   "cell_type": "code",
   "execution_count": 8,
   "id": "3b009a57",
   "metadata": {},
   "outputs": [
    {
     "name": "stdout",
     "output_type": "stream",
     "text": [
      "<class 'list'>\n"
     ]
    },
    {
     "data": {
      "text/plain": [
       "22"
      ]
     },
     "execution_count": 8,
     "metadata": {},
     "output_type": "execute_result"
    }
   ],
   "source": [
    "#2차원 리스트\n",
    "a = [[1, 2, 3],\n",
    "     [11, 22, 33],\n",
    "     [10, 20, 30]]\n",
    "\n",
    "print(type(a))\n",
    "\n",
    "a[0]\n",
    "a[0][2]\n",
    "\n",
    "a[1]\n",
    "a[1][1]"
   ]
  },
  {
   "cell_type": "code",
   "execution_count": 13,
   "id": "70bee577",
   "metadata": {},
   "outputs": [
    {
     "data": {
      "text/plain": [
       "'leehojun'"
      ]
     },
     "execution_count": 13,
     "metadata": {},
     "output_type": "execute_result"
    }
   ],
   "source": [
    "#3차원 리스트\n",
    "a = [[[1, 2], [1, 2], [1, 2]],\n",
    "    [['leehojun', 2], [1, 2], [1, 2]]]\n",
    "\n",
    "a[1][0][0]"
   ]
  },
  {
   "cell_type": "code",
   "execution_count": null,
   "id": "92eed4f0",
   "metadata": {},
   "outputs": [
    {
     "data": {
      "text/plain": [
       "36"
      ]
     },
     "execution_count": 16,
     "metadata": {},
     "output_type": "execute_result"
    }
   ],
   "source": [
    "# 리스트 관련 내장함수\n",
    "a = [1, 2, 3, 4, 5, 6, 7, 8]\n",
    "max(a)\n",
    "min(a)\n",
    "sum(a)"
   ]
  },
  {
   "cell_type": "code",
   "execution_count": 22,
   "id": "31707ac2",
   "metadata": {},
   "outputs": [
    {
     "data": {
      "text/plain": [
       "[1, 2, 3, 11, 22, 33, 10, 2000, 30]"
      ]
     },
     "execution_count": 22,
     "metadata": {},
     "output_type": "execute_result"
    }
   ],
   "source": [
    "#2차원\n",
    "a = [[1, 2, 3],\n",
    "     [11, 22, 33],\n",
    "     [10, 2000, 30]]\n",
    "# max(a)\n",
    "# min(a)\n",
    "# sum(a)\n",
    "# max(a, key=lambda x:x[1])\n",
    "# min(a, key=lambda x:x[1])\n",
    "sum(a, [])"
   ]
  },
  {
   "cell_type": "code",
   "execution_count": 31,
   "id": "454c6e0c",
   "metadata": {},
   "outputs": [
    {
     "data": {
      "text/plain": [
       "[20, 19, 18, 17, 16, 15, 14, 13, 12, 11, 10, 9, 8, 7, 6, 5, 4, 3, 2, 1]"
      ]
     },
     "execution_count": 31,
     "metadata": {},
     "output_type": "execute_result"
    }
   ],
   "source": [
    "list(range(10))\n",
    "list(range(100))\n",
    "list(range(1, 10))\n",
    "list(range(1, 20, 2))\n",
    "list(range(0, 20, 2))\n",
    "list(range(20, 0, -1))"
   ]
  }
 ],
 "metadata": {
  "kernelspec": {
   "display_name": "Python 3",
   "language": "python",
   "name": "python3"
  },
  "language_info": {
   "codemirror_mode": {
    "name": "ipython",
    "version": 3
   },
   "file_extension": ".py",
   "mimetype": "text/x-python",
   "name": "python",
   "nbconvert_exporter": "python",
   "pygments_lexer": "ipython3",
   "version": "3.13.0"
  }
 },
 "nbformat": 4,
 "nbformat_minor": 5
}
