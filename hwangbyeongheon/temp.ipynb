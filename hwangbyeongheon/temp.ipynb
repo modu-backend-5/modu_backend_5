{
 "cells": [
  {
   "cell_type": "code",
   "execution_count": null,
   "id": "c16178a4",
   "metadata": {},
   "outputs": [
    {
     "name": "stdout",
     "output_type": "stream",
     "text": [
      "수학의 정석 - 홍성대 (2024)\n",
      "개념원리 - 개념원리연구소 (2025)\n"
     ]
    },
    {
     "data": {
      "text/plain": [
       "<__main__.Book at 0x1fcbfbb0980>"
      ]
     },
     "execution_count": 1,
     "metadata": {},
     "output_type": "execute_result"
    }
   ],
   "source": [
    "class Book:\n",
    "  def __init__(self, title, author, year):\n",
    "    self.title = title\n",
    "    self.author = author\n",
    "    self.year = year\n",
    "\n",
    "  def info(self):\n",
    "    print(f\"{self.title} - {self.author}({self.year}))\")\n",
    "\n",
    "  def __str__(self):\n",
    "    return f\"{self.title} - {self.author} ({self.year})\"\n",
    "\n",
    "book1 = Book('수학의 정석', '홍성대', '2024')\n",
    "book2 = Book('개념원리', '개념원리연구소', '2025')\n",
    "\n",
    "print(book1)\n",
    "print(book2)\n",
    "book1"
   ]
  },
  {
   "cell_type": "code",
   "execution_count": null,
   "id": "f2b46087",
   "metadata": {},
   "outputs": [],
   "source": [
    "class Product:\n",
    "    def __init__(self, name, price):\n",
    "        self.name = name\n",
    "        self.price = price\n",
    "\n",
    "coffee = Product(\"Coffee\", 2500)\n",
    "latte = Product(\"Latte\", 3000)\n",
    "\n",
    "\n",
    "items = []\n",
    "items.append(coffee)\n",
    "items.append(latte)"
   ]
  },
  {
   "cell_type": "code",
   "execution_count": null,
   "id": "10c5e1c6",
   "metadata": {},
   "outputs": [],
   "source": [
    "class Product:\n",
    "    def __init__(self, name, price):\n",
    "        self.name = name\n",
    "        self.price = price\n",
    "\n",
    "coffee = Product(\"Coffee\", 2500)\n",
    "latte = Product(\"Latte\", 3000)\n",
    "\n",
    "class Cart:\n",
    "    def __init__(self):\n",
    "        self.items = []\n",
    "\n",
    "    def add(self, product: Product):\n",
    "        self.items.append(product)\n",
    "\n",
    "    def total_price(self):\n",
    "        # 내가 가진 모든 item의 가격을 합쳐서 반환하는 코드\n",
    "        total = 0\n",
    "        for item in self.items:\n",
    "            total += item.price\n",
    "        return total\n",
    "\n",
    "cart = Cart()\n",
    "cart.add(coffee)\n",
    "cart.add(latte)\n",
    "cart.total_price()"
   ]
  },
  {
   "cell_type": "code",
   "execution_count": 2,
   "id": "07f05d6c",
   "metadata": {},
   "outputs": [
    {
     "name": "stdout",
     "output_type": "stream",
     "text": [
      "수학의 정석 - 홍성대 (2024)\n",
      "개념원리 - 개념원리연구소 (2025)\n",
      "수학의 정석 - 홍성대 (2024)\n"
     ]
    }
   ],
   "source": [
    "# __str__: 얘를 선언한 클래스가 형 변환으로 문자열이 될 때 어떤 모양을 만들어줄거냐 \n",
    "# __repr__: 얘를 선언한 클래스의 “공식적인” 문자열 표현\n",
    "class Book:\n",
    "  def __init__(self, title, author, year):\n",
    "    self.title = title\n",
    "    self.author = author\n",
    "    self.year = year\n",
    "\n",
    "  def info(self):\n",
    "    print(f\"{self.title} - {self.author}({self.year}))\")\n",
    "\n",
    "  def __str__(self):\n",
    "    return f\"{self.title} - {self.author} ({self.year})\"\n",
    "  \n",
    "  def __repr__(self):\n",
    "    return f\"공식적인 값\"\n",
    "\n",
    "book1 = Book('수학의 정석', '홍성대', '2024')\n",
    "book2 = Book('개념원리', '개념원리연구소', '2025')\n",
    "\n",
    "print(book1)\n",
    "print(book2)\n",
    "book1\n",
    "book_str = str(book1)\n",
    "print(book_str)"
   ]
  }
 ],
 "metadata": {
  "kernelspec": {
   "display_name": "Python 3",
   "language": "python",
   "name": "python3"
  },
  "language_info": {
   "codemirror_mode": {
    "name": "ipython",
    "version": 3
   },
   "file_extension": ".py",
   "mimetype": "text/x-python",
   "name": "python",
   "nbconvert_exporter": "python",
   "pygments_lexer": "ipython3",
   "version": "3.13.0"
  }
 },
 "nbformat": 4,
 "nbformat_minor": 5
}
