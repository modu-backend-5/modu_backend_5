{
 "cells": [
  {
   "cell_type": "code",
   "execution_count": null,
   "id": "860cad57",
   "metadata": {},
   "outputs": [],
   "source": [
    "for i in range(10):\n",
    "    # i = 0\n",
    "    if i % 2 == 0:\n",
    "        continue\n",
    "    for j in range(5):\n",
    "        print(f\"i: {i}, j: {j}\")"
   ]
  },
  {
   "cell_type": "code",
   "execution_count": null,
   "id": "78ff299e",
   "metadata": {},
   "outputs": [],
   "source": []
  }
 ],
 "metadata": {
  "kernelspec": {
   "display_name": "Python 3",
   "language": "python",
   "name": "python3"
  },
  "language_info": {
   "codemirror_mode": {
    "name": "ipython",
    "version": 3
   },
   "file_extension": ".py",
   "mimetype": "text/x-python",
   "name": "python",
   "nbconvert_exporter": "python",
   "pygments_lexer": "ipython3",
   "version": "3.13.0"
  }
 },
 "nbformat": 4,
 "nbformat_minor": 5
}
