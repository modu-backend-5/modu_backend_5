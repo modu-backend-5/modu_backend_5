{
 "cells": [
  {
   "cell_type": "code",
   "execution_count": 5,
   "id": "860cad57",
   "metadata": {},
   "outputs": [
    {
     "name": "stdout",
     "output_type": "stream",
     "text": [
      "i: 1, j: 0\n",
      "i: 1, j: 1\n",
      "i: 1, j: 2\n",
      "i: 1, j: 3\n",
      "i: 1, j: 4\n",
      "\n",
      "i: 3, j: 0\n",
      "i: 3, j: 1\n",
      "i: 3, j: 2\n",
      "i: 3, j: 3\n",
      "i: 3, j: 4\n",
      "\n",
      "i: 5, j: 0\n",
      "i: 5, j: 1\n",
      "i: 5, j: 2\n",
      "i: 5, j: 3\n",
      "i: 5, j: 4\n",
      "\n",
      "i: 7, j: 0\n",
      "i: 7, j: 1\n",
      "i: 7, j: 2\n",
      "i: 7, j: 3\n",
      "i: 7, j: 4\n",
      "\n",
      "i: 9, j: 0\n",
      "i: 9, j: 1\n",
      "i: 9, j: 2\n",
      "i: 9, j: 3\n",
      "i: 9, j: 4\n",
      "\n"
     ]
    }
   ],
   "source": [
    "for i in range(10):\n",
    "    # i = 0\n",
    "    if i % 2 == 0:\n",
    "        continue\n",
    "    for j in range(5):\n",
    "        print(f\"i: {i}, j: {j}\")\n",
    "    print()"
   ]
  },
  {
   "cell_type": "code",
   "execution_count": null,
   "id": "78ff299e",
   "metadata": {},
   "outputs": [],
   "source": []
  }
 ],
 "metadata": {
  "kernelspec": {
   "display_name": "Python 3",
   "language": "python",
   "name": "python3"
  },
  "language_info": {
   "codemirror_mode": {
    "name": "ipython",
    "version": 3
   },
   "file_extension": ".py",
   "mimetype": "text/x-python",
   "name": "python",
   "nbconvert_exporter": "python",
   "pygments_lexer": "ipython3",
   "version": "3.13.0"
  }
 },
 "nbformat": 4,
 "nbformat_minor": 5
}
