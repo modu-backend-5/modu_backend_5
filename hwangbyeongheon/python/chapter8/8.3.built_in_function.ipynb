{
 "cells": [
  {
   "cell_type": "markdown",
   "id": "d89deaf8",
   "metadata": {},
   "source": [
    "# 자주 사용하는 내장 함수\n",
    "## 1. 파이썬 내장 함수란?"
   ]
  },
  {
   "cell_type": "code",
   "execution_count": 1,
   "id": "05c07411",
   "metadata": {},
   "outputs": [
    {
     "name": "stdout",
     "output_type": "stream",
     "text": [
      "출력하는거\n"
     ]
    }
   ],
   "source": [
    "print(\"출력하는거\")"
   ]
  },
  {
   "cell_type": "code",
   "execution_count": 3,
   "id": "abb70d0f",
   "metadata": {},
   "outputs": [
    {
     "data": {
      "text/plain": [
       "3"
      ]
     },
     "execution_count": 3,
     "metadata": {},
     "output_type": "execute_result"
    }
   ],
   "source": [
    "fruits = ['사과', '바나나', '오렌지']\n",
    "name = \"파이썬\"\n",
    "len(fruits)\n",
    "len(name)"
   ]
  },
  {
   "cell_type": "code",
   "execution_count": 9,
   "id": "ac1b1eb3",
   "metadata": {},
   "outputs": [
    {
     "name": "stdout",
     "output_type": "stream",
     "text": [
      "제 나이는 25세입니다.\n"
     ]
    }
   ],
   "source": [
    "int_num = int(\"10\")\n",
    "int_num + 10\n",
    "float_num = float(\"3.14\")\n",
    "float_num + 2.5\n",
    "age = 25\n",
    "print(\"제 나이는 \" + str(age) + \"세입니다.\")"
   ]
  },
  {
   "cell_type": "code",
   "execution_count": 10,
   "id": "a097a76a",
   "metadata": {},
   "outputs": [
    {
     "data": {
      "text/plain": [
       "'입력'"
      ]
     },
     "execution_count": 10,
     "metadata": {},
     "output_type": "execute_result"
    }
   ],
   "source": [
    "input(\"입력해주세요.:\")"
   ]
  },
  {
   "cell_type": "code",
   "execution_count": 15,
   "id": "943c4379",
   "metadata": {},
   "outputs": [
    {
     "data": {
      "text/plain": [
       "[1, 3, 5, 7, 9]"
      ]
     },
     "execution_count": 15,
     "metadata": {},
     "output_type": "execute_result"
    }
   ],
   "source": [
    "range(10) # 0 ~ 9\n",
    "list(range(1, 11)) # 1 ~ 11\n",
    "list(range(1, 11, 2)) # 1 ~ 11까지 2씩 증가, 1, 3, 5, 7, 9"
   ]
  },
  {
   "cell_type": "code",
   "execution_count": 18,
   "id": "6f0612af",
   "metadata": {},
   "outputs": [
    {
     "name": "stdout",
     "output_type": "stream",
     "text": [
      "15\n"
     ]
    },
    {
     "data": {
      "text/plain": [
       "1"
      ]
     },
     "execution_count": 18,
     "metadata": {},
     "output_type": "execute_result"
    }
   ],
   "source": [
    "numbers = [1, 2, 3, 4, 5]\n",
    "print(sum(numbers))  # 15\n",
    "max(numbers)  # 5\n",
    "min(numbers)  # 1"
   ]
  }
 ],
 "metadata": {
  "kernelspec": {
   "display_name": "Python 3",
   "language": "python",
   "name": "python3"
  },
  "language_info": {
   "codemirror_mode": {
    "name": "ipython",
    "version": 3
   },
   "file_extension": ".py",
   "mimetype": "text/x-python",
   "name": "python",
   "nbconvert_exporter": "python",
   "pygments_lexer": "ipython3",
   "version": "3.13.0"
  }
 },
 "nbformat": 4,
 "nbformat_minor": 5
}
