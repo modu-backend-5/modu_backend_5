{
 "cells": [
  {
   "cell_type": "markdown",
   "id": "b7040442",
   "metadata": {},
   "source": [
    "# 매직 메서드(magic method)\n",
    "## 1. 매직 메서드"
   ]
  },
  {
   "cell_type": "code",
   "execution_count": 1,
   "id": "6636bf37",
   "metadata": {},
   "outputs": [
    {
     "name": "stdout",
     "output_type": "stream",
     "text": [
      "10 20\n",
      "20 30\n",
      "30 50\n",
      "36.05551275463989\n"
     ]
    }
   ],
   "source": [
    "class Point:\n",
    "    def __init__(self, x, y):\n",
    "        self.x = x\n",
    "        self.y = y\n",
    "\n",
    "\n",
    "    def __add__(self, other):\n",
    "        if isinstance(other, Point):\n",
    "            return Point((self.x + other.x), (self.y + other.y))\n",
    "        elif isinstance(other, int) or isinstance(other, float):\n",
    "            return Point((self.x + other), (self.y + other))\n",
    "\n",
    "\n",
    "    def distance(self, other):\n",
    "        dx = self.x - other.x\n",
    "        dy = self.y - other.y\n",
    "        return (dx**2 + dy**2)**0.5\n",
    "\n",
    "dot1 = Point(10, 20)\n",
    "dot2 = Point(20, 30)\n",
    "\n",
    "\n",
    "dot3 = dot1 + 10\n",
    "print(dot1.x, dot1.y) # 출력: 10 20\n",
    "print(dot3.x, dot3.y) # 출력: 20 30\n",
    "\n",
    "\n",
    "dot4 = dot1 + dot2\n",
    "print(dot4.x, dot4.y) # 출력: 30 50\n",
    "print(dot4.distance(dot1)) # 출력: 36.05551275463989"
   ]
  },
  {
   "cell_type": "code",
   "execution_count": 3,
   "id": "34af440b",
   "metadata": {},
   "outputs": [
    {
     "name": "stdout",
     "output_type": "stream",
     "text": [
      "이 점의 좌표는 (x: 10, y: 20)입니다.\n"
     ]
    },
    {
     "data": {
      "text/plain": [
       "'이 점의 좌표는 (x: 10, y: 20)입니다.'"
      ]
     },
     "execution_count": 3,
     "metadata": {},
     "output_type": "execute_result"
    }
   ],
   "source": [
    "class Point:\n",
    "\n",
    "\n",
    "    def __init__(self, x, y):\n",
    "        self.x = x\n",
    "        self.y = y\n",
    "\n",
    "\n",
    "    def __mul__(self, other):\n",
    "        return 'hello'\n",
    "    \n",
    "    def __str__(self):\n",
    "        return f'이 점의 좌표는 (x: {self.x}, y: {self.y})입니다.'\n",
    "\n",
    "\n",
    "dot1 = Point(10, 20)\n",
    "dot2 = Point(20, 30)\n",
    "\n",
    "\n",
    "dot1 * dot2\n",
    "\n",
    "print(dot1)\n",
    "str(dot1)  # 출력: 이 점의 좌표는 (x: 10, y: 20)입니다."
   ]
  },
  {
   "cell_type": "code",
   "execution_count": null,
   "id": "e69eccff",
   "metadata": {},
   "outputs": [],
   "source": []
  }
 ],
 "metadata": {
  "kernelspec": {
   "display_name": "Python 3",
   "language": "python",
   "name": "python3"
  },
  "language_info": {
   "codemirror_mode": {
    "name": "ipython",
    "version": 3
   },
   "file_extension": ".py",
   "mimetype": "text/x-python",
   "name": "python",
   "nbconvert_exporter": "python",
   "pygments_lexer": "ipython3",
   "version": "3.13.0"
  }
 },
 "nbformat": 4,
 "nbformat_minor": 5
}
