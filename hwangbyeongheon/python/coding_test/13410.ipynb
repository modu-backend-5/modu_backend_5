{
 "cells": [
  {
   "cell_type": "code",
   "execution_count": 2,
   "id": "ad5e411a",
   "metadata": {},
   "outputs": [
    {
     "name": "stdout",
     "output_type": "stream",
     "text": [
      "84\n"
     ]
    }
   ],
   "source": [
    "# 8 9\n",
    "N, K = map(int, input().split())\n",
    "\n",
    "result = float(\"-inf\") # 음의 무한대\n",
    "#for i in range(1, 10) -> 1 ~ 9\n",
    "for i in range(1, K + 1):\n",
    "    imsi = N * i\n",
    "    imsi = str(imsi)\n",
    "    imsi = imsi[::-1]\n",
    "    imsi = int(imsi)\n",
    "    result = max(result, imsi)\n",
    "\n",
    "print(result)"
   ]
  },
  {
   "cell_type": "code",
   "execution_count": null,
   "id": "98e30dda",
   "metadata": {},
   "outputs": [],
   "source": []
  }
 ],
 "metadata": {
  "kernelspec": {
   "display_name": "Python 3",
   "language": "python",
   "name": "python3"
  },
  "language_info": {
   "codemirror_mode": {
    "name": "ipython",
    "version": 3
   },
   "file_extension": ".py",
   "mimetype": "text/x-python",
   "name": "python",
   "nbconvert_exporter": "python",
   "pygments_lexer": "ipython3",
   "version": "3.13.0"
  }
 },
 "nbformat": 4,
 "nbformat_minor": 5
}
