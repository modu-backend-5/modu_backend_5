{
 "cells": [
  {
   "cell_type": "markdown",
   "id": "edc6fc89",
   "metadata": {},
   "source": [
    "### 문제\n",
    "동물원에서 막 탈출한 원숭이 한 마리가 세상구경을 하고 있다. 그 녀석은 원주 부근을 돌아다니다가 코레스코 콘도에서 아주 재밌는 놀이를 발견했다. 그 놀이의 이름은 바로 “꼬리를 무는 숫자 나열”. 이제부터 원숭이가 그토록 좋아하던 그 놀이를 파헤쳐보자.\n",
    "\n",
    "놀이의 방법은 간단하다. 일단 4줄짜리 표에 왼쪽부터 수를 아래로 1부터 순서대로 적어나간다. 다음에 그 예가 잘 나타나있다.\n",
    "\n",
    "\n",
    "\n",
    "이제 원숭이는 두 개의 자연수를 아무거나 생각한다. 그리고 숫자판에서 두 개의 자연수 사이의 직각거리를 구하면 된다. 여기서 직각거리는 동서방향거리와 남북방향거리의 합을 뜻한다.\n",
    "\n",
    "예를 들어 저 숫자판에서 11과 33을 생각했다고 하자. 그렇다면 11과 33사이의 직각거리는 8이 된다.(동서방향거리 : 6, 남북방향거리 : 2) 다음 그림에 잘 나타나있다.\n",
    "\n",
    "\n",
    "\n",
    "하지만 원숭이는 지금 혼란스럽다. 동물원에서 탈출한지 얼마 되지 않아서 계산을 할 수 없는 경지에 이르렀다. 여러분이 불쌍한 원숭이를 좀 도와줘야겠다. 원숭이가 생각한 두 자연수 사이의 직각거리를 구하는 프로그램을 작성하시오.\n",
    "\n",
    "### 입력\n",
    "첫째 줄에 원숭이가 생각한 두 개의 자연수가 주어진다. 각 수는 10,000,000 이하이다.\n",
    "\n",
    "### 출력\n",
    "첫째 줄에 원숭이가 생각한 두 개의 자연수 사이의 직각거리를 출력한다."
   ]
  },
  {
   "cell_type": "code",
   "execution_count": null,
   "id": "a9bff06d",
   "metadata": {},
   "outputs": [
    {
     "name": "stdout",
     "output_type": "stream",
     "text": [
      "8\n"
     ]
    }
   ],
   "source": [
    "first, second = map(int, input().split())\n",
    "first -= 1\n",
    "second -= 1\n",
    "# 가로 차이\n",
    "# 첫 수의 가로 위치\n",
    "first_garo = first // 4\n",
    "# 두번째 수의 가로 위치\n",
    "second_garo = second // 4\n",
    "# 가로 위치 차이\n",
    "garo_diff = abs(first_garo - second_garo) # 6\n",
    "# 세로 차이\n",
    "# 첫 수의 세로 위치\n",
    "first_sero = first % 4\n",
    "# 두번째 수의 세로 위치\n",
    "second_sero = second % 4\n",
    "# 세로 위치 차이\n",
    "sero_diff = abs(first_sero - second_sero) # 2\n",
    "# 총 위치 차이\n",
    "total_diff = garo_diff + sero_diff\n",
    "print(total_diff)"
   ]
  },
  {
   "cell_type": "code",
   "execution_count": null,
   "id": "3b7f7558",
   "metadata": {},
   "outputs": [
    {
     "name": "stdout",
     "output_type": "stream",
     "text": [
      "8\n"
     ]
    },
    {
     "ename": "",
     "evalue": "",
     "output_type": "error",
     "traceback": [
      "\u001b[1;31m현재 셀 또는 이전 셀에서 코드를 실행하는 동안 Kernel이 충돌했습니다. \n",
      "\u001b[1;31m셀의 코드를 검토하여 가능한 오류 원인을 식별하세요. \n",
      "\u001b[1;31m자세한 내용을 보려면 <a href='https://aka.ms/vscodeJupyterKernelCrash'>여기</a>를 클릭하세요. \n",
      "\u001b[1;31m자세한 내용은 Jupyter <a href='command:jupyter.viewOutput'>로그</a>를 참조하세요."
     ]
    }
   ],
   "source": [
    "def garo(n):\n",
    "    return (n // 4) + 1\n",
    "\n",
    "\n",
    "def sero(n):\n",
    "    return n % 4\n",
    "\n",
    "a, b  = map(int, input().split())\n",
    "a -= 1\n",
    "b -= 1\n",
    "garo_diff = abs(garo(a) - garo(b))\n",
    "sero_diff = abs(sero(a) - sero(b))\n",
    "total_diff = garo_diff + sero_diff\n",
    "\n",
    "print(total_diff)"
   ]
  },
  {
   "cell_type": "code",
   "execution_count": null,
   "id": "992489fd",
   "metadata": {},
   "outputs": [],
   "source": [
    "# 문제번호: 1598\n",
    "A, B = map(int, input().split())\n",
    "if (A % 4) == 0:\n",
    "    ya = 4\n",
    "    xa = (A // 4) -1\n",
    "else:\n",
    "    ya = A % 4\n",
    "    xa = (A // 4)\n",
    "\n",
    "if (B % 4) == 0:\n",
    "    yb = 4\n",
    "    xb = (B // 4) - 1\n",
    "else:\n",
    "    yb = B % 4\n",
    "    xb = (B // 4) \n",
    "\n",
    "vertical = abs(yb-ya)\n",
    "horizontal = abs(xb - xa)\n",
    "\n",
    "print(vertical + horizontal)"
   ]
  },
  {
   "cell_type": "code",
   "execution_count": null,
   "id": "bb3a0371",
   "metadata": {},
   "outputs": [],
   "source": [
    "a, b = map(int, input().split())\n",
    "\n",
    "a -= 1\n",
    "b -= 1\n",
    "\n",
    "row1 = a // 4\n",
    "row2 = b // 4\n",
    "row = abs(row1 - row2)\n",
    "\n",
    "col1 = a % 4\n",
    "col2 = b % 4\n",
    "column = abs(col1 - col2)\n",
    "\n",
    "dist = row + column\n",
    "\n",
    "print(dist)"
   ]
  }
 ],
 "metadata": {
  "kernelspec": {
   "display_name": "Python 3",
   "language": "python",
   "name": "python3"
  },
  "language_info": {
   "codemirror_mode": {
    "name": "ipython",
    "version": 3
   },
   "file_extension": ".py",
   "mimetype": "text/x-python",
   "name": "python",
   "nbconvert_exporter": "python",
   "pygments_lexer": "ipython3",
   "version": "3.13.0"
  }
 },
 "nbformat": 4,
 "nbformat_minor": 5
}
