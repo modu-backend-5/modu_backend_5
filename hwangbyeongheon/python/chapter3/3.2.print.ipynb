{
 "cells": [
  {
   "cell_type": "code",
   "execution_count": 1,
   "id": "ecbcc826",
   "metadata": {},
   "outputs": [
    {
     "data": {
      "text/plain": [
       "'마지막 라인에 있는 변수, 친구들은 jupyter 노트북이 자동으로 출력해줍니다.'"
      ]
     },
     "execution_count": 1,
     "metadata": {},
     "output_type": "execute_result"
    }
   ],
   "source": [
    "\"마지막 라인에 있는 변수, 친구들은 jupyter 노트북이 자동으로 출력해줍니다.\""
   ]
  },
  {
   "cell_type": "code",
   "execution_count": 2,
   "id": "2b7c6ed8",
   "metadata": {},
   "outputs": [
    {
     "name": "stdout",
     "output_type": "stream",
     "text": [
      "출력합니다.\n"
     ]
    }
   ],
   "source": [
    "print('출력합니다.')"
   ]
  },
  {
   "cell_type": "code",
   "execution_count": 3,
   "id": "93522f72",
   "metadata": {},
   "outputs": [
    {
     "name": "stdout",
     "output_type": "stream",
     "text": [
      "연달아 출력 연달아 출력\n"
     ]
    }
   ],
   "source": [
    "print(\"연달아 출력\", \"연달아 출력\")"
   ]
  },
  {
   "cell_type": "code",
   "execution_count": 5,
   "id": "bca79396",
   "metadata": {},
   "outputs": [
    {
     "name": "stdout",
     "output_type": "stream",
     "text": [
      "첫 번째 줄\n",
      "두 번째 줄\n"
     ]
    }
   ],
   "source": [
    "print(\"첫 번째 줄\")\n",
    "print(\"두 번째 줄\")"
   ]
  },
  {
   "cell_type": "code",
   "execution_count": 6,
   "id": "24eb17a0",
   "metadata": {},
   "outputs": [
    {
     "data": {
      "text/plain": [
       "'두 번째 줄'"
      ]
     },
     "execution_count": 6,
     "metadata": {},
     "output_type": "execute_result"
    }
   ],
   "source": [
    "\"첫 번째 줄\"\n",
    "\"두 번째 줄\""
   ]
  }
 ],
 "metadata": {
  "kernelspec": {
   "display_name": "Python 3",
   "language": "python",
   "name": "python3"
  },
  "language_info": {
   "codemirror_mode": {
    "name": "ipython",
    "version": 3
   },
   "file_extension": ".py",
   "mimetype": "text/x-python",
   "name": "python",
   "nbconvert_exporter": "python",
   "pygments_lexer": "ipython3",
   "version": "3.13.0"
  }
 },
 "nbformat": 4,
 "nbformat_minor": 5
}
