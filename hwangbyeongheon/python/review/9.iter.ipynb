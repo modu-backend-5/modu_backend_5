{
 "cells": [
  {
   "cell_type": "markdown",
   "id": "21396cbd",
   "metadata": {},
   "source": [
    "# for문"
   ]
  },
  {
   "cell_type": "code",
   "execution_count": 2,
   "id": "77533101",
   "metadata": {},
   "outputs": [
    {
     "name": "stdout",
     "output_type": "stream",
     "text": [
      "1-1\n",
      "2-1\n",
      "3-1\n"
     ]
    }
   ],
   "source": [
    "print('1-1')\n",
    "print('2-1')\n",
    "print('3-1')"
   ]
  },
  {
   "cell_type": "code",
   "execution_count": null,
   "id": "998a54e0",
   "metadata": {},
   "outputs": [],
   "source": [
    "for i in range(1, 100):\n",
    "    print(f\"{i}-1\")"
   ]
  },
  {
   "cell_type": "code",
   "execution_count": null,
   "id": "a838b20d",
   "metadata": {},
   "outputs": [],
   "source": [
    "# for 변수명 in 순회_가능한_객체 :\n",
    "#     pass # 수행할_문장"
   ]
  },
  {
   "cell_type": "code",
   "execution_count": 6,
   "id": "53d2406f",
   "metadata": {},
   "outputs": [
    {
     "name": "stdout",
     "output_type": "stream",
     "text": [
      "현재 값은 h 입니다.\n",
      "현재 값은 e 입니다.\n",
      "현재 값은 l 입니다.\n",
      "현재 값은 l 입니다.\n",
      "현재 값은 o 입니다.\n"
     ]
    }
   ],
   "source": [
    "for s in 'hello': # 순회 가능한 객체가 들어갑니다.\n",
    "    print(f'현재 값은 {s} 입니다.')"
   ]
  },
  {
   "cell_type": "code",
   "execution_count": 7,
   "id": "8a18a70e",
   "metadata": {},
   "outputs": [
    {
     "name": "stdout",
     "output_type": "stream",
     "text": [
      "현재 값은 1 입니다.\n",
      "현재 값은 2 입니다.\n",
      "현재 값은 3 입니다.\n",
      "현재 값은 4 입니다.\n",
      "현재 값은 5 입니다.\n"
     ]
    }
   ],
   "source": [
    "for x in (1, 2, 3, 4, 5):\n",
    "    print(f'현재 값은 {x} 입니다.')"
   ]
  },
  {
   "cell_type": "code",
   "execution_count": 9,
   "id": "d06fe779",
   "metadata": {},
   "outputs": [
    {
     "name": "stdout",
     "output_type": "stream",
     "text": [
      "1\n",
      "2\n",
      "3\n",
      "3\n"
     ]
    }
   ],
   "source": [
    "k = 100\n",
    "for k in (1, 2, 3):\n",
    "    print(k)\n",
    "print(k)"
   ]
  },
  {
   "cell_type": "code",
   "execution_count": 10,
   "id": "3c46be08",
   "metadata": {},
   "outputs": [
    {
     "name": "stdout",
     "output_type": "stream",
     "text": [
      "현재 책은 Python 입니다.\n",
      "현재 책은 Java 입니다.\n",
      "현재 책은 C++ 입니다.\n"
     ]
    }
   ],
   "source": [
    "books = ['Python', 'Java', 'C++']\n",
    "for book in books:\n",
    "    print(f'현재 책은 {book} 입니다.')"
   ]
  },
  {
   "cell_type": "code",
   "execution_count": 11,
   "id": "e3ec30fd",
   "metadata": {},
   "outputs": [
    {
     "name": "stdout",
     "output_type": "stream",
     "text": [
      "12\n"
     ]
    }
   ],
   "source": [
    "s = '123qem213,dodad;,'\n",
    "result = 0\n",
    "for i in s:\n",
    "    if i.isdigit():\n",
    "        result += int(i)\n",
    "print(result)"
   ]
  },
  {
   "cell_type": "code",
   "execution_count": 12,
   "id": "f8f5acde",
   "metadata": {},
   "outputs": [
    {
     "name": "stdout",
     "output_type": "stream",
     "text": [
      "01010002000\n"
     ]
    }
   ],
   "source": [
    "s = '010-1000?2000'\n",
    "result = ''\n",
    "for i in s:\n",
    "    if i.isdigit():\n",
    "        result += i\n",
    "print(result)"
   ]
  },
  {
   "cell_type": "code",
   "execution_count": 13,
   "id": "b2ceebdc",
   "metadata": {},
   "outputs": [
    {
     "name": "stdout",
     "output_type": "stream",
     "text": [
      "one\n",
      "two\n",
      "three\n"
     ]
    }
   ],
   "source": [
    "l = ['one', 'two', 'three']\n",
    "for i in l:\n",
    "    print(i)"
   ]
  },
  {
   "cell_type": "code",
   "execution_count": null,
   "id": "040abafc",
   "metadata": {},
   "outputs": [],
   "source": [
    "l = ['one', 'two', 'three']\n",
    "for i in l:\n",
    "    l.append('four')\n",
    "    print(i)"
   ]
  },
  {
   "cell_type": "code",
   "execution_count": 15,
   "id": "953bac28",
   "metadata": {},
   "outputs": [
    {
     "name": "stdout",
     "output_type": "stream",
     "text": [
      "1\n",
      "2\n",
      "1 2\n",
      "10\n",
      "20\n",
      "10 20\n",
      "100\n",
      "200\n",
      "100 200\n"
     ]
    }
   ],
   "source": [
    "for i, j in [[1, 2], [10, 20], [100, 200]]:\n",
    "    print(i)\n",
    "    print(j)\n",
    "    print(i, j)"
   ]
  },
  {
   "cell_type": "code",
   "execution_count": 18,
   "id": "6fb93de7",
   "metadata": {},
   "outputs": [
    {
     "name": "stdout",
     "output_type": "stream",
     "text": [
      "하나: one\n",
      "둘: two\n",
      "셋: three\n"
     ]
    }
   ],
   "source": [
    "단어_사전 = {\n",
    "    '하나' : 'one',\n",
    "    '둘' : 'two',\n",
    "    '셋' : 'three',\n",
    "}\n",
    "\n",
    "\n",
    "for key, value in 단어_사전.items():\n",
    "    print(f\"{key}: {value}\")"
   ]
  },
  {
   "cell_type": "code",
   "execution_count": null,
   "id": "2691bf57",
   "metadata": {},
   "outputs": [
    {
     "name": "stdout",
     "output_type": "stream",
     "text": [
      "하나: one\n",
      "둘: two\n",
      "셋: three\n"
     ]
    }
   ],
   "source": [
    "단어_사전 = {\n",
    "    '하나' : 'one',\n",
    "    '둘' : 'two',\n",
    "    '셋' : 'three',\n",
    "}\n",
    "\n",
    "for i in 단어_사전:\n",
    "    value = 단어_사전[i]\n",
    "    print(f\"{i}: {단어_사전[i]}\")\n",
    "    value 연산하는 코드"
   ]
  },
  {
   "cell_type": "code",
   "execution_count": 20,
   "id": "dade8895",
   "metadata": {},
   "outputs": [
    {
     "name": "stdout",
     "output_type": "stream",
     "text": [
      "0\n",
      "1\n",
      "2\n",
      "3\n",
      "4\n"
     ]
    }
   ],
   "source": [
    "for i in range(5):\n",
    "    print(i)"
   ]
  },
  {
   "cell_type": "code",
   "execution_count": 21,
   "id": "6f988ed7",
   "metadata": {},
   "outputs": [
    {
     "data": {
      "text/plain": [
       "30"
      ]
     },
     "execution_count": 21,
     "metadata": {},
     "output_type": "execute_result"
    }
   ],
   "source": [
    "result = 0\n",
    "for i in range(0, 11, 2):\n",
    "    result += i\n",
    "result"
   ]
  },
  {
   "cell_type": "code",
   "execution_count": null,
   "id": "740ab42d",
   "metadata": {},
   "outputs": [
    {
     "data": {
      "text/plain": [
       "5050"
      ]
     },
     "execution_count": 24,
     "metadata": {},
     "output_type": "execute_result"
    }
   ],
   "source": [
    "result = 0\n",
    "for i in range(101):\n",
    "    result += i\n",
    "result\n",
    "sum(range(101))"
   ]
  },
  {
   "cell_type": "code",
   "execution_count": null,
   "id": "3427b744",
   "metadata": {},
   "outputs": [],
   "source": [
    "for i in range(1, 4): # 1, 2, 3\n",
    "    for j in range(1, 11): # 1 ~ 10\n",
    "        print(f'{i}층 {j}번째 책')"
   ]
  },
  {
   "cell_type": "code",
   "execution_count": null,
   "id": "16d96d6a",
   "metadata": {},
   "outputs": [],
   "source": [
    "list_2 = [[0 for j in range(10)] for i in range(3)]\n",
    "for i in list_2:\n",
    "    for j in i:\n",
    "        print(j)\n",
    "    print()"
   ]
  },
  {
   "cell_type": "code",
   "execution_count": null,
   "id": "d0bf26ef",
   "metadata": {},
   "outputs": [],
   "source": [
    "for i in range(2, 10): # 1 -> 2 ~ 9단까지의 반복\n",
    "    print(f'---{i}단---')\n",
    "    for j in range(1, 10): # 2 -> 각 단 수에서 1부터 9까지 곱을 반복\n",
    "        print(f'{i} X {j} = {i * j}')"
   ]
  },
  {
   "cell_type": "code",
   "execution_count": 31,
   "id": "13f9c94b",
   "metadata": {},
   "outputs": [
    {
     "name": "stdout",
     "output_type": "stream",
     "text": [
      "[1, 2, 3, 4, 5, 6, 7, 8, 9]\n"
     ]
    }
   ],
   "source": [
    "x = []\n",
    "\n",
    "for i in range(1, 10):\n",
    "  x.append(i)\n",
    "\n",
    "print(x)"
   ]
  },
  {
   "cell_type": "code",
   "execution_count": 33,
   "id": "ce4a5901",
   "metadata": {},
   "outputs": [
    {
     "data": {
      "text/plain": [
       "[1, 2, 3, 4, 5, 6, 7, 8, 9]"
      ]
     },
     "execution_count": 33,
     "metadata": {},
     "output_type": "execute_result"
    }
   ],
   "source": [
    "[i for i in range(1, 10)]"
   ]
  },
  {
   "cell_type": "code",
   "execution_count": 35,
   "id": "486f0ad3",
   "metadata": {},
   "outputs": [
    {
     "name": "stdout",
     "output_type": "stream",
     "text": [
      "[1, 4, 9, 16, 25, 36, 49, 64, 81]\n"
     ]
    }
   ],
   "source": [
    "l = [i ** 2 for i in range(1, 10)]\n",
    "print(l)"
   ]
  },
  {
   "cell_type": "code",
   "execution_count": 36,
   "id": "c6b63748",
   "metadata": {},
   "outputs": [
    {
     "name": "stdout",
     "output_type": "stream",
     "text": [
      "[3, 5, 6, 9, 10, 12, 15, 18, 20, 21, 24, 25, 27, 30, 33, 35, 36, 39, 40, 42, 45, 48, 50, 51, 54, 55, 57, 60, 63, 65, 66, 69, 70, 72, 75, 78, 80, 81, 84, 85, 87, 90, 93, 95, 96, 99]\n"
     ]
    }
   ],
   "source": [
    "l = []\n",
    "for i in range(1, 100):\n",
    "    if i % 3 == 0 or i % 5 == 0:\n",
    "        l.append(i)\n",
    "print(l)"
   ]
  },
  {
   "cell_type": "code",
   "execution_count": null,
   "id": "7bea7c9f",
   "metadata": {},
   "outputs": [],
   "source": [
    "l = [i for i in range(1, 101) if i % 3 == 0 or i % 5 == 0]\n",
    "l"
   ]
  },
  {
   "cell_type": "code",
   "execution_count": 39,
   "id": "cb0ee594",
   "metadata": {},
   "outputs": [
    {
     "name": "stdout",
     "output_type": "stream",
     "text": [
      "[2, 4, 6, 8, 10, 12, 14, 16, 18, 20, 22, 24, 26, 28, 30, 32, 34, 36, 38, 40, 42, 44, 46, 48, 50, 52, 54, 56, 58, 60, 62, 64, 66, 68, 70, 72, 74, 76, 78, 80, 82, 84, 86, 88, 90, 92, 94, 96, 98, 100]\n"
     ]
    }
   ],
   "source": [
    "l = [i for i in range(1, 101) if i % 2 == 0]\n",
    "print(l)"
   ]
  },
  {
   "cell_type": "code",
   "execution_count": null,
   "id": "eca1f03c",
   "metadata": {},
   "outputs": [
    {
     "name": "stdout",
     "output_type": "stream",
     "text": [
      "['4는 3보다 큰 짝수', '5는 3보다 큰 홀수']\n"
     ]
    }
   ],
   "source": [
    "nums = [1, 2, 3, 4, 5]\n",
    "#          리스트에 들어올 값(삼항 연산자)                                    반복부분     조건부분\n",
    "result = [f'{x}는 3보다 큰 짝수' if x % 2 == 0 else f'{x}는 3보다 큰 홀수' for x in nums if x > 3]\n",
    "print(result) # 출력: ['4는 3보다 큰 짝수', '5는 3보다 큰 홀수']"
   ]
  },
  {
   "cell_type": "code",
   "execution_count": 41,
   "id": "129ffe23",
   "metadata": {},
   "outputs": [
    {
     "name": "stdout",
     "output_type": "stream",
     "text": [
      "['4는 3보다 큰 짝수', '5는 3보다 큰 홀수']\n"
     ]
    }
   ],
   "source": [
    "result = []\n",
    "nums = [1, 2, 3, 4, 5]\n",
    "for x in nums:\n",
    "    if x > 3:\n",
    "        if x % 2 == 0:\n",
    "            result.append(f'{x}는 3보다 큰 짝수')\n",
    "        else:\n",
    "            result.append(f'{x}는 3보다 큰 홀수')\n",
    "print(result)"
   ]
  },
  {
   "cell_type": "code",
   "execution_count": 43,
   "id": "2510309b",
   "metadata": {},
   "outputs": [
    {
     "data": {
      "text/plain": [
       "[6]"
      ]
     },
     "execution_count": 43,
     "metadata": {},
     "output_type": "execute_result"
    }
   ],
   "source": [
    "nums = [1, 2, 3, 4, 5, 6]\n",
    "result = [x for x in nums if x % 2 == 0 if x % 3 == 0]\n",
    "result\n",
    "\n",
    "nums = [1, 2, 3, 4, 5, 6]\n",
    "result = [x for x in nums if x % 2 == 0 and x % 3 == 0]\n",
    "result # 출력: [6]"
   ]
  },
  {
   "cell_type": "code",
   "execution_count": 44,
   "id": "5dc26739",
   "metadata": {},
   "outputs": [
    {
     "data": {
      "text/plain": [
       "[100, 200, 300, 0, 0, 0]"
      ]
     },
     "execution_count": 44,
     "metadata": {},
     "output_type": "execute_result"
    }
   ],
   "source": [
    "def sumthingFunction(i): # 1\n",
    "    if i % 100 == 0:\n",
    "        return i\n",
    "    else:\n",
    "        return 0\n",
    "\n",
    "l = [100, 200, 300, 101, 202, 303] # 2\n",
    "#     요소 할당 부분        반복부분\n",
    "l = [sumthingFunction(i) for i in l] # 3\n",
    "l # 출력: [100, 200, 300, 0, 0, 0]"
   ]
  },
  {
   "cell_type": "code",
   "execution_count": 45,
   "id": "e8e8ccec",
   "metadata": {},
   "outputs": [
    {
     "data": {
      "text/plain": [
       "{0: 0, 1: 1, 2: 4, 3: 9, 4: 16}"
      ]
     },
     "execution_count": 45,
     "metadata": {},
     "output_type": "execute_result"
    }
   ],
   "source": [
    "{i: i**2 for i in range(5)}"
   ]
  },
  {
   "cell_type": "code",
   "execution_count": 47,
   "id": "441bebf7",
   "metadata": {},
   "outputs": [
    {
     "name": "stdout",
     "output_type": "stream",
     "text": [
      "a 100\n",
      "b 200\n",
      "c 300\n",
      "d 400\n",
      "e 500\n"
     ]
    }
   ],
   "source": [
    "skills = [\n",
    "    ('a', 100),\n",
    "    ('b', 200),\n",
    "    ('c', 300),\n",
    "    ('d', 400),\n",
    "    ('e', 500)\n",
    "]\n",
    "\n",
    "\n",
    "for skill_name, skill_mana in skills:\n",
    "    print(skill_name, skill_mana)"
   ]
  },
  {
   "cell_type": "code",
   "execution_count": 49,
   "id": "99c347e9",
   "metadata": {},
   "outputs": [
    {
     "name": "stdout",
     "output_type": "stream",
     "text": [
      "0 레미제라블\n",
      "1 뷰티인사이트\n",
      "2 매트릭스\n",
      "3 인셉션\n",
      "4 어거스트 러쉬\n"
     ]
    }
   ],
   "source": [
    "영화누적관객수 = ['레미제라블', '뷰티인사이트', '매트릭스', '인셉션', '어거스트 러쉬']\n",
    "for index, value in enumerate(영화누적관객수):\n",
    "    print(index, value)"
   ]
  },
  {
   "cell_type": "code",
   "execution_count": 50,
   "id": "c3582671",
   "metadata": {},
   "outputs": [
    {
     "name": "stdout",
     "output_type": "stream",
     "text": [
      "누적관객수 1위! 레미제라블!\n",
      "누적관객수 2위! 뷰티인사이트!\n",
      "누적관객수 3위! 매트릭스!\n",
      "누적관객수 4위! 인셉션!\n",
      "누적관객수 5위! 어거스트 러쉬!\n"
     ]
    }
   ],
   "source": [
    "for i, j in enumerate(영화누적관객수, 1):\n",
    "    print(f'누적관객수 {i}위! {j}!')"
   ]
  },
  {
   "cell_type": "markdown",
   "id": "5b3a0f9f",
   "metadata": {},
   "source": [
    "# while문"
   ]
  },
  {
   "cell_type": "code",
   "execution_count": null,
   "id": "e0b68795",
   "metadata": {},
   "outputs": [
    {
     "name": "stdout",
     "output_type": "stream",
     "text": [
      "1\n",
      "2\n",
      "3\n",
      "4\n",
      "5\n",
      "6\n",
      "7\n",
      "8\n",
      "9\n"
     ]
    }
   ],
   "source": [
    "a = 1\n",
    "\n",
    "while a < 10: # 10 < 10 -> False\n",
    "\tprint(a) # 1, 2, 3, 4, 5, 6, 7, 8, 9\n",
    "\ta += 1 # a = 10"
   ]
  },
  {
   "cell_type": "code",
   "execution_count": 53,
   "id": "8cfa66e0",
   "metadata": {},
   "outputs": [
    {
     "name": "stdout",
     "output_type": "stream",
     "text": [
      "안녕하세요\n",
      "출입 완료\n"
     ]
    }
   ],
   "source": [
    "while True:\n",
    "    x = input()\n",
    "    if x == 'exit':\n",
    "        break\n",
    "    print(x)"
   ]
  },
  {
   "cell_type": "code",
   "execution_count": null,
   "id": "6dfa4bee",
   "metadata": {},
   "outputs": [],
   "source": [
    "i = 2\n",
    "while i < 10 : # i 단수 -> 2 ~ 9\n",
    "    j = 1\n",
    "    while j < 10: # j 단수에 곱할 수 -> 1 ~ 9\n",
    "        print(f'{i} X {j} = {i * j}')\n",
    "        j += 1\n",
    "    i += 1"
   ]
  },
  {
   "cell_type": "markdown",
   "id": "9ee4f819",
   "metadata": {},
   "source": [
    "# break, continue, pass 비교"
   ]
  },
  {
   "cell_type": "code",
   "execution_count": null,
   "id": "2e8c0848",
   "metadata": {},
   "outputs": [
    {
     "name": "stdout",
     "output_type": "stream",
     "text": [
      "0\n",
      "1\n",
      "2\n",
      "3\n",
      "4\n",
      "5\n"
     ]
    }
   ],
   "source": [
    "x = 0\n",
    "while True:\n",
    "    print(x)\n",
    "    if x == 5:\n",
    "        break\n",
    "    x += 1"
   ]
  },
  {
   "cell_type": "code",
   "execution_count": 57,
   "id": "6df51aac",
   "metadata": {},
   "outputs": [
    {
     "name": "stdout",
     "output_type": "stream",
     "text": [
      "2 X 1 = 2\n",
      "2 X 2 = 4\n",
      "2 X 3 = 6\n",
      "2 X 4 = 8\n",
      "2 X 5 = 10\n"
     ]
    }
   ],
   "source": [
    "for i in range(2, 10):\n",
    "    is_flag = False\n",
    "    for j in range(1, 10):\n",
    "        if j > 5:\n",
    "            is_flag = True\n",
    "            break\n",
    "        print(f'{i} X {j} = {i*j}')\n",
    "    if is_flag:\n",
    "        break"
   ]
  },
  {
   "cell_type": "code",
   "execution_count": 58,
   "id": "64c71154",
   "metadata": {},
   "outputs": [
    {
     "name": "stdout",
     "output_type": "stream",
     "text": [
      "1\n",
      "2\n",
      "4\n",
      "5\n"
     ]
    }
   ],
   "source": [
    "x = 0\n",
    "while x < 5:\n",
    "    x += 1\n",
    "    if x == 3:\n",
    "        continue\n",
    "    print(x)"
   ]
  },
  {
   "cell_type": "code",
   "execution_count": null,
   "id": "3379ab89",
   "metadata": {},
   "outputs": [
    {
     "name": "stdout",
     "output_type": "stream",
     "text": [
      "1\n",
      "2\n",
      "3\n",
      "4\n",
      "5\n"
     ]
    }
   ],
   "source": [
    "x = 0\n",
    "while x < 5:\n",
    "    x += 1\n",
    "    # if x == 3:\n",
    "    #     pass\n",
    "    print(x)"
   ]
  },
  {
   "cell_type": "code",
   "execution_count": null,
   "id": "b01cce80",
   "metadata": {},
   "outputs": [],
   "source": [
    "x = 0\n",
    "while x < 10:\n",
    "    print(x)\n",
    "    if x == 5:\n",
    "        continue\n",
    "    x += 1"
   ]
  },
  {
   "cell_type": "markdown",
   "id": "8ce4635a",
   "metadata": {},
   "source": [
    "# 반복문 else"
   ]
  },
  {
   "cell_type": "code",
   "execution_count": null,
   "id": "ee064733",
   "metadata": {},
   "outputs": [],
   "source": [
    "for 변수 in 범위:\n",
    "    pass # 반복 실행할 코드\n",
    "else:\n",
    "    pass # 반복문이 모두 실행되어 종료되고 실행할 코드"
   ]
  },
  {
   "cell_type": "code",
   "execution_count": 61,
   "id": "89cd4e5d",
   "metadata": {},
   "outputs": [
    {
     "name": "stdout",
     "output_type": "stream",
     "text": [
      "0 물고기를 잡았습니다.\n",
      "1 물고기를 잡았습니다.\n",
      "2 물고기를 잡았습니다.\n",
      "3 물고기를 잡았습니다.\n",
      "4 물고기를 잡았습니다.\n",
      "5 물고기를 잡았습니다.\n",
      "만선입니다. 물고기를 다 잡았습니다.\n",
      "수고하셨습니다.\n"
     ]
    }
   ],
   "source": [
    "for i in range(100):\n",
    "    print(f'{i} 물고기를 잡았습니다.')\n",
    "    if i == 5:\n",
    "        print('만선입니다. 물고기를 다 잡았습니다.')\n",
    "        break\n",
    "else:\n",
    "    print('아직 여유가 좀 있지만, 물고기가 더 없는 것 같으니 이정도로 만족하고 돌아갑시다.')\n",
    "\n",
    "print('수고하셨습니다.')"
   ]
  },
  {
   "cell_type": "code",
   "execution_count": 63,
   "id": "51a4b90c",
   "metadata": {},
   "outputs": [
    {
     "name": "stdout",
     "output_type": "stream",
     "text": [
      "0 물고기를 잡았습니다.\n",
      "1 물고기를 잡았습니다.\n",
      "2 물고기를 잡았습니다.\n",
      "3 물고기를 잡았습니다.\n",
      "4 물고기를 잡았습니다.\n",
      "아직 여유가 좀 있지만, 물고기가 더 없는 것 같으니 이정도로 만족하고 돌아갑시다.\n",
      "수고하셨습니다.\n"
     ]
    }
   ],
   "source": [
    "for i in range(5):\n",
    "    print(f'{i} 물고기를 잡았습니다.')\n",
    "else:\n",
    "    print('아직 여유가 좀 있지만, 물고기가 더 없는 것 같으니 이정도로 만족하고 돌아갑시다.')\n",
    "print('수고하셨습니다.')"
   ]
  },
  {
   "cell_type": "code",
   "execution_count": 64,
   "id": "46e3c007",
   "metadata": {},
   "outputs": [
    {
     "name": "stdout",
     "output_type": "stream",
     "text": [
      "현재 숫자는 0입니다.\n",
      "현재 숫자는 1입니다.\n",
      "현재 숫자는 2입니다.\n",
      "현재 숫자는 3입니다.\n",
      "현재 숫자는 4입니다.\n",
      "반복문을 종료합니다.\n"
     ]
    }
   ],
   "source": [
    "n = 0\n",
    "while n < 5:\n",
    "    print(f'현재 숫자는 {n}입니다.')\n",
    "    n += 1\n",
    "else:\n",
    "    print('반복문을 종료합니다.')"
   ]
  },
  {
   "cell_type": "code",
   "execution_count": null,
   "id": "bfbcc564",
   "metadata": {},
   "outputs": [
    {
     "name": "stdout",
     "output_type": "stream",
     "text": [
      "현재 숫자는 0입니다.\n",
      "현재 숫자는 1입니다.\n",
      "현재 숫자는 2입니다.\n",
      "현재 숫자는 3입니다.\n"
     ]
    },
    {
     "ename": "",
     "evalue": "",
     "output_type": "error",
     "traceback": [
      "\u001b[1;31m현재 셀 또는 이전 셀에서 코드를 실행하는 동안 Kernel이 충돌했습니다. \n",
      "\u001b[1;31m셀의 코드를 검토하여 가능한 오류 원인을 식별하세요. \n",
      "\u001b[1;31m자세한 내용을 보려면 <a href='https://aka.ms/vscodeJupyterKernelCrash'>여기</a>를 클릭하세요. \n",
      "\u001b[1;31m자세한 내용은 Jupyter <a href='command:jupyter.viewOutput'>로그</a>를 참조하세요."
     ]
    }
   ],
   "source": [
    "n = 0\n",
    "while n < 5:\n",
    "    print(f'현재 숫자는 {n}입니다.')\n",
    "    n += 1\n",
    "    if n > 3:\n",
    "        break\n",
    "else:\n",
    "    print('반복문을 종료합니다.')"
   ]
  }
 ],
 "metadata": {
  "kernelspec": {
   "display_name": "Python 3",
   "language": "python",
   "name": "python3"
  },
  "language_info": {
   "codemirror_mode": {
    "name": "ipython",
    "version": 3
   },
   "file_extension": ".py",
   "mimetype": "text/x-python",
   "name": "python",
   "nbconvert_exporter": "python",
   "pygments_lexer": "ipython3",
   "version": "3.13.0"
  }
 },
 "nbformat": 4,
 "nbformat_minor": 5
}
