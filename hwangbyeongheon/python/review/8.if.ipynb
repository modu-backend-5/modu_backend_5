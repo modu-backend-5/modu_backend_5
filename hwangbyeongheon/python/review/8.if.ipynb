{
 "cells": [
  {
   "cell_type": "markdown",
   "id": "27f7ede8",
   "metadata": {},
   "source": [
    "# if문"
   ]
  },
  {
   "cell_type": "code",
   "execution_count": 1,
   "id": "c0f5e762",
   "metadata": {},
   "outputs": [
    {
     "name": "stdout",
     "output_type": "stream",
     "text": [
      "True\n"
     ]
    }
   ],
   "source": [
    "x = 2\n",
    "if x > 1:\n",
    "    print('True') # 출력: True"
   ]
  },
  {
   "cell_type": "code",
   "execution_count": null,
   "id": "a7a47b65",
   "metadata": {},
   "outputs": [
    {
     "name": "stdout",
     "output_type": "stream",
     "text": [
      "True\n"
     ]
    }
   ],
   "source": [
    "if True:\n",
    "    print('True') # 출력: True\n",
    "print('True')"
   ]
  },
  {
   "cell_type": "code",
   "execution_count": 3,
   "id": "be5eb4b0",
   "metadata": {},
   "outputs": [
    {
     "name": "stdout",
     "output_type": "stream",
     "text": [
      "hello\n"
     ]
    }
   ],
   "source": [
    "if 1:\n",
    "    print('hello')"
   ]
  },
  {
   "cell_type": "code",
   "execution_count": 4,
   "id": "91246fa9",
   "metadata": {},
   "outputs": [
    {
     "name": "stdout",
     "output_type": "stream",
     "text": [
      "hello\n"
     ]
    }
   ],
   "source": [
    "if 10 and [1, 2, 3]: # True나 False가 아니라 단락평가에 의해 [1, 2, 3]\n",
    "    print('hello')"
   ]
  },
  {
   "cell_type": "code",
   "execution_count": 5,
   "id": "56e413aa",
   "metadata": {},
   "outputs": [
    {
     "name": "stdout",
     "output_type": "stream",
     "text": [
      "hello\n",
      "end\n"
     ]
    }
   ],
   "source": [
    "if -1: # 정수를 바꿔서도 실습해보세요\n",
    "    print('hello')\n",
    "print('end')"
   ]
  },
  {
   "cell_type": "code",
   "execution_count": 7,
   "id": "f82dbd9c",
   "metadata": {},
   "outputs": [
    {
     "name": "stdout",
     "output_type": "stream",
     "text": [
      "hello\n",
      "end\n",
      "end\n"
     ]
    }
   ],
   "source": [
    "# 공백이 있는 문자열\n",
    "if ' ':\n",
    "    print('hello')\n",
    "print('end')\n",
    "\n",
    "\n",
    "# 공백이 없는 문자열\n",
    "if '':\n",
    "    print('hello')\n",
    "print('end')"
   ]
  },
  {
   "cell_type": "code",
   "execution_count": 9,
   "id": "260de9a6",
   "metadata": {},
   "outputs": [
    {
     "name": "stdout",
     "output_type": "stream",
     "text": [
      "hello\n",
      "end\n",
      "end\n",
      "hello\n",
      "end\n"
     ]
    }
   ],
   "source": [
    "if not '':\n",
    "    print('hello')\n",
    "print('end')\n",
    "\n",
    "\n",
    "if None: # None은 False로 처리됩니다.\n",
    "    print('hello')\n",
    "print('end')\n",
    "\n",
    "\n",
    "if not None:\n",
    "    print('hello')\n",
    "print('end')"
   ]
  },
  {
   "cell_type": "code",
   "execution_count": 10,
   "id": "19c9ea3b",
   "metadata": {},
   "outputs": [
    {
     "name": "stdout",
     "output_type": "stream",
     "text": [
      "hello\n"
     ]
    }
   ],
   "source": [
    "def f():\n",
    "    return True\n",
    "\n",
    "if f() or f():\n",
    "    print('hello')"
   ]
  },
  {
   "cell_type": "code",
   "execution_count": 11,
   "id": "11837a83",
   "metadata": {},
   "outputs": [
    {
     "name": "stdout",
     "output_type": "stream",
     "text": [
      "hello\n"
     ]
    }
   ],
   "source": [
    "# 성능에 영향을 끼칩니다!\n",
    "def f():\n",
    "    return True\n",
    "\n",
    "def ff():\n",
    "    x = 100 / 0 # error\n",
    "    return 'hello'\n",
    "\n",
    "if f() or ff():\n",
    "    print('hello') # 출력: hello"
   ]
  },
  {
   "cell_type": "code",
   "execution_count": 13,
   "id": "2a712559",
   "metadata": {},
   "outputs": [
    {
     "name": "stdout",
     "output_type": "stream",
     "text": [
      "y가 더 큽니다\n"
     ]
    }
   ],
   "source": [
    "x = 5\n",
    "y = 10\n",
    "result = 'x가 더 큽니다' if x > y else 'y와 같거나 y가 더 큽니다.'\n",
    "result = \"\"\n",
    "if x > y:\n",
    "    result = 'x가 더 큽니다'\n",
    "else:\n",
    "    result = 'y가 더 큽니다'\n",
    "print(result) # 출력: 'y가 더 큽니다.'"
   ]
  },
  {
   "cell_type": "code",
   "execution_count": 15,
   "id": "6c1bdd4a",
   "metadata": {},
   "outputs": [
    {
     "name": "stdout",
     "output_type": "stream",
     "text": [
      "[0, 2, 4, 6, 8]\n"
     ]
    }
   ],
   "source": [
    "[i for i in range(10) if i % 2 == 0]\n",
    "arr = []\n",
    "for i in range(10):\n",
    "    if i % 2 == 0:\n",
    "        arr.append(i)\n",
    "print(arr)"
   ]
  },
  {
   "cell_type": "code",
   "execution_count": 16,
   "id": "4d05e972",
   "metadata": {},
   "outputs": [
    {
     "name": "stdout",
     "output_type": "stream",
     "text": [
      "Odd\n",
      "Even\n"
     ]
    }
   ],
   "source": [
    "my_function = lambda x: 'Even' if x % 2 == 0 else 'Odd'\n",
    "print(my_function(1)) # Odd\n",
    "print(my_function(2)) # Even"
   ]
  },
  {
   "cell_type": "code",
   "execution_count": 18,
   "id": "43c01fba",
   "metadata": {},
   "outputs": [
    {
     "name": "stdout",
     "output_type": "stream",
     "text": [
      "{0: 'Even', 1: 'Odd', 2: 'Even', 3: 'Odd', 4: 'Even', 5: 'Odd', 6: 'Even', 7: 'Odd', 8: 'Even', 9: 'Odd'}\n"
     ]
    }
   ],
   "source": [
    "my_dict = {x: 'Even' if x % 2 == 0 else 'Odd' for x in range(10)}\n",
    "print(my_dict)"
   ]
  },
  {
   "cell_type": "markdown",
   "id": "32976deb",
   "metadata": {},
   "source": [
    "# if, elif, else문과 중첩 조건문"
   ]
  },
  {
   "cell_type": "code",
   "execution_count": null,
   "id": "693a5a04",
   "metadata": {},
   "outputs": [],
   "source": [
    "if 조건문: # 조건문을 확인해서 만약 '참'이면 if 문 다음에 문장들은 수행합니다.\n",
    "    pass\n",
    "\t  # 수행할 문장 1\n",
    "else: # if문의 조건이 거짓이면 else 문이 실행됩니다.\n",
    "    pass"
   ]
  },
  {
   "cell_type": "code",
   "execution_count": 20,
   "id": "a06b749c",
   "metadata": {},
   "outputs": [
    {
     "name": "stdout",
     "output_type": "stream",
     "text": [
      "두 번째 값이 더 크거나 같습니다.\n"
     ]
    }
   ],
   "source": [
    "x = 3\n",
    "y = 4\n",
    "\n",
    "if x > y:\n",
    "    print('첫 번째 값이 더 큽니다.')\n",
    "else:\n",
    "    print('두 번째 값이 더 크거나 같습니다.')"
   ]
  },
  {
   "cell_type": "code",
   "execution_count": null,
   "id": "1bec9fd4",
   "metadata": {},
   "outputs": [],
   "source": [
    "# if, elif, else문의 기본구조\n",
    " \n",
    "if 조건문: # 조건문을 확인해서 만약 '참'이면 if 문 다음에 문장들은 수행합니다.\n",
    "\t  # 수행할 문장 1\n",
    "    pass\n",
    "elif 조건문: # if문의 조건이 '참'이 아니라면 elif 문의 조건문이 참이라면 수행한다.\n",
    "\t  # 수행할 문장 2\n",
    "    pass\n",
    "elif 조건문:\n",
    "    pass\n",
    "else: # 위 모든 if문, elif문의 조건이 '참'이 아니라면 수행합니다.\n",
    "\t  # 수행할 문장 3\n",
    "    pass"
   ]
  },
  {
   "cell_type": "code",
   "execution_count": 26,
   "id": "05c3a0b4",
   "metadata": {},
   "outputs": [
    {
     "name": "stdout",
     "output_type": "stream",
     "text": [
      "A\n"
     ]
    }
   ],
   "source": [
    "score = int(input(\"성적을 입력하세요 (0-100): \"))\n",
    "\n",
    "if score >= 90:\n",
    "    print(\"A\")\n",
    "elif 90 > score >= 80:\n",
    "    print(\"B\")\n",
    "elif 80 > score >= 70:\n",
    "    print(\"C\")\n",
    "elif 70 > score >= 60:\n",
    "    print(\"D\")\n",
    "else:\n",
    "    print(\"F\")"
   ]
  },
  {
   "cell_type": "code",
   "execution_count": null,
   "id": "0940d3f1",
   "metadata": {},
   "outputs": [],
   "source": [
    "score = int(input(\"성적을 입력하세요 (0-100): \"))\n",
    "\n",
    "\n",
    "if score >= 90:\n",
    "    print(\"A\")\n",
    "elif score >= 80:\n",
    "    print(\"B\")\n",
    "elif score >= 70:\n",
    "    print(\"C\")\n",
    "elif score >= 60:\n",
    "    print(\"D\")\n",
    "else:\n",
    "    print(\"F\")"
   ]
  },
  {
   "cell_type": "code",
   "execution_count": 27,
   "id": "2dba8170",
   "metadata": {},
   "outputs": [
    {
     "name": "stdout",
     "output_type": "stream",
     "text": [
      "100000\n"
     ]
    }
   ],
   "source": [
    "score = 81\n",
    "money = 0\n",
    "\n",
    "\n",
    "if score >= 90:\n",
    "    money += 1000000\n",
    "elif score >= 80:\n",
    "    money += 100000\n",
    "elif score >= 70:\n",
    "    money += 10000\n",
    "elif score >= 60:\n",
    "    money += 1000\n",
    "else:\n",
    "    money = 0\n",
    "print(money) # 출력: 100000"
   ]
  },
  {
   "cell_type": "code",
   "execution_count": 28,
   "id": "ab798235",
   "metadata": {},
   "outputs": [
    {
     "ename": "SyntaxError",
     "evalue": "invalid syntax (3101707717.py, line 2)",
     "output_type": "error",
     "traceback": [
      "  \u001b[36mCell\u001b[39m\u001b[36m \u001b[39m\u001b[32mIn[28]\u001b[39m\u001b[32m, line 2\u001b[39m\n\u001b[31m    \u001b[39m\u001b[31melse:\u001b[39m\n    ^\n\u001b[31mSyntaxError\u001b[39m\u001b[31m:\u001b[39m invalid syntax\n"
     ]
    }
   ],
   "source": [
    "score = 100\n",
    "else:\n",
    "    print('hello') # error"
   ]
  },
  {
   "cell_type": "code",
   "execution_count": null,
   "id": "fb78896a",
   "metadata": {},
   "outputs": [
    {
     "name": "stdout",
     "output_type": "stream",
     "text": [
      "영화시청\n"
     ]
    }
   ],
   "source": [
    "# if를 중첩해서 사용하기\n",
    "movie = {\n",
    "    '영화': '레미제라블',\n",
    "    '장르': '드라마',\n",
    "    '서비스': '디즈니',\n",
    "    '비용': 15000,\n",
    "    '평점': 4.9\n",
    "}\n",
    "\n",
    "\n",
    "if movie['장르'] == '드라마':\n",
    "    if movie['서비스'] == '디즈니' or movie['서비스'] == '넷플릭스':\n",
    "        if movie['평점'] >= 4.5:\n",
    "            if movie['비용'] <= 20000:\n",
    "                print('영화시청') # 출력: 영화시청\n",
    "            else:\n",
    "                pass\n",
    "        else:\n",
    "            pass\n",
    "    else:\n",
    "        print('서비스가 디즈니나 넷플릭스가 아닙니다.')\n",
    "else:\n",
    "    print(\"장르가 드라마가 아닙니다.\")"
   ]
  },
  {
   "cell_type": "code",
   "execution_count": null,
   "id": "0074aa0b",
   "metadata": {},
   "outputs": [],
   "source": [
    "# if를 중첩해서 사용하기\n",
    "# 간략해진 것 맞나요?\n",
    "movie = {\n",
    "    '영화': '레미제라블',\n",
    "    '장르': '드라마',\n",
    "    '서비스': '디즈니',\n",
    "    '비용': 15000,\n",
    "    '평점': 4.9\n",
    "}\n",
    "\n",
    "if movie['장르'] == 'SF' and (movie['서비스'] == '디즈니' or movie['서비스'] == '넷플릭스') and movie['평점'] >= 4.5 and movie['비용'] <= 20000:\n",
    "    print('영화시청') # 출력: 영화시청"
   ]
  },
  {
   "cell_type": "code",
   "execution_count": 30,
   "id": "3a51c002",
   "metadata": {},
   "outputs": [],
   "source": [
    "movie = {\n",
    "    '영화': '레미제라블',\n",
    "    '장르': '드라마',\n",
    "    '서비스': '왓챠',\n",
    "    '비용': 15000,\n",
    "    '평점': 4.9\n",
    "}\n",
    "\n",
    "if movie['장르'] == 'SF':\n",
    "    if movie['서비스'] == '디즈니' or movie['서비스'] == '넷플릭스':\n",
    "        if movie['평점'] >= 4.5 and movie['비용'] <= 20000:\n",
    "            print('영화시청')\n",
    "    else:\n",
    "        print(movie['서비스'] + ' 구독하기!') # 출력: 왓챠 구독하기!"
   ]
  },
  {
   "cell_type": "markdown",
   "id": "a4e587a2",
   "metadata": {},
   "source": [
    "# match문"
   ]
  },
  {
   "cell_type": "code",
   "execution_count": 31,
   "id": "76baea91",
   "metadata": {},
   "outputs": [
    {
     "name": "stdout",
     "output_type": "stream",
     "text": [
      "No Match\n"
     ]
    }
   ],
   "source": [
    "text = 'Hello World'\n",
    "match text:\n",
    "    case 'Hello':\n",
    "        print('Hello')\n",
    "    case 'World':\n",
    "        print('World')\n",
    "    case _:\n",
    "        print('No Match')"
   ]
  },
  {
   "cell_type": "code",
   "execution_count": 32,
   "id": "d1794877",
   "metadata": {},
   "outputs": [
    {
     "name": "stdout",
     "output_type": "stream",
     "text": [
      "World\n"
     ]
    }
   ],
   "source": [
    "text = 'World'\n",
    "match text:\n",
    "    case 'Hello':\n",
    "        print('Hello')\n",
    "    case 'World':\n",
    "        print('World')\n",
    "    case _:\n",
    "        print('No Match')"
   ]
  },
  {
   "cell_type": "code",
   "execution_count": null,
   "id": "d97df86f",
   "metadata": {},
   "outputs": [
    {
     "name": "stdout",
     "output_type": "stream",
     "text": [
      "1이 들어옴\n"
     ]
    }
   ],
   "source": [
    "text = '1'\n",
    "match text:\n",
    "    case '1':\n",
    "    case '2':\n",
    "        print('1, 2')\n",
    "    case _:\n",
    "        print('No Match')"
   ]
  },
  {
   "cell_type": "code",
   "execution_count": 39,
   "id": "22a295f2",
   "metadata": {},
   "outputs": [
    {
     "name": "stdout",
     "output_type": "stream",
     "text": [
      "1, 2, 3\n"
     ]
    }
   ],
   "source": [
    "text = '2'\n",
    "match text:\n",
    "    case '1' | '2' | '3':\n",
    "        print('1, 2, 3')\n",
    "    case _:\n",
    "        print('No Match')"
   ]
  },
  {
   "cell_type": "code",
   "execution_count": 40,
   "id": "80383459",
   "metadata": {},
   "outputs": [
    {
     "name": "stdout",
     "output_type": "stream",
     "text": [
      "One\n",
      "Two\n",
      "Three or Four\n",
      "Three or Four\n",
      "Other\n",
      "Greater than ten\n"
     ]
    }
   ],
   "source": [
    "def test(i):\n",
    "    match i:\n",
    "        case 1:\n",
    "            print('One')\n",
    "        case 2:\n",
    "            print('Two')\n",
    "        case 3 | 4:\n",
    "            print('Three or Four')\n",
    "        case _ if i > 10:\n",
    "            print('Greater than ten')\n",
    "        case _:\n",
    "            print('Other')\n",
    "\n",
    "\n",
    "test(1) # 출력: One\n",
    "test(2) # 출력: Two\n",
    "test(3) # 출력: Three or Four\n",
    "test(4) # 출력: Three or Four\n",
    "test(5) # 출력: Other\n",
    "test(15) # 출력: Greater than ten"
   ]
  },
  {
   "cell_type": "code",
   "execution_count": 41,
   "id": "16bd0c95",
   "metadata": {},
   "outputs": [
    {
     "name": "stdout",
     "output_type": "stream",
     "text": [
      "Integer\n",
      "String\n",
      "Float\n",
      "Integer\n",
      "String\n",
      "Float\n"
     ]
    }
   ],
   "source": [
    "def test(i):\n",
    "    match i:\n",
    "        case i if type(i) == int:\n",
    "            print('Integer')\n",
    "        case i if type(i) == str:\n",
    "            print('String')\n",
    "        case i if type(i) == float:\n",
    "            print('Float')\n",
    "test(1) # 출력: Integer\n",
    "test('hello') # 출력: String\n",
    "test(3.14) # 출력: Float\n",
    "\n",
    "\n",
    "#############################\n",
    "\n",
    "\n",
    "def test(i):\n",
    "    match i:\n",
    "        case _ if type(i) == int:\n",
    "            print('Integer')\n",
    "        case _ if type(i) == str:\n",
    "            print('String')\n",
    "        case _ if type(i) == float:\n",
    "            print('Float')\n",
    "test(1) # 출력: Integer\n",
    "test('hello') # 출력: String\n",
    "test(3.14) # 출력: Float"
   ]
  },
  {
   "cell_type": "code",
   "execution_count": null,
   "id": "9d0d0eb0",
   "metadata": {},
   "outputs": [
    {
     "name": "stdout",
     "output_type": "stream",
     "text": [
      "One\n",
      "Two\n",
      "Less than or equal to three\n",
      "Greater than three\n"
     ]
    }
   ],
   "source": [
    "def test(i):\n",
    "    match i:\n",
    "        case 1:\n",
    "            print('One')\n",
    "        case 2:\n",
    "            print('Two')\n",
    "        case _:\n",
    "            if i > 3:\n",
    "                print('Greater than three')\n",
    "            else:\n",
    "                print('Less than or equal to three')\n",
    "test(1) # 출력: One\n",
    "test(2) # 출력: Two\n",
    "test(3) # 출력: \n",
    "test(4) # 출력: Greater than two"
   ]
  },
  {
   "cell_type": "code",
   "execution_count": 45,
   "id": "a6b48f7d",
   "metadata": {},
   "outputs": [
    {
     "name": "stdout",
     "output_type": "stream",
     "text": [
      "value : 2\n"
     ]
    }
   ],
   "source": [
    "def test(status):\n",
    "    match status:\n",
    "        case (1 | 2 | 3) as code:\n",
    "            return f'value : {code}'\n",
    "        case _:\n",
    "            return 'hello'\n",
    "print(test(2))"
   ]
  },
  {
   "cell_type": "code",
   "execution_count": null,
   "id": "98e0a080",
   "metadata": {},
   "outputs": [
    {
     "name": "stdout",
     "output_type": "stream",
     "text": [
      "hello\n"
     ]
    },
    {
     "ename": "",
     "evalue": "",
     "output_type": "error",
     "traceback": [
      "\u001b[1;31m현재 셀 또는 이전 셀에서 코드를 실행하는 동안 Kernel이 충돌했습니다. \n",
      "\u001b[1;31m셀의 코드를 검토하여 가능한 오류 원인을 식별하세요. \n",
      "\u001b[1;31m자세한 내용을 보려면 <a href='https://aka.ms/vscodeJupyterKernelCrash'>여기</a>를 클릭하세요. \n",
      "\u001b[1;31m자세한 내용은 Jupyter <a href='command:jupyter.viewOutput'>로그</a>를 참조하세요."
     ]
    }
   ],
   "source": [
    "def test(status):\n",
    "    match status:\n",
    "        case (1 | 2 | 3) if status % 2 == 0:\n",
    "            return 'hello'\n",
    "        case _:\n",
    "            return 'world'\n",
    "print(test(2)) # 출력: world"
   ]
  },
  {
   "cell_type": "code",
   "execution_count": 1,
   "id": "73613a84",
   "metadata": {},
   "outputs": [
    {
     "name": "stdout",
     "output_type": "stream",
     "text": [
      "Collecting pandas\n",
      "  Downloading pandas-2.3.1-cp313-cp313-win_amd64.whl.metadata (19 kB)\n",
      "Requirement already satisfied: numpy>=1.26.0 in c:\\users\\elwl5\\appdata\\local\\programs\\python\\python313\\lib\\site-packages (from pandas) (2.2.5)\n",
      "Requirement already satisfied: python-dateutil>=2.8.2 in c:\\users\\elwl5\\appdata\\roaming\\python\\python313\\site-packages (from pandas) (2.9.0.post0)\n",
      "Collecting pytz>=2020.1 (from pandas)\n",
      "  Downloading pytz-2025.2-py2.py3-none-any.whl.metadata (22 kB)\n",
      "Collecting tzdata>=2022.7 (from pandas)\n",
      "  Using cached tzdata-2025.2-py2.py3-none-any.whl.metadata (1.4 kB)\n",
      "Requirement already satisfied: six>=1.5 in c:\\users\\elwl5\\appdata\\roaming\\python\\python313\\site-packages (from python-dateutil>=2.8.2->pandas) (1.17.0)\n",
      "Downloading pandas-2.3.1-cp313-cp313-win_amd64.whl (11.0 MB)\n",
      "   ---------------------------------------- 0.0/11.0 MB ? eta -:--:--\n",
      "   ------------------- -------------------- 5.2/11.0 MB 32.3 MB/s eta 0:00:01\n",
      "   ---------------------------------------- 11.0/11.0 MB 35.6 MB/s eta 0:00:00\n",
      "Downloading pytz-2025.2-py2.py3-none-any.whl (509 kB)\n",
      "Using cached tzdata-2025.2-py2.py3-none-any.whl (347 kB)\n",
      "Installing collected packages: pytz, tzdata, pandas\n",
      "Successfully installed pandas-2.3.1 pytz-2025.2 tzdata-2025.2\n"
     ]
    },
    {
     "name": "stderr",
     "output_type": "stream",
     "text": [
      "\n",
      "[notice] A new release of pip is available: 25.0.1 -> 25.2\n",
      "[notice] To update, run: python.exe -m pip install --upgrade pip\n"
     ]
    }
   ],
   "source": [
    "!pip install pandas"
   ]
  }
 ],
 "metadata": {
  "kernelspec": {
   "display_name": "Python 3",
   "language": "python",
   "name": "python3"
  },
  "language_info": {
   "codemirror_mode": {
    "name": "ipython",
    "version": 3
   },
   "file_extension": ".py",
   "mimetype": "text/x-python",
   "name": "python",
   "nbconvert_exporter": "python",
   "pygments_lexer": "ipython3",
   "version": "3.13.0"
  }
 },
 "nbformat": 4,
 "nbformat_minor": 5
}
