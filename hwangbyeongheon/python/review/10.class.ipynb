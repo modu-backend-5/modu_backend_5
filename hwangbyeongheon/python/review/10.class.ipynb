{
 "cells": [
  {
   "cell_type": "markdown",
   "id": "bf38b19d",
   "metadata": {},
   "source": [
    "# 클래스란"
   ]
  },
  {
   "cell_type": "code",
   "execution_count": null,
   "id": "d1227848",
   "metadata": {},
   "outputs": [],
   "source": [
    "class Character: # 클래스\n",
    "    def __init__(hp, mp, power, drop_rate...(생략)):\n",
    "        self.hp = hp # 데이터\n",
    "        self.mp = mp # 데이터\n",
    "        ...(생략)\n",
    " \n",
    "    def move(self): # 기능\n",
    "        ...(생략)\n",
    " \n",
    "    def attack(self): # 기능\n",
    "        ...(생략)\n",
    " \n",
    "hero = Character(100, 100, 100, 0, ...(생략)) # 인스턴스\n",
    "mob1 = Character(30, 30, 30, 0.8, ...(생략)) # 인스턴스\n",
    "mob2 = Character(50, 50, 50, 0.5, ...(생략)) # 인스턴스\n",
    "mob3 = Character(70, 70, 70, 0.3, ...(생략)) # 인스턴스\n",
    "villain = Character(100, 100, 90, 0.1, ...(생략)) # 인스턴스"
   ]
  },
  {
   "cell_type": "code",
   "execution_count": null,
   "id": "7ba27a0b",
   "metadata": {},
   "outputs": [],
   "source": [
    "# 단순화 시키긴 했으나 실제 아래와 같이 만듭니다.\n",
    "class 게시물설계도: # 클래스\n",
    "    _id = int()\n",
    "    title = str()\n",
    "    contents = str()\n",
    "    author = str()\n",
    "    create_time = str()\n",
    "    update_time = str()\n",
    "    view_count = int()\n",
    "    last_connect_location = str()\n",
    "    last_connect_time = str()\n",
    "\n",
    "    def __init__(self, _id, title, contents, author, create_time, update_time, view_count, last_connect_location, last_connect_time): # 생성자\n",
    "        self._id = _id\n",
    "        self.title = title\n",
    "        ...\n",
    " \n",
    "    def __str__(self): # 매직메서드\n",
    "        ...(생략)\n",
    " \n",
    "    def change_update_time(): # 메서드\n",
    "        ...(생략)\n",
    " \n",
    "게시물1 = 게시물설계도() # 인스턴스\n",
    "게시물2 = 게시물설계도() # 인스턴스"
   ]
  },
  {
   "cell_type": "code",
   "execution_count": 3,
   "id": "92f91838",
   "metadata": {},
   "outputs": [
    {
     "name": "stdout",
     "output_type": "stream",
     "text": [
      "차가 출발합니다!\n",
      "차가 멈췄습니다!\n",
      "<class '__main__.Car'>\n"
     ]
    }
   ],
   "source": [
    "class Car: # 차에 설계 도면 또는 차 공장, 클래스\n",
    "    count = 0         # 멤버 또는 애트리뷰트\n",
    "    max_speed = 300   # 멤버 또는 애트리뷰트\n",
    "    max_people = 5    # 멤버 또는 애트리뷰트\n",
    "\n",
    "    def start(self): # 메서드\n",
    "        print('차가 출발합니다!')\n",
    "\n",
    "    def stop(self): # 메서드\n",
    "        print('차가 멈췄습니다!')\n",
    "\n",
    "# 공장에서 생산된 자동차 modelx, modely 인스턴스\n",
    "modelx = Car() # 인스턴스 = 클래스()\n",
    "modely = Car()\n",
    "\n",
    "modelx.start()\n",
    "modelx.stop()\n",
    "print(type(modelx)) # <class '__main__.Car'>, modelx는 Car 클래스의 인스턴스"
   ]
  },
  {
   "cell_type": "code",
   "execution_count": 4,
   "id": "ca0c6bfb",
   "metadata": {},
   "outputs": [
    {
     "name": "stdout",
     "output_type": "stream",
     "text": [
      "<class 'type'>\n",
      "<class 'type'>\n",
      "<class 'type'>\n",
      "<class 'type'>\n",
      "<class 'type'>\n",
      "<class 'type'>\n"
     ]
    }
   ],
   "source": [
    "print(type(int))\n",
    "print(type(float))\n",
    "print(type(bool))\n",
    "print(type(list))\n",
    "print(type(dict))\n",
    "print(type(tuple))"
   ]
  },
  {
   "cell_type": "code",
   "execution_count": 5,
   "id": "23213f24",
   "metadata": {},
   "outputs": [
    {
     "data": {
      "text/plain": [
       "True"
      ]
     },
     "execution_count": 5,
     "metadata": {},
     "output_type": "execute_result"
    }
   ],
   "source": [
    "isinstance(modelx, Car)"
   ]
  },
  {
   "cell_type": "code",
   "execution_count": 7,
   "id": "e9792891",
   "metadata": {},
   "outputs": [
    {
     "data": {
      "text/plain": [
       "True"
      ]
     },
     "execution_count": 7,
     "metadata": {},
     "output_type": "execute_result"
    }
   ],
   "source": [
    "x = 3\n",
    "isinstance(x, int) # True"
   ]
  },
  {
   "cell_type": "markdown",
   "id": "d4c59dbf",
   "metadata": {},
   "source": [
    "# 클래스 변수와 인스턴스 변수"
   ]
  },
  {
   "cell_type": "markdown",
   "id": "52f99818",
   "metadata": {},
   "source": [
    "# 매직 메서드"
   ]
  },
  {
   "cell_type": "code",
   "execution_count": 8,
   "id": "f6b943ed",
   "metadata": {},
   "outputs": [
    {
     "name": "stdout",
     "output_type": "stream",
     "text": [
      "[30, 50, 70]\n",
      "[30, 60, 90]\n"
     ]
    },
    {
     "ename": "TypeError",
     "evalue": "int형 외에 곱을 허락하지 않습니다!",
     "output_type": "error",
     "traceback": [
      "\u001b[31m---------------------------------------------------------------------------\u001b[39m",
      "\u001b[31mTypeError\u001b[39m                                 Traceback (most recent call last)",
      "\u001b[36mCell\u001b[39m\u001b[36m \u001b[39m\u001b[32mIn[8]\u001b[39m\u001b[32m, line 22\u001b[39m\n\u001b[32m     20\u001b[39m \u001b[38;5;28mprint\u001b[39m(m1 + m2) \u001b[38;5;66;03m# 출력: [30, 50, 70]\u001b[39;00m\n\u001b[32m     21\u001b[39m \u001b[38;5;28mprint\u001b[39m(m1 * \u001b[32m3\u001b[39m) \u001b[38;5;66;03m# 출력: [30, 60, 90]\u001b[39;00m\n\u001b[32m---> \u001b[39m\u001b[32m22\u001b[39m \u001b[38;5;28mprint\u001b[39m(\u001b[43mm1\u001b[49m\u001b[43m \u001b[49m\u001b[43m*\u001b[49m\u001b[43m \u001b[49m\u001b[33;43m\"\u001b[39;49m\u001b[33;43mdd\u001b[39;49m\u001b[33;43m\"\u001b[39;49m)\n",
      "\u001b[36mCell\u001b[39m\u001b[36m \u001b[39m\u001b[32mIn[8]\u001b[39m\u001b[32m, line 15\u001b[39m, in \u001b[36mMatrix.__mul__\u001b[39m\u001b[34m(self, other)\u001b[39m\n\u001b[32m     13\u001b[39m \u001b[38;5;28;01mif\u001b[39;00m \u001b[38;5;28misinstance\u001b[39m(other, \u001b[38;5;28mint\u001b[39m):\n\u001b[32m     14\u001b[39m     \u001b[38;5;28;01mreturn\u001b[39;00m [i*other \u001b[38;5;28;01mfor\u001b[39;00m i \u001b[38;5;129;01min\u001b[39;00m \u001b[38;5;28mself\u001b[39m.value]\n\u001b[32m---> \u001b[39m\u001b[32m15\u001b[39m \u001b[38;5;28;01mraise\u001b[39;00m \u001b[38;5;167;01mTypeError\u001b[39;00m(\u001b[33m'\u001b[39m\u001b[33mint형 외에 곱을 허락하지 않습니다!\u001b[39m\u001b[33m'\u001b[39m)\n",
      "\u001b[31mTypeError\u001b[39m: int형 외에 곱을 허락하지 않습니다!"
     ]
    }
   ],
   "source": [
    "class Matrix:\n",
    "\n",
    "    def __init__(self, value):\n",
    "        self.value = value\n",
    "\n",
    "    def __add__(self, other):\n",
    "        result = []\n",
    "        for i in range(len(self.value)):\n",
    "            result.append(self.value[i] + other.value[i])\n",
    "        return result\n",
    "\n",
    "    def __mul__(self, other):\n",
    "        if isinstance(other, int):\n",
    "            return [i*other for i in self.value]\n",
    "        raise TypeError('int형 외에 곱을 허락하지 않습니다!')\n",
    "\n",
    "m1 = Matrix([10, 20, 30])\n",
    "m2 = Matrix([20, 30, 40])\n",
    "\n",
    "print(m1 + m2) # 출력: [30, 50, 70]\n",
    "print(m1 * 3) # 출력: [30, 60, 90]\n",
    "print(m1 * \"dd\")"
   ]
  },
  {
   "cell_type": "markdown",
   "id": "747b69d3",
   "metadata": {},
   "source": [
    "# 상속"
   ]
  },
  {
   "cell_type": "code",
   "execution_count": 10,
   "id": "0abe8d00",
   "metadata": {},
   "outputs": [
    {
     "name": "stdout",
     "output_type": "stream",
     "text": [
      "300\n",
      "300\n",
      "2000\n",
      "출발하였습니다.\n"
     ]
    }
   ],
   "source": [
    "class Car:\n",
    "    maxSpeed = 300\n",
    "    maxPeople = 5\n",
    "\n",
    "\n",
    "    def move(self):\n",
    "        print('출발하였습니다.')\n",
    "\n",
    "\n",
    "    def stop(self):\n",
    "        print('멈췄습니다.')\n",
    "\n",
    "\n",
    "class HybridCar(Car):\n",
    "    battery = 1000\n",
    "    batteryKM = 300\n",
    "\n",
    "\n",
    "class ElectricCar(HybridCar):\n",
    "    battery = 2000\n",
    "    batteryKM = 600\n",
    "\n",
    "\n",
    "modelx = HybridCar()\n",
    "electricCarModely = ElectricCar()\n",
    "print(modelx.maxSpeed)\n",
    "print(electricCarModely.maxSpeed)\n",
    "print(electricCarModely.battery)\n",
    "electricCarModely.move()"
   ]
  },
  {
   "cell_type": "code",
   "execution_count": null,
   "id": "a4b7c927",
   "metadata": {},
   "outputs": [],
   "source": [
    "class Character:\n",
    "    최대속력 = 100\n",
    "    최대레벨 = 50\n",
    " \n",
    "    def __init__(self, name, hp, attack, lv):\n",
    "        self.이름 = name\n",
    "        self.체력 = hp\n",
    "        self.공격력 = attack\n",
    "        self.레벨 = lv\n",
    "        self.속력 = 1\n",
    " \n",
    "    def move(self):\n",
    "        print(f'{self.이름}이(가) {self.속력}의 이동속도로 움직였습니다.')\n",
    " \n",
    "    def attack(self):\n",
    "        print(f'{self.이름}이(가) {self.공격력}의 데미지로 공격했습니다.')\n",
    " \n",
    "class Mob(Character):\n",
    "    def __init__(self, name, hp, attack, lv, droprate, dropitem):\n",
    "        super().__init__(name, hp, attack, lv)\n",
    "        self.드랍률 = droprate\n",
    "        self.드랍아이템 = dropitem\n",
    " \n",
    "# 위 코드는 아래와 같은 기능입니다.\n",
    "# class Mob(Character):\n",
    "#     def __init__(self, name, hp, attack, lv, droprate, dropitem):\n",
    "#         self.이름 = name\n",
    "#         self.체력 = hp\n",
    "#         self.공격력 = attack\n",
    "#         self.레벨 = lv\n",
    "#         self.드랍률 = droprate\n",
    "#         self.드랍아이템 = dropitem\n",
    "#         self.속력 = 1\n",
    " \n",
    "class Hero(Character):\n",
    "    def __init__(self, name, hp, attack, lv, skills, items, missions):\n",
    "        super().__init__(name, hp, attack, lv)\n",
    "        self.스킬 = skills\n",
    "        self.아이템 = items\n",
    "        self.미션 = missions\n",
    " \n",
    "    def use_skill(self, skill):\n",
    "        if skill in self.스킬:\n",
    "            print(f'{self.이름}이(가) {skill} 스킬을 사용했습니다.')\n",
    "        else:\n",
    "            print(f'{skill} 스킬을 가지고 있지 않습니다.')"
   ]
  },
  {
   "cell_type": "markdown",
   "id": "2535fbc1",
   "metadata": {},
   "source": [
    "# 다중 상속"
   ]
  },
  {
   "cell_type": "code",
   "execution_count": null,
   "id": "8e46db77",
   "metadata": {},
   "outputs": [],
   "source": [
    "class Parent:\n",
    "    pass\n",
    "\n",
    "class Child(Parent):\n",
    "    pass\n",
    "\n",
    "class GrandChild(Child):\n",
    "    pass"
   ]
  },
  {
   "cell_type": "code",
   "execution_count": null,
   "id": "9c1beee9",
   "metadata": {},
   "outputs": [],
   "source": [
    "class Parent1:\n",
    "    pass\n",
    " \n",
    "class Parent2:\n",
    "    pass\n",
    " \n",
    "class Child(Parent1, Parent2):\n",
    "    pass"
   ]
  },
  {
   "cell_type": "code",
   "execution_count": 12,
   "id": "554aca4d",
   "metadata": {},
   "outputs": [
    {
     "name": "stdout",
     "output_type": "stream",
     "text": [
      "[<class '__main__.D'>, <class '__main__.B'>, <class '__main__.C'>, <class '__main__.A'>, <class 'object'>]\n",
      "B method\n"
     ]
    }
   ],
   "source": [
    "class A:\n",
    "    def method(self):\n",
    "        print(\"A method\")\n",
    "\n",
    "\n",
    "class B(A):\n",
    "    def method(self):\n",
    "        print(\"B method\")\n",
    "\n",
    "\n",
    "class C(A):\n",
    "    def method(self):\n",
    "        print(\"C method\")\n",
    "\n",
    "\n",
    "class D(B, C):\n",
    "    pass\n",
    "\n",
    "\n",
    "obj = D()\n",
    "print(D.mro()) # 출력: [<class '__main__.D'>, <class '__main__.B'>, <class '__main__.C'>, <class '__main__.A'>, <class 'object'>]\n",
    "obj.method()  # 출력: B method"
   ]
  },
  {
   "cell_type": "code",
   "execution_count": 13,
   "id": "478afa24",
   "metadata": {},
   "outputs": [
    {
     "ename": "TypeError",
     "evalue": "Cannot create a consistent method resolution order (MRO) for bases HybridCar, ElectricCar",
     "output_type": "error",
     "traceback": [
      "\u001b[31m---------------------------------------------------------------------------\u001b[39m",
      "\u001b[31mTypeError\u001b[39m                                 Traceback (most recent call last)",
      "\u001b[36mCell\u001b[39m\u001b[36m \u001b[39m\u001b[32mIn[13]\u001b[39m\u001b[32m, line 13\u001b[39m\n\u001b[32m      9\u001b[39m \u001b[38;5;28;01mclass\u001b[39;00m\u001b[38;5;250m \u001b[39m\u001b[34;01mElectricCar\u001b[39;00m(HybridCar):\n\u001b[32m     10\u001b[39m     \u001b[38;5;28;01mpass\u001b[39;00m\n\u001b[32m---> \u001b[39m\u001b[32m13\u001b[39m \u001b[38;5;28;43;01mclass\u001b[39;49;00m\u001b[38;5;250;43m \u001b[39;49m\u001b[34;43;01mHybridElectricCar\u001b[39;49;00m\u001b[43m(\u001b[49m\u001b[43mHybridCar\u001b[49m\u001b[43m,\u001b[49m\u001b[43m \u001b[49m\u001b[43mElectricCar\u001b[49m\u001b[43m)\u001b[49m\u001b[43m:\u001b[49m\n\u001b[32m     14\u001b[39m \u001b[43m    \u001b[49m\u001b[38;5;28;43;01mpass\u001b[39;49;00m\n\u001b[32m     17\u001b[39m modelz = HybridElectricCar()\n",
      "\u001b[31mTypeError\u001b[39m: Cannot create a consistent method resolution order (MRO) for bases HybridCar, ElectricCar"
     ]
    }
   ],
   "source": [
    "class Car(object):\n",
    "    pass\n",
    "\n",
    "\n",
    "class HybridCar(Car):\n",
    "    pass\n",
    "\n",
    "\n",
    "class ElectricCar(HybridCar):\n",
    "    pass\n",
    "\n",
    "\n",
    "class HybridElectricCar(HybridCar, ElectricCar):\n",
    "    pass\n",
    "\n",
    "\n",
    "modelz = HybridElectricCar()"
   ]
  },
  {
   "cell_type": "markdown",
   "id": "7b8bfbf8",
   "metadata": {},
   "source": [
    "# 클래스 심화"
   ]
  },
  {
   "cell_type": "code",
   "execution_count": 14,
   "id": "a22df1a0",
   "metadata": {},
   "outputs": [
    {
     "name": "stdout",
     "output_type": "stream",
     "text": [
      "1\n"
     ]
    }
   ],
   "source": [
    "class MyClass:\n",
    "    count = 0\n",
    "\n",
    "    @classmethod\n",
    "    def increment(cls):\n",
    "        cls.count += 1\n",
    "\n",
    "MyClass.increment()\n",
    "print(MyClass.count)"
   ]
  },
  {
   "cell_type": "code",
   "execution_count": 15,
   "id": "a52cc77e",
   "metadata": {},
   "outputs": [
    {
     "name": "stdout",
     "output_type": "stream",
     "text": [
      "8\n"
     ]
    }
   ],
   "source": [
    "class MyClass:\n",
    "    @staticmethod\n",
    "    def my_method(x, y):\n",
    "        return x + y\n",
    "\n",
    "print(MyClass.my_method(5, 3))"
   ]
  },
  {
   "cell_type": "code",
   "execution_count": null,
   "id": "1a64ce35",
   "metadata": {},
   "outputs": [
    {
     "name": "stdout",
     "output_type": "stream",
     "text": [
      "li\n",
      "cat\n",
      "licat\n"
     ]
    }
   ],
   "source": [
    "class Person:\n",
    "    def __init__(self, first_name, last_name):\n",
    "        self._first_name = first_name\n",
    "        self._last_name = last_name\n",
    "\n",
    "    @property\n",
    "    def full_name(self):\n",
    "        return f'{self._first_name}{self._last_name}'\n",
    "\n",
    "licat = Person('li', 'cat')\n",
    "print(licat._first_name)\n",
    "print(licat._last_name)\n",
    "print(licat.full_name)"
   ]
  },
  {
   "cell_type": "code",
   "execution_count": 19,
   "id": "78fca811",
   "metadata": {},
   "outputs": [
    {
     "ename": "ValueError",
     "evalue": "나이는 음수일 수 없습니다.",
     "output_type": "error",
     "traceback": [
      "\u001b[31m---------------------------------------------------------------------------\u001b[39m",
      "\u001b[31mValueError\u001b[39m                                Traceback (most recent call last)",
      "\u001b[36mCell\u001b[39m\u001b[36m \u001b[39m\u001b[32mIn[19]\u001b[39m\u001b[32m, line 20\u001b[39m\n\u001b[32m     17\u001b[39m person = Person(\u001b[33m\"\u001b[39m\u001b[33m홍길동\u001b[39m\u001b[33m\"\u001b[39m)\n\u001b[32m     19\u001b[39m \u001b[38;5;66;03m# age 속성 설정\u001b[39;00m\n\u001b[32m---> \u001b[39m\u001b[32m20\u001b[39m \u001b[43mperson\u001b[49m\u001b[43m.\u001b[49m\u001b[43mage\u001b[49m = -\u001b[32m1\u001b[39m\n\u001b[32m     21\u001b[39m \u001b[38;5;28mprint\u001b[39m(\u001b[33mf\u001b[39m\u001b[33m\"\u001b[39m\u001b[38;5;132;01m{\u001b[39;00mperson.name\u001b[38;5;132;01m}\u001b[39;00m\u001b[33m의 나이는 \u001b[39m\u001b[38;5;132;01m{\u001b[39;00mperson.age\u001b[38;5;132;01m}\u001b[39;00m\u001b[33m세입니다.\u001b[39m\u001b[33m\"\u001b[39m)\n",
      "\u001b[36mCell\u001b[39m\u001b[36m \u001b[39m\u001b[32mIn[19]\u001b[39m\u001b[32m, line 13\u001b[39m, in \u001b[36mPerson.age\u001b[39m\u001b[34m(self, value)\u001b[39m\n\u001b[32m     10\u001b[39m \u001b[38;5;129m@age\u001b[39m.setter\n\u001b[32m     11\u001b[39m \u001b[38;5;28;01mdef\u001b[39;00m\u001b[38;5;250m \u001b[39m\u001b[34mage\u001b[39m(\u001b[38;5;28mself\u001b[39m, value):\n\u001b[32m     12\u001b[39m     \u001b[38;5;28;01mif\u001b[39;00m value < \u001b[32m0\u001b[39m:\n\u001b[32m---> \u001b[39m\u001b[32m13\u001b[39m         \u001b[38;5;28;01mraise\u001b[39;00m \u001b[38;5;167;01mValueError\u001b[39;00m(\u001b[33m\"\u001b[39m\u001b[33m나이는 음수일 수 없습니다.\u001b[39m\u001b[33m\"\u001b[39m)\n\u001b[32m     14\u001b[39m     \u001b[38;5;28mself\u001b[39m._age = value\n",
      "\u001b[31mValueError\u001b[39m: 나이는 음수일 수 없습니다."
     ]
    }
   ],
   "source": [
    "class Person:\n",
    "    def __init__(self, name):\n",
    "        self.name = name\n",
    "        self._age = 0\n",
    "\n",
    "    @property\n",
    "    def age(self):\n",
    "        return self._age\n",
    "\n",
    "    @age.setter\n",
    "    def age(self, value):\n",
    "        if value < 0:\n",
    "            raise ValueError(\"나이는 음수일 수 없습니다.\")\n",
    "        self._age = value\n",
    "\n",
    "# 사용 예제\n",
    "person = Person(\"홍길동\")\n",
    "\n",
    "# age 속성 설정\n",
    "person.age = -1\n",
    "print(f\"{person.name}의 나이는 {person.age}세입니다.\")"
   ]
  },
  {
   "cell_type": "markdown",
   "id": "5014e8da",
   "metadata": {},
   "source": [
    "# 메서드 오버라이딩"
   ]
  },
  {
   "cell_type": "code",
   "execution_count": 23,
   "id": "3076d95b",
   "metadata": {},
   "outputs": [
    {
     "name": "stdout",
     "output_type": "stream",
     "text": [
      "기본 동물 울음 소리, 악!\n",
      "짹짹!\n"
     ]
    }
   ],
   "source": [
    "class Animal:\n",
    "    def sound(self):\n",
    "        print(\"기본 동물 울음 소리, 악!\")\n",
    "\n",
    "class Dog(Animal):\n",
    "    def sound(self):\n",
    "        print(\"왈왈!\")\n",
    " \n",
    "class Cat(Animal):\n",
    "    def sound(self):\n",
    "        print(\"냐옹!\")\n",
    "\n",
    "dog = Dog()\n",
    "cat = Cat()\n",
    "\n",
    "# dog.sound()\n",
    "# cat.sound()\n",
    "# Animal().sound()  # 기본 동물 울음 소리, 악!\n",
    "\n",
    "class Bird(Animal):\n",
    "    def sound(self):\n",
    "        super().sound()\n",
    "        print(\"짹짹!\")\n",
    "\n",
    "bird = Bird()\n",
    "bird.sound()"
   ]
  },
  {
   "cell_type": "code",
   "execution_count": 24,
   "id": "6cf65b5c",
   "metadata": {},
   "outputs": [
    {
     "name": "stdout",
     "output_type": "stream",
     "text": [
      "Alice\n",
      "S12345\n"
     ]
    }
   ],
   "source": [
    "class Person:\n",
    "    def __init__(self, name):\n",
    "        self.name = name\n",
    "\n",
    "class Student(Person):\n",
    "    def __init__(self, name, student_id):\n",
    "        super().__init__(name)  # 부모 클래스의 __init__ 메서드 호출\n",
    "        self.student_id = student_id\n",
    "\n",
    "s = Student(\"Alice\", \"S12345\")\n",
    "print(s.name)        # 출력: Alice\n",
    "print(s.student_id)  # 출력: S12345"
   ]
  },
  {
   "cell_type": "markdown",
   "id": "382340b6",
   "metadata": {},
   "source": [
    "# 비공개 속성"
   ]
  },
  {
   "cell_type": "code",
   "execution_count": 33,
   "id": "400b9568",
   "metadata": {},
   "outputs": [
    {
     "data": {
      "text/plain": [
       "30"
      ]
     },
     "execution_count": 33,
     "metadata": {},
     "output_type": "execute_result"
    }
   ],
   "source": [
    "class MyClass:\n",
    "    __a = 10\n",
    "    _a = 100\n",
    "    b = 20\n",
    "\n",
    "    def __init__(self, c, d):\n",
    "        self.__c = c\n",
    "        self.d = d\n",
    "\n",
    "c = MyClass(30, 40)\n",
    "# c.__a #error\n",
    "# c._a # 출력: 100\n",
    "# c.b # 출력: 20\n",
    "# c.__c # error\n",
    "# c.d # 출력: 40\n",
    "c._MyClass__c"
   ]
  },
  {
   "cell_type": "markdown",
   "id": "1e7d49d0",
   "metadata": {},
   "source": [
    "# 상수 선언"
   ]
  },
  {
   "cell_type": "code",
   "execution_count": null,
   "id": "01d40760",
   "metadata": {},
   "outputs": [],
   "source": [
    "# 상수 선언\n",
    "PI = 3.14159\n",
    "MAX_SIZE = 1024\n",
    "DEFAULT_COLOR = 'red'"
   ]
  },
  {
   "cell_type": "code",
   "execution_count": null,
   "id": "75b0c99a",
   "metadata": {},
   "outputs": [
    {
     "name": "stdout",
     "output_type": "stream",
     "text": [
      "Color.RED\n",
      "Color.GREEN\n",
      "Color.BLUE\n"
     ]
    },
    {
     "ename": "",
     "evalue": "",
     "output_type": "error",
     "traceback": [
      "\u001b[1;31m현재 셀 또는 이전 셀에서 코드를 실행하는 동안 Kernel이 충돌했습니다. \n",
      "\u001b[1;31m셀의 코드를 검토하여 가능한 오류 원인을 식별하세요. \n",
      "\u001b[1;31m자세한 내용을 보려면 <a href='https://aka.ms/vscodeJupyterKernelCrash'>여기</a>를 클릭하세요. \n",
      "\u001b[1;31m자세한 내용은 Jupyter <a href='command:jupyter.viewOutput'>로그</a>를 참조하세요."
     ]
    }
   ],
   "source": [
    "from enum import Enum\n",
    "\n",
    "\n",
    "class Color(Enum):\n",
    "    RED = 1\n",
    "    GREEN = 2\n",
    "    BLUE = 3\n",
    "\n",
    "for color in Color:\n",
    "    print(color)"
   ]
  }
 ],
 "metadata": {
  "kernelspec": {
   "display_name": "Python 3",
   "language": "python",
   "name": "python3"
  },
  "language_info": {
   "codemirror_mode": {
    "name": "ipython",
    "version": 3
   },
   "file_extension": ".py",
   "mimetype": "text/x-python",
   "name": "python",
   "nbconvert_exporter": "python",
   "pygments_lexer": "ipython3",
   "version": "3.13.0"
  }
 },
 "nbformat": 4,
 "nbformat_minor": 5
}
