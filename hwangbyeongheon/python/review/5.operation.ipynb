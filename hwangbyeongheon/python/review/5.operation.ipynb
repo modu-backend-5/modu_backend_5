{
 "cells": [
  {
   "cell_type": "markdown",
   "id": "6409035e",
   "metadata": {},
   "source": [
    "# 산술연산"
   ]
  },
  {
   "cell_type": "code",
   "execution_count": 1,
   "id": "fab83e11",
   "metadata": {},
   "outputs": [
    {
     "name": "stdout",
     "output_type": "stream",
     "text": [
      "8\n",
      "5.5\n"
     ]
    }
   ],
   "source": [
    "print(5 + 3) # 결과: 8\n",
    "print(3 + 2.5) # 결과: 5.5"
   ]
  },
  {
   "cell_type": "code",
   "execution_count": 3,
   "id": "f68b6b2c",
   "metadata": {},
   "outputs": [
    {
     "name": "stdout",
     "output_type": "stream",
     "text": [
      "Hello World\n"
     ]
    }
   ],
   "source": [
    "s1 = \"Hello\"\n",
    "s2 = \"World\"\n",
    "result = s1 + \" \" + s2\n",
    "print(result)  # Hello World"
   ]
  },
  {
   "cell_type": "code",
   "execution_count": 4,
   "id": "bb57358f",
   "metadata": {},
   "outputs": [
    {
     "name": "stdout",
     "output_type": "stream",
     "text": [
      "[1, 2, 3, 4, 5, 6]\n"
     ]
    }
   ],
   "source": [
    "list1 = [1, 2, 3]\n",
    "list2 = [4, 5, 6]\n",
    "combined_list = list1 + list2\n",
    "print(combined_list)  # [1, 2, 3, 4, 5, 6]"
   ]
  },
  {
   "cell_type": "code",
   "execution_count": 5,
   "id": "060f9455",
   "metadata": {},
   "outputs": [
    {
     "name": "stdout",
     "output_type": "stream",
     "text": [
      "(1, 2, 3, 4, 5, 6)\n"
     ]
    }
   ],
   "source": [
    "tuple1 = (1, 2, 3)\n",
    "tuple2 = (4, 5, 6)\n",
    "combined_tuple = tuple1 + tuple2\n",
    "print(combined_tuple)  # (1, 2, 3, 4, 5, 6)"
   ]
  },
  {
   "cell_type": "code",
   "execution_count": 6,
   "id": "43bcb050",
   "metadata": {},
   "outputs": [
    {
     "ename": "TypeError",
     "evalue": "can only concatenate str (not \"int\") to str",
     "output_type": "error",
     "traceback": [
      "\u001b[31m---------------------------------------------------------------------------\u001b[39m",
      "\u001b[31mTypeError\u001b[39m                                 Traceback (most recent call last)",
      "\u001b[36mCell\u001b[39m\u001b[36m \u001b[39m\u001b[32mIn[6]\u001b[39m\u001b[32m, line 1\u001b[39m\n\u001b[32m----> \u001b[39m\u001b[32m1\u001b[39m result = \u001b[33;43m\"\u001b[39;49m\u001b[33;43mHello\u001b[39;49m\u001b[33;43m\"\u001b[39;49m\u001b[43m \u001b[49m\u001b[43m+\u001b[49m\u001b[43m \u001b[49m\u001b[32;43m5\u001b[39;49m\n",
      "\u001b[31mTypeError\u001b[39m: can only concatenate str (not \"int\") to str"
     ]
    }
   ],
   "source": [
    "result = \"Hello\" + 5"
   ]
  },
  {
   "cell_type": "code",
   "execution_count": 8,
   "id": "a3175080",
   "metadata": {},
   "outputs": [
    {
     "ename": "TypeError",
     "evalue": "unsupported operand type(s) for +: 'set' and 'set'",
     "output_type": "error",
     "traceback": [
      "\u001b[31m---------------------------------------------------------------------------\u001b[39m",
      "\u001b[31mTypeError\u001b[39m                                 Traceback (most recent call last)",
      "\u001b[36mCell\u001b[39m\u001b[36m \u001b[39m\u001b[32mIn[8]\u001b[39m\u001b[32m, line 2\u001b[39m\n\u001b[32m      1\u001b[39m \u001b[38;5;66;03m# {'one':1} + {'two':2} # error\u001b[39;00m\n\u001b[32m----> \u001b[39m\u001b[32m2\u001b[39m \u001b[43m{\u001b[49m\u001b[32;43m5\u001b[39;49m\u001b[43m}\u001b[49m\u001b[43m \u001b[49m\u001b[43m+\u001b[49m\u001b[43m \u001b[49m\u001b[43m{\u001b[49m\u001b[32;43m6\u001b[39;49m\u001b[43m}\u001b[49m \u001b[38;5;66;03m# error\u001b[39;00m\n",
      "\u001b[31mTypeError\u001b[39m: unsupported operand type(s) for +: 'set' and 'set'"
     ]
    }
   ],
   "source": [
    "# {'one':1} + {'two':2} # error\n",
    "{5} + {6} # error"
   ]
  },
  {
   "cell_type": "code",
   "execution_count": null,
   "id": "f7ecee7a",
   "metadata": {},
   "outputs": [
    {
     "name": "stdout",
     "output_type": "stream",
     "text": [
      "{'one': 1, 'two': 2}\n",
      "{5, 6}\n"
     ]
    }
   ],
   "source": [
    "print({'one':1} | {'two':2}) # 결과: {'one': 1, 'two': 2}\n",
    "print({5} | {6}) # 결과: {5, 6}\n",
    "# shift + \\\n",
    "# |"
   ]
  },
  {
   "cell_type": "code",
   "execution_count": 10,
   "id": "1db917bd",
   "metadata": {},
   "outputs": [
    {
     "name": "stdout",
     "output_type": "stream",
     "text": [
      "3\n",
      "6.5\n",
      "8\n"
     ]
    }
   ],
   "source": [
    "print(7 - 4) # 결과: 3\n",
    "print(10 - 3.5) # 결과: 6.5\n",
    "print(5 - (-3)) # 결과: 8"
   ]
  },
  {
   "cell_type": "code",
   "execution_count": 12,
   "id": "14ab189c",
   "metadata": {},
   "outputs": [
    {
     "data": {
      "text/plain": [
       "{3, 5}"
      ]
     },
     "execution_count": 12,
     "metadata": {},
     "output_type": "execute_result"
    }
   ],
   "source": [
    "{3, 4, 5} - {4} # 결과: {3, 5}\n",
    "{3, 4, 5}.difference({4}) # 결과: {3, 5}"
   ]
  },
  {
   "cell_type": "code",
   "execution_count": 13,
   "id": "a2f7dd8a",
   "metadata": {},
   "outputs": [
    {
     "ename": "TypeError",
     "evalue": "unsupported operand type(s) for -: 'str' and 'int'",
     "output_type": "error",
     "traceback": [
      "\u001b[31m---------------------------------------------------------------------------\u001b[39m",
      "\u001b[31mTypeError\u001b[39m                                 Traceback (most recent call last)",
      "\u001b[36mCell\u001b[39m\u001b[36m \u001b[39m\u001b[32mIn[13]\u001b[39m\u001b[32m, line 1\u001b[39m\n\u001b[32m----> \u001b[39m\u001b[32m1\u001b[39m result = \u001b[33;43m\"\u001b[39;49m\u001b[33;43mHello\u001b[39;49m\u001b[33;43m\"\u001b[39;49m\u001b[43m \u001b[49m\u001b[43m-\u001b[49m\u001b[43m \u001b[49m\u001b[32;43m3\u001b[39;49m \u001b[38;5;66;03m# error\u001b[39;00m\n",
      "\u001b[31mTypeError\u001b[39m: unsupported operand type(s) for -: 'str' and 'int'"
     ]
    }
   ],
   "source": [
    "result = \"Hello\" - 3 # error"
   ]
  },
  {
   "cell_type": "code",
   "execution_count": 15,
   "id": "0177b656",
   "metadata": {},
   "outputs": [
    {
     "name": "stdout",
     "output_type": "stream",
     "text": [
      "3\n",
      "11\n",
      "3\n",
      "11\n"
     ]
    }
   ],
   "source": [
    "print(7 - 4) # 결과: 3\n",
    "print(7 -- 4) # 결과: 11\n",
    "print(7 --- 4) # 결과: 3\n",
    "print(7 ---- 4) # 결과: 11"
   ]
  },
  {
   "cell_type": "code",
   "execution_count": 16,
   "id": "af038850",
   "metadata": {},
   "outputs": [
    {
     "name": "stdout",
     "output_type": "stream",
     "text": [
      "12\n",
      "12.5\n"
     ]
    }
   ],
   "source": [
    "print(3 * 4) # 결과: 12\n",
    "print(5 * 2.5) # 결과: 12.5"
   ]
  },
  {
   "cell_type": "code",
   "execution_count": 17,
   "id": "c46f900b",
   "metadata": {},
   "outputs": [
    {
     "name": "stdout",
     "output_type": "stream",
     "text": [
      "HaHaHa\n"
     ]
    }
   ],
   "source": [
    "print(\"Ha\" * 3) # 출력: \"HaHaHa\"\n",
    "# print(\"Ha\" * 3.1) # Error"
   ]
  },
  {
   "cell_type": "code",
   "execution_count": 18,
   "id": "ef56e42a",
   "metadata": {},
   "outputs": [
    {
     "name": "stdout",
     "output_type": "stream",
     "text": [
      "[1, 2, 3, 1, 2, 3]\n"
     ]
    }
   ],
   "source": [
    "print([1, 2, 3] * 2) # 출력: [1, 2, 3, 1, 2, 3]"
   ]
  },
  {
   "cell_type": "code",
   "execution_count": 19,
   "id": "a366d87d",
   "metadata": {},
   "outputs": [
    {
     "name": "stdout",
     "output_type": "stream",
     "text": [
      "5.0\n",
      "5\n"
     ]
    }
   ],
   "source": [
    "a = 10\n",
    "b = 2\n",
    "print(a / b) # 결과 5.0\n",
    "print(a // b) # 결과 5"
   ]
  },
  {
   "cell_type": "code",
   "execution_count": 20,
   "id": "9a9dfa74",
   "metadata": {},
   "outputs": [
    {
     "name": "stdout",
     "output_type": "stream",
     "text": [
      "-2.5\n",
      "-3\n"
     ]
    }
   ],
   "source": [
    "a = -5\n",
    "b = 2\n",
    "print(a / b) # 결과: -2.5\n",
    "print(a // b) # 결과: -3"
   ]
  },
  {
   "cell_type": "code",
   "execution_count": 22,
   "id": "3f4c0e37",
   "metadata": {},
   "outputs": [
    {
     "ename": "ZeroDivisionError",
     "evalue": "division by zero",
     "output_type": "error",
     "traceback": [
      "\u001b[31m---------------------------------------------------------------------------\u001b[39m",
      "\u001b[31mZeroDivisionError\u001b[39m                         Traceback (most recent call last)",
      "\u001b[36mCell\u001b[39m\u001b[36m \u001b[39m\u001b[32mIn[22]\u001b[39m\u001b[32m, line 2\u001b[39m\n\u001b[32m      1\u001b[39m z = \u001b[32m0\u001b[39m\n\u001b[32m----> \u001b[39m\u001b[32m2\u001b[39m \u001b[32;43m10\u001b[39;49m\u001b[43m \u001b[49m\u001b[43m/\u001b[49m\u001b[43m \u001b[49m\u001b[43mz\u001b[49m \u001b[38;5;66;03m# ZeroDivisionError 발생\u001b[39;00m\n",
      "\u001b[31mZeroDivisionError\u001b[39m: division by zero"
     ]
    }
   ],
   "source": [
    "z = 0\n",
    "10 / z # ZeroDivisionError 발생"
   ]
  },
  {
   "cell_type": "code",
   "execution_count": 23,
   "id": "1676a463",
   "metadata": {},
   "outputs": [
    {
     "name": "stdout",
     "output_type": "stream",
     "text": [
      "10 ÷ 3 = 3.33\n"
     ]
    }
   ],
   "source": [
    "a = 10\n",
    "b = 3\n",
    "divide = a / b\n",
    "print(f'{a} ÷ {b} = {divide:.2f}')  # 결과: 10 ÷ 3 = 3.33"
   ]
  },
  {
   "cell_type": "code",
   "execution_count": 24,
   "id": "479478e0",
   "metadata": {},
   "outputs": [
    {
     "data": {
      "text/plain": [
       "1"
      ]
     },
     "execution_count": 24,
     "metadata": {},
     "output_type": "execute_result"
    }
   ],
   "source": [
    "10 % 3"
   ]
  },
  {
   "cell_type": "code",
   "execution_count": 25,
   "id": "fc2ef724",
   "metadata": {},
   "outputs": [
    {
     "data": {
      "text/plain": [
       "False"
      ]
     },
     "execution_count": 25,
     "metadata": {},
     "output_type": "execute_result"
    }
   ],
   "source": [
    "10 % 2 == 0\n",
    "10 % 2 != 0"
   ]
  },
  {
   "cell_type": "code",
   "execution_count": 26,
   "id": "3f0c1a25",
   "metadata": {},
   "outputs": [
    {
     "data": {
      "text/plain": [
       "False"
      ]
     },
     "execution_count": 26,
     "metadata": {},
     "output_type": "execute_result"
    }
   ],
   "source": [
    "365 % 10 == 0 # 1의 자리 반환"
   ]
  },
  {
   "cell_type": "code",
   "execution_count": 27,
   "id": "31508308",
   "metadata": {},
   "outputs": [
    {
     "data": {
      "text/plain": [
       "1000"
      ]
     },
     "execution_count": 27,
     "metadata": {},
     "output_type": "execute_result"
    }
   ],
   "source": [
    "10 ** 3"
   ]
  },
  {
   "cell_type": "code",
   "execution_count": 28,
   "id": "58fba984",
   "metadata": {},
   "outputs": [
    {
     "data": {
      "text/plain": [
       "2.0"
      ]
     },
     "execution_count": 28,
     "metadata": {},
     "output_type": "execute_result"
    }
   ],
   "source": [
    "4 ** 0.5 # 결과: 2"
   ]
  },
  {
   "cell_type": "code",
   "execution_count": null,
   "id": "21993fc7",
   "metadata": {},
   "outputs": [
    {
     "data": {
      "text/plain": [
       "4"
      ]
     },
     "execution_count": 30,
     "metadata": {},
     "output_type": "execute_result"
    }
   ],
   "source": [
    "(-2) ** 2"
   ]
  },
  {
   "cell_type": "code",
   "execution_count": 31,
   "id": "41f8503f",
   "metadata": {},
   "outputs": [
    {
     "data": {
      "text/plain": [
       "10"
      ]
     },
     "execution_count": 31,
     "metadata": {},
     "output_type": "execute_result"
    }
   ],
   "source": [
    "a = 10\n",
    "++a"
   ]
  },
  {
   "cell_type": "markdown",
   "id": "c3504767",
   "metadata": {},
   "source": [
    "# 비교연산"
   ]
  },
  {
   "cell_type": "code",
   "execution_count": 32,
   "id": "8ef39f1f",
   "metadata": {},
   "outputs": [
    {
     "name": "stdout",
     "output_type": "stream",
     "text": [
      "True\n"
     ]
    }
   ],
   "source": [
    "print(5 == 5) # 결과: True\n",
    "# print(5 = 5) # 잘못된 예시"
   ]
  },
  {
   "cell_type": "code",
   "execution_count": 33,
   "id": "d2d83f1c",
   "metadata": {},
   "outputs": [
    {
     "name": "stdout",
     "output_type": "stream",
     "text": [
      "True\n"
     ]
    }
   ],
   "source": [
    "print(5 != 3) # 결과: True"
   ]
  },
  {
   "cell_type": "code",
   "execution_count": 34,
   "id": "c9319eb7",
   "metadata": {},
   "outputs": [
    {
     "name": "stdout",
     "output_type": "stream",
     "text": [
      "True\n",
      "True\n"
     ]
    }
   ],
   "source": [
    "print(5 <= 5) # 결과: True\n",
    "print(3 <= 5) # 결과: True"
   ]
  },
  {
   "cell_type": "code",
   "execution_count": 35,
   "id": "b9cf3aa5",
   "metadata": {},
   "outputs": [
    {
     "name": "stdout",
     "output_type": "stream",
     "text": [
      "True\n"
     ]
    }
   ],
   "source": [
    "print(6 > 5)"
   ]
  },
  {
   "cell_type": "code",
   "execution_count": 36,
   "id": "c69c3306",
   "metadata": {},
   "outputs": [
    {
     "name": "stdout",
     "output_type": "stream",
     "text": [
      "True\n"
     ]
    }
   ],
   "source": [
    "print(5 >= 5) # 결과: True"
   ]
  },
  {
   "cell_type": "code",
   "execution_count": 37,
   "id": "704e9830",
   "metadata": {},
   "outputs": [
    {
     "name": "stdout",
     "output_type": "stream",
     "text": [
      "True\n"
     ]
    }
   ],
   "source": [
    "print('apple' < 'banana') # 결과: True"
   ]
  },
  {
   "cell_type": "code",
   "execution_count": 38,
   "id": "7ae2a018",
   "metadata": {},
   "outputs": [
    {
     "name": "stdout",
     "output_type": "stream",
     "text": [
      "False\n"
     ]
    }
   ],
   "source": [
    "print('하하' > '후후') # 결과: False"
   ]
  },
  {
   "cell_type": "code",
   "execution_count": 39,
   "id": "518ac33c",
   "metadata": {},
   "outputs": [
    {
     "name": "stdout",
     "output_type": "stream",
     "text": [
      "True\n"
     ]
    }
   ],
   "source": [
    "x = 10\n",
    "print(5 < x < 15) # 결과: True"
   ]
  },
  {
   "cell_type": "code",
   "execution_count": 40,
   "id": "bf95e9e2",
   "metadata": {},
   "outputs": [
    {
     "data": {
      "text/plain": [
       "False"
      ]
     },
     "execution_count": 40,
     "metadata": {},
     "output_type": "execute_result"
    }
   ],
   "source": [
    "[10, 20, 30] > [20, 30, 40] # False"
   ]
  },
  {
   "cell_type": "code",
   "execution_count": 42,
   "id": "23eb0ea8",
   "metadata": {},
   "outputs": [
    {
     "data": {
      "text/plain": [
       "True"
      ]
     },
     "execution_count": 42,
     "metadata": {},
     "output_type": "execute_result"
    }
   ],
   "source": [
    "'abcde' > 'abcda' # True"
   ]
  },
  {
   "cell_type": "code",
   "execution_count": null,
   "id": "64e03052",
   "metadata": {},
   "outputs": [
    {
     "data": {
      "text/plain": [
       "False"
      ]
     },
     "execution_count": 46,
     "metadata": {},
     "output_type": "execute_result"
    }
   ],
   "source": [
    "'abcd' < 'abcda'"
   ]
  },
  {
   "cell_type": "code",
   "execution_count": 49,
   "id": "df296b15",
   "metadata": {},
   "outputs": [
    {
     "name": "stdout",
     "output_type": "stream",
     "text": [
      "0.30000000000000004\n",
      "False\n",
      "True\n",
      "False\n",
      "False\n",
      "False\n"
     ]
    }
   ],
   "source": [
    "import math\n",
    "\n",
    "result = 0.1 + 0.2\n",
    "print(result)\n",
    "print(result == 0.3)              # False\n",
    "print(math.isclose(result, 0.3))  # True\n",
    "print(math.isclose(result, 0.29)) # False\n",
    "print(math.isclose(result, 0.31)) # False\n",
    "print(math.isclose(result, 0.30000001)) # False"
   ]
  },
  {
   "cell_type": "markdown",
   "id": "158e37d1",
   "metadata": {},
   "source": [
    "# 논리연산"
   ]
  },
  {
   "cell_type": "code",
   "execution_count": 50,
   "id": "e4e7093a",
   "metadata": {},
   "outputs": [
    {
     "name": "stdout",
     "output_type": "stream",
     "text": [
      "True\n",
      "False\n",
      "False\n",
      "False\n"
     ]
    }
   ],
   "source": [
    "# and 두가지 조건이 모두 참일때만 True\n",
    "# 예 5 > 3 and 4 > 3 -> True\n",
    "# 하나라도 조건이 틀리면 False\n",
    "# 값이 같더라도 ID가 달라서 False 여러가지 상황이 있다.\n",
    "\n",
    "print(True and True)   # 결과: True\n",
    "print(True and False)  # 결과: False\n",
    "print(False and True)  # 결과: False\n",
    "print(False and False) # 결과: False"
   ]
  },
  {
   "cell_type": "code",
   "execution_count": null,
   "id": "7ad7adfd",
   "metadata": {},
   "outputs": [],
   "source": [
    "# and 두가지 조건이 모두 참일때만 True\n",
    "# 예 5 > 3 and 4 < 3 -> True\n",
    "# 하나라도 조건이 맞으면 True\n",
    "\n",
    "print(True or True)   # 결과: True\n",
    "print(True or False)  # 결과: True (and와 차이점)\n",
    "print(False or True)  # 결과: True (and와 차이점)\n",
    "print(False or False) # 결과: False"
   ]
  },
  {
   "cell_type": "code",
   "execution_count": 51,
   "id": "4ed23807",
   "metadata": {},
   "outputs": [
    {
     "name": "stdout",
     "output_type": "stream",
     "text": [
      "False\n",
      "True\n"
     ]
    }
   ],
   "source": [
    "print(not True)  # 결과: False\n",
    "print(not False) # 결과: True"
   ]
  },
  {
   "cell_type": "code",
   "execution_count": 53,
   "id": "82ee8e6e",
   "metadata": {},
   "outputs": [
    {
     "name": "stdout",
     "output_type": "stream",
     "text": [
      "True\n"
     ]
    }
   ],
   "source": [
    "num = 15\n",
    "result = num > 10 and num < 20 # 기억해주세요\n",
    "result = 10 < num < 20\n",
    "print(result) # 결과: True"
   ]
  },
  {
   "cell_type": "code",
   "execution_count": 54,
   "id": "f408708d",
   "metadata": {},
   "outputs": [
    {
     "name": "stdout",
     "output_type": "stream",
     "text": [
      "0\n",
      "15\n",
      "30\n",
      "45\n",
      "60\n",
      "75\n",
      "90\n"
     ]
    }
   ],
   "source": [
    "for i in range(101): # 0부터 100까지를 반복합니다.\n",
    "    if i % 3 == 0 and i % 5 == 0:\n",
    "        print(i)"
   ]
  },
  {
   "cell_type": "code",
   "execution_count": 55,
   "id": "1a7cf7b3",
   "metadata": {},
   "outputs": [
    {
     "data": {
      "text/plain": [
       "''"
      ]
     },
     "execution_count": 55,
     "metadata": {},
     "output_type": "execute_result"
    }
   ],
   "source": [
    "a = 'hello'\n",
    "b = ''\n",
    " \n",
    "a and b # 출력: ''"
   ]
  },
  {
   "cell_type": "code",
   "execution_count": 57,
   "id": "e535e27f",
   "metadata": {},
   "outputs": [
    {
     "name": "stdout",
     "output_type": "stream",
     "text": [
      "world\n"
     ]
    }
   ],
   "source": [
    "a = 'hello'\n",
    "b = 'world'\n",
    " \n",
    "print(a and b) # 출력: world"
   ]
  },
  {
   "cell_type": "code",
   "execution_count": 58,
   "id": "505aa15e",
   "metadata": {},
   "outputs": [
    {
     "data": {
      "text/plain": [
       "''"
      ]
     },
     "execution_count": 58,
     "metadata": {},
     "output_type": "execute_result"
    }
   ],
   "source": [
    "a = ''\n",
    "b = 'world'\n",
    " \n",
    "a and b # 출력: ''"
   ]
  },
  {
   "cell_type": "code",
   "execution_count": 59,
   "id": "60ae80bd",
   "metadata": {},
   "outputs": [
    {
     "name": "stdout",
     "output_type": "stream",
     "text": [
      "test1 함수 호출!\n",
      "False\n"
     ]
    }
   ],
   "source": [
    "def test1():\n",
    "    print(\"test1 함수 호출!\")\n",
    "    return False\n",
    "\n",
    "\n",
    "def test2():\n",
    "    print(\"test2 함수 호출!\")\n",
    "    return True\n",
    "\n",
    "\n",
    "result = test1() and test2()\n",
    "print(result) # 결과: False"
   ]
  },
  {
   "cell_type": "code",
   "execution_count": null,
   "id": "80df3719",
   "metadata": {},
   "outputs": [],
   "source": [
    "lst = []\n",
    "if lst and lst[0] > 3:\n",
    "    print(\"리스트의 첫 번째 원소는 3보다 큽니다.\")"
   ]
  },
  {
   "cell_type": "code",
   "execution_count": 60,
   "id": "4b47f204",
   "metadata": {},
   "outputs": [
    {
     "data": {
      "text/plain": [
       "'hello'"
      ]
     },
     "execution_count": 60,
     "metadata": {},
     "output_type": "execute_result"
    }
   ],
   "source": [
    "a = 'hello'\n",
    "b = ''\n",
    "\n",
    "\n",
    "a or b # 출력: 'hello'"
   ]
  },
  {
   "cell_type": "markdown",
   "id": "04541fd2",
   "metadata": {},
   "source": [
    "# 할당연산"
   ]
  },
  {
   "cell_type": "code",
   "execution_count": 63,
   "id": "c8463981",
   "metadata": {},
   "outputs": [
    {
     "data": {
      "text/plain": [
       "False"
      ]
     },
     "execution_count": 63,
     "metadata": {},
     "output_type": "execute_result"
    }
   ],
   "source": [
    "x = True and False\n",
    "x"
   ]
  },
  {
   "cell_type": "code",
   "execution_count": null,
   "id": "03b7f7e4",
   "metadata": {},
   "outputs": [
    {
     "data": {
      "text/plain": [
       "25"
      ]
     },
     "execution_count": 65,
     "metadata": {},
     "output_type": "execute_result"
    }
   ],
   "source": [
    "x = 5\n",
    "y = 2\n",
    "z = 10\n",
    "\n",
    "x += y * z\n",
    "# x += (2 * 10)\n",
    "# x += (20)\n",
    "# x = x + 20\n",
    "# x = 5 + 20\n",
    "# x = 25\n",
    "x"
   ]
  },
  {
   "cell_type": "markdown",
   "id": "4fb6f143",
   "metadata": {},
   "source": [
    "# 식별연산"
   ]
  },
  {
   "cell_type": "code",
   "execution_count": 69,
   "id": "802863be",
   "metadata": {},
   "outputs": [
    {
     "name": "stdout",
     "output_type": "stream",
     "text": [
      "True\n",
      "True\n"
     ]
    },
    {
     "data": {
      "text/plain": [
       "(1983456850304, 1983456850304)"
      ]
     },
     "execution_count": 69,
     "metadata": {},
     "output_type": "execute_result"
    }
   ],
   "source": [
    "coffee_employee = \"Brand\"\n",
    "orange_employee = \"Brand\"\n",
    "\n",
    "print(coffee_employee is orange_employee)\n",
    "print(coffee_employee == orange_employee)\n",
    "id(coffee_employee), id(orange_employee)"
   ]
  },
  {
   "cell_type": "code",
   "execution_count": null,
   "id": "9615cf18",
   "metadata": {},
   "outputs": [
    {
     "name": "stdout",
     "output_type": "stream",
     "text": [
      "a == b True\n",
      "a == c True\n",
      "a is b False\n",
      "a is c True\n"
     ]
    }
   ],
   "source": [
    "a = [1, 2, 3]\n",
    "b = [1, 2, 3]\n",
    "c = a\n",
    "\n",
    "\n",
    "print('a == b', a == b)\n",
    "print('a == c', a == c)\n",
    "print('a is b', a is b)\n",
    "print('a is c', a is c)\n",
    "id()"
   ]
  },
  {
   "cell_type": "markdown",
   "id": "c7e40b04",
   "metadata": {},
   "source": [
    "# 멤버연산"
   ]
  },
  {
   "cell_type": "code",
   "execution_count": 71,
   "id": "9e37875b",
   "metadata": {},
   "outputs": [
    {
     "name": "stdout",
     "output_type": "stream",
     "text": [
      "True\n",
      "True\n"
     ]
    }
   ],
   "source": [
    "fruits = [\"사과\", \"바나나\", \"포도\"]\n",
    "\n",
    "\n",
    "print(\"사과\" in fruits)  # True, 사과가 목록에 있기 때문이에요.\n",
    "print(\"오렌지\" not in fruits)  # True, 오렌지는 목록에 없기 때문이에요."
   ]
  },
  {
   "cell_type": "code",
   "execution_count": 75,
   "id": "99c3874a",
   "metadata": {},
   "outputs": [
    {
     "name": "stdout",
     "output_type": "stream",
     "text": [
      "True\n",
      "True\n",
      "False\n",
      "False\n",
      "True\n",
      "True\n"
     ]
    }
   ],
   "source": [
    "a = [1, 2, 3, 4]\n",
    "b = [1, 2, 3, 4]\n",
    "c = 'hello world'\n",
    "\n",
    "\n",
    "print(1 in a) # 출력: True\n",
    "print(0 not in a) # 출력: True\n",
    "print([2] in b) # 출력: False\n",
    "print([1, 2] in b) # 출력: False\n",
    "print('h' in c) # 출력: True\n",
    "print('hello ' in c) # 출력: True"
   ]
  },
  {
   "cell_type": "code",
   "execution_count": 77,
   "id": "98bb7c85",
   "metadata": {},
   "outputs": [
    {
     "name": "stdout",
     "output_type": "stream",
     "text": [
      "True\n",
      "False\n",
      "False\n",
      "True\n",
      "False\n",
      "False\n"
     ]
    }
   ],
   "source": [
    "a = {'key1': 'value1', 'key2': 'value2'} #딕셔너리\n",
    "b = {10, 10, 20}\n",
    "print(10 in b) # 출력: True\n",
    "print({10} in b) # 출력: False, 주의\n",
    "print({10, 20} in b) # 출력: False, 주의\n",
    "\n",
    "print('key1' in a) # 출력: True\n",
    "print('value1' in a) # 출력: False\n",
    "print(('key1', 'key2') in a) # 출력: False\n",
    "# {'key1':'value1'} in a # error"
   ]
  }
 ],
 "metadata": {
  "kernelspec": {
   "display_name": "Python 3",
   "language": "python",
   "name": "python3"
  },
  "language_info": {
   "codemirror_mode": {
    "name": "ipython",
    "version": 3
   },
   "file_extension": ".py",
   "mimetype": "text/x-python",
   "name": "python",
   "nbconvert_exporter": "python",
   "pygments_lexer": "ipython3",
   "version": "3.13.0"
  }
 },
 "nbformat": 4,
 "nbformat_minor": 5
}
