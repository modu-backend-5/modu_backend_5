{
 "cells": [
  {
   "cell_type": "markdown",
   "id": "ad1eda0e",
   "metadata": {},
   "source": [
    "# 함수와 인사하기"
   ]
  },
  {
   "cell_type": "code",
   "execution_count": 2,
   "id": "9ad2b2a5",
   "metadata": {},
   "outputs": [
    {
     "name": "stdout",
     "output_type": "stream",
     "text": [
      "Hello, World!\n",
      "안녕하세요, 세상!\n"
     ]
    }
   ],
   "source": [
    "def my_function():\n",
    "    print(\"Hello, World!\")\n",
    "    print(\"안녕하세요, 세상!\")\n",
    "\n",
    "my_function()  # 함수 호출"
   ]
  },
  {
   "cell_type": "markdown",
   "id": "f6e0c9b8",
   "metadata": {},
   "source": [
    "# 간단한 함수 만들어보기"
   ]
  },
  {
   "cell_type": "code",
   "execution_count": 3,
   "id": "dfc0cf35",
   "metadata": {},
   "outputs": [
    {
     "name": "stdout",
     "output_type": "stream",
     "text": [
      "Hello, World!\n",
      "None\n"
     ]
    }
   ],
   "source": [
    "def simple_function():\n",
    "    print('Hello, World!') # 출력: 'Hello, World!'\n",
    "\n",
    "# 함수 호출\n",
    "print(simple_function())"
   ]
  },
  {
   "cell_type": "code",
   "execution_count": 4,
   "id": "27120fe0",
   "metadata": {},
   "outputs": [
    {
     "name": "stdout",
     "output_type": "stream",
     "text": [
      "5\n"
     ]
    }
   ],
   "source": [
    "def give_me_five():\n",
    "    return 5\n",
    "\n",
    "result = give_me_five()\n",
    "# result = 5\n",
    "print(result) # 출력: 5"
   ]
  },
  {
   "cell_type": "code",
   "execution_count": 6,
   "id": "3dac32ce",
   "metadata": {},
   "outputs": [
    {
     "name": "stdout",
     "output_type": "stream",
     "text": [
      "Hello, Licat!\n",
      "None\n"
     ]
    }
   ],
   "source": [
    "def greeting(name):\n",
    "    print(f'Hello, {name}!')\n",
    "\n",
    "\n",
    "# 함수 호출\n",
    "print(greeting('Licat'))"
   ]
  },
  {
   "cell_type": "code",
   "execution_count": 7,
   "id": "adc0d7da",
   "metadata": {},
   "outputs": [
    {
     "name": "stdout",
     "output_type": "stream",
     "text": [
      "8\n"
     ]
    }
   ],
   "source": [
    "def add_numbers(x, y):\n",
    "    total = x + y\n",
    "    return total\n",
    "\n",
    "# 함수 호출\n",
    "result = add_numbers(5, 3)\n",
    "print(result)"
   ]
  },
  {
   "cell_type": "code",
   "execution_count": 8,
   "id": "d470fb6a",
   "metadata": {},
   "outputs": [
    {
     "name": "stdout",
     "output_type": "stream",
     "text": [
      "100 200 300\n",
      "100 200 300\n",
      "100 200 300\n"
     ]
    }
   ],
   "source": [
    "def f(a, b, c):\n",
    "    print(a, b, c)\n",
    "\n",
    "# a, b, c에 순서대로\n",
    "f(100,200,300)\n",
    "f(a=100, b=200, c=300) # 출력: 100 200 300\n",
    "f(c=300, a=100, b=200) # 출력: 100 200 300"
   ]
  },
  {
   "cell_type": "code",
   "execution_count": 10,
   "id": "c8a85cd7",
   "metadata": {},
   "outputs": [
    {
     "name": "stdout",
     "output_type": "stream",
     "text": [
      "10 20 30\n",
      "100 10 30\n",
      "100 200 300\n",
      "100 200 300\n"
     ]
    }
   ],
   "source": [
    "def f(a=10, b=20, c=30):\n",
    "    print(a, b, c)\n",
    "\n",
    "# a, b, c 모두 기본 값 사용\n",
    "f() # 출력: 10 20 30\n",
    "# a = 100, b = 10, c -> 기본 값\n",
    "f(100, 10) # 출력: 100 10 30\n",
    "f(a=100, b=200, c=300) # 출력: 100 200 300\n",
    "f(c=300, a=100, b=200) # 출력: 100 200 300"
   ]
  },
  {
   "cell_type": "code",
   "execution_count": 15,
   "id": "69e598e0",
   "metadata": {},
   "outputs": [
    {
     "ename": "TypeError",
     "evalue": "f() missing 1 required positional argument: 'a'",
     "output_type": "error",
     "traceback": [
      "\u001b[31m---------------------------------------------------------------------------\u001b[39m",
      "\u001b[31mTypeError\u001b[39m                                 Traceback (most recent call last)",
      "\u001b[36mCell\u001b[39m\u001b[36m \u001b[39m\u001b[32mIn[15]\u001b[39m\u001b[32m, line 4\u001b[39m\n\u001b[32m      1\u001b[39m \u001b[38;5;28;01mdef\u001b[39;00m\u001b[38;5;250m \u001b[39m\u001b[34mf\u001b[39m(a, b=\u001b[32m20\u001b[39m, c=\u001b[32m10\u001b[39m):\n\u001b[32m      2\u001b[39m     \u001b[38;5;28mprint\u001b[39m(a, b, c) \u001b[38;5;66;03m# error\u001b[39;00m\n\u001b[32m----> \u001b[39m\u001b[32m4\u001b[39m \u001b[43mf\u001b[49m\u001b[43m(\u001b[49m\u001b[43m)\u001b[49m\n\u001b[32m      5\u001b[39m f(\u001b[32m100\u001b[39m, \u001b[32m10\u001b[39m) \u001b[38;5;66;03m# 출력: 100 10 10\u001b[39;00m\n\u001b[32m      6\u001b[39m f(a=\u001b[32m100\u001b[39m, b=\u001b[32m200\u001b[39m, c=\u001b[32m300\u001b[39m) \u001b[38;5;66;03m# 출력: 100 200 300\u001b[39;00m\n",
      "\u001b[31mTypeError\u001b[39m: f() missing 1 required positional argument: 'a'"
     ]
    }
   ],
   "source": [
    "def f(a, b=20, c=10):\n",
    "    print(a, b, c) # error\n",
    "\n",
    "f()\n",
    "f(100, 10) # 출력: 100 10 10\n",
    "f(a=100, b=200, c=300) # 출력: 100 200 300\n",
    "f(c=300, a=100, b=200) # 출력: 100 200 300"
   ]
  },
  {
   "cell_type": "code",
   "execution_count": null,
   "id": "64cf565c",
   "metadata": {},
   "outputs": [
    {
     "name": "stdout",
     "output_type": "stream",
     "text": [
      "[2, 3, 4, 1]\n"
     ]
    }
   ],
   "source": [
    "def add_element(my_list):\n",
    "    my_list.append(1)\n",
    "\n",
    "\n",
    "a = [2, 3, 4]\n",
    "add_element(a)\n",
    "print(a)  # 출력: [2, 3, 4, 1]"
   ]
  },
  {
   "cell_type": "code",
   "execution_count": 18,
   "id": "48a523ae",
   "metadata": {},
   "outputs": [
    {
     "data": {
      "text/plain": [
       "[2]"
      ]
     },
     "execution_count": 18,
     "metadata": {},
     "output_type": "execute_result"
    }
   ],
   "source": [
    "def append_to_list(value, lst):\n",
    "    lst.append(value)\n",
    "    return lst\n",
    "\n",
    "append_to_list(1, [])\n",
    "append_to_list(2, [])"
   ]
  },
  {
   "cell_type": "code",
   "execution_count": 19,
   "id": "3ff74d7a",
   "metadata": {},
   "outputs": [
    {
     "data": {
      "text/plain": [
       "[2]"
      ]
     },
     "execution_count": 19,
     "metadata": {},
     "output_type": "execute_result"
    }
   ],
   "source": [
    "def append_to_list(value, lst=None):\n",
    "    if lst is None:\n",
    "        lst = []\n",
    "    lst.append(value)\n",
    "    return lst\n",
    "\n",
    "append_to_list(1) # 출력: [1]\n",
    "append_to_list(2)"
   ]
  },
  {
   "cell_type": "markdown",
   "id": "a3d5cd42",
   "metadata": {},
   "source": [
    "# 지역 변수와 전역 변수"
   ]
  },
  {
   "cell_type": "code",
   "execution_count": 21,
   "id": "f1bbd2c6",
   "metadata": {},
   "outputs": [
    {
     "name": "stdout",
     "output_type": "stream",
     "text": [
      "1\n",
      "{'a': 1}\n"
     ]
    }
   ],
   "source": [
    "def f():\n",
    "    a = 1\n",
    "    print(a)  # 출력: 1\n",
    "    print(locals())\n",
    "\n",
    "f()"
   ]
  },
  {
   "cell_type": "code",
   "execution_count": 22,
   "id": "4e928229",
   "metadata": {},
   "outputs": [
    {
     "name": "stdout",
     "output_type": "stream",
     "text": [
      "{'a': 1, 'b': 'hello', 'ff': <function f.<locals>.ff at 0x0000029FA0EC0180>}\n"
     ]
    }
   ],
   "source": [
    "def f():\n",
    "    a = 1\n",
    "    b = 'hello'\n",
    "    def ff():\n",
    "        pass\n",
    "    print(locals()) # 출력: {'a': 1, 'b': 'hello', 'ff': <function f.<locals>.ff at 0x7a46e99d2c20>}\n",
    "\n",
    "f()"
   ]
  },
  {
   "cell_type": "code",
   "execution_count": 23,
   "id": "395eaac4",
   "metadata": {},
   "outputs": [
    {
     "name": "stdout",
     "output_type": "stream",
     "text": [
      "101\n"
     ]
    }
   ],
   "source": [
    "a = 100\n",
    "\n",
    "def f():\n",
    "    global a\n",
    "    a = a + 1\n",
    "\n",
    "f()\n",
    "print(a)"
   ]
  },
  {
   "cell_type": "code",
   "execution_count": 24,
   "id": "416d23ca",
   "metadata": {},
   "outputs": [
    {
     "ename": "UnboundLocalError",
     "evalue": "cannot access local variable 'a' where it is not associated with a value",
     "output_type": "error",
     "traceback": [
      "\u001b[31m---------------------------------------------------------------------------\u001b[39m",
      "\u001b[31mUnboundLocalError\u001b[39m                         Traceback (most recent call last)",
      "\u001b[36mCell\u001b[39m\u001b[36m \u001b[39m\u001b[32mIn[24]\u001b[39m\u001b[32m, line 5\u001b[39m\n\u001b[32m      2\u001b[39m \u001b[38;5;28;01mdef\u001b[39;00m\u001b[38;5;250m \u001b[39m\u001b[34mf\u001b[39m():\n\u001b[32m      3\u001b[39m     a = a + \u001b[32m1\u001b[39m \u001b[38;5;66;03m# error\u001b[39;00m\n\u001b[32m----> \u001b[39m\u001b[32m5\u001b[39m \u001b[43mf\u001b[49m\u001b[43m(\u001b[49m\u001b[43m)\u001b[49m\n\u001b[32m      6\u001b[39m \u001b[38;5;28mprint\u001b[39m(a)\n",
      "\u001b[36mCell\u001b[39m\u001b[36m \u001b[39m\u001b[32mIn[24]\u001b[39m\u001b[32m, line 3\u001b[39m, in \u001b[36mf\u001b[39m\u001b[34m()\u001b[39m\n\u001b[32m      2\u001b[39m \u001b[38;5;28;01mdef\u001b[39;00m\u001b[38;5;250m \u001b[39m\u001b[34mf\u001b[39m():\n\u001b[32m----> \u001b[39m\u001b[32m3\u001b[39m     a = \u001b[43ma\u001b[49m + \u001b[32m1\u001b[39m\n",
      "\u001b[31mUnboundLocalError\u001b[39m: cannot access local variable 'a' where it is not associated with a value"
     ]
    }
   ],
   "source": [
    "a = 100\n",
    "def f():\n",
    "    a = a + 1 # error\n",
    "\n",
    "f()\n",
    "print(a)"
   ]
  },
  {
   "cell_type": "code",
   "execution_count": 28,
   "id": "738fd499",
   "metadata": {},
   "outputs": [
    {
     "name": "stdout",
     "output_type": "stream",
     "text": [
      "100\n",
      "101\n",
      "{'__name__': '__main__', '__doc__': 'Automatically created module for IPython interactive environment', '__package__': None, '__loader__': None, '__spec__': None, '__builtin__': <module 'builtins' (built-in)>, '__builtins__': <module 'builtins' (built-in)>, '_ih': ['', 'def my_function():\\n    print(\"Hello, World!\")\\n    print(\"안녕하세요, 세상!\")', 'def my_function():\\n    print(\"Hello, World!\")\\n    print(\"안녕하세요, 세상!\")\\n\\nmy_function()  # 함수 호출', \"def simple_function():\\n    print('Hello, World!') # 출력: 'Hello, World!'\\n\\n# 함수 호출\\nprint(simple_function())\", 'def give_me_five():\\n    return 5\\n\\nresult = give_me_five()\\n# result = 5\\nprint(result) # 출력: 5', \"def greeting(name):\\n    print(f'Hello, {name}!')\\n\\n\\n# 함수 호출\\ngreeting('Licat')\", \"def greeting(name):\\n    print(f'Hello, {name}!')\\n\\n\\n# 함수 호출\\nprint(greeting('Licat'))\", 'def add_numbers(x, y):\\n    total = x + y\\n    return total\\n\\n# 함수 호출\\nresult = add_numbers(5, 3)\\nprint(result)', 'def f(a, b, c):\\n    print(a, b, c)\\n\\n# a, b, c에 순서대로\\nf(100,200,300)\\nf(a=100, b=200, c=300) # 출력: 100 200 300\\nf(c=300, a=100, b=200) # 출력: 100 200 300', 'def f(a=10, b=20, c=30):\\n    print(a, b, c)\\n\\n# a, b, c 모두 기본 값 사용\\nf() # 출력: 10 20 30\\nf(100, 10) # 출력: 100 10 30\\nf(a=100, b=200, c=300) # 출력: 100 200 300\\nf(c=300, a=100, b=200) # 출력: 100 200 300', 'def f(a=10, b=20, c=30):\\n    print(a, b, c)\\n\\n# a, b, c 모두 기본 값 사용\\nf() # 출력: 10 20 30\\n# a = 100, b = 10, c -> 기본 값\\nf(100, 10) # 출력: 100 10 30\\nf(a=100, b=200, c=300) # 출력: 100 200 300\\nf(c=300, a=100, b=200) # 출력: 100 200 300', 'def f(a=10, b=20, c):\\n    print(a, b, c) # error', 'def f(a, b=20, c=10):\\n    print(a, b, c) # error', 'def f(a, b=20, c=10):\\n    print(a, b, c) # error\\n\\nf(100, 10) # 출력: 100 10 10\\nf(a=100, b=200, c=300) # 출력: 100 200 300\\nf(c=300, a=100, b=200) # 출력: 100 200 300', 'def f(a, b=20, c=10):\\n    print(a, b, c) # error\\n\\nf(100, 10) # 출력: 100 10 10\\nf(a=100, b=200, c=300) # 출력: 100 200 300\\nf(c=300, a=100, b=200) # 출력: 100 200 300', 'def f(a, b=20, c=10):\\n    print(a, b, c) # error\\n\\nf()\\nf(100, 10) # 출력: 100 10 10\\nf(a=100, b=200, c=300) # 출력: 100 200 300\\nf(c=300, a=100, b=200) # 출력: 100 200 300', 'def add_element(my_list):\\n    my_list.append(1)\\n\\n\\na = [2, 3, 4]\\nadd_element(a)\\nprint(a)  # 출력: [2, 3, 4, 1]', 'def append_to_list(value, lst=[]):\\n    lst.append(value)\\n    return lst\\n\\nappend_to_list(1)\\nappend_to_list(2)', 'def append_to_list(value, lst):\\n    lst.append(value)\\n    return lst\\n\\nappend_to_list(1, [])\\nappend_to_list(2, [])', 'def append_to_list(value, lst=None):\\n    if lst is None:\\n        lst = []\\n    lst.append(value)\\n    return lst\\n\\nappend_to_list(1) # 출력: [1]\\nappend_to_list(2)', 'def f():\\n    a = 1\\n    print(a)  # 출력: 1\\n\\nf()', 'def f():\\n    a = 1\\n    print(a)  # 출력: 1\\n    print(locals())\\n\\nf()', \"def f():\\n    a = 1\\n    b = 'hello'\\n    def ff():\\n        pass\\n    print(locals()) # 출력: {'a': 1, 'b': 'hello', 'ff': <function f.<locals>.ff at 0x7a46e99d2c20>}\\n\\nf()\", 'a = 100\\n\\ndef f():\\n    global a\\n    a = a + 1\\n\\nf()\\nprint(a)', 'a = 100\\ndef f():\\n    a = a + 1 # error\\n\\nf()\\nprint(a)', 'a = 100\\n\\n\\ndef f():\\n    print(a) # 출력: 100\\n\\n\\nf()\\n\\n\\ndef ff():\\n    b = a + 1\\n    print(b) # 출력: 101\\n\\n\\nff()', 'a = 100\\n\\n\\ndef f():\\n    print(a) # 출력: 100\\n\\n\\nf()\\n\\n\\ndef ff():\\n    b = a + 1\\n    print(b) # 출력: 101\\n\\n\\nff()', 'a = 100\\n\\n\\ndef f():\\n    print(a) # 출력: 100\\n\\n\\nf()\\n\\n\\ndef ff():\\n    b = a + 1\\n    print(b) # 출력: 101\\n\\nglobals()\\nff()', 'a = 100\\n\\n\\ndef f():\\n    print(a) # 출력: 100\\n\\n\\nf()\\n\\n\\ndef ff():\\n    b = a + 1\\n    print(b) # 출력: 101\\n\\nff()\\nprint(globals())'], '_oh': {17: [1, 2], 18: [2], 19: [2]}, '_dh': [WindowsPath('c:/Users/elwl5/Desktop/modu_backend_5/hwangbyeongheon/review')], 'In': ['', 'def my_function():\\n    print(\"Hello, World!\")\\n    print(\"안녕하세요, 세상!\")', 'def my_function():\\n    print(\"Hello, World!\")\\n    print(\"안녕하세요, 세상!\")\\n\\nmy_function()  # 함수 호출', \"def simple_function():\\n    print('Hello, World!') # 출력: 'Hello, World!'\\n\\n# 함수 호출\\nprint(simple_function())\", 'def give_me_five():\\n    return 5\\n\\nresult = give_me_five()\\n# result = 5\\nprint(result) # 출력: 5', \"def greeting(name):\\n    print(f'Hello, {name}!')\\n\\n\\n# 함수 호출\\ngreeting('Licat')\", \"def greeting(name):\\n    print(f'Hello, {name}!')\\n\\n\\n# 함수 호출\\nprint(greeting('Licat'))\", 'def add_numbers(x, y):\\n    total = x + y\\n    return total\\n\\n# 함수 호출\\nresult = add_numbers(5, 3)\\nprint(result)', 'def f(a, b, c):\\n    print(a, b, c)\\n\\n# a, b, c에 순서대로\\nf(100,200,300)\\nf(a=100, b=200, c=300) # 출력: 100 200 300\\nf(c=300, a=100, b=200) # 출력: 100 200 300', 'def f(a=10, b=20, c=30):\\n    print(a, b, c)\\n\\n# a, b, c 모두 기본 값 사용\\nf() # 출력: 10 20 30\\nf(100, 10) # 출력: 100 10 30\\nf(a=100, b=200, c=300) # 출력: 100 200 300\\nf(c=300, a=100, b=200) # 출력: 100 200 300', 'def f(a=10, b=20, c=30):\\n    print(a, b, c)\\n\\n# a, b, c 모두 기본 값 사용\\nf() # 출력: 10 20 30\\n# a = 100, b = 10, c -> 기본 값\\nf(100, 10) # 출력: 100 10 30\\nf(a=100, b=200, c=300) # 출력: 100 200 300\\nf(c=300, a=100, b=200) # 출력: 100 200 300', 'def f(a=10, b=20, c):\\n    print(a, b, c) # error', 'def f(a, b=20, c=10):\\n    print(a, b, c) # error', 'def f(a, b=20, c=10):\\n    print(a, b, c) # error\\n\\nf(100, 10) # 출력: 100 10 10\\nf(a=100, b=200, c=300) # 출력: 100 200 300\\nf(c=300, a=100, b=200) # 출력: 100 200 300', 'def f(a, b=20, c=10):\\n    print(a, b, c) # error\\n\\nf(100, 10) # 출력: 100 10 10\\nf(a=100, b=200, c=300) # 출력: 100 200 300\\nf(c=300, a=100, b=200) # 출력: 100 200 300', 'def f(a, b=20, c=10):\\n    print(a, b, c) # error\\n\\nf()\\nf(100, 10) # 출력: 100 10 10\\nf(a=100, b=200, c=300) # 출력: 100 200 300\\nf(c=300, a=100, b=200) # 출력: 100 200 300', 'def add_element(my_list):\\n    my_list.append(1)\\n\\n\\na = [2, 3, 4]\\nadd_element(a)\\nprint(a)  # 출력: [2, 3, 4, 1]', 'def append_to_list(value, lst=[]):\\n    lst.append(value)\\n    return lst\\n\\nappend_to_list(1)\\nappend_to_list(2)', 'def append_to_list(value, lst):\\n    lst.append(value)\\n    return lst\\n\\nappend_to_list(1, [])\\nappend_to_list(2, [])', 'def append_to_list(value, lst=None):\\n    if lst is None:\\n        lst = []\\n    lst.append(value)\\n    return lst\\n\\nappend_to_list(1) # 출력: [1]\\nappend_to_list(2)', 'def f():\\n    a = 1\\n    print(a)  # 출력: 1\\n\\nf()', 'def f():\\n    a = 1\\n    print(a)  # 출력: 1\\n    print(locals())\\n\\nf()', \"def f():\\n    a = 1\\n    b = 'hello'\\n    def ff():\\n        pass\\n    print(locals()) # 출력: {'a': 1, 'b': 'hello', 'ff': <function f.<locals>.ff at 0x7a46e99d2c20>}\\n\\nf()\", 'a = 100\\n\\ndef f():\\n    global a\\n    a = a + 1\\n\\nf()\\nprint(a)', 'a = 100\\ndef f():\\n    a = a + 1 # error\\n\\nf()\\nprint(a)', 'a = 100\\n\\n\\ndef f():\\n    print(a) # 출력: 100\\n\\n\\nf()\\n\\n\\ndef ff():\\n    b = a + 1\\n    print(b) # 출력: 101\\n\\n\\nff()', 'a = 100\\n\\n\\ndef f():\\n    print(a) # 출력: 100\\n\\n\\nf()\\n\\n\\ndef ff():\\n    b = a + 1\\n    print(b) # 출력: 101\\n\\n\\nff()', 'a = 100\\n\\n\\ndef f():\\n    print(a) # 출력: 100\\n\\n\\nf()\\n\\n\\ndef ff():\\n    b = a + 1\\n    print(b) # 출력: 101\\n\\nglobals()\\nff()', 'a = 100\\n\\n\\ndef f():\\n    print(a) # 출력: 100\\n\\n\\nf()\\n\\n\\ndef ff():\\n    b = a + 1\\n    print(b) # 출력: 101\\n\\nff()\\nprint(globals())'], 'Out': {17: [1, 2], 18: [2], 19: [2]}, 'get_ipython': <bound method InteractiveShell.get_ipython of <ipykernel.zmqshell.ZMQInteractiveShell object at 0x0000029FA062F8C0>>, 'exit': <IPython.core.autocall.ZMQExitAutocall object at 0x0000029FA06C4EC0>, 'quit': <IPython.core.autocall.ZMQExitAutocall object at 0x0000029FA06C4EC0>, 'open': <function open at 0x0000029F9E3B60C0>, '_': [2], '__': [2], '___': [1, 2], '__vsc_ipynb_file__': 'c:\\\\Users\\\\elwl5\\\\Desktop\\\\modu_backend_5\\\\hwangbyeongheon\\\\review\\\\7.function.ipynb', '_i': 'a = 100\\n\\n\\ndef f():\\n    print(a) # 출력: 100\\n\\n\\nf()\\n\\n\\ndef ff():\\n    b = a + 1\\n    print(b) # 출력: 101\\n\\nglobals()\\nff()', '_ii': 'a = 100\\n\\n\\ndef f():\\n    print(a) # 출력: 100\\n\\n\\nf()\\n\\n\\ndef ff():\\n    b = a + 1\\n    print(b) # 출력: 101\\n\\n\\nff()', '_iii': 'a = 100\\n\\n\\ndef f():\\n    print(a) # 출력: 100\\n\\n\\nf()\\n\\n\\ndef ff():\\n    b = a + 1\\n    print(b) # 출력: 101\\n\\n\\nff()', '_i1': 'def my_function():\\n    print(\"Hello, World!\")\\n    print(\"안녕하세요, 세상!\")', 'my_function': <function my_function at 0x0000029FA082F2E0>, '_i2': 'def my_function():\\n    print(\"Hello, World!\")\\n    print(\"안녕하세요, 세상!\")\\n\\nmy_function()  # 함수 호출', '_i3': \"def simple_function():\\n    print('Hello, World!') # 출력: 'Hello, World!'\\n\\n# 함수 호출\\nprint(simple_function())\", 'simple_function': <function simple_function at 0x0000029FA082FC40>, '_i4': 'def give_me_five():\\n    return 5\\n\\nresult = give_me_five()\\n# result = 5\\nprint(result) # 출력: 5', 'give_me_five': <function give_me_five at 0x0000029FA082FD80>, 'result': 8, '_i5': \"def greeting(name):\\n    print(f'Hello, {name}!')\\n\\n\\n# 함수 호출\\ngreeting('Licat')\", 'greeting': <function greeting at 0x0000029FA0890220>, '_i6': \"def greeting(name):\\n    print(f'Hello, {name}!')\\n\\n\\n# 함수 호출\\nprint(greeting('Licat'))\", '_i7': 'def add_numbers(x, y):\\n    total = x + y\\n    return total\\n\\n# 함수 호출\\nresult = add_numbers(5, 3)\\nprint(result)', 'add_numbers': <function add_numbers at 0x0000029FA082FF60>, '_i8': 'def f(a, b, c):\\n    print(a, b, c)\\n\\n# a, b, c에 순서대로\\nf(100,200,300)\\nf(a=100, b=200, c=300) # 출력: 100 200 300\\nf(c=300, a=100, b=200) # 출력: 100 200 300', 'f': <function f at 0x0000029FA0EC2200>, '_i9': 'def f(a=10, b=20, c=30):\\n    print(a, b, c)\\n\\n# a, b, c 모두 기본 값 사용\\nf() # 출력: 10 20 30\\nf(100, 10) # 출력: 100 10 30\\nf(a=100, b=200, c=300) # 출력: 100 200 300\\nf(c=300, a=100, b=200) # 출력: 100 200 300', '_i10': 'def f(a=10, b=20, c=30):\\n    print(a, b, c)\\n\\n# a, b, c 모두 기본 값 사용\\nf() # 출력: 10 20 30\\n# a = 100, b = 10, c -> 기본 값\\nf(100, 10) # 출력: 100 10 30\\nf(a=100, b=200, c=300) # 출력: 100 200 300\\nf(c=300, a=100, b=200) # 출력: 100 200 300', '_i11': 'def f(a=10, b=20, c):\\n    print(a, b, c) # error', '_i12': 'def f(a, b=20, c=10):\\n    print(a, b, c) # error', '_i13': 'def f(a, b=20, c=10):\\n    print(a, b, c) # error\\n\\nf(100, 10) # 출력: 100 10 10\\nf(a=100, b=200, c=300) # 출력: 100 200 300\\nf(c=300, a=100, b=200) # 출력: 100 200 300', '_i14': 'def f(a, b=20, c=10):\\n    print(a, b, c) # error\\n\\nf(100, 10) # 출력: 100 10 10\\nf(a=100, b=200, c=300) # 출력: 100 200 300\\nf(c=300, a=100, b=200) # 출력: 100 200 300', '_i15': 'def f(a, b=20, c=10):\\n    print(a, b, c) # error\\n\\nf()\\nf(100, 10) # 출력: 100 10 10\\nf(a=100, b=200, c=300) # 출력: 100 200 300\\nf(c=300, a=100, b=200) # 출력: 100 200 300', '_i16': 'def add_element(my_list):\\n    my_list.append(1)\\n\\n\\na = [2, 3, 4]\\nadd_element(a)\\nprint(a)  # 출력: [2, 3, 4, 1]', 'add_element': <function add_element at 0x0000029FA094A160>, 'a': 100, '_i17': 'def append_to_list(value, lst=[]):\\n    lst.append(value)\\n    return lst\\n\\nappend_to_list(1)\\nappend_to_list(2)', 'append_to_list': <function append_to_list at 0x0000029FA0E663E0>, '_17': [1, 2], '_i18': 'def append_to_list(value, lst):\\n    lst.append(value)\\n    return lst\\n\\nappend_to_list(1, [])\\nappend_to_list(2, [])', '_18': [2], '_i19': 'def append_to_list(value, lst=None):\\n    if lst is None:\\n        lst = []\\n    lst.append(value)\\n    return lst\\n\\nappend_to_list(1) # 출력: [1]\\nappend_to_list(2)', '_19': [2], '_i20': 'def f():\\n    a = 1\\n    print(a)  # 출력: 1\\n\\nf()', '_i21': 'def f():\\n    a = 1\\n    print(a)  # 출력: 1\\n    print(locals())\\n\\nf()', '_i22': \"def f():\\n    a = 1\\n    b = 'hello'\\n    def ff():\\n        pass\\n    print(locals()) # 출력: {'a': 1, 'b': 'hello', 'ff': <function f.<locals>.ff at 0x7a46e99d2c20>}\\n\\nf()\", '_i23': 'a = 100\\n\\ndef f():\\n    global a\\n    a = a + 1\\n\\nf()\\nprint(a)', '_i24': 'a = 100\\ndef f():\\n    a = a + 1 # error\\n\\nf()\\nprint(a)', '_i25': 'a = 100\\n\\n\\ndef f():\\n    print(a) # 출력: 100\\n\\n\\nf()\\n\\n\\ndef ff():\\n    b = a + 1\\n    print(b) # 출력: 101\\n\\n\\nff()', 'ff': <function ff at 0x0000029FA0EC1080>, '_i26': 'a = 100\\n\\n\\ndef f():\\n    print(a) # 출력: 100\\n\\n\\nf()\\n\\n\\ndef ff():\\n    b = a + 1\\n    print(b) # 출력: 101\\n\\n\\nff()', '_i27': 'a = 100\\n\\n\\ndef f():\\n    print(a) # 출력: 100\\n\\n\\nf()\\n\\n\\ndef ff():\\n    b = a + 1\\n    print(b) # 출력: 101\\n\\nglobals()\\nff()', '_i28': 'a = 100\\n\\n\\ndef f():\\n    print(a) # 출력: 100\\n\\n\\nf()\\n\\n\\ndef ff():\\n    b = a + 1\\n    print(b) # 출력: 101\\n\\nff()\\nprint(globals())'}\n"
     ]
    }
   ],
   "source": [
    "a = 100\n",
    "\n",
    "\n",
    "def f():\n",
    "    print(a) # 출력: 100\n",
    "\n",
    "\n",
    "f()\n",
    "\n",
    "\n",
    "def ff():\n",
    "    b = a + 1\n",
    "    print(b) # 출력: 101\n",
    "\n",
    "ff()\n",
    "print(globals())"
   ]
  },
  {
   "cell_type": "code",
   "execution_count": null,
   "id": "015b528d",
   "metadata": {},
   "outputs": [
    {
     "name": "stdout",
     "output_type": "stream",
     "text": [
      "100\n",
      "1000\n",
      "10000\n",
      "10\n"
     ]
    }
   ],
   "source": [
    "a = 10\n",
    "def f():\n",
    "    a = 100\n",
    "    print(a) # 출력: 100\n",
    "    def ff():\n",
    "        a = 1000\n",
    "        print(a) # 출력: 1000\n",
    "        def fff():\n",
    "            a = 10000 # 출력: 10000\n",
    "            print(a)\n",
    "        fff()\n",
    "    ff()\n",
    "f()\n",
    "print(a) # 출력: 10"
   ]
  },
  {
   "cell_type": "code",
   "execution_count": 30,
   "id": "f8280d40",
   "metadata": {},
   "outputs": [
    {
     "name": "stdout",
     "output_type": "stream",
     "text": [
      "100\n",
      "1000\n",
      "10\n",
      "10\n"
     ]
    }
   ],
   "source": [
    "# global을 하면 함수가 얼만큼 중첩되어 있건 최상단에 있는 a를 바라봅니다.\n",
    "a = 10\n",
    "def f():\n",
    "    a = 100\n",
    "    print(a)\n",
    "    def ff():\n",
    "        a = 1000\n",
    "        print(a)\n",
    "        def fff():\n",
    "            global a\n",
    "            print(a)\n",
    "        fff()\n",
    "    ff()\n",
    "f()\n",
    "print(a)"
   ]
  },
  {
   "cell_type": "code",
   "execution_count": null,
   "id": "d462cd34",
   "metadata": {},
   "outputs": [],
   "source": [
    "# TODO: 나중에 구현\n",
    "def my_function():\n",
    "    pass"
   ]
  },
  {
   "cell_type": "markdown",
   "id": "be40cfc3",
   "metadata": {},
   "source": [
    "# built-in function"
   ]
  },
  {
   "cell_type": "code",
   "execution_count": 33,
   "id": "acea068c",
   "metadata": {},
   "outputs": [
    {
     "name": "stdout",
     "output_type": "stream",
     "text": [
      "True\n",
      "False\n",
      "False\n",
      "False\n",
      "True\n"
     ]
    }
   ],
   "source": [
    "# 모두 다 True여야 True 반환\n",
    "print(all([True, True, True])) # 출력: True\n",
    "print(all([True, True, False])) # 출력: False\n",
    "print(all([1, 1, 1, 0])) # 출력: False\n",
    "print(all([1, 0, 1, 1])) # 출력: False\n",
    "print(all([1, 100, 10, -1])) # 출력: True"
   ]
  },
  {
   "cell_type": "code",
   "execution_count": 34,
   "id": "7caad364",
   "metadata": {},
   "outputs": [
    {
     "name": "stdout",
     "output_type": "stream",
     "text": [
      "True\n",
      "False\n"
     ]
    }
   ],
   "source": [
    "# 하나라도 True이면 True이다.\n",
    "print(any([True, False, False])) # 출력: True\n",
    "print(any([False, False, False])) # 출력: False"
   ]
  },
  {
   "cell_type": "code",
   "execution_count": 37,
   "id": "69a9f6a4",
   "metadata": {},
   "outputs": [
    {
     "name": "stdout",
     "output_type": "stream",
     "text": [
      "A\n",
      "a\n",
      "하\n"
     ]
    }
   ],
   "source": [
    "# 10진수로 유니코드표에서 찾아 대응되는 값을 줍니다.\n",
    "print(chr(65)) # 출력: 'A'\n",
    "print(chr(97)) # 출력: 'a'\n",
    "print(chr(54616)) # 출력: '하'"
   ]
  },
  {
   "cell_type": "code",
   "execution_count": 38,
   "id": "1974f2cf",
   "metadata": {},
   "outputs": [
    {
     "name": "stdout",
     "output_type": "stream",
     "text": [
      "97\n",
      "54616\n"
     ]
    }
   ],
   "source": [
    "print(ord('a')) # 출력: 97\n",
    "print(ord('하')) # 출력: 54616"
   ]
  },
  {
   "cell_type": "code",
   "execution_count": 39,
   "id": "41e4ea73",
   "metadata": {},
   "outputs": [
    {
     "data": {
      "text/plain": [
       "[1, 4, 9, 16]"
      ]
     },
     "execution_count": 39,
     "metadata": {},
     "output_type": "execute_result"
    }
   ],
   "source": [
    "# map(함수, 리스트 혹은 튜플)\n",
    "\n",
    "def 제곱(x):\n",
    "    return x ** 2\n",
    "list(map(제곱, [1, 2, 3, 4]))"
   ]
  },
  {
   "cell_type": "code",
   "execution_count": 43,
   "id": "faa47fa7",
   "metadata": {},
   "outputs": [
    {
     "name": "stdout",
     "output_type": "stream",
     "text": [
      "[1, 2, 3, 4]\n"
     ]
    }
   ],
   "source": [
    "arr = input()\n",
    "arr = list(map(int, arr.split()))\n",
    "print(arr)"
   ]
  },
  {
   "cell_type": "code",
   "execution_count": 44,
   "id": "58d9d95e",
   "metadata": {},
   "outputs": [
    {
     "data": {
      "text/plain": [
       "[1, 4, 9, 16]"
      ]
     },
     "execution_count": 44,
     "metadata": {},
     "output_type": "execute_result"
    }
   ],
   "source": [
    "list(map(lambda x : x ** 2, [1, 2, 3, 4])) # 출력: [1, 4, 9, 16]"
   ]
  },
  {
   "cell_type": "code",
   "execution_count": null,
   "id": "90799b4b",
   "metadata": {},
   "outputs": [
    {
     "data": {
      "text/plain": [
       "[51,\n",
       " 52,\n",
       " 53,\n",
       " 54,\n",
       " 55,\n",
       " 56,\n",
       " 57,\n",
       " 58,\n",
       " 59,\n",
       " 60,\n",
       " 61,\n",
       " 62,\n",
       " 63,\n",
       " 64,\n",
       " 65,\n",
       " 66,\n",
       " 67,\n",
       " 68,\n",
       " 69,\n",
       " 70,\n",
       " 71,\n",
       " 72,\n",
       " 73,\n",
       " 74,\n",
       " 75,\n",
       " 76,\n",
       " 77,\n",
       " 78,\n",
       " 79,\n",
       " 80,\n",
       " 81,\n",
       " 82,\n",
       " 83,\n",
       " 84,\n",
       " 85,\n",
       " 86,\n",
       " 87,\n",
       " 88,\n",
       " 89,\n",
       " 90,\n",
       " 91,\n",
       " 92,\n",
       " 93,\n",
       " 94,\n",
       " 95,\n",
       " 96,\n",
       " 97,\n",
       " 98,\n",
       " 99]"
      ]
     },
     "execution_count": 46,
     "metadata": {},
     "output_type": "execute_result"
    }
   ],
   "source": [
    "# filter(조건 함수, 리스트 또는 튜플)\n",
    "def 조건_함수():\n",
    "    pass\n",
    "list(filter(조건_함수, range(100)))"
   ]
  },
  {
   "cell_type": "code",
   "execution_count": 48,
   "id": "aacf72fb",
   "metadata": {},
   "outputs": [
    {
     "name": "stdout",
     "output_type": "stream",
     "text": [
      "a 1\n",
      "b 2\n"
     ]
    }
   ],
   "source": [
    "# zip(순회할 수 있는 객체1, 순회할 수 있는 객체2...)\n",
    "zip('ab', '12') # 출력: <zip at 0x7b9d83c6e440>\n",
    "list(zip('ab', '12')) # 출력: [('a', '1'), ('b', '2')]\n",
    "for a, b in zip('ab', '12'):\n",
    "    print(a, b)"
   ]
  },
  {
   "cell_type": "code",
   "execution_count": 50,
   "id": "76a3b12b",
   "metadata": {},
   "outputs": [
    {
     "name": "stdout",
     "output_type": "stream",
     "text": [
      "a 1 10\n",
      "b 2 20\n"
     ]
    }
   ],
   "source": [
    "list(zip('ab', '12', [10, 20])) # 출력: [('a', '1', 10), ('b', '2', 20)]\n",
    "for a, b, c in zip('ab', '12', [10, 20]):\n",
    "    print(a, b, c)"
   ]
  },
  {
   "cell_type": "code",
   "execution_count": 51,
   "id": "42449c4a",
   "metadata": {},
   "outputs": [
    {
     "data": {
      "text/plain": [
       "[(2, 4, 8), (4, 8, 16), (8, 16, 32), (16, 32, 64), (32, 64, 128)]"
      ]
     },
     "execution_count": 51,
     "metadata": {},
     "output_type": "execute_result"
    }
   ],
   "source": [
    "x = [2, 4, 8, 16, 32, 64, 128]\n",
    "list(zip(x, x[1:], x[2:]))"
   ]
  },
  {
   "cell_type": "code",
   "execution_count": 53,
   "id": "adce4dd1",
   "metadata": {},
   "outputs": [
    {
     "ename": "ValueError",
     "evalue": "zip() argument 2 is shorter than argument 1",
     "output_type": "error",
     "traceback": [
      "\u001b[31m---------------------------------------------------------------------------\u001b[39m",
      "\u001b[31mValueError\u001b[39m                                Traceback (most recent call last)",
      "\u001b[36mCell\u001b[39m\u001b[36m \u001b[39m\u001b[32mIn[53]\u001b[39m\u001b[32m, line 1\u001b[39m\n\u001b[32m----> \u001b[39m\u001b[32m1\u001b[39m \u001b[38;5;28mprint\u001b[39m(\u001b[38;5;28;43mlist\u001b[39;49m\u001b[43m(\u001b[49m\u001b[38;5;28;43mzip\u001b[39;49m\u001b[43m(\u001b[49m\u001b[43m[\u001b[49m\u001b[32;43m1\u001b[39;49m\u001b[43m,\u001b[49m\u001b[43m \u001b[49m\u001b[32;43m2\u001b[39;49m\u001b[43m,\u001b[49m\u001b[43m \u001b[49m\u001b[32;43m3\u001b[39;49m\u001b[43m]\u001b[49m\u001b[43m,\u001b[49m\u001b[43m \u001b[49m\u001b[43m[\u001b[49m\u001b[33;43m'\u001b[39;49m\u001b[33;43ma\u001b[39;49m\u001b[33;43m'\u001b[39;49m\u001b[43m,\u001b[49m\u001b[43m \u001b[49m\u001b[33;43m'\u001b[39;49m\u001b[33;43mb\u001b[39;49m\u001b[33;43m'\u001b[39;49m\u001b[43m]\u001b[49m\u001b[43m,\u001b[49m\u001b[43m \u001b[49m\u001b[43mstrict\u001b[49m\u001b[43m=\u001b[49m\u001b[38;5;28;43;01mTrue\u001b[39;49;00m\u001b[43m)\u001b[49m\u001b[43m)\u001b[49m)\n",
      "\u001b[31mValueError\u001b[39m: zip() argument 2 is shorter than argument 1"
     ]
    }
   ],
   "source": [
    "print(list(zip([1, 2, 3], ['a', 'b'], strict=True)))"
   ]
  },
  {
   "cell_type": "code",
   "execution_count": 54,
   "id": "59e3a6f0",
   "metadata": {},
   "outputs": [
    {
     "data": {
      "text/plain": [
       "11"
      ]
     },
     "execution_count": 54,
     "metadata": {},
     "output_type": "execute_result"
    }
   ],
   "source": [
    "# len(길이를 계산하려는 객체)\n",
    "len('hello world')"
   ]
  },
  {
   "cell_type": "code",
   "execution_count": 56,
   "id": "6efb9cc3",
   "metadata": {},
   "outputs": [
    {
     "ename": "TypeError",
     "evalue": "object of type 'zip' has no len()",
     "output_type": "error",
     "traceback": [
      "\u001b[31m---------------------------------------------------------------------------\u001b[39m",
      "\u001b[31mTypeError\u001b[39m                                 Traceback (most recent call last)",
      "\u001b[36mCell\u001b[39m\u001b[36m \u001b[39m\u001b[32mIn[56]\u001b[39m\u001b[32m, line 1\u001b[39m\n\u001b[32m----> \u001b[39m\u001b[32m1\u001b[39m \u001b[38;5;28;43mlen\u001b[39;49m\u001b[43m(\u001b[49m\u001b[38;5;28;43mzip\u001b[39;49m\u001b[43m(\u001b[49m\u001b[33;43m'\u001b[39;49m\u001b[33;43mab\u001b[39;49m\u001b[33;43m'\u001b[39;49m\u001b[43m,\u001b[49m\u001b[43m \u001b[49m\u001b[33;43m'\u001b[39;49m\u001b[33;43m12\u001b[39;49m\u001b[33;43m'\u001b[39;49m\u001b[43m)\u001b[49m\u001b[43m)\u001b[49m\n",
      "\u001b[31mTypeError\u001b[39m: object of type 'zip' has no len()"
     ]
    }
   ],
   "source": [
    "len(zip('ab', '12'))"
   ]
  },
  {
   "cell_type": "code",
   "execution_count": 60,
   "id": "766b07b1",
   "metadata": {},
   "outputs": [
    {
     "data": {
      "text/plain": [
       "'world1'"
      ]
     },
     "execution_count": 60,
     "metadata": {},
     "output_type": "execute_result"
    }
   ],
   "source": [
    "max([1, 2, 3, 4, 5]) # 출력 : 5\n",
    "max([(1, 2), (3, 101), (1, 20), (3, 100)]) # 출력 : (3,101)\n",
    "max(['hello', 'world', 'world1']) # 출력 : world1"
   ]
  },
  {
   "cell_type": "code",
   "execution_count": 63,
   "id": "d8fc0dc5",
   "metadata": {},
   "outputs": [
    {
     "data": {
      "text/plain": [
       "0"
      ]
     },
     "execution_count": 63,
     "metadata": {},
     "output_type": "execute_result"
    }
   ],
   "source": [
    "numbers = []\n",
    "\n",
    "max(numbers, default=0)"
   ]
  },
  {
   "cell_type": "code",
   "execution_count": 66,
   "id": "f881ce41",
   "metadata": {},
   "outputs": [
    {
     "data": {
      "text/plain": [
       "'가'"
      ]
     },
     "execution_count": 66,
     "metadata": {},
     "output_type": "execute_result"
    }
   ],
   "source": [
    "students = [\n",
    "    {'이름': '가', '국어': 90, '영어': 72, '수학': 95},\n",
    "    {'이름': '나', \"국어\": 80, '영어': 90, '수학': 91},\n",
    "    {'이름': '다', \"국어\": 95, '영어': 73, '수학': 92}\n",
    "]\n",
    "\n",
    "max(students, key=lambda student: student['수학'])['이름']"
   ]
  },
  {
   "cell_type": "code",
   "execution_count": 67,
   "id": "75b507a3",
   "metadata": {},
   "outputs": [
    {
     "data": {
      "text/plain": [
       "{'이름': '가', '국어': 90, '영어': 72, '수학': 95}"
      ]
     },
     "execution_count": 67,
     "metadata": {},
     "output_type": "execute_result"
    }
   ],
   "source": [
    "def select(student):\n",
    "    return student['수학']\n",
    "\n",
    "students = [\n",
    "    {'이름': '가', '국어': 90, '영어': 72, '수학': 95},\n",
    "    {'이름': '나', \"국어\": 80, '영어': 90, '수학': 91},\n",
    "    {'이름': '다', \"국어\": 95, '영어': 73, '수학': 92}\n",
    "]\n",
    "\n",
    "max(students, key=select)"
   ]
  },
  {
   "cell_type": "code",
   "execution_count": null,
   "id": "b46b4616",
   "metadata": {},
   "outputs": [],
   "source": [
    "# sum(iterable, start=0)"
   ]
  },
  {
   "cell_type": "code",
   "execution_count": 70,
   "id": "0ef9871f",
   "metadata": {},
   "outputs": [
    {
     "data": {
      "text/plain": [
       "16"
      ]
     },
     "execution_count": 70,
     "metadata": {},
     "output_type": "execute_result"
    }
   ],
   "source": [
    "sum([1, 2, 3, 4, 5]) # 출력: 15\n",
    "sum([1, 2, 3], 10)"
   ]
  },
  {
   "cell_type": "code",
   "execution_count": 71,
   "id": "1e51baa1",
   "metadata": {},
   "outputs": [
    {
     "data": {
      "text/plain": [
       "[1, 2, 10, 20, 100, 200]"
      ]
     },
     "execution_count": 71,
     "metadata": {},
     "output_type": "execute_result"
    }
   ],
   "source": [
    "sum([[1, 2], [10, 20], [100, 200]], [])"
   ]
  },
  {
   "cell_type": "code",
   "execution_count": 75,
   "id": "d5f07daa",
   "metadata": {},
   "outputs": [
    {
     "data": {
      "text/plain": [
       "333"
      ]
     },
     "execution_count": 75,
     "metadata": {},
     "output_type": "execute_result"
    }
   ],
   "source": [
    "result = sum([[1, 2], [10, 20], [100, 200]], [])\n",
    "# result = [1, 2, 10, 20, 100, 200]\n",
    "sum(result)"
   ]
  },
  {
   "cell_type": "code",
   "execution_count": null,
   "id": "117181b5",
   "metadata": {},
   "outputs": [
    {
     "data": {
      "text/plain": [
       "np.int64(231)"
      ]
     },
     "execution_count": 76,
     "metadata": {},
     "output_type": "execute_result"
    }
   ],
   "source": [
    "import numpy as np\n",
    "\n",
    "np.sum([[1, 2], [3, 101], [1, 20], [3, 100]]) # 출력 : 231"
   ]
  },
  {
   "cell_type": "code",
   "execution_count": 78,
   "id": "5f315151",
   "metadata": {},
   "outputs": [
    {
     "name": "stdout",
     "output_type": "stream",
     "text": [
      "world\n"
     ]
    },
    {
     "data": {
      "text/plain": [
       "hello"
      ]
     },
     "execution_count": 78,
     "metadata": {},
     "output_type": "execute_result"
    }
   ],
   "source": [
    "class Charactor:\n",
    "    def __repr__(self):\n",
    "        return 'hello'\n",
    "    def __str__(self):\n",
    "        return 'world'\n",
    "\n",
    "hero = Charactor()\n",
    "print(hero)\n",
    "hero"
   ]
  },
  {
   "cell_type": "code",
   "execution_count": 82,
   "id": "c7bb6d25",
   "metadata": {},
   "outputs": [
    {
     "name": "stdout",
     "output_type": "stream",
     "text": [
      "2\n",
      "4\n",
      "6\n",
      "8\n"
     ]
    }
   ],
   "source": [
    "for i in range(2, 10, 2):\n",
    "    print(i)"
   ]
  },
  {
   "cell_type": "code",
   "execution_count": 83,
   "id": "a53d28ae",
   "metadata": {},
   "outputs": [
    {
     "name": "stdout",
     "output_type": "stream",
     "text": [
      "[0, 2, 4, 6, 8, 10, 12, 14, 16, 18, 20, 22, 24, 26, 28, 30, 32, 34, 36, 38, 40, 42, 44, 46, 48, 50, 52, 54, 56, 58, 60, 62, 64, 66, 68, 70, 72, 74, 76, 78, 80, 82, 84, 86, 88, 90, 92, 94, 96, 98, 100]\n",
      "[1, 3, 5, 7, 9, 11, 13, 15, 17, 19, 21, 23, 25, 27, 29, 31, 33, 35, 37, 39, 41, 43, 45, 47, 49, 51, 53, 55, 57, 59, 61, 63, 65, 67, 69, 71, 73, 75, 77, 79, 81, 83, 85, 87, 89, 91, 93, 95, 97, 99]\n"
     ]
    }
   ],
   "source": [
    "print(list(range(0, 101, 2))) #짝수\n",
    "print(list(range(1, 101, 2)))"
   ]
  },
  {
   "cell_type": "code",
   "execution_count": 84,
   "id": "de8c124d",
   "metadata": {},
   "outputs": [
    {
     "name": "stdout",
     "output_type": "stream",
     "text": [
      "[100, 98, 96, 94, 92, 90, 88, 86, 84, 82, 80, 78, 76, 74, 72, 70, 68, 66, 64, 62, 60, 58, 56, 54, 52, 50, 48, 46, 44, 42, 40, 38, 36, 34, 32, 30, 28, 26, 24, 22, 20, 18, 16, 14, 12, 10, 8, 6, 4, 2]\n"
     ]
    }
   ],
   "source": [
    "print(list(range(100, 1, -2)))"
   ]
  },
  {
   "cell_type": "code",
   "execution_count": 85,
   "id": "24b0f7b9",
   "metadata": {},
   "outputs": [
    {
     "name": "stdout",
     "output_type": "stream",
     "text": [
      "[(0, 'A'), (1, 'B'), (2, 'C'), (3, 'D')]\n",
      "[(1, 'A'), (2, 'B'), (3, 'C'), (4, 'D')]\n",
      "[(100, 'A'), (101, 'B'), (102, 'C'), (103, 'D')]\n"
     ]
    }
   ],
   "source": [
    "values = ['A', 'B', 'C', 'D']\n",
    "print(list(enumerate(values)))\n",
    "print(list(enumerate(values, 1)))\n",
    "print(list(enumerate(values, 100)))"
   ]
  }
 ],
 "metadata": {
  "kernelspec": {
   "display_name": "Python 3",
   "language": "python",
   "name": "python3"
  },
  "language_info": {
   "codemirror_mode": {
    "name": "ipython",
    "version": 3
   },
   "file_extension": ".py",
   "mimetype": "text/x-python",
   "name": "python",
   "nbconvert_exporter": "python",
   "pygments_lexer": "ipython3",
   "version": "3.13.0"
  }
 },
 "nbformat": 4,
 "nbformat_minor": 5
}
