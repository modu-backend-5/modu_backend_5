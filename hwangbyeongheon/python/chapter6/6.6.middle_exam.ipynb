{
 "cells": [
  {
   "cell_type": "code",
   "execution_count": 11,
   "id": "352d9056",
   "metadata": {},
   "outputs": [
    {
     "name": "stdout",
     "output_type": "stream",
     "text": [
      "학생 점수의 평균: 80.40\n",
      "학생 점수의 평균: 80.40\n",
      "학생 점수의 평균: 80.40\n",
      "학생 점수의 평균: 330.80\n",
      "80.4\n"
     ]
    }
   ],
   "source": [
    "# 1. 다음 학생 점수의 평균을 구하세요.\n",
    "student_score = {\n",
    "    '홍의': 97,\n",
    "    '원희': 60,\n",
    "    '동해': 77,\n",
    "    '변수': 79,\n",
    "    '창현': 89,\n",
    "}\n",
    "student_score_sum = sum(student_score.values())\n",
    "student_cnt = len(student_score)\n",
    "student_score_avg = student_score_sum / student_cnt\n",
    "print(f\"학생 점수의 평균: {student_score_avg:.2f}\")\n",
    "answer = sum(student_score.values()) / len(student_score)\n",
    "print(f\"학생 점수의 평균: {answer:.2f}\")\n",
    "student_score.__len__()\n",
    "len(student_score)\n",
    "x = sum(student_score.values())\n",
    "y = x / len(student_score)\n",
    "print(f\"학생 점수의 평균: {y:.2f}\")\n",
    "average = student_score ['홍의'] + student_score ['원희'] + student_score ['동해'] + student_score ['변수'] + student_score ['창현'] / 5\n",
    "print(f\"학생 점수의 평균: {average:.2f}\")\n",
    "점수합=student_score.values()\n",
    "print(sum(점수합)/len(점수합))"
   ]
  },
  {
   "cell_type": "code",
   "execution_count": 12,
   "id": "28aaed54",
   "metadata": {},
   "outputs": [
    {
     "name": "stdout",
     "output_type": "stream",
     "text": [
      "1번 학생의 평균: 20.00\n",
      "2번 학생의 평균: 50.00\n",
      "3번 학생의 평균: 80.00\n"
     ]
    }
   ],
   "source": [
    "# 2. 다음 점수는 학생들의 국, 영, 수 점수입니다. 모든 학생의 평균을 구하세요.\n",
    "student_score = [\n",
    "    [10, 20, 30], \n",
    "    [40, 50, 60], \n",
    "    [70, 80, 90]\n",
    "]\n",
    "# 1번 학생\n",
    "student1_avg = sum(student_score[0]) / len(student_score[0])\n",
    "# 2번 학생\n",
    "student2_avg = sum(student_score[1]) / len(student_score[1])\n",
    "# 3번 학생\n",
    "student3_avg = sum(student_score[2]) / len(student_score[2])\n",
    "print(f\"1번 학생의 평균: {student1_avg:.2f}\")\n",
    "print(f\"2번 학생의 평균: {student2_avg:.2f}\")\n",
    "print(f\"3번 학생의 평균: {student3_avg:.2f}\")"
   ]
  },
  {
   "cell_type": "code",
   "execution_count": 13,
   "id": "bd5cce55",
   "metadata": {},
   "outputs": [
    {
     "name": "stdout",
     "output_type": "stream",
     "text": [
      "평균이 50점 이상인 학생 수: 2명\n"
     ]
    }
   ],
   "source": [
    "# 3. 다음 점수는 학생들의 국, 영, 수 점수입니다. 평균이 50점 이상인 학생이 몇 명 있는지 구하세요.\n",
    "student_score = [\n",
    "    [10, 20, 30], \n",
    "    [40, 50, 60], \n",
    "    [70, 80, 90]\n",
    "]\n",
    "cnt = 0\n",
    "# 1번 학생 평균\n",
    "student1_avg = sum(student_score[0]) / len(student_score[0])\n",
    "cnt += student1_avg >= 50\n",
    "\n",
    "# 2번 학생 평균\n",
    "student2_avg = sum(student_score[1]) / len(student_score[1])\n",
    "cnt += student2_avg >= 50\n",
    "\n",
    "# 3번 학생 평균\n",
    "student3_avg = sum(student_score[2]) / len(student_score[2])\n",
    "cnt += student3_avg >= 50\n",
    "\n",
    "print(f\"평균이 50점 이상인 학생 수: {cnt}명\")"
   ]
  },
  {
   "cell_type": "code",
   "execution_count": null,
   "id": "4a0c0a70",
   "metadata": {},
   "outputs": [],
   "source": [
    "# 4. 다음 데이터는 어떤 자료형에 담아야 할까요? 딕셔너리를 값으로 갖는 리스트\n",
    "[{\"이름\": '홍길동', \"국어\": 10, \"영어\": 20, \"수학\": 30},\n",
    "{\"이름\": '이호준', \"국어\": 40, \"영어\": 50, \"수학\": 60},\n",
    "{\"이름\": '이준호', \"국어\": 70, \"영어\": 80, \"수학\": 90}]"
   ]
  },
  {
   "cell_type": "code",
   "execution_count": null,
   "id": "5cc83ccd",
   "metadata": {},
   "outputs": [],
   "source": [
    "student_score = {\n",
    "    '홍의': 97,\n",
    "    '원희': 60,\n",
    "    '동해': 77,\n",
    "    '변수': 79,\n",
    "    '창현': 89,\n",
    "} \n",
    "student_score ['홍의'] + student_score ['원희'] + student_score ['동해'] + student_score ['변수'] + student_score ['창현'] / 5"
   ]
  }
 ],
 "metadata": {
  "kernelspec": {
   "display_name": "Python 3",
   "language": "python",
   "name": "python3"
  },
  "language_info": {
   "codemirror_mode": {
    "name": "ipython",
    "version": 3
   },
   "file_extension": ".py",
   "mimetype": "text/x-python",
   "name": "python",
   "nbconvert_exporter": "python",
   "pygments_lexer": "ipython3",
   "version": "3.13.0"
  }
 },
 "nbformat": 4,
 "nbformat_minor": 5
}
