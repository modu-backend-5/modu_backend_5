{
 "cells": [
  {
   "cell_type": "markdown",
   "id": "342baecb",
   "metadata": {},
   "source": [
    "# 셋(set)\n",
    "## 1. 셋(Set)이란?"
   ]
  },
  {
   "cell_type": "code",
   "execution_count": 1,
   "id": "62e7945b",
   "metadata": {},
   "outputs": [
    {
     "name": "stdout",
     "output_type": "stream",
     "text": [
      "{1, 2, 3, 4, 5}\n"
     ]
    }
   ],
   "source": [
    "my_set = {1, 2, 3, 3, 4, 4, 5}\n",
    "print(my_set)  # 중복된 값은 하나만 표시됩니다"
   ]
  },
  {
   "cell_type": "code",
   "execution_count": 3,
   "id": "afe376db",
   "metadata": {},
   "outputs": [
    {
     "name": "stdout",
     "output_type": "stream",
     "text": [
      "{1, 2, 3, 4, 5}\n"
     ]
    }
   ],
   "source": [
    "fruits = {'apple', 'banana', 'cherry'}\n",
    "numbers = set([1, 2, 2, 3, 4, 4, 5])\n",
    "print(numbers)"
   ]
  },
  {
   "cell_type": "code",
   "execution_count": 7,
   "id": "2172fc36",
   "metadata": {},
   "outputs": [
    {
     "name": "stdout",
     "output_type": "stream",
     "text": [
      "{1, 2, 3, 4, 5}\n"
     ]
    },
    {
     "ename": "TypeError",
     "evalue": "'set' object is not subscriptable",
     "output_type": "error",
     "traceback": [
      "\u001b[31m---------------------------------------------------------------------------\u001b[39m",
      "\u001b[31mTypeError\u001b[39m                                 Traceback (most recent call last)",
      "\u001b[36mCell\u001b[39m\u001b[36m \u001b[39m\u001b[32mIn[7]\u001b[39m\u001b[32m, line 4\u001b[39m\n\u001b[32m      1\u001b[39m numbers = {\u001b[32m1\u001b[39m, \u001b[32m2\u001b[39m, \u001b[32m3\u001b[39m, \u001b[32m4\u001b[39m, \u001b[32m5\u001b[39m, \u001b[32m5\u001b[39m, \u001b[32m4\u001b[39m, \u001b[32m3\u001b[39m, \u001b[32m2\u001b[39m, \u001b[32m1\u001b[39m}\n\u001b[32m      2\u001b[39m \u001b[38;5;28mprint\u001b[39m(numbers)  \u001b[38;5;66;03m# 중복된 값은 하나만 표시됩니다\u001b[39;00m\n\u001b[32m----> \u001b[39m\u001b[32m4\u001b[39m \u001b[38;5;28mprint\u001b[39m(\u001b[43mnumbers\u001b[49m\u001b[43m[\u001b[49m\u001b[43m:\u001b[49m\u001b[43m]\u001b[49m)\n",
      "\u001b[31mTypeError\u001b[39m: 'set' object is not subscriptable"
     ]
    }
   ],
   "source": [
    "numbers = {1, 2, 3, 4, 5, 5, 4, 3, 2, 1}\n",
    "print(numbers)  # 중복된 값은 하나만 표시됩니다\n",
    "\n",
    "print(numbers[:])"
   ]
  },
  {
   "cell_type": "code",
   "execution_count": null,
   "id": "5558a0a9",
   "metadata": {},
   "outputs": [
    {
     "name": "stdout",
     "output_type": "stream",
     "text": [
      "합집합: {1, 2, 3, 4, 5, 6, 7, 8}\n",
      "교집합: {4, 5}\n",
      "차집합: {1, 2, 3}\n"
     ]
    }
   ],
   "source": [
    "# 1.3 셋 연산\n",
    "set1 = {1, 2, 3, 4, 5}\n",
    "set2 = {4, 5, 6, 7, 8}\n",
    "\n",
    "print(\"합집합:\", set1 | set2)\n",
    "print(\"교집합:\", set1 & set2)\n",
    "print(\"차집합:\", set1 - set2)"
   ]
  },
  {
   "cell_type": "code",
   "execution_count": 12,
   "id": "f6bf8485",
   "metadata": {},
   "outputs": [
    {
     "data": {
      "text/plain": [
       "{'apple', 'cherry', 'orange'}"
      ]
     },
     "execution_count": 12,
     "metadata": {},
     "output_type": "execute_result"
    }
   ],
   "source": [
    "# 1.4 셋 수정\n",
    "fruits = {'apple', 'banana', 'cherry'}\n",
    "\n",
    "fruits.add(\"orange\")\n",
    "fruits\n",
    "\n",
    "fruits.remove(\"banana\")\n",
    "fruits"
   ]
  },
  {
   "cell_type": "code",
   "execution_count": null,
   "id": "14f5c6c5",
   "metadata": {},
   "outputs": [
    {
     "name": "stdout",
     "output_type": "stream",
     "text": [
      "대칭 차집합: {1, 2, 3, 6, 7, 8}\n",
      "set1이 set2의 부분집합인가? False\n",
      "두 집합에 겹치는 요소가 있는지? False\n"
     ]
    }
   ],
   "source": [
    "# 1.5 셋 메서드\n",
    "set1 = {1, 2, 3, 4, 5}\n",
    "set2 = {4, 5, 6, 7, 8}\n",
    "\n",
    "print(\"대칭 차집합:\", set1.symmetric_difference(set2))\n",
    "print(\"set1이 set2의 부분집합인가?\", set1.issubset(set2))\n",
    "print(\"두 집합에 겹치는 요소가 없는가?\", set1.isdisjoint(set2))"
   ]
  }
 ],
 "metadata": {
  "kernelspec": {
   "display_name": "Python 3",
   "language": "python",
   "name": "python3"
  },
  "language_info": {
   "codemirror_mode": {
    "name": "ipython",
    "version": 3
   },
   "file_extension": ".py",
   "mimetype": "text/x-python",
   "name": "python",
   "nbconvert_exporter": "python",
   "pygments_lexer": "ipython3",
   "version": "3.13.0"
  }
 },
 "nbformat": 4,
 "nbformat_minor": 5
}
