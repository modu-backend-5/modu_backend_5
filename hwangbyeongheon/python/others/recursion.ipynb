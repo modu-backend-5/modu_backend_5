{
 "cells": [
  {
   "cell_type": "markdown",
   "id": "412214c9",
   "metadata": {},
   "source": [
    "# 재귀함수\n",
    "## 1. 재귀함수(recursion)"
   ]
  },
  {
   "cell_type": "code",
   "execution_count": null,
   "id": "f2716083",
   "metadata": {},
   "outputs": [],
   "source": [
    "# 주의! 실행하지 마세요!\n",
    "def 숫자출력():\n",
    "    print(1)\n",
    "    return 숫자출력()\n",
    "숫자출력()"
   ]
  },
  {
   "cell_type": "code",
   "execution_count": null,
   "id": "ca6901ef",
   "metadata": {},
   "outputs": [],
   "source": [
    "# 1.1. 무한 반복에 종료 조건을 부여\n",
    "def 숫자출력(count):\n",
    "    if count > 100:\n",
    "        return\n",
    "    print(count)\n",
    "    return 숫자출력(count+1) #값을 1부터 반복횟수 까지의 값을 출력\n",
    "\n",
    "숫자출력(1)"
   ]
  },
  {
   "cell_type": "code",
   "execution_count": null,
   "id": "1805325e",
   "metadata": {},
   "outputs": [],
   "source": [
    "# for i in range(1, 101):\n",
    "#     print(i)\n",
    "cnt = 1\n",
    "while True:\n",
    "    if cnt > 100:\n",
    "        break\n",
    "    print(cnt)\n",
    "    cnt += 1"
   ]
  },
  {
   "cell_type": "code",
   "execution_count": 7,
   "id": "f38e3b56",
   "metadata": {},
   "outputs": [
    {
     "data": {
      "text/plain": [
       "3628800"
      ]
     },
     "execution_count": 7,
     "metadata": {},
     "output_type": "execute_result"
    }
   ],
   "source": [
    "# 1.2 팩토리얼 함수\n",
    "def factorial(n):\n",
    "    if n == 1:\n",
    "        return 1\n",
    "    return n * factorial(n-1)\n",
    "\n",
    "factorial(10)"
   ]
  },
  {
   "cell_type": "code",
   "execution_count": 8,
   "id": "50bd3445",
   "metadata": {},
   "outputs": [
    {
     "data": {
      "text/plain": [
       "'olleh'"
      ]
     },
     "execution_count": 8,
     "metadata": {},
     "output_type": "execute_result"
    }
   ],
   "source": [
    "# 1.3 문자열 거꾸로 출력하기\n",
    "def 거꾸로(s):\n",
    "    if len(s) == 1:\n",
    "        return s\n",
    "    else:\n",
    "        return 거꾸로(s[1:]) + s[0]\n",
    "거꾸로('hello') # 출력: olleh"
   ]
  }
 ],
 "metadata": {
  "kernelspec": {
   "display_name": "Python 3",
   "language": "python",
   "name": "python3"
  },
  "language_info": {
   "codemirror_mode": {
    "name": "ipython",
    "version": 3
   },
   "file_extension": ".py",
   "mimetype": "text/x-python",
   "name": "python",
   "nbconvert_exporter": "python",
   "pygments_lexer": "ipython3",
   "version": "3.13.0"
  }
 },
 "nbformat": 4,
 "nbformat_minor": 5
}
