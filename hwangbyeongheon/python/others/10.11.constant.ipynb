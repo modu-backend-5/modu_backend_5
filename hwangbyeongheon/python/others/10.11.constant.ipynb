{
 "cells": [
  {
   "cell_type": "markdown",
   "id": "41876113",
   "metadata": {},
   "source": [
    "# 상수 선언\n",
    "## 1. 상수 선언"
   ]
  },
  {
   "cell_type": "code",
   "execution_count": 1,
   "id": "e21cd2be",
   "metadata": {},
   "outputs": [
    {
     "name": "stdout",
     "output_type": "stream",
     "text": [
      "Color.RED\n",
      "Color.RED\n",
      "Color.GREEN\n",
      "Color.BLUE\n"
     ]
    }
   ],
   "source": [
    "from enum import Enum\n",
    "\n",
    "\n",
    "class Color(Enum):\n",
    "    RED = 1\n",
    "    GREEN = 2\n",
    "    BLUE = 3\n",
    "\n",
    "\n",
    "print(Color.RED)\n",
    "\n",
    "\n",
    "for color in Color:\n",
    "    print(color)"
   ]
  }
 ],
 "metadata": {
  "kernelspec": {
   "display_name": "Python 3",
   "language": "python",
   "name": "python3"
  },
  "language_info": {
   "codemirror_mode": {
    "name": "ipython",
    "version": 3
   },
   "file_extension": ".py",
   "mimetype": "text/x-python",
   "name": "python",
   "nbconvert_exporter": "python",
   "pygments_lexer": "ipython3",
   "version": "3.13.0"
  }
 },
 "nbformat": 4,
 "nbformat_minor": 5
}
