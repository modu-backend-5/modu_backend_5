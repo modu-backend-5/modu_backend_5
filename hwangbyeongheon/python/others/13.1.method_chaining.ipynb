{
 "cells": [
  {
   "cell_type": "markdown",
   "id": "40f6437a",
   "metadata": {},
   "source": [
    "# 메서드 체이닝\n",
    "## 1. 메서드 체이닝"
   ]
  },
  {
   "cell_type": "code",
   "execution_count": 7,
   "id": "43d79fe1",
   "metadata": {},
   "outputs": [
    {
     "data": {
      "text/plain": [
       "['W', 'O', 'R', 'L', 'D']"
      ]
     },
     "execution_count": 7,
     "metadata": {},
     "output_type": "execute_result"
    }
   ],
   "source": [
    "list(\"Hello World\".replace(\"Hello\", \"Bello\").lower().upper().split()[1])"
   ]
  }
 ],
 "metadata": {
  "kernelspec": {
   "display_name": "Python 3",
   "language": "python",
   "name": "python3"
  },
  "language_info": {
   "codemirror_mode": {
    "name": "ipython",
    "version": 3
   },
   "file_extension": ".py",
   "mimetype": "text/x-python",
   "name": "python",
   "nbconvert_exporter": "python",
   "pygments_lexer": "ipython3",
   "version": "3.13.0"
  }
 },
 "nbformat": 4,
 "nbformat_minor": 5
}
