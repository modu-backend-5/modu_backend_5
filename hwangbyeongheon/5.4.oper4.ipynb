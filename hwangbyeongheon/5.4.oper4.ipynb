{
 "cells": [
  {
   "cell_type": "markdown",
   "id": "475daa84",
   "metadata": {},
   "source": [
    "# 할당연산\n",
    "## 할당 연산자"
   ]
  },
  {
   "cell_type": "code",
   "execution_count": null,
   "id": "706c01fb",
   "metadata": {},
   "outputs": [
    {
     "name": "stdout",
     "output_type": "stream",
     "text": [
      "11 False 8\n"
     ]
    }
   ],
   "source": [
    "x = 10\n",
    "# x = 10 + 1\n",
    "# x = 11\n",
    "x = x + 1\n",
    "y = True and False\n",
    "# y = 1 * 0\n",
    "# y = 0\n",
    "# y = False\n",
    "z = 5 + 3\n",
    "# z = 8\n",
    "\n",
    "\n",
    "print(x, y, z)"
   ]
  },
  {
   "cell_type": "code",
   "execution_count": 8,
   "id": "2be3a19d",
   "metadata": {},
   "outputs": [
    {
     "data": {
      "text/plain": [
       "54"
      ]
     },
     "execution_count": 8,
     "metadata": {},
     "output_type": "execute_result"
    }
   ],
   "source": [
    "# //= 목 대입\n",
    "x = 10\n",
    "# x = 10 // 2\n",
    "x //= 2\n",
    "\n",
    "# -= 뺄셈 대입\n",
    "# x = 5\n",
    "# x = x - 2\n",
    "x -= 2\n",
    "\n",
    "# **= 거듭제곱 대입\n",
    "# x = 3\n",
    "# x = x ** 3\n",
    "# x = 3 ** 3\n",
    "# x = 3 * 3 * 3\n",
    "# x = 27\n",
    "x **= 3\n",
    "\n",
    "# *= 곱셈 대입\n",
    "# x = 27\n",
    "# x = x * 2\n",
    "x *= 2\n",
    "x"
   ]
  }
 ],
 "metadata": {
  "kernelspec": {
   "display_name": "Python 3",
   "language": "python",
   "name": "python3"
  },
  "language_info": {
   "codemirror_mode": {
    "name": "ipython",
    "version": 3
   },
   "file_extension": ".py",
   "mimetype": "text/x-python",
   "name": "python",
   "nbconvert_exporter": "python",
   "pygments_lexer": "ipython3",
   "version": "3.13.0"
  }
 },
 "nbformat": 4,
 "nbformat_minor": 5
}
