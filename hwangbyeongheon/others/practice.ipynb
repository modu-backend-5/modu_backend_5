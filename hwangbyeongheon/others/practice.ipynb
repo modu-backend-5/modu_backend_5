{
 "cells": [
  {
   "cell_type": "markdown",
   "id": "cccd36f8",
   "metadata": {},
   "source": [
    "1번 문제\n",
    "다음 코드를 실행하면 출력되는 값을 순서대로 작성해보세요.\n",
    "\n",
    "```python\n",
    "a = 'pithon'\n",
    "\n",
    "def 함수1():\n",
    "    def 함수2():\n",
    "        print('love')\n",
    "\n",
    "    print('I') # 1번\n",
    "    함수2() #2번\n",
    "    return \"python\" #3번\n",
    "\n",
    "a = 함수1()\n",
    "print(a)\n",
    "\n",
    "```"
   ]
  },
  {
   "cell_type": "markdown",
   "id": "7dfc24bb",
   "metadata": {},
   "source": [
    "\n",
    "2번 문제\n",
    "함수를 이용하여 계산기 프로그램을 만들어주세요.\n",
    "\n",
    "```python\n",
    "def plus(num1, num2):\n",
    "    #이곳을 채워주세요\n",
    "\n",
    "def minus(num1, num2):\n",
    "    #이곳을 채워주세요\n",
    "\n",
    "def multiply(num1, num2):\n",
    "    #이곳을 채워주세요\n",
    "\n",
    "def divide(num1, num2):\n",
    "    #이곳을 채워주세요\n",
    "\n",
    "print(f'plus : {plus(10, 5)}')\n",
    "print(f'minus : {minus(10, 5)}')\n",
    "print(f'multiply : {multiply(10, 5)}')\n",
    "print(f'divide : {divide(10, 5)}')\n",
    "\n",
    "```\n"
   ]
  },
  {
   "cell_type": "code",
   "execution_count": null,
   "id": "14389882",
   "metadata": {},
   "outputs": [],
   "source": [
    "def plus(num1, num2):\n",
    "    return num1 + num2\n",
    "\n",
    "def minus(num1, num2):\n",
    "    return num1 - num2\n",
    "\n",
    "def multiply(num1, num2):\n",
    "    return num1 * num2\n",
    "\n",
    "def divide(num1, num2):\n",
    "    return num1 / num2\n",
    "\n",
    "print(f'plus : {plus(10, 5)}')\n",
    "print(f'minus : {minus(10, 5)}')\n",
    "print(f'multiply : {multiply(10, 5)}')\n",
    "print(f'divide : {divide(10, 5)}')"
   ]
  },
  {
   "cell_type": "markdown",
   "id": "ca6e6148",
   "metadata": {},
   "source": [
    "\n",
    "3번 문제\n",
    "2번의 해답을 이용하여 a와 b를 더한 값과 a와 b를 뺀 값을 곱하는 함수를 만들어주세요. 아래와 같은 값이 있다면 (2 + 3) * (2 - 3) = -5가 출력이 되어야 합니다.\n",
    "\n",
    "```python\n",
    "a = 2\n",
    "b = 3\n",
    "# 이 부분에 코드를 작성해주세요.\n",
    "\n",
    "```\n"
   ]
  },
  {
   "cell_type": "code",
   "execution_count": null,
   "id": "89148489",
   "metadata": {},
   "outputs": [],
   "source": [
    "def operation(a, b):\n",
    "    return multiply(plus(a, b), minus(a, b))\n",
    "\n",
    "a = 2\n",
    "b = 3\n",
    "operation(a, b)"
   ]
  },
  {
   "cell_type": "markdown",
   "id": "829c2e37",
   "metadata": {},
   "source": [
    "\n",
    "4번 문제\n",
    "x의 n제곱을 구하는 함수를 만들어주세요. 재귀함수를 이용하여 만들어야 하며, x는 0이 아닙니다. (x, n > 1)\n"
   ]
  },
  {
   "cell_type": "code",
   "execution_count": 7,
   "id": "4c26976a",
   "metadata": {},
   "outputs": [
    {
     "data": {
      "text/plain": [
       "1"
      ]
     },
     "execution_count": 7,
     "metadata": {},
     "output_type": "execute_result"
    }
   ],
   "source": [
    "def power(x, n):\n",
    "    if n == 0:\n",
    "        return 1\n",
    "    else:\n",
    "        return x * power(x, n - 1)\n",
    "\n",
    "power(2, 0) # 2 ** 3 == 8\n",
    "# 2 ** -1"
   ]
  },
  {
   "cell_type": "markdown",
   "id": "16d7c054",
   "metadata": {},
   "source": [
    "\n",
    "5번 문제\n",
    "이 데이터에서 licat을 출력해주세요. 단, 직접 접근은 안됩니다. data[1]로 접근하는 것은 안됩니다.\n",
    "\n",
    "```python\n",
    "data = [['weniv CTO binky', 2], ['weniv CEO licat', 1], ['weniv COO mura', 2]]\n",
    "\n",
    "```\n"
   ]
  },
  {
   "cell_type": "code",
   "execution_count": 13,
   "id": "95f3f383",
   "metadata": {},
   "outputs": [
    {
     "name": "stdout",
     "output_type": "stream",
     "text": [
      "licat\n"
     ]
    }
   ],
   "source": [
    "data = [['weniv CTO binky', 2], ['weniv CEO licat', 1], ['weniv COO mura', 2]]\n",
    "print(sum(list(filter(lambda x: \"CEO\" in x[0], data)), [])[0].split()[2])"
   ]
  },
  {
   "cell_type": "markdown",
   "id": "2eb4f2fb",
   "metadata": {},
   "source": [
    "\n",
    "6번 문제\n",
    "다음 함수 is_palindrome를 완성하시오. 이 함수는 하나의 문자열을 인자로 받아, 해당 문자열이 앞으로 읽으나 뒤로 읽으나 같은 단어이면 True를, 아니면 False를 반환해야 합니다.\n",
    "\n",
    "```python\n",
    "def is_palindrome(s):\n",
    "    pass\n",
    "\n",
    "```\n"
   ]
  },
  {
   "cell_type": "code",
   "execution_count": 16,
   "id": "02257aeb",
   "metadata": {},
   "outputs": [
    {
     "name": "stdout",
     "output_type": "stream",
     "text": [
      "True\n",
      "True\n",
      "True\n",
      "True\n",
      "False\n"
     ]
    }
   ],
   "source": [
    "def is_palindrome(s):\n",
    "    if s == s[::-1]:\n",
    "        return True\n",
    "    return False\n",
    "\n",
    "print(is_palindrome(\"level\"))  # True\n",
    "print(is_palindrome(\"기러기\"))\n",
    "print(is_palindrome(\"토마토\"))\n",
    "print(is_palindrome(\"스위스\"))\n",
    "print(is_palindrome(\"스위뜨\"))"
   ]
  },
  {
   "cell_type": "markdown",
   "id": "f0b90c2f",
   "metadata": {},
   "source": [
    "\n",
    "7번 문제\n",
    "리스트 numbers가 주어졌을 때, 이 리스트 내의 모든 짝수를 제거하는 코드를 작성하시오.\n",
    "\n",
    "```python\n",
    "numbers = [2, 3, 4, 5, 6, 7, 8, 9, 10]\n",
    "# code\n",
    "print(numbers)  # 결과: [3, 5, 7, 9]\n",
    "\n",
    "```\n"
   ]
  },
  {
   "cell_type": "code",
   "execution_count": null,
   "id": "a8f0590f",
   "metadata": {},
   "outputs": [
    {
     "name": "stdout",
     "output_type": "stream",
     "text": [
      "[3, 3, 5, 7, 9]\n"
     ]
    }
   ],
   "source": [
    "numbers = [2, 2, 3, 3, 4, 4, 5, 6, 7, 8, 9, 10]\n",
    "# code\n",
    "numbers = list(filter(lambda x: x % 2 != 0, numbers))\n",
    "print(numbers)  # 결과: [3, 5, 7, 9]"
   ]
  },
  {
   "cell_type": "markdown",
   "id": "e94de775",
   "metadata": {},
   "source": [
    "\n",
    "8번 문제\n",
    "아래 데이터를 두 번째 요소의 문자열 길이를 기준으로 정렬하세요.\n",
    "\n",
    "```python\n",
    "data = [\n",
    "  [2, 'hello world', 30],\n",
    "  [3, 'hworl', 33],\n",
    "  [5, 'hello wo', 35],\n",
    "  [4, 'hello w', 31],\n",
    "  [6, 'hello w', 39],\n",
    "]\n",
    "\n",
    "```\n"
   ]
  },
  {
   "cell_type": "code",
   "execution_count": 23,
   "id": "4d71da82",
   "metadata": {},
   "outputs": [
    {
     "name": "stdout",
     "output_type": "stream",
     "text": [
      "[[3, 'hworl', 33], [4, 'hello w', 31], [6, 'hello w', 39], [5, 'hello wo', 35], [2, 'hello world', 30]]\n"
     ]
    }
   ],
   "source": [
    "data = [\n",
    "  [2, 'hello world', 30],\n",
    "  [3, 'hworl', 33],\n",
    "  [5, 'hello wo', 35],\n",
    "  [4, 'hello w', 31],\n",
    "  [6, 'hello w', 39],\n",
    "]\n",
    "data.sort(key=lambda x: len(x[1]))\n",
    "print(data)"
   ]
  },
  {
   "cell_type": "markdown",
   "id": "570b3ad5",
   "metadata": {},
   "source": [
    "\n",
    "9번 문제\n",
    "8번 문제에서 첫 번째 요소와 세 번째 요소의 차가 큰 순으로 출력해주세요."
   ]
  },
  {
   "cell_type": "code",
   "execution_count": 25,
   "id": "34c9f0fe",
   "metadata": {},
   "outputs": [
    {
     "name": "stdout",
     "output_type": "stream",
     "text": [
      "[[6, 'hello w', 39], [3, 'hworl', 33], [5, 'hello wo', 35], [2, 'hello world', 30], [4, 'hello w', 31]]\n"
     ]
    }
   ],
   "source": [
    "data = [\n",
    "  [2, 'hello world', 30],\n",
    "  [3, 'hworl', 33],\n",
    "  [5, 'hello wo', 35],\n",
    "  [4, 'hello w', 31],\n",
    "  [6, 'hello w', 39],\n",
    "]\n",
    "\n",
    "data.sort(key=lambda x: abs(x[0] - x[2]), reverse=True)\n",
    "print(data)"
   ]
  }
 ],
 "metadata": {
  "kernelspec": {
   "display_name": "Python 3",
   "language": "python",
   "name": "python3"
  },
  "language_info": {
   "codemirror_mode": {
    "name": "ipython",
    "version": 3
   },
   "file_extension": ".py",
   "mimetype": "text/x-python",
   "name": "python",
   "nbconvert_exporter": "python",
   "pygments_lexer": "ipython3",
   "version": "3.13.0"
  }
 },
 "nbformat": 4,
 "nbformat_minor": 5
}
