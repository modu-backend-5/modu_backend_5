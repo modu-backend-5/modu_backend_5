{
 "cells": [
  {
   "cell_type": "markdown",
   "id": "65c352a6",
   "metadata": {},
   "source": [
    "# 추상 클래스와 인터페이스\n",
    "## 1. 추상 클래스"
   ]
  },
  {
   "cell_type": "code",
   "execution_count": 3,
   "id": "d20c77b3",
   "metadata": {},
   "outputs": [
    {
     "name": "stdout",
     "output_type": "stream",
     "text": [
      "제 이름은 hojun입니다.\n"
     ]
    }
   ],
   "source": [
    "from abc import ABC, abstractmethod\n",
    "\n",
    "\n",
    "class AbstractClassExample(ABC):\n",
    "\n",
    "    def __init__(self, name):\n",
    "        self.name = name\n",
    "\n",
    "    @abstractmethod\n",
    "    def do_something(self):\n",
    "        pass\n",
    "\n",
    "\n",
    "class Person(AbstractClassExample):\n",
    "\n",
    "\n",
    "    def print_name(self):\n",
    "        print(f'제 이름은 {self.name}입니다.')\n",
    "\n",
    "    def do_something(self):\n",
    "        print(f'{self.name}이(가) 무언가를 합니다.')\n",
    "\n",
    "\n",
    "hojun = Person('hojun')\n",
    "hojun.print_name()"
   ]
  },
  {
   "cell_type": "markdown",
   "id": "039615dd",
   "metadata": {},
   "source": []
  }
 ],
 "metadata": {
  "kernelspec": {
   "display_name": "Python 3",
   "language": "python",
   "name": "python3"
  },
  "language_info": {
   "codemirror_mode": {
    "name": "ipython",
    "version": 3
   },
   "file_extension": ".py",
   "mimetype": "text/x-python",
   "name": "python",
   "nbconvert_exporter": "python",
   "pygments_lexer": "ipython3",
   "version": "3.13.0"
  }
 },
 "nbformat": 4,
 "nbformat_minor": 5
}
