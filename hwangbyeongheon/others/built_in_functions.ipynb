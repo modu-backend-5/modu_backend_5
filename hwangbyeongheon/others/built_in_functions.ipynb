{
 "cells": [
  {
   "cell_type": "code",
   "execution_count": 9,
   "id": "403bb0d3",
   "metadata": {},
   "outputs": [
    {
     "data": {
      "text/plain": [
       "True"
      ]
     },
     "execution_count": 9,
     "metadata": {},
     "output_type": "execute_result"
    }
   ],
   "source": [
    "# 2.1 all, any\n",
    "# arr = [1, 0, 3, 4, 5]\n",
    "arr = [True, True, True, True, True]\n",
    "all(arr)\n",
    "\n",
    "# arr = [True, False, True, True, True]\n",
    "# arr = [False, False, False, False, False]\n",
    "# arr = [1, 0, 3, 4, 5]\n",
    "arr = [-1, 0]\n",
    "any(arr)"
   ]
  },
  {
   "cell_type": "code",
   "execution_count": 13,
   "id": "c14691be",
   "metadata": {},
   "outputs": [
    {
     "data": {
      "text/plain": [
       "54616"
      ]
     },
     "execution_count": 13,
     "metadata": {},
     "output_type": "execute_result"
    }
   ],
   "source": [
    "# 2.2 chr, ord\n",
    "chr(65)\n",
    "ord('A')\n",
    "ord('하')"
   ]
  },
  {
   "cell_type": "code",
   "execution_count": 15,
   "id": "ed205590",
   "metadata": {},
   "outputs": [
    {
     "data": {
      "text/plain": [
       "54616"
      ]
     },
     "execution_count": 15,
     "metadata": {},
     "output_type": "execute_result"
    }
   ],
   "source": [
    "int('D558', 16)"
   ]
  },
  {
   "cell_type": "code",
   "execution_count": null,
   "id": "d4174f7d",
   "metadata": {},
   "outputs": [],
   "source": [
    "# 2.3 map\n",
    "inp_data = input() # \"40 80 60\"\n",
    "data_list = inp_data.split() # [\"40\", \"80\", \"60\"]\n",
    "# for i in range(len(data_list)):\n",
    "#     data_list[i] = int(data_list[i]) # [\"40\", \"80\", \"60\"] -> [40, 80, 60]\n",
    "map_data = map(int, data_list)\n",
    "# \"40\" -> int(\"40\") -> 40\n",
    "# \"80\" -> int(\"80\") -> 80\n",
    "# \"60\" -> int(\"60\") -> 60\n",
    "# map([40, 80, 60])\n",
    "list_data = list(map_data) # [40, 80, 60]\n"
   ]
  },
  {
   "cell_type": "code",
   "execution_count": 20,
   "id": "85b34d42",
   "metadata": {},
   "outputs": [
    {
     "name": "stdout",
     "output_type": "stream",
     "text": [
      "[50.0, 100.0, 75.0]\n",
      "cnt: 3\n"
     ]
    }
   ],
   "source": [
    "N = int(input())\n",
    "# N = 3\n",
    "scores = input().split()\n",
    "cnt = 0\n",
    "# scores = ['40', '80', '60']\n",
    "max_score = max(map(int, scores))\n",
    "def new_score_func(score):\n",
    "    global cnt\n",
    "    cnt += 1\n",
    "    score = int(score)\n",
    "    return score / max_score * 100\n",
    "\n",
    "new_scores = list(map(new_score_func, scores))\n",
    "print(new_scores)\n",
    "print(\"cnt:\", cnt)"
   ]
  },
  {
   "cell_type": "code",
   "execution_count": 21,
   "id": "1f679030",
   "metadata": {},
   "outputs": [
    {
     "name": "stdout",
     "output_type": "stream",
     "text": [
      "75.0\n"
     ]
    }
   ],
   "source": [
    "N = int(input())\n",
    "scores = input().split()\n",
    "max_score = max(map(int, scores))\n",
    "new_scores = list(map(lambda score: int(score) / max_score * 100, scores))\n",
    "new_score_avg = sum(new_scores) / N\n",
    "print(new_score_avg)"
   ]
  }
 ],
 "metadata": {
  "kernelspec": {
   "display_name": "Python 3",
   "language": "python",
   "name": "python3"
  },
  "language_info": {
   "codemirror_mode": {
    "name": "ipython",
    "version": 3
   },
   "file_extension": ".py",
   "mimetype": "text/x-python",
   "name": "python",
   "nbconvert_exporter": "python",
   "pygments_lexer": "ipython3",
   "version": "3.13.0"
  }
 },
 "nbformat": 4,
 "nbformat_minor": 5
}
