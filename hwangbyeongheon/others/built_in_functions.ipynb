{
 "cells": [
  {
   "cell_type": "code",
   "execution_count": 9,
   "id": "403bb0d3",
   "metadata": {},
   "outputs": [
    {
     "data": {
      "text/plain": [
       "True"
      ]
     },
     "execution_count": 9,
     "metadata": {},
     "output_type": "execute_result"
    }
   ],
   "source": [
    "# 2.1 all, any\n",
    "# arr = [1, 0, 3, 4, 5]\n",
    "arr = [True, True, True, True, True]\n",
    "all(arr)\n",
    "\n",
    "# arr = [True, False, True, True, True]\n",
    "# arr = [False, False, False, False, False]\n",
    "# arr = [1, 0, 3, 4, 5]\n",
    "arr = [-1, 0]\n",
    "any(arr)"
   ]
  },
  {
   "cell_type": "code",
   "execution_count": 13,
   "id": "c14691be",
   "metadata": {},
   "outputs": [
    {
     "data": {
      "text/plain": [
       "54616"
      ]
     },
     "execution_count": 13,
     "metadata": {},
     "output_type": "execute_result"
    }
   ],
   "source": [
    "# 2.2 chr, ord\n",
    "chr(65)\n",
    "ord('A')\n",
    "ord('하')"
   ]
  },
  {
   "cell_type": "code",
   "execution_count": 15,
   "id": "ed205590",
   "metadata": {},
   "outputs": [
    {
     "data": {
      "text/plain": [
       "54616"
      ]
     },
     "execution_count": 15,
     "metadata": {},
     "output_type": "execute_result"
    }
   ],
   "source": [
    "int('D558', 16)"
   ]
  },
  {
   "cell_type": "code",
   "execution_count": null,
   "id": "d4174f7d",
   "metadata": {},
   "outputs": [],
   "source": [
    "# 2.3 map\n",
    "inp_data = input() # \"40 80 60\"\n",
    "data_list = inp_data.split() # [\"40\", \"80\", \"60\"]\n",
    "# for i in range(len(data_list)):\n",
    "#     data_list[i] = int(data_list[i]) # [\"40\", \"80\", \"60\"] -> [40, 80, 60]\n",
    "map_data = map(int, data_list)\n",
    "# \"40\" -> int(\"40\") -> 40\n",
    "# \"80\" -> int(\"80\") -> 80\n",
    "# \"60\" -> int(\"60\") -> 60\n",
    "# map([40, 80, 60])\n",
    "list_data = list(map_data) # [40, 80, 60]\n"
   ]
  },
  {
   "cell_type": "code",
   "execution_count": 20,
   "id": "85b34d42",
   "metadata": {},
   "outputs": [
    {
     "name": "stdout",
     "output_type": "stream",
     "text": [
      "[50.0, 100.0, 75.0]\n",
      "cnt: 3\n"
     ]
    }
   ],
   "source": [
    "N = int(input())\n",
    "# N = 3\n",
    "scores = input().split()\n",
    "cnt = 0\n",
    "# scores = ['40', '80', '60']\n",
    "max_score = max(map(int, scores))\n",
    "def new_score_func(score):\n",
    "    global cnt\n",
    "    cnt += 1\n",
    "    score = int(score)\n",
    "    return score / max_score * 100\n",
    "\n",
    "new_scores = list(map(new_score_func, scores))\n",
    "print(new_scores)\n",
    "print(\"cnt:\", cnt)"
   ]
  },
  {
   "cell_type": "code",
   "execution_count": 21,
   "id": "1f679030",
   "metadata": {},
   "outputs": [
    {
     "name": "stdout",
     "output_type": "stream",
     "text": [
      "75.0\n"
     ]
    }
   ],
   "source": [
    "N = int(input())\n",
    "scores = input().split()\n",
    "max_score = max(map(int, scores))\n",
    "new_scores = list(map(lambda score: int(score) / max_score * 100, scores))\n",
    "new_score_avg = sum(new_scores) / N\n",
    "print(new_score_avg)"
   ]
  },
  {
   "cell_type": "code",
   "execution_count": 5,
   "id": "cf553d20",
   "metadata": {},
   "outputs": [
    {
     "name": "stdout",
     "output_type": "stream",
     "text": [
      "[2, 4, 6, 8, 10, 12, 14, 16, 18, 20, 22, 24, 26, 28, 30, 32, 34, 36, 38, 40, 42, 44, 46, 48, 50, 52, 54, 56, 58, 60, 62, 64, 66, 68, 70, 72, 74, 76, 78, 80, 82, 84, 86, 88, 90, 92, 94, 96, 98, 100]\n",
      "[2, 4, 6, 8, 10, 12, 14, 16, 18, 20, 22, 24, 26, 28, 30, 32, 34, 36, 38, 40, 42, 44, 46, 48, 50, 52, 54, 56, 58, 60, 62, 64, 66, 68, 70, 72, 74, 76, 78, 80, 82, 84, 86, 88, 90, 92, 94, 96, 98, 100]\n"
     ]
    }
   ],
   "source": [
    "# 2.4 filter\n",
    "# filter(조건 함수, 리스트 또는 튜플)\n",
    "x = range(1, 101)\n",
    "arr = []\n",
    "for i in x:\n",
    "    if i % 2 == 0:\n",
    "        arr.append(i)\n",
    "print(arr)\n",
    "filtered_list = list(filter(lambda i: i % 2 == 0, x))\n",
    "print(filtered_list)"
   ]
  },
  {
   "cell_type": "code",
   "execution_count": 14,
   "id": "69e68139",
   "metadata": {},
   "outputs": [
    {
     "name": "stdout",
     "output_type": "stream",
     "text": [
      "[(1, 'a'), (2, 'b'), (3, 'c')]\n"
     ]
    }
   ],
   "source": [
    "# 2.5 zip\n",
    "x = \"benny\"\n",
    "y = \"garam\"\n",
    "idx = [0, 1, 2]\n",
    "zipped = zip(x, y, idx)\n",
    "list(zipped)\n",
    "\n",
    "x = [2, 4, 8, 16, 32, 64, 128]\n",
    "x_list = list(zip(x, x[1:], x[2:]))\n",
    "# for i, j, k in x_list:\n",
    "    # print(i, j, k)\n",
    "\n",
    "\n",
    "# 리스트 길이가 같은 경우\n",
    "print(list(zip([1, 2, 3], ['a', 'b', 'c'], strict=True)))\n",
    "\n",
    "# 리스트 길이가 다른 경우\n",
    "# print(list(zip([1, 2, 3], ['a', 'b'], strict=True)))"
   ]
  },
  {
   "cell_type": "code",
   "execution_count": 17,
   "id": "09de8525",
   "metadata": {},
   "outputs": [
    {
     "name": "stdout",
     "output_type": "stream",
     "text": [
      "123.46\n",
      "  Hello  \n"
     ]
    }
   ],
   "source": [
    "# 2.6 format\n",
    "# format(값, '서식 지정자(format_spec)')\n",
    "format(10000, ',')\n",
    "print(format(123.4567, '.2f'))\n",
    "print(format('Hello', '^9')) # 출력: '  Hello  '"
   ]
  },
  {
   "cell_type": "code",
   "execution_count": 22,
   "id": "eb043597",
   "metadata": {},
   "outputs": [
    {
     "data": {
      "text/plain": [
       "{'이름': '나', '국어': 80, '영어': 90, '수학': 91}"
      ]
     },
     "execution_count": 22,
     "metadata": {},
     "output_type": "execute_result"
    }
   ],
   "source": [
    "# 2.8.1 max, min\n",
    "students = [\n",
    "    {'이름': '가', '국어': 90, '영어': 72, '수학': 95},\n",
    "    {'이름': '나', \"국어\": 80, '영어': 90, '수학': 91},\n",
    "    {'이름': '다', \"국어\": 95, '영어': 73, '수학': 92}\n",
    "]\n",
    "\n",
    "max(students, key=lambda student: student['수학'])\n",
    "# {'이름': '가', '국어': 90, '영어': 72, '수학': 95}\n",
    "\n",
    "# min(순회할 수 있는 객체, 함수(key), 초깃값(default))\n",
    "min([1, 2, 3, 4, 5]) # 출력 : 1\n",
    "min([], default=0) # 출력: 0\n",
    "\n",
    "students = [\n",
    "    {'이름': '가', '국어': 90, '영어': 72, '수학': 95},\n",
    "    {'이름': '나', \"국어\": 80, '영어': 90, '수학': 91},\n",
    "    {'이름': '다', \"국어\": 95, '영어': 73, '수학': 92}\n",
    "]\n",
    "\n",
    "min(students, key=lambda student: student['수학'])"
   ]
  },
  {
   "cell_type": "code",
   "execution_count": null,
   "id": "a3b0a30a",
   "metadata": {},
   "outputs": [
    {
     "data": {
      "text/plain": [
       "[1, 2, 3, 4, 5, 6]"
      ]
     },
     "execution_count": 27,
     "metadata": {},
     "output_type": "execute_result"
    }
   ],
   "source": [
    "# 2.8.2 sum\n",
    "# sum(iterable, start=0)\n",
    "arr = [1, 2, 3, 4, 5]\n",
    "sum(arr, start=10)  # 출력: 25\n",
    "multi_arr = [[1, 2], [3, 4], [5, 6]]\n",
    "sum(multi_arr, [])\n",
    "# [] + [1, 2] = [1, 2]\n",
    "# [1, 2] + [3, 4] = [1, 2, 3, 4]\n",
    "# [1, 2, 3, 4] + [5, 6] = [1, 2, 3, 4, 5, 6]\n",
    "# sum(multi_arr) = [1, 2, 3, 4, 5, 6]\n",
    "\n",
    "sum([1, 2, 10, 20, 100, 200])\n",
    "# [1, 2, 10, 20, 100, 200]"
   ]
  },
  {
   "cell_type": "code",
   "execution_count": 31,
   "id": "190d1807",
   "metadata": {},
   "outputs": [
    {
     "name": "stdout",
     "output_type": "stream",
     "text": [
      "<class 'str'>\n"
     ]
    },
    {
     "data": {
      "text/plain": [
       "str"
      ]
     },
     "execution_count": 31,
     "metadata": {},
     "output_type": "execute_result"
    }
   ],
   "source": [
    "# 2.9 print, repr\n",
    "\n",
    "\"hello\"\n",
    "print(type(\"hello\"))\n",
    "type(\"hello\")  # <class 'str'>"
   ]
  },
  {
   "cell_type": "code",
   "execution_count": 32,
   "id": "ae8cab2c",
   "metadata": {},
   "outputs": [
    {
     "name": "stdout",
     "output_type": "stream",
     "text": [
      "1 a\n",
      "2 b\n",
      "3 c\n"
     ]
    }
   ],
   "source": [
    "# 2.10.3 enumerate\n",
    "for i, v in enumerate(['a', 'b', 'c'], 1):\n",
    "    print(i, v)"
   ]
  },
  {
   "cell_type": "code",
   "execution_count": 40,
   "id": "ada90583",
   "metadata": {},
   "outputs": [
    {
     "name": "stdout",
     "output_type": "stream",
     "text": [
      "<class 'type'>\n"
     ]
    }
   ],
   "source": [
    "# 2.11 sorted, reversed\n",
    "sorted(['hello', 'l', 'hllo', 'hel', 'heo', 'a'], key=len)\n",
    "sorted(['21', '21', '12', '22', '53', '15'], key=lambda x:x[-1])\n",
    "\n",
    "list(reversed('hello world'))\n",
    "# 'hello world'[::-1]\n",
    "print(type(range))"
   ]
  }
 ],
 "metadata": {
  "kernelspec": {
   "display_name": "Python 3",
   "language": "python",
   "name": "python3"
  },
  "language_info": {
   "codemirror_mode": {
    "name": "ipython",
    "version": 3
   },
   "file_extension": ".py",
   "mimetype": "text/x-python",
   "name": "python",
   "nbconvert_exporter": "python",
   "pygments_lexer": "ipython3",
   "version": "3.13.0"
  }
 },
 "nbformat": 4,
 "nbformat_minor": 5
}
