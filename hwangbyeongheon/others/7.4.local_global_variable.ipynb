{
 "cells": [
  {
   "cell_type": "code",
   "execution_count": 1,
   "id": "e137200f",
   "metadata": {},
   "outputs": [
    {
     "name": "stdout",
     "output_type": "stream",
     "text": [
      "1\n"
     ]
    },
    {
     "ename": "NameError",
     "evalue": "name 'a' is not defined",
     "output_type": "error",
     "traceback": [
      "\u001b[31m---------------------------------------------------------------------------\u001b[39m",
      "\u001b[31mNameError\u001b[39m                                 Traceback (most recent call last)",
      "\u001b[36mCell\u001b[39m\u001b[36m \u001b[39m\u001b[32mIn[1]\u001b[39m\u001b[32m, line 8\u001b[39m\n\u001b[32m      4\u001b[39m     \u001b[38;5;28mprint\u001b[39m(a)  \u001b[38;5;66;03m# 출력: 1\u001b[39;00m\n\u001b[32m      7\u001b[39m f() \u001b[38;5;66;03m# 지역변수 a 생성되고 사용되고 없어졌다.\u001b[39;00m\n\u001b[32m----> \u001b[39m\u001b[32m8\u001b[39m \u001b[38;5;28mprint\u001b[39m(\u001b[43ma\u001b[49m)  \u001b[38;5;66;03m# error: a는 f 함수 내부에서만 정의되었습니다.\u001b[39;00m\n",
      "\u001b[31mNameError\u001b[39m: name 'a' is not defined"
     ]
    }
   ],
   "source": [
    "# 지역 변수 사용 예시\n",
    "def f():\n",
    "    a = 1\n",
    "    print(a)  # 출력: 1\n",
    "\n",
    "\n",
    "f() # 지역변수 a 생성되고 사용되고 없어졌다.\n",
    "print(a)  # error: a는 f 함수 내부에서만 정의되었습니다."
   ]
  },
  {
   "cell_type": "code",
   "execution_count": 3,
   "id": "441da93f",
   "metadata": {},
   "outputs": [
    {
     "name": "stdout",
     "output_type": "stream",
     "text": [
      "{'a': 1, 'b': 'local_val'}\n"
     ]
    }
   ],
   "source": [
    "def f():\n",
    "    a = 1\n",
    "    b = \"local_val\"\n",
    "    print(locals()) # 출력: {'a': 1}\n",
    "\n",
    "f()"
   ]
  },
  {
   "cell_type": "code",
   "execution_count": 4,
   "id": "ee77191e",
   "metadata": {},
   "outputs": [
    {
     "name": "stdout",
     "output_type": "stream",
     "text": [
      "{'a': 1, 'b': 'hello', 'ff': <function f.<locals>.ff at 0x00000204812B9E40>}\n"
     ]
    }
   ],
   "source": [
    "def f():\n",
    "    a = 1\n",
    "    b = 'hello'\n",
    "    def ff():\n",
    "        pass\n",
    "    print(locals()) # 출력: {'a': 1, 'b': 'hello', 'ff': <function f.<locals>.ff at 0x7a46e99d2c20>}\n",
    "\n",
    "f()"
   ]
  },
  {
   "cell_type": "code",
   "execution_count": 10,
   "id": "2f63742a",
   "metadata": {},
   "outputs": [
    {
     "name": "stdout",
     "output_type": "stream",
     "text": [
      "101\n"
     ]
    }
   ],
   "source": [
    "a = 100\n",
    "\n",
    "def f():\n",
    "    global a\n",
    "    a += 1\n",
    "\n",
    "f()\n",
    "print(a)"
   ]
  },
  {
   "cell_type": "code",
   "execution_count": 13,
   "id": "7d044586",
   "metadata": {},
   "outputs": [
    {
     "name": "stdout",
     "output_type": "stream",
     "text": [
      "100\n",
      "101\n"
     ]
    }
   ],
   "source": [
    "a = 100\n",
    "\n",
    "def f():\n",
    "    print(a) # 출력: 100\n",
    "\n",
    "f()\n",
    "\n",
    "def ff():\n",
    "    b = a + 1\n",
    "    print(b) # 출력: 101\n",
    "\n",
    "ff()"
   ]
  },
  {
   "cell_type": "code",
   "execution_count": 1,
   "id": "612a4898",
   "metadata": {},
   "outputs": [
    {
     "name": "stdout",
     "output_type": "stream",
     "text": [
      "{'__name__': '__main__', '__doc__': 'Automatically created module for IPython interactive environment', '__package__': None, '__loader__': None, '__spec__': None, '__builtin__': <module 'builtins' (built-in)>, '__builtins__': <module 'builtins' (built-in)>, '_ih': ['', \"a = 1\\nb = 'hello'\\ndef f():\\n    pass\\nprint(globals())\"], '_oh': {}, '_dh': [WindowsPath('c:/Users/elwl5/Desktop/modu_backend_5/hwangbyeongheon/others')], 'In': ['', \"a = 1\\nb = 'hello'\\ndef f():\\n    pass\\nprint(globals())\"], 'Out': {}, 'get_ipython': <bound method InteractiveShell.get_ipython of <ipykernel.zmqshell.ZMQInteractiveShell object at 0x000001A41183F8C0>>, 'exit': <IPython.core.autocall.ZMQExitAutocall object at 0x000001A4118D4EC0>, 'quit': <IPython.core.autocall.ZMQExitAutocall object at 0x000001A4118D4EC0>, 'open': <function open at 0x000001A40F5960C0>, '_': '', '__': '', '___': '', '__vsc_ipynb_file__': 'c:\\\\Users\\\\elwl5\\\\Desktop\\\\modu_backend_5\\\\hwangbyeongheon\\\\others\\\\7.4.local_global_variable.ipynb', '_i': '', '_ii': '', '_iii': '', '_i1': \"a = 1\\nb = 'hello'\\ndef f():\\n    pass\\nprint(globals())\", 'a': 1, 'b': 'hello', 'f': <function f at 0x000001A411A3FBA0>}\n"
     ]
    }
   ],
   "source": [
    "a = 1\n",
    "b = 'hello'\n",
    "def f():\n",
    "    pass\n",
    "print(globals())"
   ]
  },
  {
   "cell_type": "code",
   "execution_count": 2,
   "id": "215697e4",
   "metadata": {},
   "outputs": [
    {
     "name": "stdout",
     "output_type": "stream",
     "text": [
      "100\n",
      "1000\n",
      "10000\n",
      "10\n"
     ]
    }
   ],
   "source": [
    "a = 10\n",
    "def f():\n",
    "    a = 100\n",
    "    print(a) # 출력: 100\n",
    "    def ff():\n",
    "        a = 1000\n",
    "        print(a) # 출력: 1000\n",
    "        def fff():\n",
    "            a = 10000 # 출력: 10000\n",
    "            print(a)\n",
    "        fff()\n",
    "    ff()\n",
    "f()\n",
    "print(a) # 출력: 10"
   ]
  },
  {
   "cell_type": "code",
   "execution_count": 3,
   "id": "64a5e584",
   "metadata": {},
   "outputs": [
    {
     "name": "stdout",
     "output_type": "stream",
     "text": [
      "100\n",
      "1000\n",
      "10\n",
      "10\n"
     ]
    }
   ],
   "source": [
    "a = 10\n",
    "def f():\n",
    "    a = 100\n",
    "    print(a)\n",
    "    def ff():\n",
    "        a = 1000\n",
    "        print(a)\n",
    "        def fff():\n",
    "            global a\n",
    "            print(a)\n",
    "        fff()\n",
    "    ff()\n",
    "f()\n",
    "print(a)"
   ]
  }
 ],
 "metadata": {
  "kernelspec": {
   "display_name": "Python 3",
   "language": "python",
   "name": "python3"
  },
  "language_info": {
   "codemirror_mode": {
    "name": "ipython",
    "version": 3
   },
   "file_extension": ".py",
   "mimetype": "text/x-python",
   "name": "python",
   "nbconvert_exporter": "python",
   "pygments_lexer": "ipython3",
   "version": "3.13.0"
  }
 },
 "nbformat": 4,
 "nbformat_minor": 5
}
