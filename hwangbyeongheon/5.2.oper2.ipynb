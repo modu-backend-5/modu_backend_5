{
 "cells": [
  {
   "cell_type": "markdown",
   "id": "43de6623",
   "metadata": {},
   "source": [
    "# 비교연산\n",
    "## 1. 비교연산자"
   ]
  },
  {
   "cell_type": "code",
   "execution_count": 2,
   "id": "307ab74f",
   "metadata": {},
   "outputs": [
    {
     "data": {
      "text/plain": [
       "True"
      ]
     },
     "execution_count": 2,
     "metadata": {},
     "output_type": "execute_result"
    }
   ],
   "source": [
    "# 1.1 == (같음)\n",
    "5 == 5\n",
    "5 == 5.0"
   ]
  },
  {
   "cell_type": "code",
   "execution_count": null,
   "id": "a1f90af9",
   "metadata": {},
   "outputs": [
    {
     "data": {
      "text/plain": [
       "False"
      ]
     },
     "execution_count": 4,
     "metadata": {},
     "output_type": "execute_result"
    }
   ],
   "source": [
    "# 1.2 != (같지 않음)\n",
    "5 != 6 # True\n",
    "5 != 5.0 # False"
   ]
  },
  {
   "cell_type": "code",
   "execution_count": 6,
   "id": "4efcc1be",
   "metadata": {},
   "outputs": [
    {
     "name": "stdout",
     "output_type": "stream",
     "text": [
      "True\n",
      "False\n"
     ]
    }
   ],
   "source": [
    "# 1.3 < (작음)\n",
    "print(3 < 5) # 결과: True\n",
    "print(5 < 5)"
   ]
  },
  {
   "cell_type": "code",
   "execution_count": null,
   "id": "e4d336b1",
   "metadata": {},
   "outputs": [
    {
     "name": "stdout",
     "output_type": "stream",
     "text": [
      "True\n",
      "True\n",
      "False\n"
     ]
    }
   ],
   "source": [
    "# 1.4 <= (작거나 같음)\n",
    "print(5 <= 5) # 결과: True\n",
    "print(4.9 <= 5) # True\n",
    "print(5.1 <= 5) # False"
   ]
  },
  {
   "cell_type": "code",
   "execution_count": null,
   "id": "195d897e",
   "metadata": {},
   "outputs": [
    {
     "name": "stdout",
     "output_type": "stream",
     "text": [
      "True\n",
      "False\n"
     ]
    }
   ],
   "source": [
    "# 1.5 > (큼)\n",
    "print(6 > 5)  # 결과: True\n",
    "print(5 > 5)  # False"
   ]
  },
  {
   "cell_type": "code",
   "execution_count": 14,
   "id": "888c645a",
   "metadata": {},
   "outputs": [
    {
     "name": "stdout",
     "output_type": "stream",
     "text": [
      "True\n",
      "True\n",
      "False\n"
     ]
    }
   ],
   "source": [
    "# 1.6 >= (크거나 같음)\n",
    "print(5 >= 5) # 결과: True\n",
    "print(5.1 >= 5) # True\n",
    "print(4.9 >= 5) # False"
   ]
  },
  {
   "cell_type": "markdown",
   "id": "8aa6a0ba",
   "metadata": {},
   "source": [
    "## 2. 다양한 활용"
   ]
  },
  {
   "cell_type": "code",
   "execution_count": 15,
   "id": "5d5a3d3c",
   "metadata": {},
   "outputs": [
    {
     "name": "stdout",
     "output_type": "stream",
     "text": [
      "True\n"
     ]
    }
   ],
   "source": [
    "# a < b -> U+0061 < U+0062\n",
    "print('apple' < 'banana') # 결과: True"
   ]
  },
  {
   "cell_type": "code",
   "execution_count": null,
   "id": "1d84803a",
   "metadata": {},
   "outputs": [
    {
     "name": "stdout",
     "output_type": "stream",
     "text": [
      "False\n"
     ]
    }
   ],
   "source": [
    "# 하 > 후 -> U+D558 > U+D6C4\n",
    "print('하하' > '후후') # 결과: False"
   ]
  },
  {
   "cell_type": "code",
   "execution_count": null,
   "id": "1e239350",
   "metadata": {},
   "outputs": [
    {
     "name": "stdout",
     "output_type": "stream",
     "text": [
      "True\n"
     ]
    }
   ],
   "source": [
    "x = 10\n",
    "print(5 < x < 15) # 결과: True"
   ]
  }
 ],
 "metadata": {
  "kernelspec": {
   "display_name": "Python 3",
   "language": "python",
   "name": "python3"
  },
  "language_info": {
   "codemirror_mode": {
    "name": "ipython",
    "version": 3
   },
   "file_extension": ".py",
   "mimetype": "text/x-python",
   "name": "python",
   "nbconvert_exporter": "python",
   "pygments_lexer": "ipython3",
   "version": "3.13.0"
  }
 },
 "nbformat": 4,
 "nbformat_minor": 5
}
