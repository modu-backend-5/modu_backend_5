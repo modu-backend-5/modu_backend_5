{
 "cells": [
  {
   "cell_type": "markdown",
   "id": "de23057f",
   "metadata": {},
   "source": [
    "# if\n",
    "## 1. 조건문이란?\n",
    "## 2. if 문 사용하기"
   ]
  },
  {
   "cell_type": "code",
   "execution_count": null,
   "id": "4f45bdab",
   "metadata": {},
   "outputs": [
    {
     "name": "stdout",
     "output_type": "stream",
     "text": [
      "성인입니다.\n",
      "프로그램이 종료되었습니다.\n"
     ]
    }
   ],
   "source": [
    "# 2.1 기본 if 문\n",
    "age = 40\n",
    "\n",
    "\n",
    "if age >= 18 or age < 40:\n",
    "    print(\"성인입니다.\")\n",
    "\n",
    "\n",
    "print(\"프로그램이 종료되었습니다.\")"
   ]
  },
  {
   "cell_type": "code",
   "execution_count": 5,
   "id": "f4cd316a",
   "metadata": {},
   "outputs": [
    {
     "name": "stdout",
     "output_type": "stream",
     "text": [
      "미성년자입니다.\n"
     ]
    }
   ],
   "source": [
    "# 2.2 if-else 문\n",
    "age = 15\n",
    "\n",
    "if age >= 18:\n",
    "    print(\"성인입니다.\")\n",
    "else:\n",
    "    print(\"미성년자입니다.\")"
   ]
  },
  {
   "cell_type": "code",
   "execution_count": 8,
   "id": "2aaa877e",
   "metadata": {},
   "outputs": [
    {
     "name": "stdout",
     "output_type": "stream",
     "text": [
      "F학점\n"
     ]
    }
   ],
   "source": [
    "# 2.3 if-elif-else 문\n",
    "score = 55\n",
    "# score가 90 이상이면 A학점, 90미만 80 이상이면 B학점, 80미만 70 이상이면 C학점, 70미만 60 이상이면 D학점, 그 외에는 F학점\n",
    "if score >= 90:\n",
    "    print(\"A학점\")\n",
    "elif score >= 80:\n",
    "    print(\"B학점\")\n",
    "elif score >= 70:\n",
    "    print(\"C학점\")\n",
    "elif score >= 60:\n",
    "    print(\"D학점\")\n",
    "else:\n",
    "    print(\"F학점\")"
   ]
  },
  {
   "cell_type": "code",
   "execution_count": null,
   "id": "7d723358",
   "metadata": {},
   "outputs": [],
   "source": [
    "# 2.4 중첩된 if 문\n",
    "age = 20\n",
    "# 신분증 소지 여부\n",
    "has_id = True\n",
    "if age >= 18:\n",
    "    if has_id:\n",
    "        print(\"성인입니다. 신분증을 확인했습니다.\")\n",
    "    else:\n",
    "        print(\"성인입니다. 신분증이 필요합니다.\")\n",
    "else:\n",
    "    print(\"미성년자입니다. 신분증이 필요합니다.\")"
   ]
  },
  {
   "cell_type": "code",
   "execution_count": 9,
   "id": "86b627d8",
   "metadata": {},
   "outputs": [
    {
     "name": "stdout",
     "output_type": "stream",
     "text": [
      "놀이기구 탑승 가능\n",
      "입장 가능\n"
     ]
    }
   ],
   "source": [
    "# 2.5 and, or 연산자\n",
    "age = 22\n",
    "height = 175\n",
    "\n",
    "\n",
    "if age >= 18 and height >= 170:\n",
    "    print(\"놀이기구 탑승 가능\")\n",
    "else:\n",
    "    print(\"놀이기구 탑승 불가\")\n",
    "\n",
    "\n",
    "has_ticket = False\n",
    "is_vip = True\n",
    "\n",
    "\n",
    "if has_ticket or is_vip:\n",
    "    print(\"입장 가능\")\n",
    "else:\n",
    "    print(\"입장 불가\")"
   ]
  }
 ],
 "metadata": {
  "kernelspec": {
   "display_name": "Python 3",
   "language": "python",
   "name": "python3"
  },
  "language_info": {
   "codemirror_mode": {
    "name": "ipython",
    "version": 3
   },
   "file_extension": ".py",
   "mimetype": "text/x-python",
   "name": "python",
   "nbconvert_exporter": "python",
   "pygments_lexer": "ipython3",
   "version": "3.13.0"
  }
 },
 "nbformat": 4,
 "nbformat_minor": 5
}
