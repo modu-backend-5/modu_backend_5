{
 "cells": [
  {
   "cell_type": "markdown",
   "id": "6304e4af",
   "metadata": {},
   "source": [
    "# 함수에서 pass 사용하기\n",
    "## 1. pass 문이란?"
   ]
  },
  {
   "cell_type": "code",
   "execution_count": 2,
   "id": "444e2688",
   "metadata": {},
   "outputs": [],
   "source": [
    "def future_function():\n",
    "    pass # 아무 일도 일어나지 않습니다\n",
    "\n",
    "\n",
    "future_function()  # 아무 일도 일어나지 않습니다"
   ]
  },
  {
   "cell_type": "code",
   "execution_count": 4,
   "id": "fb6746c9",
   "metadata": {},
   "outputs": [],
   "source": [
    "if True:\n",
    "    pass\n",
    "for i in range(10):\n",
    "    pass\n",
    "\n",
    "while True:\n",
    "    pass\n",
    "    break"
   ]
  },
  {
   "cell_type": "code",
   "execution_count": null,
   "id": "ba0f6809",
   "metadata": {},
   "outputs": [],
   "source": [
    "def future_function() -> int:\n",
    "    # TODO: 250806 함수 틀만들어둠, 8월 내에 구현 필요\n",
    "    pass"
   ]
  }
 ],
 "metadata": {
  "kernelspec": {
   "display_name": "Python 3",
   "language": "python",
   "name": "python3"
  },
  "language_info": {
   "codemirror_mode": {
    "name": "ipython",
    "version": 3
   },
   "file_extension": ".py",
   "mimetype": "text/x-python",
   "name": "python",
   "nbconvert_exporter": "python",
   "pygments_lexer": "ipython3",
   "version": "3.13.0"
  }
 },
 "nbformat": 4,
 "nbformat_minor": 5
}
