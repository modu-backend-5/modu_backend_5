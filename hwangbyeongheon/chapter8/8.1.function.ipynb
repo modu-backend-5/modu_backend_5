{
 "cells": [
  {
   "cell_type": "markdown",
   "id": "60617e04",
   "metadata": {},
   "source": [
    "# 함수(Function)\n",
    "## 1. 함수(Function)란?"
   ]
  },
  {
   "cell_type": "code",
   "execution_count": 4,
   "id": "374e7220",
   "metadata": {},
   "outputs": [
    {
     "name": "stdout",
     "output_type": "stream",
     "text": [
      "안녕하세요!\n",
      "반갑습니다.\n",
      "저는 benny 입니다.\n",
      "안녕하세요!\n",
      "반갑습니다.\n",
      "저는 benny 입니다.\n"
     ]
    }
   ],
   "source": [
    "def greet(): # 함수 정의\n",
    "    print(\"안녕하세요!\")\n",
    "    print(\"반갑습니다.\")\n",
    "    print(\"저는 benny 입니다.\")\n",
    "\n",
    "greet()  # 함수 호출\n",
    "greet()"
   ]
  },
  {
   "cell_type": "code",
   "execution_count": 6,
   "id": "49f5ed88",
   "metadata": {},
   "outputs": [
    {
     "name": "stdout",
     "output_type": "stream",
     "text": [
      "hi my name is benny.\n",
      "hi my name is heo.\n",
      "hi my name is hyeon.\n",
      "hi my name is tae.\n"
     ]
    }
   ],
   "source": [
    "# 1.2 매개변수(Parameter)\n",
    "def greet(name):\n",
    "    print(f\"hi my name is {name}.\")\n",
    "\n",
    "greet(\"benny\")\n",
    "greet(\"heo\")\n",
    "greet(\"hyeon\")\n",
    "greet(\"tae\")"
   ]
  },
  {
   "cell_type": "code",
   "execution_count": 7,
   "id": "d1585189",
   "metadata": {},
   "outputs": [
    {
     "name": "stdout",
     "output_type": "stream",
     "text": [
      "3 + 5 = 8\n"
     ]
    }
   ],
   "source": [
    "# 1.3 반환값(Return Value)\n",
    "def add(a, b):\n",
    "    return a + b\n",
    "\n",
    "\n",
    "result = add(3, 5)\n",
    "print(\"3 + 5 =\", result)"
   ]
  },
  {
   "cell_type": "code",
   "execution_count": 9,
   "id": "544a615d",
   "metadata": {},
   "outputs": [
    {
     "name": "stdout",
     "output_type": "stream",
     "text": [
      "어서오세요 손님\n",
      "어서오세요 heo\n",
      "어서오세요 hyeon\n",
      "어서오세요 tae\n"
     ]
    }
   ],
   "source": [
    "# 1.4 기본 매개변수(Default Parameter)\n",
    "def greet(name=\"손님\"):\n",
    "    print(f\"어서오세요 {name}\")\n",
    "\n",
    "greet()\n",
    "greet(\"heo\")\n",
    "greet(\"hyeon\")\n",
    "greet(\"tae\")"
   ]
  },
  {
   "cell_type": "code",
   "execution_count": 10,
   "id": "2b2fd861",
   "metadata": {},
   "outputs": [
    {
     "name": "stdout",
     "output_type": "stream",
     "text": [
      "제 이름은 철수이고, 20살입니다.\n",
      "제 이름은 영희이고, 25살입니다.\n"
     ]
    }
   ],
   "source": [
    "# 1.5 키워드 인자(Keyword Arguments)\n",
    "def introduce(name, age):\n",
    "    print(f\"제 이름은 {name}이고, {age}살입니다.\")\n",
    "\n",
    "introduce(name=\"철수\", age=20)\n",
    "introduce(age=25, name=\"영희\")  # 순서를 바꿔도 됩니다"
   ]
  },
  {
   "cell_type": "code",
   "execution_count": 16,
   "id": "1977344a",
   "metadata": {},
   "outputs": [
    {
     "name": "stdout",
     "output_type": "stream",
     "text": [
      "함수 내부 지역 변수: 10\n",
      "함수 내부 전역 변수: 5\n",
      "함수 외부 전역 변수: 5\n"
     ]
    },
    {
     "ename": "NameError",
     "evalue": "name 'x' is not defined",
     "output_type": "error",
     "traceback": [
      "\u001b[31m---------------------------------------------------------------------------\u001b[39m",
      "\u001b[31mNameError\u001b[39m                                 Traceback (most recent call last)",
      "\u001b[36mCell\u001b[39m\u001b[36m \u001b[39m\u001b[32mIn[16]\u001b[39m\u001b[32m, line 10\u001b[39m\n\u001b[32m      8\u001b[39m local_var_example()\n\u001b[32m      9\u001b[39m \u001b[38;5;28mprint\u001b[39m(\u001b[33m\"\u001b[39m\u001b[33m함수 외부 전역 변수:\u001b[39m\u001b[33m\"\u001b[39m, y)  \u001b[38;5;66;03m# 전역 변수는 함수 외부에서도 접근 가능\u001b[39;00m\n\u001b[32m---> \u001b[39m\u001b[32m10\u001b[39m \u001b[38;5;28mprint\u001b[39m(\u001b[33m\"\u001b[39m\u001b[33m함수 외부 지역 변수:\u001b[39m\u001b[33m\"\u001b[39m, \u001b[43mx\u001b[49m)  \u001b[38;5;66;03m# 오류 발생, x는 지역 변수이므로 함수 외부에서 접근할 수 없음\u001b[39;00m\n",
      "\u001b[31mNameError\u001b[39m: name 'x' is not defined"
     ]
    }
   ],
   "source": [
    "# 1.6 지역 변수와 전역 변수\n",
    "y = 5  # 전역 변수\n",
    "def local_var_example():\n",
    "    x = 10  # 지역 변수\n",
    "    print(\"함수 내부 지역 변수:\", x)\n",
    "    print(\"함수 내부 전역 변수:\", y)  # 전역 변수는 함수 내부에서도 접근 가능\n",
    "\n",
    "local_var_example()\n",
    "print(\"함수 외부 전역 변수:\", y)  # 전역 변수는 함수 외부에서도 접근 가능\n",
    "print(\"함수 외부 지역 변수:\", x)  # 오류 발생, x는 지역 변수이므로 함수 외부에서 접근할 수 없음"
   ]
  }
 ],
 "metadata": {
  "kernelspec": {
   "display_name": "Python 3",
   "language": "python",
   "name": "python3"
  },
  "language_info": {
   "codemirror_mode": {
    "name": "ipython",
    "version": 3
   },
   "file_extension": ".py",
   "mimetype": "text/x-python",
   "name": "python",
   "nbconvert_exporter": "python",
   "pygments_lexer": "ipython3",
   "version": "3.13.0"
  }
 },
 "nbformat": 4,
 "nbformat_minor": 5
}
