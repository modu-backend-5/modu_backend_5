{
 "cells": [
  {
   "cell_type": "code",
   "execution_count": 1,
   "id": "93050504",
   "metadata": {},
   "outputs": [
    {
     "data": {
      "text/plain": [
       "str"
      ]
     },
     "execution_count": 1,
     "metadata": {},
     "output_type": "execute_result"
    }
   ],
   "source": [
    "x = 'hello'\n",
    "type(x)"
   ]
  },
  {
   "cell_type": "code",
   "execution_count": 2,
   "id": "734b92d1",
   "metadata": {},
   "outputs": [
    {
     "data": {
      "text/plain": [
       "str"
      ]
     },
     "execution_count": 2,
     "metadata": {},
     "output_type": "execute_result"
    }
   ],
   "source": [
    "x = \"hello\"\n",
    "type(x)"
   ]
  },
  {
   "cell_type": "code",
   "execution_count": 4,
   "id": "7f7cd3b4",
   "metadata": {},
   "outputs": [
    {
     "name": "stdout",
     "output_type": "stream",
     "text": [
      "안녕하십니까.\n",
      "이제부터 여러 줄 문자열을 작성해보겠습니다.\n",
      "\n"
     ]
    }
   ],
   "source": [
    "x = '''안녕하십니까.\n",
    "이제부터 여러 줄 문자열을 작성해보겠습니다.\n",
    "'''\n",
    "print(x)"
   ]
  },
  {
   "cell_type": "code",
   "execution_count": 5,
   "id": "c14c1c4b",
   "metadata": {},
   "outputs": [
    {
     "name": "stdout",
     "output_type": "stream",
     "text": [
      "안녕하십니까.\n",
      "이제부터 여러 줄 문자열을 작성해보겠습니다.\n",
      "\n"
     ]
    }
   ],
   "source": [
    "x = \"\"\"안녕하십니까.\n",
    "이제부터 여러 줄 문자열을 작성해보겠습니다.\n",
    "\"\"\"\n",
    "print(x)"
   ]
  },
  {
   "cell_type": "code",
   "execution_count": 10,
   "id": "00c606c6",
   "metadata": {},
   "outputs": [
    {
     "name": "stdout",
     "output_type": "stream",
     "text": [
      "hello world\n"
     ]
    }
   ],
   "source": [
    "x = \"hello\"\n",
    "y = 'world'\n",
    "print(x + \" \" + y)"
   ]
  },
  {
   "cell_type": "code",
   "execution_count": null,
   "id": "ffc1bf59",
   "metadata": {},
   "outputs": [],
   "source": [
    "x * 3"
   ]
  },
  {
   "cell_type": "code",
   "execution_count": 12,
   "id": "c6fd31d7",
   "metadata": {},
   "outputs": [
    {
     "name": "stdout",
     "output_type": "stream",
     "text": [
      "내가 하고 싶은 문자열을 계속 나열하다가 갑자기 이름은? bennybenny 나이는? 40\n"
     ]
    }
   ],
   "source": [
    "name = \"benny\"\n",
    "age = 20\n",
    "print(f\"내가 하고 싶은 문자열을 계속 나열하다가 갑자기 이름은? {name * 2} 나이는? {age * 2}\")"
   ]
  },
  {
   "cell_type": "code",
   "execution_count": 18,
   "id": "2f9e42ba",
   "metadata": {},
   "outputs": [
    {
     "ename": "IndexError",
     "evalue": "string index out of range",
     "output_type": "error",
     "traceback": [
      "\u001b[31m---------------------------------------------------------------------------\u001b[39m",
      "\u001b[31mIndexError\u001b[39m                                Traceback (most recent call last)",
      "\u001b[36mCell\u001b[39m\u001b[36m \u001b[39m\u001b[32mIn[18]\u001b[39m\u001b[32m, line 4\u001b[39m\n\u001b[32m      2\u001b[39m name[\u001b[32m2\u001b[39m]\n\u001b[32m      3\u001b[39m name[\u001b[32m4\u001b[39m], name[-\u001b[32m1\u001b[39m], name[-\u001b[32m5\u001b[39m]\n\u001b[32m----> \u001b[39m\u001b[32m4\u001b[39m \u001b[43mname\u001b[49m\u001b[43m[\u001b[49m\u001b[32;43m100\u001b[39;49m\u001b[43m]\u001b[49m\n",
      "\u001b[31mIndexError\u001b[39m: string index out of range"
     ]
    }
   ],
   "source": [
    "name = \"benny\"\n",
    "name[2]\n",
    "name[4], name[-1], name[-5]\n",
    "name[100]"
   ]
  },
  {
   "cell_type": "code",
   "execution_count": null,
   "id": "7d0dae90",
   "metadata": {},
   "outputs": [
    {
     "data": {
      "text/plain": [
       "'ynneb si eman ym'"
      ]
     },
     "execution_count": 24,
     "metadata": {},
     "output_type": "execute_result"
    }
   ],
   "source": [
    "# 4. 문자열 슬라이싱\n",
    "introduce = \"my name is benny\"\n",
    "# introduce[start:stop:step]\n",
    "introduce[11:]\n",
    "introduce[11:15]\n",
    "introduce[:]\n",
    "introduce[::2]\n",
    "introduce[::-1]"
   ]
  },
  {
   "cell_type": "code",
   "execution_count": 45,
   "id": "bbd5c7f8",
   "metadata": {},
   "outputs": [
    {
     "name": "stdout",
     "output_type": "stream",
     "text": [
      "제 이름은 licat이고, 나이는 29살입니다.\n"
     ]
    }
   ],
   "source": [
    "# 5. 문자열 메서드\n",
    "name = \"Benny\"\n",
    "\n",
    "# 문자열 전체를 소문자로 변환\n",
    "name = name.lower()\n",
    "\n",
    "# 문자열 전체를 대문자로 변환\n",
    "name = name.upper()\n",
    "\n",
    "introduce = \"my name is benny\"\n",
    "# introduce.find(\"benny1\") # 문자열이 존재하지 않으면 -1을 반환\n",
    "# introduce.index(\"benny1\") # 문자열이 존재하지 않으면 ValueError를 발생시킴\n",
    "\n",
    "# 문자열 안에 내가 찾을 문자의 개수\n",
    "introduce.count(\"M\")\n",
    "\n",
    "# 문자열 대체하는 함수\n",
    "introduce = introduce.replace(\"benny\", \"minkyeong\")\n",
    "introduce\n",
    "\n",
    "# 'my name is minkyeong'\n",
    "# [\"my\", \"name\", \"is\", \"minkyeong\"]\n",
    "# 문자열을 split 메서드로 나누기\n",
    "introduce.split()\n",
    "\n",
    "# [\"my\", \"name\", \"is\", \"minkyeong\"]\n",
    "s = [\"my\", \"name\", \"is\", \"minkyeong\"]\n",
    "\" \".join(s)\n",
    "\n",
    "# format 메서드\n",
    "name = 'licat'\n",
    "age = 29\n",
    "\n",
    "print('제 이름은 {}이고, 나이는 {}살입니다.'.format(name, age))"
   ]
  },
  {
   "cell_type": "code",
   "execution_count": 52,
   "id": "ce2a522c",
   "metadata": {},
   "outputs": [
    {
     "name": "stdout",
     "output_type": "stream",
     "text": [
      "안녕하세요.\n",
      "반갑습니다.\n",
      "안녕하세요.\t반갑습니다.\n",
      "반갑습니다.\n",
      "\"안녕하세요\", \"반갑습니다\"\n",
      "'안녕하세요', '반갑습니다'\n",
      "\\안녕하세요\\, \\반갑습니다\\\n"
     ]
    }
   ],
   "source": [
    "# 6. 이스케이프 문자\n",
    "print(\"안녕하세요.\\n반갑습니다.\")  # 줄바꿈\n",
    "print(\"안녕하세요.\\t반갑습니다.\")  # 탭\n",
    "print(\"안녕하세요.\\r반갑습니다.\")  # 캐리지 리턴, 커서를 처음으로 이동\n",
    "print(\"\\\"안녕하세요\\\", \\\"반갑습니다\\\"\") # 큰따옴표\n",
    "print(\"\\'안녕하세요\\', \\'반갑습니다\\'\") # 따옴표\n",
    "print(\"\\\\안녕하세요\\\\, \\\\반갑습니다\\\\\") # 백슬래시"
   ]
  }
 ],
 "metadata": {
  "kernelspec": {
   "display_name": "Python 3",
   "language": "python",
   "name": "python3"
  },
  "language_info": {
   "codemirror_mode": {
    "name": "ipython",
    "version": 3
   },
   "file_extension": ".py",
   "mimetype": "text/x-python",
   "name": "python",
   "nbconvert_exporter": "python",
   "pygments_lexer": "ipython3",
   "version": "3.13.0"
  }
 },
 "nbformat": 4,
 "nbformat_minor": 5
}
