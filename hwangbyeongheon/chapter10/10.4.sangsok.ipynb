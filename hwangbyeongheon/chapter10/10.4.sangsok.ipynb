{
 "cells": [
  {
   "cell_type": "markdown",
   "id": "3c15c62a",
   "metadata": {},
   "source": [
    "# 상속\n",
    "## 클래스의 상속"
   ]
  },
  {
   "cell_type": "code",
   "execution_count": 2,
   "id": "a1d6a735",
   "metadata": {},
   "outputs": [
    {
     "name": "stdout",
     "output_type": "stream",
     "text": [
      "300\n",
      "300\n",
      "2000\n",
      "출발하였습니다.\n"
     ]
    }
   ],
   "source": [
    "class Car(object):\n",
    "    maxSpeed = 300\n",
    "    maxPeople = 5\n",
    "\n",
    "\n",
    "    def move(self):\n",
    "        print('출발하였습니다.')\n",
    "\n",
    "\n",
    "    def stop(self):\n",
    "        print('멈췄습니다.')\n",
    "\n",
    "\n",
    "class HybridCar(Car):\n",
    "    battery = 1000\n",
    "    batteryKM = 300\n",
    "\n",
    "\n",
    "class ElectricCar(HybridCar):\n",
    "    battery = 2000\n",
    "    batteryKM = 600\n",
    "\n",
    "\n",
    "modelx = HybridCar()\n",
    "electricCarModely = ElectricCar()\n",
    "print(modelx.maxSpeed)\n",
    "print(electricCarModely.maxSpeed)\n",
    "print(electricCarModely.battery)\n",
    "electricCarModely.move()"
   ]
  },
  {
   "cell_type": "code",
   "execution_count": 5,
   "id": "a5d30174",
   "metadata": {},
   "outputs": [],
   "source": [
    "class Character:\n",
    "    최대속력 = 100\n",
    "    최대레벨 = 50\n",
    "\n",
    "    def __init__(self, 이름, 체력, 공격력, 레벨):\n",
    "        self.이름 = 이름\n",
    "        self.체력 = 체력\n",
    "        self.공격력 = 공격력\n",
    "        self.레벨 = 레벨\n",
    "        self.속력 = 1\n",
    "\n",
    "    def 이동(self):\n",
    "        print(f\"{self.이름}이(가) {self.속력}의 이동속도로 움직였습니다.\")\n",
    "\n",
    "    def 공격(self):\n",
    "        print(f'{self.이름}이(가) {self.공격력}의 데미지로 공격했습니다.')"
   ]
  },
  {
   "cell_type": "code",
   "execution_count": null,
   "id": "2880f4c5",
   "metadata": {},
   "outputs": [],
   "source": [
    "캐릭터 = Character(\"전사\", 100, 20, 1)"
   ]
  },
  {
   "cell_type": "code",
   "execution_count": 6,
   "id": "9d46013b",
   "metadata": {},
   "outputs": [],
   "source": [
    "class Mob(Character):\n",
    "    def __init__(self, 이름, 체력, 공격력, 레벨, 드랍률, 드랍아이템):\n",
    "        super().__init__(이름, 체력, 공격력, 레벨)\n",
    "        self.드랍률 = 드랍률\n",
    "        self.드랍아이템 = 드랍아이템"
   ]
  },
  {
   "cell_type": "code",
   "execution_count": null,
   "id": "09b6ee51",
   "metadata": {},
   "outputs": [],
   "source": [
    "몹 = Mob(\"슬라임\", 50, 10, 1, 0.1, \"슬라임 젤리\")"
   ]
  },
  {
   "cell_type": "code",
   "execution_count": null,
   "id": "d5722da8",
   "metadata": {},
   "outputs": [],
   "source": [
    "class Hero(Character):\n",
    "    def __init__(self, 이름, 체력, 공격력, 레벨, 스킬, 아이템, 미션):\n",
    "        super().__init__(이름, 체력, 공격력, 레벨)\n",
    "        self.스킬 = 스킬\n",
    "        self.아이템 = 아이템\n",
    "        self.미션 = 미션\n",
    "\n",
    "    def 스킬사용(self, 스킬):\n",
    "        if 스킬 in self.스킬:\n",
    "            print(f'{self.이름}이(가) {스킬} 스킬을 사용했습니다.')\n",
    "        else:\n",
    "            print(f'{스킬} 스킬을 가지고 있지 않습니다.')"
   ]
  },
  {
   "cell_type": "code",
   "execution_count": null,
   "id": "4140c0db",
   "metadata": {},
   "outputs": [],
   "source": [
    "히어로 = Hero(\"영웅\", 150, 30, 1, [\"불꽃 공격\", \"얼음 방패\"], [\"치유 물약\"], [\"드래곤 처치\"])"
   ]
  }
 ],
 "metadata": {
  "kernelspec": {
   "display_name": "Python 3",
   "language": "python",
   "name": "python3"
  },
  "language_info": {
   "codemirror_mode": {
    "name": "ipython",
    "version": 3
   },
   "file_extension": ".py",
   "mimetype": "text/x-python",
   "name": "python",
   "nbconvert_exporter": "python",
   "pygments_lexer": "ipython3",
   "version": "3.13.0"
  }
 },
 "nbformat": 4,
 "nbformat_minor": 5
}
