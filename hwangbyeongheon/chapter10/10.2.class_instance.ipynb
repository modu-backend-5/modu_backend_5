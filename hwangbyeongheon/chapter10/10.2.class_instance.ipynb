{
 "cells": [
  {
   "cell_type": "markdown",
   "id": "97d0019e",
   "metadata": {},
   "source": [
    "# 클래스 변수와 인스턴스 변수\n",
    "## 1. 클래스 변수"
   ]
  },
  {
   "cell_type": "code",
   "execution_count": 4,
   "id": "68a83c77",
   "metadata": {},
   "outputs": [
    {
     "name": "stdout",
     "output_type": "stream",
     "text": [
      "300\n",
      "5\n",
      "300\n",
      "5\n"
     ]
    }
   ],
   "source": [
    "class Car:\n",
    "    # 클래스 변수\n",
    "    max_speed = 300 # 최대 속도는 법으로 정해져서 모든 자동차들이 이 속도 이상을 내지 못하도록 규정함\n",
    "    max_people = 5 # 최대 탑승 인원은 법으로 정해져서 모든 자동차들이 이 인원 이상을 태울 수 없음\n",
    "\n",
    "modelx = Car()\n",
    "print(modelx.max_speed)\n",
    "print(modelx.max_people)\n",
    "print(Car.max_speed)\n",
    "print(Car.max_people)"
   ]
  },
  {
   "cell_type": "code",
   "execution_count": 5,
   "id": "ef791d7a",
   "metadata": {},
   "outputs": [
    {
     "name": "stdout",
     "output_type": "stream",
     "text": [
      "300\n",
      "300\n",
      "500\n"
     ]
    }
   ],
   "source": [
    "class Car:\n",
    "    # 클래스 변수의 위치\n",
    "    max_speed = 300\n",
    "    max_people = 5\n",
    "\n",
    "modelx = Car()\n",
    "modely = Car()\n",
    "\n",
    "modely.max_speed = 500\n",
    "\n",
    "print(Car.max_speed)\n",
    "print(modelx.max_speed)\n",
    "print(modely.max_speed)"
   ]
  },
  {
   "cell_type": "code",
   "execution_count": null,
   "id": "8dd5e352",
   "metadata": {},
   "outputs": [],
   "source": [
    "class Car:\n",
    "    speed = 300\n",
    "\n",
    "    def change_speed(self, speed):\n",
    "        self.speed = speed\n",
    "\n",
    "modelx = Car()\n",
    "modely = Car()\n",
    "\n",
    "modelx.change_speed(500)\n",
    "modely.change_speed(250)\n",
    "\n",
    "print(f'modelx.speed: {modelx.speed}')\n",
    "print(f'modely.speed: {modely.speed}')"
   ]
  },
  {
   "cell_type": "code",
   "execution_count": 1,
   "id": "15c1dac7",
   "metadata": {},
   "outputs": [
    {
     "name": "stdout",
     "output_type": "stream",
     "text": [
      "['modelx']\n",
      "['modely']\n"
     ]
    }
   ],
   "source": [
    "class Car:\n",
    "    kinds = []\n",
    " \n",
    "    def add_kinds(self, name):\n",
    "        self.kinds.append(name)\n",
    " \n",
    "modelx = Car()\n",
    "modely = Car()\n",
    "modelx.kinds = []\n",
    "modely.kinds = []\n",
    "modelx.add_kinds('modelx')\n",
    "modely.add_kinds('modely')\n",
    "\n",
    "print(modelx.kinds)\n",
    "print(modely.kinds)"
   ]
  },
  {
   "cell_type": "code",
   "execution_count": null,
   "id": "50bf6f17",
   "metadata": {},
   "outputs": [],
   "source": [
    "class Car:\n",
    "    def __init__(self, name): # self는 인스턴스 고유의 영역\n",
    "        self.name = name\n",
    "\n",
    "    def start(self, speed): # self는 인스턴스 고유의 영역\n",
    "        self.speed = speed\n",
    "        return f'{self.name}차가 {self.speed}의 속력으로 움직이고 있습니다.'\n",
    "\n",
    "modelx = Car('Weniv Model X')\n",
    "print(modelx.name)\n",
    "print(modelx.start(100))"
   ]
  },
  {
   "cell_type": "code",
   "execution_count": 2,
   "id": "a3f2886b",
   "metadata": {},
   "outputs": [
    {
     "name": "stdout",
     "output_type": "stream",
     "text": [
      "ModelY hello world\n"
     ]
    }
   ],
   "source": [
    "class Car:\n",
    "    max_speed = 300\n",
    "\n",
    "    def __init__(self, name): # self는 자신만의 영역\n",
    "        self.name = name\n",
    "\n",
    "    def start(self, speed): # self는 자신만의 영역\n",
    "        self.speed = speed\n",
    "        return f'{self.name}차가 {self.speed}의 속력으로 움직이고 있습니다.'\n",
    "\n",
    "modelx = Car('Weniv Model X')\n",
    "modelx.name = 'ModelY'\n",
    "modelx.welcome = 'hello world'\n",
    "print(modelx.name, modelx.welcome)"
   ]
  },
  {
   "cell_type": "code",
   "execution_count": 6,
   "id": "c99d8cfb",
   "metadata": {},
   "outputs": [
    {
     "name": "stdout",
     "output_type": "stream",
     "text": [
      "<class 'function'>\n",
      "hi\n",
      "<class 'int'>\n"
     ]
    },
    {
     "ename": "AttributeError",
     "evalue": "'int' object has no attribute 'hi' and no __dict__ for setting new attributes",
     "output_type": "error",
     "traceback": [
      "\u001b[31m---------------------------------------------------------------------------\u001b[39m",
      "\u001b[31mAttributeError\u001b[39m                            Traceback (most recent call last)",
      "\u001b[36mCell\u001b[39m\u001b[36m \u001b[39m\u001b[32mIn[6]\u001b[39m\u001b[32m, line 10\u001b[39m\n\u001b[32m      8\u001b[39m x = \u001b[32m10\u001b[39m\n\u001b[32m      9\u001b[39m \u001b[38;5;28mprint\u001b[39m(\u001b[38;5;28mtype\u001b[39m(x))\n\u001b[32m---> \u001b[39m\u001b[32m10\u001b[39m \u001b[43mx\u001b[49m\u001b[43m.\u001b[49m\u001b[43mhi\u001b[49m = \u001b[33m\"\u001b[39m\u001b[33mhi\u001b[39m\u001b[33m\"\u001b[39m\n",
      "\u001b[31mAttributeError\u001b[39m: 'int' object has no attribute 'hi' and no __dict__ for setting new attributes"
     ]
    }
   ],
   "source": [
    "def hello():\n",
    "    pass\n",
    "\n",
    "print(type(hello))\n",
    "hello.hi = \"hi\"\n",
    "print(hello.hi)\n",
    "\n",
    "x = 10\n",
    "print(type(x))\n",
    "x.hi = \"hi\""
   ]
  }
 ],
 "metadata": {
  "kernelspec": {
   "display_name": "Python 3",
   "language": "python",
   "name": "python3"
  },
  "language_info": {
   "codemirror_mode": {
    "name": "ipython",
    "version": 3
   },
   "file_extension": ".py",
   "mimetype": "text/x-python",
   "name": "python",
   "nbconvert_exporter": "python",
   "pygments_lexer": "ipython3",
   "version": "3.13.0"
  }
 },
 "nbformat": 4,
 "nbformat_minor": 5
}
