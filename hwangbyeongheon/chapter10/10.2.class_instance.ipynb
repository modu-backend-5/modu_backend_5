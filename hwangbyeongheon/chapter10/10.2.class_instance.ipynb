{
 "cells": [
  {
   "cell_type": "markdown",
   "id": "97d0019e",
   "metadata": {},
   "source": [
    "# 클래스 변수와 인스턴스 변수\n",
    "## 1. 클래스 변수"
   ]
  },
  {
   "cell_type": "code",
   "execution_count": 4,
   "id": "68a83c77",
   "metadata": {},
   "outputs": [
    {
     "name": "stdout",
     "output_type": "stream",
     "text": [
      "300\n",
      "5\n",
      "300\n",
      "5\n"
     ]
    }
   ],
   "source": [
    "class Car:\n",
    "    # 클래스 변수\n",
    "    max_speed = 300 # 최대 속도는 법으로 정해져서 모든 자동차들이 이 속도 이상을 내지 못하도록 규정함\n",
    "    max_people = 5 # 최대 탑승 인원은 법으로 정해져서 모든 자동차들이 이 인원 이상을 태울 수 없음\n",
    "\n",
    "modelx = Car()\n",
    "print(modelx.max_speed)\n",
    "print(modelx.max_people)\n",
    "print(Car.max_speed)\n",
    "print(Car.max_people)"
   ]
  },
  {
   "cell_type": "code",
   "execution_count": 5,
   "id": "ef791d7a",
   "metadata": {},
   "outputs": [
    {
     "name": "stdout",
     "output_type": "stream",
     "text": [
      "300\n",
      "300\n",
      "500\n"
     ]
    }
   ],
   "source": [
    "class Car:\n",
    "    # 클래스 변수의 위치\n",
    "    max_speed = 300\n",
    "    max_people = 5\n",
    "\n",
    "modelx = Car()\n",
    "modely = Car()\n",
    "\n",
    "modely.max_speed = 500\n",
    "\n",
    "print(Car.max_speed)\n",
    "print(modelx.max_speed)\n",
    "print(modely.max_speed)"
   ]
  },
  {
   "cell_type": "code",
   "execution_count": null,
   "id": "8dd5e352",
   "metadata": {},
   "outputs": [],
   "source": [
    "class Car:\n",
    "    speed = 300\n",
    "\n",
    "    def change_speed(self, speed):\n",
    "        self.speed = speed\n",
    "\n",
    "modelx = Car()\n",
    "modely = Car()\n",
    "\n",
    "modelx.change_speed(500)\n",
    "modely.change_speed(250)\n",
    "\n",
    "print(f'modelx.speed: {modelx.speed}')\n",
    "print(f'modely.speed: {modely.speed}')"
   ]
  },
  {
   "cell_type": "code",
   "execution_count": null,
   "id": "15c1dac7",
   "metadata": {},
   "outputs": [
    {
     "name": "stdout",
     "output_type": "stream",
     "text": [
      "['modelx', 'modely']\n",
      "['modelx', 'modely']\n"
     ]
    }
   ],
   "source": [
    "class Car:\n",
    "    kinds = []\n",
    " \n",
    "    def add_kinds(self, name):\n",
    "        self.kinds.append(name)\n",
    " \n",
    "modelx = Car()\n",
    "modely = Car()\n",
    "\n",
    "modelx.add_kinds('modelx')\n",
    "modely.add_kinds('modely')\n",
    "\n",
    "print(modelx.kinds)\n",
    "print(modely.kinds)"
   ]
  }
 ],
 "metadata": {
  "kernelspec": {
   "display_name": "Python 3",
   "language": "python",
   "name": "python3"
  },
  "language_info": {
   "codemirror_mode": {
    "name": "ipython",
    "version": 3
   },
   "file_extension": ".py",
   "mimetype": "text/x-python",
   "name": "python",
   "nbconvert_exporter": "python",
   "pygments_lexer": "ipython3",
   "version": "3.13.0"
  }
 },
 "nbformat": 4,
 "nbformat_minor": 5
}
