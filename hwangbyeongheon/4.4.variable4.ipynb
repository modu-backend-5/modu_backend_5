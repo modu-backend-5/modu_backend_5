{
 "cells": [
  {
   "cell_type": "markdown",
   "id": "a7d8d675",
   "metadata": {},
   "source": [
    "# 논리(bool)와 None 자료형\n",
    "## 1. 논리 자료형이란?"
   ]
  },
  {
   "cell_type": "code",
   "execution_count": 5,
   "id": "b023dc3c",
   "metadata": {},
   "outputs": [
    {
     "name": "stdout",
     "output_type": "stream",
     "text": [
      "True\n",
      "True\n",
      "2\n",
      "1\n",
      "0\n"
     ]
    }
   ],
   "source": [
    "# True == 1, False == 0\n",
    "print(True == 1)\n",
    "print(False == 0)\n",
    "print(True + True)\n",
    "print(True + False)\n",
    "print(False + False)"
   ]
  },
  {
   "cell_type": "markdown",
   "id": "844eb01c",
   "metadata": {},
   "source": [
    "## 2. None 자료형이란?"
   ]
  },
  {
   "cell_type": "code",
   "execution_count": 6,
   "id": "f32c5ea3",
   "metadata": {},
   "outputs": [
    {
     "name": "stdout",
     "output_type": "stream",
     "text": [
      "None\n"
     ]
    }
   ],
   "source": [
    "x = None\n",
    "print(x)"
   ]
  }
 ],
 "metadata": {
  "kernelspec": {
   "display_name": "Python 3",
   "language": "python",
   "name": "python3"
  },
  "language_info": {
   "codemirror_mode": {
    "name": "ipython",
    "version": 3
   },
   "file_extension": ".py",
   "mimetype": "text/x-python",
   "name": "python",
   "nbconvert_exporter": "python",
   "pygments_lexer": "ipython3",
   "version": "3.13.0"
  }
 },
 "nbformat": 4,
 "nbformat_minor": 5
}
