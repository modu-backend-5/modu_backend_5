{
 "cells": [
  {
   "cell_type": "markdown",
   "id": "473ea12e",
   "metadata": {},
   "source": [
    "# 시퀀스 자료형"
   ]
  },
  {
   "cell_type": "code",
   "execution_count": 3,
   "id": "6d10de38",
   "metadata": {},
   "outputs": [
    {
     "name": "stdout",
     "output_type": "stream",
     "text": [
      "(1, 2, 3, 4)\n"
     ]
    },
    {
     "data": {
      "text/plain": [
       "tuple"
      ]
     },
     "execution_count": 3,
     "metadata": {},
     "output_type": "execute_result"
    }
   ],
   "source": [
    "# 튜플 패킹\n",
    "packed_tuple = 1, 2, 3, 4\n",
    "print(packed_tuple)  # 출력: (1, 2, 3, 4)\n",
    "type(packed_tuple)"
   ]
  },
  {
   "cell_type": "code",
   "execution_count": 5,
   "id": "d2730d85",
   "metadata": {},
   "outputs": [
    {
     "name": "stdout",
     "output_type": "stream",
     "text": [
      "1\n",
      "2\n"
     ]
    }
   ],
   "source": [
    "# 튜플 패킹\n",
    "packed_tuple = 1, 2, 3, 4\n",
    "\n",
    "\n",
    "# 튜플 언패킹\n",
    "a, b, _, _ = packed_tuple\n",
    "print(a)  # 출력: 1\n",
    "print(b)  # 출력: 2"
   ]
  },
  {
   "cell_type": "code",
   "execution_count": 6,
   "id": "4969191b",
   "metadata": {},
   "outputs": [
    {
     "name": "stdout",
     "output_type": "stream",
     "text": [
      "10 20\n",
      "100 200\n"
     ]
    }
   ],
   "source": [
    "for i, j in [[10, 20], [100, 200]]:\n",
    "    print(i, j)"
   ]
  },
  {
   "cell_type": "code",
   "execution_count": 7,
   "id": "b6ae2d00",
   "metadata": {},
   "outputs": [
    {
     "name": "stdout",
     "output_type": "stream",
     "text": [
      "1\n",
      "[2, 3, 4]\n",
      "5\n"
     ]
    }
   ],
   "source": [
    "first, *middle, last = [1, 2, 3, 4, 5]\n",
    "print(first)    # 출력: 1\n",
    "print(middle)   # 출력: [2, 3, 4]\n",
    "print(last)     # 출력: 5"
   ]
  },
  {
   "cell_type": "markdown",
   "id": "61453daa",
   "metadata": {},
   "source": [
    "# 리스트"
   ]
  },
  {
   "cell_type": "code",
   "execution_count": 12,
   "id": "48726caf",
   "metadata": {},
   "outputs": [
    {
     "name": "stdout",
     "output_type": "stream",
     "text": [
      "3\n",
      "3\n"
     ]
    }
   ],
   "source": [
    "x = [1, 2, 3] # CSV 파일과 비슷 ,\n",
    "y = ['apple', 'banana', 'cherry']\n",
    "z = [1, [2], 3]\n",
    "\n",
    "print(len(x))\n",
    "print(len(y))"
   ]
  },
  {
   "cell_type": "code",
   "execution_count": 15,
   "id": "daad57f1",
   "metadata": {},
   "outputs": [
    {
     "name": "stdout",
     "output_type": "stream",
     "text": [
      "1\n"
     ]
    },
    {
     "ename": "IndexError",
     "evalue": "list index out of range",
     "output_type": "error",
     "traceback": [
      "\u001b[31m---------------------------------------------------------------------------\u001b[39m",
      "\u001b[31mIndexError\u001b[39m                                Traceback (most recent call last)",
      "\u001b[36mCell\u001b[39m\u001b[36m \u001b[39m\u001b[32mIn[15]\u001b[39m\u001b[32m, line 4\u001b[39m\n\u001b[32m      1\u001b[39m z = [\u001b[32m1\u001b[39m, \u001b[33m'\u001b[39m\u001b[33mapple\u001b[39m\u001b[33m'\u001b[39m, \u001b[32m2.5\u001b[39m, [\u001b[33m'\u001b[39m\u001b[33ma\u001b[39m\u001b[33m'\u001b[39m, \u001b[33m'\u001b[39m\u001b[33mb\u001b[39m\u001b[33m'\u001b[39m], (\u001b[32m1\u001b[39m, \u001b[32m2\u001b[39m)]\n\u001b[32m      2\u001b[39m \u001b[38;5;28mprint\u001b[39m(z[\u001b[32m0\u001b[39m])\n\u001b[32m----> \u001b[39m\u001b[32m4\u001b[39m \u001b[43mz\u001b[49m\u001b[43m[\u001b[49m\u001b[32;43m99\u001b[39;49m\u001b[43m]\u001b[49m\n",
      "\u001b[31mIndexError\u001b[39m: list index out of range"
     ]
    }
   ],
   "source": [
    "z = [1, 'apple', 2.5, ['a', 'b'], (1, 2)]\n",
    "print(z[0])\n",
    "\n",
    "z[99]"
   ]
  },
  {
   "cell_type": "code",
   "execution_count": 16,
   "id": "8606a375",
   "metadata": {},
   "outputs": [
    {
     "name": "stdout",
     "output_type": "stream",
     "text": [
      "[10000, 2, 3, 4, 5]\n"
     ]
    }
   ],
   "source": [
    "a = [1, 2, 3, 4, 5]\n",
    "a[0] = 10000\n",
    "print(a)"
   ]
  },
  {
   "cell_type": "code",
   "execution_count": null,
   "id": "281372fa",
   "metadata": {},
   "outputs": [
    {
     "name": "stdout",
     "output_type": "stream",
     "text": [
      "l\n"
     ]
    },
    {
     "ename": "TypeError",
     "evalue": "'str' object does not support item assignment",
     "output_type": "error",
     "traceback": [
      "\u001b[31m---------------------------------------------------------------------------\u001b[39m",
      "\u001b[31mTypeError\u001b[39m                                 Traceback (most recent call last)",
      "\u001b[36mCell\u001b[39m\u001b[36m \u001b[39m\u001b[32mIn[17]\u001b[39m\u001b[32m, line 3\u001b[39m\n\u001b[32m      1\u001b[39m s = \u001b[33m'\u001b[39m\u001b[33mlicat\u001b[39m\u001b[33m'\u001b[39m\n\u001b[32m      2\u001b[39m \u001b[38;5;28mprint\u001b[39m(s[\u001b[32m0\u001b[39m])\n\u001b[32m----> \u001b[39m\u001b[32m3\u001b[39m \u001b[43ms\u001b[49m\u001b[43m[\u001b[49m\u001b[32;43m0\u001b[39;49m\u001b[43m]\u001b[49m = \u001b[33m'\u001b[39m\u001b[33mk\u001b[39m\u001b[33m'\u001b[39m\n",
      "\u001b[31mTypeError\u001b[39m: 'str' object does not support item assignment"
     ]
    }
   ],
   "source": [
    "s = 'licat' # kicat\n",
    "s = 'kicat'\n",
    "print(s[0])\n",
    "s[0] = 'k'"
   ]
  },
  {
   "cell_type": "code",
   "execution_count": 20,
   "id": "d47f2c2a",
   "metadata": {},
   "outputs": [
    {
     "data": {
      "text/plain": [
       "30"
      ]
     },
     "execution_count": 20,
     "metadata": {},
     "output_type": "execute_result"
    }
   ],
   "source": [
    "b = [[10, 20, 30], [1, 2, 3]]\n",
    "b[0][2]"
   ]
  },
  {
   "cell_type": "code",
   "execution_count": 21,
   "id": "01f8b8eb",
   "metadata": {},
   "outputs": [
    {
     "name": "stdout",
     "output_type": "stream",
     "text": [
      "[1, 2, 3, 4, 5, 6, 7, 8]\n"
     ]
    }
   ],
   "source": [
    "a = [1, 2, 3, 4, 5]\n",
    "b = [6, 7, 8]\n",
    "\n",
    "print(a + b) # 출력: [1, 2, 3, 4, 5, 6, 7, 8]"
   ]
  },
  {
   "cell_type": "code",
   "execution_count": 24,
   "id": "e108b963",
   "metadata": {},
   "outputs": [
    {
     "data": {
      "text/plain": [
       "array([2, 4, 6])"
      ]
     },
     "execution_count": 24,
     "metadata": {},
     "output_type": "execute_result"
    }
   ],
   "source": [
    "import numpy as np\n",
    "\n",
    "l = [1, 2, 3]\n",
    "l = np.array(l)\n",
    "# l * 3\n",
    "l + l"
   ]
  },
  {
   "cell_type": "code",
   "execution_count": 25,
   "id": "0ae41175",
   "metadata": {},
   "outputs": [
    {
     "name": "stdout",
     "output_type": "stream",
     "text": [
      "[1000, 2, 3, 1, 2, 3, 1, 2, 3]\n"
     ]
    }
   ],
   "source": [
    "a = [1, 2, 3]\n",
    "a = a * 3\n",
    "# a = [1, 2, 3, 1, 2, 3, 1, 2, 3]\n",
    "\n",
    "\n",
    "a[0] = 1000\n",
    "print(a)"
   ]
  },
  {
   "cell_type": "code",
   "execution_count": 29,
   "id": "9c616afd",
   "metadata": {},
   "outputs": [
    {
     "name": "stdout",
     "output_type": "stream",
     "text": [
      "1361487716544\n",
      "1361487717312\n",
      "1361486074368\n",
      "[[1, 2, 3, 1, 2, 3], [1, 2, 3, 1, 2, 3]]\n",
      "1361486073856 1361486073856\n",
      "[[10000, 2, 3, 1, 2, 3], [10000, 2, 3, 1, 2, 3]]\n"
     ]
    }
   ],
   "source": [
    "a = [1, 2, 3]\n",
    "print(id(a))\n",
    "a = [a * 2]\n",
    "print(id(a))\n",
    "a = a * 2 # 리스트 컴프리헨션 사용하셔서 만드시는 것을 권합니다.\n",
    "print(id(a))\n",
    "# a = [0 for _ in range(6)]\n",
    "\n",
    "\n",
    "print(a)\n",
    "print(id(a[0]), id(a[1]))\n",
    "a[0][0] = 10000\n",
    "print(a)"
   ]
  },
  {
   "cell_type": "code",
   "execution_count": 33,
   "id": "b18c4e71",
   "metadata": {},
   "outputs": [
    {
     "data": {
      "text/plain": [
       "(1361487726272, 1361486072896)"
      ]
     },
     "execution_count": 33,
     "metadata": {},
     "output_type": "execute_result"
    }
   ],
   "source": [
    "a = [[1,2,3,4,5,6] for _ in range(2)]\n",
    "id(a)\n",
    "id(a[0]), id(a[1])"
   ]
  },
  {
   "cell_type": "code",
   "execution_count": 34,
   "id": "92e53bd8",
   "metadata": {},
   "outputs": [
    {
     "name": "stdout",
     "output_type": "stream",
     "text": [
      "1\n",
      "4\n",
      "5\n",
      "3\n"
     ]
    }
   ],
   "source": [
    "l = [1, 2, 3, 4, 5]\n",
    "print(l[0]) # 출력: 1\n",
    "print(l[3]) # 출력: 4\n",
    "print(l[-1]) # 출력: 5\n",
    "print(l[-3]) # 출력: 3"
   ]
  },
  {
   "cell_type": "code",
   "execution_count": 35,
   "id": "173de876",
   "metadata": {},
   "outputs": [
    {
     "ename": "IndexError",
     "evalue": "list index out of range",
     "output_type": "error",
     "traceback": [
      "\u001b[31m---------------------------------------------------------------------------\u001b[39m",
      "\u001b[31mIndexError\u001b[39m                                Traceback (most recent call last)",
      "\u001b[36mCell\u001b[39m\u001b[36m \u001b[39m\u001b[32mIn[35]\u001b[39m\u001b[32m, line 2\u001b[39m\n\u001b[32m      1\u001b[39m lst = [\u001b[32m1\u001b[39m, \u001b[32m2\u001b[39m, \u001b[32m3\u001b[39m, \u001b[32m4\u001b[39m, \u001b[32m5\u001b[39m]\n\u001b[32m----> \u001b[39m\u001b[32m2\u001b[39m \u001b[38;5;28mprint\u001b[39m(\u001b[43mlst\u001b[49m\u001b[43m[\u001b[49m\u001b[32;43m10\u001b[39;49m\u001b[43m]\u001b[49m)\n",
      "\u001b[31mIndexError\u001b[39m: list index out of range"
     ]
    }
   ],
   "source": [
    "lst = [1, 2, 3, 4, 5]\n",
    "print(lst[10])"
   ]
  },
  {
   "cell_type": "code",
   "execution_count": 37,
   "id": "556642f7",
   "metadata": {},
   "outputs": [
    {
     "name": "stdout",
     "output_type": "stream",
     "text": [
      "[2, 3, 4, 5]\n"
     ]
    }
   ],
   "source": [
    "l = [1, 2, 3, 4, 5]\n",
    "print(l[1:100]) # 출력: [2, 3, 4]"
   ]
  },
  {
   "cell_type": "code",
   "execution_count": null,
   "id": "fabe2e35",
   "metadata": {},
   "outputs": [
    {
     "name": "stdout",
     "output_type": "stream",
     "text": [
      "[1, 2, 3, 4, 5]\n",
      "[5, 4, 3, 2, 1]\n",
      "[1, 3, 5]\n",
      "[4, 3, 2, 1]\n"
     ]
    }
   ],
   "source": [
    "l = [1, 2, 3, 4, 5]\n",
    "print(l[:])     # 출력: [1, 2, 3, 4, 5]\n",
    "print(l[::-1])  # 출력: [5, 4, 3, 2, 1]\n",
    "print(l[::2])   # 출력: [1, 3, 5]\n",
    "# [1, 2, 3, 4] -> [4, 3, 2, 1]\n",
    "print(l[0:4][::-1]) # 출력: [4, 3, 2, 1]"
   ]
  },
  {
   "cell_type": "code",
   "execution_count": 42,
   "id": "204bce98",
   "metadata": {},
   "outputs": [
    {
     "name": "stdout",
     "output_type": "stream",
     "text": [
      "['__add__', '__class__', '__class_getitem__', '__contains__', '__delattr__', '__delitem__', '__dir__', '__doc__', '__eq__', '__format__', '__ge__', '__getattribute__', '__getitem__', '__getstate__', '__gt__', '__hash__', '__iadd__', '__imul__', '__init__', '__init_subclass__', '__iter__', '__le__', '__len__', '__lt__', '__mul__', '__ne__', '__new__', '__reduce__', '__reduce_ex__', '__repr__', '__reversed__', '__rmul__', '__setattr__', '__setitem__', '__sizeof__', '__str__', '__subclasshook__', 'append', 'clear', 'copy', 'count', 'extend', 'index', 'insert', 'pop', 'remove', 'reverse', 'sort']\n",
      "['__add__', '__class__', '__class_getitem__', '__contains__', '__delattr__', '__delitem__', '__dir__', '__doc__', '__eq__', '__format__', '__ge__', '__getattribute__', '__getitem__', '__getstate__', '__gt__', '__hash__', '__iadd__', '__imul__', '__init__', '__init_subclass__', '__iter__', '__le__', '__len__', '__lt__', '__mul__', '__ne__', '__new__', '__reduce__', '__reduce_ex__', '__repr__', '__reversed__', '__rmul__', '__setattr__', '__setitem__', '__sizeof__', '__str__', '__subclasshook__', 'append', 'clear', 'copy', 'count', 'extend', 'index', 'insert', 'pop', 'remove', 'reverse', 'sort']\n"
     ]
    }
   ],
   "source": [
    "print(dir(list))\n",
    "x = []\n",
    "print(dir(x))"
   ]
  },
  {
   "cell_type": "code",
   "execution_count": 44,
   "id": "2eb648bd",
   "metadata": {},
   "outputs": [
    {
     "name": "stdout",
     "output_type": "stream",
     "text": [
      "[1, 2, 3, 10]\n",
      "[]\n"
     ]
    }
   ],
   "source": [
    "a = [1, 2, 3]\n",
    "a.append(10)\n",
    "print(a) \n",
    "a.clear()\n",
    "print(a)  # 출력: []"
   ]
  },
  {
   "cell_type": "code",
   "execution_count": null,
   "id": "34410892",
   "metadata": {},
   "outputs": [
    {
     "name": "stdout",
     "output_type": "stream",
     "text": [
      "[1, 2, 3]\n",
      "[10000, 2, 3]\n"
     ]
    }
   ],
   "source": [
    "a = [1, 2, 3]\n",
    "# a = b\n",
    "b = a.copy()\n",
    "b[0] = 10000\n",
    "print(a)  # 출력: [1, 2, 3]\n",
    "print(b)  # 출력: [10000, 2, 3]"
   ]
  },
  {
   "cell_type": "code",
   "execution_count": 46,
   "id": "01e6c6d1",
   "metadata": {},
   "outputs": [
    {
     "name": "stdout",
     "output_type": "stream",
     "text": [
      "1361451017408 1361444759232\n",
      "[1000, 20, 30] [10, 20, 30]\n"
     ]
    }
   ],
   "source": [
    "l = [10, 20, 30]\n",
    "ll = l[:]\n",
    "print(id(ll), id(l))\n",
    "l[0] = 1000\n",
    "print(l, ll) # 출력: [1000, 20, 30] [10, 20, 30]"
   ]
  },
  {
   "cell_type": "code",
   "execution_count": 48,
   "id": "271e111a",
   "metadata": {},
   "outputs": [
    {
     "name": "stdout",
     "output_type": "stream",
     "text": [
      "3\n"
     ]
    }
   ],
   "source": [
    "a = [1, 1, 2, 3, 1]\n",
    "print(a.count(1))"
   ]
  },
  {
   "cell_type": "code",
   "execution_count": 49,
   "id": "a8875578",
   "metadata": {},
   "outputs": [
    {
     "name": "stdout",
     "output_type": "stream",
     "text": [
      "[1, 2, 3, 4, 5, 6]\n"
     ]
    }
   ],
   "source": [
    "a = [1, 2, 3]\n",
    "a.extend([4, 5, 6])\n",
    "print(a)  # 출력: [1, 2, 3, 4, 5, 6]"
   ]
  },
  {
   "cell_type": "code",
   "execution_count": 50,
   "id": "1a83483e",
   "metadata": {},
   "outputs": [
    {
     "data": {
      "text/plain": [
       "[10, 20, 30, 'h', 'e', 'l', 'l', 'o']"
      ]
     },
     "execution_count": 50,
     "metadata": {},
     "output_type": "execute_result"
    }
   ],
   "source": [
    "l = [10, 20, 30]\n",
    "l.extend('hello')\n",
    "l"
   ]
  },
  {
   "cell_type": "code",
   "execution_count": 51,
   "id": "1efc14fb",
   "metadata": {},
   "outputs": [
    {
     "data": {
      "text/plain": [
       "[10, 20, 30, 40, 50, 60]"
      ]
     },
     "execution_count": 51,
     "metadata": {},
     "output_type": "execute_result"
    }
   ],
   "source": [
    "l = [10, 20, 30]\n",
    "ll = ['40', '50', '60']\n",
    "l.extend(map(int, ll))\n",
    "l"
   ]
  },
  {
   "cell_type": "code",
   "execution_count": 55,
   "id": "e7a04c5e",
   "metadata": {},
   "outputs": [
    {
     "ename": "AttributeError",
     "evalue": "'list' object has no attribute 'find'",
     "output_type": "error",
     "traceback": [
      "\u001b[31m---------------------------------------------------------------------------\u001b[39m",
      "\u001b[31mAttributeError\u001b[39m                            Traceback (most recent call last)",
      "\u001b[36mCell\u001b[39m\u001b[36m \u001b[39m\u001b[32mIn[55]\u001b[39m\u001b[32m, line 3\u001b[39m\n\u001b[32m      1\u001b[39m a = [\u001b[32m10\u001b[39m, \u001b[32m20\u001b[39m, \u001b[32m30\u001b[39m, \u001b[32m40\u001b[39m]\n\u001b[32m      2\u001b[39m \u001b[38;5;66;03m# print(a.index(50))\u001b[39;00m\n\u001b[32m----> \u001b[39m\u001b[32m3\u001b[39m \u001b[43ma\u001b[49m\u001b[43m.\u001b[49m\u001b[43mfind\u001b[49m(\u001b[32m50\u001b[39m)\n",
      "\u001b[31mAttributeError\u001b[39m: 'list' object has no attribute 'find'"
     ]
    }
   ],
   "source": [
    "a = [10, 20, 30, 40]\n",
    "# print(a.index(50))\n",
    "a.find(50)"
   ]
  },
  {
   "cell_type": "code",
   "execution_count": 57,
   "id": "65464400",
   "metadata": {},
   "outputs": [
    {
     "name": "stdout",
     "output_type": "stream",
     "text": [
      "[10, 20, 25, 30, 40]\n"
     ]
    }
   ],
   "source": [
    "a = [10, 20, 30, 40]\n",
    "a.insert(2, 25)\n",
    "print(a)  # 출력: [10, 20, 25, 30, 40]"
   ]
  },
  {
   "cell_type": "code",
   "execution_count": 61,
   "id": "7c76e790",
   "metadata": {},
   "outputs": [
    {
     "name": "stdout",
     "output_type": "stream",
     "text": [
      "25\n",
      "[10, 20, 30, 40]\n",
      "40\n",
      "[10, 20, 30]\n"
     ]
    }
   ],
   "source": [
    "a = [10, 20, 30, 40]\n",
    "a.insert(2, 25)\n",
    "print(a.pop(2))  # 출력: 25\n",
    "print(a)  # 출력: [10, 20, 30, 40]\n",
    "print(a.pop())\n",
    "print(a)"
   ]
  },
  {
   "cell_type": "code",
   "execution_count": 62,
   "id": "20ece0ac",
   "metadata": {},
   "outputs": [
    {
     "name": "stdout",
     "output_type": "stream",
     "text": [
      "5\n",
      "4\n",
      "3\n",
      "2\n",
      "1\n"
     ]
    }
   ],
   "source": [
    "l = [1, 2, 3, 4, 5]\n",
    "\n",
    "while l:\n",
    "    print(l.pop())"
   ]
  },
  {
   "cell_type": "code",
   "execution_count": 63,
   "id": "69d5db8c",
   "metadata": {},
   "outputs": [
    {
     "name": "stdout",
     "output_type": "stream",
     "text": [
      "1\n",
      "2\n",
      "3\n",
      "4\n",
      "5\n"
     ]
    }
   ],
   "source": [
    "l = [1, 2, 3, 4, 5]\n",
    " \n",
    "while l:\n",
    "    print(l.pop(0))"
   ]
  },
  {
   "cell_type": "code",
   "execution_count": 64,
   "id": "f7581493",
   "metadata": {},
   "outputs": [
    {
     "name": "stdout",
     "output_type": "stream",
     "text": [
      "[1, 3, 1, 2]\n"
     ]
    }
   ],
   "source": [
    "a = [1, 2, 3, 1, 2]\n",
    "a.remove(2)\n",
    "print(a)"
   ]
  },
  {
   "cell_type": "code",
   "execution_count": 65,
   "id": "9451b1f9",
   "metadata": {},
   "outputs": [
    {
     "data": {
      "text/plain": [
       "[1, 3, 1, 1, 1]"
      ]
     },
     "execution_count": 65,
     "metadata": {},
     "output_type": "execute_result"
    }
   ],
   "source": [
    "l = [1, 2, 3, 1, 2, 2, 2, 1, 1]\n",
    "while l.count(2):\n",
    "    l.remove(2)\n",
    "l"
   ]
  },
  {
   "cell_type": "code",
   "execution_count": 66,
   "id": "fb4cc759",
   "metadata": {},
   "outputs": [
    {
     "data": {
      "text/plain": [
       "[1, 3, 1, 1, 1]"
      ]
     },
     "execution_count": 66,
     "metadata": {},
     "output_type": "execute_result"
    }
   ],
   "source": [
    "l = [1, 2, 3, 1, 2, 2, 2, 1, 1]\n",
    "list(filter(lambda x: x != 2, l))"
   ]
  },
  {
   "cell_type": "code",
   "execution_count": null,
   "id": "c4755b43",
   "metadata": {},
   "outputs": [
    {
     "name": "stdout",
     "output_type": "stream",
     "text": [
      "[2, 1, 3, 2, 1]\n"
     ]
    }
   ],
   "source": [
    "a = [1, 2, 3, 1, 2]\n",
    "a.reverse()\n",
    "print(a)"
   ]
  },
  {
   "cell_type": "code",
   "execution_count": 70,
   "id": "df850353",
   "metadata": {},
   "outputs": [
    {
     "name": "stdout",
     "output_type": "stream",
     "text": [
      "[3, 2, 5, 1, 4]\n",
      "[4, 1, 5, 2, 3]\n"
     ]
    }
   ],
   "source": [
    "a = [3, 2, 5, 1, 4]\n",
    "b = reversed(a)\n",
    "print(a)        # 출력: [3, 2, 5, 1, 4]\n",
    "print(list(b))"
   ]
  },
  {
   "cell_type": "code",
   "execution_count": 71,
   "id": "b8159340",
   "metadata": {},
   "outputs": [
    {
     "name": "stdout",
     "output_type": "stream",
     "text": [
      "[1, 2, 3, 4, 5]\n"
     ]
    }
   ],
   "source": [
    "a = [3, 2, 5, 1, 4]\n",
    "a.sort()\n",
    "print(a)"
   ]
  },
  {
   "cell_type": "code",
   "execution_count": 72,
   "id": "dcccd059",
   "metadata": {},
   "outputs": [
    {
     "name": "stdout",
     "output_type": "stream",
     "text": [
      "[3, 2, 5, 1, 4]\n",
      "[1, 2, 3, 4, 5]\n"
     ]
    }
   ],
   "source": [
    "a = [3, 2, 5, 1, 4]\n",
    "b = sorted(a)\n",
    "print(a)  # 출력: [3, 2, 5, 1, 4]\n",
    "print(b)  # 출력: [1, 2, 3, 4, 5]"
   ]
  },
  {
   "cell_type": "markdown",
   "id": "93898070",
   "metadata": {},
   "source": [
    "# 튜플"
   ]
  },
  {
   "cell_type": "code",
   "execution_count": 74,
   "id": "ea6b5f47",
   "metadata": {},
   "outputs": [],
   "source": [
    "x = 1, 2, 3\n",
    "y = ('apple', 'banana', 'cherry')"
   ]
  },
  {
   "cell_type": "code",
   "execution_count": 75,
   "id": "8f0917d2",
   "metadata": {},
   "outputs": [],
   "source": [
    "z = (1, 'apple', 2.5, ['a', 'b'], (1, 2))"
   ]
  },
  {
   "cell_type": "code",
   "execution_count": 76,
   "id": "25664457",
   "metadata": {},
   "outputs": [
    {
     "data": {
      "text/plain": [
       "(1, 2, [1000, 20, 30])"
      ]
     },
     "execution_count": 76,
     "metadata": {},
     "output_type": "execute_result"
    }
   ],
   "source": [
    "x = [10, 20, 30]\n",
    "y = (1, 2, x)\n",
    "x[0] = 1000\n",
    "y # 출력: (1, 2, [1000, 20, 30])"
   ]
  },
  {
   "cell_type": "code",
   "execution_count": 80,
   "id": "cfed6ea3",
   "metadata": {},
   "outputs": [
    {
     "name": "stdout",
     "output_type": "stream",
     "text": [
      "<class 'tuple'>\n",
      "<class 'tuple'>\n",
      "<class 'int'>\n",
      "<class 'float'>\n"
     ]
    }
   ],
   "source": [
    "t1 = () # tuple\n",
    "t2 = (0,) # tuple 단일 값의 튜플을 사용할때 꼭 콤마를 넣어주세요!\n",
    "t3 = (0) # int\n",
    "t4 = (0.1) # float\n",
    "print(type(t1))\n",
    "print(type(t2))\n",
    "print(type(t3))\n",
    "print(type(t4))"
   ]
  },
  {
   "cell_type": "code",
   "execution_count": 81,
   "id": "49a93213",
   "metadata": {},
   "outputs": [
    {
     "name": "stdout",
     "output_type": "stream",
     "text": [
      "(1, 2, 3, 4, 5, 6)\n"
     ]
    }
   ],
   "source": [
    "tuple1 = (1, 2, 3)\n",
    "tuple2 = (4, 5, 6)\n",
    "tuple3 = tuple1 + tuple2\n",
    "print(tuple3)  # 출력: (1, 2, 3, 4, 5, 6)"
   ]
  },
  {
   "cell_type": "code",
   "execution_count": 82,
   "id": "183ec02e",
   "metadata": {},
   "outputs": [
    {
     "name": "stdout",
     "output_type": "stream",
     "text": [
      "(1, 2, 3, 1, 2, 3, 1, 2, 3)\n"
     ]
    }
   ],
   "source": [
    "tuple1 = (1, 2, 3)\n",
    "tuple2 = tuple1 * 3\n",
    "print(tuple2)  # 출력: (1, 2, 3, 1, 2, 3, 1, 2, 3)"
   ]
  },
  {
   "cell_type": "code",
   "execution_count": 83,
   "id": "01fc31e2",
   "metadata": {},
   "outputs": [
    {
     "name": "stdout",
     "output_type": "stream",
     "text": [
      "1\n"
     ]
    }
   ],
   "source": [
    "t = (1, 2, 3, 4, 5)\n",
    "print(t[0])  # 출력: 1"
   ]
  },
  {
   "cell_type": "code",
   "execution_count": 84,
   "id": "d0c49e0d",
   "metadata": {},
   "outputs": [
    {
     "name": "stdout",
     "output_type": "stream",
     "text": [
      "(2, 3, 4)\n"
     ]
    }
   ],
   "source": [
    "t = (1, 2, 3, 4, 5)\n",
    "print(t[1:4])  # 출력: (2, 3, 4)"
   ]
  },
  {
   "cell_type": "code",
   "execution_count": 85,
   "id": "2cddea6c",
   "metadata": {},
   "outputs": [
    {
     "name": "stdout",
     "output_type": "stream",
     "text": [
      "['__add__', '__class__', '__class_getitem__', '__contains__', '__delattr__', '__dir__', '__doc__', '__eq__', '__format__', '__ge__', '__getattribute__', '__getitem__', '__getnewargs__', '__getstate__', '__gt__', '__hash__', '__init__', '__init_subclass__', '__iter__', '__le__', '__len__', '__lt__', '__mul__', '__ne__', '__new__', '__reduce__', '__reduce_ex__', '__repr__', '__rmul__', '__setattr__', '__sizeof__', '__str__', '__subclasshook__', 'count', 'index']\n"
     ]
    }
   ],
   "source": [
    "print(dir(tuple))"
   ]
  },
  {
   "cell_type": "code",
   "execution_count": 86,
   "id": "2ad7abe5",
   "metadata": {},
   "outputs": [
    {
     "name": "stdout",
     "output_type": "stream",
     "text": [
      "2\n"
     ]
    }
   ],
   "source": [
    "tuple1 = (1, 2, 3, 4, 3, 5)\n",
    "print(tuple1.count(3))  # 출력: 2"
   ]
  },
  {
   "cell_type": "code",
   "execution_count": 87,
   "id": "89de08e2",
   "metadata": {},
   "outputs": [
    {
     "name": "stdout",
     "output_type": "stream",
     "text": [
      "2\n"
     ]
    }
   ],
   "source": [
    "tuple1 = (1, 2, 3, 4, 3, 5)\n",
    "print(tuple1.index(3))  # 출력: 2"
   ]
  },
  {
   "cell_type": "markdown",
   "id": "d50e8b5b",
   "metadata": {},
   "source": [
    "# 딕셔너리"
   ]
  },
  {
   "cell_type": "code",
   "execution_count": 91,
   "id": "0adfb1da",
   "metadata": {},
   "outputs": [
    {
     "data": {
      "text/plain": [
       "'licat'"
      ]
     },
     "execution_count": 91,
     "metadata": {},
     "output_type": "execute_result"
    }
   ],
   "source": [
    "person = {'name': 'licat', 'city': 'Jeju', 'job': 'Developer'}\n",
    "person['name']"
   ]
  },
  {
   "cell_type": "code",
   "execution_count": 92,
   "id": "18914aff",
   "metadata": {},
   "outputs": [
    {
     "name": "stdout",
     "output_type": "stream",
     "text": [
      "<class 'dict'>\n",
      "<class 'dict'>\n"
     ]
    }
   ],
   "source": [
    "d1 = {}\n",
    "d2 = dict()\n",
    "\n",
    "print(type(d1))  # 출력: <class 'dict'>\n",
    "print(type(d2))  # 출력: <class 'dict'>"
   ]
  },
  {
   "cell_type": "code",
   "execution_count": 94,
   "id": "474b075d",
   "metadata": {},
   "outputs": [
    {
     "name": "stdout",
     "output_type": "stream",
     "text": [
      "{'one1': '하나', 'one2': '하나2', 'one3': '하나3'}\n"
     ]
    }
   ],
   "source": [
    "d = {'one1' : '하나', 'one2' : '하나2', 'one3' : '하나3'}\n",
    "print(d)  # 출력: {'one' : '하나3'}"
   ]
  },
  {
   "cell_type": "code",
   "execution_count": 96,
   "id": "48974c02",
   "metadata": {},
   "outputs": [
    {
     "name": "stdout",
     "output_type": "stream",
     "text": [
      "{'one': '하나', 'two': '둘'}\n"
     ]
    }
   ],
   "source": [
    "l = [('one' , '하나'), ('two', '둘')]\n",
    "d = dict(l)\n",
    "print(d)  # 출력: {'one' : '하나', 'two' : '둘'}"
   ]
  },
  {
   "cell_type": "code",
   "execution_count": 97,
   "id": "b379e4fc",
   "metadata": {},
   "outputs": [
    {
     "name": "stdout",
     "output_type": "stream",
     "text": [
      "{'name': 'licat', 'age': 10}\n"
     ]
    }
   ],
   "source": [
    "d = dict(name='licat', age=10)\n",
    "print(d)  # 출력: {'name': 'licat', 'age': 10}"
   ]
  },
  {
   "cell_type": "code",
   "execution_count": 98,
   "id": "045ae372",
   "metadata": {},
   "outputs": [
    {
     "name": "stdout",
     "output_type": "stream",
     "text": [
      "[1, 2, 3]\n",
      "answer\n",
      "[10, 20]\n",
      "[100, 200]\n"
     ]
    }
   ],
   "source": [
    "complex_dict = {\n",
    "    \"numbers\": [1, 2, 3],\n",
    "    42: \"answer\",\n",
    "    (\"x\", \"y\"): [10, 20],\n",
    "    True: [100, 200]\n",
    "}\n",
    "print(complex_dict[\"numbers\"])  # 출력: [1, 2, 3]\n",
    "print(complex_dict[42])         # 출력: answer\n",
    "print(complex_dict[(\"x\", \"y\")]) # 출력: [10, 20]\n",
    "print(complex_dict[True])       # 출력: [10, 20]"
   ]
  },
  {
   "cell_type": "code",
   "execution_count": 100,
   "id": "b6517947",
   "metadata": {},
   "outputs": [
    {
     "name": "stdout",
     "output_type": "stream",
     "text": [
      "{'name': 'mura', 'city': 'Seoul'}\n",
      "{'name': 'mura', 'city': 'Seoul', 'age': 10}\n"
     ]
    }
   ],
   "source": [
    "person = {'name': 'licat', 'city': 'Jeju'}\n",
    "person['name'] = 'mura'\n",
    "person['city'] = 'Seoul'\n",
    "print(person) \n",
    "person['age'] = 10\n",
    "\n",
    "print(person) # 출력: {'name': 'mura', 'city': 'Seoul', 'age': 10}"
   ]
  },
  {
   "cell_type": "code",
   "execution_count": 101,
   "id": "d2f86368",
   "metadata": {},
   "outputs": [
    {
     "name": "stdout",
     "output_type": "stream",
     "text": [
      "Developer\n"
     ]
    }
   ],
   "source": [
    "users = {\n",
    "    \"leehojun\": {\"city\": \"Jeju\", \"job\": \"Developer\"},\n",
    "    \"licat\": {\"city\": \"Seoul\", \"job\": \"Designer\"}\n",
    "}\n",
    "print(users[\"leehojun\"][\"job\"]) # 출력: Developer"
   ]
  },
  {
   "cell_type": "code",
   "execution_count": 102,
   "id": "a384f633",
   "metadata": {},
   "outputs": [
    {
     "name": "stdout",
     "output_type": "stream",
     "text": [
      "{'name': 'licat', 'city': 'Jeju', 'job': 'Developer'}\n"
     ]
    }
   ],
   "source": [
    "keys = [\"name\", \"city\", \"job\"]\n",
    "values = [\"licat\", \"Jeju\", \"Developer\"]\n",
    "\n",
    "new_dict = dict(zip(keys, values))\n",
    "print(new_dict)"
   ]
  },
  {
   "cell_type": "code",
   "execution_count": 103,
   "id": "09872a0f",
   "metadata": {},
   "outputs": [
    {
     "name": "stdout",
     "output_type": "stream",
     "text": [
      "['__class__', '__class_getitem__', '__contains__', '__delattr__', '__delitem__', '__dir__', '__doc__', '__eq__', '__format__', '__ge__', '__getattribute__', '__getitem__', '__getstate__', '__gt__', '__hash__', '__init__', '__init_subclass__', '__ior__', '__iter__', '__le__', '__len__', '__lt__', '__ne__', '__new__', '__or__', '__reduce__', '__reduce_ex__', '__repr__', '__reversed__', '__ror__', '__setattr__', '__setitem__', '__sizeof__', '__str__', '__subclasshook__', 'clear', 'copy', 'fromkeys', 'get', 'items', 'keys', 'pop', 'popitem', 'setdefault', 'update', 'values']\n"
     ]
    }
   ],
   "source": [
    "print(dir(dict))"
   ]
  },
  {
   "cell_type": "code",
   "execution_count": 104,
   "id": "ff8a50c1",
   "metadata": {},
   "outputs": [
    {
     "name": "stdout",
     "output_type": "stream",
     "text": [
      "{}\n"
     ]
    }
   ],
   "source": [
    "data = {'name': 'licat', 'city': 'Jeju', 'job': 'Developer'}\n",
    "data.clear()\n",
    "print(data)"
   ]
  },
  {
   "cell_type": "code",
   "execution_count": 105,
   "id": "8f3737a2",
   "metadata": {},
   "outputs": [
    {
     "name": "stdout",
     "output_type": "stream",
     "text": [
      "{'name': 'licat', 'city': 'Jeju', 'job': 'Developer'}\n"
     ]
    }
   ],
   "source": [
    "person = {'name': 'licat', 'city': 'Jeju', 'job': 'Developer'}\n",
    "copied_person = person.copy()\n",
    "print(copied_person)"
   ]
  },
  {
   "cell_type": "code",
   "execution_count": 107,
   "id": "fcf1779a",
   "metadata": {},
   "outputs": [
    {
     "name": "stdout",
     "output_type": "stream",
     "text": [
      "{'name': None, 'city': None, 'job': None}\n",
      "{'name': ['licat', 'Jeju', 'Developer'], 'city': ['licat', 'Jeju', 'Developer'], 'job': ['licat', 'Jeju', 'Developer']}\n"
     ]
    }
   ],
   "source": [
    "keys = ['name', 'city', 'job']\n",
    "# keys = 'hello' # 이렇게 이터러블한 객체는 모두 가능합니다.\n",
    "value = None\n",
    "print(dict.fromkeys(keys, value))\n",
    "\n",
    "keys = ['name', 'city', 'job']\n",
    "value = ['licat', 'Jeju', 'Developer']\n",
    "print(dict.fromkeys(keys, value))"
   ]
  },
  {
   "cell_type": "code",
   "execution_count": null,
   "id": "96f4842b",
   "metadata": {},
   "outputs": [
    {
     "ename": "KeyError",
     "evalue": "'age'",
     "output_type": "error",
     "traceback": [
      "\u001b[31m---------------------------------------------------------------------------\u001b[39m",
      "\u001b[31mKeyError\u001b[39m                                  Traceback (most recent call last)",
      "\u001b[36mCell\u001b[39m\u001b[36m \u001b[39m\u001b[32mIn[108]\u001b[39m\u001b[32m, line 2\u001b[39m\n\u001b[32m      1\u001b[39m person = {\u001b[33m'\u001b[39m\u001b[33mname\u001b[39m\u001b[33m'\u001b[39m: \u001b[33m'\u001b[39m\u001b[33mlicat\u001b[39m\u001b[33m'\u001b[39m, \u001b[33m'\u001b[39m\u001b[33mcity\u001b[39m\u001b[33m'\u001b[39m: \u001b[33m'\u001b[39m\u001b[33mJeju\u001b[39m\u001b[33m'\u001b[39m, \u001b[33m'\u001b[39m\u001b[33mjob\u001b[39m\u001b[33m'\u001b[39m: \u001b[33m'\u001b[39m\u001b[33mDeveloper\u001b[39m\u001b[33m'\u001b[39m}\n\u001b[32m----> \u001b[39m\u001b[32m2\u001b[39m \u001b[43mperson\u001b[49m\u001b[43m[\u001b[49m\u001b[33;43m\"\u001b[39;49m\u001b[33;43mage\u001b[39;49m\u001b[33;43m\"\u001b[39;49m\u001b[43m]\u001b[49m\n",
      "\u001b[31mKeyError\u001b[39m: 'age'"
     ]
    }
   ],
   "source": [
    "person = {'name': 'licat', 'city': 'Jeju', 'job': 'Developer'}\n",
    "# person[\"age\"]"
   ]
  },
  {
   "cell_type": "code",
   "execution_count": 109,
   "id": "c313a757",
   "metadata": {},
   "outputs": [
    {
     "name": "stdout",
     "output_type": "stream",
     "text": [
      "None\n",
      "셋\n",
      "없음\n"
     ]
    },
    {
     "ename": "KeyError",
     "evalue": "'four'",
     "output_type": "error",
     "traceback": [
      "\u001b[31m---------------------------------------------------------------------------\u001b[39m",
      "\u001b[31mKeyError\u001b[39m                                  Traceback (most recent call last)",
      "\u001b[36mCell\u001b[39m\u001b[36m \u001b[39m\u001b[32mIn[109]\u001b[39m\u001b[32m, line 5\u001b[39m\n\u001b[32m      3\u001b[39m \u001b[38;5;28mprint\u001b[39m(numbers.get(\u001b[33m'\u001b[39m\u001b[33mthree\u001b[39m\u001b[33m'\u001b[39m, \u001b[33m'\u001b[39m\u001b[33m없음\u001b[39m\u001b[33m'\u001b[39m))\n\u001b[32m      4\u001b[39m \u001b[38;5;28mprint\u001b[39m(numbers.get(\u001b[33m'\u001b[39m\u001b[33mfour\u001b[39m\u001b[33m'\u001b[39m, \u001b[33m'\u001b[39m\u001b[33m없음\u001b[39m\u001b[33m'\u001b[39m))\n\u001b[32m----> \u001b[39m\u001b[32m5\u001b[39m \u001b[38;5;28mprint\u001b[39m(\u001b[43mnumbers\u001b[49m\u001b[43m[\u001b[49m\u001b[33;43m'\u001b[39;49m\u001b[33;43mfour\u001b[39;49m\u001b[33;43m'\u001b[39;49m\u001b[43m]\u001b[49m)\n",
      "\u001b[31mKeyError\u001b[39m: 'four'"
     ]
    }
   ],
   "source": [
    "numbers = {'one': '하나', 'two': '둘', 'three': '셋'}\n",
    "print(numbers.get('four'))\n",
    "print(numbers.get('three', '없음'))\n",
    "print(numbers.get('four', '없음'))\n",
    "print(numbers['four'])"
   ]
  },
  {
   "cell_type": "code",
   "execution_count": 111,
   "id": "97b37e6e",
   "metadata": {},
   "outputs": [
    {
     "name": "stdout",
     "output_type": "stream",
     "text": [
      "name: licat\n",
      "city: Jeju\n",
      "job: Developer\n"
     ]
    }
   ],
   "source": [
    "person = {'name': 'licat', 'city': 'Jeju', 'job': 'Developer'}\n",
    "for k, v in person.items():\n",
    "    print(f\"{k}: {v}\")"
   ]
  },
  {
   "cell_type": "code",
   "execution_count": null,
   "id": "313a8259",
   "metadata": {},
   "outputs": [],
   "source": [
    "numbers = {'one': '하나', 'two': '둘', 'three': '셋'}\n",
    "print('one' in numbers)\n",
    "print('four' in numbers)"
   ]
  },
  {
   "cell_type": "code",
   "execution_count": 114,
   "id": "e87a6479",
   "metadata": {},
   "outputs": [
    {
     "name": "stdout",
     "output_type": "stream",
     "text": [
      "licat\n",
      "Jeju\n",
      "Developer\n"
     ]
    }
   ],
   "source": [
    "person = {'name': 'licat', 'city': 'Jeju', 'job': 'Developer'}\n",
    "for k in person.keys():\n",
    "    print(person[k])"
   ]
  },
  {
   "cell_type": "code",
   "execution_count": 116,
   "id": "08ef5ffb",
   "metadata": {},
   "outputs": [
    {
     "name": "stdout",
     "output_type": "stream",
     "text": [
      "하나\n",
      "{'two': '둘', 'three': '셋'}\n"
     ]
    },
    {
     "ename": "TypeError",
     "evalue": "pop expected at least 1 argument, got 0",
     "output_type": "error",
     "traceback": [
      "\u001b[31m---------------------------------------------------------------------------\u001b[39m",
      "\u001b[31mTypeError\u001b[39m                                 Traceback (most recent call last)",
      "\u001b[36mCell\u001b[39m\u001b[36m \u001b[39m\u001b[32mIn[116]\u001b[39m\u001b[32m, line 7\u001b[39m\n\u001b[32m      4\u001b[39m \u001b[38;5;28mprint\u001b[39m(numbers)\n\u001b[32m      6\u001b[39m numbers = {\u001b[33m'\u001b[39m\u001b[33mone\u001b[39m\u001b[33m'\u001b[39m: \u001b[33m'\u001b[39m\u001b[33m하나\u001b[39m\u001b[33m'\u001b[39m, \u001b[33m'\u001b[39m\u001b[33mtwo\u001b[39m\u001b[33m'\u001b[39m: \u001b[33m'\u001b[39m\u001b[33m둘\u001b[39m\u001b[33m'\u001b[39m, \u001b[33m'\u001b[39m\u001b[33mthree\u001b[39m\u001b[33m'\u001b[39m: \u001b[33m'\u001b[39m\u001b[33m셋\u001b[39m\u001b[33m'\u001b[39m}\n\u001b[32m----> \u001b[39m\u001b[32m7\u001b[39m \u001b[43mnumbers\u001b[49m\u001b[43m.\u001b[49m\u001b[43mpop\u001b[49m\u001b[43m(\u001b[49m\u001b[43m)\u001b[49m \u001b[38;5;66;03m# error\u001b[39;00m\n\u001b[32m      8\u001b[39m numbers\n",
      "\u001b[31mTypeError\u001b[39m: pop expected at least 1 argument, got 0"
     ]
    }
   ],
   "source": [
    "numbers = {'one': '하나', 'two': '둘', 'three': '셋'}\n",
    "one_value = numbers.pop('one')\n",
    "print(one_value)\n",
    "print(numbers)\n",
    "\n",
    "numbers = {'one': '하나', 'two': '둘', 'three': '셋'}\n",
    "numbers.pop() # error\n",
    "numbers"
   ]
  },
  {
   "cell_type": "code",
   "execution_count": 119,
   "id": "5ab410ed",
   "metadata": {},
   "outputs": [
    {
     "name": "stdout",
     "output_type": "stream",
     "text": [
      "('three', '셋')\n",
      "<class 'tuple'>\n",
      "{'one': '하나', 'two': '둘'}\n"
     ]
    }
   ],
   "source": [
    "numbers = {'one': '하나', 'two': '둘', 'three': '셋'}\n",
    "item = numbers.popitem()\n",
    "print(item)\n",
    "print(type(item))  # 출력: <class 'tuple'>\n",
    "print(numbers)"
   ]
  },
  {
   "cell_type": "code",
   "execution_count": 120,
   "id": "c64c7c0f",
   "metadata": {},
   "outputs": [
    {
     "name": "stdout",
     "output_type": "stream",
     "text": [
      "넷\n",
      "{'one': '하나', 'two': '둘', 'three': '셋', 'four': '넷'}\n"
     ]
    }
   ],
   "source": [
    "numbers = {'one': '하나', 'two': '둘', 'three': '셋'}\n",
    "four_value = numbers.setdefault(\"four\", \"넷\")\n",
    "print(four_value)\n",
    "print(numbers)"
   ]
  },
  {
   "cell_type": "code",
   "execution_count": 121,
   "id": "8b7a477f",
   "metadata": {},
   "outputs": [
    {
     "name": "stdout",
     "output_type": "stream",
     "text": [
      "셋\n",
      "{'one': '하나', 'two': '둘', 'three': '셋'}\n"
     ]
    }
   ],
   "source": [
    "numbers = {'one': '하나', 'two': '둘', 'three': '셋'}\n",
    "four_value = numbers.setdefault(\"three\", 3) # 3이 반영되지 않습니다.\n",
    "print(four_value)\n",
    "print(numbers)"
   ]
  },
  {
   "cell_type": "code",
   "execution_count": 123,
   "id": "aac41f51",
   "metadata": {},
   "outputs": [
    {
     "name": "stdout",
     "output_type": "stream",
     "text": [
      "{'one': '하나', 'two': '둘', 'three': '셋', 'four': '넷', 'five': '다섯'}\n"
     ]
    }
   ],
   "source": [
    "numbers = {'one': '하나', 'two': '둘', 'three': '셋'}\n",
    "numbers.update({'four': '넷', 'five': '다섯'})\n",
    "print(numbers)"
   ]
  },
  {
   "cell_type": "code",
   "execution_count": 124,
   "id": "3b9793ee",
   "metadata": {},
   "outputs": [
    {
     "name": "stdout",
     "output_type": "stream",
     "text": [
      "dict_values(['licat', 'Jeju', 'Developer'])\n"
     ]
    }
   ],
   "source": [
    "person = {'name': 'licat', 'city': 'Jeju', 'job': 'Developer'}\n",
    "print(person.values())"
   ]
  },
  {
   "cell_type": "markdown",
   "id": "e2bf894c",
   "metadata": {},
   "source": [
    "# 셋"
   ]
  },
  {
   "cell_type": "code",
   "execution_count": null,
   "id": "c6b10337",
   "metadata": {},
   "outputs": [],
   "source": []
  }
 ],
 "metadata": {
  "kernelspec": {
   "display_name": "Python 3",
   "language": "python",
   "name": "python3"
  },
  "language_info": {
   "codemirror_mode": {
    "name": "ipython",
    "version": 3
   },
   "file_extension": ".py",
   "mimetype": "text/x-python",
   "name": "python",
   "nbconvert_exporter": "python",
   "pygments_lexer": "ipython3",
   "version": "3.13.0"
  }
 },
 "nbformat": 4,
 "nbformat_minor": 5
}
