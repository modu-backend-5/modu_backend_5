{
 "cells": [
  {
   "cell_type": "markdown",
   "id": "a53efc41",
   "metadata": {},
   "source": [
    "# 구글 코랩과 위니북스 사용법"
   ]
  },
  {
   "cell_type": "markdown",
   "id": "69cd12c0",
   "metadata": {},
   "source": [
    "# 주석"
   ]
  },
  {
   "cell_type": "code",
   "execution_count": null,
   "id": "4f9cec75",
   "metadata": {},
   "outputs": [
    {
     "name": "stdout",
     "output_type": "stream",
     "text": [
      "Hello, World 1!\n"
     ]
    }
   ],
   "source": [
    "# 주석\n",
    "print('Hello, World 1!') # 이것도 주석입니다.\n",
    "# print('Hello, World 2!')"
   ]
  },
  {
   "cell_type": "code",
   "execution_count": null,
   "id": "7dd8c0da",
   "metadata": {},
   "outputs": [],
   "source": [
    "'''\n",
    "여러 줄\n",
    "주석을\n",
    "작성할 수 \n",
    "있었습니다.\n",
    "'''"
   ]
  },
  {
   "cell_type": "code",
   "execution_count": null,
   "id": "dde6d275",
   "metadata": {},
   "outputs": [],
   "source": [
    "\"\"\"\n",
    "이것도\n",
    "여러 줄\n",
    "주석이\n",
    "사용\n",
    "가능했습니다.\n",
    "\"\"\""
   ]
  },
  {
   "cell_type": "code",
   "execution_count": null,
   "id": "d5eec192",
   "metadata": {},
   "outputs": [],
   "source": [
    "\n",
    "print(\"benny\")\n",
    "print(\"hwnag\")"
   ]
  },
  {
   "cell_type": "code",
   "execution_count": null,
   "id": "bb3fbfca",
   "metadata": {},
   "outputs": [],
   "source": [
    "def add(a, b):\n",
    "    '''\n",
    "    이 함수는 논리 연산을 기반으로 수행됩니다.\n",
    "    '''\n",
    "    return a and b"
   ]
  },
  {
   "cell_type": "markdown",
   "id": "a567b791",
   "metadata": {},
   "source": [
    "# 입력과 출력"
   ]
  },
  {
   "cell_type": "code",
   "execution_count": 4,
   "id": "cab2a7c8",
   "metadata": {},
   "outputs": [
    {
     "name": "stdout",
     "output_type": "stream",
     "text": [
      "2323\n",
      "2323\n"
     ]
    }
   ],
   "source": [
    "age = input('나이를 입력해주세요.')\n",
    "print(age + age)\n",
    "print(age * 2)"
   ]
  },
  {
   "cell_type": "code",
   "execution_count": 6,
   "id": "22cde888",
   "metadata": {},
   "outputs": [
    {
     "data": {
      "text/plain": [
       "'출력'"
      ]
     },
     "execution_count": 6,
     "metadata": {},
     "output_type": "execute_result"
    }
   ],
   "source": [
    "'출력'\n",
    "'출력'"
   ]
  },
  {
   "cell_type": "code",
   "execution_count": 13,
   "id": "2d8a5113",
   "metadata": {},
   "outputs": [
    {
     "name": "stdout",
     "output_type": "stream",
     "text": [
      "Hello world !\n",
      "Helloworld!\n",
      "Hello-world-!\n",
      "Hello world !\n",
      "010-0000-0000???"
     ]
    }
   ],
   "source": [
    "print(\"Hello\", \"world\", \"!\")\n",
    "print(\"Hello\", \"world\", \"!\", sep=\"\")\n",
    "print(\"Hello\", \"world\", \"!\", sep=\"-\")\n",
    "print(\"Hello\", \"world\", \"!\", sep=\" \")\n",
    "print(\"010\", \"0000\", \"0000\", sep=\"-\", end='???')"
   ]
  },
  {
   "cell_type": "code",
   "execution_count": 15,
   "id": "a22ea815",
   "metadata": {},
   "outputs": [
    {
     "name": "stdout",
     "output_type": "stream",
     "text": [
      "이름: Licat, 나이: 10\n"
     ]
    }
   ],
   "source": [
    "name = \"Licat\"\n",
    "age = 10\n",
    "print(\"이름: %s, 나이: %d\" % (name, age))"
   ]
  },
  {
   "cell_type": "code",
   "execution_count": 16,
   "id": "fdc5f514",
   "metadata": {},
   "outputs": [
    {
     "name": "stdout",
     "output_type": "stream",
     "text": [
      "이름: Licat, 나이: 10\n"
     ]
    }
   ],
   "source": [
    "name = \"Licat\"\n",
    "age = 10\n",
    "print(\"이름: {}, 나이: {}\".format(name, age))"
   ]
  },
  {
   "cell_type": "code",
   "execution_count": 17,
   "id": "14a3eb87",
   "metadata": {},
   "outputs": [
    {
     "name": "stdout",
     "output_type": "stream",
     "text": [
      "이름: LicatLicat, 나이: 10\n"
     ]
    }
   ],
   "source": [
    "name = \"Licat\"\n",
    "age = 10\n",
    "print(f\"이름: {name * 2}, 나이: {age}\")"
   ]
  },
  {
   "cell_type": "code",
   "execution_count": 19,
   "id": "6ff63a82",
   "metadata": {},
   "outputs": [
    {
     "name": "stdout",
     "output_type": "stream",
     "text": [
      "a\n"
     ]
    },
    {
     "data": {
      "text/plain": [
       "b"
      ]
     },
     "execution_count": 19,
     "metadata": {},
     "output_type": "execute_result"
    }
   ],
   "source": [
    "class Character:\n",
    "    def __str__(self):\n",
    "        return 'a'\n",
    "\n",
    "    def __repr__(self):\n",
    "        return 'b'\n",
    "\n",
    "hero = Character()\n",
    "print(hero)\n",
    "hero"
   ]
  },
  {
   "cell_type": "code",
   "execution_count": 21,
   "id": "e45a0923",
   "metadata": {},
   "outputs": [
    {
     "name": "stdout",
     "output_type": "stream",
     "text": [
      "None\n"
     ]
    }
   ],
   "source": [
    "a = None\n",
    "a\n",
    "print(a)"
   ]
  }
 ],
 "metadata": {
  "kernelspec": {
   "display_name": "Python 3",
   "language": "python",
   "name": "python3"
  },
  "language_info": {
   "codemirror_mode": {
    "name": "ipython",
    "version": 3
   },
   "file_extension": ".py",
   "mimetype": "text/x-python",
   "name": "python",
   "nbconvert_exporter": "python",
   "pygments_lexer": "ipython3",
   "version": "3.13.0"
  }
 },
 "nbformat": 4,
 "nbformat_minor": 5
}
