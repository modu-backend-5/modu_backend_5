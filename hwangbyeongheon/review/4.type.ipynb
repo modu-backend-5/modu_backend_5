{
 "cells": [
  {
   "cell_type": "markdown",
   "id": "766394c6",
   "metadata": {},
   "source": [
    "# 변수"
   ]
  },
  {
   "cell_type": "code",
   "execution_count": null,
   "id": "ba6fcaf7",
   "metadata": {},
   "outputs": [],
   "source": [
    "name = 'Licat'\n",
    "age = 30\n",
    "print(name, age)"
   ]
  },
  {
   "cell_type": "code",
   "execution_count": null,
   "id": "24b2988a",
   "metadata": {},
   "outputs": [],
   "source": [
    "x = 10\n",
    "y = x\n",
    "z = y\n",
    "id(x), id(y), id(z)"
   ]
  },
  {
   "cell_type": "code",
   "execution_count": null,
   "id": "0ceb24d7",
   "metadata": {},
   "outputs": [],
   "source": [
    "x = 10\n",
    "y = 10\n",
    "z = 10\n",
    "id(x), id(y), id(z)"
   ]
  },
  {
   "cell_type": "code",
   "execution_count": null,
   "id": "95c8a0b9",
   "metadata": {},
   "outputs": [],
   "source": [
    "x = 10\n",
    "y = x\n",
    "z = y\n",
    "x = 20\n",
    "id(x), id(y), id(z)"
   ]
  },
  {
   "cell_type": "code",
   "execution_count": null,
   "id": "eb24de90",
   "metadata": {},
   "outputs": [],
   "source": [
    "asb = 10\n",
    "ASB = 20\n",
    "ASB1 = 30\n",
    "asb_ASB = 40\n",
    "_asb = 50"
   ]
  },
  {
   "cell_type": "code",
   "execution_count": null,
   "id": "3294e8fd",
   "metadata": {},
   "outputs": [],
   "source": [
    "import keyword\n",
    "\n",
    "print(keyword.kwlist)"
   ]
  },
  {
   "cell_type": "code",
   "execution_count": null,
   "id": "6990610f",
   "metadata": {},
   "outputs": [],
   "source": [
    "name = \"benny\" # 관습 O\n",
    "Name = \"Benny\" # 관습 X\n",
    "NAME = \"BENNY\" # 관습 X\n",
    "name, Name, NAME"
   ]
  },
  {
   "cell_type": "code",
   "execution_count": null,
   "id": "123e1faf",
   "metadata": {},
   "outputs": [],
   "source": [
    "for _ in range(10):\n",
    "    print(\"안녕하세요\")"
   ]
  },
  {
   "cell_type": "code",
   "execution_count": null,
   "id": "a064f879",
   "metadata": {},
   "outputs": [],
   "source": [
    "class BlogPost:\n",
    "    pass\n",
    "\n",
    "my_name = \"내 이름\""
   ]
  },
  {
   "cell_type": "code",
   "execution_count": null,
   "id": "598f9cac",
   "metadata": {},
   "outputs": [],
   "source": [
    "age = 10\n",
    "print(type(age)) # 출력: <class 'int'>\n",
    "print(age + age)\n",
    "\n",
    "name = \"licat\"\n",
    "print(type(name)) # 출력: <class 'str'>\n",
    "print(name + name)"
   ]
  },
  {
   "cell_type": "code",
   "execution_count": null,
   "id": "e22d941e",
   "metadata": {},
   "outputs": [],
   "source": [
    "x: int = 10\n",
    "y: str = 'licat'\n",
    "print(x, y)"
   ]
  },
  {
   "cell_type": "code",
   "execution_count": null,
   "id": "4715345f",
   "metadata": {},
   "outputs": [],
   "source": [
    "x = 10\n",
    "print(type(x))\n",
    "print(dir(x))\n",
    "x.as_integer_ratio()"
   ]
  },
  {
   "cell_type": "code",
   "execution_count": null,
   "id": "12cd7b72",
   "metadata": {},
   "outputs": [],
   "source": [
    "x = 10\n",
    "print(x)  # 출력: 10\n",
    "print(id(x))\n",
    "x = 20\n",
    "print(x)  # 출력: 20\n",
    "print(id(x))\n",
    "x = \"Hello\"\n",
    "print(x)  # 출력: Hello\n",
    "print(id(x))"
   ]
  },
  {
   "cell_type": "markdown",
   "id": "242a5ca1",
   "metadata": {},
   "source": [
    "# 정수 자료형"
   ]
  },
  {
   "cell_type": "code",
   "execution_count": null,
   "id": "990f8fd6",
   "metadata": {},
   "outputs": [],
   "source": [
    "x = 10\n",
    "y = -5\n",
    "z = 0\n",
    "print(type(x), type(y), type(z))"
   ]
  },
  {
   "cell_type": "code",
   "execution_count": null,
   "id": "5f3fc246",
   "metadata": {},
   "outputs": [],
   "source": [
    "x = 10\n",
    "y = 20 # 음수도 넣어보세요.\n",
    "result = x + y\n",
    "print(result) # 출력 : 30"
   ]
  },
  {
   "cell_type": "code",
   "execution_count": null,
   "id": "8d7f8c05",
   "metadata": {},
   "outputs": [],
   "source": [
    "x = 10\n",
    "y = 20 # 음수도 넣어보세요.\n",
    "result = x - y\n",
    "print(result) # 출력 : -10"
   ]
  },
  {
   "cell_type": "code",
   "execution_count": null,
   "id": "2600f18b",
   "metadata": {},
   "outputs": [],
   "source": [
    "x = 10 # 음수도 넣어보세요.\n",
    "y = 20 # 음수도 넣어보세요.\n",
    "result = x * y\n",
    "print(result) # 출력 : 200"
   ]
  },
  {
   "cell_type": "code",
   "execution_count": null,
   "id": "a0551168",
   "metadata": {},
   "outputs": [],
   "source": [
    "x = 10\n",
    "y = 20\n",
    "result1 = x / y\n",
    "result2 = x // y\n",
    "print(result1, result2) # 출력"
   ]
  },
  {
   "cell_type": "code",
   "execution_count": null,
   "id": "4ef891dd",
   "metadata": {},
   "outputs": [],
   "source": [
    "x = 731\n",
    "y = 0b110\n",
    "print(x, y)"
   ]
  },
  {
   "cell_type": "code",
   "execution_count": null,
   "id": "ae861ef2",
   "metadata": {},
   "outputs": [],
   "source": [
    "x = 5\n",
    "print(dir(5))"
   ]
  },
  {
   "cell_type": "code",
   "execution_count": null,
   "id": "8c218b92",
   "metadata": {},
   "outputs": [],
   "source": [
    "x = 256\n",
    "y = 256\n",
    "print(id(x), id(y))"
   ]
  },
  {
   "cell_type": "code",
   "execution_count": null,
   "id": "35f5804f",
   "metadata": {},
   "outputs": [],
   "source": [
    "x = 257\n",
    "y = 257\n",
    "print(id(x), id(y))"
   ]
  },
  {
   "cell_type": "markdown",
   "id": "d6c3804f",
   "metadata": {},
   "source": [
    "# 실수 자료형"
   ]
  },
  {
   "cell_type": "code",
   "execution_count": null,
   "id": "44d00a78",
   "metadata": {},
   "outputs": [],
   "source": [
    "x = 10.0\n",
    "y = -5.0\n",
    "z = 0.0\n",
    "print(type(x), type(y), type(z))"
   ]
  },
  {
   "cell_type": "code",
   "execution_count": null,
   "id": "b96d7dce",
   "metadata": {},
   "outputs": [],
   "source": [
    "x = 9.9\n",
    "y = 20.1\n",
    "result = x + y\n",
    "print(result)\n",
    "print(type(result))"
   ]
  },
  {
   "cell_type": "code",
   "execution_count": null,
   "id": "2dc075e5",
   "metadata": {},
   "outputs": [],
   "source": [
    "x = 15.5\n",
    "y = 5.5\n",
    "result = x - y\n",
    "print(result)\n",
    "print(type(result))"
   ]
  },
  {
   "cell_type": "code",
   "execution_count": null,
   "id": "1c20d661",
   "metadata": {},
   "outputs": [],
   "source": [
    "x = 10.0\n",
    "y = 2\n",
    "result = x * y\n",
    "print(result)\n",
    "print(type(result))"
   ]
  },
  {
   "cell_type": "code",
   "execution_count": null,
   "id": "b67da4e8",
   "metadata": {},
   "outputs": [],
   "source": [
    "x = 10\n",
    "y = 5\n",
    "result = x / y\n",
    "print(result)\n",
    "print(type(result))\n",
    "\n",
    "\n",
    "x = 10.0\n",
    "y = 5.0\n",
    "result = x // y\n",
    "print(result)\n",
    "print(type(result))"
   ]
  },
  {
   "cell_type": "code",
   "execution_count": null,
   "id": "bf24327b",
   "metadata": {},
   "outputs": [],
   "source": [
    "x = 10.0\n",
    "y = 5\n",
    "result = x / y\n",
    "print(result)\n",
    "print(type(result))"
   ]
  },
  {
   "cell_type": "code",
   "execution_count": null,
   "id": "ad6d1060",
   "metadata": {},
   "outputs": [],
   "source": [
    "x = float(\"inf\")\n",
    "print(x)\n",
    "x = float(\"-inf\")\n",
    "print(x)"
   ]
  },
  {
   "cell_type": "code",
   "execution_count": null,
   "id": "81568801",
   "metadata": {},
   "outputs": [],
   "source": [
    "10.1 + 10.2"
   ]
  },
  {
   "cell_type": "code",
   "execution_count": null,
   "id": "3af35ea2",
   "metadata": {},
   "outputs": [],
   "source": [
    "x = 0.1\n",
    "y = 0.2\n",
    "x *= 10\n",
    "y *= 10\n",
    "result = x + y\n",
    "result /= 10\n",
    "print(result)"
   ]
  },
  {
   "cell_type": "markdown",
   "id": "27c01e54",
   "metadata": {},
   "source": [
    "# 문자열 자료형"
   ]
  },
  {
   "cell_type": "code",
   "execution_count": null,
   "id": "9026b678",
   "metadata": {},
   "outputs": [],
   "source": [
    "x = 'hello'\n",
    "y = \"python\"\n",
    "print(type(x), type(y))"
   ]
  },
  {
   "cell_type": "code",
   "execution_count": null,
   "id": "38cae2ba",
   "metadata": {},
   "outputs": [],
   "source": [
    "i = '''안녕하세요.\n",
    "저는 위니브의 대표 이호준입니다.\n",
    "파이썬 참 좋아요.\n",
    "여러분 정말 잘 선택하셨어요.\n",
    "'''\n",
    "\n",
    "\n",
    "j = \"\"\"안녕하세요.\n",
    "저는 위니브의 대표 이호준입니다.\n",
    "파이썬 참 좋아요.\n",
    "여러분 정말 잘 선택하셨어요.\n",
    "\"\"\"\n",
    "\n",
    "\n",
    "print(i)\n",
    "print(j)"
   ]
  },
  {
   "cell_type": "code",
   "execution_count": null,
   "id": "6428d999",
   "metadata": {},
   "outputs": [],
   "source": [
    "imsi_str = '안녕하세요\\n저는 위니브의 대표 이호준입니다.\\n파이썬 참 좋아요.\\n여러분 정말 잘 선택하셨어요.'\n",
    "print(imsi_str)\n",
    "print(\"안녕하세요\")\n",
    "print(\"저는 위니브의 직원 황병헌입니다.\")"
   ]
  },
  {
   "cell_type": "code",
   "execution_count": null,
   "id": "3e9b9de5",
   "metadata": {},
   "outputs": [],
   "source": [
    "x = 'hello'\n",
    "y = 'world'\n",
    "print(x + y)"
   ]
  },
  {
   "cell_type": "code",
   "execution_count": null,
   "id": "c89f7574",
   "metadata": {},
   "outputs": [],
   "source": [
    "x = 'hello'\n",
    "print(x * 3)"
   ]
  },
  {
   "cell_type": "code",
   "execution_count": null,
   "id": "2a03254b",
   "metadata": {},
   "outputs": [],
   "source": [
    "s = '위니브 월드!'\n",
    "print(s[0]) # 출력 : '위'\n",
    "print(s[-1]) # 출력 : '!'"
   ]
  },
  {
   "cell_type": "code",
   "execution_count": null,
   "id": "29302ad4",
   "metadata": {},
   "outputs": [],
   "source": [
    "s = '위니브 월드!'\n",
    "print(s[100])"
   ]
  },
  {
   "cell_type": "code",
   "execution_count": null,
   "id": "edac10e3",
   "metadata": {},
   "outputs": [],
   "source": [
    "s = '위니브 월드!'\n",
    "print(s[0:3])"
   ]
  },
  {
   "cell_type": "code",
   "execution_count": null,
   "id": "4290c302",
   "metadata": {},
   "outputs": [],
   "source": [
    "s = 'weniv CEO licat'\n",
    "print(s[0:5]) # 출력 : weniv # 첫번째 예제\n",
    "print(s[6:]) # 출력 : CEO licat # 두번째 예제\n",
    "print(s[:]) # 출력 : weniv CEO licat # 세번째 예제\n",
    "print(s[::-1]) # 출력 : tacil OEC vinew # 네번째 예제\n",
    "print(s[::2]) # 출력 : wnvCOlct # 다섯번째 예제"
   ]
  },
  {
   "cell_type": "code",
   "execution_count": null,
   "id": "9cae891b",
   "metadata": {},
   "outputs": [],
   "source": [
    "s = 'weniv CEO licat'\n",
    "s[19:20] # 출력 : licat"
   ]
  },
  {
   "cell_type": "code",
   "execution_count": null,
   "id": "de75d177",
   "metadata": {},
   "outputs": [],
   "source": [
    "s = 'weniv CEO licat'\n",
    "s.lower()\n",
    "s.upper()\n",
    "print(s.find(\"CEO\"))\n",
    "print(s.index(\"CEO\"))\n",
    "s.count('i')\n",
    "s = '       weniv CEO licat          '\n",
    "s.strip()\n",
    "'    ,!!  hello world   '.strip(' ,!')"
   ]
  },
  {
   "cell_type": "code",
   "execution_count": null,
   "id": "3d73ade9",
   "metadata": {},
   "outputs": [],
   "source": [
    "s = 'weniv CEO licat'\n",
    "s.replace('CEO', 'CTO')\n",
    "s = 'weniv CEO licat'\n",
    "s.replace('ceo', 'CTO')"
   ]
  },
  {
   "cell_type": "code",
   "execution_count": null,
   "id": "c1f87b7b",
   "metadata": {},
   "outputs": [],
   "source": [
    "s = 'weniv CEO licat'\n",
    "ss = s.replace('i', 'I')\n",
    "ss, s"
   ]
  },
  {
   "cell_type": "code",
   "execution_count": null,
   "id": "c3f243c4",
   "metadata": {},
   "outputs": [],
   "source": [
    "s = 'weniv CEO licat'\n",
    "s.split(\"i\")"
   ]
  },
  {
   "cell_type": "code",
   "execution_count": null,
   "id": "d43f8c39",
   "metadata": {},
   "outputs": [],
   "source": [
    "s = 'weniv-CEO-licat'\n",
    "s.split('-') #-을 기준으로 문자열 나누기"
   ]
  },
  {
   "cell_type": "code",
   "execution_count": null,
   "id": "e816423c",
   "metadata": {},
   "outputs": [],
   "source": [
    "s = ['weniv', 'CEO', 'licat']\n",
    "'-'.join(s) #리스트를 하나의 문자열로 합치기"
   ]
  },
  {
   "cell_type": "code",
   "execution_count": null,
   "id": "94ea4ca0",
   "metadata": {},
   "outputs": [],
   "source": [
    "'abcd1234'.isalnum() # 출력: True\n",
    "'abcd1234!'.isalnum() # 출력: False\n",
    "'안녕하세요'.isalnum() # 출력: True\n",
    "'こんにちは'.isalnum() # 출력: True\n",
    "'你好'.isalnum() # 출력: True"
   ]
  },
  {
   "cell_type": "code",
   "execution_count": null,
   "id": "6f0adaa9",
   "metadata": {},
   "outputs": [],
   "source": [
    "s = '1231'\n",
    "s.isdigit()"
   ]
  },
  {
   "cell_type": "code",
   "execution_count": null,
   "id": "fa83d6bb",
   "metadata": {},
   "outputs": [],
   "source": [
    "print('abcd1234'.isalpha()) # 출력: False\n",
    "print('안녕하세요'.isalpha()) # 출력: True\n",
    "print('こんにちは'.isalpha()) # 출력: True\n",
    "print('你好'.isalpha()) # 출력: True\n",
    "print('hello world'.isalpha()) # 출력: False\n",
    "print('helloworld'.isalpha()) # 출력: True"
   ]
  },
  {
   "cell_type": "code",
   "execution_count": null,
   "id": "512652cf",
   "metadata": {},
   "outputs": [],
   "source": [
    "print('안녕'.isascii()) # 출력: False\n",
    "print('!@ ()+'.isascii()) # 출력: True\n",
    "print('hello'.isascii()) # 출력: True\n",
    "print('hello world'.isascii()) # 출력: True"
   ]
  },
  {
   "cell_type": "code",
   "execution_count": null,
   "id": "93ad5b67",
   "metadata": {},
   "outputs": [],
   "source": [
    "s = 'licat'\n",
    "print(s.rjust(10))\n",
    "print(s.rjust(10, '-')) #문자열을 지정한 길이로 맞추고, 왼쪽을 '-'로 채우는 메서드"
   ]
  },
  {
   "cell_type": "code",
   "execution_count": null,
   "id": "fe733ede",
   "metadata": {},
   "outputs": [],
   "source": [
    "s = 'licat'\n",
    "print(s.ljust(10))\n",
    "print(s.ljust(10, '-'))"
   ]
  },
  {
   "cell_type": "code",
   "execution_count": null,
   "id": "01f14948",
   "metadata": {},
   "outputs": [],
   "source": [
    "s = 'licat'\n",
    "s.center(11, '-')"
   ]
  },
  {
   "cell_type": "code",
   "execution_count": null,
   "id": "42cfe8af",
   "metadata": {},
   "outputs": [],
   "source": [
    "s = 'licat'\n",
    "s.center(3, '-')"
   ]
  },
  {
   "cell_type": "code",
   "execution_count": null,
   "id": "7e785974",
   "metadata": {},
   "outputs": [],
   "source": [
    "x = \"42\"\n",
    "result = x.zfill(5)\n",
    "print(result)  # 00042"
   ]
  },
  {
   "cell_type": "code",
   "execution_count": null,
   "id": "74eebb5a",
   "metadata": {},
   "outputs": [],
   "source": [
    "y = \"-42\"\n",
    "result = y.zfill(5)\n",
    "print(result)  # -0042"
   ]
  },
  {
   "cell_type": "code",
   "execution_count": null,
   "id": "8bff4f2b",
   "metadata": {},
   "outputs": [],
   "source": [
    "for i in range(1, 101):\n",
    "    filename = str(i).zfill(3) + \".jpg\"\n",
    "    print(filename)"
   ]
  },
  {
   "cell_type": "code",
   "execution_count": 96,
   "id": "db958b55",
   "metadata": {},
   "outputs": [
    {
     "name": "stdout",
     "output_type": "stream",
     "text": [
      "23년 9월 8일\n",
      "23년 09월 08일\n"
     ]
    }
   ],
   "source": [
    "년 = '23'\n",
    "월 = '9'\n",
    "일 = '8'\n",
    "오늘날짜 = f\"{년}년 {월}월 {일}일\"\n",
    "print(오늘날짜)\n",
    "오늘날짜 = f\"{년}년 {월.zfill(2)}월 {일.zfill(2)}일\"\n",
    "print(오늘날짜)"
   ]
  },
  {
   "cell_type": "code",
   "execution_count": 98,
   "id": "43b53700",
   "metadata": {},
   "outputs": [
    {
     "name": "stdout",
     "output_type": "stream",
     "text": [
      "Hello\n",
      "World!\n",
      "Hello\tWorld!\n",
      "She said, \"Hello World!\"\n",
      "She said, 'Hello World!'\n",
      "Backslash: \\\n"
     ]
    }
   ],
   "source": [
    "print(\"Hello\\nWorld!\") # Hello와 World! 사이에 줄바꿈이 일어납니다.\n",
    "print(\"Hello\\tWorld!\") # Hello와 World! 사이에 탭 간격이 생깁니다.\n",
    "print(\"She said, \\\"Hello World!\\\"\") # 큰따옴표 내부에 문자열을 출력합니다.\n",
    "print('She said, \\'Hello World!\\'') # 작은따옴표 내부에 문자열을 출력합니다.\n",
    "print(\"Backslash: \\\\\") # 백슬래시를 출력합니다."
   ]
  },
  {
   "cell_type": "markdown",
   "id": "d00ea93d",
   "metadata": {},
   "source": [
    "# 논리 자료형"
   ]
  },
  {
   "cell_type": "code",
   "execution_count": 99,
   "id": "09f25a7b",
   "metadata": {},
   "outputs": [
    {
     "name": "stdout",
     "output_type": "stream",
     "text": [
      "True False True\n"
     ]
    }
   ],
   "source": [
    "x = True\n",
    "y = False\n",
    "z = 10 > 3\n",
    "print(x, y, z)"
   ]
  },
  {
   "cell_type": "code",
   "execution_count": 100,
   "id": "8f033e4a",
   "metadata": {},
   "outputs": [
    {
     "name": "stdout",
     "output_type": "stream",
     "text": [
      "True\n",
      "True\n"
     ]
    }
   ],
   "source": [
    "print(True == 1) # 출력: True\n",
    "print(False == 0) # 출력: True"
   ]
  },
  {
   "cell_type": "code",
   "execution_count": 101,
   "id": "7e5e10ab",
   "metadata": {},
   "outputs": [
    {
     "name": "stdout",
     "output_type": "stream",
     "text": [
      "2\n",
      "-1\n",
      "1.0\n",
      "0\n"
     ]
    }
   ],
   "source": [
    "print(True + True) # 출력: 2\n",
    "print(False - True) # 출력: -1\n",
    "print(True / True) # 출력: 1.0\n",
    "print(True * False) # 출력: 0"
   ]
  },
  {
   "cell_type": "code",
   "execution_count": 103,
   "id": "c76d0e94",
   "metadata": {},
   "outputs": [
    {
     "name": "stdout",
     "output_type": "stream",
     "text": [
      "True False\n",
      "True False\n",
      "e\n",
      "v\n",
      "w\n",
      "True\n"
     ]
    },
    {
     "name": "stderr",
     "output_type": "stream",
     "text": [
      "<>:1: SyntaxWarning: \"is\" with 'int' literal. Did you mean \"==\"?\n",
      "<>:2: SyntaxWarning: \"is\" with 'int' literal. Did you mean \"==\"?\n",
      "<>:1: SyntaxWarning: \"is\" with 'int' literal. Did you mean \"==\"?\n",
      "<>:2: SyntaxWarning: \"is\" with 'int' literal. Did you mean \"==\"?\n",
      "C:\\Users\\elwl5\\AppData\\Local\\Temp\\ipykernel_39772\\1722190659.py:1: SyntaxWarning: \"is\" with 'int' literal. Did you mean \"==\"?\n",
      "  print(1 == True, 1 is True) # 출력: True, False\n",
      "C:\\Users\\elwl5\\AppData\\Local\\Temp\\ipykernel_39772\\1722190659.py:2: SyntaxWarning: \"is\" with 'int' literal. Did you mean \"==\"?\n",
      "  print(0 == False, 0 is False) # 출력: True, False\n"
     ]
    }
   ],
   "source": [
    "print(1 == True, 1 is True) # 출력: True, False\n",
    "print(0 == False, 0 is False) # 출력: True, False\n",
    "print('weniv'[True]) # 출력: e\n",
    "print('weniv'[-True]) # 출력: v\n",
    "print('weniv'[False]) # 출력: w\n",
    "print(issubclass(bool, int))"
   ]
  },
  {
   "cell_type": "markdown",
   "id": "96e224e2",
   "metadata": {},
   "source": [
    "# None 자료형"
   ]
  },
  {
   "cell_type": "code",
   "execution_count": 104,
   "id": "8e3b39de",
   "metadata": {},
   "outputs": [
    {
     "name": "stdout",
     "output_type": "stream",
     "text": [
      "None\n"
     ]
    }
   ],
   "source": [
    "x = None\n",
    "print(x)"
   ]
  },
  {
   "cell_type": "code",
   "execution_count": 108,
   "id": "d01fb9cc",
   "metadata": {},
   "outputs": [
    {
     "ename": "SyntaxError",
     "evalue": "cannot assign to None (304936782.py, line 3)",
     "output_type": "error",
     "traceback": [
      "  \u001b[36mCell\u001b[39m\u001b[36m \u001b[39m\u001b[32mIn[108]\u001b[39m\u001b[32m, line 3\u001b[39m\n\u001b[31m    \u001b[39m\u001b[31mNone = 10\u001b[39m\n    ^\n\u001b[31mSyntaxError\u001b[39m\u001b[31m:\u001b[39m cannot assign to None\n"
     ]
    }
   ],
   "source": [
    "None + 5\n",
    "None + None\n",
    "None = 10"
   ]
  },
  {
   "cell_type": "code",
   "execution_count": 109,
   "id": "183a23e8",
   "metadata": {},
   "outputs": [
    {
     "name": "stdout",
     "output_type": "stream",
     "text": [
      "140728613298672 140728613298672\n"
     ]
    }
   ],
   "source": [
    "x = None\n",
    "y = None\n",
    "print(id(x), id(y))"
   ]
  },
  {
   "cell_type": "code",
   "execution_count": 110,
   "id": "0c675561",
   "metadata": {},
   "outputs": [
    {
     "name": "stdout",
     "output_type": "stream",
     "text": [
      "True\n",
      "True\n"
     ]
    }
   ],
   "source": [
    "x = None\n",
    "\n",
    "print(x == None)    # True, 하지만 이 방식은 권장되지 않습니다.\n",
    "print(x is None) "
   ]
  },
  {
   "cell_type": "code",
   "execution_count": 113,
   "id": "3cbdf089",
   "metadata": {},
   "outputs": [
    {
     "name": "stdout",
     "output_type": "stream",
     "text": [
      "True\n",
      "True\n",
      "True\n",
      "False\n"
     ]
    }
   ],
   "source": [
    "class 캐릭터:\n",
    "    # ... 체력, 마력, 공경력, 방어력을 정의하는 수많은 코드 ...\n",
    "    def __eq__(self, other):\n",
    "        return True\n",
    "\n",
    "# 캐릭터 클래스의 인스턴스\n",
    "주인공 = 캐릭터()\n",
    "보스 = 캐릭터()\n",
    "\n",
    "print(주인공 == None)\n",
    "print(주인공 == 100)\n",
    "print(주인공 == 보스)\n",
    "print(주인공 is None)"
   ]
  },
  {
   "cell_type": "code",
   "execution_count": 2,
   "id": "d55d4a8b",
   "metadata": {},
   "outputs": [
    {
     "data": {
      "text/plain": [
       "['hello,', 'python!']"
      ]
     },
     "execution_count": 2,
     "metadata": {},
     "output_type": "execute_result"
    }
   ],
   "source": [
    "sentence = '  Hello, World!  '\n",
    "# Hello, World! -> hello, world! -> hello, python! -> ['hello,', 'python!']\n",
    "sentence = sentence.strip().lower().replace('world', 'python').split()\n",
    "sentence"
   ]
  },
  {
   "cell_type": "code",
   "execution_count": 5,
   "id": "fda9adb3",
   "metadata": {},
   "outputs": [
    {
     "name": "stdout",
     "output_type": "stream",
     "text": [
      "hello, python!\n"
     ]
    }
   ],
   "source": [
    "# 백슬러쉬 사용해서 개행을 할 수 있습니다.\n",
    "sentence = '  Hello, World!  '\n",
    "result = sentence\\\n",
    "         .strip()\\\n",
    "         .lower()\\\n",
    "         .replace('world', 'python')\n",
    "\n",
    "print(result)  # 'hello, python!'"
   ]
  },
  {
   "cell_type": "code",
   "execution_count": 6,
   "id": "fd4cd182",
   "metadata": {},
   "outputs": [
    {
     "ename": "AttributeError",
     "evalue": "'list' object has no attribute 'replace'",
     "output_type": "error",
     "traceback": [
      "\u001b[31m---------------------------------------------------------------------------\u001b[39m",
      "\u001b[31mAttributeError\u001b[39m                            Traceback (most recent call last)",
      "\u001b[36mCell\u001b[39m\u001b[36m \u001b[39m\u001b[32mIn[6]\u001b[39m\u001b[32m, line 1\u001b[39m\n\u001b[32m----> \u001b[39m\u001b[32m1\u001b[39m \u001b[33;43m'\u001b[39;49m\u001b[33;43m010-1000-2000\u001b[39;49m\u001b[33;43m'\u001b[39;49m\u001b[43m.\u001b[49m\u001b[43msplit\u001b[49m\u001b[43m(\u001b[49m\u001b[33;43m'\u001b[39;49m\u001b[33;43m-\u001b[39;49m\u001b[33;43m'\u001b[39;49m\u001b[43m)\u001b[49m\u001b[43m.\u001b[49m\u001b[43mreplace\u001b[49m(\u001b[33m'\u001b[39m\u001b[33m0\u001b[39m\u001b[33m'\u001b[39m, \u001b[33m'\u001b[39m\u001b[33mx\u001b[39m\u001b[33m'\u001b[39m)\n",
      "\u001b[31mAttributeError\u001b[39m: 'list' object has no attribute 'replace'"
     ]
    }
   ],
   "source": [
    "'010-1000-2000'.split('-').replace('0', 'x')"
   ]
  },
  {
   "cell_type": "code",
   "execution_count": null,
   "id": "48a02364",
   "metadata": {},
   "outputs": [
    {
     "name": "stdout",
     "output_type": "stream",
     "text": [
      "당신의 연봉은 200200200200200200200200200200200200입니다.\n"
     ]
    }
   ],
   "source": [
    "월급 = int(input(\"월급을 입력하세요:\"))\n",
    "연봉 = int(월급) * 12\n",
    "print(f'당신의 연봉은 {연봉}입니다.')"
   ]
  },
  {
   "cell_type": "code",
   "execution_count": null,
   "id": "54613ef9",
   "metadata": {},
   "outputs": [
    {
     "name": "stdout",
     "output_type": "stream",
     "text": [
      "<class 'str'>\n",
      "<class 'int'>\n"
     ]
    }
   ],
   "source": [
    "num = '123'\n",
    "print(type(num))\n",
    "\n",
    "num = int(num)\n",
    "print(type(num))\n",
    "\n",
    "s = '10hello'\n",
    "s = int(s) # Error"
   ]
  },
  {
   "cell_type": "code",
   "execution_count": 9,
   "id": "c2529a69",
   "metadata": {},
   "outputs": [
    {
     "name": "stdout",
     "output_type": "stream",
     "text": [
      "3\n"
     ]
    }
   ],
   "source": [
    "f = 3.14159\n",
    "number = int(f)\n",
    "print(number)  # 출력: 3"
   ]
  },
  {
   "cell_type": "code",
   "execution_count": 11,
   "id": "68f2c97f",
   "metadata": {},
   "outputs": [
    {
     "name": "stdout",
     "output_type": "stream",
     "text": [
      "1\n",
      "0\n"
     ]
    }
   ],
   "source": [
    "true_int = int(True)\n",
    "false_int = int(False)\n",
    "\n",
    "\n",
    "print(true_int)  # 출력: 1\n",
    "print(false_int)  # 출력: 0"
   ]
  },
  {
   "cell_type": "code",
   "execution_count": 12,
   "id": "aecb5ff1",
   "metadata": {},
   "outputs": [
    {
     "name": "stdout",
     "output_type": "stream",
     "text": [
      "123 123\n",
      "<class 'str'>\n",
      "123.4 123.4\n",
      "<class 'str'>\n"
     ]
    }
   ],
   "source": [
    "n = str(123)\n",
    "print(123, n)\n",
    "print(type(n))\n",
    "\n",
    "m = str(123.4)\n",
    "print(123.4, m)\n",
    "print(type(m))"
   ]
  },
  {
   "cell_type": "code",
   "execution_count": 13,
   "id": "654fab46",
   "metadata": {},
   "outputs": [
    {
     "name": "stdout",
     "output_type": "stream",
     "text": [
      "bool('test'): True\n",
      "bool(' '): True\n",
      "bool(''): False\n",
      "bool(100): True\n",
      "bool(1): True\n",
      "bool(0): False\n",
      "bool(-1): True\n",
      "bool(None): False\n",
      "bool([]): False\n",
      "bool(tuple()): False\n",
      "bool({}): False\n",
      "bool(set()): False\n"
     ]
    }
   ],
   "source": [
    "print(\"bool('test'):\", bool('test'))\n",
    "print(\"bool(' '):\", bool(' '))\n",
    "print(\"bool(''):\", bool('')) # False\n",
    "print(\"bool(100):\", bool(100))\n",
    "print(\"bool(1):\", bool(1))\n",
    "print(\"bool(0):\", bool(0)) # False\n",
    "print(\"bool(-1):\", bool(-1))\n",
    "print(\"bool(None):\", bool(None)) # False\n",
    "print(\"bool([]):\", bool([])) # False\n",
    "print(\"bool(tuple()):\", bool(tuple())) # False\n",
    "print(\"bool({}):\", bool({})) # False\n",
    "print(\"bool(set()):\", bool(set())) # False"
   ]
  },
  {
   "cell_type": "code",
   "execution_count": null,
   "id": "7fc835a7",
   "metadata": {},
   "outputs": [
    {
     "name": "stdout",
     "output_type": "stream",
     "text": [
      "10.0\n",
      "10.0\n",
      "3.14\n"
     ]
    }
   ],
   "source": [
    "s = 10\n",
    "print(float(s))\n",
    "\n",
    "\n",
    "s = '10'\n",
    "print(float(s))\n",
    "\n",
    "\n",
    "s = '3.14'\n",
    "print(float(s))"
   ]
  },
  {
   "cell_type": "code",
   "execution_count": 17,
   "id": "f3cc5fa7",
   "metadata": {},
   "outputs": [
    {
     "name": "stdout",
     "output_type": "stream",
     "text": [
      "infinity: inf\n",
      "neg_infinity: -inf\n",
      "not_a_number: nan\n"
     ]
    }
   ],
   "source": [
    "infinity = float('inf')\n",
    "neg_infinity = float('-inf')\n",
    "not_a_number = float('nan')\n",
    "\n",
    "print(\"infinity:\", infinity)\n",
    "print(\"neg_infinity:\", neg_infinity)\n",
    "print(\"not_a_number:\", not_a_number)\n"
   ]
  },
  {
   "cell_type": "code",
   "execution_count": 18,
   "id": "656dbeaa",
   "metadata": {},
   "outputs": [
    {
     "data": {
      "text/plain": [
       "10.0"
      ]
     },
     "execution_count": 18,
     "metadata": {},
     "output_type": "execute_result"
    }
   ],
   "source": [
    "10 / 1"
   ]
  }
 ],
 "metadata": {
  "kernelspec": {
   "display_name": "Python 3",
   "language": "python",
   "name": "python3"
  },
  "language_info": {
   "codemirror_mode": {
    "name": "ipython",
    "version": 3
   },
   "file_extension": ".py",
   "mimetype": "text/x-python",
   "name": "python",
   "nbconvert_exporter": "python",
   "pygments_lexer": "ipython3",
   "version": "3.13.0"
  }
 },
 "nbformat": 4,
 "nbformat_minor": 5
}
