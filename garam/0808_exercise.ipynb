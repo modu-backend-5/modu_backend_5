{
 "cells": [
  {
   "cell_type": "markdown",
   "id": "e4cc02c9",
   "metadata": {},
   "source": [
    "### 1번문제\n",
    "##### 다음 코드를 실행하면 출력되는 값을 순서대로 작성해보세요.\n"
   ]
  },
  {
   "cell_type": "code",
   "execution_count": 1,
   "id": "ab11a50a",
   "metadata": {},
   "outputs": [
    {
     "name": "stdout",
     "output_type": "stream",
     "text": [
      "I\n",
      "love\n",
      "python\n"
     ]
    }
   ],
   "source": [
    "a = 'pithon'\n",
    " \n",
    "def 함수1():\n",
    "    def 함수2():\n",
    "        print('love')\n",
    " \n",
    "    print('I') # 1번\n",
    "    함수2() #2번\n",
    "    return \"python\" #3번\n",
    " \n",
    " \n",
    "a = 함수1()\n",
    "print(a)"
   ]
  },
  {
   "cell_type": "markdown",
   "id": "dbae2073",
   "metadata": {},
   "source": [
    "#### 2번문제\n",
    "##### 함수를 이용하여 계산기 프로그램을 만들어주세요."
   ]
  },
  {
   "cell_type": "code",
   "execution_count": 3,
   "id": "ecabad5d",
   "metadata": {},
   "outputs": [
    {
     "name": "stdout",
     "output_type": "stream",
     "text": [
      "plus : 15\n",
      "minus : 5\n",
      "multiply : 50\n",
      "divide : 2.0\n"
     ]
    }
   ],
   "source": [
    "def plus(num1, num2):\n",
    "    return num1 + num2\n",
    "def minus(num1, num2):\n",
    "    return num1 - num2\n",
    "def multiply(num1, num2):\n",
    "    return num1 * num2\n",
    "def divide(num1, num2):\n",
    "    return num1 / num2\n",
    "\n",
    "print(f'plus : {plus(10, 5)}')\n",
    "print(f'minus : {minus(10, 5)}')\n",
    "print(f'multiply : {multiply(10, 5)}')\n",
    "print(f'divide : {divide(10, 5)}')"
   ]
  },
  {
   "cell_type": "markdown",
   "id": "00e629f3",
   "metadata": {},
   "source": [
    "#### 3번문제\n",
    "##### 2번의 해답을 이용하여 a와 b를 더한 값과 a와 b를 뺀 값을 곱하는 함수를 만들어주세요. 아래와 같은 값이 있다면 (2 + 3) * (2 - 3) = -5가 출력이 되어야 합니다.\n"
   ]
  },
  {
   "cell_type": "code",
   "execution_count": 4,
   "id": "19c9623d",
   "metadata": {},
   "outputs": [
    {
     "name": "stdout",
     "output_type": "stream",
     "text": [
      "(2 + 3) * (2 - 3) = -5\n"
     ]
    },
    {
     "data": {
      "text/plain": [
       "-5"
      ]
     },
     "execution_count": 4,
     "metadata": {},
     "output_type": "execute_result"
    }
   ],
   "source": [
    "a = 2\n",
    "b = 3\n",
    "\n",
    "def plus(num1, num2):\n",
    "    return num1 + num2\n",
    "def minus(num1, num2):\n",
    "    return num1 - num2\n",
    "\n",
    "print(f'(2 + 3) * (2 - 3) = {plus(2,3)*minus(2,3)}')\n",
    "multiply(plus(2, 3), minus(2, 3))"
   ]
  },
  {
   "cell_type": "markdown",
   "id": "953286df",
   "metadata": {},
   "source": [
    "#### 4번 문제\n",
    "##### x의 n제곱을 구하는 함수를 만들어주세요. 재귀함수를 이용하여 만들어야 하며, x는 0이 아닙니다. (x, n > 1)"
   ]
  },
  {
   "cell_type": "code",
   "execution_count": null,
   "id": "9cd0c04e",
   "metadata": {},
   "outputs": [],
   "source": [
    "## 풀지 못했습니다."
   ]
  },
  {
   "cell_type": "markdown",
   "id": "0f76e143",
   "metadata": {},
   "source": [
    "#### 5번 문제\n",
    "##### 이 데이터에서 licat을 출력해주세요. 단, 직접 접근은 안됩니다. data[1]로 접근하는 것은 안됩니다."
   ]
  },
  {
   "cell_type": "code",
   "execution_count": 11,
   "id": "f04c1cad",
   "metadata": {},
   "outputs": [
    {
     "name": "stdout",
     "output_type": "stream",
     "text": [
      "licat\n"
     ]
    }
   ],
   "source": [
    "## 다 하지 못했습니다.\n",
    "\n",
    "data = [['weniv CTO binky', 2], ['weniv CEO licat', 1], \n",
    "        ['weniv COO mura', 2]]\n",
    "\n",
    "def second_element(data):\n",
    "    data_arr = list(filter(lambda x:'licat' in x[0], data))\n",
    "    data_arr = sum(data_arr, [])\n",
    "    str_data = data_arr[0]\n",
    "    arr_data = str_data.split()\n",
    "    return arr_data[2]\n",
    "print(second_element(data))"
   ]
  },
  {
   "cell_type": "markdown",
   "id": "e4bbd780",
   "metadata": {},
   "source": [
    "#### 6번 문제\n",
    "##### 다음 함수 is_palindrome를 완성하시오. 이 함수는 하나의 문자열을 인자로 받아, 해당 문자열이 앞으로 읽으나 뒤로 읽으나 같은 단어이면 True를, 아니면 False를 반환해야 합니다."
   ]
  },
  {
   "cell_type": "code",
   "execution_count": 14,
   "id": "cfff3f7a",
   "metadata": {},
   "outputs": [
    {
     "name": "stdout",
     "output_type": "stream",
     "text": [
      "True\n",
      "False\n",
      "False\n"
     ]
    }
   ],
   "source": [
    "def is_palindrome(s):\n",
    "    if list(reversed(s)) == list(s):\n",
    "        return True\n",
    "    else:\n",
    "        return False\n",
    "print(is_palindrome('level'))\n",
    "print(is_palindrome('tomato'))\n",
    "print(is_palindrome('hello'))"
   ]
  },
  {
   "cell_type": "markdown",
   "id": "1eed3df9",
   "metadata": {},
   "source": [
    "#### 7번 문제\n",
    "##### 리스트 numbers가 주어졌을 때, 이 리스트 내의 모든 짝수를 제거하는 코드를 작성하시오."
   ]
  },
  {
   "cell_type": "code",
   "execution_count": 15,
   "id": "b0a64ede",
   "metadata": {},
   "outputs": [
    {
     "name": "stdout",
     "output_type": "stream",
     "text": [
      "[3, 5, 7, 9]\n"
     ]
    }
   ],
   "source": [
    "numbers = [2, 3, 4, 5, 6, 7, 8, 9, 10]\n",
    "numbers = list(filter(lambda x: x % 2 != 0, numbers))\n",
    "print(numbers)  # 결과: [3, 5, 7, 9]"
   ]
  },
  {
   "cell_type": "markdown",
   "id": "67a66f21",
   "metadata": {},
   "source": [
    "#### 8번 문제\n",
    "##### 아래 데이터를 두 번째 요소의 문자열 길이를 기준으로 정렬하세요."
   ]
  },
  {
   "cell_type": "code",
   "execution_count": 17,
   "id": "47e8b547",
   "metadata": {},
   "outputs": [
    {
     "name": "stdout",
     "output_type": "stream",
     "text": [
      "[[3, 'hworl', 33], [4, 'hello w', 31], [6, 'hello w', 39], [5, 'hello wo', 35], [2, 'hello world', 30]]\n"
     ]
    }
   ],
   "source": [
    "## 다 하지 못했습니다.\n",
    "\n",
    "data = [\n",
    "  [2, 'hello world', 30],\n",
    "  [3, 'hworl', 33],\n",
    "  [5, 'hello wo', 35],\n",
    "  [4, 'hello w', 31],\n",
    "  [6, 'hello w', 39],\n",
    "]; \n",
    "\n",
    "def second_element(data):\n",
    "  data_arrangement = sorted(data, key = lambda x:len(x[1]))\n",
    "  print(data_arrangement)\n",
    "second_element(data)"
   ]
  },
  {
   "cell_type": "markdown",
   "id": "42016f78",
   "metadata": {},
   "source": [
    "#### 9번 문제\n",
    "##### 8번 문제에서 첫 번째 요소와 세 번째 요소의 차가 큰 순으로 출력해주세요. "
   ]
  },
  {
   "cell_type": "code",
   "execution_count": null,
   "metadata": {},
   "outputs": [],
   "source": []
  }
 ],
 "metadata": {
  "kernelspec": {
   "display_name": "Python 3",
   "language": "python",
   "name": "python3"
  },
  "language_info": {
   "codemirror_mode": {
    "name": "ipython",
    "version": 3
   },
   "file_extension": ".py",
   "mimetype": "text/x-python",
   "name": "python",
   "nbconvert_exporter": "python",
   "pygments_lexer": "ipython3",
   "version": "3.13.0"
  }
 },
 "nbformat": 4,
 "nbformat_minor": 5
}
