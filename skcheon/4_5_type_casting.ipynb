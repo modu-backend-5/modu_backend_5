{
 "cells": [
  {
   "cell_type": "code",
   "execution_count": null,
   "id": "291ba55e",
   "metadata": {},
   "outputs": [],
   "source": [
    "# Python에서의 형변환\n",
    "x = \"10\""
   ]
  },
  {
   "cell_type": "code",
   "execution_count": null,
   "id": "198a8f98",
   "metadata": {},
   "outputs": [
    {
     "name": "stdout",
     "output_type": "stream",
     "text": [
      "101010101010101010101010\n"
     ]
    }
   ],
   "source": [
    "월급 = input(\"월급을 입력하세요:\")  # input의 자료형은 string\n",
    "연봉 = 월급 * 12\n",
    "print(연봉)"
   ]
  },
  {
   "cell_type": "code",
   "execution_count": 2,
   "id": "70172796",
   "metadata": {},
   "outputs": [
    {
     "name": "stdout",
     "output_type": "stream",
     "text": [
      "2400\n"
     ]
    }
   ],
   "source": [
    "월급 = input(\"월급을 입력하세요:\")\n",
    "연봉 = int(월급) * 12\n",
    "print(연봉)"
   ]
  },
  {
   "cell_type": "code",
   "execution_count": 5,
   "id": "28ab7c4e",
   "metadata": {},
   "outputs": [
    {
     "name": "stdout",
     "output_type": "stream",
     "text": [
      "<class 'str'>\n",
      "<class 'int'>\n"
     ]
    }
   ],
   "source": [
    "print(type(월급))\n",
    "print(type(연봉))"
   ]
  },
  {
   "cell_type": "code",
   "execution_count": null,
   "id": "879d0ff6",
   "metadata": {},
   "outputs": [],
   "source": []
  }
 ],
 "metadata": {
  "kernelspec": {
   "display_name": "Python 3",
   "language": "python",
   "name": "python3"
  },
  "language_info": {
   "codemirror_mode": {
    "name": "ipython",
    "version": 3
   },
   "file_extension": ".py",
   "mimetype": "text/x-python",
   "name": "python",
   "nbconvert_exporter": "python",
   "pygments_lexer": "ipython3",
   "version": "3.13.5"
  }
 },
 "nbformat": 4,
 "nbformat_minor": 5
}
