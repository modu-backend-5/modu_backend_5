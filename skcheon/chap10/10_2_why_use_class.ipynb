{
 "cells": [
  {
   "cell_type": "code",
   "execution_count": null,
   "id": "11e812b2",
   "metadata": {},
   "outputs": [],
   "source": [
    "# 클래스를 왜 써야 하는가?\n",
    "# 속도"
   ]
  },
  {
   "cell_type": "code",
   "execution_count": null,
   "id": "94c08f9f",
   "metadata": {},
   "outputs": [],
   "source": [
    "# 재사용성"
   ]
  },
  {
   "cell_type": "code",
   "execution_count": null,
   "id": "e67addea",
   "metadata": {},
   "outputs": [],
   "source": [
    "# 유지보수"
   ]
  },
  {
   "cell_type": "code",
   "execution_count": 1,
   "id": "5cae2b17",
   "metadata": {},
   "outputs": [
    {
     "name": "stdout",
     "output_type": "stream",
     "text": [
      "100\n",
      "30에 파워로 공격하였습니다.\n"
     ]
    }
   ],
   "source": [
    "# 클래스에 대안은 없는가?\n",
    "# 딕셔너리\n",
    "hero = {\n",
    "    'name': 'Jun',\n",
    "    'hp': 100,\n",
    "    'mp': 100,\n",
    "    'power': 30,\n",
    "    'drop_rate': 0,\n",
    "    'attack': lambda: f'{hero[\"power\"]}에 파워로 공격하였습니다.',\n",
    "}\n",
    "\n",
    "\n",
    "print(hero['hp'])\n",
    "print(hero['attack']())"
   ]
  },
  {
   "cell_type": "code",
   "execution_count": null,
   "id": "180ae1db",
   "metadata": {},
   "outputs": [
    {
     "name": "stdout",
     "output_type": "stream",
     "text": [
      "30의 파워로 공격하였습니다.\n"
     ]
    }
   ],
   "source": [
    "# 클로저로 구현\n",
    "# 클로저 : 함수 안에 함수를 정의하는 방식\n",
    "def create_chracter(name, hp, mp, power):\n",
    "    data = {\n",
    "        'name': name,\n",
    "        'hp': hp,\n",
    "        'mp': mp,\n",
    "        'power': power,\n",
    "    }\n",
    "\n",
    "\n",
    "    def get_data(key):\n",
    "        return data[key]\n",
    "\n",
    "\n",
    "    def attack():\n",
    "        return f'{get_data(\"power\")}의 파워로 공격하였습니다.'\n",
    "\n",
    "\n",
    "    return {'attack': attack}\n",
    "\n",
    "\n",
    "hero = create_chracter('Jun', 100, 100, 30)\n",
    "print(hero['attack']())"
   ]
  }
 ],
 "metadata": {
  "kernelspec": {
   "display_name": "Python 3",
   "language": "python",
   "name": "python3"
  },
  "language_info": {
   "codemirror_mode": {
    "name": "ipython",
    "version": 3
   },
   "file_extension": ".py",
   "mimetype": "text/x-python",
   "name": "python",
   "nbconvert_exporter": "python",
   "pygments_lexer": "ipython3",
   "version": "3.13.5"
  }
 },
 "nbformat": 4,
 "nbformat_minor": 5
}
