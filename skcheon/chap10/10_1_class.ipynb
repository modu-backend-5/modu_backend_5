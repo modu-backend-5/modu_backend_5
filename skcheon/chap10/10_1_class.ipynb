{
 "cells": [
  {
   "cell_type": "code",
   "execution_count": null,
   "id": "cb11d777",
   "metadata": {},
   "outputs": [],
   "source": [
    "# 클래스\n",
    "# class Character: # 클래스\n",
    "#     def __init__(hp, mp, power, drop_rate...(생략)):\n",
    "#         self.hp = hp # 데이터\n",
    "#         self.mp = mp # 데이터\n",
    "#         ...(생략)\n",
    " \n",
    "#     def move(self): # 기능\n",
    "#         ...(생략)\n",
    " \n",
    "#     def attack(self): # 기능\n",
    "#         ...(생략)\n",
    " \n",
    "# hero = Character(100, 100, 100, 0, ...(생략)) # 인스턴스\n",
    "# mob1 = Character(30, 30, 30, 0.8, ...(생략)) # 인스턴스\n",
    "# mob2 = Character(50, 50, 50, 0.5, ...(생략)) # 인스턴스\n",
    "# mob3 = Character(70, 70, 70, 0.3, ...(생략)) # 인스턴스\n",
    "# villain = Character(100, 100, 90, 0.1, ...(생략)) # 인스턴스"
   ]
  },
  {
   "cell_type": "code",
   "execution_count": 1,
   "id": "ecf9773e",
   "metadata": {},
   "outputs": [
    {
     "name": "stdout",
     "output_type": "stream",
     "text": [
      "차가 출발합니다!\n",
      "차가 멈췄습니다!\n"
     ]
    }
   ],
   "source": [
    "class Car: # 차에 설계 도면 또는 차 공장, 클래스\n",
    "    max_speed = 300 # 멤버 또는 애트리뷰트\n",
    "    max_people = 5 # 멤버 또는 애트리뷰트\n",
    "\n",
    "\n",
    "    def start(self): # 메서드\n",
    "        print('차가 출발합니다!')\n",
    "\n",
    "\n",
    "    def stop(self): # 메서드\n",
    "        print('차가 멈췄습니다!')\n",
    "\n",
    "\n",
    "# 공장에서 생산된 자동차 modelx, modely 인스턴스\n",
    "modelx = Car() # 인스턴스 = 클래스()\n",
    "modely = Car()\n",
    "\n",
    "\n",
    "modelx.start()\n",
    "modelx.stop()"
   ]
  },
  {
   "cell_type": "code",
   "execution_count": 4,
   "id": "5e60d4f2",
   "metadata": {},
   "outputs": [
    {
     "name": "stdout",
     "output_type": "stream",
     "text": [
      "<class '__main__.Car'>\n",
      "True\n",
      "True\n"
     ]
    }
   ],
   "source": [
    "print(type(modelx))\n",
    "x = 3\n",
    "print(isinstance(x, int))\n",
    "print(isinstance(modelx, Car))"
   ]
  }
 ],
 "metadata": {
  "kernelspec": {
   "display_name": "Python 3",
   "language": "python",
   "name": "python3"
  },
  "language_info": {
   "codemirror_mode": {
    "name": "ipython",
    "version": 3
   },
   "file_extension": ".py",
   "mimetype": "text/x-python",
   "name": "python",
   "nbconvert_exporter": "python",
   "pygments_lexer": "ipython3",
   "version": "3.13.5"
  }
 },
 "nbformat": 4,
 "nbformat_minor": 5
}
