{
 "cells": [
  {
   "cell_type": "code",
   "execution_count": null,
   "id": "8cad54e9",
   "metadata": {},
   "outputs": [],
   "source": [
    "# 메서드 체이닝\n",
    "# 여러 메서드 호출을 연결하여 코드를 더 간결하고 읽기 쉽게 만드는 기술"
   ]
  },
  {
   "cell_type": "code",
   "execution_count": 1,
   "metadata": {},
   "outputs": [
    {
     "data": {
      "text/plain": [
       "'hi world'"
      ]
     },
     "execution_count": 1,
     "metadata": {},
     "output_type": "execute_result"
    }
   ],
   "source": [
    "'Hello World'.replace('Hello', 'hi').lower() # 출력: hi world"
   ]
  },
  {
   "cell_type": "code",
   "execution_count": null,
   "id": "491ef4da",
   "metadata": {},
   "outputs": [],
   "source": [
    "'Hello World'.split(' ').lower() # error. split() 메서드 결과는 리스트인데 리스트엔 lower() 메서드가 없음"
   ]
  },
  {
   "cell_type": "code",
   "execution_count": null,
   "id": "ae58d5ce",
   "metadata": {},
   "outputs": [],
   "source": [
    "# 메서드 체이닝 구현\n",
    "\n",
    "class Calculator:\n",
    "    def __init__(self, value):\n",
    "        self.value = value\n",
    "\n",
    "\n",
    "    def add(self, other):\n",
    "        self.value += other\n",
    "        return self\n",
    "\n",
    "\n",
    "    def subtract(self, other):\n",
    "        self.value -= other\n",
    "        return self\n",
    "\n",
    "\n",
    "    def multiply(self, other):\n",
    "        self.value *= other\n",
    "        return self\n",
    "\n",
    "\n",
    "    def get_value(self):\n",
    "        return self.value\n",
    "\n",
    "\n",
    "calc = Calculator(1)\n",
    "result = calc.add(2).subtract(1).multiply(3).get_value()\n",
    "print(result)  # 결과: 6"
   ]
  }
 ],
 "metadata": {
  "kernelspec": {
   "display_name": "Python 3",
   "language": "python",
   "name": "python3"
  },
  "language_info": {
   "codemirror_mode": {
    "name": "ipython",
    "version": 3
   },
   "file_extension": ".py",
   "mimetype": "text/x-python",
   "name": "python",
   "nbconvert_exporter": "python",
   "pygments_lexer": "ipython3",
   "version": "3.13.5"
  }
 },
 "nbformat": 4,
 "nbformat_minor": 5
}
