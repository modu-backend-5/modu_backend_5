{
 "cells": [
  {
   "cell_type": "code",
   "execution_count": 1,
   "id": "67d0651b",
   "metadata": {},
   "outputs": [
    {
     "name": "stdout",
     "output_type": "stream",
     "text": [
      "I\n",
      "love\n",
      "python\n"
     ]
    }
   ],
   "source": [
    "# 연습문제 1번\n",
    "# 다음 코드를 실행하면 출력되는 값을 순서대로 작성\n",
    "a = 'pithon'\n",
    " \n",
    "def 함수1():\n",
    "    def 함수2():\n",
    "        print('love')\n",
    " \n",
    "    print('I') # 1번\n",
    "    함수2() #2번\n",
    "    return \"python\" #3번\n",
    " \n",
    " \n",
    "a = 함수1()\n",
    "print(a)"
   ]
  },
  {
   "cell_type": "code",
   "execution_count": 3,
   "id": "a8a6e2db",
   "metadata": {},
   "outputs": [
    {
     "name": "stdout",
     "output_type": "stream",
     "text": [
      "plus : 15\n",
      "minus : 5\n",
      "multiply : 50\n",
      "divide : 2.0\n"
     ]
    }
   ],
   "source": [
    "# 연습문제 2번\n",
    "# 함수를 이용한 계산기 프로그램 만들기\n",
    "\n",
    "def plus(num1, num2):\n",
    "    return num1 + num2\n",
    " \n",
    "def minus(num1, num2):\n",
    "    return num1 - num2\n",
    " \n",
    "def multiply(num1, num2):\n",
    "    return num1 * num2\n",
    " \n",
    "def divide(num1, num2):\n",
    "    return num1 / num2\n",
    " \n",
    "print(f'plus : {plus(10, 5)}')\n",
    "print(f'minus : {minus(10, 5)}')\n",
    "print(f'multiply : {multiply(10, 5)}')\n",
    "print(f'divide : {divide(10, 5)}')"
   ]
  },
  {
   "cell_type": "code",
   "execution_count": 4,
   "id": "469da0eb",
   "metadata": {},
   "outputs": [
    {
     "data": {
      "text/plain": [
       "-5"
      ]
     },
     "execution_count": 4,
     "metadata": {},
     "output_type": "execute_result"
    }
   ],
   "source": [
    "# 연습문제 3번\n",
    "# 2번 해답을 이용해 a와 b를 더한 값과 a와 b를 뺀 값을 곱하는 함수 만들기.\n",
    "\n",
    "def calculate(num1, num2):\n",
    "    return multiply(plus(num1, num2), minus(num1, num2))\n",
    "\n",
    "a = 2\n",
    "b = 3\n",
    "\n",
    "calculate(a, b)"
   ]
  },
  {
   "cell_type": "code",
   "execution_count": 6,
   "id": "6940efd0",
   "metadata": {},
   "outputs": [
    {
     "name": "stdout",
     "output_type": "stream",
     "text": [
      "27\n",
      "1024\n",
      "1\n"
     ]
    }
   ],
   "source": [
    "# 연습문제 4번\n",
    "# x의 n제곱을 구하는 함수를 만들기. 재귀함수를 이용하여 만들기\n",
    "\n",
    "def times(x, n):\n",
    "    if n == 0:\n",
    "        return 1\n",
    "    return x * times(x, n-1)\n",
    "\n",
    "print(times(3, 3))\n",
    "print(times(2, 10))\n",
    "print(times(5, 0))"
   ]
  },
  {
   "cell_type": "code",
   "execution_count": 13,
   "id": "e96e6ca8",
   "metadata": {},
   "outputs": [
    {
     "name": "stdout",
     "output_type": "stream",
     "text": [
      "licat\n"
     ]
    }
   ],
   "source": [
    "# 연습문제 5번\n",
    "# licat 출력. 직접 접근 불가. data[1]로 접근 불가\n",
    "data = [['weniv CTO binky', 2], ['weniv CEO licat', 1], ['weniv COO mura', 2]]\n",
    "\n",
    "textList = str(data)\n",
    "print(textList[textList.find('licat') : textList.find('licat') + 5])"
   ]
  },
  {
   "cell_type": "code",
   "execution_count": 14,
   "id": "3fc5111b",
   "metadata": {},
   "outputs": [
    {
     "name": "stdout",
     "output_type": "stream",
     "text": [
      "False\n",
      "True\n"
     ]
    }
   ],
   "source": [
    "# 연습문제 6번\n",
    "# 다음 함수 완성하기. 하나의 문자열을 인자로 받아, 해당 문자열이 앞으로 읽든 거꾸로 읽든 같으면 True, 아니면 false 반환\n",
    "def is_palindrome(s):\n",
    "    if s == s[::-1]:\n",
    "        return True\n",
    "    return False\n",
    "\n",
    "print(is_palindrome('eagle'))\n",
    "print(is_palindrome('eye'))"
   ]
  },
  {
   "cell_type": "code",
   "execution_count": 21,
   "id": "ac342c6f",
   "metadata": {},
   "outputs": [
    {
     "name": "stdout",
     "output_type": "stream",
     "text": [
      "[3, 5, 7, 9]\n"
     ]
    }
   ],
   "source": [
    "# 연습문제 7번\n",
    "# 리스트의 모든 짝수를 제거하는 코드 작성\n",
    "\n",
    "def removeEven(numList: list):\n",
    "    new_list = []\n",
    "    for i in numList:\n",
    "        if i % 2 != 0:\n",
    "            new_list.append(i)\n",
    "\n",
    "    return new_list\n",
    "\n",
    "numbers = [2, 2, 3, 4, 5, 6, 7, 8, 9, 10]\n",
    "numbers = removeEven(numbers)\n",
    "print(numbers)  # 결과: [3, 5, 7, 9]"
   ]
  },
  {
   "cell_type": "code",
   "execution_count": 23,
   "id": "3448a845",
   "metadata": {},
   "outputs": [
    {
     "name": "stdout",
     "output_type": "stream",
     "text": [
      "[[3, 'hworl', 33], [4, 'hello w', 31], [6, 'hello w', 39], [5, 'hello wo', 35], [2, 'hello world', 30]]\n"
     ]
    }
   ],
   "source": [
    "# 연습문제 8번\n",
    "# 다음 데이터를 두 번째 요소의 문자열 길이 기준으로 정렬\n",
    "\n",
    "data = [\n",
    "  [2, 'hello world', 30],\n",
    "  [3, 'hworl', 33],\n",
    "  [5, 'hello wo', 35],\n",
    "  [4, 'hello w', 31],\n",
    "  [6, 'hello w', 39],\n",
    "]\n",
    "\n",
    "print(sorted(data,key=lambda x: len(x[1])))"
   ]
  },
  {
   "cell_type": "code",
   "execution_count": 24,
   "id": "b3622b04",
   "metadata": {},
   "outputs": [
    {
     "name": "stdout",
     "output_type": "stream",
     "text": [
      "[[6, 'hello w', 39], [3, 'hworl', 33], [5, 'hello wo', 35], [2, 'hello world', 30], [4, 'hello w', 31]]\n"
     ]
    }
   ],
   "source": [
    "# 연습문제 9번\n",
    "# 8번 문제에서 첫 번째 요소와 세 번째 요소의 차가 큰 순서대로 출력\n",
    "\n",
    "print(sorted(data, key=lambda x: abs(x[0] - x[2]), reverse=True))"
   ]
  }
 ],
 "metadata": {
  "kernelspec": {
   "display_name": "Python 3",
   "language": "python",
   "name": "python3"
  },
  "language_info": {
   "codemirror_mode": {
    "name": "ipython",
    "version": 3
   },
   "file_extension": ".py",
   "mimetype": "text/x-python",
   "name": "python",
   "nbconvert_exporter": "python",
   "pygments_lexer": "ipython3",
   "version": "3.13.0"
  }
 },
 "nbformat": 4,
 "nbformat_minor": 5
}
