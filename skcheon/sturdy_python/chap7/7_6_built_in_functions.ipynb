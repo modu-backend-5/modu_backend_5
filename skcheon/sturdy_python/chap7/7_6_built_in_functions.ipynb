{
 "cells": [
  {
   "cell_type": "code",
   "execution_count": null,
   "id": "edf61e49",
   "metadata": {},
   "outputs": [
    {
     "name": "stdout",
     "output_type": "stream",
     "text": [
      "False\n",
      "True\n"
     ]
    }
   ],
   "source": [
    "# all, any\n",
    "# iterable 개체(리스트, 튜플 문자열 등)를 인수로 받아, 각각 모든 요소가 참일 경우 True, 하나의 요소라도 참이라면 True를 반환\n",
    "arr = [1, 0, 3, 4, 5]\n",
    "print(all(arr))\n",
    "print(any(arr))"
   ]
  },
  {
   "cell_type": "code",
   "execution_count": 5,
   "id": "bd59e35e",
   "metadata": {},
   "outputs": [
    {
     "name": "stdout",
     "output_type": "stream",
     "text": [
      "A\n",
      "65\n",
      "54616\n"
     ]
    }
   ],
   "source": [
    "# chr, ord\n",
    "# chr()은 정수를 인수로 받아 그에 해당하는 유니코드 문자를 반환\n",
    "# ord()은 문자를 인수로 받아 그 문자의 유니코드 값을 반환\n",
    "\n",
    "print(chr(65))\n",
    "print(ord('A'))\n",
    "print(ord('하'))"
   ]
  },
  {
   "cell_type": "code",
   "execution_count": 7,
   "id": "5c0008c9",
   "metadata": {},
   "outputs": [
    {
     "data": {
      "text/plain": [
       "[40, 80, 60]"
      ]
     },
     "execution_count": 7,
     "metadata": {},
     "output_type": "execute_result"
    }
   ],
   "source": [
    "# map\n",
    "# 기존 리스트의 모든 요소에 특정 함수를 적용한 결과를 map 객체 형태로 반환\n",
    "arr = [\"40\", \"80\", \"60\"]\n",
    "list(map(int, arr))"
   ]
  },
  {
   "cell_type": "code",
   "execution_count": 8,
   "id": "e23785da",
   "metadata": {},
   "outputs": [
    {
     "data": {
      "text/plain": [
       "[1, 4, 9, 16]"
      ]
     },
     "execution_count": 8,
     "metadata": {},
     "output_type": "execute_result"
    }
   ],
   "source": [
    "# 첫번째 방법\n",
    "def 제곱(x):\n",
    "    return x ** 2\n",
    "list(map(제곱, [1, 2, 3, 4])) # 출력: [1, 4, 9, 16]"
   ]
  },
  {
   "cell_type": "code",
   "execution_count": null,
   "id": "c82e43ab",
   "metadata": {},
   "outputs": [
    {
     "data": {
      "text/plain": [
       "[1, 4, 9, 16]"
      ]
     },
     "execution_count": 9,
     "metadata": {},
     "output_type": "execute_result"
    }
   ],
   "source": [
    "# 두번째 방법\n",
    "# 한 번만 사용할 리스트일 경우\n",
    "list(map(lambda x : x ** 2, [1, 2, 3, 4])) # 출력: [1, 4, 9, 16]"
   ]
  },
  {
   "cell_type": "code",
   "execution_count": 3,
   "id": "308309b0",
   "metadata": {},
   "outputs": [
    {
     "name": "stdout",
     "output_type": "stream",
     "text": [
      "[2, 4, 6, 8, 10, 12, 14, 16, 18, 20, 22, 24, 26, 28, 30, 32, 34, 36, 38, 40, 42, 44, 46, 48, 50, 52, 54, 56, 58, 60, 62, 64, 66, 68, 70, 72, 74, 76, 78, 80, 82, 84, 86, 88, 90, 92, 94, 96, 98, 100]\n",
      "[2, 4, 6, 8, 10, 12, 14, 16, 18, 20, 22, 24, 26, 28, 30, 32, 34, 36, 38, 40, 42, 44, 46, 48, 50, 52, 54, 56, 58, 60, 62, 64, 66, 68, 70, 72, 74, 76, 78, 80, 82, 84, 86, 88, 90, 92, 94, 96, 98, 100]\n"
     ]
    }
   ],
   "source": [
    "# filter\n",
    "# filter(조건 함수, 리스트 또는 튜플)\n",
    "x = range(1, 101)\n",
    "arr = []\n",
    "for i in x:\n",
    "    if i % 2 == 0:\n",
    "        arr.append(i)\n",
    "\n",
    "print(arr)\n",
    "\n",
    "filtered_list = list(filter(lambda i: i % 2 == 0, x))\n",
    "print(filtered_list)\n"
   ]
  },
  {
   "cell_type": "code",
   "execution_count": 9,
   "id": "d1432680",
   "metadata": {},
   "outputs": [
    {
     "name": "stdout",
     "output_type": "stream",
     "text": [
      "오류: zip() argument 2 is shorter than argument 1\n"
     ]
    }
   ],
   "source": [
    "# zip\n",
    "# 여러 개의 순회할 수 있는 객체의 요소를 묶어서 반환\n",
    "x = \"benny\"\n",
    "y = \"garam\"\n",
    "idx = [0, 1, 2]\n",
    "zipped = zip(x, y, idx)\n",
    "list(zipped)    # 같은 인덱스끼리 묶어서 표현\n",
    "\n",
    "x = [2, 4, 8, 16, 32, 64, 128]\n",
    "list(zip(x, x[1:], x[2:]))\n",
    "\n",
    "# 리스트 길이가 같은 경우\n",
    "# print(list(zip([1, 2, 3], ['a', 'b', 'c'], strict=True)))\n",
    "\n",
    "\n",
    "# 리스트 길이가 다른 경우\n",
    "try:\n",
    "    print(list(zip([1, 2, 3], ['a', 'b'], strict=True)))\n",
    "except ValueError as e:\n",
    "    print(f\"오류: {e}\")\n"
   ]
  },
  {
   "cell_type": "code",
   "execution_count": null,
   "id": "60d46954",
   "metadata": {},
   "outputs": [
    {
     "name": "stdout",
     "output_type": "stream",
     "text": [
      "123.46\n",
      "  Hello  \n"
     ]
    }
   ],
   "source": [
    "# format\n",
    "# 특정 값을 지정된 형식으로 변환하여 문자열로 반환하는 함수\n",
    "# 만약 서식 지정자를 설정하지 않으면 str()한 것과 동일한 결과를 얻음\n",
    "\n",
    "format(10000, ',')\n",
    "print(format(123.4567, '.2f')) # 출력: 123.46\n",
    "print(format('Hello', '^9')) # 출력: '  Hello  ' => 중간에 문자열을 두고 출력. 중앙 정렬"
   ]
  },
  {
   "cell_type": "code",
   "execution_count": null,
   "id": "fc000853",
   "metadata": {},
   "outputs": [
    {
     "data": {
      "text/plain": [
       "{'이름': '가', '국어': 90, '영어': 72, '수학': 95}"
      ]
     },
     "execution_count": 1,
     "metadata": {},
     "output_type": "execute_result"
    }
   ],
   "source": [
    "# max, min, sum\n",
    "\n",
    "def select(student):\n",
    "    return student['수학']  # student의 '수학' 값을 반환\n",
    "\n",
    "\n",
    "students = [\n",
    "    {'이름': '가', '국어': 90, '영어': 72, '수학': 95},\n",
    "    {'이름': '나', \"국어\": 80, '영어': 90, '수학': 91},\n",
    "    {'이름': '다', \"국어\": 95, '영어': 73, '수학': 92}\n",
    "]\n",
    "\n",
    "\n",
    "max(students, key=select) # 출력: {'이름': '가', '국어': 90, '영어': 72, '수학': 95}"
   ]
  },
  {
   "cell_type": "code",
   "execution_count": 2,
   "id": "6016511d",
   "metadata": {},
   "outputs": [
    {
     "data": {
      "text/plain": [
       "{'이름': '가', '국어': 90, '영어': 72, '수학': 95}"
      ]
     },
     "execution_count": 2,
     "metadata": {},
     "output_type": "execute_result"
    }
   ],
   "source": [
    "students = [\n",
    "    {'이름': '가', '국어': 90, '영어': 72, '수학': 95},\n",
    "    {'이름': '나', \"국어\": 80, '영어': 90, '수학': 91},\n",
    "    {'이름': '다', \"국어\": 95, '영어': 73, '수학': 92}\n",
    "]\n",
    "\n",
    "\n",
    "max(students, key=lambda student: student['수학']) # 출력: {'이름': '가', '국어': 90, '영어': 72, '수학': 95}"
   ]
  },
  {
   "cell_type": "code",
   "execution_count": 3,
   "id": "1a4f3b2c",
   "metadata": {},
   "outputs": [
    {
     "data": {
      "text/plain": [
       "0"
      ]
     },
     "execution_count": 3,
     "metadata": {},
     "output_type": "execute_result"
    }
   ],
   "source": [
    "min([1, 2, 3, 4, 5]) # 출력 : 1\n",
    "min([], default=0) # 출력: 0"
   ]
  },
  {
   "cell_type": "code",
   "execution_count": 4,
   "id": "e3588863",
   "metadata": {},
   "outputs": [
    {
     "data": {
      "text/plain": [
       "{'이름': '나', '국어': 80, '영어': 90, '수학': 91}"
      ]
     },
     "execution_count": 4,
     "metadata": {},
     "output_type": "execute_result"
    }
   ],
   "source": [
    "students = [\n",
    "    {'이름': '가', '국어': 90, '영어': 72, '수학': 95},\n",
    "    {'이름': '나', \"국어\": 80, '영어': 90, '수학': 91},\n",
    "    {'이름': '다', \"국어\": 95, '영어': 73, '수학': 92}\n",
    "]\n",
    "\n",
    "\n",
    "min(students, key=lambda student: student['수학']) # 출력: {'이름': '나', '국어': 80, '영어': 90, '수학': 91}"
   ]
  },
  {
   "cell_type": "code",
   "execution_count": 5,
   "id": "ee442fd4",
   "metadata": {},
   "outputs": [
    {
     "data": {
      "text/plain": [
       "16"
      ]
     },
     "execution_count": 5,
     "metadata": {},
     "output_type": "execute_result"
    }
   ],
   "source": [
    "# sum\n",
    "# sum함수는 순회 가능한 객체를 받아 모든 요소의 합을 계산하여 반환\n",
    "# sum(iterable, start=0)\n",
    "\n",
    "sum([1, 2, 3, 4, 5]) # 출력: 15\n",
    "sum([1, 2, 3], 10) # 출력: 16"
   ]
  },
  {
   "cell_type": "code",
   "execution_count": null,
   "id": "cf1deca4",
   "metadata": {},
   "outputs": [
    {
     "data": {
      "text/plain": [
       "25"
      ]
     },
     "execution_count": 6,
     "metadata": {},
     "output_type": "execute_result"
    }
   ],
   "source": [
    "arr = [1, 2, 3, 4, 5]\n",
    "sum(arr, start=10) # 출력 25"
   ]
  },
  {
   "cell_type": "code",
   "execution_count": 7,
   "id": "f80a0c60",
   "metadata": {},
   "outputs": [
    {
     "data": {
      "text/plain": [
       "[1, 2, 3, 4, 5, 6]"
      ]
     },
     "execution_count": 7,
     "metadata": {},
     "output_type": "execute_result"
    }
   ],
   "source": [
    "multi_arr = [[1, 2], [3, 4], [5, 6]]\n",
    "sum(multi_arr, [])"
   ]
  },
  {
   "cell_type": "code",
   "execution_count": 8,
   "id": "ed848661",
   "metadata": {},
   "outputs": [
    {
     "data": {
      "text/plain": [
       "[1, 2, 10, 20, 100, 200]"
      ]
     },
     "execution_count": 8,
     "metadata": {},
     "output_type": "execute_result"
    }
   ],
   "source": [
    "sum([[1, 2], [10, 20], [100, 200]], []) # 출력: [1, 2, 10, 20, 100, 200]\n",
    "# [] + [1, 2]\n",
    "# [1, 2] + [10, 20]\n",
    "# [1, 2, 10, 20] + [100, 200]\n",
    "# [1, 2, 10, 20, 100, 200]"
   ]
  },
  {
   "cell_type": "code",
   "execution_count": null,
   "id": "e3eb73e4",
   "metadata": {},
   "outputs": [
    {
     "data": {
      "text/plain": [
       "333"
      ]
     },
     "execution_count": 9,
     "metadata": {},
     "output_type": "execute_result"
    }
   ],
   "source": [
    "sum(sum([[1, 2], [10, 20], [100, 200]], []))    # 위 리스트에 sum을 실행한 것. 리스트 안의 요소를 모두 더한 것"
   ]
  },
  {
   "cell_type": "code",
   "execution_count": 10,
   "id": "8f33efa8",
   "metadata": {},
   "outputs": [
    {
     "name": "stdout",
     "output_type": "stream",
     "text": [
      "<class 'str'>\n"
     ]
    },
    {
     "data": {
      "text/plain": [
       "str"
      ]
     },
     "execution_count": 10,
     "metadata": {},
     "output_type": "execute_result"
    }
   ],
   "source": [
    "# print, repr\n",
    "\n",
    "print(type(\"hello\"))\n",
    "type(\"hello\")"
   ]
  },
  {
   "cell_type": "code",
   "execution_count": 11,
   "id": "88750a87",
   "metadata": {},
   "outputs": [
    {
     "name": "stdout",
     "output_type": "stream",
     "text": [
      "world\n"
     ]
    }
   ],
   "source": [
    "class Charactor:\n",
    "    def __repr__(self):\n",
    "        return 'hello'\n",
    "    def __str__(self):\n",
    "        return 'world'\n",
    "\n",
    "\n",
    "hero = Charactor()\n",
    "print(hero) # 출력 : 'world'\n",
    "# hero # 출력 : 'hello'"
   ]
  },
  {
   "cell_type": "code",
   "execution_count": 13,
   "id": "b77c21ec",
   "metadata": {},
   "outputs": [
    {
     "name": "stdout",
     "output_type": "stream",
     "text": [
      "[0, 2, 4, 6, 8, 10, 12, 14, 16, 18, 20, 22, 24, 26, 28, 30, 32, 34, 36, 38, 40, 42, 44, 46, 48, 50, 52, 54, 56, 58, 60, 62, 64, 66, 68, 70, 72, 74, 76, 78, 80, 82, 84, 86, 88, 90, 92, 94, 96, 98, 100]\n",
      "[1, 3, 5, 7, 9, 11, 13, 15, 17, 19, 21, 23, 25, 27, 29, 31, 33, 35, 37, 39, 41, 43, 45, 47, 49, 51, 53, 55, 57, 59, 61, 63, 65, 67, 69, 71, 73, 75, 77, 79, 81, 83, 85, 87, 89, 91, 93, 95, 97, 99]\n",
      "[100, 98, 96, 94, 92, 90, 88, 86, 84, 82, 80, 78, 76, 74, 72, 70, 68, 66, 64, 62, 60, 58, 56, 54, 52, 50, 48, 46, 44, 42, 40, 38, 36, 34, 32, 30, 28, 26, 24, 22, 20, 18, 16, 14, 12, 10, 8, 6, 4, 2]\n"
     ]
    }
   ],
   "source": [
    "# range\n",
    "# 순회할 수 있는 숫자 객체를 만들어주는 함수\n",
    "print(list(range(0, 101, 2))) #짝수\n",
    "print(list(range(1, 101, 2))) #홀수\n",
    "print(list(range(100, 1, -2)))"
   ]
  },
  {
   "cell_type": "code",
   "execution_count": 15,
   "id": "655a3e80",
   "metadata": {},
   "outputs": [
    {
     "name": "stdout",
     "output_type": "stream",
     "text": [
      "0 a\n",
      "1 b\n",
      "2 c\n"
     ]
    }
   ],
   "source": [
    "# enumerate\n",
    "# 반복할 수 있는 객체의 인덱스와 값을 함께 반환하여 주로 반복문에서 사용\n",
    "for i, v in enumerate(['a', 'b', 'c']):\n",
    "    print(i, v)"
   ]
  },
  {
   "cell_type": "code",
   "execution_count": 17,
   "id": "3ba5238f",
   "metadata": {},
   "outputs": [
    {
     "data": {
      "text/plain": [
       "['a', 'hel', 'hello', 'heo', 'hllo', 'l']"
      ]
     },
     "execution_count": 17,
     "metadata": {},
     "output_type": "execute_result"
    }
   ],
   "source": [
    "# sorted\n",
    "# 시퀀스를 정렬하여 새로운 리스트를 반환한다. sort() 함수와의 차이점 유의\n",
    "\n",
    "sorted(['hello', 'l', 'hllo', 'hel', 'heo', 'a'])\n",
    "# 출력 : ['a', 'hel', 'hello', 'heo', 'hllo', 'l']"
   ]
  },
  {
   "cell_type": "code",
   "execution_count": null,
   "id": "a2eb2841",
   "metadata": {},
   "outputs": [
    {
     "data": {
      "text/plain": [
       "['l', 'a', 'hel', 'heo', 'hllo', 'hello']"
      ]
     },
     "execution_count": 18,
     "metadata": {},
     "output_type": "execute_result"
    }
   ],
   "source": [
    "sorted(['hello', 'l', 'hllo', 'hel', 'heo', 'a'], key=len)  # 길이 기준으로 정렬\n",
    "# 출력 : ['l', 'a', 'hel', 'heo', 'hllo', 'hello']"
   ]
  },
  {
   "cell_type": "code",
   "execution_count": 19,
   "id": "50b3a50a",
   "metadata": {},
   "outputs": [
    {
     "data": {
      "text/plain": [
       "['21', '21', '12', '22', '53', '15']"
      ]
     },
     "execution_count": 19,
     "metadata": {},
     "output_type": "execute_result"
    }
   ],
   "source": [
    "sorted(['21', '21', '12', '22', '53', '15'], key=lambda x:x[-1])    # 맨 뒤의 문자를 기준으로 정렬\n",
    "# 출력 : ['21', '21', '12', '22', '53', '15']"
   ]
  },
  {
   "cell_type": "code",
   "execution_count": 23,
   "id": "deaf710a",
   "metadata": {},
   "outputs": [
    {
     "name": "stdout",
     "output_type": "stream",
     "text": [
      "['d', 'l', 'r', 'o', 'w', ' ', 'o', 'l', 'l', 'e', 'h']\n"
     ]
    }
   ],
   "source": [
    "# reversed\n",
    "# 역순으로 반환. 역으로 정렬하는 게 아니다.\n",
    "list(reversed('hello world'))\n",
    "# list(reversed([1, 2, 3, 10, 5, 4])) # 역 정렬 아닙니다! 역순입니다.\n",
    "# list(reversed(sorted([1, 2, 3, 10, 5, 4])))\n",
    "print(list(reversed('hello world')))"
   ]
  },
  {
   "cell_type": "code",
   "execution_count": 21,
   "id": "725dd9d3",
   "metadata": {},
   "outputs": [
    {
     "name": "stdout",
     "output_type": "stream",
     "text": [
      "[1, 2, 3, 4, 5]\n",
      "[3, 2, 1, 5, 4]\n"
     ]
    }
   ],
   "source": [
    "# sorted와 reversed는 원본을 수정하지 않는다.\n",
    "l = [3, 2, 1, 5, 4]\n",
    "print(sorted(l))\n",
    "print(l)"
   ]
  }
 ],
 "metadata": {
  "kernelspec": {
   "display_name": "Python 3",
   "language": "python",
   "name": "python3"
  },
  "language_info": {
   "codemirror_mode": {
    "name": "ipython",
    "version": 3
   },
   "file_extension": ".py",
   "mimetype": "text/x-python",
   "name": "python",
   "nbconvert_exporter": "python",
   "pygments_lexer": "ipython3",
   "version": "3.13.5"
  }
 },
 "nbformat": 4,
 "nbformat_minor": 5
}
