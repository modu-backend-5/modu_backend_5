{
 "cells": [
  {
   "cell_type": "code",
   "execution_count": null,
   "id": "edf61e49",
   "metadata": {},
   "outputs": [
    {
     "name": "stdout",
     "output_type": "stream",
     "text": [
      "False\n",
      "True\n"
     ]
    }
   ],
   "source": [
    "# all, any\n",
    "# iterable 개체(리스트, 튜플 문자열 등)를 인수로 받아, 각각 모든 요소가 참일 경우 True, 하나의 요소라도 참이라면 True를 반환\n",
    "arr = [1, 0, 3, 4, 5]\n",
    "print(all(arr))\n",
    "print(any(arr))"
   ]
  },
  {
   "cell_type": "code",
   "execution_count": 5,
   "id": "bd59e35e",
   "metadata": {},
   "outputs": [
    {
     "name": "stdout",
     "output_type": "stream",
     "text": [
      "A\n",
      "65\n",
      "54616\n"
     ]
    }
   ],
   "source": [
    "# chr, ord\n",
    "# chr()은 정수를 인수로 받아 그에 해당하는 유니코드 문자를 반환\n",
    "# ord()은 문자를 인수로 받아 그 문자의 유니코드 값을 반환\n",
    "\n",
    "print(chr(65))\n",
    "print(ord('A'))\n",
    "print(ord('하'))"
   ]
  },
  {
   "cell_type": "code",
   "execution_count": 7,
   "id": "5c0008c9",
   "metadata": {},
   "outputs": [
    {
     "data": {
      "text/plain": [
       "[40, 80, 60]"
      ]
     },
     "execution_count": 7,
     "metadata": {},
     "output_type": "execute_result"
    }
   ],
   "source": [
    "# map\n",
    "# 기존 리스트의 모든 요소에 특정 함수를 적용한 결과를 map 객체 형태로 반환\n",
    "arr = [\"40\", \"80\", \"60\"]\n",
    "list(map(int, arr))"
   ]
  },
  {
   "cell_type": "code",
   "execution_count": 8,
   "id": "e23785da",
   "metadata": {},
   "outputs": [
    {
     "data": {
      "text/plain": [
       "[1, 4, 9, 16]"
      ]
     },
     "execution_count": 8,
     "metadata": {},
     "output_type": "execute_result"
    }
   ],
   "source": [
    "# 첫번째 방법\n",
    "def 제곱(x):\n",
    "    return x ** 2\n",
    "list(map(제곱, [1, 2, 3, 4])) # 출력: [1, 4, 9, 16]"
   ]
  },
  {
   "cell_type": "code",
   "execution_count": null,
   "id": "c82e43ab",
   "metadata": {},
   "outputs": [
    {
     "data": {
      "text/plain": [
       "[1, 4, 9, 16]"
      ]
     },
     "execution_count": 9,
     "metadata": {},
     "output_type": "execute_result"
    }
   ],
   "source": [
    "# 두번째 방법\n",
    "# 한 번만 사용할 리스트일 경우\n",
    "list(map(lambda x : x ** 2, [1, 2, 3, 4])) # 출력: [1, 4, 9, 16]"
   ]
  },
  {
   "cell_type": "code",
   "execution_count": 3,
   "id": "308309b0",
   "metadata": {},
   "outputs": [
    {
     "name": "stdout",
     "output_type": "stream",
     "text": [
      "[2, 4, 6, 8, 10, 12, 14, 16, 18, 20, 22, 24, 26, 28, 30, 32, 34, 36, 38, 40, 42, 44, 46, 48, 50, 52, 54, 56, 58, 60, 62, 64, 66, 68, 70, 72, 74, 76, 78, 80, 82, 84, 86, 88, 90, 92, 94, 96, 98, 100]\n",
      "[2, 4, 6, 8, 10, 12, 14, 16, 18, 20, 22, 24, 26, 28, 30, 32, 34, 36, 38, 40, 42, 44, 46, 48, 50, 52, 54, 56, 58, 60, 62, 64, 66, 68, 70, 72, 74, 76, 78, 80, 82, 84, 86, 88, 90, 92, 94, 96, 98, 100]\n"
     ]
    }
   ],
   "source": [
    "# filter\n",
    "# filter(조건 함수, 리스트 또는 튜플)\n",
    "x = range(1, 101)\n",
    "arr = []\n",
    "for i in x:\n",
    "    if i % 2 == 0:\n",
    "        arr.append(i)\n",
    "\n",
    "print(arr)\n",
    "\n",
    "filtered_list = list(filter(lambda i: i % 2 == 0, x))\n",
    "print(filtered_list)\n"
   ]
  },
  {
   "cell_type": "code",
   "execution_count": 9,
   "id": "d1432680",
   "metadata": {},
   "outputs": [
    {
     "name": "stdout",
     "output_type": "stream",
     "text": [
      "오류: zip() argument 2 is shorter than argument 1\n"
     ]
    }
   ],
   "source": [
    "# zip\n",
    "# 여러 개의 순회할 수 있는 객체의 요소를 묶어서 반환\n",
    "x = \"benny\"\n",
    "y = \"garam\"\n",
    "idx = [0, 1, 2]\n",
    "zipped = zip(x, y, idx)\n",
    "list(zipped)    # 같은 인덱스끼리 묶어서 표현\n",
    "\n",
    "x = [2, 4, 8, 16, 32, 64, 128]\n",
    "list(zip(x, x[1:], x[2:]))\n",
    "\n",
    "# 리스트 길이가 같은 경우\n",
    "# print(list(zip([1, 2, 3], ['a', 'b', 'c'], strict=True)))\n",
    "\n",
    "\n",
    "# 리스트 길이가 다른 경우\n",
    "try:\n",
    "    print(list(zip([1, 2, 3], ['a', 'b'], strict=True)))\n",
    "except ValueError as e:\n",
    "    print(f\"오류: {e}\")\n"
   ]
  },
  {
   "cell_type": "code",
   "execution_count": null,
   "id": "60d46954",
   "metadata": {},
   "outputs": [
    {
     "name": "stdout",
     "output_type": "stream",
     "text": [
      "123.46\n",
      "  Hello  \n"
     ]
    }
   ],
   "source": [
    "# format\n",
    "# 특정 값을 지정된 형식으로 변환하여 문자열로 반환하는 함수\n",
    "# 만약 서식 지정자를 설정하지 않으면 str()한 것과 동일한 결과를 얻음\n",
    "\n",
    "format(10000, ',')\n",
    "print(format(123.4567, '.2f')) # 출력: 123.46\n",
    "print(format('Hello', '^9')) # 출력: '  Hello  ' => 중간에 문자열을 두고 출력. 중앙 정렬"
   ]
  },
  {
   "cell_type": "code",
   "execution_count": null,
   "id": "fc000853",
   "metadata": {},
   "outputs": [],
   "source": []
  }
 ],
 "metadata": {
  "kernelspec": {
   "display_name": "Python 3",
   "language": "python",
   "name": "python3"
  },
  "language_info": {
   "codemirror_mode": {
    "name": "ipython",
    "version": 3
   },
   "file_extension": ".py",
   "mimetype": "text/x-python",
   "name": "python",
   "nbconvert_exporter": "python",
   "pygments_lexer": "ipython3",
   "version": "3.13.5"
  }
 },
 "nbformat": 4,
 "nbformat_minor": 5
}
