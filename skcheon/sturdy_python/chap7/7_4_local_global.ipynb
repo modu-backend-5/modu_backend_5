{
 "cells": [
  {
   "cell_type": "code",
   "execution_count": 1,
   "id": "71bc113f",
   "metadata": {},
   "outputs": [
    {
     "name": "stdout",
     "output_type": "stream",
     "text": [
      "1\n"
     ]
    }
   ],
   "source": [
    "# 지역 변수와 전역 변수\n",
    "\n",
    "# 지역 변수\n",
    "# 함수 내부에서만 정의되고 사용되는 변수\n",
    "\n",
    "# 지역 변수 사용 예시\n",
    "def f():\n",
    "    a = 1\n",
    "    print(a)  # 출력: 1\n",
    "\n",
    "\n",
    "f()\n",
    "# print(a)  # error: a는 f 함수 내부에서만 정의되었습니다."
   ]
  },
  {
   "cell_type": "code",
   "execution_count": 2,
   "id": "0d59a6ab",
   "metadata": {},
   "outputs": [
    {
     "name": "stdout",
     "output_type": "stream",
     "text": [
      "{'a': 1, 'b': 'hello', 'ff': <function f.<locals>.ff at 0x0000029E622BA980>}\n"
     ]
    }
   ],
   "source": [
    "def f():\n",
    "    a = 1\n",
    "    b = 'hello'\n",
    "    def ff():\n",
    "        pass\n",
    "    print(locals()) # 출력: {'a': 1, 'b': 'hello', 'ff': <function f.<locals>.ff at 0x7a46e99d2c20>}\n",
    "\n",
    "\n",
    "f()"
   ]
  },
  {
   "cell_type": "code",
   "execution_count": null,
   "id": "055ed048",
   "metadata": {},
   "outputs": [
    {
     "name": "stdout",
     "output_type": "stream",
     "text": [
      "101\n"
     ]
    }
   ],
   "source": [
    "# 전역 변수\n",
    "# 프로그램 전체, 어떤 함수에서도 접근 가능한 변수\n",
    "\n",
    "a = 100\n",
    "\n",
    "\n",
    "def f():\n",
    "    global a    # 전역 변수\n",
    "    a = a + 1\n",
    "\n",
    "\n",
    "f()\n",
    "print(a)  # 출력: 101, 함수 f 내에서 전역 변수 a가 수정되었습니다."
   ]
  },
  {
   "cell_type": "code",
   "execution_count": null,
   "id": "6a611335",
   "metadata": {},
   "outputs": [
    {
     "ename": "UnboundLocalError",
     "evalue": "cannot access local variable 'a' where it is not associated with a value",
     "output_type": "error",
     "traceback": [
      "\u001b[31m---------------------------------------------------------------------------\u001b[39m",
      "\u001b[31mUnboundLocalError\u001b[39m                         Traceback (most recent call last)",
      "\u001b[36mCell\u001b[39m\u001b[36m \u001b[39m\u001b[32mIn[4]\u001b[39m\u001b[32m, line 6\u001b[39m\n\u001b[32m      2\u001b[39m \u001b[38;5;28;01mdef\u001b[39;00m\u001b[38;5;250m \u001b[39m\u001b[34mf\u001b[39m():\n\u001b[32m      3\u001b[39m     a = a + \u001b[32m1\u001b[39m \u001b[38;5;66;03m# error\u001b[39;00m\n\u001b[32m----> \u001b[39m\u001b[32m6\u001b[39m \u001b[43mf\u001b[49m\u001b[43m(\u001b[49m\u001b[43m)\u001b[49m\n\u001b[32m      7\u001b[39m \u001b[38;5;28mprint\u001b[39m(a)\n",
      "\u001b[36mCell\u001b[39m\u001b[36m \u001b[39m\u001b[32mIn[4]\u001b[39m\u001b[32m, line 3\u001b[39m, in \u001b[36mf\u001b[39m\u001b[34m()\u001b[39m\n\u001b[32m      2\u001b[39m \u001b[38;5;28;01mdef\u001b[39;00m\u001b[38;5;250m \u001b[39m\u001b[34mf\u001b[39m():\n\u001b[32m----> \u001b[39m\u001b[32m3\u001b[39m     a = \u001b[43ma\u001b[49m + \u001b[32m1\u001b[39m\n",
      "\u001b[31mUnboundLocalError\u001b[39m: cannot access local variable 'a' where it is not associated with a value"
     ]
    }
   ],
   "source": [
    "a = 100\n",
    "def f():\n",
    "    a = a + 1 # error -> 전역인지 지역 변수인지 알 수 없음\n",
    "\n",
    "\n",
    "f()\n",
    "print(a)"
   ]
  },
  {
   "cell_type": "code",
   "execution_count": 5,
   "id": "6ded6f77",
   "metadata": {},
   "outputs": [
    {
     "name": "stdout",
     "output_type": "stream",
     "text": [
      "100\n",
      "101\n"
     ]
    }
   ],
   "source": [
    "a = 100\n",
    "\n",
    "\n",
    "def f():\n",
    "    print(a) # 출력: 100\n",
    "\n",
    "\n",
    "f()\n",
    "\n",
    "\n",
    "def ff():\n",
    "    b = a + 1\n",
    "    print(b) # 출력: 101\n",
    "\n",
    "\n",
    "ff()"
   ]
  },
  {
   "cell_type": "code",
   "execution_count": null,
   "id": "44aab515",
   "metadata": {},
   "outputs": [
    {
     "name": "stdout",
     "output_type": "stream",
     "text": [
      "1000\n"
     ]
    }
   ],
   "source": [
    "# 같은 이름의 변수더라도 지역 변수, 전역 변수는 구분된다.\n",
    "\n",
    "a = 100\n",
    "\n",
    "\n",
    "def f():\n",
    "    a = 1000\n",
    "    print(a) # 출력: 1000\n",
    "\n",
    "\n",
    "f()"
   ]
  },
  {
   "cell_type": "code",
   "execution_count": 7,
   "id": "f3ee33c0",
   "metadata": {},
   "outputs": [
    {
     "ename": "UnboundLocalError",
     "evalue": "cannot access local variable 'a' where it is not associated with a value",
     "output_type": "error",
     "traceback": [
      "\u001b[31m---------------------------------------------------------------------------\u001b[39m",
      "\u001b[31mUnboundLocalError\u001b[39m                         Traceback (most recent call last)",
      "\u001b[36mCell\u001b[39m\u001b[36m \u001b[39m\u001b[32mIn[7]\u001b[39m\u001b[32m, line 6\u001b[39m\n\u001b[32m      2\u001b[39m \u001b[38;5;28;01mdef\u001b[39;00m\u001b[38;5;250m \u001b[39m\u001b[34mf\u001b[39m():\n\u001b[32m      3\u001b[39m     a = a + \u001b[32m1\u001b[39m \u001b[38;5;66;03m# error\u001b[39;00m\n\u001b[32m----> \u001b[39m\u001b[32m6\u001b[39m \u001b[43mf\u001b[49m\u001b[43m(\u001b[49m\u001b[43m)\u001b[49m\n",
      "\u001b[36mCell\u001b[39m\u001b[36m \u001b[39m\u001b[32mIn[7]\u001b[39m\u001b[32m, line 3\u001b[39m, in \u001b[36mf\u001b[39m\u001b[34m()\u001b[39m\n\u001b[32m      2\u001b[39m \u001b[38;5;28;01mdef\u001b[39;00m\u001b[38;5;250m \u001b[39m\u001b[34mf\u001b[39m():\n\u001b[32m----> \u001b[39m\u001b[32m3\u001b[39m     a = \u001b[43ma\u001b[49m + \u001b[32m1\u001b[39m\n",
      "\u001b[31mUnboundLocalError\u001b[39m: cannot access local variable 'a' where it is not associated with a value"
     ]
    }
   ],
   "source": [
    "a = 100\n",
    "def f():\n",
    "    a = a + 1 # error\n",
    "\n",
    "\n",
    "f()"
   ]
  },
  {
   "cell_type": "code",
   "execution_count": 8,
   "id": "b1f63cb3",
   "metadata": {},
   "outputs": [
    {
     "name": "stdout",
     "output_type": "stream",
     "text": [
      "100\n",
      "1000\n",
      "10000\n",
      "10\n"
     ]
    }
   ],
   "source": [
    "# 나아가기\n",
    "\n",
    "a = 10\n",
    "def f():\n",
    "    a = 100\n",
    "    print(a) # 출력: 100\n",
    "    def ff():\n",
    "        a = 1000\n",
    "        print(a) # 출력: 1000\n",
    "        def fff():\n",
    "            a = 10000 # 출력: 10000\n",
    "            print(a)\n",
    "        fff()\n",
    "    ff()\n",
    "f()\n",
    "print(a) # 출력: 10"
   ]
  },
  {
   "cell_type": "code",
   "execution_count": 9,
   "id": "7015e515",
   "metadata": {},
   "outputs": [
    {
     "name": "stdout",
     "output_type": "stream",
     "text": [
      "100\n",
      "1000\n",
      "10\n",
      "10\n"
     ]
    }
   ],
   "source": [
    "# global을 하면 함수가 얼만큼 중첩되어 있건 최상단에 있는 a를 바라봅니다.\n",
    "a = 10\n",
    "def f():\n",
    "    a = 100\n",
    "    print(a)\n",
    "    def ff():\n",
    "        a = 1000\n",
    "        print(a)\n",
    "        def fff():\n",
    "            global a\n",
    "            print(a)\n",
    "        fff()\n",
    "    ff()\n",
    "f()\n",
    "print(a)"
   ]
  }
 ],
 "metadata": {
  "kernelspec": {
   "display_name": "Python 3",
   "language": "python",
   "name": "python3"
  },
  "language_info": {
   "codemirror_mode": {
    "name": "ipython",
    "version": 3
   },
   "file_extension": ".py",
   "mimetype": "text/x-python",
   "name": "python",
   "nbconvert_exporter": "python",
   "pygments_lexer": "ipython3",
   "version": "3.13.5"
  }
 },
 "nbformat": 4,
 "nbformat_minor": 5
}
