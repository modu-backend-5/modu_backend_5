{
 "cells": [
  {
   "cell_type": "code",
   "execution_count": null,
   "id": "12489781",
   "metadata": {},
   "outputs": [],
   "source": [
    "# 함수"
   ]
  },
  {
   "cell_type": "code",
   "execution_count": 1,
   "id": "3b420366",
   "metadata": {},
   "outputs": [
    {
     "name": "stdout",
     "output_type": "stream",
     "text": [
      "1\n",
      "2\n",
      "3\n"
     ]
    }
   ],
   "source": [
    "# 함수 생성\n",
    "\n",
    "# 들여쓰기 - 스페이스바 4번 입력 (띄어쓰기)\n",
    "def my_function(): # 함수의 정의\n",
    "    print('1')\n",
    "    print('2')\n",
    "    print('3')\n",
    "\n",
    "\n",
    "my_function() # 함수의 호출"
   ]
  }
 ],
 "metadata": {
  "kernelspec": {
   "display_name": "Python 3",
   "language": "python",
   "name": "python3"
  },
  "language_info": {
   "codemirror_mode": {
    "name": "ipython",
    "version": 3
   },
   "file_extension": ".py",
   "mimetype": "text/x-python",
   "name": "python",
   "nbconvert_exporter": "python",
   "pygments_lexer": "ipython3",
   "version": "3.13.5"
  }
 },
 "nbformat": 4,
 "nbformat_minor": 5
}
