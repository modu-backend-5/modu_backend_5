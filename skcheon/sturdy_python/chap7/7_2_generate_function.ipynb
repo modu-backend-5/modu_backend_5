{
 "cells": [
  {
   "cell_type": "code",
   "execution_count": null,
   "id": "ffc67942",
   "metadata": {},
   "outputs": [],
   "source": [
    "# 간단한 함수 만들어보기"
   ]
  }
 ],
 "metadata": {
  "language_info": {
   "name": "python"
  }
 },
 "nbformat": 4,
 "nbformat_minor": 5
}
