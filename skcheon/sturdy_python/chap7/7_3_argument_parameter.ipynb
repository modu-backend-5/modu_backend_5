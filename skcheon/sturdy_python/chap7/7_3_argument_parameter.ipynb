{
 "cells": [
  {
   "cell_type": "code",
   "execution_count": null,
   "id": "76ade934",
   "metadata": {},
   "outputs": [],
   "source": [
    "# 함수의 아규먼트와 파라미터\n",
    "\n",
    "# 파라미터\n",
    "# 파라미터는 함수를 정의할 때 사용하는 변수\n",
    "\n",
    "# 아규먼트\n",
    "# 함수 호출 시 전달하는 실제 값"
   ]
  },
  {
   "cell_type": "code",
   "execution_count": 1,
   "id": "c559224a",
   "metadata": {},
   "outputs": [
    {
     "name": "stdout",
     "output_type": "stream",
     "text": [
      "10 20 30\n",
      "100 10 30\n",
      "100 200 300\n",
      "100 200 300\n"
     ]
    }
   ],
   "source": [
    "# 기본값을 가진 파라미터\n",
    "\n",
    "def f(a=10, b=20, c=30):\n",
    "    print(a, b, c)\n",
    "\n",
    "\n",
    "f() # 출력: 10 20 30\n",
    "f(100, 10) # 출력: 100 10 30\n",
    "f(a=100, b=200, c=300) # 출력: 100 200 300\n",
    "f(c=300, a=100, b=200) # 출력: 100 200 300"
   ]
  },
  {
   "cell_type": "code",
   "execution_count": null,
   "id": "c6dac196",
   "metadata": {},
   "outputs": [],
   "source": [
    "# 파이썬에서는 기본값이 없는 파라미터가 기본 값을 가진 파라미터 뒤에 올 수 없다.\n",
    "\n",
    "def f(a=10, b=20, c):\n",
    "    print(a, b, c) # error"
   ]
  },
  {
   "cell_type": "code",
   "execution_count": 2,
   "id": "db059145",
   "metadata": {},
   "outputs": [
    {
     "name": "stdout",
     "output_type": "stream",
     "text": [
      "100 10 10\n",
      "100 200 300\n",
      "100 200 300\n"
     ]
    }
   ],
   "source": [
    "# 일부 파라미터만 기본값을 가지는 경우\n",
    "\n",
    "def f(a, b=20, c=10):\n",
    "    print(a, b, c)\n",
    "\n",
    "\n",
    "f(100, 10) # 출력: 100 10 10\n",
    "f(a=100, b=200, c=300) # 출력: 100 200 300\n",
    "f(c=300, a=100, b=200) # 출력: 100 200 300"
   ]
  },
  {
   "cell_type": "code",
   "execution_count": 3,
   "id": "213a18d2",
   "metadata": {},
   "outputs": [
    {
     "name": "stdout",
     "output_type": "stream",
     "text": [
      "100 10 30\n",
      "None\n",
      "100 200 300\n",
      "None\n",
      "100 200 300\n",
      "None\n"
     ]
    }
   ],
   "source": [
    "def f(a, b=20, c=30):\n",
    "    print(a, b, c)\n",
    "\n",
    "\n",
    "# print(f()) # error\n",
    "print(f(100, 10)) # 출력 : 100, 10, 30\n",
    "print(f(a=100, b=200, c=300)) # 출력 : 100 200 300\n",
    "print(f(c=300, a=100, b=200)) # 출력 : 100 200 300\n",
    "# print(f(c=300)) # error"
   ]
  },
  {
   "cell_type": "code",
   "execution_count": 4,
   "id": "b55c4d84",
   "metadata": {},
   "outputs": [
    {
     "name": "stdout",
     "output_type": "stream",
     "text": [
      "[2, 3, 4, 1]\n"
     ]
    }
   ],
   "source": [
    "# 컨벤션 자료형을 아규먼트로 넣었을 때\n",
    "\n",
    "def add_element(my_list):\n",
    "    my_list.append(1)\n",
    "\n",
    "\n",
    "a = [2, 3, 4]\n",
    "add_element(a)\n",
    "print(a)  # 출력: [2, 3, 4, 1]"
   ]
  },
  {
   "cell_type": "code",
   "execution_count": 5,
   "id": "bedf1023",
   "metadata": {},
   "outputs": [
    {
     "name": "stdout",
     "output_type": "stream",
     "text": [
      "2000066508544\n",
      "2000066508544\n",
      "[2, 3, 4, 1]\n"
     ]
    }
   ],
   "source": [
    "def add_element(my_list):\n",
    "    my_list.append(1)\n",
    "    print(id(my_list)) # 출력: 135115033605760\n",
    "\n",
    "\n",
    "a = [2, 3, 4]\n",
    "add_element(a)\n",
    "print(id(a)) # 출력: 135115033605760\n",
    "print(a)  # 출력: [2, 3, 4, 1]"
   ]
  },
  {
   "cell_type": "code",
   "execution_count": 8,
   "id": "870c547c",
   "metadata": {},
   "outputs": [],
   "source": [
    "# 권장하지 않는 기본값\n",
    "\n",
    "# 권장하지 않는 방법\n",
    "def append_to_list(value, lst=[]):\n",
    "    lst.append(value)\n",
    "    return lst # 예상치 못한 결과가 발생할 수 있습니다."
   ]
  },
  {
   "cell_type": "code",
   "execution_count": 9,
   "id": "535b2af8",
   "metadata": {},
   "outputs": [
    {
     "data": {
      "text/plain": [
       "[1, 2]"
      ]
     },
     "execution_count": 9,
     "metadata": {},
     "output_type": "execute_result"
    }
   ],
   "source": [
    "append_to_list(1) # 출력: [1]\n",
    "append_to_list(2) # 출력: [1, 2], 그러나 결과가 [2]가 나올것으로 예상할수 도 있습니다."
   ]
  },
  {
   "cell_type": "code",
   "execution_count": 10,
   "id": "4d20bc34",
   "metadata": {},
   "outputs": [
    {
     "data": {
      "text/plain": [
       "[2]"
      ]
     },
     "execution_count": 10,
     "metadata": {},
     "output_type": "execute_result"
    }
   ],
   "source": [
    "append_to_list(1,[])\n",
    "append_to_list(2,[])"
   ]
  },
  {
   "cell_type": "code",
   "execution_count": 11,
   "id": "1804e0e4",
   "metadata": {},
   "outputs": [],
   "source": [
    "# 권장 방법\n",
    "def append_to_list(value, lst=None):\n",
    "    if lst is None:\n",
    "        lst = []\n",
    "    lst.append(value)\n",
    "    return lst"
   ]
  },
  {
   "cell_type": "code",
   "execution_count": 12,
   "id": "d8b8dba5",
   "metadata": {},
   "outputs": [
    {
     "data": {
      "text/plain": [
       "[2]"
      ]
     },
     "execution_count": 12,
     "metadata": {},
     "output_type": "execute_result"
    }
   ],
   "source": [
    "append_to_list(1) # 결과: [1]\n",
    "append_to_list(2) # 결과: [2]"
   ]
  }
 ],
 "metadata": {
  "kernelspec": {
   "display_name": "Python 3",
   "language": "python",
   "name": "python3"
  },
  "language_info": {
   "codemirror_mode": {
    "name": "ipython",
    "version": 3
   },
   "file_extension": ".py",
   "mimetype": "text/x-python",
   "name": "python",
   "nbconvert_exporter": "python",
   "pygments_lexer": "ipython3",
   "version": "3.13.5"
  }
 },
 "nbformat": 4,
 "nbformat_minor": 5
}
