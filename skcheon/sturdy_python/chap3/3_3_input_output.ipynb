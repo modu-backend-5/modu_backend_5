{
 "cells": [
  {
   "cell_type": "code",
   "execution_count": null,
   "id": "ea94fe88",
   "metadata": {},
   "outputs": [],
   "source": [
    "# 입력과 출력"
   ]
  },
  {
   "cell_type": "code",
   "execution_count": 1,
   "id": "063f83a6",
   "metadata": {},
   "outputs": [
    {
     "name": "stdout",
     "output_type": "stream",
     "text": [
      "1212\n"
     ]
    }
   ],
   "source": [
    "# 입력함수 input\n",
    "\n",
    "age = input('나이를 입력해주세요.')\n",
    "print(age + age) # 이어붙입니다."
   ]
  },
  {
   "cell_type": "code",
   "execution_count": 2,
   "id": "c61fb461",
   "metadata": {},
   "outputs": [
    {
     "name": "stdout",
     "output_type": "stream",
     "text": [
      "출력합니다.\n"
     ]
    }
   ],
   "source": [
    "# 출력함수 print\n",
    "# 한 줄 출력\n",
    "print('출력합니다.')"
   ]
  },
  {
   "cell_type": "code",
   "execution_count": 3,
   "id": "982d5901",
   "metadata": {},
   "outputs": [
    {
     "name": "stdout",
     "output_type": "stream",
     "text": [
      "출력합니다.\n",
      "출력합니다.\n"
     ]
    }
   ],
   "source": [
    "# 여러 줄 출력\n",
    "print('출력합니다.')\n",
    "print('출력합니다.')"
   ]
  },
  {
   "cell_type": "code",
   "execution_count": null,
   "id": "37c6ef57",
   "metadata": {},
   "outputs": [
    {
     "data": {
      "text/plain": [
       "'출력합니다.'"
      ]
     },
     "execution_count": 4,
     "metadata": {},
     "output_type": "execute_result"
    }
   ],
   "source": [
    "# 자동 출력 : 구글 코랩과 주피터 노트북에서 특별히 제공하는 기능\n",
    "'출력합니다.'"
   ]
  },
  {
   "cell_type": "code",
   "execution_count": null,
   "id": "5b5b8370",
   "metadata": {},
   "outputs": [
    {
     "name": "stdout",
     "output_type": "stream",
     "text": [
      "Hello World !\n"
     ]
    }
   ],
   "source": [
    "# print의 여러 옵션\n",
    "print(\"Hello\", \"World\", \"!\")    # 공백으로 구분해서 출력해준다."
   ]
  },
  {
   "cell_type": "code",
   "execution_count": null,
   "id": "16469dba",
   "metadata": {},
   "outputs": [
    {
     "name": "stdout",
     "output_type": "stream",
     "text": [
      "010-0000-0000\n"
     ]
    }
   ],
   "source": [
    "# sep을 이용해 각 문자열을 구분할 문자를 지정할 수 있다. 디폴트는 공백(' ')\n",
    "print(\"010\", \"0000\", \"0000\", sep=\"-\")"
   ]
  },
  {
   "cell_type": "code",
   "execution_count": 7,
   "id": "59f3cd80",
   "metadata": {},
   "outputs": [
    {
     "name": "stdout",
     "output_type": "stream",
     "text": [
      "010-0000-0000???010!0000!0000\n"
     ]
    }
   ],
   "source": [
    "# end를 이용해 마지막에 붙일 문자열을 지정할 수 있다.\n",
    "print(\"010\", \"0000\", \"0000\", sep=\"-\", end='???')\n",
    "print(\"010\", \"0000\", \"0000\", sep=\"!\")"
   ]
  },
  {
   "cell_type": "code",
   "execution_count": null,
   "id": "57d015c0",
   "metadata": {},
   "outputs": [
    {
     "name": "stdout",
     "output_type": "stream",
     "text": [
      "이름: Licat, 나이: 10\n"
     ]
    }
   ],
   "source": [
    "# 문자열 포매팅\n",
    "# % 기호를 이용한 포매팅\n",
    "name = \"Licat\"\n",
    "age = 10\n",
    "print(\"이름: %s, 나이: %d\" % (name, age))"
   ]
  },
  {
   "cell_type": "code",
   "execution_count": 9,
   "id": "f6b4c361",
   "metadata": {},
   "outputs": [
    {
     "name": "stdout",
     "output_type": "stream",
     "text": [
      "이름: Licat, 나이: 10\n"
     ]
    }
   ],
   "source": [
    "# format 메소드를 이용한 포매팅\n",
    "name = \"Licat\"\n",
    "age = 10\n",
    "print(\"이름: {}, 나이: {}\".format(name, age))"
   ]
  },
  {
   "cell_type": "code",
   "execution_count": 11,
   "id": "dd8ad058",
   "metadata": {},
   "outputs": [
    {
     "name": "stdout",
     "output_type": "stream",
     "text": [
      "이름: Licat, 나이: 10\n"
     ]
    }
   ],
   "source": [
    "# f-string을 이용한 포매팅\n",
    "name = \"Licat\"\n",
    "age = 10\n",
    "print(f\"이름: {name}, 나이: {age}\")"
   ]
  },
  {
   "cell_type": "code",
   "execution_count": null,
   "id": "8a85569c",
   "metadata": {},
   "outputs": [
    {
     "name": "stdout",
     "output_type": "stream",
     "text": [
      "a\n"
     ]
    },
    {
     "data": {
      "text/plain": [
       "b"
      ]
     },
     "execution_count": 12,
     "metadata": {},
     "output_type": "execute_result"
    },
    {
     "ename": "",
     "evalue": "",
     "output_type": "error",
     "traceback": [
      "\u001b[1;31m현재 셀 또는 이전 셀에서 코드를 실행하는 동안 Kernel이 충돌했습니다. \n",
      "\u001b[1;31m셀의 코드를 검토하여 가능한 오류 원인을 식별하세요. \n",
      "\u001b[1;31m자세한 내용을 보려면 <a href='https://aka.ms/vscodeJupyterKernelCrash'>여기</a>를 클릭하세요. \n",
      "\u001b[1;31m자세한 내용은 Jupyter <a href='command:jupyter.viewOutput'>로그</a>를 참조하세요."
     ]
    }
   ],
   "source": [
    "# print와 마지막 라인 출력의 의미\n",
    "class Character:\n",
    "    def __str__(self):\n",
    "        return 'a'\n",
    "\n",
    "\n",
    "    def __repr__(self):\n",
    "        return 'b'\n",
    "\n",
    "\n",
    "hero = Character()\n",
    "print(hero)\n",
    "hero"
   ]
  }
 ],
 "metadata": {
  "kernelspec": {
   "display_name": "Python 3",
   "language": "python",
   "name": "python3"
  },
  "language_info": {
   "codemirror_mode": {
    "name": "ipython",
    "version": 3
   },
   "file_extension": ".py",
   "mimetype": "text/x-python",
   "name": "python",
   "nbconvert_exporter": "python",
   "pygments_lexer": "ipython3",
   "version": "3.13.5"
  }
 },
 "nbformat": 4,
 "nbformat_minor": 5
}
