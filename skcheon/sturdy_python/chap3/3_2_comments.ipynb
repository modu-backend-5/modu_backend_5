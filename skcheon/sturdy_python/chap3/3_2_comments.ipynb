{
 "cells": [
  {
   "cell_type": "code",
   "execution_count": null,
   "id": "4254530a",
   "metadata": {},
   "outputs": [],
   "source": [
    "# 주석"
   ]
  },
  {
   "cell_type": "code",
   "execution_count": 1,
   "id": "06b8cf3a",
   "metadata": {},
   "outputs": [
    {
     "name": "stdout",
     "output_type": "stream",
     "text": [
      "Hello, World 1!\n",
      "Hello, World 2!\n"
     ]
    }
   ],
   "source": [
    "# 이것은 주석입니다.\n",
    "print('Hello, World 1!') # 이것도 주석입니다.\n",
    "print('Hello, World 2!')"
   ]
  },
  {
   "cell_type": "code",
   "execution_count": 2,
   "id": "f4915ea6",
   "metadata": {},
   "outputs": [
    {
     "name": "stdout",
     "output_type": "stream",
     "text": [
      "Hello, World!\n"
     ]
    }
   ],
   "source": [
    "'''\n",
    "여러 줄 주석은 이렇게 작성합니다.\n",
    "이 코드는 실행되지 않습니다.\n",
    "'''\n",
    "print('Hello, World!')"
   ]
  }
 ],
 "metadata": {
  "kernelspec": {
   "display_name": "Python 3",
   "language": "python",
   "name": "python3"
  },
  "language_info": {
   "codemirror_mode": {
    "name": "ipython",
    "version": 3
   },
   "file_extension": ".py",
   "mimetype": "text/x-python",
   "name": "python",
   "nbconvert_exporter": "python",
   "pygments_lexer": "ipython3",
   "version": "3.13.5"
  }
 },
 "nbformat": 4,
 "nbformat_minor": 5
}
