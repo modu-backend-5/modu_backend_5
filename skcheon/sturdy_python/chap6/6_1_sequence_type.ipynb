{
 "cells": [
  {
   "cell_type": "code",
   "execution_count": null,
   "id": "4c848432",
   "metadata": {},
   "outputs": [],
   "source": [
    "# 시퀀스 자료형\n",
    "# 여러 개의 항목들이 순서대로 나열된 자료형\n",
    "# 리스트, 문자열, 튜플, 바이트, 바이트배열, 범위"
   ]
  },
  {
   "cell_type": "code",
   "execution_count": 1,
   "id": "2407d10c",
   "metadata": {},
   "outputs": [
    {
     "name": "stdout",
     "output_type": "stream",
     "text": [
      "a\n",
      "c\n"
     ]
    }
   ],
   "source": [
    "# 인덱싱\n",
    "example = 'abcde'\n",
    "print(example[0]) # 출력: a\n",
    "print(example[2]) # 출력: c"
   ]
  },
  {
   "cell_type": "code",
   "execution_count": 2,
   "id": "836425a8",
   "metadata": {},
   "outputs": [
    {
     "name": "stdout",
     "output_type": "stream",
     "text": [
      "bc\n",
      "3\n",
      "range(0, 100, 5)\n"
     ]
    }
   ],
   "source": [
    "# 슬라이싱\n",
    "example = 'abcde'\n",
    "print(example[1:3]) # 출력: bc\n",
    "print(range(10)[3]) # 출력: 3\n",
    "print(range(100)[::5]) # 출력: range(0, 100, 5)"
   ]
  },
  {
   "cell_type": "code",
   "execution_count": 3,
   "id": "52f52386",
   "metadata": {},
   "outputs": [
    {
     "name": "stdout",
     "output_type": "stream",
     "text": [
      "True\n",
      "False\n"
     ]
    }
   ],
   "source": [
    "# 특정 항목 포함 여부\n",
    "example = 'abcde'\n",
    "print('a' in example) # 출력: True\n",
    "print('z' in example) # 출력: False"
   ]
  },
  {
   "cell_type": "code",
   "execution_count": 4,
   "id": "3a72c052",
   "metadata": {},
   "outputs": [
    {
     "name": "stdout",
     "output_type": "stream",
     "text": [
      "True\n",
      "False\n"
     ]
    }
   ],
   "source": [
    "# 연결 및 반복\n",
    "example = 'abcde'\n",
    "print('a' in example) # 출력: True\n",
    "print('z' in example) # 출력: False"
   ]
  },
  {
   "cell_type": "code",
   "execution_count": 5,
   "id": "5cb99c80",
   "metadata": {},
   "outputs": [
    {
     "name": "stdout",
     "output_type": "stream",
     "text": [
      "(1, 2, 3, 4)\n"
     ]
    }
   ],
   "source": [
    "# 시퀀스 자료형의 패킹과 언패킹\n",
    "# 패킹 : 여러 개의 데이터를 하나의 변수에 담는 과정\n",
    "\n",
    "# 튜플 패킹\n",
    "packed_tuple = 1, 2, 3, 4\n",
    "print(packed_tuple)  # 출력: (1, 2, 3, 4)"
   ]
  },
  {
   "cell_type": "code",
   "execution_count": null,
   "id": "3075bd05",
   "metadata": {},
   "outputs": [
    {
     "name": "stdout",
     "output_type": "stream",
     "text": [
      "1\n",
      "2\n",
      "10 20\n",
      "100 200\n"
     ]
    }
   ],
   "source": [
    "# 언패킹 : 패킹된 데이터를 여러 개의 변수로 분해하는 과정\n",
    "\n",
    "# 튜플 패킹\n",
    "packed_tuple = 1, 2, 3, 4\n",
    "\n",
    "\n",
    "# 튜플 언패킹\n",
    "a, b, c, d = packed_tuple\n",
    "print(a)  # 출력: 1\n",
    "print(b)  # 출력: 2\n",
    "\n"
   ]
  },
  {
   "cell_type": "code",
   "execution_count": 8,
   "id": "52201b17",
   "metadata": {},
   "outputs": [
    {
     "name": "stdout",
     "output_type": "stream",
     "text": [
      "10 20\n",
      "100 200\n"
     ]
    }
   ],
   "source": [
    "for i, j in [[10, 20], [100, 200]]:\n",
    "    print(i, j)"
   ]
  },
  {
   "cell_type": "code",
   "execution_count": 9,
   "id": "8c14967e",
   "metadata": {},
   "outputs": [
    {
     "name": "stdout",
     "output_type": "stream",
     "text": [
      "1\n",
      "[2, 3, 4]\n",
      "5\n"
     ]
    }
   ],
   "source": [
    "# 별표를 이용한 언패킹\n",
    "# 별표(*)를 사용하면, 여러 개의 요소를 한번에 변수로 할당 가능\n",
    "\n",
    "first, *middle, last = [1, 2, 3, 4, 5]\n",
    "print(first)    # 출력: 1\n",
    "print(middle)   # 출력: [2, 3, 4]\n",
    "print(last)     # 출력: 5"
   ]
  }
 ],
 "metadata": {
  "kernelspec": {
   "display_name": "Python 3",
   "language": "python",
   "name": "python3"
  },
  "language_info": {
   "codemirror_mode": {
    "name": "ipython",
    "version": 3
   },
   "file_extension": ".py",
   "mimetype": "text/x-python",
   "name": "python",
   "nbconvert_exporter": "python",
   "pygments_lexer": "ipython3",
   "version": "3.13.5"
  }
 },
 "nbformat": 4,
 "nbformat_minor": 5
}
