{
 "cells": [
  {
   "cell_type": "code",
   "execution_count": null,
   "id": "63359f32",
   "metadata": {},
   "outputs": [],
   "source": [
    "# 셋"
   ]
  },
  {
   "cell_type": "code",
   "execution_count": 1,
   "id": "5a665542",
   "metadata": {},
   "outputs": [],
   "source": [
    "x = {1, 2, 3}\n",
    "y = {'apple', 'banana', 'cherry'}"
   ]
  },
  {
   "cell_type": "code",
   "execution_count": null,
   "id": "da4ff77d",
   "metadata": {},
   "outputs": [
    {
     "name": "stdout",
     "output_type": "stream",
     "text": [
      "{1, 2, 3}\n"
     ]
    }
   ],
   "source": [
    "z = set([1, 2, 3, 3, 3])    # 셋은 중복된 값을 허용하지 않음.\n",
    "print(z)  # 출력: {1, 2, 3}"
   ]
  },
  {
   "cell_type": "code",
   "execution_count": 3,
   "id": "c142a643",
   "metadata": {},
   "outputs": [
    {
     "name": "stdout",
     "output_type": "stream",
     "text": [
      "{1, 2, 3, 4, 5}\n"
     ]
    }
   ],
   "source": [
    "a = {1, 2, 3, 4, 5, 2, 3}\n",
    "print(a)  # 출력: {1, 2, 3, 4, 5}"
   ]
  },
  {
   "cell_type": "code",
   "execution_count": 4,
   "id": "b06a7cea",
   "metadata": {},
   "outputs": [
    {
     "name": "stdout",
     "output_type": "stream",
     "text": [
      "True\n"
     ]
    }
   ],
   "source": [
    "# 집합은 순서가 없어서 인덱싱 불가\n",
    "a = {1, 2, 3, 4, 5}\n",
    "# print(a[0])  # 이렇게 하면 에러가 발생합니다!\n",
    "print(3 in a)  # 출력: True"
   ]
  },
  {
   "cell_type": "code",
   "execution_count": 5,
   "id": "2c603e50",
   "metadata": {},
   "outputs": [
    {
     "name": "stdout",
     "output_type": "stream",
     "text": [
      "{1, 2, 3, 4, 5}\n"
     ]
    }
   ],
   "source": [
    "# 집합의 연산\n",
    "\n",
    "# 합집합\n",
    "\n",
    "set1 = {1, 2, 3}\n",
    "set2 = {3, 4, 5}\n",
    "union_set = set1 | set2\n",
    "print(union_set)  # 출력: {1, 2, 3, 4, 5}"
   ]
  },
  {
   "cell_type": "code",
   "execution_count": 6,
   "id": "cdb42075",
   "metadata": {},
   "outputs": [
    {
     "name": "stdout",
     "output_type": "stream",
     "text": [
      "{1, 2}\n"
     ]
    }
   ],
   "source": [
    "# 차집합\n",
    "\n",
    "set1 = {1, 2, 3}\n",
    "set2 = {3, 4, 5}\n",
    "difference_set = set1 - set2\n",
    "print(difference_set)  # 출력: {1, 2}"
   ]
  },
  {
   "cell_type": "code",
   "execution_count": 7,
   "id": "cb7e5053",
   "metadata": {},
   "outputs": [
    {
     "name": "stdout",
     "output_type": "stream",
     "text": [
      "True\n",
      "False\n"
     ]
    }
   ],
   "source": [
    "# 특정 값 확인하기\n",
    "\n",
    "set1 = {1, 2, 3, 4, 5}\n",
    "print(3 in set1)  # 출력: True\n",
    "print(6 in set1)  # 출력: False"
   ]
  },
  {
   "cell_type": "code",
   "execution_count": null,
   "id": "25070a4c",
   "metadata": {},
   "outputs": [],
   "source": [
    "# 집합 내 원소로는 변경 불가능한 데이터만 사용 가능\n",
    "# 리스트는 집합의 원소가 될 수 없지만, 튜플은 가능"
   ]
  },
  {
   "cell_type": "code",
   "execution_count": 8,
   "id": "8b471515",
   "metadata": {},
   "outputs": [
    {
     "name": "stdout",
     "output_type": "stream",
     "text": [
      "['__and__', '__class__', '__class_getitem__', '__contains__', '__delattr__', '__dir__', '__doc__', '__eq__', '__format__', '__ge__', '__getattribute__', '__getstate__', '__gt__', '__hash__', '__iand__', '__init__', '__init_subclass__', '__ior__', '__isub__', '__iter__', '__ixor__', '__le__', '__len__', '__lt__', '__ne__', '__new__', '__or__', '__rand__', '__reduce__', '__reduce_ex__', '__repr__', '__ror__', '__rsub__', '__rxor__', '__setattr__', '__sizeof__', '__str__', '__sub__', '__subclasshook__', '__xor__', 'add', 'clear', 'copy', 'difference', 'difference_update', 'discard', 'intersection', 'intersection_update', 'isdisjoint', 'issubset', 'issuperset', 'pop', 'remove', 'symmetric_difference', 'symmetric_difference_update', 'union', 'update']\n"
     ]
    }
   ],
   "source": [
    "# 집합의 메서드\n",
    "print(dir(set))"
   ]
  },
  {
   "cell_type": "code",
   "execution_count": 9,
   "id": "066dbd3a",
   "metadata": {},
   "outputs": [
    {
     "name": "stdout",
     "output_type": "stream",
     "text": [
      "{1, 2, 3, 4}\n"
     ]
    }
   ],
   "source": [
    "# add\n",
    "\n",
    "set1 = {1, 2, 3}\n",
    "set1.add(4)\n",
    "print(set1)  # 출력: {1, 2, 3, 4}"
   ]
  },
  {
   "cell_type": "code",
   "execution_count": 10,
   "id": "6b1f371e",
   "metadata": {},
   "outputs": [
    {
     "name": "stdout",
     "output_type": "stream",
     "text": [
      "set()\n"
     ]
    }
   ],
   "source": [
    "# clear\n",
    "\n",
    "set1 = {1, 2, 3, 4}\n",
    "set1.clear()\n",
    "print(set1)  # 출력: set()"
   ]
  },
  {
   "cell_type": "code",
   "execution_count": 11,
   "id": "3af202d6",
   "metadata": {},
   "outputs": [
    {
     "name": "stdout",
     "output_type": "stream",
     "text": [
      "{1, 2, 3}\n"
     ]
    }
   ],
   "source": [
    "# copy\n",
    "\n",
    "set1 = {1, 2, 3}\n",
    "set2 = set1.copy()\n",
    "print(set2)  # 출력: {1, 2, 3}"
   ]
  },
  {
   "cell_type": "code",
   "execution_count": null,
   "id": "060e075c",
   "metadata": {},
   "outputs": [
    {
     "name": "stdout",
     "output_type": "stream",
     "text": [
      "{1, 2, 4}\n"
     ]
    }
   ],
   "source": [
    "# remove\n",
    "# 해당 원소가 집합에 없으면 KeyError 발생\n",
    "set1 = {1, 2, 3, 4}\n",
    "set1.remove(3)\n",
    "print(set1)    # 출력: {1, 2, 4}\n",
    "# set1.remove(5) # KeyError"
   ]
  },
  {
   "cell_type": "code",
   "execution_count": 13,
   "id": "d4d6e481",
   "metadata": {},
   "outputs": [
    {
     "name": "stdout",
     "output_type": "stream",
     "text": [
      "{1, 2, 3, 4}\n"
     ]
    }
   ],
   "source": [
    "# discard\n",
    "# 원소 제거. 해당 원소가 집합에 없어도 에러 발생하지 않음.\n",
    "set1 = {1, 2, 3, 4}\n",
    "set1.discard(5)\n",
    "print(set1)  # 출력: {1, 2, 3, 4}"
   ]
  },
  {
   "cell_type": "code",
   "execution_count": 14,
   "id": "ade1857f",
   "metadata": {},
   "outputs": [
    {
     "name": "stdout",
     "output_type": "stream",
     "text": [
      "{4, 5, 6, 7, 8}\n",
      "{5, 6, 7, 8}\n",
      "{6, 7, 8}\n"
     ]
    }
   ],
   "source": [
    "# set에서 pop은 실무에서 사용하지 않음. 값을 랜덤하게 뽑기 때문\n",
    "s = {3, 4, 5, 6, 7, 8}\n",
    "s.pop()\n",
    "print(s)  # 가장 확률적으로 출력: {4, 5, 6, 7, 8}\n",
    "s.pop()\n",
    "print(s)  # 가장 확률적으로 출력: {5, 6, 7, 8}\n",
    "s.pop()\n",
    "print(s)  # 가장 확률적으로 출력: {6, 7, 8}"
   ]
  },
  {
   "cell_type": "code",
   "execution_count": null,
   "id": "fb5ee418",
   "metadata": {},
   "outputs": [
    {
     "name": "stdout",
     "output_type": "stream",
     "text": [
      "{1, 2}\n"
     ]
    }
   ],
   "source": [
    "# difference\n",
    "# 차집합 반환. 원본은 그대로\n",
    "\n",
    "set1 = {1, 2, 3, 4}\n",
    "set2 = {3, 4, 5, 6}\n",
    "print(set1.difference(set2))  # 출력: {1, 2}"
   ]
  },
  {
   "cell_type": "code",
   "execution_count": null,
   "id": "b212ffd3",
   "metadata": {},
   "outputs": [
    {
     "name": "stdout",
     "output_type": "stream",
     "text": [
      "{1, 2}\n"
     ]
    }
   ],
   "source": [
    "# difference_update\n",
    "# 차집합 반환. 원본 변화 적용됨\n",
    "\n",
    "set1 = {1, 2, 3, 4}\n",
    "set2 = {3, 4, 5, 6}\n",
    "set1.difference_update(set2)\n",
    "print(set1)  # 출력: {1, 2}"
   ]
  },
  {
   "cell_type": "code",
   "execution_count": null,
   "id": "b12085e2",
   "metadata": {},
   "outputs": [
    {
     "name": "stdout",
     "output_type": "stream",
     "text": [
      "{3, 4}\n"
     ]
    }
   ],
   "source": [
    "# intersection\n",
    "# 교집합 반환. 원본은 그대로\n",
    "set1 = {1, 2, 3, 4}\n",
    "set2 = {3, 4, 5, 6}\n",
    "print(set1.intersection(set2))  # 출력: {3, 4}"
   ]
  },
  {
   "cell_type": "code",
   "execution_count": null,
   "id": "6da3e9fb",
   "metadata": {},
   "outputs": [],
   "source": [
    "# intersection_update\n",
    "# 교집합으로 업데이트. 원본 변화 적용됨.\n",
    "set1 = {1, 2, 3, 4}\n",
    "set2 = {3, 4, 5, 6}\n",
    "set1.intersection_update(set2)\n",
    "print(set1)  # 출력: {3, 4}"
   ]
  },
  {
   "cell_type": "code",
   "execution_count": 19,
   "id": "6bf7a6dd",
   "metadata": {},
   "outputs": [
    {
     "name": "stdout",
     "output_type": "stream",
     "text": [
      "True\n"
     ]
    }
   ],
   "source": [
    "# isdisjoint(other)\n",
    "\n",
    "set1 = {1, 2, 3}\n",
    "set2 = {4, 5, 6}\n",
    "print(set1.isdisjoint(set2))  # 출력: True"
   ]
  },
  {
   "cell_type": "code",
   "execution_count": 20,
   "id": "50a92881",
   "metadata": {},
   "outputs": [
    {
     "name": "stdout",
     "output_type": "stream",
     "text": [
      "True\n"
     ]
    }
   ],
   "source": [
    "# issubset(other)\n",
    "\n",
    "set1 = {1, 2, 3}\n",
    "set2 = {1, 2, 3, 4, 5}\n",
    "print(set1.issubset(set2))  # 출력: True"
   ]
  },
  {
   "cell_type": "code",
   "execution_count": 21,
   "id": "8b96cae1",
   "metadata": {},
   "outputs": [
    {
     "name": "stdout",
     "output_type": "stream",
     "text": [
      "True\n"
     ]
    }
   ],
   "source": [
    "# issuperset(other)\n",
    "\n",
    "set1 = {1, 2, 3, 4, 5}\n",
    "set2 = {1, 2, 3}\n",
    "print(set1.issuperset(set2))  # 출력: True"
   ]
  },
  {
   "cell_type": "code",
   "execution_count": 22,
   "id": "b19a7705",
   "metadata": {},
   "outputs": [
    {
     "name": "stdout",
     "output_type": "stream",
     "text": [
      "{1, 2, 5, 6}\n",
      "{1, 2, 5, 6}\n"
     ]
    }
   ],
   "source": [
    "# symmentric_difference(other)\n",
    "\n",
    "set1 = {1, 2, 3, 4}\n",
    "set2 = {3, 4, 5, 6}\n",
    "print(set1^set2)                        # 출력: {1, 2, 5, 6}\n",
    "print(set1.symmetric_difference(set2))  # 출력: {1, 2, 5, 6}"
   ]
  },
  {
   "cell_type": "code",
   "execution_count": 23,
   "id": "255aa579",
   "metadata": {},
   "outputs": [
    {
     "name": "stdout",
     "output_type": "stream",
     "text": [
      "{1, 2, 5, 6}\n",
      "{1, 2, 5, 6}\n"
     ]
    }
   ],
   "source": [
    "# symmetric_difference_update(other)\n",
    "\n",
    "set1 = {1, 2, 3, 4}\n",
    "set2 = {3, 4, 5, 6}\n",
    "print(set1^set2)                        # 출력: {1, 2, 5, 6}\n",
    "print(set1.symmetric_difference(set2))  # 출력: {1, 2, 5, 6}"
   ]
  }
 ],
 "metadata": {
  "kernelspec": {
   "display_name": "Python 3",
   "language": "python",
   "name": "python3"
  },
  "language_info": {
   "codemirror_mode": {
    "name": "ipython",
    "version": 3
   },
   "file_extension": ".py",
   "mimetype": "text/x-python",
   "name": "python",
   "nbconvert_exporter": "python",
   "pygments_lexer": "ipython3",
   "version": "3.13.5"
  }
 },
 "nbformat": 4,
 "nbformat_minor": 5
}
