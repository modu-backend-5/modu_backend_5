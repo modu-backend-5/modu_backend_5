{
 "cells": [
  {
   "cell_type": "code",
   "execution_count": null,
   "id": "aa5b9641",
   "metadata": {},
   "outputs": [],
   "source": [
    "# 딕셔너리"
   ]
  },
  {
   "cell_type": "code",
   "execution_count": null,
   "id": "81949acf",
   "metadata": {},
   "outputs": [
    {
     "name": "stdout",
     "output_type": "stream",
     "text": [
      "<class 'dict'>\n",
      "<class 'dict'>\n"
     ]
    }
   ],
   "source": [
    "# 빈 딕셔너리 생성\n",
    "d1 = {}\n",
    "d2 = dict()\n",
    "\n",
    "\n",
    "print(type(d1))  # 출력: <class 'dict'>\n",
    "print(type(d2))  # 출력: <class 'dict'>"
   ]
  },
  {
   "cell_type": "code",
   "execution_count": null,
   "id": "2b5e414c",
   "metadata": {},
   "outputs": [
    {
     "name": "stdout",
     "output_type": "stream",
     "text": [
      "{'one': '하나3'}\n"
     ]
    }
   ],
   "source": [
    "# 키는 중복될 수 없다.\n",
    "# 중복된 키로 값 할당하면 마지막으로 할당된 값만 유지됨.\n",
    "d = {'one' : '하나', 'one' : '하나2', 'one' : '하나3'}\n",
    "print(d)  # 출력: {'one' : '하나3'}"
   ]
  },
  {
   "cell_type": "code",
   "execution_count": null,
   "id": "2b857f0c",
   "metadata": {},
   "outputs": [
    {
     "name": "stdout",
     "output_type": "stream",
     "text": [
      "{'one': '하나', 'two': '둘'}\n"
     ]
    }
   ],
   "source": [
    "# 튜플 리스트로 생성\n",
    "\n",
    "d = dict([('one' , '하나'), ('two', '둘')])\n",
    "print(d)  # 출력: {'one' : '하나', 'two' : '둘'}"
   ]
  },
  {
   "cell_type": "code",
   "execution_count": 4,
   "id": "cf72cda8",
   "metadata": {},
   "outputs": [
    {
     "name": "stdout",
     "output_type": "stream",
     "text": [
      "{'name': 'licat', 'age': 10}\n"
     ]
    }
   ],
   "source": [
    "# 키워드 인자로 생성\n",
    "\n",
    "d = dict(name='licat', age=10)\n",
    "print(d)  # 출력: {'name': 'licat', 'age': 10}"
   ]
  },
  {
   "cell_type": "code",
   "execution_count": 5,
   "id": "5e55c344",
   "metadata": {},
   "outputs": [
    {
     "name": "stdout",
     "output_type": "stream",
     "text": [
      "[1, 2, 3]\n",
      "answer\n",
      "[10, 20]\n",
      "[100, 200]\n"
     ]
    }
   ],
   "source": [
    "# 딕셔너리에도 다양한 자료형을 값으로 사용할 수 있고, 키로는 문자열, 숫자, 튜플 등 불변의 자료형을 사용할 수 있다.\n",
    "\n",
    "complex_dict = {\n",
    "    \"numbers\": [1, 2, 3],\n",
    "    42: \"answer\",\n",
    "    (\"x\", \"y\"): [10, 20],\n",
    "    True: [100, 200]\n",
    "}\n",
    "print(complex_dict[\"numbers\"])  # 출력: [1, 2, 3]\n",
    "print(complex_dict[42])         # 출력: answer\n",
    "print(complex_dict[(\"x\", \"y\")]) # 출력: [10, 20]\n",
    "print(complex_dict[True])       # 출력: [10, 20]"
   ]
  },
  {
   "cell_type": "code",
   "execution_count": 6,
   "id": "72b4dd74",
   "metadata": {},
   "outputs": [
    {
     "name": "stdout",
     "output_type": "stream",
     "text": [
      "{'name': 'mura', 'city': 'Seoul'}\n"
     ]
    }
   ],
   "source": [
    "# 딕셔너리 수정 및 중첩\n",
    "# 딕셔너리 항목 변경 및 추가\n",
    "\n",
    "person = {'name': 'licat', 'city': 'Jeju'}\n",
    "person['name'] = 'mura'\n",
    "person['city'] = 'Seoul'\n",
    "\n",
    "\n",
    "print(person) # 출력: {'name': 'mura', 'city': 'Seoul'}"
   ]
  },
  {
   "cell_type": "code",
   "execution_count": 7,
   "id": "11bbe4ff",
   "metadata": {},
   "outputs": [
    {
     "name": "stdout",
     "output_type": "stream",
     "text": [
      "Developer\n"
     ]
    }
   ],
   "source": [
    "# 중첩된 딕셔너리\n",
    "\n",
    "users = {\n",
    "    \"leehojun\": {\"city\": \"Jeju\", \"job\": \"Developer\"},\n",
    "    \"licat\": {\"city\": \"Seoul\", \"job\": \"Designer\"}\n",
    "}\n",
    "print(users[\"leehojun\"][\"job\"]) # 출력: Developer"
   ]
  },
  {
   "cell_type": "code",
   "execution_count": null,
   "id": "8bc4c51b",
   "metadata": {},
   "outputs": [
    {
     "name": "stdout",
     "output_type": "stream",
     "text": [
      "{'name': 'licat', 'city': 'Jeju', 'job': 'Developer'}\n"
     ]
    }
   ],
   "source": [
    "# zip 함수와 dict를 사용한 딕셔너리 생성\n",
    "# zip은 두 리스트를 서로 짟짓는 함수\n",
    "keys = [\"name\", \"city\", \"job\"]\n",
    "values = [\"licat\", \"Jeju\", \"Developer\"]\n",
    "\n",
    "\n",
    "new_dict = dict(zip(keys, values))\n",
    "print(new_dict)"
   ]
  },
  {
   "cell_type": "code",
   "execution_count": null,
   "id": "cfa57b7f",
   "metadata": {},
   "outputs": [
    {
     "name": "stdout",
     "output_type": "stream",
     "text": [
      "['__class__', '__class_getitem__', '__contains__', '__delattr__', '__delitem__', '__dir__', '__doc__', '__eq__', '__format__', '__ge__', '__getattribute__', '__getitem__', '__getstate__', '__gt__', '__hash__', '__init__', '__init_subclass__', '__ior__', '__iter__', '__le__', '__len__', '__lt__', '__ne__', '__new__', '__or__', '__reduce__', '__reduce_ex__', '__repr__', '__reversed__', '__ror__', '__setattr__', '__setitem__', '__sizeof__', '__str__', '__subclasshook__', 'clear', 'copy', 'fromkeys', 'get', 'items', 'keys', 'pop', 'popitem', 'setdefault', 'update', 'values']\n"
     ]
    }
   ],
   "source": [
    "# 딕셔너리의 메서드\n",
    "print(dir(dict))"
   ]
  },
  {
   "cell_type": "code",
   "execution_count": 10,
   "id": "dde02682",
   "metadata": {},
   "outputs": [
    {
     "name": "stdout",
     "output_type": "stream",
     "text": [
      "{}\n"
     ]
    }
   ],
   "source": [
    "# clear\n",
    "data = {'name': 'licat', 'city': 'Jeju', 'job': 'Developer'}\n",
    "data.clear()\n",
    "print(data)"
   ]
  },
  {
   "cell_type": "code",
   "execution_count": 11,
   "id": "7941420d",
   "metadata": {},
   "outputs": [
    {
     "name": "stdout",
     "output_type": "stream",
     "text": [
      "{'name': 'licat', 'city': 'Jeju', 'job': 'Developer'}\n"
     ]
    }
   ],
   "source": [
    "# copy\n",
    "person = {'name': 'licat', 'city': 'Jeju', 'job': 'Developer'}\n",
    "copied_person = person.copy()\n",
    "print(copied_person)"
   ]
  },
  {
   "cell_type": "code",
   "execution_count": 12,
   "id": "e4135f6e",
   "metadata": {},
   "outputs": [
    {
     "name": "stdout",
     "output_type": "stream",
     "text": [
      "{'name': None, 'city': None, 'job': None}\n"
     ]
    }
   ],
   "source": [
    "# fromkeys\n",
    "# 시퀀스 자료형을 기반으로 딕셔너리 생성\n",
    "\n",
    "keys = ['name', 'city', 'job']\n",
    "# keys = 'hello' # 이렇게 이터러블한 객체는 모두 가능합니다.\n",
    "value = None\n",
    "print(dict.fromkeys(keys, value))"
   ]
  },
  {
   "cell_type": "code",
   "execution_count": 13,
   "id": "92342b4c",
   "metadata": {},
   "outputs": [
    {
     "name": "stdout",
     "output_type": "stream",
     "text": [
      "{'name': ['licat', 'Jeju', 'Developer'], 'city': ['licat', 'Jeju', 'Developer'], 'job': ['licat', 'Jeju', 'Developer']}\n"
     ]
    }
   ],
   "source": [
    "keys = ['name', 'city', 'job']\n",
    "value = ['licat', 'Jeju', 'Developer']\n",
    "print(dict.fromkeys(keys, value))"
   ]
  },
  {
   "cell_type": "code",
   "execution_count": 14,
   "id": "8dc8222c",
   "metadata": {},
   "outputs": [
    {
     "name": "stdout",
     "output_type": "stream",
     "text": [
      "None\n",
      "셋\n",
      "없음\n"
     ]
    },
    {
     "ename": "KeyError",
     "evalue": "'four'",
     "output_type": "error",
     "traceback": [
      "\u001b[31m---------------------------------------------------------------------------\u001b[39m",
      "\u001b[31mKeyError\u001b[39m                                  Traceback (most recent call last)",
      "\u001b[36mCell\u001b[39m\u001b[36m \u001b[39m\u001b[32mIn[14]\u001b[39m\u001b[32m, line 9\u001b[39m\n\u001b[32m      7\u001b[39m \u001b[38;5;28mprint\u001b[39m(numbers.get(\u001b[33m'\u001b[39m\u001b[33mthree\u001b[39m\u001b[33m'\u001b[39m, \u001b[33m'\u001b[39m\u001b[33m없음\u001b[39m\u001b[33m'\u001b[39m))\n\u001b[32m      8\u001b[39m \u001b[38;5;28mprint\u001b[39m(numbers.get(\u001b[33m'\u001b[39m\u001b[33mfour\u001b[39m\u001b[33m'\u001b[39m, \u001b[33m'\u001b[39m\u001b[33m없음\u001b[39m\u001b[33m'\u001b[39m))\n\u001b[32m----> \u001b[39m\u001b[32m9\u001b[39m \u001b[38;5;28mprint\u001b[39m(\u001b[43mnumbers\u001b[49m\u001b[43m[\u001b[49m\u001b[33;43m'\u001b[39;49m\u001b[33;43mfour\u001b[39;49m\u001b[33;43m'\u001b[39;49m\u001b[43m]\u001b[49m)\n",
      "\u001b[31mKeyError\u001b[39m: 'four'"
     ]
    }
   ],
   "source": [
    "# get\n",
    "# 딕셔너리에서 에러 없이 값을 추출하기 위한 함수.\n",
    "# 해당 키가 없을 경우 None을 반환하지만, 두번째 인자에 값을 넣어 기본값을 반환할 수 있음.\n",
    "\n",
    "numbers = {'one': '하나', 'two': '둘', 'three': '셋'}\n",
    "print(numbers.get('four'))\n",
    "print(numbers.get('three', '없음'))\n",
    "print(numbers.get('four', '없음'))\n",
    "print(numbers['four'])"
   ]
  },
  {
   "cell_type": "code",
   "execution_count": 15,
   "id": "bb51e363",
   "metadata": {},
   "outputs": [
    {
     "data": {
      "text/plain": [
       "'수요일'"
      ]
     },
     "execution_count": 15,
     "metadata": {},
     "output_type": "execute_result"
    }
   ],
   "source": [
    "def 요일변경(n):\n",
    "    return {\n",
    "        1: '월요일',\n",
    "        2: '화요일',\n",
    "        3: '수요일',\n",
    "        4: '목요일',\n",
    "        5: '금요일',\n",
    "        6: '토요일',\n",
    "        7: '일요일',\n",
    "    }[n]\n",
    " \n",
    "요일변경(3) # 출력: 수요일\n",
    "# 요일변경(8) # error"
   ]
  },
  {
   "cell_type": "code",
   "execution_count": 16,
   "id": "76825af8",
   "metadata": {},
   "outputs": [
    {
     "name": "stdout",
     "output_type": "stream",
     "text": [
      "dict_items([('name', 'licat'), ('city', 'Jeju'), ('job', 'Developer')])\n"
     ]
    }
   ],
   "source": [
    "# items\n",
    "# 딕셔너리의 키와 값 쌍 추출\n",
    "\n",
    "person = {'name': 'licat', 'city': 'Jeju', 'job': 'Developer'}\n",
    "print(person.items())"
   ]
  },
  {
   "cell_type": "code",
   "execution_count": 18,
   "id": "6ccc0427",
   "metadata": {},
   "outputs": [
    {
     "name": "stdout",
     "output_type": "stream",
     "text": [
      "True\n",
      "False\n"
     ]
    }
   ],
   "source": [
    "numbers = {'one': '하나', 'two': '둘', 'three': '셋'}\n",
    "print('one' in numbers)\n",
    "print('four' in numbers)"
   ]
  },
  {
   "cell_type": "code",
   "execution_count": 19,
   "id": "7816dd53",
   "metadata": {},
   "outputs": [
    {
     "name": "stdout",
     "output_type": "stream",
     "text": [
      "dict_keys(['name', 'city', 'job'])\n"
     ]
    }
   ],
   "source": [
    "# keys\n",
    "\n",
    "person = {'name': 'licat', 'city': 'Jeju', 'job': 'Developer'}\n",
    "print(person.keys())"
   ]
  },
  {
   "cell_type": "code",
   "execution_count": 20,
   "id": "0db4e140",
   "metadata": {},
   "outputs": [
    {
     "name": "stdout",
     "output_type": "stream",
     "text": [
      "하나\n",
      "{'two': '둘', 'three': '셋'}\n"
     ]
    }
   ],
   "source": [
    "# pop\n",
    "\n",
    "numbers = {'one': '하나', 'two': '둘', 'three': '셋'}\n",
    "one_value = numbers.pop('one')\n",
    "print(one_value)\n",
    "print(numbers)"
   ]
  },
  {
   "cell_type": "code",
   "execution_count": null,
   "id": "43befa36",
   "metadata": {},
   "outputs": [
    {
     "ename": "TypeError",
     "evalue": "pop expected at least 1 argument, got 0",
     "output_type": "error",
     "traceback": [
      "\u001b[31m---------------------------------------------------------------------------\u001b[39m",
      "\u001b[31mTypeError\u001b[39m                                 Traceback (most recent call last)",
      "\u001b[36mCell\u001b[39m\u001b[36m \u001b[39m\u001b[32mIn[21]\u001b[39m\u001b[32m, line 2\u001b[39m\n\u001b[32m      1\u001b[39m numbers = {\u001b[33m'\u001b[39m\u001b[33mone\u001b[39m\u001b[33m'\u001b[39m: \u001b[33m'\u001b[39m\u001b[33m하나\u001b[39m\u001b[33m'\u001b[39m, \u001b[33m'\u001b[39m\u001b[33mtwo\u001b[39m\u001b[33m'\u001b[39m: \u001b[33m'\u001b[39m\u001b[33m둘\u001b[39m\u001b[33m'\u001b[39m, \u001b[33m'\u001b[39m\u001b[33mthree\u001b[39m\u001b[33m'\u001b[39m: \u001b[33m'\u001b[39m\u001b[33m셋\u001b[39m\u001b[33m'\u001b[39m}\n\u001b[32m----> \u001b[39m\u001b[32m2\u001b[39m \u001b[43mnumbers\u001b[49m\u001b[43m.\u001b[49m\u001b[43mpop\u001b[49m\u001b[43m(\u001b[49m\u001b[43m)\u001b[49m \u001b[38;5;66;03m# error\u001b[39;00m\n\u001b[32m      3\u001b[39m numbers\n",
      "\u001b[31mTypeError\u001b[39m: pop expected at least 1 argument, got 0"
     ]
    }
   ],
   "source": [
    "# 아무것도 없는 값을 pop하면 error 출력\n",
    "\n",
    "numbers = {'one': '하나', 'two': '둘', 'three': '셋'}\n",
    "numbers.pop() # error\n",
    "numbers"
   ]
  },
  {
   "cell_type": "code",
   "execution_count": 22,
   "id": "9ab65ccd",
   "metadata": {},
   "outputs": [
    {
     "name": "stdout",
     "output_type": "stream",
     "text": [
      "('three', '셋')\n",
      "{'one': '하나', 'two': '둘'}\n"
     ]
    }
   ],
   "source": [
    "# popitem\n",
    "# 딕셔너리의 마지막 키-값 쌍 반환하고, 그 항목을 삭제함\n",
    "\n",
    "numbers = {'one': '하나', 'two': '둘', 'three': '셋'}\n",
    "item = numbers.popitem()\n",
    "print(item)\n",
    "print(numbers)"
   ]
  },
  {
   "cell_type": "code",
   "execution_count": null,
   "id": "1b5f85c5",
   "metadata": {},
   "outputs": [
    {
     "name": "stdout",
     "output_type": "stream",
     "text": [
      "넷\n",
      "{'one': '하나', 'two': '둘', 'three': '셋', 'four': '넷'}\n"
     ]
    }
   ],
   "source": [
    "# setdefault\n",
    "# 주어진 키에 대한 값을 반환. 키가 없으면 기본값을 설정하고 반환\n",
    "numbers = {'one': '하나', 'two': '둘', 'three': '셋'}\n",
    "four_value = numbers.setdefault(\"four\", \"넷\")   # 키가 없으므로 기본값을 설정\n",
    "print(four_value)\n",
    "print(numbers)"
   ]
  },
  {
   "cell_type": "code",
   "execution_count": null,
   "id": "b8737bf9",
   "metadata": {},
   "outputs": [
    {
     "name": "stdout",
     "output_type": "stream",
     "text": [
      "{'one': '하나', 'two': '둘', 'three': '셋', 'four': '넷', 'five': '다섯'}\n"
     ]
    }
   ],
   "source": [
    "# update\n",
    "# 기존 딕셔너리에 추가 데이터를 병합\n",
    "numbers = {'one': '하나', 'two': '둘', 'three': '셋'}\n",
    "numbers.update({'four': '넷', 'five': '다섯'})\n",
    "print(numbers)"
   ]
  },
  {
   "cell_type": "code",
   "execution_count": null,
   "id": "c96643d9",
   "metadata": {},
   "outputs": [
    {
     "name": "stdout",
     "output_type": "stream",
     "text": [
      "dict_values(['licat', 'Jeju', 'Developer'])\n"
     ]
    }
   ],
   "source": [
    "# values\n",
    "# 딕셔너리에서 값들만 추출할 때 사용\n",
    "person = {'name': 'licat', 'city': 'Jeju', 'job': 'Developer'}\n",
    "print(person.values())"
   ]
  }
 ],
 "metadata": {
  "kernelspec": {
   "display_name": "Python 3",
   "language": "python",
   "name": "python3"
  },
  "language_info": {
   "codemirror_mode": {
    "name": "ipython",
    "version": 3
   },
   "file_extension": ".py",
   "mimetype": "text/x-python",
   "name": "python",
   "nbconvert_exporter": "python",
   "pygments_lexer": "ipython3",
   "version": "3.13.5"
  }
 },
 "nbformat": 4,
 "nbformat_minor": 5
}
