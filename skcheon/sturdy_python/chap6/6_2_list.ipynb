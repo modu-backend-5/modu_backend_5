{
 "cells": [
  {
   "cell_type": "code",
   "execution_count": null,
   "id": "d78d3e43",
   "metadata": {},
   "outputs": [],
   "source": [
    "# 리스트"
   ]
  },
  {
   "cell_type": "code",
   "execution_count": 1,
   "id": "b7c200d4",
   "metadata": {},
   "outputs": [
    {
     "name": "stdout",
     "output_type": "stream",
     "text": [
      "1\n"
     ]
    }
   ],
   "source": [
    "# 리스트 안에 여러 종류의 데이터를 혼합하여 저장 가능\n",
    "z = [1, 'apple', 2.5, ['a', 'b'], (1, 2)]\n",
    "print(z[0])"
   ]
  },
  {
   "cell_type": "code",
   "execution_count": 2,
   "id": "b6c19a7d",
   "metadata": {},
   "outputs": [
    {
     "name": "stdout",
     "output_type": "stream",
     "text": [
      "l\n"
     ]
    },
    {
     "ename": "TypeError",
     "evalue": "'str' object does not support item assignment",
     "output_type": "error",
     "traceback": [
      "\u001b[31m---------------------------------------------------------------------------\u001b[39m",
      "\u001b[31mTypeError\u001b[39m                                 Traceback (most recent call last)",
      "\u001b[36mCell\u001b[39m\u001b[36m \u001b[39m\u001b[32mIn[2]\u001b[39m\u001b[32m, line 5\u001b[39m\n\u001b[32m      3\u001b[39m s = \u001b[33m'\u001b[39m\u001b[33mlicat\u001b[39m\u001b[33m'\u001b[39m\n\u001b[32m      4\u001b[39m \u001b[38;5;28mprint\u001b[39m(s[\u001b[32m0\u001b[39m])\n\u001b[32m----> \u001b[39m\u001b[32m5\u001b[39m \u001b[43ms\u001b[49m\u001b[43m[\u001b[49m\u001b[32;43m0\u001b[39;49m\u001b[43m]\u001b[49m = \u001b[33m'\u001b[39m\u001b[33mk\u001b[39m\u001b[33m'\u001b[39m\n",
      "\u001b[31mTypeError\u001b[39m: 'str' object does not support item assignment"
     ]
    }
   ],
   "source": [
    "# 문자열은 불변.\n",
    "\n",
    "s = 'licat'\n",
    "print(s[0])\n",
    "s[0] = 'k'"
   ]
  },
  {
   "cell_type": "code",
   "execution_count": 3,
   "id": "089055fc",
   "metadata": {},
   "outputs": [
    {
     "name": "stdout",
     "output_type": "stream",
     "text": [
      "[1, 2, 3, 4, 5, 6, 7, 8]\n"
     ]
    }
   ],
   "source": [
    "# 리스트 연산\n",
    "\n",
    "a = [1, 2, 3, 4, 5]\n",
    "b = [6, 7, 8]\n",
    "\n",
    "\n",
    "print(a + b) # 출력: [1, 2, 3, 4, 5, 6, 7, 8]"
   ]
  },
  {
   "cell_type": "code",
   "execution_count": 4,
   "id": "6414e2de",
   "metadata": {},
   "outputs": [
    {
     "name": "stdout",
     "output_type": "stream",
     "text": [
      "[1000, 2, 3, 1, 2, 3, 1, 2, 3]\n"
     ]
    }
   ],
   "source": [
    "a = [1, 2, 3]\n",
    "a = a * 3\n",
    "\n",
    "\n",
    "a[0] = 1000\n",
    "print(a)"
   ]
  },
  {
   "cell_type": "code",
   "execution_count": 5,
   "id": "43641b57",
   "metadata": {},
   "outputs": [
    {
     "name": "stdout",
     "output_type": "stream",
     "text": [
      "[[1, 2, 3, 1, 2, 3], [1, 2, 3, 1, 2, 3]]\n",
      "2433790458048 2433790458048\n",
      "[[10000, 2, 3, 1, 2, 3], [10000, 2, 3, 1, 2, 3]]\n"
     ]
    }
   ],
   "source": [
    "a = [1, 2, 3]\n",
    "a = [a * 2] * 2 # 리스트 컴프리헨션 사용하셔서 만드시는 것을 권합니다.\n",
    "\n",
    "\n",
    "print(a)\n",
    "print(id(a[0]), id(a[1]))\n",
    "a[0][0] = 10000\n",
    "print(a)"
   ]
  },
  {
   "cell_type": "code",
   "execution_count": 7,
   "id": "9a4b319c",
   "metadata": {},
   "outputs": [
    {
     "data": {
      "text/plain": [
       "(2433790687872, 2433790458048)"
      ]
     },
     "execution_count": 7,
     "metadata": {},
     "output_type": "execute_result"
    }
   ],
   "source": [
    "a = [[1,2,3,4,5,6] for _ in range(2)]\n",
    "id(a)\n",
    "id(a[0]), id(a[1])"
   ]
  },
  {
   "cell_type": "code",
   "execution_count": 8,
   "id": "dfb1cb3f",
   "metadata": {},
   "outputs": [
    {
     "name": "stdout",
     "output_type": "stream",
     "text": [
      "1\n",
      "4\n",
      "5\n",
      "3\n"
     ]
    }
   ],
   "source": [
    "# 리스트 인덱싱\n",
    "\n",
    "l = [1, 2, 3, 4, 5]\n",
    "print(l[0]) # 출력: 1\n",
    "print(l[3]) # 출력: 4\n",
    "print(l[-1]) # 출력: 5\n",
    "print(l[-3]) # 출력: 3"
   ]
  },
  {
   "cell_type": "code",
   "execution_count": null,
   "id": "b7f7ba30",
   "metadata": {},
   "outputs": [
    {
     "name": "stdout",
     "output_type": "stream",
     "text": [
      "[2, 3, 4]\n"
     ]
    }
   ],
   "source": [
    "# 리스트 슬라이싱\n",
    "# 리스트의 슬라이싱은 에러가 발생하지 않는다.\n",
    "l = [1, 2, 3, 4, 5]\n",
    "print(l[1:4]) # 출력: [2, 3, 4]"
   ]
  },
  {
   "cell_type": "code",
   "execution_count": null,
   "id": "c6ff81da",
   "metadata": {},
   "outputs": [
    {
     "name": "stdout",
     "output_type": "stream",
     "text": [
      "[1, 2, 3, 4, 5]\n",
      "[5, 4, 3, 2, 1]\n",
      "[1, 3, 5]\n",
      "[4, 3, 2, 1]\n"
     ]
    }
   ],
   "source": [
    "l = [1, 2, 3, 4, 5]\n",
    "print(l[:])     # 출력: [1, 2, 3, 4, 5]\n",
    "print(l[::-1])  # 출력: [5, 4, 3, 2, 1]\n",
    "print(l[::2])   # 출력: [1, 3, 5]\n",
    "print(l[0:4][::-1]) # 출력: [3, 2, 1] -> 처음부터 네번째 인덱스까지로 만든 리스트. 이 리스트를 다시 역순으로"
   ]
  },
  {
   "cell_type": "code",
   "execution_count": null,
   "id": "a49c487e",
   "metadata": {},
   "outputs": [],
   "source": [
    "# 리스트의 구조와 특징\n",
    "\n",
    "# 메모리 구조"
   ]
  },
  {
   "cell_type": "code",
   "execution_count": 11,
   "id": "1d943f3f",
   "metadata": {},
   "outputs": [
    {
     "name": "stdout",
     "output_type": "stream",
     "text": [
      "[1, 2, 3]\n",
      "[10000, 2, 3]\n"
     ]
    }
   ],
   "source": [
    "# copy()\n",
    "# 리스트의 얕은 복사를 생성. 즉 동일한 값을 가진 새로운 리스트를 반환함.\n",
    "\n",
    "a = [1, 2, 3]\n",
    "b = a.copy()\n",
    "b[0] = 10000\n",
    "print(a)  # 출력: [1, 2, 3]\n",
    "print(b)  # 출력: [10000, 2, 3]"
   ]
  },
  {
   "cell_type": "code",
   "execution_count": 12,
   "id": "a7275a47",
   "metadata": {},
   "outputs": [
    {
     "name": "stdout",
     "output_type": "stream",
     "text": [
      "[10000, 2, 3]\n",
      "[10000, 2, 3]\n"
     ]
    }
   ],
   "source": [
    "a = [1, 2, 3]\n",
    "b = a\n",
    "b[0] = 10000\n",
    "print(a)  # 출력: [10000, 2, 3]\n",
    "print(b)  # 출력: [10000, 2, 3]"
   ]
  },
  {
   "cell_type": "code",
   "execution_count": 13,
   "id": "b682ae2c",
   "metadata": {},
   "outputs": [
    {
     "name": "stdout",
     "output_type": "stream",
     "text": [
      "2433790450368 2433790457664\n",
      "[1000, 20, 30] [10, 20, 30]\n"
     ]
    }
   ],
   "source": [
    "# 슬라이싱으로 copy를 사용한 것과 같은 효과\n",
    "\n",
    "l = [10, 20, 30]\n",
    "ll = l[:]\n",
    "print(id(ll), id(l))\n",
    "l[0] = 1000\n",
    "print(l, ll) # 출력: [1000, 20, 30] [10, 20, 30]"
   ]
  },
  {
   "cell_type": "code",
   "execution_count": 14,
   "id": "b1325a57",
   "metadata": {},
   "outputs": [
    {
     "name": "stdout",
     "output_type": "stream",
     "text": [
      "3\n"
     ]
    }
   ],
   "source": [
    "# count()\n",
    "# 특정 값이 리스트에 몇 번 포함되어 있는지 카운트\n",
    "\n",
    "a = [1, 1, 2, 3, 1]\n",
    "print(a.count(1))  # 출력: 3"
   ]
  },
  {
   "cell_type": "code",
   "execution_count": null,
   "id": "48c29f06",
   "metadata": {},
   "outputs": [
    {
     "name": "stdout",
     "output_type": "stream",
     "text": [
      "[1, 2, 3, 4, 5, 6]\n"
     ]
    }
   ],
   "source": [
    "# extend()\n",
    "# 리스트에 다른 리스트나 순회 가능한 항목들을 추가\n",
    "\n",
    "a = [1, 2, 3]\n",
    "a.extend([4, 5, 6])\n",
    "print(a)  # 출력: [1, 2, 3, 4, 5, 6]"
   ]
  },
  {
   "cell_type": "code",
   "execution_count": 16,
   "id": "4804b50f",
   "metadata": {},
   "outputs": [
    {
     "data": {
      "text/plain": [
       "[10, 20, 30, 'h', 'e', 'l', 'l', 'o']"
      ]
     },
     "execution_count": 16,
     "metadata": {},
     "output_type": "execute_result"
    }
   ],
   "source": [
    "l = [10, 20, 30]\n",
    "l.extend('hello')\n",
    "l # 출력: [10, 20, 30, 'h', 'e', 'l', 'l', 'o']"
   ]
  },
  {
   "cell_type": "code",
   "execution_count": 17,
   "id": "47062b01",
   "metadata": {},
   "outputs": [
    {
     "data": {
      "text/plain": [
       "[10, 20, 30, 40, 50, 60]"
      ]
     },
     "execution_count": 17,
     "metadata": {},
     "output_type": "execute_result"
    }
   ],
   "source": [
    "l = [10, 20, 30]\n",
    "ll = ['40', '50', '60']\n",
    "l.extend(map(int, ll))\n",
    "l # 출력: [10, 20, 30, 40, 50, 60]"
   ]
  },
  {
   "cell_type": "code",
   "execution_count": 18,
   "id": "26d0cd60",
   "metadata": {},
   "outputs": [
    {
     "name": "stdout",
     "output_type": "stream",
     "text": [
      "2\n"
     ]
    }
   ],
   "source": [
    "# index()\n",
    "# 주어진 값을 찾아 해당 값의 위치(인덱스)를 찾아 반환. 없는 값이면 에러 발생\n",
    "\n",
    "a = [10, 20, 30, 40]\n",
    "print(a.index(30))  # 출력: 2"
   ]
  },
  {
   "cell_type": "code",
   "execution_count": 19,
   "id": "1105d081",
   "metadata": {},
   "outputs": [
    {
     "name": "stdout",
     "output_type": "stream",
     "text": [
      "[10, 20, 25, 30, 40]\n"
     ]
    }
   ],
   "source": [
    "# insert()\n",
    "# 주어진 위치에 값을 삽입\n",
    "\n",
    "a.insert(2, 25)\n",
    "print(a)  # 출력: [10, 20, 25, 30, 40]"
   ]
  },
  {
   "cell_type": "code",
   "execution_count": null,
   "id": "ba13cfc0",
   "metadata": {},
   "outputs": [
    {
     "name": "stdout",
     "output_type": "stream",
     "text": [
      "30\n",
      "[10, 20, 40]\n"
     ]
    }
   ],
   "source": [
    "# pop()\n",
    "# 리스트의 특정 위치에 있는 값을 반환하고 해당 값을 리스트에서 삭제\n",
    "\n",
    "print(a.pop(2))  # 출력: 25\n",
    "print(a)  # 출력: [10, 20, 30, 40]"
   ]
  },
  {
   "cell_type": "code",
   "execution_count": 24,
   "id": "534bede8",
   "metadata": {},
   "outputs": [
    {
     "name": "stdout",
     "output_type": "stream",
     "text": [
      "30\n",
      "[10, 20]\n"
     ]
    }
   ],
   "source": [
    "# 값을 넣지 않을 경우 마지막에서 값을 뺌\n",
    "\n",
    "# 마지막에서 빼는 것\n",
    "l = [10, 20, 30]\n",
    "print(l.pop())\n",
    "print(l)"
   ]
  },
  {
   "cell_type": "code",
   "execution_count": 26,
   "id": "e3708010",
   "metadata": {},
   "outputs": [
    {
     "name": "stdout",
     "output_type": "stream",
     "text": [
      "5\n",
      "4\n",
      "3\n",
      "2\n",
      "1\n"
     ]
    }
   ],
   "source": [
    "l = [1, 2, 3, 4, 5]\n",
    "\n",
    "\n",
    "while l:\n",
    "    print(l.pop()) # 5, 4, 3, 2, 1"
   ]
  },
  {
   "cell_type": "code",
   "execution_count": 27,
   "id": "7cbbe0af",
   "metadata": {},
   "outputs": [
    {
     "name": "stdout",
     "output_type": "stream",
     "text": [
      "1\n",
      "2\n",
      "3\n",
      "4\n",
      "5\n"
     ]
    }
   ],
   "source": [
    "l = [1, 2, 3, 4, 5]\n",
    " \n",
    "while l:\n",
    "    print(l.pop(0)) # 1, 2, 3, 4, 5"
   ]
  },
  {
   "cell_type": "code",
   "execution_count": 28,
   "id": "8791bf59",
   "metadata": {},
   "outputs": [
    {
     "name": "stdout",
     "output_type": "stream",
     "text": [
      "[1, 3, 1, 2]\n"
     ]
    }
   ],
   "source": [
    "# remove()\n",
    "# 리스트에서 첫 번째로 발견되는 주어진 값을 삭제\n",
    "\n",
    "a = [1, 2, 3, 1, 2]\n",
    "a.remove(2)\n",
    "print(a)  # 출력: [1, 3, 1, 2]"
   ]
  },
  {
   "cell_type": "code",
   "execution_count": 29,
   "id": "59f56768",
   "metadata": {},
   "outputs": [
    {
     "data": {
      "text/plain": [
       "[1, 3, 1, 1, 1]"
      ]
     },
     "execution_count": 29,
     "metadata": {},
     "output_type": "execute_result"
    }
   ],
   "source": [
    "l = [1, 2, 3, 1, 2, 2, 2, 1, 1]\n",
    "while l.count(2):\n",
    "    l.remove(2)\n",
    "l"
   ]
  },
  {
   "cell_type": "code",
   "execution_count": 30,
   "id": "fcc4061d",
   "metadata": {},
   "outputs": [
    {
     "data": {
      "text/plain": [
       "[1, 3, 1, 1, 1]"
      ]
     },
     "execution_count": 30,
     "metadata": {},
     "output_type": "execute_result"
    }
   ],
   "source": [
    "l = [1, 2, 3, 1, 2, 2, 2, 1, 1]\n",
    "list(filter(lambda x: x != 2, l))"
   ]
  },
  {
   "cell_type": "code",
   "execution_count": 31,
   "id": "a19de4d6",
   "metadata": {},
   "outputs": [
    {
     "name": "stdout",
     "output_type": "stream",
     "text": [
      "[2, 1, 3, 1]\n"
     ]
    }
   ],
   "source": [
    "# reverse()\n",
    "# 리스트의 항목들의 순서를 뒤집음. 이 메서드는 원래의 메서드를 변경하고, 아무것도 반환하지 않음.\n",
    "\n",
    "a.reverse()\n",
    "print(a)  # 출력: [2, 1, 3, 1]"
   ]
  },
  {
   "cell_type": "code",
   "execution_count": 32,
   "id": "9ecb6415",
   "metadata": {},
   "outputs": [
    {
     "name": "stdout",
     "output_type": "stream",
     "text": [
      "[3, 2, 5, 1, 4]\n",
      "[4, 1, 5, 2, 3]\n"
     ]
    }
   ],
   "source": [
    "# reversed()\n",
    "# 역순으로 새로운 이터러블 객체를 반환. 원래의 리스트는 변경되지 않음.\n",
    "\n",
    "a = [3, 2, 5, 1, 4]\n",
    "b = reversed(a)\n",
    "print(a)        # 출력: [3, 2, 5, 1, 4]\n",
    "print(list(b))  # 출력: [4, 1, 5, 2, 3]"
   ]
  },
  {
   "cell_type": "code",
   "execution_count": 33,
   "id": "9a2b803e",
   "metadata": {},
   "outputs": [
    {
     "name": "stdout",
     "output_type": "stream",
     "text": [
      "[1, 2, 3, 4, 5]\n"
     ]
    }
   ],
   "source": [
    "# sort()\n",
    "# 리스트 자체를 정렬. 원래의 리스트를 변경하고, 아무것도 반환하지 않음.\n",
    "\n",
    "a = [3, 2, 5, 1, 4]\n",
    "a.sort()\n",
    "print(a)  # 출력: [1, 2, 3, 4, 5]"
   ]
  },
  {
   "cell_type": "code",
   "execution_count": 34,
   "id": "f6f36e11",
   "metadata": {},
   "outputs": [
    {
     "name": "stdout",
     "output_type": "stream",
     "text": [
      "[3, 2, 5, 1, 4]\n",
      "[1, 2, 3, 4, 5]\n"
     ]
    }
   ],
   "source": [
    "# sorted()\n",
    "# 새로운 리스트를 반환. 원래의 리스트는 변경되지 않음.\n",
    "\n",
    "a = [3, 2, 5, 1, 4]\n",
    "b = sorted(a)\n",
    "print(a)  # 출력: [3, 2, 5, 1, 4]\n",
    "print(b)  # 출력: [1, 2, 3, 4, 5]"
   ]
  }
 ],
 "metadata": {
  "kernelspec": {
   "display_name": "Python 3",
   "language": "python",
   "name": "python3"
  },
  "language_info": {
   "codemirror_mode": {
    "name": "ipython",
    "version": 3
   },
   "file_extension": ".py",
   "mimetype": "text/x-python",
   "name": "python",
   "nbconvert_exporter": "python",
   "pygments_lexer": "ipython3",
   "version": "3.13.5"
  }
 },
 "nbformat": 4,
 "nbformat_minor": 5
}
