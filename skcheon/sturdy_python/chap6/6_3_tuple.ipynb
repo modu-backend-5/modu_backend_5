{
 "cells": [
  {
   "cell_type": "code",
   "execution_count": null,
   "id": "d1d91a2c",
   "metadata": {},
   "outputs": [],
   "source": [
    "# 튜플"
   ]
  },
  {
   "cell_type": "code",
   "execution_count": 1,
   "id": "89ba10ac",
   "metadata": {},
   "outputs": [],
   "source": [
    "# 튜플 안에 다양한 타입의 데이터를 함께 저장 가능\n",
    "\n",
    "z = (1, 'apple', 2.5, ['a', 'b'], (1, 2))"
   ]
  },
  {
   "cell_type": "code",
   "execution_count": null,
   "id": "ed1c30bf",
   "metadata": {},
   "outputs": [],
   "source": [
    "# 변경가능한 자료형을 튜플과 같은 변경 불가능한 자료형 안에 넣는 것은 값의 변경이 이루어질 수 있으므로 좋은 선택이 아님."
   ]
  },
  {
   "cell_type": "code",
   "execution_count": 2,
   "id": "78b46541",
   "metadata": {},
   "outputs": [
    {
     "name": "stdout",
     "output_type": "stream",
     "text": [
      "<class 'tuple'>\n",
      "<class 'tuple'>\n",
      "<class 'int'>\n",
      "<class 'float'>\n"
     ]
    }
   ],
   "source": [
    "t1 = () # tuple\n",
    "t2 = (0,) # tuple 단일 값의 튜플을 사용할때 꼭 콤마를 넣어주세요!\n",
    "t3 = (0) # int\n",
    "t4 = (0.1) # float\n",
    "print(type(t1))\n",
    "print(type(t2))\n",
    "print(type(t3))\n",
    "print(type(t4))"
   ]
  },
  {
   "cell_type": "code",
   "execution_count": 3,
   "id": "0d5b99e3",
   "metadata": {},
   "outputs": [
    {
     "name": "stdout",
     "output_type": "stream",
     "text": [
      "(1, 2, 3, 4, 5, 6)\n"
     ]
    }
   ],
   "source": [
    "# 튜플의 연산\n",
    "\n",
    "tuple1 = (1, 2, 3)\n",
    "tuple2 = (4, 5, 6)\n",
    "tuple3 = tuple1 + tuple2\n",
    "print(tuple3)  # 출력: (1, 2, 3, 4, 5, 6)"
   ]
  },
  {
   "cell_type": "code",
   "execution_count": 4,
   "id": "fa1a96f9",
   "metadata": {},
   "outputs": [
    {
     "name": "stdout",
     "output_type": "stream",
     "text": [
      "(1, 2, 3, 1, 2, 3, 1, 2, 3)\n"
     ]
    }
   ],
   "source": [
    "tuple1 = (1, 2, 3)\n",
    "tuple2 = tuple1 * 3\n",
    "print(tuple2)  # 출력: (1, 2, 3, 1, 2, 3, 1, 2, 3)"
   ]
  },
  {
   "cell_type": "code",
   "execution_count": null,
   "id": "35380c9a",
   "metadata": {},
   "outputs": [
    {
     "name": "stdout",
     "output_type": "stream",
     "text": [
      "1\n"
     ]
    }
   ],
   "source": [
    "# 튜플 인덱싱\n",
    "\n",
    "t = (1, 2, 3, 4, 5)\n",
    "print(t[0])  # 출력: 1"
   ]
  },
  {
   "cell_type": "code",
   "execution_count": null,
   "id": "24ddddc1",
   "metadata": {},
   "outputs": [
    {
     "name": "stdout",
     "output_type": "stream",
     "text": [
      "(2, 3, 4)\n"
     ]
    }
   ],
   "source": [
    "# 튜플 슬라이싱\n",
    "\n",
    "t = (1, 2, 3, 4, 5)\n",
    "print(t[1:4])  # 출력: (2, 3, 4)"
   ]
  },
  {
   "cell_type": "code",
   "execution_count": 7,
   "id": "33c985a6",
   "metadata": {},
   "outputs": [
    {
     "name": "stdout",
     "output_type": "stream",
     "text": [
      "2\n"
     ]
    }
   ],
   "source": [
    "# count()\n",
    "\n",
    "tuple1 = (1, 2, 3, 4, 3, 5)\n",
    "print(tuple1.count(3))  # 출력: 2"
   ]
  },
  {
   "cell_type": "code",
   "execution_count": 8,
   "id": "b9081626",
   "metadata": {},
   "outputs": [
    {
     "name": "stdout",
     "output_type": "stream",
     "text": [
      "2\n"
     ]
    }
   ],
   "source": [
    "# index()\n",
    "\n",
    "tuple1 = (1, 2, 3, 4, 3, 5)\n",
    "print(tuple1.index(3))  # 출력: 2"
   ]
  }
 ],
 "metadata": {
  "kernelspec": {
   "display_name": "Python 3",
   "language": "python",
   "name": "python3"
  },
  "language_info": {
   "codemirror_mode": {
    "name": "ipython",
    "version": 3
   },
   "file_extension": ".py",
   "mimetype": "text/x-python",
   "name": "python",
   "nbconvert_exporter": "python",
   "pygments_lexer": "ipython3",
   "version": "3.13.5"
  }
 },
 "nbformat": 4,
 "nbformat_minor": 5
}
