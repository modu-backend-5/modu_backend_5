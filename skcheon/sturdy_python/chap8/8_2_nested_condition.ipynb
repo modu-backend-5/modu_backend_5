{
 "cells": [
  {
   "cell_type": "code",
   "execution_count": null,
   "id": "e55891a7",
   "metadata": {},
   "outputs": [],
   "source": [
    "# if, elif, else문과 중첩 조건문"
   ]
  },
  {
   "cell_type": "code",
   "execution_count": 1,
   "id": "7fd78d02",
   "metadata": {},
   "outputs": [
    {
     "name": "stdout",
     "output_type": "stream",
     "text": [
      "첫 번째 값이 더 큽니다.\n"
     ]
    }
   ],
   "source": [
    "# if-else\n",
    "\n",
    "x = 3\n",
    "y = 1\n",
    "\n",
    "\n",
    "if x > y:\n",
    "    print('첫 번째 값이 더 큽니다.')\n",
    "else:\n",
    "    print('두 번째 값이 더 크거나 같습니다.')"
   ]
  },
  {
   "cell_type": "code",
   "execution_count": 2,
   "id": "08e2cd2b",
   "metadata": {},
   "outputs": [
    {
     "name": "stdout",
     "output_type": "stream",
     "text": [
      "A\n"
     ]
    }
   ],
   "source": [
    "# if-elif-else\n",
    "\n",
    "score = int(input(\"성적을 입력하세요 (0-100): \"))\n",
    "\n",
    "\n",
    "if score >= 90:\n",
    "    print(\"A\")\n",
    "elif 90 > score >= 80:\n",
    "    print(\"B\")\n",
    "elif 80 > score >= 70:\n",
    "    print(\"C\")\n",
    "elif 70 > score >= 60:\n",
    "    print(\"D\")\n",
    "else:\n",
    "    print(\"F\")"
   ]
  },
  {
   "cell_type": "code",
   "execution_count": null,
   "id": "f3397d39",
   "metadata": {},
   "outputs": [],
   "source": [
    "# 위와 같은 코드\n",
    "score = int(input(\"성적을 입력하세요 (0-100): \"))\n",
    "\n",
    "\n",
    "if score >= 90:\n",
    "    print(\"A\")\n",
    "elif score >= 80:\n",
    "    print(\"B\")\n",
    "elif score >= 70:\n",
    "    print(\"C\")\n",
    "elif score >= 60:\n",
    "    print(\"D\")\n",
    "else:\n",
    "    print(\"F\")"
   ]
  },
  {
   "cell_type": "code",
   "execution_count": 3,
   "id": "43fee9f9",
   "metadata": {},
   "outputs": [
    {
     "name": "stdout",
     "output_type": "stream",
     "text": [
      "영화시청\n"
     ]
    }
   ],
   "source": [
    "# 중첩 if-elif문 사용하기\n",
    "\n",
    "# if를 중첩해서 사용하기\n",
    "movie = {\n",
    "    '영화': '레미제라블',\n",
    "    '장르': '드라마',\n",
    "    '서비스': '디즈니',\n",
    "    '비용': 15000,\n",
    "    '평점': 4.9\n",
    "}\n",
    "\n",
    "\n",
    "if movie['장르'] == '드라마':\n",
    "    if movie['서비스'] == '디즈니' or movie['서비스'] == '넷플릭스':\n",
    "        if movie['평점'] >= 4.5:\n",
    "            if movie['비용'] <= 20000:\n",
    "                print('영화시청') # 출력: 영화시청"
   ]
  },
  {
   "cell_type": "code",
   "execution_count": 6,
   "id": "efb91acf",
   "metadata": {},
   "outputs": [],
   "source": [
    "# 위와 같은 코드\n",
    "\n",
    "# if를 중첩해서 사용하기\n",
    "# 간략해진 것 맞나요?\n",
    "movie = {\n",
    "    '영화': '레미제라블',\n",
    "    '장르': '드라마',\n",
    "    '서비스': '디즈니',\n",
    "    '비용': 15000,\n",
    "    '평점': 4.9\n",
    "}\n",
    "\n",
    "\n",
    "if movie['장르'] == 'SF' and (movie['서비스'] == '디즈니' or movie['서비스'] == '넷플릭스') and movie['평점'] >= 4.5 and movie['비용'] <= 20000:\n",
    "    print('영화시청') # 출력: 영화시청"
   ]
  },
  {
   "cell_type": "code",
   "execution_count": 7,
   "id": "ae0e48db",
   "metadata": {},
   "outputs": [],
   "source": [
    "movie = {\n",
    "    '영화': '레미제라블',\n",
    "    '장르': '드라마',\n",
    "    '서비스': '왓챠',\n",
    "    '비용': 15000,\n",
    "    '평점': 4.9\n",
    "}\n",
    "\n",
    "\n",
    "if movie['장르'] == 'SF':\n",
    "    if movie['서비스'] == '디즈니' or movie['서비스'] == '넷플릭스':\n",
    "        if movie['평점'] >= 4.5 and movie['비용'] <= 20000:\n",
    "            print('영화시청')\n",
    "    else:\n",
    "        print(movie['서비스'] + ' 구독하기!') # 출력: 왓챠 구독하기!"
   ]
  }
 ],
 "metadata": {
  "kernelspec": {
   "display_name": "Python 3",
   "language": "python",
   "name": "python3"
  },
  "language_info": {
   "codemirror_mode": {
    "name": "ipython",
    "version": 3
   },
   "file_extension": ".py",
   "mimetype": "text/x-python",
   "name": "python",
   "nbconvert_exporter": "python",
   "pygments_lexer": "ipython3",
   "version": "3.13.5"
  }
 },
 "nbformat": 4,
 "nbformat_minor": 5
}
