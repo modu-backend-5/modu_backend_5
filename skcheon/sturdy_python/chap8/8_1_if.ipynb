{
 "cells": [
  {
   "cell_type": "code",
   "execution_count": null,
   "id": "b1fea9f4",
   "metadata": {},
   "outputs": [],
   "source": [
    "# if문"
   ]
  },
  {
   "cell_type": "code",
   "execution_count": 1,
   "id": "7be0f860",
   "metadata": {},
   "outputs": [
    {
     "name": "stdout",
     "output_type": "stream",
     "text": [
      "True\n"
     ]
    }
   ],
   "source": [
    "x = 2\n",
    "if x > 1:\n",
    "    print('True') # 출력: True"
   ]
  },
  {
   "cell_type": "code",
   "execution_count": 2,
   "id": "eb44f2d1",
   "metadata": {},
   "outputs": [
    {
     "name": "stdout",
     "output_type": "stream",
     "text": [
      "True\n"
     ]
    }
   ],
   "source": [
    "if True:\n",
    "    print('True') # 출력: True"
   ]
  },
  {
   "cell_type": "code",
   "execution_count": 3,
   "id": "3359c8cc",
   "metadata": {},
   "outputs": [
    {
     "name": "stdout",
     "output_type": "stream",
     "text": [
      "hello\n"
     ]
    }
   ],
   "source": [
    "# 참과 거짓으로 평가\n",
    "# 0이 아닌 값은 참으로 평가함\n",
    "\n",
    "if 1:\n",
    "    print('hello')"
   ]
  },
  {
   "cell_type": "code",
   "execution_count": 4,
   "id": "2bf48c1f",
   "metadata": {},
   "outputs": [
    {
     "name": "stdout",
     "output_type": "stream",
     "text": [
      "hello\n"
     ]
    }
   ],
   "source": [
    "if 10 and [1, 2, 3]: # True나 False가 아니라 단락평가에 의해 [1, 2, 3]\n",
    "    print('hello')"
   ]
  },
  {
   "cell_type": "code",
   "execution_count": 5,
   "id": "5d7d4457",
   "metadata": {},
   "outputs": [
    {
     "name": "stdout",
     "output_type": "stream",
     "text": [
      "hello\n",
      "end\n"
     ]
    }
   ],
   "source": [
    "if -1: # 정수를 바꿔서도 실습해보세요\n",
    "    print('hello')\n",
    "print('end')"
   ]
  },
  {
   "cell_type": "code",
   "execution_count": 6,
   "id": "903196d0",
   "metadata": {},
   "outputs": [
    {
     "name": "stdout",
     "output_type": "stream",
     "text": [
      "hello\n",
      "end\n",
      "end\n"
     ]
    }
   ],
   "source": [
    "# 공백은 기본적으로 False를 의미함.\n",
    "\n",
    "# 공백이 있는 문자열\n",
    "if ' ':\n",
    "    print('hello')\n",
    "print('end')\n",
    "\n",
    "\n",
    "# 공백이 없는 문자열\n",
    "if '':\n",
    "    print('hello')\n",
    "print('end')"
   ]
  },
  {
   "cell_type": "code",
   "execution_count": 7,
   "id": "4556c187",
   "metadata": {},
   "outputs": [
    {
     "name": "stdout",
     "output_type": "stream",
     "text": [
      "hello\n",
      "end\n",
      "end\n",
      "hello\n",
      "end\n"
     ]
    }
   ],
   "source": [
    "# None의 경우는 거짓으로 평가함\n",
    "\n",
    "if not '':\n",
    "    print('hello')\n",
    "print('end')\n",
    "\n",
    "\n",
    "if None: # None은 False로 처리됩니다.\n",
    "    print('hello')\n",
    "print('end')\n",
    "\n",
    "\n",
    "if not None:\n",
    "    print('hello')\n",
    "print('end')"
   ]
  },
  {
   "cell_type": "code",
   "execution_count": 8,
   "id": "f7c514a6",
   "metadata": {},
   "outputs": [
    {
     "name": "stdout",
     "output_type": "stream",
     "text": [
      "hello\n"
     ]
    }
   ],
   "source": [
    "# 성능에 영향을 끼칩니다!\n",
    "def f():\n",
    "    return True\n",
    "\n",
    "\n",
    "def ff():\n",
    "    x = 100 / 0 # error\n",
    "    return 'hello'\n",
    "\n",
    "\n",
    "if f() or ff():\n",
    "    print('hello') # 출력: hello"
   ]
  },
  {
   "cell_type": "code",
   "execution_count": 9,
   "id": "9c6bf51e",
   "metadata": {},
   "outputs": [
    {
     "name": "stdout",
     "output_type": "stream",
     "text": [
      "y와 같거나 y가 더 큽니다.\n"
     ]
    }
   ],
   "source": [
    "# 삼항 연산자\n",
    "\n",
    "x = 5\n",
    "y = 10\n",
    "result = 'x가 더 큽니다' if x > y else 'y와 같거나 y가 더 큽니다.'\n",
    "print(result) # 출력: 'y와 같거나 y가 더 큽니다.'"
   ]
  },
  {
   "cell_type": "code",
   "execution_count": 10,
   "id": "c6c95c3b",
   "metadata": {},
   "outputs": [
    {
     "data": {
      "text/plain": [
       "[0, 2, 4, 6, 8]"
      ]
     },
     "execution_count": 10,
     "metadata": {},
     "output_type": "execute_result"
    }
   ],
   "source": [
    "[i for i in range(10) if i % 2 == 0] # [0, 2, 4, 6, 8]\n",
    "# [i if i % 2 == 0 else None for i in range(10)] # [0, None, 2, None, 4, None, 6, None, 8, None]"
   ]
  },
  {
   "cell_type": "code",
   "execution_count": 11,
   "id": "8137c1ce",
   "metadata": {},
   "outputs": [
    {
     "name": "stdout",
     "output_type": "stream",
     "text": [
      "Odd\n",
      "Even\n"
     ]
    }
   ],
   "source": [
    "# 조건문과 람다 함수\n",
    "\n",
    "my_function = lambda x: 'Even' if x % 2 == 0 else 'Odd'\n",
    "print(my_function(1)) # Odd\n",
    "print(my_function(2)) # Even"
   ]
  },
  {
   "cell_type": "code",
   "execution_count": 12,
   "id": "1fdb2e4f",
   "metadata": {},
   "outputs": [
    {
     "name": "stdout",
     "output_type": "stream",
     "text": [
      "{0: 'Even', 1: 'Odd', 2: 'Even', 3: 'Odd', 4: 'Even', 5: 'Odd', 6: 'Even', 7: 'Odd', 8: 'Even', 9: 'Odd'}\n"
     ]
    }
   ],
   "source": [
    "# 조건문과 딕셔너리\n",
    "my_dict = {x: 'Even' if x % 2 == 0 else 'Odd' for x in range(10)}\n",
    "print(my_dict)"
   ]
  }
 ],
 "metadata": {
  "kernelspec": {
   "display_name": "Python 3",
   "language": "python",
   "name": "python3"
  },
  "language_info": {
   "codemirror_mode": {
    "name": "ipython",
    "version": 3
   },
   "file_extension": ".py",
   "mimetype": "text/x-python",
   "name": "python",
   "nbconvert_exporter": "python",
   "pygments_lexer": "ipython3",
   "version": "3.13.5"
  }
 },
 "nbformat": 4,
 "nbformat_minor": 5
}
