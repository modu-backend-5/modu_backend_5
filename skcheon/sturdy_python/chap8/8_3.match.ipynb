{
 "cells": [
  {
   "cell_type": "code",
   "execution_count": null,
   "id": "47166407",
   "metadata": {},
   "outputs": [],
   "source": [
    "# match문"
   ]
  },
  {
   "cell_type": "code",
   "execution_count": 1,
   "id": "f0d4999b",
   "metadata": {},
   "outputs": [
    {
     "name": "stdout",
     "output_type": "stream",
     "text": [
      "No Match\n"
     ]
    }
   ],
   "source": [
    "text = 'Hello World'\n",
    "match text:\n",
    "    case 'Hello':\n",
    "        print('Hello')\n",
    "    case 'World':\n",
    "        print('World')\n",
    "    case _:\n",
    "        print('No Match') # 결과 'No Match'"
   ]
  },
  {
   "cell_type": "code",
   "execution_count": 2,
   "id": "a3700c49",
   "metadata": {},
   "outputs": [
    {
     "ename": "IndentationError",
     "evalue": "expected an indented block after 'case' statement on line 3 (554747096.py, line 4)",
     "output_type": "error",
     "traceback": [
      "  \u001b[36mCell\u001b[39m\u001b[36m \u001b[39m\u001b[32mIn[2]\u001b[39m\u001b[32m, line 4\u001b[39m\n\u001b[31m    \u001b[39m\u001b[31mcase '2':\u001b[39m\n    ^\n\u001b[31mIndentationError\u001b[39m\u001b[31m:\u001b[39m expected an indented block after 'case' statement on line 3\n"
     ]
    }
   ],
   "source": [
    "text = '1'\n",
    "match text:\n",
    "    case '1':\n",
    "    case '2':\n",
    "        print('1, 2')\n",
    "    case _:\n",
    "        print('No Match')"
   ]
  },
  {
   "cell_type": "code",
   "execution_count": 3,
   "id": "09a9b8bf",
   "metadata": {},
   "outputs": [
    {
     "name": "stdout",
     "output_type": "stream",
     "text": [
      "1, 2\n"
     ]
    }
   ],
   "source": [
    "text = '1'\n",
    "match text:\n",
    "    case '1' | '2':\n",
    "        print('1, 2')\n",
    "    case _:\n",
    "        print('No Match')"
   ]
  },
  {
   "cell_type": "code",
   "execution_count": 4,
   "id": "f31130dd",
   "metadata": {},
   "outputs": [
    {
     "name": "stdout",
     "output_type": "stream",
     "text": [
      "One\n",
      "Two\n",
      "Three or Four\n",
      "Three or Four\n",
      "Other\n",
      "Greater than ten\n"
     ]
    }
   ],
   "source": [
    "def test(i):\n",
    "    match i:\n",
    "        case 1:\n",
    "            print('One')\n",
    "        case 2:\n",
    "            print('Two')\n",
    "        case 3 | 4:\n",
    "            print('Three or Four')\n",
    "        case _ if i > 10:\n",
    "            print('Greater than ten')\n",
    "        case _:\n",
    "            print('Other')\n",
    "\n",
    "\n",
    "test(1) # 출력: One\n",
    "test(2) # 출력: Two\n",
    "test(3) # 출력: Three or Four\n",
    "test(4) # 출력: Three or Four\n",
    "test(5) # 출력: Other\n",
    "test(15) # 출력: Greater than ten"
   ]
  },
  {
   "cell_type": "code",
   "execution_count": 5,
   "id": "c954cf29",
   "metadata": {},
   "outputs": [
    {
     "name": "stdout",
     "output_type": "stream",
     "text": [
      "Integer\n",
      "String\n",
      "Float\n",
      "Integer\n",
      "String\n",
      "Float\n"
     ]
    }
   ],
   "source": [
    "def test(i):\n",
    "    match i:\n",
    "        case i if type(i) == int:\n",
    "            print('Integer')\n",
    "        case i if type(i) == str:\n",
    "            print('String')\n",
    "        case i if type(i) == float:\n",
    "            print('Float')\n",
    "test(1) # 출력: Integer\n",
    "test('hello') # 출력: String\n",
    "test(3.14) # 출력: Float\n",
    "\n",
    "\n",
    "#############################\n",
    "\n",
    "\n",
    "def test(i):\n",
    "    match i:\n",
    "        case _ if type(i) == int:\n",
    "            print('Integer')\n",
    "        case _ if type(i) == str:\n",
    "            print('String')\n",
    "        case _ if type(i) == float:\n",
    "            print('Float')\n",
    "test(1) # 출력: Integer\n",
    "test('hello') # 출력: String\n",
    "test(3.14) # 출력: Float"
   ]
  },
  {
   "cell_type": "code",
   "execution_count": 6,
   "id": "05b5b563",
   "metadata": {},
   "outputs": [
    {
     "name": "stdout",
     "output_type": "stream",
     "text": [
      "value : 2\n"
     ]
    }
   ],
   "source": [
    "def test(status):\n",
    "    match status:\n",
    "        case (1 | 2 | 3) as code:\n",
    "            return f'value : {code}'\n",
    "        case _:\n",
    "            return 'hello'\n",
    "print(test(2))  # 출력: value : 2"
   ]
  }
 ],
 "metadata": {
  "kernelspec": {
   "display_name": "Python 3",
   "language": "python",
   "name": "python3"
  },
  "language_info": {
   "codemirror_mode": {
    "name": "ipython",
    "version": 3
   },
   "file_extension": ".py",
   "mimetype": "text/x-python",
   "name": "python",
   "nbconvert_exporter": "python",
   "pygments_lexer": "ipython3",
   "version": "3.13.5"
  }
 },
 "nbformat": 4,
 "nbformat_minor": 5
}
