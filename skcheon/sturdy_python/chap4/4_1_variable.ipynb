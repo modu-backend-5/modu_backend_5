{
 "cells": [
  {
   "cell_type": "code",
   "execution_count": 1,
   "id": "eaf6074e",
   "metadata": {},
   "outputs": [
    {
     "name": "stdout",
     "output_type": "stream",
     "text": [
      "Licat 30\n"
     ]
    }
   ],
   "source": [
    "# 변수\n",
    "\n",
    "name = 'Licat'\n",
    "age = 30\n",
    "print(name, age)"
   ]
  },
  {
   "cell_type": "code",
   "execution_count": null,
   "id": "8172b11e",
   "metadata": {},
   "outputs": [
    {
     "data": {
      "text/plain": [
       "(140730245596680, 140730245596360, 140730245596360)"
      ]
     },
     "execution_count": 7,
     "metadata": {},
     "output_type": "execute_result"
    },
    {
     "ename": "",
     "evalue": "",
     "output_type": "error",
     "traceback": [
      "\u001b[1;31m현재 셀 또는 이전 셀에서 코드를 실행하는 동안 Kernel이 충돌했습니다. \n",
      "\u001b[1;31m셀의 코드를 검토하여 가능한 오류 원인을 식별하세요. \n",
      "\u001b[1;31m자세한 내용을 보려면 <a href='https://aka.ms/vscodeJupyterKernelCrash'>여기</a>를 클릭하세요. \n",
      "\u001b[1;31m자세한 내용은 Jupyter <a href='command:jupyter.viewOutput'>로그</a>를 참조하세요."
     ]
    }
   ],
   "source": [
    "x = 10\n",
    "y = x   # x가 가리키는 주소값을 y도 가리키게 함\n",
    "z = y   # y가 가리키는 주소값을 z도 가리키게 함\n",
    "# 세 변수가 가리키는 주소는 같다.\n",
    "x = 20  # x만 가리키는 주소가 바뀜\n",
    "id(x), id(y), id(z)"
   ]
  },
  {
   "cell_type": "code",
   "execution_count": null,
   "id": "3f74710f",
   "metadata": {},
   "outputs": [],
   "source": [
    "# 변수 이름 짓는 규칙"
   ]
  }
 ],
 "metadata": {
  "kernelspec": {
   "display_name": "Python 3",
   "language": "python",
   "name": "python3"
  },
  "language_info": {
   "codemirror_mode": {
    "name": "ipython",
    "version": 3
   },
   "file_extension": ".py",
   "mimetype": "text/x-python",
   "name": "python",
   "nbconvert_exporter": "python",
   "pygments_lexer": "ipython3",
   "version": "3.13.5"
  }
 },
 "nbformat": 4,
 "nbformat_minor": 5
}
