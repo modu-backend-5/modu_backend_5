{
 "cells": [
  {
   "cell_type": "code",
   "execution_count": null,
   "id": "1b75c0e2",
   "metadata": {},
   "outputs": [],
   "source": [
    "# 문자열 자료형\n"
   ]
  },
  {
   "cell_type": "code",
   "execution_count": 1,
   "id": "7f9b1ec6",
   "metadata": {},
   "outputs": [
    {
     "data": {
      "text/plain": [
       "'hello world'"
      ]
     },
     "execution_count": 1,
     "metadata": {},
     "output_type": "execute_result"
    }
   ],
   "source": [
    "'    ,!!  hello world   '.strip(' ,!')\n",
    "#양쪽의 공백과 ',!'을 제거해주는 메서드"
   ]
  },
  {
   "cell_type": "code",
   "execution_count": 2,
   "id": "50c85430",
   "metadata": {},
   "outputs": [
    {
     "data": {
      "text/plain": [
       "'weniv-CEO-licat'"
      ]
     },
     "execution_count": 2,
     "metadata": {},
     "output_type": "execute_result"
    }
   ],
   "source": [
    "s = ['weniv', 'CEO', 'licat']\n",
    "'-'.join(s) #리스트를 하나의 문자열로 합치기"
   ]
  },
  {
   "cell_type": "code",
   "execution_count": 3,
   "id": "2459a060",
   "metadata": {},
   "outputs": [
    {
     "data": {
      "text/plain": [
       "'-----licat'"
      ]
     },
     "execution_count": 3,
     "metadata": {},
     "output_type": "execute_result"
    }
   ],
   "source": [
    "# rjust : 문자열을 지정한 길이로 맞추고, 왼쪽을 지정한 문자로 채우는 메서드\n",
    "\n",
    "s = 'licat'\n",
    "s.rjust(10, '-') #문자열을 지정한 길이로 맞추고, 왼쪽을 '-'로 채우는 메서드"
   ]
  },
  {
   "cell_type": "code",
   "execution_count": 4,
   "id": "35231c48",
   "metadata": {},
   "outputs": [
    {
     "data": {
      "text/plain": [
       "'licat-----'"
      ]
     },
     "execution_count": 4,
     "metadata": {},
     "output_type": "execute_result"
    }
   ],
   "source": [
    "# ljust : 문자열을 지정한 길이로 맞추고, 오른쪽을 지정한 문자로 채우는 메서드\n",
    "\n",
    "s = 'licat'\n",
    "s.ljust(10, '-') #문자열을 지정한 길이로 맞추고, 오른쪽을 '-'로 채우는 메서드"
   ]
  },
  {
   "cell_type": "code",
   "execution_count": null,
   "id": "32f381e6",
   "metadata": {},
   "outputs": [
    {
     "data": {
      "text/plain": [
       "'---licat---'"
      ]
     },
     "execution_count": 5,
     "metadata": {},
     "output_type": "execute_result"
    }
   ],
   "source": [
    "s = 'licat'\n",
    "s.center(11, '-') #문자열을 지정한 길이로 맞추고, 양쪽을 '-'로 채우는 메서드"
   ]
  },
  {
   "cell_type": "code",
   "execution_count": 6,
   "id": "cd798e7d",
   "metadata": {},
   "outputs": [
    {
     "data": {
      "text/plain": [
       "'licat'"
      ]
     },
     "execution_count": 6,
     "metadata": {},
     "output_type": "execute_result"
    }
   ],
   "source": [
    "# 숫자가 문자열의 길이보다 작을 경우 문자열 그대로 출력함\n",
    "s = 'licat'\n",
    "s.center(3, '-')"
   ]
  },
  {
   "cell_type": "code",
   "execution_count": null,
   "id": "58584895",
   "metadata": {},
   "outputs": [
    {
     "name": "stdout",
     "output_type": "stream",
     "text": [
      "00042\n"
     ]
    },
    {
     "ename": "",
     "evalue": "",
     "output_type": "error",
     "traceback": [
      "\u001b[1;31m현재 셀 또는 이전 셀에서 코드를 실행하는 동안 Kernel이 충돌했습니다. \n",
      "\u001b[1;31m셀의 코드를 검토하여 가능한 오류 원인을 식별하세요. \n",
      "\u001b[1;31m자세한 내용을 보려면 <a href='https://aka.ms/vscodeJupyterKernelCrash'>여기</a>를 클릭하세요. \n",
      "\u001b[1;31m자세한 내용은 Jupyter <a href='command:jupyter.viewOutput'>로그</a>를 참조하세요."
     ]
    }
   ],
   "source": [
    "# zfill : 주어진 길이만큼 문자열의 앞쪽을 '0'으로 채워서 반환\n",
    "x = \"42\"\n",
    "result = x.zfill(5)\n",
    "print(result)  # 00042"
   ]
  }
 ],
 "metadata": {
  "kernelspec": {
   "display_name": "Python 3",
   "language": "python",
   "name": "python3"
  },
  "language_info": {
   "codemirror_mode": {
    "name": "ipython",
    "version": 3
   },
   "file_extension": ".py",
   "mimetype": "text/x-python",
   "name": "python",
   "nbconvert_exporter": "python",
   "pygments_lexer": "ipython3",
   "version": "3.13.5"
  }
 },
 "nbformat": 4,
 "nbformat_minor": 5
}
