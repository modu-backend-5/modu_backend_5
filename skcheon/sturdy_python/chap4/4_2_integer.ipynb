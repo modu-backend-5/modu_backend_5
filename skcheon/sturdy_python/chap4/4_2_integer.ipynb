{
 "cells": [
  {
   "cell_type": "code",
   "execution_count": null,
   "id": "6eab2707",
   "metadata": {},
   "outputs": [],
   "source": [
    "# 정수 자료형"
   ]
  },
  {
   "cell_type": "code",
   "execution_count": null,
   "id": "da9ebccc",
   "metadata": {},
   "outputs": [],
   "source": [
    "# 메서드\n"
   ]
  }
 ],
 "metadata": {
  "language_info": {
   "name": "python"
  }
 },
 "nbformat": 4,
 "nbformat_minor": 5
}
