{
 "cells": [
  {
   "cell_type": "code",
   "execution_count": null,
   "id": "3f9f1097",
   "metadata": {},
   "outputs": [],
   "source": [
    "# 형변환"
   ]
  },
  {
   "cell_type": "code",
   "execution_count": 1,
   "id": "a384aaa2",
   "metadata": {},
   "outputs": [
    {
     "name": "stdout",
     "output_type": "stream",
     "text": [
      "당신의 연봉은 200200200200200200200200200200200200입니다.\n"
     ]
    }
   ],
   "source": [
    "월급 = input(\"월급을 입력하세요:\")\n",
    "연봉 = 월급 * 12\n",
    "print(f'당신의 연봉은 {연봉}입니다.')"
   ]
  },
  {
   "cell_type": "code",
   "execution_count": 2,
   "id": "069b7bf5",
   "metadata": {},
   "outputs": [
    {
     "name": "stdout",
     "output_type": "stream",
     "text": [
      "당신의 연봉은 2400입니다.\n"
     ]
    }
   ],
   "source": [
    "월급 = input(\"월급을 입력하세요:\")\n",
    "연봉 = int(월급) * 12\n",
    "print(f'당신의 연봉은 {연봉}입니다.')"
   ]
  },
  {
   "cell_type": "code",
   "execution_count": 3,
   "id": "05f3c0a1",
   "metadata": {},
   "outputs": [
    {
     "name": "stdout",
     "output_type": "stream",
     "text": [
      "<class 'str'>\n",
      "<class 'int'>\n"
     ]
    }
   ],
   "source": [
    "# 형변환 정리\n",
    "# int로 형변환\n",
    "num = '123'\n",
    "print(type(num))\n",
    "\n",
    "\n",
    "num = int(num)\n",
    "print(type(num))"
   ]
  },
  {
   "cell_type": "code",
   "execution_count": 4,
   "id": "0b954fd5",
   "metadata": {},
   "outputs": [
    {
     "ename": "ValueError",
     "evalue": "invalid literal for int() with base 10: '10hello'",
     "output_type": "error",
     "traceback": [
      "\u001b[31m---------------------------------------------------------------------------\u001b[39m",
      "\u001b[31mValueError\u001b[39m                                Traceback (most recent call last)",
      "\u001b[36mCell\u001b[39m\u001b[36m \u001b[39m\u001b[32mIn[4]\u001b[39m\u001b[32m, line 3\u001b[39m\n\u001b[32m      1\u001b[39m \u001b[38;5;66;03m# 다음은 형변환 불가\u001b[39;00m\n\u001b[32m      2\u001b[39m s = \u001b[33m'\u001b[39m\u001b[33m10hello\u001b[39m\u001b[33m'\u001b[39m\n\u001b[32m----> \u001b[39m\u001b[32m3\u001b[39m s = \u001b[38;5;28;43mint\u001b[39;49m\u001b[43m(\u001b[49m\u001b[43ms\u001b[49m\u001b[43m)\u001b[49m \u001b[38;5;66;03m# Error\u001b[39;00m\n",
      "\u001b[31mValueError\u001b[39m: invalid literal for int() with base 10: '10hello'"
     ]
    }
   ],
   "source": [
    "# 다음은 형변환 불가\n",
    "s = '10hello'\n",
    "s = int(s) # Error"
   ]
  },
  {
   "cell_type": "code",
   "execution_count": 5,
   "id": "92f56a6b",
   "metadata": {},
   "outputs": [
    {
     "name": "stdout",
     "output_type": "stream",
     "text": [
      "3\n"
     ]
    }
   ],
   "source": [
    "f = 3.14159\n",
    "number = int(f)\n",
    "print(number)  # 출력: 3"
   ]
  },
  {
   "cell_type": "code",
   "execution_count": null,
   "id": "f174d07f",
   "metadata": {},
   "outputs": [
    {
     "name": "stdout",
     "output_type": "stream",
     "text": [
      "1\n",
      "0\n"
     ]
    }
   ],
   "source": [
    "true_int = int(True)\n",
    "false_int = int(False)\n",
    "\n",
    "\n",
    "print(true_int)  # 출력: 1\n",
    "print(false_int)  # 출력: \n",
    "\n",
    "# None은 int형으로 형변환 불가"
   ]
  },
  {
   "cell_type": "code",
   "execution_count": 7,
   "id": "044f0d2e",
   "metadata": {},
   "outputs": [
    {
     "name": "stdout",
     "output_type": "stream",
     "text": [
      "123 123\n",
      "<class 'str'>\n",
      "123.4 123.4\n",
      "<class 'str'>\n"
     ]
    }
   ],
   "source": [
    "# string으로 형변환\n",
    "\n",
    "n = str(123)\n",
    "print(123, n)\n",
    "print(type(n))\n",
    "\n",
    "\n",
    "m = str(123.4)\n",
    "print(123.4, m)\n",
    "print(type(m))"
   ]
  },
  {
   "cell_type": "code",
   "execution_count": null,
   "id": "58fe3cb2",
   "metadata": {},
   "outputs": [
    {
     "name": "stdout",
     "output_type": "stream",
     "text": [
      "bool('test'): True\n",
      "bool(' '): True\n",
      "bool(''): False\n",
      "bool(100): True\n",
      "bool(1): True\n",
      "bool(0): False\n",
      "bool(-1): True\n",
      "bool(None): False\n",
      "bool([]): False\n",
      "bool(tuple()): False\n",
      "bool({}): False\n",
      "bool(set()): False\n"
     ]
    }
   ],
   "source": [
    "# bool형으로 형변환\n",
    "\n",
    "print(\"bool('test'):\", bool('test'))\n",
    "print(\"bool(' '):\", bool(' '))\n",
    "print(\"bool(''):\", bool('')) # False\n",
    "print(\"bool(100):\", bool(100))\n",
    "print(\"bool(1):\", bool(1))\n",
    "print(\"bool(0):\", bool(0)) # False\n",
    "print(\"bool(-1):\", bool(-1))\n",
    "print(\"bool(None):\", bool(None)) # False\n",
    "print(\"bool([]):\", bool([])) # False    텅 빈 리스트, 튜플, 딕셔너리, 세트 등은 False\n",
    "print(\"bool(tuple()):\", bool(tuple())) # False\n",
    "print(\"bool({}):\", bool({})) # False\n",
    "print(\"bool(set()):\", bool(set())) # False"
   ]
  },
  {
   "cell_type": "code",
   "execution_count": 9,
   "id": "3a746c81",
   "metadata": {},
   "outputs": [
    {
     "name": "stdout",
     "output_type": "stream",
     "text": [
      "10.0\n",
      "10.0\n",
      "3.14\n"
     ]
    }
   ],
   "source": [
    "# float형으로 형변환\n",
    "\n",
    "s = 10\n",
    "print(float(s))\n",
    "\n",
    "\n",
    "s = '10'\n",
    "print(float(s))\n",
    "\n",
    "\n",
    "s = '3.14'\n",
    "print(float(s))"
   ]
  },
  {
   "cell_type": "code",
   "execution_count": 10,
   "id": "4368e59d",
   "metadata": {},
   "outputs": [],
   "source": [
    "infinity = float('inf')\n",
    "neg_infinity = float('-inf')\n",
    "not_a_number = float('nan')"
   ]
  },
  {
   "cell_type": "code",
   "execution_count": 11,
   "id": "bc1650eb",
   "metadata": {},
   "outputs": [
    {
     "data": {
      "text/plain": [
       "10.0"
      ]
     },
     "execution_count": 11,
     "metadata": {},
     "output_type": "execute_result"
    }
   ],
   "source": [
    "# 묵시적 형변환\n",
    "# 정수와 실수의 나눗셈 같은 경우 항상 float를 반환\n",
    "10 / 1 # 출력: 10.0"
   ]
  }
 ],
 "metadata": {
  "kernelspec": {
   "display_name": "Python 3",
   "language": "python",
   "name": "python3"
  },
  "language_info": {
   "codemirror_mode": {
    "name": "ipython",
    "version": 3
   },
   "file_extension": ".py",
   "mimetype": "text/x-python",
   "name": "python",
   "nbconvert_exporter": "python",
   "pygments_lexer": "ipython3",
   "version": "3.13.5"
  }
 },
 "nbformat": 4,
 "nbformat_minor": 5
}
