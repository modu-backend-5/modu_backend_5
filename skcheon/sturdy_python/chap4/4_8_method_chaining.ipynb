{
 "cells": [
  {
   "cell_type": "code",
   "execution_count": 1,
   "id": "23bc43ec",
   "metadata": {},
   "outputs": [
    {
     "name": "stdout",
     "output_type": "stream",
     "text": [
      "hello, python!\n"
     ]
    }
   ],
   "source": [
    "# 메서드 체이닝\n",
    "# 연속으로 메서드를 호출하는 것\n",
    "\n",
    "sentence = '  Hello, World!  '\n",
    "result = sentence.strip().lower().replace('world', 'python')\n",
    "# 1번 스탭 : sentence.strip() == 'Hello, World!'\n",
    "# 2번 스탭 : 'Hello, World!'.lower() == 'hello, world!'\n",
    "# 3번 스탭 : 'hello, world!'.replace('world', 'python')\n",
    "print(result)  # 'hello, python!'"
   ]
  },
  {
   "cell_type": "code",
   "execution_count": 2,
   "id": "922ca87a",
   "metadata": {},
   "outputs": [
    {
     "name": "stdout",
     "output_type": "stream",
     "text": [
      "hello, python!\n"
     ]
    }
   ],
   "source": [
    "# 백슬러쉬 사용해서 개행을 할 수 있습니다.\n",
    "sentence = '  Hello, World!  '\n",
    "result = sentence\\\n",
    "         .strip()\\\n",
    "         .lower()\\\n",
    "         .replace('world', 'python')\n",
    "\n",
    "\n",
    "print(result)  # 'hello, python!'"
   ]
  },
  {
   "cell_type": "code",
   "execution_count": 3,
   "id": "837f3894",
   "metadata": {},
   "outputs": [
    {
     "ename": "AttributeError",
     "evalue": "'list' object has no attribute 'replace'",
     "output_type": "error",
     "traceback": [
      "\u001b[31m---------------------------------------------------------------------------\u001b[39m",
      "\u001b[31mAttributeError\u001b[39m                            Traceback (most recent call last)",
      "\u001b[36mCell\u001b[39m\u001b[36m \u001b[39m\u001b[32mIn[3]\u001b[39m\u001b[32m, line 1\u001b[39m\n\u001b[32m----> \u001b[39m\u001b[32m1\u001b[39m \u001b[33;43m'\u001b[39;49m\u001b[33;43m010-1000-2000\u001b[39;49m\u001b[33;43m'\u001b[39;49m\u001b[43m.\u001b[49m\u001b[43msplit\u001b[49m\u001b[43m(\u001b[49m\u001b[33;43m'\u001b[39;49m\u001b[33;43m-\u001b[39;49m\u001b[33;43m'\u001b[39;49m\u001b[43m)\u001b[49m\u001b[43m.\u001b[49m\u001b[43mreplace\u001b[49m(\u001b[33m'\u001b[39m\u001b[33m0\u001b[39m\u001b[33m'\u001b[39m, \u001b[33m'\u001b[39m\u001b[33mx\u001b[39m\u001b[33m'\u001b[39m)\n",
      "\u001b[31mAttributeError\u001b[39m: 'list' object has no attribute 'replace'"
     ]
    }
   ],
   "source": [
    "'010-1000-2000'.split('-').replace('0', 'x')"
   ]
  }
 ],
 "metadata": {
  "kernelspec": {
   "display_name": "Python 3",
   "language": "python",
   "name": "python3"
  },
  "language_info": {
   "codemirror_mode": {
    "name": "ipython",
    "version": 3
   },
   "file_extension": ".py",
   "mimetype": "text/x-python",
   "name": "python",
   "nbconvert_exporter": "python",
   "pygments_lexer": "ipython3",
   "version": "3.13.5"
  }
 },
 "nbformat": 4,
 "nbformat_minor": 5
}
