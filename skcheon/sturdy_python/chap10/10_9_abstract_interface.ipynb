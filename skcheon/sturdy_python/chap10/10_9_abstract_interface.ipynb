{
 "cells": [
  {
   "cell_type": "code",
   "execution_count": null,
   "id": "f61e3adf",
   "metadata": {},
   "outputs": [],
   "source": [
    "# 추상 클래스와 인터페이스"
   ]
  },
  {
   "cell_type": "code",
   "execution_count": null,
   "id": "2acab76c",
   "metadata": {},
   "outputs": [
    {
     "ename": "TypeError",
     "evalue": "Can't instantiate abstract class Person without an implementation for abstract method 'do_something'",
     "output_type": "error",
     "traceback": [
      "\u001b[31m---------------------------------------------------------------------------\u001b[39m",
      "\u001b[31mTypeError\u001b[39m                                 Traceback (most recent call last)",
      "\u001b[36mCell\u001b[39m\u001b[36m \u001b[39m\u001b[32mIn[1]\u001b[39m\u001b[32m, line 28\u001b[39m\n\u001b[32m     24\u001b[39m     \u001b[38;5;28;01mdef\u001b[39;00m\u001b[38;5;250m \u001b[39m\u001b[34mprint_name\u001b[39m(\u001b[38;5;28mself\u001b[39m):\n\u001b[32m     25\u001b[39m         \u001b[38;5;28mprint\u001b[39m(\u001b[33mf\u001b[39m\u001b[33m'\u001b[39m\u001b[33m제 이름은 \u001b[39m\u001b[38;5;132;01m{\u001b[39;00m\u001b[38;5;28mself\u001b[39m.name\u001b[38;5;132;01m}\u001b[39;00m\u001b[33m입니다.\u001b[39m\u001b[33m'\u001b[39m)\n\u001b[32m---> \u001b[39m\u001b[32m28\u001b[39m hojun = \u001b[43mPerson\u001b[49m\u001b[43m(\u001b[49m\u001b[33;43m'\u001b[39;49m\u001b[33;43mhojun\u001b[39;49m\u001b[33;43m'\u001b[39;49m\u001b[43m)\u001b[49m\n\u001b[32m     29\u001b[39m hojun.print_name()\n",
      "\u001b[31mTypeError\u001b[39m: Can't instantiate abstract class Person without an implementation for abstract method 'do_something'"
     ]
    }
   ],
   "source": [
    "# 추상 클래스\n",
    "# 기본적으로 구현하지 않아도 되는 메서드(추상 메서드)를 가진 클래스\n",
    "# 서브클래스에서 반드시 구현해야 하는 메서드를 정의하는 데 사용\n",
    "# abc 모듈의 ABC 클래스와 abstractmethod 데코레이터를 사용하여 추상 클래스와 추상 메서드를 정의\n",
    "\n",
    "from abc import ABC, abstractmethod\n",
    "\n",
    "\n",
    "class AbstractClassExample(ABC):    # 추상 클래스로 사용 시 ABC 이용\n",
    "\n",
    "\n",
    "    @abstractmethod\n",
    "    def do_something(self): # 다음 메서드를 자식 클래스에서 정의해야 함.\n",
    "        pass\n",
    "\n",
    "\n",
    "class Person(AbstractClassExample):\n",
    "\n",
    "\n",
    "    def __init__(self, name):\n",
    "        self.name = name\n",
    "\n",
    "\n",
    "    def print_name(self):\n",
    "        print(f'제 이름은 {self.name}입니다.')\n",
    "\n",
    "\n",
    "hojun = Person('hojun')\n",
    "hojun.print_name()"
   ]
  },
  {
   "cell_type": "code",
   "execution_count": 2,
   "id": "ea008f17",
   "metadata": {},
   "outputs": [
    {
     "name": "stdout",
     "output_type": "stream",
     "text": [
      "제 이름은 Jun입니다.\n"
     ]
    }
   ],
   "source": [
    "from abc import ABC, abstractmethod\n",
    "\n",
    "\n",
    "class AbstractClassExample(ABC):\n",
    "\n",
    "\n",
    "    @abstractmethod\n",
    "    def do_something(self):\n",
    "        pass\n",
    "\n",
    "\n",
    "class Person(AbstractClassExample):\n",
    "\n",
    "\n",
    "    def __init__(self, name):\n",
    "        self.name = name\n",
    "\n",
    "\n",
    "    def print_name(self):\n",
    "        print(f'제 이름은 {self.name}입니다.')\n",
    "\n",
    "\n",
    "    def do_something(self):\n",
    "        pass\n",
    "\n",
    "\n",
    "hojun = Person('Jun')\n",
    "hojun.print_name()"
   ]
  },
  {
   "cell_type": "code",
   "execution_count": null,
   "id": "06a55303",
   "metadata": {},
   "outputs": [],
   "source": [
    "# 인터페이스\n",
    "# 객체가 어떤 메서드를 구현해야 하는지 정의한 것\n",
    "\n",
    "from abc import ABC, abstractmethod\n",
    " \n",
    "class MyInterface(ABC):\n",
    " \n",
    "    @abstractmethod\n",
    "    def method1(self):\n",
    "        pass\n",
    " \n",
    "    @abstractmethod\n",
    "    def method2(self):\n",
    "        pass"
   ]
  }
 ],
 "metadata": {
  "kernelspec": {
   "display_name": "Python 3",
   "language": "python",
   "name": "python3"
  },
  "language_info": {
   "codemirror_mode": {
    "name": "ipython",
    "version": 3
   },
   "file_extension": ".py",
   "mimetype": "text/x-python",
   "name": "python",
   "nbconvert_exporter": "python",
   "pygments_lexer": "ipython3",
   "version": "3.13.5"
  }
 },
 "nbformat": 4,
 "nbformat_minor": 5
}
