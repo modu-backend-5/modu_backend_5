{
 "cells": [
  {
   "cell_type": "code",
   "execution_count": null,
   "id": "5d9d3128",
   "metadata": {},
   "outputs": [],
   "source": [
    "# 상속"
   ]
  },
  {
   "cell_type": "code",
   "execution_count": 2,
   "id": "01dabbaa",
   "metadata": {},
   "outputs": [
    {
     "name": "stdout",
     "output_type": "stream",
     "text": [
      "300\n",
      "300\n",
      "2000\n",
      "출발하였습니다.\n"
     ]
    }
   ],
   "source": [
    "class Car:\n",
    "    maxSpeed = 300\n",
    "    maxPeople = 5\n",
    "\n",
    "\n",
    "    def move(self):\n",
    "        print('출발하였습니다.')\n",
    "\n",
    "\n",
    "    def stop(self):\n",
    "        print('멈췄습니다.')\n",
    "\n",
    "\n",
    "class HybridCar(Car):\n",
    "    battery = 1000\n",
    "    batteryKM = 300\n",
    "\n",
    "\n",
    "class ElectricCar(HybridCar):\n",
    "    battery = 2000\n",
    "    batteryKM = 600\n",
    "\n",
    "\n",
    "modelx = HybridCar()\n",
    "electricCarModely = ElectricCar()\n",
    "print(modelx.maxSpeed)\n",
    "print(electricCarModely.maxSpeed)\n",
    "print(electricCarModely.battery)\n",
    "electricCarModely.move()"
   ]
  },
  {
   "cell_type": "code",
   "execution_count": null,
   "id": "7f5c1834",
   "metadata": {},
   "outputs": [
    {
     "ename": "",
     "evalue": "",
     "output_type": "error",
     "traceback": [
      "\u001b[1;31m현재 셀 또는 이전 셀에서 코드를 실행하는 동안 Kernel이 충돌했습니다. \n",
      "\u001b[1;31m셀의 코드를 검토하여 가능한 오류 원인을 식별하세요. \n",
      "\u001b[1;31m자세한 내용을 보려면 <a href='https://aka.ms/vscodeJupyterKernelCrash'>여기</a>를 클릭하세요. \n",
      "\u001b[1;31m자세한 내용은 Jupyter <a href='command:jupyter.viewOutput'>로그</a>를 참조하세요."
     ]
    }
   ],
   "source": [
    "class Character:\n",
    "    최대속력 = 100\n",
    "    최대레벨 = 50\n",
    " \n",
    "    def __init__(self, name, hp, attack, lv):\n",
    "        self.이름 = name\n",
    "        self.체력 = hp\n",
    "        self.공격력 = attack\n",
    "        self.레벨 = lv\n",
    "        self.속력 = 1\n",
    " \n",
    "    def move(self):\n",
    "        print(f'{self.이름}이(가) {self.속력}의 이동속도로 움직였습니다.')\n",
    " \n",
    "    def attack(self):\n",
    "        print(f'{self.이름}이(가) {self.공격력}의 데미지로 공격했습니다.')\n",
    " \n",
    "class Mob(Character):\n",
    "    def __init__(self, name, hp, attack, lv, droprate, dropitem):\n",
    "        super().__init__(name, hp, attack, lv)  # 부모 클래스 Character의 __init__() 이용\n",
    "        self.드랍률 = droprate\n",
    "        self.드랍아이템 = dropitem\n",
    " \n",
    "# 위 코드는 아래와 같은 기능입니다.\n",
    "# class Mob(Character):\n",
    "#     def __init__(self, name, hp, attack, lv, droprate, dropitem):\n",
    "#         self.이름 = name\n",
    "#         self.체력 = hp\n",
    "#         self.공격력 = attack\n",
    "#         self.레벨 = lv\n",
    "#         self.드랍률 = droprate\n",
    "#         self.드랍아이템 = dropitem\n",
    "#         self.속력 = 1\n",
    " \n",
    "class Hero(Character):\n",
    "    def __init__(self, name, hp, attack, lv, skills, items, missions):\n",
    "        super().__init__(name, hp, attack, lv)\n",
    "        self.스킬 = skills\n",
    "        self.아이템 = items\n",
    "        self.미션 = missions\n",
    " \n",
    "    def use_skill(self, skill):\n",
    "        if skill in self.스킬:\n",
    "            print(f'{self.이름}이(가) {skill} 스킬을 사용했습니다.')\n",
    "        else:\n",
    "            print(f'{skill} 스킬을 가지고 있지 않습니다.')"
   ]
  }
 ],
 "metadata": {
  "kernelspec": {
   "display_name": "Python 3",
   "language": "python",
   "name": "python3"
  },
  "language_info": {
   "codemirror_mode": {
    "name": "ipython",
    "version": 3
   },
   "file_extension": ".py",
   "mimetype": "text/x-python",
   "name": "python",
   "nbconvert_exporter": "python",
   "pygments_lexer": "ipython3",
   "version": "3.13.5"
  }
 },
 "nbformat": 4,
 "nbformat_minor": 5
}
