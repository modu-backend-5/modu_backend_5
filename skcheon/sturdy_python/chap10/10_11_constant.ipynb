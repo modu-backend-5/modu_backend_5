{
 "cells": [
  {
   "cell_type": "code",
   "execution_count": null,
   "id": "e7a65f61",
   "metadata": {},
   "outputs": [],
   "source": [
    "# 상수\n",
    "# 프로그램 전체에서 공유되는 변경되지 않는 값"
   ]
  },
  {
   "cell_type": "code",
   "execution_count": null,
   "id": "758ebdf6",
   "metadata": {},
   "outputs": [],
   "source": [
    "# 상수 선언\n",
    "# 관례적으로 상수를 선언할 때는 변수명을 대문자로 작성\n",
    "\n",
    "PI = 3.14159\n",
    "MAX_SIZE = 1024\n",
    "DEFAULT_COLOR = 'red'"
   ]
  },
  {
   "cell_type": "code",
   "execution_count": null,
   "id": "941fcd3d",
   "metadata": {},
   "outputs": [
    {
     "name": "stdout",
     "output_type": "stream",
     "text": [
      "Color.RED\n",
      "Color.RED\n",
      "Color.GREEN\n",
      "Color.BLUE\n"
     ]
    }
   ],
   "source": [
    "# 상수 모음\n",
    "# Enum 클래스를 사용하여 상수 모음을 정의할 수 있음.\n",
    "\n",
    "from enum import Enum\n",
    "\n",
    "\n",
    "class Color(Enum):  # 매직 넘버 지양. 숫자말고 하나의 상수로 정하여 사용\n",
    "    RED = 1\n",
    "    GREEN = 2\n",
    "    BLUE = 3\n",
    "\n",
    "\n",
    "print(Color.RED)\n",
    "\n",
    "\n",
    "for color in Color:\n",
    "    print(color)"
   ]
  }
 ],
 "metadata": {
  "kernelspec": {
   "display_name": "Python 3",
   "language": "python",
   "name": "python3"
  },
  "language_info": {
   "codemirror_mode": {
    "name": "ipython",
    "version": 3
   },
   "file_extension": ".py",
   "mimetype": "text/x-python",
   "name": "python",
   "nbconvert_exporter": "python",
   "pygments_lexer": "ipython3",
   "version": "3.13.5"
  }
 },
 "nbformat": 4,
 "nbformat_minor": 5
}
