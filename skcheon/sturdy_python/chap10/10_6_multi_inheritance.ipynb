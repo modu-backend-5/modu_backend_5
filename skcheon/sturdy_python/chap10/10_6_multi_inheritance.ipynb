{
 "cells": [
  {
   "cell_type": "code",
   "execution_count": null,
   "id": "e93d0e5d",
   "metadata": {},
   "outputs": [],
   "source": [
    "# 다중 상속"
   ]
  },
  {
   "cell_type": "code",
   "execution_count": null,
   "id": "524bab5d",
   "metadata": {},
   "outputs": [
    {
     "name": "stdout",
     "output_type": "stream",
     "text": [
      "[<class '__main__.D'>, <class '__main__.B'>, <class '__main__.C'>, <class '__main__.A'>, <class 'object'>]\n",
      "B method\n"
     ]
    }
   ],
   "source": [
    "class A:\n",
    "    def method(self):\n",
    "        print(\"A method\")\n",
    "\n",
    "\n",
    "class B(A):\n",
    "    def method(self):\n",
    "        print(\"B method\")\n",
    "\n",
    "\n",
    "class C(A):\n",
    "    def method(self):\n",
    "        print(\"C method\")\n",
    "\n",
    "\n",
    "class D(B, C):\n",
    "    pass\n",
    "\n",
    "\n",
    "obj = D()\n",
    "print(D.mro()) # 출력: [<class '__main__.D'>, <class '__main__.B'>, <class '__main__.C'>, <class '__main__.A'>, <class 'object'>] -> 선언된 순서\n",
    "obj.method()  # 출력: B method"
   ]
  },
  {
   "cell_type": "code",
   "execution_count": 2,
   "id": "eaf456b1",
   "metadata": {},
   "outputs": [],
   "source": [
    "class Car(object):\n",
    "    pass\n",
    " \n",
    "class HybridCar(Car):\n",
    "    pass\n",
    " \n",
    "class ElectricCar(HybridCar):\n",
    "    pass\n",
    " \n",
    "class HybridElectricCar(ElectricCar, HybridCar):\n",
    "    pass\n",
    " \n",
    "modelz = HybridElectricCar()"
   ]
  },
  {
   "cell_type": "code",
   "execution_count": null,
   "id": "cfdcbfd9",
   "metadata": {},
   "outputs": [
    {
     "ename": "TypeError",
     "evalue": "Cannot create a consistent method resolution order (MRO) for bases HybridCar, ElectricCar",
     "output_type": "error",
     "traceback": [
      "\u001b[31m---------------------------------------------------------------------------\u001b[39m",
      "\u001b[31mTypeError\u001b[39m                                 Traceback (most recent call last)",
      "\u001b[36mCell\u001b[39m\u001b[36m \u001b[39m\u001b[32mIn[3]\u001b[39m\u001b[32m, line 13\u001b[39m\n\u001b[32m      9\u001b[39m \u001b[38;5;28;01mclass\u001b[39;00m\u001b[38;5;250m \u001b[39m\u001b[34;01mElectricCar\u001b[39;00m(HybridCar):\n\u001b[32m     10\u001b[39m     \u001b[38;5;28;01mpass\u001b[39;00m\n\u001b[32m---> \u001b[39m\u001b[32m13\u001b[39m \u001b[38;5;28;43;01mclass\u001b[39;49;00m\u001b[38;5;250;43m \u001b[39;49m\u001b[34;43;01mHybridElectricCar\u001b[39;49;00m\u001b[43m(\u001b[49m\u001b[43mHybridCar\u001b[49m\u001b[43m,\u001b[49m\u001b[43m \u001b[49m\u001b[43mElectricCar\u001b[49m\u001b[43m)\u001b[49m\u001b[43m:\u001b[49m\n\u001b[32m     14\u001b[39m \u001b[43m    \u001b[49m\u001b[38;5;28;43;01mpass\u001b[39;49;00m\n\u001b[32m     17\u001b[39m modelz = HybridElectricCar()\n",
      "\u001b[31mTypeError\u001b[39m: Cannot create a consistent method resolution order (MRO) for bases HybridCar, ElectricCar"
     ]
    },
    {
     "ename": "",
     "evalue": "",
     "output_type": "error",
     "traceback": [
      "\u001b[1;31m현재 셀 또는 이전 셀에서 코드를 실행하는 동안 Kernel이 충돌했습니다. \n",
      "\u001b[1;31m셀의 코드를 검토하여 가능한 오류 원인을 식별하세요. \n",
      "\u001b[1;31m자세한 내용을 보려면 <a href='https://aka.ms/vscodeJupyterKernelCrash'>여기</a>를 클릭하세요. \n",
      "\u001b[1;31m자세한 내용은 Jupyter <a href='command:jupyter.viewOutput'>로그</a>를 참조하세요."
     ]
    }
   ],
   "source": [
    "class Car(object):\n",
    "    pass\n",
    "\n",
    "\n",
    "class HybridCar(Car):\n",
    "    pass\n",
    "\n",
    "\n",
    "class ElectricCar(HybridCar):\n",
    "    pass\n",
    "\n",
    "\n",
    "class HybridElectricCar(HybridCar, ElectricCar):\n",
    "    pass\n",
    "\n",
    "\n",
    "modelz = HybridElectricCar()"
   ]
  }
 ],
 "metadata": {
  "kernelspec": {
   "display_name": "Python 3",
   "language": "python",
   "name": "python3"
  },
  "language_info": {
   "codemirror_mode": {
    "name": "ipython",
    "version": 3
   },
   "file_extension": ".py",
   "mimetype": "text/x-python",
   "name": "python",
   "nbconvert_exporter": "python",
   "pygments_lexer": "ipython3",
   "version": "3.13.5"
  }
 },
 "nbformat": 4,
 "nbformat_minor": 5
}
