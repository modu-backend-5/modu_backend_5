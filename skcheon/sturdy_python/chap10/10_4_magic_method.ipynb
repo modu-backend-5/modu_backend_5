{
 "cells": [
  {
   "cell_type": "code",
   "execution_count": null,
   "id": "6e8f4a89",
   "metadata": {},
   "outputs": [],
   "source": [
    "# 매직 메서드"
   ]
  },
  {
   "cell_type": "code",
   "execution_count": 2,
   "id": "a8611687",
   "metadata": {},
   "outputs": [
    {
     "data": {
      "text/plain": [
       "'hello'"
      ]
     },
     "execution_count": 2,
     "metadata": {},
     "output_type": "execute_result"
    }
   ],
   "source": [
    "class Point:\n",
    "\n",
    "\n",
    "    def __init__(self, x, y):\n",
    "        self.x = x\n",
    "        self.y = y\n",
    "\n",
    "\n",
    "    def __mul__(self, other):\n",
    "        return 'hello'\n",
    "\n",
    "\n",
    "dot1 = Point(10, 20)\n",
    "dot2 = Point(20, 30)\n",
    "\n",
    "\n",
    "dot1 * dot2 # 출력: hello"
   ]
  },
  {
   "cell_type": "code",
   "execution_count": 1,
   "id": "744ba286",
   "metadata": {},
   "outputs": [
    {
     "name": "stdout",
     "output_type": "stream",
     "text": [
      "[30, 50, 70]\n",
      "[30, 60, 90]\n"
     ]
    }
   ],
   "source": [
    "class Matrix:\n",
    "\n",
    "\n",
    "    def __init__(self, value):\n",
    "        self.value = value\n",
    "\n",
    "\n",
    "    def __add__(self, other):\n",
    "        result = []\n",
    "        for i in range(len(self.value)):\n",
    "            result.append(self.value[i] + other.value[i])\n",
    "        return result\n",
    "\n",
    "\n",
    "    def __mul__(self, other):\n",
    "        if isinstance(other, int):\n",
    "            return [i*other for i in self.value]\n",
    "        raise TypeError('int형 외에 곱을 허락하지 않습니다!')\n",
    "\n",
    "\n",
    "m1 = Matrix([10, 20, 30])\n",
    "m2 = Matrix([20, 30, 40])\n",
    "\n",
    "\n",
    "print(m1 + m2) # 출력: [30, 50, 70]\n",
    "print(m1 * 3) # 출력: [30, 60, 90]\n",
    "# print(m1 * [1, 2, 3]) # error"
   ]
  }
 ],
 "metadata": {
  "kernelspec": {
   "display_name": "Python 3",
   "language": "python",
   "name": "python3"
  },
  "language_info": {
   "codemirror_mode": {
    "name": "ipython",
    "version": 3
   },
   "file_extension": ".py",
   "mimetype": "text/x-python",
   "name": "python",
   "nbconvert_exporter": "python",
   "pygments_lexer": "ipython3",
   "version": "3.13.5"
  }
 },
 "nbformat": 4,
 "nbformat_minor": 5
}
