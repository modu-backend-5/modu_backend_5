{
 "cells": [
  {
   "cell_type": "code",
   "execution_count": null,
   "id": "02c56dd3",
   "metadata": {},
   "outputs": [],
   "source": [
    "# 클래스 심화\n",
    "# 클래스 메서드와 정적 메서드"
   ]
  },
  {
   "cell_type": "code",
   "execution_count": null,
   "id": "aca1fa55",
   "metadata": {},
   "outputs": [
    {
     "name": "stdout",
     "output_type": "stream",
     "text": [
      "1\n"
     ]
    }
   ],
   "source": [
    "# 클래스 메서드\n",
    "# 클래스에 작용하는 메서드. 클래스 메서드는 첫 번째 인자로 클래스 자체를 받습니다.\n",
    "\n",
    "class MyClass:\n",
    "    count = 0   # 클래스 변수\n",
    "\n",
    "\n",
    "    @classmethod    # 클래스 메서드\n",
    "    def increment(cls):\n",
    "        cls.count += 1  # 명시적으로 class 내부의 count에 접근\n",
    "\n",
    "\n",
    "MyClass.increment()\n",
    "print(MyClass.count)  # 출력: 1"
   ]
  },
  {
   "cell_type": "code",
   "execution_count": 1,
   "id": "ebae3726",
   "metadata": {},
   "outputs": [
    {
     "name": "stdout",
     "output_type": "stream",
     "text": [
      "8\n"
     ]
    }
   ],
   "source": [
    "# 정적 메서드\n",
    "# 클래스나 인스턴스와는 독립적으로 작동하는 메서드. 정적 메서드는 self나 cls같은 특별한 첫 번째 인자를 받지 않음\n",
    "\n",
    "class MyClass:\n",
    "    @staticmethod   # 정적 메서드\n",
    "    def my_method(x, y):    # x와 y는 클래스와는 관련없는, 독립적인 변수\n",
    "        return x + y\n",
    "\n",
    "\n",
    "print(MyClass.my_method(5, 3))  # 출력: 8"
   ]
  },
  {
   "cell_type": "code",
   "execution_count": null,
   "id": "a1a0856c",
   "metadata": {},
   "outputs": [
    {
     "name": "stdout",
     "output_type": "stream",
     "text": [
      "[{'name': 'Python', 'grades': 2.5}, {'name': 'HTML/CSS', 'grades': 3.5}]\n",
      "True\n"
     ]
    }
   ],
   "source": [
    "class CompletionList:\n",
    "    def __init__(self):\n",
    "        self.subject_list = []\n",
    "\n",
    "\n",
    "    def show(self):\n",
    "        print(self.subject_list)\n",
    "\n",
    "\n",
    "    def append(self, subject):\n",
    "        self.subject_list.append(subject)\n",
    "\n",
    "\n",
    "    @staticmethod\n",
    "    def academic_warning(subject):\n",
    "        '''\n",
    "        내부에서 클래스 변수, 인스턴스 변수 수정하는 것이 가능하지 않습니다.\n",
    "        '''\n",
    "        if abs(1.5 - subject['grades']) >= 0:\n",
    "            return True\n",
    "        return False\n",
    "\n",
    "\n",
    "c = CompletionList()    # 인스턴스 생성\n",
    "\n",
    "\n",
    "subject1 = {'name': 'Python', 'grades': 2.5}\n",
    "subject2 = {'name': 'HTML/CSS', 'grades': 3.5}\n",
    "\n",
    "# c에 subject 추가\n",
    "c.append(subject1)\n",
    "c.append(subject2)\n",
    "c.show()\n",
    "\n",
    "\n",
    "print(c.academic_warning(subject1))"
   ]
  },
  {
   "cell_type": "code",
   "execution_count": null,
   "id": "20c63b27",
   "metadata": {},
   "outputs": [],
   "source": [
    "# 속성 접근자와 덕 타이핑"
   ]
  },
  {
   "cell_type": "code",
   "execution_count": null,
   "id": "d2754410",
   "metadata": {},
   "outputs": [
    {
     "name": "stdout",
     "output_type": "stream",
     "text": [
      "li\n",
      "cat\n",
      "licat\n"
     ]
    }
   ],
   "source": [
    "# 속성 접근자\n",
    "# @property 데코레이터를 사용하여 클래스의 메서드를 속성처럼 접근할 수 있게 함.\n",
    "# 객체의 내부 상태를 보호하고, 특정 속성에 대한 접근을 제어할 수 있음.\n",
    "\n",
    "class Person:\n",
    "    def __init__(self, first_name, last_name):\n",
    "        self._first_name = first_name   # 인스턴스 변수에 대해서 쉽게 접근하게 하고 싶지 않다는 의미로 인스턴스 변수 앞에 '_' 사용\n",
    "        self._last_name = last_name\n",
    "\n",
    "\n",
    "    @property\n",
    "    def full_name(self):\n",
    "        return f'{self._first_name}{self._last_name}'\n",
    "\n",
    "\n",
    "licat = Person('li', 'cat')\n",
    "print(licat._first_name)\n",
    "print(licat._last_name)\n",
    "print(licat.full_name)\n",
    "# print(licat.full_name())"
   ]
  },
  {
   "cell_type": "code",
   "execution_count": null,
   "id": "500ce1ea",
   "metadata": {},
   "outputs": [
    {
     "name": "stdout",
     "output_type": "stream",
     "text": [
      "홍길동의 나이는 25세입니다.\n"
     ]
    }
   ],
   "source": [
    "# 속성 접근자의 값 설정\n",
    "\n",
    "class Person:\n",
    "    def __init__(self, name):\n",
    "        self.name = name\n",
    "        self._age = 0\n",
    "\n",
    "\n",
    "    @property\n",
    "    def age(self):\n",
    "        return self._age\n",
    "\n",
    "\n",
    "    @age.setter\n",
    "    def age(self, value):\n",
    "        if value < 0:\n",
    "            raise ValueError(\"나이는 음수일 수 없습니다.\")\n",
    "        self._age = value\n",
    "\n",
    "\n",
    "# 사용 예제\n",
    "person = Person(\"홍길동\")\n",
    "\n",
    "\n",
    "# age 속성 설정\n",
    "person.age = 25\n",
    "print(f\"{person.name}의 나이는 {person.age}세입니다.\")"
   ]
  },
  {
   "cell_type": "code",
   "execution_count": 5,
   "id": "bb29c962",
   "metadata": {},
   "outputs": [
    {
     "name": "stdout",
     "output_type": "stream",
     "text": [
      "꽥꽥!\n",
      "안녕하세요!\n"
     ]
    }
   ],
   "source": [
    "# 덕 타이핑\n",
    "# 실제 타입과는 상관치 않고 구현된 메서드로 확인하는 방법\n",
    "\n",
    "class Duck:\n",
    "    def quack(self):\n",
    "        print('꽥꽥!')\n",
    "\n",
    "\n",
    "class Person:\n",
    "    def quack(self):\n",
    "        print(\"안녕하세요!\")\n",
    "\n",
    "\n",
    "def quack(obj):\n",
    "    obj.quack()\n",
    "\n",
    "\n",
    "duck = Duck()\n",
    "person = Person()\n",
    "\n",
    "\n",
    "quack(duck)  # 출력: 꽥꽥!\n",
    "quack(person)  # 출력: 안녕하세요!"
   ]
  }
 ],
 "metadata": {
  "kernelspec": {
   "display_name": "Python 3",
   "language": "python",
   "name": "python3"
  },
  "language_info": {
   "codemirror_mode": {
    "name": "ipython",
    "version": 3
   },
   "file_extension": ".py",
   "mimetype": "text/x-python",
   "name": "python",
   "nbconvert_exporter": "python",
   "pygments_lexer": "ipython3",
   "version": "3.13.5"
  }
 },
 "nbformat": 4,
 "nbformat_minor": 5
}
