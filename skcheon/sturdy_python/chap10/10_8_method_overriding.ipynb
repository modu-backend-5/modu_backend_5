{
 "cells": [
  {
   "cell_type": "code",
   "execution_count": 1,
   "id": "ae993bfc",
   "metadata": {},
   "outputs": [],
   "source": [
    "# 메서드 오버라이딩\n",
    "# 서브 클래스에서 슈퍼 클래스의 메서드를 새롭게 정의하는 과정\n",
    "\n",
    "class Animal:\n",
    "    def sound(self):\n",
    "        print(\"기본 동물 울음 소리, 악!\")"
   ]
  },
  {
   "cell_type": "code",
   "execution_count": 4,
   "id": "3ae7b3f1",
   "metadata": {},
   "outputs": [
    {
     "name": "stdout",
     "output_type": "stream",
     "text": [
      "왈왈!\n",
      "냐옹!\n"
     ]
    }
   ],
   "source": [
    "# Animal 클래스를 상속받는 Dog, Cat 클래스에서 sound()메서드를 오버라이딩\n",
    "\n",
    "class Dog(Animal):\n",
    "    def sound(self):\n",
    "        print(\"왈왈!\")\n",
    " \n",
    "class Cat(Animal):\n",
    "    def sound(self):\n",
    "        print(\"냐옹!\")\n",
    "        \n",
    "dog = Dog()\n",
    "dog.sound()\n",
    "cat = Cat()\n",
    "cat.sound()"
   ]
  },
  {
   "cell_type": "code",
   "execution_count": 5,
   "id": "0b33acfe",
   "metadata": {},
   "outputs": [
    {
     "name": "stdout",
     "output_type": "stream",
     "text": [
      "기본 동물 울음 소리, 악!\n",
      "짹짹!\n"
     ]
    }
   ],
   "source": [
    "# super()를 사용해 부모 클래스의 메서드를 사용 가능\n",
    "\n",
    "class Bird(Animal):\n",
    "    def sound(self):\n",
    "        super().sound()\n",
    "        print(\"짹짹!\")\n",
    "        \n",
    "bird = Bird()\n",
    "bird.sound()"
   ]
  },
  {
   "cell_type": "code",
   "execution_count": 6,
   "id": "f314b1e0",
   "metadata": {},
   "outputs": [
    {
     "name": "stdout",
     "output_type": "stream",
     "text": [
      "Alice\n",
      "S12345\n"
     ]
    }
   ],
   "source": [
    "class Person:\n",
    "    def __init__(self, name):\n",
    "        self.name = name\n",
    "\n",
    "\n",
    "class Student(Person):\n",
    "    def __init__(self, name, student_id):\n",
    "        super().__init__(name)  # 부모 클래스의 __init__ 메서드 호출\n",
    "        self.student_id = student_id\n",
    "\n",
    "\n",
    "s = Student(\"Alice\", \"S12345\")\n",
    "print(s.name)        # 출력: Alice\n",
    "print(s.student_id)  # 출력: S12345"
   ]
  },
  {
   "cell_type": "code",
   "execution_count": null,
   "id": "d4c75053",
   "metadata": {},
   "outputs": [],
   "source": [
    "# 메서드 오버라이딩이 항상 가능한 것은 아니다.\n",
    "# 오버라이딩 불가 #1.\n",
    "x = 10\n",
    "x.__add__ = lambda self, other: 'hello world'\n",
    "x + x # error, 기본타입은 read only 입니다."
   ]
  },
  {
   "cell_type": "code",
   "execution_count": null,
   "id": "2efc91c2",
   "metadata": {},
   "outputs": [],
   "source": [
    "# 오버라이딩 불가 #2.\n",
    "def f():\n",
    "    pass    # non-type. 아무것도 정의하지 않음.\n",
    " \n",
    "f.__add__ = lambda self, other: 'hello world'\n",
    "f + f # error, 함수는 더하기를 허락하지 않습니다.\n",
    "f.__add__(10, 20)"
   ]
  },
  {
   "cell_type": "code",
   "execution_count": 10,
   "id": "1da233cd",
   "metadata": {},
   "outputs": [],
   "source": [
    "# 연산자 오버라이딩: 부모 클래스에서 정의한 메서드를 자식 클래스에서 변경하는 것\n",
    "\n",
    "# 연산자 오버로딩: 동일한 이름의 함수를 매개변수에 따라 다른 기능으로 동작하는 것, Python에서는 지원하지 않음\n",
    "\n",
    "# 주의! python에서는 오버로딩을 허용하지 않습니다. 비슷하게 구현하자면 아래와 같습니다. 각각 다른 함수가 호출되게 하는 기법입니다.\n",
    " \n",
    "class Cal:\n",
    "    def add(a):\n",
    "        pass\n",
    " \n",
    "    def add(a, b):\n",
    "        pass\n",
    " \n",
    "    def add(a, b, c):\n",
    "        pass\n",
    " \n",
    "# c = Cal()\n",
    "# c.add(10) # add(a)\n",
    "# c.add(10, 20) # add(a, b)\n",
    "# c.add(10, 20, 30) # add(a, b, c)"
   ]
  }
 ],
 "metadata": {
  "kernelspec": {
   "display_name": "Python 3",
   "language": "python",
   "name": "python3"
  },
  "language_info": {
   "codemirror_mode": {
    "name": "ipython",
    "version": 3
   },
   "file_extension": ".py",
   "mimetype": "text/x-python",
   "name": "python",
   "nbconvert_exporter": "python",
   "pygments_lexer": "ipython3",
   "version": "3.13.5"
  }
 },
 "nbformat": 4,
 "nbformat_minor": 5
}
