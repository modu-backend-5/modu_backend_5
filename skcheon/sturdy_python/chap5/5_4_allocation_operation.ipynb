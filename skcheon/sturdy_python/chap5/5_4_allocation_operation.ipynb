{
 "cells": [
  {
   "cell_type": "code",
   "execution_count": null,
   "id": "5efc7605",
   "metadata": {},
   "outputs": [],
   "source": [
    "# 할당연산"
   ]
  },
  {
   "cell_type": "code",
   "execution_count": 1,
   "id": "21ffe17c",
   "metadata": {},
   "outputs": [
    {
     "name": "stdout",
     "output_type": "stream",
     "text": [
      "25\n"
     ]
    }
   ],
   "source": [
    "# 복합 할당 연산\n",
    "\n",
    "x = 5\n",
    "y = 2\n",
    "z = 10\n",
    "\n",
    "\n",
    "x += y * z  # y * z 연산 후 x에 값을 할당합니다.\n",
    "print(x)  # 결과: 25"
   ]
  }
 ],
 "metadata": {
  "kernelspec": {
   "display_name": "Python 3",
   "language": "python",
   "name": "python3"
  },
  "language_info": {
   "codemirror_mode": {
    "name": "ipython",
    "version": 3
   },
   "file_extension": ".py",
   "mimetype": "text/x-python",
   "name": "python",
   "nbconvert_exporter": "python",
   "pygments_lexer": "ipython3",
   "version": "3.13.5"
  }
 },
 "nbformat": 4,
 "nbformat_minor": 5
}
