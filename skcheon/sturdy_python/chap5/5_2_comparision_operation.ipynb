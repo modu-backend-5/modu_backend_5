{
 "cells": [
  {
   "cell_type": "code",
   "execution_count": 1,
   "id": "9d28cf88",
   "metadata": {},
   "outputs": [
    {
     "name": "stdout",
     "output_type": "stream",
     "text": [
      "True\n"
     ]
    }
   ],
   "source": [
    "# 비교 연산\n",
    "# 비교 연산자\n",
    "# ==\n",
    "print(5 == 5) # 결과: True\n",
    "# print(5 = 5) # 잘못된 예시"
   ]
  },
  {
   "cell_type": "code",
   "execution_count": 2,
   "id": "cea91b57",
   "metadata": {},
   "outputs": [
    {
     "name": "stdout",
     "output_type": "stream",
     "text": [
      "True\n"
     ]
    }
   ],
   "source": [
    "# !=\n",
    "print(5 != 3) # 결과: True"
   ]
  },
  {
   "cell_type": "code",
   "execution_count": 4,
   "id": "76f44e82",
   "metadata": {},
   "outputs": [
    {
     "name": "stdout",
     "output_type": "stream",
     "text": [
      "True\n",
      "False\n"
     ]
    }
   ],
   "source": [
    "# 문자열 비교 시 첫번째 문자의 유니코드를 비교. 한글도 가능\n",
    "print('apple' < 'banana') # 결과: True\n",
    "print('하하' > '후후') # 결과: False"
   ]
  },
  {
   "cell_type": "code",
   "execution_count": 5,
   "id": "88d7f090",
   "metadata": {},
   "outputs": [
    {
     "name": "stdout",
     "output_type": "stream",
     "text": [
      "True\n"
     ]
    }
   ],
   "source": [
    "# 연속적인 비교 가능\n",
    "x = 10\n",
    "print(5 < x < 15) # 결과: True"
   ]
  },
  {
   "cell_type": "code",
   "execution_count": 6,
   "id": "923a7437",
   "metadata": {},
   "outputs": [
    {
     "data": {
      "text/plain": [
       "False"
      ]
     },
     "execution_count": 6,
     "metadata": {},
     "output_type": "execute_result"
    }
   ],
   "source": [
    "# 리스트의 비교는 맨 앞자리를 비교\n",
    "[10, 20, 30] > [20, 30, 40] # False"
   ]
  },
  {
   "cell_type": "code",
   "execution_count": null,
   "id": "fe98789f",
   "metadata": {},
   "outputs": [],
   "source": [
    "# 타입이 다르면 비교 불가\n",
    "[10, 20, 30] > (20, 30, 40) # error"
   ]
  },
  {
   "cell_type": "code",
   "execution_count": 7,
   "id": "30e8c2f0",
   "metadata": {},
   "outputs": [
    {
     "data": {
      "text/plain": [
       "True"
      ]
     },
     "execution_count": 7,
     "metadata": {},
     "output_type": "execute_result"
    }
   ],
   "source": [
    "# 맨 앞자리가 같으면 그 다음 자리로 넘어가며 비교\n",
    "'abcde' > 'abcda' # True"
   ]
  },
  {
   "cell_type": "code",
   "execution_count": 8,
   "id": "406c2465",
   "metadata": {},
   "outputs": [
    {
     "data": {
      "text/plain": [
       "False"
      ]
     },
     "execution_count": 8,
     "metadata": {},
     "output_type": "execute_result"
    }
   ],
   "source": [
    "# 자릿수가 많을 경우 자릿수가 많은 값을 더 많은 값으로 취급\n",
    "'abcd' > 'abcda'"
   ]
  },
  {
   "cell_type": "code",
   "execution_count": 9,
   "id": "82abe86f",
   "metadata": {},
   "outputs": [
    {
     "name": "stdout",
     "output_type": "stream",
     "text": [
      "False\n",
      "True\n",
      "False\n",
      "False\n",
      "False\n"
     ]
    }
   ],
   "source": [
    "# 부동소숫점의 비교\n",
    "\n",
    "import math\n",
    "\n",
    "\n",
    "result = 0.1 + 0.2\n",
    "print(result == 0.3)              # False\n",
    "print(math.isclose(result, 0.3))  # True\n",
    "print(math.isclose(result, 0.29)) # False\n",
    "print(math.isclose(result, 0.31)) # False\n",
    "print(math.isclose(result, 0.30000001)) # False"
   ]
  }
 ],
 "metadata": {
  "kernelspec": {
   "display_name": "Python 3",
   "language": "python",
   "name": "python3"
  },
  "language_info": {
   "codemirror_mode": {
    "name": "ipython",
    "version": 3
   },
   "file_extension": ".py",
   "mimetype": "text/x-python",
   "name": "python",
   "nbconvert_exporter": "python",
   "pygments_lexer": "ipython3",
   "version": "3.13.5"
  }
 },
 "nbformat": 4,
 "nbformat_minor": 5
}
