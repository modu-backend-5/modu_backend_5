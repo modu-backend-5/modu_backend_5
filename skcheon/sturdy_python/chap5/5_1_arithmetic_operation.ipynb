{
 "cells": [
  {
   "cell_type": "code",
   "execution_count": null,
   "id": "be42b61f",
   "metadata": {},
   "outputs": [],
   "source": [
    "# 산술연산"
   ]
  },
  {
   "cell_type": "code",
   "execution_count": 1,
   "id": "b4dc08eb",
   "metadata": {},
   "outputs": [
    {
     "name": "stdout",
     "output_type": "stream",
     "text": [
      "8\n",
      "5.5\n"
     ]
    }
   ],
   "source": [
    "# 산술연산자\n",
    "# 덧셈\n",
    "print(5 + 3) # 결과: 8\n",
    "print(3 + 2.5) # 결과: 5.5"
   ]
  },
  {
   "cell_type": "code",
   "execution_count": 2,
   "id": "f7eb6f7e",
   "metadata": {},
   "outputs": [
    {
     "name": "stdout",
     "output_type": "stream",
     "text": [
      "Hello World\n"
     ]
    }
   ],
   "source": [
    "s1 = \"Hello\"\n",
    "s2 = \"World\"\n",
    "result = s1 + \" \" + s2\n",
    "print(result)  # Hello World"
   ]
  },
  {
   "cell_type": "code",
   "execution_count": 3,
   "id": "368db0e7",
   "metadata": {},
   "outputs": [
    {
     "name": "stdout",
     "output_type": "stream",
     "text": [
      "[1, 2, 3, 4, 5, 6]\n"
     ]
    }
   ],
   "source": [
    "list1 = [1, 2, 3]\n",
    "list2 = [4, 5, 6]\n",
    "combined_list = list1 + list2\n",
    "print(combined_list)  # [1, 2, 3, 4, 5, 6]"
   ]
  },
  {
   "cell_type": "code",
   "execution_count": 4,
   "id": "cd17bab8",
   "metadata": {},
   "outputs": [
    {
     "name": "stdout",
     "output_type": "stream",
     "text": [
      "(1, 2, 3, 4, 5, 6)\n"
     ]
    }
   ],
   "source": [
    "tuple1 = (1, 2, 3)\n",
    "tuple2 = (4, 5, 6)\n",
    "combined_tuple = tuple1 + tuple2\n",
    "print(combined_tuple)  # (1, 2, 3, 4, 5, 6)"
   ]
  },
  {
   "cell_type": "code",
   "execution_count": 5,
   "id": "b3d0f149",
   "metadata": {},
   "outputs": [
    {
     "ename": "TypeError",
     "evalue": "can only concatenate str (not \"int\") to str",
     "output_type": "error",
     "traceback": [
      "\u001b[31m---------------------------------------------------------------------------\u001b[39m",
      "\u001b[31mTypeError\u001b[39m                                 Traceback (most recent call last)",
      "\u001b[36mCell\u001b[39m\u001b[36m \u001b[39m\u001b[32mIn[5]\u001b[39m\u001b[32m, line 2\u001b[39m\n\u001b[32m      1\u001b[39m \u001b[38;5;66;03m# 서로 다른 자료형 간의 덧셈은 불가\u001b[39;00m\n\u001b[32m----> \u001b[39m\u001b[32m2\u001b[39m result = \u001b[33;43m\"\u001b[39;49m\u001b[33;43mHello\u001b[39;49m\u001b[33;43m\"\u001b[39;49m\u001b[43m \u001b[49m\u001b[43m+\u001b[49m\u001b[43m \u001b[49m\u001b[32;43m5\u001b[39;49m\n",
      "\u001b[31mTypeError\u001b[39m: can only concatenate str (not \"int\") to str"
     ]
    }
   ],
   "source": [
    "# 서로 다른 자료형 간의 덧셈은 불가\n",
    "result = \"Hello\" + 5"
   ]
  },
  {
   "cell_type": "code",
   "execution_count": 6,
   "id": "25e92297",
   "metadata": {},
   "outputs": [
    {
     "ename": "TypeError",
     "evalue": "unsupported operand type(s) for +: 'dict' and 'dict'",
     "output_type": "error",
     "traceback": [
      "\u001b[31m---------------------------------------------------------------------------\u001b[39m",
      "\u001b[31mTypeError\u001b[39m                                 Traceback (most recent call last)",
      "\u001b[36mCell\u001b[39m\u001b[36m \u001b[39m\u001b[32mIn[6]\u001b[39m\u001b[32m, line 2\u001b[39m\n\u001b[32m      1\u001b[39m \u001b[38;5;66;03m# 딕셔너리와 셋은 덧셈을 지원하지 않는다\u001b[39;00m\n\u001b[32m----> \u001b[39m\u001b[32m2\u001b[39m \u001b[43m{\u001b[49m\u001b[33;43m'\u001b[39;49m\u001b[33;43mone\u001b[39;49m\u001b[33;43m'\u001b[39;49m\u001b[43m:\u001b[49m\u001b[32;43m1\u001b[39;49m\u001b[43m}\u001b[49m\u001b[43m \u001b[49m\u001b[43m+\u001b[49m\u001b[43m \u001b[49m\u001b[43m{\u001b[49m\u001b[33;43m'\u001b[39;49m\u001b[33;43mtwo\u001b[39;49m\u001b[33;43m'\u001b[39;49m\u001b[43m:\u001b[49m\u001b[32;43m2\u001b[39;49m\u001b[43m}\u001b[49m \u001b[38;5;66;03m# error\u001b[39;00m\n\u001b[32m      3\u001b[39m {\u001b[32m5\u001b[39m} + {\u001b[32m6\u001b[39m} \u001b[38;5;66;03m# error\u001b[39;00m\n",
      "\u001b[31mTypeError\u001b[39m: unsupported operand type(s) for +: 'dict' and 'dict'"
     ]
    }
   ],
   "source": [
    "# 딕셔너리와 셋은 덧셈을 지원하지 않는다\n",
    "{'one':1} + {'two':2} # error\n",
    "{5} + {6} # error"
   ]
  },
  {
   "cell_type": "code",
   "execution_count": 7,
   "id": "425ba8b9",
   "metadata": {},
   "outputs": [
    {
     "name": "stdout",
     "output_type": "stream",
     "text": [
      "{'one': 1, 'two': 2}\n",
      "{5, 6}\n"
     ]
    }
   ],
   "source": [
    "# 딕셔너리와 셋은 + 대신 |을 사용해 결합 가능\n",
    "print({'one':1} | {'two':2}) # 결과: {'one': 1, 'two': 2}\n",
    "print({5} | {6}) # 결과: {5, 6}"
   ]
  },
  {
   "cell_type": "code",
   "execution_count": 8,
   "id": "911ff127",
   "metadata": {},
   "outputs": [
    {
     "name": "stdout",
     "output_type": "stream",
     "text": [
      "3\n",
      "6.5\n",
      "8\n"
     ]
    }
   ],
   "source": [
    "# 뺄셈\n",
    "print(7 - 4) # 결과: 3\n",
    "print(10 - 3.5) # 결과: 6.5\n",
    "print(5 - (-3)) # 결과: 8"
   ]
  },
  {
   "cell_type": "code",
   "execution_count": 9,
   "id": "ef305204",
   "metadata": {},
   "outputs": [
    {
     "data": {
      "text/plain": [
       "{3, 5}"
      ]
     },
     "execution_count": 9,
     "metadata": {},
     "output_type": "execute_result"
    }
   ],
   "source": [
    "# 셋은 + 기호는 지원하지 않지만 - 기호로 차집합을 지원\n",
    "{3, 4, 5} - {4} # 결과: {3, 5}"
   ]
  },
  {
   "cell_type": "code",
   "execution_count": 10,
   "id": "27e75eb5",
   "metadata": {},
   "outputs": [
    {
     "data": {
      "text/plain": [
       "{3, 5}"
      ]
     },
     "execution_count": 10,
     "metadata": {},
     "output_type": "execute_result"
    }
   ],
   "source": [
    "{3, 4, 5}.difference({4}) # 결과: {3, 5}"
   ]
  },
  {
   "cell_type": "code",
   "execution_count": null,
   "id": "06bbfde0",
   "metadata": {},
   "outputs": [],
   "source": [
    "# 서로 다른 자료형 간의 뺄셈은 불가능\n",
    "result = \"Hello\" - 3 # error"
   ]
  },
  {
   "cell_type": "code",
   "execution_count": 11,
   "id": "df075725",
   "metadata": {},
   "outputs": [
    {
     "name": "stdout",
     "output_type": "stream",
     "text": [
      "3\n",
      "11\n",
      "3\n"
     ]
    }
   ],
   "source": [
    "print(7 - 4) # 결과: 3\n",
    "print(7 -- 4) # 결과: 11\n",
    "print(7 --- 4) # 결과: 3"
   ]
  },
  {
   "cell_type": "code",
   "execution_count": 12,
   "id": "43d22e6b",
   "metadata": {},
   "outputs": [
    {
     "name": "stdout",
     "output_type": "stream",
     "text": [
      "12\n",
      "12.5\n"
     ]
    }
   ],
   "source": [
    "# 곱셈\n",
    "print(3 * 4) # 결과: 12\n",
    "print(5 * 2.5) # 결과: 12.5"
   ]
  },
  {
   "cell_type": "code",
   "execution_count": 13,
   "metadata": {},
   "outputs": [
    {
     "name": "stdout",
     "output_type": "stream",
     "text": [
      "HaHaHa\n"
     ]
    }
   ],
   "source": [
    "print(\"Ha\" * 3) # 출력: \"HaHaHa\"\n",
    "# print(\"Ha\" * 3.1) # Error"
   ]
  },
  {
   "cell_type": "code",
   "execution_count": 14,
   "id": "4580114a",
   "metadata": {},
   "outputs": [
    {
     "name": "stdout",
     "output_type": "stream",
     "text": [
      "[1, 2, 3, 1, 2, 3]\n"
     ]
    }
   ],
   "source": [
    "print([1, 2, 3] * 2) # 출력: [1, 2, 3, 1, 2, 3]"
   ]
  },
  {
   "cell_type": "code",
   "execution_count": null,
   "id": "b47cbc0f",
   "metadata": {},
   "outputs": [
    {
     "name": "stdout",
     "output_type": "stream",
     "text": [
      "5.0\n",
      "5\n"
     ]
    }
   ],
   "source": [
    "# 나눗셈\n",
    "a = 10\n",
    "b = 2\n",
    "print(a / b) # 결과 5.0\n",
    "print(a // b) # 결과 5 -> 정수형으로 반환"
   ]
  },
  {
   "cell_type": "code",
   "execution_count": 16,
   "id": "bcf1d302",
   "metadata": {},
   "outputs": [
    {
     "name": "stdout",
     "output_type": "stream",
     "text": [
      "-2.5\n",
      "-3\n"
     ]
    }
   ],
   "source": [
    "a = -5\n",
    "b = 2\n",
    "print(a / b) # 결과: -2.5\n",
    "print(a // b) # 결과: -3"
   ]
  },
  {
   "cell_type": "code",
   "execution_count": null,
   "id": "76b43ae1",
   "metadata": {},
   "outputs": [],
   "source": [
    "z = 0\n",
    "100 / z # ZeroDivisionError 발생"
   ]
  },
  {
   "cell_type": "code",
   "execution_count": 17,
   "id": "1c8ca0c8",
   "metadata": {},
   "outputs": [
    {
     "name": "stdout",
     "output_type": "stream",
     "text": [
      "10 ÷ 3 = 3.33\n"
     ]
    }
   ],
   "source": [
    "a = 10\n",
    "b = 3\n",
    "divide = a / b\n",
    "print(f'{a} ÷ {b} = {divide:.2f}')  # 결과: 10 ÷ 3 = 3.33"
   ]
  },
  {
   "cell_type": "code",
   "execution_count": 18,
   "id": "d0f82e95",
   "metadata": {},
   "outputs": [
    {
     "data": {
      "text/plain": [
       "1"
      ]
     },
     "execution_count": 18,
     "metadata": {},
     "output_type": "execute_result"
    }
   ],
   "source": [
    "# 나머지 연산자\n",
    "10 % 3 # 결과: 1"
   ]
  },
  {
   "cell_type": "code",
   "execution_count": 19,
   "id": "dd3794c9",
   "metadata": {},
   "outputs": [
    {
     "data": {
      "text/plain": [
       "False"
      ]
     },
     "execution_count": 19,
     "metadata": {},
     "output_type": "execute_result"
    }
   ],
   "source": [
    "10 % 2 == 0 # 홀수, 짝수 판별\n",
    "365 % 10 == 0 # 1의 자리 반환"
   ]
  },
  {
   "cell_type": "code",
   "execution_count": 21,
   "id": "0d37591e",
   "metadata": {},
   "outputs": [
    {
     "data": {
      "text/plain": [
       "1000"
      ]
     },
     "execution_count": 21,
     "metadata": {},
     "output_type": "execute_result"
    }
   ],
   "source": [
    "# 거듭제곱 연산자\n",
    "10 ** 3 # 결과: 1000"
   ]
  },
  {
   "cell_type": "code",
   "execution_count": 22,
   "id": "8c0b2c3e",
   "metadata": {},
   "outputs": [
    {
     "data": {
      "text/plain": [
       "2.0"
      ]
     },
     "execution_count": 22,
     "metadata": {},
     "output_type": "execute_result"
    }
   ],
   "source": [
    "4 ** 0.5 # 결과: 2"
   ]
  },
  {
   "cell_type": "code",
   "execution_count": 24,
   "id": "ae721aaa",
   "metadata": {},
   "outputs": [
    {
     "data": {
      "text/plain": [
       "-4"
      ]
     },
     "execution_count": 24,
     "metadata": {},
     "output_type": "execute_result"
    }
   ],
   "source": [
    "-2 ** 2"
   ]
  },
  {
   "cell_type": "code",
   "execution_count": 23,
   "id": "a330f040",
   "metadata": {},
   "outputs": [
    {
     "data": {
      "text/plain": [
       "4"
      ]
     },
     "execution_count": 23,
     "metadata": {},
     "output_type": "execute_result"
    }
   ],
   "source": [
    "(-2) ** 2"
   ]
  },
  {
   "cell_type": "code",
   "execution_count": null,
   "id": "ed6132b6",
   "metadata": {},
   "outputs": [],
   "source": [
    "# 전/후위 연산자"
   ]
  }
 ],
 "metadata": {
  "kernelspec": {
   "display_name": "Python 3",
   "language": "python",
   "name": "python3"
  },
  "language_info": {
   "codemirror_mode": {
    "name": "ipython",
    "version": 3
   },
   "file_extension": ".py",
   "mimetype": "text/x-python",
   "name": "python",
   "nbconvert_exporter": "python",
   "pygments_lexer": "ipython3",
   "version": "3.13.5"
  }
 },
 "nbformat": 4,
 "nbformat_minor": 5
}
