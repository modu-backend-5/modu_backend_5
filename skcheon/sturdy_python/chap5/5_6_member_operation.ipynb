{
 "cells": [
  {
   "cell_type": "code",
   "execution_count": 1,
   "id": "f632dcb0",
   "metadata": {},
   "outputs": [
    {
     "name": "stdout",
     "output_type": "stream",
     "text": [
      "True\n",
      "True\n"
     ]
    }
   ],
   "source": [
    "# 멤버 연산\n",
    "\n",
    "fruits = [\"사과\", \"바나나\", \"포도\"]\n",
    "\n",
    "\n",
    "print(\"사과\" in fruits)  # True, 사과가 목록에 있기 때문이에요.\n",
    "print(\"오렌지\" not in fruits)  # True, 오렌지는 목록에 없기 때문이에요."
   ]
  },
  {
   "cell_type": "code",
   "execution_count": 2,
   "id": "02708a43",
   "metadata": {},
   "outputs": [
    {
     "name": "stdout",
     "output_type": "stream",
     "text": [
      "True\n",
      "True\n",
      "False\n",
      "False\n",
      "True\n",
      "True\n"
     ]
    }
   ],
   "source": [
    "a = [1, 2, 3, 4]\n",
    "b = [1, 2, 3, 4]\n",
    "c = 'hello world'\n",
    "\n",
    "\n",
    "print(1 in a) # 출력: True\n",
    "print(0 not in a) # 출력: True\n",
    "print([2] in b) # 출력: False\n",
    "print([1, 2] in b) # 출력: False\n",
    "print('h' in c) # 출력: True\n",
    "print('hello ' in c) # 출력: True"
   ]
  },
  {
   "cell_type": "code",
   "execution_count": 3,
   "id": "379120ee",
   "metadata": {},
   "outputs": [
    {
     "name": "stdout",
     "output_type": "stream",
     "text": [
      "True\n",
      "False\n",
      "False\n",
      "True\n",
      "False\n",
      "False\n"
     ]
    }
   ],
   "source": [
    "a = {'key1': 'value1', 'key2': 'value2'} #딕셔너리\n",
    "b = {10, 10, 20}\n",
    "print(10 in b) # 출력: True\n",
    "print({10} in b) # 출력: False, 주의\n",
    "print({10, 20} in b) # 출력: False, 주의\n",
    "\n",
    "\n",
    "print('key1' in a) # 출력: True\n",
    "print('value1' in a) # 출력: False\n",
    "print(('key1', 'key2') in a) # 출력: False\n",
    "# {'key1':'value1'} in a # error"
   ]
  }
 ],
 "metadata": {
  "kernelspec": {
   "display_name": "Python 3",
   "language": "python",
   "name": "python3"
  },
  "language_info": {
   "codemirror_mode": {
    "name": "ipython",
    "version": 3
   },
   "file_extension": ".py",
   "mimetype": "text/x-python",
   "name": "python",
   "nbconvert_exporter": "python",
   "pygments_lexer": "ipython3",
   "version": "3.13.5"
  }
 },
 "nbformat": 4,
 "nbformat_minor": 5
}
