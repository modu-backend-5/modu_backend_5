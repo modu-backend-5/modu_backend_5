{
 "cells": [
  {
   "cell_type": "code",
   "execution_count": null,
   "id": "8719c686",
   "metadata": {},
   "outputs": [
    {
     "name": "stdout",
     "output_type": "stream",
     "text": [
      "True\n",
      "False\n",
      "False\n",
      "False\n"
     ]
    }
   ],
   "source": [
    "# 논리연산\n",
    "\n",
    "# and 연산자(논리곱 연산자)\n",
    "\n",
    "# and 두가지 조건이 모두 참일때만 True\n",
    "# 예 5 > 3 and 4 > 3 -> True\n",
    "# 하나라도 조건이 틀리면 False\n",
    "# 값이 같더라도 ID가 달라서 False 여러가지 상황이 있다.\n",
    "\n",
    "\n",
    "print(True and True)   # 결과: True\n",
    "print(True and False)  # 결과: False\n",
    "print(False and True)  # 결과: False\n",
    "print(False and False) # 결과: False"
   ]
  },
  {
   "cell_type": "code",
   "execution_count": 2,
   "id": "a4017965",
   "metadata": {},
   "outputs": [
    {
     "name": "stdout",
     "output_type": "stream",
     "text": [
      "True\n",
      "True\n",
      "True\n",
      "False\n"
     ]
    }
   ],
   "source": [
    "# or 연산자(논리합 연산자)\n",
    "\n",
    "# or 두가지 조건 중 하나라도 참이면 True\n",
    "# 예 5 > 3 or 4 < 3 -> True\n",
    "# 하나라도 조건이 맞으면 True\n",
    "\n",
    "\n",
    "print(True or True)   # 결과: True\n",
    "print(True or False)  # 결과: True (and와 차이점)\n",
    "print(False or True)  # 결과: True (and와 차이점)\n",
    "print(False or False) # 결과: False"
   ]
  },
  {
   "cell_type": "code",
   "execution_count": 3,
   "id": "a593f78e",
   "metadata": {},
   "outputs": [
    {
     "name": "stdout",
     "output_type": "stream",
     "text": [
      "False\n",
      "True\n"
     ]
    }
   ],
   "source": [
    "# not 연산자\n",
    "\n",
    "print(not True)  # 결과: False\n",
    "print(not False) # 결과: True"
   ]
  },
  {
   "cell_type": "code",
   "execution_count": 4,
   "id": "d4660b8e",
   "metadata": {},
   "outputs": [
    {
     "name": "stdout",
     "output_type": "stream",
     "text": [
      "True\n"
     ]
    }
   ],
   "source": [
    "num = 15\n",
    "result = num > 10 and num < 20 # 기억해주세요\n",
    "print(result) # 결과: True"
   ]
  },
  {
   "cell_type": "code",
   "execution_count": null,
   "id": "7a7cd367",
   "metadata": {},
   "outputs": [
    {
     "name": "stdout",
     "output_type": "stream",
     "text": [
      "0\n",
      "15\n",
      "30\n",
      "45\n",
      "60\n",
      "75\n",
      "90\n"
     ]
    }
   ],
   "source": [
    "for i in range(101): # 0부터 100까지를 반복합니다.\n",
    "    if i % 3 == 0 and i % 5 == 0:   # 3의 배수이면서 5의 배수인 수 출력\n",
    "        print(i)"
   ]
  },
  {
   "cell_type": "code",
   "execution_count": 7,
   "id": "3ec5ae92",
   "metadata": {},
   "outputs": [
    {
     "data": {
      "text/plain": [
       "''"
      ]
     },
     "execution_count": 7,
     "metadata": {},
     "output_type": "execute_result"
    }
   ],
   "source": [
    "# 단락 평가(단락 연산)\n",
    "# A and B 형태의 연산에서 A가 거짓으로 판단되면, B는 평가되지 않고 바로 False로 결정\n",
    "\n",
    "a = 'hello'\n",
    "b = ''\n",
    " \n",
    "a and b # 출력: ''\n"
   ]
  },
  {
   "cell_type": "code",
   "execution_count": 8,
   "id": "e2dfac0d",
   "metadata": {},
   "outputs": [
    {
     "data": {
      "text/plain": [
       "'world'"
      ]
     },
     "execution_count": 8,
     "metadata": {},
     "output_type": "execute_result"
    }
   ],
   "source": [
    "a = 'hello'\n",
    "b = 'world'\n",
    " \n",
    "a and b # 출력: world"
   ]
  },
  {
   "cell_type": "code",
   "execution_count": null,
   "id": "8937fdb3",
   "metadata": {},
   "outputs": [],
   "source": [
    "a = ''\n",
    "b = 'world'\n",
    " \n",
    "a and b # 출력: '' -> "
   ]
  },
  {
   "cell_type": "code",
   "execution_count": 9,
   "id": "c8bf3f54",
   "metadata": {},
   "outputs": [
    {
     "name": "stdout",
     "output_type": "stream",
     "text": [
      "test1 함수 호출!\n",
      "False\n"
     ]
    }
   ],
   "source": [
    "def test1():\n",
    "    print(\"test1 함수 호출!\")\n",
    "    return False\n",
    "\n",
    "\n",
    "def test2():\n",
    "    print(\"test2 함수 호출!\")\n",
    "    return True\n",
    "\n",
    "\n",
    "result = test1() and test2()\n",
    "print(result) # 결과: False"
   ]
  },
  {
   "cell_type": "code",
   "execution_count": null,
   "id": "6c8b2a8f",
   "metadata": {},
   "outputs": [],
   "source": [
    "lst = []\n",
    "if lst and lst[0] > 3:  # lst가 하나 이상의 요소를 가진 경우, 그리고 첫 번째 요소가 3보다 클 경우\n",
    "    print(\"리스트의 첫 번째 원소는 3보다 큽니다.\")"
   ]
  },
  {
   "cell_type": "code",
   "execution_count": 13,
   "id": "6b55252d",
   "metadata": {},
   "outputs": [
    {
     "data": {
      "text/plain": [
       "'hello'"
      ]
     },
     "execution_count": 13,
     "metadata": {},
     "output_type": "execute_result"
    }
   ],
   "source": [
    "# A or B 형태의 연산에서 A가 참으로 평가되면, B는 평가되지 않고 바로 True로 결정됨\n",
    "a = 'hello'\n",
    "b = ''\n",
    "\n",
    "\n",
    "a or b # 출력: 'hello'"
   ]
  }
 ],
 "metadata": {
  "kernelspec": {
   "display_name": "Python 3",
   "language": "python",
   "name": "python3"
  },
  "language_info": {
   "codemirror_mode": {
    "name": "ipython",
    "version": 3
   },
   "file_extension": ".py",
   "mimetype": "text/x-python",
   "name": "python",
   "nbconvert_exporter": "python",
   "pygments_lexer": "ipython3",
   "version": "3.13.5"
  }
 },
 "nbformat": 4,
 "nbformat_minor": 5
}
