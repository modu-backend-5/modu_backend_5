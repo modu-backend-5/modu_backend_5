{
 "cells": [
  {
   "cell_type": "code",
   "execution_count": 1,
   "id": "8772f338",
   "metadata": {},
   "outputs": [
    {
     "name": "stdout",
     "output_type": "stream",
     "text": [
      "True\n",
      "True\n"
     ]
    }
   ],
   "source": [
    "# 식별연산\n",
    "# 두 변수가 동일한 객체를 참조하고 있는지 확인\n",
    "# is와 is not을 사용하여 확인\n",
    "\n",
    "coffee_employee = \"Brand\"\n",
    "orange_employee = \"Brand\"\n",
    "\n",
    "\n",
    "print(coffee_employee is orange_employee)\n",
    "print(coffee_employee == orange_employee)"
   ]
  },
  {
   "cell_type": "code",
   "execution_count": null,
   "id": "93ca9aa8",
   "metadata": {},
   "outputs": [
    {
     "name": "stdout",
     "output_type": "stream",
     "text": [
      "a == b True\n",
      "a == c True\n",
      "a is b False\n",
      "a is c True\n"
     ]
    }
   ],
   "source": [
    "a = [1, 2, 3]\n",
    "b = [1, 2, 3]\n",
    "c = a   # c는 a와 같은 객체를 참조함\n",
    "\n",
    "\n",
    "print('a == b', a == b)\n",
    "print('a == c', a == c)\n",
    "print('a is b', a is b)\n",
    "print('a is c', a is c)"
   ]
  },
  {
   "cell_type": "code",
   "execution_count": 5,
   "id": "b7b3de1e",
   "metadata": {},
   "outputs": [
    {
     "name": "stdout",
     "output_type": "stream",
     "text": [
      "[1, 2, 3] [1, 2, 3] [1, 2, 3]\n",
      "2453315947328\n",
      "2453315947328\n",
      "2453315948480\n",
      "True\n",
      "False\n"
     ]
    }
   ],
   "source": [
    "x = [1, 2, 3]\n",
    "y = x\n",
    "z = [1, 2, 3]\n",
    "\n",
    "\n",
    "print(x, y, z)\n",
    "\n",
    "print(id(x))  # 예: 139760050602048\n",
    "print(id(y))  # 예: 139760050602048\n",
    "print(id(z))  # 예: 139760050602888\n",
    "\n",
    "print(x is y)  # True입니다. 왜냐하면 둘 다 동일한 객체를 참조하고 있기 때문입니다.\n",
    "print(x is z)  # False입니다. 왜냐하면 둘은 서로 다른 객체를 참조하고 있기 때문입니다."
   ]
  }
 ],
 "metadata": {
  "kernelspec": {
   "display_name": "Python 3",
   "language": "python",
   "name": "python3"
  },
  "language_info": {
   "codemirror_mode": {
    "name": "ipython",
    "version": 3
   },
   "file_extension": ".py",
   "mimetype": "text/x-python",
   "name": "python",
   "nbconvert_exporter": "python",
   "pygments_lexer": "ipython3",
   "version": "3.13.5"
  }
 },
 "nbformat": 4,
 "nbformat_minor": 5
}
