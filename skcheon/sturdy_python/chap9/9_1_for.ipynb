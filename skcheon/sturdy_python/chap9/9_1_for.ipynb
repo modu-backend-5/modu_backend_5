{
 "cells": [
  {
   "cell_type": "code",
   "execution_count": null,
   "id": "5c8be5da",
   "metadata": {},
   "outputs": [],
   "source": [
    "# for문"
   ]
  },
  {
   "cell_type": "code",
   "execution_count": 1,
   "id": "49b8becb",
   "metadata": {},
   "outputs": [
    {
     "name": "stdout",
     "output_type": "stream",
     "text": [
      "1-1\n",
      "2-1\n",
      "3-1\n",
      "4-1\n",
      "5-1\n",
      "6-1\n",
      "7-1\n",
      "8-1\n",
      "9-1\n",
      "10-1\n"
     ]
    }
   ],
   "source": [
    "for i in range(1, 11) :\n",
    "    print(f'{i}-1')"
   ]
  },
  {
   "cell_type": "code",
   "execution_count": 2,
   "id": "5835ba49",
   "metadata": {},
   "outputs": [
    {
     "name": "stdout",
     "output_type": "stream",
     "text": [
      "현재 값은 h 입니다.\n",
      "현재 값은 e 입니다.\n",
      "현재 값은 l 입니다.\n",
      "현재 값은 l 입니다.\n",
      "현재 값은 o 입니다.\n"
     ]
    }
   ],
   "source": [
    "for s in 'hello': # 순회 가능한 객체가 들어갑니다.\n",
    "    print(f'현재 값은 {s} 입니다.')"
   ]
  },
  {
   "cell_type": "code",
   "execution_count": null,
   "id": "245a1d9c",
   "metadata": {},
   "outputs": [
    {
     "name": "stdout",
     "output_type": "stream",
     "text": [
      "6\n"
     ]
    }
   ],
   "source": [
    "s = '123'\n",
    "result = 0\n",
    "for i in s:\n",
    "    if i.isdigit():\n",
    "        result += int(i)\n",
    "print(result)"
   ]
  },
  {
   "cell_type": "code",
   "execution_count": 4,
   "id": "5e1e4bac",
   "metadata": {},
   "outputs": [
    {
     "name": "stdout",
     "output_type": "stream",
     "text": [
      "01010002000\n"
     ]
    }
   ],
   "source": [
    "s = '010-1000?2000'\n",
    "result = ''\n",
    "for i in s:\n",
    "    if i.isdigit():\n",
    "        result += i\n",
    "print(result)"
   ]
  },
  {
   "cell_type": "code",
   "execution_count": 5,
   "id": "b0d7b59b",
   "metadata": {},
   "outputs": [
    {
     "name": "stdout",
     "output_type": "stream",
     "text": [
      "one\n",
      "two\n",
      "three\n"
     ]
    }
   ],
   "source": [
    "l = ['one', 'two', 'three']\n",
    "for i in l:\n",
    "    print(i)"
   ]
  },
  {
   "cell_type": "code",
   "execution_count": 6,
   "id": "ee01526d",
   "metadata": {},
   "outputs": [
    {
     "name": "stdout",
     "output_type": "stream",
     "text": [
      "[1, 2]\n",
      "3\n",
      "[10, 20]\n",
      "30\n",
      "[100, 200]\n",
      "300\n"
     ]
    }
   ],
   "source": [
    "for i in [[1, 2], [10, 20], [100, 200]]:\n",
    "    print(i)\n",
    "    print(i[0] + i[1])"
   ]
  },
  {
   "cell_type": "code",
   "execution_count": 8,
   "id": "2d2c80ad",
   "metadata": {},
   "outputs": [
    {
     "name": "stdout",
     "output_type": "stream",
     "text": [
      "하나\n",
      "둘\n",
      "셋\n",
      "하나 : one\n",
      "둘 : two\n",
      "셋 : three\n"
     ]
    }
   ],
   "source": [
    "단어_사전 = {\n",
    "    '하나' : 'one',\n",
    "    '둘' : 'two',\n",
    "    '셋' : 'three',\n",
    "}\n",
    "\n",
    "\n",
    "for i in 단어_사전:\n",
    "    print(i)\n",
    "    \n",
    "for key, value in 단어_사전.items():\n",
    "    print(f'{key} : {value}')"
   ]
  },
  {
   "cell_type": "code",
   "execution_count": 9,
   "id": "bee7a0b7",
   "metadata": {},
   "outputs": [
    {
     "name": "stdout",
     "output_type": "stream",
     "text": [
      "하나 : one\n",
      "둘 : two\n",
      "셋 : three\n"
     ]
    }
   ],
   "source": [
    "for i in 단어_사전:\n",
    "    print(i, ':', 단어_사전[i])"
   ]
  },
  {
   "cell_type": "code",
   "execution_count": 10,
   "id": "e9f75ef6",
   "metadata": {},
   "outputs": [
    {
     "name": "stdout",
     "output_type": "stream",
     "text": [
      "0\n",
      "1\n",
      "2\n",
      "3\n",
      "4\n"
     ]
    }
   ],
   "source": [
    "for i in range(5):\n",
    "    print(i)"
   ]
  },
  {
   "cell_type": "code",
   "execution_count": 11,
   "id": "abee9a27",
   "metadata": {},
   "outputs": [
    {
     "data": {
      "text/plain": [
       "30"
      ]
     },
     "execution_count": 11,
     "metadata": {},
     "output_type": "execute_result"
    }
   ],
   "source": [
    "result = 0\n",
    "for i in range(0, 11, 2):\n",
    "    result += i\n",
    "result # 결과: 30"
   ]
  },
  {
   "cell_type": "code",
   "execution_count": 12,
   "id": "177441b3",
   "metadata": {},
   "outputs": [
    {
     "data": {
      "text/plain": [
       "5050"
      ]
     },
     "execution_count": 12,
     "metadata": {},
     "output_type": "execute_result"
    }
   ],
   "source": [
    "result = 0\n",
    "for i in range(101):\n",
    "    result += i\n",
    "result"
   ]
  },
  {
   "cell_type": "code",
   "execution_count": 13,
   "id": "eff0e531",
   "metadata": {},
   "outputs": [
    {
     "name": "stdout",
     "output_type": "stream",
     "text": [
      "1층 1번째 책\n",
      "1층 2번째 책\n",
      "1층 3번째 책\n",
      "1층 4번째 책\n",
      "1층 5번째 책\n",
      "1층 6번째 책\n",
      "1층 7번째 책\n",
      "1층 8번째 책\n",
      "1층 9번째 책\n",
      "1층 10번째 책\n",
      "2층 1번째 책\n",
      "2층 2번째 책\n",
      "2층 3번째 책\n",
      "2층 4번째 책\n",
      "2층 5번째 책\n",
      "2층 6번째 책\n",
      "2층 7번째 책\n",
      "2층 8번째 책\n",
      "2층 9번째 책\n",
      "2층 10번째 책\n",
      "3층 1번째 책\n",
      "3층 2번째 책\n",
      "3층 3번째 책\n",
      "3층 4번째 책\n",
      "3층 5번째 책\n",
      "3층 6번째 책\n",
      "3층 7번째 책\n",
      "3층 8번째 책\n",
      "3층 9번째 책\n",
      "3층 10번째 책\n"
     ]
    }
   ],
   "source": [
    "# 중첩 for문\n",
    "\n",
    "for i in range(1, 4):\n",
    "    for j in range(1, 11):\n",
    "        print(f'{i}층 {j}번째 책')"
   ]
  },
  {
   "cell_type": "code",
   "execution_count": 14,
   "id": "b02df8e1",
   "metadata": {},
   "outputs": [
    {
     "name": "stdout",
     "output_type": "stream",
     "text": [
      "---2단---\n",
      "2 X 1 = 2\n",
      "2 X 2 = 4\n",
      "2 X 3 = 6\n",
      "2 X 4 = 8\n",
      "2 X 5 = 10\n",
      "2 X 6 = 12\n",
      "2 X 7 = 14\n",
      "2 X 8 = 16\n",
      "2 X 9 = 18\n",
      "---3단---\n",
      "3 X 1 = 3\n",
      "3 X 2 = 6\n",
      "3 X 3 = 9\n",
      "3 X 4 = 12\n",
      "3 X 5 = 15\n",
      "3 X 6 = 18\n",
      "3 X 7 = 21\n",
      "3 X 8 = 24\n",
      "3 X 9 = 27\n",
      "---4단---\n",
      "4 X 1 = 4\n",
      "4 X 2 = 8\n",
      "4 X 3 = 12\n",
      "4 X 4 = 16\n",
      "4 X 5 = 20\n",
      "4 X 6 = 24\n",
      "4 X 7 = 28\n",
      "4 X 8 = 32\n",
      "4 X 9 = 36\n",
      "---5단---\n",
      "5 X 1 = 5\n",
      "5 X 2 = 10\n",
      "5 X 3 = 15\n",
      "5 X 4 = 20\n",
      "5 X 5 = 25\n",
      "5 X 6 = 30\n",
      "5 X 7 = 35\n",
      "5 X 8 = 40\n",
      "5 X 9 = 45\n",
      "---6단---\n",
      "6 X 1 = 6\n",
      "6 X 2 = 12\n",
      "6 X 3 = 18\n",
      "6 X 4 = 24\n",
      "6 X 5 = 30\n",
      "6 X 6 = 36\n",
      "6 X 7 = 42\n",
      "6 X 8 = 48\n",
      "6 X 9 = 54\n",
      "---7단---\n",
      "7 X 1 = 7\n",
      "7 X 2 = 14\n",
      "7 X 3 = 21\n",
      "7 X 4 = 28\n",
      "7 X 5 = 35\n",
      "7 X 6 = 42\n",
      "7 X 7 = 49\n",
      "7 X 8 = 56\n",
      "7 X 9 = 63\n",
      "---8단---\n",
      "8 X 1 = 8\n",
      "8 X 2 = 16\n",
      "8 X 3 = 24\n",
      "8 X 4 = 32\n",
      "8 X 5 = 40\n",
      "8 X 6 = 48\n",
      "8 X 7 = 56\n",
      "8 X 8 = 64\n",
      "8 X 9 = 72\n",
      "---9단---\n",
      "9 X 1 = 9\n",
      "9 X 2 = 18\n",
      "9 X 3 = 27\n",
      "9 X 4 = 36\n",
      "9 X 5 = 45\n",
      "9 X 6 = 54\n",
      "9 X 7 = 63\n",
      "9 X 8 = 72\n",
      "9 X 9 = 81\n"
     ]
    }
   ],
   "source": [
    "for i in range(2, 10): # 1\n",
    "    print(f'---{i}단---')\n",
    "    for j in range(1, 10): # 2\n",
    "        print(f'{i} X {j} = {i * j}')"
   ]
  },
  {
   "cell_type": "code",
   "execution_count": null,
   "id": "9feb9e40",
   "metadata": {},
   "outputs": [],
   "source": [
    "# 컴프리헨션\n"
   ]
  },
  {
   "cell_type": "code",
   "execution_count": 15,
   "id": "bed89953",
   "metadata": {},
   "outputs": [
    {
     "ename": "SyntaxError",
     "evalue": "invalid syntax (3086886933.py, line 2)",
     "output_type": "error",
     "traceback": [
      "  \u001b[36mCell\u001b[39m\u001b[36m \u001b[39m\u001b[32mIn[15]\u001b[39m\u001b[32m, line 2\u001b[39m\n\u001b[31m    \u001b[39m\u001b[31m[for i in range(1, 10)]\u001b[39m\n     ^\n\u001b[31mSyntaxError\u001b[39m\u001b[31m:\u001b[39m invalid syntax\n"
     ]
    }
   ],
   "source": [
    "# step1 list안에 for문을 가져옵니다.\n",
    "[for i in range(1, 10)]\n",
    " \n",
    "# step2 append 항목을 맨 앞으로 가져옵니다.\n",
    "a = [i for i in range(1, 10)] # 출력: [1, 2, 3, 4, 5, 6, 7, 8, 9]\n",
    "b = [i*2 for i in range(1, 10)] # 출력: [1, 2, 3, 4, 5, 6, 7, 8, 9]"
   ]
  },
  {
   "cell_type": "code",
   "execution_count": 16,
   "id": "e1d5dbf3",
   "metadata": {},
   "outputs": [
    {
     "name": "stdout",
     "output_type": "stream",
     "text": [
      "[2, 4, 6, 8, 10, 12, 14, 16, 18]\n"
     ]
    }
   ],
   "source": [
    "l = [i*2 for i in range(1, 10)]\n",
    "print(l)"
   ]
  },
  {
   "cell_type": "code",
   "execution_count": 17,
   "id": "3754dfa8",
   "metadata": {},
   "outputs": [
    {
     "name": "stdout",
     "output_type": "stream",
     "text": [
      "[3, 5, 6, 9, 10, 12, 15, 18, 20, 21, 24, 25, 27, 30, 33, 35, 36, 39, 40, 42, 45, 48, 50, 51, 54, 55, 57, 60, 63, 65, 66, 69, 70, 72, 75, 78, 80, 81, 84, 85, 87, 90, 93, 95, 96, 99]\n"
     ]
    }
   ],
   "source": [
    "l = []\n",
    "for i in range(1, 100):\n",
    "    if i % 3 == 0 or i % 5 == 0:\n",
    "        l.append(i)\n",
    "print(l)"
   ]
  },
  {
   "cell_type": "code",
   "execution_count": 18,
   "id": "a0a111c8",
   "metadata": {},
   "outputs": [
    {
     "name": "stdout",
     "output_type": "stream",
     "text": [
      "[3, 5, 6, 9, 10, 12, 15, 18, 20, 21, 24, 25, 27, 30, 33, 35, 36, 39, 40, 42, 45, 48, 50, 51, 54, 55, 57, 60, 63, 65, 66, 69, 70, 72, 75, 78, 80, 81, 84, 85, 87, 90, 93, 95, 96, 99]\n"
     ]
    }
   ],
   "source": [
    "l = [i for i in range(1, 100) if i % 3 == 0 or i % 5 == 0]\n",
    "print(l)"
   ]
  },
  {
   "cell_type": "code",
   "execution_count": null,
   "id": "0043a215",
   "metadata": {},
   "outputs": [
    {
     "name": "stdout",
     "output_type": "stream",
     "text": [
      "['4는 3보다 큰 짝수', '5는 3보다 큰 홀수']\n"
     ]
    }
   ],
   "source": [
    "nums = [1, 2, 3, 4, 5]\n",
    "result = [f'{x}는 3보다 큰 짝수' if x % 2 == 0 else f'{x}는 3보다 큰 홀수' for x in nums if x > 3]\n",
    "print(result) # 출력: ['4는 3보다 큰 짝수', '5는 3보다 큰 홀수']"
   ]
  },
  {
   "cell_type": "code",
   "execution_count": 20,
   "id": "dae1e7f0",
   "metadata": {},
   "outputs": [
    {
     "data": {
      "text/plain": [
       "[100, 200, 300, 0, 0, 0]"
      ]
     },
     "execution_count": 20,
     "metadata": {},
     "output_type": "execute_result"
    }
   ],
   "source": [
    "def sumthingFunction(i): # 1\n",
    "    if i % 100 == 0:\n",
    "        return i\n",
    "    else:\n",
    "        return 0\n",
    "\n",
    "\n",
    "l = [100, 200, 300, 101, 202, 303] # 2\n",
    "l = [sumthingFunction(i) for i in l] # 3\n",
    "l # 출력: [100, 200, 300, 0, 0, 0]"
   ]
  },
  {
   "cell_type": "code",
   "execution_count": 21,
   "id": "50e39fe0",
   "metadata": {},
   "outputs": [
    {
     "data": {
      "text/plain": [
       "{0: 0, 1: 1, 2: 4, 3: 9, 4: 16}"
      ]
     },
     "execution_count": 21,
     "metadata": {},
     "output_type": "execute_result"
    }
   ],
   "source": [
    "# 딕셔너리 컴프리헨션\n",
    "\n",
    "{i: i**2 for i in range(5)}"
   ]
  },
  {
   "cell_type": "code",
   "execution_count": 22,
   "id": "641ec27c",
   "metadata": {},
   "outputs": [
    {
     "data": {
      "text/plain": [
       "{0: 0, 2: 4, 4: 16, 6: 36, 8: 64}"
      ]
     },
     "execution_count": 22,
     "metadata": {},
     "output_type": "execute_result"
    }
   ],
   "source": [
    "even_squares = {x: x**2 for x in range(10) if x % 2 == 0}\n",
    "even_squares"
   ]
  },
  {
   "cell_type": "code",
   "execution_count": 23,
   "id": "212ed1cc",
   "metadata": {},
   "outputs": [
    {
     "name": "stdout",
     "output_type": "stream",
     "text": [
      "(0, '레미제라블')\n",
      "(1, '뷰티인사이트')\n",
      "(2, '매트릭스')\n",
      "(3, '인셉션')\n",
      "(4, '어거스트 러쉬')\n",
      "누적관객수 1위! 레미제라블!\n",
      "누적관객수 2위! 뷰티인사이트!\n",
      "누적관객수 3위! 매트릭스!\n",
      "누적관객수 4위! 인셉션!\n",
      "누적관객수 5위! 어거스트 러쉬!\n"
     ]
    }
   ],
   "source": [
    "# enumerate를 이용한 순회\n",
    "\n",
    "영화누적관객수 = ['레미제라블', '뷰티인사이트', '매트릭스', '인셉션', '어거스트 러쉬']\n",
    "for i in enumerate(영화누적관객수):\n",
    "    print(i)\n",
    "\n",
    "\n",
    "for i, j in enumerate(영화누적관객수, 1):\n",
    "    print(f'누적관객수 {i}위! {j}!')"
   ]
  }
 ],
 "metadata": {
  "kernelspec": {
   "display_name": "Python 3",
   "language": "python",
   "name": "python3"
  },
  "language_info": {
   "codemirror_mode": {
    "name": "ipython",
    "version": 3
   },
   "file_extension": ".py",
   "mimetype": "text/x-python",
   "name": "python",
   "nbconvert_exporter": "python",
   "pygments_lexer": "ipython3",
   "version": "3.13.5"
  }
 },
 "nbformat": 4,
 "nbformat_minor": 5
}
