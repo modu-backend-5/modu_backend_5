{
 "cells": [
  {
   "cell_type": "code",
   "execution_count": null,
   "id": "2537df89",
   "metadata": {},
   "outputs": [],
   "source": [
    "# 반복문 else"
   ]
  },
  {
   "cell_type": "code",
   "execution_count": null,
   "id": "088fd2c2",
   "metadata": {},
   "outputs": [
    {
     "name": "stdout",
     "output_type": "stream",
     "text": [
      "0 물고기를 잡았습니다.\n",
      "1 물고기를 잡았습니다.\n",
      "2 물고기를 잡았습니다.\n",
      "3 물고기를 잡았습니다.\n",
      "4 물고기를 잡았습니다.\n",
      "5 물고기를 잡았습니다.\n",
      "만선입니다. 물고기를 다 잡았습니다.\n",
      "수고하셨습니다.\n"
     ]
    }
   ],
   "source": [
    "for i in range(100):\n",
    "    print(f'{i} 물고기를 잡았습니다.')\n",
    "    if i == 5:\n",
    "        print('만선입니다. 물고기를 다 잡았습니다.')\n",
    "        break   # break로 인해, 순회 종료. else문 실행 안됨.\n",
    "else:\n",
    "    print('아직 여유가 좀 있지만, 물고기가 더 없는 것 같으니 이정도로 만족하고 돌아갑시다.')\n",
    "\n",
    "\n",
    "print('수고하셨습니다.')"
   ]
  },
  {
   "cell_type": "code",
   "execution_count": null,
   "id": "15352d1a",
   "metadata": {},
   "outputs": [
    {
     "name": "stdout",
     "output_type": "stream",
     "text": [
      "0 물고기를 잡았습니다.\n",
      "1 물고기를 잡았습니다.\n",
      "2 물고기를 잡았습니다.\n",
      "3 물고기를 잡았습니다.\n",
      "4 물고기를 잡았습니다.\n",
      "아직 여유가 좀 있지만, 물고기가 더 없는 것 같으니 이정도로 만족하고 돌아갑시다.\n",
      "수고하셨습니다.\n"
     ]
    }
   ],
   "source": [
    "for i in range(5):\n",
    "    print(f'{i} 물고기를 잡았습니다.')\n",
    "    if i == 5:\n",
    "        print('만선입니다. 물고기를 다 잡았습니다.')\n",
    "        break   # break가 있어도, 5회 모두 정상적으로 순회하여 종료했으므로 else문 실행\n",
    "else:   \n",
    "    print('아직 여유가 좀 있지만, 물고기가 더 없는 것 같으니 이정도로 만족하고 돌아갑시다.')\n",
    "print('수고하셨습니다.')"
   ]
  }
 ],
 "metadata": {
  "kernelspec": {
   "display_name": "Python 3",
   "language": "python",
   "name": "python3"
  },
  "language_info": {
   "codemirror_mode": {
    "name": "ipython",
    "version": 3
   },
   "file_extension": ".py",
   "mimetype": "text/x-python",
   "name": "python",
   "nbconvert_exporter": "python",
   "pygments_lexer": "ipython3",
   "version": "3.13.5"
  }
 },
 "nbformat": 4,
 "nbformat_minor": 5
}
