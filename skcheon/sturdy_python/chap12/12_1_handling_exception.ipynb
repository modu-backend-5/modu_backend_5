{
 "cells": [
  {
   "cell_type": "code",
   "execution_count": null,
   "id": "1f2a8f20",
   "metadata": {},
   "outputs": [],
   "source": [
    "# Error의 종류\n",
    "# 문법 에러(Syntax Error)"
   ]
  },
  {
   "cell_type": "code",
   "execution_count": null,
   "id": "24d9c22d",
   "metadata": {},
   "outputs": [],
   "source": [
    "# 이름 에러(Name Error)"
   ]
  },
  {
   "cell_type": "code",
   "execution_count": null,
   "id": "c4b4f1c8",
   "metadata": {},
   "outputs": [],
   "source": [
    "# 타입 에러(Type Error)"
   ]
  },
  {
   "cell_type": "code",
   "execution_count": null,
   "id": "402a7def",
   "metadata": {},
   "outputs": [],
   "source": [
    "# 인덱스 에러(Index Error)"
   ]
  },
  {
   "cell_type": "code",
   "execution_count": null,
   "id": "236c3fbf",
   "metadata": {},
   "outputs": [],
   "source": [
    "# 키 에러(Key Error)"
   ]
  },
  {
   "cell_type": "code",
   "execution_count": null,
   "id": "674d2e97",
   "metadata": {},
   "outputs": [],
   "source": [
    "# 값 에러(ValueError)"
   ]
  },
  {
   "cell_type": "code",
   "execution_count": null,
   "id": "61ae2d22",
   "metadata": {},
   "outputs": [],
   "source": [
    "# 제로 나누기 에러(ZeroDivisionError)"
   ]
  },
  {
   "cell_type": "code",
   "execution_count": null,
   "id": "3116dee7",
   "metadata": {},
   "outputs": [],
   "source": [
    "# 어트리뷰트 에러(Attribute Error)"
   ]
  },
  {
   "cell_type": "code",
   "execution_count": null,
   "id": "5dd437af",
   "metadata": {},
   "outputs": [],
   "source": [
    "# 인자 개수 에러(TypeError)"
   ]
  },
  {
   "cell_type": "code",
   "execution_count": null,
   "id": "13d1904f",
   "metadata": {},
   "outputs": [],
   "source": [
    "# 파일 입출력 에러(File I/O Error)"
   ]
  },
  {
   "cell_type": "code",
   "execution_count": null,
   "id": "a8e5163a",
   "metadata": {},
   "outputs": [
    {
     "name": "stdout",
     "output_type": "stream",
     "text": [
      "error가 발생되었습니다!\n"
     ]
    }
   ],
   "source": [
    "# python 예외처리\n",
    "\n",
    "# try, except 이용\n",
    "# try 블록 내에서 예외 발생 시, except 블록이 실행되고 프로그램이 종료되지 않는다.\n",
    "try:\n",
    "    s = 1/0\n",
    "    print(s)\n",
    "except:\n",
    "    print('error가 발생되었습니다!')"
   ]
  },
  {
   "cell_type": "code",
   "execution_count": null,
   "id": "54d86477",
   "metadata": {},
   "outputs": [],
   "source": [
    "try:\n",
    "    s = 1/1 # 0에서 1로 값을 바꾸었습니다.\n",
    "    print(s)\n",
    "    l = [1, 2, 3]\n",
    "    print(l[3])\n",
    "except ZeroDivisionError:\n",
    "    print('0으로 나누어졌습니다!')\n",
    "except:\n",
    "    print('오류가 났습니다!')"
   ]
  }
 ],
 "metadata": {
  "kernelspec": {
   "display_name": "Python 3",
   "language": "python",
   "name": "python3"
  },
  "language_info": {
   "codemirror_mode": {
    "name": "ipython",
    "version": 3
   },
   "file_extension": ".py",
   "mimetype": "text/x-python",
   "name": "python",
   "nbconvert_exporter": "python",
   "pygments_lexer": "ipython3",
   "version": "3.13.5"
  }
 },
 "nbformat": 4,
 "nbformat_minor": 5
}
