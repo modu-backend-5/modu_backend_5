{
 "cells": [
  {
   "cell_type": "code",
   "execution_count": 1,
   "id": "0f6925bc",
   "metadata": {},
   "outputs": [
    {
     "name": "stdout",
     "output_type": "stream",
     "text": [
      "True\n"
     ]
    }
   ],
   "source": [
    "# 비교 연산자\n",
    "# ==는 값이 같은지 비교. =와는 다르다\n",
    "print(5 == 5) # 결과: True\n",
    "# print(5 = 5) # 잘못된 예시\n"
   ]
  },
  {
   "cell_type": "code",
   "execution_count": null,
   "id": "4c29ddd5",
   "metadata": {},
   "outputs": [
    {
     "name": "stdout",
     "output_type": "stream",
     "text": [
      "True\n"
     ]
    }
   ],
   "source": [
    "# !=는 같지 않은지 비교\n",
    "print(5 != 3) # 결과: True"
   ]
  },
  {
   "cell_type": "code",
   "execution_count": 3,
   "id": "0d60db69",
   "metadata": {},
   "outputs": [
    {
     "name": "stdout",
     "output_type": "stream",
     "text": [
      "True\n",
      "True\n",
      "True\n",
      "True\n"
     ]
    }
   ],
   "source": [
    "# <, >, <=, >=는 대소 비교\n",
    "print(3 < 5) # 결과: True\n",
    "print(5 <= 5) # 결과: True\n",
    "print(6 > 5)  # 결과: True\n",
    "print(5 >= 5) # 결과: True"
   ]
  },
  {
   "cell_type": "code",
   "execution_count": 5,
   "id": "25f93e4c",
   "metadata": {},
   "outputs": [
    {
     "name": "stdout",
     "output_type": "stream",
     "text": [
      "True\n",
      "False\n",
      "True\n"
     ]
    }
   ],
   "source": [
    "# 활용 방법\n",
    "print('apple' < 'banana') # 결과: True. 가장 앞 문자의 유니코드 순서를 비교\n",
    "print('하하' > '후후') # 결과: False. 한글 유니코드도 존재\n",
    "x = 10\n",
    "print(5 < x < 15) # 결과: True"
   ]
  }
 ],
 "metadata": {
  "kernelspec": {
   "display_name": "Python 3",
   "language": "python",
   "name": "python3"
  },
  "language_info": {
   "codemirror_mode": {
    "name": "ipython",
    "version": 3
   },
   "file_extension": ".py",
   "mimetype": "text/x-python",
   "name": "python",
   "nbconvert_exporter": "python",
   "pygments_lexer": "ipython3",
   "version": "3.13.5"
  }
 },
 "nbformat": 4,
 "nbformat_minor": 5
}
