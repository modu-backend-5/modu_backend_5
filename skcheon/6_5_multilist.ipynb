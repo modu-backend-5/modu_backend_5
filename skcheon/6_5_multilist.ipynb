{
 "cells": [
  {
   "cell_type": "code",
   "execution_count": 2,
   "id": "135f2e51",
   "metadata": {},
   "outputs": [
    {
     "name": "stdout",
     "output_type": "stream",
     "text": [
      "<class 'list'>\n",
      "<class 'list'>\n",
      "<class 'list'>\n",
      "['l', 'e', 'e', 'h', 'o', 'j', 'u', 'n']\n",
      "l\n"
     ]
    }
   ],
   "source": [
    "# 다차원 리스트\n",
    "# 1차원 리스트\n",
    "a = [100000, 2, 1, 3]\n",
    "print(type(a))\n",
    "\n",
    "a = list()\n",
    "print(type(a))\n",
    "\n",
    "a = list('leehojun') #형변환\n",
    "print(type(a))\n",
    "print(a)\n",
    "print(a[0])"
   ]
  },
  {
   "cell_type": "code",
   "execution_count": 5,
   "id": "5cd8957f",
   "metadata": {},
   "outputs": [
    {
     "name": "stdout",
     "output_type": "stream",
     "text": [
      "<class 'list'>\n",
      "[1, 2, 3]\n",
      "[11, 22, 33]\n",
      "[10, 20, 30]\n",
      "1\n",
      "11\n",
      "10\n"
     ]
    }
   ],
   "source": [
    "# 2차원 리스트\n",
    "a = [[1, 2, 3],\n",
    "     [11, 22, 33],\n",
    "     [10, 20, 30]]\n",
    "\n",
    "print(type(a))\n",
    "\n",
    "print(a[0])\n",
    "print(a[1])\n",
    "print(a[2])\n",
    "\n",
    "print(a[0][0])\n",
    "print(a[1][0])\n",
    "print(a[2][0])"
   ]
  },
  {
   "cell_type": "code",
   "execution_count": 6,
   "id": "2b4d6678",
   "metadata": {},
   "outputs": [
    {
     "name": "stdout",
     "output_type": "stream",
     "text": [
      "[[1, 2], [1, 2], [1, 2]]\n",
      "[[10, 2], [1, 2], [1, 2]]\n",
      "[10, 2]\n",
      "10\n"
     ]
    }
   ],
   "source": [
    "# 3차원 리스트\n",
    "a = [[[1, 2], [1, 2], [1, 2]],\n",
    "    [[10, 2], [1, 2], [1, 2]]]\n",
    "\n",
    "print(a[0])\n",
    "print(a[1])\n",
    "print(a[1][0])\n",
    "print(a[1][0][0])"
   ]
  },
  {
   "cell_type": "code",
   "execution_count": null,
   "id": "4b1b654e",
   "metadata": {},
   "outputs": [
    {
     "name": "stdout",
     "output_type": "stream",
     "text": [
      "8\n",
      "1\n",
      "36\n"
     ]
    }
   ],
   "source": [
    "# 기본적인 리스트 관련 내장함수\n",
    "# 1차원\n",
    "a = [1, 2, 3, 4, 5, 6, 7, 8]\n",
    "print(max(a)) # 최댓값\n",
    "print(min(a)) # 최솟값\n",
    "print(sum(a)) # 전체값의 합"
   ]
  },
  {
   "cell_type": "code",
   "execution_count": null,
   "id": "8f1006f2",
   "metadata": {},
   "outputs": [
    {
     "name": "stdout",
     "output_type": "stream",
     "text": [
      "[11, 22, 33]\n",
      "[1, 2, 3]\n",
      "[10, 2000, 30]\n",
      "[1, 2, 3]\n"
     ]
    },
    {
     "data": {
      "text/plain": [
       "[1, 2, 3, 11, 22, 33, 10, 2000, 30]"
      ]
     },
     "execution_count": 10,
     "metadata": {},
     "output_type": "execute_result"
    }
   ],
   "source": [
    "# 2차원\n",
    "a = [[1, 2, 3],\n",
    "     [11, 22, 33],\n",
    "     [10, 2000, 30]]\n",
    "print(max(a))   # 각각의 가장 첫번째 값을 기준으로 출력\n",
    "print(min(a))\n",
    "# print(sum(a)) # 에러 발생\n",
    "print(max(a, key=lambda x:x[1]))    # 각각의 두번째 값을 기준으로 비교하여, 해당 값을 가진 배열 출력\n",
    "print(min(a, key=lambda x:x[1]))\n",
    "# sum(a) error\n",
    "sum(a, [])\n"
   ]
  },
  {
   "cell_type": "code",
   "execution_count": null,
   "id": "2e8ee1a0",
   "metadata": {},
   "outputs": [
    {
     "name": "stdout",
     "output_type": "stream",
     "text": [
      "[0, 1, 2, 3, 4, 5, 6, 7, 8, 9, 10, 11, 12, 13, 14, 15, 16, 17, 18, 19, 20, 21, 22, 23, 24, 25, 26, 27, 28, 29, 30, 31, 32, 33, 34, 35, 36, 37, 38, 39, 40, 41, 42, 43, 44, 45, 46, 47, 48, 49, 50, 51, 52, 53, 54, 55, 56, 57, 58, 59, 60, 61, 62, 63, 64, 65, 66, 67, 68, 69, 70, 71, 72, 73, 74, 75, 76, 77, 78, 79, 80, 81, 82, 83, 84, 85, 86, 87, 88, 89, 90, 91, 92, 93, 94, 95, 96, 97, 98, 99]\n",
      "[5, 6, 7, 8, 9]\n",
      "[0, 2, 4, 6, 8, 10, 12, 14, 16, 18, 20, 22, 24, 26, 28, 30, 32, 34, 36, 38, 40, 42, 44, 46, 48, 50, 52, 54, 56, 58, 60, 62, 64, 66, 68, 70, 72, 74, 76, 78, 80, 82, 84, 86, 88, 90, 92, 94, 96, 98, 100]\n",
      "[1, 3, 5, 7, 9, 11, 13, 15, 17, 19, 21, 23, 25, 27, 29, 31, 33, 35, 37, 39, 41, 43, 45, 47, 49, 51, 53, 55, 57, 59, 61, 63, 65, 67, 69, 71, 73, 75, 77, 79, 81, 83, 85, 87, 89, 91, 93, 95, 97, 99]\n",
      "[100, 98, 96, 94, 92, 90, 88, 86, 84, 82, 80, 78, 76, 74, 72, 70, 68, 66, 64, 62, 60, 58, 56, 54, 52, 50, 48, 46, 44, 42, 40, 38, 36, 34, 32, 30, 28, 26, 24, 22, 20, 18, 16, 14, 12, 10, 8, 6, 4, 2]\n"
     ]
    }
   ],
   "source": [
    "# range()\n",
    "# 범위를 표현하는 함수\n",
    "print(list(range(100)))\n",
    "print(list(range(5, 10)))   # 인덱스 슬라이싱과 비슷\n",
    "\n",
    "# print(list(range(start, stop, step)))\n",
    "print(list(range(0, 101, 2))) #짝수\n",
    "print(list(range(1, 101, 2))) #홀수\n",
    "\n",
    "print(list(range(100, 1, -2)))  # 100부터 역순으로 짝수 출력"
   ]
  },
  {
   "cell_type": "code",
   "execution_count": null,
   "id": "653afb2d",
   "metadata": {},
   "outputs": [
    {
     "name": "stdout",
     "output_type": "stream",
     "text": [
      "80.4\n"
     ]
    }
   ],
   "source": [
    "# 중간고사 1.\n",
    "student_score = {\n",
    "    '홍의': 97,\n",
    "    '원희': 60,\n",
    "    '동해': 77,\n",
    "    '변수': 79,\n",
    "    '창현': 89,\n",
    "}\n",
    "print(sum(student_score.values())/len(student_score))\n"
   ]
  },
  {
   "cell_type": "code",
   "execution_count": 16,
   "id": "920be8da",
   "metadata": {},
   "outputs": [
    {
     "name": "stdout",
     "output_type": "stream",
     "text": [
      "50.0\n"
     ]
    }
   ],
   "source": [
    "# 중간고사 2.\n",
    "student_score = [\n",
    "    [10, 20, 30], \n",
    "    [40, 50, 60], \n",
    "    [70, 80, 90]\n",
    "]\n",
    "\n",
    "scoreSum = 0\n",
    "cnt = 0\n",
    "\n",
    "for i in student_score:\n",
    "    for j in i:\n",
    "        scoreSum += j\n",
    "        cnt += 1\n",
    "        \n",
    "print(scoreSum/cnt)"
   ]
  },
  {
   "cell_type": "code",
   "execution_count": 17,
   "id": "6e30eaa4",
   "metadata": {},
   "outputs": [
    {
     "name": "stdout",
     "output_type": "stream",
     "text": [
      "5\n"
     ]
    }
   ],
   "source": [
    "# 중간고사 3번\n",
    "student_score = [\n",
    "    [10, 20, 30], \n",
    "    [40, 50, 60], \n",
    "    [70, 80, 90]\n",
    "]\n",
    "\n",
    "cnt = 0\n",
    "\n",
    "for i in student_score:\n",
    "    for j in i:\n",
    "        if j >= 50:\n",
    "            cnt += 1\n",
    "\n",
    "print(cnt)"
   ]
  },
  {
   "cell_type": "code",
   "execution_count": 19,
   "id": "bd1cd1bd",
   "metadata": {},
   "outputs": [
    {
     "data": {
      "text/plain": [
       "[{'이름': '홍길동', '국어': 10, '영어': 20, '수학': 30},\n",
       " {'이름': '이호준', '국어': 40, '영어': 50, '수학': 60},\n",
       " {'이름': '이준호', '국어': 70, '영어': 80, '수학': 90}]"
      ]
     },
     "execution_count": 19,
     "metadata": {},
     "output_type": "execute_result"
    }
   ],
   "source": [
    "# 중간고사 4번\n",
    "# 딕셔너리\n",
    "\n",
    "[{\"이름\": '홍길동',\n",
    "\"국어\": 10,\n",
    "\"영어\": 20,\n",
    "\"수학\": 30}\n",
    ", \n",
    "{\"이름\": '이호준',\n",
    "\"국어\": 40,\n",
    "\"영어\": 50,\n",
    "\"수학\": 60}\n",
    ", \n",
    "{\"이름\": '이준호',\n",
    "\"국어\": 70,\n",
    "\"영어\": 80,\n",
    "\"수학\": 90}]"
   ]
  }
 ],
 "metadata": {
  "kernelspec": {
   "display_name": "Python 3",
   "language": "python",
   "name": "python3"
  },
  "language_info": {
   "codemirror_mode": {
    "name": "ipython",
    "version": 3
   },
   "file_extension": ".py",
   "mimetype": "text/x-python",
   "name": "python",
   "nbconvert_exporter": "python",
   "pygments_lexer": "ipython3",
   "version": "3.13.5"
  }
 },
 "nbformat": 4,
 "nbformat_minor": 5
}
