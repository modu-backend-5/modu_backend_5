{
 "cells": [
  {
   "cell_type": "code",
   "execution_count": 1,
   "id": "86b63585",
   "metadata": {},
   "outputs": [
    {
     "name": "stdout",
     "output_type": "stream",
     "text": [
      "['apple', 'banana', 'cherry']\n"
     ]
    }
   ],
   "source": [
    "# 리스트\n",
    "# 여러 개의 데이터를 하나로 묶어서 관리할 수 있게 하는 자료형\n",
    "fruits = ['apple', 'banana', 'cherry']\n",
    "print(fruits)"
   ]
  },
  {
   "cell_type": "code",
   "execution_count": null,
   "id": "49dc4e0e",
   "metadata": {},
   "outputs": [
    {
     "name": "stdout",
     "output_type": "stream",
     "text": [
      "[1, 2, 3]\n",
      "['apple', 'banana', 'cherry']\n",
      "[1, 'hello', True]\n"
     ]
    }
   ],
   "source": [
    "x = [1, 2, 3]\n",
    "y = ['apple', 'banana', 'cherry']\n",
    "z = [1, 'hello', True]  # 다른 데이터 타입의 원소도 저장 가능\n",
    "print(x)\n",
    "print(y)\n",
    "print(z)"
   ]
  },
  {
   "cell_type": "code",
   "execution_count": null,
   "id": "d47bbc32",
   "metadata": {},
   "outputs": [
    {
     "name": "stdout",
     "output_type": "stream",
     "text": [
      "apple\n",
      "banana\n",
      "cherry\n"
     ]
    }
   ],
   "source": [
    "# 리스트 항목에 접근하기\n",
    "fruits = ['apple', 'banana', 'cherry']\n",
    "print(fruits[0])\n",
    "print(fruits[1])\n",
    "print(fruits[2])    # 리스트 내의 값. 즉 문자열"
   ]
  },
  {
   "cell_type": "code",
   "execution_count": 7,
   "id": "2e03a923",
   "metadata": {},
   "outputs": [
    {
     "name": "stdout",
     "output_type": "stream",
     "text": [
      "['banana', 'cherry']\n",
      "['banana', 'cherry']\n",
      "['orange', 'cherry', 'banana', 'apple']\n",
      "['apple', 'cherry']\n"
     ]
    }
   ],
   "source": [
    "fruits = ['apple', 'banana', 'cherry', 'orange']\n",
    "print(fruits[1:3])\n",
    "print(fruits[-3:-1])\n",
    "print(fruits[::-1])\n",
    "print(fruits[::2])"
   ]
  },
  {
   "cell_type": "code",
   "execution_count": null,
   "id": "bda04da0",
   "metadata": {},
   "outputs": [
    {
     "name": "stdout",
     "output_type": "stream",
     "text": [
      "['apple', 'kiwi', 'cherry']\n"
     ]
    }
   ],
   "source": [
    "# 리스트 수정하기\n",
    "# 항목 변경\n",
    "fruits = ['apple', 'banana', 'cherry']\n",
    "fruits[1] = 'kiwi'\n",
    "print(fruits)"
   ]
  },
  {
   "cell_type": "code",
   "execution_count": 9,
   "id": "210cf2dc",
   "metadata": {},
   "outputs": [
    {
     "name": "stdout",
     "output_type": "stream",
     "text": [
      "['apple', 'banana', 'cherry', 'orange']\n"
     ]
    }
   ],
   "source": [
    "# 항목 추가\n",
    "fruits = ['apple', 'banana', 'cherry']\n",
    "fruits.append('orange')\n",
    "print(fruits)"
   ]
  },
  {
   "cell_type": "code",
   "execution_count": 11,
   "id": "b24d3385",
   "metadata": {},
   "outputs": [
    {
     "name": "stdout",
     "output_type": "stream",
     "text": [
      "['apple', 'cherry']\n",
      "['cherry']\n"
     ]
    }
   ],
   "source": [
    "# 항목 제거\n",
    "fruits = ['apple', 'banana', 'cherry']\n",
    "fruits.remove('banana')\n",
    "print(fruits)\n",
    "fruits.pop(0)    # 해당 인덱스의 항목 제거\n",
    "print(fruits)"
   ]
  },
  {
   "cell_type": "code",
   "execution_count": 12,
   "id": "d2fcadab",
   "metadata": {},
   "outputs": [
    {
     "name": "stdout",
     "output_type": "stream",
     "text": [
      "3\n"
     ]
    }
   ],
   "source": [
    "# 리스트의 길이 알아내기\n",
    "fruits = ['apple', 'banana', 'cherry']\n",
    "print(len(fruits))  # 3 출력"
   ]
  },
  {
   "cell_type": "code",
   "execution_count": 17,
   "id": "5d382fcb",
   "metadata": {},
   "outputs": [
    {
     "name": "stdout",
     "output_type": "stream",
     "text": [
      "['orange', 'durian', 'cherry', 'banana', 'apple']\n",
      "['cherry', 'banana', 'orange', 'apple', 'durian']\n"
     ]
    }
   ],
   "source": [
    "# 리스트 정렬하기\n",
    "fruits = ['cherry', 'banana', 'orange', 'apple', 'durian']\n",
    "# fruits.sort()   # sort 함수 실행하면 정렬 반영됨\n",
    "# print(fruits)\n",
    "# fruits.sort(reverse=True)   # 역순으로 정렬. True 대신 1도 가능\n",
    "# print(fruits)\n",
    "new_fruits = sorted(fruits, reverse=1)\n",
    "print(new_fruits)\n",
    "print(fruits)"
   ]
  }
 ],
 "metadata": {
  "kernelspec": {
   "display_name": "Python 3",
   "language": "python",
   "name": "python3"
  },
  "language_info": {
   "codemirror_mode": {
    "name": "ipython",
    "version": 3
   },
   "file_extension": ".py",
   "mimetype": "text/x-python",
   "name": "python",
   "nbconvert_exporter": "python",
   "pygments_lexer": "ipython3",
   "version": "3.13.5"
  }
 },
 "nbformat": 4,
 "nbformat_minor": 5
}
