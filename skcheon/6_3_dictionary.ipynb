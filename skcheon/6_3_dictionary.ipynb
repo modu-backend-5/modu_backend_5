{
 "cells": [
  {
   "cell_type": "code",
   "execution_count": 1,
   "id": "574adbbb",
   "metadata": {},
   "outputs": [
    {
     "name": "stdout",
     "output_type": "stream",
     "text": [
      "{'name': 'licat', 'age': 30, 'city': 'New York'}\n"
     ]
    }
   ],
   "source": [
    "# 딕셔너리\n",
    "# 키와 값의 쌍으로 이루어진 자료형\n",
    "\n",
    "my_dict = {'name': 'licat', 'age': 30, 'city': 'New York'}\n",
    "print(my_dict)"
   ]
  },
  {
   "cell_type": "code",
   "execution_count": 2,
   "id": "e968ab27",
   "metadata": {},
   "outputs": [
    {
     "name": "stdout",
     "output_type": "stream",
     "text": [
      "{'name': 'licat', 'age': 25, 'height': 165.5}\n"
     ]
    }
   ],
   "source": [
    "person = {'name': 'licat', 'age': 25, 'height': 165.5}\n",
    "print(person)"
   ]
  },
  {
   "cell_type": "code",
   "execution_count": 3,
   "id": "141126fd",
   "metadata": {},
   "outputs": [
    {
     "name": "stdout",
     "output_type": "stream",
     "text": [
      "이름: licat\n",
      "나이: 25\n"
     ]
    }
   ],
   "source": [
    "# 딕셔너리 접근\n",
    "person = {'name': 'licat', 'age': 25, 'height': 165.5}\n",
    "print(\"이름:\", person['name'])\n",
    "print(\"나이:\", person['age'])"
   ]
  },
  {
   "cell_type": "code",
   "execution_count": 4,
   "id": "46c7697a",
   "metadata": {},
   "outputs": [
    {
     "name": "stdout",
     "output_type": "stream",
     "text": [
      "{'name': 'Alice', 'age': 26, 'city': 'Seoul'}\n"
     ]
    }
   ],
   "source": [
    "# 딕셔너리 수정\n",
    "person = {'name': 'Alice', 'age': 25}\n",
    "person['age'] = 26  # 값 수정\n",
    "person['city'] = 'Seoul'  # 새로운 키-값 쌍 추가\n",
    "print(person)"
   ]
  },
  {
   "cell_type": "code",
   "execution_count": 5,
   "id": "9cb3eb85",
   "metadata": {},
   "outputs": [
    {
     "name": "stdout",
     "output_type": "stream",
     "text": [
      "{'name': 'Alice', 'age': 25}\n"
     ]
    }
   ],
   "source": [
    "# 딕셔너리 삭제\n",
    "person = {'name': 'Alice', 'age': 25, 'city': 'Seoul'}\n",
    "del person['city']\n",
    "print(person)"
   ]
  },
  {
   "cell_type": "code",
   "execution_count": 8,
   "id": "065a1230",
   "metadata": {},
   "outputs": [
    {
     "name": "stdout",
     "output_type": "stream",
     "text": [
      "키 목록: dict_keys(['name', 'age', 'city'])\n",
      "값 목록: dict_values(['Alice', 25, 'Seoul'])\n",
      "키-값 쌍 목록: dict_items([('name', 'Alice'), ('age', 25), ('city', 'Seoul')])\n",
      "직업: 정보 없음\n",
      "직업: None\n"
     ]
    }
   ],
   "source": [
    "# 딕셔너리 메서드\n",
    "person = {'name': 'Alice', 'age': 25, 'city': 'Seoul'}\n",
    "\n",
    "\n",
    "print(\"키 목록:\", person.keys())    # 딕셔너리의 키 반환\n",
    "print(\"값 목록:\", person.values())  # 딕셔너리의 값 반환\n",
    "print(\"키-값 쌍 목록:\", person.items()) # 딕셔너리의 키-값 쌍 반환\n",
    "\n",
    "\n",
    "# get() 메서드로 안전하게 값 가져오기\n",
    "print(\"직업:\", person.get('job', '정보 없음'))  # 오류 처리가 된 문장. 'job'이 없다면 '정보 없음' 반환\n",
    "print(\"직업:\", person.get('job'))   # 오류 처리가 안된 문장. None 반환"
   ]
  },
  {
   "cell_type": "code",
   "execution_count": 9,
   "id": "e44e10b2",
   "metadata": {},
   "outputs": [
    {
     "data": {
      "text/plain": [
       "['__class__',\n",
       " '__class_getitem__',\n",
       " '__contains__',\n",
       " '__delattr__',\n",
       " '__delitem__',\n",
       " '__dir__',\n",
       " '__doc__',\n",
       " '__eq__',\n",
       " '__format__',\n",
       " '__ge__',\n",
       " '__getattribute__',\n",
       " '__getitem__',\n",
       " '__getstate__',\n",
       " '__gt__',\n",
       " '__hash__',\n",
       " '__init__',\n",
       " '__init_subclass__',\n",
       " '__ior__',\n",
       " '__iter__',\n",
       " '__le__',\n",
       " '__len__',\n",
       " '__lt__',\n",
       " '__ne__',\n",
       " '__new__',\n",
       " '__or__',\n",
       " '__reduce__',\n",
       " '__reduce_ex__',\n",
       " '__repr__',\n",
       " '__reversed__',\n",
       " '__ror__',\n",
       " '__setattr__',\n",
       " '__setitem__',\n",
       " '__sizeof__',\n",
       " '__str__',\n",
       " '__subclasshook__',\n",
       " 'clear',\n",
       " 'copy',\n",
       " 'fromkeys',\n",
       " 'get',\n",
       " 'items',\n",
       " 'keys',\n",
       " 'pop',\n",
       " 'popitem',\n",
       " 'setdefault',\n",
       " 'update',\n",
       " 'values']"
      ]
     },
     "execution_count": 9,
     "metadata": {},
     "output_type": "execute_result"
    }
   ],
   "source": [
    "dir(dict)"
   ]
  }
 ],
 "metadata": {
  "kernelspec": {
   "display_name": "Python 3",
   "language": "python",
   "name": "python3"
  },
  "language_info": {
   "codemirror_mode": {
    "name": "ipython",
    "version": 3
   },
   "file_extension": ".py",
   "mimetype": "text/x-python",
   "name": "python",
   "nbconvert_exporter": "python",
   "pygments_lexer": "ipython3",
   "version": "3.13.5"
  }
 },
 "nbformat": 4,
 "nbformat_minor": 5
}
