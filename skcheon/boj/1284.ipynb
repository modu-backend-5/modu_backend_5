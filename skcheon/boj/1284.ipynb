{
 "cells": [
  {
   "cell_type": "code",
   "execution_count": 1,
   "id": "a3988645",
   "metadata": {},
   "outputs": [
    {
     "name": "stdout",
     "output_type": "stream",
     "text": [
      "13\n",
      "15\n",
      "14\n"
     ]
    }
   ],
   "source": [
    "while True:\n",
    "    n = input()\n",
    "    if n == '0':\n",
    "        break\n",
    "    width = 0\n",
    "    for i in n:\n",
    "        if i == '1':\n",
    "            width += 2\n",
    "        elif i == '0':\n",
    "            width += 4\n",
    "        else:\n",
    "            width += 3\n",
    "    \n",
    "    width += (len(n) + 1)\n",
    "    print(width)"
   ]
  },
  {
   "cell_type": "code",
   "execution_count": 4,
   "id": "cc07b3ac",
   "metadata": {},
   "outputs": [
    {
     "name": "stdout",
     "output_type": "stream",
     "text": [
      "13\n",
      "15\n",
      "14\n"
     ]
    }
   ],
   "source": [
    "while True:\n",
    "    n = input()\n",
    "    if n == '0':\n",
    "        break\n",
    "    width = 0\n",
    "    for i in n:\n",
    "        match i:\n",
    "            case '0':\n",
    "                width += 4\n",
    "            case '1':\n",
    "                width += 2\n",
    "            case _:\n",
    "                width += 3\n",
    "                \n",
    "    width += (len(n) + 1)\n",
    "    print(width)"
   ]
  },
  {
   "cell_type": "code",
   "execution_count": null,
   "id": "15282b9d",
   "metadata": {},
   "outputs": [],
   "source": []
  }
 ],
 "metadata": {
  "kernelspec": {
   "display_name": "Python 3",
   "language": "python",
   "name": "python3"
  },
  "language_info": {
   "codemirror_mode": {
    "name": "ipython",
    "version": 3
   },
   "file_extension": ".py",
   "mimetype": "text/x-python",
   "name": "python",
   "nbconvert_exporter": "python",
   "pygments_lexer": "ipython3",
   "version": "3.13.5"
  }
 },
 "nbformat": 4,
 "nbformat_minor": 5
}
