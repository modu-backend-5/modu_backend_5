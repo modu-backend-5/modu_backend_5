{
 "cells": [
  {
   "cell_type": "code",
   "execution_count": 1,
   "id": "23cf5e5b",
   "metadata": {},
   "outputs": [
    {
     "name": "stdout",
     "output_type": "stream",
     "text": [
      "84\n"
     ]
    }
   ],
   "source": [
    "n, k = map(int, input().split())\n",
    "gooGooList = []\n",
    "reversedList = []\n",
    "\n",
    "for i in range(1, k + 1):\n",
    "    gooGooList.append(str(n * i))\n",
    "\n",
    "for j in gooGooList:\n",
    "    reversedNum = j[::-1]\n",
    "    reversedList.append(int(reversedNum))\n",
    "    \n",
    "print(max(reversedList))\n",
    "    "
   ]
  },
  {
   "cell_type": "code",
   "execution_count": null,
   "id": "6ba0136a",
   "metadata": {},
   "outputs": [
    {
     "name": "stdout",
     "output_type": "stream",
     "text": [
      "84\n"
     ]
    }
   ],
   "source": [
    "# 다른 풀이\n",
    "n, k = map(int, input().split())\n",
    "\n",
    "result = float(\"-inf\")\n",
    "\n",
    "for i in range(1, k + 1):\n",
    "    insi = n * i\n",
    "    insi = str(insi)\n",
    "    insi = insi[::-1]\n",
    "    insi = int(insi)\n",
    "    result = max(result, insi)\n",
    "\n",
    "print(result)"
   ]
  }
 ],
 "metadata": {
  "kernelspec": {
   "display_name": "Python 3",
   "language": "python",
   "name": "python3"
  },
  "language_info": {
   "codemirror_mode": {
    "name": "ipython",
    "version": 3
   },
   "file_extension": ".py",
   "mimetype": "text/x-python",
   "name": "python",
   "nbconvert_exporter": "python",
   "pygments_lexer": "ipython3",
   "version": "3.13.5"
  }
 },
 "nbformat": 4,
 "nbformat_minor": 5
}
