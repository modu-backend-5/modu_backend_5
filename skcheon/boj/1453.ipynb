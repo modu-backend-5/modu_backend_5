{
 "cells": [
  {
   "cell_type": "code",
   "execution_count": 3,
   "id": "accadea4",
   "metadata": {},
   "outputs": [
    {
     "name": "stdout",
     "output_type": "stream",
     "text": [
      "0\n"
     ]
    }
   ],
   "source": [
    "n = int(input())\n",
    "\n",
    "seat = list(map(int, input().split()))\n",
    "kicked = 0\n",
    "\n",
    "if n == 0 or n == 1:\n",
    "    print(0)\n",
    "else:\n",
    "    for i in range(1, 101):\n",
    "        if seat.count(i) > 1:\n",
    "            kicked += (seat.count(i) - 1)\n",
    "\n",
    "    print(kicked)"
   ]
  },
  {
   "cell_type": "code",
   "execution_count": null,
   "id": "78c4abb3",
   "metadata": {},
   "outputs": [],
   "source": [
    "# 다른 풀이\n",
    "n = int(input())\n",
    "arr = list(map(int, input().split()))\n",
    "check_list = [0] * 101\n",
    "cnt = 0\n",
    "\n",
    "for i in arr:\n",
    "    if check_list[i] == 0:\n",
    "        check_list[i] = 1\n",
    "    else:\n",
    "        cnt += 1\n",
    "\n",
    "print(cnt)"
   ]
  },
  {
   "cell_type": "code",
   "execution_count": null,
   "id": "561f0f5a",
   "metadata": {},
   "outputs": [],
   "source": [
    "# 다른 풀이\n",
    "n = int(input())\n",
    "arr = list(map(int, input().split()))\n",
    "set_list = set(arr)\n",
    "len(arr) = len(set_list)\n",
    "print(len(arr) - len(set_list))"
   ]
  }
 ],
 "metadata": {
  "kernelspec": {
   "display_name": "Python 3",
   "language": "python",
   "name": "python3"
  },
  "language_info": {
   "codemirror_mode": {
    "name": "ipython",
    "version": 3
   },
   "file_extension": ".py",
   "mimetype": "text/x-python",
   "name": "python",
   "nbconvert_exporter": "python",
   "pygments_lexer": "ipython3",
   "version": "3.13.5"
  }
 },
 "nbformat": 4,
 "nbformat_minor": 5
}
