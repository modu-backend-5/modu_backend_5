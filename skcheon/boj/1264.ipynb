{
 "cells": [
  {
   "cell_type": "code",
   "execution_count": null,
   "id": "ea5f49b8",
   "metadata": {},
   "outputs": [
    {
     "name": "stdout",
     "output_type": "stream",
     "text": [
      "7\n",
      "14\n",
      "9\n"
     ]
    }
   ],
   "source": [
    "aeiou = [\"a\", \"e\", \"i\", \"o\", \"u\"]\n",
    "\n",
    "while True:\n",
    "    cnt = 0\n",
    "    sentence = input()\n",
    "    \n",
    "    if sentence == \"#\":\n",
    "        break\n",
    "    \n",
    "    sentence = sentence.lower()\n",
    "    \n",
    "    for i in range(len(sentence)):\n",
    "        if sentence[i] in aeiou:\n",
    "            cnt += 1\n",
    "    \n",
    "    print(cnt)"
   ]
  }
 ],
 "metadata": {
  "kernelspec": {
   "display_name": "Python 3",
   "language": "python",
   "name": "python3"
  },
  "language_info": {
   "codemirror_mode": {
    "name": "ipython",
    "version": 3
   },
   "file_extension": ".py",
   "mimetype": "text/x-python",
   "name": "python",
   "nbconvert_exporter": "python",
   "pygments_lexer": "ipython3",
   "version": "3.13.5"
  }
 },
 "nbformat": 4,
 "nbformat_minor": 5
}
