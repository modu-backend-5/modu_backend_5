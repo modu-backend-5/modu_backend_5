{
 "cells": [
  {
   "cell_type": "code",
   "execution_count": 1,
   "id": "2d9590fb",
   "metadata": {},
   "outputs": [
    {
     "name": "stdout",
     "output_type": "stream",
     "text": [
      "11 False 8\n"
     ]
    }
   ],
   "source": [
    "# 할당 연산\n",
    "# 할당 연산자의 우선순위는 대부분의 다른 연산자들보다 낮다. 보통 마지막으로 연산이 실행된다.\n",
    "x = 10\n",
    "x = x + 1\n",
    "y = True and False\n",
    "z = 5 + 3\n",
    "\n",
    "\n",
    "print(x, y, z)"
   ]
  },
  {
   "cell_type": "code",
   "execution_count": 2,
   "id": "7b8736f6",
   "metadata": {},
   "outputs": [
    {
     "name": "stdout",
     "output_type": "stream",
     "text": [
      "25\n"
     ]
    }
   ],
   "source": [
    "# 복합 할당 연산\n",
    "x = 5\n",
    "y = 2\n",
    "z = 10\n",
    "\n",
    "\n",
    "x += y * z  # y * z 연산 후 x에 값을 할당합니다.\n",
    "print(x)  # 결과: 25"
   ]
  }
 ],
 "metadata": {
  "kernelspec": {
   "display_name": "Python 3",
   "language": "python",
   "name": "python3"
  },
  "language_info": {
   "codemirror_mode": {
    "name": "ipython",
    "version": 3
   },
   "file_extension": ".py",
   "mimetype": "text/x-python",
   "name": "python",
   "nbconvert_exporter": "python",
   "pygments_lexer": "ipython3",
   "version": "3.13.5"
  }
 },
 "nbformat": 4,
 "nbformat_minor": 5
}
