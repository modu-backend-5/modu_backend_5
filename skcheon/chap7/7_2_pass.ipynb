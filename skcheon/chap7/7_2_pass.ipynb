{
 "cells": [
  {
   "cell_type": "code",
   "execution_count": null,
   "id": "1419f47f",
   "metadata": {},
   "outputs": [],
   "source": [
    "# pass\n",
    "# 아무것도 하지 않는 Python 문장. 추후 구현할 함수 등의 설계만 할 때 사용\n",
    "def future_function():\n",
    "    pass  # 이 함수는 나중에 구현할 예정입니다\n",
    "\n",
    "\n",
    "future_function()  # 아무 일도 일어나지 않습니다"
   ]
  },
  {
   "cell_type": "code",
   "execution_count": 4,
   "id": "6e17a968",
   "metadata": {},
   "outputs": [
    {
     "name": "stdout",
     "output_type": "stream",
     "text": [
      "pass 문 예제 완료\n"
     ]
    }
   ],
   "source": [
    "# pass는 함수 말고도 조건문이나 반복문에서도 사용 가능\n",
    "if True:\n",
    "    pass  # 나중에 여기에 코드를 추가할 예정입니다\n",
    "\n",
    "\n",
    "for i in range(5):\n",
    "    pass  # 나중에 여기에 코드를 추가할 예정입니다\n",
    "\n",
    "while True:\n",
    "    pass\n",
    "    break\n",
    "\n",
    "\n",
    "print(\"pass 문 예제 완료\")"
   ]
  },
  {
   "cell_type": "code",
   "execution_count": null,
   "id": "e085a7e8",
   "metadata": {},
   "outputs": [],
   "source": [
    "def future_fuction() -> int:    # int를 반환할, 아직 미구현된 함수\n",
    "    # TODO : 250806 함수 틀만 설계\n",
    "    pass"
   ]
  }
 ],
 "metadata": {
  "kernelspec": {
   "display_name": "Python 3",
   "language": "python",
   "name": "python3"
  },
  "language_info": {
   "codemirror_mode": {
    "name": "ipython",
    "version": 3
   },
   "file_extension": ".py",
   "mimetype": "text/x-python",
   "name": "python",
   "nbconvert_exporter": "python",
   "pygments_lexer": "ipython3",
   "version": "3.13.5"
  }
 },
 "nbformat": 4,
 "nbformat_minor": 5
}
