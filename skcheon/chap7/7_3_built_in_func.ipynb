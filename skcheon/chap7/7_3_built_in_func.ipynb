{
 "cells": [
  {
   "cell_type": "code",
   "execution_count": null,
   "id": "efa94a48",
   "metadata": {},
   "outputs": [],
   "source": [
    "# 파이썬 내장 함수\n",
    "# 파이썬에서 미리 만들어진 함수. 별도의 설치 없이 바로 사용 가능"
   ]
  },
  {
   "cell_type": "code",
   "execution_count": null,
   "id": "bd73d017",
   "metadata": {},
   "outputs": [],
   "source": [
    "# print()"
   ]
  },
  {
   "cell_type": "code",
   "execution_count": null,
   "id": "9e86aa8e",
   "metadata": {},
   "outputs": [],
   "source": [
    "# len()"
   ]
  },
  {
   "cell_type": "code",
   "execution_count": null,
   "id": "fb08f502",
   "metadata": {},
   "outputs": [],
   "source": [
    "# 형변환"
   ]
  },
  {
   "cell_type": "code",
   "execution_count": null,
   "id": "b32c3953",
   "metadata": {},
   "outputs": [],
   "source": [
    "# input()"
   ]
  },
  {
   "cell_type": "code",
   "execution_count": null,
   "id": "08a4e9d0",
   "metadata": {},
   "outputs": [],
   "source": [
    "# range()"
   ]
  },
  {
   "cell_type": "code",
   "execution_count": null,
   "id": "9210d84b",
   "metadata": {},
   "outputs": [],
   "source": [
    "# sum()"
   ]
  },
  {
   "cell_type": "code",
   "execution_count": null,
   "id": "c0ade8fb",
   "metadata": {},
   "outputs": [],
   "source": [
    "# max()"
   ]
  }
 ],
 "metadata": {
  "language_info": {
   "name": "python"
  }
 },
 "nbformat": 4,
 "nbformat_minor": 5
}
