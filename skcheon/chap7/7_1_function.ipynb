{
 "cells": [
  {
   "cell_type": "code",
   "execution_count": 1,
   "id": "67476347",
   "metadata": {},
   "outputs": [
    {
     "name": "stdout",
     "output_type": "stream",
     "text": [
      "안녕하세요!\n"
     ]
    }
   ],
   "source": [
    "# 함수\n",
    "# 특정한 작업을 수행하는 코드의 묶음\n",
    "def greet(): # 함수 정의\n",
    "    print(\"안녕하세요!\")\n",
    "\n",
    "\n",
    "greet()  # 함수 호출"
   ]
  },
  {
   "cell_type": "code",
   "execution_count": 2,
   "id": "cec5f0ad",
   "metadata": {},
   "outputs": [
    {
     "name": "stdout",
     "output_type": "stream",
     "text": [
      "Hello, World!\n"
     ]
    }
   ],
   "source": [
    "# 함수 정의 : def 키워드 사용\n",
    "def say_hello():\n",
    "    print(\"Hello, World!\")\n",
    "\n",
    "\n",
    "say_hello()  # 함수 호출"
   ]
  },
  {
   "cell_type": "code",
   "execution_count": 3,
   "id": "56104d1d",
   "metadata": {},
   "outputs": [
    {
     "name": "stdout",
     "output_type": "stream",
     "text": [
      "안녕하세요, 영희님!\n"
     ]
    }
   ],
   "source": [
    "# 매개변수\n",
    "# 메서드가 실행될 때 사용할 변수\n",
    "def greet(name):\n",
    "    print(f\"안녕하세요, {name}님!\")\n",
    "\n",
    "\n",
    "greet(\"영희\")"
   ]
  },
  {
   "cell_type": "code",
   "execution_count": 4,
   "id": "d8af03cc",
   "metadata": {},
   "outputs": [
    {
     "name": "stdout",
     "output_type": "stream",
     "text": [
      "3 + 5 = 8\n"
     ]
    }
   ],
   "source": [
    "# 반환값\n",
    "# return문을 사용하여 결과 반환\n",
    "def add(a, b):\n",
    "    return a + b\n",
    "\n",
    "\n",
    "result = add(3, 5)\n",
    "print(\"3 + 5 =\", result)"
   ]
  },
  {
   "cell_type": "code",
   "execution_count": 5,
   "id": "dffdc17b",
   "metadata": {},
   "outputs": [
    {
     "name": "stdout",
     "output_type": "stream",
     "text": [
      "안녕하세요, 손님님!\n",
      "안녕하세요, 영희님!\n"
     ]
    }
   ],
   "source": [
    "# 기본 매개변수\n",
    "# 매개변수에 기본값 지정 가능\n",
    "def greet(name=\"손님\"):\n",
    "    print(f\"안녕하세요, {name}님!\")\n",
    "\n",
    "\n",
    "greet()  # 기본값 사용\n",
    "greet(\"영희\")  # 직접 값 전달"
   ]
  },
  {
   "cell_type": "code",
   "execution_count": null,
   "id": "00e725ef",
   "metadata": {},
   "outputs": [
    {
     "name": "stdout",
     "output_type": "stream",
     "text": [
      "제 이름은 철수이고, 20살입니다.\n",
      "제 이름은 영희이고, 25살입니다.\n"
     ]
    }
   ],
   "source": [
    "# 키워드 인자\n",
    "# 함수 호출 시 매개변수의 이름을 지정하여 값 전달 가능\n",
    "def introduce(name, age):\n",
    "    print(f\"제 이름은 {name}이고, {age}살입니다.\")\n",
    "\n",
    "\n",
    "introduce(name=\"철수\", age=20)\n",
    "introduce(age=25, name=\"영희\")  # 순서를 바꿔도 됩니다"
   ]
  },
  {
   "cell_type": "code",
   "execution_count": null,
   "id": "8b1d3322",
   "metadata": {},
   "outputs": [
    {
     "name": "stdout",
     "output_type": "stream",
     "text": [
      "함수 내부: 10\n",
      "에러: name 'x' is not defined\n"
     ]
    }
   ],
   "source": [
    "# 지역 변수와 전역 변수\n",
    "# y = 5   # 전역 변수\n",
    "# def local_var_example():\n",
    "#     x = 10  # 지역 변수\n",
    "#     print(\"함수 내부:\", x)\n",
    "\n",
    "\n",
    "# local_var_example()\n",
    "# try:\n",
    "#     print(\"함수 외부:\", x)  # 에러 발생\n",
    "# except NameError as e:\n",
    "#     print(\"에러:\", e)"
   ]
  }
 ],
 "metadata": {
  "kernelspec": {
   "display_name": "Python 3",
   "language": "python",
   "name": "python3"
  },
  "language_info": {
   "codemirror_mode": {
    "name": "ipython",
    "version": 3
   },
   "file_extension": ".py",
   "mimetype": "text/x-python",
   "name": "python",
   "nbconvert_exporter": "python",
   "pygments_lexer": "ipython3",
   "version": "3.13.5"
  }
 },
 "nbformat": 4,
 "nbformat_minor": 5
}
