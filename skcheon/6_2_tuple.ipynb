{
 "cells": [
  {
   "cell_type": "code",
   "execution_count": 1,
   "id": "0c29ccd6",
   "metadata": {},
   "outputs": [
    {
     "name": "stdout",
     "output_type": "stream",
     "text": [
      "(1, 'hello', 3.14)\n"
     ]
    }
   ],
   "source": [
    "# 튜플\n",
    "my_tuple = (1, 'hello', 3.14)\n",
    "print(my_tuple)"
   ]
  },
  {
   "cell_type": "code",
   "execution_count": 3,
   "id": "86c53fe3",
   "metadata": {},
   "outputs": [
    {
     "name": "stdout",
     "output_type": "stream",
     "text": [
      "(1, 2, 3) ('apple', 'banana', 'cherry') (1, 'hello', True)\n"
     ]
    }
   ],
   "source": [
    "# 튜플 생성\n",
    "x = (1, 2, 3)\n",
    "y = ('apple', 'banana', 'cherry')\n",
    "z = (1, 'hello', True)\n",
    "print(x, y, z)"
   ]
  },
  {
   "cell_type": "code",
   "execution_count": 7,
   "id": "444f75b1",
   "metadata": {},
   "outputs": [
    {
     "name": "stdout",
     "output_type": "stream",
     "text": [
      "첫 번째 과일: cherry\n",
      "두 번째 과일: banana\n",
      "마지막 과일: durian\n",
      "('orange', 'apple')\n"
     ]
    }
   ],
   "source": [
    "fruits = ('cherry', 'banana', \"orange\", 'apple', \"durian\")\n",
    "print(\"첫 번째 과일:\", fruits[0])\n",
    "print(\"두 번째 과일:\", fruits[1])\n",
    "print(\"마지막 과일:\", fruits[-1])\n",
    "print(fruits[2:4])"
   ]
  },
  {
   "cell_type": "code",
   "execution_count": 9,
   "id": "dbef093e",
   "metadata": {},
   "outputs": [
    {
     "name": "stdout",
     "output_type": "stream",
     "text": [
      "처음부터 3번째까지: (0, 1, 2)\n",
      "4번째부터 7번째까지: (3, 4, 5, 6)\n",
      "짝수 번째 항목들: (0, 2, 4, 6, 8)\n"
     ]
    }
   ],
   "source": [
    "numbers = (0, 1, 2, 3, 4, 5, 6, 7, 8, 9)\n",
    "print(\"처음부터 3번째까지:\", numbers[:3])\n",
    "print(\"4번째부터 7번째까지:\", numbers[3:7])\n",
    "print(\"짝수 번째 항목들:\", numbers[::2])"
   ]
  },
  {
   "cell_type": "code",
   "execution_count": null,
   "id": "bb3b1a15",
   "metadata": {},
   "outputs": [],
   "source": [
    "# 튜플의 불변성\n",
    "# 튜플은 한 번 생성되면 그 내용을 변경할 수 없다."
   ]
  },
  {
   "cell_type": "code",
   "execution_count": null,
   "id": "74554afe",
   "metadata": {},
   "outputs": [
    {
     "data": {
      "text/plain": [
       "['__add__',\n",
       " '__class__',\n",
       " '__class_getitem__',\n",
       " '__contains__',\n",
       " '__delattr__',\n",
       " '__dir__',\n",
       " '__doc__',\n",
       " '__eq__',\n",
       " '__format__',\n",
       " '__ge__',\n",
       " '__getattribute__',\n",
       " '__getitem__',\n",
       " '__getnewargs__',\n",
       " '__getstate__',\n",
       " '__gt__',\n",
       " '__hash__',\n",
       " '__init__',\n",
       " '__init_subclass__',\n",
       " '__iter__',\n",
       " '__le__',\n",
       " '__len__',\n",
       " '__lt__',\n",
       " '__mul__',\n",
       " '__ne__',\n",
       " '__new__',\n",
       " '__reduce__',\n",
       " '__reduce_ex__',\n",
       " '__repr__',\n",
       " '__rmul__',\n",
       " '__setattr__',\n",
       " '__sizeof__',\n",
       " '__str__',\n",
       " '__subclasshook__',\n",
       " 'count',\n",
       " 'index']"
      ]
     },
     "execution_count": 11,
     "metadata": {},
     "output_type": "execute_result"
    }
   ],
   "source": [
    "# 튜플에 지원하는 메서드 확인\n",
    "dir(tuple)"
   ]
  },
  {
   "cell_type": "code",
   "execution_count": 14,
   "id": "7f63ab1f",
   "metadata": {},
   "outputs": [
    {
     "name": "stdout",
     "output_type": "stream",
     "text": [
      "숫자 1의 개수: 2\n",
      "숫자 5의 첫 번째 위치: 4\n",
      "숫자 3의 두 번째 위치: 9\n"
     ]
    }
   ],
   "source": [
    "# 튜플 메서드\n",
    "numbers = (3, 1, 4, 1, 5, 9, 2, 6, 5, 3)\n",
    "\n",
    "\n",
    "print(\"숫자 1의 개수:\", numbers.count(1))  # 특정 항목의 개수 세기\n",
    "print(\"숫자 5의 첫 번째 위치:\", numbers.index(5))  # 특정 항목의 인덱스 찾기\n",
    "print(\"숫자 3의 두 번째 위치:\", numbers.index(3, 2))"
   ]
  }
 ],
 "metadata": {
  "kernelspec": {
   "display_name": "Python 3",
   "language": "python",
   "name": "python3"
  },
  "language_info": {
   "codemirror_mode": {
    "name": "ipython",
    "version": 3
   },
   "file_extension": ".py",
   "mimetype": "text/x-python",
   "name": "python",
   "nbconvert_exporter": "python",
   "pygments_lexer": "ipython3",
   "version": "3.13.5"
  }
 },
 "nbformat": 4,
 "nbformat_minor": 5
}
