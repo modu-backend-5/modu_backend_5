{
 "cells": [
  {
   "cell_type": "code",
   "execution_count": null,
   "id": "0a87cf37",
   "metadata": {},
   "outputs": [],
   "source": [
    "# name = 'Licat'\n",
    "# age = 30"
   ]
  },
  {
   "cell_type": "code",
   "execution_count": null,
   "id": "860d129a",
   "metadata": {},
   "outputs": [],
   "source": [
    "# print(age, name)"
   ]
  },
  {
   "cell_type": "code",
   "execution_count": null,
   "id": "21842315",
   "metadata": {},
   "outputs": [],
   "source": [
    "# 변수 이름은 대소문자를 구분한다\n"
   ]
  },
  {
   "cell_type": "code",
   "execution_count": 6,
   "id": "770f8994",
   "metadata": {},
   "outputs": [
    {
     "name": "stdout",
     "output_type": "stream",
     "text": [
      "Sunny 30 male\n"
     ]
    }
   ],
   "source": [
    "name = \"Sunny\"\n",
    "age = 30\n",
    "gender = \"male\"\n",
    "\n",
    "print(name, age, gender)"
   ]
  },
  {
   "cell_type": "code",
   "execution_count": 8,
   "id": "5a629b86",
   "metadata": {},
   "outputs": [
    {
     "name": "stdout",
     "output_type": "stream",
     "text": [
      "<class 'str'>\n",
      "<class 'int'>\n"
     ]
    }
   ],
   "source": [
    "print(type(name))\n",
    "print(type(age))"
   ]
  },
  {
   "cell_type": "code",
   "execution_count": 9,
   "id": "af9c7744",
   "metadata": {},
   "outputs": [
    {
     "data": {
      "text/plain": [
       "60"
      ]
     },
     "execution_count": 9,
     "metadata": {},
     "output_type": "execute_result"
    }
   ],
   "source": [
    "age + age"
   ]
  },
  {
   "cell_type": "code",
   "execution_count": 10,
   "id": "9b49d605",
   "metadata": {},
   "outputs": [
    {
     "data": {
      "text/plain": [
       "'SunnySunny'"
      ]
     },
     "execution_count": 10,
     "metadata": {},
     "output_type": "execute_result"
    }
   ],
   "source": [
    "name + name"
   ]
  }
 ],
 "metadata": {
  "kernelspec": {
   "display_name": "Python 3",
   "language": "python",
   "name": "python3"
  },
  "language_info": {
   "codemirror_mode": {
    "name": "ipython",
    "version": 3
   },
   "file_extension": ".py",
   "mimetype": "text/x-python",
   "name": "python",
   "nbconvert_exporter": "python",
   "pygments_lexer": "ipython3",
   "version": "3.13.5"
  }
 },
 "nbformat": 4,
 "nbformat_minor": 5
}
