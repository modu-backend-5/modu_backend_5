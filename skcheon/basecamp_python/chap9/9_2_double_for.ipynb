{
 "cells": [
  {
   "cell_type": "code",
   "execution_count": 2,
   "id": "1e68dda7",
   "metadata": {},
   "outputs": [
    {
     "name": "stdout",
     "output_type": "stream",
     "text": [
      "i: 0, j: 0\n",
      "i: 0, j: 1\n",
      "i: 0, j: 2\n",
      "i: 0, j: 3\n",
      "i: 0, j: 4\n",
      "i: 1, j: 0\n",
      "i: 1, j: 1\n",
      "i: 1, j: 2\n",
      "i: 1, j: 3\n",
      "i: 1, j: 4\n",
      "i: 2, j: 0\n",
      "i: 2, j: 1\n",
      "i: 2, j: 2\n",
      "i: 2, j: 3\n",
      "i: 2, j: 4\n",
      "i: 3, j: 0\n",
      "i: 3, j: 1\n",
      "i: 3, j: 2\n",
      "i: 3, j: 3\n",
      "i: 3, j: 4\n",
      "i: 4, j: 0\n",
      "i: 4, j: 1\n",
      "i: 4, j: 2\n",
      "i: 4, j: 3\n",
      "i: 4, j: 4\n",
      "i: 5, j: 0\n",
      "i: 5, j: 1\n",
      "i: 5, j: 2\n",
      "i: 5, j: 3\n",
      "i: 5, j: 4\n",
      "i: 6, j: 0\n",
      "i: 6, j: 1\n",
      "i: 6, j: 2\n",
      "i: 6, j: 3\n",
      "i: 6, j: 4\n",
      "i: 7, j: 0\n",
      "i: 7, j: 1\n",
      "i: 7, j: 2\n",
      "i: 7, j: 3\n",
      "i: 7, j: 4\n",
      "i: 8, j: 0\n",
      "i: 8, j: 1\n",
      "i: 8, j: 2\n",
      "i: 8, j: 3\n",
      "i: 8, j: 4\n",
      "i: 9, j: 0\n",
      "i: 9, j: 1\n",
      "i: 9, j: 2\n",
      "i: 9, j: 3\n",
      "i: 9, j: 4\n"
     ]
    }
   ],
   "source": [
    "for i in range(10):\n",
    "    for j in range(10):\n",
    "        if j == 5:\n",
    "            break\n",
    "        print(f\"i: {i}, j: {j}\")"
   ]
  },
  {
   "cell_type": "code",
   "execution_count": 3,
   "id": "dd74000b",
   "metadata": {},
   "outputs": [
    {
     "name": "stdout",
     "output_type": "stream",
     "text": [
      "i: 1, j: 0\n",
      "i: 1, j: 1\n",
      "i: 1, j: 2\n",
      "i: 1, j: 3\n",
      "i: 1, j: 4\n",
      "i: 3, j: 0\n",
      "i: 3, j: 1\n",
      "i: 3, j: 2\n",
      "i: 3, j: 3\n",
      "i: 3, j: 4\n",
      "i: 5, j: 0\n",
      "i: 5, j: 1\n",
      "i: 5, j: 2\n",
      "i: 5, j: 3\n",
      "i: 5, j: 4\n",
      "i: 7, j: 0\n",
      "i: 7, j: 1\n",
      "i: 7, j: 2\n",
      "i: 7, j: 3\n",
      "i: 7, j: 4\n",
      "i: 9, j: 0\n",
      "i: 9, j: 1\n",
      "i: 9, j: 2\n",
      "i: 9, j: 3\n",
      "i: 9, j: 4\n"
     ]
    }
   ],
   "source": [
    "for i in range(10):\n",
    "    if i % 2 == 0:\n",
    "        continue\n",
    "    for j in range(5):\n",
    "        print(f\"i: {i}, j: {j}\")"
   ]
  }
 ],
 "metadata": {
  "kernelspec": {
   "display_name": "Python 3",
   "language": "python",
   "name": "python3"
  },
  "language_info": {
   "codemirror_mode": {
    "name": "ipython",
    "version": 3
   },
   "file_extension": ".py",
   "mimetype": "text/x-python",
   "name": "python",
   "nbconvert_exporter": "python",
   "pygments_lexer": "ipython3",
   "version": "3.13.5"
  }
 },
 "nbformat": 4,
 "nbformat_minor": 5
}
