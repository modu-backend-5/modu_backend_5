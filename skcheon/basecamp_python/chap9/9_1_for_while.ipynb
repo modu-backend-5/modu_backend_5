{
 "cells": [
  {
   "cell_type": "code",
   "execution_count": null,
   "id": "afce829c",
   "metadata": {},
   "outputs": [],
   "source": [
    "# 반복문\n",
    "# 특정 코드를 여러 번 실행하고 싶을 때 사용하는 프로그래밍 도구"
   ]
  },
  {
   "cell_type": "code",
   "execution_count": 1,
   "id": "8e272779",
   "metadata": {},
   "outputs": [
    {
     "name": "stdout",
     "output_type": "stream",
     "text": [
      "h\n",
      "e\n",
      "l\n",
      "l\n",
      "o\n"
     ]
    }
   ],
   "source": [
    "# for\n",
    "s = 'hello'\n",
    "for i in s:\n",
    "    print(i)"
   ]
  },
  {
   "cell_type": "code",
   "execution_count": 9,
   "id": "d8eb2085",
   "metadata": {},
   "outputs": [
    {
     "name": "stdout",
     "output_type": "stream",
     "text": [
      "사과\n",
      "바나나\n",
      "오렌지\n"
     ]
    }
   ],
   "source": [
    "# 리스트, 튜플, 딕셔너리\n",
    "# fruits = ['사과', '바나나', '오렌지']\n",
    "# for fruit in fruits:\n",
    "#     print(fruit)\n",
    "    \n",
    "# fruits = ('사과', '바나나', '오렌지')\n",
    "# for fruit in fruits:\n",
    "#     print(fruit)\n",
    "    \n",
    "# fruits = {'사과':'apple', '바나나':'banana', '오렌지':'orange'}\n",
    "# for fruit, value in fruits.items():\n",
    "#     # print(fruit)\n",
    "#     # print(fruits[fruit])\n",
    "#     print(fruit, value)\n",
    "\n",
    "fruits = ['사과', '바나나', '오렌지']\n",
    "i = iter(fruits)\n",
    "print(next(i))\n",
    "print(next(i))\n",
    "print(next(i))"
   ]
  },
  {
   "cell_type": "code",
   "execution_count": 10,
   "id": "36d044d5",
   "metadata": {},
   "outputs": [
    {
     "name": "stdout",
     "output_type": "stream",
     "text": [
      "0\n",
      "1\n",
      "2\n",
      "3\n",
      "4\n"
     ]
    }
   ],
   "source": [
    "# range() 함수 사용\n",
    "for i in range(5):\n",
    "    print(i)"
   ]
  },
  {
   "cell_type": "code",
   "execution_count": null,
   "id": "4b353069",
   "metadata": {},
   "outputs": [],
   "source": [
    "# enumerate() 함수 사용\n",
    "fruits = ['사과', '바나나', '오렌지']\n",
    "for index, fruit in enumerate(fruits):\n",
    "    print(f\"{index}번째 과일: {fruit}\")"
   ]
  },
  {
   "cell_type": "code",
   "execution_count": null,
   "id": "86a43e88",
   "metadata": {},
   "outputs": [
    {
     "name": "stdout",
     "output_type": "stream",
     "text": [
      "0\n",
      "1\n",
      "2\n",
      "3\n",
      "4\n"
     ]
    }
   ],
   "source": [
    "# while 문 사용\n",
    "# 조건이 참일 때까지 반복. while True를 이용해 계속 반복 가능\n",
    "count = 0\n",
    "while count < 5:\n",
    "    print(count)\n",
    "    count += 1"
   ]
  },
  {
   "cell_type": "code",
   "execution_count": 12,
   "id": "78935a57",
   "metadata": {},
   "outputs": [
    {
     "name": "stdout",
     "output_type": "stream",
     "text": [
      "프로그램을 종료합니다.\n"
     ]
    }
   ],
   "source": [
    "# 무한 루프와 break\n",
    "# break를 이용해 현재 루프 중인 반복문을 종료한다.\n",
    "while True:\n",
    "    answer = input(\"계속하시겠습니까? (y/n): \")\n",
    "    if answer.lower() == 'n':\n",
    "        break\n",
    "print(\"프로그램을 종료합니다.\")"
   ]
  },
  {
   "cell_type": "code",
   "execution_count": null,
   "id": "fd64001a",
   "metadata": {},
   "outputs": [
    {
     "name": "stdout",
     "output_type": "stream",
     "text": [
      "0\n",
      "1\n",
      "3\n",
      "4\n"
     ]
    }
   ],
   "source": [
    "# continue 사용하기\n",
    "# continue를 사용해 현재 단계를 건너뛰어 다음 단계를 실행함\n",
    "for i in range(5):\n",
    "    if i == 2:\n",
    "        continue\n",
    "    print(i)"
   ]
  },
  {
   "cell_type": "code",
   "execution_count": null,
   "id": "c1ed73c1",
   "metadata": {},
   "outputs": [
    {
     "name": "stdout",
     "output_type": "stream",
     "text": [
      "0\n",
      "1\n",
      "2\n",
      "3\n",
      "4\n",
      "반복문이 정상적으로 종료되었습니다.\n"
     ]
    }
   ],
   "source": [
    "# else를 이용하여 구현. if문 뿐만 아니라 for문에서도 사용 가능\n",
    "# 다른 프로그래밍 언어에서도 for문과 사용 가능한지는 불확실\n",
    "for i in range(5):\n",
    "    print(i)\n",
    "else:\n",
    "    print(\"반복문이 정상적으로 종료되었습니다.\")"
   ]
  }
 ],
 "metadata": {
  "kernelspec": {
   "display_name": "Python 3",
   "language": "python",
   "name": "python3"
  },
  "language_info": {
   "codemirror_mode": {
    "name": "ipython",
    "version": 3
   },
   "file_extension": ".py",
   "mimetype": "text/x-python",
   "name": "python",
   "nbconvert_exporter": "python",
   "pygments_lexer": "ipython3",
   "version": "3.13.5"
  }
 },
 "nbformat": 4,
 "nbformat_minor": 5
}
