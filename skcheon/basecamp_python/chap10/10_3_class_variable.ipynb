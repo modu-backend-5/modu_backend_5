{
 "cells": [
  {
   "cell_type": "code",
   "execution_count": 1,
   "id": "fda9a4fb",
   "metadata": {},
   "outputs": [
    {
     "name": "stdout",
     "output_type": "stream",
     "text": [
      "300\n",
      "300\n"
     ]
    }
   ],
   "source": [
    "# 클래스 변수\n",
    "# 클래스 바로 하위에 자리하고 있는 변수. 인스턴스 이름을 통해 접근 가능\n",
    "class Car:\n",
    "    # 클래스 변수의 위치\n",
    "    max_speed = 300\n",
    "    max_people = 5\n",
    "\n",
    "\n",
    "modelx = Car()\n",
    "print(Car.max_speed)\n",
    "print(modelx.max_speed)"
   ]
  },
  {
   "cell_type": "code",
   "execution_count": 2,
   "id": "ed9ea12d",
   "metadata": {},
   "outputs": [
    {
     "name": "stdout",
     "output_type": "stream",
     "text": [
      "300\n",
      "300\n",
      "500\n"
     ]
    }
   ],
   "source": [
    "class Car:\n",
    "    # 클래스 변수의 위치\n",
    "    max_speed = 300\n",
    "    max_people = 5\n",
    "\n",
    "\n",
    "modelx = Car()\n",
    "modely = Car()\n",
    "\n",
    "\n",
    "modely.max_speed = 500\n",
    "\n",
    "\n",
    "print(Car.max_speed)\n",
    "print(modelx.max_speed)\n",
    "print(modely.max_speed)"
   ]
  },
  {
   "cell_type": "code",
   "execution_count": 5,
   "id": "cc9f8360",
   "metadata": {},
   "outputs": [
    {
     "name": "stdout",
     "output_type": "stream",
     "text": [
      "modelx.speed: 500\n",
      "modely.speed: 250\n"
     ]
    }
   ],
   "source": [
    "class Car:\n",
    "    speed = 300\n",
    "\n",
    "\n",
    "    def change_speed(self, speed):  # self는 인스턴스 본인을 의미함.\n",
    "        self.speed = speed\n",
    "\n",
    "\n",
    "modelx = Car()\n",
    "modely = Car()\n",
    "\n",
    "\n",
    "modelx.change_speed(500)\n",
    "modely.change_speed(250)\n",
    "\n",
    "\n",
    "print(f'modelx.speed: {modelx.speed}')\n",
    "print(f'modely.speed: {modely.speed}')"
   ]
  },
  {
   "cell_type": "code",
   "execution_count": 1,
   "id": "ac08e743",
   "metadata": {},
   "outputs": [
    {
     "name": "stdout",
     "output_type": "stream",
     "text": [
      "['modelx']\n",
      "['modely']\n"
     ]
    }
   ],
   "source": [
    "class Car:\n",
    "    kinds = []\n",
    "    speed = 300\n",
    " \n",
    "    def add_kinds(self, name):\n",
    "        self.kinds.append(name)\n",
    " \n",
    "    def change_speed(self, speed):\n",
    "        self.speed = speed\n",
    " \n",
    "modelx = Car()\n",
    "modely = Car()\n",
    "modelx.kinds = []\n",
    "modely.kinds = []\n",
    "modelx.add_kinds('modelx')\n",
    "modely.add_kinds('modely')\n",
    " \n",
    "print(modelx.kinds)\n",
    "print(modely.kinds)"
   ]
  },
  {
   "cell_type": "code",
   "execution_count": null,
   "id": "ddb20ed1",
   "metadata": {},
   "outputs": [
    {
     "name": "stdout",
     "output_type": "stream",
     "text": [
      "Weniv Model X\n",
      "Weniv Model X차가 100의 속력으로 움직이고 있습니다.\n"
     ]
    }
   ],
   "source": [
    "# 인스턴스 변수\n",
    "class Car:\n",
    "    max_speed = 300\n",
    "\n",
    "    # 매직 메서드\n",
    "    def __init__(self, name): # self는 인스턴스 고유의 영역\n",
    "        self.name = name\n",
    "\n",
    "\n",
    "    def start(self, speed): # self는 인스턴스 고유의 영역\n",
    "        self.speed = speed\n",
    "        return f'{self.name}차가 {self.speed}의 속력으로 움직이고 있습니다.'\n",
    "\n",
    "\n",
    "modelx = Car('Weniv Model X')\n",
    "print(modelx.name)\n",
    "print(modelx.start(100))"
   ]
  },
  {
   "cell_type": "code",
   "execution_count": 3,
   "id": "17276d28",
   "metadata": {},
   "outputs": [
    {
     "name": "stdout",
     "output_type": "stream",
     "text": [
      "ModelY hello world\n"
     ]
    }
   ],
   "source": [
    "class Car:\n",
    "    max_speed = 300\n",
    "\n",
    "\n",
    "    def __init__(self, name): # self는 자신만의 영역\n",
    "        self.name = name\n",
    "\n",
    "\n",
    "    def start(self, speed): # self는 자신만의 영역\n",
    "        self.speed = speed\n",
    "        return f'{self.name}차가 {self.speed}의 속력으로 움직이고 있습니다.'\n",
    "\n",
    "\n",
    "modelx = Car('Weniv Model X')\n",
    "modelx.name = 'ModelY'\n",
    "modelx.welcome = 'hello world'\n",
    "print(modelx.name, modelx.welcome) # 출력: ModelY hello world"
   ]
  },
  {
   "cell_type": "code",
   "execution_count": null,
   "id": "e1b1d1b8",
   "metadata": {},
   "outputs": [
    {
     "name": "stdout",
     "output_type": "stream",
     "text": [
      "<class 'function'>\n"
     ]
    },
    {
     "data": {
      "text/plain": [
       "'hi, world'"
      ]
     },
     "execution_count": 5,
     "metadata": {},
     "output_type": "execute_result"
    }
   ],
   "source": [
    "def hello():\n",
    "    print('hello world')\n",
    "\n",
    "\n",
    "print(type(hello)) # 출력: <class 'function'>\n",
    "hello.hi = 'hi, world'\n",
    "hello.hi # 출력: hi, world => 함수도 클래스의 일종이다!"
   ]
  },
  {
   "cell_type": "code",
   "execution_count": null,
   "id": "f99a6375",
   "metadata": {},
   "outputs": [],
   "source": [
    "# 기본적으로 내장되어 있는 자료형 안에 새 자료형 값을 넣을 순 없다.\n",
    "s = 'hello'\n",
    "s.hi = 'hi, world'\n",
    "s.hi # error\n",
    "\n",
    "\n",
    "s = [10, 20, 30]\n",
    "s.hi = 'hi, world'\n",
    "# s.hi # error\n",
    "\n",
    "\n",
    "s = {'one':1}\n",
    "s.hi = 'hi, world'\n",
    "# s.hi # error"
   ]
  }
 ],
 "metadata": {
  "kernelspec": {
   "display_name": "Python 3",
   "language": "python",
   "name": "python3"
  },
  "language_info": {
   "codemirror_mode": {
    "name": "ipython",
    "version": 3
   },
   "file_extension": ".py",
   "mimetype": "text/x-python",
   "name": "python",
   "nbconvert_exporter": "python",
   "pygments_lexer": "ipython3",
   "version": "3.13.5"
  }
 },
 "nbformat": 4,
 "nbformat_minor": 5
}
