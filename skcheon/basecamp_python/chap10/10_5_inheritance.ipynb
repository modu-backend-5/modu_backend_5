{
 "cells": [
  {
   "cell_type": "code",
   "execution_count": null,
   "id": "a540506c",
   "metadata": {},
   "outputs": [],
   "source": [
    "# 상속\n",
    "# 클래스 상속은 한 클래스의 특성(속성 및 메서드)를 다른 클래스가 가져오는 것을 의미한다.\n",
    "# 상속을 통해 코드의 재사용성을 높이고 모듈성을 강화 가능\n",
    "# 부모 클래스(기본 클래스, 슈퍼 클래스) : 특성이 상속되는 클래스\n",
    "# 자식 클래스(파생 클래스, 서브 클래스) : 부모 클래스의 특성을 상속받는 클래스"
   ]
  },
  {
   "cell_type": "code",
   "execution_count": null,
   "id": "e02bc388",
   "metadata": {},
   "outputs": [],
   "source": [
    "# 자식 클래스는 부모 클래스의 모든 속성과 메서드를 상속받는다. 또, 자식 클래스는 부모 클래스에 없는 새로운 속성이나 메서드를 추가하거나, 부모 클래스의 메서드를 오버라이드(재정의)하여 기능 수정 가능"
   ]
  },
  {
   "cell_type": "code",
   "execution_count": null,
   "id": "87af1131",
   "metadata": {},
   "outputs": [],
   "source": [
    "class Car(object):  # object 꼭 적을 필요는 없지만 여기선 명시적으로 표시\n",
    "    maxSpeed = 300\n",
    "    maxPeople = 5\n",
    "\n",
    "\n",
    "    def move(self):\n",
    "        print('출발하였습니다.')\n",
    "\n",
    "\n",
    "    def stop(self):\n",
    "        print('멈췄습니다.')\n",
    "\n",
    "# 자식 클래스: 부모 클래스 Car로부터 상속받음\n",
    "class HybridCar(Car):\n",
    "    battery = 1000\n",
    "    batteryKM = 300\n",
    "\n",
    "\n",
    "class ElectricCar(HybridCar):\n",
    "    battery = 2000\n",
    "    batteryKM = 600\n",
    "\n",
    "\n",
    "modelx = HybridCar()\n",
    "electricCarModely = ElectricCar()\n",
    "print(modelx.maxSpeed)\n",
    "print(electricCarModely.maxSpeed)\n",
    "print(electricCarModely.battery)\n",
    "electricCarModely.move()"
   ]
  },
  {
   "cell_type": "code",
   "execution_count": null,
   "id": "7ec4c05d",
   "metadata": {},
   "outputs": [],
   "source": [
    "class Character:\n",
    "    최대속력 = 100\n",
    "    최대레벨 = 50\n",
    " \n",
    "    def __init__(self, name, hp, attack, lv):\n",
    "        self.이름 = name\n",
    "        self.체력 = hp\n",
    "        self.공격력 = attack\n",
    "        self.레벨 = lv\n",
    "        self.속력 = 1\n",
    " \n",
    "    def move(self):\n",
    "        print(f'{self.이름}이(가) {self.속력}의 이동속도로 움직였습니다.')\n",
    " \n",
    "    def attack(self):\n",
    "        print(f'{self.이름}이(가) {self.공격력}의 데미지로 공격했습니다.')\n",
    " \n",
    "class Mob(Character):\n",
    "    def __init__(self, name, hp, attack, lv, droprate, dropitem):\n",
    "        super().__init__(name, hp, attack, lv)  # 자신보다 위에 있는 부모 클래스를 의미하는 super()\n",
    "        self.드랍률 = droprate\n",
    "        self.드랍아이템 = dropitem\n",
    " \n",
    "# 위 코드는 아래와 같은 기능입니다.\n",
    "# class Mob(Character):\n",
    "#     def __init__(self, name, hp, attack, lv, droprate, dropitem):\n",
    "#         self.이름 = name\n",
    "#         self.체력 = hp\n",
    "#         self.공격력 = attack\n",
    "#         self.레벨 = lv\n",
    "#         self.드랍률 = droprate\n",
    "#         self.드랍아이템 = dropitem\n",
    "#         self.속력 = 1\n",
    " \n",
    "class Hero(Character):\n",
    "    def __init__(self, name, hp, attack, lv, skills, items, missions):\n",
    "        super().__init__(name, hp, attack, lv)\n",
    "        self.스킬 = skills\n",
    "        self.아이템 = items\n",
    "        self.미션 = missions\n",
    " \n",
    "    def use_skill(self, skill):\n",
    "        if skill in self.스킬:\n",
    "            print(f'{self.이름}이(가) {skill} 스킬을 사용했습니다.')\n",
    "        else:\n",
    "            print(f'{skill} 스킬을 가지고 있지 않습니다.')"
   ]
  }
 ],
 "metadata": {
  "kernelspec": {
   "display_name": "Python 3",
   "language": "python",
   "name": "python3"
  },
  "language_info": {
   "name": "python",
   "version": "3.13.5"
  }
 },
 "nbformat": 4,
 "nbformat_minor": 5
}
