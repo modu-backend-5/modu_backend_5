{
 "cells": [
  {
   "cell_type": "code",
   "execution_count": 2,
   "id": "3117bfaf",
   "metadata": {},
   "outputs": [
    {
     "name": "stdout",
     "output_type": "stream",
     "text": [
      "성인입니다.\n",
      "프로그램이 종료되었습니다.\n"
     ]
    }
   ],
   "source": [
    "# if 문\n",
    "age = 20\n",
    "\n",
    "\n",
    "if age >= 18 and age < 40:\n",
    "    print(\"성인입니다.\")\n",
    "\n",
    "\n",
    "print(\"프로그램이 종료되었습니다.\")"
   ]
  },
  {
   "cell_type": "code",
   "execution_count": 3,
   "id": "139232dc",
   "metadata": {},
   "outputs": [
    {
     "name": "stdout",
     "output_type": "stream",
     "text": [
      "미성년자입니다.\n"
     ]
    }
   ],
   "source": [
    "# if-else 문\n",
    "age = 15\n",
    "\n",
    "\n",
    "if age >= 18:\n",
    "    print(\"성인입니다.\")\n",
    "else:\n",
    "    print(\"미성년자입니다.\")"
   ]
  },
  {
   "cell_type": "code",
   "execution_count": 4,
   "id": "feabe5b7",
   "metadata": {},
   "outputs": [
    {
     "name": "stdout",
     "output_type": "stream",
     "text": [
      "B 등급\n"
     ]
    }
   ],
   "source": [
    "# if-elif-else 문\n",
    "score = 85\n",
    "\n",
    "\n",
    "if score >= 90:\n",
    "    print(\"A 등급\")\n",
    "elif score >= 80:\n",
    "    print(\"B 등급\")\n",
    "elif score >= 70:\n",
    "    print(\"C 등급\")\n",
    "else:\n",
    "    print(\"D 등급\")"
   ]
  },
  {
   "cell_type": "code",
   "execution_count": 8,
   "id": "4d1a361e",
   "metadata": {},
   "outputs": [
    {
     "name": "stdout",
     "output_type": "stream",
     "text": [
      "입장 가능합니다.\n"
     ]
    }
   ],
   "source": [
    "# 중첩된 if 문\n",
    "age = 20\n",
    "has_id = True\n",
    "\n",
    "\n",
    "if age >= 18:\n",
    "    if has_id:\n",
    "        print(\"입장 가능합니다.\")\n",
    "    else:\n",
    "        print(\"신분증을 가져오세요.\")\n",
    "else:\n",
    "    print(\"미성년자는 입장할 수 없습니다.\")"
   ]
  },
  {
   "cell_type": "code",
   "execution_count": null,
   "id": "39b8533a",
   "metadata": {},
   "outputs": [
    {
     "name": "stdout",
     "output_type": "stream",
     "text": [
      "놀이기구 탑승 가능\n",
      "입장 가능\n"
     ]
    }
   ],
   "source": [
    "# and, or 연산자를 이용하면 여러 조건을 동시에 검사할 수 있다\n",
    "age = 22\n",
    "height = 175\n",
    "\n",
    "\n",
    "if age >= 18 and height >= 170:\n",
    "    print(\"놀이기구 탑승 가능\")\n",
    "else:\n",
    "    print(\"놀이기구 탑승 불가\")\n",
    "\n",
    "\n",
    "has_ticket = False\n",
    "is_vip = True\n",
    "\n",
    "\n",
    "if has_ticket or is_vip:\n",
    "    print(\"입장 가능\")\n",
    "else:\n",
    "    print(\"입장 불가\")"
   ]
  }
 ],
 "metadata": {
  "kernelspec": {
   "display_name": "Python 3",
   "language": "python",
   "name": "python3"
  },
  "language_info": {
   "codemirror_mode": {
    "name": "ipython",
    "version": 3
   },
   "file_extension": ".py",
   "mimetype": "text/x-python",
   "name": "python",
   "nbconvert_exporter": "python",
   "pygments_lexer": "ipython3",
   "version": "3.13.5"
  }
 },
 "nbformat": 4,
 "nbformat_minor": 5
}
