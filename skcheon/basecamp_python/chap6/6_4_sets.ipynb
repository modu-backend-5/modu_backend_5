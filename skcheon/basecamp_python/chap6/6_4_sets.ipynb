{
 "cells": [
  {
   "cell_type": "code",
   "execution_count": 1,
   "id": "a6cb5bad",
   "metadata": {},
   "outputs": [
    {
     "name": "stdout",
     "output_type": "stream",
     "text": [
      "{1, 2, 3, 4, 5}\n"
     ]
    }
   ],
   "source": [
    "# 셋\n",
    "# 중복을 허용하지 않는 순서 없는 자료형. 수학의 집합과 비슷한 개념\n",
    "my_set = {1, 2, 3, 3, 4, 4, 5}\n",
    "print(my_set)  # 중복된 값은 하나만 표시됩니다"
   ]
  },
  {
   "cell_type": "code",
   "execution_count": null,
   "id": "cddad611",
   "metadata": {},
   "outputs": [
    {
     "name": "stdout",
     "output_type": "stream",
     "text": [
      "과일 셋: {'banana', 'apple', 'cherry'}\n",
      "숫자 셋: {1, 2, 3, 4, 5}\n"
     ]
    }
   ],
   "source": [
    "# 셋 생성\n",
    "fruits = {'apple', 'banana', 'cherry'}\n",
    "numbers = set([1, 2, 2, 3, 4, 4, 5])\n",
    "\n",
    "\n",
    "print(\"과일 셋:\", fruits)\n",
    "print(\"숫자 셋:\", numbers)"
   ]
  },
  {
   "cell_type": "code",
   "execution_count": 6,
   "id": "a58b32d0",
   "metadata": {},
   "outputs": [
    {
     "name": "stdout",
     "output_type": "stream",
     "text": [
      "{1, 2, 3, 4, 5}\n"
     ]
    }
   ],
   "source": [
    "# 셋의 특징\n",
    "# 셋은 중복을 허용하지 않고, 순서가 없다. 즉 인덱싱으로 접근 불가\n",
    "numbers = {1, 2, 3, 4, 5, 5, 4, 3, 2, 1}\n",
    "print(numbers)  # 중복이 제거되고 순서가 무작위로 출력됩니다\n",
    "\n",
    "\n",
    "# print(numbers[0])  # 에러 발생\n",
    "# print(\"에러:\", e)"
   ]
  },
  {
   "cell_type": "code",
   "execution_count": 4,
   "id": "e5711ea7",
   "metadata": {},
   "outputs": [
    {
     "name": "stdout",
     "output_type": "stream",
     "text": [
      "합집합: {1, 2, 3, 4, 5, 6, 7, 8}\n",
      "교집합: {4, 5}\n",
      "차집합: {1, 2, 3}\n"
     ]
    }
   ],
   "source": [
    "# 셋 연산\n",
    "# 셋은 수학의 집합 연산을 지원\n",
    "set1 = {1, 2, 3, 4, 5}\n",
    "set2 = {4, 5, 6, 7, 8}\n",
    "\n",
    "\n",
    "print(\"합집합:\", set1 | set2)\n",
    "print(\"교집합:\", set1 & set2)\n",
    "print(\"차집합:\", set1 - set2)"
   ]
  },
  {
   "cell_type": "code",
   "execution_count": 5,
   "id": "ea0740eb",
   "metadata": {},
   "outputs": [
    {
     "name": "stdout",
     "output_type": "stream",
     "text": [
      "오렌지 추가 후: {'banana', 'apple', 'cherry', 'orange'}\n",
      "바나나 제거 후: {'apple', 'cherry', 'orange'}\n"
     ]
    }
   ],
   "source": [
    "# 셋 수정\n",
    "fruits = {'apple', 'banana', 'cherry'}\n",
    "\n",
    "\n",
    "fruits.add('orange')  # 요소 추가\n",
    "print(\"오렌지 추가 후:\", fruits)\n",
    "\n",
    "\n",
    "fruits.remove('banana')  # 요소 제거\n",
    "print(\"바나나 제거 후:\", fruits)"
   ]
  },
  {
   "cell_type": "code",
   "execution_count": 8,
   "id": "0e02bd4f",
   "metadata": {},
   "outputs": [
    {
     "data": {
      "text/plain": [
       "['__and__',\n",
       " '__class__',\n",
       " '__class_getitem__',\n",
       " '__contains__',\n",
       " '__delattr__',\n",
       " '__dir__',\n",
       " '__doc__',\n",
       " '__eq__',\n",
       " '__format__',\n",
       " '__ge__',\n",
       " '__getattribute__',\n",
       " '__getstate__',\n",
       " '__gt__',\n",
       " '__hash__',\n",
       " '__iand__',\n",
       " '__init__',\n",
       " '__init_subclass__',\n",
       " '__ior__',\n",
       " '__isub__',\n",
       " '__iter__',\n",
       " '__ixor__',\n",
       " '__le__',\n",
       " '__len__',\n",
       " '__lt__',\n",
       " '__ne__',\n",
       " '__new__',\n",
       " '__or__',\n",
       " '__rand__',\n",
       " '__reduce__',\n",
       " '__reduce_ex__',\n",
       " '__repr__',\n",
       " '__ror__',\n",
       " '__rsub__',\n",
       " '__rxor__',\n",
       " '__setattr__',\n",
       " '__sizeof__',\n",
       " '__str__',\n",
       " '__sub__',\n",
       " '__subclasshook__',\n",
       " '__xor__',\n",
       " 'add',\n",
       " 'clear',\n",
       " 'copy',\n",
       " 'difference',\n",
       " 'difference_update',\n",
       " 'discard',\n",
       " 'intersection',\n",
       " 'intersection_update',\n",
       " 'isdisjoint',\n",
       " 'issubset',\n",
       " 'issuperset',\n",
       " 'pop',\n",
       " 'remove',\n",
       " 'symmetric_difference',\n",
       " 'symmetric_difference_update',\n",
       " 'union',\n",
       " 'update']"
      ]
     },
     "execution_count": 8,
     "metadata": {},
     "output_type": "execute_result"
    }
   ],
   "source": [
    "dir(set)"
   ]
  },
  {
   "cell_type": "code",
   "execution_count": null,
   "id": "e8e19c6a",
   "metadata": {},
   "outputs": [
    {
     "name": "stdout",
     "output_type": "stream",
     "text": [
      "대칭 차집합: {1, 2, 3, 6, 7, 8}\n",
      "set1이 set2의 부분집합인가?: False\n",
      "두 집합에 겹치는 요소가 없는가?: False\n"
     ]
    }
   ],
   "source": [
    "# 셋 메서드\n",
    "set1 = {1, 2, 3, 4, 5}\n",
    "set2 = {4, 5, 6, 7, 8}\n",
    "\n",
    "\n",
    "print(\"대칭 차집합:\", set1.symmetric_difference(set2))\n",
    "print(\"set1이 set2의 부분집합인가?:\", set1.issubset(set2))\n",
    "print(\"두 집합에 겹치는 요소가 없는가?:\", set1.isdisjoint(set2))"
   ]
  }
 ],
 "metadata": {
  "kernelspec": {
   "display_name": "Python 3",
   "language": "python",
   "name": "python3"
  },
  "language_info": {
   "codemirror_mode": {
    "name": "ipython",
    "version": 3
   },
   "file_extension": ".py",
   "mimetype": "text/x-python",
   "name": "python",
   "nbconvert_exporter": "python",
   "pygments_lexer": "ipython3",
   "version": "3.13.5"
  }
 },
 "nbformat": 4,
 "nbformat_minor": 5
}
