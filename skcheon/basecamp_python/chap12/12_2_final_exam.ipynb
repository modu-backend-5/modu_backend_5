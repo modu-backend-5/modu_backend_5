{
 "cells": [
  {
   "cell_type": "code",
   "execution_count": 3,
   "id": "8cab7bdf",
   "metadata": {},
   "outputs": [
    {
     "name": "stdout",
     "output_type": "stream",
     "text": [
      "5050\n"
     ]
    }
   ],
   "source": [
    "# 기말고사 1번\n",
    "numSum = 0\n",
    "for i in range(1, 101):\n",
    "    numSum += i\n",
    "\n",
    "print(numSum)"
   ]
  },
  {
   "cell_type": "code",
   "execution_count": 1,
   "id": "a30eae6f",
   "metadata": {},
   "outputs": [
    {
     "name": "stdout",
     "output_type": "stream",
     "text": [
      "29.428571428571427\n"
     ]
    }
   ],
   "source": [
    "# 기말고사 2번\n",
    "data = [\n",
    "  {\n",
    "    \"_id\": \"6019fd4354979ca26b8f91dc\",\n",
    "    \"age\": 26,\n",
    "    \"eyeColor\": \"green\",\n",
    "    \"name\": \"Bender Allen\",\n",
    "    \"gender\": \"male\"\n",
    "  },\n",
    "  {\n",
    "    \"_id\": \"6019fd43db2951868889a0b4\",\n",
    "    \"age\": 27,\n",
    "    \"eyeColor\": \"blue\",\n",
    "    \"name\": \"Jacobs Golden\",\n",
    "    \"gender\": \"male\"\n",
    "  },\n",
    "  {\n",
    "    \"_id\": \"6019fd438c0bf8e775c28536\",\n",
    "    \"age\": 27,\n",
    "    \"eyeColor\": \"brown\",\n",
    "    \"name\": \"Grimes Oneal\",\n",
    "    \"gender\": \"male\"\n",
    "  },\n",
    "  {\n",
    "    \"_id\": \"6019fd43b68a7fd8b081ab26\",\n",
    "    \"age\": 40,\n",
    "    \"eyeColor\": \"blue\",\n",
    "    \"name\": \"Melissa Joyce\",\n",
    "    \"gender\": \"female\"\n",
    "  },\n",
    "  {\n",
    "    \"_id\": \"6019fd436c1edc4757aabb9d\",\n",
    "    \"age\": 32,\n",
    "    \"eyeColor\": \"blue\",\n",
    "    \"name\": \"Malone Bush\",\n",
    "    \"gender\": \"male\"\n",
    "  },\n",
    "  {\n",
    "    \"_id\": \"6019fd438eaf753918f55226\",\n",
    "    \"age\": 34,\n",
    "    \"eyeColor\": \"green\",\n",
    "    \"name\": \"Davenport Hyde\",\n",
    "    \"gender\": \"male\"\n",
    "  },\n",
    "  {\n",
    "    \"_id\": \"6019fd43c35929ff95004109\",\n",
    "    \"age\": 20,\n",
    "    \"eyeColor\": \"blue\",\n",
    "    \"name\": \"Shauna Blevins\",\n",
    "    \"gender\": \"female\"\n",
    "  }\n",
    "]\n",
    "\n",
    "ageSum = 0\n",
    "cnt = 0\n",
    "\n",
    "for i in data:\n",
    "    ageSum += i['age']\n",
    "    cnt += 1\n",
    "\n",
    "avg = ageSum / cnt\n",
    "print(avg)"
   ]
  },
  {
   "cell_type": "code",
<<<<<<< HEAD
<<<<<<< HEAD
   "execution_count": 2,
=======
=======
>>>>>>> c5212803ee7ab2fb7e758b33de24f3f1490782d6
   "execution_count": null,
   "id": "00d34540",
   "metadata": {},
   "outputs": [],
   "source": [
    "# 다른 풀이\n",
    "result = sum([sample['age'] for sample in data]) / len(data)\n",
    "print(result)"
   ]
  },
  {
   "cell_type": "code",
   "execution_count": null,
<<<<<<< HEAD
>>>>>>> c5212803ee7ab2fb7e758b33de24f3f1490782d6
=======
>>>>>>> c5212803ee7ab2fb7e758b33de24f3f1490782d6
   "id": "a2a614d9",
   "metadata": {},
   "outputs": [
    {
     "name": "stdout",
     "output_type": "stream",
     "text": [
      "안녕하세요. 제 이름은 Amy이고, 나이는 20세입니다. 눈 색깔은 brown이고, 젠더는 female입니다.\n"
     ]
    }
   ],
   "source": [
    "# 기말고사 3번\n",
    "class User:\n",
    "    \n",
    "    def __init__(self, _id, age, eyeColor, name, gender):\n",
    "        self._id = _id\n",
    "        self.age = age\n",
    "        self.eyeColor = eyeColor\n",
    "        self.name = name\n",
    "        self.gender = gender\n",
    "    \n",
    "    def introduce(self):\n",
    "        print(f\"안녕하세요. 제 이름은 {self.name}이고, 나이는 {self.age}세입니다. 눈 색깔은 {self.eyeColor}이고, 젠더는 {self.gender}입니다.\")\n",
    "        \n",
    "    \n",
    "amy = User(\"0111\", 20, \"brown\", \"Amy\", \"female\")\n",
    "amy.introduce()"
   ]
  },
  {
   "cell_type": "code",
   "execution_count": null,
   "id": "35af0a34",
   "metadata": {},
   "outputs": [],
   "source": [
    "# 다른 풀이\n",
    "class USER:\n",
    "    def __init__(self, data: dict):\n",
    "        self._id = data.get('_id')\n",
    "        self.age = data.get('age')\n",
    "        self.eyeColor = data.get('eyeColor')\n",
    "        self.name = data.get('name')\n",
    "        self.gender = data.get('gender')\n",
    "\n",
    "total_user = [USER(sample) for sample in data]  # 인스턴스들을 리스트로 관리\n",
    "print(total_user[0]._id)"
   ]
  }
 ],
 "metadata": {
  "kernelspec": {
   "display_name": "Python 3",
   "language": "python",
   "name": "python3"
  },
  "language_info": {
   "codemirror_mode": {
    "name": "ipython",
    "version": 3
   },
   "file_extension": ".py",
   "mimetype": "text/x-python",
   "name": "python",
   "nbconvert_exporter": "python",
   "pygments_lexer": "ipython3",
   "version": "3.13.0"
  }
 },
 "nbformat": 4,
 "nbformat_minor": 5
}
