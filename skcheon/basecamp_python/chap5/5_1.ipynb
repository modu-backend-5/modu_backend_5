{
 "cells": [
  {
   "cell_type": "code",
   "execution_count": 1,
   "id": "65af6e5f",
   "metadata": {},
   "outputs": [
    {
     "name": "stdout",
     "output_type": "stream",
     "text": [
      "8\n",
      "5.5\n"
     ]
    }
   ],
   "source": [
    "result = 5 + 3\n",
    "print(result) # 결과: 8\n",
    "\n",
    "\n",
    "result = 3 + 2.5\n",
    "print(result) # 결과: 5.5"
   ]
  },
  {
   "cell_type": "code",
   "execution_count": 2,
   "id": "07d98ab8",
   "metadata": {},
   "outputs": [
    {
     "name": "stdout",
     "output_type": "stream",
     "text": [
      "Hello World\n"
     ]
    },
    {
     "data": {
      "text/plain": [
       "str"
      ]
     },
     "execution_count": 2,
     "metadata": {},
     "output_type": "execute_result"
    }
   ],
   "source": [
    "s1 = \"Hello\"\n",
    "s2 = \"World\"\n",
    "result = s1 + \" \" + s2\n",
    "print(result)  # Hello World\n",
    "type(result)"
   ]
  },
  {
   "cell_type": "code",
   "execution_count": null,
   "id": "210bbb00",
   "metadata": {},
   "outputs": [
    {
     "name": "stdout",
     "output_type": "stream",
     "text": [
      "3\n",
      "6.5\n",
      "8\n"
     ]
    }
   ],
   "source": [
    "# 빼기 연산은 문자열로 연산 불가\n",
    "result = 7 - 4\n",
    "print(result) # 결과: 3\n",
    "\n",
    "\n",
    "result = 10 - 3.5\n",
    "print(result) # 결과: 6.5\n",
    "\n",
    "\n",
    "result = 5 - (-3)\n",
    "print(result) # 결과: 8"
   ]
  },
  {
   "cell_type": "code",
   "execution_count": null,
   "id": "042aedd4",
   "metadata": {},
   "outputs": [
    {
     "name": "stdout",
     "output_type": "stream",
     "text": [
      "12\n",
      "12.5\n"
     ]
    }
   ],
   "source": [
    "# 곱셈\n",
    "result = 3 * 4\n",
    "print(result) # 결과: 12\n",
    "\n",
    "\n",
    "result = 5 * 2.5\n",
    "print(result) # 결과: 12.5"
   ]
  },
  {
   "cell_type": "code",
   "execution_count": 5,
   "id": "eba2f1e8",
   "metadata": {},
   "outputs": [
    {
     "name": "stdout",
     "output_type": "stream",
     "text": [
      "HaHaHa\n"
     ]
    }
   ],
   "source": [
    "result = \"Ha\" * 3\n",
    "print(result) # 출력: \"HaHaHa\""
   ]
  },
  {
   "cell_type": "code",
   "execution_count": 6,
   "id": "68c3cc3e",
   "metadata": {},
   "outputs": [
    {
     "name": "stdout",
     "output_type": "stream",
     "text": [
      "3.3333333333333335\n",
      "3\n"
     ]
    }
   ],
   "source": [
    "a = 10\n",
    "b = 3\n",
    "print(a / b) # 결과 5.0, 결과 실수\n",
    "print(a // b) # 결과 5, 몫 출력"
   ]
  },
  {
   "cell_type": "code",
   "execution_count": null,
   "id": "249706d7",
   "metadata": {},
   "outputs": [
    {
     "name": "stdout",
     "output_type": "stream",
     "text": [
      "-2.5\n",
      "-3\n"
     ]
    }
   ],
   "source": [
    "a = -5\n",
    "b = 2\n",
    "print(a / b) # 결과: -2.5\n",
    "print(a // b) # 결과: -3. 내림으로 취급 => -5 = 2 * (-3) + 1"
   ]
  },
  {
   "cell_type": "code",
   "execution_count": 8,
   "id": "c1717bf7",
   "metadata": {},
   "outputs": [
    {
     "data": {
      "text/plain": [
       "1"
      ]
     },
     "execution_count": 8,
     "metadata": {},
     "output_type": "execute_result"
    }
   ],
   "source": [
    "# 나머지 연산\n",
    "10 % 3 # 결과: 1"
   ]
  },
  {
   "cell_type": "code",
   "execution_count": 9,
   "id": "4b1fa210",
   "metadata": {},
   "outputs": [
    {
     "data": {
      "text/plain": [
       "False"
      ]
     },
     "execution_count": 9,
     "metadata": {},
     "output_type": "execute_result"
    }
   ],
   "source": [
    "10 % 2 == 0 # 홀수, 짝수 판별\n",
    "365 % 10 == 0 # 1의 자리 반환"
   ]
  },
  {
   "cell_type": "code",
   "execution_count": 12,
   "id": "dd67c16b",
   "metadata": {},
   "outputs": [
    {
     "data": {
      "text/plain": [
       "3.1622776601683795"
      ]
     },
     "execution_count": 12,
     "metadata": {},
     "output_type": "execute_result"
    }
   ],
   "source": [
    "# 제곱 연산자\n",
    "10 ** 3 # 결과: 1000\n",
    "10 ** 0.5"
   ]
  },
  {
   "cell_type": "code",
   "execution_count": 11,
   "id": "5d482649",
   "metadata": {},
   "outputs": [
    {
     "data": {
      "text/plain": [
       "2.0"
      ]
     },
     "execution_count": 11,
     "metadata": {},
     "output_type": "execute_result"
    }
   ],
   "source": [
    "4 ** 0.5 # 결과: 2"
   ]
  }
 ],
 "metadata": {
  "kernelspec": {
   "display_name": "Python 3",
   "language": "python",
   "name": "python3"
  },
  "language_info": {
   "codemirror_mode": {
    "name": "ipython",
    "version": 3
   },
   "file_extension": ".py",
   "mimetype": "text/x-python",
   "name": "python",
   "nbconvert_exporter": "python",
   "pygments_lexer": "ipython3",
   "version": "3.13.5"
  }
 },
 "nbformat": 4,
 "nbformat_minor": 5
}
