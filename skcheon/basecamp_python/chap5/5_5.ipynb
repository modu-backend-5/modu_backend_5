{
 "cells": [
  {
   "cell_type": "code",
   "execution_count": null,
   "id": "bae7fdae",
   "metadata": {},
   "outputs": [
    {
     "name": "stdout",
     "output_type": "stream",
     "text": [
      "True\n",
      "True\n"
     ]
    }
   ],
   "source": [
    "# 멤버 연산\n",
    "fruits = '사과 귤 수박 배 딸기'\n",
    "# in : 값이 찾으려는 대상 안에 있으면 True, 없으면 False 반환\n",
    "# not in : 값이 찾으려는 대상 안에 없으면 True, 있으면 False 반환\n",
    "\n",
    "print(\"사과\" in fruits)  # True, 사과가 목록에 있기 때문\n",
    "print(\"오렌지\" not in fruits)  # True, 오렌지는 목록에 없기 때문"
   ]
  }
 ],
 "metadata": {
  "kernelspec": {
   "display_name": "Python 3",
   "language": "python",
   "name": "python3"
  },
  "language_info": {
   "codemirror_mode": {
    "name": "ipython",
    "version": 3
   },
   "file_extension": ".py",
   "mimetype": "text/x-python",
   "name": "python",
   "nbconvert_exporter": "python",
   "pygments_lexer": "ipython3",
   "version": "3.13.5"
  }
 },
 "nbformat": 4,
 "nbformat_minor": 5
}
