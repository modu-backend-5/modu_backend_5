{
 "cells": [
  {
   "cell_type": "code",
   "execution_count": null,
   "id": "d64b90f1",
   "metadata": {},
   "outputs": [
    {
     "name": "stdout",
     "output_type": "stream",
     "text": [
      "True\n",
      "False\n",
      "False\n",
      "False\n",
      "False\n"
     ]
    }
   ],
   "source": [
    "# 논리 곱 연산\n",
    "print(True and True)   # 결과: True\n",
    "print(True and False)  # 결과: False\n",
    "print(False and True)  # 결과: False\n",
    "print(False and False) # 결과: False\n",
    "\n",
    "\n",
    "print(5 > 3 and 4 < 3) # 결과: False"
   ]
  },
  {
   "cell_type": "code",
   "execution_count": 2,
   "id": "d76de87d",
   "metadata": {},
   "outputs": [
    {
     "name": "stdout",
     "output_type": "stream",
     "text": [
      "True\n",
      "True\n",
      "True\n",
      "False\n",
      "True\n"
     ]
    }
   ],
   "source": [
    "# 논리 합 연산\n",
    "print(True or True)   # 결과: True\n",
    "print(True or False)  # 결과: True (and와 차이점)\n",
    "print(False or True)  # 결과: True (and와 차이점)\n",
    "print(False or False) # 결과: False\n",
    "\n",
    "\n",
    "print(5 > 3 or 4 < 3) # 결과: True"
   ]
  },
  {
   "cell_type": "code",
   "execution_count": null,
   "id": "b74c2f02",
   "metadata": {},
   "outputs": [
    {
     "name": "stdout",
     "output_type": "stream",
     "text": [
      "False\n",
      "True\n"
     ]
    }
   ],
   "source": [
    "# not 연산. if문에 자주 사용\n",
    "print(not True)  # 결과: False\n",
    "print(not False) # 결과: True"
   ]
  }
 ],
 "metadata": {
  "kernelspec": {
   "display_name": "Python 3",
   "language": "python",
   "name": "python3"
  },
  "language_info": {
   "codemirror_mode": {
    "name": "ipython",
    "version": 3
   },
   "file_extension": ".py",
   "mimetype": "text/x-python",
   "name": "python",
   "nbconvert_exporter": "python",
   "pygments_lexer": "ipython3",
   "version": "3.13.5"
  }
 },
 "nbformat": 4,
 "nbformat_minor": 5
}
