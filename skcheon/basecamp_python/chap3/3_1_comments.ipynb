{
 "cells": [
  {
   "cell_type": "code",
   "execution_count": 2,
   "id": "540c0e62",
   "metadata": {},
   "outputs": [
    {
     "name": "stdout",
     "output_type": "stream",
     "text": [
      "Hello, World\n"
     ]
    }
   ],
   "source": [
    "# 이것은 주석입니다.\n",
    "print('Hello, World') # 이것도 주석입니다."
   ]
  },
  {
   "cell_type": "code",
   "execution_count": null,
   "id": "2b709b6d",
   "metadata": {},
   "outputs": [
    {
     "name": "stdout",
     "output_type": "stream",
     "text": [
      "Hello, World 1\n"
     ]
    }
   ],
   "source": [
    "print('Hello, World 1') # 이것도 주석입니다.\n",
    "# print('Hello, World 2') # 이것도 주석입니다."
   ]
  },
  {
   "cell_type": "code",
   "execution_count": 5,
   "id": "c22d96f9",
   "metadata": {},
   "outputs": [
    {
     "name": "stdout",
     "output_type": "stream",
     "text": [
      "Hello, World!\n"
     ]
    }
   ],
   "source": [
    "'''\n",
    "이것은 주석입니다.\n",
    "이렇게 여러줄 주석을 넣을 수 있습니다.\n",
    "'''\n",
    "print(\"Hello, World!\")"
   ]
  },
  {
   "cell_type": "code",
   "execution_count": null,
   "id": "663fb96f",
   "metadata": {},
   "outputs": [
    {
     "data": {
      "text/plain": [
       "'\\n이것도 여러줄 주석\\n여러줄여러줄여러줄    \\n'"
      ]
     },
     "execution_count": 6,
     "metadata": {},
     "output_type": "execute_result"
    }
   ],
   "source": [
    "\"\"\"\n",
    "이것도 여러줄 주석\n",
    "여러줄여러줄여러줄\n",
    "\"\"\""
   ]
  }
 ],
 "metadata": {
  "kernelspec": {
   "display_name": "Python 3",
   "language": "python",
   "name": "python3"
  },
  "language_info": {
   "codemirror_mode": {
    "name": "ipython",
    "version": 3
   },
   "file_extension": ".py",
   "mimetype": "text/x-python",
   "name": "python",
   "nbconvert_exporter": "python",
   "pygments_lexer": "ipython3",
   "version": "3.13.5"
  }
 },
 "nbformat": 4,
 "nbformat_minor": 5
}
