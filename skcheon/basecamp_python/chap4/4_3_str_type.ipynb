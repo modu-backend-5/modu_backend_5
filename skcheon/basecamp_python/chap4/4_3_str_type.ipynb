{
 "cells": [
  {
   "cell_type": "code",
   "execution_count": 1,
   "id": "35ee56b8",
   "metadata": {},
   "outputs": [
    {
     "name": "stdout",
     "output_type": "stream",
     "text": [
      "<class 'str'> <class 'str'>\n"
     ]
    }
   ],
   "source": [
    "x = 'hello'\n",
    "y = \"python\"\n",
    "print(type(x), type(y))"
   ]
  },
  {
   "cell_type": "code",
   "execution_count": 2,
   "id": "2e2274f5",
   "metadata": {},
   "outputs": [
    {
     "name": "stdout",
     "output_type": "stream",
     "text": [
      "이것은 여러줄 문자열\n",
      "여러줄 문자열을 저장\n",
      "\n"
     ]
    }
   ],
   "source": [
    "x = '''이것은 여러줄 문자열\n",
    "여러줄 문자열을 저장\n",
    "'''\n",
    "print(x)"
   ]
  },
  {
   "cell_type": "code",
   "execution_count": 3,
   "id": "f98893f2",
   "metadata": {},
   "outputs": [
    {
     "name": "stdout",
     "output_type": "stream",
     "text": [
      "hello world\n"
     ]
    }
   ],
   "source": [
    "x = \"hello\"\n",
    "y = 'world'\n",
    "print(x + \" \" + y)"
   ]
  },
  {
   "cell_type": "code",
   "execution_count": 4,
   "id": "ca988042",
   "metadata": {},
   "outputs": [
    {
     "data": {
      "text/plain": [
       "'hellohellohello'"
      ]
     },
     "execution_count": 4,
     "metadata": {},
     "output_type": "execute_result"
    }
   ],
   "source": [
    "x * 3"
   ]
  },
  {
   "cell_type": "code",
   "execution_count": 5,
   "id": "233c2980",
   "metadata": {},
   "outputs": [
    {
     "name": "stdout",
     "output_type": "stream",
     "text": [
      "제 이름은 이호준이고, 나이는 20살입니다.\n"
     ]
    }
   ],
   "source": [
    "name = '이호준'\n",
    "age = 20\n",
    "print(f'제 이름은 {name}이고, 나이는 {age}살입니다.')"
   ]
  },
  {
   "cell_type": "code",
   "execution_count": 23,
   "id": "4ee533a5",
   "metadata": {},
   "outputs": [
    {
     "data": {
      "text/plain": [
       "('y', 'y', 'B')"
      ]
     },
     "execution_count": 23,
     "metadata": {},
     "output_type": "execute_result"
    }
   ],
   "source": [
    "name = \"Benny\"\n",
    "name[2]\n",
    "name[4], name[-1], name[-5]"
   ]
  },
  {
   "cell_type": "code",
   "execution_count": 19,
   "id": "f4022beb",
   "metadata": {},
   "outputs": [
    {
     "data": {
      "text/plain": [
       "'ynnuS si eman ym'"
      ]
     },
     "execution_count": 19,
     "metadata": {},
     "output_type": "execute_result"
    }
   ],
   "source": [
    "introduce = \"my name is Sunny\"\n",
    "introduce[11:]\n",
    "introduce[-5:]\n",
    "introduce[::-1]"
   ]
  },
  {
   "cell_type": "code",
   "execution_count": 24,
   "id": "a5f599d2",
   "metadata": {},
   "outputs": [
    {
     "name": "stdout",
     "output_type": "stream",
     "text": [
      "BENNY\n",
      "benny\n",
      "Benny\n"
     ]
    }
   ],
   "source": [
    "# 문자열 메서드\n",
    "print(name.upper()) # 문자열 전체를 대문자로\n",
    "print(name.lower()) # 문자열 전체를 소문자로\n",
    "print(name)"
   ]
  },
  {
   "cell_type": "code",
   "execution_count": null,
   "id": "3d7685d5",
   "metadata": {},
   "outputs": [
    {
     "data": {
      "text/plain": [
       "11"
      ]
     },
     "execution_count": 31,
     "metadata": {},
     "output_type": "execute_result"
    }
   ],
   "source": [
    "introduce.find('Sunny') # 문자열이 존재하지 않으면 -1을 반환\n",
    "introduce.index('Sunny')    # 문자열이 존재하지 않으면 valueError를 발생시킴"
   ]
  },
  {
   "cell_type": "code",
   "execution_count": 32,
   "id": "7caadffe",
   "metadata": {},
   "outputs": [
    {
     "data": {
      "text/plain": [
       "3"
      ]
     },
     "execution_count": 32,
     "metadata": {},
     "output_type": "execute_result"
    }
   ],
   "source": [
    "# 문자열 안에 내가 찾을 문자의 개수\n",
    "introduce.count('n')"
   ]
  },
  {
   "cell_type": "code",
   "execution_count": null,
   "id": "c21c8477",
   "metadata": {},
   "outputs": [
    {
     "data": {
      "text/plain": [
       "'my name is Cloudy'"
      ]
     },
     "execution_count": 33,
     "metadata": {},
     "output_type": "execute_result"
    }
   ],
   "source": [
    "# 문자열 대체하는 함수\n",
    "introduce.replace('Sunny', 'Cloudy')"
   ]
  },
  {
   "cell_type": "code",
   "execution_count": null,
   "id": "228f5e07",
   "metadata": {},
   "outputs": [
    {
     "data": {
      "text/plain": [
       "['', 'y na', 'e is Sunny']"
      ]
     },
     "execution_count": 37,
     "metadata": {},
     "output_type": "execute_result"
    }
   ],
   "source": [
    "introduce.split('m')    # 디폴트 값은 공백. 해당 값을 기준으로 문자열을 나눔"
   ]
  },
  {
   "cell_type": "code",
   "execution_count": 38,
   "id": "18b7b108",
   "metadata": {},
   "outputs": [
    {
     "data": {
      "text/plain": [
       "'my-name-is-Sunny'"
      ]
     },
     "execution_count": 38,
     "metadata": {},
     "output_type": "execute_result"
    }
   ],
   "source": [
    "s = introduce.split()\n",
    "'-'.join(s)"
   ]
  },
  {
   "cell_type": "code",
   "execution_count": 39,
   "id": "3012345f",
   "metadata": {},
   "outputs": [
    {
     "name": "stdout",
     "output_type": "stream",
     "text": [
      "제 이름은 licat이고, 나이는 29살입니다.\n"
     ]
    }
   ],
   "source": [
    "name = 'licat'\n",
    "age = 29\n",
    "\n",
    "print('제 이름은 {}이고, 나이는 {}살입니다.'.format(name, age))"
   ]
  },
  {
   "cell_type": "code",
   "execution_count": 45,
   "id": "4cbb93be",
   "metadata": {},
   "outputs": [
    {
     "name": "stdout",
     "output_type": "stream",
     "text": [
      "안녕하세요\n",
      "반갑습니다\n",
      "안녕하세요\t반갑습니다\n",
      "반갑습니다\n",
      "\"안녕하세요 \"반갑습니다\"\n"
     ]
    }
   ],
   "source": [
    "# 이스케이프 문자는 문자열 내의 특별한 의미를 가지는 문자들을 나타내는 문자 조합\n",
    "print(\"안녕하세요\\n반갑습니다\") # 줄바꿈\n",
    "print(\"안녕하세요\\t반갑습니다\") # 탭\n",
    "print(\"안녕하세요\\r반갑습니다\") # 캐리지 리턴, 커서를 처음으로 이동\n",
    "print(\"\\\"안녕하세요\", \"\\\"반갑습니다\\\"\")"
   ]
  }
 ],
 "metadata": {
  "kernelspec": {
   "display_name": "Python 3",
   "language": "python",
   "name": "python3"
  },
  "language_info": {
   "codemirror_mode": {
    "name": "ipython",
    "version": 3
   },
   "file_extension": ".py",
   "mimetype": "text/x-python",
   "name": "python",
   "nbconvert_exporter": "python",
   "pygments_lexer": "ipython3",
   "version": "3.13.5"
  }
 },
 "nbformat": 4,
 "nbformat_minor": 5
}
