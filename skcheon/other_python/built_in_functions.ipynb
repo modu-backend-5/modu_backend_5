{
 "cells": [
  {
   "cell_type": "code",
   "execution_count": null,
   "id": "edf61e49",
   "metadata": {},
   "outputs": [
    {
     "name": "stdout",
     "output_type": "stream",
     "text": [
      "False\n",
      "True\n"
     ]
    }
   ],
   "source": [
    "# all, any\n",
    "# iterable 개체(리스트, 튜플 문자열 등)를 인수로 받아, 각각 모든 요소가 참일 경우 True, 하나의 요소라도 참이라면 True를 반환\n",
    "arr = [1, 0, 3, 4, 5]\n",
    "print(all(arr))\n",
    "print(any(arr))"
   ]
  },
  {
   "cell_type": "code",
   "execution_count": 5,
   "id": "bd59e35e",
   "metadata": {},
   "outputs": [
    {
     "name": "stdout",
     "output_type": "stream",
     "text": [
      "A\n",
      "65\n",
      "54616\n"
     ]
    }
   ],
   "source": [
    "# chr, ord\n",
    "# chr()은 정수를 인수로 받아 그에 해당하는 유니코드 문자를 반환\n",
    "# ord()은 문자를 인수로 받아 그 문자의 유니코드 값을 반환\n",
    "\n",
    "print(chr(65))\n",
    "print(ord('A'))\n",
    "print(ord('하'))"
   ]
  },
  {
   "cell_type": "code",
   "execution_count": 7,
   "id": "5c0008c9",
   "metadata": {},
   "outputs": [
    {
     "data": {
      "text/plain": [
       "[40, 80, 60]"
      ]
     },
     "execution_count": 7,
     "metadata": {},
     "output_type": "execute_result"
    }
   ],
   "source": [
    "# map\n",
    "# 기존 리스트의 모든 요소에 특정 함수를 적용한 결과를 map 객체 형태로 반환\n",
    "arr = [\"40\", \"80\", \"60\"]\n",
    "list(map(int, arr))"
   ]
  },
  {
   "cell_type": "code",
   "execution_count": 8,
   "id": "e23785da",
   "metadata": {},
   "outputs": [
    {
     "data": {
      "text/plain": [
       "[1, 4, 9, 16]"
      ]
     },
     "execution_count": 8,
     "metadata": {},
     "output_type": "execute_result"
    }
   ],
   "source": [
    "# 첫번째 방법\n",
    "def 제곱(x):\n",
    "    return x ** 2\n",
    "list(map(제곱, [1, 2, 3, 4])) # 출력: [1, 4, 9, 16]"
   ]
  },
  {
   "cell_type": "code",
   "execution_count": null,
   "id": "c82e43ab",
   "metadata": {},
   "outputs": [
    {
     "data": {
      "text/plain": [
       "[1, 4, 9, 16]"
      ]
     },
     "execution_count": 9,
     "metadata": {},
     "output_type": "execute_result"
    }
   ],
   "source": [
    "# 두번째 방법\n",
    "# 한 번만 사용할 리스트일 경우\n",
    "list(map(lambda x : x ** 2, [1, 2, 3, 4])) # 출력: [1, 4, 9, 16]"
   ]
  },
  {
   "cell_type": "code",
   "execution_count": null,
   "id": "308309b0",
   "metadata": {},
   "outputs": [],
   "source": [
    "# filter"
   ]
  }
 ],
 "metadata": {
  "kernelspec": {
   "display_name": "Python 3",
   "language": "python",
   "name": "python3"
  },
  "language_info": {
   "codemirror_mode": {
    "name": "ipython",
    "version": 3
   },
   "file_extension": ".py",
   "mimetype": "text/x-python",
   "name": "python",
   "nbconvert_exporter": "python",
   "pygments_lexer": "ipython3",
   "version": "3.13.5"
  }
 },
 "nbformat": 4,
 "nbformat_minor": 5
}
