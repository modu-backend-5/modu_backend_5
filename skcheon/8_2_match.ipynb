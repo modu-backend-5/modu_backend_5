{
 "cells": [
  {
   "cell_type": "code",
   "execution_count": 2,
   "id": "5a161276",
   "metadata": {},
   "outputs": [
    {
     "name": "stdout",
     "output_type": "stream",
     "text": [
      "올바른 요일을 입력하세요\n"
     ]
    }
   ],
   "source": [
    "# match 구문\n",
    "# python 3.10 버전부터 추가된 기능. 값을 여러 패턴과 비교하여 경우에 따라 다른 코드를 실행할 수 있게 하는 기능\n",
    "day = input(\"요일을 입력하세요\")\n",
    "match day:\n",
    "    case \"월\" | \"화\" | \"수\" | \"목\" | \"금\":\n",
    "        print(\"평일\")\n",
    "    case \"토\" | \"일\":\n",
    "        print(\"주말\")\n",
    "    case _:\n",
    "        print(\"올바른 요일을 입력하세요\")\n"
   ]
  },
  {
   "cell_type": "code",
   "execution_count": 6,
   "id": "041fbf8b",
   "metadata": {},
   "outputs": [
    {
     "name": "stdout",
     "output_type": "stream",
     "text": [
      "기타 타입\n"
     ]
    }
   ],
   "source": [
    "value = [1, 2, 3]\n",
    "\n",
    "match value:\n",
    "    case int(n) if n > 0:\n",
    "        print(\"양의 정수\")\n",
    "    case int(n) if n < 0:\n",
    "        print(\"음의 정수\")\n",
    "    case int(n) if n == 0:\n",
    "        print(\"0\")\n",
    "    case float():\n",
    "        print(\"실수\")\n",
    "    case str():\n",
    "        print(\"문자열\")\n",
    "    case _:\n",
    "        print(\"기타 타입\")"
   ]
  }
 ],
 "metadata": {
  "kernelspec": {
   "display_name": "Python 3",
   "language": "python",
   "name": "python3"
  },
  "language_info": {
   "codemirror_mode": {
    "name": "ipython",
    "version": 3
   },
   "file_extension": ".py",
   "mimetype": "text/x-python",
   "name": "python",
   "nbconvert_exporter": "python",
   "pygments_lexer": "ipython3",
   "version": "3.13.5"
  }
 },
 "nbformat": 4,
 "nbformat_minor": 5
}
