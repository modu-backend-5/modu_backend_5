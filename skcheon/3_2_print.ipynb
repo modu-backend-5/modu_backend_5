{
 "cells": [
  {
   "cell_type": "code",
   "execution_count": 3,
   "id": "750b4481",
   "metadata": {},
   "outputs": [
    {
     "data": {
      "text/plain": [
       "'마지막 라인의 변수 등은 jupyter 노트북이 자동으로 출력한다.'"
      ]
     },
     "execution_count": 3,
     "metadata": {},
     "output_type": "execute_result"
    }
   ],
   "source": [
    "\"마지막 라인의 변수 등은 jupyter 노트북이 자동으로 출력한다.\""
   ]
  },
  {
   "cell_type": "code",
   "execution_count": 1,
   "id": "f34e5e89",
   "metadata": {},
   "outputs": [
    {
     "name": "stdout",
     "output_type": "stream",
     "text": [
      "출력합니다.\n"
     ]
    }
   ],
   "source": [
    "print('출력합니다.')"
   ]
  },
  {
   "cell_type": "code",
   "execution_count": 2,
   "id": "b6b52d42",
   "metadata": {},
   "outputs": [
    {
     "name": "stdout",
     "output_type": "stream",
     "text": [
      "출력합니다. 출력합니다.\n"
     ]
    }
   ],
   "source": [
    "print('출력합니다.', '출력합니다.')"
   ]
  },
  {
   "cell_type": "code",
   "execution_count": 4,
   "id": "0220d614",
   "metadata": {},
   "outputs": [
    {
     "name": "stdout",
     "output_type": "stream",
     "text": [
      "첫 번째 줄\n",
      "두 번째 줄\n"
     ]
    }
   ],
   "source": [
    "print(\"첫 번째 줄\")\n",
    "print(\"두 번째 줄\")"
   ]
  },
  {
   "cell_type": "code",
   "execution_count": 6,
   "id": "618fbde1",
   "metadata": {},
   "outputs": [
    {
     "data": {
      "text/plain": [
       "'두 번째 줄'"
      ]
     },
     "execution_count": 6,
     "metadata": {},
     "output_type": "execute_result"
    }
   ],
   "source": [
    "\"첫 번째 줄\"\n",
    "\"두 번째 줄\""
   ]
  }
 ],
 "metadata": {
  "kernelspec": {
   "display_name": "Python 3",
   "language": "python",
   "name": "python3"
  },
  "language_info": {
   "codemirror_mode": {
    "name": "ipython",
    "version": 3
   },
   "file_extension": ".py",
   "mimetype": "text/x-python",
   "name": "python",
   "nbconvert_exporter": "python",
   "pygments_lexer": "ipython3",
   "version": "3.13.5"
  }
 },
 "nbformat": 4,
 "nbformat_minor": 5
}
