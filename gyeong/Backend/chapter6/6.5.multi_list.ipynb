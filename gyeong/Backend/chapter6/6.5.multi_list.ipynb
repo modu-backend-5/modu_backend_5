{
 "cells": [
  {
   "cell_type": "markdown",
   "id": "1e554578",
   "metadata": {},
   "source": [
    "# 4.2. 다차원 리스트와 Built-in functions, range, list comprehension"
   ]
  },
  {
   "cell_type": "code",
   "execution_count": 2,
   "id": "12fb027c",
   "metadata": {},
   "outputs": [
    {
     "name": "stdout",
     "output_type": "stream",
     "text": [
      "<class 'list'>\n",
      "<class 'list'>\n",
      "<class 'list'>\n",
      "['l', 'e', 'e', 'h', 'o', 'j', 'u', 'n']\n",
      "l\n"
     ]
    }
   ],
   "source": [
    "#1차원 리스트\n",
    "a = [100000, 2, 1, 3]\n",
    "print(type(a))\n",
    "\n",
    "a = list()\n",
    "print(type(a))\n",
    "\n",
    "a = list('leehojun') #형변환\n",
    "print(type(a))\n",
    "print(a)\n",
    "print(a[0])"
   ]
  },
  {
   "cell_type": "code",
   "execution_count": 7,
   "id": "ae1c207c",
   "metadata": {},
   "outputs": [
    {
     "name": "stdout",
     "output_type": "stream",
     "text": [
      "<class 'list'>\n"
     ]
    },
    {
     "data": {
      "text/plain": [
       "22"
      ]
     },
     "execution_count": 7,
     "metadata": {},
     "output_type": "execute_result"
    }
   ],
   "source": [
    "#2차원 리스트\n",
    "a = [[1, 2, 3],\n",
    "     [11, 22, 33],\n",
    "     [10, 20, 30]]\n",
    "\n",
    "a[0]\n",
    "a[1]\n",
    "a[2]\n",
    "\n",
    "a[0][0]\n",
    "a[1][0]\n",
    "a[2][0]\n",
    "\n",
    "print(type(a))\n",
    "\n",
    "a[0]\n",
    "a[0][2]\n",
    "\n",
    "a[1]\n",
    "a[1][1]"
   ]
  },
  {
   "cell_type": "code",
   "execution_count": 8,
   "id": "7426097f",
   "metadata": {},
   "outputs": [
    {
     "data": {
      "text/plain": [
       "'leehojun'"
      ]
     },
     "execution_count": 8,
     "metadata": {},
     "output_type": "execute_result"
    }
   ],
   "source": [
    "#3차원 리스트\n",
    "a = [[[1, 2], [1, 2], [1, 2]],\n",
    "    [['leehojun', 2], [1, 2], [1, 2]]]\n",
    "\n",
    "a[1][0][0]"
   ]
  },
  {
   "cell_type": "code",
   "execution_count": 12,
   "id": "5e867173",
   "metadata": {},
   "outputs": [
    {
     "data": {
      "text/plain": [
       "36"
      ]
     },
     "execution_count": 12,
     "metadata": {},
     "output_type": "execute_result"
    }
   ],
   "source": [
    "# 리스트 관련 내장합수\n",
    "a = [1, 2, 3, 4, 5, 6, 7, 8]\n",
    "max(a)\n",
    "min(a)\n",
    "sum(a)"
   ]
  },
  {
   "cell_type": "code",
   "execution_count": 15,
   "id": "9bc2280c",
   "metadata": {},
   "outputs": [
    {
     "ename": "SyntaxError",
     "evalue": "invalid syntax (1812170191.py, line 5)",
     "output_type": "error",
     "traceback": [
      "  \u001b[36mCell\u001b[39m\u001b[36m \u001b[39m\u001b[32mIn[15]\u001b[39m\u001b[32m, line 5\u001b[39m\n\u001b[31m    \u001b[39m\u001b[31mmax(a, key-lambda x:x[1])\u001b[39m\n               ^\n\u001b[31mSyntaxError\u001b[39m\u001b[31m:\u001b[39m invalid syntax\n"
     ]
    }
   ],
   "source": [
    "#2차원\n",
    "a = [[1, 2, 3],\n",
    "     [11, 22, 33],\n",
    "     [13, 20000, 300000]]\n",
    "max(a, key-lambda x:x[1])     \n"
   ]
  },
  {
   "cell_type": "code",
   "execution_count": 19,
   "id": "65aeb7d0",
   "metadata": {},
   "outputs": [
    {
     "data": {
      "text/plain": [
       "[1, 2, 3, 4, 5, 6, 7, 8, 9]"
      ]
     },
     "execution_count": 19,
     "metadata": {},
     "output_type": "execute_result"
    }
   ],
   "source": [
    "list(range(10))\n",
    "list(range(100))\n",
    "list(range(1, 10))\n",
    "list(range(1, 10))\n"
   ]
  },
  {
   "cell_type": "code",
   "execution_count": 30,
   "id": "13223a9f",
   "metadata": {},
   "outputs": [
    {
     "name": "stdout",
     "output_type": "stream",
     "text": [
      "80: 80.4\n"
     ]
    }
   ],
   "source": [
    "student_score = {\n",
    "    '홍의': 97,\n",
    "    '원희': 60,\n",
    "    '동해': 77,\n",
    "    '변수': 79,\n",
    "    '창현': 89,\n",
    "}\n",
    "average = sum(student_score.values()) / len(student_score)\n",
    "print(\"80:\", average)"
   ]
  },
  {
   "cell_type": "code",
   "execution_count": 37,
   "id": "7b8f7076",
   "metadata": {},
   "outputs": [
    {
     "name": "stdout",
     "output_type": "stream",
     "text": [
      "97, 77, 79, 89: 0\n"
     ]
    }
   ],
   "source": [
    "print(\"97, 77, 79, 89:\", count)"
   ]
  }
 ],
 "metadata": {
  "kernelspec": {
   "display_name": "Python 3",
   "language": "python",
   "name": "python3"
  },
  "language_info": {
   "codemirror_mode": {
    "name": "ipython",
    "version": 3
   },
   "file_extension": ".py",
   "mimetype": "text/x-python",
   "name": "python",
   "nbconvert_exporter": "python",
   "pygments_lexer": "ipython3",
   "version": "3.13.5"
  }
 },
 "nbformat": 4,
 "nbformat_minor": 5
}
