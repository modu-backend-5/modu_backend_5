{
 "cells": [
  {
   "cell_type": "code",
   "execution_count": 1,
   "id": "ade5fc42",
   "metadata": {},
   "outputs": [
    {
     "data": {
      "text/plain": [
       "str"
      ]
     },
     "execution_count": 1,
     "metadata": {},
     "output_type": "execute_result"
    }
   ],
   "source": [
    "x = 'hello'\n",
    "type(x)"
   ]
  },
  {
   "cell_type": "code",
   "execution_count": 2,
   "id": "4296f6f6",
   "metadata": {},
   "outputs": [
    {
     "data": {
      "text/plain": [
       "str"
      ]
     },
     "execution_count": 2,
     "metadata": {},
     "output_type": "execute_result"
    }
   ],
   "source": [
    "x = \"hello\"\n",
    "type(x)"
   ]
  },
  {
   "cell_type": "code",
   "execution_count": 3,
   "id": "ceec17ec",
   "metadata": {},
   "outputs": [
    {
     "name": "stdout",
     "output_type": "stream",
     "text": [
      "안녕하십니까 이제부터 여러 줄 문자열을 작성해보겠습니다 \n"
     ]
    }
   ],
   "source": [
    "x = \"안녕하십니까 이제부터 여러 줄 문자열을 작성해보겠습니다 \"\n",
    "print(x)"
   ]
  },
  {
   "cell_type": "code",
   "execution_count": 5,
   "id": "341fb896",
   "metadata": {},
   "outputs": [
    {
     "name": "stdout",
     "output_type": "stream",
     "text": [
      "hello world\n"
     ]
    }
   ],
   "source": [
    "x = \"hello\"\n",
    "y = \"world\"\n",
    "print(x + \" \"+ y)"
   ]
  },
  {
   "cell_type": "code",
   "execution_count": 6,
   "id": "27570944",
   "metadata": {},
   "outputs": [
    {
     "data": {
      "text/plain": [
       "'hellohellohello'"
      ]
     },
     "execution_count": 6,
     "metadata": {},
     "output_type": "execute_result"
    }
   ],
   "source": [
    "x * 3"
   ]
  },
  {
   "cell_type": "code",
   "execution_count": 8,
   "id": "39e3dea4",
   "metadata": {},
   "outputs": [
    {
     "name": "stdout",
     "output_type": "stream",
     "text": [
      "내가 하고 싶은 문자열을 계속 나열하다가 갑자기 이름은bennybenny 나이는? 48\n"
     ]
    }
   ],
   "source": [
    "name = \"benny\"\n",
    "age = 24\n",
    "print(f\"내가 하고 싶은 문자열을 계속 나열하다가 갑자기 이름은{name * 2} 나이는? {age * 2}\")"
   ]
  },
  {
   "cell_type": "code",
   "execution_count": 11,
   "id": "8011487a",
   "metadata": {},
   "outputs": [
    {
     "ename": "IndexError",
     "evalue": "string index out of range",
     "output_type": "error",
     "traceback": [
      "\u001b[31m---------------------------------------------------------------------------\u001b[39m",
      "\u001b[31mIndexError\u001b[39m                                Traceback (most recent call last)",
      "\u001b[36mCell\u001b[39m\u001b[36m \u001b[39m\u001b[32mIn[11]\u001b[39m\u001b[32m, line 4\u001b[39m\n\u001b[32m      2\u001b[39m name[\u001b[32m2\u001b[39m]\n\u001b[32m      3\u001b[39m name[\u001b[32m4\u001b[39m], name[-\u001b[32m1\u001b[39m], name[-\u001b[32m5\u001b[39m]\n\u001b[32m----> \u001b[39m\u001b[32m4\u001b[39m \u001b[43mname\u001b[49m\u001b[43m[\u001b[49m\u001b[32;43m100\u001b[39;49m\u001b[43m]\u001b[49m\n",
      "\u001b[31mIndexError\u001b[39m: string index out of range"
     ]
    }
   ],
   "source": [
    "name = \"benny\"\n",
    "name[2]\n",
    "name[4], name[-1], name[-5]\n",
    "name[100]"
   ]
  },
  {
   "cell_type": "code",
   "execution_count": null,
   "id": "0326c792",
   "metadata": {},
   "outputs": [
    {
     "data": {
      "text/plain": [
       "'ynneb si eman ym'"
      ]
     },
     "execution_count": 15,
     "metadata": {},
     "output_type": "execute_result"
    }
   ],
   "source": [
    "#4. 문자열 슬라이싱\n",
    "introduce = \"my name is benny\"\n",
    "#introduce[start:stop:step]\n",
    "introduce[11:]\n",
    "introduce[11:15]\n",
    "introduce[:]\n",
    "introduce[::2]\n",
    "introduce[::-1]\n"
   ]
  },
  {
   "cell_type": "code",
   "execution_count": 34,
   "id": "64cbfb3d",
   "metadata": {},
   "outputs": [
    {
     "name": "stdout",
     "output_type": "stream",
     "text": [
      "제 이름은 licat이고, 나이는 24살입니다.\n"
     ]
    }
   ],
   "source": [
    "#5. 문자열 메서드\n",
    "name = \"Benny\"\n",
    "\n",
    "#문자열 전체를 소문자로 변환\n",
    "name.lower()\n",
    "\n",
    "#문자열 전체를 대문자로 변환\n",
    "name = name.upper()\n",
    "\n",
    "introduce = \"my name is benny\"\n",
    "introduce.find(\"benny\")\n",
    "introduce.index(\"benny\")\n",
    "\n",
    "#문자열 안에 내가 찾을 문자의 개수\n",
    "introduce.count(\"n\")\n",
    "\n",
    "#문자열 대체하는 함수\n",
    "introduce = introduce.replace(\"benny\", \"gyeonghwan\")\n",
    "introduce\n",
    "\n",
    "# 'my name is gyeonghwan'\n",
    "# [\"my\", \"name\", \"is\", \"gyeonghwan\"]\n",
    "# 문자열을 split 메서드로 나누기\n",
    "introduce.split(\"m\")\n",
    "\n",
    "# [\"my\" , \"name\", \"is\", \"gyeonghwan\"]\n",
    "s = [\"my\" , \"name\", \"is\", \"gyeonghwan\"]\n",
    "\" \".join(s)\n",
    "\n",
    "# format 메서드\n",
    "name = 'licat'\n",
    "age = 24\n",
    "\n",
    "print('제 이름은 {}이고, 나이는 {}살입니다.'.format(name, age))"
   ]
  },
  {
   "cell_type": "code",
   "execution_count": 36,
   "id": "22552922",
   "metadata": {},
   "outputs": [
    {
     "ename": "SyntaxError",
     "evalue": "unexpected character after line continuation character (2351690169.py, line 7)",
     "output_type": "error",
     "traceback": [
      "  \u001b[36mCell\u001b[39m\u001b[36m \u001b[39m\u001b[32mIn[36]\u001b[39m\u001b[32m, line 7\u001b[39m\n\u001b[31m    \u001b[39m\u001b[31mprint(\"\\\"안녕하세요\\\", \\\\\"반갑습니다\\\\\") # 백슬래시\u001b[39m\n                               ^\n\u001b[31mSyntaxError\u001b[39m\u001b[31m:\u001b[39m unexpected character after line continuation character\n"
     ]
    }
   ],
   "source": [
    "#6. 이스케이프 문자\n",
    "print(\"안녕하세요.\\n반갑습니다.\") # 줄바꿈\n",
    "print(\"안녕하세요.\\t반갑습니다.\") # 탭\n",
    "print(\"안녕하세요.\\r반갑습니다.\") # 캐리지 리턴, 커서를 처음으로 이동\n",
    "print(\"\\\"안녕하세요\\\", \\\"반갑습니다\\\"\") # 큰 따옴표\n",
    "print(\"\\\"안녕하세요\\\", \\\"반갑습니다\\'\") # 따옴표\n",
    "print(\"\\\"안녕하세요\\\", \\\\\"반갑습니다\\\\\") # 백슬래시"
   ]
  }
 ],
 "metadata": {
  "kernelspec": {
   "display_name": "Python 3",
   "language": "python",
   "name": "python3"
  },
  "language_info": {
   "codemirror_mode": {
    "name": "ipython",
    "version": 3
   },
   "file_extension": ".py",
   "mimetype": "text/x-python",
   "name": "python",
   "nbconvert_exporter": "python",
   "pygments_lexer": "ipython3",
   "version": "3.13.5"
  }
 },
 "nbformat": 4,
 "nbformat_minor": 5
}
