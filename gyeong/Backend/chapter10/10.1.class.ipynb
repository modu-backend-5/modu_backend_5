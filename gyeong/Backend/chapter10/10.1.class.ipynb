{
 "cells": [
  {
   "cell_type": "markdown",
   "id": "abe1e1c3",
   "metadata": {},
   "source": [
    "# 클래스란\n",
    "## 1. 클래스란\n"
   ]
  },
  {
   "cell_type": "code",
   "execution_count": null,
   "id": "a97d4e0e",
   "metadata": {},
   "outputs": [],
   "source": [
    "class Character: # 클래스\n",
    "    def __init__(hp, mp, power, drop_rate...(생략)):\n",
    "        self.hp = hp # 데이터\n",
    "        self.mp = mp # 데이터\n",
    "        ...(생략)\n",
    " \n",
    "    def move(self): # 기능\n",
    "        ...(생략)\n",
    " \n",
    "    def attack(self): # 기능\n",
    "        ...(생략)\n",
    " \n",
    "hero = Character(100, 100, 100, 0, ...(생략)) # 인스턴스\n",
    "mob1 = Character(30, 30, 30, 0.8, ...(생략)) # 인스턴스\n",
    "mob2 = Character(50, 50, 50, 0.5, ...(생략)) # 인스턴스\n",
    "mob3 = Character(70, 70, 70, 0.3, ...(생략)) # 인스턴스\n",
    "villain = Character(100, 100, 90, 0.1, ...(생략)) # 인스턴스"
   ]
  },
  {
   "cell_type": "code",
   "execution_count": null,
   "id": "3c5fc126",
   "metadata": {},
   "outputs": [
    {
     "name": "stdout",
     "output_type": "stream",
     "text": [
      "자동차 출발\n",
      "자동차 정지\n"
     ]
    }
   ],
   "source": [
    "# 클래스 만들기\n",
    "class Car:\n",
    "    max_speed = 300\n",
    "    max_people = 5\n",
    "\n",
    "    def start(self):\n",
    "        print(\"자동차 출발\")\n",
    "    def stop(self):\n",
    "        print(\"자동차 정지\")\n",
    "\n",
    "modelx = Car()\n",
    "modely = Car()\n",
    "\n",
    "modelx.start()\n",
    "modely.stop()\n",
    "\n",
    "\n",
    "class 클래스명:\n",
    "     pass\n",
    "인스턴스 = 클래스명()"
   ]
  },
  {
   "cell_type": "code",
   "execution_count": 8,
   "id": "969c1433",
   "metadata": {},
   "outputs": [
    {
     "name": "stdout",
     "output_type": "stream",
     "text": [
      "<class '__main__.Car'>\n",
      "<class 'int'>\n",
      "<class 'list'>\n"
     ]
    },
    {
     "data": {
      "text/plain": [
       "[]"
      ]
     },
     "execution_count": 8,
     "metadata": {},
     "output_type": "execute_result"
    }
   ],
   "source": [
    "print(type(modelx))\n",
    "x = 3\n",
    "print(type(x))\n",
    "#sinstance(x, int)\n",
    "\n",
    "arr = [1, 2, 3]\n",
    "print(type(arr))\n",
    "list()\n",
    "    "
   ]
  },
  {
   "cell_type": "code",
   "execution_count": 9,
   "id": "18c2db5b",
   "metadata": {},
   "outputs": [
    {
     "name": "stdout",
     "output_type": "stream",
     "text": [
      "100\n",
      "30에 파워로 공격하였습니다.\n"
     ]
    }
   ],
   "source": [
    "hero = {\n",
    "    'name': 'Jun',\n",
    "    'hp': 100,\n",
    "    'mp': 100,\n",
    "    'power': 30,\n",
    "    'drop_rate': 0,\n",
    "    'attack': lambda: f'{hero[\"power\"]}에 파워로 공격하였습니다.',\n",
    "}\n",
    "\n",
    "\n",
    "print(hero['hp'])\n",
    "print(hero['attack']())"
   ]
  },
  {
   "cell_type": "code",
   "execution_count": null,
   "id": "16079aa7",
   "metadata": {},
   "outputs": [],
   "source": [
    "def create_chracter(name, hp, mp, power):\n",
    "    data = {\n",
    "        'name': name,\n",
    "        'hp': hp,\n",
    "        'mp': mp,\n",
    "        'power': power,\n",
    "    }\n",
    "\n",
    "\n",
    "    def get_data(key):\n",
    "        return data[key]\n",
    "\n",
    "\n",
    "    def attack():\n",
    "        return f'{get_data(\"power\")}의 파워로 공격하였습니다.'\n",
    "\n",
    "\n",
    "    return {'attack': attack}\n",
    "\n",
    "\n",
    "hero = create_chracter('Jun', 100, 100, 30)\n",
    "print(hero['attack']())"
   ]
  }
 ],
 "metadata": {
  "kernelspec": {
   "display_name": "Python 3",
   "language": "python",
   "name": "python3"
  },
  "language_info": {
   "codemirror_mode": {
    "name": "ipython",
    "version": 3
   },
   "file_extension": ".py",
   "mimetype": "text/x-python",
   "name": "python",
   "nbconvert_exporter": "python",
   "pygments_lexer": "ipython3",
   "version": "3.13.5"
  }
 },
 "nbformat": 4,
 "nbformat_minor": 5
}
