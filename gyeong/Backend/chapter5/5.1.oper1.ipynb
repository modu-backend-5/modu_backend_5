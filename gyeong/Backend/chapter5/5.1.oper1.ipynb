{
 "cells": [
  {
   "cell_type": "markdown",
   "id": "46070721",
   "metadata": {},
   "source": [
    "#산술연산\n",
    "##1. 산술연산자"
   ]
  },
  {
   "cell_type": "code",
   "execution_count": 2,
   "id": "ae795375",
   "metadata": {},
   "outputs": [
    {
     "name": "stdout",
     "output_type": "stream",
     "text": [
      "8\n",
      "5.5\n"
     ]
    }
   ],
   "source": [
    "result = 5 + 3\n",
    "print(result) # 결과: 8\n",
    "\n",
    "\n",
    "result = 3 + 2.5\n",
    "print(result) # 결과: 5.5"
   ]
  },
  {
   "cell_type": "code",
   "execution_count": 4,
   "id": "1bc4c7c0",
   "metadata": {},
   "outputs": [
    {
     "name": "stdout",
     "output_type": "stream",
     "text": [
      "Hello World\n"
     ]
    },
    {
     "data": {
      "text/plain": [
       "str"
      ]
     },
     "execution_count": 4,
     "metadata": {},
     "output_type": "execute_result"
    }
   ],
   "source": [
    "s1 = \"Hello\"\n",
    "s2 = \"World\"\n",
    "result = s1 + \" \" + s2\n",
    "print(result)  # Hello World\n",
    "type(result) "
   ]
  },
  {
   "cell_type": "code",
   "execution_count": 5,
   "id": "a18af3b9",
   "metadata": {},
   "outputs": [
    {
     "name": "stdout",
     "output_type": "stream",
     "text": [
      "3\n",
      "6.5\n",
      "8\n"
     ]
    }
   ],
   "source": [
    "result = 7 - 4\n",
    "print(result) # 결과: 3\n",
    "\n",
    "\n",
    "result = 10 - 3.5\n",
    "print(result) # 결과: 6.5\n",
    "\n",
    "\n",
    "result = 5 - (-3)\n",
    "print(result) # 결과: 8"
   ]
  },
  {
   "cell_type": "code",
   "execution_count": 6,
   "id": "3b2750a3",
   "metadata": {},
   "outputs": [
    {
     "name": "stdout",
     "output_type": "stream",
     "text": [
      "12\n",
      "12.5\n"
     ]
    }
   ],
   "source": [
    "result = 3 * 4\n",
    "print(result) # 결과: 12\n",
    "\n",
    "\n",
    "result = 5 * 2.5\n",
    "print(result) # 결과: 12.5"
   ]
  },
  {
   "cell_type": "code",
   "execution_count": 7,
   "id": "413037db",
   "metadata": {},
   "outputs": [
    {
     "name": "stdout",
     "output_type": "stream",
     "text": [
      "HaHaHa\n"
     ]
    }
   ],
   "source": [
    "result = \"Ha\" * 3\n",
    "print(result) # 출력: \"HaHaHa\""
   ]
  },
  {
   "cell_type": "code",
   "execution_count": 10,
   "id": "0bfc0fe5",
   "metadata": {},
   "outputs": [
    {
     "name": "stdout",
     "output_type": "stream",
     "text": [
      "5.0\n",
      "3\n"
     ]
    }
   ],
   "source": [
    "a = 10\n",
    "b = 2\n",
    "print(a / b) # 결과 5.0\n",
    "c = 3\n",
    "print(a // c) # 결과 5"
   ]
  },
  {
   "cell_type": "code",
   "execution_count": null,
   "id": "4c844e6d",
   "metadata": {},
   "outputs": [],
   "source": [
    "a = -5\n",
    "b = 2\n",
    "print(a / b) # 결과: -2.5\n",
    "print(a // b) # 결과: -3"
   ]
  },
  {
   "cell_type": "code",
   "execution_count": 13,
   "id": "aa6f676c",
   "metadata": {},
   "outputs": [
    {
     "name": "stdout",
     "output_type": "stream",
     "text": [
      "1\n"
     ]
    },
    {
     "data": {
      "text/plain": [
       "True"
      ]
     },
     "execution_count": 13,
     "metadata": {},
     "output_type": "execute_result"
    }
   ],
   "source": [
    "a = 10\n",
    "c = 3\n",
    "print(a % c)\n",
    "f = 2\n",
    "a % f == 0"
   ]
  },
  {
   "cell_type": "code",
   "execution_count": 14,
   "id": "e46c4d97",
   "metadata": {},
   "outputs": [
    {
     "data": {
      "text/plain": [
       "1000"
      ]
     },
     "execution_count": 14,
     "metadata": {},
     "output_type": "execute_result"
    }
   ],
   "source": [
    "10 ** 3 # 결과: 1000"
   ]
  },
  {
   "cell_type": "code",
   "execution_count": null,
   "id": "eaa59182",
   "metadata": {},
   "outputs": [],
   "source": []
  }
 ],
 "metadata": {
  "kernelspec": {
   "display_name": "Python 3",
   "language": "python",
   "name": "python3"
  },
  "language_info": {
   "codemirror_mode": {
    "name": "ipython",
    "version": 3
   },
   "file_extension": ".py",
   "mimetype": "text/x-python",
   "name": "python",
   "nbconvert_exporter": "python",
   "pygments_lexer": "ipython3",
   "version": "3.13.5"
  }
 },
 "nbformat": 4,
 "nbformat_minor": 5
}
