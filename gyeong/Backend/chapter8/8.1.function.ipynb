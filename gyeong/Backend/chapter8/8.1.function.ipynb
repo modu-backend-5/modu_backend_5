{
 "cells": [
  {
   "cell_type": "markdown",
   "id": "27128edd",
   "metadata": {},
   "source": [
    "# 함수(Function)\n",
    "## 1. 함수(Function)란?"
   ]
  },
  {
   "cell_type": "code",
   "execution_count": 2,
   "id": "d05df3be",
   "metadata": {},
   "outputs": [
    {
     "name": "stdout",
     "output_type": "stream",
     "text": [
      "안녕하세요!\n",
      "반갑습니다!\n",
      "파이썬 프로그래밍을 시작합니다!\n"
     ]
    }
   ],
   "source": [
    "def greet(): # 함수 정의\n",
    "    print(\"안녕하세요!\")\n",
    "    print(\"반갑습니다!\")\n",
    "    print(\"파이썬 프로그래밍을 시작합니다!\")\n",
    "\n",
    "greet()  # 함수 호출"
   ]
  },
  {
   "cell_type": "code",
   "execution_count": 3,
   "id": "863c282a",
   "metadata": {},
   "outputs": [
    {
     "name": "stdout",
     "output_type": "stream",
     "text": [
      "안녕하세요, 영희님!\n",
      "안녕하세요, 철수님!\n"
     ]
    }
   ],
   "source": [
    "#1.2 매개변수(Parameter)\n",
    "def greet(name):\n",
    "    print(f\"안녕하세요, {name}님!\")\n",
    "\n",
    "\n",
    "greet(\"영희\")\n",
    "greet(\"철수\")"
   ]
  },
  {
   "cell_type": "code",
   "execution_count": 4,
   "id": "e4573573",
   "metadata": {},
   "outputs": [
    {
     "name": "stdout",
     "output_type": "stream",
     "text": [
      "3 + 5 = 8\n"
     ]
    }
   ],
   "source": [
    "#1.3 반환값(Return Value)\n",
    "def add(a, b):\n",
    "    return a + b\n",
    "\n",
    "\n",
    "result = add(3, 5)\n",
    "print(\"3 + 5 =\", result)"
   ]
  },
  {
   "cell_type": "code",
   "execution_count": null,
   "id": "3e96d778",
   "metadata": {},
   "outputs": [],
   "source": [
    "#1.4 기본 매개변수(Default Parameter)\n",
    "def greet(name=\"손님\"):\n",
    "    print(f\"안녕하세요, {name}님!\")\n",
    "\n",
    "\n",
    "greet()  # 기본값 사용\n",
    "greet(\"영희\")  # 직접 값 전달"
   ]
  },
  {
   "cell_type": "code",
   "execution_count": 5,
   "id": "8ebc634e",
   "metadata": {},
   "outputs": [
    {
     "name": "stdout",
     "output_type": "stream",
     "text": [
      "제 이름은 철수이고, 20살입니다.\n",
      "제 이름은 영희이고, 25살입니다.\n"
     ]
    }
   ],
   "source": [
    "#1.5 키워드 인자(Keyword Arguments)\n",
    "def introduce(name, age):\n",
    "    print(f\"제 이름은 {name}이고, {age}살입니다.\")\n",
    "\n",
    "\n",
    "introduce(name=\"철수\", age=20)\n",
    "introduce(age=25, name=\"영희\")  # 순서를 바꿔도 됩니다"
   ]
  },
  {
   "cell_type": "code",
   "execution_count": 6,
   "id": "84c2b961",
   "metadata": {},
   "outputs": [
    {
     "name": "stdout",
     "output_type": "stream",
     "text": [
      "함수 내부: 10\n",
      "에러: name 'x' is not defined\n"
     ]
    }
   ],
   "source": [
    "#1.6 지역 변수와 전역 변수\n",
    "def local_var_example():\n",
    "    x = 10  # 지역 변수\n",
    "    print(\"함수 내부:\", x)\n",
    "\n",
    "\n",
    "local_var_example()\n",
    "try:\n",
    "    print(\"함수 외부:\", x)  # 에러 발생\n",
    "except NameError as e:\n",
    "    print(\"에러:\", e)"
   ]
  }
 ],
 "metadata": {
  "kernelspec": {
   "display_name": "Python 3",
   "language": "python",
   "name": "python3"
  },
  "language_info": {
   "codemirror_mode": {
    "name": "ipython",
    "version": 3
   },
   "file_extension": ".py",
   "mimetype": "text/x-python",
   "name": "python",
   "nbconvert_exporter": "python",
   "pygments_lexer": "ipython3",
   "version": "3.13.5"
  }
 },
 "nbformat": 4,
 "nbformat_minor": 5
}
