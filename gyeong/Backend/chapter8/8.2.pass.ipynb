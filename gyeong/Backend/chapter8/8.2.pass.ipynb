{
 "cells": [
  {
   "cell_type": "markdown",
   "id": "fccc3a42",
   "metadata": {},
   "source": [
    "# 함수에서 pass 사용하기\n",
    "## 1. pass 문이란?"
   ]
  },
  {
   "cell_type": "code",
   "execution_count": 1,
   "id": "2d4cd209",
   "metadata": {},
   "outputs": [],
   "source": [
    "def future_function():\n",
    "    pass  # 이 함수는 나중에 구현할 예정입니다\n",
    "\n",
    "\n",
    "future_function()  # 아무 일도 일어나지 않습니다"
   ]
  }
 ],
 "metadata": {
  "kernelspec": {
   "display_name": "Python 3",
   "language": "python",
   "name": "python3"
  },
  "language_info": {
   "codemirror_mode": {
    "name": "ipython",
    "version": 3
   },
   "file_extension": ".py",
   "mimetype": "text/x-python",
   "name": "python",
   "nbconvert_exporter": "python",
   "pygments_lexer": "ipython3",
   "version": "3.13.5"
  }
 },
 "nbformat": 4,
 "nbformat_minor": 5
}
