{
 "cells": [
  {
   "cell_type": "markdown",
   "id": "d2106dfe",
   "metadata": {},
   "source": [
    "# 1번 문제"
   ]
  },
  {
   "cell_type": "code",
   "execution_count": 1,
   "id": "fd8dd3bb",
   "metadata": {},
   "outputs": [
    {
     "name": "stdout",
     "output_type": "stream",
     "text": [
      "I\n",
      "love\n",
      "python\n"
     ]
    }
   ],
   "source": [
    "# 다음 코드를 실행하면 출력되는 값을 순서대로 작성해보세요.\n",
    "a = 'pithon'\n",
    " \n",
    "def 함수1():\n",
    "    def 함수2():\n",
    "        print('love')\n",
    " \n",
    "    print('I') # 1번\n",
    "    함수2() #2번\n",
    "    return \"python\" #3번\n",
    " \n",
    " \n",
    "a = 함수1()\n",
    "print(a)"
   ]
  },
  {
   "cell_type": "markdown",
   "id": "3f3320b8",
   "metadata": {},
   "source": [
    "# 2번 문제"
   ]
  },
  {
   "cell_type": "code",
   "execution_count": 4,
   "id": "cad2e35c",
   "metadata": {},
   "outputs": [
    {
     "name": "stdout",
     "output_type": "stream",
     "text": [
      "plus : None\n",
      "minus : None\n",
      "multiply : None\n",
      "divide : 2.0\n"
     ]
    }
   ],
   "source": [
    "def plus(num1, num2):\n",
    "    \"\"\"두 숫자를 더하는 함수\"\"\"\n",
    " \n",
    "def minus(num1, num2):\n",
    "    \"\"\"첫 번쨰 숫자에서 두 번째 숫자를 빼는 함수\"\"\"\n",
    " \n",
    "def multiply(num1, num2):\n",
    "    \"\"\"두 숫자를 곱하는 함수\"\"\"\n",
    " \n",
    "def divide(num1, num2):\n",
    "    \"\"\"첫 번째 숫자를 두 번째 숫자로 나누는 함수\"\"\"\n",
    "    if num2 == 0:\n",
    "        return \"오류: 0으로 나눌 수 없습니다.\"\n",
    "    return num1 / num2\n",
    "print(f'plus : {plus(10, 5)}')\n",
    "print(f'minus : {minus(10, 5)}')\n",
    "print(f'multiply : {multiply(10, 5)}')\n",
    "print(f'divide : {divide(10, 5)}')"
   ]
  },
  {
   "cell_type": "markdown",
   "id": "1fd2c9f4",
   "metadata": {},
   "source": [
    "# 3번 문제"
   ]
  },
  {
   "cell_type": "code",
   "execution_count": 5,
   "id": "5a087016",
   "metadata": {},
   "outputs": [
    {
     "name": "stdout",
     "output_type": "stream",
     "text": [
      "plus : 15\n",
      "minus : 5\n",
      "multiply : 50\n",
      "divide : 2.0\n",
      "\n",
      "========================================\n",
      "a = 2, b = 3\n",
      "(2 + 3) * (2 - 3) = -5\n",
      "\n",
      "다른 예시들:\n",
      "a=5, b=3: (5+3) * (5-3) = 16\n",
      "a=10, b=4: (10+4) * (10-4) = 84\n",
      "a=7, b=7: (7+7) * (7-7) = 0\n"
     ]
    }
   ],
   "source": [
    "# 2번의 해답을 이용하여 a와 b를 더한 값과 a와 b를 뺀 값을 곱하는 함수를 만들어주세요. 아래와 같은 값이 있다면 (2 + 3) * (2 - 3) = -5가 출력이 되어야 합니다.\n",
    "a = 2\n",
    "b = 3\n",
    "def plus(num1, num2):\n",
    "    \"\"\"두 숫자를 더하는 함수\"\"\"\n",
    "    return num1 + num2\n",
    " \n",
    "def minus(num1, num2):\n",
    "    \"\"\"첫 번째 숫자에서 두 번째 숫자를 빼는 함수\"\"\"\n",
    "    return num1 - num2\n",
    " \n",
    "def multiply(num1, num2):\n",
    "    \"\"\"두 숫자를 곱하는 함수\"\"\"\n",
    "    return num1 * num2\n",
    " \n",
    "def divide(num1, num2):\n",
    "    \"\"\"첫 번째 숫자를 두 번째 숫자로 나누는 함수\"\"\"\n",
    "    if num2 == 0:\n",
    "        return \"오류: 0으로 나눌 수 없습니다.\"\n",
    "    return num1 / num2\n",
    " \n",
    "def plus_minus_multiply(a, b):\n",
    "    \"\"\"a와 b를 더한 값과 a와 b를 뺀 값을 곱하는 함수\"\"\"\n",
    "    sum_result = plus(a, b)      # a + b\n",
    "    diff_result = minus(a, b)    # a - b\n",
    "    final_result = multiply(sum_result, diff_result)  # (a + b) * (a - b)\n",
    "    return final_result\n",
    "\n",
    "# 기존 함수 테스트\n",
    "print(f'plus : {plus(10, 5)}')\n",
    "print(f'minus : {minus(10, 5)}')\n",
    "print(f'multiply : {multiply(10, 5)}')\n",
    "print(f'divide : {divide(10, 5)}')\n",
    "\n",
    "print(\"\\n\" + \"=\"*40)\n",
    "\n",
    "# 새로운 함수 테스트\n",
    "a = 2\n",
    "b = 3\n",
    "\n",
    "result = plus_minus_multiply(a, b)\n",
    "print(f'a = {a}, b = {b}')\n",
    "print(f'({a} + {b}) * ({a} - {b}) = {result}')\n",
    "\n",
    "# 추가 테스트 케이스\n",
    "print(f'\\n다른 예시들:')\n",
    "print(f'a=5, b=3: (5+3) * (5-3) = {plus_minus_multiply(5, 3)}')\n",
    "print(f'a=10, b=4: (10+4) * (10-4) = {plus_minus_multiply(10, 4)}')\n",
    "print(f'a=7, b=7: (7+7) * (7-7) = {plus_minus_multiply(7, 7)}')"
   ]
  },
  {
   "cell_type": "markdown",
   "id": "0057f91e",
   "metadata": {},
   "source": [
    "# 4번 문제"
   ]
  },
  {
   "cell_type": "code",
   "execution_count": 11,
   "id": "6ca9e5ce",
   "metadata": {},
   "outputs": [
    {
     "name": "stdout",
     "output_type": "stream",
     "text": [
      "2^3 = 8\n"
     ]
    }
   ],
   "source": [
    "# x의 n제곱을 구하는 함수를 만들어주세요. 재귀함수를 이용하여 만들어야 하며, x는 0이 아닙니다. (x, n > 1)\n",
    "print(f\"2^3 = {power(2, 3)}\")"
   ]
  },
  {
   "cell_type": "markdown",
   "id": "03c71537",
   "metadata": {},
   "source": [
    "# 5번 문제"
   ]
  },
  {
   "cell_type": "code",
   "execution_count": 12,
   "id": "110bacc4",
   "metadata": {},
   "outputs": [
    {
     "name": "stdout",
     "output_type": "stream",
     "text": [
      " licat\n"
     ]
    }
   ],
   "source": [
    "# 이 데이터에서 licat을 출력해주세요. 단, 직접 접근은 안됩니다. data[1]로 접근하는 것은 안됩니다.\n",
    "data = [['weniv CTO binky', 2], ['weniv CEO licat', 1], ['weniv COO mura', 2]]\n",
    "\n",
    "for item in data:\n",
    "    if 'CEO' in item[0]:\n",
    "        words = item[0].split()\n",
    "        ceo_index = words.index('CEO')\n",
    "        if ceo_index + 1 < len(words):\n",
    "            next_word = words[ceo_index + 1]\n",
    "            print(f\" {next_word}\")"
   ]
  },
  {
   "cell_type": "markdown",
   "id": "e571db8a",
   "metadata": {},
   "source": [
    "# 6번 문제"
   ]
  },
  {
   "cell_type": "code",
   "execution_count": 15,
   "id": "a77b758d",
   "metadata": {},
   "outputs": [],
   "source": [
    "# 다음 함수 is_palindrome를 완성하시오. 이 함수는 하나의 문자열을 인자로 받아, 해당 문자열이 앞으로 읽으나 뒤로 읽으나 같은 단어이면 True를, 아니면 False를 반환해야 합니다.\n",
    "def is_palindrome(s):\n",
    "    pass"
   ]
  },
  {
   "cell_type": "markdown",
   "id": "7df2d59e",
   "metadata": {},
   "source": [
    "# 7번 문제"
   ]
  },
  {
   "cell_type": "code",
   "execution_count": 19,
   "id": "840d608e",
   "metadata": {},
   "outputs": [
    {
     "name": "stdout",
     "output_type": "stream",
     "text": [
      "[2, 3, 4, 5, 6, 7, 8, 9, 10]\n"
     ]
    }
   ],
   "source": [
    "# 리스트 numbers가 주어졌을 때, 이 리스트 내의 모든 짝수를 제거하는 코드를 작성하시오.\n",
    "numbers = [2, 3, 4, 5, 6, 7, 8, 9, 10]\n",
    "# code\n",
    "print(numbers)\n",
    "def remove_even_filter(nums):\n",
    "    return list(filter(lambda x: x % 2 != 0, nums))\n"
   ]
  },
  {
   "cell_type": "markdown",
   "id": "94134c22",
   "metadata": {},
   "source": [
    "# 8번 문제"
   ]
  },
  {
   "cell_type": "code",
   "execution_count": 22,
   "id": "e927757b",
   "metadata": {},
   "outputs": [],
   "source": [
    "# 아래 데이터를 두 번째 요소의 문자열 길이를 기준으로 정렬하세요.\n",
    "\n",
    "data = [\n",
    "  [2, 'hello world', 30],\n",
    "  [3, 'hworl', 33],\n",
    "  [5, 'hello wo', 35],\n",
    "  [4, 'hello w', 31],\n",
    "  [6, 'hello w', 39],\n",
    "];\n",
    "def sort_by_string_length_v1(data_list):\n",
    "    return sorted(data_list, key=lambda x: len(x[1]))\n"
   ]
  },
  {
   "cell_type": "markdown",
   "id": "fa80f28d",
   "metadata": {},
   "source": [
    "# 9번 문제"
   ]
  },
  {
   "cell_type": "code",
   "execution_count": null,
   "id": "e750d1a2",
   "metadata": {},
   "outputs": [],
   "source": [
    "#8번 문제에서 첫 번째 요소와 세 번째 요소의 차가 큰 순으로 출력해주세요."
   ]
  }
 ],
 "metadata": {
  "kernelspec": {
   "display_name": "Python 3",
   "language": "python",
   "name": "python3"
  },
  "language_info": {
   "codemirror_mode": {
    "name": "ipython",
    "version": 3
   },
   "file_extension": ".py",
   "mimetype": "text/x-python",
   "name": "python",
   "nbconvert_exporter": "python",
   "pygments_lexer": "ipython3",
   "version": "3.13.5"
  }
 },
 "nbformat": 4,
 "nbformat_minor": 5
}
