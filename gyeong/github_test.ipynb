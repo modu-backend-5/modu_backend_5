{
 "cells": [
  {
   "cell_type": "markdown",
   "id": "e2e9e433",
   "metadata": {},
   "source": [
    "#안녕하세요 깃허브 명령어 업로드 테스트중입니다."
   ]
  },
  {
   "cell_type": "code",
   "execution_count": null,
   "id": "4b8ac7d6",
   "metadata": {},
   "outputs": [],
   "source": [
    "안녕하세요 테스트중입니다."
   ]
  }
 ],
 "metadata": {
  "language_info": {
   "name": "python"
  }
 },
 "nbformat": 4,
 "nbformat_minor": 5
}
