{
 "cells": [
  {
   "cell_type": "markdown",
   "id": "8f3dbd9c",
   "metadata": {},
   "source": [
    "## 1부터 100까지 더하는 코드를 작성하세요. for를 사용해서 풀어주세요."
   ]
  },
  {
   "cell_type": "code",
   "execution_count": 1,
   "id": "a3d2de07",
   "metadata": {},
   "outputs": [
    {
     "name": "stdout",
     "output_type": "stream",
     "text": [
      "1부터 100까지의 합: 5050\n"
     ]
    }
   ],
   "source": [
    "# 1부터 100까지 더하기\n",
    "total = 0\n",
    "\n",
    "for i in range(1, 101):\n",
    "    total += i\n",
    "\n",
    "print(f\"1부터 100까지의 합: {total}\")"
   ]
  },
  {
   "cell_type": "markdown",
   "id": "afd20baa",
   "metadata": {},
   "source": [
    "## 아래 코드에서 나이의 평균을 구하는 코드를 작성하세요."
   ]
  },
  {
   "cell_type": "code",
   "execution_count": 2,
   "id": "1eaaa0d5",
   "metadata": {},
   "outputs": [],
   "source": [
    "data = [\n",
    "  {\n",
    "    \"_id\": \"6019fd4354979ca26b8f91dc\",\n",
    "    \"age\": 26,\n",
    "    \"eyeColor\": \"green\",\n",
    "    \"name\": \"Bender Allen\",\n",
    "    \"gender\": \"male\"\n",
    "  },\n",
    "  {\n",
    "    \"_id\": \"6019fd43db2951868889a0b4\",\n",
    "    \"age\": 27,\n",
    "    \"eyeColor\": \"blue\",\n",
    "    \"name\": \"Jacobs Golden\",\n",
    "    \"gender\": \"male\"\n",
    "  },\n",
    "  {\n",
    "    \"_id\": \"6019fd438c0bf8e775c28536\",\n",
    "    \"age\": 27,\n",
    "    \"eyeColor\": \"brown\",\n",
    "    \"name\": \"Grimes Oneal\",\n",
    "    \"gender\": \"male\"\n",
    "  },\n",
    "  {\n",
    "    \"_id\": \"6019fd43b68a7fd8b081ab26\",\n",
    "    \"age\": 40,\n",
    "    \"eyeColor\": \"blue\",\n",
    "    \"name\": \"Melissa Joyce\",\n",
    "    \"gender\": \"female\"\n",
    "  },\n",
    "  {\n",
    "    \"_id\": \"6019fd436c1edc4757aabb9d\",\n",
    "    \"age\": 32,\n",
    "    \"eyeColor\": \"blue\",\n",
    "    \"name\": \"Malone Bush\",\n",
    "    \"gender\": \"male\"\n",
    "  },\n",
    "  {\n",
    "    \"_id\": \"6019fd438eaf753918f55226\",\n",
    "    \"age\": 34,\n",
    "    \"eyeColor\": \"green\",\n",
    "    \"name\": \"Davenport Hyde\",\n",
    "    \"gender\": \"male\"\n",
    "  },\n",
    "  {\n",
    "    \"_id\": \"6019fd43c35929ff95004109\",\n",
    "    \"age\": 20,\n",
    "    \"eyeColor\": \"blue\",\n",
    "    \"name\": \"Shauna Blevins\",\n",
    "    \"gender\": \"female\"\n",
    "  }\n",
    "]"
   ]
  },
  {
   "cell_type": "code",
   "execution_count": 3,
   "id": "4dc89676",
   "metadata": {},
   "outputs": [
    {
     "name": "stdout",
     "output_type": "stream",
     "text": [
      "1부터 100까지의 합: 5050\n",
      "========================================\n",
      "\n",
      "=== 사용자 목록 ===\n",
      "이름: 김철수, 나이: 25세\n",
      "이름: 이영희, 나이: 30세\n",
      "이름: 박민수, 나이: 35세\n",
      "이름: 최지은, 나이: 20세\n",
      "이름: 정우진, 나이: 45세\n",
      "이름: 한미영, 나이: 28세\n",
      "이름: 임도현, 나이: 33세\n",
      "이름: 송하늘, 나이: 22세\n",
      "이름: 오세진, 나이: 40세\n",
      "이름: 윤서연, 나이: 27세\n",
      "\n",
      "나이의 평균: 30.5세\n",
      "총 사용자 수: 10명\n"
     ]
    }
   ],
   "source": [
    "#위 데이터를 관리할 User 클래스를 만들어주세요. 인스턴스들은 리스트로 관리됩니다.\n",
    "# 1부터 100까지 더하기\n",
    "total = 0\n",
    "\n",
    "for i in range(1, 101):\n",
    "    total += i\n",
    "\n",
    "print(f\"1부터 100까지의 합: {total}\")\n",
    "\n",
    "print(\"=\" * 40)\n",
    "\n",
    "# User 클래스 정의\n",
    "class User:\n",
    "    def __init__(self, name, age):\n",
    "        self.name = name\n",
    "        self.age = age\n",
    "    \n",
    "    def __str__(self):\n",
    "        return f\"이름: {self.name}, 나이: {self.age}세\"\n",
    "\n",
    "# User 인스턴스들을 리스트로 관리\n",
    "users = [\n",
    "    User(\"김철수\", 25),\n",
    "    User(\"이영희\", 30),\n",
    "    User(\"박민수\", 35),\n",
    "    User(\"최지은\", 20),\n",
    "    User(\"정우진\", 45),\n",
    "    User(\"한미영\", 28),\n",
    "    User(\"임도현\", 33),\n",
    "    User(\"송하늘\", 22),\n",
    "    User(\"오세진\", 40),\n",
    "    User(\"윤서연\", 27)\n",
    "]\n",
    "\n",
    "# 사용자 정보 출력\n",
    "print(\"\\n=== 사용자 목록 ===\")\n",
    "for user in users:\n",
    "    print(user)\n",
    "\n",
    "# 나이의 평균 구하기 (for문 사용)\n",
    "age_sum = 0\n",
    "for user in users:\n",
    "    age_sum += user.age\n",
    "\n",
    "average_age = age_sum / len(users)\n",
    "print(f\"\\n나이의 평균: {average_age:.1f}세\")\n",
    "print(f\"총 사용자 수: {len(users)}명\")"
   ]
  }
 ],
 "metadata": {
  "kernelspec": {
   "display_name": "Python 3",
   "language": "python",
   "name": "python3"
  },
  "language_info": {
   "codemirror_mode": {
    "name": "ipython",
    "version": 3
   },
   "file_extension": ".py",
   "mimetype": "text/x-python",
   "name": "python",
   "nbconvert_exporter": "python",
   "pygments_lexer": "ipython3",
   "version": "3.13.5"
  }
 },
 "nbformat": 4,
 "nbformat_minor": 5
}
