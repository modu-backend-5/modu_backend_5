{
 "cells": [
  {
   "cell_type": "markdown",
   "id": "520663f7",
   "metadata": {},
   "source": [
    "\n",
    "\n",
    "copy\n",
    "\n",
    "copy\n",
    "6번 문제\n",
    "다음 함수 is_palindrome를 완성하시오. 이 함수는 하나의 문자열을 인자로 받아, 해당 문자열이 앞으로 읽으나 뒤로 읽으나 같은 단어이면 True를, 아니면 False를 반환해야 합니다.\n",
    "\n",
    "def is_palindrome(s):\n",
    "    pass\n",
    "copy\n",
    "7번 문제\n",
    "리스트 numbers가 주어졌을 때, 이 리스트 내의 모든 짝수를 제거하는 코드를 작성하시오.\n",
    "\n",
    "numbers = [2, 3, 4, 5, 6, 7, 8, 9, 10]\n",
    "code\n",
    "print(numbers)  # 결과: [3, 5, 7, 9]\n",
    "copy\n",
    "8번 문제\n",
    "아래 데이터를 두 번째 요소의 문자열 길이를 기준으로 정렬하세요.\n",
    "\n",
    "data = [\n",
    "  [2, 'hello world', 30],\n",
    "  [3, 'hworl', 33],\n",
    "  [5, 'hello wo', 35],\n",
    "  [4, 'hello w', 31],\n",
    "  [6, 'hello w', 39],\n",
    "];\n",
    "copy\n",
    "9번 문제\n",
    "8번 문제에서 첫 번째 요소와 세 번째 요소의 차가 큰 순으로 출력해주세요."
   ]
  },
  {
   "cell_type": "markdown",
   "id": "547e483b",
   "metadata": {},
   "source": [
    "1번 문제\n",
    "다음 코드를 실행하면 출력되는 값을 순서대로 작성해보세요.\n",
    "\n",
    "a = 'pithon'\n",
    " \n",
    "def 함수1():\n",
    "    def 함수2():\n",
    "        print('love')\n",
    " \n",
    "    print('I') # 1번\n",
    "    함수2() #2번\n",
    "    return \"python\" #3번\n",
    " \n",
    " \n",
    "a = 함수1()\n",
    "print(a)\n",
    "copy"
   ]
  },
  {
   "cell_type": "code",
   "execution_count": null,
   "id": "bae7ee7e",
   "metadata": {},
   "outputs": [
    {
     "name": "stdout",
     "output_type": "stream",
     "text": [
      "I\n",
      "love\n",
      "python\n"
     ]
    }
   ],
   "source": [
    "a = 'pithon'\n",
    " \n",
    "def 함수1():\n",
    "    def 함수2():\n",
    "        print('love')\n",
    " \n",
    "    print('I') # 1번\n",
    "    함수2() #2번\n",
    "    return \"python\" #3번\n",
    " \n",
    " \n",
    "a = 함수1()\n",
    "print(a)\n"
   ]
  },
  {
   "cell_type": "markdown",
   "id": "599d1e7e",
   "metadata": {},
   "source": [
    "\n",
    "2번 문제\n",
    "함수를 이용하여 계산기 프로그램을 만들어주세요.\n",
    "\n",
    "def plus(num1, num2):\n",
    "    #이곳을 채워주세요\n",
    " \n",
    "def minus(num1, num2):\n",
    "    #이곳을 채워주세요\n",
    " \n",
    "def multiply(num1, num2):\n",
    "    #이곳을 채워주세요\n",
    " \n",
    "def divide(num1, num2):\n",
    "    #이곳을 채워주세요\n",
    " \n",
    "print(f'plus : {plus(10, 5)}')\n",
    "print(f'minus : {minus(10, 5)}')\n",
    "print(f'multiply : {multiply(10, 5)}')\n",
    "print(f'divide : {divide(10, 5)}')"
   ]
  },
  {
   "cell_type": "code",
   "execution_count": null,
   "id": "e61956dd",
   "metadata": {},
   "outputs": [
    {
     "name": "stdout",
     "output_type": "stream",
     "text": [
      "plus : 15\n",
      "minus : 5\n",
      "multiply : 50\n",
      "divide : 2.0\n"
     ]
    }
   ],
   "source": [
    "def plus(num1, num2):\n",
    "    return num1 + num2\n",
    " \n",
    "def minus(num1, num2):\n",
    "    #이곳을 채워주세요\n",
    "    return num1 - num2\n",
    " \n",
    "def multiply(num1, num2):\n",
    "    #이곳을 채워주세요\n",
    "    return num1 * num2\n",
    " \n",
    "def divide(num1, num2):\n",
    "    return num1 / num2\n",
    " \n",
    "  \n",
    "print(f'plus : {plus(10, 5)}')\n",
    "print(f'minus : {minus(10, 5)}')\n",
    "print(f'multiply : {multiply(10, 5)}')\n",
    "print(f'divide : {divide(10, 5)}')"
   ]
  },
  {
   "cell_type": "markdown",
   "id": "dcb6e3a6",
   "metadata": {},
   "source": [
    "\n",
    "3번 문제\n",
    "2번의 해답을 이용하여 a와 b를 더한 값과 a와 b를 뺀 값을 곱하는 함수를 만들어주세요. 아래와 같은 값이 있다면 (2 + 3) * (2 - 3) = -5가 출력이 되어야 합니다.\n",
    "\n",
    "a = 2\n",
    "b = 3\n",
    "이 부분에 코드를 작성해주세요."
   ]
  },
  {
   "cell_type": "code",
   "execution_count": null,
   "id": "732d6847",
   "metadata": {},
   "outputs": [
    {
     "name": "stdout",
     "output_type": "stream",
     "text": [
      "-5\n"
     ]
    }
   ],
   "source": [
    "def plus(num1, num2):\n",
    "    return num1 + num2\n",
    " \n",
    "def minus(num1, num2):\n",
    "    #이곳을 채워주세요\n",
    "    return num1 - num2\n",
    " \n",
    "def multiply(num1, num2):\n",
    "    #이곳을 채워주세요\n",
    "    return num1 * num2\n",
    " \n",
    "def divide(num1, num2):\n",
    "    return num1 / num2\n",
    " \n",
    "a = 2\n",
    "b = 3\n",
    "print (plus(2,3) * (minus(2,3)))"
   ]
  },
  {
   "cell_type": "markdown",
   "id": "69d54e6a",
   "metadata": {},
   "source": [
    "4번 문제\n",
    "x의 n제곱을 구하는 함수를 만들어주세요. 재귀함수를 이용하여 만들어야 하며, x는 0이 아닙니다. (x, n > 1)\n",
    "\n"
   ]
  },
  {
   "cell_type": "code",
   "execution_count": null,
   "id": "eb16b0f1",
   "metadata": {},
   "outputs": [
    {
     "name": "stdout",
     "output_type": "stream",
     "text": [
      "2 1\n",
      "16\n"
     ]
    }
   ],
   "source": [
    "def square_root(x, n):\n",
    "    if x == 0:\n",
    "        return 0\n",
    "    \n",
    "    if n <= 1:\n",
    "        print(x,n)\n",
    "        return x\n",
    "    \n",
    "    result = square_root(x, n-1)\n",
    "    x = result * x\n",
    "    return x\n",
    "\n",
    "val = square_root(2,4)\n",
    "print(val)"
   ]
  },
  {
   "cell_type": "markdown",
   "id": "3d69f1d2",
   "metadata": {},
   "source": [
    "5번 문제\n",
    "이 데이터에서 licat을 출력해주세요. 단, 직접 접근은 안됩니다. data[1]로 접근하는 것은 안됩니다.\n",
    "\n",
    "data = [['weniv CTO binky', 2], ['weniv CEO licat', 1], ['weniv COO mura', 2]]"
   ]
  }
 ],
 "metadata": {
  "kernelspec": {
   "display_name": "Python 3",
   "language": "python",
   "name": "python3"
  },
  "language_info": {
   "codemirror_mode": {
    "name": "ipython",
    "version": 3
   },
   "file_extension": ".py",
   "mimetype": "text/x-python",
   "name": "python",
   "nbconvert_exporter": "python",
   "pygments_lexer": "ipython3",
   "version": "3.13.5"
  }
 },
 "nbformat": 4,
 "nbformat_minor": 5
}
