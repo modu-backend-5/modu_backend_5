{
 "cells": [
  {
   "cell_type": "markdown",
   "id": "c98e1bb0",
   "metadata": {},
   "source": [
    "1부터 100까지 더하는 코드를 작성하세요. for를 사용해서 풀어주세요.\n"
   ]
  },
  {
   "cell_type": "code",
   "execution_count": 2,
   "id": "9aee800c",
   "metadata": {},
   "outputs": [
    {
     "name": "stdout",
     "output_type": "stream",
     "text": [
      "5050\n"
     ]
    }
   ],
   "source": [
    "total_sum = 0\n",
    "for n in range(1,101):\n",
    "    total_sum += n\n",
    "    \n",
    "print(total_sum)\n"
   ]
  },
  {
   "cell_type": "markdown",
   "id": "6826862e",
   "metadata": {},
   "source": [
    "나이의 평균을 구하는 코드\n",
    "data = [\n",
    "  {\n",
    "    \"_id\": \"6019fd4354979ca26b8f91dc\",\n",
    "    \"age\": 26,\n",
    "    \"eyeColor\": \"green\",\n",
    "    \"name\": \"Bender Allen\",\n",
    "    \"gender\": \"male\"\n",
    "  },\n",
    "  {\n",
    "    \"_id\": \"6019fd43db2951868889a0b4\",\n",
    "    \"age\": 27,\n",
    "    \"eyeColor\": \"blue\",\n",
    "    \"name\": \"Jacobs Golden\",\n",
    "    \"gender\": \"male\"\n",
    "  },\n",
    "  {\n",
    "    \"_id\": \"6019fd438c0bf8e775c28536\",\n",
    "    \"age\": 27,\n",
    "    \"eyeColor\": \"brown\",\n",
    "    \"name\": \"Grimes Oneal\",\n",
    "    \"gender\": \"male\"\n",
    "  },\n",
    "  {\n",
    "    \"_id\": \"6019fd43b68a7fd8b081ab26\",\n",
    "    \"age\": 40,\n",
    "    \"eyeColor\": \"blue\",\n",
    "    \"name\": \"Melissa Joyce\",\n",
    "    \"gender\": \"female\"\n",
    "  },\n",
    "  {\n",
    "    \"_id\": \"6019fd436c1edc4757aabb9d\",\n",
    "    \"age\": 32,\n",
    "    \"eyeColor\": \"blue\",\n",
    "    \"name\": \"Malone Bush\",\n",
    "    \"gender\": \"male\"\n",
    "  },\n",
    "  {\n",
    "    \"_id\": \"6019fd438eaf753918f55226\",\n",
    "    \"age\": 34,\n",
    "    \"eyeColor\": \"green\",\n",
    "    \"name\": \"Davenport Hyde\",\n",
    "    \"gender\": \"male\"\n",
    "  },\n",
    "  {\n",
    "    \"_id\": \"6019fd43c35929ff95004109\",\n",
    "    \"age\": 20,\n",
    "    \"eyeColor\": \"blue\",\n",
    "    \"name\": \"Shauna Blevins\",\n",
    "    \"gender\": \"female\"\n",
    "  }\n",
    "]"
   ]
  },
  {
   "cell_type": "code",
   "execution_count": 6,
   "id": "447988b2",
   "metadata": {},
   "outputs": [
    {
     "name": "stdout",
     "output_type": "stream",
     "text": [
      "[26, 27, 27, 40, 32, 34, 20]\n"
     ]
    },
    {
     "data": {
      "text/plain": [
       "int"
      ]
     },
     "execution_count": 6,
     "metadata": {},
     "output_type": "execute_result"
    }
   ],
   "source": [
    "data_list = [\n",
    "  {\n",
    "    \"_id\": \"6019fd4354979ca26b8f91dc\",\n",
    "    \"age\": 26,\n",
    "    \"eyeColor\": \"green\",\n",
    "    \"name\": \"Bender Allen\",\n",
    "    \"gender\": \"male\"\n",
    "  },\n",
    "  {\n",
    "    \"_id\": \"6019fd43db2951868889a0b4\",\n",
    "    \"age\": 27,\n",
    "    \"eyeColor\": \"blue\",\n",
    "    \"name\": \"Jacobs Golden\",\n",
    "    \"gender\": \"male\"\n",
    "  },\n",
    "  {\n",
    "    \"_id\": \"6019fd438c0bf8e775c28536\",\n",
    "    \"age\": 27,\n",
    "    \"eyeColor\": \"brown\",\n",
    "    \"name\": \"Grimes Oneal\",\n",
    "    \"gender\": \"male\"\n",
    "  },\n",
    "  {\n",
    "    \"_id\": \"6019fd43b68a7fd8b081ab26\",\n",
    "    \"age\": 40,\n",
    "    \"eyeColor\": \"blue\",\n",
    "    \"name\": \"Melissa Joyce\",\n",
    "    \"gender\": \"female\"\n",
    "  },\n",
    "  {\n",
    "    \"_id\": \"6019fd436c1edc4757aabb9d\",\n",
    "    \"age\": 32,\n",
    "    \"eyeColor\": \"blue\",\n",
    "    \"name\": \"Malone Bush\",\n",
    "    \"gender\": \"male\"\n",
    "  },\n",
    "  {\n",
    "    \"_id\": \"6019fd438eaf753918f55226\",\n",
    "    \"age\": 34,\n",
    "    \"eyeColor\": \"green\",\n",
    "    \"name\": \"Davenport Hyde\",\n",
    "    \"gender\": \"male\"\n",
    "  },\n",
    "  {\n",
    "    \"_id\": \"6019fd43c35929ff95004109\",\n",
    "    \"age\": 20,\n",
    "    \"eyeColor\": \"blue\",\n",
    "    \"name\": \"Shauna Blevins\",\n",
    "    \"gender\": \"female\"\n",
    "  }\n",
    "]\n",
    "\n",
    "\n",
    "\n",
    "type(data_list)\n",
    "age_list = list()\n",
    "for data in data_list:\n",
    "    age_list.append(int(data[\"age\"]))\n",
    "\n",
    "print(age_list)\n",
    "type(age_list[0])\n",
    "\n",
    "# avg = sum(age_list) / len(age_list)\n",
    "# print(\"평균 =\",avg)\n",
    "    "
   ]
  },
  {
   "cell_type": "markdown",
   "id": "a63ea68e",
   "metadata": {},
   "source": [
    "위 데이터를 관리할 User 클래스를 만들어주세요. 인스턴스들은 리스트로 관리됩니다."
   ]
  },
  {
   "cell_type": "code",
   "execution_count": 8,
   "id": "02d615cb",
   "metadata": {},
   "outputs": [
    {
     "name": "stdout",
     "output_type": "stream",
     "text": [
      "ID: 6019fd4354979ca26b8f91dc, Name: Bender Allen, Age: 26, Eye Color: green\n",
      "ID: 6019fd43db2951868889a0b4, Name: Jacobs Golden, Age: 27, Eye Color: blue\n",
      "ID: 6019fd438c0bf8e775c28536, Name: Grimes Oneal, Age: 27, Eye Color: brown\n",
      "ID: 6019fd43b68a7fd8b081ab26, Name: Melissa Joyce, Age: 40, Eye Color: blue\n",
      "ID: 6019fd436c1edc4757aabb9d, Name: Malone Bush, Age: 32, Eye Color: blue\n",
      "ID: 6019fd438eaf753918f55226, Name: Davenport Hyde, Age: 34, Eye Color: green\n",
      "ID: 6019fd43c35929ff95004109, Name: Shauna Blevins, Age: 20, Eye Color: blue\n"
     ]
    }
   ],
   "source": [
    "class User:\n",
    "    \n",
    "    def __init__(self, _id, name, age, eyeColor, gender):\n",
    "        self._id = _id\n",
    "        self.name = name\n",
    "        self.age = age\n",
    "        self.eyeColor = eyeColor\n",
    "        self.gender = gender\n",
    "        \n",
    "    def __str__(self):\n",
    "        return f\"ID: {self._id}, Name: {self.name}, Age: {self.age}, Eye Color: {self.eyeColor}\"\n",
    "\n",
    "class UserList:\n",
    "    user_list = list()\n",
    "    def __init__(self):\n",
    "        self.user_list = []\n",
    "\n",
    "    def add_user(self, user):\n",
    "        self.user_list.append(user)\n",
    "\n",
    "    def print_list(self):\n",
    "        for user in self.user_list:\n",
    "            print(user)\n",
    "\n",
    "    # def print_list():\n",
    "    #     print(self.user_list)\n",
    "\n",
    "    # def del_list():\n",
    "    #     self.user_list.remove()\n",
    "\n",
    "user_list = UserList()\n",
    "\n",
    "for data in data_list:\n",
    "    user_instance = User(\n",
    "        _id=data.get(\"_id\"),\n",
    "        name=data.get(\"name\"),\n",
    "        age=data.get(\"age\"),\n",
    "        eyeColor=data.get(\"eyeColor\"),\n",
    "        gender=data.get(\"gender\")\n",
    "    )\n",
    "    user_list.add_user(user_instance)\n",
    "\n",
    "user_list.print_list()"
   ]
  }
 ],
 "metadata": {
  "kernelspec": {
   "display_name": "Python 3",
   "language": "python",
   "name": "python3"
  },
  "language_info": {
   "codemirror_mode": {
    "name": "ipython",
    "version": 3
   },
   "file_extension": ".py",
   "mimetype": "text/x-python",
   "name": "python",
   "nbconvert_exporter": "python",
   "pygments_lexer": "ipython3",
   "version": "3.13.0"
  }
 },
 "nbformat": 4,
 "nbformat_minor": 5
}
